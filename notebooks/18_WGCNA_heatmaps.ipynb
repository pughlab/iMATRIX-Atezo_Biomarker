{
 "cells": [
  {
   "cell_type": "markdown",
   "metadata": {
    "toc": true
   },
   "source": [
    "<h1>Table of Contents<span class=\"tocSkip\"></span></h1>\n",
    "<div class=\"toc\"><ul class=\"toc-item\"><li><span><a href=\"#Dependencies\" data-toc-modified-id=\"Dependencies-1\">Dependencies</a></span></li><li><span><a href=\"#Functions\" data-toc-modified-id=\"Functions-2\">Functions</a></span></li><li><span><a href=\"#Paths\" data-toc-modified-id=\"Paths-3\">Paths</a></span></li><li><span><a href=\"#Main\" data-toc-modified-id=\"Main-4\">Main</a></span><ul class=\"toc-item\"><li><span><a href=\"#Find-metamodules\" data-toc-modified-id=\"Find-metamodules-4.1\">Find metamodules</a></span><ul class=\"toc-item\"><li><span><a href=\"#TPM-matrix\" data-toc-modified-id=\"TPM-matrix-4.1.1\">TPM matrix</a></span></li></ul></li><li><span><a href=\"#gene_module-df\" data-toc-modified-id=\"gene_module-df-4.2\">gene_module df</a></span></li><li><span><a href=\"#GO-df\" data-toc-modified-id=\"GO-df-4.3\">GO df</a></span><ul class=\"toc-item\"><li><span><a href=\"#Deteremine-module-order-for-heatmap\" data-toc-modified-id=\"Deteremine-module-order-for-heatmap-4.3.1\">Deteremine module order for heatmap</a></span></li><li><span><a href=\"#term-list\" data-toc-modified-id=\"term-list-4.3.2\">term list</a></span></li><li><span><a href=\"#heatmap-annotation\" data-toc-modified-id=\"heatmap-annotation-4.3.3\">heatmap annotation</a></span></li><li><span><a href=\"#Corr-heatmap\" data-toc-modified-id=\"Corr-heatmap-4.3.4\">Corr heatmap</a></span></li></ul></li></ul></li></ul></div>"
   ]
  },
  {
   "cell_type": "markdown",
   "metadata": {},
   "source": [
    "# Dependencies"
   ]
  },
  {
   "cell_type": "code",
   "execution_count": 1,
   "metadata": {},
   "outputs": [],
   "source": [
    "options(scipen = 999)"
   ]
  },
  {
   "cell_type": "code",
   "execution_count": 2,
   "metadata": {},
   "outputs": [
    {
     "name": "stderr",
     "output_type": "stream",
     "text": [
      "Loading required package: lattice\n",
      "\n",
      "Loading required package: survival\n",
      "\n",
      "Loading required package: Formula\n",
      "\n",
      "Loading required package: ggplot2\n",
      "\n",
      "\n",
      "Attaching package: ‘Hmisc’\n",
      "\n",
      "\n",
      "The following objects are masked from ‘package:base’:\n",
      "\n",
      "    format.pval, units\n",
      "\n",
      "\n",
      "========================================\n",
      "circlize version 0.4.12\n",
      "CRAN page: https://cran.r-project.org/package=circlize\n",
      "Github page: https://github.com/jokergoo/circlize\n",
      "Documentation: https://jokergoo.github.io/circlize_book/book/\n",
      "\n",
      "If you use it in published research, please cite:\n",
      "Gu, Z. circlize implements and enhances circular visualization\n",
      "  in R. Bioinformatics 2014.\n",
      "\n",
      "This message can be suppressed by:\n",
      "  suppressPackageStartupMessages(library(circlize))\n",
      "========================================\n",
      "\n",
      "\n",
      "Loading required package: grid\n",
      "\n",
      "========================================\n",
      "ComplexHeatmap version 2.6.2\n",
      "Bioconductor page: http://bioconductor.org/packages/ComplexHeatmap/\n",
      "Github page: https://github.com/jokergoo/ComplexHeatmap\n",
      "Documentation: http://jokergoo.github.io/ComplexHeatmap-reference\n",
      "\n",
      "If you use it in published research, please cite:\n",
      "Gu, Z. Complex heatmaps reveal patterns and correlations in multidimensional \n",
      "  genomic data. Bioinformatics 2016.\n",
      "\n",
      "This message can be suppressed by:\n",
      "  suppressPackageStartupMessages(library(ComplexHeatmap))\n",
      "========================================\n",
      "\n",
      "\n",
      "Loading required package: BiocGenerics\n",
      "\n",
      "Loading required package: parallel\n",
      "\n",
      "\n",
      "Attaching package: ‘BiocGenerics’\n",
      "\n",
      "\n",
      "The following objects are masked from ‘package:parallel’:\n",
      "\n",
      "    clusterApply, clusterApplyLB, clusterCall, clusterEvalQ,\n",
      "    clusterExport, clusterMap, parApply, parCapply, parLapply,\n",
      "    parLapplyLB, parRapply, parSapply, parSapplyLB\n",
      "\n",
      "\n",
      "The following objects are masked from ‘package:stats’:\n",
      "\n",
      "    IQR, mad, sd, var, xtabs\n",
      "\n",
      "\n",
      "The following objects are masked from ‘package:base’:\n",
      "\n",
      "    anyDuplicated, append, as.data.frame, basename, cbind, colnames,\n",
      "    dirname, do.call, duplicated, eval, evalq, Filter, Find, get, grep,\n",
      "    grepl, intersect, is.unsorted, lapply, Map, mapply, match, mget,\n",
      "    order, paste, pmax, pmax.int, pmin, pmin.int, Position, rank,\n",
      "    rbind, Reduce, rownames, sapply, setdiff, sort, table, tapply,\n",
      "    union, unique, unsplit, which.max, which.min\n",
      "\n",
      "\n",
      "\n",
      "\n",
      "\n",
      "\n",
      "========================================\n",
      "simplifyEnrichment version 1.1.2.1000\n",
      "Bioconductor page: https://bioconductor.org/packages/simplifyEnrichment/\n",
      "Github page: https://github.com/jokergoo/simplifyEnrichment\n",
      "Documentation: https://jokergoo.github.io/simplifyEnrichment/\n",
      "Examples: https://simplifyenrichment.github.io/\n",
      "\n",
      "This message can be suppressed by:\n",
      "  suppressPackageStartupMessages(library(simplifyEnrichment))\n",
      "========================================\n",
      "\n",
      "\n",
      "Loading required package: dynamicTreeCut\n",
      "\n",
      "Loading required package: fastcluster\n",
      "\n",
      "\n",
      "Attaching package: ‘fastcluster’\n",
      "\n",
      "\n",
      "The following object is masked from ‘package:stats’:\n",
      "\n",
      "    hclust\n",
      "\n",
      "\n",
      "\n",
      "Attaching package: ‘WGCNA’\n",
      "\n",
      "\n",
      "The following object is masked from ‘package:stats’:\n",
      "\n",
      "    cor\n",
      "\n",
      "\n"
     ]
    }
   ],
   "source": [
    "library(Hmisc)\n",
    "library(ggplot2)\n",
    "library(circlize)\n",
    "library(ComplexHeatmap)\n",
    "library(simplifyEnrichment)\n",
    "library(WGCNA)"
   ]
  },
  {
   "cell_type": "markdown",
   "metadata": {},
   "source": [
    "# Functions\n"
   ]
  },
  {
   "cell_type": "markdown",
   "metadata": {},
   "source": [
    "# Paths"
   ]
  },
  {
   "cell_type": "code",
   "execution_count": 3,
   "metadata": {},
   "outputs": [],
   "source": [
    "datapath <- \"/Users/anabbi/OneDrive - UHN/Documents/INDICATE/Data/\"\n",
    "plotpath <- \"/Users/anabbi/OneDrive - UHN/Documents/INDICATE/Plots/\"\n",
    "mountpath <- \"/Users/anabbi/Desktop/H4H/INDICATE/wgcna/th/\""
   ]
  },
  {
   "cell_type": "markdown",
   "metadata": {},
   "source": [
    "# Main"
   ]
  },
  {
   "cell_type": "code",
   "execution_count": 4,
   "metadata": {},
   "outputs": [],
   "source": [
    "load(file = paste0(datapath, \"WGCNA/TH/Consensus-dataInput_Treehouse_tpm.RData\"))"
   ]
  },
  {
   "cell_type": "code",
   "execution_count": 5,
   "metadata": {},
   "outputs": [],
   "source": [
    "load(paste0(mountpath, \"Consensus_Network_TH_manual_signed_20.RData\"))"
   ]
  },
  {
   "cell_type": "code",
   "execution_count": 6,
   "metadata": {},
   "outputs": [],
   "source": [
    "gene_module <- read.csv(file = paste0(datapath, \"/WGCNA/TH/gene_module_treehouse_manual_signed_20.csv\"),\n",
    "                       header = T, stringsAsFactors = F,row.names = 1,check.names = F) "
   ]
  },
  {
   "cell_type": "code",
   "execution_count": 7,
   "metadata": {},
   "outputs": [],
   "source": [
    "GO_module <- read.csv(file = paste0(datapath, \"WGCNA/TH/GO_TH_cons_manual_signed_20.csv\"),\n",
    "                       header = T, stringsAsFactors = F,row.names = 1,check.names = F) "
   ]
  },
  {
   "cell_type": "markdown",
   "metadata": {},
   "source": [
    "## Find metamodules"
   ]
  },
  {
   "cell_type": "code",
   "execution_count": 8,
   "metadata": {},
   "outputs": [],
   "source": [
    "METree <- hclust(dist(t(consMEs[[1]]$data)), method = \"average\")"
   ]
  },
  {
   "cell_type": "code",
   "execution_count": 9,
   "metadata": {},
   "outputs": [
    {
     "data": {
      "image/png": "[encoded data removed]",
      "text/plain": [
       "Plot with title “Sample clustering to detect outliers”"
      ]
     },
     "metadata": {
      "image/png": {
       "height": 420,
       "width": 420
      }
     },
     "output_type": "display_data"
    }
   ],
   "source": [
    "plot(METree, main = \"Sample clustering to detect outliers\")\n",
    "#abline(h = 0.3, col = \"red\")"
   ]
  },
  {
   "cell_type": "code",
   "execution_count": 10,
   "metadata": {},
   "outputs": [],
   "source": [
    "clust <- cutreeStatic(METree, cutHeight = 0.3, minSize = 2)"
   ]
  },
  {
   "cell_type": "code",
   "execution_count": 11,
   "metadata": {},
   "outputs": [
    {
     "data": {
      "text/html": [
       "<style>\n",
       ".list-inline {list-style: none; margin:0; padding: 0}\n",
       ".list-inline>li {display: inline-block}\n",
       ".list-inline>li:not(:last-child)::after {content: \"\\00b7\"; padding: 0 .5ex}\n",
       "</style>\n",
       "<ol class=list-inline><li>'ME23'</li><li>'ME4'</li><li>'ME6'</li><li>'ME18'</li><li>'ME26'</li><li>'ME22'</li><li>'ME27'</li><li>'ME3'</li><li>'ME13'</li><li>'ME24'</li><li>'ME17'</li><li>'ME28'</li><li>'ME7'</li><li>'ME14'</li><li>'ME0'</li></ol>\n"
      ],
      "text/latex": [
       "\\begin{enumerate*}\n",
       "\\item 'ME23'\n",
       "\\item 'ME4'\n",
       "\\item 'ME6'\n",
       "\\item 'ME18'\n",
       "\\item 'ME26'\n",
       "\\item 'ME22'\n",
       "\\item 'ME27'\n",
       "\\item 'ME3'\n",
       "\\item 'ME13'\n",
       "\\item 'ME24'\n",
       "\\item 'ME17'\n",
       "\\item 'ME28'\n",
       "\\item 'ME7'\n",
       "\\item 'ME14'\n",
       "\\item 'ME0'\n",
       "\\end{enumerate*}\n"
      ],
      "text/markdown": [
       "1. 'ME23'\n",
       "2. 'ME4'\n",
       "3. 'ME6'\n",
       "4. 'ME18'\n",
       "5. 'ME26'\n",
       "6. 'ME22'\n",
       "7. 'ME27'\n",
       "8. 'ME3'\n",
       "9. 'ME13'\n",
       "10. 'ME24'\n",
       "11. 'ME17'\n",
       "12. 'ME28'\n",
       "13. 'ME7'\n",
       "14. 'ME14'\n",
       "15. 'ME0'\n",
       "\n",
       "\n"
      ],
      "text/plain": [
       " [1] \"ME23\" \"ME4\"  \"ME6\"  \"ME18\" \"ME26\" \"ME22\" \"ME27\" \"ME3\"  \"ME13\" \"ME24\"\n",
       "[11] \"ME17\" \"ME28\" \"ME7\"  \"ME14\" \"ME0\" "
      ]
     },
     "metadata": {},
     "output_type": "display_data"
    }
   ],
   "source": [
    "colnames(consMEs[[1]]$data)"
   ]
  },
  {
   "cell_type": "code",
   "execution_count": 12,
   "metadata": {},
   "outputs": [
    {
     "data": {
      "text/html": [
       "<style>\n",
       ".list-inline {list-style: none; margin:0; padding: 0}\n",
       ".list-inline>li {display: inline-block}\n",
       ".list-inline>li:not(:last-child)::after {content: \"\\00b7\"; padding: 0 .5ex}\n",
       "</style>\n",
       "<ol class=list-inline><li>'ME23'</li><li>'ME4'</li><li>'ME6'</li><li>'ME18'</li><li>'ME26'</li><li>'ME22'</li><li>'ME27'</li><li>'ME3'</li><li>'ME13'</li><li>'ME24'</li><li>'ME17'</li><li>'ME28'</li><li>'ME7'</li><li>'ME14'</li><li>'ME0'</li></ol>\n"
      ],
      "text/latex": [
       "\\begin{enumerate*}\n",
       "\\item 'ME23'\n",
       "\\item 'ME4'\n",
       "\\item 'ME6'\n",
       "\\item 'ME18'\n",
       "\\item 'ME26'\n",
       "\\item 'ME22'\n",
       "\\item 'ME27'\n",
       "\\item 'ME3'\n",
       "\\item 'ME13'\n",
       "\\item 'ME24'\n",
       "\\item 'ME17'\n",
       "\\item 'ME28'\n",
       "\\item 'ME7'\n",
       "\\item 'ME14'\n",
       "\\item 'ME0'\n",
       "\\end{enumerate*}\n"
      ],
      "text/markdown": [
       "1. 'ME23'\n",
       "2. 'ME4'\n",
       "3. 'ME6'\n",
       "4. 'ME18'\n",
       "5. 'ME26'\n",
       "6. 'ME22'\n",
       "7. 'ME27'\n",
       "8. 'ME3'\n",
       "9. 'ME13'\n",
       "10. 'ME24'\n",
       "11. 'ME17'\n",
       "12. 'ME28'\n",
       "13. 'ME7'\n",
       "14. 'ME14'\n",
       "15. 'ME0'\n",
       "\n",
       "\n"
      ],
      "text/plain": [
       " [1] \"ME23\" \"ME4\"  \"ME6\"  \"ME18\" \"ME26\" \"ME22\" \"ME27\" \"ME3\"  \"ME13\" \"ME24\"\n",
       "[11] \"ME17\" \"ME28\" \"ME7\"  \"ME14\" \"ME0\" "
      ]
     },
     "metadata": {},
     "output_type": "display_data"
    },
    {
     "data": {
      "text/html": [
       "<style>\n",
       ".list-inline {list-style: none; margin:0; padding: 0}\n",
       ".list-inline>li {display: inline-block}\n",
       ".list-inline>li:not(:last-child)::after {content: \"\\00b7\"; padding: 0 .5ex}\n",
       "</style>\n",
       "<ol class=list-inline><li>1</li><li>3</li><li>2</li><li>4</li><li>11</li><li>12</li><li>5</li><li>10</li><li>15</li><li>6</li><li>9</li><li>13</li><li>14</li><li>7</li><li>8</li></ol>\n"
      ],
      "text/latex": [
       "\\begin{enumerate*}\n",
       "\\item 1\n",
       "\\item 3\n",
       "\\item 2\n",
       "\\item 4\n",
       "\\item 11\n",
       "\\item 12\n",
       "\\item 5\n",
       "\\item 10\n",
       "\\item 15\n",
       "\\item 6\n",
       "\\item 9\n",
       "\\item 13\n",
       "\\item 14\n",
       "\\item 7\n",
       "\\item 8\n",
       "\\end{enumerate*}\n"
      ],
      "text/markdown": [
       "1. 1\n",
       "2. 3\n",
       "3. 2\n",
       "4. 4\n",
       "5. 11\n",
       "6. 12\n",
       "7. 5\n",
       "8. 10\n",
       "9. 15\n",
       "10. 6\n",
       "11. 9\n",
       "12. 13\n",
       "13. 14\n",
       "14. 7\n",
       "15. 8\n",
       "\n",
       "\n"
      ],
      "text/plain": [
       " [1]  1  3  2  4 11 12  5 10 15  6  9 13 14  7  8"
      ]
     },
     "metadata": {},
     "output_type": "display_data"
    }
   ],
   "source": [
    "METree$labels\n",
    "\n",
    "METree$order"
   ]
  },
  {
   "cell_type": "markdown",
   "metadata": {},
   "source": [
    "Compile all matrices together for plotting"
   ]
  },
  {
   "cell_type": "markdown",
   "metadata": {},
   "source": [
    "On H4H:"
   ]
  },
  {
   "cell_type": "markdown",
   "metadata": {},
   "source": [
    "mylistfiles <- list.files(getwd(), full.names = T, pattern = \"tpm_th_\")"
   ]
  },
  {
   "cell_type": "markdown",
   "metadata": {},
   "source": [
    "allfiles <- lapply(mylistfiles, \n",
    "                   function(f){read.csv(f, header = TRUE, stringsAsFactors = F,\n",
    "                                       row.names = 1,check.names = F)})"
   ]
  },
  {
   "cell_type": "markdown",
   "metadata": {},
   "source": [
    "th_tpm_matrix_subset <- do.call(cbind, allfiles)"
   ]
  },
  {
   "cell_type": "markdown",
   "metadata": {},
   "source": [
    "write.csv(gene_module, file = \"th_tpm_matrix_subset.csv\")"
   ]
  },
  {
   "cell_type": "markdown",
   "metadata": {},
   "source": [
    "SCP to local"
   ]
  },
  {
   "cell_type": "code",
   "execution_count": 13,
   "metadata": {},
   "outputs": [],
   "source": [
    "th_tpm_matrix_subset <- read.csv(file = paste0(datapath, \"WGCNA/TH/th_tpm_matrix_subset.csv\"),\n",
    "                       header = T, stringsAsFactors = F,row.names = 1,check.names = F) "
   ]
  },
  {
   "cell_type": "code",
   "execution_count": 14,
   "metadata": {},
   "outputs": [
    {
     "data": {
      "text/html": [
       "<style>\n",
       ".list-inline {list-style: none; margin:0; padding: 0}\n",
       ".list-inline>li {display: inline-block}\n",
       ".list-inline>li:not(:last-child)::after {content: \"\\00b7\"; padding: 0 .5ex}\n",
       "</style>\n",
       "<ol class=list-inline><li>19014</li><li>835</li></ol>\n"
      ],
      "text/latex": [
       "\\begin{enumerate*}\n",
       "\\item 19014\n",
       "\\item 835\n",
       "\\end{enumerate*}\n"
      ],
      "text/markdown": [
       "1. 19014\n",
       "2. 835\n",
       "\n",
       "\n"
      ],
      "text/plain": [
       "[1] 19014   835"
      ]
     },
     "metadata": {},
     "output_type": "display_data"
    }
   ],
   "source": [
    "dim(th_tpm_matrix_subset)"
   ]
  },
  {
   "cell_type": "code",
   "execution_count": 15,
   "metadata": {},
   "outputs": [
    {
     "data": {
      "text/html": [
       "<table class=\"dataframe\">\n",
       "<caption>A data.frame: 10 × 10</caption>\n",
       "<thead>\n",
       "\t<tr><th></th><th scope=col>TH34_1240_S01</th><th scope=col>THR30_0855_S01</th><th scope=col>THR30_0839_S01</th><th scope=col>THR30_0819_S01</th><th scope=col>THR30_0836_S01</th><th scope=col>TH27_1247_S01</th><th scope=col>THR30_0865_S01</th><th scope=col>THR30_0806_S01</th><th scope=col>THR30_0808_S01</th><th scope=col>THR30_0821_S01</th></tr>\n",
       "\t<tr><th></th><th scope=col>&lt;dbl&gt;</th><th scope=col>&lt;dbl&gt;</th><th scope=col>&lt;dbl&gt;</th><th scope=col>&lt;dbl&gt;</th><th scope=col>&lt;dbl&gt;</th><th scope=col>&lt;dbl&gt;</th><th scope=col>&lt;dbl&gt;</th><th scope=col>&lt;dbl&gt;</th><th scope=col>&lt;dbl&gt;</th><th scope=col>&lt;dbl&gt;</th></tr>\n",
       "</thead>\n",
       "<tbody>\n",
       "\t<tr><th scope=row>A1BG</th><td>4.60821785</td><td>5.03913839</td><td>5.26303441</td><td>5.90592848</td><td>4.64673870</td><td>5.79441587</td><td>2.12763328</td><td>5.5616316</td><td>5.57773093</td><td>5.32481060</td></tr>\n",
       "\t<tr><th scope=row>A1BG-AS1</th><td>1.45417589</td><td>3.07038933</td><td>3.17951105</td><td>4.00000000</td><td>2.69376571</td><td>2.11436702</td><td>1.90689060</td><td>3.6814493</td><td>2.90110824</td><td>3.51222689</td></tr>\n",
       "\t<tr><th scope=row>A1CF</th><td>0.02856915</td><td>0.01435529</td><td>0.02856915</td><td>0.01435529</td><td>0.00000000</td><td>0.00000000</td><td>0.02856915</td><td>0.0000000</td><td>0.02856915</td><td>0.01435529</td></tr>\n",
       "\t<tr><th scope=row>A2M</th><td>5.17432652</td><td>7.43229134</td><td>5.97498811</td><td>5.63081315</td><td>6.49105138</td><td>6.20006486</td><td>3.91743176</td><td>6.3314544</td><td>7.11883728</td><td>7.48912543</td></tr>\n",
       "\t<tr><th scope=row>A2M-AS1</th><td>0.32192809</td><td>0.68706069</td><td>0.83995959</td><td>1.62293035</td><td>0.66902677</td><td>0.49569516</td><td>0.17632277</td><td>0.3785116</td><td>0.43295941</td><td>1.02147973</td></tr>\n",
       "\t<tr><th scope=row>A2ML1</th><td>1.61823866</td><td>0.74846123</td><td>4.13750352</td><td>3.10601324</td><td>0.02856915</td><td>0.23878686</td><td>0.21412481</td><td>1.5360529</td><td>3.31469653</td><td>0.02856915</td></tr>\n",
       "\t<tr><th scope=row>A2MP1</th><td>0.09761080</td><td>0.21412481</td><td>0.16349873</td><td>0.08406426</td><td>0.11103131</td><td>0.05658353</td><td>0.01435529</td><td>0.1634987</td><td>0.20163386</td><td>0.05658353</td></tr>\n",
       "\t<tr><th scope=row>A3GALT2</th><td>0.00000000</td><td>0.05658353</td><td>0.02856915</td><td>0.11103131</td><td>0.00000000</td><td>0.00000000</td><td>0.00000000</td><td>0.0976108</td><td>0.02856915</td><td>0.04264434</td></tr>\n",
       "\t<tr><th scope=row>A4GALT</th><td>1.56559718</td><td>5.56590177</td><td>4.46139759</td><td>2.13422094</td><td>3.57893871</td><td>5.25096157</td><td>2.98002530</td><td>4.1210154</td><td>3.39506280</td><td>4.36667192</td></tr>\n",
       "\t<tr><th scope=row>A4GNT</th><td>0.01435529</td><td>0.12432814</td><td>0.23878686</td><td>0.16349873</td><td>0.07038933</td><td>0.08406426</td><td>0.00000000</td><td>0.3334237</td><td>0.02856915</td><td>0.08406426</td></tr>\n",
       "</tbody>\n",
       "</table>\n"
      ],
      "text/latex": [
       "A data.frame: 10 × 10\n",
       "\\begin{tabular}{r|llllllllll}\n",
       "  & TH34\\_1240\\_S01 & THR30\\_0855\\_S01 & THR30\\_0839\\_S01 & THR30\\_0819\\_S01 & THR30\\_0836\\_S01 & TH27\\_1247\\_S01 & THR30\\_0865\\_S01 & THR30\\_0806\\_S01 & THR30\\_0808\\_S01 & THR30\\_0821\\_S01\\\\\n",
       "  & <dbl> & <dbl> & <dbl> & <dbl> & <dbl> & <dbl> & <dbl> & <dbl> & <dbl> & <dbl>\\\\\n",
       "\\hline\n",
       "\tA1BG & 4.60821785 & 5.03913839 & 5.26303441 & 5.90592848 & 4.64673870 & 5.79441587 & 2.12763328 & 5.5616316 & 5.57773093 & 5.32481060\\\\\n",
       "\tA1BG-AS1 & 1.45417589 & 3.07038933 & 3.17951105 & 4.00000000 & 2.69376571 & 2.11436702 & 1.90689060 & 3.6814493 & 2.90110824 & 3.51222689\\\\\n",
       "\tA1CF & 0.02856915 & 0.01435529 & 0.02856915 & 0.01435529 & 0.00000000 & 0.00000000 & 0.02856915 & 0.0000000 & 0.02856915 & 0.01435529\\\\\n",
       "\tA2M & 5.17432652 & 7.43229134 & 5.97498811 & 5.63081315 & 6.49105138 & 6.20006486 & 3.91743176 & 6.3314544 & 7.11883728 & 7.48912543\\\\\n",
       "\tA2M-AS1 & 0.32192809 & 0.68706069 & 0.83995959 & 1.62293035 & 0.66902677 & 0.49569516 & 0.17632277 & 0.3785116 & 0.43295941 & 1.02147973\\\\\n",
       "\tA2ML1 & 1.61823866 & 0.74846123 & 4.13750352 & 3.10601324 & 0.02856915 & 0.23878686 & 0.21412481 & 1.5360529 & 3.31469653 & 0.02856915\\\\\n",
       "\tA2MP1 & 0.09761080 & 0.21412481 & 0.16349873 & 0.08406426 & 0.11103131 & 0.05658353 & 0.01435529 & 0.1634987 & 0.20163386 & 0.05658353\\\\\n",
       "\tA3GALT2 & 0.00000000 & 0.05658353 & 0.02856915 & 0.11103131 & 0.00000000 & 0.00000000 & 0.00000000 & 0.0976108 & 0.02856915 & 0.04264434\\\\\n",
       "\tA4GALT & 1.56559718 & 5.56590177 & 4.46139759 & 2.13422094 & 3.57893871 & 5.25096157 & 2.98002530 & 4.1210154 & 3.39506280 & 4.36667192\\\\\n",
       "\tA4GNT & 0.01435529 & 0.12432814 & 0.23878686 & 0.16349873 & 0.07038933 & 0.08406426 & 0.00000000 & 0.3334237 & 0.02856915 & 0.08406426\\\\\n",
       "\\end{tabular}\n"
      ],
      "text/markdown": [
       "\n",
       "A data.frame: 10 × 10\n",
       "\n",
       "| <!--/--> | TH34_1240_S01 &lt;dbl&gt; | THR30_0855_S01 &lt;dbl&gt; | THR30_0839_S01 &lt;dbl&gt; | THR30_0819_S01 &lt;dbl&gt; | THR30_0836_S01 &lt;dbl&gt; | TH27_1247_S01 &lt;dbl&gt; | THR30_0865_S01 &lt;dbl&gt; | THR30_0806_S01 &lt;dbl&gt; | THR30_0808_S01 &lt;dbl&gt; | THR30_0821_S01 &lt;dbl&gt; |\n",
       "|---|---|---|---|---|---|---|---|---|---|---|\n",
       "| A1BG | 4.60821785 | 5.03913839 | 5.26303441 | 5.90592848 | 4.64673870 | 5.79441587 | 2.12763328 | 5.5616316 | 5.57773093 | 5.32481060 |\n",
       "| A1BG-AS1 | 1.45417589 | 3.07038933 | 3.17951105 | 4.00000000 | 2.69376571 | 2.11436702 | 1.90689060 | 3.6814493 | 2.90110824 | 3.51222689 |\n",
       "| A1CF | 0.02856915 | 0.01435529 | 0.02856915 | 0.01435529 | 0.00000000 | 0.00000000 | 0.02856915 | 0.0000000 | 0.02856915 | 0.01435529 |\n",
       "| A2M | 5.17432652 | 7.43229134 | 5.97498811 | 5.63081315 | 6.49105138 | 6.20006486 | 3.91743176 | 6.3314544 | 7.11883728 | 7.48912543 |\n",
       "| A2M-AS1 | 0.32192809 | 0.68706069 | 0.83995959 | 1.62293035 | 0.66902677 | 0.49569516 | 0.17632277 | 0.3785116 | 0.43295941 | 1.02147973 |\n",
       "| A2ML1 | 1.61823866 | 0.74846123 | 4.13750352 | 3.10601324 | 0.02856915 | 0.23878686 | 0.21412481 | 1.5360529 | 3.31469653 | 0.02856915 |\n",
       "| A2MP1 | 0.09761080 | 0.21412481 | 0.16349873 | 0.08406426 | 0.11103131 | 0.05658353 | 0.01435529 | 0.1634987 | 0.20163386 | 0.05658353 |\n",
       "| A3GALT2 | 0.00000000 | 0.05658353 | 0.02856915 | 0.11103131 | 0.00000000 | 0.00000000 | 0.00000000 | 0.0976108 | 0.02856915 | 0.04264434 |\n",
       "| A4GALT | 1.56559718 | 5.56590177 | 4.46139759 | 2.13422094 | 3.57893871 | 5.25096157 | 2.98002530 | 4.1210154 | 3.39506280 | 4.36667192 |\n",
       "| A4GNT | 0.01435529 | 0.12432814 | 0.23878686 | 0.16349873 | 0.07038933 | 0.08406426 | 0.00000000 | 0.3334237 | 0.02856915 | 0.08406426 |\n",
       "\n"
      ],
      "text/plain": [
       "         TH34_1240_S01 THR30_0855_S01 THR30_0839_S01 THR30_0819_S01\n",
       "A1BG     4.60821785    5.03913839     5.26303441     5.90592848    \n",
       "A1BG-AS1 1.45417589    3.07038933     3.17951105     4.00000000    \n",
       "A1CF     0.02856915    0.01435529     0.02856915     0.01435529    \n",
       "A2M      5.17432652    7.43229134     5.97498811     5.63081315    \n",
       "A2M-AS1  0.32192809    0.68706069     0.83995959     1.62293035    \n",
       "A2ML1    1.61823866    0.74846123     4.13750352     3.10601324    \n",
       "A2MP1    0.09761080    0.21412481     0.16349873     0.08406426    \n",
       "A3GALT2  0.00000000    0.05658353     0.02856915     0.11103131    \n",
       "A4GALT   1.56559718    5.56590177     4.46139759     2.13422094    \n",
       "A4GNT    0.01435529    0.12432814     0.23878686     0.16349873    \n",
       "         THR30_0836_S01 TH27_1247_S01 THR30_0865_S01 THR30_0806_S01\n",
       "A1BG     4.64673870     5.79441587    2.12763328     5.5616316     \n",
       "A1BG-AS1 2.69376571     2.11436702    1.90689060     3.6814493     \n",
       "A1CF     0.00000000     0.00000000    0.02856915     0.0000000     \n",
       "A2M      6.49105138     6.20006486    3.91743176     6.3314544     \n",
       "A2M-AS1  0.66902677     0.49569516    0.17632277     0.3785116     \n",
       "A2ML1    0.02856915     0.23878686    0.21412481     1.5360529     \n",
       "A2MP1    0.11103131     0.05658353    0.01435529     0.1634987     \n",
       "A3GALT2  0.00000000     0.00000000    0.00000000     0.0976108     \n",
       "A4GALT   3.57893871     5.25096157    2.98002530     4.1210154     \n",
       "A4GNT    0.07038933     0.08406426    0.00000000     0.3334237     \n",
       "         THR30_0808_S01 THR30_0821_S01\n",
       "A1BG     5.57773093     5.32481060    \n",
       "A1BG-AS1 2.90110824     3.51222689    \n",
       "A1CF     0.02856915     0.01435529    \n",
       "A2M      7.11883728     7.48912543    \n",
       "A2M-AS1  0.43295941     1.02147973    \n",
       "A2ML1    3.31469653     0.02856915    \n",
       "A2MP1    0.20163386     0.05658353    \n",
       "A3GALT2  0.02856915     0.04264434    \n",
       "A4GALT   3.39506280     4.36667192    \n",
       "A4GNT    0.02856915     0.08406426    "
      ]
     },
     "metadata": {},
     "output_type": "display_data"
    }
   ],
   "source": [
    "th_tpm_matrix_subset[1:10,1:10]"
   ]
  },
  {
   "cell_type": "markdown",
   "metadata": {},
   "source": [
    "### TPM matrix"
   ]
  },
  {
   "cell_type": "code",
   "execution_count": 16,
   "metadata": {},
   "outputs": [],
   "source": [
    "# Genes and samples included in wgcna analysis\n",
    "goodGenes <- colnames(treehouse_gene_mat[[1]]$data)\n",
    "goodsamples <- as.vector(unlist(lapply(treehouse_gene_mat, function(x){lapply(x, row.names)})))"
   ]
  },
  {
   "cell_type": "code",
   "execution_count": 17,
   "metadata": {},
   "outputs": [
    {
     "name": "stderr",
     "output_type": "stream",
     "text": [
      "dim for original tpm matrix:\n",
      "\n"
     ]
    },
    {
     "name": "stdout",
     "output_type": "stream",
     "text": [
      "[1] 19014   835\n"
     ]
    },
    {
     "name": "stderr",
     "output_type": "stream",
     "text": [
      "dim for tpm matrix used in wgcna:\n",
      "\n"
     ]
    },
    {
     "name": "stdout",
     "output_type": "stream",
     "text": [
      "[1] 19010   757\n"
     ]
    }
   ],
   "source": [
    "# Match samples and genes included in wgcna with tpm matrix of all th data\n",
    "samples <- match(goodsamples, colnames(th_tpm_matrix_subset))\n",
    "genes <- match(goodGenes, rownames(th_tpm_matrix_subset))\n",
    "tpm_genes_samples <- as.matrix(th_tpm_matrix_subset[genes, samples])\n",
    "message(\"dim for original tpm matrix:\")\n",
    "print(dim(th_tpm_matrix_subset))\n",
    "message(\"dim for tpm matrix used in wgcna:\")\n",
    "print(dim(tpm_genes_samples))"
   ]
  },
  {
   "cell_type": "markdown",
   "metadata": {},
   "source": [
    "## gene_module df\n",
    "\n",
    "Clean up gene_module dataframe"
   ]
  },
  {
   "cell_type": "code",
   "execution_count": 18,
   "metadata": {},
   "outputs": [
    {
     "data": {
      "text/html": [
       "<table class=\"dataframe\">\n",
       "<caption>A data.frame: 6 × 5</caption>\n",
       "<thead>\n",
       "\t<tr><th></th><th scope=col>moduleLabel</th><th scope=col>moduleColor</th><th scope=col>ensembl_id_TH</th><th scope=col>ensembl_id</th><th scope=col>entrez</th></tr>\n",
       "\t<tr><th></th><th scope=col>&lt;int&gt;</th><th scope=col>&lt;chr&gt;</th><th scope=col>&lt;chr&gt;</th><th scope=col>&lt;chr&gt;</th><th scope=col>&lt;int&gt;</th></tr>\n",
       "</thead>\n",
       "<tbody>\n",
       "\t<tr><th scope=row>A1BG</th><td> 0</td><td>grey     </td><td>ENSG00000121410.11</td><td>ENSG00000121410</td><td>     1</td></tr>\n",
       "\t<tr><th scope=row>A1BG-AS1</th><td> 0</td><td>grey     </td><td>ENSG00000268895.5 </td><td>ENSG00000268895</td><td>503538</td></tr>\n",
       "\t<tr><th scope=row>A1CF</th><td> 0</td><td>grey     </td><td>ENSG00000148584.14</td><td>ENSG00000148584</td><td> 29974</td></tr>\n",
       "\t<tr><th scope=row>A2M</th><td>22</td><td>darkgreen</td><td>ENSG00000175899.14</td><td>ENSG00000175899</td><td>     2</td></tr>\n",
       "\t<tr><th scope=row>A2M-AS1</th><td> 0</td><td>grey     </td><td>ENSG00000245105.2 </td><td>ENSG00000245105</td><td>144571</td></tr>\n",
       "\t<tr><th scope=row>A2ML1</th><td> 0</td><td>grey     </td><td>ENSG00000166535.19</td><td>ENSG00000166535</td><td>144568</td></tr>\n",
       "</tbody>\n",
       "</table>\n"
      ],
      "text/latex": [
       "A data.frame: 6 × 5\n",
       "\\begin{tabular}{r|lllll}\n",
       "  & moduleLabel & moduleColor & ensembl\\_id\\_TH & ensembl\\_id & entrez\\\\\n",
       "  & <int> & <chr> & <chr> & <chr> & <int>\\\\\n",
       "\\hline\n",
       "\tA1BG &  0 & grey      & ENSG00000121410.11 & ENSG00000121410 &      1\\\\\n",
       "\tA1BG-AS1 &  0 & grey      & ENSG00000268895.5  & ENSG00000268895 & 503538\\\\\n",
       "\tA1CF &  0 & grey      & ENSG00000148584.14 & ENSG00000148584 &  29974\\\\\n",
       "\tA2M & 22 & darkgreen & ENSG00000175899.14 & ENSG00000175899 &      2\\\\\n",
       "\tA2M-AS1 &  0 & grey      & ENSG00000245105.2  & ENSG00000245105 & 144571\\\\\n",
       "\tA2ML1 &  0 & grey      & ENSG00000166535.19 & ENSG00000166535 & 144568\\\\\n",
       "\\end{tabular}\n"
      ],
      "text/markdown": [
       "\n",
       "A data.frame: 6 × 5\n",
       "\n",
       "| <!--/--> | moduleLabel &lt;int&gt; | moduleColor &lt;chr&gt; | ensembl_id_TH &lt;chr&gt; | ensembl_id &lt;chr&gt; | entrez &lt;int&gt; |\n",
       "|---|---|---|---|---|---|\n",
       "| A1BG |  0 | grey      | ENSG00000121410.11 | ENSG00000121410 |      1 |\n",
       "| A1BG-AS1 |  0 | grey      | ENSG00000268895.5  | ENSG00000268895 | 503538 |\n",
       "| A1CF |  0 | grey      | ENSG00000148584.14 | ENSG00000148584 |  29974 |\n",
       "| A2M | 22 | darkgreen | ENSG00000175899.14 | ENSG00000175899 |      2 |\n",
       "| A2M-AS1 |  0 | grey      | ENSG00000245105.2  | ENSG00000245105 | 144571 |\n",
       "| A2ML1 |  0 | grey      | ENSG00000166535.19 | ENSG00000166535 | 144568 |\n",
       "\n"
      ],
      "text/plain": [
       "         moduleLabel moduleColor ensembl_id_TH      ensembl_id      entrez\n",
       "A1BG      0          grey        ENSG00000121410.11 ENSG00000121410      1\n",
       "A1BG-AS1  0          grey        ENSG00000268895.5  ENSG00000268895 503538\n",
       "A1CF      0          grey        ENSG00000148584.14 ENSG00000148584  29974\n",
       "A2M      22          darkgreen   ENSG00000175899.14 ENSG00000175899      2\n",
       "A2M-AS1   0          grey        ENSG00000245105.2  ENSG00000245105 144571\n",
       "A2ML1     0          grey        ENSG00000166535.19 ENSG00000166535 144568"
      ]
     },
     "metadata": {},
     "output_type": "display_data"
    }
   ],
   "source": [
    "head(gene_module)"
   ]
  },
  {
   "cell_type": "code",
   "execution_count": 19,
   "metadata": {},
   "outputs": [],
   "source": [
    "#remove grey module\n",
    "gene_module <- gene_module[gene_module$moduleColor != \"grey\",]"
   ]
  },
  {
   "cell_type": "code",
   "execution_count": 20,
   "metadata": {},
   "outputs": [
    {
     "data": {
      "text/html": [
       "<style>\n",
       ".list-inline {list-style: none; margin:0; padding: 0}\n",
       ".list-inline>li {display: inline-block}\n",
       ".list-inline>li:not(:last-child)::after {content: \"\\00b7\"; padding: 0 .5ex}\n",
       "</style>\n",
       "<ol class=list-inline><li>3044</li><li>5</li></ol>\n"
      ],
      "text/latex": [
       "\\begin{enumerate*}\n",
       "\\item 3044\n",
       "\\item 5\n",
       "\\end{enumerate*}\n"
      ],
      "text/markdown": [
       "1. 3044\n",
       "2. 5\n",
       "\n",
       "\n"
      ],
      "text/plain": [
       "[1] 3044    5"
      ]
     },
     "metadata": {},
     "output_type": "display_data"
    }
   ],
   "source": [
    "dim(gene_module)"
   ]
  },
  {
   "cell_type": "code",
   "execution_count": 21,
   "metadata": {},
   "outputs": [
    {
     "data": {
      "text/plain": [
       "\n",
       "        black         brown          cyan     darkgreen      darkgrey \n",
       "          332           228            85            44            33 \n",
       "   darkorange darkturquoise        grey60    lightgreen           red \n",
       "           28            43           535            51          1162 \n",
       "       salmon       skyblue         white        yellow \n",
       "           58            24            28           393 "
      ]
     },
     "metadata": {},
     "output_type": "display_data"
    }
   ],
   "source": [
    "table(gene_module$moduleColor)"
   ]
  },
  {
   "cell_type": "code",
   "execution_count": 22,
   "metadata": {},
   "outputs": [],
   "source": [
    "gene_module$moduleLabel <- as.character(gene_module$moduleLabel)"
   ]
  },
  {
   "cell_type": "code",
   "execution_count": 23,
   "metadata": {},
   "outputs": [
    {
     "data": {
      "text/html": [
       "<table class=\"dataframe\">\n",
       "<caption>A data.frame: 28 × 5</caption>\n",
       "<thead>\n",
       "\t<tr><th></th><th scope=col>moduleLabel</th><th scope=col>moduleColor</th><th scope=col>ensembl_id_TH</th><th scope=col>ensembl_id</th><th scope=col>entrez</th></tr>\n",
       "\t<tr><th></th><th scope=col>&lt;chr&gt;</th><th scope=col>&lt;chr&gt;</th><th scope=col>&lt;chr&gt;</th><th scope=col>&lt;chr&gt;</th><th scope=col>&lt;int&gt;</th></tr>\n",
       "</thead>\n",
       "<tbody>\n",
       "\t<tr><th scope=row>ACSL5</th><td>27</td><td>white</td><td>ENSG00000197142.10</td><td>ENSG00000197142</td><td>    51703</td></tr>\n",
       "\t<tr><th scope=row>APOL1</th><td>27</td><td>white</td><td>ENSG00000100342.20</td><td>ENSG00000100342</td><td>     8542</td></tr>\n",
       "\t<tr><th scope=row>APOL3</th><td>27</td><td>white</td><td>ENSG00000128284.19</td><td>ENSG00000128284</td><td>    80833</td></tr>\n",
       "\t<tr><th scope=row>APOL6</th><td>27</td><td>white</td><td>ENSG00000221963.5 </td><td>ENSG00000221963</td><td>    80830</td></tr>\n",
       "\t<tr><th scope=row>B2M</th><td>27</td><td>white</td><td>ENSG00000166710.17</td><td>ENSG00000166710</td><td>      567</td></tr>\n",
       "\t<tr><th scope=row>CARD16</th><td>27</td><td>white</td><td>ENSG00000204397.7 </td><td>ENSG00000204397</td><td>   114769</td></tr>\n",
       "\t<tr><th scope=row>CASP1</th><td>27</td><td>white</td><td>ENSG00000137752.22</td><td>ENSG00000137752</td><td>      834</td></tr>\n",
       "\t<tr><th scope=row>ETV7</th><td>27</td><td>white</td><td>ENSG00000010030.13</td><td>ENSG00000010030</td><td>    51513</td></tr>\n",
       "\t<tr><th scope=row>GBP4</th><td>27</td><td>white</td><td>ENSG00000162654.8 </td><td>ENSG00000162654</td><td>   115361</td></tr>\n",
       "\t<tr><th scope=row>HCP5</th><td>27</td><td>white</td><td>ENSG00000206337.10</td><td>ENSG00000206337</td><td>    10866</td></tr>\n",
       "\t<tr><th scope=row>HLA-A</th><td>27</td><td>white</td><td>ENSG00000206503.11</td><td>ENSG00000206503</td><td>     3105</td></tr>\n",
       "\t<tr><th scope=row>HLA-B</th><td>27</td><td>white</td><td>ENSG00000234745.9 </td><td>ENSG00000234745</td><td>     3106</td></tr>\n",
       "\t<tr><th scope=row>HLA-C</th><td>27</td><td>white</td><td>ENSG00000204525.14</td><td>ENSG00000204525</td><td>     3107</td></tr>\n",
       "\t<tr><th scope=row>HLA-E</th><td>27</td><td>white</td><td>ENSG00000204592.8 </td><td>ENSG00000204592</td><td>     3133</td></tr>\n",
       "\t<tr><th scope=row>HLA-F</th><td>27</td><td>white</td><td>ENSG00000204642.13</td><td>ENSG00000204642</td><td>     3134</td></tr>\n",
       "\t<tr><th scope=row>IFIH1</th><td>27</td><td>white</td><td>ENSG00000115267.5 </td><td>ENSG00000115267</td><td>    64135</td></tr>\n",
       "\t<tr><th scope=row>LAPTM5</th><td>27</td><td>white</td><td>ENSG00000162511.7 </td><td>ENSG00000162511</td><td>     7805</td></tr>\n",
       "\t<tr><th scope=row>MLKL</th><td>27</td><td>white</td><td>ENSG00000168404.12</td><td>ENSG00000168404</td><td>   197259</td></tr>\n",
       "\t<tr><th scope=row>NLRC5</th><td>27</td><td>white</td><td>ENSG00000140853.15</td><td>ENSG00000140853</td><td>    84166</td></tr>\n",
       "\t<tr><th scope=row>PSMB8</th><td>27</td><td>white</td><td>ENSG00000204264.8 </td><td>ENSG00000204264</td><td>     5696</td></tr>\n",
       "\t<tr><th scope=row>PSMB8-AS1</th><td>27</td><td>white</td><td>ENSG00000204261.8 </td><td>ENSG00000204261</td><td>100507463</td></tr>\n",
       "\t<tr><th scope=row>PSMB9</th><td>27</td><td>white</td><td>ENSG00000240065.7 </td><td>ENSG00000240065</td><td>     5698</td></tr>\n",
       "\t<tr><th scope=row>RARRES3</th><td>27</td><td>white</td><td>ENSG00000133321.10</td><td>ENSG00000133321</td><td>     5920</td></tr>\n",
       "\t<tr><th scope=row>RTP4</th><td>27</td><td>white</td><td>ENSG00000136514.2 </td><td>ENSG00000136514</td><td>    64108</td></tr>\n",
       "\t<tr><th scope=row>SP100</th><td>27</td><td>white</td><td>ENSG00000067066.16</td><td>ENSG00000067066</td><td>     6672</td></tr>\n",
       "\t<tr><th scope=row>TAP1</th><td>27</td><td>white</td><td>ENSG00000168394.10</td><td>ENSG00000168394</td><td>     6890</td></tr>\n",
       "\t<tr><th scope=row>TNFRSF14</th><td>27</td><td>white</td><td>ENSG00000157873.17</td><td>ENSG00000157873</td><td>     8764</td></tr>\n",
       "\t<tr><th scope=row>WAS</th><td>27</td><td>white</td><td>ENSG00000015285.10</td><td>ENSG00000015285</td><td>     7454</td></tr>\n",
       "</tbody>\n",
       "</table>\n"
      ],
      "text/latex": [
       "A data.frame: 28 × 5\n",
       "\\begin{tabular}{r|lllll}\n",
       "  & moduleLabel & moduleColor & ensembl\\_id\\_TH & ensembl\\_id & entrez\\\\\n",
       "  & <chr> & <chr> & <chr> & <chr> & <int>\\\\\n",
       "\\hline\n",
       "\tACSL5 & 27 & white & ENSG00000197142.10 & ENSG00000197142 &     51703\\\\\n",
       "\tAPOL1 & 27 & white & ENSG00000100342.20 & ENSG00000100342 &      8542\\\\\n",
       "\tAPOL3 & 27 & white & ENSG00000128284.19 & ENSG00000128284 &     80833\\\\\n",
       "\tAPOL6 & 27 & white & ENSG00000221963.5  & ENSG00000221963 &     80830\\\\\n",
       "\tB2M & 27 & white & ENSG00000166710.17 & ENSG00000166710 &       567\\\\\n",
       "\tCARD16 & 27 & white & ENSG00000204397.7  & ENSG00000204397 &    114769\\\\\n",
       "\tCASP1 & 27 & white & ENSG00000137752.22 & ENSG00000137752 &       834\\\\\n",
       "\tETV7 & 27 & white & ENSG00000010030.13 & ENSG00000010030 &     51513\\\\\n",
       "\tGBP4 & 27 & white & ENSG00000162654.8  & ENSG00000162654 &    115361\\\\\n",
       "\tHCP5 & 27 & white & ENSG00000206337.10 & ENSG00000206337 &     10866\\\\\n",
       "\tHLA-A & 27 & white & ENSG00000206503.11 & ENSG00000206503 &      3105\\\\\n",
       "\tHLA-B & 27 & white & ENSG00000234745.9  & ENSG00000234745 &      3106\\\\\n",
       "\tHLA-C & 27 & white & ENSG00000204525.14 & ENSG00000204525 &      3107\\\\\n",
       "\tHLA-E & 27 & white & ENSG00000204592.8  & ENSG00000204592 &      3133\\\\\n",
       "\tHLA-F & 27 & white & ENSG00000204642.13 & ENSG00000204642 &      3134\\\\\n",
       "\tIFIH1 & 27 & white & ENSG00000115267.5  & ENSG00000115267 &     64135\\\\\n",
       "\tLAPTM5 & 27 & white & ENSG00000162511.7  & ENSG00000162511 &      7805\\\\\n",
       "\tMLKL & 27 & white & ENSG00000168404.12 & ENSG00000168404 &    197259\\\\\n",
       "\tNLRC5 & 27 & white & ENSG00000140853.15 & ENSG00000140853 &     84166\\\\\n",
       "\tPSMB8 & 27 & white & ENSG00000204264.8  & ENSG00000204264 &      5696\\\\\n",
       "\tPSMB8-AS1 & 27 & white & ENSG00000204261.8  & ENSG00000204261 & 100507463\\\\\n",
       "\tPSMB9 & 27 & white & ENSG00000240065.7  & ENSG00000240065 &      5698\\\\\n",
       "\tRARRES3 & 27 & white & ENSG00000133321.10 & ENSG00000133321 &      5920\\\\\n",
       "\tRTP4 & 27 & white & ENSG00000136514.2  & ENSG00000136514 &     64108\\\\\n",
       "\tSP100 & 27 & white & ENSG00000067066.16 & ENSG00000067066 &      6672\\\\\n",
       "\tTAP1 & 27 & white & ENSG00000168394.10 & ENSG00000168394 &      6890\\\\\n",
       "\tTNFRSF14 & 27 & white & ENSG00000157873.17 & ENSG00000157873 &      8764\\\\\n",
       "\tWAS & 27 & white & ENSG00000015285.10 & ENSG00000015285 &      7454\\\\\n",
       "\\end{tabular}\n"
      ],
      "text/markdown": [
       "\n",
       "A data.frame: 28 × 5\n",
       "\n",
       "| <!--/--> | moduleLabel &lt;chr&gt; | moduleColor &lt;chr&gt; | ensembl_id_TH &lt;chr&gt; | ensembl_id &lt;chr&gt; | entrez &lt;int&gt; |\n",
       "|---|---|---|---|---|---|\n",
       "| ACSL5 | 27 | white | ENSG00000197142.10 | ENSG00000197142 |     51703 |\n",
       "| APOL1 | 27 | white | ENSG00000100342.20 | ENSG00000100342 |      8542 |\n",
       "| APOL3 | 27 | white | ENSG00000128284.19 | ENSG00000128284 |     80833 |\n",
       "| APOL6 | 27 | white | ENSG00000221963.5  | ENSG00000221963 |     80830 |\n",
       "| B2M | 27 | white | ENSG00000166710.17 | ENSG00000166710 |       567 |\n",
       "| CARD16 | 27 | white | ENSG00000204397.7  | ENSG00000204397 |    114769 |\n",
       "| CASP1 | 27 | white | ENSG00000137752.22 | ENSG00000137752 |       834 |\n",
       "| ETV7 | 27 | white | ENSG00000010030.13 | ENSG00000010030 |     51513 |\n",
       "| GBP4 | 27 | white | ENSG00000162654.8  | ENSG00000162654 |    115361 |\n",
       "| HCP5 | 27 | white | ENSG00000206337.10 | ENSG00000206337 |     10866 |\n",
       "| HLA-A | 27 | white | ENSG00000206503.11 | ENSG00000206503 |      3105 |\n",
       "| HLA-B | 27 | white | ENSG00000234745.9  | ENSG00000234745 |      3106 |\n",
       "| HLA-C | 27 | white | ENSG00000204525.14 | ENSG00000204525 |      3107 |\n",
       "| HLA-E | 27 | white | ENSG00000204592.8  | ENSG00000204592 |      3133 |\n",
       "| HLA-F | 27 | white | ENSG00000204642.13 | ENSG00000204642 |      3134 |\n",
       "| IFIH1 | 27 | white | ENSG00000115267.5  | ENSG00000115267 |     64135 |\n",
       "| LAPTM5 | 27 | white | ENSG00000162511.7  | ENSG00000162511 |      7805 |\n",
       "| MLKL | 27 | white | ENSG00000168404.12 | ENSG00000168404 |    197259 |\n",
       "| NLRC5 | 27 | white | ENSG00000140853.15 | ENSG00000140853 |     84166 |\n",
       "| PSMB8 | 27 | white | ENSG00000204264.8  | ENSG00000204264 |      5696 |\n",
       "| PSMB8-AS1 | 27 | white | ENSG00000204261.8  | ENSG00000204261 | 100507463 |\n",
       "| PSMB9 | 27 | white | ENSG00000240065.7  | ENSG00000240065 |      5698 |\n",
       "| RARRES3 | 27 | white | ENSG00000133321.10 | ENSG00000133321 |      5920 |\n",
       "| RTP4 | 27 | white | ENSG00000136514.2  | ENSG00000136514 |     64108 |\n",
       "| SP100 | 27 | white | ENSG00000067066.16 | ENSG00000067066 |      6672 |\n",
       "| TAP1 | 27 | white | ENSG00000168394.10 | ENSG00000168394 |      6890 |\n",
       "| TNFRSF14 | 27 | white | ENSG00000157873.17 | ENSG00000157873 |      8764 |\n",
       "| WAS | 27 | white | ENSG00000015285.10 | ENSG00000015285 |      7454 |\n",
       "\n"
      ],
      "text/plain": [
       "          moduleLabel moduleColor ensembl_id_TH      ensembl_id      entrez   \n",
       "ACSL5     27          white       ENSG00000197142.10 ENSG00000197142     51703\n",
       "APOL1     27          white       ENSG00000100342.20 ENSG00000100342      8542\n",
       "APOL3     27          white       ENSG00000128284.19 ENSG00000128284     80833\n",
       "APOL6     27          white       ENSG00000221963.5  ENSG00000221963     80830\n",
       "B2M       27          white       ENSG00000166710.17 ENSG00000166710       567\n",
       "CARD16    27          white       ENSG00000204397.7  ENSG00000204397    114769\n",
       "CASP1     27          white       ENSG00000137752.22 ENSG00000137752       834\n",
       "ETV7      27          white       ENSG00000010030.13 ENSG00000010030     51513\n",
       "GBP4      27          white       ENSG00000162654.8  ENSG00000162654    115361\n",
       "HCP5      27          white       ENSG00000206337.10 ENSG00000206337     10866\n",
       "HLA-A     27          white       ENSG00000206503.11 ENSG00000206503      3105\n",
       "HLA-B     27          white       ENSG00000234745.9  ENSG00000234745      3106\n",
       "HLA-C     27          white       ENSG00000204525.14 ENSG00000204525      3107\n",
       "HLA-E     27          white       ENSG00000204592.8  ENSG00000204592      3133\n",
       "HLA-F     27          white       ENSG00000204642.13 ENSG00000204642      3134\n",
       "IFIH1     27          white       ENSG00000115267.5  ENSG00000115267     64135\n",
       "LAPTM5    27          white       ENSG00000162511.7  ENSG00000162511      7805\n",
       "MLKL      27          white       ENSG00000168404.12 ENSG00000168404    197259\n",
       "NLRC5     27          white       ENSG00000140853.15 ENSG00000140853     84166\n",
       "PSMB8     27          white       ENSG00000204264.8  ENSG00000204264      5696\n",
       "PSMB8-AS1 27          white       ENSG00000204261.8  ENSG00000204261 100507463\n",
       "PSMB9     27          white       ENSG00000240065.7  ENSG00000240065      5698\n",
       "RARRES3   27          white       ENSG00000133321.10 ENSG00000133321      5920\n",
       "RTP4      27          white       ENSG00000136514.2  ENSG00000136514     64108\n",
       "SP100     27          white       ENSG00000067066.16 ENSG00000067066      6672\n",
       "TAP1      27          white       ENSG00000168394.10 ENSG00000168394      6890\n",
       "TNFRSF14  27          white       ENSG00000157873.17 ENSG00000157873      8764\n",
       "WAS       27          white       ENSG00000015285.10 ENSG00000015285      7454"
      ]
     },
     "metadata": {},
     "output_type": "display_data"
    }
   ],
   "source": [
    "gene_module[ gene_module$moduleLabel == '27',]"
   ]
  },
  {
   "cell_type": "code",
   "execution_count": 24,
   "metadata": {},
   "outputs": [
    {
     "data": {
      "text/html": [
       "<style>\n",
       ".list-inline {list-style: none; margin:0; padding: 0}\n",
       ".list-inline>li {display: inline-block}\n",
       ".list-inline>li:not(:last-child)::after {content: \"\\00b7\"; padding: 0 .5ex}\n",
       "</style>\n",
       "<ol class=list-inline><li>3044</li><li>757</li></ol>\n"
      ],
      "text/latex": [
       "\\begin{enumerate*}\n",
       "\\item 3044\n",
       "\\item 757\n",
       "\\end{enumerate*}\n"
      ],
      "text/markdown": [
       "1. 3044\n",
       "2. 757\n",
       "\n",
       "\n"
      ],
      "text/plain": [
       "[1] 3044  757"
      ]
     },
     "metadata": {},
     "output_type": "display_data"
    }
   ],
   "source": [
    "mygenes <- match(rownames(gene_module), rownames(tpm_genes_samples))\n",
    "tpm_genes_samples <- tpm_genes_samples[mygenes,]\n",
    "dim(tpm_genes_samples)"
   ]
  },
  {
   "cell_type": "markdown",
   "metadata": {},
   "source": [
    "## GO df\n",
    "\n",
    "Clean up GO dataframe"
   ]
  },
  {
   "cell_type": "code",
   "execution_count": 25,
   "metadata": {},
   "outputs": [],
   "source": [
    "# add module labels to GO data\n",
    "labels_colors <- gene_module[ !duplicated(gene_module$moduleColor),c(\"moduleLabel\", \"moduleColor\")]\n",
    "GO_module$label <- NA\n",
    "for(i in 1:nrow(labels_colors)){\n",
    "    mycolor <- labels_colors$moduleColor[i]\n",
    "    GO_module$label[GO_module$module == mycolor] <- labels_colors$moduleLabel[labels_colors$moduleColor == mycolor]\n",
    "    }"
   ]
  },
  {
   "cell_type": "code",
   "execution_count": 26,
   "metadata": {},
   "outputs": [],
   "source": [
    "GO_module <- GO_module[ GO_module$module != \"grey\",]\n",
    "GO_module <- GO_module[ GO_module$termOntology == \"BP\",]\n",
    "GO_module$label <- as.character(GO_module$label)"
   ]
  },
  {
   "cell_type": "code",
   "execution_count": 27,
   "metadata": {},
   "outputs": [
    {
     "data": {
      "text/html": [
       "<table class=\"dataframe\">\n",
       "<caption>A data.frame: 0 × 8</caption>\n",
       "<thead>\n",
       "\t<tr><th scope=col>module</th><th scope=col>modSize</th><th scope=col>enrichmentP</th><th scope=col>BonferoniP</th><th scope=col>nModGenesInTerm</th><th scope=col>termOntology</th><th scope=col>termName</th><th scope=col>label</th></tr>\n",
       "\t<tr><th scope=col>&lt;chr&gt;</th><th scope=col>&lt;int&gt;</th><th scope=col>&lt;dbl&gt;</th><th scope=col>&lt;dbl&gt;</th><th scope=col>&lt;int&gt;</th><th scope=col>&lt;chr&gt;</th><th scope=col>&lt;chr&gt;</th><th scope=col>&lt;chr&gt;</th></tr>\n",
       "</thead>\n",
       "<tbody>\n",
       "</tbody>\n",
       "</table>\n"
      ],
      "text/latex": [
       "A data.frame: 0 × 8\n",
       "\\begin{tabular}{llllllll}\n",
       " module & modSize & enrichmentP & BonferoniP & nModGenesInTerm & termOntology & termName & label\\\\\n",
       " <chr> & <int> & <dbl> & <dbl> & <int> & <chr> & <chr> & <chr>\\\\\n",
       "\\hline\n",
       "\\end{tabular}\n"
      ],
      "text/markdown": [
       "\n",
       "A data.frame: 0 × 8\n",
       "\n",
       "| module &lt;chr&gt; | modSize &lt;int&gt; | enrichmentP &lt;dbl&gt; | BonferoniP &lt;dbl&gt; | nModGenesInTerm &lt;int&gt; | termOntology &lt;chr&gt; | termName &lt;chr&gt; | label &lt;chr&gt; |\n",
       "|---|---|---|---|---|---|---|---|\n",
       "\n"
      ],
      "text/plain": [
       "     module modSize enrichmentP BonferoniP nModGenesInTerm termOntology\n",
       "     termName label"
      ]
     },
     "metadata": {},
     "output_type": "display_data"
    }
   ],
   "source": [
    "GO_module[ GO_module$label == '28',]"
   ]
  },
  {
   "cell_type": "code",
   "execution_count": 28,
   "metadata": {},
   "outputs": [
    {
     "data": {
      "text/html": [
       "<table class=\"dataframe\">\n",
       "<caption>A data.frame: 6 × 8</caption>\n",
       "<thead>\n",
       "\t<tr><th></th><th scope=col>module</th><th scope=col>modSize</th><th scope=col>enrichmentP</th><th scope=col>BonferoniP</th><th scope=col>nModGenesInTerm</th><th scope=col>termOntology</th><th scope=col>termName</th><th scope=col>label</th></tr>\n",
       "\t<tr><th></th><th scope=col>&lt;chr&gt;</th><th scope=col>&lt;int&gt;</th><th scope=col>&lt;dbl&gt;</th><th scope=col>&lt;dbl&gt;</th><th scope=col>&lt;int&gt;</th><th scope=col>&lt;chr&gt;</th><th scope=col>&lt;chr&gt;</th><th scope=col>&lt;chr&gt;</th></tr>\n",
       "</thead>\n",
       "<tbody>\n",
       "\t<tr><th scope=row>GO:0016050</th><td>black</td><td>331</td><td>0.00000000000046</td><td>0.0000000085</td><td>31</td><td>BP</td><td>vesicle organization            </td><td>7</td></tr>\n",
       "\t<tr><th scope=row>GO:0010256</th><td>black</td><td>331</td><td>0.00000000000970</td><td>0.0000001800</td><td>34</td><td>BP</td><td>endomembrane system organization</td><td>7</td></tr>\n",
       "\t<tr><th scope=row>GO:0042886</th><td>black</td><td>331</td><td>0.00000000003100</td><td>0.0000005800</td><td>80</td><td>BP</td><td>amide transport                 </td><td>7</td></tr>\n",
       "\t<tr><th scope=row>GO:0015031</th><td>black</td><td>331</td><td>0.00000000003200</td><td>0.0000005800</td><td>78</td><td>BP</td><td>protein transport               </td><td>7</td></tr>\n",
       "\t<tr><th scope=row>GO:0046907</th><td>black</td><td>331</td><td>0.00000000007200</td><td>0.0000013000</td><td>72</td><td>BP</td><td>intracellular transport         </td><td>7</td></tr>\n",
       "\t<tr><th scope=row>GO:0015833</th><td>black</td><td>331</td><td>0.00000000008700</td><td>0.0000016000</td><td>78</td><td>BP</td><td>peptide transport               </td><td>7</td></tr>\n",
       "</tbody>\n",
       "</table>\n"
      ],
      "text/latex": [
       "A data.frame: 6 × 8\n",
       "\\begin{tabular}{r|llllllll}\n",
       "  & module & modSize & enrichmentP & BonferoniP & nModGenesInTerm & termOntology & termName & label\\\\\n",
       "  & <chr> & <int> & <dbl> & <dbl> & <int> & <chr> & <chr> & <chr>\\\\\n",
       "\\hline\n",
       "\tGO:0016050 & black & 331 & 0.00000000000046 & 0.0000000085 & 31 & BP & vesicle organization             & 7\\\\\n",
       "\tGO:0010256 & black & 331 & 0.00000000000970 & 0.0000001800 & 34 & BP & endomembrane system organization & 7\\\\\n",
       "\tGO:0042886 & black & 331 & 0.00000000003100 & 0.0000005800 & 80 & BP & amide transport                  & 7\\\\\n",
       "\tGO:0015031 & black & 331 & 0.00000000003200 & 0.0000005800 & 78 & BP & protein transport                & 7\\\\\n",
       "\tGO:0046907 & black & 331 & 0.00000000007200 & 0.0000013000 & 72 & BP & intracellular transport          & 7\\\\\n",
       "\tGO:0015833 & black & 331 & 0.00000000008700 & 0.0000016000 & 78 & BP & peptide transport                & 7\\\\\n",
       "\\end{tabular}\n"
      ],
      "text/markdown": [
       "\n",
       "A data.frame: 6 × 8\n",
       "\n",
       "| <!--/--> | module &lt;chr&gt; | modSize &lt;int&gt; | enrichmentP &lt;dbl&gt; | BonferoniP &lt;dbl&gt; | nModGenesInTerm &lt;int&gt; | termOntology &lt;chr&gt; | termName &lt;chr&gt; | label &lt;chr&gt; |\n",
       "|---|---|---|---|---|---|---|---|---|\n",
       "| GO:0016050 | black | 331 | 0.00000000000046 | 0.0000000085 | 31 | BP | vesicle organization             | 7 |\n",
       "| GO:0010256 | black | 331 | 0.00000000000970 | 0.0000001800 | 34 | BP | endomembrane system organization | 7 |\n",
       "| GO:0042886 | black | 331 | 0.00000000003100 | 0.0000005800 | 80 | BP | amide transport                  | 7 |\n",
       "| GO:0015031 | black | 331 | 0.00000000003200 | 0.0000005800 | 78 | BP | protein transport                | 7 |\n",
       "| GO:0046907 | black | 331 | 0.00000000007200 | 0.0000013000 | 72 | BP | intracellular transport          | 7 |\n",
       "| GO:0015833 | black | 331 | 0.00000000008700 | 0.0000016000 | 78 | BP | peptide transport                | 7 |\n",
       "\n"
      ],
      "text/plain": [
       "           module modSize enrichmentP      BonferoniP   nModGenesInTerm\n",
       "GO:0016050 black  331     0.00000000000046 0.0000000085 31             \n",
       "GO:0010256 black  331     0.00000000000970 0.0000001800 34             \n",
       "GO:0042886 black  331     0.00000000003100 0.0000005800 80             \n",
       "GO:0015031 black  331     0.00000000003200 0.0000005800 78             \n",
       "GO:0046907 black  331     0.00000000007200 0.0000013000 72             \n",
       "GO:0015833 black  331     0.00000000008700 0.0000016000 78             \n",
       "           termOntology termName                         label\n",
       "GO:0016050 BP           vesicle organization             7    \n",
       "GO:0010256 BP           endomembrane system organization 7    \n",
       "GO:0042886 BP           amide transport                  7    \n",
       "GO:0015031 BP           protein transport                7    \n",
       "GO:0046907 BP           intracellular transport          7    \n",
       "GO:0015833 BP           peptide transport                7    "
      ]
     },
     "metadata": {},
     "output_type": "display_data"
    }
   ],
   "source": [
    "head(GO_module)"
   ]
  },
  {
   "cell_type": "code",
   "execution_count": 29,
   "metadata": {},
   "outputs": [],
   "source": [
    "GO_module$enrichmentP <- round(GO_module$enrichmentP, 15)\n",
    "GO_module$BonferoniP <- round(GO_module$BonferoniP, 15)"
   ]
  },
  {
   "cell_type": "code",
   "execution_count": 30,
   "metadata": {},
   "outputs": [
    {
     "data": {
      "text/html": [
       "<table class=\"dataframe\">\n",
       "<caption>A data.frame: 6 × 8</caption>\n",
       "<thead>\n",
       "\t<tr><th></th><th scope=col>module</th><th scope=col>modSize</th><th scope=col>enrichmentP</th><th scope=col>BonferoniP</th><th scope=col>nModGenesInTerm</th><th scope=col>termOntology</th><th scope=col>termName</th><th scope=col>label</th></tr>\n",
       "\t<tr><th></th><th scope=col>&lt;chr&gt;</th><th scope=col>&lt;int&gt;</th><th scope=col>&lt;dbl&gt;</th><th scope=col>&lt;dbl&gt;</th><th scope=col>&lt;int&gt;</th><th scope=col>&lt;chr&gt;</th><th scope=col>&lt;chr&gt;</th><th scope=col>&lt;chr&gt;</th></tr>\n",
       "</thead>\n",
       "<tbody>\n",
       "\t<tr><th scope=row>GO:0016050</th><td>black</td><td>331</td><td>0.00000000000046</td><td>0.0000000085</td><td>31</td><td>BP</td><td>vesicle organization            </td><td>7</td></tr>\n",
       "\t<tr><th scope=row>GO:0010256</th><td>black</td><td>331</td><td>0.00000000000970</td><td>0.0000001800</td><td>34</td><td>BP</td><td>endomembrane system organization</td><td>7</td></tr>\n",
       "\t<tr><th scope=row>GO:0042886</th><td>black</td><td>331</td><td>0.00000000003100</td><td>0.0000005800</td><td>80</td><td>BP</td><td>amide transport                 </td><td>7</td></tr>\n",
       "\t<tr><th scope=row>GO:0015031</th><td>black</td><td>331</td><td>0.00000000003200</td><td>0.0000005800</td><td>78</td><td>BP</td><td>protein transport               </td><td>7</td></tr>\n",
       "\t<tr><th scope=row>GO:0046907</th><td>black</td><td>331</td><td>0.00000000007200</td><td>0.0000013000</td><td>72</td><td>BP</td><td>intracellular transport         </td><td>7</td></tr>\n",
       "\t<tr><th scope=row>GO:0015833</th><td>black</td><td>331</td><td>0.00000000008700</td><td>0.0000016000</td><td>78</td><td>BP</td><td>peptide transport               </td><td>7</td></tr>\n",
       "</tbody>\n",
       "</table>\n"
      ],
      "text/latex": [
       "A data.frame: 6 × 8\n",
       "\\begin{tabular}{r|llllllll}\n",
       "  & module & modSize & enrichmentP & BonferoniP & nModGenesInTerm & termOntology & termName & label\\\\\n",
       "  & <chr> & <int> & <dbl> & <dbl> & <int> & <chr> & <chr> & <chr>\\\\\n",
       "\\hline\n",
       "\tGO:0016050 & black & 331 & 0.00000000000046 & 0.0000000085 & 31 & BP & vesicle organization             & 7\\\\\n",
       "\tGO:0010256 & black & 331 & 0.00000000000970 & 0.0000001800 & 34 & BP & endomembrane system organization & 7\\\\\n",
       "\tGO:0042886 & black & 331 & 0.00000000003100 & 0.0000005800 & 80 & BP & amide transport                  & 7\\\\\n",
       "\tGO:0015031 & black & 331 & 0.00000000003200 & 0.0000005800 & 78 & BP & protein transport                & 7\\\\\n",
       "\tGO:0046907 & black & 331 & 0.00000000007200 & 0.0000013000 & 72 & BP & intracellular transport          & 7\\\\\n",
       "\tGO:0015833 & black & 331 & 0.00000000008700 & 0.0000016000 & 78 & BP & peptide transport                & 7\\\\\n",
       "\\end{tabular}\n"
      ],
      "text/markdown": [
       "\n",
       "A data.frame: 6 × 8\n",
       "\n",
       "| <!--/--> | module &lt;chr&gt; | modSize &lt;int&gt; | enrichmentP &lt;dbl&gt; | BonferoniP &lt;dbl&gt; | nModGenesInTerm &lt;int&gt; | termOntology &lt;chr&gt; | termName &lt;chr&gt; | label &lt;chr&gt; |\n",
       "|---|---|---|---|---|---|---|---|---|\n",
       "| GO:0016050 | black | 331 | 0.00000000000046 | 0.0000000085 | 31 | BP | vesicle organization             | 7 |\n",
       "| GO:0010256 | black | 331 | 0.00000000000970 | 0.0000001800 | 34 | BP | endomembrane system organization | 7 |\n",
       "| GO:0042886 | black | 331 | 0.00000000003100 | 0.0000005800 | 80 | BP | amide transport                  | 7 |\n",
       "| GO:0015031 | black | 331 | 0.00000000003200 | 0.0000005800 | 78 | BP | protein transport                | 7 |\n",
       "| GO:0046907 | black | 331 | 0.00000000007200 | 0.0000013000 | 72 | BP | intracellular transport          | 7 |\n",
       "| GO:0015833 | black | 331 | 0.00000000008700 | 0.0000016000 | 78 | BP | peptide transport                | 7 |\n",
       "\n"
      ],
      "text/plain": [
       "           module modSize enrichmentP      BonferoniP   nModGenesInTerm\n",
       "GO:0016050 black  331     0.00000000000046 0.0000000085 31             \n",
       "GO:0010256 black  331     0.00000000000970 0.0000001800 34             \n",
       "GO:0042886 black  331     0.00000000003100 0.0000005800 80             \n",
       "GO:0015031 black  331     0.00000000003200 0.0000005800 78             \n",
       "GO:0046907 black  331     0.00000000007200 0.0000013000 72             \n",
       "GO:0015833 black  331     0.00000000008700 0.0000016000 78             \n",
       "           termOntology termName                         label\n",
       "GO:0016050 BP           vesicle organization             7    \n",
       "GO:0010256 BP           endomembrane system organization 7    \n",
       "GO:0042886 BP           amide transport                  7    \n",
       "GO:0015031 BP           protein transport                7    \n",
       "GO:0046907 BP           intracellular transport          7    \n",
       "GO:0015833 BP           peptide transport                7    "
      ]
     },
     "metadata": {},
     "output_type": "display_data"
    }
   ],
   "source": [
    "head(GO_module)"
   ]
  },
  {
   "cell_type": "markdown",
   "metadata": {},
   "source": [
    "### Deteremine module order for heatmap\n",
    "\n",
    "based on module clustering"
   ]
  },
  {
   "cell_type": "code",
   "execution_count": 31,
   "metadata": {},
   "outputs": [],
   "source": [
    "orderedlabels <- METree$labels[METree$order]"
   ]
  },
  {
   "cell_type": "code",
   "execution_count": 32,
   "metadata": {},
   "outputs": [
    {
     "data": {
      "text/html": [
       "<style>\n",
       ".list-inline {list-style: none; margin:0; padding: 0}\n",
       ".list-inline>li {display: inline-block}\n",
       ".list-inline>li:not(:last-child)::after {content: \"\\00b7\"; padding: 0 .5ex}\n",
       "</style>\n",
       "<ol class=list-inline><li>'ME23'</li><li>'ME6'</li><li>'ME4'</li><li>'ME18'</li><li>'ME17'</li><li>'ME28'</li><li>'ME26'</li><li>'ME24'</li><li>'ME0'</li><li>'ME22'</li><li>'ME13'</li><li>'ME7'</li><li>'ME14'</li><li>'ME27'</li><li>'ME3'</li></ol>\n"
      ],
      "text/latex": [
       "\\begin{enumerate*}\n",
       "\\item 'ME23'\n",
       "\\item 'ME6'\n",
       "\\item 'ME4'\n",
       "\\item 'ME18'\n",
       "\\item 'ME17'\n",
       "\\item 'ME28'\n",
       "\\item 'ME26'\n",
       "\\item 'ME24'\n",
       "\\item 'ME0'\n",
       "\\item 'ME22'\n",
       "\\item 'ME13'\n",
       "\\item 'ME7'\n",
       "\\item 'ME14'\n",
       "\\item 'ME27'\n",
       "\\item 'ME3'\n",
       "\\end{enumerate*}\n"
      ],
      "text/markdown": [
       "1. 'ME23'\n",
       "2. 'ME6'\n",
       "3. 'ME4'\n",
       "4. 'ME18'\n",
       "5. 'ME17'\n",
       "6. 'ME28'\n",
       "7. 'ME26'\n",
       "8. 'ME24'\n",
       "9. 'ME0'\n",
       "10. 'ME22'\n",
       "11. 'ME13'\n",
       "12. 'ME7'\n",
       "13. 'ME14'\n",
       "14. 'ME27'\n",
       "15. 'ME3'\n",
       "\n",
       "\n"
      ],
      "text/plain": [
       " [1] \"ME23\" \"ME6\"  \"ME4\"  \"ME18\" \"ME17\" \"ME28\" \"ME26\" \"ME24\" \"ME0\"  \"ME22\"\n",
       "[11] \"ME13\" \"ME7\"  \"ME14\" \"ME27\" \"ME3\" "
      ]
     },
     "metadata": {},
     "output_type": "display_data"
    }
   ],
   "source": [
    "orderedlabels"
   ]
  },
  {
   "cell_type": "code",
   "execution_count": 33,
   "metadata": {},
   "outputs": [],
   "source": [
    "orderedlabels <- as.character(substring(orderedlabels,3))"
   ]
  },
  {
   "cell_type": "code",
   "execution_count": 34,
   "metadata": {},
   "outputs": [],
   "source": [
    "orderedlabels <- orderedlabels[orderedlabels != \"0\"]"
   ]
  },
  {
   "cell_type": "code",
   "execution_count": 35,
   "metadata": {},
   "outputs": [
    {
     "data": {
      "text/html": [
       "<style>\n",
       ".list-inline {list-style: none; margin:0; padding: 0}\n",
       ".list-inline>li {display: inline-block}\n",
       ".list-inline>li:not(:last-child)::after {content: \"\\00b7\"; padding: 0 .5ex}\n",
       "</style>\n",
       "<ol class=list-inline><li>'23'</li><li>'6'</li><li>'4'</li><li>'18'</li><li>'17'</li><li>'28'</li><li>'26'</li><li>'24'</li><li>'22'</li><li>'13'</li><li>'7'</li><li>'14'</li><li>'27'</li><li>'3'</li></ol>\n"
      ],
      "text/latex": [
       "\\begin{enumerate*}\n",
       "\\item '23'\n",
       "\\item '6'\n",
       "\\item '4'\n",
       "\\item '18'\n",
       "\\item '17'\n",
       "\\item '28'\n",
       "\\item '26'\n",
       "\\item '24'\n",
       "\\item '22'\n",
       "\\item '13'\n",
       "\\item '7'\n",
       "\\item '14'\n",
       "\\item '27'\n",
       "\\item '3'\n",
       "\\end{enumerate*}\n"
      ],
      "text/markdown": [
       "1. '23'\n",
       "2. '6'\n",
       "3. '4'\n",
       "4. '18'\n",
       "5. '17'\n",
       "6. '28'\n",
       "7. '26'\n",
       "8. '24'\n",
       "9. '22'\n",
       "10. '13'\n",
       "11. '7'\n",
       "12. '14'\n",
       "13. '27'\n",
       "14. '3'\n",
       "\n",
       "\n"
      ],
      "text/plain": [
       " [1] \"23\" \"6\"  \"4\"  \"18\" \"17\" \"28\" \"26\" \"24\" \"22\" \"13\" \"7\"  \"14\" \"27\" \"3\" "
      ]
     },
     "metadata": {},
     "output_type": "display_data"
    }
   ],
   "source": [
    "orderedlabels"
   ]
  },
  {
   "cell_type": "markdown",
   "metadata": {},
   "source": [
    "Module 28 is ZNF genes with no BP annotations from GO"
   ]
  },
  {
   "cell_type": "code",
   "execution_count": 36,
   "metadata": {},
   "outputs": [],
   "source": [
    "orderedlabels <- orderedlabels[c(3,4,5,6,2,11,12,8,1,13,14,10,9,7)]"
   ]
  },
  {
   "cell_type": "code",
   "execution_count": 37,
   "metadata": {},
   "outputs": [
    {
     "data": {
      "text/html": [
       "<style>\n",
       ".list-inline {list-style: none; margin:0; padding: 0}\n",
       ".list-inline>li {display: inline-block}\n",
       ".list-inline>li:not(:last-child)::after {content: \"\\00b7\"; padding: 0 .5ex}\n",
       "</style>\n",
       "<ol class=list-inline><li>'4'</li><li>'18'</li><li>'17'</li><li>'28'</li><li>'6'</li><li>'7'</li><li>'14'</li><li>'24'</li><li>'23'</li><li>'27'</li><li>'3'</li><li>'13'</li><li>'22'</li><li>'26'</li></ol>\n"
      ],
      "text/latex": [
       "\\begin{enumerate*}\n",
       "\\item '4'\n",
       "\\item '18'\n",
       "\\item '17'\n",
       "\\item '28'\n",
       "\\item '6'\n",
       "\\item '7'\n",
       "\\item '14'\n",
       "\\item '24'\n",
       "\\item '23'\n",
       "\\item '27'\n",
       "\\item '3'\n",
       "\\item '13'\n",
       "\\item '22'\n",
       "\\item '26'\n",
       "\\end{enumerate*}\n"
      ],
      "text/markdown": [
       "1. '4'\n",
       "2. '18'\n",
       "3. '17'\n",
       "4. '28'\n",
       "5. '6'\n",
       "6. '7'\n",
       "7. '14'\n",
       "8. '24'\n",
       "9. '23'\n",
       "10. '27'\n",
       "11. '3'\n",
       "12. '13'\n",
       "13. '22'\n",
       "14. '26'\n",
       "\n",
       "\n"
      ],
      "text/plain": [
       " [1] \"4\"  \"18\" \"17\" \"28\" \"6\"  \"7\"  \"14\" \"24\" \"23\" \"27\" \"3\"  \"13\" \"22\" \"26\""
      ]
     },
     "metadata": {},
     "output_type": "display_data"
    }
   ],
   "source": [
    "orderedlabels"
   ]
  },
  {
   "cell_type": "code",
   "execution_count": 38,
   "metadata": {},
   "outputs": [],
   "source": [
    "#Make a vector for module labels\n",
    "modulelabels <- as.character(gene_module$moduleLabel)\n",
    "names(modulelabels) <- rownames(gene_module)"
   ]
  },
  {
   "cell_type": "code",
   "execution_count": 39,
   "metadata": {},
   "outputs": [],
   "source": [
    "modulelabels <- modulelabels[order(match(modulelabels, orderedlabels))]"
   ]
  },
  {
   "cell_type": "code",
   "execution_count": 40,
   "metadata": {},
   "outputs": [
    {
     "data": {
      "text/plain": [
       "modulelabels\n",
       "  13   14   17   18   22   23   24   26   27   28    3    4    6    7 \n",
       "  58   85  535   51   44   43   33   28   28   24  228  393 1162  332 "
      ]
     },
     "metadata": {},
     "output_type": "display_data"
    }
   ],
   "source": [
    "table(modulelabels)"
   ]
  },
  {
   "cell_type": "markdown",
   "metadata": {},
   "source": [
    "order tpm matrix"
   ]
  },
  {
   "cell_type": "code",
   "execution_count": 41,
   "metadata": {},
   "outputs": [],
   "source": [
    "tpm_genes_samples <- tpm_genes_samples[names(modulelabels),]"
   ]
  },
  {
   "cell_type": "code",
   "execution_count": 42,
   "metadata": {},
   "outputs": [
    {
     "data": {
      "text/html": [
       "<table class=\"dataframe\">\n",
       "<caption>A matrix: 6 × 757 of type dbl</caption>\n",
       "<thead>\n",
       "\t<tr><th></th><th scope=col>THR09_0224_S01</th><th scope=col>THR22_0599_S01</th><th scope=col>THR22_0582_S01</th><th scope=col>THR22_0595_S01</th><th scope=col>THR09_0568_S01</th><th scope=col>TH03_0148_S01</th><th scope=col>THR09_0563_S01</th><th scope=col>THR09_0574_S01</th><th scope=col>THR22_0579_S01</th><th scope=col>THR09_0561_S01</th><th scope=col>⋯</th><th scope=col>THR30_0810_S01</th><th scope=col>THR30_0823_S01</th><th scope=col>TH06_1171_S01</th><th scope=col>THR30_0842_S01</th><th scope=col>TH27_0691_S01</th><th scope=col>TH03_0014_S01</th><th scope=col>THR30_0824_S01</th><th scope=col>THR30_0818_S01</th><th scope=col>THR32_0947_S01</th><th scope=col>TH40_2259_S01</th></tr>\n",
       "</thead>\n",
       "<tbody>\n",
       "\t<tr><th scope=row>AGBL5</th><td>3.420887</td><td>3.491853</td><td>3.607626</td><td>3.182692</td><td>3.527321</td><td>3.589763</td><td>3.919340</td><td>3.794936</td><td>3.440952</td><td>4.336997</td><td>⋯</td><td>5.501121</td><td>5.890933</td><td>5.696828</td><td>4.120186</td><td>5.686220</td><td>5.495695</td><td>5.347311</td><td>4.615299</td><td>4.886062</td><td>4.531693</td></tr>\n",
       "\t<tr><th scope=row>ALYREF</th><td>7.041440</td><td>6.946614</td><td>6.703073</td><td>5.418865</td><td>6.601102</td><td>5.499846</td><td>7.766131</td><td>6.913009</td><td>5.969703</td><td>7.683556</td><td>⋯</td><td>6.974300</td><td>5.860466</td><td>5.926711</td><td>5.675816</td><td>6.067596</td><td>5.420213</td><td>6.346248</td><td>5.200850</td><td>6.160073</td><td>5.774524</td></tr>\n",
       "\t<tr><th scope=row>ANLN</th><td>4.031219</td><td>4.175525</td><td>4.440288</td><td>3.804260</td><td>4.305241</td><td>2.855990</td><td>4.266037</td><td>4.502076</td><td>3.748461</td><td>5.037382</td><td>⋯</td><td>5.175525</td><td>4.894818</td><td>3.467279</td><td>3.754888</td><td>5.236875</td><td>5.139142</td><td>4.960697</td><td>2.689299</td><td>4.094236</td><td>3.333424</td></tr>\n",
       "\t<tr><th scope=row>ANP32A</th><td>8.712458</td><td>8.848279</td><td>9.266669</td><td>8.046360</td><td>8.766396</td><td>7.251814</td><td>8.308612</td><td>8.966246</td><td>8.247405</td><td>7.902677</td><td>⋯</td><td>7.876394</td><td>7.880869</td><td>7.065120</td><td>6.938991</td><td>7.855367</td><td>8.020813</td><td>7.031880</td><td>6.644722</td><td>7.533096</td><td>8.115616</td></tr>\n",
       "\t<tr><th scope=row>ANP32B</th><td>8.521247</td><td>9.061938</td><td>8.877131</td><td>7.657640</td><td>9.144964</td><td>6.865795</td><td>8.302776</td><td>8.840935</td><td>8.228723</td><td>8.526499</td><td>⋯</td><td>7.526382</td><td>7.307337</td><td>7.012569</td><td>7.257482</td><td>6.599764</td><td>6.360715</td><td>7.229396</td><td>6.554282</td><td>7.303963</td><td>7.646091</td></tr>\n",
       "\t<tr><th scope=row>ANP32E</th><td>6.732676</td><td>7.146696</td><td>7.042535</td><td>5.615593</td><td>6.770961</td><td>4.751142</td><td>7.154211</td><td>7.379985</td><td>6.424754</td><td>6.616622</td><td>⋯</td><td>6.002928</td><td>5.994806</td><td>4.370164</td><td>5.296090</td><td>5.177121</td><td>6.453682</td><td>6.050502</td><td>4.687621</td><td>5.771357</td><td>5.596041</td></tr>\n",
       "</tbody>\n",
       "</table>\n"
      ],
      "text/latex": [
       "A matrix: 6 × 757 of type dbl\n",
       "\\begin{tabular}{r|lllllllllllllllllllll}\n",
       "  & THR09\\_0224\\_S01 & THR22\\_0599\\_S01 & THR22\\_0582\\_S01 & THR22\\_0595\\_S01 & THR09\\_0568\\_S01 & TH03\\_0148\\_S01 & THR09\\_0563\\_S01 & THR09\\_0574\\_S01 & THR22\\_0579\\_S01 & THR09\\_0561\\_S01 & ⋯ & THR30\\_0810\\_S01 & THR30\\_0823\\_S01 & TH06\\_1171\\_S01 & THR30\\_0842\\_S01 & TH27\\_0691\\_S01 & TH03\\_0014\\_S01 & THR30\\_0824\\_S01 & THR30\\_0818\\_S01 & THR32\\_0947\\_S01 & TH40\\_2259\\_S01\\\\\n",
       "\\hline\n",
       "\tAGBL5 & 3.420887 & 3.491853 & 3.607626 & 3.182692 & 3.527321 & 3.589763 & 3.919340 & 3.794936 & 3.440952 & 4.336997 & ⋯ & 5.501121 & 5.890933 & 5.696828 & 4.120186 & 5.686220 & 5.495695 & 5.347311 & 4.615299 & 4.886062 & 4.531693\\\\\n",
       "\tALYREF & 7.041440 & 6.946614 & 6.703073 & 5.418865 & 6.601102 & 5.499846 & 7.766131 & 6.913009 & 5.969703 & 7.683556 & ⋯ & 6.974300 & 5.860466 & 5.926711 & 5.675816 & 6.067596 & 5.420213 & 6.346248 & 5.200850 & 6.160073 & 5.774524\\\\\n",
       "\tANLN & 4.031219 & 4.175525 & 4.440288 & 3.804260 & 4.305241 & 2.855990 & 4.266037 & 4.502076 & 3.748461 & 5.037382 & ⋯ & 5.175525 & 4.894818 & 3.467279 & 3.754888 & 5.236875 & 5.139142 & 4.960697 & 2.689299 & 4.094236 & 3.333424\\\\\n",
       "\tANP32A & 8.712458 & 8.848279 & 9.266669 & 8.046360 & 8.766396 & 7.251814 & 8.308612 & 8.966246 & 8.247405 & 7.902677 & ⋯ & 7.876394 & 7.880869 & 7.065120 & 6.938991 & 7.855367 & 8.020813 & 7.031880 & 6.644722 & 7.533096 & 8.115616\\\\\n",
       "\tANP32B & 8.521247 & 9.061938 & 8.877131 & 7.657640 & 9.144964 & 6.865795 & 8.302776 & 8.840935 & 8.228723 & 8.526499 & ⋯ & 7.526382 & 7.307337 & 7.012569 & 7.257482 & 6.599764 & 6.360715 & 7.229396 & 6.554282 & 7.303963 & 7.646091\\\\\n",
       "\tANP32E & 6.732676 & 7.146696 & 7.042535 & 5.615593 & 6.770961 & 4.751142 & 7.154211 & 7.379985 & 6.424754 & 6.616622 & ⋯ & 6.002928 & 5.994806 & 4.370164 & 5.296090 & 5.177121 & 6.453682 & 6.050502 & 4.687621 & 5.771357 & 5.596041\\\\\n",
       "\\end{tabular}\n"
      ],
      "text/markdown": [
       "\n",
       "A matrix: 6 × 757 of type dbl\n",
       "\n",
       "| <!--/--> | THR09_0224_S01 | THR22_0599_S01 | THR22_0582_S01 | THR22_0595_S01 | THR09_0568_S01 | TH03_0148_S01 | THR09_0563_S01 | THR09_0574_S01 | THR22_0579_S01 | THR09_0561_S01 | ⋯ | THR30_0810_S01 | THR30_0823_S01 | TH06_1171_S01 | THR30_0842_S01 | TH27_0691_S01 | TH03_0014_S01 | THR30_0824_S01 | THR30_0818_S01 | THR32_0947_S01 | TH40_2259_S01 |\n",
       "|---|---|---|---|---|---|---|---|---|---|---|---|---|---|---|---|---|---|---|---|---|---|\n",
       "| AGBL5 | 3.420887 | 3.491853 | 3.607626 | 3.182692 | 3.527321 | 3.589763 | 3.919340 | 3.794936 | 3.440952 | 4.336997 | ⋯ | 5.501121 | 5.890933 | 5.696828 | 4.120186 | 5.686220 | 5.495695 | 5.347311 | 4.615299 | 4.886062 | 4.531693 |\n",
       "| ALYREF | 7.041440 | 6.946614 | 6.703073 | 5.418865 | 6.601102 | 5.499846 | 7.766131 | 6.913009 | 5.969703 | 7.683556 | ⋯ | 6.974300 | 5.860466 | 5.926711 | 5.675816 | 6.067596 | 5.420213 | 6.346248 | 5.200850 | 6.160073 | 5.774524 |\n",
       "| ANLN | 4.031219 | 4.175525 | 4.440288 | 3.804260 | 4.305241 | 2.855990 | 4.266037 | 4.502076 | 3.748461 | 5.037382 | ⋯ | 5.175525 | 4.894818 | 3.467279 | 3.754888 | 5.236875 | 5.139142 | 4.960697 | 2.689299 | 4.094236 | 3.333424 |\n",
       "| ANP32A | 8.712458 | 8.848279 | 9.266669 | 8.046360 | 8.766396 | 7.251814 | 8.308612 | 8.966246 | 8.247405 | 7.902677 | ⋯ | 7.876394 | 7.880869 | 7.065120 | 6.938991 | 7.855367 | 8.020813 | 7.031880 | 6.644722 | 7.533096 | 8.115616 |\n",
       "| ANP32B | 8.521247 | 9.061938 | 8.877131 | 7.657640 | 9.144964 | 6.865795 | 8.302776 | 8.840935 | 8.228723 | 8.526499 | ⋯ | 7.526382 | 7.307337 | 7.012569 | 7.257482 | 6.599764 | 6.360715 | 7.229396 | 6.554282 | 7.303963 | 7.646091 |\n",
       "| ANP32E | 6.732676 | 7.146696 | 7.042535 | 5.615593 | 6.770961 | 4.751142 | 7.154211 | 7.379985 | 6.424754 | 6.616622 | ⋯ | 6.002928 | 5.994806 | 4.370164 | 5.296090 | 5.177121 | 6.453682 | 6.050502 | 4.687621 | 5.771357 | 5.596041 |\n",
       "\n"
      ],
      "text/plain": [
       "       THR09_0224_S01 THR22_0599_S01 THR22_0582_S01 THR22_0595_S01\n",
       "AGBL5  3.420887       3.491853       3.607626       3.182692      \n",
       "ALYREF 7.041440       6.946614       6.703073       5.418865      \n",
       "ANLN   4.031219       4.175525       4.440288       3.804260      \n",
       "ANP32A 8.712458       8.848279       9.266669       8.046360      \n",
       "ANP32B 8.521247       9.061938       8.877131       7.657640      \n",
       "ANP32E 6.732676       7.146696       7.042535       5.615593      \n",
       "       THR09_0568_S01 TH03_0148_S01 THR09_0563_S01 THR09_0574_S01\n",
       "AGBL5  3.527321       3.589763      3.919340       3.794936      \n",
       "ALYREF 6.601102       5.499846      7.766131       6.913009      \n",
       "ANLN   4.305241       2.855990      4.266037       4.502076      \n",
       "ANP32A 8.766396       7.251814      8.308612       8.966246      \n",
       "ANP32B 9.144964       6.865795      8.302776       8.840935      \n",
       "ANP32E 6.770961       4.751142      7.154211       7.379985      \n",
       "       THR22_0579_S01 THR09_0561_S01 ⋯ THR30_0810_S01 THR30_0823_S01\n",
       "AGBL5  3.440952       4.336997       ⋯ 5.501121       5.890933      \n",
       "ALYREF 5.969703       7.683556       ⋯ 6.974300       5.860466      \n",
       "ANLN   3.748461       5.037382       ⋯ 5.175525       4.894818      \n",
       "ANP32A 8.247405       7.902677       ⋯ 7.876394       7.880869      \n",
       "ANP32B 8.228723       8.526499       ⋯ 7.526382       7.307337      \n",
       "ANP32E 6.424754       6.616622       ⋯ 6.002928       5.994806      \n",
       "       TH06_1171_S01 THR30_0842_S01 TH27_0691_S01 TH03_0014_S01 THR30_0824_S01\n",
       "AGBL5  5.696828      4.120186       5.686220      5.495695      5.347311      \n",
       "ALYREF 5.926711      5.675816       6.067596      5.420213      6.346248      \n",
       "ANLN   3.467279      3.754888       5.236875      5.139142      4.960697      \n",
       "ANP32A 7.065120      6.938991       7.855367      8.020813      7.031880      \n",
       "ANP32B 7.012569      7.257482       6.599764      6.360715      7.229396      \n",
       "ANP32E 4.370164      5.296090       5.177121      6.453682      6.050502      \n",
       "       THR30_0818_S01 THR32_0947_S01 TH40_2259_S01\n",
       "AGBL5  4.615299       4.886062       4.531693     \n",
       "ALYREF 5.200850       6.160073       5.774524     \n",
       "ANLN   2.689299       4.094236       3.333424     \n",
       "ANP32A 6.644722       7.533096       8.115616     \n",
       "ANP32B 6.554282       7.303963       7.646091     \n",
       "ANP32E 4.687621       5.771357       5.596041     "
      ]
     },
     "metadata": {},
     "output_type": "display_data"
    }
   ],
   "source": [
    "head(tpm_genes_samples)"
   ]
  },
  {
   "cell_type": "markdown",
   "metadata": {},
   "source": [
    "### term list\n",
    "\n",
    "Make a list for word cloud annotation"
   ]
  },
  {
   "cell_type": "code",
   "execution_count": 43,
   "metadata": {},
   "outputs": [
    {
     "data": {
      "text/html": [
       "<style>\n",
       ".dl-inline {width: auto; margin:0; padding: 0}\n",
       ".dl-inline>dt, .dl-inline>dd {float: none; width: auto; display: inline-block}\n",
       ".dl-inline>dt::after {content: \":\\0020\"; padding-right: .5ex}\n",
       ".dl-inline>dt:not(:first-of-type) {padding-left: .5ex}\n",
       "</style><dl class=dl-inline><dt>AGBL5</dt><dd>'4'</dd><dt>ALYREF</dt><dd>'4'</dd><dt>ANLN</dt><dd>'4'</dd><dt>ANP32A</dt><dd>'4'</dd><dt>ANP32B</dt><dd>'4'</dd><dt>ANP32E</dt><dd>'4'</dd></dl>\n"
      ],
      "text/latex": [
       "\\begin{description*}\n",
       "\\item[AGBL5] '4'\n",
       "\\item[ALYREF] '4'\n",
       "\\item[ANLN] '4'\n",
       "\\item[ANP32A] '4'\n",
       "\\item[ANP32B] '4'\n",
       "\\item[ANP32E] '4'\n",
       "\\end{description*}\n"
      ],
      "text/markdown": [
       "AGBL5\n",
       ":   '4'ALYREF\n",
       ":   '4'ANLN\n",
       ":   '4'ANP32A\n",
       ":   '4'ANP32B\n",
       ":   '4'ANP32E\n",
       ":   '4'\n",
       "\n"
      ],
      "text/plain": [
       " AGBL5 ALYREF   ANLN ANP32A ANP32B ANP32E \n",
       "   \"4\"    \"4\"    \"4\"    \"4\"    \"4\"    \"4\" "
      ]
     },
     "metadata": {},
     "output_type": "display_data"
    }
   ],
   "source": [
    "head(modulelabels)"
   ]
  },
  {
   "cell_type": "code",
   "execution_count": 44,
   "metadata": {},
   "outputs": [
    {
     "data": {
      "text/html": [
       "<table class=\"dataframe\">\n",
       "<caption>A data.frame: 15 × 8</caption>\n",
       "<thead>\n",
       "\t<tr><th></th><th scope=col>module</th><th scope=col>modSize</th><th scope=col>enrichmentP</th><th scope=col>BonferoniP</th><th scope=col>nModGenesInTerm</th><th scope=col>termOntology</th><th scope=col>termName</th><th scope=col>label</th></tr>\n",
       "\t<tr><th></th><th scope=col>&lt;chr&gt;</th><th scope=col>&lt;int&gt;</th><th scope=col>&lt;dbl&gt;</th><th scope=col>&lt;dbl&gt;</th><th scope=col>&lt;int&gt;</th><th scope=col>&lt;chr&gt;</th><th scope=col>&lt;chr&gt;</th><th scope=col>&lt;chr&gt;</th></tr>\n",
       "</thead>\n",
       "<tbody>\n",
       "\t<tr><th scope=row>GO:0016050</th><td>black</td><td>331</td><td>0.00000000000046</td><td>0.0000000085</td><td> 31</td><td>BP</td><td>vesicle organization                </td><td>7</td></tr>\n",
       "\t<tr><th scope=row>GO:0010256</th><td>black</td><td>331</td><td>0.00000000000970</td><td>0.0000001800</td><td> 34</td><td>BP</td><td>endomembrane system organization    </td><td>7</td></tr>\n",
       "\t<tr><th scope=row>GO:0042886</th><td>black</td><td>331</td><td>0.00000000003100</td><td>0.0000005800</td><td> 80</td><td>BP</td><td>amide transport                     </td><td>7</td></tr>\n",
       "\t<tr><th scope=row>GO:0015031</th><td>black</td><td>331</td><td>0.00000000003200</td><td>0.0000005800</td><td> 78</td><td>BP</td><td>protein transport                   </td><td>7</td></tr>\n",
       "\t<tr><th scope=row>GO:0046907</th><td>black</td><td>331</td><td>0.00000000007200</td><td>0.0000013000</td><td> 72</td><td>BP</td><td>intracellular transport             </td><td>7</td></tr>\n",
       "\t<tr><th scope=row>GO:0015833</th><td>black</td><td>331</td><td>0.00000000008700</td><td>0.0000016000</td><td> 78</td><td>BP</td><td>peptide transport                   </td><td>7</td></tr>\n",
       "\t<tr><th scope=row>GO:0006955</th><td>brown</td><td>224</td><td>0.00000000000000</td><td>0.0000000000</td><td>155</td><td>BP</td><td>immune response                     </td><td>3</td></tr>\n",
       "\t<tr><th scope=row>GO:0002376</th><td>brown</td><td>224</td><td>0.00000000000000</td><td>0.0000000000</td><td>164</td><td>BP</td><td>immune system process               </td><td>3</td></tr>\n",
       "\t<tr><th scope=row>GO:0002682</th><td>brown</td><td>224</td><td>0.00000000000000</td><td>0.0000000000</td><td>112</td><td>BP</td><td>regulation of immune system process </td><td>3</td></tr>\n",
       "\t<tr><th scope=row>GO:0001775</th><td>brown</td><td>224</td><td>0.00000000000000</td><td>0.0000000000</td><td>107</td><td>BP</td><td>cell activation                     </td><td>3</td></tr>\n",
       "\t<tr><th scope=row>GO:0006952</th><td>brown</td><td>224</td><td>0.00000000000000</td><td>0.0000000000</td><td>111</td><td>BP</td><td>defense response                    </td><td>3</td></tr>\n",
       "\t<tr><th scope=row>GO:0045321</th><td>brown</td><td>224</td><td>0.00000000000000</td><td>0.0000000000</td><td>102</td><td>BP</td><td>leukocyte activation                </td><td>3</td></tr>\n",
       "\t<tr><th scope=row>GO:0050776</th><td>brown</td><td>224</td><td>0.00000000000000</td><td>0.0000000000</td><td> 88</td><td>BP</td><td>regulation of immune response       </td><td>3</td></tr>\n",
       "\t<tr><th scope=row>GO:0051707</th><td>brown</td><td>224</td><td>0.00000000000000</td><td>0.0000000000</td><td> 92</td><td>BP</td><td>response to other organism          </td><td>3</td></tr>\n",
       "\t<tr><th scope=row>GO:0043207</th><td>brown</td><td>224</td><td>0.00000000000000</td><td>0.0000000000</td><td> 92</td><td>BP</td><td>response to external biotic stimulus</td><td>3</td></tr>\n",
       "</tbody>\n",
       "</table>\n"
      ],
      "text/latex": [
       "A data.frame: 15 × 8\n",
       "\\begin{tabular}{r|llllllll}\n",
       "  & module & modSize & enrichmentP & BonferoniP & nModGenesInTerm & termOntology & termName & label\\\\\n",
       "  & <chr> & <int> & <dbl> & <dbl> & <int> & <chr> & <chr> & <chr>\\\\\n",
       "\\hline\n",
       "\tGO:0016050 & black & 331 & 0.00000000000046 & 0.0000000085 &  31 & BP & vesicle organization                 & 7\\\\\n",
       "\tGO:0010256 & black & 331 & 0.00000000000970 & 0.0000001800 &  34 & BP & endomembrane system organization     & 7\\\\\n",
       "\tGO:0042886 & black & 331 & 0.00000000003100 & 0.0000005800 &  80 & BP & amide transport                      & 7\\\\\n",
       "\tGO:0015031 & black & 331 & 0.00000000003200 & 0.0000005800 &  78 & BP & protein transport                    & 7\\\\\n",
       "\tGO:0046907 & black & 331 & 0.00000000007200 & 0.0000013000 &  72 & BP & intracellular transport              & 7\\\\\n",
       "\tGO:0015833 & black & 331 & 0.00000000008700 & 0.0000016000 &  78 & BP & peptide transport                    & 7\\\\\n",
       "\tGO:0006955 & brown & 224 & 0.00000000000000 & 0.0000000000 & 155 & BP & immune response                      & 3\\\\\n",
       "\tGO:0002376 & brown & 224 & 0.00000000000000 & 0.0000000000 & 164 & BP & immune system process                & 3\\\\\n",
       "\tGO:0002682 & brown & 224 & 0.00000000000000 & 0.0000000000 & 112 & BP & regulation of immune system process  & 3\\\\\n",
       "\tGO:0001775 & brown & 224 & 0.00000000000000 & 0.0000000000 & 107 & BP & cell activation                      & 3\\\\\n",
       "\tGO:0006952 & brown & 224 & 0.00000000000000 & 0.0000000000 & 111 & BP & defense response                     & 3\\\\\n",
       "\tGO:0045321 & brown & 224 & 0.00000000000000 & 0.0000000000 & 102 & BP & leukocyte activation                 & 3\\\\\n",
       "\tGO:0050776 & brown & 224 & 0.00000000000000 & 0.0000000000 &  88 & BP & regulation of immune response        & 3\\\\\n",
       "\tGO:0051707 & brown & 224 & 0.00000000000000 & 0.0000000000 &  92 & BP & response to other organism           & 3\\\\\n",
       "\tGO:0043207 & brown & 224 & 0.00000000000000 & 0.0000000000 &  92 & BP & response to external biotic stimulus & 3\\\\\n",
       "\\end{tabular}\n"
      ],
      "text/markdown": [
       "\n",
       "A data.frame: 15 × 8\n",
       "\n",
       "| <!--/--> | module &lt;chr&gt; | modSize &lt;int&gt; | enrichmentP &lt;dbl&gt; | BonferoniP &lt;dbl&gt; | nModGenesInTerm &lt;int&gt; | termOntology &lt;chr&gt; | termName &lt;chr&gt; | label &lt;chr&gt; |\n",
       "|---|---|---|---|---|---|---|---|---|\n",
       "| GO:0016050 | black | 331 | 0.00000000000046 | 0.0000000085 |  31 | BP | vesicle organization                 | 7 |\n",
       "| GO:0010256 | black | 331 | 0.00000000000970 | 0.0000001800 |  34 | BP | endomembrane system organization     | 7 |\n",
       "| GO:0042886 | black | 331 | 0.00000000003100 | 0.0000005800 |  80 | BP | amide transport                      | 7 |\n",
       "| GO:0015031 | black | 331 | 0.00000000003200 | 0.0000005800 |  78 | BP | protein transport                    | 7 |\n",
       "| GO:0046907 | black | 331 | 0.00000000007200 | 0.0000013000 |  72 | BP | intracellular transport              | 7 |\n",
       "| GO:0015833 | black | 331 | 0.00000000008700 | 0.0000016000 |  78 | BP | peptide transport                    | 7 |\n",
       "| GO:0006955 | brown | 224 | 0.00000000000000 | 0.0000000000 | 155 | BP | immune response                      | 3 |\n",
       "| GO:0002376 | brown | 224 | 0.00000000000000 | 0.0000000000 | 164 | BP | immune system process                | 3 |\n",
       "| GO:0002682 | brown | 224 | 0.00000000000000 | 0.0000000000 | 112 | BP | regulation of immune system process  | 3 |\n",
       "| GO:0001775 | brown | 224 | 0.00000000000000 | 0.0000000000 | 107 | BP | cell activation                      | 3 |\n",
       "| GO:0006952 | brown | 224 | 0.00000000000000 | 0.0000000000 | 111 | BP | defense response                     | 3 |\n",
       "| GO:0045321 | brown | 224 | 0.00000000000000 | 0.0000000000 | 102 | BP | leukocyte activation                 | 3 |\n",
       "| GO:0050776 | brown | 224 | 0.00000000000000 | 0.0000000000 |  88 | BP | regulation of immune response        | 3 |\n",
       "| GO:0051707 | brown | 224 | 0.00000000000000 | 0.0000000000 |  92 | BP | response to other organism           | 3 |\n",
       "| GO:0043207 | brown | 224 | 0.00000000000000 | 0.0000000000 |  92 | BP | response to external biotic stimulus | 3 |\n",
       "\n"
      ],
      "text/plain": [
       "           module modSize enrichmentP      BonferoniP   nModGenesInTerm\n",
       "GO:0016050 black  331     0.00000000000046 0.0000000085  31            \n",
       "GO:0010256 black  331     0.00000000000970 0.0000001800  34            \n",
       "GO:0042886 black  331     0.00000000003100 0.0000005800  80            \n",
       "GO:0015031 black  331     0.00000000003200 0.0000005800  78            \n",
       "GO:0046907 black  331     0.00000000007200 0.0000013000  72            \n",
       "GO:0015833 black  331     0.00000000008700 0.0000016000  78            \n",
       "GO:0006955 brown  224     0.00000000000000 0.0000000000 155            \n",
       "GO:0002376 brown  224     0.00000000000000 0.0000000000 164            \n",
       "GO:0002682 brown  224     0.00000000000000 0.0000000000 112            \n",
       "GO:0001775 brown  224     0.00000000000000 0.0000000000 107            \n",
       "GO:0006952 brown  224     0.00000000000000 0.0000000000 111            \n",
       "GO:0045321 brown  224     0.00000000000000 0.0000000000 102            \n",
       "GO:0050776 brown  224     0.00000000000000 0.0000000000  88            \n",
       "GO:0051707 brown  224     0.00000000000000 0.0000000000  92            \n",
       "GO:0043207 brown  224     0.00000000000000 0.0000000000  92            \n",
       "           termOntology termName                             label\n",
       "GO:0016050 BP           vesicle organization                 7    \n",
       "GO:0010256 BP           endomembrane system organization     7    \n",
       "GO:0042886 BP           amide transport                      7    \n",
       "GO:0015031 BP           protein transport                    7    \n",
       "GO:0046907 BP           intracellular transport              7    \n",
       "GO:0015833 BP           peptide transport                    7    \n",
       "GO:0006955 BP           immune response                      3    \n",
       "GO:0002376 BP           immune system process                3    \n",
       "GO:0002682 BP           regulation of immune system process  3    \n",
       "GO:0001775 BP           cell activation                      3    \n",
       "GO:0006952 BP           defense response                     3    \n",
       "GO:0045321 BP           leukocyte activation                 3    \n",
       "GO:0050776 BP           regulation of immune response        3    \n",
       "GO:0051707 BP           response to other organism           3    \n",
       "GO:0043207 BP           response to external biotic stimulus 3    "
      ]
     },
     "metadata": {},
     "output_type": "display_data"
    }
   ],
   "source": [
    "head(GO_module,15)"
   ]
  },
  {
   "cell_type": "markdown",
   "metadata": {},
   "source": [
    "Use GO term that includes highest number of genes in each module"
   ]
  },
  {
   "cell_type": "code",
   "execution_count": 45,
   "metadata": {},
   "outputs": [],
   "source": [
    "GO_module$myterm <- NA"
   ]
  },
  {
   "cell_type": "code",
   "execution_count": 46,
   "metadata": {},
   "outputs": [
    {
     "data": {
      "text/html": [
       "<style>\n",
       ".list-inline {list-style: none; margin:0; padding: 0}\n",
       ".list-inline>li {display: inline-block}\n",
       ".list-inline>li:not(:last-child)::after {content: \"\\00b7\"; padding: 0 .5ex}\n",
       "</style>\n",
       "<ol class=list-inline><li>'7'</li><li>'3'</li><li>'14'</li><li>'22'</li><li>'24'</li><li>'26'</li><li>'23'</li><li>'17'</li><li>'18'</li><li>'6'</li><li>'13'</li><li>'27'</li><li>'4'</li></ol>\n"
      ],
      "text/latex": [
       "\\begin{enumerate*}\n",
       "\\item '7'\n",
       "\\item '3'\n",
       "\\item '14'\n",
       "\\item '22'\n",
       "\\item '24'\n",
       "\\item '26'\n",
       "\\item '23'\n",
       "\\item '17'\n",
       "\\item '18'\n",
       "\\item '6'\n",
       "\\item '13'\n",
       "\\item '27'\n",
       "\\item '4'\n",
       "\\end{enumerate*}\n"
      ],
      "text/markdown": [
       "1. '7'\n",
       "2. '3'\n",
       "3. '14'\n",
       "4. '22'\n",
       "5. '24'\n",
       "6. '26'\n",
       "7. '23'\n",
       "8. '17'\n",
       "9. '18'\n",
       "10. '6'\n",
       "11. '13'\n",
       "12. '27'\n",
       "13. '4'\n",
       "\n",
       "\n"
      ],
      "text/plain": [
       " [1] \"7\"  \"3\"  \"14\" \"22\" \"24\" \"26\" \"23\" \"17\" \"18\" \"6\"  \"13\" \"27\" \"4\" "
      ]
     },
     "metadata": {},
     "output_type": "display_data"
    }
   ],
   "source": [
    "unique(GO_module$label)"
   ]
  },
  {
   "cell_type": "code",
   "execution_count": 47,
   "metadata": {},
   "outputs": [],
   "source": [
    "for(i in unique(GO_module$label)){\n",
    "    tmp <- GO_module[ GO_module$label == i,]\n",
    "    moduleterm <- tmp$termName[tmp$nModGenesInTerm == max(tmp$nModGenesInTerm)][1] #use one term if max returns two terms\n",
    "    GO_module$myterm[GO_module$label == i] <- moduleterm\n",
    "    \n",
    "}"
   ]
  },
  {
   "cell_type": "code",
   "execution_count": 48,
   "metadata": {},
   "outputs": [],
   "source": [
    "GOlist <- vector(mode = \"list\", length = length(modulelabels))\n",
    "names(GOlist) <- modulelabels"
   ]
  },
  {
   "cell_type": "code",
   "execution_count": 49,
   "metadata": {},
   "outputs": [],
   "source": [
    "for(m in 1:length(GOlist)){\n",
    "    mymodule <- names(GOlist)[m]\n",
    "    myGOs <- GO_module$termName[GO_module$label == mymodule]\n",
    "    GOlist[m] <- list(myGOs)}"
   ]
  },
  {
   "cell_type": "markdown",
   "metadata": {},
   "source": [
    "### heatmap annotation"
   ]
  },
  {
   "cell_type": "code",
   "execution_count": 50,
   "metadata": {},
   "outputs": [
    {
     "data": {
      "text/html": [
       "<style>\n",
       ".dl-inline {width: auto; margin:0; padding: 0}\n",
       ".dl-inline>dt, .dl-inline>dd {float: none; width: auto; display: inline-block}\n",
       ".dl-inline>dt::after {content: \":\\0020\"; padding-right: .5ex}\n",
       ".dl-inline>dt:not(:first-of-type) {padding-left: .5ex}\n",
       "</style><dl class=dl-inline><dt>AGBL5</dt><dd>'4'</dd><dt>ALYREF</dt><dd>'4'</dd><dt>ANLN</dt><dd>'4'</dd><dt>ANP32A</dt><dd>'4'</dd><dt>ANP32B</dt><dd>'4'</dd><dt>ANP32E</dt><dd>'4'</dd></dl>\n"
      ],
      "text/latex": [
       "\\begin{description*}\n",
       "\\item[AGBL5] '4'\n",
       "\\item[ALYREF] '4'\n",
       "\\item[ANLN] '4'\n",
       "\\item[ANP32A] '4'\n",
       "\\item[ANP32B] '4'\n",
       "\\item[ANP32E] '4'\n",
       "\\end{description*}\n"
      ],
      "text/markdown": [
       "AGBL5\n",
       ":   '4'ALYREF\n",
       ":   '4'ANLN\n",
       ":   '4'ANP32A\n",
       ":   '4'ANP32B\n",
       ":   '4'ANP32E\n",
       ":   '4'\n",
       "\n"
      ],
      "text/plain": [
       " AGBL5 ALYREF   ANLN ANP32A ANP32B ANP32E \n",
       "   \"4\"    \"4\"    \"4\"    \"4\"    \"4\"    \"4\" "
      ]
     },
     "metadata": {},
     "output_type": "display_data"
    }
   ],
   "source": [
    "head(modulelabels)"
   ]
  },
  {
   "cell_type": "code",
   "execution_count": 51,
   "metadata": {
    "scrolled": false
   },
   "outputs": [],
   "source": [
    "module_ha <- rowAnnotation(go = anno_word_cloud_from_GO(modulelabels, moduleList,term = GOlist,\n",
    "                                                       max_words = 30, fontsize_range = c(25,45),\n",
    "                                                       exclude_words = c(\"cellular\", \"process\", \"cell\",\n",
    "                                                                         \"exogenous\", \"system\" ),\n",
    "                                                       bg_gp = gpar(fill = \"#F1F1F1\", col = \"#AAAAAA\"),\n",
    "                          word_cloud_grob_param = list(line_space = unit(2, \"pt\"), word_space = unit(4, \"pt\"), \n",
    "                                                       col = \"black\", max_width = unit(200, \"mm\"))\n",
    "                                                       )\n",
    "                          )"
   ]
  },
  {
   "cell_type": "code",
   "execution_count": 52,
   "metadata": {},
   "outputs": [],
   "source": [
    "set.seed(8)\n",
    "myColors <- randomcoloR::distinctColorPalette(14)"
   ]
  },
  {
   "cell_type": "code",
   "execution_count": 53,
   "metadata": {},
   "outputs": [],
   "source": [
    "names(myColors) <- names(table(modulelabels))"
   ]
  },
  {
   "cell_type": "code",
   "execution_count": 54,
   "metadata": {},
   "outputs": [],
   "source": [
    "hm_modules <- Heatmap(modulelabels,\n",
    "                      #titles and names\n",
    "                      right_annotation = module_ha,\n",
    "                      name = \"Modules\",\n",
    "                      show_row_names = FALSE,\n",
    "                      show_column_names = FALSE,    \n",
    "                      #clusters\n",
    "                      cluster_columns = FALSE,\n",
    "                      cluster_rows = FALSE,\n",
    "                      #aesthestics\n",
    "                      col = myColors,\n",
    "                      row_names_gp = gpar(fontsize = 20),\n",
    "                      width = unit(1, \"cm\"),\n",
    "                      column_title_gp = gpar(fontsize = 42),\n",
    "                      row_title = NULL)"
   ]
  },
  {
   "cell_type": "code",
   "execution_count": 55,
   "metadata": {},
   "outputs": [
    {
     "data": {
      "image/png": "[encoded data removed]",
      "text/plain": [
       "plot without title"
      ]
     },
     "metadata": {
      "image/png": {
       "height": 420,
       "width": 420
      }
     },
     "output_type": "display_data"
    }
   ],
   "source": [
    "hm_modules"
   ]
  },
  {
   "cell_type": "markdown",
   "metadata": {},
   "source": [
    "### Corr heatmap"
   ]
  },
  {
   "cell_type": "code",
   "execution_count": 56,
   "metadata": {},
   "outputs": [],
   "source": [
    "# make a correlation matrix \n",
    "cor_mat <- rcorr(t(tpm_genes_samples), type = \"pearson\")"
   ]
  },
  {
   "cell_type": "code",
   "execution_count": 57,
   "metadata": {},
   "outputs": [
    {
     "name": "stderr",
     "output_type": "stream",
     "text": [
      "'magick' package is suggested to install to give better rasterization.\n",
      "\n",
      "Set `ht_opt$message = FALSE` to turn off this message.\n",
      "\n"
     ]
    }
   ],
   "source": [
    "col_fun <- colorRamp2(c(-1, 0, 1), c(\"blue\",\"white\", \"red\"))\n",
    "hm_cor <- Heatmap(cor_mat$r,\n",
    "                      #titles and names   \n",
    "                      name = \"Gene correlations\",   \n",
    "                      show_row_names = FALSE,\n",
    "                      show_column_names = FALSE,     \n",
    "                      #clusters and orders  \n",
    "                      cluster_columns = FALSE,\n",
    "                      cluster_rows =  FALSE,\n",
    "                      show_column_dend = FALSE,\n",
    "               #       row_dend_width = unit(8, \"cm\"),\n",
    "                      #aesthestics\n",
    "                      col = col_fun, \n",
    "                      column_names_gp = gpar(fontsize = 20),\n",
    "                      row_names_gp = gpar(fontsize = 20),\n",
    "                      column_title_gp = gpar(fontsize = 20),\n",
    "                      column_title = NULL,\n",
    "                      row_title = NULL, use_raster = TRUE,\n",
    "                 raster_quality = 5)"
   ]
  },
  {
   "cell_type": "code",
   "execution_count": 58,
   "metadata": {},
   "outputs": [
    {
     "data": {
      "text/html": [
       "<strong>pdf:</strong> 2"
      ],
      "text/latex": [
       "\\textbf{pdf:} 2"
      ],
      "text/markdown": [
       "**pdf:** 2"
      ],
      "text/plain": [
       "pdf \n",
       "  2 "
      ]
     },
     "metadata": {},
     "output_type": "display_data"
    }
   ],
   "source": [
    "pdf(file = paste0(plotpath,\"hm_modules_th_manual_signed20_annotations.pdf\"),\n",
    "    width = 30, \n",
    "    height = 20,\n",
    "    useDingbats = FALSE)\n",
    "draw(hm_cor + hm_modules)\n",
    "    dev.off()"
   ]
  },
  {
   "cell_type": "code",
   "execution_count": 59,
   "metadata": {},
   "outputs": [],
   "source": [
    "hm_modules <- Heatmap(modulelabels,\n",
    "                      #titles and names\n",
    "                      name = \"Modules\",\n",
    "                      show_row_names = FALSE,\n",
    "                      show_column_names = FALSE,    \n",
    "                      #clusters\n",
    "                      cluster_columns = FALSE,\n",
    "                      cluster_rows = FALSE,\n",
    "                      #aesthestics\n",
    "                      col = myColors,\n",
    "                      row_names_gp = gpar(fontsize = 20),\n",
    "                      width = unit(1, \"cm\"),\n",
    "                      column_title_gp = gpar(fontsize = 42),\n",
    "                      row_title = NULL)"
   ]
  },
  {
   "cell_type": "code",
   "execution_count": 61,
   "metadata": {},
   "outputs": [
    {
     "data": {
      "image/png": "[encoded data removed]",
      "text/plain": [
       "plot without title"
      ]
     },
     "metadata": {
      "image/png": {
       "height": 420,
       "width": 420
      }
     },
     "output_type": "display_data"
    }
   ],
   "source": [
    "hm_modules"
   ]
  },
  {
   "cell_type": "code",
   "execution_count": 62,
   "metadata": {},
   "outputs": [
    {
     "data": {
      "text/html": [
       "<strong>pdf:</strong> 2"
      ],
      "text/latex": [
       "\\textbf{pdf:} 2"
      ],
      "text/markdown": [
       "**pdf:** 2"
      ],
      "text/plain": [
       "pdf \n",
       "  2 "
      ]
     },
     "metadata": {},
     "output_type": "display_data"
    }
   ],
   "source": [
    "pdf(file = paste0(plotpath,\"hm_modules_th_manual_signed20.pdf\"),\n",
    "    width = 20, \n",
    "    height = 20,\n",
    "    useDingbats = FALSE)\n",
    "draw(hm_cor + hm_modules)\n",
    "    dev.off()"
   ]
  }
 ],
 "metadata": {
  "kernelspec": {
   "display_name": "R 4.0",
   "language": "R",
   "name": "ir40"
  },
  "language_info": {
   "codemirror_mode": "r",
   "file_extension": ".r",
   "mimetype": "text/x-r-source",
   "name": "R",
   "pygments_lexer": "r",
   "version": "4.0.3"
  },
  "toc": {
   "base_numbering": 1,
   "nav_menu": {},
   "number_sections": false,
   "sideBar": true,
   "skip_h1_title": false,
   "title_cell": "Table of Contents",
   "title_sidebar": "Contents",
   "toc_cell": true,
   "toc_position": {
    "height": "calc(100% - 180px)",
    "left": "10px",
    "top": "150px",
    "width": "196px"
   },
   "toc_section_display": true,
   "toc_window_display": true
  }
 },
 "nbformat": 4,
 "nbformat_minor": 2
}
