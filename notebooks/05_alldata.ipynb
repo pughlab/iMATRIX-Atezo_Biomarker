{
 "cells": [
  {
   "cell_type": "markdown",
   "metadata": {
    "toc": true
   },
   "source": [
    "<h1>Table of Contents<span class=\"tocSkip\"></span></h1>\n",
    "<div class=\"toc\"><ul class=\"toc-item\"><li><span><a href=\"#Dependencies\" data-toc-modified-id=\"Dependencies-1\">Dependencies</a></span></li><li><span><a href=\"#Functions\" data-toc-modified-id=\"Functions-2\">Functions</a></span></li><li><span><a href=\"#Paths\" data-toc-modified-id=\"Paths-3\">Paths</a></span></li><li><span><a href=\"#Main\" data-toc-modified-id=\"Main-4\">Main</a></span><ul class=\"toc-item\"><li><span><a href=\"#Add-IHC-data\" data-toc-modified-id=\"Add-IHC-data-4.1\">Add IHC data</a></span></li><li><span><a href=\"#Div-stats\" data-toc-modified-id=\"Div-stats-4.2\">Div stats</a></span></li><li><span><a href=\"#TMB-data\" data-toc-modified-id=\"TMB-data-4.3\">TMB data</a></span></li></ul></li><li><span><a href=\"#Table-S1\" data-toc-modified-id=\"Table-S1-5\">Table S1</a></span></li></ul></div>"
   ]
  },
  {
   "cell_type": "markdown",
   "metadata": {},
   "source": [
    "# Dependencies"
   ]
  },
  {
   "cell_type": "code",
   "execution_count": 1,
   "metadata": {},
   "outputs": [],
   "source": [
    "library(xlsx)"
   ]
  },
  {
   "cell_type": "markdown",
   "metadata": {},
   "source": [
    "# Functions"
   ]
  },
  {
   "cell_type": "markdown",
   "metadata": {},
   "source": [
    "# Paths"
   ]
  },
  {
   "cell_type": "code",
   "execution_count": 2,
   "metadata": {},
   "outputs": [],
   "source": [
    "datapath <- \"/Users/anabbi/OneDrive - UHN/Documents/INDICATE/Data/\"\n",
    "plotpath <- \"/Users/anabbi/OneDrive - UHN/Documents/INDICATE/Plots/\""
   ]
  },
  {
   "cell_type": "markdown",
   "metadata": {},
   "source": [
    "# Main"
   ]
  },
  {
   "cell_type": "code",
   "execution_count": 3,
   "metadata": {},
   "outputs": [],
   "source": [
    "IND_metadata <- read.csv(file.path(datapath,\"IND_estimate_metadata.csv\"),header = T, stringsAsFactors = F, check.names = F)"
   ]
  },
  {
   "cell_type": "code",
   "execution_count": 4,
   "metadata": {},
   "outputs": [
    {
     "data": {
      "text/plain": [
       "\n",
       "     EWS Lymphoma      NBL       OS   Others      RMS       RT     SARC \n",
       "       6       11        9        8        8        8        4        6 \n",
       "   WILMS \n",
       "       6 "
      ]
     },
     "metadata": {},
     "output_type": "display_data"
    }
   ],
   "source": [
    "table(IND_metadata$disease_group)"
   ]
  },
  {
   "cell_type": "code",
   "execution_count": 5,
   "metadata": {},
   "outputs": [
    {
     "data": {
      "text/plain": [
       "\n",
       "         Adrenal gland                   Bone                  Brain \n",
       "                     5                      7                      5 \n",
       "Connective/Soft tissue                 Kidney                   Lung \n",
       "                    10                      5                     11 \n",
       "            Lymph node                 Others \n",
       "                    11                     12 "
      ]
     },
     "metadata": {},
     "output_type": "display_data"
    }
   ],
   "source": [
    "table(IND_metadata$sample_origin)"
   ]
  },
  {
   "cell_type": "markdown",
   "metadata": {},
   "source": [
    "## Add IHC data"
   ]
  },
  {
   "cell_type": "code",
   "execution_count": 6,
   "metadata": {},
   "outputs": [],
   "source": [
    "IND_metadata_IHC <- IND_metadata"
   ]
  },
  {
   "cell_type": "code",
   "execution_count": 7,
   "metadata": {},
   "outputs": [],
   "source": [
    "ihc <- read.table(file.path(datapath,\"IHC/IND_IHC.txt\"),sep = \"\\t\",header = T, stringsAsFactors = F, check.names = F)  "
   ]
  },
  {
   "cell_type": "code",
   "execution_count": 8,
   "metadata": {},
   "outputs": [
    {
     "data": {
      "text/html": [
       "<table class=\"dataframe\">\n",
       "<caption>A data.frame: 6 × 20</caption>\n",
       "<thead>\n",
       "\t<tr><th></th><th scope=col>STUDYID</th><th scope=col>USUBJID</th><th scope=col>AGE</th><th scope=col>AGEU</th><th scope=col>COHORT</th><th scope=col>TTYPE</th><th scope=col>SUBID</th><th scope=col>ZBREFID</th><th scope=col>ZBTESTCD</th><th scope=col>ZBTEST</th><th scope=col>ZBCAT</th><th scope=col>ZBORRES</th><th scope=col>ZBORRESU</th><th scope=col>ZBMETHOD</th><th scope=col>VISIT</th><th scope=col>ZBTARGET</th><th scope=col>ZBSTARG</th><th scope=col>PARAMCD</th><th scope=col>PARAM</th><th scope=col>AVISIT</th></tr>\n",
       "\t<tr><th></th><th scope=col>&lt;chr&gt;</th><th scope=col>&lt;chr&gt;</th><th scope=col>&lt;int&gt;</th><th scope=col>&lt;chr&gt;</th><th scope=col>&lt;chr&gt;</th><th scope=col>&lt;chr&gt;</th><th scope=col>&lt;int&gt;</th><th scope=col>&lt;chr&gt;</th><th scope=col>&lt;chr&gt;</th><th scope=col>&lt;chr&gt;</th><th scope=col>&lt;chr&gt;</th><th scope=col>&lt;chr&gt;</th><th scope=col>&lt;chr&gt;</th><th scope=col>&lt;chr&gt;</th><th scope=col>&lt;chr&gt;</th><th scope=col>&lt;chr&gt;</th><th scope=col>&lt;chr&gt;</th><th scope=col>&lt;chr&gt;</th><th scope=col>&lt;chr&gt;</th><th scope=col>&lt;chr&gt;</th></tr>\n",
       "</thead>\n",
       "<tbody>\n",
       "\t<tr><th scope=row>1</th><td>GO29664</td><td>GO29664-280959-11010304</td><td>13</td><td>YEARS</td><td>Cohort 3 (NEUROBLASTOMA)</td><td>NEUROBLASTOMA</td><td>11010304</td><td>06520047C</td><td>MSIZECNP</td><td>Percent of Marker Area Tumor Center   </td><td>PROTEIN EXPRESSION</td><td>0.01 </td><td>%</td><td>IHC</td><td>SCREENING</td><td>CD20 </td><td>CONFIRM L26 (VENTANA)</td><td>CD20  </td><td>CD20   </td><td>BASELINE</td></tr>\n",
       "\t<tr><th scope=row>2</th><td>GO29664</td><td>GO29664-280959-11010304</td><td>13</td><td>YEARS</td><td>Cohort 3 (NEUROBLASTOMA)</td><td>NEUROBLASTOMA</td><td>11010304</td><td>06520047C</td><td>MSIZECNP</td><td>Percent of Marker Area Tumor Center   </td><td>PROTEIN EXPRESSION</td><td>0.12 </td><td>%</td><td>IHC</td><td>SCREENING</td><td>CD3  </td><td>CLONE 2GV6 (CONFIRM) </td><td>CD3   </td><td>CD3    </td><td>BASELINE</td></tr>\n",
       "\t<tr><th scope=row>3</th><td>GO29664</td><td>GO29664-280959-11010304</td><td>13</td><td>YEARS</td><td>Cohort 3 (NEUROBLASTOMA)</td><td>NEUROBLASTOMA</td><td>11010304</td><td>06520047C</td><td>MSIZECNP</td><td>Percent of Marker Area Tumor Center   </td><td>PROTEIN EXPRESSION</td><td>47.41</td><td>%</td><td>IHC</td><td>SCREENING</td><td>CD56 </td><td>CLONE 123C3 (VENTANA)</td><td>CD56  </td><td>CD56   </td><td>BASELINE</td></tr>\n",
       "\t<tr><th scope=row>4</th><td>GO29664</td><td>GO29664-280959-11010304</td><td>13</td><td>YEARS</td><td>Cohort 3 (NEUROBLASTOMA)</td><td>NEUROBLASTOMA</td><td>11010304</td><td>06520047C</td><td>MSIZECNP</td><td>Percent of Marker Area Tumor Center   </td><td>PROTEIN EXPRESSION</td><td>0.13 </td><td>%</td><td>IHC</td><td>SCREENING</td><td>CD8A </td><td>CLONE C8/144B (DAKO) </td><td>CD8   </td><td>CD8    </td><td>BASELINE</td></tr>\n",
       "\t<tr><th scope=row>5</th><td>GO29664</td><td>GO29664-280959-11010304</td><td>13</td><td>YEARS</td><td>Cohort 3 (NEUROBLASTOMA)</td><td>NEUROBLASTOMA</td><td>11010304</td><td>06520047C</td><td>POSINFLP</td><td>Perc Positive Infiltrate In Tumor Mass</td><td>PROTEIN EXPRESSION</td><td>0    </td><td>%</td><td>IHC</td><td>SCREENING</td><td>CD274</td><td>CLONE SP142 (VENTANA)</td><td>PDL1IC</td><td>PDL1-IC</td><td>BASELINE</td></tr>\n",
       "\t<tr><th scope=row>6</th><td>GO29664</td><td>GO29664-280959-11010304</td><td>13</td><td>YEARS</td><td>Cohort 3 (NEUROBLASTOMA)</td><td>NEUROBLASTOMA</td><td>11010304</td><td>06520047C</td><td>MEMSTOT </td><td>Total Perc cells membrane stain       </td><td>PROTEIN EXPRESSION</td><td>0    </td><td>%</td><td>IHC</td><td>SCREENING</td><td>CD274</td><td>CLONE SP142 (VENTANA)</td><td>PDL1TC</td><td>PDL1-TC</td><td>BASELINE</td></tr>\n",
       "</tbody>\n",
       "</table>\n"
      ],
      "text/latex": [
       "A data.frame: 6 × 20\n",
       "\\begin{tabular}{r|llllllllllllllllllll}\n",
       "  & STUDYID & USUBJID & AGE & AGEU & COHORT & TTYPE & SUBID & ZBREFID & ZBTESTCD & ZBTEST & ZBCAT & ZBORRES & ZBORRESU & ZBMETHOD & VISIT & ZBTARGET & ZBSTARG & PARAMCD & PARAM & AVISIT\\\\\n",
       "  & <chr> & <chr> & <int> & <chr> & <chr> & <chr> & <int> & <chr> & <chr> & <chr> & <chr> & <chr> & <chr> & <chr> & <chr> & <chr> & <chr> & <chr> & <chr> & <chr>\\\\\n",
       "\\hline\n",
       "\t1 & GO29664 & GO29664-280959-11010304 & 13 & YEARS & Cohort 3 (NEUROBLASTOMA) & NEUROBLASTOMA & 11010304 & 06520047C & MSIZECNP & Percent of Marker Area Tumor Center    & PROTEIN EXPRESSION & 0.01  & \\% & IHC & SCREENING & CD20  & CONFIRM L26 (VENTANA) & CD20   & CD20    & BASELINE\\\\\n",
       "\t2 & GO29664 & GO29664-280959-11010304 & 13 & YEARS & Cohort 3 (NEUROBLASTOMA) & NEUROBLASTOMA & 11010304 & 06520047C & MSIZECNP & Percent of Marker Area Tumor Center    & PROTEIN EXPRESSION & 0.12  & \\% & IHC & SCREENING & CD3   & CLONE 2GV6 (CONFIRM)  & CD3    & CD3     & BASELINE\\\\\n",
       "\t3 & GO29664 & GO29664-280959-11010304 & 13 & YEARS & Cohort 3 (NEUROBLASTOMA) & NEUROBLASTOMA & 11010304 & 06520047C & MSIZECNP & Percent of Marker Area Tumor Center    & PROTEIN EXPRESSION & 47.41 & \\% & IHC & SCREENING & CD56  & CLONE 123C3 (VENTANA) & CD56   & CD56    & BASELINE\\\\\n",
       "\t4 & GO29664 & GO29664-280959-11010304 & 13 & YEARS & Cohort 3 (NEUROBLASTOMA) & NEUROBLASTOMA & 11010304 & 06520047C & MSIZECNP & Percent of Marker Area Tumor Center    & PROTEIN EXPRESSION & 0.13  & \\% & IHC & SCREENING & CD8A  & CLONE C8/144B (DAKO)  & CD8    & CD8     & BASELINE\\\\\n",
       "\t5 & GO29664 & GO29664-280959-11010304 & 13 & YEARS & Cohort 3 (NEUROBLASTOMA) & NEUROBLASTOMA & 11010304 & 06520047C & POSINFLP & Perc Positive Infiltrate In Tumor Mass & PROTEIN EXPRESSION & 0     & \\% & IHC & SCREENING & CD274 & CLONE SP142 (VENTANA) & PDL1IC & PDL1-IC & BASELINE\\\\\n",
       "\t6 & GO29664 & GO29664-280959-11010304 & 13 & YEARS & Cohort 3 (NEUROBLASTOMA) & NEUROBLASTOMA & 11010304 & 06520047C & MEMSTOT  & Total Perc cells membrane stain        & PROTEIN EXPRESSION & 0     & \\% & IHC & SCREENING & CD274 & CLONE SP142 (VENTANA) & PDL1TC & PDL1-TC & BASELINE\\\\\n",
       "\\end{tabular}\n"
      ],
      "text/markdown": [
       "\n",
       "A data.frame: 6 × 20\n",
       "\n",
       "| <!--/--> | STUDYID &lt;chr&gt; | USUBJID &lt;chr&gt; | AGE &lt;int&gt; | AGEU &lt;chr&gt; | COHORT &lt;chr&gt; | TTYPE &lt;chr&gt; | SUBID &lt;int&gt; | ZBREFID &lt;chr&gt; | ZBTESTCD &lt;chr&gt; | ZBTEST &lt;chr&gt; | ZBCAT &lt;chr&gt; | ZBORRES &lt;chr&gt; | ZBORRESU &lt;chr&gt; | ZBMETHOD &lt;chr&gt; | VISIT &lt;chr&gt; | ZBTARGET &lt;chr&gt; | ZBSTARG &lt;chr&gt; | PARAMCD &lt;chr&gt; | PARAM &lt;chr&gt; | AVISIT &lt;chr&gt; |\n",
       "|---|---|---|---|---|---|---|---|---|---|---|---|---|---|---|---|---|---|---|---|---|\n",
       "| 1 | GO29664 | GO29664-280959-11010304 | 13 | YEARS | Cohort 3 (NEUROBLASTOMA) | NEUROBLASTOMA | 11010304 | 06520047C | MSIZECNP | Percent of Marker Area Tumor Center    | PROTEIN EXPRESSION | 0.01  | % | IHC | SCREENING | CD20  | CONFIRM L26 (VENTANA) | CD20   | CD20    | BASELINE |\n",
       "| 2 | GO29664 | GO29664-280959-11010304 | 13 | YEARS | Cohort 3 (NEUROBLASTOMA) | NEUROBLASTOMA | 11010304 | 06520047C | MSIZECNP | Percent of Marker Area Tumor Center    | PROTEIN EXPRESSION | 0.12  | % | IHC | SCREENING | CD3   | CLONE 2GV6 (CONFIRM)  | CD3    | CD3     | BASELINE |\n",
       "| 3 | GO29664 | GO29664-280959-11010304 | 13 | YEARS | Cohort 3 (NEUROBLASTOMA) | NEUROBLASTOMA | 11010304 | 06520047C | MSIZECNP | Percent of Marker Area Tumor Center    | PROTEIN EXPRESSION | 47.41 | % | IHC | SCREENING | CD56  | CLONE 123C3 (VENTANA) | CD56   | CD56    | BASELINE |\n",
       "| 4 | GO29664 | GO29664-280959-11010304 | 13 | YEARS | Cohort 3 (NEUROBLASTOMA) | NEUROBLASTOMA | 11010304 | 06520047C | MSIZECNP | Percent of Marker Area Tumor Center    | PROTEIN EXPRESSION | 0.13  | % | IHC | SCREENING | CD8A  | CLONE C8/144B (DAKO)  | CD8    | CD8     | BASELINE |\n",
       "| 5 | GO29664 | GO29664-280959-11010304 | 13 | YEARS | Cohort 3 (NEUROBLASTOMA) | NEUROBLASTOMA | 11010304 | 06520047C | POSINFLP | Perc Positive Infiltrate In Tumor Mass | PROTEIN EXPRESSION | 0     | % | IHC | SCREENING | CD274 | CLONE SP142 (VENTANA) | PDL1IC | PDL1-IC | BASELINE |\n",
       "| 6 | GO29664 | GO29664-280959-11010304 | 13 | YEARS | Cohort 3 (NEUROBLASTOMA) | NEUROBLASTOMA | 11010304 | 06520047C | MEMSTOT  | Total Perc cells membrane stain        | PROTEIN EXPRESSION | 0     | % | IHC | SCREENING | CD274 | CLONE SP142 (VENTANA) | PDL1TC | PDL1-TC | BASELINE |\n",
       "\n"
      ],
      "text/plain": [
       "  STUDYID USUBJID                 AGE AGEU  COHORT                  \n",
       "1 GO29664 GO29664-280959-11010304 13  YEARS Cohort 3 (NEUROBLASTOMA)\n",
       "2 GO29664 GO29664-280959-11010304 13  YEARS Cohort 3 (NEUROBLASTOMA)\n",
       "3 GO29664 GO29664-280959-11010304 13  YEARS Cohort 3 (NEUROBLASTOMA)\n",
       "4 GO29664 GO29664-280959-11010304 13  YEARS Cohort 3 (NEUROBLASTOMA)\n",
       "5 GO29664 GO29664-280959-11010304 13  YEARS Cohort 3 (NEUROBLASTOMA)\n",
       "6 GO29664 GO29664-280959-11010304 13  YEARS Cohort 3 (NEUROBLASTOMA)\n",
       "  TTYPE         SUBID    ZBREFID   ZBTESTCD\n",
       "1 NEUROBLASTOMA 11010304 06520047C MSIZECNP\n",
       "2 NEUROBLASTOMA 11010304 06520047C MSIZECNP\n",
       "3 NEUROBLASTOMA 11010304 06520047C MSIZECNP\n",
       "4 NEUROBLASTOMA 11010304 06520047C MSIZECNP\n",
       "5 NEUROBLASTOMA 11010304 06520047C POSINFLP\n",
       "6 NEUROBLASTOMA 11010304 06520047C MEMSTOT \n",
       "  ZBTEST                                 ZBCAT              ZBORRES ZBORRESU\n",
       "1 Percent of Marker Area Tumor Center    PROTEIN EXPRESSION 0.01    %       \n",
       "2 Percent of Marker Area Tumor Center    PROTEIN EXPRESSION 0.12    %       \n",
       "3 Percent of Marker Area Tumor Center    PROTEIN EXPRESSION 47.41   %       \n",
       "4 Percent of Marker Area Tumor Center    PROTEIN EXPRESSION 0.13    %       \n",
       "5 Perc Positive Infiltrate In Tumor Mass PROTEIN EXPRESSION 0       %       \n",
       "6 Total Perc cells membrane stain        PROTEIN EXPRESSION 0       %       \n",
       "  ZBMETHOD VISIT     ZBTARGET ZBSTARG               PARAMCD PARAM   AVISIT  \n",
       "1 IHC      SCREENING CD20     CONFIRM L26 (VENTANA) CD20    CD20    BASELINE\n",
       "2 IHC      SCREENING CD3      CLONE 2GV6 (CONFIRM)  CD3     CD3     BASELINE\n",
       "3 IHC      SCREENING CD56     CLONE 123C3 (VENTANA) CD56    CD56    BASELINE\n",
       "4 IHC      SCREENING CD8A     CLONE C8/144B (DAKO)  CD8     CD8     BASELINE\n",
       "5 IHC      SCREENING CD274    CLONE SP142 (VENTANA) PDL1IC  PDL1-IC BASELINE\n",
       "6 IHC      SCREENING CD274    CLONE SP142 (VENTANA) PDL1TC  PDL1-TC BASELINE"
      ]
     },
     "metadata": {},
     "output_type": "display_data"
    }
   ],
   "source": [
    "head(ihc)"
   ]
  },
  {
   "cell_type": "markdown",
   "metadata": {},
   "source": [
    "Match IDs from metadata and IHC df and bind IHC values"
   ]
  },
  {
   "cell_type": "code",
   "execution_count": 9,
   "metadata": {},
   "outputs": [],
   "source": [
    "cd8 <- ihc[ihc$PARAMCD == \"CD8\",]\n",
    "IND_metadata_IHC$IHC_CD8 <- cd8$ZBORRES[match(IND_metadata_IHC$Patient.ID, cd8$SUBID)]"
   ]
  },
  {
   "cell_type": "code",
   "execution_count": 10,
   "metadata": {},
   "outputs": [],
   "source": [
    "cd3 <- ihc[ihc$PARAMCD == \"CD3\",]\n",
    "IND_metadata_IHC$IHC_CD3 <- cd3$ZBORRES[match(IND_metadata_IHC$Patient.ID, cd3$SUBID)]"
   ]
  },
  {
   "cell_type": "code",
   "execution_count": 11,
   "metadata": {},
   "outputs": [],
   "source": [
    "cd20 <- ihc[ihc$PARAMCD == \"CD20\",]\n",
    "IND_metadata_IHC$IHC_CD20 <- cd20$ZBORRES[match(IND_metadata_IHC$Patient.ID, cd20$SUBID)]"
   ]
  },
  {
   "cell_type": "code",
   "execution_count": 12,
   "metadata": {},
   "outputs": [],
   "source": [
    "cd56 <- ihc[ihc$PARAMCD == \"CD56\",]\n",
    "IND_metadata_IHC$IHC_CD56 <- cd56$ZBORRES[match(IND_metadata_IHC$Patient.ID, cd56$SUBID)]"
   ]
  },
  {
   "cell_type": "code",
   "execution_count": 13,
   "metadata": {},
   "outputs": [],
   "source": [
    "pdl1i <- ihc[ihc$PARAMCD == \"PDL1IC\",]\n",
    "IND_metadata_IHC$IHC_PDL1IC <- pdl1i$ZBORRES[match(IND_metadata_IHC$Patient.ID, pdl1i$SUBID)]"
   ]
  },
  {
   "cell_type": "code",
   "execution_count": 14,
   "metadata": {},
   "outputs": [],
   "source": [
    "pdl1c <- ihc[ihc$PARAMCD == \"PDL1TC\",]\n",
    "IND_metadata_IHC$IHC_PDL1TC <- pdl1c$ZBORRES[match(IND_metadata_IHC$Patient.ID, pdl1c$SUBID)]"
   ]
  },
  {
   "cell_type": "code",
   "execution_count": 15,
   "metadata": {},
   "outputs": [],
   "source": [
    "STUILYPC <- ihc[ihc$PARAMCD == \"STUILYPC\",]\n",
    "IND_metadata_IHC$IHC_STUILYPC <- STUILYPC$ZBORRES[match(IND_metadata_IHC$Patient.ID, STUILYPC$SUBID)]"
   ]
  },
  {
   "cell_type": "code",
   "execution_count": 16,
   "metadata": {},
   "outputs": [],
   "source": [
    "TINFLICP <- ihc[ihc$PARAMCD == \"TINFLICP\",]\n",
    "IND_metadata_IHC$IHC_TINFLICP <- TINFLICP$ZBORRES[match(IND_metadata_IHC$Patient.ID, TINFLICP$SUBID)]"
   ]
  },
  {
   "cell_type": "code",
   "execution_count": 17,
   "metadata": {},
   "outputs": [
    {
     "data": {
      "text/html": [
       "<style>\n",
       ".list-inline {list-style: none; margin:0; padding: 0}\n",
       ".list-inline>li {display: inline-block}\n",
       ".list-inline>li:not(:last-child)::after {content: \"\\00b7\"; padding: 0 .5ex}\n",
       "</style>\n",
       "<ol class=list-inline><li>66</li><li>48</li></ol>\n"
      ],
      "text/latex": [
       "\\begin{enumerate*}\n",
       "\\item 66\n",
       "\\item 48\n",
       "\\end{enumerate*}\n"
      ],
      "text/markdown": [
       "1. 66\n",
       "2. 48\n",
       "\n",
       "\n"
      ],
      "text/plain": [
       "[1] 66 48"
      ]
     },
     "metadata": {},
     "output_type": "display_data"
    }
   ],
   "source": [
    "dim(IND_metadata_IHC)"
   ]
  },
  {
   "cell_type": "markdown",
   "metadata": {},
   "source": [
    "## Div stats"
   ]
  },
  {
   "cell_type": "code",
   "execution_count": 18,
   "metadata": {},
   "outputs": [],
   "source": [
    "trb <- read.csv(paste0(datapath, \"CapTCR_seq/trb_sample_id.csv\"),header = T, stringsAsFactors = F)"
   ]
  },
  {
   "cell_type": "code",
   "execution_count": 19,
   "metadata": {},
   "outputs": [
    {
     "data": {
      "text/html": [
       "<table class=\"dataframe\">\n",
       "<caption>A data.frame: 6 × 23</caption>\n",
       "<thead>\n",
       "\t<tr><th></th><th scope=col>sample_id_DNA</th><th scope=col>Patient.ID</th><th scope=col>sample_id</th><th scope=col>X</th><th scope=col>TRB</th><th scope=col>Reads</th><th scope=col>CPKR</th><th scope=col>Average_reads</th><th scope=col>VMR</th><th scope=col>Max_reads</th><th scope=col>⋯</th><th scope=col>Sample_Coverage</th><th scope=col>observed_Richness</th><th scope=col>estimated_Richness</th><th scope=col>SE_Richeness</th><th scope=col>observed_Shannon</th><th scope=col>estimated_Shannon</th><th scope=col>SE_Shannon</th><th scope=col>observed_Simpson</th><th scope=col>estimated_Simpson</th><th scope=col>SE_Simpson</th></tr>\n",
       "\t<tr><th></th><th scope=col>&lt;chr&gt;</th><th scope=col>&lt;int&gt;</th><th scope=col>&lt;chr&gt;</th><th scope=col>&lt;chr&gt;</th><th scope=col>&lt;int&gt;</th><th scope=col>&lt;int&gt;</th><th scope=col>&lt;dbl&gt;</th><th scope=col>&lt;dbl&gt;</th><th scope=col>&lt;dbl&gt;</th><th scope=col>&lt;int&gt;</th><th scope=col>⋯</th><th scope=col>&lt;dbl&gt;</th><th scope=col>&lt;int&gt;</th><th scope=col>&lt;dbl&gt;</th><th scope=col>&lt;dbl&gt;</th><th scope=col>&lt;dbl&gt;</th><th scope=col>&lt;dbl&gt;</th><th scope=col>&lt;dbl&gt;</th><th scope=col>&lt;dbl&gt;</th><th scope=col>&lt;dbl&gt;</th><th scope=col>&lt;dbl&gt;</th></tr>\n",
       "</thead>\n",
       "<tbody>\n",
       "\t<tr><th scope=row>1</th><td>ICT-06520004C0016D_T</td><td>11010201</td><td>06520004C0018R</td><td>ICT-06520004C0016D_T_DNA_capTCRseq_S76_L002_1600000</td><td>283</td><td>39283</td><td> 7.204134</td><td>138.80919</td><td>0.9002639</td><td> 680</td><td>⋯</td><td>1</td><td>283</td><td>295.500</td><td>10.680</td><td>188.541</td><td>189.259</td><td>0.656</td><td>156.560</td><td>157.183</td><td>0.791</td></tr>\n",
       "\t<tr><th scope=row>2</th><td>ICT-06520007C0016D_T</td><td>11010604</td><td>06520007C0018R</td><td>ICT-06520007C0016D_T_DNA_capTCRseq_S71_L002_1600000</td><td>231</td><td>21190</td><td>10.901369</td><td> 91.73160</td><td>2.5690567</td><td>2739</td><td>⋯</td><td>1</td><td>231</td><td>243.499</td><td>10.680</td><td> 79.329</td><td> 79.794</td><td>0.856</td><td> 30.509</td><td> 30.552</td><td>0.572</td></tr>\n",
       "\t<tr><th scope=row>3</th><td>ICT-06520010B0021D_T</td><td>11011002</td><td>06520010B0023R</td><td>ICT-06520010B0021D_T_DNA_capTCRseq_S66_L002_1600000</td><td> 38</td><td> 3988</td><td> 9.528586</td><td>104.94737</td><td>0.7413485</td><td> 359</td><td>⋯</td><td>1</td><td> 38</td><td> 38.000</td><td> 0.030</td><td> 30.089</td><td> 30.229</td><td>0.318</td><td> 24.754</td><td> 24.902</td><td>0.451</td></tr>\n",
       "\t<tr><th scope=row>4</th><td>ICT-06520011B0021D_T</td><td>11010103</td><td>06520011B0023R</td><td>ICT-06520011B0021D_T_DNA_capTCRseq_S70_L002_1600000</td><td> 11</td><td>  511</td><td>21.526419</td><td> 46.45455</td><td>0.8501907</td><td> 135</td><td>⋯</td><td>1</td><td> 11</td><td> 11.000</td><td> 0.482</td><td>  7.981</td><td>  8.062</td><td>0.239</td><td>  6.638</td><td>  6.712</td><td>0.316</td></tr>\n",
       "\t<tr><th scope=row>5</th><td>ICT-06520017C0016D_T</td><td>11010503</td><td>06520017C0018R</td><td>ICT-06520017C0016D_T_DNA_capTCRseq_S72_L002_1600000</td><td>  5</td><td>  495</td><td>10.101010</td><td> 99.00000</td><td>0.7836262</td><td> 224</td><td>⋯</td><td>1</td><td>  5</td><td>  5.000</td><td> 0.000</td><td>  4.002</td><td>  4.018</td><td>0.118</td><td>  3.353</td><td>  3.369</td><td>0.155</td></tr>\n",
       "\t<tr><th scope=row>6</th><td>ICT-06520026C0012D_T</td><td>11011003</td><td>06520026C0014R</td><td>ICT-06520026C0012D_T_DNA_capTCRseq_S75_L002_1600000</td><td> 49</td><td>12419</td><td> 3.945567</td><td>253.44898</td><td>2.5840139</td><td>3619</td><td>⋯</td><td>1</td><td> 49</td><td> 50.000</td><td> 2.328</td><td> 13.925</td><td> 13.953</td><td>0.199</td><td>  6.498</td><td>  6.501</td><td>0.100</td></tr>\n",
       "</tbody>\n",
       "</table>\n"
      ],
      "text/latex": [
       "A data.frame: 6 × 23\n",
       "\\begin{tabular}{r|lllllllllllllllllllll}\n",
       "  & sample\\_id\\_DNA & Patient.ID & sample\\_id & X & TRB & Reads & CPKR & Average\\_reads & VMR & Max\\_reads & ⋯ & Sample\\_Coverage & observed\\_Richness & estimated\\_Richness & SE\\_Richeness & observed\\_Shannon & estimated\\_Shannon & SE\\_Shannon & observed\\_Simpson & estimated\\_Simpson & SE\\_Simpson\\\\\n",
       "  & <chr> & <int> & <chr> & <chr> & <int> & <int> & <dbl> & <dbl> & <dbl> & <int> & ⋯ & <dbl> & <int> & <dbl> & <dbl> & <dbl> & <dbl> & <dbl> & <dbl> & <dbl> & <dbl>\\\\\n",
       "\\hline\n",
       "\t1 & ICT-06520004C0016D\\_T & 11010201 & 06520004C0018R & ICT-06520004C0016D\\_T\\_DNA\\_capTCRseq\\_S76\\_L002\\_1600000 & 283 & 39283 &  7.204134 & 138.80919 & 0.9002639 &  680 & ⋯ & 1 & 283 & 295.500 & 10.680 & 188.541 & 189.259 & 0.656 & 156.560 & 157.183 & 0.791\\\\\n",
       "\t2 & ICT-06520007C0016D\\_T & 11010604 & 06520007C0018R & ICT-06520007C0016D\\_T\\_DNA\\_capTCRseq\\_S71\\_L002\\_1600000 & 231 & 21190 & 10.901369 &  91.73160 & 2.5690567 & 2739 & ⋯ & 1 & 231 & 243.499 & 10.680 &  79.329 &  79.794 & 0.856 &  30.509 &  30.552 & 0.572\\\\\n",
       "\t3 & ICT-06520010B0021D\\_T & 11011002 & 06520010B0023R & ICT-06520010B0021D\\_T\\_DNA\\_capTCRseq\\_S66\\_L002\\_1600000 &  38 &  3988 &  9.528586 & 104.94737 & 0.7413485 &  359 & ⋯ & 1 &  38 &  38.000 &  0.030 &  30.089 &  30.229 & 0.318 &  24.754 &  24.902 & 0.451\\\\\n",
       "\t4 & ICT-06520011B0021D\\_T & 11010103 & 06520011B0023R & ICT-06520011B0021D\\_T\\_DNA\\_capTCRseq\\_S70\\_L002\\_1600000 &  11 &   511 & 21.526419 &  46.45455 & 0.8501907 &  135 & ⋯ & 1 &  11 &  11.000 &  0.482 &   7.981 &   8.062 & 0.239 &   6.638 &   6.712 & 0.316\\\\\n",
       "\t5 & ICT-06520017C0016D\\_T & 11010503 & 06520017C0018R & ICT-06520017C0016D\\_T\\_DNA\\_capTCRseq\\_S72\\_L002\\_1600000 &   5 &   495 & 10.101010 &  99.00000 & 0.7836262 &  224 & ⋯ & 1 &   5 &   5.000 &  0.000 &   4.002 &   4.018 & 0.118 &   3.353 &   3.369 & 0.155\\\\\n",
       "\t6 & ICT-06520026C0012D\\_T & 11011003 & 06520026C0014R & ICT-06520026C0012D\\_T\\_DNA\\_capTCRseq\\_S75\\_L002\\_1600000 &  49 & 12419 &  3.945567 & 253.44898 & 2.5840139 & 3619 & ⋯ & 1 &  49 &  50.000 &  2.328 &  13.925 &  13.953 & 0.199 &   6.498 &   6.501 & 0.100\\\\\n",
       "\\end{tabular}\n"
      ],
      "text/markdown": [
       "\n",
       "A data.frame: 6 × 23\n",
       "\n",
       "| <!--/--> | sample_id_DNA &lt;chr&gt; | Patient.ID &lt;int&gt; | sample_id &lt;chr&gt; | X &lt;chr&gt; | TRB &lt;int&gt; | Reads &lt;int&gt; | CPKR &lt;dbl&gt; | Average_reads &lt;dbl&gt; | VMR &lt;dbl&gt; | Max_reads &lt;int&gt; | ⋯ ⋯ | Sample_Coverage &lt;dbl&gt; | observed_Richness &lt;int&gt; | estimated_Richness &lt;dbl&gt; | SE_Richeness &lt;dbl&gt; | observed_Shannon &lt;dbl&gt; | estimated_Shannon &lt;dbl&gt; | SE_Shannon &lt;dbl&gt; | observed_Simpson &lt;dbl&gt; | estimated_Simpson &lt;dbl&gt; | SE_Simpson &lt;dbl&gt; |\n",
       "|---|---|---|---|---|---|---|---|---|---|---|---|---|---|---|---|---|---|---|---|---|---|\n",
       "| 1 | ICT-06520004C0016D_T | 11010201 | 06520004C0018R | ICT-06520004C0016D_T_DNA_capTCRseq_S76_L002_1600000 | 283 | 39283 |  7.204134 | 138.80919 | 0.9002639 |  680 | ⋯ | 1 | 283 | 295.500 | 10.680 | 188.541 | 189.259 | 0.656 | 156.560 | 157.183 | 0.791 |\n",
       "| 2 | ICT-06520007C0016D_T | 11010604 | 06520007C0018R | ICT-06520007C0016D_T_DNA_capTCRseq_S71_L002_1600000 | 231 | 21190 | 10.901369 |  91.73160 | 2.5690567 | 2739 | ⋯ | 1 | 231 | 243.499 | 10.680 |  79.329 |  79.794 | 0.856 |  30.509 |  30.552 | 0.572 |\n",
       "| 3 | ICT-06520010B0021D_T | 11011002 | 06520010B0023R | ICT-06520010B0021D_T_DNA_capTCRseq_S66_L002_1600000 |  38 |  3988 |  9.528586 | 104.94737 | 0.7413485 |  359 | ⋯ | 1 |  38 |  38.000 |  0.030 |  30.089 |  30.229 | 0.318 |  24.754 |  24.902 | 0.451 |\n",
       "| 4 | ICT-06520011B0021D_T | 11010103 | 06520011B0023R | ICT-06520011B0021D_T_DNA_capTCRseq_S70_L002_1600000 |  11 |   511 | 21.526419 |  46.45455 | 0.8501907 |  135 | ⋯ | 1 |  11 |  11.000 |  0.482 |   7.981 |   8.062 | 0.239 |   6.638 |   6.712 | 0.316 |\n",
       "| 5 | ICT-06520017C0016D_T | 11010503 | 06520017C0018R | ICT-06520017C0016D_T_DNA_capTCRseq_S72_L002_1600000 |   5 |   495 | 10.101010 |  99.00000 | 0.7836262 |  224 | ⋯ | 1 |   5 |   5.000 |  0.000 |   4.002 |   4.018 | 0.118 |   3.353 |   3.369 | 0.155 |\n",
       "| 6 | ICT-06520026C0012D_T | 11011003 | 06520026C0014R | ICT-06520026C0012D_T_DNA_capTCRseq_S75_L002_1600000 |  49 | 12419 |  3.945567 | 253.44898 | 2.5840139 | 3619 | ⋯ | 1 |  49 |  50.000 |  2.328 |  13.925 |  13.953 | 0.199 |   6.498 |   6.501 | 0.100 |\n",
       "\n"
      ],
      "text/plain": [
       "  sample_id_DNA        Patient.ID sample_id     \n",
       "1 ICT-06520004C0016D_T 11010201   06520004C0018R\n",
       "2 ICT-06520007C0016D_T 11010604   06520007C0018R\n",
       "3 ICT-06520010B0021D_T 11011002   06520010B0023R\n",
       "4 ICT-06520011B0021D_T 11010103   06520011B0023R\n",
       "5 ICT-06520017C0016D_T 11010503   06520017C0018R\n",
       "6 ICT-06520026C0012D_T 11011003   06520026C0014R\n",
       "  X                                                   TRB Reads CPKR     \n",
       "1 ICT-06520004C0016D_T_DNA_capTCRseq_S76_L002_1600000 283 39283  7.204134\n",
       "2 ICT-06520007C0016D_T_DNA_capTCRseq_S71_L002_1600000 231 21190 10.901369\n",
       "3 ICT-06520010B0021D_T_DNA_capTCRseq_S66_L002_1600000  38  3988  9.528586\n",
       "4 ICT-06520011B0021D_T_DNA_capTCRseq_S70_L002_1600000  11   511 21.526419\n",
       "5 ICT-06520017C0016D_T_DNA_capTCRseq_S72_L002_1600000   5   495 10.101010\n",
       "6 ICT-06520026C0012D_T_DNA_capTCRseq_S75_L002_1600000  49 12419  3.945567\n",
       "  Average_reads VMR       Max_reads ⋯ Sample_Coverage observed_Richness\n",
       "1 138.80919     0.9002639  680      ⋯ 1               283              \n",
       "2  91.73160     2.5690567 2739      ⋯ 1               231              \n",
       "3 104.94737     0.7413485  359      ⋯ 1                38              \n",
       "4  46.45455     0.8501907  135      ⋯ 1                11              \n",
       "5  99.00000     0.7836262  224      ⋯ 1                 5              \n",
       "6 253.44898     2.5840139 3619      ⋯ 1                49              \n",
       "  estimated_Richness SE_Richeness observed_Shannon estimated_Shannon SE_Shannon\n",
       "1 295.500            10.680       188.541          189.259           0.656     \n",
       "2 243.499            10.680        79.329           79.794           0.856     \n",
       "3  38.000             0.030        30.089           30.229           0.318     \n",
       "4  11.000             0.482         7.981            8.062           0.239     \n",
       "5   5.000             0.000         4.002            4.018           0.118     \n",
       "6  50.000             2.328        13.925           13.953           0.199     \n",
       "  observed_Simpson estimated_Simpson SE_Simpson\n",
       "1 156.560          157.183           0.791     \n",
       "2  30.509           30.552           0.572     \n",
       "3  24.754           24.902           0.451     \n",
       "4   6.638            6.712           0.316     \n",
       "5   3.353            3.369           0.155     \n",
       "6   6.498            6.501           0.100     "
      ]
     },
     "metadata": {},
     "output_type": "display_data"
    }
   ],
   "source": [
    "head(trb)"
   ]
  },
  {
   "cell_type": "code",
   "execution_count": 20,
   "metadata": {},
   "outputs": [],
   "source": [
    "IND_metadata_IHC_trb <- merge(IND_metadata_IHC, trb, by = \"sample_id\", all = T)"
   ]
  },
  {
   "cell_type": "code",
   "execution_count": 21,
   "metadata": {},
   "outputs": [
    {
     "data": {
      "text/html": [
       "<style>\n",
       ".list-inline {list-style: none; margin:0; padding: 0}\n",
       ".list-inline>li {display: inline-block}\n",
       ".list-inline>li:not(:last-child)::after {content: \"\\00b7\"; padding: 0 .5ex}\n",
       "</style>\n",
       "<ol class=list-inline><li>66</li><li>70</li></ol>\n"
      ],
      "text/latex": [
       "\\begin{enumerate*}\n",
       "\\item 66\n",
       "\\item 70\n",
       "\\end{enumerate*}\n"
      ],
      "text/markdown": [
       "1. 66\n",
       "2. 70\n",
       "\n",
       "\n"
      ],
      "text/plain": [
       "[1] 66 70"
      ]
     },
     "metadata": {},
     "output_type": "display_data"
    }
   ],
   "source": [
    "dim(IND_metadata_IHC_trb)"
   ]
  },
  {
   "cell_type": "markdown",
   "metadata": {},
   "source": [
    "## TMB data"
   ]
  },
  {
   "cell_type": "code",
   "execution_count": 22,
   "metadata": {},
   "outputs": [],
   "source": [
    "tmb <- read.csv(paste0(datapath, \"f1_tmb_sampleid.csv\"),header = T, stringsAsFactors = F)"
   ]
  },
  {
   "cell_type": "code",
   "execution_count": 23,
   "metadata": {},
   "outputs": [
    {
     "data": {
      "text/html": [
       "<style>\n",
       ".list-inline {list-style: none; margin:0; padding: 0}\n",
       ".list-inline>li {display: inline-block}\n",
       ".list-inline>li:not(:last-child)::after {content: \"\\00b7\"; padding: 0 .5ex}\n",
       "</style>\n",
       "<ol class=list-inline><li>60</li><li>6</li></ol>\n"
      ],
      "text/latex": [
       "\\begin{enumerate*}\n",
       "\\item 60\n",
       "\\item 6\n",
       "\\end{enumerate*}\n"
      ],
      "text/markdown": [
       "1. 60\n",
       "2. 6\n",
       "\n",
       "\n"
      ],
      "text/plain": [
       "[1] 60  6"
      ]
     },
     "metadata": {},
     "output_type": "display_data"
    }
   ],
   "source": [
    "dim(tmb)"
   ]
  },
  {
   "cell_type": "code",
   "execution_count": 24,
   "metadata": {},
   "outputs": [
    {
     "data": {
      "text/html": [
       "<table class=\"dataframe\">\n",
       "<caption>A data.frame: 6 × 6</caption>\n",
       "<thead>\n",
       "\t<tr><th></th><th scope=col>ALIQUOT</th><th scope=col>SAMPLE.ID</th><th scope=col>SUBJECT.ID</th><th scope=col>QC_Status</th><th scope=col>TMB_Score</th><th scope=col>TMB_Confidence</th></tr>\n",
       "\t<tr><th></th><th scope=col>&lt;chr&gt;</th><th scope=col>&lt;chr&gt;</th><th scope=col>&lt;int&gt;</th><th scope=col>&lt;chr&gt;</th><th scope=col>&lt;chr&gt;</th><th scope=col>&lt;chr&gt;</th></tr>\n",
       "</thead>\n",
       "<tbody>\n",
       "\t<tr><th scope=row>1</th><td>TRF185855.01</td><td>06520001B</td><td> 601</td><td>PASS     </td><td>1.75</td><td>VALID      </td></tr>\n",
       "\t<tr><th scope=row>2</th><td>TRF185857.01</td><td>06520004C</td><td> 201</td><td>QUALIFIED</td><td>2.63</td><td>LOWER_BOUND</td></tr>\n",
       "\t<tr><th scope=row>3</th><td>TRF185858.01</td><td>06520005C</td><td> 701</td><td>QUALIFIED</td><td>8.77</td><td>VALID      </td></tr>\n",
       "\t<tr><th scope=row>4</th><td>TRF185859.01</td><td>06520007C</td><td> 604</td><td>PASS     </td><td>3.51</td><td>VALID      </td></tr>\n",
       "\t<tr><th scope=row>5</th><td>TRF185860.01</td><td>06520010B</td><td>1002</td><td>PASS     </td><td>2.63</td><td>VALID      </td></tr>\n",
       "\t<tr><th scope=row>6</th><td>TRF185861.01</td><td>06520011B</td><td> 103</td><td>PASS     </td><td>0.88</td><td>VALID      </td></tr>\n",
       "</tbody>\n",
       "</table>\n"
      ],
      "text/latex": [
       "A data.frame: 6 × 6\n",
       "\\begin{tabular}{r|llllll}\n",
       "  & ALIQUOT & SAMPLE.ID & SUBJECT.ID & QC\\_Status & TMB\\_Score & TMB\\_Confidence\\\\\n",
       "  & <chr> & <chr> & <int> & <chr> & <chr> & <chr>\\\\\n",
       "\\hline\n",
       "\t1 & TRF185855.01 & 06520001B &  601 & PASS      & 1.75 & VALID      \\\\\n",
       "\t2 & TRF185857.01 & 06520004C &  201 & QUALIFIED & 2.63 & LOWER\\_BOUND\\\\\n",
       "\t3 & TRF185858.01 & 06520005C &  701 & QUALIFIED & 8.77 & VALID      \\\\\n",
       "\t4 & TRF185859.01 & 06520007C &  604 & PASS      & 3.51 & VALID      \\\\\n",
       "\t5 & TRF185860.01 & 06520010B & 1002 & PASS      & 2.63 & VALID      \\\\\n",
       "\t6 & TRF185861.01 & 06520011B &  103 & PASS      & 0.88 & VALID      \\\\\n",
       "\\end{tabular}\n"
      ],
      "text/markdown": [
       "\n",
       "A data.frame: 6 × 6\n",
       "\n",
       "| <!--/--> | ALIQUOT &lt;chr&gt; | SAMPLE.ID &lt;chr&gt; | SUBJECT.ID &lt;int&gt; | QC_Status &lt;chr&gt; | TMB_Score &lt;chr&gt; | TMB_Confidence &lt;chr&gt; |\n",
       "|---|---|---|---|---|---|---|\n",
       "| 1 | TRF185855.01 | 06520001B |  601 | PASS      | 1.75 | VALID       |\n",
       "| 2 | TRF185857.01 | 06520004C |  201 | QUALIFIED | 2.63 | LOWER_BOUND |\n",
       "| 3 | TRF185858.01 | 06520005C |  701 | QUALIFIED | 8.77 | VALID       |\n",
       "| 4 | TRF185859.01 | 06520007C |  604 | PASS      | 3.51 | VALID       |\n",
       "| 5 | TRF185860.01 | 06520010B | 1002 | PASS      | 2.63 | VALID       |\n",
       "| 6 | TRF185861.01 | 06520011B |  103 | PASS      | 0.88 | VALID       |\n",
       "\n"
      ],
      "text/plain": [
       "  ALIQUOT      SAMPLE.ID SUBJECT.ID QC_Status TMB_Score TMB_Confidence\n",
       "1 TRF185855.01 06520001B  601       PASS      1.75      VALID         \n",
       "2 TRF185857.01 06520004C  201       QUALIFIED 2.63      LOWER_BOUND   \n",
       "3 TRF185858.01 06520005C  701       QUALIFIED 8.77      VALID         \n",
       "4 TRF185859.01 06520007C  604       PASS      3.51      VALID         \n",
       "5 TRF185860.01 06520010B 1002       PASS      2.63      VALID         \n",
       "6 TRF185861.01 06520011B  103       PASS      0.88      VALID         "
      ]
     },
     "metadata": {},
     "output_type": "display_data"
    }
   ],
   "source": [
    "head(tmb)"
   ]
  },
  {
   "cell_type": "markdown",
   "metadata": {},
   "source": [
    "Make a SAMPLE.ID from sample_id and merge"
   ]
  },
  {
   "cell_type": "code",
   "execution_count": 25,
   "metadata": {},
   "outputs": [],
   "source": [
    "IND_metadata_IHC_trb$SAMPLE.ID <- substr(IND_metadata_IHC_trb$sample_id,1, nchar(IND_metadata_IHC_trb$sample_id)-5)"
   ]
  },
  {
   "cell_type": "code",
   "execution_count": 26,
   "metadata": {},
   "outputs": [],
   "source": [
    "IND_metadata_IHC_trb_tmb <-merge(IND_metadata_IHC_trb, tmb, by = \"SAMPLE.ID\", all = T)"
   ]
  },
  {
   "cell_type": "markdown",
   "metadata": {},
   "source": [
    "Some cases in tmb are from progressive samples. Remove those that doesnot have sample_id in my metadata"
   ]
  },
  {
   "cell_type": "code",
   "execution_count": 27,
   "metadata": {},
   "outputs": [],
   "source": [
    "IND_metadata_IHC_trb_tmb <- IND_metadata_IHC_trb_tmb[!is.na(IND_metadata_IHC_trb_tmb$sample_id),]"
   ]
  },
  {
   "cell_type": "code",
   "execution_count": 28,
   "metadata": {},
   "outputs": [
    {
     "data": {
      "text/html": [
       "<style>\n",
       ".list-inline {list-style: none; margin:0; padding: 0}\n",
       ".list-inline>li {display: inline-block}\n",
       ".list-inline>li:not(:last-child)::after {content: \"\\00b7\"; padding: 0 .5ex}\n",
       "</style>\n",
       "<ol class=list-inline><li>66</li><li>76</li></ol>\n"
      ],
      "text/latex": [
       "\\begin{enumerate*}\n",
       "\\item 66\n",
       "\\item 76\n",
       "\\end{enumerate*}\n"
      ],
      "text/markdown": [
       "1. 66\n",
       "2. 76\n",
       "\n",
       "\n"
      ],
      "text/plain": [
       "[1] 66 76"
      ]
     },
     "metadata": {},
     "output_type": "display_data"
    }
   ],
   "source": [
    "dim(IND_metadata_IHC_trb_tmb)"
   ]
  },
  {
   "cell_type": "markdown",
   "metadata": {},
   "source": [
    "Clean up and as.numeric TMB"
   ]
  },
  {
   "cell_type": "code",
   "execution_count": 29,
   "metadata": {},
   "outputs": [],
   "source": [
    "IND_metadata_IHC_trb_tmb$TMB_Score[IND_metadata_IHC_trb_tmb$TMB_Score == \"ND\"] <- NA"
   ]
  },
  {
   "cell_type": "code",
   "execution_count": 30,
   "metadata": {},
   "outputs": [],
   "source": [
    "IND_metadata_IHC_trb_tmb$TMB_Score <- as.numeric(IND_metadata_IHC_trb_tmb$TMB_Score)"
   ]
  },
  {
   "cell_type": "code",
   "execution_count": 31,
   "metadata": {},
   "outputs": [
    {
     "data": {
      "text/plain": [
       "\n",
       "         Adrenal gland                   Bone                  Brain \n",
       "                     5                      7                      5 \n",
       "Connective/Soft tissue                 Kidney                   Lung \n",
       "                    10                      5                     11 \n",
       "            Lymph node                 Others \n",
       "                    11                     12 "
      ]
     },
     "metadata": {},
     "output_type": "display_data"
    }
   ],
   "source": [
    "table(IND_metadata_IHC_trb_tmb$sample_origin)"
   ]
  },
  {
   "cell_type": "markdown",
   "metadata": {},
   "source": [
    "Cleanup PDL1 IHC and group them according to the lancet paper"
   ]
  },
  {
   "cell_type": "code",
   "execution_count": 32,
   "metadata": {},
   "outputs": [],
   "source": [
    "IND_metadata_IHC_trb_tmb$IHC_PDL1IC[IND_metadata_IHC_trb_tmb$IHC_PDL1IC == \"<1\"] <- 0.5\n",
    "IND_metadata_IHC_trb_tmb$IHC_PDL1TC[IND_metadata_IHC_trb_tmb$IHC_PDL1TC == \"<1\"] <- 0.5"
   ]
  },
  {
   "cell_type": "code",
   "execution_count": 33,
   "metadata": {},
   "outputs": [],
   "source": [
    "IND_metadata_IHC_trb_tmb$IHC_PDL1IC <- as.numeric(IND_metadata_IHC_trb_tmb$IHC_PDL1IC)\n",
    "IND_metadata_IHC_trb_tmb$IHC_PDL1TC <- as.numeric(IND_metadata_IHC_trb_tmb$IHC_PDL1TC)"
   ]
  },
  {
   "cell_type": "code",
   "execution_count": 34,
   "metadata": {},
   "outputs": [],
   "source": [
    "IND_metadata_IHC_trb_tmb$PDL1 <- NA\n",
    "IND_metadata_IHC_trb_tmb$PDL1[IND_metadata_IHC_trb_tmb$IHC_PDL1TC >= 5 |\n",
    "             IND_metadata_IHC_trb_tmb$IHC_PDL1IC >= 10] <- \"High\"\n",
    "\n",
    "IND_metadata_IHC_trb_tmb$PDL1[(IND_metadata_IHC_trb_tmb$IHC_PDL1TC >= 1 & IND_metadata_IHC_trb_tmb$IHC_PDL1TC < 5) |\n",
    "              (IND_metadata_IHC_trb_tmb$IHC_PDL1IC >= 1 & IND_metadata_IHC_trb_tmb$IHC_PDL1IC < 5)] <- \"Low\"\n",
    "\n",
    "IND_metadata_IHC_trb_tmb$PDL1[ IND_metadata_IHC_trb_tmb$IHC_PDL1TC < 1 |\n",
    "               IND_metadata_IHC_trb_tmb$IHC_PDL1IC < 1] <- \"No expression\""
   ]
  },
  {
   "cell_type": "code",
   "execution_count": 35,
   "metadata": {},
   "outputs": [
    {
     "data": {
      "text/plain": [
       "\n",
       "         High           Low No expression \n",
       "           11             1            50 "
      ]
     },
     "metadata": {},
     "output_type": "display_data"
    }
   ],
   "source": [
    "table(IND_metadata_IHC_trb_tmb$PDL1)"
   ]
  },
  {
   "cell_type": "code",
   "execution_count": 36,
   "metadata": {},
   "outputs": [],
   "source": [
    "write.csv(IND_metadata_IHC_trb_tmb, file.path(datapath,\"IND_estimate_metadata_IHC_trb_tmb.csv\"), quote = F, row.names = F)"
   ]
  },
  {
   "cell_type": "markdown",
   "metadata": {},
   "source": [
    "# Table S1"
   ]
  },
  {
   "cell_type": "code",
   "execution_count": 37,
   "metadata": {},
   "outputs": [
    {
     "data": {
      "text/html": [
       "<table class=\"dataframe\">\n",
       "<caption>A data.frame: 6 × 77</caption>\n",
       "<thead>\n",
       "\t<tr><th></th><th scope=col>SAMPLE.ID</th><th scope=col>sample_id</th><th scope=col>Patient.ID.x</th><th scope=col>STUDYID</th><th scope=col>USUBJID</th><th scope=col>AGE</th><th scope=col>AGEU</th><th scope=col>TRTDUR</th><th scope=col>COHORT</th><th scope=col>TTYPE</th><th scope=col>⋯</th><th scope=col>SE_Shannon</th><th scope=col>observed_Simpson</th><th scope=col>estimated_Simpson</th><th scope=col>SE_Simpson</th><th scope=col>ALIQUOT</th><th scope=col>SUBJECT.ID</th><th scope=col>QC_Status</th><th scope=col>TMB_Score</th><th scope=col>TMB_Confidence</th><th scope=col>PDL1</th></tr>\n",
       "\t<tr><th></th><th scope=col>&lt;chr&gt;</th><th scope=col>&lt;chr&gt;</th><th scope=col>&lt;int&gt;</th><th scope=col>&lt;chr&gt;</th><th scope=col>&lt;chr&gt;</th><th scope=col>&lt;int&gt;</th><th scope=col>&lt;chr&gt;</th><th scope=col>&lt;int&gt;</th><th scope=col>&lt;chr&gt;</th><th scope=col>&lt;chr&gt;</th><th scope=col>⋯</th><th scope=col>&lt;dbl&gt;</th><th scope=col>&lt;dbl&gt;</th><th scope=col>&lt;dbl&gt;</th><th scope=col>&lt;dbl&gt;</th><th scope=col>&lt;chr&gt;</th><th scope=col>&lt;int&gt;</th><th scope=col>&lt;chr&gt;</th><th scope=col>&lt;dbl&gt;</th><th scope=col>&lt;chr&gt;</th><th scope=col>&lt;chr&gt;</th></tr>\n",
       "</thead>\n",
       "<tbody>\n",
       "\t<tr><th scope=row>1</th><td>06520001B</td><td>06520001B0023R</td><td>11010601</td><td>GO29664</td><td>GO29664-283971-11010601</td><td>19</td><td>YEARS</td><td>  1</td><td>Cohort 6 (OSTEOSARCOMA)     </td><td>OSTEOSARCOMA               </td><td>⋯</td><td>1.481</td><td> 10.086</td><td> 11.566</td><td>2.101</td><td>TRF185855.01</td><td>601</td><td>PASS     </td><td>1.75</td><td>VALID      </td><td>No expression</td></tr>\n",
       "\t<tr><th scope=row>2</th><td>06520003C</td><td>06520003C0012R</td><td>11010202</td><td>GO29664</td><td>GO29664-283658-11010202</td><td>17</td><td>YEARS</td><td>108</td><td>Cohort 2 (HODGKIN LYMPHOMA) </td><td>HODGKIN LYMPHOMA           </td><td>⋯</td><td>   NA</td><td>     NA</td><td>     NA</td><td>   NA</td><td>NA          </td><td> NA</td><td>NA       </td><td>  NA</td><td>NA         </td><td>High         </td></tr>\n",
       "\t<tr><th scope=row>3</th><td>06520004C</td><td>06520004C0018R</td><td>11010201</td><td>GO29664</td><td>GO29664-283658-11010201</td><td>17</td><td>YEARS</td><td>652</td><td>Cohort 2 (HODGKIN LYMPHOMA) </td><td>HODGKIN LYMPHOMA           </td><td>⋯</td><td>0.656</td><td>156.560</td><td>157.183</td><td>0.791</td><td>TRF185857.01</td><td>201</td><td>QUALIFIED</td><td>2.63</td><td>LOWER_BOUND</td><td>High         </td></tr>\n",
       "\t<tr><th scope=row>4</th><td>06520005C</td><td>06520005C0017R</td><td>11010701</td><td>GO29664</td><td>GO29664-283971-11010701</td><td>11</td><td>YEARS</td><td> 22</td><td>Cohort 7 (RHABDOMYOSARCOMA )</td><td>RHABDOMYOSARCOMA - ALVEOLAR</td><td>⋯</td><td>0.696</td><td> 11.308</td><td> 11.425</td><td>0.427</td><td>TRF185858.01</td><td>701</td><td>QUALIFIED</td><td>8.77</td><td>VALID      </td><td>No expression</td></tr>\n",
       "\t<tr><th scope=row>5</th><td>06520006C</td><td>06520006C0016R</td><td>11010702</td><td>GO29664</td><td>GO29664-283504-11010702</td><td> 5</td><td>YEARS</td><td> 23</td><td>Cohort 7 (RHABDOMYOSARCOMA )</td><td>RHABDOMYOSARCOMA - UNKNOWN </td><td>⋯</td><td>   NA</td><td>     NA</td><td>     NA</td><td>   NA</td><td>NA          </td><td> NA</td><td>NA       </td><td>  NA</td><td>NA         </td><td>No expression</td></tr>\n",
       "\t<tr><th scope=row>6</th><td>06520007C</td><td>06520007C0018R</td><td>11010604</td><td>GO29664</td><td>GO29664-283971-11010604</td><td>22</td><td>YEARS</td><td> 65</td><td>Cohort 6 (OSTEOSARCOMA)     </td><td>OSTEOSARCOMA               </td><td>⋯</td><td>0.856</td><td> 30.509</td><td> 30.552</td><td>0.572</td><td>TRF185859.01</td><td>604</td><td>PASS     </td><td>3.51</td><td>VALID      </td><td>No expression</td></tr>\n",
       "</tbody>\n",
       "</table>\n"
      ],
      "text/latex": [
       "A data.frame: 6 × 77\n",
       "\\begin{tabular}{r|lllllllllllllllllllll}\n",
       "  & SAMPLE.ID & sample\\_id & Patient.ID.x & STUDYID & USUBJID & AGE & AGEU & TRTDUR & COHORT & TTYPE & ⋯ & SE\\_Shannon & observed\\_Simpson & estimated\\_Simpson & SE\\_Simpson & ALIQUOT & SUBJECT.ID & QC\\_Status & TMB\\_Score & TMB\\_Confidence & PDL1\\\\\n",
       "  & <chr> & <chr> & <int> & <chr> & <chr> & <int> & <chr> & <int> & <chr> & <chr> & ⋯ & <dbl> & <dbl> & <dbl> & <dbl> & <chr> & <int> & <chr> & <dbl> & <chr> & <chr>\\\\\n",
       "\\hline\n",
       "\t1 & 06520001B & 06520001B0023R & 11010601 & GO29664 & GO29664-283971-11010601 & 19 & YEARS &   1 & Cohort 6 (OSTEOSARCOMA)      & OSTEOSARCOMA                & ⋯ & 1.481 &  10.086 &  11.566 & 2.101 & TRF185855.01 & 601 & PASS      & 1.75 & VALID       & No expression\\\\\n",
       "\t2 & 06520003C & 06520003C0012R & 11010202 & GO29664 & GO29664-283658-11010202 & 17 & YEARS & 108 & Cohort 2 (HODGKIN LYMPHOMA)  & HODGKIN LYMPHOMA            & ⋯ &    NA &      NA &      NA &    NA & NA           &  NA & NA        &   NA & NA          & High         \\\\\n",
       "\t3 & 06520004C & 06520004C0018R & 11010201 & GO29664 & GO29664-283658-11010201 & 17 & YEARS & 652 & Cohort 2 (HODGKIN LYMPHOMA)  & HODGKIN LYMPHOMA            & ⋯ & 0.656 & 156.560 & 157.183 & 0.791 & TRF185857.01 & 201 & QUALIFIED & 2.63 & LOWER\\_BOUND & High         \\\\\n",
       "\t4 & 06520005C & 06520005C0017R & 11010701 & GO29664 & GO29664-283971-11010701 & 11 & YEARS &  22 & Cohort 7 (RHABDOMYOSARCOMA ) & RHABDOMYOSARCOMA - ALVEOLAR & ⋯ & 0.696 &  11.308 &  11.425 & 0.427 & TRF185858.01 & 701 & QUALIFIED & 8.77 & VALID       & No expression\\\\\n",
       "\t5 & 06520006C & 06520006C0016R & 11010702 & GO29664 & GO29664-283504-11010702 &  5 & YEARS &  23 & Cohort 7 (RHABDOMYOSARCOMA ) & RHABDOMYOSARCOMA - UNKNOWN  & ⋯ &    NA &      NA &      NA &    NA & NA           &  NA & NA        &   NA & NA          & No expression\\\\\n",
       "\t6 & 06520007C & 06520007C0018R & 11010604 & GO29664 & GO29664-283971-11010604 & 22 & YEARS &  65 & Cohort 6 (OSTEOSARCOMA)      & OSTEOSARCOMA                & ⋯ & 0.856 &  30.509 &  30.552 & 0.572 & TRF185859.01 & 604 & PASS      & 3.51 & VALID       & No expression\\\\\n",
       "\\end{tabular}\n"
      ],
      "text/markdown": [
       "\n",
       "A data.frame: 6 × 77\n",
       "\n",
       "| <!--/--> | SAMPLE.ID &lt;chr&gt; | sample_id &lt;chr&gt; | Patient.ID.x &lt;int&gt; | STUDYID &lt;chr&gt; | USUBJID &lt;chr&gt; | AGE &lt;int&gt; | AGEU &lt;chr&gt; | TRTDUR &lt;int&gt; | COHORT &lt;chr&gt; | TTYPE &lt;chr&gt; | ⋯ ⋯ | SE_Shannon &lt;dbl&gt; | observed_Simpson &lt;dbl&gt; | estimated_Simpson &lt;dbl&gt; | SE_Simpson &lt;dbl&gt; | ALIQUOT &lt;chr&gt; | SUBJECT.ID &lt;int&gt; | QC_Status &lt;chr&gt; | TMB_Score &lt;dbl&gt; | TMB_Confidence &lt;chr&gt; | PDL1 &lt;chr&gt; |\n",
       "|---|---|---|---|---|---|---|---|---|---|---|---|---|---|---|---|---|---|---|---|---|---|\n",
       "| 1 | 06520001B | 06520001B0023R | 11010601 | GO29664 | GO29664-283971-11010601 | 19 | YEARS |   1 | Cohort 6 (OSTEOSARCOMA)      | OSTEOSARCOMA                | ⋯ | 1.481 |  10.086 |  11.566 | 2.101 | TRF185855.01 | 601 | PASS      | 1.75 | VALID       | No expression |\n",
       "| 2 | 06520003C | 06520003C0012R | 11010202 | GO29664 | GO29664-283658-11010202 | 17 | YEARS | 108 | Cohort 2 (HODGKIN LYMPHOMA)  | HODGKIN LYMPHOMA            | ⋯ |    NA |      NA |      NA |    NA | NA           |  NA | NA        |   NA | NA          | High          |\n",
       "| 3 | 06520004C | 06520004C0018R | 11010201 | GO29664 | GO29664-283658-11010201 | 17 | YEARS | 652 | Cohort 2 (HODGKIN LYMPHOMA)  | HODGKIN LYMPHOMA            | ⋯ | 0.656 | 156.560 | 157.183 | 0.791 | TRF185857.01 | 201 | QUALIFIED | 2.63 | LOWER_BOUND | High          |\n",
       "| 4 | 06520005C | 06520005C0017R | 11010701 | GO29664 | GO29664-283971-11010701 | 11 | YEARS |  22 | Cohort 7 (RHABDOMYOSARCOMA ) | RHABDOMYOSARCOMA - ALVEOLAR | ⋯ | 0.696 |  11.308 |  11.425 | 0.427 | TRF185858.01 | 701 | QUALIFIED | 8.77 | VALID       | No expression |\n",
       "| 5 | 06520006C | 06520006C0016R | 11010702 | GO29664 | GO29664-283504-11010702 |  5 | YEARS |  23 | Cohort 7 (RHABDOMYOSARCOMA ) | RHABDOMYOSARCOMA - UNKNOWN  | ⋯ |    NA |      NA |      NA |    NA | NA           |  NA | NA        |   NA | NA          | No expression |\n",
       "| 6 | 06520007C | 06520007C0018R | 11010604 | GO29664 | GO29664-283971-11010604 | 22 | YEARS |  65 | Cohort 6 (OSTEOSARCOMA)      | OSTEOSARCOMA                | ⋯ | 0.856 |  30.509 |  30.552 | 0.572 | TRF185859.01 | 604 | PASS      | 3.51 | VALID       | No expression |\n",
       "\n"
      ],
      "text/plain": [
       "  SAMPLE.ID sample_id      Patient.ID.x STUDYID USUBJID                 AGE\n",
       "1 06520001B 06520001B0023R 11010601     GO29664 GO29664-283971-11010601 19 \n",
       "2 06520003C 06520003C0012R 11010202     GO29664 GO29664-283658-11010202 17 \n",
       "3 06520004C 06520004C0018R 11010201     GO29664 GO29664-283658-11010201 17 \n",
       "4 06520005C 06520005C0017R 11010701     GO29664 GO29664-283971-11010701 11 \n",
       "5 06520006C 06520006C0016R 11010702     GO29664 GO29664-283504-11010702  5 \n",
       "6 06520007C 06520007C0018R 11010604     GO29664 GO29664-283971-11010604 22 \n",
       "  AGEU  TRTDUR COHORT                       TTYPE                       ⋯\n",
       "1 YEARS   1    Cohort 6 (OSTEOSARCOMA)      OSTEOSARCOMA                ⋯\n",
       "2 YEARS 108    Cohort 2 (HODGKIN LYMPHOMA)  HODGKIN LYMPHOMA            ⋯\n",
       "3 YEARS 652    Cohort 2 (HODGKIN LYMPHOMA)  HODGKIN LYMPHOMA            ⋯\n",
       "4 YEARS  22    Cohort 7 (RHABDOMYOSARCOMA ) RHABDOMYOSARCOMA - ALVEOLAR ⋯\n",
       "5 YEARS  23    Cohort 7 (RHABDOMYOSARCOMA ) RHABDOMYOSARCOMA - UNKNOWN  ⋯\n",
       "6 YEARS  65    Cohort 6 (OSTEOSARCOMA)      OSTEOSARCOMA                ⋯\n",
       "  SE_Shannon observed_Simpson estimated_Simpson SE_Simpson ALIQUOT     \n",
       "1 1.481       10.086           11.566           2.101      TRF185855.01\n",
       "2    NA           NA               NA              NA      NA          \n",
       "3 0.656      156.560          157.183           0.791      TRF185857.01\n",
       "4 0.696       11.308           11.425           0.427      TRF185858.01\n",
       "5    NA           NA               NA              NA      NA          \n",
       "6 0.856       30.509           30.552           0.572      TRF185859.01\n",
       "  SUBJECT.ID QC_Status TMB_Score TMB_Confidence PDL1         \n",
       "1 601        PASS      1.75      VALID          No expression\n",
       "2  NA        NA          NA      NA             High         \n",
       "3 201        QUALIFIED 2.63      LOWER_BOUND    High         \n",
       "4 701        QUALIFIED 8.77      VALID          No expression\n",
       "5  NA        NA          NA      NA             No expression\n",
       "6 604        PASS      3.51      VALID          No expression"
      ]
     },
     "metadata": {},
     "output_type": "display_data"
    }
   ],
   "source": [
    "head(IND_metadata_IHC_trb_tmb)"
   ]
  },
  {
   "cell_type": "code",
   "execution_count": 38,
   "metadata": {},
   "outputs": [],
   "source": [
    "TableS1 <- IND_metadata_IHC_trb_tmb[, c(\"sample_id\", \"AGE\", \"TRTDUR\", \"AVALC\", \n",
    "                                        \"COHORT\", \"TTYPE\", \"disease_group\", \"cancer\", \n",
    "                                        \"Sample.Origin\", \"sample_origin\", \n",
    "                                        \"tumor_type\", \n",
    "                                        \"IHC_CD8\", \"IHC_CD3\",'IHC_PDL1IC','IHC_PDL1TC', \n",
    "                                        \"TRB\", \"TMB_Score\", \"TMB_Confidence\")]"
   ]
  },
  {
   "cell_type": "code",
   "execution_count": 39,
   "metadata": {},
   "outputs": [],
   "source": [
    "colnames(TableS1)[ colnames(TableS1) == \"sample_id\"] <- \"Sample ID\"\n",
    "colnames(TableS1)[ colnames(TableS1) == \"AGE\"] <- \"Age (years)\"\n",
    "colnames(TableS1)[ colnames(TableS1) == \"TRTDUR\"] <- \"Treatment duration (days)\"\n",
    "colnames(TableS1)[ colnames(TableS1) == \"AVALC\"] <- \"Objective response\"\n",
    "colnames(TableS1)[ colnames(TableS1) == \"COHORT\"] <- \"Cohort\"\n",
    "colnames(TableS1)[ colnames(TableS1) == \"TTYPE\"] <- \"Cancer type\"\n",
    "colnames(TableS1)[ colnames(TableS1) == \"disease_group\"] <- \"Disease group\"\n",
    "colnames(TableS1)[ colnames(TableS1) == \"cancer\"] <- \"Cancer\"\n",
    "colnames(TableS1)[ colnames(TableS1) == \"sample_origin\"] <- \"Sample origin group\"\n",
    "colnames(TableS1)[ colnames(TableS1) == \"Sample.Origin\"] <- \"Sample origin\"\n",
    "\n",
    "colnames(TableS1)[ colnames(TableS1) == \"tumor_type\"] <- \"Tumour type\""
   ]
  },
  {
   "cell_type": "code",
   "execution_count": 40,
   "metadata": {},
   "outputs": [],
   "source": [
    "TableS1$`Tumour type`[TableS1$`Tumour type` == \"Metastatic\"] <- \"Metastasis\""
   ]
  },
  {
   "cell_type": "code",
   "execution_count": 41,
   "metadata": {},
   "outputs": [],
   "source": [
    "TableS1$`RNASeq analysis?` <- \"YES\"\n",
    "\n",
    "TableS1$`IHC CD8 analaysis?`[ is.na(TableS1$IHC_CD8)] <- \"NO\"\n",
    "TableS1$`IHC CD8 analaysis?`[ !is.na(TableS1$IHC_CD8)] <- \"YES\"\n",
    "\n",
    "TableS1$`IHC CD3 analaysis?`[ is.na(TableS1$IHC_CD3)] <- \"NO\"\n",
    "TableS1$`IHC CD3 analaysis?`[ !is.na(TableS1$IHC_CD3)] <- \"YES\"\n",
    "\n",
    "TableS1$`IHC PDL-1_IC analaysis?`[ is.na(TableS1$IHC_PDL1IC)] <- \"NO\"\n",
    "TableS1$`IHC PDL-1_IC analaysis?`[ !is.na(TableS1$IHC_PDL1IC)] <- \"YES\"\n",
    "\n",
    "TableS1$`IHC PDL-1_TC analaysis?`[ is.na(TableS1$IHC_PDL1IC)] <- \"NO\"\n",
    "TableS1$`IHC PDL-1_TC analaysis?`[ !is.na(TableS1$IHC_PDL1IC)] <- \"YES\"\n",
    "\n",
    "TableS1$`Genomic analaysis?`[ is.na(TableS1$TMB_Score)] <- \"NO\"\n",
    "TableS1$`Genomic analaysis?`[ !is.na(TableS1$TMB_Score)] <- \"YES\"\n",
    "\n",
    "TableS1$`TCR analaysis?`[ is.na(TableS1$TRB)] <- \"NO\"\n",
    "TableS1$`TCR analaysis?`[ !is.na(TableS1$TRB)] <- \"YES\""
   ]
  },
  {
   "cell_type": "code",
   "execution_count": 42,
   "metadata": {},
   "outputs": [],
   "source": [
    "write.xlsx(TableS1[, c(\"Sample ID\", \"Age (years)\", \"Treatment duration (days)\", \"Objective response\", \n",
    "                       \"Cohort\", \"Cancer type\", \"Disease group\", \"Cancer\", \n",
    "                       \"Sample origin\", \"Sample origin group\", \"Tumour type\", \n",
    "                       \"RNASeq analysis?\", \"IHC CD8 analaysis?\", \"IHC CD3 analaysis?\",\n",
    "                       \"IHC PDL-1_IC analaysis?\", \"IHC PDL-1_TC analaysis?\", \"TCR analaysis?\",\n",
    "                       \"Genomic analaysis?\")], \n",
    "          file = \"~/OneDrive - UHN/Documents/Manuscripts/INDICATE/v2/TableS1.xlsx\",\n",
    "          row.names = F)"
   ]
  },
  {
   "cell_type": "code",
   "execution_count": null,
   "metadata": {},
   "outputs": [],
   "source": []
  }
 ],
 "metadata": {
  "kernelspec": {
   "display_name": "R 4.0",
   "language": "R",
   "name": "ir40"
  },
  "language_info": {
   "codemirror_mode": "r",
   "file_extension": ".r",
   "mimetype": "text/x-r-source",
   "name": "R",
   "pygments_lexer": "r",
   "version": "4.0.3"
  },
  "toc": {
   "base_numbering": 1,
   "nav_menu": {},
   "number_sections": false,
   "sideBar": true,
   "skip_h1_title": false,
   "title_cell": "Table of Contents",
   "title_sidebar": "Contents",
   "toc_cell": true,
   "toc_position": {
    "height": "calc(100% - 180px)",
    "left": "10px",
    "top": "150px",
    "width": "196.988px"
   },
   "toc_section_display": true,
   "toc_window_display": true
  }
 },
 "nbformat": 4,
 "nbformat_minor": 2
}
