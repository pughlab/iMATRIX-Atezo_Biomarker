{
 "cells": [
  {
   "cell_type": "markdown",
   "metadata": {
    "toc": true
   },
   "source": [
    "<h1>Table of Contents<span class=\"tocSkip\"></span></h1>\n",
    "<div class=\"toc\"><ul class=\"toc-item\"><li><span><a href=\"#Dependencies\" data-toc-modified-id=\"Dependencies-1\">Dependencies</a></span></li><li><span><a href=\"#Functions\" data-toc-modified-id=\"Functions-2\">Functions</a></span></li><li><span><a href=\"#Paths\" data-toc-modified-id=\"Paths-3\">Paths</a></span></li><li><span><a href=\"#Main\" data-toc-modified-id=\"Main-4\">Main</a></span></li><li><span><a href=\"#Survival-value-of-gene-modules\" data-toc-modified-id=\"Survival-value-of-gene-modules-5\">Survival value of gene modules</a></span><ul class=\"toc-item\"><li><span><a href=\"#Univariable-model\" data-toc-modified-id=\"Univariable-model-5.1\">Univariable model</a></span></li></ul></li><li><span><a href=\"#Determine-module-membership-for-GES\" data-toc-modified-id=\"Determine-module-membership-for-GES-6\">Determine module membership for GES</a></span><ul class=\"toc-item\"><li><span><a href=\"#Quick-survival-analysis-using-important-genes\" data-toc-modified-id=\"Quick-survival-analysis-using-important-genes-6.1\">Quick survival analysis using important genes</a></span></li><li><span><a href=\"#Multivariable-model\" data-toc-modified-id=\"Multivariable-model-6.2\">Multivariable model</a></span></li></ul></li></ul></div>"
   ]
  },
  {
   "cell_type": "markdown",
   "metadata": {},
   "source": [
    "# Dependencies"
   ]
  },
  {
   "cell_type": "code",
   "execution_count": 1,
   "metadata": {},
   "outputs": [
    {
     "name": "stderr",
     "output_type": "stream",
     "text": [
      "Loading required package: ggplot2\n",
      "\n",
      "Loading required package: ggpubr\n",
      "\n",
      "Loading required package: grid\n",
      "\n",
      "Loading required package: magrittr\n",
      "\n",
      "Loading required package: checkmate\n",
      "\n"
     ]
    }
   ],
   "source": [
    "library(survival)\n",
    "library(survminer)\n",
    "library(forestplot)"
   ]
  },
  {
   "cell_type": "markdown",
   "metadata": {},
   "source": [
    "# Functions\n"
   ]
  },
  {
   "cell_type": "code",
   "execution_count": 2,
   "metadata": {},
   "outputs": [],
   "source": [
    "forest.fx <- function(cox_matrix, mytitle, signumber, totalnumber){\n",
    "    myhrs <- cox_matrix[,c(2,6,7)]\n",
    "    myhrs <- rbind(NA, myhrs)\n",
    "    mytabletext <- as.data.frame(cox_matrix[,c(2,5,8)])\n",
    "    mytabletext <- format(round(mytabletext, 3))\n",
    "    mytabletext <- cbind(rownames(mytabletext),mytabletext)\n",
    "    colnames(mytabletext) <- c(\"Signature\", \"Hazard Ratio\", \"p-value\", \"FDR\")\n",
    "    rownames(mytabletext) <- NULL\n",
    "    mytabletext <- rbind(colnames(mytabletext), mytabletext)\n",
    "    \n",
    "    fn <- local({\n",
    "        i = 0\n",
    "        nonsig <- totalnumber - signumber\n",
    "        b_clrs = c(rep(\"red\", signumber), rep(\"black\",nonsig))\n",
    "        l_clrs = c(rep(\"red\", signumber), rep(\"black\",nonsig))\n",
    "        function(..., clr.line, clr.marker){\n",
    "            i <<- i + 1\n",
    "            fpDrawNormalCI(..., clr.line = l_clrs[i], clr.marker = b_clrs[i])\n",
    "        }\n",
    "    })\n",
    "    \n",
    "    fplot <- forestplot(mytabletext, fn.ci_norm = fn, myhrs,\n",
    "                        new_page = TRUE, xlog = TRUE,\n",
    "                        title = mytitle, boxsize = 1)\n",
    "\n",
    "    return(fplot)\n",
    "}"
   ]
  },
  {
   "cell_type": "markdown",
   "metadata": {},
   "source": [
    "# Paths"
   ]
  },
  {
   "cell_type": "code",
   "execution_count": 3,
   "metadata": {},
   "outputs": [],
   "source": [
    "datapath <- \"/Users/anabbi/OneDrive - UHN/Documents/INDICATE/Data/\"\n",
    "plotpath <- \"/Users/anabbi/OneDrive - UHN/Documents/INDICATE/Plots/\""
   ]
  },
  {
   "cell_type": "markdown",
   "metadata": {},
   "source": [
    "# Main"
   ]
  },
  {
   "cell_type": "code",
   "execution_count": 4,
   "metadata": {},
   "outputs": [],
   "source": [
    "gene_module_th <- read.csv(file = paste0(datapath, \"WGCNA/TH/gene_module_treehouse_manual_signed_20.csv\"),\n",
    "                                      header = T, stringsAsFactors = F,row.names = 1,check.names = F) "
   ]
  },
  {
   "cell_type": "code",
   "execution_count": 5,
   "metadata": {},
   "outputs": [],
   "source": [
    "gene_module_th <- gene_module_th[ gene_module_th$moduleColor != \"grey\",]\n",
    "gene_module_th$moduleLabel <- paste0(\"TH_\", gene_module_th$moduleLabel)"
   ]
  },
  {
   "cell_type": "code",
   "execution_count": 6,
   "metadata": {},
   "outputs": [
    {
     "data": {
      "text/html": [
       "<table class=\"dataframe\">\n",
       "<caption>A data.frame: 6 × 5</caption>\n",
       "<thead>\n",
       "\t<tr><th></th><th scope=col>moduleLabel</th><th scope=col>moduleColor</th><th scope=col>ensembl_id_TH</th><th scope=col>ensembl_id</th><th scope=col>entrez</th></tr>\n",
       "\t<tr><th></th><th scope=col>&lt;chr&gt;</th><th scope=col>&lt;chr&gt;</th><th scope=col>&lt;chr&gt;</th><th scope=col>&lt;chr&gt;</th><th scope=col>&lt;int&gt;</th></tr>\n",
       "</thead>\n",
       "<tbody>\n",
       "\t<tr><th scope=row>ZWINT</th><td>TH_4 </td><td>yellow</td><td>ENSG00000122952.16</td><td>ENSG00000122952</td><td> 11130</td></tr>\n",
       "\t<tr><th scope=row>ZXDA</th><td>TH_6 </td><td>red   </td><td>ENSG00000198205.6 </td><td>ENSG00000198205</td><td>  7789</td></tr>\n",
       "\t<tr><th scope=row>ZXDB</th><td>TH_17</td><td>grey60</td><td>ENSG00000198455.4 </td><td>ENSG00000198455</td><td>158586</td></tr>\n",
       "\t<tr><th scope=row>ZXDC</th><td>TH_6 </td><td>red   </td><td>ENSG00000070476.14</td><td>ENSG00000070476</td><td> 79364</td></tr>\n",
       "\t<tr><th scope=row>ZYG11B</th><td>TH_17</td><td>grey60</td><td>ENSG00000162378.12</td><td>ENSG00000162378</td><td> 79699</td></tr>\n",
       "\t<tr><th scope=row>ZZZ3</th><td>TH_6 </td><td>red   </td><td>ENSG00000036549.12</td><td>ENSG00000036549</td><td> 26009</td></tr>\n",
       "</tbody>\n",
       "</table>\n"
      ],
      "text/latex": [
       "A data.frame: 6 × 5\n",
       "\\begin{tabular}{r|lllll}\n",
       "  & moduleLabel & moduleColor & ensembl\\_id\\_TH & ensembl\\_id & entrez\\\\\n",
       "  & <chr> & <chr> & <chr> & <chr> & <int>\\\\\n",
       "\\hline\n",
       "\tZWINT & TH\\_4  & yellow & ENSG00000122952.16 & ENSG00000122952 &  11130\\\\\n",
       "\tZXDA & TH\\_6  & red    & ENSG00000198205.6  & ENSG00000198205 &   7789\\\\\n",
       "\tZXDB & TH\\_17 & grey60 & ENSG00000198455.4  & ENSG00000198455 & 158586\\\\\n",
       "\tZXDC & TH\\_6  & red    & ENSG00000070476.14 & ENSG00000070476 &  79364\\\\\n",
       "\tZYG11B & TH\\_17 & grey60 & ENSG00000162378.12 & ENSG00000162378 &  79699\\\\\n",
       "\tZZZ3 & TH\\_6  & red    & ENSG00000036549.12 & ENSG00000036549 &  26009\\\\\n",
       "\\end{tabular}\n"
      ],
      "text/markdown": [
       "\n",
       "A data.frame: 6 × 5\n",
       "\n",
       "| <!--/--> | moduleLabel &lt;chr&gt; | moduleColor &lt;chr&gt; | ensembl_id_TH &lt;chr&gt; | ensembl_id &lt;chr&gt; | entrez &lt;int&gt; |\n",
       "|---|---|---|---|---|---|\n",
       "| ZWINT | TH_4  | yellow | ENSG00000122952.16 | ENSG00000122952 |  11130 |\n",
       "| ZXDA | TH_6  | red    | ENSG00000198205.6  | ENSG00000198205 |   7789 |\n",
       "| ZXDB | TH_17 | grey60 | ENSG00000198455.4  | ENSG00000198455 | 158586 |\n",
       "| ZXDC | TH_6  | red    | ENSG00000070476.14 | ENSG00000070476 |  79364 |\n",
       "| ZYG11B | TH_17 | grey60 | ENSG00000162378.12 | ENSG00000162378 |  79699 |\n",
       "| ZZZ3 | TH_6  | red    | ENSG00000036549.12 | ENSG00000036549 |  26009 |\n",
       "\n"
      ],
      "text/plain": [
       "       moduleLabel moduleColor ensembl_id_TH      ensembl_id      entrez\n",
       "ZWINT  TH_4        yellow      ENSG00000122952.16 ENSG00000122952  11130\n",
       "ZXDA   TH_6        red         ENSG00000198205.6  ENSG00000198205   7789\n",
       "ZXDB   TH_17       grey60      ENSG00000198455.4  ENSG00000198455 158586\n",
       "ZXDC   TH_6        red         ENSG00000070476.14 ENSG00000070476  79364\n",
       "ZYG11B TH_17       grey60      ENSG00000162378.12 ENSG00000162378  79699\n",
       "ZZZ3   TH_6        red         ENSG00000036549.12 ENSG00000036549  26009"
      ]
     },
     "metadata": {},
     "output_type": "display_data"
    }
   ],
   "source": [
    "tail(gene_module_th)"
   ]
  },
  {
   "cell_type": "code",
   "execution_count": 7,
   "metadata": {},
   "outputs": [
    {
     "data": {
      "text/plain": [
       "\n",
       "        black         brown          cyan     darkgreen      darkgrey \n",
       "          332           228            85            44            33 \n",
       "   darkorange darkturquoise        grey60    lightgreen           red \n",
       "           28            43           535            51          1162 \n",
       "       salmon       skyblue         white        yellow \n",
       "           58            24            28           393 "
      ]
     },
     "metadata": {},
     "output_type": "display_data"
    }
   ],
   "source": [
    "table(gene_module_th$moduleColor)"
   ]
  },
  {
   "cell_type": "code",
   "execution_count": 8,
   "metadata": {},
   "outputs": [
    {
     "data": {
      "text/html": [
       "14"
      ],
      "text/latex": [
       "14"
      ],
      "text/markdown": [
       "14"
      ],
      "text/plain": [
       "[1] 14"
      ]
     },
     "metadata": {},
     "output_type": "display_data"
    }
   ],
   "source": [
    "length(unique(gene_module_th$moduleColor))"
   ]
  },
  {
   "cell_type": "code",
   "execution_count": 9,
   "metadata": {},
   "outputs": [
    {
     "data": {
      "text/html": [
       "3044"
      ],
      "text/latex": [
       "3044"
      ],
      "text/markdown": [
       "3044"
      ],
      "text/plain": [
       "[1] 3044"
      ]
     },
     "metadata": {},
     "output_type": "display_data"
    }
   ],
   "source": [
    "nrow(gene_module_th)"
   ]
  },
  {
   "cell_type": "code",
   "execution_count": 10,
   "metadata": {},
   "outputs": [],
   "source": [
    "GO_modules <- read.csv(file.path(datapath,\"WGCNA/TH/GO_TH_cons_manual_signed_20.csv\"),\n",
    "                       header = T, stringsAsFactors = F, check.names = F, row.names = 1)  "
   ]
  },
  {
   "cell_type": "code",
   "execution_count": 11,
   "metadata": {},
   "outputs": [],
   "source": [
    "GO_modules <- GO_modules[ GO_modules$module != \"grey\",]"
   ]
  },
  {
   "cell_type": "code",
   "execution_count": 12,
   "metadata": {},
   "outputs": [],
   "source": [
    "GO_modules$moduleLabel <- gene_module_th$moduleLabel[match(GO_modules$module, gene_module_th$moduleColor)]"
   ]
  },
  {
   "cell_type": "code",
   "execution_count": 14,
   "metadata": {},
   "outputs": [],
   "source": [
    "# Add one MF for TH_28 module\n",
    "TH28_MF <- GO_modules[ GO_modules$termName == \"transcription regulator activity\",]"
   ]
  },
  {
   "cell_type": "code",
   "execution_count": 15,
   "metadata": {},
   "outputs": [
    {
     "data": {
      "text/html": [
       "<table class=\"dataframe\">\n",
       "<caption>A data.frame: 1 × 8</caption>\n",
       "<thead>\n",
       "\t<tr><th></th><th scope=col>module</th><th scope=col>modSize</th><th scope=col>enrichmentP</th><th scope=col>BonferoniP</th><th scope=col>nModGenesInTerm</th><th scope=col>termOntology</th><th scope=col>termName</th><th scope=col>moduleLabel</th></tr>\n",
       "\t<tr><th></th><th scope=col>&lt;chr&gt;</th><th scope=col>&lt;int&gt;</th><th scope=col>&lt;dbl&gt;</th><th scope=col>&lt;dbl&gt;</th><th scope=col>&lt;int&gt;</th><th scope=col>&lt;chr&gt;</th><th scope=col>&lt;chr&gt;</th><th scope=col>&lt;chr&gt;</th></tr>\n",
       "</thead>\n",
       "<tbody>\n",
       "\t<tr><th scope=row>GO:0140110</th><td>skyblue</td><td>24</td><td>8.2e-24</td><td>1.5e-19</td><td>24</td><td>MF</td><td>transcription regulator activity</td><td>TH_28</td></tr>\n",
       "</tbody>\n",
       "</table>\n"
      ],
      "text/latex": [
       "A data.frame: 1 × 8\n",
       "\\begin{tabular}{r|llllllll}\n",
       "  & module & modSize & enrichmentP & BonferoniP & nModGenesInTerm & termOntology & termName & moduleLabel\\\\\n",
       "  & <chr> & <int> & <dbl> & <dbl> & <int> & <chr> & <chr> & <chr>\\\\\n",
       "\\hline\n",
       "\tGO:0140110 & skyblue & 24 & 8.2e-24 & 1.5e-19 & 24 & MF & transcription regulator activity & TH\\_28\\\\\n",
       "\\end{tabular}\n"
      ],
      "text/markdown": [
       "\n",
       "A data.frame: 1 × 8\n",
       "\n",
       "| <!--/--> | module &lt;chr&gt; | modSize &lt;int&gt; | enrichmentP &lt;dbl&gt; | BonferoniP &lt;dbl&gt; | nModGenesInTerm &lt;int&gt; | termOntology &lt;chr&gt; | termName &lt;chr&gt; | moduleLabel &lt;chr&gt; |\n",
       "|---|---|---|---|---|---|---|---|---|\n",
       "| GO:0140110 | skyblue | 24 | 8.2e-24 | 1.5e-19 | 24 | MF | transcription regulator activity | TH_28 |\n",
       "\n"
      ],
      "text/plain": [
       "           module  modSize enrichmentP BonferoniP nModGenesInTerm termOntology\n",
       "GO:0140110 skyblue 24      8.2e-24     1.5e-19    24              MF          \n",
       "           termName                         moduleLabel\n",
       "GO:0140110 transcription regulator activity TH_28      "
      ]
     },
     "metadata": {},
     "output_type": "display_data"
    }
   ],
   "source": [
    "TH28_MF"
   ]
  },
  {
   "cell_type": "code",
   "execution_count": 16,
   "metadata": {},
   "outputs": [],
   "source": [
    "GO_modules <- GO_modules[GO_modules$termOntology == \"BP\",]"
   ]
  },
  {
   "cell_type": "code",
   "execution_count": 17,
   "metadata": {},
   "outputs": [],
   "source": [
    "GO_modules <- rbind(GO_modules, TH28_MF)"
   ]
  },
  {
   "cell_type": "code",
   "execution_count": 18,
   "metadata": {},
   "outputs": [
    {
     "data": {
      "text/html": [
       "<style>\n",
       ".list-inline {list-style: none; margin:0; padding: 0}\n",
       ".list-inline>li {display: inline-block}\n",
       ".list-inline>li:not(:last-child)::after {content: \"\\00b7\"; padding: 0 .5ex}\n",
       "</style>\n",
       "<ol class=list-inline><li>96</li><li>8</li></ol>\n"
      ],
      "text/latex": [
       "\\begin{enumerate*}\n",
       "\\item 96\n",
       "\\item 8\n",
       "\\end{enumerate*}\n"
      ],
      "text/markdown": [
       "1. 96\n",
       "2. 8\n",
       "\n",
       "\n"
      ],
      "text/plain": [
       "[1] 96  8"
      ]
     },
     "metadata": {},
     "output_type": "display_data"
    }
   ],
   "source": [
    "dim(GO_modules)"
   ]
  },
  {
   "cell_type": "code",
   "execution_count": 19,
   "metadata": {},
   "outputs": [],
   "source": [
    "GO_modules <- GO_modules[ GO_modules$nModGenesInTerm >= 9,]"
   ]
  },
  {
   "cell_type": "code",
   "execution_count": 20,
   "metadata": {},
   "outputs": [
    {
     "data": {
      "text/html": [
       "<style>\n",
       ".list-inline {list-style: none; margin:0; padding: 0}\n",
       ".list-inline>li {display: inline-block}\n",
       ".list-inline>li:not(:last-child)::after {content: \"\\00b7\"; padding: 0 .5ex}\n",
       "</style>\n",
       "<ol class=list-inline><li>85</li><li>8</li></ol>\n"
      ],
      "text/latex": [
       "\\begin{enumerate*}\n",
       "\\item 85\n",
       "\\item 8\n",
       "\\end{enumerate*}\n"
      ],
      "text/markdown": [
       "1. 85\n",
       "2. 8\n",
       "\n",
       "\n"
      ],
      "text/plain": [
       "[1] 85  8"
      ]
     },
     "metadata": {},
     "output_type": "display_data"
    }
   ],
   "source": [
    "dim(GO_modules)"
   ]
  },
  {
   "cell_type": "code",
   "execution_count": 21,
   "metadata": {},
   "outputs": [],
   "source": [
    "GO_modules$myterm <- NA\n",
    "\n",
    "for(i in unique(GO_modules$moduleLabel)){\n",
    "    tmp <- GO_modules[ GO_modules$moduleLabel == i,]\n",
    "    moduleterm <- tmp$termName[tmp$nModGenesInTerm == min(tmp$nModGenesInTerm)][1] #use one term if min returns two terms\n",
    "    GO_modules$myterm[GO_modules$moduleLabel == i] <- moduleterm\n",
    "    \n",
    "}"
   ]
  },
  {
   "cell_type": "code",
   "execution_count": 22,
   "metadata": {},
   "outputs": [
    {
     "data": {
      "text/html": [
       "<table class=\"dataframe\">\n",
       "<caption>A data.frame: 6 × 9</caption>\n",
       "<thead>\n",
       "\t<tr><th></th><th scope=col>module</th><th scope=col>modSize</th><th scope=col>enrichmentP</th><th scope=col>BonferoniP</th><th scope=col>nModGenesInTerm</th><th scope=col>termOntology</th><th scope=col>termName</th><th scope=col>moduleLabel</th><th scope=col>myterm</th></tr>\n",
       "\t<tr><th></th><th scope=col>&lt;chr&gt;</th><th scope=col>&lt;int&gt;</th><th scope=col>&lt;dbl&gt;</th><th scope=col>&lt;dbl&gt;</th><th scope=col>&lt;int&gt;</th><th scope=col>&lt;chr&gt;</th><th scope=col>&lt;chr&gt;</th><th scope=col>&lt;chr&gt;</th><th scope=col>&lt;chr&gt;</th></tr>\n",
       "</thead>\n",
       "<tbody>\n",
       "\t<tr><th scope=row>GO:0016050</th><td>black</td><td>331</td><td>4.6e-13</td><td>8.5e-09</td><td>31</td><td>BP</td><td>vesicle organization            </td><td>TH_7</td><td>vesicle organization</td></tr>\n",
       "\t<tr><th scope=row>GO:0010256</th><td>black</td><td>331</td><td>9.7e-12</td><td>1.8e-07</td><td>34</td><td>BP</td><td>endomembrane system organization</td><td>TH_7</td><td>vesicle organization</td></tr>\n",
       "\t<tr><th scope=row>GO:0042886</th><td>black</td><td>331</td><td>3.1e-11</td><td>5.8e-07</td><td>80</td><td>BP</td><td>amide transport                 </td><td>TH_7</td><td>vesicle organization</td></tr>\n",
       "\t<tr><th scope=row>GO:0015031</th><td>black</td><td>331</td><td>3.2e-11</td><td>5.8e-07</td><td>78</td><td>BP</td><td>protein transport               </td><td>TH_7</td><td>vesicle organization</td></tr>\n",
       "\t<tr><th scope=row>GO:0046907</th><td>black</td><td>331</td><td>7.2e-11</td><td>1.3e-06</td><td>72</td><td>BP</td><td>intracellular transport         </td><td>TH_7</td><td>vesicle organization</td></tr>\n",
       "\t<tr><th scope=row>GO:0015833</th><td>black</td><td>331</td><td>8.7e-11</td><td>1.6e-06</td><td>78</td><td>BP</td><td>peptide transport               </td><td>TH_7</td><td>vesicle organization</td></tr>\n",
       "</tbody>\n",
       "</table>\n"
      ],
      "text/latex": [
       "A data.frame: 6 × 9\n",
       "\\begin{tabular}{r|lllllllll}\n",
       "  & module & modSize & enrichmentP & BonferoniP & nModGenesInTerm & termOntology & termName & moduleLabel & myterm\\\\\n",
       "  & <chr> & <int> & <dbl> & <dbl> & <int> & <chr> & <chr> & <chr> & <chr>\\\\\n",
       "\\hline\n",
       "\tGO:0016050 & black & 331 & 4.6e-13 & 8.5e-09 & 31 & BP & vesicle organization             & TH\\_7 & vesicle organization\\\\\n",
       "\tGO:0010256 & black & 331 & 9.7e-12 & 1.8e-07 & 34 & BP & endomembrane system organization & TH\\_7 & vesicle organization\\\\\n",
       "\tGO:0042886 & black & 331 & 3.1e-11 & 5.8e-07 & 80 & BP & amide transport                  & TH\\_7 & vesicle organization\\\\\n",
       "\tGO:0015031 & black & 331 & 3.2e-11 & 5.8e-07 & 78 & BP & protein transport                & TH\\_7 & vesicle organization\\\\\n",
       "\tGO:0046907 & black & 331 & 7.2e-11 & 1.3e-06 & 72 & BP & intracellular transport          & TH\\_7 & vesicle organization\\\\\n",
       "\tGO:0015833 & black & 331 & 8.7e-11 & 1.6e-06 & 78 & BP & peptide transport                & TH\\_7 & vesicle organization\\\\\n",
       "\\end{tabular}\n"
      ],
      "text/markdown": [
       "\n",
       "A data.frame: 6 × 9\n",
       "\n",
       "| <!--/--> | module &lt;chr&gt; | modSize &lt;int&gt; | enrichmentP &lt;dbl&gt; | BonferoniP &lt;dbl&gt; | nModGenesInTerm &lt;int&gt; | termOntology &lt;chr&gt; | termName &lt;chr&gt; | moduleLabel &lt;chr&gt; | myterm &lt;chr&gt; |\n",
       "|---|---|---|---|---|---|---|---|---|---|\n",
       "| GO:0016050 | black | 331 | 4.6e-13 | 8.5e-09 | 31 | BP | vesicle organization             | TH_7 | vesicle organization |\n",
       "| GO:0010256 | black | 331 | 9.7e-12 | 1.8e-07 | 34 | BP | endomembrane system organization | TH_7 | vesicle organization |\n",
       "| GO:0042886 | black | 331 | 3.1e-11 | 5.8e-07 | 80 | BP | amide transport                  | TH_7 | vesicle organization |\n",
       "| GO:0015031 | black | 331 | 3.2e-11 | 5.8e-07 | 78 | BP | protein transport                | TH_7 | vesicle organization |\n",
       "| GO:0046907 | black | 331 | 7.2e-11 | 1.3e-06 | 72 | BP | intracellular transport          | TH_7 | vesicle organization |\n",
       "| GO:0015833 | black | 331 | 8.7e-11 | 1.6e-06 | 78 | BP | peptide transport                | TH_7 | vesicle organization |\n",
       "\n"
      ],
      "text/plain": [
       "           module modSize enrichmentP BonferoniP nModGenesInTerm termOntology\n",
       "GO:0016050 black  331     4.6e-13     8.5e-09    31              BP          \n",
       "GO:0010256 black  331     9.7e-12     1.8e-07    34              BP          \n",
       "GO:0042886 black  331     3.1e-11     5.8e-07    80              BP          \n",
       "GO:0015031 black  331     3.2e-11     5.8e-07    78              BP          \n",
       "GO:0046907 black  331     7.2e-11     1.3e-06    72              BP          \n",
       "GO:0015833 black  331     8.7e-11     1.6e-06    78              BP          \n",
       "           termName                         moduleLabel myterm              \n",
       "GO:0016050 vesicle organization             TH_7        vesicle organization\n",
       "GO:0010256 endomembrane system organization TH_7        vesicle organization\n",
       "GO:0042886 amide transport                  TH_7        vesicle organization\n",
       "GO:0015031 protein transport                TH_7        vesicle organization\n",
       "GO:0046907 intracellular transport          TH_7        vesicle organization\n",
       "GO:0015833 peptide transport                TH_7        vesicle organization"
      ]
     },
     "metadata": {},
     "output_type": "display_data"
    }
   ],
   "source": [
    "head(GO_modules)"
   ]
  },
  {
   "cell_type": "code",
   "execution_count": 23,
   "metadata": {},
   "outputs": [
    {
     "data": {
      "text/html": [
       "<style>\n",
       ".list-inline {list-style: none; margin:0; padding: 0}\n",
       ".list-inline>li {display: inline-block}\n",
       ".list-inline>li:not(:last-child)::after {content: \"\\00b7\"; padding: 0 .5ex}\n",
       "</style>\n",
       "<ol class=list-inline><li>3044</li><li>5</li></ol>\n"
      ],
      "text/latex": [
       "\\begin{enumerate*}\n",
       "\\item 3044\n",
       "\\item 5\n",
       "\\end{enumerate*}\n"
      ],
      "text/markdown": [
       "1. 3044\n",
       "2. 5\n",
       "\n",
       "\n"
      ],
      "text/plain": [
       "[1] 3044    5"
      ]
     },
     "metadata": {},
     "output_type": "display_data"
    }
   ],
   "source": [
    "dim(gene_module_th)"
   ]
  },
  {
   "cell_type": "code",
   "execution_count": 24,
   "metadata": {},
   "outputs": [
    {
     "data": {
      "text/html": [
       "<table class=\"dataframe\">\n",
       "<caption>A data.frame: 6 × 9</caption>\n",
       "<thead>\n",
       "\t<tr><th></th><th scope=col>module</th><th scope=col>modSize</th><th scope=col>enrichmentP</th><th scope=col>BonferoniP</th><th scope=col>nModGenesInTerm</th><th scope=col>termOntology</th><th scope=col>termName</th><th scope=col>moduleLabel</th><th scope=col>myterm</th></tr>\n",
       "\t<tr><th></th><th scope=col>&lt;chr&gt;</th><th scope=col>&lt;int&gt;</th><th scope=col>&lt;dbl&gt;</th><th scope=col>&lt;dbl&gt;</th><th scope=col>&lt;int&gt;</th><th scope=col>&lt;chr&gt;</th><th scope=col>&lt;chr&gt;</th><th scope=col>&lt;chr&gt;</th><th scope=col>&lt;chr&gt;</th></tr>\n",
       "</thead>\n",
       "<tbody>\n",
       "\t<tr><th scope=row>GO:0016050</th><td>black</td><td>331</td><td>4.6e-13</td><td>8.5e-09</td><td>31</td><td>BP</td><td>vesicle organization            </td><td>TH_7</td><td>vesicle organization</td></tr>\n",
       "\t<tr><th scope=row>GO:0010256</th><td>black</td><td>331</td><td>9.7e-12</td><td>1.8e-07</td><td>34</td><td>BP</td><td>endomembrane system organization</td><td>TH_7</td><td>vesicle organization</td></tr>\n",
       "\t<tr><th scope=row>GO:0042886</th><td>black</td><td>331</td><td>3.1e-11</td><td>5.8e-07</td><td>80</td><td>BP</td><td>amide transport                 </td><td>TH_7</td><td>vesicle organization</td></tr>\n",
       "\t<tr><th scope=row>GO:0015031</th><td>black</td><td>331</td><td>3.2e-11</td><td>5.8e-07</td><td>78</td><td>BP</td><td>protein transport               </td><td>TH_7</td><td>vesicle organization</td></tr>\n",
       "\t<tr><th scope=row>GO:0046907</th><td>black</td><td>331</td><td>7.2e-11</td><td>1.3e-06</td><td>72</td><td>BP</td><td>intracellular transport         </td><td>TH_7</td><td>vesicle organization</td></tr>\n",
       "\t<tr><th scope=row>GO:0015833</th><td>black</td><td>331</td><td>8.7e-11</td><td>1.6e-06</td><td>78</td><td>BP</td><td>peptide transport               </td><td>TH_7</td><td>vesicle organization</td></tr>\n",
       "</tbody>\n",
       "</table>\n"
      ],
      "text/latex": [
       "A data.frame: 6 × 9\n",
       "\\begin{tabular}{r|lllllllll}\n",
       "  & module & modSize & enrichmentP & BonferoniP & nModGenesInTerm & termOntology & termName & moduleLabel & myterm\\\\\n",
       "  & <chr> & <int> & <dbl> & <dbl> & <int> & <chr> & <chr> & <chr> & <chr>\\\\\n",
       "\\hline\n",
       "\tGO:0016050 & black & 331 & 4.6e-13 & 8.5e-09 & 31 & BP & vesicle organization             & TH\\_7 & vesicle organization\\\\\n",
       "\tGO:0010256 & black & 331 & 9.7e-12 & 1.8e-07 & 34 & BP & endomembrane system organization & TH\\_7 & vesicle organization\\\\\n",
       "\tGO:0042886 & black & 331 & 3.1e-11 & 5.8e-07 & 80 & BP & amide transport                  & TH\\_7 & vesicle organization\\\\\n",
       "\tGO:0015031 & black & 331 & 3.2e-11 & 5.8e-07 & 78 & BP & protein transport                & TH\\_7 & vesicle organization\\\\\n",
       "\tGO:0046907 & black & 331 & 7.2e-11 & 1.3e-06 & 72 & BP & intracellular transport          & TH\\_7 & vesicle organization\\\\\n",
       "\tGO:0015833 & black & 331 & 8.7e-11 & 1.6e-06 & 78 & BP & peptide transport                & TH\\_7 & vesicle organization\\\\\n",
       "\\end{tabular}\n"
      ],
      "text/markdown": [
       "\n",
       "A data.frame: 6 × 9\n",
       "\n",
       "| <!--/--> | module &lt;chr&gt; | modSize &lt;int&gt; | enrichmentP &lt;dbl&gt; | BonferoniP &lt;dbl&gt; | nModGenesInTerm &lt;int&gt; | termOntology &lt;chr&gt; | termName &lt;chr&gt; | moduleLabel &lt;chr&gt; | myterm &lt;chr&gt; |\n",
       "|---|---|---|---|---|---|---|---|---|---|\n",
       "| GO:0016050 | black | 331 | 4.6e-13 | 8.5e-09 | 31 | BP | vesicle organization             | TH_7 | vesicle organization |\n",
       "| GO:0010256 | black | 331 | 9.7e-12 | 1.8e-07 | 34 | BP | endomembrane system organization | TH_7 | vesicle organization |\n",
       "| GO:0042886 | black | 331 | 3.1e-11 | 5.8e-07 | 80 | BP | amide transport                  | TH_7 | vesicle organization |\n",
       "| GO:0015031 | black | 331 | 3.2e-11 | 5.8e-07 | 78 | BP | protein transport                | TH_7 | vesicle organization |\n",
       "| GO:0046907 | black | 331 | 7.2e-11 | 1.3e-06 | 72 | BP | intracellular transport          | TH_7 | vesicle organization |\n",
       "| GO:0015833 | black | 331 | 8.7e-11 | 1.6e-06 | 78 | BP | peptide transport                | TH_7 | vesicle organization |\n",
       "\n"
      ],
      "text/plain": [
       "           module modSize enrichmentP BonferoniP nModGenesInTerm termOntology\n",
       "GO:0016050 black  331     4.6e-13     8.5e-09    31              BP          \n",
       "GO:0010256 black  331     9.7e-12     1.8e-07    34              BP          \n",
       "GO:0042886 black  331     3.1e-11     5.8e-07    80              BP          \n",
       "GO:0015031 black  331     3.2e-11     5.8e-07    78              BP          \n",
       "GO:0046907 black  331     7.2e-11     1.3e-06    72              BP          \n",
       "GO:0015833 black  331     8.7e-11     1.6e-06    78              BP          \n",
       "           termName                         moduleLabel myterm              \n",
       "GO:0016050 vesicle organization             TH_7        vesicle organization\n",
       "GO:0010256 endomembrane system organization TH_7        vesicle organization\n",
       "GO:0042886 amide transport                  TH_7        vesicle organization\n",
       "GO:0015031 protein transport                TH_7        vesicle organization\n",
       "GO:0046907 intracellular transport          TH_7        vesicle organization\n",
       "GO:0015833 peptide transport                TH_7        vesicle organization"
      ]
     },
     "metadata": {},
     "output_type": "display_data"
    }
   ],
   "source": [
    "head(GO_modules)"
   ]
  },
  {
   "cell_type": "code",
   "execution_count": 25,
   "metadata": {},
   "outputs": [
    {
     "data": {
      "text/html": [
       "<style>\n",
       ".list-inline {list-style: none; margin:0; padding: 0}\n",
       ".list-inline>li {display: inline-block}\n",
       ".list-inline>li:not(:last-child)::after {content: \"\\00b7\"; padding: 0 .5ex}\n",
       "</style>\n",
       "<ol class=list-inline><li>85</li><li>9</li></ol>\n"
      ],
      "text/latex": [
       "\\begin{enumerate*}\n",
       "\\item 85\n",
       "\\item 9\n",
       "\\end{enumerate*}\n"
      ],
      "text/markdown": [
       "1. 85\n",
       "2. 9\n",
       "\n",
       "\n"
      ],
      "text/plain": [
       "[1] 85  9"
      ]
     },
     "metadata": {},
     "output_type": "display_data"
    }
   ],
   "source": [
    "dim(GO_modules)"
   ]
  },
  {
   "cell_type": "markdown",
   "metadata": {},
   "source": [
    "# Survival value of gene modules"
   ]
  },
  {
   "cell_type": "code",
   "execution_count": 26,
   "metadata": {},
   "outputs": [],
   "source": [
    "metadata <- read.csv(file.path(datapath,\"IND_estimate_metadata_IHC_trb_tmb.csv\"),header = T, stringsAsFactors = F, \n",
    "                     check.names = F)"
   ]
  },
  {
   "cell_type": "markdown",
   "metadata": {},
   "source": [
    "expression matrix in tpm hg38\n",
    "\n",
    "added ensg ids. see notes"
   ]
  },
  {
   "cell_type": "code",
   "execution_count": 27,
   "metadata": {},
   "outputs": [],
   "source": [
    "tpm_mat <- read.csv(file = paste0(datapath, \"exp_mat/INDICATE.tpm_hg38_ENSG_HUGO.csv\"), \n",
    "                    header = T, stringsAsFactors = F,check.names = F) "
   ]
  },
  {
   "cell_type": "code",
   "execution_count": 28,
   "metadata": {},
   "outputs": [
    {
     "data": {
      "text/html": [
       "<style>\n",
       ".list-inline {list-style: none; margin:0; padding: 0}\n",
       ".list-inline>li {display: inline-block}\n",
       ".list-inline>li:not(:last-child)::after {content: \"\\00b7\"; padding: 0 .5ex}\n",
       "</style>\n",
       "<ol class=list-inline><li>26475</li><li>75</li></ol>\n"
      ],
      "text/latex": [
       "\\begin{enumerate*}\n",
       "\\item 26475\n",
       "\\item 75\n",
       "\\end{enumerate*}\n"
      ],
      "text/markdown": [
       "1. 26475\n",
       "2. 75\n",
       "\n",
       "\n"
      ],
      "text/plain": [
       "[1] 26475    75"
      ]
     },
     "metadata": {},
     "output_type": "display_data"
    }
   ],
   "source": [
    "dim(tpm_mat)"
   ]
  },
  {
   "cell_type": "code",
   "execution_count": 29,
   "metadata": {},
   "outputs": [
    {
     "data": {
      "text/html": [
       "<table class=\"dataframe\">\n",
       "<caption>A data.frame: 10 × 10</caption>\n",
       "<thead>\n",
       "\t<tr><th></th><th scope=col>ensembl_id</th><th scope=col>HGNC_symbol</th><th scope=col>go29664_ngs_rna_targrna_rnaaccess_06520001b0023r_20171125.genes.results</th><th scope=col>go29664_ngs_rna_targrna_rnaaccess_06520003c0012r_20171125.genes.results</th><th scope=col>go29664_ngs_rna_targrna_rnaaccess_06520004c0018r_20171125.genes.results</th><th scope=col>go29664_ngs_rna_targrna_rnaaccess_06520005c0017r_20171125.genes.results</th><th scope=col>go29664_ngs_rna_targrna_rnaaccess_06520006c0016r_20171125.genes.results</th><th scope=col>go29664_ngs_rna_targrna_rnaaccess_06520007c0018r_20171125.genes.results</th><th scope=col>go29664_ngs_rna_targrna_rnaaccess_06520008c0017r_20171125.genes.results</th><th scope=col>go29664_ngs_rna_targrna_rnaaccess_06520010b0023r_20171125.genes.results</th></tr>\n",
       "\t<tr><th></th><th scope=col>&lt;chr&gt;</th><th scope=col>&lt;chr&gt;</th><th scope=col>&lt;dbl&gt;</th><th scope=col>&lt;dbl&gt;</th><th scope=col>&lt;dbl&gt;</th><th scope=col>&lt;dbl&gt;</th><th scope=col>&lt;dbl&gt;</th><th scope=col>&lt;dbl&gt;</th><th scope=col>&lt;dbl&gt;</th><th scope=col>&lt;dbl&gt;</th></tr>\n",
       "</thead>\n",
       "<tbody>\n",
       "\t<tr><th scope=row>1</th><td>ENSG00000121410.11</td><td>A1BG    </td><td>  0.06</td><td> 1.23</td><td> 0.69</td><td> 0.36</td><td> 0.32</td><td>  0.76</td><td>  0.00</td><td> 2.46</td></tr>\n",
       "\t<tr><th scope=row>2</th><td>ENSG00000268895.5 </td><td>A1BG-AS1</td><td>  0.14</td><td> 1.41</td><td> 1.21</td><td> 1.36</td><td> 0.38</td><td>  0.55</td><td>  0.00</td><td> 0.77</td></tr>\n",
       "\t<tr><th scope=row>3</th><td>ENSG00000148584.14</td><td>A1CF    </td><td>  0.00</td><td> 0.00</td><td> 0.00</td><td> 0.00</td><td> 0.00</td><td>  0.00</td><td>  0.00</td><td> 0.00</td></tr>\n",
       "\t<tr><th scope=row>4</th><td>ENSG00000175899.14</td><td>A2M     </td><td>114.92</td><td>98.31</td><td>50.73</td><td>30.12</td><td>35.55</td><td>384.47</td><td>212.23</td><td>71.93</td></tr>\n",
       "\t<tr><th scope=row>5</th><td>ENSG00000245105.2 </td><td>A2M-AS1 </td><td>  0.10</td><td> 1.07</td><td> 0.49</td><td> 0.87</td><td> 0.43</td><td>  0.58</td><td>  0.00</td><td> 0.49</td></tr>\n",
       "\t<tr><th scope=row>6</th><td>ENSG00000166535.19</td><td>A2ML1   </td><td>  0.00</td><td> 0.00</td><td> 0.00</td><td> 0.04</td><td> 0.02</td><td>  0.00</td><td>  0.00</td><td> 3.73</td></tr>\n",
       "\t<tr><th scope=row>7</th><td>ENSG00000256069.7 </td><td>A2MP1   </td><td>  0.00</td><td> 0.00</td><td> 0.00</td><td> 0.00</td><td> 0.00</td><td>  0.00</td><td>  0.00</td><td> 0.00</td></tr>\n",
       "\t<tr><th scope=row>8</th><td>ENSG00000184389.9 </td><td>A3GALT2 </td><td>  0.10</td><td> 0.00</td><td> 0.02</td><td> 0.02</td><td> 0.00</td><td>  0.02</td><td>  0.00</td><td> 0.00</td></tr>\n",
       "\t<tr><th scope=row>9</th><td>ENSG00000128274.15</td><td>A4GALT  </td><td>  2.81</td><td> 8.51</td><td> 6.03</td><td> 0.79</td><td> 0.86</td><td>  1.27</td><td>  0.02</td><td> 2.80</td></tr>\n",
       "\t<tr><th scope=row>10</th><td>ENSG00000118017.3 </td><td>A4GNT   </td><td>  0.00</td><td> 0.00</td><td> 0.00</td><td> 0.00</td><td> 0.00</td><td>  0.01</td><td>  0.00</td><td> 0.00</td></tr>\n",
       "</tbody>\n",
       "</table>\n"
      ],
      "text/latex": [
       "A data.frame: 10 × 10\n",
       "\\begin{tabular}{r|llllllllll}\n",
       "  & ensembl\\_id & HGNC\\_symbol & go29664\\_ngs\\_rna\\_targrna\\_rnaaccess\\_06520001b0023r\\_20171125.genes.results & go29664\\_ngs\\_rna\\_targrna\\_rnaaccess\\_06520003c0012r\\_20171125.genes.results & go29664\\_ngs\\_rna\\_targrna\\_rnaaccess\\_06520004c0018r\\_20171125.genes.results & go29664\\_ngs\\_rna\\_targrna\\_rnaaccess\\_06520005c0017r\\_20171125.genes.results & go29664\\_ngs\\_rna\\_targrna\\_rnaaccess\\_06520006c0016r\\_20171125.genes.results & go29664\\_ngs\\_rna\\_targrna\\_rnaaccess\\_06520007c0018r\\_20171125.genes.results & go29664\\_ngs\\_rna\\_targrna\\_rnaaccess\\_06520008c0017r\\_20171125.genes.results & go29664\\_ngs\\_rna\\_targrna\\_rnaaccess\\_06520010b0023r\\_20171125.genes.results\\\\\n",
       "  & <chr> & <chr> & <dbl> & <dbl> & <dbl> & <dbl> & <dbl> & <dbl> & <dbl> & <dbl>\\\\\n",
       "\\hline\n",
       "\t1 & ENSG00000121410.11 & A1BG     &   0.06 &  1.23 &  0.69 &  0.36 &  0.32 &   0.76 &   0.00 &  2.46\\\\\n",
       "\t2 & ENSG00000268895.5  & A1BG-AS1 &   0.14 &  1.41 &  1.21 &  1.36 &  0.38 &   0.55 &   0.00 &  0.77\\\\\n",
       "\t3 & ENSG00000148584.14 & A1CF     &   0.00 &  0.00 &  0.00 &  0.00 &  0.00 &   0.00 &   0.00 &  0.00\\\\\n",
       "\t4 & ENSG00000175899.14 & A2M      & 114.92 & 98.31 & 50.73 & 30.12 & 35.55 & 384.47 & 212.23 & 71.93\\\\\n",
       "\t5 & ENSG00000245105.2  & A2M-AS1  &   0.10 &  1.07 &  0.49 &  0.87 &  0.43 &   0.58 &   0.00 &  0.49\\\\\n",
       "\t6 & ENSG00000166535.19 & A2ML1    &   0.00 &  0.00 &  0.00 &  0.04 &  0.02 &   0.00 &   0.00 &  3.73\\\\\n",
       "\t7 & ENSG00000256069.7  & A2MP1    &   0.00 &  0.00 &  0.00 &  0.00 &  0.00 &   0.00 &   0.00 &  0.00\\\\\n",
       "\t8 & ENSG00000184389.9  & A3GALT2  &   0.10 &  0.00 &  0.02 &  0.02 &  0.00 &   0.02 &   0.00 &  0.00\\\\\n",
       "\t9 & ENSG00000128274.15 & A4GALT   &   2.81 &  8.51 &  6.03 &  0.79 &  0.86 &   1.27 &   0.02 &  2.80\\\\\n",
       "\t10 & ENSG00000118017.3  & A4GNT    &   0.00 &  0.00 &  0.00 &  0.00 &  0.00 &   0.01 &   0.00 &  0.00\\\\\n",
       "\\end{tabular}\n"
      ],
      "text/markdown": [
       "\n",
       "A data.frame: 10 × 10\n",
       "\n",
       "| <!--/--> | ensembl_id &lt;chr&gt; | HGNC_symbol &lt;chr&gt; | go29664_ngs_rna_targrna_rnaaccess_06520001b0023r_20171125.genes.results &lt;dbl&gt; | go29664_ngs_rna_targrna_rnaaccess_06520003c0012r_20171125.genes.results &lt;dbl&gt; | go29664_ngs_rna_targrna_rnaaccess_06520004c0018r_20171125.genes.results &lt;dbl&gt; | go29664_ngs_rna_targrna_rnaaccess_06520005c0017r_20171125.genes.results &lt;dbl&gt; | go29664_ngs_rna_targrna_rnaaccess_06520006c0016r_20171125.genes.results &lt;dbl&gt; | go29664_ngs_rna_targrna_rnaaccess_06520007c0018r_20171125.genes.results &lt;dbl&gt; | go29664_ngs_rna_targrna_rnaaccess_06520008c0017r_20171125.genes.results &lt;dbl&gt; | go29664_ngs_rna_targrna_rnaaccess_06520010b0023r_20171125.genes.results &lt;dbl&gt; |\n",
       "|---|---|---|---|---|---|---|---|---|---|---|\n",
       "| 1 | ENSG00000121410.11 | A1BG     |   0.06 |  1.23 |  0.69 |  0.36 |  0.32 |   0.76 |   0.00 |  2.46 |\n",
       "| 2 | ENSG00000268895.5  | A1BG-AS1 |   0.14 |  1.41 |  1.21 |  1.36 |  0.38 |   0.55 |   0.00 |  0.77 |\n",
       "| 3 | ENSG00000148584.14 | A1CF     |   0.00 |  0.00 |  0.00 |  0.00 |  0.00 |   0.00 |   0.00 |  0.00 |\n",
       "| 4 | ENSG00000175899.14 | A2M      | 114.92 | 98.31 | 50.73 | 30.12 | 35.55 | 384.47 | 212.23 | 71.93 |\n",
       "| 5 | ENSG00000245105.2  | A2M-AS1  |   0.10 |  1.07 |  0.49 |  0.87 |  0.43 |   0.58 |   0.00 |  0.49 |\n",
       "| 6 | ENSG00000166535.19 | A2ML1    |   0.00 |  0.00 |  0.00 |  0.04 |  0.02 |   0.00 |   0.00 |  3.73 |\n",
       "| 7 | ENSG00000256069.7  | A2MP1    |   0.00 |  0.00 |  0.00 |  0.00 |  0.00 |   0.00 |   0.00 |  0.00 |\n",
       "| 8 | ENSG00000184389.9  | A3GALT2  |   0.10 |  0.00 |  0.02 |  0.02 |  0.00 |   0.02 |   0.00 |  0.00 |\n",
       "| 9 | ENSG00000128274.15 | A4GALT   |   2.81 |  8.51 |  6.03 |  0.79 |  0.86 |   1.27 |   0.02 |  2.80 |\n",
       "| 10 | ENSG00000118017.3  | A4GNT    |   0.00 |  0.00 |  0.00 |  0.00 |  0.00 |   0.01 |   0.00 |  0.00 |\n",
       "\n"
      ],
      "text/plain": [
       "   ensembl_id         HGNC_symbol\n",
       "1  ENSG00000121410.11 A1BG       \n",
       "2  ENSG00000268895.5  A1BG-AS1   \n",
       "3  ENSG00000148584.14 A1CF       \n",
       "4  ENSG00000175899.14 A2M        \n",
       "5  ENSG00000245105.2  A2M-AS1    \n",
       "6  ENSG00000166535.19 A2ML1      \n",
       "7  ENSG00000256069.7  A2MP1      \n",
       "8  ENSG00000184389.9  A3GALT2    \n",
       "9  ENSG00000128274.15 A4GALT     \n",
       "10 ENSG00000118017.3  A4GNT      \n",
       "   go29664_ngs_rna_targrna_rnaaccess_06520001b0023r_20171125.genes.results\n",
       "1    0.06                                                                 \n",
       "2    0.14                                                                 \n",
       "3    0.00                                                                 \n",
       "4  114.92                                                                 \n",
       "5    0.10                                                                 \n",
       "6    0.00                                                                 \n",
       "7    0.00                                                                 \n",
       "8    0.10                                                                 \n",
       "9    2.81                                                                 \n",
       "10   0.00                                                                 \n",
       "   go29664_ngs_rna_targrna_rnaaccess_06520003c0012r_20171125.genes.results\n",
       "1   1.23                                                                  \n",
       "2   1.41                                                                  \n",
       "3   0.00                                                                  \n",
       "4  98.31                                                                  \n",
       "5   1.07                                                                  \n",
       "6   0.00                                                                  \n",
       "7   0.00                                                                  \n",
       "8   0.00                                                                  \n",
       "9   8.51                                                                  \n",
       "10  0.00                                                                  \n",
       "   go29664_ngs_rna_targrna_rnaaccess_06520004c0018r_20171125.genes.results\n",
       "1   0.69                                                                  \n",
       "2   1.21                                                                  \n",
       "3   0.00                                                                  \n",
       "4  50.73                                                                  \n",
       "5   0.49                                                                  \n",
       "6   0.00                                                                  \n",
       "7   0.00                                                                  \n",
       "8   0.02                                                                  \n",
       "9   6.03                                                                  \n",
       "10  0.00                                                                  \n",
       "   go29664_ngs_rna_targrna_rnaaccess_06520005c0017r_20171125.genes.results\n",
       "1   0.36                                                                  \n",
       "2   1.36                                                                  \n",
       "3   0.00                                                                  \n",
       "4  30.12                                                                  \n",
       "5   0.87                                                                  \n",
       "6   0.04                                                                  \n",
       "7   0.00                                                                  \n",
       "8   0.02                                                                  \n",
       "9   0.79                                                                  \n",
       "10  0.00                                                                  \n",
       "   go29664_ngs_rna_targrna_rnaaccess_06520006c0016r_20171125.genes.results\n",
       "1   0.32                                                                  \n",
       "2   0.38                                                                  \n",
       "3   0.00                                                                  \n",
       "4  35.55                                                                  \n",
       "5   0.43                                                                  \n",
       "6   0.02                                                                  \n",
       "7   0.00                                                                  \n",
       "8   0.00                                                                  \n",
       "9   0.86                                                                  \n",
       "10  0.00                                                                  \n",
       "   go29664_ngs_rna_targrna_rnaaccess_06520007c0018r_20171125.genes.results\n",
       "1    0.76                                                                 \n",
       "2    0.55                                                                 \n",
       "3    0.00                                                                 \n",
       "4  384.47                                                                 \n",
       "5    0.58                                                                 \n",
       "6    0.00                                                                 \n",
       "7    0.00                                                                 \n",
       "8    0.02                                                                 \n",
       "9    1.27                                                                 \n",
       "10   0.01                                                                 \n",
       "   go29664_ngs_rna_targrna_rnaaccess_06520008c0017r_20171125.genes.results\n",
       "1    0.00                                                                 \n",
       "2    0.00                                                                 \n",
       "3    0.00                                                                 \n",
       "4  212.23                                                                 \n",
       "5    0.00                                                                 \n",
       "6    0.00                                                                 \n",
       "7    0.00                                                                 \n",
       "8    0.00                                                                 \n",
       "9    0.02                                                                 \n",
       "10   0.00                                                                 \n",
       "   go29664_ngs_rna_targrna_rnaaccess_06520010b0023r_20171125.genes.results\n",
       "1   2.46                                                                  \n",
       "2   0.77                                                                  \n",
       "3   0.00                                                                  \n",
       "4  71.93                                                                  \n",
       "5   0.49                                                                  \n",
       "6   3.73                                                                  \n",
       "7   0.00                                                                  \n",
       "8   0.00                                                                  \n",
       "9   2.80                                                                  \n",
       "10  0.00                                                                  "
      ]
     },
     "metadata": {},
     "output_type": "display_data"
    }
   ],
   "source": [
    "tpm_mat[1:10,1:10]"
   ]
  },
  {
   "cell_type": "code",
   "execution_count": 30,
   "metadata": {},
   "outputs": [],
   "source": [
    "indicate_ids <- tpm_mat[,1:2]"
   ]
  },
  {
   "cell_type": "markdown",
   "metadata": {},
   "source": [
    "Remove samples with no ensg id to compare with TH data and remove HGNC"
   ]
  },
  {
   "cell_type": "code",
   "execution_count": 31,
   "metadata": {},
   "outputs": [],
   "source": [
    "tpm_mat_ensg <- tpm_mat[!is.na(tpm_mat$ensembl_id),]"
   ]
  },
  {
   "cell_type": "code",
   "execution_count": 32,
   "metadata": {},
   "outputs": [
    {
     "data": {
      "text/html": [
       "<style>\n",
       ".list-inline {list-style: none; margin:0; padding: 0}\n",
       ".list-inline>li {display: inline-block}\n",
       ".list-inline>li:not(:last-child)::after {content: \"\\00b7\"; padding: 0 .5ex}\n",
       "</style>\n",
       "<ol class=list-inline><li>24447</li><li>75</li></ol>\n"
      ],
      "text/latex": [
       "\\begin{enumerate*}\n",
       "\\item 24447\n",
       "\\item 75\n",
       "\\end{enumerate*}\n"
      ],
      "text/markdown": [
       "1. 24447\n",
       "2. 75\n",
       "\n",
       "\n"
      ],
      "text/plain": [
       "[1] 24447    75"
      ]
     },
     "metadata": {},
     "output_type": "display_data"
    }
   ],
   "source": [
    "dim(tpm_mat_ensg)"
   ]
  },
  {
   "cell_type": "markdown",
   "metadata": {},
   "source": [
    "remove hugos add ensembl ids as rownames"
   ]
  },
  {
   "cell_type": "code",
   "execution_count": 33,
   "metadata": {},
   "outputs": [],
   "source": [
    "tpm_mat_ensg$HGNC_symbol <- NULL\n",
    "rownames(tpm_mat_ensg) <- gsub(\"[.].*\", \"\",tpm_mat_ensg$ensembl_id)\n",
    "tpm_mat_ensg$ensembl_id <- NULL"
   ]
  },
  {
   "cell_type": "code",
   "execution_count": 34,
   "metadata": {},
   "outputs": [
    {
     "data": {
      "text/html": [
       "<table class=\"dataframe\">\n",
       "<caption>A data.frame: 10 × 10</caption>\n",
       "<thead>\n",
       "\t<tr><th></th><th scope=col>go29664_ngs_rna_targrna_rnaaccess_06520001b0023r_20171125.genes.results</th><th scope=col>go29664_ngs_rna_targrna_rnaaccess_06520003c0012r_20171125.genes.results</th><th scope=col>go29664_ngs_rna_targrna_rnaaccess_06520004c0018r_20171125.genes.results</th><th scope=col>go29664_ngs_rna_targrna_rnaaccess_06520005c0017r_20171125.genes.results</th><th scope=col>go29664_ngs_rna_targrna_rnaaccess_06520006c0016r_20171125.genes.results</th><th scope=col>go29664_ngs_rna_targrna_rnaaccess_06520007c0018r_20171125.genes.results</th><th scope=col>go29664_ngs_rna_targrna_rnaaccess_06520008c0017r_20171125.genes.results</th><th scope=col>go29664_ngs_rna_targrna_rnaaccess_06520010b0023r_20171125.genes.results</th><th scope=col>go29664_ngs_rna_targrna_rnaaccess_06520011b0023r_20171125.genes.results</th><th scope=col>go29664_ngs_rna_targrna_rnaaccess_06520015c0016r_20171125.genes.results</th></tr>\n",
       "\t<tr><th></th><th scope=col>&lt;dbl&gt;</th><th scope=col>&lt;dbl&gt;</th><th scope=col>&lt;dbl&gt;</th><th scope=col>&lt;dbl&gt;</th><th scope=col>&lt;dbl&gt;</th><th scope=col>&lt;dbl&gt;</th><th scope=col>&lt;dbl&gt;</th><th scope=col>&lt;dbl&gt;</th><th scope=col>&lt;dbl&gt;</th><th scope=col>&lt;dbl&gt;</th></tr>\n",
       "</thead>\n",
       "<tbody>\n",
       "\t<tr><th scope=row>ENSG00000121410</th><td>  0.06</td><td> 1.23</td><td> 0.69</td><td> 0.36</td><td> 0.32</td><td>  0.76</td><td>  0.00</td><td> 2.46</td><td> 1.27</td><td>  0.54</td></tr>\n",
       "\t<tr><th scope=row>ENSG00000268895</th><td>  0.14</td><td> 1.41</td><td> 1.21</td><td> 1.36</td><td> 0.38</td><td>  0.55</td><td>  0.00</td><td> 0.77</td><td> 0.64</td><td>  0.52</td></tr>\n",
       "\t<tr><th scope=row>ENSG00000148584</th><td>  0.00</td><td> 0.00</td><td> 0.00</td><td> 0.00</td><td> 0.00</td><td>  0.00</td><td>  0.00</td><td> 0.00</td><td> 0.00</td><td>  0.00</td></tr>\n",
       "\t<tr><th scope=row>ENSG00000175899</th><td>114.92</td><td>98.31</td><td>50.73</td><td>30.12</td><td>35.55</td><td>384.47</td><td>212.23</td><td>71.93</td><td>32.14</td><td>302.78</td></tr>\n",
       "\t<tr><th scope=row>ENSG00000245105</th><td>  0.10</td><td> 1.07</td><td> 0.49</td><td> 0.87</td><td> 0.43</td><td>  0.58</td><td>  0.00</td><td> 0.49</td><td> 0.15</td><td>  0.16</td></tr>\n",
       "\t<tr><th scope=row>ENSG00000166535</th><td>  0.00</td><td> 0.00</td><td> 0.00</td><td> 0.04</td><td> 0.02</td><td>  0.00</td><td>  0.00</td><td> 3.73</td><td> 4.06</td><td>  2.20</td></tr>\n",
       "\t<tr><th scope=row>ENSG00000256069</th><td>  0.00</td><td> 0.00</td><td> 0.00</td><td> 0.00</td><td> 0.00</td><td>  0.00</td><td>  0.00</td><td> 0.00</td><td> 0.00</td><td>  0.00</td></tr>\n",
       "\t<tr><th scope=row>ENSG00000184389</th><td>  0.10</td><td> 0.00</td><td> 0.02</td><td> 0.02</td><td> 0.00</td><td>  0.02</td><td>  0.00</td><td> 0.00</td><td> 0.05</td><td>  0.04</td></tr>\n",
       "\t<tr><th scope=row>ENSG00000128274</th><td>  2.81</td><td> 8.51</td><td> 6.03</td><td> 0.79</td><td> 0.86</td><td>  1.27</td><td>  0.02</td><td> 2.80</td><td> 5.23</td><td> 12.09</td></tr>\n",
       "\t<tr><th scope=row>ENSG00000118017</th><td>  0.00</td><td> 0.00</td><td> 0.00</td><td> 0.00</td><td> 0.00</td><td>  0.01</td><td>  0.00</td><td> 0.00</td><td> 0.00</td><td>  0.00</td></tr>\n",
       "</tbody>\n",
       "</table>\n"
      ],
      "text/latex": [
       "A data.frame: 10 × 10\n",
       "\\begin{tabular}{r|llllllllll}\n",
       "  & go29664\\_ngs\\_rna\\_targrna\\_rnaaccess\\_06520001b0023r\\_20171125.genes.results & go29664\\_ngs\\_rna\\_targrna\\_rnaaccess\\_06520003c0012r\\_20171125.genes.results & go29664\\_ngs\\_rna\\_targrna\\_rnaaccess\\_06520004c0018r\\_20171125.genes.results & go29664\\_ngs\\_rna\\_targrna\\_rnaaccess\\_06520005c0017r\\_20171125.genes.results & go29664\\_ngs\\_rna\\_targrna\\_rnaaccess\\_06520006c0016r\\_20171125.genes.results & go29664\\_ngs\\_rna\\_targrna\\_rnaaccess\\_06520007c0018r\\_20171125.genes.results & go29664\\_ngs\\_rna\\_targrna\\_rnaaccess\\_06520008c0017r\\_20171125.genes.results & go29664\\_ngs\\_rna\\_targrna\\_rnaaccess\\_06520010b0023r\\_20171125.genes.results & go29664\\_ngs\\_rna\\_targrna\\_rnaaccess\\_06520011b0023r\\_20171125.genes.results & go29664\\_ngs\\_rna\\_targrna\\_rnaaccess\\_06520015c0016r\\_20171125.genes.results\\\\\n",
       "  & <dbl> & <dbl> & <dbl> & <dbl> & <dbl> & <dbl> & <dbl> & <dbl> & <dbl> & <dbl>\\\\\n",
       "\\hline\n",
       "\tENSG00000121410 &   0.06 &  1.23 &  0.69 &  0.36 &  0.32 &   0.76 &   0.00 &  2.46 &  1.27 &   0.54\\\\\n",
       "\tENSG00000268895 &   0.14 &  1.41 &  1.21 &  1.36 &  0.38 &   0.55 &   0.00 &  0.77 &  0.64 &   0.52\\\\\n",
       "\tENSG00000148584 &   0.00 &  0.00 &  0.00 &  0.00 &  0.00 &   0.00 &   0.00 &  0.00 &  0.00 &   0.00\\\\\n",
       "\tENSG00000175899 & 114.92 & 98.31 & 50.73 & 30.12 & 35.55 & 384.47 & 212.23 & 71.93 & 32.14 & 302.78\\\\\n",
       "\tENSG00000245105 &   0.10 &  1.07 &  0.49 &  0.87 &  0.43 &   0.58 &   0.00 &  0.49 &  0.15 &   0.16\\\\\n",
       "\tENSG00000166535 &   0.00 &  0.00 &  0.00 &  0.04 &  0.02 &   0.00 &   0.00 &  3.73 &  4.06 &   2.20\\\\\n",
       "\tENSG00000256069 &   0.00 &  0.00 &  0.00 &  0.00 &  0.00 &   0.00 &   0.00 &  0.00 &  0.00 &   0.00\\\\\n",
       "\tENSG00000184389 &   0.10 &  0.00 &  0.02 &  0.02 &  0.00 &   0.02 &   0.00 &  0.00 &  0.05 &   0.04\\\\\n",
       "\tENSG00000128274 &   2.81 &  8.51 &  6.03 &  0.79 &  0.86 &   1.27 &   0.02 &  2.80 &  5.23 &  12.09\\\\\n",
       "\tENSG00000118017 &   0.00 &  0.00 &  0.00 &  0.00 &  0.00 &   0.01 &   0.00 &  0.00 &  0.00 &   0.00\\\\\n",
       "\\end{tabular}\n"
      ],
      "text/markdown": [
       "\n",
       "A data.frame: 10 × 10\n",
       "\n",
       "| <!--/--> | go29664_ngs_rna_targrna_rnaaccess_06520001b0023r_20171125.genes.results &lt;dbl&gt; | go29664_ngs_rna_targrna_rnaaccess_06520003c0012r_20171125.genes.results &lt;dbl&gt; | go29664_ngs_rna_targrna_rnaaccess_06520004c0018r_20171125.genes.results &lt;dbl&gt; | go29664_ngs_rna_targrna_rnaaccess_06520005c0017r_20171125.genes.results &lt;dbl&gt; | go29664_ngs_rna_targrna_rnaaccess_06520006c0016r_20171125.genes.results &lt;dbl&gt; | go29664_ngs_rna_targrna_rnaaccess_06520007c0018r_20171125.genes.results &lt;dbl&gt; | go29664_ngs_rna_targrna_rnaaccess_06520008c0017r_20171125.genes.results &lt;dbl&gt; | go29664_ngs_rna_targrna_rnaaccess_06520010b0023r_20171125.genes.results &lt;dbl&gt; | go29664_ngs_rna_targrna_rnaaccess_06520011b0023r_20171125.genes.results &lt;dbl&gt; | go29664_ngs_rna_targrna_rnaaccess_06520015c0016r_20171125.genes.results &lt;dbl&gt; |\n",
       "|---|---|---|---|---|---|---|---|---|---|---|\n",
       "| ENSG00000121410 |   0.06 |  1.23 |  0.69 |  0.36 |  0.32 |   0.76 |   0.00 |  2.46 |  1.27 |   0.54 |\n",
       "| ENSG00000268895 |   0.14 |  1.41 |  1.21 |  1.36 |  0.38 |   0.55 |   0.00 |  0.77 |  0.64 |   0.52 |\n",
       "| ENSG00000148584 |   0.00 |  0.00 |  0.00 |  0.00 |  0.00 |   0.00 |   0.00 |  0.00 |  0.00 |   0.00 |\n",
       "| ENSG00000175899 | 114.92 | 98.31 | 50.73 | 30.12 | 35.55 | 384.47 | 212.23 | 71.93 | 32.14 | 302.78 |\n",
       "| ENSG00000245105 |   0.10 |  1.07 |  0.49 |  0.87 |  0.43 |   0.58 |   0.00 |  0.49 |  0.15 |   0.16 |\n",
       "| ENSG00000166535 |   0.00 |  0.00 |  0.00 |  0.04 |  0.02 |   0.00 |   0.00 |  3.73 |  4.06 |   2.20 |\n",
       "| ENSG00000256069 |   0.00 |  0.00 |  0.00 |  0.00 |  0.00 |   0.00 |   0.00 |  0.00 |  0.00 |   0.00 |\n",
       "| ENSG00000184389 |   0.10 |  0.00 |  0.02 |  0.02 |  0.00 |   0.02 |   0.00 |  0.00 |  0.05 |   0.04 |\n",
       "| ENSG00000128274 |   2.81 |  8.51 |  6.03 |  0.79 |  0.86 |   1.27 |   0.02 |  2.80 |  5.23 |  12.09 |\n",
       "| ENSG00000118017 |   0.00 |  0.00 |  0.00 |  0.00 |  0.00 |   0.01 |   0.00 |  0.00 |  0.00 |   0.00 |\n",
       "\n"
      ],
      "text/plain": [
       "                go29664_ngs_rna_targrna_rnaaccess_06520001b0023r_20171125.genes.results\n",
       "ENSG00000121410   0.06                                                                 \n",
       "ENSG00000268895   0.14                                                                 \n",
       "ENSG00000148584   0.00                                                                 \n",
       "ENSG00000175899 114.92                                                                 \n",
       "ENSG00000245105   0.10                                                                 \n",
       "ENSG00000166535   0.00                                                                 \n",
       "ENSG00000256069   0.00                                                                 \n",
       "ENSG00000184389   0.10                                                                 \n",
       "ENSG00000128274   2.81                                                                 \n",
       "ENSG00000118017   0.00                                                                 \n",
       "                go29664_ngs_rna_targrna_rnaaccess_06520003c0012r_20171125.genes.results\n",
       "ENSG00000121410  1.23                                                                  \n",
       "ENSG00000268895  1.41                                                                  \n",
       "ENSG00000148584  0.00                                                                  \n",
       "ENSG00000175899 98.31                                                                  \n",
       "ENSG00000245105  1.07                                                                  \n",
       "ENSG00000166535  0.00                                                                  \n",
       "ENSG00000256069  0.00                                                                  \n",
       "ENSG00000184389  0.00                                                                  \n",
       "ENSG00000128274  8.51                                                                  \n",
       "ENSG00000118017  0.00                                                                  \n",
       "                go29664_ngs_rna_targrna_rnaaccess_06520004c0018r_20171125.genes.results\n",
       "ENSG00000121410  0.69                                                                  \n",
       "ENSG00000268895  1.21                                                                  \n",
       "ENSG00000148584  0.00                                                                  \n",
       "ENSG00000175899 50.73                                                                  \n",
       "ENSG00000245105  0.49                                                                  \n",
       "ENSG00000166535  0.00                                                                  \n",
       "ENSG00000256069  0.00                                                                  \n",
       "ENSG00000184389  0.02                                                                  \n",
       "ENSG00000128274  6.03                                                                  \n",
       "ENSG00000118017  0.00                                                                  \n",
       "                go29664_ngs_rna_targrna_rnaaccess_06520005c0017r_20171125.genes.results\n",
       "ENSG00000121410  0.36                                                                  \n",
       "ENSG00000268895  1.36                                                                  \n",
       "ENSG00000148584  0.00                                                                  \n",
       "ENSG00000175899 30.12                                                                  \n",
       "ENSG00000245105  0.87                                                                  \n",
       "ENSG00000166535  0.04                                                                  \n",
       "ENSG00000256069  0.00                                                                  \n",
       "ENSG00000184389  0.02                                                                  \n",
       "ENSG00000128274  0.79                                                                  \n",
       "ENSG00000118017  0.00                                                                  \n",
       "                go29664_ngs_rna_targrna_rnaaccess_06520006c0016r_20171125.genes.results\n",
       "ENSG00000121410  0.32                                                                  \n",
       "ENSG00000268895  0.38                                                                  \n",
       "ENSG00000148584  0.00                                                                  \n",
       "ENSG00000175899 35.55                                                                  \n",
       "ENSG00000245105  0.43                                                                  \n",
       "ENSG00000166535  0.02                                                                  \n",
       "ENSG00000256069  0.00                                                                  \n",
       "ENSG00000184389  0.00                                                                  \n",
       "ENSG00000128274  0.86                                                                  \n",
       "ENSG00000118017  0.00                                                                  \n",
       "                go29664_ngs_rna_targrna_rnaaccess_06520007c0018r_20171125.genes.results\n",
       "ENSG00000121410   0.76                                                                 \n",
       "ENSG00000268895   0.55                                                                 \n",
       "ENSG00000148584   0.00                                                                 \n",
       "ENSG00000175899 384.47                                                                 \n",
       "ENSG00000245105   0.58                                                                 \n",
       "ENSG00000166535   0.00                                                                 \n",
       "ENSG00000256069   0.00                                                                 \n",
       "ENSG00000184389   0.02                                                                 \n",
       "ENSG00000128274   1.27                                                                 \n",
       "ENSG00000118017   0.01                                                                 \n",
       "                go29664_ngs_rna_targrna_rnaaccess_06520008c0017r_20171125.genes.results\n",
       "ENSG00000121410   0.00                                                                 \n",
       "ENSG00000268895   0.00                                                                 \n",
       "ENSG00000148584   0.00                                                                 \n",
       "ENSG00000175899 212.23                                                                 \n",
       "ENSG00000245105   0.00                                                                 \n",
       "ENSG00000166535   0.00                                                                 \n",
       "ENSG00000256069   0.00                                                                 \n",
       "ENSG00000184389   0.00                                                                 \n",
       "ENSG00000128274   0.02                                                                 \n",
       "ENSG00000118017   0.00                                                                 \n",
       "                go29664_ngs_rna_targrna_rnaaccess_06520010b0023r_20171125.genes.results\n",
       "ENSG00000121410  2.46                                                                  \n",
       "ENSG00000268895  0.77                                                                  \n",
       "ENSG00000148584  0.00                                                                  \n",
       "ENSG00000175899 71.93                                                                  \n",
       "ENSG00000245105  0.49                                                                  \n",
       "ENSG00000166535  3.73                                                                  \n",
       "ENSG00000256069  0.00                                                                  \n",
       "ENSG00000184389  0.00                                                                  \n",
       "ENSG00000128274  2.80                                                                  \n",
       "ENSG00000118017  0.00                                                                  \n",
       "                go29664_ngs_rna_targrna_rnaaccess_06520011b0023r_20171125.genes.results\n",
       "ENSG00000121410  1.27                                                                  \n",
       "ENSG00000268895  0.64                                                                  \n",
       "ENSG00000148584  0.00                                                                  \n",
       "ENSG00000175899 32.14                                                                  \n",
       "ENSG00000245105  0.15                                                                  \n",
       "ENSG00000166535  4.06                                                                  \n",
       "ENSG00000256069  0.00                                                                  \n",
       "ENSG00000184389  0.05                                                                  \n",
       "ENSG00000128274  5.23                                                                  \n",
       "ENSG00000118017  0.00                                                                  \n",
       "                go29664_ngs_rna_targrna_rnaaccess_06520015c0016r_20171125.genes.results\n",
       "ENSG00000121410   0.54                                                                 \n",
       "ENSG00000268895   0.52                                                                 \n",
       "ENSG00000148584   0.00                                                                 \n",
       "ENSG00000175899 302.78                                                                 \n",
       "ENSG00000245105   0.16                                                                 \n",
       "ENSG00000166535   2.20                                                                 \n",
       "ENSG00000256069   0.00                                                                 \n",
       "ENSG00000184389   0.04                                                                 \n",
       "ENSG00000128274  12.09                                                                 \n",
       "ENSG00000118017   0.00                                                                 "
      ]
     },
     "metadata": {},
     "output_type": "display_data"
    }
   ],
   "source": [
    "tpm_mat_ensg[1:10,1:10]"
   ]
  },
  {
   "cell_type": "code",
   "execution_count": 35,
   "metadata": {},
   "outputs": [
    {
     "data": {
      "text/html": [
       "<style>\n",
       ".list-inline {list-style: none; margin:0; padding: 0}\n",
       ".list-inline>li {display: inline-block}\n",
       ".list-inline>li:not(:last-child)::after {content: \"\\00b7\"; padding: 0 .5ex}\n",
       "</style>\n",
       "<ol class=list-inline><li>24447</li><li>73</li></ol>\n"
      ],
      "text/latex": [
       "\\begin{enumerate*}\n",
       "\\item 24447\n",
       "\\item 73\n",
       "\\end{enumerate*}\n"
      ],
      "text/markdown": [
       "1. 24447\n",
       "2. 73\n",
       "\n",
       "\n"
      ],
      "text/plain": [
       "[1] 24447    73"
      ]
     },
     "metadata": {},
     "output_type": "display_data"
    }
   ],
   "source": [
    "dim(tpm_mat_ensg)"
   ]
  },
  {
   "cell_type": "markdown",
   "metadata": {},
   "source": [
    "transpose and clean up sample IDs"
   ]
  },
  {
   "cell_type": "code",
   "execution_count": 36,
   "metadata": {},
   "outputs": [],
   "source": [
    "tpm_mat_ensg_t <- t(tpm_mat_ensg)"
   ]
  },
  {
   "cell_type": "code",
   "execution_count": 37,
   "metadata": {},
   "outputs": [],
   "source": [
    "rownames(tpm_mat_ensg_t) <- gsub(\".*rnaaccess_\", \"\", rownames(tpm_mat_ensg_t))\n",
    "rownames(tpm_mat_ensg_t) <- gsub(\"_.*\", \"\", rownames(tpm_mat_ensg_t))\n",
    "rownames(tpm_mat_ensg_t) <- toupper(rownames(tpm_mat_ensg_t))"
   ]
  },
  {
   "cell_type": "markdown",
   "metadata": {},
   "source": [
    "log2 transform"
   ]
  },
  {
   "cell_type": "code",
   "execution_count": 38,
   "metadata": {},
   "outputs": [],
   "source": [
    "tpm_mat_ensg_t <- log2(tpm_mat_ensg_t + 1)"
   ]
  },
  {
   "cell_type": "code",
   "execution_count": 39,
   "metadata": {},
   "outputs": [
    {
     "data": {
      "text/html": [
       "<style>\n",
       ".list-inline {list-style: none; margin:0; padding: 0}\n",
       ".list-inline>li {display: inline-block}\n",
       ".list-inline>li:not(:last-child)::after {content: \"\\00b7\"; padding: 0 .5ex}\n",
       "</style>\n",
       "<ol class=list-inline><li>73</li><li>24447</li></ol>\n"
      ],
      "text/latex": [
       "\\begin{enumerate*}\n",
       "\\item 73\n",
       "\\item 24447\n",
       "\\end{enumerate*}\n"
      ],
      "text/markdown": [
       "1. 73\n",
       "2. 24447\n",
       "\n",
       "\n"
      ],
      "text/plain": [
       "[1]    73 24447"
      ]
     },
     "metadata": {},
     "output_type": "display_data"
    }
   ],
   "source": [
    "dim(tpm_mat_ensg_t)"
   ]
  },
  {
   "cell_type": "markdown",
   "metadata": {},
   "source": [
    "match samples with those in metadata"
   ]
  },
  {
   "cell_type": "code",
   "execution_count": 40,
   "metadata": {},
   "outputs": [],
   "source": [
    "tpm_mat_ensg_t_matched <- tpm_mat_ensg_t[rownames(tpm_mat_ensg_t) %in% metadata$sample_id,]"
   ]
  },
  {
   "cell_type": "code",
   "execution_count": 41,
   "metadata": {},
   "outputs": [
    {
     "data": {
      "text/html": [
       "<style>\n",
       ".list-inline {list-style: none; margin:0; padding: 0}\n",
       ".list-inline>li {display: inline-block}\n",
       ".list-inline>li:not(:last-child)::after {content: \"\\00b7\"; padding: 0 .5ex}\n",
       "</style>\n",
       "<ol class=list-inline><li>66</li><li>24447</li></ol>\n"
      ],
      "text/latex": [
       "\\begin{enumerate*}\n",
       "\\item 66\n",
       "\\item 24447\n",
       "\\end{enumerate*}\n"
      ],
      "text/markdown": [
       "1. 66\n",
       "2. 24447\n",
       "\n",
       "\n"
      ],
      "text/plain": [
       "[1]    66 24447"
      ]
     },
     "metadata": {},
     "output_type": "display_data"
    }
   ],
   "source": [
    "dim(tpm_mat_ensg_t_matched)"
   ]
  },
  {
   "cell_type": "markdown",
   "metadata": {},
   "source": [
    "module label cleanup"
   ]
  },
  {
   "cell_type": "code",
   "execution_count": 42,
   "metadata": {},
   "outputs": [
    {
     "data": {
      "text/html": [
       "<table class=\"dataframe\">\n",
       "<caption>A data.frame: 6 × 5</caption>\n",
       "<thead>\n",
       "\t<tr><th></th><th scope=col>moduleLabel</th><th scope=col>moduleColor</th><th scope=col>ensembl_id_TH</th><th scope=col>ensembl_id</th><th scope=col>entrez</th></tr>\n",
       "\t<tr><th></th><th scope=col>&lt;chr&gt;</th><th scope=col>&lt;chr&gt;</th><th scope=col>&lt;chr&gt;</th><th scope=col>&lt;chr&gt;</th><th scope=col>&lt;int&gt;</th></tr>\n",
       "</thead>\n",
       "<tbody>\n",
       "\t<tr><th scope=row>A2M</th><td>TH_22</td><td>darkgreen</td><td>ENSG00000175899.14</td><td>ENSG00000175899</td><td>     2</td></tr>\n",
       "\t<tr><th scope=row>AAK1</th><td>TH_7 </td><td>black    </td><td>ENSG00000115977.18</td><td>ENSG00000115977</td><td> 22848</td></tr>\n",
       "\t<tr><th scope=row>AASDH</th><td>TH_6 </td><td>red      </td><td>ENSG00000157426.13</td><td>ENSG00000157426</td><td>132949</td></tr>\n",
       "\t<tr><th scope=row>AASDHPPT</th><td>TH_6 </td><td>red      </td><td>ENSG00000149313.10</td><td>ENSG00000149313</td><td> 60496</td></tr>\n",
       "\t<tr><th scope=row>ABCB10</th><td>TH_6 </td><td>red      </td><td>ENSG00000135776.4 </td><td>ENSG00000135776</td><td> 23456</td></tr>\n",
       "\t<tr><th scope=row>ABCE1</th><td>TH_6 </td><td>red      </td><td>ENSG00000164163.10</td><td>ENSG00000164163</td><td>  6059</td></tr>\n",
       "</tbody>\n",
       "</table>\n"
      ],
      "text/latex": [
       "A data.frame: 6 × 5\n",
       "\\begin{tabular}{r|lllll}\n",
       "  & moduleLabel & moduleColor & ensembl\\_id\\_TH & ensembl\\_id & entrez\\\\\n",
       "  & <chr> & <chr> & <chr> & <chr> & <int>\\\\\n",
       "\\hline\n",
       "\tA2M & TH\\_22 & darkgreen & ENSG00000175899.14 & ENSG00000175899 &      2\\\\\n",
       "\tAAK1 & TH\\_7  & black     & ENSG00000115977.18 & ENSG00000115977 &  22848\\\\\n",
       "\tAASDH & TH\\_6  & red       & ENSG00000157426.13 & ENSG00000157426 & 132949\\\\\n",
       "\tAASDHPPT & TH\\_6  & red       & ENSG00000149313.10 & ENSG00000149313 &  60496\\\\\n",
       "\tABCB10 & TH\\_6  & red       & ENSG00000135776.4  & ENSG00000135776 &  23456\\\\\n",
       "\tABCE1 & TH\\_6  & red       & ENSG00000164163.10 & ENSG00000164163 &   6059\\\\\n",
       "\\end{tabular}\n"
      ],
      "text/markdown": [
       "\n",
       "A data.frame: 6 × 5\n",
       "\n",
       "| <!--/--> | moduleLabel &lt;chr&gt; | moduleColor &lt;chr&gt; | ensembl_id_TH &lt;chr&gt; | ensembl_id &lt;chr&gt; | entrez &lt;int&gt; |\n",
       "|---|---|---|---|---|---|\n",
       "| A2M | TH_22 | darkgreen | ENSG00000175899.14 | ENSG00000175899 |      2 |\n",
       "| AAK1 | TH_7  | black     | ENSG00000115977.18 | ENSG00000115977 |  22848 |\n",
       "| AASDH | TH_6  | red       | ENSG00000157426.13 | ENSG00000157426 | 132949 |\n",
       "| AASDHPPT | TH_6  | red       | ENSG00000149313.10 | ENSG00000149313 |  60496 |\n",
       "| ABCB10 | TH_6  | red       | ENSG00000135776.4  | ENSG00000135776 |  23456 |\n",
       "| ABCE1 | TH_6  | red       | ENSG00000164163.10 | ENSG00000164163 |   6059 |\n",
       "\n"
      ],
      "text/plain": [
       "         moduleLabel moduleColor ensembl_id_TH      ensembl_id      entrez\n",
       "A2M      TH_22       darkgreen   ENSG00000175899.14 ENSG00000175899      2\n",
       "AAK1     TH_7        black       ENSG00000115977.18 ENSG00000115977  22848\n",
       "AASDH    TH_6        red         ENSG00000157426.13 ENSG00000157426 132949\n",
       "AASDHPPT TH_6        red         ENSG00000149313.10 ENSG00000149313  60496\n",
       "ABCB10   TH_6        red         ENSG00000135776.4  ENSG00000135776  23456\n",
       "ABCE1    TH_6        red         ENSG00000164163.10 ENSG00000164163   6059"
      ]
     },
     "metadata": {},
     "output_type": "display_data"
    }
   ],
   "source": [
    "head(gene_module_th)"
   ]
  },
  {
   "cell_type": "code",
   "execution_count": 43,
   "metadata": {},
   "outputs": [
    {
     "data": {
      "text/html": [
       "<style>\n",
       ".list-inline {list-style: none; margin:0; padding: 0}\n",
       ".list-inline>li {display: inline-block}\n",
       ".list-inline>li:not(:last-child)::after {content: \"\\00b7\"; padding: 0 .5ex}\n",
       "</style>\n",
       "<ol class=list-inline><li>3044</li><li>5</li></ol>\n"
      ],
      "text/latex": [
       "\\begin{enumerate*}\n",
       "\\item 3044\n",
       "\\item 5\n",
       "\\end{enumerate*}\n"
      ],
      "text/markdown": [
       "1. 3044\n",
       "2. 5\n",
       "\n",
       "\n"
      ],
      "text/plain": [
       "[1] 3044    5"
      ]
     },
     "metadata": {},
     "output_type": "display_data"
    }
   ],
   "source": [
    "dim(gene_module_th)"
   ]
  },
  {
   "cell_type": "code",
   "execution_count": 44,
   "metadata": {},
   "outputs": [],
   "source": [
    "mygene_modules <- gene_module_th[ gene_module_th$ensembl_id %in% colnames(tpm_mat_ensg_t_matched),]"
   ]
  },
  {
   "cell_type": "code",
   "execution_count": 45,
   "metadata": {},
   "outputs": [
    {
     "data": {
      "text/html": [
       "<style>\n",
       ".list-inline {list-style: none; margin:0; padding: 0}\n",
       ".list-inline>li {display: inline-block}\n",
       ".list-inline>li:not(:last-child)::after {content: \"\\00b7\"; padding: 0 .5ex}\n",
       "</style>\n",
       "<ol class=list-inline><li>3033</li><li>5</li></ol>\n"
      ],
      "text/latex": [
       "\\begin{enumerate*}\n",
       "\\item 3033\n",
       "\\item 5\n",
       "\\end{enumerate*}\n"
      ],
      "text/markdown": [
       "1. 3033\n",
       "2. 5\n",
       "\n",
       "\n"
      ],
      "text/plain": [
       "[1] 3033    5"
      ]
     },
     "metadata": {},
     "output_type": "display_data"
    }
   ],
   "source": [
    "dim(mygene_modules)"
   ]
  },
  {
   "cell_type": "code",
   "execution_count": 46,
   "metadata": {
    "scrolled": false
   },
   "outputs": [
    {
     "data": {
      "text/html": [
       "<table class=\"dataframe\">\n",
       "<caption>A data.frame: 11 × 5</caption>\n",
       "<thead>\n",
       "\t<tr><th></th><th scope=col>moduleLabel</th><th scope=col>moduleColor</th><th scope=col>ensembl_id_TH</th><th scope=col>ensembl_id</th><th scope=col>entrez</th></tr>\n",
       "\t<tr><th></th><th scope=col>&lt;chr&gt;</th><th scope=col>&lt;chr&gt;</th><th scope=col>&lt;chr&gt;</th><th scope=col>&lt;chr&gt;</th><th scope=col>&lt;int&gt;</th></tr>\n",
       "</thead>\n",
       "<tbody>\n",
       "\t<tr><th scope=row>BMS1P4</th><td>TH_6 </td><td>red      </td><td>ENSG00000242338.6 </td><td>ENSG00000242338</td><td>    NA</td></tr>\n",
       "\t<tr><th scope=row>ECSCR</th><td>TH_22</td><td>darkgreen</td><td>ENSG00000249751.3 </td><td>ENSG00000249751</td><td>641700</td></tr>\n",
       "\t<tr><th scope=row>KAT6B</th><td>TH_6 </td><td>red      </td><td>ENSG00000156650.12</td><td>ENSG00000156650</td><td> 23522</td></tr>\n",
       "\t<tr><th scope=row>KIAA1143</th><td>TH_6 </td><td>red      </td><td>ENSG00000163807.5 </td><td>ENSG00000163807</td><td> 57456</td></tr>\n",
       "\t<tr><th scope=row>KIF15</th><td>TH_4 </td><td>yellow   </td><td>ENSG00000163808.16</td><td>ENSG00000163808</td><td> 56992</td></tr>\n",
       "\t<tr><th scope=row>MATR3</th><td>TH_6 </td><td>red      </td><td>ENSG00000015479.17</td><td>ENSG00000015479</td><td>  9782</td></tr>\n",
       "\t<tr><th scope=row>RCC2</th><td>TH_4 </td><td>yellow   </td><td>ENSG00000179051.13</td><td>ENSG00000179051</td><td> 55920</td></tr>\n",
       "\t<tr><th scope=row>SLC16A1</th><td>TH_4 </td><td>yellow   </td><td>ENSG00000155380.11</td><td>ENSG00000155380</td><td>  6566</td></tr>\n",
       "\t<tr><th scope=row>ZKSCAN7</th><td>TH_6 </td><td>red      </td><td>ENSG00000196345.12</td><td>ENSG00000196345</td><td> 55888</td></tr>\n",
       "\t<tr><th scope=row>ZNF501</th><td>TH_6 </td><td>red      </td><td>ENSG00000186446.11</td><td>ENSG00000186446</td><td>115560</td></tr>\n",
       "\t<tr><th scope=row>ZNF852</th><td>TH_17</td><td>grey60   </td><td>ENSG00000178917.14</td><td>ENSG00000178917</td><td>285346</td></tr>\n",
       "</tbody>\n",
       "</table>\n"
      ],
      "text/latex": [
       "A data.frame: 11 × 5\n",
       "\\begin{tabular}{r|lllll}\n",
       "  & moduleLabel & moduleColor & ensembl\\_id\\_TH & ensembl\\_id & entrez\\\\\n",
       "  & <chr> & <chr> & <chr> & <chr> & <int>\\\\\n",
       "\\hline\n",
       "\tBMS1P4 & TH\\_6  & red       & ENSG00000242338.6  & ENSG00000242338 &     NA\\\\\n",
       "\tECSCR & TH\\_22 & darkgreen & ENSG00000249751.3  & ENSG00000249751 & 641700\\\\\n",
       "\tKAT6B & TH\\_6  & red       & ENSG00000156650.12 & ENSG00000156650 &  23522\\\\\n",
       "\tKIAA1143 & TH\\_6  & red       & ENSG00000163807.5  & ENSG00000163807 &  57456\\\\\n",
       "\tKIF15 & TH\\_4  & yellow    & ENSG00000163808.16 & ENSG00000163808 &  56992\\\\\n",
       "\tMATR3 & TH\\_6  & red       & ENSG00000015479.17 & ENSG00000015479 &   9782\\\\\n",
       "\tRCC2 & TH\\_4  & yellow    & ENSG00000179051.13 & ENSG00000179051 &  55920\\\\\n",
       "\tSLC16A1 & TH\\_4  & yellow    & ENSG00000155380.11 & ENSG00000155380 &   6566\\\\\n",
       "\tZKSCAN7 & TH\\_6  & red       & ENSG00000196345.12 & ENSG00000196345 &  55888\\\\\n",
       "\tZNF501 & TH\\_6  & red       & ENSG00000186446.11 & ENSG00000186446 & 115560\\\\\n",
       "\tZNF852 & TH\\_17 & grey60    & ENSG00000178917.14 & ENSG00000178917 & 285346\\\\\n",
       "\\end{tabular}\n"
      ],
      "text/markdown": [
       "\n",
       "A data.frame: 11 × 5\n",
       "\n",
       "| <!--/--> | moduleLabel &lt;chr&gt; | moduleColor &lt;chr&gt; | ensembl_id_TH &lt;chr&gt; | ensembl_id &lt;chr&gt; | entrez &lt;int&gt; |\n",
       "|---|---|---|---|---|---|\n",
       "| BMS1P4 | TH_6  | red       | ENSG00000242338.6  | ENSG00000242338 |     NA |\n",
       "| ECSCR | TH_22 | darkgreen | ENSG00000249751.3  | ENSG00000249751 | 641700 |\n",
       "| KAT6B | TH_6  | red       | ENSG00000156650.12 | ENSG00000156650 |  23522 |\n",
       "| KIAA1143 | TH_6  | red       | ENSG00000163807.5  | ENSG00000163807 |  57456 |\n",
       "| KIF15 | TH_4  | yellow    | ENSG00000163808.16 | ENSG00000163808 |  56992 |\n",
       "| MATR3 | TH_6  | red       | ENSG00000015479.17 | ENSG00000015479 |   9782 |\n",
       "| RCC2 | TH_4  | yellow    | ENSG00000179051.13 | ENSG00000179051 |  55920 |\n",
       "| SLC16A1 | TH_4  | yellow    | ENSG00000155380.11 | ENSG00000155380 |   6566 |\n",
       "| ZKSCAN7 | TH_6  | red       | ENSG00000196345.12 | ENSG00000196345 |  55888 |\n",
       "| ZNF501 | TH_6  | red       | ENSG00000186446.11 | ENSG00000186446 | 115560 |\n",
       "| ZNF852 | TH_17 | grey60    | ENSG00000178917.14 | ENSG00000178917 | 285346 |\n",
       "\n"
      ],
      "text/plain": [
       "         moduleLabel moduleColor ensembl_id_TH      ensembl_id      entrez\n",
       "BMS1P4   TH_6        red         ENSG00000242338.6  ENSG00000242338     NA\n",
       "ECSCR    TH_22       darkgreen   ENSG00000249751.3  ENSG00000249751 641700\n",
       "KAT6B    TH_6        red         ENSG00000156650.12 ENSG00000156650  23522\n",
       "KIAA1143 TH_6        red         ENSG00000163807.5  ENSG00000163807  57456\n",
       "KIF15    TH_4        yellow      ENSG00000163808.16 ENSG00000163808  56992\n",
       "MATR3    TH_6        red         ENSG00000015479.17 ENSG00000015479   9782\n",
       "RCC2     TH_4        yellow      ENSG00000179051.13 ENSG00000179051  55920\n",
       "SLC16A1  TH_4        yellow      ENSG00000155380.11 ENSG00000155380   6566\n",
       "ZKSCAN7  TH_6        red         ENSG00000196345.12 ENSG00000196345  55888\n",
       "ZNF501   TH_6        red         ENSG00000186446.11 ENSG00000186446 115560\n",
       "ZNF852   TH_17       grey60      ENSG00000178917.14 ENSG00000178917 285346"
      ]
     },
     "metadata": {},
     "output_type": "display_data"
    }
   ],
   "source": [
    "#genes that were in imatrix data but not in treehouse\n",
    "gene_module_th[!rownames(gene_module_th) %in% rownames(mygene_modules),]"
   ]
  },
  {
   "cell_type": "markdown",
   "metadata": {},
   "source": [
    "## Univariable model"
   ]
  },
  {
   "cell_type": "markdown",
   "metadata": {},
   "source": [
    "Make a gene signature matrix for all samples"
   ]
  },
  {
   "cell_type": "code",
   "execution_count": 47,
   "metadata": {},
   "outputs": [],
   "source": [
    "#Order same as heatmap\n",
    "labelorders <- c('TH_4','TH_18','TH_17','TH_28','TH_6','TH_7','TH_14',\n",
    "                 'TH_24','TH_23','TH_27','TH_3','TH_13','TH_22','TH_26')"
   ]
  },
  {
   "cell_type": "code",
   "execution_count": 48,
   "metadata": {},
   "outputs": [],
   "source": [
    "module_sample <- matrix(ncol = nrow(tpm_mat_ensg_t_matched), nrow = length(unique(mygene_modules$moduleLabel)))\n",
    "rownames(module_sample) <- labelorders\n",
    "colnames(module_sample) <- rownames(tpm_mat_ensg_t_matched)"
   ]
  },
  {
   "cell_type": "code",
   "execution_count": 49,
   "metadata": {
    "scrolled": true
   },
   "outputs": [],
   "source": [
    "for(mod in 1:nrow(module_sample)){\n",
    "    mymod <- rownames(module_sample)[mod]    \n",
    "    modGenes <- mygene_modules$ensembl_id[which(mygene_modules$moduleLabel == mymod)]\n",
    "    genes <- tpm_mat_ensg_t_matched[,modGenes]\n",
    "if(length(modGenes) > 1){\n",
    "    averagegenes <- apply(genes,1,mean)\n",
    "    module_sample[mod,] <- averagegenes}\n",
    "}"
   ]
  },
  {
   "cell_type": "code",
   "execution_count": 50,
   "metadata": {},
   "outputs": [
    {
     "data": {
      "text/html": [
       "<style>\n",
       ".list-inline {list-style: none; margin:0; padding: 0}\n",
       ".list-inline>li {display: inline-block}\n",
       ".list-inline>li:not(:last-child)::after {content: \"\\00b7\"; padding: 0 .5ex}\n",
       "</style>\n",
       "<ol class=list-inline><li>14</li><li>66</li></ol>\n"
      ],
      "text/latex": [
       "\\begin{enumerate*}\n",
       "\\item 14\n",
       "\\item 66\n",
       "\\end{enumerate*}\n"
      ],
      "text/markdown": [
       "1. 14\n",
       "2. 66\n",
       "\n",
       "\n"
      ],
      "text/plain": [
       "[1] 14 66"
      ]
     },
     "metadata": {},
     "output_type": "display_data"
    }
   ],
   "source": [
    "dim(module_sample)"
   ]
  },
  {
   "cell_type": "markdown",
   "metadata": {},
   "source": [
    "Merge with metadata for survival analysis"
   ]
  },
  {
   "cell_type": "code",
   "execution_count": 51,
   "metadata": {
    "scrolled": true
   },
   "outputs": [],
   "source": [
    "module_sample_t <- as.data.frame(t(module_sample))\n",
    "module_sample_t$sample_id <- rownames(module_sample_t)"
   ]
  },
  {
   "cell_type": "code",
   "execution_count": 52,
   "metadata": {},
   "outputs": [],
   "source": [
    "metadata_modules <- merge(metadata, module_sample_t, by = \"sample_id\")"
   ]
  },
  {
   "cell_type": "markdown",
   "metadata": {},
   "source": [
    "Run cox and make a summary matrix"
   ]
  },
  {
   "cell_type": "code",
   "execution_count": 53,
   "metadata": {},
   "outputs": [],
   "source": [
    "module_cox <- matrix(nrow = nrow(module_sample), ncol = 7)\n",
    "rownames(module_cox) <- rownames(module_sample)\n",
    "colnames(module_cox) <- c('coef', 'exp(coef)', 'se(coef)', 'z', 'Pr(>|z|)', 'lower.95' ,'upper.95')"
   ]
  },
  {
   "cell_type": "code",
   "execution_count": 54,
   "metadata": {},
   "outputs": [],
   "source": [
    "for(i in rownames(module_cox)){\n",
    "   # message(i)\n",
    "    f <- as.formula(paste0(\"Surv(TRTDUR, progressed)~\", i))  \n",
    "    coxmodel <- coxph(f, data=metadata_modules) \n",
    "    sumcox <- summary(coxmodel)\n",
    "   # print(sumcox)\n",
    "    module_cox[i,1:5] <- sumcox$coefficients[1,1:5]\n",
    "    module_cox[i,6:7] <- sumcox$conf.int[1,3:4]\n",
    "}"
   ]
  },
  {
   "cell_type": "markdown",
   "metadata": {},
   "source": [
    "Calculate FDR add to matrix"
   ]
  },
  {
   "cell_type": "code",
   "execution_count": 55,
   "metadata": {
    "scrolled": true
   },
   "outputs": [],
   "source": [
    "fdr_df <- as.matrix(p.adjust(module_cox[,5], method = \"fdr\"))\n",
    "colnames(fdr_df)[1] <- \"fdr\"\n",
    "module_cox <- cbind(module_cox, fdr_df)"
   ]
  },
  {
   "cell_type": "code",
   "execution_count": 56,
   "metadata": {},
   "outputs": [
    {
     "data": {
      "text/html": [
       "<table class=\"dataframe\">\n",
       "<caption>A matrix: 14 × 8 of type dbl</caption>\n",
       "<thead>\n",
       "\t<tr><th></th><th scope=col>coef</th><th scope=col>exp(coef)</th><th scope=col>se(coef)</th><th scope=col>z</th><th scope=col>Pr(&gt;|z|)</th><th scope=col>lower.95</th><th scope=col>upper.95</th><th scope=col>fdr</th></tr>\n",
       "</thead>\n",
       "<tbody>\n",
       "\t<tr><th scope=row>TH_4</th><td> 0.26275994</td><td>1.3005145</td><td>0.2341486</td><td> 1.12219311</td><td>0.261780341</td><td>0.8218784</td><td>2.0578932</td><td>0.61082080</td></tr>\n",
       "\t<tr><th scope=row>TH_18</th><td>-0.04886734</td><td>0.9523075</td><td>0.2950671</td><td>-0.16561433</td><td>0.868460466</td><td>0.5340914</td><td>1.6980041</td><td>0.93526512</td></tr>\n",
       "\t<tr><th scope=row>TH_17</th><td>-0.21641351</td><td>0.8054022</td><td>0.3312179</td><td>-0.65338721</td><td>0.513506685</td><td>0.4208038</td><td>1.5415086</td><td>0.68908419</td></tr>\n",
       "\t<tr><th scope=row>TH_28</th><td>-0.17251042</td><td>0.8415495</td><td>0.2824973</td><td>-0.61066211</td><td>0.541423293</td><td>0.4837461</td><td>1.4640026</td><td>0.68908419</td></tr>\n",
       "\t<tr><th scope=row>TH_6</th><td>-0.16634058</td><td>0.8467578</td><td>0.3421508</td><td>-0.48616163</td><td>0.626852576</td><td>0.4330319</td><td>1.6557642</td><td>0.73132800</td></tr>\n",
       "\t<tr><th scope=row>TH_7</th><td>-0.29204773</td><td>0.7467329</td><td>0.3107780</td><td>-0.93973113</td><td>0.347355493</td><td>0.4060978</td><td>1.3730930</td><td>0.68908419</td></tr>\n",
       "\t<tr><th scope=row>TH_14</th><td>-0.19463045</td><td>0.8231388</td><td>0.2841113</td><td>-0.68504997</td><td>0.493312389</td><td>0.4716687</td><td>1.4365114</td><td>0.68908419</td></tr>\n",
       "\t<tr><th scope=row>TH_24</th><td>-0.01897856</td><td>0.9812004</td><td>0.2896798</td><td>-0.06551567</td><td>0.947763434</td><td>0.5561371</td><td>1.7311455</td><td>0.94776343</td></tr>\n",
       "\t<tr><th scope=row>TH_23</th><td> 0.14233871</td><td>1.1529671</td><td>0.1923932</td><td> 0.73983248</td><td>0.459401648</td><td>0.7907725</td><td>1.6810563</td><td>0.68908419</td></tr>\n",
       "\t<tr><th scope=row>TH_27</th><td>-0.33939059</td><td>0.7122042</td><td>0.1164899</td><td>-2.91347644</td><td>0.003574288</td><td>0.5668239</td><td>0.8948720</td><td>0.02087031</td></tr>\n",
       "\t<tr><th scope=row>TH_3</th><td>-0.30967486</td><td>0.7336855</td><td>0.1269118</td><td>-2.44007852</td><td>0.014684070</td><td>0.5721137</td><td>0.9408870</td><td>0.05139424</td></tr>\n",
       "\t<tr><th scope=row>TH_13</th><td>-0.46685707</td><td>0.6269697</td><td>0.1642256</td><td>-2.84277882</td><td>0.004472209</td><td>0.4544200</td><td>0.8650389</td><td>0.02087031</td></tr>\n",
       "\t<tr><th scope=row>TH_22</th><td>-0.46005016</td><td>0.6312520</td><td>0.2683390</td><td>-1.71443656</td><td>0.086448579</td><td>0.3730716</td><td>1.0681034</td><td>0.24205602</td></tr>\n",
       "\t<tr><th scope=row>TH_26</th><td> 0.34003978</td><td>1.4050035</td><td>0.1178252</td><td> 2.88596861</td><td>0.003902111</td><td>1.1152813</td><td>1.7699882</td><td>0.02087031</td></tr>\n",
       "</tbody>\n",
       "</table>\n"
      ],
      "text/latex": [
       "A matrix: 14 × 8 of type dbl\n",
       "\\begin{tabular}{r|llllllll}\n",
       "  & coef & exp(coef) & se(coef) & z & Pr(>\\textbar{}z\\textbar{}) & lower.95 & upper.95 & fdr\\\\\n",
       "\\hline\n",
       "\tTH\\_4 &  0.26275994 & 1.3005145 & 0.2341486 &  1.12219311 & 0.261780341 & 0.8218784 & 2.0578932 & 0.61082080\\\\\n",
       "\tTH\\_18 & -0.04886734 & 0.9523075 & 0.2950671 & -0.16561433 & 0.868460466 & 0.5340914 & 1.6980041 & 0.93526512\\\\\n",
       "\tTH\\_17 & -0.21641351 & 0.8054022 & 0.3312179 & -0.65338721 & 0.513506685 & 0.4208038 & 1.5415086 & 0.68908419\\\\\n",
       "\tTH\\_28 & -0.17251042 & 0.8415495 & 0.2824973 & -0.61066211 & 0.541423293 & 0.4837461 & 1.4640026 & 0.68908419\\\\\n",
       "\tTH\\_6 & -0.16634058 & 0.8467578 & 0.3421508 & -0.48616163 & 0.626852576 & 0.4330319 & 1.6557642 & 0.73132800\\\\\n",
       "\tTH\\_7 & -0.29204773 & 0.7467329 & 0.3107780 & -0.93973113 & 0.347355493 & 0.4060978 & 1.3730930 & 0.68908419\\\\\n",
       "\tTH\\_14 & -0.19463045 & 0.8231388 & 0.2841113 & -0.68504997 & 0.493312389 & 0.4716687 & 1.4365114 & 0.68908419\\\\\n",
       "\tTH\\_24 & -0.01897856 & 0.9812004 & 0.2896798 & -0.06551567 & 0.947763434 & 0.5561371 & 1.7311455 & 0.94776343\\\\\n",
       "\tTH\\_23 &  0.14233871 & 1.1529671 & 0.1923932 &  0.73983248 & 0.459401648 & 0.7907725 & 1.6810563 & 0.68908419\\\\\n",
       "\tTH\\_27 & -0.33939059 & 0.7122042 & 0.1164899 & -2.91347644 & 0.003574288 & 0.5668239 & 0.8948720 & 0.02087031\\\\\n",
       "\tTH\\_3 & -0.30967486 & 0.7336855 & 0.1269118 & -2.44007852 & 0.014684070 & 0.5721137 & 0.9408870 & 0.05139424\\\\\n",
       "\tTH\\_13 & -0.46685707 & 0.6269697 & 0.1642256 & -2.84277882 & 0.004472209 & 0.4544200 & 0.8650389 & 0.02087031\\\\\n",
       "\tTH\\_22 & -0.46005016 & 0.6312520 & 0.2683390 & -1.71443656 & 0.086448579 & 0.3730716 & 1.0681034 & 0.24205602\\\\\n",
       "\tTH\\_26 &  0.34003978 & 1.4050035 & 0.1178252 &  2.88596861 & 0.003902111 & 1.1152813 & 1.7699882 & 0.02087031\\\\\n",
       "\\end{tabular}\n"
      ],
      "text/markdown": [
       "\n",
       "A matrix: 14 × 8 of type dbl\n",
       "\n",
       "| <!--/--> | coef | exp(coef) | se(coef) | z | Pr(&gt;|z|) | lower.95 | upper.95 | fdr |\n",
       "|---|---|---|---|---|---|---|---|---|\n",
       "| TH_4 |  0.26275994 | 1.3005145 | 0.2341486 |  1.12219311 | 0.261780341 | 0.8218784 | 2.0578932 | 0.61082080 |\n",
       "| TH_18 | -0.04886734 | 0.9523075 | 0.2950671 | -0.16561433 | 0.868460466 | 0.5340914 | 1.6980041 | 0.93526512 |\n",
       "| TH_17 | -0.21641351 | 0.8054022 | 0.3312179 | -0.65338721 | 0.513506685 | 0.4208038 | 1.5415086 | 0.68908419 |\n",
       "| TH_28 | -0.17251042 | 0.8415495 | 0.2824973 | -0.61066211 | 0.541423293 | 0.4837461 | 1.4640026 | 0.68908419 |\n",
       "| TH_6 | -0.16634058 | 0.8467578 | 0.3421508 | -0.48616163 | 0.626852576 | 0.4330319 | 1.6557642 | 0.73132800 |\n",
       "| TH_7 | -0.29204773 | 0.7467329 | 0.3107780 | -0.93973113 | 0.347355493 | 0.4060978 | 1.3730930 | 0.68908419 |\n",
       "| TH_14 | -0.19463045 | 0.8231388 | 0.2841113 | -0.68504997 | 0.493312389 | 0.4716687 | 1.4365114 | 0.68908419 |\n",
       "| TH_24 | -0.01897856 | 0.9812004 | 0.2896798 | -0.06551567 | 0.947763434 | 0.5561371 | 1.7311455 | 0.94776343 |\n",
       "| TH_23 |  0.14233871 | 1.1529671 | 0.1923932 |  0.73983248 | 0.459401648 | 0.7907725 | 1.6810563 | 0.68908419 |\n",
       "| TH_27 | -0.33939059 | 0.7122042 | 0.1164899 | -2.91347644 | 0.003574288 | 0.5668239 | 0.8948720 | 0.02087031 |\n",
       "| TH_3 | -0.30967486 | 0.7336855 | 0.1269118 | -2.44007852 | 0.014684070 | 0.5721137 | 0.9408870 | 0.05139424 |\n",
       "| TH_13 | -0.46685707 | 0.6269697 | 0.1642256 | -2.84277882 | 0.004472209 | 0.4544200 | 0.8650389 | 0.02087031 |\n",
       "| TH_22 | -0.46005016 | 0.6312520 | 0.2683390 | -1.71443656 | 0.086448579 | 0.3730716 | 1.0681034 | 0.24205602 |\n",
       "| TH_26 |  0.34003978 | 1.4050035 | 0.1178252 |  2.88596861 | 0.003902111 | 1.1152813 | 1.7699882 | 0.02087031 |\n",
       "\n"
      ],
      "text/plain": [
       "      coef        exp(coef) se(coef)  z           Pr(>|z|)    lower.95 \n",
       "TH_4   0.26275994 1.3005145 0.2341486  1.12219311 0.261780341 0.8218784\n",
       "TH_18 -0.04886734 0.9523075 0.2950671 -0.16561433 0.868460466 0.5340914\n",
       "TH_17 -0.21641351 0.8054022 0.3312179 -0.65338721 0.513506685 0.4208038\n",
       "TH_28 -0.17251042 0.8415495 0.2824973 -0.61066211 0.541423293 0.4837461\n",
       "TH_6  -0.16634058 0.8467578 0.3421508 -0.48616163 0.626852576 0.4330319\n",
       "TH_7  -0.29204773 0.7467329 0.3107780 -0.93973113 0.347355493 0.4060978\n",
       "TH_14 -0.19463045 0.8231388 0.2841113 -0.68504997 0.493312389 0.4716687\n",
       "TH_24 -0.01897856 0.9812004 0.2896798 -0.06551567 0.947763434 0.5561371\n",
       "TH_23  0.14233871 1.1529671 0.1923932  0.73983248 0.459401648 0.7907725\n",
       "TH_27 -0.33939059 0.7122042 0.1164899 -2.91347644 0.003574288 0.5668239\n",
       "TH_3  -0.30967486 0.7336855 0.1269118 -2.44007852 0.014684070 0.5721137\n",
       "TH_13 -0.46685707 0.6269697 0.1642256 -2.84277882 0.004472209 0.4544200\n",
       "TH_22 -0.46005016 0.6312520 0.2683390 -1.71443656 0.086448579 0.3730716\n",
       "TH_26  0.34003978 1.4050035 0.1178252  2.88596861 0.003902111 1.1152813\n",
       "      upper.95  fdr       \n",
       "TH_4  2.0578932 0.61082080\n",
       "TH_18 1.6980041 0.93526512\n",
       "TH_17 1.5415086 0.68908419\n",
       "TH_28 1.4640026 0.68908419\n",
       "TH_6  1.6557642 0.73132800\n",
       "TH_7  1.3730930 0.68908419\n",
       "TH_14 1.4365114 0.68908419\n",
       "TH_24 1.7311455 0.94776343\n",
       "TH_23 1.6810563 0.68908419\n",
       "TH_27 0.8948720 0.02087031\n",
       "TH_3  0.9408870 0.05139424\n",
       "TH_13 0.8650389 0.02087031\n",
       "TH_22 1.0681034 0.24205602\n",
       "TH_26 1.7699882 0.02087031"
      ]
     },
     "metadata": {},
     "output_type": "display_data"
    }
   ],
   "source": [
    "module_cox"
   ]
  },
  {
   "cell_type": "markdown",
   "metadata": {},
   "source": [
    "Make a manual list of module labels and go terms"
   ]
  },
  {
   "cell_type": "code",
   "execution_count": 57,
   "metadata": {},
   "outputs": [],
   "source": [
    "module_cox <- as.data.frame(module_cox)"
   ]
  },
  {
   "cell_type": "code",
   "execution_count": 58,
   "metadata": {},
   "outputs": [
    {
     "data": {
      "text/html": [
       "<table class=\"dataframe\">\n",
       "<caption>A data.frame: 14 × 8</caption>\n",
       "<thead>\n",
       "\t<tr><th></th><th scope=col>coef</th><th scope=col>exp(coef)</th><th scope=col>se(coef)</th><th scope=col>z</th><th scope=col>Pr(&gt;|z|)</th><th scope=col>lower.95</th><th scope=col>upper.95</th><th scope=col>fdr</th></tr>\n",
       "\t<tr><th></th><th scope=col>&lt;dbl&gt;</th><th scope=col>&lt;dbl&gt;</th><th scope=col>&lt;dbl&gt;</th><th scope=col>&lt;dbl&gt;</th><th scope=col>&lt;dbl&gt;</th><th scope=col>&lt;dbl&gt;</th><th scope=col>&lt;dbl&gt;</th><th scope=col>&lt;dbl&gt;</th></tr>\n",
       "</thead>\n",
       "<tbody>\n",
       "\t<tr><th scope=row>TH_4</th><td> 0.26275994</td><td>1.3005145</td><td>0.2341486</td><td> 1.12219311</td><td>0.261780341</td><td>0.8218784</td><td>2.0578932</td><td>0.61082080</td></tr>\n",
       "\t<tr><th scope=row>TH_18</th><td>-0.04886734</td><td>0.9523075</td><td>0.2950671</td><td>-0.16561433</td><td>0.868460466</td><td>0.5340914</td><td>1.6980041</td><td>0.93526512</td></tr>\n",
       "\t<tr><th scope=row>TH_17</th><td>-0.21641351</td><td>0.8054022</td><td>0.3312179</td><td>-0.65338721</td><td>0.513506685</td><td>0.4208038</td><td>1.5415086</td><td>0.68908419</td></tr>\n",
       "\t<tr><th scope=row>TH_28</th><td>-0.17251042</td><td>0.8415495</td><td>0.2824973</td><td>-0.61066211</td><td>0.541423293</td><td>0.4837461</td><td>1.4640026</td><td>0.68908419</td></tr>\n",
       "\t<tr><th scope=row>TH_6</th><td>-0.16634058</td><td>0.8467578</td><td>0.3421508</td><td>-0.48616163</td><td>0.626852576</td><td>0.4330319</td><td>1.6557642</td><td>0.73132800</td></tr>\n",
       "\t<tr><th scope=row>TH_7</th><td>-0.29204773</td><td>0.7467329</td><td>0.3107780</td><td>-0.93973113</td><td>0.347355493</td><td>0.4060978</td><td>1.3730930</td><td>0.68908419</td></tr>\n",
       "\t<tr><th scope=row>TH_14</th><td>-0.19463045</td><td>0.8231388</td><td>0.2841113</td><td>-0.68504997</td><td>0.493312389</td><td>0.4716687</td><td>1.4365114</td><td>0.68908419</td></tr>\n",
       "\t<tr><th scope=row>TH_24</th><td>-0.01897856</td><td>0.9812004</td><td>0.2896798</td><td>-0.06551567</td><td>0.947763434</td><td>0.5561371</td><td>1.7311455</td><td>0.94776343</td></tr>\n",
       "\t<tr><th scope=row>TH_23</th><td> 0.14233871</td><td>1.1529671</td><td>0.1923932</td><td> 0.73983248</td><td>0.459401648</td><td>0.7907725</td><td>1.6810563</td><td>0.68908419</td></tr>\n",
       "\t<tr><th scope=row>TH_27</th><td>-0.33939059</td><td>0.7122042</td><td>0.1164899</td><td>-2.91347644</td><td>0.003574288</td><td>0.5668239</td><td>0.8948720</td><td>0.02087031</td></tr>\n",
       "\t<tr><th scope=row>TH_3</th><td>-0.30967486</td><td>0.7336855</td><td>0.1269118</td><td>-2.44007852</td><td>0.014684070</td><td>0.5721137</td><td>0.9408870</td><td>0.05139424</td></tr>\n",
       "\t<tr><th scope=row>TH_13</th><td>-0.46685707</td><td>0.6269697</td><td>0.1642256</td><td>-2.84277882</td><td>0.004472209</td><td>0.4544200</td><td>0.8650389</td><td>0.02087031</td></tr>\n",
       "\t<tr><th scope=row>TH_22</th><td>-0.46005016</td><td>0.6312520</td><td>0.2683390</td><td>-1.71443656</td><td>0.086448579</td><td>0.3730716</td><td>1.0681034</td><td>0.24205602</td></tr>\n",
       "\t<tr><th scope=row>TH_26</th><td> 0.34003978</td><td>1.4050035</td><td>0.1178252</td><td> 2.88596861</td><td>0.003902111</td><td>1.1152813</td><td>1.7699882</td><td>0.02087031</td></tr>\n",
       "</tbody>\n",
       "</table>\n"
      ],
      "text/latex": [
       "A data.frame: 14 × 8\n",
       "\\begin{tabular}{r|llllllll}\n",
       "  & coef & exp(coef) & se(coef) & z & Pr(>\\textbar{}z\\textbar{}) & lower.95 & upper.95 & fdr\\\\\n",
       "  & <dbl> & <dbl> & <dbl> & <dbl> & <dbl> & <dbl> & <dbl> & <dbl>\\\\\n",
       "\\hline\n",
       "\tTH\\_4 &  0.26275994 & 1.3005145 & 0.2341486 &  1.12219311 & 0.261780341 & 0.8218784 & 2.0578932 & 0.61082080\\\\\n",
       "\tTH\\_18 & -0.04886734 & 0.9523075 & 0.2950671 & -0.16561433 & 0.868460466 & 0.5340914 & 1.6980041 & 0.93526512\\\\\n",
       "\tTH\\_17 & -0.21641351 & 0.8054022 & 0.3312179 & -0.65338721 & 0.513506685 & 0.4208038 & 1.5415086 & 0.68908419\\\\\n",
       "\tTH\\_28 & -0.17251042 & 0.8415495 & 0.2824973 & -0.61066211 & 0.541423293 & 0.4837461 & 1.4640026 & 0.68908419\\\\\n",
       "\tTH\\_6 & -0.16634058 & 0.8467578 & 0.3421508 & -0.48616163 & 0.626852576 & 0.4330319 & 1.6557642 & 0.73132800\\\\\n",
       "\tTH\\_7 & -0.29204773 & 0.7467329 & 0.3107780 & -0.93973113 & 0.347355493 & 0.4060978 & 1.3730930 & 0.68908419\\\\\n",
       "\tTH\\_14 & -0.19463045 & 0.8231388 & 0.2841113 & -0.68504997 & 0.493312389 & 0.4716687 & 1.4365114 & 0.68908419\\\\\n",
       "\tTH\\_24 & -0.01897856 & 0.9812004 & 0.2896798 & -0.06551567 & 0.947763434 & 0.5561371 & 1.7311455 & 0.94776343\\\\\n",
       "\tTH\\_23 &  0.14233871 & 1.1529671 & 0.1923932 &  0.73983248 & 0.459401648 & 0.7907725 & 1.6810563 & 0.68908419\\\\\n",
       "\tTH\\_27 & -0.33939059 & 0.7122042 & 0.1164899 & -2.91347644 & 0.003574288 & 0.5668239 & 0.8948720 & 0.02087031\\\\\n",
       "\tTH\\_3 & -0.30967486 & 0.7336855 & 0.1269118 & -2.44007852 & 0.014684070 & 0.5721137 & 0.9408870 & 0.05139424\\\\\n",
       "\tTH\\_13 & -0.46685707 & 0.6269697 & 0.1642256 & -2.84277882 & 0.004472209 & 0.4544200 & 0.8650389 & 0.02087031\\\\\n",
       "\tTH\\_22 & -0.46005016 & 0.6312520 & 0.2683390 & -1.71443656 & 0.086448579 & 0.3730716 & 1.0681034 & 0.24205602\\\\\n",
       "\tTH\\_26 &  0.34003978 & 1.4050035 & 0.1178252 &  2.88596861 & 0.003902111 & 1.1152813 & 1.7699882 & 0.02087031\\\\\n",
       "\\end{tabular}\n"
      ],
      "text/markdown": [
       "\n",
       "A data.frame: 14 × 8\n",
       "\n",
       "| <!--/--> | coef &lt;dbl&gt; | exp(coef) &lt;dbl&gt; | se(coef) &lt;dbl&gt; | z &lt;dbl&gt; | Pr(&gt;|z|) &lt;dbl&gt; | lower.95 &lt;dbl&gt; | upper.95 &lt;dbl&gt; | fdr &lt;dbl&gt; |\n",
       "|---|---|---|---|---|---|---|---|---|\n",
       "| TH_4 |  0.26275994 | 1.3005145 | 0.2341486 |  1.12219311 | 0.261780341 | 0.8218784 | 2.0578932 | 0.61082080 |\n",
       "| TH_18 | -0.04886734 | 0.9523075 | 0.2950671 | -0.16561433 | 0.868460466 | 0.5340914 | 1.6980041 | 0.93526512 |\n",
       "| TH_17 | -0.21641351 | 0.8054022 | 0.3312179 | -0.65338721 | 0.513506685 | 0.4208038 | 1.5415086 | 0.68908419 |\n",
       "| TH_28 | -0.17251042 | 0.8415495 | 0.2824973 | -0.61066211 | 0.541423293 | 0.4837461 | 1.4640026 | 0.68908419 |\n",
       "| TH_6 | -0.16634058 | 0.8467578 | 0.3421508 | -0.48616163 | 0.626852576 | 0.4330319 | 1.6557642 | 0.73132800 |\n",
       "| TH_7 | -0.29204773 | 0.7467329 | 0.3107780 | -0.93973113 | 0.347355493 | 0.4060978 | 1.3730930 | 0.68908419 |\n",
       "| TH_14 | -0.19463045 | 0.8231388 | 0.2841113 | -0.68504997 | 0.493312389 | 0.4716687 | 1.4365114 | 0.68908419 |\n",
       "| TH_24 | -0.01897856 | 0.9812004 | 0.2896798 | -0.06551567 | 0.947763434 | 0.5561371 | 1.7311455 | 0.94776343 |\n",
       "| TH_23 |  0.14233871 | 1.1529671 | 0.1923932 |  0.73983248 | 0.459401648 | 0.7907725 | 1.6810563 | 0.68908419 |\n",
       "| TH_27 | -0.33939059 | 0.7122042 | 0.1164899 | -2.91347644 | 0.003574288 | 0.5668239 | 0.8948720 | 0.02087031 |\n",
       "| TH_3 | -0.30967486 | 0.7336855 | 0.1269118 | -2.44007852 | 0.014684070 | 0.5721137 | 0.9408870 | 0.05139424 |\n",
       "| TH_13 | -0.46685707 | 0.6269697 | 0.1642256 | -2.84277882 | 0.004472209 | 0.4544200 | 0.8650389 | 0.02087031 |\n",
       "| TH_22 | -0.46005016 | 0.6312520 | 0.2683390 | -1.71443656 | 0.086448579 | 0.3730716 | 1.0681034 | 0.24205602 |\n",
       "| TH_26 |  0.34003978 | 1.4050035 | 0.1178252 |  2.88596861 | 0.003902111 | 1.1152813 | 1.7699882 | 0.02087031 |\n",
       "\n"
      ],
      "text/plain": [
       "      coef        exp(coef) se(coef)  z           Pr(>|z|)    lower.95 \n",
       "TH_4   0.26275994 1.3005145 0.2341486  1.12219311 0.261780341 0.8218784\n",
       "TH_18 -0.04886734 0.9523075 0.2950671 -0.16561433 0.868460466 0.5340914\n",
       "TH_17 -0.21641351 0.8054022 0.3312179 -0.65338721 0.513506685 0.4208038\n",
       "TH_28 -0.17251042 0.8415495 0.2824973 -0.61066211 0.541423293 0.4837461\n",
       "TH_6  -0.16634058 0.8467578 0.3421508 -0.48616163 0.626852576 0.4330319\n",
       "TH_7  -0.29204773 0.7467329 0.3107780 -0.93973113 0.347355493 0.4060978\n",
       "TH_14 -0.19463045 0.8231388 0.2841113 -0.68504997 0.493312389 0.4716687\n",
       "TH_24 -0.01897856 0.9812004 0.2896798 -0.06551567 0.947763434 0.5561371\n",
       "TH_23  0.14233871 1.1529671 0.1923932  0.73983248 0.459401648 0.7907725\n",
       "TH_27 -0.33939059 0.7122042 0.1164899 -2.91347644 0.003574288 0.5668239\n",
       "TH_3  -0.30967486 0.7336855 0.1269118 -2.44007852 0.014684070 0.5721137\n",
       "TH_13 -0.46685707 0.6269697 0.1642256 -2.84277882 0.004472209 0.4544200\n",
       "TH_22 -0.46005016 0.6312520 0.2683390 -1.71443656 0.086448579 0.3730716\n",
       "TH_26  0.34003978 1.4050035 0.1178252  2.88596861 0.003902111 1.1152813\n",
       "      upper.95  fdr       \n",
       "TH_4  2.0578932 0.61082080\n",
       "TH_18 1.6980041 0.93526512\n",
       "TH_17 1.5415086 0.68908419\n",
       "TH_28 1.4640026 0.68908419\n",
       "TH_6  1.6557642 0.73132800\n",
       "TH_7  1.3730930 0.68908419\n",
       "TH_14 1.4365114 0.68908419\n",
       "TH_24 1.7311455 0.94776343\n",
       "TH_23 1.6810563 0.68908419\n",
       "TH_27 0.8948720 0.02087031\n",
       "TH_3  0.9408870 0.05139424\n",
       "TH_13 0.8650389 0.02087031\n",
       "TH_22 1.0681034 0.24205602\n",
       "TH_26 1.7699882 0.02087031"
      ]
     },
     "metadata": {},
     "output_type": "display_data"
    }
   ],
   "source": [
    "module_cox"
   ]
  },
  {
   "cell_type": "code",
   "execution_count": 59,
   "metadata": {},
   "outputs": [],
   "source": [
    "module_cox$term <- NA\n",
    "\n",
    "module_cox$term <- GO_modules$myterm[match(rownames(module_cox),GO_modules$moduleLabel)]"
   ]
  },
  {
   "cell_type": "code",
   "execution_count": 60,
   "metadata": {},
   "outputs": [
    {
     "data": {
      "text/html": [
       "<table class=\"dataframe\">\n",
       "<caption>A data.frame: 14 × 9</caption>\n",
       "<thead>\n",
       "\t<tr><th></th><th scope=col>coef</th><th scope=col>exp(coef)</th><th scope=col>se(coef)</th><th scope=col>z</th><th scope=col>Pr(&gt;|z|)</th><th scope=col>lower.95</th><th scope=col>upper.95</th><th scope=col>fdr</th><th scope=col>term</th></tr>\n",
       "\t<tr><th></th><th scope=col>&lt;dbl&gt;</th><th scope=col>&lt;dbl&gt;</th><th scope=col>&lt;dbl&gt;</th><th scope=col>&lt;dbl&gt;</th><th scope=col>&lt;dbl&gt;</th><th scope=col>&lt;dbl&gt;</th><th scope=col>&lt;dbl&gt;</th><th scope=col>&lt;dbl&gt;</th><th scope=col>&lt;chr&gt;</th></tr>\n",
       "</thead>\n",
       "<tbody>\n",
       "\t<tr><th scope=row>TH_4</th><td> 0.26275994</td><td>1.3005145</td><td>0.2341486</td><td> 1.12219311</td><td>0.261780341</td><td>0.8218784</td><td>2.0578932</td><td>0.61082080</td><td>DNA replication                                                                                </td></tr>\n",
       "\t<tr><th scope=row>TH_18</th><td>-0.04886734</td><td>0.9523075</td><td>0.2950671</td><td>-0.16561433</td><td>0.868460466</td><td>0.5340914</td><td>1.6980041</td><td>0.93526512</td><td>mRNA metabolic process                                                                         </td></tr>\n",
       "\t<tr><th scope=row>TH_17</th><td>-0.21641351</td><td>0.8054022</td><td>0.3312179</td><td>-0.65338721</td><td>0.513506685</td><td>0.4208038</td><td>1.5415086</td><td>0.68908419</td><td>cellular protein modification process                                                          </td></tr>\n",
       "\t<tr><th scope=row>TH_28</th><td>-0.17251042</td><td>0.8415495</td><td>0.2824973</td><td>-0.61066211</td><td>0.541423293</td><td>0.4837461</td><td>1.4640026</td><td>0.68908419</td><td>transcription regulator activity                                                               </td></tr>\n",
       "\t<tr><th scope=row>TH_6</th><td>-0.16634058</td><td>0.8467578</td><td>0.3421508</td><td>-0.48616163</td><td>0.626852576</td><td>0.4330319</td><td>1.6557642</td><td>0.73132800</td><td>RNA metabolic process                                                                          </td></tr>\n",
       "\t<tr><th scope=row>TH_7</th><td>-0.29204773</td><td>0.7467329</td><td>0.3107780</td><td>-0.93973113</td><td>0.347355493</td><td>0.4060978</td><td>1.3730930</td><td>0.68908419</td><td>vesicle organization                                                                           </td></tr>\n",
       "\t<tr><th scope=row>TH_14</th><td>-0.19463045</td><td>0.8231388</td><td>0.2841113</td><td>-0.68504997</td><td>0.493312389</td><td>0.4716687</td><td>1.4365114</td><td>0.68908419</td><td>cellular protein localization                                                                  </td></tr>\n",
       "\t<tr><th scope=row>TH_24</th><td>-0.01897856</td><td>0.9812004</td><td>0.2896798</td><td>-0.06551567</td><td>0.947763434</td><td>0.5561371</td><td>1.7311455</td><td>0.94776343</td><td>RNA splicing                                                                                   </td></tr>\n",
       "\t<tr><th scope=row>TH_23</th><td> 0.14233871</td><td>1.1529671</td><td>0.1923932</td><td> 0.73983248</td><td>0.459401648</td><td>0.7907725</td><td>1.6810563</td><td>0.68908419</td><td>SRP-dependent cotranslational protein targeting to membrane                                    </td></tr>\n",
       "\t<tr><th scope=row>TH_27</th><td>-0.33939059</td><td>0.7122042</td><td>0.1164899</td><td>-2.91347644</td><td>0.003574288</td><td>0.5668239</td><td>0.8948720</td><td>0.02087031</td><td>antigen processing and presentation of exogenous peptide antigen via MHC class I, TAP-dependent</td></tr>\n",
       "\t<tr><th scope=row>TH_3</th><td>-0.30967486</td><td>0.7336855</td><td>0.1269118</td><td>-2.44007852</td><td>0.014684070</td><td>0.5721137</td><td>0.9408870</td><td>0.05139424</td><td>defense response to other organism                                                             </td></tr>\n",
       "\t<tr><th scope=row>TH_13</th><td>-0.46685707</td><td>0.6269697</td><td>0.1642256</td><td>-2.84277882</td><td>0.004472209</td><td>0.4544200</td><td>0.8650389</td><td>0.02087031</td><td>T cell differentiation                                                                         </td></tr>\n",
       "\t<tr><th scope=row>TH_22</th><td>-0.46005016</td><td>0.6312520</td><td>0.2683390</td><td>-1.71443656</td><td>0.086448579</td><td>0.3730716</td><td>1.0681034</td><td>0.24205602</td><td>angiogenesis                                                                                   </td></tr>\n",
       "\t<tr><th scope=row>TH_26</th><td> 0.34003978</td><td>1.4050035</td><td>0.1178252</td><td> 2.88596861</td><td>0.003902111</td><td>1.1152813</td><td>1.7699882</td><td>0.02087031</td><td>striated muscle cell development                                                               </td></tr>\n",
       "</tbody>\n",
       "</table>\n"
      ],
      "text/latex": [
       "A data.frame: 14 × 9\n",
       "\\begin{tabular}{r|lllllllll}\n",
       "  & coef & exp(coef) & se(coef) & z & Pr(>\\textbar{}z\\textbar{}) & lower.95 & upper.95 & fdr & term\\\\\n",
       "  & <dbl> & <dbl> & <dbl> & <dbl> & <dbl> & <dbl> & <dbl> & <dbl> & <chr>\\\\\n",
       "\\hline\n",
       "\tTH\\_4 &  0.26275994 & 1.3005145 & 0.2341486 &  1.12219311 & 0.261780341 & 0.8218784 & 2.0578932 & 0.61082080 & DNA replication                                                                                \\\\\n",
       "\tTH\\_18 & -0.04886734 & 0.9523075 & 0.2950671 & -0.16561433 & 0.868460466 & 0.5340914 & 1.6980041 & 0.93526512 & mRNA metabolic process                                                                         \\\\\n",
       "\tTH\\_17 & -0.21641351 & 0.8054022 & 0.3312179 & -0.65338721 & 0.513506685 & 0.4208038 & 1.5415086 & 0.68908419 & cellular protein modification process                                                          \\\\\n",
       "\tTH\\_28 & -0.17251042 & 0.8415495 & 0.2824973 & -0.61066211 & 0.541423293 & 0.4837461 & 1.4640026 & 0.68908419 & transcription regulator activity                                                               \\\\\n",
       "\tTH\\_6 & -0.16634058 & 0.8467578 & 0.3421508 & -0.48616163 & 0.626852576 & 0.4330319 & 1.6557642 & 0.73132800 & RNA metabolic process                                                                          \\\\\n",
       "\tTH\\_7 & -0.29204773 & 0.7467329 & 0.3107780 & -0.93973113 & 0.347355493 & 0.4060978 & 1.3730930 & 0.68908419 & vesicle organization                                                                           \\\\\n",
       "\tTH\\_14 & -0.19463045 & 0.8231388 & 0.2841113 & -0.68504997 & 0.493312389 & 0.4716687 & 1.4365114 & 0.68908419 & cellular protein localization                                                                  \\\\\n",
       "\tTH\\_24 & -0.01897856 & 0.9812004 & 0.2896798 & -0.06551567 & 0.947763434 & 0.5561371 & 1.7311455 & 0.94776343 & RNA splicing                                                                                   \\\\\n",
       "\tTH\\_23 &  0.14233871 & 1.1529671 & 0.1923932 &  0.73983248 & 0.459401648 & 0.7907725 & 1.6810563 & 0.68908419 & SRP-dependent cotranslational protein targeting to membrane                                    \\\\\n",
       "\tTH\\_27 & -0.33939059 & 0.7122042 & 0.1164899 & -2.91347644 & 0.003574288 & 0.5668239 & 0.8948720 & 0.02087031 & antigen processing and presentation of exogenous peptide antigen via MHC class I, TAP-dependent\\\\\n",
       "\tTH\\_3 & -0.30967486 & 0.7336855 & 0.1269118 & -2.44007852 & 0.014684070 & 0.5721137 & 0.9408870 & 0.05139424 & defense response to other organism                                                             \\\\\n",
       "\tTH\\_13 & -0.46685707 & 0.6269697 & 0.1642256 & -2.84277882 & 0.004472209 & 0.4544200 & 0.8650389 & 0.02087031 & T cell differentiation                                                                         \\\\\n",
       "\tTH\\_22 & -0.46005016 & 0.6312520 & 0.2683390 & -1.71443656 & 0.086448579 & 0.3730716 & 1.0681034 & 0.24205602 & angiogenesis                                                                                   \\\\\n",
       "\tTH\\_26 &  0.34003978 & 1.4050035 & 0.1178252 &  2.88596861 & 0.003902111 & 1.1152813 & 1.7699882 & 0.02087031 & striated muscle cell development                                                               \\\\\n",
       "\\end{tabular}\n"
      ],
      "text/markdown": [
       "\n",
       "A data.frame: 14 × 9\n",
       "\n",
       "| <!--/--> | coef &lt;dbl&gt; | exp(coef) &lt;dbl&gt; | se(coef) &lt;dbl&gt; | z &lt;dbl&gt; | Pr(&gt;|z|) &lt;dbl&gt; | lower.95 &lt;dbl&gt; | upper.95 &lt;dbl&gt; | fdr &lt;dbl&gt; | term &lt;chr&gt; |\n",
       "|---|---|---|---|---|---|---|---|---|---|\n",
       "| TH_4 |  0.26275994 | 1.3005145 | 0.2341486 |  1.12219311 | 0.261780341 | 0.8218784 | 2.0578932 | 0.61082080 | DNA replication                                                                                 |\n",
       "| TH_18 | -0.04886734 | 0.9523075 | 0.2950671 | -0.16561433 | 0.868460466 | 0.5340914 | 1.6980041 | 0.93526512 | mRNA metabolic process                                                                          |\n",
       "| TH_17 | -0.21641351 | 0.8054022 | 0.3312179 | -0.65338721 | 0.513506685 | 0.4208038 | 1.5415086 | 0.68908419 | cellular protein modification process                                                           |\n",
       "| TH_28 | -0.17251042 | 0.8415495 | 0.2824973 | -0.61066211 | 0.541423293 | 0.4837461 | 1.4640026 | 0.68908419 | transcription regulator activity                                                                |\n",
       "| TH_6 | -0.16634058 | 0.8467578 | 0.3421508 | -0.48616163 | 0.626852576 | 0.4330319 | 1.6557642 | 0.73132800 | RNA metabolic process                                                                           |\n",
       "| TH_7 | -0.29204773 | 0.7467329 | 0.3107780 | -0.93973113 | 0.347355493 | 0.4060978 | 1.3730930 | 0.68908419 | vesicle organization                                                                            |\n",
       "| TH_14 | -0.19463045 | 0.8231388 | 0.2841113 | -0.68504997 | 0.493312389 | 0.4716687 | 1.4365114 | 0.68908419 | cellular protein localization                                                                   |\n",
       "| TH_24 | -0.01897856 | 0.9812004 | 0.2896798 | -0.06551567 | 0.947763434 | 0.5561371 | 1.7311455 | 0.94776343 | RNA splicing                                                                                    |\n",
       "| TH_23 |  0.14233871 | 1.1529671 | 0.1923932 |  0.73983248 | 0.459401648 | 0.7907725 | 1.6810563 | 0.68908419 | SRP-dependent cotranslational protein targeting to membrane                                     |\n",
       "| TH_27 | -0.33939059 | 0.7122042 | 0.1164899 | -2.91347644 | 0.003574288 | 0.5668239 | 0.8948720 | 0.02087031 | antigen processing and presentation of exogenous peptide antigen via MHC class I, TAP-dependent |\n",
       "| TH_3 | -0.30967486 | 0.7336855 | 0.1269118 | -2.44007852 | 0.014684070 | 0.5721137 | 0.9408870 | 0.05139424 | defense response to other organism                                                              |\n",
       "| TH_13 | -0.46685707 | 0.6269697 | 0.1642256 | -2.84277882 | 0.004472209 | 0.4544200 | 0.8650389 | 0.02087031 | T cell differentiation                                                                          |\n",
       "| TH_22 | -0.46005016 | 0.6312520 | 0.2683390 | -1.71443656 | 0.086448579 | 0.3730716 | 1.0681034 | 0.24205602 | angiogenesis                                                                                    |\n",
       "| TH_26 |  0.34003978 | 1.4050035 | 0.1178252 |  2.88596861 | 0.003902111 | 1.1152813 | 1.7699882 | 0.02087031 | striated muscle cell development                                                                |\n",
       "\n"
      ],
      "text/plain": [
       "      coef        exp(coef) se(coef)  z           Pr(>|z|)    lower.95 \n",
       "TH_4   0.26275994 1.3005145 0.2341486  1.12219311 0.261780341 0.8218784\n",
       "TH_18 -0.04886734 0.9523075 0.2950671 -0.16561433 0.868460466 0.5340914\n",
       "TH_17 -0.21641351 0.8054022 0.3312179 -0.65338721 0.513506685 0.4208038\n",
       "TH_28 -0.17251042 0.8415495 0.2824973 -0.61066211 0.541423293 0.4837461\n",
       "TH_6  -0.16634058 0.8467578 0.3421508 -0.48616163 0.626852576 0.4330319\n",
       "TH_7  -0.29204773 0.7467329 0.3107780 -0.93973113 0.347355493 0.4060978\n",
       "TH_14 -0.19463045 0.8231388 0.2841113 -0.68504997 0.493312389 0.4716687\n",
       "TH_24 -0.01897856 0.9812004 0.2896798 -0.06551567 0.947763434 0.5561371\n",
       "TH_23  0.14233871 1.1529671 0.1923932  0.73983248 0.459401648 0.7907725\n",
       "TH_27 -0.33939059 0.7122042 0.1164899 -2.91347644 0.003574288 0.5668239\n",
       "TH_3  -0.30967486 0.7336855 0.1269118 -2.44007852 0.014684070 0.5721137\n",
       "TH_13 -0.46685707 0.6269697 0.1642256 -2.84277882 0.004472209 0.4544200\n",
       "TH_22 -0.46005016 0.6312520 0.2683390 -1.71443656 0.086448579 0.3730716\n",
       "TH_26  0.34003978 1.4050035 0.1178252  2.88596861 0.003902111 1.1152813\n",
       "      upper.95  fdr       \n",
       "TH_4  2.0578932 0.61082080\n",
       "TH_18 1.6980041 0.93526512\n",
       "TH_17 1.5415086 0.68908419\n",
       "TH_28 1.4640026 0.68908419\n",
       "TH_6  1.6557642 0.73132800\n",
       "TH_7  1.3730930 0.68908419\n",
       "TH_14 1.4365114 0.68908419\n",
       "TH_24 1.7311455 0.94776343\n",
       "TH_23 1.6810563 0.68908419\n",
       "TH_27 0.8948720 0.02087031\n",
       "TH_3  0.9408870 0.05139424\n",
       "TH_13 0.8650389 0.02087031\n",
       "TH_22 1.0681034 0.24205602\n",
       "TH_26 1.7699882 0.02087031\n",
       "      term                                                                                           \n",
       "TH_4  DNA replication                                                                                \n",
       "TH_18 mRNA metabolic process                                                                         \n",
       "TH_17 cellular protein modification process                                                          \n",
       "TH_28 transcription regulator activity                                                               \n",
       "TH_6  RNA metabolic process                                                                          \n",
       "TH_7  vesicle organization                                                                           \n",
       "TH_14 cellular protein localization                                                                  \n",
       "TH_24 RNA splicing                                                                                   \n",
       "TH_23 SRP-dependent cotranslational protein targeting to membrane                                    \n",
       "TH_27 antigen processing and presentation of exogenous peptide antigen via MHC class I, TAP-dependent\n",
       "TH_3  defense response to other organism                                                             \n",
       "TH_13 T cell differentiation                                                                         \n",
       "TH_22 angiogenesis                                                                                   \n",
       "TH_26 striated muscle cell development                                                               "
      ]
     },
     "metadata": {},
     "output_type": "display_data"
    }
   ],
   "source": [
    "module_cox"
   ]
  },
  {
   "cell_type": "code",
   "execution_count": 61,
   "metadata": {},
   "outputs": [],
   "source": [
    "# some cleanup for terms\n",
    "\n",
    "module_cox$term[module_cox$term == \"antigen processing and presentation of exogenous peptide antigen via MHC class I, TAP-dependent\" ] <- \n",
    "\"antigen processing and presentation\"\n",
    "module_cox$term[module_cox$term == \"SRP-dependent cotranslational protein targeting to membrane\" ] <- \"protein targeting to ER\""
   ]
  },
  {
   "cell_type": "code",
   "execution_count": 62,
   "metadata": {},
   "outputs": [],
   "source": [
    "write.csv(module_cox, file = \"~/OneDrive - UHN/Documents/Manuscripts/INDICATE/v2/TableS7.csv\")"
   ]
  },
  {
   "cell_type": "code",
   "execution_count": 63,
   "metadata": {},
   "outputs": [],
   "source": [
    "hrs <- module_cox[,c(2,6,7)]\n",
    "hrs <- rbind(NA,hrs)"
   ]
  },
  {
   "cell_type": "code",
   "execution_count": 64,
   "metadata": {},
   "outputs": [
    {
     "data": {
      "text/html": [
       "<table class=\"dataframe\">\n",
       "<caption>A data.frame: 15 × 3</caption>\n",
       "<thead>\n",
       "\t<tr><th></th><th scope=col>exp(coef)</th><th scope=col>lower.95</th><th scope=col>upper.95</th></tr>\n",
       "\t<tr><th></th><th scope=col>&lt;dbl&gt;</th><th scope=col>&lt;dbl&gt;</th><th scope=col>&lt;dbl&gt;</th></tr>\n",
       "</thead>\n",
       "<tbody>\n",
       "\t<tr><th scope=row>1</th><td>       NA</td><td>       NA</td><td>       NA</td></tr>\n",
       "\t<tr><th scope=row>TH_4</th><td>1.3005145</td><td>0.8218784</td><td>2.0578932</td></tr>\n",
       "\t<tr><th scope=row>TH_18</th><td>0.9523075</td><td>0.5340914</td><td>1.6980041</td></tr>\n",
       "\t<tr><th scope=row>TH_17</th><td>0.8054022</td><td>0.4208038</td><td>1.5415086</td></tr>\n",
       "\t<tr><th scope=row>TH_28</th><td>0.8415495</td><td>0.4837461</td><td>1.4640026</td></tr>\n",
       "\t<tr><th scope=row>TH_6</th><td>0.8467578</td><td>0.4330319</td><td>1.6557642</td></tr>\n",
       "\t<tr><th scope=row>TH_7</th><td>0.7467329</td><td>0.4060978</td><td>1.3730930</td></tr>\n",
       "\t<tr><th scope=row>TH_14</th><td>0.8231388</td><td>0.4716687</td><td>1.4365114</td></tr>\n",
       "\t<tr><th scope=row>TH_24</th><td>0.9812004</td><td>0.5561371</td><td>1.7311455</td></tr>\n",
       "\t<tr><th scope=row>TH_23</th><td>1.1529671</td><td>0.7907725</td><td>1.6810563</td></tr>\n",
       "\t<tr><th scope=row>TH_27</th><td>0.7122042</td><td>0.5668239</td><td>0.8948720</td></tr>\n",
       "\t<tr><th scope=row>TH_3</th><td>0.7336855</td><td>0.5721137</td><td>0.9408870</td></tr>\n",
       "\t<tr><th scope=row>TH_13</th><td>0.6269697</td><td>0.4544200</td><td>0.8650389</td></tr>\n",
       "\t<tr><th scope=row>TH_22</th><td>0.6312520</td><td>0.3730716</td><td>1.0681034</td></tr>\n",
       "\t<tr><th scope=row>TH_26</th><td>1.4050035</td><td>1.1152813</td><td>1.7699882</td></tr>\n",
       "</tbody>\n",
       "</table>\n"
      ],
      "text/latex": [
       "A data.frame: 15 × 3\n",
       "\\begin{tabular}{r|lll}\n",
       "  & exp(coef) & lower.95 & upper.95\\\\\n",
       "  & <dbl> & <dbl> & <dbl>\\\\\n",
       "\\hline\n",
       "\t1 &        NA &        NA &        NA\\\\\n",
       "\tTH\\_4 & 1.3005145 & 0.8218784 & 2.0578932\\\\\n",
       "\tTH\\_18 & 0.9523075 & 0.5340914 & 1.6980041\\\\\n",
       "\tTH\\_17 & 0.8054022 & 0.4208038 & 1.5415086\\\\\n",
       "\tTH\\_28 & 0.8415495 & 0.4837461 & 1.4640026\\\\\n",
       "\tTH\\_6 & 0.8467578 & 0.4330319 & 1.6557642\\\\\n",
       "\tTH\\_7 & 0.7467329 & 0.4060978 & 1.3730930\\\\\n",
       "\tTH\\_14 & 0.8231388 & 0.4716687 & 1.4365114\\\\\n",
       "\tTH\\_24 & 0.9812004 & 0.5561371 & 1.7311455\\\\\n",
       "\tTH\\_23 & 1.1529671 & 0.7907725 & 1.6810563\\\\\n",
       "\tTH\\_27 & 0.7122042 & 0.5668239 & 0.8948720\\\\\n",
       "\tTH\\_3 & 0.7336855 & 0.5721137 & 0.9408870\\\\\n",
       "\tTH\\_13 & 0.6269697 & 0.4544200 & 0.8650389\\\\\n",
       "\tTH\\_22 & 0.6312520 & 0.3730716 & 1.0681034\\\\\n",
       "\tTH\\_26 & 1.4050035 & 1.1152813 & 1.7699882\\\\\n",
       "\\end{tabular}\n"
      ],
      "text/markdown": [
       "\n",
       "A data.frame: 15 × 3\n",
       "\n",
       "| <!--/--> | exp(coef) &lt;dbl&gt; | lower.95 &lt;dbl&gt; | upper.95 &lt;dbl&gt; |\n",
       "|---|---|---|---|\n",
       "| 1 |        NA |        NA |        NA |\n",
       "| TH_4 | 1.3005145 | 0.8218784 | 2.0578932 |\n",
       "| TH_18 | 0.9523075 | 0.5340914 | 1.6980041 |\n",
       "| TH_17 | 0.8054022 | 0.4208038 | 1.5415086 |\n",
       "| TH_28 | 0.8415495 | 0.4837461 | 1.4640026 |\n",
       "| TH_6 | 0.8467578 | 0.4330319 | 1.6557642 |\n",
       "| TH_7 | 0.7467329 | 0.4060978 | 1.3730930 |\n",
       "| TH_14 | 0.8231388 | 0.4716687 | 1.4365114 |\n",
       "| TH_24 | 0.9812004 | 0.5561371 | 1.7311455 |\n",
       "| TH_23 | 1.1529671 | 0.7907725 | 1.6810563 |\n",
       "| TH_27 | 0.7122042 | 0.5668239 | 0.8948720 |\n",
       "| TH_3 | 0.7336855 | 0.5721137 | 0.9408870 |\n",
       "| TH_13 | 0.6269697 | 0.4544200 | 0.8650389 |\n",
       "| TH_22 | 0.6312520 | 0.3730716 | 1.0681034 |\n",
       "| TH_26 | 1.4050035 | 1.1152813 | 1.7699882 |\n",
       "\n"
      ],
      "text/plain": [
       "      exp(coef) lower.95  upper.95 \n",
       "1            NA        NA        NA\n",
       "TH_4  1.3005145 0.8218784 2.0578932\n",
       "TH_18 0.9523075 0.5340914 1.6980041\n",
       "TH_17 0.8054022 0.4208038 1.5415086\n",
       "TH_28 0.8415495 0.4837461 1.4640026\n",
       "TH_6  0.8467578 0.4330319 1.6557642\n",
       "TH_7  0.7467329 0.4060978 1.3730930\n",
       "TH_14 0.8231388 0.4716687 1.4365114\n",
       "TH_24 0.9812004 0.5561371 1.7311455\n",
       "TH_23 1.1529671 0.7907725 1.6810563\n",
       "TH_27 0.7122042 0.5668239 0.8948720\n",
       "TH_3  0.7336855 0.5721137 0.9408870\n",
       "TH_13 0.6269697 0.4544200 0.8650389\n",
       "TH_22 0.6312520 0.3730716 1.0681034\n",
       "TH_26 1.4050035 1.1152813 1.7699882"
      ]
     },
     "metadata": {},
     "output_type": "display_data"
    }
   ],
   "source": [
    "hrs"
   ]
  },
  {
   "cell_type": "code",
   "execution_count": 65,
   "metadata": {},
   "outputs": [],
   "source": [
    "tabtext <- as.data.frame(module_cox[,c(2,5,8)])\n",
    "tabtext <- format(round(tabtext, 2))\n",
    "tabtext <- cbind(module_cox[,9],tabtext)\n",
    "colnames(tabtext) <- c(\"Signature\", \"Hazard Ratio\", \"p-value\", \"FDR\")\n",
    "rownames(tabtext) <- NULL\n",
    "tabtext <- rbind(colnames(tabtext),tabtext)"
   ]
  },
  {
   "cell_type": "code",
   "execution_count": 66,
   "metadata": {},
   "outputs": [
    {
     "data": {
      "text/html": [
       "<table class=\"dataframe\">\n",
       "<caption>A data.frame: 15 × 4</caption>\n",
       "<thead>\n",
       "\t<tr><th scope=col>Signature</th><th scope=col>Hazard Ratio</th><th scope=col>p-value</th><th scope=col>FDR</th></tr>\n",
       "\t<tr><th scope=col>&lt;chr&gt;</th><th scope=col>&lt;I&lt;chr&gt;&gt;</th><th scope=col>&lt;I&lt;chr&gt;&gt;</th><th scope=col>&lt;I&lt;chr&gt;&gt;</th></tr>\n",
       "</thead>\n",
       "<tbody>\n",
       "\t<tr><td>Signature                            </td><td>Hazard Ratio</td><td>p-value</td><td>FDR </td></tr>\n",
       "\t<tr><td>DNA replication                      </td><td>1.30        </td><td>0.26   </td><td>0.61</td></tr>\n",
       "\t<tr><td>mRNA metabolic process               </td><td>0.95        </td><td>0.87   </td><td>0.94</td></tr>\n",
       "\t<tr><td>cellular protein modification process</td><td>0.81        </td><td>0.51   </td><td>0.69</td></tr>\n",
       "\t<tr><td>transcription regulator activity     </td><td>0.84        </td><td>0.54   </td><td>0.69</td></tr>\n",
       "\t<tr><td>RNA metabolic process                </td><td>0.85        </td><td>0.63   </td><td>0.73</td></tr>\n",
       "\t<tr><td>vesicle organization                 </td><td>0.75        </td><td>0.35   </td><td>0.69</td></tr>\n",
       "\t<tr><td>cellular protein localization        </td><td>0.82        </td><td>0.49   </td><td>0.69</td></tr>\n",
       "\t<tr><td>RNA splicing                         </td><td>0.98        </td><td>0.95   </td><td>0.95</td></tr>\n",
       "\t<tr><td>protein targeting to ER              </td><td>1.15        </td><td>0.46   </td><td>0.69</td></tr>\n",
       "\t<tr><td>antigen processing and presentation  </td><td>0.71        </td><td>0.00   </td><td>0.02</td></tr>\n",
       "\t<tr><td>defense response to other organism   </td><td>0.73        </td><td>0.01   </td><td>0.05</td></tr>\n",
       "\t<tr><td>T cell differentiation               </td><td>0.63        </td><td>0.00   </td><td>0.02</td></tr>\n",
       "\t<tr><td>angiogenesis                         </td><td>0.63        </td><td>0.09   </td><td>0.24</td></tr>\n",
       "\t<tr><td>striated muscle cell development     </td><td>1.41        </td><td>0.00   </td><td>0.02</td></tr>\n",
       "</tbody>\n",
       "</table>\n"
      ],
      "text/latex": [
       "A data.frame: 15 × 4\n",
       "\\begin{tabular}{llll}\n",
       " Signature & Hazard Ratio & p-value & FDR\\\\\n",
       " <chr> & <I<chr>> & <I<chr>> & <I<chr>>\\\\\n",
       "\\hline\n",
       "\t Signature                             & Hazard Ratio & p-value & FDR \\\\\n",
       "\t DNA replication                       & 1.30         & 0.26    & 0.61\\\\\n",
       "\t mRNA metabolic process                & 0.95         & 0.87    & 0.94\\\\\n",
       "\t cellular protein modification process & 0.81         & 0.51    & 0.69\\\\\n",
       "\t transcription regulator activity      & 0.84         & 0.54    & 0.69\\\\\n",
       "\t RNA metabolic process                 & 0.85         & 0.63    & 0.73\\\\\n",
       "\t vesicle organization                  & 0.75         & 0.35    & 0.69\\\\\n",
       "\t cellular protein localization         & 0.82         & 0.49    & 0.69\\\\\n",
       "\t RNA splicing                          & 0.98         & 0.95    & 0.95\\\\\n",
       "\t protein targeting to ER               & 1.15         & 0.46    & 0.69\\\\\n",
       "\t antigen processing and presentation   & 0.71         & 0.00    & 0.02\\\\\n",
       "\t defense response to other organism    & 0.73         & 0.01    & 0.05\\\\\n",
       "\t T cell differentiation                & 0.63         & 0.00    & 0.02\\\\\n",
       "\t angiogenesis                          & 0.63         & 0.09    & 0.24\\\\\n",
       "\t striated muscle cell development      & 1.41         & 0.00    & 0.02\\\\\n",
       "\\end{tabular}\n"
      ],
      "text/markdown": [
       "\n",
       "A data.frame: 15 × 4\n",
       "\n",
       "| Signature &lt;chr&gt; | Hazard Ratio &lt;I&lt;chr&gt;&gt; | p-value &lt;I&lt;chr&gt;&gt; | FDR &lt;I&lt;chr&gt;&gt; |\n",
       "|---|---|---|---|\n",
       "| Signature                             | Hazard Ratio | p-value | FDR  |\n",
       "| DNA replication                       | 1.30         | 0.26    | 0.61 |\n",
       "| mRNA metabolic process                | 0.95         | 0.87    | 0.94 |\n",
       "| cellular protein modification process | 0.81         | 0.51    | 0.69 |\n",
       "| transcription regulator activity      | 0.84         | 0.54    | 0.69 |\n",
       "| RNA metabolic process                 | 0.85         | 0.63    | 0.73 |\n",
       "| vesicle organization                  | 0.75         | 0.35    | 0.69 |\n",
       "| cellular protein localization         | 0.82         | 0.49    | 0.69 |\n",
       "| RNA splicing                          | 0.98         | 0.95    | 0.95 |\n",
       "| protein targeting to ER               | 1.15         | 0.46    | 0.69 |\n",
       "| antigen processing and presentation   | 0.71         | 0.00    | 0.02 |\n",
       "| defense response to other organism    | 0.73         | 0.01    | 0.05 |\n",
       "| T cell differentiation                | 0.63         | 0.00    | 0.02 |\n",
       "| angiogenesis                          | 0.63         | 0.09    | 0.24 |\n",
       "| striated muscle cell development      | 1.41         | 0.00    | 0.02 |\n",
       "\n"
      ],
      "text/plain": [
       "   Signature                             Hazard Ratio p-value FDR \n",
       "1  Signature                             Hazard Ratio p-value FDR \n",
       "2  DNA replication                       1.30         0.26    0.61\n",
       "3  mRNA metabolic process                0.95         0.87    0.94\n",
       "4  cellular protein modification process 0.81         0.51    0.69\n",
       "5  transcription regulator activity      0.84         0.54    0.69\n",
       "6  RNA metabolic process                 0.85         0.63    0.73\n",
       "7  vesicle organization                  0.75         0.35    0.69\n",
       "8  cellular protein localization         0.82         0.49    0.69\n",
       "9  RNA splicing                          0.98         0.95    0.95\n",
       "10 protein targeting to ER               1.15         0.46    0.69\n",
       "11 antigen processing and presentation   0.71         0.00    0.02\n",
       "12 defense response to other organism    0.73         0.01    0.05\n",
       "13 T cell differentiation                0.63         0.00    0.02\n",
       "14 angiogenesis                          0.63         0.09    0.24\n",
       "15 striated muscle cell development      1.41         0.00    0.02"
      ]
     },
     "metadata": {},
     "output_type": "display_data"
    }
   ],
   "source": [
    "tabtext"
   ]
  },
  {
   "cell_type": "code",
   "execution_count": 67,
   "metadata": {},
   "outputs": [],
   "source": [
    "tabtext$`Hazard Ratio` <- NULL"
   ]
  },
  {
   "cell_type": "code",
   "execution_count": 68,
   "metadata": {},
   "outputs": [
    {
     "data": {
      "image/png": "[encoded data removed]",
      "text/plain": [
       "plot without title"
      ]
     },
     "metadata": {
      "image/png": {
       "height": 420,
       "width": 420
      }
     },
     "output_type": "display_data"
    }
   ],
   "source": [
    "fplot <- forestplot(tabtext, hrs, new_page = TRUE, xlog = TRUE,\n",
    "                   title = \"Univariable model (iMATRIX)\", boxsize = 0.25)"
   ]
  },
  {
   "cell_type": "code",
   "execution_count": 69,
   "metadata": {},
   "outputs": [
    {
     "data": {
      "text/html": [
       "<strong>pdf:</strong> 2"
      ],
      "text/latex": [
       "\\textbf{pdf:} 2"
      ],
      "text/markdown": [
       "**pdf:** 2"
      ],
      "text/plain": [
       "pdf \n",
       "  2 "
      ]
     },
     "metadata": {},
     "output_type": "display_data"
    }
   ],
   "source": [
    "pdf(file = paste0(plotpath,\"Univar_forestplot.pdf\"),\n",
    "    width = 7, height = 10,\n",
    "    useDingbats = FALSE, onefile = F)\n",
    "\n",
    "forestplot(tabtext, hrs, new_page = TRUE, xlog = TRUE,\n",
    "                   title = \"Univariable model (iMATRIX)\", boxsize = 0.25)\n",
    "\n",
    "dev.off()"
   ]
  },
  {
   "cell_type": "markdown",
   "metadata": {},
   "source": [
    "# Determine module membership for GES"
   ]
  },
  {
   "cell_type": "code",
   "execution_count": 70,
   "metadata": {
    "scrolled": true
   },
   "outputs": [
    {
     "name": "stderr",
     "output_type": "stream",
     "text": [
      "Loading required package: dynamicTreeCut\n",
      "\n",
      "Loading required package: fastcluster\n",
      "\n",
      "\n",
      "Attaching package: ‘fastcluster’\n",
      "\n",
      "\n",
      "The following object is masked from ‘package:stats’:\n",
      "\n",
      "    hclust\n",
      "\n",
      "\n",
      "\n",
      "\n",
      "\n",
      "Attaching package: ‘WGCNA’\n",
      "\n",
      "\n",
      "The following object is masked from ‘package:stats’:\n",
      "\n",
      "    cor\n",
      "\n",
      "\n"
     ]
    }
   ],
   "source": [
    "library(WGCNA)"
   ]
  },
  {
   "cell_type": "code",
   "execution_count": 71,
   "metadata": {},
   "outputs": [],
   "source": [
    "mountpath <- \"/Users/anabbi/Desktop/H4H/INDICATE/wgcna/th/\""
   ]
  },
  {
   "cell_type": "code",
   "execution_count": 72,
   "metadata": {},
   "outputs": [],
   "source": [
    "load(paste0(mountpath, \"Consensus_Network_TH_manual_signed_20.RData\"))"
   ]
  },
  {
   "cell_type": "code",
   "execution_count": 73,
   "metadata": {},
   "outputs": [],
   "source": [
    "load(file = paste0(datapath, \"WGCNA/TH/Consensus-dataInput_Treehouse_tpm.RData\"))"
   ]
  },
  {
   "cell_type": "code",
   "execution_count": 74,
   "metadata": {},
   "outputs": [],
   "source": [
    "gene_module <- read.csv(file = paste0(datapath, \"/WGCNA/TH/gene_module_treehouse_manual_signed_20.csv\"),\n",
    "                       header = T, stringsAsFactors = F,row.names = 1,check.names = F) "
   ]
  },
  {
   "cell_type": "code",
   "execution_count": 75,
   "metadata": {},
   "outputs": [],
   "source": [
    "GO_module <- read.csv(file = paste0(datapath, \"WGCNA/TH/GO_TH_cons_manual_signed_20.csv\"),\n",
    "                       header = T, stringsAsFactors = F,row.names = 1,check.names = F) "
   ]
  },
  {
   "cell_type": "code",
   "execution_count": 76,
   "metadata": {},
   "outputs": [
    {
     "data": {
      "text/html": [
       "<table class=\"dataframe\">\n",
       "<caption>A data.frame: 6 × 7</caption>\n",
       "<thead>\n",
       "\t<tr><th></th><th scope=col>module</th><th scope=col>modSize</th><th scope=col>enrichmentP</th><th scope=col>BonferoniP</th><th scope=col>nModGenesInTerm</th><th scope=col>termOntology</th><th scope=col>termName</th></tr>\n",
       "\t<tr><th></th><th scope=col>&lt;chr&gt;</th><th scope=col>&lt;int&gt;</th><th scope=col>&lt;dbl&gt;</th><th scope=col>&lt;dbl&gt;</th><th scope=col>&lt;int&gt;</th><th scope=col>&lt;chr&gt;</th><th scope=col>&lt;chr&gt;</th></tr>\n",
       "</thead>\n",
       "<tbody>\n",
       "\t<tr><th scope=row>GO:0000139</th><td>black</td><td>331</td><td>3.6e-14</td><td>6.6e-10</td><td> 49</td><td>CC</td><td>Golgi membrane                  </td></tr>\n",
       "\t<tr><th scope=row>GO:0005794</th><td>black</td><td>331</td><td>1.9e-13</td><td>3.5e-09</td><td> 73</td><td>CC</td><td>Golgi apparatus                 </td></tr>\n",
       "\t<tr><th scope=row>GO:0016050</th><td>black</td><td>331</td><td>4.6e-13</td><td>8.5e-09</td><td> 31</td><td>BP</td><td>vesicle organization            </td></tr>\n",
       "\t<tr><th scope=row>GO:0031090</th><td>black</td><td>331</td><td>8.8e-13</td><td>1.6e-08</td><td>120</td><td>CC</td><td>organelle membrane              </td></tr>\n",
       "\t<tr><th scope=row>GO:0012505</th><td>black</td><td>331</td><td>4.0e-12</td><td>7.3e-08</td><td>140</td><td>CC</td><td>endomembrane system             </td></tr>\n",
       "\t<tr><th scope=row>GO:0010256</th><td>black</td><td>331</td><td>9.7e-12</td><td>1.8e-07</td><td> 34</td><td>BP</td><td>endomembrane system organization</td></tr>\n",
       "</tbody>\n",
       "</table>\n"
      ],
      "text/latex": [
       "A data.frame: 6 × 7\n",
       "\\begin{tabular}{r|lllllll}\n",
       "  & module & modSize & enrichmentP & BonferoniP & nModGenesInTerm & termOntology & termName\\\\\n",
       "  & <chr> & <int> & <dbl> & <dbl> & <int> & <chr> & <chr>\\\\\n",
       "\\hline\n",
       "\tGO:0000139 & black & 331 & 3.6e-14 & 6.6e-10 &  49 & CC & Golgi membrane                  \\\\\n",
       "\tGO:0005794 & black & 331 & 1.9e-13 & 3.5e-09 &  73 & CC & Golgi apparatus                 \\\\\n",
       "\tGO:0016050 & black & 331 & 4.6e-13 & 8.5e-09 &  31 & BP & vesicle organization            \\\\\n",
       "\tGO:0031090 & black & 331 & 8.8e-13 & 1.6e-08 & 120 & CC & organelle membrane              \\\\\n",
       "\tGO:0012505 & black & 331 & 4.0e-12 & 7.3e-08 & 140 & CC & endomembrane system             \\\\\n",
       "\tGO:0010256 & black & 331 & 9.7e-12 & 1.8e-07 &  34 & BP & endomembrane system organization\\\\\n",
       "\\end{tabular}\n"
      ],
      "text/markdown": [
       "\n",
       "A data.frame: 6 × 7\n",
       "\n",
       "| <!--/--> | module &lt;chr&gt; | modSize &lt;int&gt; | enrichmentP &lt;dbl&gt; | BonferoniP &lt;dbl&gt; | nModGenesInTerm &lt;int&gt; | termOntology &lt;chr&gt; | termName &lt;chr&gt; |\n",
       "|---|---|---|---|---|---|---|---|\n",
       "| GO:0000139 | black | 331 | 3.6e-14 | 6.6e-10 |  49 | CC | Golgi membrane                   |\n",
       "| GO:0005794 | black | 331 | 1.9e-13 | 3.5e-09 |  73 | CC | Golgi apparatus                  |\n",
       "| GO:0016050 | black | 331 | 4.6e-13 | 8.5e-09 |  31 | BP | vesicle organization             |\n",
       "| GO:0031090 | black | 331 | 8.8e-13 | 1.6e-08 | 120 | CC | organelle membrane               |\n",
       "| GO:0012505 | black | 331 | 4.0e-12 | 7.3e-08 | 140 | CC | endomembrane system              |\n",
       "| GO:0010256 | black | 331 | 9.7e-12 | 1.8e-07 |  34 | BP | endomembrane system organization |\n",
       "\n"
      ],
      "text/plain": [
       "           module modSize enrichmentP BonferoniP nModGenesInTerm termOntology\n",
       "GO:0000139 black  331     3.6e-14     6.6e-10     49             CC          \n",
       "GO:0005794 black  331     1.9e-13     3.5e-09     73             CC          \n",
       "GO:0016050 black  331     4.6e-13     8.5e-09     31             BP          \n",
       "GO:0031090 black  331     8.8e-13     1.6e-08    120             CC          \n",
       "GO:0012505 black  331     4.0e-12     7.3e-08    140             CC          \n",
       "GO:0010256 black  331     9.7e-12     1.8e-07     34             BP          \n",
       "           termName                        \n",
       "GO:0000139 Golgi membrane                  \n",
       "GO:0005794 Golgi apparatus                 \n",
       "GO:0016050 vesicle organization            \n",
       "GO:0031090 organelle membrane              \n",
       "GO:0012505 endomembrane system             \n",
       "GO:0010256 endomembrane system organization"
      ]
     },
     "metadata": {},
     "output_type": "display_data"
    }
   ],
   "source": [
    "head(GO_module)"
   ]
  },
  {
   "cell_type": "code",
   "execution_count": 77,
   "metadata": {},
   "outputs": [],
   "source": [
    "# add module labels to GO data\n",
    "labels_colors <- gene_module[ !duplicated(gene_module$moduleColor),c(\"moduleLabel\", \"moduleColor\")]\n",
    "GO_module$label <- NA\n",
    "for(i in 1:nrow(labels_colors)){\n",
    "    mycolor <- labels_colors$moduleColor[i]\n",
    "    GO_module$label[GO_module$module == mycolor] <- labels_colors$moduleLabel[labels_colors$moduleColor == mycolor]\n",
    "    }"
   ]
  },
  {
   "cell_type": "code",
   "execution_count": 78,
   "metadata": {},
   "outputs": [
    {
     "data": {
      "text/html": [
       "<table class=\"dataframe\">\n",
       "<caption>A data.frame: 10 × 8</caption>\n",
       "<thead>\n",
       "\t<tr><th></th><th scope=col>module</th><th scope=col>modSize</th><th scope=col>enrichmentP</th><th scope=col>BonferoniP</th><th scope=col>nModGenesInTerm</th><th scope=col>termOntology</th><th scope=col>termName</th><th scope=col>label</th></tr>\n",
       "\t<tr><th></th><th scope=col>&lt;chr&gt;</th><th scope=col>&lt;int&gt;</th><th scope=col>&lt;dbl&gt;</th><th scope=col>&lt;dbl&gt;</th><th scope=col>&lt;int&gt;</th><th scope=col>&lt;chr&gt;</th><th scope=col>&lt;chr&gt;</th><th scope=col>&lt;int&gt;</th></tr>\n",
       "</thead>\n",
       "<tbody>\n",
       "\t<tr><th scope=row>GO:0006955</th><td>brown</td><td>224</td><td>2.5e-99</td><td>4.5e-95</td><td>155</td><td>BP</td><td>immune response                     </td><td>3</td></tr>\n",
       "\t<tr><th scope=row>GO:0002376</th><td>brown</td><td>224</td><td>1.7e-82</td><td>3.1e-78</td><td>164</td><td>BP</td><td>immune system process               </td><td>3</td></tr>\n",
       "\t<tr><th scope=row>GO:0002682</th><td>brown</td><td>224</td><td>2.0e-61</td><td>3.6e-57</td><td>112</td><td>BP</td><td>regulation of immune system process </td><td>3</td></tr>\n",
       "\t<tr><th scope=row>GO:0001775</th><td>brown</td><td>224</td><td>2.9e-59</td><td>5.2e-55</td><td>107</td><td>BP</td><td>cell activation                     </td><td>3</td></tr>\n",
       "\t<tr><th scope=row>GO:0006952</th><td>brown</td><td>224</td><td>3.6e-59</td><td>6.6e-55</td><td>111</td><td>BP</td><td>defense response                    </td><td>3</td></tr>\n",
       "\t<tr><th scope=row>GO:0045321</th><td>brown</td><td>224</td><td>1.5e-58</td><td>2.7e-54</td><td>102</td><td>BP</td><td>leukocyte activation                </td><td>3</td></tr>\n",
       "\t<tr><th scope=row>GO:0050776</th><td>brown</td><td>224</td><td>1.5e-56</td><td>2.7e-52</td><td> 88</td><td>BP</td><td>regulation of immune response       </td><td>3</td></tr>\n",
       "\t<tr><th scope=row>GO:0051707</th><td>brown</td><td>224</td><td>9.0e-46</td><td>1.7e-41</td><td> 92</td><td>BP</td><td>response to other organism          </td><td>3</td></tr>\n",
       "\t<tr><th scope=row>GO:0043207</th><td>brown</td><td>224</td><td>1.0e-45</td><td>1.9e-41</td><td> 92</td><td>BP</td><td>response to external biotic stimulus</td><td>3</td></tr>\n",
       "\t<tr><th scope=row>GO:0098542</th><td>brown</td><td>224</td><td>8.3e-44</td><td>1.5e-39</td><td> 80</td><td>BP</td><td>defense response to other organism  </td><td>3</td></tr>\n",
       "</tbody>\n",
       "</table>\n"
      ],
      "text/latex": [
       "A data.frame: 10 × 8\n",
       "\\begin{tabular}{r|llllllll}\n",
       "  & module & modSize & enrichmentP & BonferoniP & nModGenesInTerm & termOntology & termName & label\\\\\n",
       "  & <chr> & <int> & <dbl> & <dbl> & <int> & <chr> & <chr> & <int>\\\\\n",
       "\\hline\n",
       "\tGO:0006955 & brown & 224 & 2.5e-99 & 4.5e-95 & 155 & BP & immune response                      & 3\\\\\n",
       "\tGO:0002376 & brown & 224 & 1.7e-82 & 3.1e-78 & 164 & BP & immune system process                & 3\\\\\n",
       "\tGO:0002682 & brown & 224 & 2.0e-61 & 3.6e-57 & 112 & BP & regulation of immune system process  & 3\\\\\n",
       "\tGO:0001775 & brown & 224 & 2.9e-59 & 5.2e-55 & 107 & BP & cell activation                      & 3\\\\\n",
       "\tGO:0006952 & brown & 224 & 3.6e-59 & 6.6e-55 & 111 & BP & defense response                     & 3\\\\\n",
       "\tGO:0045321 & brown & 224 & 1.5e-58 & 2.7e-54 & 102 & BP & leukocyte activation                 & 3\\\\\n",
       "\tGO:0050776 & brown & 224 & 1.5e-56 & 2.7e-52 &  88 & BP & regulation of immune response        & 3\\\\\n",
       "\tGO:0051707 & brown & 224 & 9.0e-46 & 1.7e-41 &  92 & BP & response to other organism           & 3\\\\\n",
       "\tGO:0043207 & brown & 224 & 1.0e-45 & 1.9e-41 &  92 & BP & response to external biotic stimulus & 3\\\\\n",
       "\tGO:0098542 & brown & 224 & 8.3e-44 & 1.5e-39 &  80 & BP & defense response to other organism   & 3\\\\\n",
       "\\end{tabular}\n"
      ],
      "text/markdown": [
       "\n",
       "A data.frame: 10 × 8\n",
       "\n",
       "| <!--/--> | module &lt;chr&gt; | modSize &lt;int&gt; | enrichmentP &lt;dbl&gt; | BonferoniP &lt;dbl&gt; | nModGenesInTerm &lt;int&gt; | termOntology &lt;chr&gt; | termName &lt;chr&gt; | label &lt;int&gt; |\n",
       "|---|---|---|---|---|---|---|---|---|\n",
       "| GO:0006955 | brown | 224 | 2.5e-99 | 4.5e-95 | 155 | BP | immune response                      | 3 |\n",
       "| GO:0002376 | brown | 224 | 1.7e-82 | 3.1e-78 | 164 | BP | immune system process                | 3 |\n",
       "| GO:0002682 | brown | 224 | 2.0e-61 | 3.6e-57 | 112 | BP | regulation of immune system process  | 3 |\n",
       "| GO:0001775 | brown | 224 | 2.9e-59 | 5.2e-55 | 107 | BP | cell activation                      | 3 |\n",
       "| GO:0006952 | brown | 224 | 3.6e-59 | 6.6e-55 | 111 | BP | defense response                     | 3 |\n",
       "| GO:0045321 | brown | 224 | 1.5e-58 | 2.7e-54 | 102 | BP | leukocyte activation                 | 3 |\n",
       "| GO:0050776 | brown | 224 | 1.5e-56 | 2.7e-52 |  88 | BP | regulation of immune response        | 3 |\n",
       "| GO:0051707 | brown | 224 | 9.0e-46 | 1.7e-41 |  92 | BP | response to other organism           | 3 |\n",
       "| GO:0043207 | brown | 224 | 1.0e-45 | 1.9e-41 |  92 | BP | response to external biotic stimulus | 3 |\n",
       "| GO:0098542 | brown | 224 | 8.3e-44 | 1.5e-39 |  80 | BP | defense response to other organism   | 3 |\n",
       "\n"
      ],
      "text/plain": [
       "           module modSize enrichmentP BonferoniP nModGenesInTerm termOntology\n",
       "GO:0006955 brown  224     2.5e-99     4.5e-95    155             BP          \n",
       "GO:0002376 brown  224     1.7e-82     3.1e-78    164             BP          \n",
       "GO:0002682 brown  224     2.0e-61     3.6e-57    112             BP          \n",
       "GO:0001775 brown  224     2.9e-59     5.2e-55    107             BP          \n",
       "GO:0006952 brown  224     3.6e-59     6.6e-55    111             BP          \n",
       "GO:0045321 brown  224     1.5e-58     2.7e-54    102             BP          \n",
       "GO:0050776 brown  224     1.5e-56     2.7e-52     88             BP          \n",
       "GO:0051707 brown  224     9.0e-46     1.7e-41     92             BP          \n",
       "GO:0043207 brown  224     1.0e-45     1.9e-41     92             BP          \n",
       "GO:0098542 brown  224     8.3e-44     1.5e-39     80             BP          \n",
       "           termName                             label\n",
       "GO:0006955 immune response                      3    \n",
       "GO:0002376 immune system process                3    \n",
       "GO:0002682 regulation of immune system process  3    \n",
       "GO:0001775 cell activation                      3    \n",
       "GO:0006952 defense response                     3    \n",
       "GO:0045321 leukocyte activation                 3    \n",
       "GO:0050776 regulation of immune response        3    \n",
       "GO:0051707 response to other organism           3    \n",
       "GO:0043207 response to external biotic stimulus 3    \n",
       "GO:0098542 defense response to other organism   3    "
      ]
     },
     "metadata": {},
     "output_type": "display_data"
    }
   ],
   "source": [
    "GO_module[ GO_module$label == 3,]"
   ]
  },
  {
   "cell_type": "code",
   "execution_count": 79,
   "metadata": {},
   "outputs": [],
   "source": [
    "modNames <- substring(names(consMEs[[1]]$data), 3)"
   ]
  },
  {
   "cell_type": "code",
   "execution_count": 80,
   "metadata": {},
   "outputs": [
    {
     "data": {
      "text/html": [
       "7"
      ],
      "text/latex": [
       "7"
      ],
      "text/markdown": [
       "7"
      ],
      "text/plain": [
       "[1] 7"
      ]
     },
     "metadata": {},
     "output_type": "display_data"
    }
   ],
   "source": [
    "length(consMEs)"
   ]
  },
  {
   "cell_type": "code",
   "execution_count": 81,
   "metadata": {},
   "outputs": [],
   "source": [
    "geneInfo <- gene_module"
   ]
  },
  {
   "cell_type": "code",
   "execution_count": 82,
   "metadata": {},
   "outputs": [],
   "source": [
    "for(c in 1:length(consMEs)){\n",
    "    #for each cancer, correlate genes with module eigengenes\n",
    "    geneModuleMembership <- as.data.frame(cor(treehouse_gene_mat[[c]]$data, consMEs[[c]]$data, use = \"p\"))\n",
    "    MMPvalue <- as.data.frame(corPvalueStudent(as.matrix(geneModuleMembership), nSamples[c]))\n",
    "    #add cancer index to colnames\n",
    "    names(geneModuleMembership) <- paste0(\"MM_TH\", modNames, \"_\", c)\n",
    "    names(MMPvalue) <- paste0(\"p.MM_TH\", modNames, \"_\", c)\n",
    "    \n",
    "    geneInfo <- data.frame(geneInfo, geneModuleMembership[rownames(geneInfo),],\n",
    "                           MMPvalue[rownames(geneInfo), ])\n",
    "}"
   ]
  },
  {
   "cell_type": "code",
   "execution_count": 83,
   "metadata": {},
   "outputs": [],
   "source": [
    "geneInfo <- geneInfo[ geneInfo$moduleLabel != 0,]"
   ]
  },
  {
   "cell_type": "code",
   "execution_count": 84,
   "metadata": {},
   "outputs": [],
   "source": [
    "geneInfo$moduleLabel <- as.character(geneInfo$moduleLabel)"
   ]
  },
  {
   "cell_type": "code",
   "execution_count": 85,
   "metadata": {},
   "outputs": [],
   "source": [
    "tables8 <- geneInfo[, !grepl(\"TH0\", colnames(geneInfo))]\n",
    "tables8$moduleLabel <- paste0(\"TH_\", tables8$moduleLabel)\n",
    "\n",
    "write.csv(tables8, file = \"~/OneDrive - UHN/Documents/Manuscripts/INDICATE/v2/TableS8.csv\")"
   ]
  },
  {
   "cell_type": "code",
   "execution_count": 86,
   "metadata": {},
   "outputs": [],
   "source": [
    "#Antigen presentation module\n",
    "TH_27 <- geneInfo[ geneInfo$moduleLabel == \"27\",]"
   ]
  },
  {
   "cell_type": "code",
   "execution_count": 87,
   "metadata": {},
   "outputs": [
    {
     "data": {
      "text/html": [
       "<style>\n",
       ".list-inline {list-style: none; margin:0; padding: 0}\n",
       ".list-inline>li {display: inline-block}\n",
       ".list-inline>li:not(:last-child)::after {content: \"\\00b7\"; padding: 0 .5ex}\n",
       "</style>\n",
       "<ol class=list-inline><li>'ARHGAP9'</li><li>'C11orf21'</li><li>'C16orf54'</li><li>'CCL17'</li><li>'CCL22'</li><li>'CCL5'</li><li>'CCR4'</li><li>'CCR7'</li><li>'CD2'</li><li>'CD244'</li><li>'CD247'</li><li>'CD27'</li><li>'CD3D'</li><li>'CD3E'</li><li>'CD3G'</li><li>'CD5'</li><li>'CD8A'</li><li>'CD96'</li><li>'CHRM3-AS2'</li><li>'CLEC9A'</li><li>'CRTAM'</li><li>'CST7'</li><li>'CTSW'</li><li>'CXCL9'</li><li>'CXCR3'</li><li>'CXCR6'</li><li>'EOMES'</li><li>'FASLG'</li><li>'FCER2'</li><li>'FCRL6'</li><li>'GPR171'</li><li>'GZMA'</li><li>'GZMH'</li><li>'GZMK'</li><li>'ICOS'</li><li>'IFNG'</li><li>'IL7R'</li><li>'ITK'</li><li>'KIAA0125'</li><li>'KIR3DL2'</li><li>'LINC00861'</li><li>'LINC00892'</li><li>'NKG7'</li><li>'P2RY10'</li><li>'PARVG'</li><li>'PRF1'</li><li>'RGL4'</li><li>'SAMD3'</li><li>'SH2D1A'</li><li>'SIRPG'</li><li>'SLA2'</li><li>'SLAMF1'</li><li>'THEMIS'</li><li>'TRAT1'</li><li>'UBASH3A'</li><li>'UBD'</li><li>'XCL2'</li><li>'ZNF683'</li></ol>\n"
      ],
      "text/latex": [
       "\\begin{enumerate*}\n",
       "\\item 'ARHGAP9'\n",
       "\\item 'C11orf21'\n",
       "\\item 'C16orf54'\n",
       "\\item 'CCL17'\n",
       "\\item 'CCL22'\n",
       "\\item 'CCL5'\n",
       "\\item 'CCR4'\n",
       "\\item 'CCR7'\n",
       "\\item 'CD2'\n",
       "\\item 'CD244'\n",
       "\\item 'CD247'\n",
       "\\item 'CD27'\n",
       "\\item 'CD3D'\n",
       "\\item 'CD3E'\n",
       "\\item 'CD3G'\n",
       "\\item 'CD5'\n",
       "\\item 'CD8A'\n",
       "\\item 'CD96'\n",
       "\\item 'CHRM3-AS2'\n",
       "\\item 'CLEC9A'\n",
       "\\item 'CRTAM'\n",
       "\\item 'CST7'\n",
       "\\item 'CTSW'\n",
       "\\item 'CXCL9'\n",
       "\\item 'CXCR3'\n",
       "\\item 'CXCR6'\n",
       "\\item 'EOMES'\n",
       "\\item 'FASLG'\n",
       "\\item 'FCER2'\n",
       "\\item 'FCRL6'\n",
       "\\item 'GPR171'\n",
       "\\item 'GZMA'\n",
       "\\item 'GZMH'\n",
       "\\item 'GZMK'\n",
       "\\item 'ICOS'\n",
       "\\item 'IFNG'\n",
       "\\item 'IL7R'\n",
       "\\item 'ITK'\n",
       "\\item 'KIAA0125'\n",
       "\\item 'KIR3DL2'\n",
       "\\item 'LINC00861'\n",
       "\\item 'LINC00892'\n",
       "\\item 'NKG7'\n",
       "\\item 'P2RY10'\n",
       "\\item 'PARVG'\n",
       "\\item 'PRF1'\n",
       "\\item 'RGL4'\n",
       "\\item 'SAMD3'\n",
       "\\item 'SH2D1A'\n",
       "\\item 'SIRPG'\n",
       "\\item 'SLA2'\n",
       "\\item 'SLAMF1'\n",
       "\\item 'THEMIS'\n",
       "\\item 'TRAT1'\n",
       "\\item 'UBASH3A'\n",
       "\\item 'UBD'\n",
       "\\item 'XCL2'\n",
       "\\item 'ZNF683'\n",
       "\\end{enumerate*}\n"
      ],
      "text/markdown": [
       "1. 'ARHGAP9'\n",
       "2. 'C11orf21'\n",
       "3. 'C16orf54'\n",
       "4. 'CCL17'\n",
       "5. 'CCL22'\n",
       "6. 'CCL5'\n",
       "7. 'CCR4'\n",
       "8. 'CCR7'\n",
       "9. 'CD2'\n",
       "10. 'CD244'\n",
       "11. 'CD247'\n",
       "12. 'CD27'\n",
       "13. 'CD3D'\n",
       "14. 'CD3E'\n",
       "15. 'CD3G'\n",
       "16. 'CD5'\n",
       "17. 'CD8A'\n",
       "18. 'CD96'\n",
       "19. 'CHRM3-AS2'\n",
       "20. 'CLEC9A'\n",
       "21. 'CRTAM'\n",
       "22. 'CST7'\n",
       "23. 'CTSW'\n",
       "24. 'CXCL9'\n",
       "25. 'CXCR3'\n",
       "26. 'CXCR6'\n",
       "27. 'EOMES'\n",
       "28. 'FASLG'\n",
       "29. 'FCER2'\n",
       "30. 'FCRL6'\n",
       "31. 'GPR171'\n",
       "32. 'GZMA'\n",
       "33. 'GZMH'\n",
       "34. 'GZMK'\n",
       "35. 'ICOS'\n",
       "36. 'IFNG'\n",
       "37. 'IL7R'\n",
       "38. 'ITK'\n",
       "39. 'KIAA0125'\n",
       "40. 'KIR3DL2'\n",
       "41. 'LINC00861'\n",
       "42. 'LINC00892'\n",
       "43. 'NKG7'\n",
       "44. 'P2RY10'\n",
       "45. 'PARVG'\n",
       "46. 'PRF1'\n",
       "47. 'RGL4'\n",
       "48. 'SAMD3'\n",
       "49. 'SH2D1A'\n",
       "50. 'SIRPG'\n",
       "51. 'SLA2'\n",
       "52. 'SLAMF1'\n",
       "53. 'THEMIS'\n",
       "54. 'TRAT1'\n",
       "55. 'UBASH3A'\n",
       "56. 'UBD'\n",
       "57. 'XCL2'\n",
       "58. 'ZNF683'\n",
       "\n",
       "\n"
      ],
      "text/plain": [
       " [1] \"ARHGAP9\"   \"C11orf21\"  \"C16orf54\"  \"CCL17\"     \"CCL22\"     \"CCL5\"     \n",
       " [7] \"CCR4\"      \"CCR7\"      \"CD2\"       \"CD244\"     \"CD247\"     \"CD27\"     \n",
       "[13] \"CD3D\"      \"CD3E\"      \"CD3G\"      \"CD5\"       \"CD8A\"      \"CD96\"     \n",
       "[19] \"CHRM3-AS2\" \"CLEC9A\"    \"CRTAM\"     \"CST7\"      \"CTSW\"      \"CXCL9\"    \n",
       "[25] \"CXCR3\"     \"CXCR6\"     \"EOMES\"     \"FASLG\"     \"FCER2\"     \"FCRL6\"    \n",
       "[31] \"GPR171\"    \"GZMA\"      \"GZMH\"      \"GZMK\"      \"ICOS\"      \"IFNG\"     \n",
       "[37] \"IL7R\"      \"ITK\"       \"KIAA0125\"  \"KIR3DL2\"   \"LINC00861\" \"LINC00892\"\n",
       "[43] \"NKG7\"      \"P2RY10\"    \"PARVG\"     \"PRF1\"      \"RGL4\"      \"SAMD3\"    \n",
       "[49] \"SH2D1A\"    \"SIRPG\"     \"SLA2\"      \"SLAMF1\"    \"THEMIS\"    \"TRAT1\"    \n",
       "[55] \"UBASH3A\"   \"UBD\"       \"XCL2\"      \"ZNF683\"   "
      ]
     },
     "metadata": {},
     "output_type": "display_data"
    }
   ],
   "source": [
    "rownames(geneInfo)[ geneInfo$moduleLabel == \"13\"]"
   ]
  },
  {
   "cell_type": "code",
   "execution_count": 88,
   "metadata": {},
   "outputs": [
    {
     "data": {
      "text/html": [
       "<style>\n",
       ".list-inline {list-style: none; margin:0; padding: 0}\n",
       ".list-inline>li {display: inline-block}\n",
       ".list-inline>li:not(:last-child)::after {content: \"\\00b7\"; padding: 0 .5ex}\n",
       "</style>\n",
       "<ol class=list-inline><li>'ACTC1'</li><li>'ASB5'</li><li>'CAV3'</li><li>'CHRNA1'</li><li>'CHRND'</li><li>'CKM'</li><li>'CSRP3'</li><li>'DES'</li><li>'DUSP13'</li><li>'DUSP27'</li><li>'HSPB3'</li><li>'KLHL30'</li><li>'KLHL40'</li><li>'KLHL41'</li><li>'MYF6'</li><li>'MYL1'</li><li>'MYL2'</li><li>'MYOG'</li><li>'MYOM3'</li><li>'MYOZ2'</li><li>'MYPN'</li><li>'NRAP'</li><li>'RAPSN'</li><li>'RPL3L'</li><li>'SGCA'</li><li>'SLN'</li><li>'SMYD1'</li><li>'TRDN'</li></ol>\n"
      ],
      "text/latex": [
       "\\begin{enumerate*}\n",
       "\\item 'ACTC1'\n",
       "\\item 'ASB5'\n",
       "\\item 'CAV3'\n",
       "\\item 'CHRNA1'\n",
       "\\item 'CHRND'\n",
       "\\item 'CKM'\n",
       "\\item 'CSRP3'\n",
       "\\item 'DES'\n",
       "\\item 'DUSP13'\n",
       "\\item 'DUSP27'\n",
       "\\item 'HSPB3'\n",
       "\\item 'KLHL30'\n",
       "\\item 'KLHL40'\n",
       "\\item 'KLHL41'\n",
       "\\item 'MYF6'\n",
       "\\item 'MYL1'\n",
       "\\item 'MYL2'\n",
       "\\item 'MYOG'\n",
       "\\item 'MYOM3'\n",
       "\\item 'MYOZ2'\n",
       "\\item 'MYPN'\n",
       "\\item 'NRAP'\n",
       "\\item 'RAPSN'\n",
       "\\item 'RPL3L'\n",
       "\\item 'SGCA'\n",
       "\\item 'SLN'\n",
       "\\item 'SMYD1'\n",
       "\\item 'TRDN'\n",
       "\\end{enumerate*}\n"
      ],
      "text/markdown": [
       "1. 'ACTC1'\n",
       "2. 'ASB5'\n",
       "3. 'CAV3'\n",
       "4. 'CHRNA1'\n",
       "5. 'CHRND'\n",
       "6. 'CKM'\n",
       "7. 'CSRP3'\n",
       "8. 'DES'\n",
       "9. 'DUSP13'\n",
       "10. 'DUSP27'\n",
       "11. 'HSPB3'\n",
       "12. 'KLHL30'\n",
       "13. 'KLHL40'\n",
       "14. 'KLHL41'\n",
       "15. 'MYF6'\n",
       "16. 'MYL1'\n",
       "17. 'MYL2'\n",
       "18. 'MYOG'\n",
       "19. 'MYOM3'\n",
       "20. 'MYOZ2'\n",
       "21. 'MYPN'\n",
       "22. 'NRAP'\n",
       "23. 'RAPSN'\n",
       "24. 'RPL3L'\n",
       "25. 'SGCA'\n",
       "26. 'SLN'\n",
       "27. 'SMYD1'\n",
       "28. 'TRDN'\n",
       "\n",
       "\n"
      ],
      "text/plain": [
       " [1] \"ACTC1\"  \"ASB5\"   \"CAV3\"   \"CHRNA1\" \"CHRND\"  \"CKM\"    \"CSRP3\"  \"DES\"   \n",
       " [9] \"DUSP13\" \"DUSP27\" \"HSPB3\"  \"KLHL30\" \"KLHL40\" \"KLHL41\" \"MYF6\"   \"MYL1\"  \n",
       "[17] \"MYL2\"   \"MYOG\"   \"MYOM3\"  \"MYOZ2\"  \"MYPN\"   \"NRAP\"   \"RAPSN\"  \"RPL3L\" \n",
       "[25] \"SGCA\"   \"SLN\"    \"SMYD1\"  \"TRDN\"  "
      ]
     },
     "metadata": {},
     "output_type": "display_data"
    }
   ],
   "source": [
    "rownames(geneInfo)[ geneInfo$moduleLabel == \"26\"]"
   ]
  },
  {
   "cell_type": "code",
   "execution_count": 89,
   "metadata": {},
   "outputs": [
    {
     "data": {
      "text/html": [
       "<style>\n",
       ".list-inline {list-style: none; margin:0; padding: 0}\n",
       ".list-inline>li {display: inline-block}\n",
       ".list-inline>li:not(:last-child)::after {content: \"\\00b7\"; padding: 0 .5ex}\n",
       "</style>\n",
       "<ol class=list-inline><li>'ACSL5'</li><li>'APOL1'</li><li>'APOL3'</li><li>'APOL6'</li><li>'B2M'</li><li>'CARD16'</li><li>'CASP1'</li><li>'ETV7'</li><li>'GBP4'</li><li>'HCP5'</li><li>'HLA-A'</li><li>'HLA-B'</li><li>'HLA-C'</li><li>'HLA-E'</li><li>'HLA-F'</li><li>'IFIH1'</li><li>'LAPTM5'</li><li>'MLKL'</li><li>'NLRC5'</li><li>'PSMB8'</li><li>'PSMB8-AS1'</li><li>'PSMB9'</li><li>'RARRES3'</li><li>'RTP4'</li><li>'SP100'</li><li>'TAP1'</li><li>'TNFRSF14'</li><li>'WAS'</li></ol>\n"
      ],
      "text/latex": [
       "\\begin{enumerate*}\n",
       "\\item 'ACSL5'\n",
       "\\item 'APOL1'\n",
       "\\item 'APOL3'\n",
       "\\item 'APOL6'\n",
       "\\item 'B2M'\n",
       "\\item 'CARD16'\n",
       "\\item 'CASP1'\n",
       "\\item 'ETV7'\n",
       "\\item 'GBP4'\n",
       "\\item 'HCP5'\n",
       "\\item 'HLA-A'\n",
       "\\item 'HLA-B'\n",
       "\\item 'HLA-C'\n",
       "\\item 'HLA-E'\n",
       "\\item 'HLA-F'\n",
       "\\item 'IFIH1'\n",
       "\\item 'LAPTM5'\n",
       "\\item 'MLKL'\n",
       "\\item 'NLRC5'\n",
       "\\item 'PSMB8'\n",
       "\\item 'PSMB8-AS1'\n",
       "\\item 'PSMB9'\n",
       "\\item 'RARRES3'\n",
       "\\item 'RTP4'\n",
       "\\item 'SP100'\n",
       "\\item 'TAP1'\n",
       "\\item 'TNFRSF14'\n",
       "\\item 'WAS'\n",
       "\\end{enumerate*}\n"
      ],
      "text/markdown": [
       "1. 'ACSL5'\n",
       "2. 'APOL1'\n",
       "3. 'APOL3'\n",
       "4. 'APOL6'\n",
       "5. 'B2M'\n",
       "6. 'CARD16'\n",
       "7. 'CASP1'\n",
       "8. 'ETV7'\n",
       "9. 'GBP4'\n",
       "10. 'HCP5'\n",
       "11. 'HLA-A'\n",
       "12. 'HLA-B'\n",
       "13. 'HLA-C'\n",
       "14. 'HLA-E'\n",
       "15. 'HLA-F'\n",
       "16. 'IFIH1'\n",
       "17. 'LAPTM5'\n",
       "18. 'MLKL'\n",
       "19. 'NLRC5'\n",
       "20. 'PSMB8'\n",
       "21. 'PSMB8-AS1'\n",
       "22. 'PSMB9'\n",
       "23. 'RARRES3'\n",
       "24. 'RTP4'\n",
       "25. 'SP100'\n",
       "26. 'TAP1'\n",
       "27. 'TNFRSF14'\n",
       "28. 'WAS'\n",
       "\n",
       "\n"
      ],
      "text/plain": [
       " [1] \"ACSL5\"     \"APOL1\"     \"APOL3\"     \"APOL6\"     \"B2M\"       \"CARD16\"   \n",
       " [7] \"CASP1\"     \"ETV7\"      \"GBP4\"      \"HCP5\"      \"HLA-A\"     \"HLA-B\"    \n",
       "[13] \"HLA-C\"     \"HLA-E\"     \"HLA-F\"     \"IFIH1\"     \"LAPTM5\"    \"MLKL\"     \n",
       "[19] \"NLRC5\"     \"PSMB8\"     \"PSMB8-AS1\" \"PSMB9\"     \"RARRES3\"   \"RTP4\"     \n",
       "[25] \"SP100\"     \"TAP1\"      \"TNFRSF14\"  \"WAS\"      "
      ]
     },
     "metadata": {},
     "output_type": "display_data"
    }
   ],
   "source": [
    "rownames(TH_27)"
   ]
  },
  {
   "cell_type": "code",
   "execution_count": 90,
   "metadata": {
    "scrolled": true
   },
   "outputs": [
    {
     "data": {
      "text/html": [
       "<table class=\"dataframe\">\n",
       "<caption>A data.frame: 28 × 14</caption>\n",
       "<thead>\n",
       "\t<tr><th></th><th scope=col>MM_TH27_1</th><th scope=col>p.MM_TH27_1</th><th scope=col>MM_TH27_2</th><th scope=col>p.MM_TH27_2</th><th scope=col>MM_TH27_3</th><th scope=col>p.MM_TH27_3</th><th scope=col>MM_TH27_4</th><th scope=col>p.MM_TH27_4</th><th scope=col>MM_TH27_5</th><th scope=col>p.MM_TH27_5</th><th scope=col>MM_TH27_6</th><th scope=col>p.MM_TH27_6</th><th scope=col>MM_TH27_7</th><th scope=col>p.MM_TH27_7</th></tr>\n",
       "\t<tr><th></th><th scope=col>&lt;dbl&gt;</th><th scope=col>&lt;dbl&gt;</th><th scope=col>&lt;dbl&gt;</th><th scope=col>&lt;dbl&gt;</th><th scope=col>&lt;dbl&gt;</th><th scope=col>&lt;dbl&gt;</th><th scope=col>&lt;dbl&gt;</th><th scope=col>&lt;dbl&gt;</th><th scope=col>&lt;dbl&gt;</th><th scope=col>&lt;dbl&gt;</th><th scope=col>&lt;dbl&gt;</th><th scope=col>&lt;dbl&gt;</th><th scope=col>&lt;dbl&gt;</th><th scope=col>&lt;dbl&gt;</th></tr>\n",
       "</thead>\n",
       "<tbody>\n",
       "\t<tr><th scope=row>LAPTM5</th><td>0.4784209</td><td>2.092838e-02</td><td>0.8617827</td><td> 1.313379e-57</td><td>0.6310685</td><td>2.231517e-19</td><td>0.8441176</td><td>5.436001e-43</td><td>0.7169507</td><td>2.830747e-07</td><td>0.6499992</td><td>9.527110e-16</td><td>0.5673396</td><td>4.543053e-07</td></tr>\n",
       "\t<tr><th scope=row>PSMB8-AS1</th><td>0.5547759</td><td>6.005319e-03</td><td>0.9325617</td><td> 1.460143e-85</td><td>0.8516176</td><td>9.608027e-47</td><td>0.9055033</td><td>1.841631e-58</td><td>0.9060352</td><td>2.175923e-15</td><td>0.8576079</td><td>7.152555e-36</td><td>0.9103788</td><td>5.451247e-27</td></tr>\n",
       "\t<tr><th scope=row>APOL6</th><td>0.6553104</td><td>6.887068e-04</td><td>0.8862256</td><td> 4.516399e-65</td><td>0.6858457</td><td>7.531348e-24</td><td>0.8984263</td><td>3.384139e-56</td><td>0.8598669</td><td>2.360741e-12</td><td>0.8638696</td><td>6.099290e-37</td><td>0.8004522</td><td>2.587126e-16</td></tr>\n",
       "\t<tr><th scope=row>WAS</th><td>0.7422929</td><td>5.004731e-05</td><td>0.8660911</td><td> 8.155604e-59</td><td>0.7294137</td><td>3.550405e-28</td><td>0.8502012</td><td>3.364909e-44</td><td>0.6829858</td><td>1.663347e-06</td><td>0.6973403</td><td>8.924421e-19</td><td>0.5770431</td><td>2.593790e-07</td></tr>\n",
       "\t<tr><th scope=row>NLRC5</th><td>0.7701540</td><td>1.722331e-05</td><td>0.8396377</td><td> 5.463317e-52</td><td>0.7878578</td><td>1.651709e-35</td><td>0.8751628</td><td>8.719083e-50</td><td>0.9011581</td><td>5.318741e-15</td><td>0.8741351</td><td>8.166018e-39</td><td>0.8661308</td><td>1.487272e-21</td></tr>\n",
       "\t<tr><th scope=row>PSMB8</th><td>0.7980427</td><td>5.058771e-06</td><td>0.9488286</td><td> 1.487312e-96</td><td>0.7990554</td><td>3.505794e-37</td><td>0.9432955</td><td>1.094455e-74</td><td>0.8506193</td><td>7.092905e-12</td><td>0.7254462</td><td>7.202411e-21</td><td>0.9097678</td><td>6.754050e-27</td></tr>\n",
       "\t<tr><th scope=row>B2M</th><td>0.8041640</td><td>3.769433e-06</td><td>0.9292156</td><td> 1.208525e-83</td><td>0.8758868</td><td>1.651636e-52</td><td>0.9351672</td><td>2.118461e-70</td><td>0.9223499</td><td>7.355391e-17</td><td>0.8588473</td><td>4.435387e-36</td><td>0.6395902</td><td>4.328931e-09</td></tr>\n",
       "\t<tr><th scope=row>SP100</th><td>0.8219610</td><td>1.507335e-06</td><td>0.9132166</td><td> 1.291460e-75</td><td>0.5498557</td><td>3.502764e-14</td><td>0.8385037</td><td>6.386632e-42</td><td>0.7698224</td><td>1.013963e-08</td><td>0.7930400</td><td>3.654084e-27</td><td>0.8230885</td><td>7.156320e-18</td></tr>\n",
       "\t<tr><th scope=row>ACSL5</th><td>0.8238461</td><td>1.359900e-06</td><td>0.9008197</td><td> 2.138484e-70</td><td>0.8072974</td><td>1.754365e-38</td><td>0.9000664</td><td>1.046860e-56</td><td>0.7749583</td><td>7.003941e-09</td><td>0.7738787</td><td>3.686978e-25</td><td>0.6473374</td><td>2.441307e-09</td></tr>\n",
       "\t<tr><th scope=row>RARRES3</th><td>0.8352977</td><td>7.083199e-07</td><td>0.9118852</td><td> 5.104800e-75</td><td>0.7586660</td><td>1.384663e-31</td><td>0.8603624</td><td>2.422388e-46</td><td>0.8188721</td><td>1.885553e-10</td><td>0.7407988</td><td>3.992080e-22</td><td>0.8484138</td><td>6.692815e-20</td></tr>\n",
       "\t<tr><th scope=row>APOL3</th><td>0.8431529</td><td>4.398066e-07</td><td>0.9223531</td><td> 5.455283e-80</td><td>0.8568297</td><td>6.844399e-48</td><td>0.9097110</td><td>6.801397e-60</td><td>0.9029161</td><td>3.874882e-15</td><td>0.8330849</td><td>3.961099e-32</td><td>0.7965122</td><td>4.609836e-16</td></tr>\n",
       "\t<tr><th scope=row>HCP5</th><td>0.8830528</td><td>2.423436e-08</td><td>0.8558011</td><td> 5.346398e-56</td><td>0.7825908</td><td>9.340104e-35</td><td>0.9313058</td><td>1.483868e-68</td><td>0.8127928</td><td>3.286869e-10</td><td>0.7797326</td><td>9.458627e-26</td><td>0.7952275</td><td>5.550049e-16</td></tr>\n",
       "\t<tr><th scope=row>MLKL</th><td>0.8909895</td><td>1.201323e-08</td><td>0.9005716</td><td> 2.675292e-70</td><td>0.6986555</td><td>4.849026e-25</td><td>0.8882679</td><td>3.186820e-53</td><td>0.8039484</td><td>7.124779e-10</td><td>0.7928775</td><td>3.807600e-27</td><td>0.6710758</td><td>3.795820e-10</td></tr>\n",
       "\t<tr><th scope=row>APOL1</th><td>0.8935676</td><td>9.453758e-09</td><td>0.8479231</td><td> 5.501801e-54</td><td>0.7934347</td><td>2.497817e-36</td><td>0.9097720</td><td>6.476437e-60</td><td>0.8622785</td><td>1.749251e-12</td><td>0.8531365</td><td>3.865149e-35</td><td>0.7423085</td><td>4.348184e-13</td></tr>\n",
       "\t<tr><th scope=row>CASP1</th><td>0.8957832</td><td>7.656791e-09</td><td>0.9270717</td><td> 1.828804e-82</td><td>0.8633656</td><td>2.141584e-49</td><td>0.9342430</td><td>5.996087e-70</td><td>0.7820952</td><td>4.120839e-09</td><td>0.7648971</td><td>2.751783e-24</td><td>0.7271253</td><td>2.197184e-12</td></tr>\n",
       "\t<tr><th scope=row>CARD16</th><td>0.8985413</td><td>5.850143e-09</td><td>0.9267092</td><td> 2.871537e-82</td><td>0.7503144</td><td>1.454323e-30</td><td>0.8606831</td><td>2.060016e-46</td><td>0.7070414</td><td>4.868083e-07</td><td>0.7536760</td><td>2.999804e-23</td><td>0.7583528</td><td>6.911081e-14</td></tr>\n",
       "\t<tr><th scope=row>PSMB9</th><td>0.9012294</td><td>4.466951e-09</td><td>0.9538443</td><td>1.101057e-100</td><td>0.8566849</td><td>7.376187e-48</td><td>0.9409021</td><td>2.312756e-73</td><td>0.9276896</td><td>2.061184e-17</td><td>0.9046461</td><td>1.576914e-45</td><td>0.8960655</td><td>5.739270e-25</td></tr>\n",
       "\t<tr><th scope=row>HLA-B</th><td>0.9014877</td><td>4.350881e-09</td><td>0.9415904</td><td> 2.835536e-91</td><td>0.8982161</td><td>5.335150e-59</td><td>0.9529732</td><td>1.052281e-80</td><td>0.9264803</td><td>2.772457e-17</td><td>0.8709292</td><td>3.267254e-38</td><td>0.9174179</td><td>4.108270e-28</td></tr>\n",
       "\t<tr><th scope=row>IFIH1</th><td>0.9182534</td><td>6.617544e-10</td><td>0.8811207</td><td> 2.225101e-63</td><td>0.6585882</td><td>1.653958e-21</td><td>0.8388071</td><td>5.604092e-42</td><td>0.8491300</td><td>8.409505e-12</td><td>0.7612657</td><td>6.047814e-24</td><td>0.7561509</td><td>8.969936e-14</td></tr>\n",
       "\t<tr><th scope=row>ETV7</th><td>0.9197631</td><td>5.478200e-10</td><td>0.8068648</td><td> 4.451539e-45</td><td>0.7095503</td><td>4.186369e-26</td><td>0.7299400</td><td>6.697579e-27</td><td>0.7557167</td><td>2.672851e-08</td><td>0.7336114</td><td>1.585396e-21</td><td>0.6163132</td><td>2.205048e-08</td></tr>\n",
       "\t<tr><th scope=row>RTP4</th><td>0.9215084</td><td>4.382800e-10</td><td>0.8279203</td><td> 2.374219e-49</td><td>0.8494103</td><td>2.853258e-46</td><td>0.8620805</td><td>1.012117e-46</td><td>0.7065672</td><td>4.993270e-07</td><td>0.8440824</td><td>9.979349e-34</td><td>0.7652465</td><td>2.999754e-14</td></tr>\n",
       "\t<tr><th scope=row>GBP4</th><td>0.9230667</td><td>3.575584e-10</td><td>0.8702543</td><td> 5.065886e-60</td><td>0.8216169</td><td>6.731512e-41</td><td>0.9095945</td><td>7.468152e-60</td><td>0.8423272</td><td>1.789608e-11</td><td>0.7248108</td><td>8.084268e-21</td><td>0.6076245</td><td>3.915841e-08</td></tr>\n",
       "\t<tr><th scope=row>TNFRSF14</th><td>0.9280222</td><td>1.817059e-10</td><td>0.8598926</td><td> 4.315926e-57</td><td>0.6304642</td><td>2.471663e-19</td><td>0.8725636</td><td>3.768106e-49</td><td>0.6811649</td><td>1.816980e-06</td><td>0.7300525</td><td>3.087352e-21</td><td>0.6677674</td><td>4.969939e-10</td></tr>\n",
       "\t<tr><th scope=row>HLA-A</th><td>0.9467646</td><td>8.320627e-12</td><td>0.8855210</td><td> 7.819042e-65</td><td>0.8462756</td><td>1.299506e-45</td><td>0.9177917</td><td>7.473402e-63</td><td>0.8692106</td><td>7.153398e-13</td><td>0.7671813</td><td>1.664649e-24</td><td>0.6841972</td><td>1.259080e-10</td></tr>\n",
       "\t<tr><th scope=row>HLA-C</th><td>0.9503589</td><td>4.057974e-12</td><td>0.9271079</td><td> 1.748159e-82</td><td>0.7740458</td><td>1.404378e-33</td><td>0.9105310</td><td>3.509556e-60</td><td>0.8884860</td><td>4.436355e-14</td><td>0.6422190</td><td>2.668302e-15</td><td>0.8716281</td><td>4.082723e-22</td></tr>\n",
       "\t<tr><th scope=row>HLA-F</th><td>0.9595292</td><td>4.949573e-13</td><td>0.9275466</td><td> 1.009075e-82</td><td>0.8918660</td><td>5.204913e-57</td><td>0.9073971</td><td>4.255057e-59</td><td>0.9304013</td><td>1.040217e-17</td><td>0.8574696</td><td>7.542094e-36</td><td>0.8718208</td><td>3.897613e-22</td></tr>\n",
       "\t<tr><th scope=row>HLA-E</th><td>0.9611353</td><td>3.258324e-13</td><td>0.9507201</td><td> 4.629525e-98</td><td>0.8919411</td><td>4.939038e-57</td><td>0.9369585</td><td>2.697336e-71</td><td>0.8285152</td><td>7.475662e-11</td><td>0.8301563</td><td>1.009312e-31</td><td>0.6575258</td><td>1.120709e-09</td></tr>\n",
       "\t<tr><th scope=row>TAP1</th><td>0.9648339</td><td>1.158911e-13</td><td>0.9466042</td><td> 7.462754e-95</td><td>0.7727499</td><td>2.096515e-33</td><td>0.8884340</td><td>2.864693e-53</td><td>0.8388654</td><td>2.593002e-11</td><td>0.8498632</td><td>1.283301e-34</td><td>0.8711421</td><td>4.587952e-22</td></tr>\n",
       "</tbody>\n",
       "</table>\n"
      ],
      "text/latex": [
       "A data.frame: 28 × 14\n",
       "\\begin{tabular}{r|llllllllllllll}\n",
       "  & MM\\_TH27\\_1 & p.MM\\_TH27\\_1 & MM\\_TH27\\_2 & p.MM\\_TH27\\_2 & MM\\_TH27\\_3 & p.MM\\_TH27\\_3 & MM\\_TH27\\_4 & p.MM\\_TH27\\_4 & MM\\_TH27\\_5 & p.MM\\_TH27\\_5 & MM\\_TH27\\_6 & p.MM\\_TH27\\_6 & MM\\_TH27\\_7 & p.MM\\_TH27\\_7\\\\\n",
       "  & <dbl> & <dbl> & <dbl> & <dbl> & <dbl> & <dbl> & <dbl> & <dbl> & <dbl> & <dbl> & <dbl> & <dbl> & <dbl> & <dbl>\\\\\n",
       "\\hline\n",
       "\tLAPTM5 & 0.4784209 & 2.092838e-02 & 0.8617827 &  1.313379e-57 & 0.6310685 & 2.231517e-19 & 0.8441176 & 5.436001e-43 & 0.7169507 & 2.830747e-07 & 0.6499992 & 9.527110e-16 & 0.5673396 & 4.543053e-07\\\\\n",
       "\tPSMB8-AS1 & 0.5547759 & 6.005319e-03 & 0.9325617 &  1.460143e-85 & 0.8516176 & 9.608027e-47 & 0.9055033 & 1.841631e-58 & 0.9060352 & 2.175923e-15 & 0.8576079 & 7.152555e-36 & 0.9103788 & 5.451247e-27\\\\\n",
       "\tAPOL6 & 0.6553104 & 6.887068e-04 & 0.8862256 &  4.516399e-65 & 0.6858457 & 7.531348e-24 & 0.8984263 & 3.384139e-56 & 0.8598669 & 2.360741e-12 & 0.8638696 & 6.099290e-37 & 0.8004522 & 2.587126e-16\\\\\n",
       "\tWAS & 0.7422929 & 5.004731e-05 & 0.8660911 &  8.155604e-59 & 0.7294137 & 3.550405e-28 & 0.8502012 & 3.364909e-44 & 0.6829858 & 1.663347e-06 & 0.6973403 & 8.924421e-19 & 0.5770431 & 2.593790e-07\\\\\n",
       "\tNLRC5 & 0.7701540 & 1.722331e-05 & 0.8396377 &  5.463317e-52 & 0.7878578 & 1.651709e-35 & 0.8751628 & 8.719083e-50 & 0.9011581 & 5.318741e-15 & 0.8741351 & 8.166018e-39 & 0.8661308 & 1.487272e-21\\\\\n",
       "\tPSMB8 & 0.7980427 & 5.058771e-06 & 0.9488286 &  1.487312e-96 & 0.7990554 & 3.505794e-37 & 0.9432955 & 1.094455e-74 & 0.8506193 & 7.092905e-12 & 0.7254462 & 7.202411e-21 & 0.9097678 & 6.754050e-27\\\\\n",
       "\tB2M & 0.8041640 & 3.769433e-06 & 0.9292156 &  1.208525e-83 & 0.8758868 & 1.651636e-52 & 0.9351672 & 2.118461e-70 & 0.9223499 & 7.355391e-17 & 0.8588473 & 4.435387e-36 & 0.6395902 & 4.328931e-09\\\\\n",
       "\tSP100 & 0.8219610 & 1.507335e-06 & 0.9132166 &  1.291460e-75 & 0.5498557 & 3.502764e-14 & 0.8385037 & 6.386632e-42 & 0.7698224 & 1.013963e-08 & 0.7930400 & 3.654084e-27 & 0.8230885 & 7.156320e-18\\\\\n",
       "\tACSL5 & 0.8238461 & 1.359900e-06 & 0.9008197 &  2.138484e-70 & 0.8072974 & 1.754365e-38 & 0.9000664 & 1.046860e-56 & 0.7749583 & 7.003941e-09 & 0.7738787 & 3.686978e-25 & 0.6473374 & 2.441307e-09\\\\\n",
       "\tRARRES3 & 0.8352977 & 7.083199e-07 & 0.9118852 &  5.104800e-75 & 0.7586660 & 1.384663e-31 & 0.8603624 & 2.422388e-46 & 0.8188721 & 1.885553e-10 & 0.7407988 & 3.992080e-22 & 0.8484138 & 6.692815e-20\\\\\n",
       "\tAPOL3 & 0.8431529 & 4.398066e-07 & 0.9223531 &  5.455283e-80 & 0.8568297 & 6.844399e-48 & 0.9097110 & 6.801397e-60 & 0.9029161 & 3.874882e-15 & 0.8330849 & 3.961099e-32 & 0.7965122 & 4.609836e-16\\\\\n",
       "\tHCP5 & 0.8830528 & 2.423436e-08 & 0.8558011 &  5.346398e-56 & 0.7825908 & 9.340104e-35 & 0.9313058 & 1.483868e-68 & 0.8127928 & 3.286869e-10 & 0.7797326 & 9.458627e-26 & 0.7952275 & 5.550049e-16\\\\\n",
       "\tMLKL & 0.8909895 & 1.201323e-08 & 0.9005716 &  2.675292e-70 & 0.6986555 & 4.849026e-25 & 0.8882679 & 3.186820e-53 & 0.8039484 & 7.124779e-10 & 0.7928775 & 3.807600e-27 & 0.6710758 & 3.795820e-10\\\\\n",
       "\tAPOL1 & 0.8935676 & 9.453758e-09 & 0.8479231 &  5.501801e-54 & 0.7934347 & 2.497817e-36 & 0.9097720 & 6.476437e-60 & 0.8622785 & 1.749251e-12 & 0.8531365 & 3.865149e-35 & 0.7423085 & 4.348184e-13\\\\\n",
       "\tCASP1 & 0.8957832 & 7.656791e-09 & 0.9270717 &  1.828804e-82 & 0.8633656 & 2.141584e-49 & 0.9342430 & 5.996087e-70 & 0.7820952 & 4.120839e-09 & 0.7648971 & 2.751783e-24 & 0.7271253 & 2.197184e-12\\\\\n",
       "\tCARD16 & 0.8985413 & 5.850143e-09 & 0.9267092 &  2.871537e-82 & 0.7503144 & 1.454323e-30 & 0.8606831 & 2.060016e-46 & 0.7070414 & 4.868083e-07 & 0.7536760 & 2.999804e-23 & 0.7583528 & 6.911081e-14\\\\\n",
       "\tPSMB9 & 0.9012294 & 4.466951e-09 & 0.9538443 & 1.101057e-100 & 0.8566849 & 7.376187e-48 & 0.9409021 & 2.312756e-73 & 0.9276896 & 2.061184e-17 & 0.9046461 & 1.576914e-45 & 0.8960655 & 5.739270e-25\\\\\n",
       "\tHLA-B & 0.9014877 & 4.350881e-09 & 0.9415904 &  2.835536e-91 & 0.8982161 & 5.335150e-59 & 0.9529732 & 1.052281e-80 & 0.9264803 & 2.772457e-17 & 0.8709292 & 3.267254e-38 & 0.9174179 & 4.108270e-28\\\\\n",
       "\tIFIH1 & 0.9182534 & 6.617544e-10 & 0.8811207 &  2.225101e-63 & 0.6585882 & 1.653958e-21 & 0.8388071 & 5.604092e-42 & 0.8491300 & 8.409505e-12 & 0.7612657 & 6.047814e-24 & 0.7561509 & 8.969936e-14\\\\\n",
       "\tETV7 & 0.9197631 & 5.478200e-10 & 0.8068648 &  4.451539e-45 & 0.7095503 & 4.186369e-26 & 0.7299400 & 6.697579e-27 & 0.7557167 & 2.672851e-08 & 0.7336114 & 1.585396e-21 & 0.6163132 & 2.205048e-08\\\\\n",
       "\tRTP4 & 0.9215084 & 4.382800e-10 & 0.8279203 &  2.374219e-49 & 0.8494103 & 2.853258e-46 & 0.8620805 & 1.012117e-46 & 0.7065672 & 4.993270e-07 & 0.8440824 & 9.979349e-34 & 0.7652465 & 2.999754e-14\\\\\n",
       "\tGBP4 & 0.9230667 & 3.575584e-10 & 0.8702543 &  5.065886e-60 & 0.8216169 & 6.731512e-41 & 0.9095945 & 7.468152e-60 & 0.8423272 & 1.789608e-11 & 0.7248108 & 8.084268e-21 & 0.6076245 & 3.915841e-08\\\\\n",
       "\tTNFRSF14 & 0.9280222 & 1.817059e-10 & 0.8598926 &  4.315926e-57 & 0.6304642 & 2.471663e-19 & 0.8725636 & 3.768106e-49 & 0.6811649 & 1.816980e-06 & 0.7300525 & 3.087352e-21 & 0.6677674 & 4.969939e-10\\\\\n",
       "\tHLA-A & 0.9467646 & 8.320627e-12 & 0.8855210 &  7.819042e-65 & 0.8462756 & 1.299506e-45 & 0.9177917 & 7.473402e-63 & 0.8692106 & 7.153398e-13 & 0.7671813 & 1.664649e-24 & 0.6841972 & 1.259080e-10\\\\\n",
       "\tHLA-C & 0.9503589 & 4.057974e-12 & 0.9271079 &  1.748159e-82 & 0.7740458 & 1.404378e-33 & 0.9105310 & 3.509556e-60 & 0.8884860 & 4.436355e-14 & 0.6422190 & 2.668302e-15 & 0.8716281 & 4.082723e-22\\\\\n",
       "\tHLA-F & 0.9595292 & 4.949573e-13 & 0.9275466 &  1.009075e-82 & 0.8918660 & 5.204913e-57 & 0.9073971 & 4.255057e-59 & 0.9304013 & 1.040217e-17 & 0.8574696 & 7.542094e-36 & 0.8718208 & 3.897613e-22\\\\\n",
       "\tHLA-E & 0.9611353 & 3.258324e-13 & 0.9507201 &  4.629525e-98 & 0.8919411 & 4.939038e-57 & 0.9369585 & 2.697336e-71 & 0.8285152 & 7.475662e-11 & 0.8301563 & 1.009312e-31 & 0.6575258 & 1.120709e-09\\\\\n",
       "\tTAP1 & 0.9648339 & 1.158911e-13 & 0.9466042 &  7.462754e-95 & 0.7727499 & 2.096515e-33 & 0.8884340 & 2.864693e-53 & 0.8388654 & 2.593002e-11 & 0.8498632 & 1.283301e-34 & 0.8711421 & 4.587952e-22\\\\\n",
       "\\end{tabular}\n"
      ],
      "text/markdown": [
       "\n",
       "A data.frame: 28 × 14\n",
       "\n",
       "| <!--/--> | MM_TH27_1 &lt;dbl&gt; | p.MM_TH27_1 &lt;dbl&gt; | MM_TH27_2 &lt;dbl&gt; | p.MM_TH27_2 &lt;dbl&gt; | MM_TH27_3 &lt;dbl&gt; | p.MM_TH27_3 &lt;dbl&gt; | MM_TH27_4 &lt;dbl&gt; | p.MM_TH27_4 &lt;dbl&gt; | MM_TH27_5 &lt;dbl&gt; | p.MM_TH27_5 &lt;dbl&gt; | MM_TH27_6 &lt;dbl&gt; | p.MM_TH27_6 &lt;dbl&gt; | MM_TH27_7 &lt;dbl&gt; | p.MM_TH27_7 &lt;dbl&gt; |\n",
       "|---|---|---|---|---|---|---|---|---|---|---|---|---|---|---|\n",
       "| LAPTM5 | 0.4784209 | 2.092838e-02 | 0.8617827 |  1.313379e-57 | 0.6310685 | 2.231517e-19 | 0.8441176 | 5.436001e-43 | 0.7169507 | 2.830747e-07 | 0.6499992 | 9.527110e-16 | 0.5673396 | 4.543053e-07 |\n",
       "| PSMB8-AS1 | 0.5547759 | 6.005319e-03 | 0.9325617 |  1.460143e-85 | 0.8516176 | 9.608027e-47 | 0.9055033 | 1.841631e-58 | 0.9060352 | 2.175923e-15 | 0.8576079 | 7.152555e-36 | 0.9103788 | 5.451247e-27 |\n",
       "| APOL6 | 0.6553104 | 6.887068e-04 | 0.8862256 |  4.516399e-65 | 0.6858457 | 7.531348e-24 | 0.8984263 | 3.384139e-56 | 0.8598669 | 2.360741e-12 | 0.8638696 | 6.099290e-37 | 0.8004522 | 2.587126e-16 |\n",
       "| WAS | 0.7422929 | 5.004731e-05 | 0.8660911 |  8.155604e-59 | 0.7294137 | 3.550405e-28 | 0.8502012 | 3.364909e-44 | 0.6829858 | 1.663347e-06 | 0.6973403 | 8.924421e-19 | 0.5770431 | 2.593790e-07 |\n",
       "| NLRC5 | 0.7701540 | 1.722331e-05 | 0.8396377 |  5.463317e-52 | 0.7878578 | 1.651709e-35 | 0.8751628 | 8.719083e-50 | 0.9011581 | 5.318741e-15 | 0.8741351 | 8.166018e-39 | 0.8661308 | 1.487272e-21 |\n",
       "| PSMB8 | 0.7980427 | 5.058771e-06 | 0.9488286 |  1.487312e-96 | 0.7990554 | 3.505794e-37 | 0.9432955 | 1.094455e-74 | 0.8506193 | 7.092905e-12 | 0.7254462 | 7.202411e-21 | 0.9097678 | 6.754050e-27 |\n",
       "| B2M | 0.8041640 | 3.769433e-06 | 0.9292156 |  1.208525e-83 | 0.8758868 | 1.651636e-52 | 0.9351672 | 2.118461e-70 | 0.9223499 | 7.355391e-17 | 0.8588473 | 4.435387e-36 | 0.6395902 | 4.328931e-09 |\n",
       "| SP100 | 0.8219610 | 1.507335e-06 | 0.9132166 |  1.291460e-75 | 0.5498557 | 3.502764e-14 | 0.8385037 | 6.386632e-42 | 0.7698224 | 1.013963e-08 | 0.7930400 | 3.654084e-27 | 0.8230885 | 7.156320e-18 |\n",
       "| ACSL5 | 0.8238461 | 1.359900e-06 | 0.9008197 |  2.138484e-70 | 0.8072974 | 1.754365e-38 | 0.9000664 | 1.046860e-56 | 0.7749583 | 7.003941e-09 | 0.7738787 | 3.686978e-25 | 0.6473374 | 2.441307e-09 |\n",
       "| RARRES3 | 0.8352977 | 7.083199e-07 | 0.9118852 |  5.104800e-75 | 0.7586660 | 1.384663e-31 | 0.8603624 | 2.422388e-46 | 0.8188721 | 1.885553e-10 | 0.7407988 | 3.992080e-22 | 0.8484138 | 6.692815e-20 |\n",
       "| APOL3 | 0.8431529 | 4.398066e-07 | 0.9223531 |  5.455283e-80 | 0.8568297 | 6.844399e-48 | 0.9097110 | 6.801397e-60 | 0.9029161 | 3.874882e-15 | 0.8330849 | 3.961099e-32 | 0.7965122 | 4.609836e-16 |\n",
       "| HCP5 | 0.8830528 | 2.423436e-08 | 0.8558011 |  5.346398e-56 | 0.7825908 | 9.340104e-35 | 0.9313058 | 1.483868e-68 | 0.8127928 | 3.286869e-10 | 0.7797326 | 9.458627e-26 | 0.7952275 | 5.550049e-16 |\n",
       "| MLKL | 0.8909895 | 1.201323e-08 | 0.9005716 |  2.675292e-70 | 0.6986555 | 4.849026e-25 | 0.8882679 | 3.186820e-53 | 0.8039484 | 7.124779e-10 | 0.7928775 | 3.807600e-27 | 0.6710758 | 3.795820e-10 |\n",
       "| APOL1 | 0.8935676 | 9.453758e-09 | 0.8479231 |  5.501801e-54 | 0.7934347 | 2.497817e-36 | 0.9097720 | 6.476437e-60 | 0.8622785 | 1.749251e-12 | 0.8531365 | 3.865149e-35 | 0.7423085 | 4.348184e-13 |\n",
       "| CASP1 | 0.8957832 | 7.656791e-09 | 0.9270717 |  1.828804e-82 | 0.8633656 | 2.141584e-49 | 0.9342430 | 5.996087e-70 | 0.7820952 | 4.120839e-09 | 0.7648971 | 2.751783e-24 | 0.7271253 | 2.197184e-12 |\n",
       "| CARD16 | 0.8985413 | 5.850143e-09 | 0.9267092 |  2.871537e-82 | 0.7503144 | 1.454323e-30 | 0.8606831 | 2.060016e-46 | 0.7070414 | 4.868083e-07 | 0.7536760 | 2.999804e-23 | 0.7583528 | 6.911081e-14 |\n",
       "| PSMB9 | 0.9012294 | 4.466951e-09 | 0.9538443 | 1.101057e-100 | 0.8566849 | 7.376187e-48 | 0.9409021 | 2.312756e-73 | 0.9276896 | 2.061184e-17 | 0.9046461 | 1.576914e-45 | 0.8960655 | 5.739270e-25 |\n",
       "| HLA-B | 0.9014877 | 4.350881e-09 | 0.9415904 |  2.835536e-91 | 0.8982161 | 5.335150e-59 | 0.9529732 | 1.052281e-80 | 0.9264803 | 2.772457e-17 | 0.8709292 | 3.267254e-38 | 0.9174179 | 4.108270e-28 |\n",
       "| IFIH1 | 0.9182534 | 6.617544e-10 | 0.8811207 |  2.225101e-63 | 0.6585882 | 1.653958e-21 | 0.8388071 | 5.604092e-42 | 0.8491300 | 8.409505e-12 | 0.7612657 | 6.047814e-24 | 0.7561509 | 8.969936e-14 |\n",
       "| ETV7 | 0.9197631 | 5.478200e-10 | 0.8068648 |  4.451539e-45 | 0.7095503 | 4.186369e-26 | 0.7299400 | 6.697579e-27 | 0.7557167 | 2.672851e-08 | 0.7336114 | 1.585396e-21 | 0.6163132 | 2.205048e-08 |\n",
       "| RTP4 | 0.9215084 | 4.382800e-10 | 0.8279203 |  2.374219e-49 | 0.8494103 | 2.853258e-46 | 0.8620805 | 1.012117e-46 | 0.7065672 | 4.993270e-07 | 0.8440824 | 9.979349e-34 | 0.7652465 | 2.999754e-14 |\n",
       "| GBP4 | 0.9230667 | 3.575584e-10 | 0.8702543 |  5.065886e-60 | 0.8216169 | 6.731512e-41 | 0.9095945 | 7.468152e-60 | 0.8423272 | 1.789608e-11 | 0.7248108 | 8.084268e-21 | 0.6076245 | 3.915841e-08 |\n",
       "| TNFRSF14 | 0.9280222 | 1.817059e-10 | 0.8598926 |  4.315926e-57 | 0.6304642 | 2.471663e-19 | 0.8725636 | 3.768106e-49 | 0.6811649 | 1.816980e-06 | 0.7300525 | 3.087352e-21 | 0.6677674 | 4.969939e-10 |\n",
       "| HLA-A | 0.9467646 | 8.320627e-12 | 0.8855210 |  7.819042e-65 | 0.8462756 | 1.299506e-45 | 0.9177917 | 7.473402e-63 | 0.8692106 | 7.153398e-13 | 0.7671813 | 1.664649e-24 | 0.6841972 | 1.259080e-10 |\n",
       "| HLA-C | 0.9503589 | 4.057974e-12 | 0.9271079 |  1.748159e-82 | 0.7740458 | 1.404378e-33 | 0.9105310 | 3.509556e-60 | 0.8884860 | 4.436355e-14 | 0.6422190 | 2.668302e-15 | 0.8716281 | 4.082723e-22 |\n",
       "| HLA-F | 0.9595292 | 4.949573e-13 | 0.9275466 |  1.009075e-82 | 0.8918660 | 5.204913e-57 | 0.9073971 | 4.255057e-59 | 0.9304013 | 1.040217e-17 | 0.8574696 | 7.542094e-36 | 0.8718208 | 3.897613e-22 |\n",
       "| HLA-E | 0.9611353 | 3.258324e-13 | 0.9507201 |  4.629525e-98 | 0.8919411 | 4.939038e-57 | 0.9369585 | 2.697336e-71 | 0.8285152 | 7.475662e-11 | 0.8301563 | 1.009312e-31 | 0.6575258 | 1.120709e-09 |\n",
       "| TAP1 | 0.9648339 | 1.158911e-13 | 0.9466042 |  7.462754e-95 | 0.7727499 | 2.096515e-33 | 0.8884340 | 2.864693e-53 | 0.8388654 | 2.593002e-11 | 0.8498632 | 1.283301e-34 | 0.8711421 | 4.587952e-22 |\n",
       "\n"
      ],
      "text/plain": [
       "          MM_TH27_1 p.MM_TH27_1  MM_TH27_2 p.MM_TH27_2   MM_TH27_3 p.MM_TH27_3 \n",
       "LAPTM5    0.4784209 2.092838e-02 0.8617827  1.313379e-57 0.6310685 2.231517e-19\n",
       "PSMB8-AS1 0.5547759 6.005319e-03 0.9325617  1.460143e-85 0.8516176 9.608027e-47\n",
       "APOL6     0.6553104 6.887068e-04 0.8862256  4.516399e-65 0.6858457 7.531348e-24\n",
       "WAS       0.7422929 5.004731e-05 0.8660911  8.155604e-59 0.7294137 3.550405e-28\n",
       "NLRC5     0.7701540 1.722331e-05 0.8396377  5.463317e-52 0.7878578 1.651709e-35\n",
       "PSMB8     0.7980427 5.058771e-06 0.9488286  1.487312e-96 0.7990554 3.505794e-37\n",
       "B2M       0.8041640 3.769433e-06 0.9292156  1.208525e-83 0.8758868 1.651636e-52\n",
       "SP100     0.8219610 1.507335e-06 0.9132166  1.291460e-75 0.5498557 3.502764e-14\n",
       "ACSL5     0.8238461 1.359900e-06 0.9008197  2.138484e-70 0.8072974 1.754365e-38\n",
       "RARRES3   0.8352977 7.083199e-07 0.9118852  5.104800e-75 0.7586660 1.384663e-31\n",
       "APOL3     0.8431529 4.398066e-07 0.9223531  5.455283e-80 0.8568297 6.844399e-48\n",
       "HCP5      0.8830528 2.423436e-08 0.8558011  5.346398e-56 0.7825908 9.340104e-35\n",
       "MLKL      0.8909895 1.201323e-08 0.9005716  2.675292e-70 0.6986555 4.849026e-25\n",
       "APOL1     0.8935676 9.453758e-09 0.8479231  5.501801e-54 0.7934347 2.497817e-36\n",
       "CASP1     0.8957832 7.656791e-09 0.9270717  1.828804e-82 0.8633656 2.141584e-49\n",
       "CARD16    0.8985413 5.850143e-09 0.9267092  2.871537e-82 0.7503144 1.454323e-30\n",
       "PSMB9     0.9012294 4.466951e-09 0.9538443 1.101057e-100 0.8566849 7.376187e-48\n",
       "HLA-B     0.9014877 4.350881e-09 0.9415904  2.835536e-91 0.8982161 5.335150e-59\n",
       "IFIH1     0.9182534 6.617544e-10 0.8811207  2.225101e-63 0.6585882 1.653958e-21\n",
       "ETV7      0.9197631 5.478200e-10 0.8068648  4.451539e-45 0.7095503 4.186369e-26\n",
       "RTP4      0.9215084 4.382800e-10 0.8279203  2.374219e-49 0.8494103 2.853258e-46\n",
       "GBP4      0.9230667 3.575584e-10 0.8702543  5.065886e-60 0.8216169 6.731512e-41\n",
       "TNFRSF14  0.9280222 1.817059e-10 0.8598926  4.315926e-57 0.6304642 2.471663e-19\n",
       "HLA-A     0.9467646 8.320627e-12 0.8855210  7.819042e-65 0.8462756 1.299506e-45\n",
       "HLA-C     0.9503589 4.057974e-12 0.9271079  1.748159e-82 0.7740458 1.404378e-33\n",
       "HLA-F     0.9595292 4.949573e-13 0.9275466  1.009075e-82 0.8918660 5.204913e-57\n",
       "HLA-E     0.9611353 3.258324e-13 0.9507201  4.629525e-98 0.8919411 4.939038e-57\n",
       "TAP1      0.9648339 1.158911e-13 0.9466042  7.462754e-95 0.7727499 2.096515e-33\n",
       "          MM_TH27_4 p.MM_TH27_4  MM_TH27_5 p.MM_TH27_5  MM_TH27_6 p.MM_TH27_6 \n",
       "LAPTM5    0.8441176 5.436001e-43 0.7169507 2.830747e-07 0.6499992 9.527110e-16\n",
       "PSMB8-AS1 0.9055033 1.841631e-58 0.9060352 2.175923e-15 0.8576079 7.152555e-36\n",
       "APOL6     0.8984263 3.384139e-56 0.8598669 2.360741e-12 0.8638696 6.099290e-37\n",
       "WAS       0.8502012 3.364909e-44 0.6829858 1.663347e-06 0.6973403 8.924421e-19\n",
       "NLRC5     0.8751628 8.719083e-50 0.9011581 5.318741e-15 0.8741351 8.166018e-39\n",
       "PSMB8     0.9432955 1.094455e-74 0.8506193 7.092905e-12 0.7254462 7.202411e-21\n",
       "B2M       0.9351672 2.118461e-70 0.9223499 7.355391e-17 0.8588473 4.435387e-36\n",
       "SP100     0.8385037 6.386632e-42 0.7698224 1.013963e-08 0.7930400 3.654084e-27\n",
       "ACSL5     0.9000664 1.046860e-56 0.7749583 7.003941e-09 0.7738787 3.686978e-25\n",
       "RARRES3   0.8603624 2.422388e-46 0.8188721 1.885553e-10 0.7407988 3.992080e-22\n",
       "APOL3     0.9097110 6.801397e-60 0.9029161 3.874882e-15 0.8330849 3.961099e-32\n",
       "HCP5      0.9313058 1.483868e-68 0.8127928 3.286869e-10 0.7797326 9.458627e-26\n",
       "MLKL      0.8882679 3.186820e-53 0.8039484 7.124779e-10 0.7928775 3.807600e-27\n",
       "APOL1     0.9097720 6.476437e-60 0.8622785 1.749251e-12 0.8531365 3.865149e-35\n",
       "CASP1     0.9342430 5.996087e-70 0.7820952 4.120839e-09 0.7648971 2.751783e-24\n",
       "CARD16    0.8606831 2.060016e-46 0.7070414 4.868083e-07 0.7536760 2.999804e-23\n",
       "PSMB9     0.9409021 2.312756e-73 0.9276896 2.061184e-17 0.9046461 1.576914e-45\n",
       "HLA-B     0.9529732 1.052281e-80 0.9264803 2.772457e-17 0.8709292 3.267254e-38\n",
       "IFIH1     0.8388071 5.604092e-42 0.8491300 8.409505e-12 0.7612657 6.047814e-24\n",
       "ETV7      0.7299400 6.697579e-27 0.7557167 2.672851e-08 0.7336114 1.585396e-21\n",
       "RTP4      0.8620805 1.012117e-46 0.7065672 4.993270e-07 0.8440824 9.979349e-34\n",
       "GBP4      0.9095945 7.468152e-60 0.8423272 1.789608e-11 0.7248108 8.084268e-21\n",
       "TNFRSF14  0.8725636 3.768106e-49 0.6811649 1.816980e-06 0.7300525 3.087352e-21\n",
       "HLA-A     0.9177917 7.473402e-63 0.8692106 7.153398e-13 0.7671813 1.664649e-24\n",
       "HLA-C     0.9105310 3.509556e-60 0.8884860 4.436355e-14 0.6422190 2.668302e-15\n",
       "HLA-F     0.9073971 4.255057e-59 0.9304013 1.040217e-17 0.8574696 7.542094e-36\n",
       "HLA-E     0.9369585 2.697336e-71 0.8285152 7.475662e-11 0.8301563 1.009312e-31\n",
       "TAP1      0.8884340 2.864693e-53 0.8388654 2.593002e-11 0.8498632 1.283301e-34\n",
       "          MM_TH27_7 p.MM_TH27_7 \n",
       "LAPTM5    0.5673396 4.543053e-07\n",
       "PSMB8-AS1 0.9103788 5.451247e-27\n",
       "APOL6     0.8004522 2.587126e-16\n",
       "WAS       0.5770431 2.593790e-07\n",
       "NLRC5     0.8661308 1.487272e-21\n",
       "PSMB8     0.9097678 6.754050e-27\n",
       "B2M       0.6395902 4.328931e-09\n",
       "SP100     0.8230885 7.156320e-18\n",
       "ACSL5     0.6473374 2.441307e-09\n",
       "RARRES3   0.8484138 6.692815e-20\n",
       "APOL3     0.7965122 4.609836e-16\n",
       "HCP5      0.7952275 5.550049e-16\n",
       "MLKL      0.6710758 3.795820e-10\n",
       "APOL1     0.7423085 4.348184e-13\n",
       "CASP1     0.7271253 2.197184e-12\n",
       "CARD16    0.7583528 6.911081e-14\n",
       "PSMB9     0.8960655 5.739270e-25\n",
       "HLA-B     0.9174179 4.108270e-28\n",
       "IFIH1     0.7561509 8.969936e-14\n",
       "ETV7      0.6163132 2.205048e-08\n",
       "RTP4      0.7652465 2.999754e-14\n",
       "GBP4      0.6076245 3.915841e-08\n",
       "TNFRSF14  0.6677674 4.969939e-10\n",
       "HLA-A     0.6841972 1.259080e-10\n",
       "HLA-C     0.8716281 4.082723e-22\n",
       "HLA-F     0.8718208 3.897613e-22\n",
       "HLA-E     0.6575258 1.120709e-09\n",
       "TAP1      0.8711421 4.587952e-22"
      ]
     },
     "metadata": {},
     "output_type": "display_data"
    }
   ],
   "source": [
    "TH_27[ order(TH_27$MM_TH27_1, TH_27$MM_TH27_2, TH_27$MM_TH27_3, TH_27$MM_TH27_4,\n",
    "            TH_27$MM_TH27_5, TH_27$MM_TH27_6,TH_27$MM_TH27_7),grepl(\"MM_TH27\", colnames(TH_27))]"
   ]
  },
  {
   "cell_type": "code",
   "execution_count": 91,
   "metadata": {},
   "outputs": [],
   "source": [
    "mm27_1 <- rownames(TH_27)[TH_27$MM_TH27_1 > 0.8]\n",
    "mm27_2 <- rownames(TH_27)[TH_27$MM_TH27_2 > 0.8]\n",
    "mm27_3 <- rownames(TH_27)[TH_27$MM_TH27_3 > 0.8]\n",
    "mm27_4 <- rownames(TH_27)[TH_27$MM_TH27_4 > 0.8]\n",
    "mm27_5 <- rownames(TH_27)[TH_27$MM_TH27_5 > 0.8]\n",
    "mm27_6 <- rownames(TH_27)[TH_27$MM_TH27_6 > 0.8]\n",
    "mm27_7 <- rownames(TH_27)[TH_27$MM_TH27_7 > 0.8]"
   ]
  },
  {
   "cell_type": "code",
   "execution_count": 92,
   "metadata": {},
   "outputs": [
    {
     "data": {
      "text/html": [
       "<style>\n",
       ".list-inline {list-style: none; margin:0; padding: 0}\n",
       ".list-inline>li {display: inline-block}\n",
       ".list-inline>li:not(:last-child)::after {content: \"\\00b7\"; padding: 0 .5ex}\n",
       "</style>\n",
       "<ol class=list-inline><li>'HLA-B'</li><li>'HLA-F'</li><li>'PSMB9'</li></ol>\n"
      ],
      "text/latex": [
       "\\begin{enumerate*}\n",
       "\\item 'HLA-B'\n",
       "\\item 'HLA-F'\n",
       "\\item 'PSMB9'\n",
       "\\end{enumerate*}\n"
      ],
      "text/markdown": [
       "1. 'HLA-B'\n",
       "2. 'HLA-F'\n",
       "3. 'PSMB9'\n",
       "\n",
       "\n"
      ],
      "text/plain": [
       "[1] \"HLA-B\" \"HLA-F\" \"PSMB9\""
      ]
     },
     "metadata": {},
     "output_type": "display_data"
    }
   ],
   "source": [
    "Reduce(intersect, list(mm27_1, mm27_2, mm27_3 ,mm27_4,mm27_5,mm27_6,mm27_7))"
   ]
  },
  {
   "cell_type": "code",
   "execution_count": 93,
   "metadata": {},
   "outputs": [],
   "source": [
    "# T cell activation\n",
    "TH_13 <- geneInfo[ geneInfo$moduleLabel == \"13\",]"
   ]
  },
  {
   "cell_type": "code",
   "execution_count": 94,
   "metadata": {},
   "outputs": [
    {
     "data": {
      "text/html": [
       "<style>\n",
       ".list-inline {list-style: none; margin:0; padding: 0}\n",
       ".list-inline>li {display: inline-block}\n",
       ".list-inline>li:not(:last-child)::after {content: \"\\00b7\"; padding: 0 .5ex}\n",
       "</style>\n",
       "<ol class=list-inline><li>'ARHGAP9'</li><li>'C11orf21'</li><li>'C16orf54'</li><li>'CCL17'</li><li>'CCL22'</li><li>'CCL5'</li><li>'CCR4'</li><li>'CCR7'</li><li>'CD2'</li><li>'CD244'</li><li>'CD247'</li><li>'CD27'</li><li>'CD3D'</li><li>'CD3E'</li><li>'CD3G'</li><li>'CD5'</li><li>'CD8A'</li><li>'CD96'</li><li>'CHRM3-AS2'</li><li>'CLEC9A'</li><li>'CRTAM'</li><li>'CST7'</li><li>'CTSW'</li><li>'CXCL9'</li><li>'CXCR3'</li><li>'CXCR6'</li><li>'EOMES'</li><li>'FASLG'</li><li>'FCER2'</li><li>'FCRL6'</li><li>'GPR171'</li><li>'GZMA'</li><li>'GZMH'</li><li>'GZMK'</li><li>'ICOS'</li><li>'IFNG'</li><li>'IL7R'</li><li>'ITK'</li><li>'KIAA0125'</li><li>'KIR3DL2'</li><li>'LINC00861'</li><li>'LINC00892'</li><li>'NKG7'</li><li>'P2RY10'</li><li>'PARVG'</li><li>'PRF1'</li><li>'RGL4'</li><li>'SAMD3'</li><li>'SH2D1A'</li><li>'SIRPG'</li><li>'SLA2'</li><li>'SLAMF1'</li><li>'THEMIS'</li><li>'TRAT1'</li><li>'UBASH3A'</li><li>'UBD'</li><li>'XCL2'</li><li>'ZNF683'</li></ol>\n"
      ],
      "text/latex": [
       "\\begin{enumerate*}\n",
       "\\item 'ARHGAP9'\n",
       "\\item 'C11orf21'\n",
       "\\item 'C16orf54'\n",
       "\\item 'CCL17'\n",
       "\\item 'CCL22'\n",
       "\\item 'CCL5'\n",
       "\\item 'CCR4'\n",
       "\\item 'CCR7'\n",
       "\\item 'CD2'\n",
       "\\item 'CD244'\n",
       "\\item 'CD247'\n",
       "\\item 'CD27'\n",
       "\\item 'CD3D'\n",
       "\\item 'CD3E'\n",
       "\\item 'CD3G'\n",
       "\\item 'CD5'\n",
       "\\item 'CD8A'\n",
       "\\item 'CD96'\n",
       "\\item 'CHRM3-AS2'\n",
       "\\item 'CLEC9A'\n",
       "\\item 'CRTAM'\n",
       "\\item 'CST7'\n",
       "\\item 'CTSW'\n",
       "\\item 'CXCL9'\n",
       "\\item 'CXCR3'\n",
       "\\item 'CXCR6'\n",
       "\\item 'EOMES'\n",
       "\\item 'FASLG'\n",
       "\\item 'FCER2'\n",
       "\\item 'FCRL6'\n",
       "\\item 'GPR171'\n",
       "\\item 'GZMA'\n",
       "\\item 'GZMH'\n",
       "\\item 'GZMK'\n",
       "\\item 'ICOS'\n",
       "\\item 'IFNG'\n",
       "\\item 'IL7R'\n",
       "\\item 'ITK'\n",
       "\\item 'KIAA0125'\n",
       "\\item 'KIR3DL2'\n",
       "\\item 'LINC00861'\n",
       "\\item 'LINC00892'\n",
       "\\item 'NKG7'\n",
       "\\item 'P2RY10'\n",
       "\\item 'PARVG'\n",
       "\\item 'PRF1'\n",
       "\\item 'RGL4'\n",
       "\\item 'SAMD3'\n",
       "\\item 'SH2D1A'\n",
       "\\item 'SIRPG'\n",
       "\\item 'SLA2'\n",
       "\\item 'SLAMF1'\n",
       "\\item 'THEMIS'\n",
       "\\item 'TRAT1'\n",
       "\\item 'UBASH3A'\n",
       "\\item 'UBD'\n",
       "\\item 'XCL2'\n",
       "\\item 'ZNF683'\n",
       "\\end{enumerate*}\n"
      ],
      "text/markdown": [
       "1. 'ARHGAP9'\n",
       "2. 'C11orf21'\n",
       "3. 'C16orf54'\n",
       "4. 'CCL17'\n",
       "5. 'CCL22'\n",
       "6. 'CCL5'\n",
       "7. 'CCR4'\n",
       "8. 'CCR7'\n",
       "9. 'CD2'\n",
       "10. 'CD244'\n",
       "11. 'CD247'\n",
       "12. 'CD27'\n",
       "13. 'CD3D'\n",
       "14. 'CD3E'\n",
       "15. 'CD3G'\n",
       "16. 'CD5'\n",
       "17. 'CD8A'\n",
       "18. 'CD96'\n",
       "19. 'CHRM3-AS2'\n",
       "20. 'CLEC9A'\n",
       "21. 'CRTAM'\n",
       "22. 'CST7'\n",
       "23. 'CTSW'\n",
       "24. 'CXCL9'\n",
       "25. 'CXCR3'\n",
       "26. 'CXCR6'\n",
       "27. 'EOMES'\n",
       "28. 'FASLG'\n",
       "29. 'FCER2'\n",
       "30. 'FCRL6'\n",
       "31. 'GPR171'\n",
       "32. 'GZMA'\n",
       "33. 'GZMH'\n",
       "34. 'GZMK'\n",
       "35. 'ICOS'\n",
       "36. 'IFNG'\n",
       "37. 'IL7R'\n",
       "38. 'ITK'\n",
       "39. 'KIAA0125'\n",
       "40. 'KIR3DL2'\n",
       "41. 'LINC00861'\n",
       "42. 'LINC00892'\n",
       "43. 'NKG7'\n",
       "44. 'P2RY10'\n",
       "45. 'PARVG'\n",
       "46. 'PRF1'\n",
       "47. 'RGL4'\n",
       "48. 'SAMD3'\n",
       "49. 'SH2D1A'\n",
       "50. 'SIRPG'\n",
       "51. 'SLA2'\n",
       "52. 'SLAMF1'\n",
       "53. 'THEMIS'\n",
       "54. 'TRAT1'\n",
       "55. 'UBASH3A'\n",
       "56. 'UBD'\n",
       "57. 'XCL2'\n",
       "58. 'ZNF683'\n",
       "\n",
       "\n"
      ],
      "text/plain": [
       " [1] \"ARHGAP9\"   \"C11orf21\"  \"C16orf54\"  \"CCL17\"     \"CCL22\"     \"CCL5\"     \n",
       " [7] \"CCR4\"      \"CCR7\"      \"CD2\"       \"CD244\"     \"CD247\"     \"CD27\"     \n",
       "[13] \"CD3D\"      \"CD3E\"      \"CD3G\"      \"CD5\"       \"CD8A\"      \"CD96\"     \n",
       "[19] \"CHRM3-AS2\" \"CLEC9A\"    \"CRTAM\"     \"CST7\"      \"CTSW\"      \"CXCL9\"    \n",
       "[25] \"CXCR3\"     \"CXCR6\"     \"EOMES\"     \"FASLG\"     \"FCER2\"     \"FCRL6\"    \n",
       "[31] \"GPR171\"    \"GZMA\"      \"GZMH\"      \"GZMK\"      \"ICOS\"      \"IFNG\"     \n",
       "[37] \"IL7R\"      \"ITK\"       \"KIAA0125\"  \"KIR3DL2\"   \"LINC00861\" \"LINC00892\"\n",
       "[43] \"NKG7\"      \"P2RY10\"    \"PARVG\"     \"PRF1\"      \"RGL4\"      \"SAMD3\"    \n",
       "[49] \"SH2D1A\"    \"SIRPG\"     \"SLA2\"      \"SLAMF1\"    \"THEMIS\"    \"TRAT1\"    \n",
       "[55] \"UBASH3A\"   \"UBD\"       \"XCL2\"      \"ZNF683\"   "
      ]
     },
     "metadata": {},
     "output_type": "display_data"
    }
   ],
   "source": [
    "rownames(TH_13)"
   ]
  },
  {
   "cell_type": "code",
   "execution_count": 95,
   "metadata": {
    "scrolled": true
   },
   "outputs": [
    {
     "data": {
      "text/html": [
       "<table class=\"dataframe\">\n",
       "<caption>A data.frame: 58 × 14</caption>\n",
       "<thead>\n",
       "\t<tr><th></th><th scope=col>MM_TH13_1</th><th scope=col>p.MM_TH13_1</th><th scope=col>MM_TH13_2</th><th scope=col>p.MM_TH13_2</th><th scope=col>MM_TH13_3</th><th scope=col>p.MM_TH13_3</th><th scope=col>MM_TH13_4</th><th scope=col>p.MM_TH13_4</th><th scope=col>MM_TH13_5</th><th scope=col>p.MM_TH13_5</th><th scope=col>MM_TH13_6</th><th scope=col>p.MM_TH13_6</th><th scope=col>MM_TH13_7</th><th scope=col>p.MM_TH13_7</th></tr>\n",
       "\t<tr><th></th><th scope=col>&lt;dbl&gt;</th><th scope=col>&lt;dbl&gt;</th><th scope=col>&lt;dbl&gt;</th><th scope=col>&lt;dbl&gt;</th><th scope=col>&lt;dbl&gt;</th><th scope=col>&lt;dbl&gt;</th><th scope=col>&lt;dbl&gt;</th><th scope=col>&lt;dbl&gt;</th><th scope=col>&lt;dbl&gt;</th><th scope=col>&lt;dbl&gt;</th><th scope=col>&lt;dbl&gt;</th><th scope=col>&lt;dbl&gt;</th><th scope=col>&lt;dbl&gt;</th><th scope=col>&lt;dbl&gt;</th></tr>\n",
       "</thead>\n",
       "<tbody>\n",
       "\t<tr><th scope=row>KIR3DL2</th><td>0.2928406</td><td>1.750850e-01</td><td>0.5961463</td><td> 9.168345e-20</td><td>0.7546816</td><td>4.302378e-31</td><td>0.8010890</td><td>1.056355e-35</td><td>0.6445282</td><td>9.501857e-06</td><td>0.6271907</td><td>1.798247e-14</td><td>0.7617006</td><td>4.624310e-14</td></tr>\n",
       "\t<tr><th scope=row>CD27</th><td>0.3887011</td><td>6.679717e-02</td><td>0.9394872</td><td> 7.259575e-90</td><td>0.9300237</td><td>1.867931e-71</td><td>0.9159417</td><td>3.776241e-62</td><td>0.9682396</td><td>7.137122e-24</td><td>0.8010313</td><td>4.607697e-28</td><td>0.9416750</td><td>6.292625e-33</td></tr>\n",
       "\t<tr><th scope=row>ARHGAP9</th><td>0.4323493</td><td>3.936216e-02</td><td>0.8871212</td><td> 2.236080e-65</td><td>0.6222811</td><td>9.652831e-19</td><td>0.5805010</td><td>2.999639e-15</td><td>0.8276579</td><td>8.135175e-11</td><td>0.7087196</td><td>1.358396e-19</td><td>0.6386558</td><td>4.633545e-09</td></tr>\n",
       "\t<tr><th scope=row>CXCL9</th><td>0.4896524</td><td>1.771353e-02</td><td>0.7644230</td><td> 7.058594e-38</td><td>0.7621461</td><td>5.051546e-32</td><td>0.8032955</td><td>4.952968e-36</td><td>0.8721239</td><td>4.838125e-13</td><td>0.7033422</td><td>3.343419e-19</td><td>0.7953219</td><td>5.475132e-16</td></tr>\n",
       "\t<tr><th scope=row>C11orf21</th><td>0.4939824</td><td>1.658661e-02</td><td>0.8758176</td><td> 1.059797e-61</td><td>0.5013089</td><td>1.085373e-11</td><td>0.6983034</td><td>7.795684e-24</td><td>0.9064579</td><td>2.009135e-15</td><td>0.6177890</td><td>5.634279e-14</td><td>0.7931679</td><td>7.453310e-16</td></tr>\n",
       "\t<tr><th scope=row>KIAA0125</th><td>0.5425543</td><td>7.476983e-03</td><td>0.7755066</td><td> 1.323590e-39</td><td>0.6095551</td><td>7.430401e-18</td><td>0.7973482</td><td>3.733719e-35</td><td>0.5983046</td><td>5.749355e-05</td><td>0.5186062</td><td>1.299252e-09</td><td>0.7615974</td><td>4.682387e-14</td></tr>\n",
       "\t<tr><th scope=row>CCL17</th><td>0.5595308</td><td>5.502226e-03</td><td>0.5551211</td><td> 7.840582e-17</td><td>0.5002888</td><td>1.212840e-11</td><td>0.6963699</td><td>1.164886e-23</td><td>0.6915607</td><td>1.087933e-06</td><td>0.5995098</td><td>4.668746e-13</td><td>0.4961645</td><td>1.686427e-05</td></tr>\n",
       "\t<tr><th scope=row>CHRM3-AS2</th><td>0.6214728</td><td>1.548854e-03</td><td>0.7553319</td><td> 1.569672e-36</td><td>0.4480449</td><td>2.252428e-09</td><td>0.7236566</td><td>2.941922e-26</td><td>0.6408066</td><td>1.110530e-05</td><td>0.4084243</td><td>3.641930e-06</td><td>0.7899685</td><td>1.170649e-15</td></tr>\n",
       "\t<tr><th scope=row>PRF1</th><td>0.6254051</td><td>1.416362e-03</td><td>0.9045746</td><td> 6.688545e-72</td><td>0.8314390</td><td>1.101908e-42</td><td>0.7979602</td><td>3.042385e-35</td><td>0.8298756</td><td>6.530872e-11</td><td>0.6633603</td><td>1.512815e-16</td><td>0.8983189</td><td>2.888580e-25</td></tr>\n",
       "\t<tr><th scope=row>FCER2</th><td>0.6276649</td><td>1.344687e-03</td><td>0.7129233</td><td> 5.983600e-31</td><td>0.2052905</td><td>8.775925e-03</td><td>0.6326207</td><td>1.358416e-18</td><td>0.5803222</td><td>1.076967e-04</td><td>0.5496884</td><td>7.918812e-11</td><td>0.7383748</td><td>6.686958e-13</td></tr>\n",
       "\t<tr><th scope=row>ZNF683</th><td>0.6366185</td><td>1.090288e-03</td><td>0.6949602</td><td> 7.015132e-29</td><td>0.8474115</td><td>7.531841e-46</td><td>0.8069017</td><td>1.406619e-36</td><td>0.6451184</td><td>9.267973e-06</td><td>0.6888503</td><td>3.436410e-18</td><td>0.8836100</td><td>1.960671e-23</td></tr>\n",
       "\t<tr><th scope=row>LINC00892</th><td>0.6418156</td><td>9.624401e-04</td><td>0.8163785</td><td> 6.107776e-47</td><td>0.7337210</td><td>1.193139e-28</td><td>0.8555753</td><td>2.595019e-45</td><td>0.3285975</td><td>4.110888e-02</td><td>0.5432411</td><td>1.448622e-10</td><td>0.5955946</td><td>8.433908e-08</td></tr>\n",
       "\t<tr><th scope=row>CLEC9A</th><td>0.6529127</td><td>7.317572e-04</td><td>0.6874521</td><td> 4.638561e-28</td><td>0.6953051</td><td>1.007522e-24</td><td>0.7525957</td><td>2.240662e-29</td><td>0.8689333</td><td>7.421117e-13</td><td>0.6657653</td><td>1.075428e-16</td><td>0.8119506</td><td>4.441739e-17</td></tr>\n",
       "\t<tr><th scope=row>GZMA</th><td>0.6651291</td><td>5.343232e-04</td><td>0.8578216</td><td> 1.558075e-56</td><td>0.6723993</td><td>1.156560e-22</td><td>0.8148887</td><td>7.857774e-38</td><td>0.8559858</td><td>3.780871e-12</td><td>0.7758853</td><td>2.323540e-25</td><td>0.8790720</td><td>6.429162e-23</td></tr>\n",
       "\t<tr><th scope=row>IFNG</th><td>0.6699395</td><td>4.702681e-04</td><td>0.5173394</td><td> 1.818928e-14</td><td>0.7839730</td><td>5.955843e-35</td><td>0.6006673</td><td>1.799438e-16</td><td>0.7232648</td><td>1.980014e-07</td><td>0.7084641</td><td>1.418463e-19</td><td>0.8627861</td><td>3.176623e-21</td></tr>\n",
       "\t<tr><th scope=row>SLAMF1</th><td>0.6783416</td><td>3.741811e-04</td><td>0.9133878</td><td> 1.080519e-75</td><td>0.8277155</td><td>5.401112e-42</td><td>0.9167320</td><td>1.899008e-62</td><td>0.9527235</td><td>9.831300e-21</td><td>0.8317843</td><td>6.014161e-32</td><td>0.9396499</td><td>1.879120e-32</td></tr>\n",
       "\t<tr><th scope=row>XCL2</th><td>0.6939307</td><td>2.400743e-04</td><td>0.7869733</td><td> 1.690310e-41</td><td>0.7721794</td><td>2.498884e-33</td><td>0.8165895</td><td>4.175054e-38</td><td>0.7843444</td><td>3.472221e-09</td><td>0.7519653</td><td>4.269532e-23</td><td>0.8796527</td><td>5.537572e-23</td></tr>\n",
       "\t<tr><th scope=row>IL7R</th><td>0.6946558</td><td>2.350158e-04</td><td>0.8643779</td><td> 2.490915e-58</td><td>0.5430518</td><td>8.278793e-14</td><td>0.8339030</td><td>4.488083e-41</td><td>0.6145715</td><td>3.151790e-05</td><td>0.5779161</td><td>4.805628e-12</td><td>0.7303252</td><td>1.575914e-12</td></tr>\n",
       "\t<tr><th scope=row>PARVG</th><td>0.6984123</td><td>2.102585e-04</td><td>0.8145085</td><td> 1.446893e-46</td><td>0.6797702</td><td>2.634501e-23</td><td>0.7879524</td><td>7.944961e-34</td><td>0.6505223</td><td>7.358827e-06</td><td>0.7023660</td><td>3.928849e-19</td><td>0.2606092</td><td>3.183818e-02</td></tr>\n",
       "\t<tr><th scope=row>FASLG</th><td>0.7101872</td><td>1.467107e-04</td><td>0.7953410</td><td> 5.896200e-43</td><td>0.8889253</td><td>3.944895e-56</td><td>0.7943438</td><td>1.009893e-34</td><td>0.8438498</td><td>1.516016e-11</td><td>0.5476051</td><td>9.638842e-11</td><td>0.9204225</td><td>1.269284e-28</td></tr>\n",
       "\t<tr><th scope=row>UBD</th><td>0.7118385</td><td>1.392975e-04</td><td>0.8052355</td><td> 9.059554e-45</td><td>0.8171591</td><td>4.007570e-40</td><td>0.8132414</td><td>1.440825e-37</td><td>0.9168168</td><td>2.505748e-16</td><td>0.7349619</td><td>1.227666e-21</td><td>0.8944867</td><td>9.198636e-25</td></tr>\n",
       "\t<tr><th scope=row>GZMK</th><td>0.7162336</td><td>1.211331e-04</td><td>0.9188961</td><td> 2.833192e-78</td><td>0.7530171</td><td>6.864649e-31</td><td>0.9166356</td><td>2.065799e-62</td><td>0.9111217</td><td>8.121476e-16</td><td>0.8683540</td><td>9.690550e-38</td><td>0.8900674</td><td>3.314105e-24</td></tr>\n",
       "\t<tr><th scope=row>C16orf54</th><td>0.7328999</td><td>6.962196e-05</td><td>0.9332356</td><td> 5.837437e-86</td><td>0.4313385</td><td>1.002402e-08</td><td>0.9406367</td><td>3.218637e-73</td><td>0.8738073</td><td>3.842779e-13</td><td>0.5740475</td><td>7.168214e-12</td><td>0.8893714</td><td>4.035220e-24</td></tr>\n",
       "\t<tr><th scope=row>CCR4</th><td>0.7344343</td><td>6.602803e-05</td><td>0.8231409</td><td> 2.482540e-48</td><td>0.7682013</td><td>8.381092e-33</td><td>0.8420545</td><td>1.359415e-42</td><td>0.8147541</td><td>2.753463e-10</td><td>0.6480981</td><td>1.228716e-15</td><td>0.7769668</td><td>6.786298e-15</td></tr>\n",
       "\t<tr><th scope=row>EOMES</th><td>0.7352821</td><td>6.411286e-05</td><td>0.8659540</td><td> 8.922852e-59</td><td>0.7712729</td><td>3.299429e-33</td><td>0.8806594</td><td>3.533051e-51</td><td>0.7225820</td><td>2.059004e-07</td><td>0.7159075</td><td>3.945594e-20</td><td>0.9246163</td><td>2.275054e-29</td></tr>\n",
       "\t<tr><th scope=row>CD244</th><td>0.7410718</td><td>5.228246e-05</td><td>0.8436871</td><td> 5.970187e-53</td><td>0.5970998</td><td>5.021203e-17</td><td>0.8277736</td><td>5.505452e-40</td><td>0.8480458</td><td>9.508405e-12</td><td>0.7454374</td><td>1.599759e-22</td><td>0.8438362</td><td>1.654641e-19</td></tr>\n",
       "\t<tr><th scope=row>P2RY10</th><td>0.7436761</td><td>4.761665e-05</td><td>0.8951181</td><td> 3.188156e-68</td><td>0.9015422</td><td>4.286234e-60</td><td>0.9234276</td><td>4.204229e-65</td><td>0.9413983</td><td>4.744250e-19</td><td>0.7635979</td><td>3.653173e-24</td><td>0.9344774</td><td>2.609430e-31</td></tr>\n",
       "\t<tr><th scope=row>GZMH</th><td>0.7564812</td><td>2.958127e-05</td><td>0.6686158</td><td> 4.161234e-26</td><td>0.8850691</td><td>5.159406e-55</td><td>0.6949317</td><td>1.567244e-23</td><td>0.8224360</td><td>1.348200e-10</td><td>0.6446363</td><td>1.943784e-15</td><td>0.8124150</td><td>4.126202e-17</td></tr>\n",
       "\t<tr><th scope=row>CCL5</th><td>0.7614011</td><td>2.444878e-05</td><td>0.8399011</td><td> 4.739653e-52</td><td>0.8468149</td><td>1.003568e-45</td><td>0.8289094</td><td>3.485971e-40</td><td>0.8869838</td><td>5.608323e-14</td><td>0.8177064</td><td>4.447499e-30</td><td>0.8324638</td><td>1.390350e-18</td></tr>\n",
       "\t<tr><th scope=row>CXCR6</th><td>0.7656875</td><td>2.063276e-05</td><td>0.7751664</td><td> 1.500419e-39</td><td>0.9196777</td><td>7.589939e-67</td><td>0.8044845</td><td>3.280039e-36</td><td>0.8607694</td><td>2.111590e-12</td><td>0.8030604</td><td>2.682970e-28</td><td>0.9140896</td><td>1.434019e-27</td></tr>\n",
       "\t<tr><th scope=row>CD247</th><td>0.7758235</td><td>1.361547e-05</td><td>0.9141981</td><td> 4.622459e-76</td><td>0.9422676</td><td>6.353015e-78</td><td>0.6984161</td><td>7.614596e-24</td><td>0.9864071</td><td>1.261968e-30</td><td>0.7105967</td><td>9.871665e-20</td><td>0.6529943</td><td>1.590233e-09</td></tr>\n",
       "\t<tr><th scope=row>CTSW</th><td>0.7763381</td><td>1.332362e-05</td><td>0.8740358</td><td> 3.730538e-61</td><td>0.7502050</td><td>1.498922e-30</td><td>0.8770031</td><td>3.032138e-50</td><td>0.8851865</td><td>7.392160e-14</td><td>0.7319859</td><td>2.152327e-21</td><td>0.8485131</td><td>6.560452e-20</td></tr>\n",
       "\t<tr><th scope=row>CRTAM</th><td>0.7801908</td><td>1.130818e-05</td><td>0.8665382</td><td> 6.078879e-59</td><td>0.5309681</td><td>3.639443e-13</td><td>0.7798586</td><td>9.797486e-33</td><td>0.9074477</td><td>1.664437e-15</td><td>0.7969193</td><td>1.352852e-27</td><td>0.3851479</td><td>1.181859e-03</td></tr>\n",
       "\t<tr><th scope=row>LINC00861</th><td>0.7907243</td><td>7.100226e-06</td><td>0.8666195</td><td> 5.761849e-59</td><td>0.7993657</td><td>3.139988e-37</td><td>0.7379532</td><td>9.541891e-28</td><td>0.7438015</td><td>5.770572e-08</td><td>0.8063202</td><td>1.110490e-28</td><td>0.7325860</td><td>1.242552e-12</td></tr>\n",
       "\t<tr><th scope=row>CCL22</th><td>0.7972691</td><td>5.246695e-06</td><td>0.6690065</td><td> 3.803305e-26</td><td>0.5036438</td><td>8.405987e-12</td><td>0.7716177</td><td>1.136235e-31</td><td>0.7793260</td><td>5.074242e-09</td><td>0.6726665</td><td>3.968184e-17</td><td>0.7251734</td><td>2.684835e-12</td></tr>\n",
       "\t<tr><th scope=row>ITK</th><td>0.8184064</td><td>1.824354e-06</td><td>0.6825333</td><td> 1.550559e-27</td><td>0.2478885</td><td>1.470395e-03</td><td>0.9477416</td><td>2.615492e-77</td><td>0.9345398</td><td>3.467117e-18</td><td>0.9227665</td><td>1.075374e-50</td><td>0.8580335</td><td>9.029341e-21</td></tr>\n",
       "\t<tr><th scope=row>ICOS</th><td>0.8190844</td><td>1.759682e-06</td><td>0.8829356</td><td> 5.684276e-64</td><td>0.9032453</td><td>1.137998e-60</td><td>0.9383392</td><td>5.283400e-72</td><td>0.8069337</td><td>5.511690e-10</td><td>0.7897320</td><td>8.385923e-27</td><td>0.9377549</td><td>5.057139e-32</td></tr>\n",
       "\t<tr><th scope=row>RGL4</th><td>0.8255927</td><td>1.234865e-06</td><td>0.8331010</td><td> 1.715674e-50</td><td>0.8031442</td><td>8.076839e-38</td><td>0.7511874</td><td>3.250748e-29</td><td>0.7601380</td><td>1.986591e-08</td><td>0.7169920</td><td>3.263312e-20</td><td>0.5294919</td><td>3.438145e-06</td></tr>\n",
       "\t<tr><th scope=row>CD8A</th><td>0.8297334</td><td>9.782806e-07</td><td>0.7223509</td><td> 4.228873e-32</td><td>0.9485727</td><td>7.845899e-82</td><td>0.9119353</td><td>1.113430e-60</td><td>0.9490510</td><td>3.803083e-20</td><td>0.6306819</td><td>1.165121e-14</td><td>0.8974433</td><td>3.778951e-25</td></tr>\n",
       "\t<tr><th scope=row>FCRL6</th><td>0.8409804</td><td>5.030422e-07</td><td>0.6922620</td><td> 1.392313e-28</td><td>0.8848315</td><td>6.027160e-55</td><td>0.7939604</td><td>1.145249e-34</td><td>0.6618176</td><td>4.476479e-06</td><td>0.7341486</td><td>1.432333e-21</td><td>0.3908235</td><td>9.836112e-04</td></tr>\n",
       "\t<tr><th scope=row>NKG7</th><td>0.8557974</td><td>1.929352e-07</td><td>0.7911819</td><td> 3.186459e-42</td><td>0.8358351</td><td>1.603444e-43</td><td>0.8209957</td><td>7.865166e-39</td><td>0.8506126</td><td>7.098365e-12</td><td>0.6947326</td><td>1.356987e-18</td><td>0.8403730</td><td>3.219818e-19</td></tr>\n",
       "\t<tr><th scope=row>CCR7</th><td>0.8622848</td><td>1.226029e-07</td><td>0.8405792</td><td> 3.283445e-52</td><td>0.8462302</td><td>1.328032e-45</td><td>0.7511389</td><td>3.292557e-29</td><td>0.8462885</td><td>1.157940e-11</td><td>0.7619646</td><td>5.202945e-24</td><td>0.6494738</td><td>2.078609e-09</td></tr>\n",
       "\t<tr><th scope=row>CD5</th><td>0.8692029</td><td>7.366939e-08</td><td>0.8982391</td><td> 2.136771e-69</td><td>0.9434923</td><td>1.200457e-78</td><td>0.8333226</td><td>5.715379e-41</td><td>0.9316907</td><td>7.441853e-18</td><td>0.7177139</td><td>2.874498e-20</td><td>0.9524284</td><td>8.963588e-36</td></tr>\n",
       "\t<tr><th scope=row>SLA2</th><td>0.8730951</td><td>5.461177e-08</td><td>0.9395957</td><td> 6.159438e-90</td><td>0.9222394</td><td>6.298479e-68</td><td>0.9701284</td><td>2.111029e-95</td><td>0.9822511</td><td>1.695816e-28</td><td>0.6393144</td><td>3.889988e-15</td><td>0.9637571</td><td>1.356199e-39</td></tr>\n",
       "\t<tr><th scope=row>GPR171</th><td>0.8760531</td><td>4.321351e-08</td><td>0.8539021</td><td> 1.674726e-55</td><td>0.6203021</td><td>1.333978e-18</td><td>0.8725040</td><td>3.895202e-49</td><td>0.9218611</td><td>8.226133e-17</td><td>0.7992727</td><td>7.325896e-28</td><td>0.9051104</td><td>3.296149e-26</td></tr>\n",
       "\t<tr><th scope=row>CD3G</th><td>0.8916712</td><td>1.128237e-08</td><td>0.9016288</td><td> 1.025669e-70</td><td>0.9165891</td><td>1.369867e-65</td><td>0.9442775</td><td>3.011730e-75</td><td>0.9381844</td><td>1.239476e-18</td><td>0.8091628</td><td>5.075192e-29</td><td>0.9665041</td><td>1.050789e-40</td></tr>\n",
       "\t<tr><th scope=row>UBASH3A</th><td>0.8919558</td><td>1.098915e-08</td><td>0.9506295</td><td> 5.483584e-98</td><td>0.9447088</td><td>2.210039e-79</td><td>0.9246362</td><td>1.314353e-65</td><td>0.9627704</td><td>1.288365e-22</td><td>0.8329111</td><td>4.189402e-32</td><td>0.9551240</td><td>1.364763e-36</td></tr>\n",
       "\t<tr><th scope=row>SH2D1A</th><td>0.8929103</td><td>1.005501e-08</td><td>0.9483888</td><td> 3.269756e-96</td><td>0.9555122</td><td>9.523490e-87</td><td>0.8638909</td><td>3.983626e-47</td><td>0.9518009</td><td>1.394705e-20</td><td>0.8992926</td><td>3.371763e-44</td><td>0.7308774</td><td>1.487366e-12</td></tr>\n",
       "\t<tr><th scope=row>CD3D</th><td>0.9003417</td><td>4.887249e-09</td><td>0.9322707</td><td> 2.162980e-85</td><td>0.9185723</td><td>2.165864e-66</td><td>0.9285070</td><td>2.772804e-67</td><td>0.9755304</td><td>6.093034e-26</td><td>0.8473790</td><td>3.130683e-34</td><td>0.9391742</td><td>2.416480e-32</td></tr>\n",
       "\t<tr><th scope=row>TRAT1</th><td>0.9049260</td><td>3.043206e-09</td><td>0.9126624</td><td> 2.294566e-75</td><td>0.8805662</td><td>9.267124e-54</td><td>0.9451258</td><td>9.694007e-76</td><td>0.9172967</td><td>2.260708e-16</td><td>0.8825063</td><td>1.814084e-40</td><td>0.4323198</td><td>2.317673e-04</td></tr>\n",
       "\t<tr><th scope=row>SAMD3</th><td>0.9103179</td><td>1.689119e-09</td><td>0.9239469</td><td> 8.296848e-81</td><td>0.8104685</td><td>5.331758e-39</td><td>0.7730838</td><td>7.402817e-32</td><td>0.9232232</td><td>6.011589e-17</td><td>0.6622355</td><td>1.772701e-16</td><td>0.6831804</td><td>1.374278e-10</td></tr>\n",
       "\t<tr><th scope=row>THEMIS</th><td>0.9126344</td><td>1.296754e-09</td><td>0.8940632</td><td> 7.796479e-68</td><td>0.9040602</td><td>5.980970e-61</td><td>0.8837375</td><td>5.472201e-52</td><td>0.9452630</td><td>1.387822e-19</td><td>0.8812981</td><td>3.198269e-40</td><td>0.9383812</td><td>3.658533e-32</td></tr>\n",
       "\t<tr><th scope=row>CXCR3</th><td>0.9211693</td><td>4.578787e-10</td><td>0.9329997</td><td> 8.054627e-86</td><td>0.8617943</td><td>5.005856e-49</td><td>0.9360168</td><td>8.030239e-71</td><td>0.9536587</td><td>6.847472e-21</td><td>0.9195386</td><td>1.094318e-49</td><td>0.9370961</td><td>7.082780e-32</td></tr>\n",
       "\t<tr><th scope=row>CD3E</th><td>0.9315350</td><td>1.091502e-10</td><td>0.9554457</td><td>4.221811e-102</td><td>0.9320409</td><td>1.951958e-72</td><td>0.9159365</td><td>3.793538e-62</td><td>0.9788384</td><td>4.265199e-27</td><td>0.9167000</td><td>7.778931e-49</td><td>0.9485577</td><td>1.113903e-34</td></tr>\n",
       "\t<tr><th scope=row>CST7</th><td>0.9362638</td><td>5.258006e-11</td><td>0.8638211</td><td> 3.568747e-58</td><td>0.6857139</td><td>7.741219e-24</td><td>0.8837197</td><td>5.532138e-52</td><td>0.9187309</td><td>1.656006e-16</td><td>0.8010137</td><td>4.629228e-28</td><td>0.8653899</td><td>1.762623e-21</td></tr>\n",
       "\t<tr><th scope=row>SIRPG</th><td>0.9390234</td><td>3.344451e-11</td><td>0.9426737</td><td> 5.089837e-92</td><td>0.7768401</td><td>5.865335e-34</td><td>0.8960652</td><td>1.769949e-55</td><td>0.9711176</td><td>1.261419e-24</td><td>0.9003921</td><td>1.823414e-44</td><td>0.9032615</td><td>6.046573e-26</td></tr>\n",
       "\t<tr><th scope=row>CD96</th><td>0.9628638</td><td>2.036296e-13</td><td>0.9381976</td><td> 5.008096e-89</td><td>0.9533277</td><td>4.040792e-85</td><td>0.8348538</td><td>3.014372e-41</td><td>0.9477183</td><td>6.062874e-20</td><td>0.6442397</td><td>2.047865e-15</td><td>0.9047549</td><td>3.707507e-26</td></tr>\n",
       "\t<tr><th scope=row>CD2</th><td>0.9893250</td><td>4.722466e-19</td><td>0.9675961</td><td>6.392070e-115</td><td>0.9524979</td><td>1.600814e-84</td><td>0.9418565</td><td>6.958780e-74</td><td>0.9797096</td><td>1.973946e-27</td><td>0.9050078</td><td>1.273873e-45</td><td>0.9468446</td><td>3.195270e-34</td></tr>\n",
       "</tbody>\n",
       "</table>\n"
      ],
      "text/latex": [
       "A data.frame: 58 × 14\n",
       "\\begin{tabular}{r|llllllllllllll}\n",
       "  & MM\\_TH13\\_1 & p.MM\\_TH13\\_1 & MM\\_TH13\\_2 & p.MM\\_TH13\\_2 & MM\\_TH13\\_3 & p.MM\\_TH13\\_3 & MM\\_TH13\\_4 & p.MM\\_TH13\\_4 & MM\\_TH13\\_5 & p.MM\\_TH13\\_5 & MM\\_TH13\\_6 & p.MM\\_TH13\\_6 & MM\\_TH13\\_7 & p.MM\\_TH13\\_7\\\\\n",
       "  & <dbl> & <dbl> & <dbl> & <dbl> & <dbl> & <dbl> & <dbl> & <dbl> & <dbl> & <dbl> & <dbl> & <dbl> & <dbl> & <dbl>\\\\\n",
       "\\hline\n",
       "\tKIR3DL2 & 0.2928406 & 1.750850e-01 & 0.5961463 &  9.168345e-20 & 0.7546816 & 4.302378e-31 & 0.8010890 & 1.056355e-35 & 0.6445282 & 9.501857e-06 & 0.6271907 & 1.798247e-14 & 0.7617006 & 4.624310e-14\\\\\n",
       "\tCD27 & 0.3887011 & 6.679717e-02 & 0.9394872 &  7.259575e-90 & 0.9300237 & 1.867931e-71 & 0.9159417 & 3.776241e-62 & 0.9682396 & 7.137122e-24 & 0.8010313 & 4.607697e-28 & 0.9416750 & 6.292625e-33\\\\\n",
       "\tARHGAP9 & 0.4323493 & 3.936216e-02 & 0.8871212 &  2.236080e-65 & 0.6222811 & 9.652831e-19 & 0.5805010 & 2.999639e-15 & 0.8276579 & 8.135175e-11 & 0.7087196 & 1.358396e-19 & 0.6386558 & 4.633545e-09\\\\\n",
       "\tCXCL9 & 0.4896524 & 1.771353e-02 & 0.7644230 &  7.058594e-38 & 0.7621461 & 5.051546e-32 & 0.8032955 & 4.952968e-36 & 0.8721239 & 4.838125e-13 & 0.7033422 & 3.343419e-19 & 0.7953219 & 5.475132e-16\\\\\n",
       "\tC11orf21 & 0.4939824 & 1.658661e-02 & 0.8758176 &  1.059797e-61 & 0.5013089 & 1.085373e-11 & 0.6983034 & 7.795684e-24 & 0.9064579 & 2.009135e-15 & 0.6177890 & 5.634279e-14 & 0.7931679 & 7.453310e-16\\\\\n",
       "\tKIAA0125 & 0.5425543 & 7.476983e-03 & 0.7755066 &  1.323590e-39 & 0.6095551 & 7.430401e-18 & 0.7973482 & 3.733719e-35 & 0.5983046 & 5.749355e-05 & 0.5186062 & 1.299252e-09 & 0.7615974 & 4.682387e-14\\\\\n",
       "\tCCL17 & 0.5595308 & 5.502226e-03 & 0.5551211 &  7.840582e-17 & 0.5002888 & 1.212840e-11 & 0.6963699 & 1.164886e-23 & 0.6915607 & 1.087933e-06 & 0.5995098 & 4.668746e-13 & 0.4961645 & 1.686427e-05\\\\\n",
       "\tCHRM3-AS2 & 0.6214728 & 1.548854e-03 & 0.7553319 &  1.569672e-36 & 0.4480449 & 2.252428e-09 & 0.7236566 & 2.941922e-26 & 0.6408066 & 1.110530e-05 & 0.4084243 & 3.641930e-06 & 0.7899685 & 1.170649e-15\\\\\n",
       "\tPRF1 & 0.6254051 & 1.416362e-03 & 0.9045746 &  6.688545e-72 & 0.8314390 & 1.101908e-42 & 0.7979602 & 3.042385e-35 & 0.8298756 & 6.530872e-11 & 0.6633603 & 1.512815e-16 & 0.8983189 & 2.888580e-25\\\\\n",
       "\tFCER2 & 0.6276649 & 1.344687e-03 & 0.7129233 &  5.983600e-31 & 0.2052905 & 8.775925e-03 & 0.6326207 & 1.358416e-18 & 0.5803222 & 1.076967e-04 & 0.5496884 & 7.918812e-11 & 0.7383748 & 6.686958e-13\\\\\n",
       "\tZNF683 & 0.6366185 & 1.090288e-03 & 0.6949602 &  7.015132e-29 & 0.8474115 & 7.531841e-46 & 0.8069017 & 1.406619e-36 & 0.6451184 & 9.267973e-06 & 0.6888503 & 3.436410e-18 & 0.8836100 & 1.960671e-23\\\\\n",
       "\tLINC00892 & 0.6418156 & 9.624401e-04 & 0.8163785 &  6.107776e-47 & 0.7337210 & 1.193139e-28 & 0.8555753 & 2.595019e-45 & 0.3285975 & 4.110888e-02 & 0.5432411 & 1.448622e-10 & 0.5955946 & 8.433908e-08\\\\\n",
       "\tCLEC9A & 0.6529127 & 7.317572e-04 & 0.6874521 &  4.638561e-28 & 0.6953051 & 1.007522e-24 & 0.7525957 & 2.240662e-29 & 0.8689333 & 7.421117e-13 & 0.6657653 & 1.075428e-16 & 0.8119506 & 4.441739e-17\\\\\n",
       "\tGZMA & 0.6651291 & 5.343232e-04 & 0.8578216 &  1.558075e-56 & 0.6723993 & 1.156560e-22 & 0.8148887 & 7.857774e-38 & 0.8559858 & 3.780871e-12 & 0.7758853 & 2.323540e-25 & 0.8790720 & 6.429162e-23\\\\\n",
       "\tIFNG & 0.6699395 & 4.702681e-04 & 0.5173394 &  1.818928e-14 & 0.7839730 & 5.955843e-35 & 0.6006673 & 1.799438e-16 & 0.7232648 & 1.980014e-07 & 0.7084641 & 1.418463e-19 & 0.8627861 & 3.176623e-21\\\\\n",
       "\tSLAMF1 & 0.6783416 & 3.741811e-04 & 0.9133878 &  1.080519e-75 & 0.8277155 & 5.401112e-42 & 0.9167320 & 1.899008e-62 & 0.9527235 & 9.831300e-21 & 0.8317843 & 6.014161e-32 & 0.9396499 & 1.879120e-32\\\\\n",
       "\tXCL2 & 0.6939307 & 2.400743e-04 & 0.7869733 &  1.690310e-41 & 0.7721794 & 2.498884e-33 & 0.8165895 & 4.175054e-38 & 0.7843444 & 3.472221e-09 & 0.7519653 & 4.269532e-23 & 0.8796527 & 5.537572e-23\\\\\n",
       "\tIL7R & 0.6946558 & 2.350158e-04 & 0.8643779 &  2.490915e-58 & 0.5430518 & 8.278793e-14 & 0.8339030 & 4.488083e-41 & 0.6145715 & 3.151790e-05 & 0.5779161 & 4.805628e-12 & 0.7303252 & 1.575914e-12\\\\\n",
       "\tPARVG & 0.6984123 & 2.102585e-04 & 0.8145085 &  1.446893e-46 & 0.6797702 & 2.634501e-23 & 0.7879524 & 7.944961e-34 & 0.6505223 & 7.358827e-06 & 0.7023660 & 3.928849e-19 & 0.2606092 & 3.183818e-02\\\\\n",
       "\tFASLG & 0.7101872 & 1.467107e-04 & 0.7953410 &  5.896200e-43 & 0.8889253 & 3.944895e-56 & 0.7943438 & 1.009893e-34 & 0.8438498 & 1.516016e-11 & 0.5476051 & 9.638842e-11 & 0.9204225 & 1.269284e-28\\\\\n",
       "\tUBD & 0.7118385 & 1.392975e-04 & 0.8052355 &  9.059554e-45 & 0.8171591 & 4.007570e-40 & 0.8132414 & 1.440825e-37 & 0.9168168 & 2.505748e-16 & 0.7349619 & 1.227666e-21 & 0.8944867 & 9.198636e-25\\\\\n",
       "\tGZMK & 0.7162336 & 1.211331e-04 & 0.9188961 &  2.833192e-78 & 0.7530171 & 6.864649e-31 & 0.9166356 & 2.065799e-62 & 0.9111217 & 8.121476e-16 & 0.8683540 & 9.690550e-38 & 0.8900674 & 3.314105e-24\\\\\n",
       "\tC16orf54 & 0.7328999 & 6.962196e-05 & 0.9332356 &  5.837437e-86 & 0.4313385 & 1.002402e-08 & 0.9406367 & 3.218637e-73 & 0.8738073 & 3.842779e-13 & 0.5740475 & 7.168214e-12 & 0.8893714 & 4.035220e-24\\\\\n",
       "\tCCR4 & 0.7344343 & 6.602803e-05 & 0.8231409 &  2.482540e-48 & 0.7682013 & 8.381092e-33 & 0.8420545 & 1.359415e-42 & 0.8147541 & 2.753463e-10 & 0.6480981 & 1.228716e-15 & 0.7769668 & 6.786298e-15\\\\\n",
       "\tEOMES & 0.7352821 & 6.411286e-05 & 0.8659540 &  8.922852e-59 & 0.7712729 & 3.299429e-33 & 0.8806594 & 3.533051e-51 & 0.7225820 & 2.059004e-07 & 0.7159075 & 3.945594e-20 & 0.9246163 & 2.275054e-29\\\\\n",
       "\tCD244 & 0.7410718 & 5.228246e-05 & 0.8436871 &  5.970187e-53 & 0.5970998 & 5.021203e-17 & 0.8277736 & 5.505452e-40 & 0.8480458 & 9.508405e-12 & 0.7454374 & 1.599759e-22 & 0.8438362 & 1.654641e-19\\\\\n",
       "\tP2RY10 & 0.7436761 & 4.761665e-05 & 0.8951181 &  3.188156e-68 & 0.9015422 & 4.286234e-60 & 0.9234276 & 4.204229e-65 & 0.9413983 & 4.744250e-19 & 0.7635979 & 3.653173e-24 & 0.9344774 & 2.609430e-31\\\\\n",
       "\tGZMH & 0.7564812 & 2.958127e-05 & 0.6686158 &  4.161234e-26 & 0.8850691 & 5.159406e-55 & 0.6949317 & 1.567244e-23 & 0.8224360 & 1.348200e-10 & 0.6446363 & 1.943784e-15 & 0.8124150 & 4.126202e-17\\\\\n",
       "\tCCL5 & 0.7614011 & 2.444878e-05 & 0.8399011 &  4.739653e-52 & 0.8468149 & 1.003568e-45 & 0.8289094 & 3.485971e-40 & 0.8869838 & 5.608323e-14 & 0.8177064 & 4.447499e-30 & 0.8324638 & 1.390350e-18\\\\\n",
       "\tCXCR6 & 0.7656875 & 2.063276e-05 & 0.7751664 &  1.500419e-39 & 0.9196777 & 7.589939e-67 & 0.8044845 & 3.280039e-36 & 0.8607694 & 2.111590e-12 & 0.8030604 & 2.682970e-28 & 0.9140896 & 1.434019e-27\\\\\n",
       "\tCD247 & 0.7758235 & 1.361547e-05 & 0.9141981 &  4.622459e-76 & 0.9422676 & 6.353015e-78 & 0.6984161 & 7.614596e-24 & 0.9864071 & 1.261968e-30 & 0.7105967 & 9.871665e-20 & 0.6529943 & 1.590233e-09\\\\\n",
       "\tCTSW & 0.7763381 & 1.332362e-05 & 0.8740358 &  3.730538e-61 & 0.7502050 & 1.498922e-30 & 0.8770031 & 3.032138e-50 & 0.8851865 & 7.392160e-14 & 0.7319859 & 2.152327e-21 & 0.8485131 & 6.560452e-20\\\\\n",
       "\tCRTAM & 0.7801908 & 1.130818e-05 & 0.8665382 &  6.078879e-59 & 0.5309681 & 3.639443e-13 & 0.7798586 & 9.797486e-33 & 0.9074477 & 1.664437e-15 & 0.7969193 & 1.352852e-27 & 0.3851479 & 1.181859e-03\\\\\n",
       "\tLINC00861 & 0.7907243 & 7.100226e-06 & 0.8666195 &  5.761849e-59 & 0.7993657 & 3.139988e-37 & 0.7379532 & 9.541891e-28 & 0.7438015 & 5.770572e-08 & 0.8063202 & 1.110490e-28 & 0.7325860 & 1.242552e-12\\\\\n",
       "\tCCL22 & 0.7972691 & 5.246695e-06 & 0.6690065 &  3.803305e-26 & 0.5036438 & 8.405987e-12 & 0.7716177 & 1.136235e-31 & 0.7793260 & 5.074242e-09 & 0.6726665 & 3.968184e-17 & 0.7251734 & 2.684835e-12\\\\\n",
       "\tITK & 0.8184064 & 1.824354e-06 & 0.6825333 &  1.550559e-27 & 0.2478885 & 1.470395e-03 & 0.9477416 & 2.615492e-77 & 0.9345398 & 3.467117e-18 & 0.9227665 & 1.075374e-50 & 0.8580335 & 9.029341e-21\\\\\n",
       "\tICOS & 0.8190844 & 1.759682e-06 & 0.8829356 &  5.684276e-64 & 0.9032453 & 1.137998e-60 & 0.9383392 & 5.283400e-72 & 0.8069337 & 5.511690e-10 & 0.7897320 & 8.385923e-27 & 0.9377549 & 5.057139e-32\\\\\n",
       "\tRGL4 & 0.8255927 & 1.234865e-06 & 0.8331010 &  1.715674e-50 & 0.8031442 & 8.076839e-38 & 0.7511874 & 3.250748e-29 & 0.7601380 & 1.986591e-08 & 0.7169920 & 3.263312e-20 & 0.5294919 & 3.438145e-06\\\\\n",
       "\tCD8A & 0.8297334 & 9.782806e-07 & 0.7223509 &  4.228873e-32 & 0.9485727 & 7.845899e-82 & 0.9119353 & 1.113430e-60 & 0.9490510 & 3.803083e-20 & 0.6306819 & 1.165121e-14 & 0.8974433 & 3.778951e-25\\\\\n",
       "\tFCRL6 & 0.8409804 & 5.030422e-07 & 0.6922620 &  1.392313e-28 & 0.8848315 & 6.027160e-55 & 0.7939604 & 1.145249e-34 & 0.6618176 & 4.476479e-06 & 0.7341486 & 1.432333e-21 & 0.3908235 & 9.836112e-04\\\\\n",
       "\tNKG7 & 0.8557974 & 1.929352e-07 & 0.7911819 &  3.186459e-42 & 0.8358351 & 1.603444e-43 & 0.8209957 & 7.865166e-39 & 0.8506126 & 7.098365e-12 & 0.6947326 & 1.356987e-18 & 0.8403730 & 3.219818e-19\\\\\n",
       "\tCCR7 & 0.8622848 & 1.226029e-07 & 0.8405792 &  3.283445e-52 & 0.8462302 & 1.328032e-45 & 0.7511389 & 3.292557e-29 & 0.8462885 & 1.157940e-11 & 0.7619646 & 5.202945e-24 & 0.6494738 & 2.078609e-09\\\\\n",
       "\tCD5 & 0.8692029 & 7.366939e-08 & 0.8982391 &  2.136771e-69 & 0.9434923 & 1.200457e-78 & 0.8333226 & 5.715379e-41 & 0.9316907 & 7.441853e-18 & 0.7177139 & 2.874498e-20 & 0.9524284 & 8.963588e-36\\\\\n",
       "\tSLA2 & 0.8730951 & 5.461177e-08 & 0.9395957 &  6.159438e-90 & 0.9222394 & 6.298479e-68 & 0.9701284 & 2.111029e-95 & 0.9822511 & 1.695816e-28 & 0.6393144 & 3.889988e-15 & 0.9637571 & 1.356199e-39\\\\\n",
       "\tGPR171 & 0.8760531 & 4.321351e-08 & 0.8539021 &  1.674726e-55 & 0.6203021 & 1.333978e-18 & 0.8725040 & 3.895202e-49 & 0.9218611 & 8.226133e-17 & 0.7992727 & 7.325896e-28 & 0.9051104 & 3.296149e-26\\\\\n",
       "\tCD3G & 0.8916712 & 1.128237e-08 & 0.9016288 &  1.025669e-70 & 0.9165891 & 1.369867e-65 & 0.9442775 & 3.011730e-75 & 0.9381844 & 1.239476e-18 & 0.8091628 & 5.075192e-29 & 0.9665041 & 1.050789e-40\\\\\n",
       "\tUBASH3A & 0.8919558 & 1.098915e-08 & 0.9506295 &  5.483584e-98 & 0.9447088 & 2.210039e-79 & 0.9246362 & 1.314353e-65 & 0.9627704 & 1.288365e-22 & 0.8329111 & 4.189402e-32 & 0.9551240 & 1.364763e-36\\\\\n",
       "\tSH2D1A & 0.8929103 & 1.005501e-08 & 0.9483888 &  3.269756e-96 & 0.9555122 & 9.523490e-87 & 0.8638909 & 3.983626e-47 & 0.9518009 & 1.394705e-20 & 0.8992926 & 3.371763e-44 & 0.7308774 & 1.487366e-12\\\\\n",
       "\tCD3D & 0.9003417 & 4.887249e-09 & 0.9322707 &  2.162980e-85 & 0.9185723 & 2.165864e-66 & 0.9285070 & 2.772804e-67 & 0.9755304 & 6.093034e-26 & 0.8473790 & 3.130683e-34 & 0.9391742 & 2.416480e-32\\\\\n",
       "\tTRAT1 & 0.9049260 & 3.043206e-09 & 0.9126624 &  2.294566e-75 & 0.8805662 & 9.267124e-54 & 0.9451258 & 9.694007e-76 & 0.9172967 & 2.260708e-16 & 0.8825063 & 1.814084e-40 & 0.4323198 & 2.317673e-04\\\\\n",
       "\tSAMD3 & 0.9103179 & 1.689119e-09 & 0.9239469 &  8.296848e-81 & 0.8104685 & 5.331758e-39 & 0.7730838 & 7.402817e-32 & 0.9232232 & 6.011589e-17 & 0.6622355 & 1.772701e-16 & 0.6831804 & 1.374278e-10\\\\\n",
       "\tTHEMIS & 0.9126344 & 1.296754e-09 & 0.8940632 &  7.796479e-68 & 0.9040602 & 5.980970e-61 & 0.8837375 & 5.472201e-52 & 0.9452630 & 1.387822e-19 & 0.8812981 & 3.198269e-40 & 0.9383812 & 3.658533e-32\\\\\n",
       "\tCXCR3 & 0.9211693 & 4.578787e-10 & 0.9329997 &  8.054627e-86 & 0.8617943 & 5.005856e-49 & 0.9360168 & 8.030239e-71 & 0.9536587 & 6.847472e-21 & 0.9195386 & 1.094318e-49 & 0.9370961 & 7.082780e-32\\\\\n",
       "\tCD3E & 0.9315350 & 1.091502e-10 & 0.9554457 & 4.221811e-102 & 0.9320409 & 1.951958e-72 & 0.9159365 & 3.793538e-62 & 0.9788384 & 4.265199e-27 & 0.9167000 & 7.778931e-49 & 0.9485577 & 1.113903e-34\\\\\n",
       "\tCST7 & 0.9362638 & 5.258006e-11 & 0.8638211 &  3.568747e-58 & 0.6857139 & 7.741219e-24 & 0.8837197 & 5.532138e-52 & 0.9187309 & 1.656006e-16 & 0.8010137 & 4.629228e-28 & 0.8653899 & 1.762623e-21\\\\\n",
       "\tSIRPG & 0.9390234 & 3.344451e-11 & 0.9426737 &  5.089837e-92 & 0.7768401 & 5.865335e-34 & 0.8960652 & 1.769949e-55 & 0.9711176 & 1.261419e-24 & 0.9003921 & 1.823414e-44 & 0.9032615 & 6.046573e-26\\\\\n",
       "\tCD96 & 0.9628638 & 2.036296e-13 & 0.9381976 &  5.008096e-89 & 0.9533277 & 4.040792e-85 & 0.8348538 & 3.014372e-41 & 0.9477183 & 6.062874e-20 & 0.6442397 & 2.047865e-15 & 0.9047549 & 3.707507e-26\\\\\n",
       "\tCD2 & 0.9893250 & 4.722466e-19 & 0.9675961 & 6.392070e-115 & 0.9524979 & 1.600814e-84 & 0.9418565 & 6.958780e-74 & 0.9797096 & 1.973946e-27 & 0.9050078 & 1.273873e-45 & 0.9468446 & 3.195270e-34\\\\\n",
       "\\end{tabular}\n"
      ],
      "text/markdown": [
       "\n",
       "A data.frame: 58 × 14\n",
       "\n",
       "| <!--/--> | MM_TH13_1 &lt;dbl&gt; | p.MM_TH13_1 &lt;dbl&gt; | MM_TH13_2 &lt;dbl&gt; | p.MM_TH13_2 &lt;dbl&gt; | MM_TH13_3 &lt;dbl&gt; | p.MM_TH13_3 &lt;dbl&gt; | MM_TH13_4 &lt;dbl&gt; | p.MM_TH13_4 &lt;dbl&gt; | MM_TH13_5 &lt;dbl&gt; | p.MM_TH13_5 &lt;dbl&gt; | MM_TH13_6 &lt;dbl&gt; | p.MM_TH13_6 &lt;dbl&gt; | MM_TH13_7 &lt;dbl&gt; | p.MM_TH13_7 &lt;dbl&gt; |\n",
       "|---|---|---|---|---|---|---|---|---|---|---|---|---|---|---|\n",
       "| KIR3DL2 | 0.2928406 | 1.750850e-01 | 0.5961463 |  9.168345e-20 | 0.7546816 | 4.302378e-31 | 0.8010890 | 1.056355e-35 | 0.6445282 | 9.501857e-06 | 0.6271907 | 1.798247e-14 | 0.7617006 | 4.624310e-14 |\n",
       "| CD27 | 0.3887011 | 6.679717e-02 | 0.9394872 |  7.259575e-90 | 0.9300237 | 1.867931e-71 | 0.9159417 | 3.776241e-62 | 0.9682396 | 7.137122e-24 | 0.8010313 | 4.607697e-28 | 0.9416750 | 6.292625e-33 |\n",
       "| ARHGAP9 | 0.4323493 | 3.936216e-02 | 0.8871212 |  2.236080e-65 | 0.6222811 | 9.652831e-19 | 0.5805010 | 2.999639e-15 | 0.8276579 | 8.135175e-11 | 0.7087196 | 1.358396e-19 | 0.6386558 | 4.633545e-09 |\n",
       "| CXCL9 | 0.4896524 | 1.771353e-02 | 0.7644230 |  7.058594e-38 | 0.7621461 | 5.051546e-32 | 0.8032955 | 4.952968e-36 | 0.8721239 | 4.838125e-13 | 0.7033422 | 3.343419e-19 | 0.7953219 | 5.475132e-16 |\n",
       "| C11orf21 | 0.4939824 | 1.658661e-02 | 0.8758176 |  1.059797e-61 | 0.5013089 | 1.085373e-11 | 0.6983034 | 7.795684e-24 | 0.9064579 | 2.009135e-15 | 0.6177890 | 5.634279e-14 | 0.7931679 | 7.453310e-16 |\n",
       "| KIAA0125 | 0.5425543 | 7.476983e-03 | 0.7755066 |  1.323590e-39 | 0.6095551 | 7.430401e-18 | 0.7973482 | 3.733719e-35 | 0.5983046 | 5.749355e-05 | 0.5186062 | 1.299252e-09 | 0.7615974 | 4.682387e-14 |\n",
       "| CCL17 | 0.5595308 | 5.502226e-03 | 0.5551211 |  7.840582e-17 | 0.5002888 | 1.212840e-11 | 0.6963699 | 1.164886e-23 | 0.6915607 | 1.087933e-06 | 0.5995098 | 4.668746e-13 | 0.4961645 | 1.686427e-05 |\n",
       "| CHRM3-AS2 | 0.6214728 | 1.548854e-03 | 0.7553319 |  1.569672e-36 | 0.4480449 | 2.252428e-09 | 0.7236566 | 2.941922e-26 | 0.6408066 | 1.110530e-05 | 0.4084243 | 3.641930e-06 | 0.7899685 | 1.170649e-15 |\n",
       "| PRF1 | 0.6254051 | 1.416362e-03 | 0.9045746 |  6.688545e-72 | 0.8314390 | 1.101908e-42 | 0.7979602 | 3.042385e-35 | 0.8298756 | 6.530872e-11 | 0.6633603 | 1.512815e-16 | 0.8983189 | 2.888580e-25 |\n",
       "| FCER2 | 0.6276649 | 1.344687e-03 | 0.7129233 |  5.983600e-31 | 0.2052905 | 8.775925e-03 | 0.6326207 | 1.358416e-18 | 0.5803222 | 1.076967e-04 | 0.5496884 | 7.918812e-11 | 0.7383748 | 6.686958e-13 |\n",
       "| ZNF683 | 0.6366185 | 1.090288e-03 | 0.6949602 |  7.015132e-29 | 0.8474115 | 7.531841e-46 | 0.8069017 | 1.406619e-36 | 0.6451184 | 9.267973e-06 | 0.6888503 | 3.436410e-18 | 0.8836100 | 1.960671e-23 |\n",
       "| LINC00892 | 0.6418156 | 9.624401e-04 | 0.8163785 |  6.107776e-47 | 0.7337210 | 1.193139e-28 | 0.8555753 | 2.595019e-45 | 0.3285975 | 4.110888e-02 | 0.5432411 | 1.448622e-10 | 0.5955946 | 8.433908e-08 |\n",
       "| CLEC9A | 0.6529127 | 7.317572e-04 | 0.6874521 |  4.638561e-28 | 0.6953051 | 1.007522e-24 | 0.7525957 | 2.240662e-29 | 0.8689333 | 7.421117e-13 | 0.6657653 | 1.075428e-16 | 0.8119506 | 4.441739e-17 |\n",
       "| GZMA | 0.6651291 | 5.343232e-04 | 0.8578216 |  1.558075e-56 | 0.6723993 | 1.156560e-22 | 0.8148887 | 7.857774e-38 | 0.8559858 | 3.780871e-12 | 0.7758853 | 2.323540e-25 | 0.8790720 | 6.429162e-23 |\n",
       "| IFNG | 0.6699395 | 4.702681e-04 | 0.5173394 |  1.818928e-14 | 0.7839730 | 5.955843e-35 | 0.6006673 | 1.799438e-16 | 0.7232648 | 1.980014e-07 | 0.7084641 | 1.418463e-19 | 0.8627861 | 3.176623e-21 |\n",
       "| SLAMF1 | 0.6783416 | 3.741811e-04 | 0.9133878 |  1.080519e-75 | 0.8277155 | 5.401112e-42 | 0.9167320 | 1.899008e-62 | 0.9527235 | 9.831300e-21 | 0.8317843 | 6.014161e-32 | 0.9396499 | 1.879120e-32 |\n",
       "| XCL2 | 0.6939307 | 2.400743e-04 | 0.7869733 |  1.690310e-41 | 0.7721794 | 2.498884e-33 | 0.8165895 | 4.175054e-38 | 0.7843444 | 3.472221e-09 | 0.7519653 | 4.269532e-23 | 0.8796527 | 5.537572e-23 |\n",
       "| IL7R | 0.6946558 | 2.350158e-04 | 0.8643779 |  2.490915e-58 | 0.5430518 | 8.278793e-14 | 0.8339030 | 4.488083e-41 | 0.6145715 | 3.151790e-05 | 0.5779161 | 4.805628e-12 | 0.7303252 | 1.575914e-12 |\n",
       "| PARVG | 0.6984123 | 2.102585e-04 | 0.8145085 |  1.446893e-46 | 0.6797702 | 2.634501e-23 | 0.7879524 | 7.944961e-34 | 0.6505223 | 7.358827e-06 | 0.7023660 | 3.928849e-19 | 0.2606092 | 3.183818e-02 |\n",
       "| FASLG | 0.7101872 | 1.467107e-04 | 0.7953410 |  5.896200e-43 | 0.8889253 | 3.944895e-56 | 0.7943438 | 1.009893e-34 | 0.8438498 | 1.516016e-11 | 0.5476051 | 9.638842e-11 | 0.9204225 | 1.269284e-28 |\n",
       "| UBD | 0.7118385 | 1.392975e-04 | 0.8052355 |  9.059554e-45 | 0.8171591 | 4.007570e-40 | 0.8132414 | 1.440825e-37 | 0.9168168 | 2.505748e-16 | 0.7349619 | 1.227666e-21 | 0.8944867 | 9.198636e-25 |\n",
       "| GZMK | 0.7162336 | 1.211331e-04 | 0.9188961 |  2.833192e-78 | 0.7530171 | 6.864649e-31 | 0.9166356 | 2.065799e-62 | 0.9111217 | 8.121476e-16 | 0.8683540 | 9.690550e-38 | 0.8900674 | 3.314105e-24 |\n",
       "| C16orf54 | 0.7328999 | 6.962196e-05 | 0.9332356 |  5.837437e-86 | 0.4313385 | 1.002402e-08 | 0.9406367 | 3.218637e-73 | 0.8738073 | 3.842779e-13 | 0.5740475 | 7.168214e-12 | 0.8893714 | 4.035220e-24 |\n",
       "| CCR4 | 0.7344343 | 6.602803e-05 | 0.8231409 |  2.482540e-48 | 0.7682013 | 8.381092e-33 | 0.8420545 | 1.359415e-42 | 0.8147541 | 2.753463e-10 | 0.6480981 | 1.228716e-15 | 0.7769668 | 6.786298e-15 |\n",
       "| EOMES | 0.7352821 | 6.411286e-05 | 0.8659540 |  8.922852e-59 | 0.7712729 | 3.299429e-33 | 0.8806594 | 3.533051e-51 | 0.7225820 | 2.059004e-07 | 0.7159075 | 3.945594e-20 | 0.9246163 | 2.275054e-29 |\n",
       "| CD244 | 0.7410718 | 5.228246e-05 | 0.8436871 |  5.970187e-53 | 0.5970998 | 5.021203e-17 | 0.8277736 | 5.505452e-40 | 0.8480458 | 9.508405e-12 | 0.7454374 | 1.599759e-22 | 0.8438362 | 1.654641e-19 |\n",
       "| P2RY10 | 0.7436761 | 4.761665e-05 | 0.8951181 |  3.188156e-68 | 0.9015422 | 4.286234e-60 | 0.9234276 | 4.204229e-65 | 0.9413983 | 4.744250e-19 | 0.7635979 | 3.653173e-24 | 0.9344774 | 2.609430e-31 |\n",
       "| GZMH | 0.7564812 | 2.958127e-05 | 0.6686158 |  4.161234e-26 | 0.8850691 | 5.159406e-55 | 0.6949317 | 1.567244e-23 | 0.8224360 | 1.348200e-10 | 0.6446363 | 1.943784e-15 | 0.8124150 | 4.126202e-17 |\n",
       "| CCL5 | 0.7614011 | 2.444878e-05 | 0.8399011 |  4.739653e-52 | 0.8468149 | 1.003568e-45 | 0.8289094 | 3.485971e-40 | 0.8869838 | 5.608323e-14 | 0.8177064 | 4.447499e-30 | 0.8324638 | 1.390350e-18 |\n",
       "| CXCR6 | 0.7656875 | 2.063276e-05 | 0.7751664 |  1.500419e-39 | 0.9196777 | 7.589939e-67 | 0.8044845 | 3.280039e-36 | 0.8607694 | 2.111590e-12 | 0.8030604 | 2.682970e-28 | 0.9140896 | 1.434019e-27 |\n",
       "| CD247 | 0.7758235 | 1.361547e-05 | 0.9141981 |  4.622459e-76 | 0.9422676 | 6.353015e-78 | 0.6984161 | 7.614596e-24 | 0.9864071 | 1.261968e-30 | 0.7105967 | 9.871665e-20 | 0.6529943 | 1.590233e-09 |\n",
       "| CTSW | 0.7763381 | 1.332362e-05 | 0.8740358 |  3.730538e-61 | 0.7502050 | 1.498922e-30 | 0.8770031 | 3.032138e-50 | 0.8851865 | 7.392160e-14 | 0.7319859 | 2.152327e-21 | 0.8485131 | 6.560452e-20 |\n",
       "| CRTAM | 0.7801908 | 1.130818e-05 | 0.8665382 |  6.078879e-59 | 0.5309681 | 3.639443e-13 | 0.7798586 | 9.797486e-33 | 0.9074477 | 1.664437e-15 | 0.7969193 | 1.352852e-27 | 0.3851479 | 1.181859e-03 |\n",
       "| LINC00861 | 0.7907243 | 7.100226e-06 | 0.8666195 |  5.761849e-59 | 0.7993657 | 3.139988e-37 | 0.7379532 | 9.541891e-28 | 0.7438015 | 5.770572e-08 | 0.8063202 | 1.110490e-28 | 0.7325860 | 1.242552e-12 |\n",
       "| CCL22 | 0.7972691 | 5.246695e-06 | 0.6690065 |  3.803305e-26 | 0.5036438 | 8.405987e-12 | 0.7716177 | 1.136235e-31 | 0.7793260 | 5.074242e-09 | 0.6726665 | 3.968184e-17 | 0.7251734 | 2.684835e-12 |\n",
       "| ITK | 0.8184064 | 1.824354e-06 | 0.6825333 |  1.550559e-27 | 0.2478885 | 1.470395e-03 | 0.9477416 | 2.615492e-77 | 0.9345398 | 3.467117e-18 | 0.9227665 | 1.075374e-50 | 0.8580335 | 9.029341e-21 |\n",
       "| ICOS | 0.8190844 | 1.759682e-06 | 0.8829356 |  5.684276e-64 | 0.9032453 | 1.137998e-60 | 0.9383392 | 5.283400e-72 | 0.8069337 | 5.511690e-10 | 0.7897320 | 8.385923e-27 | 0.9377549 | 5.057139e-32 |\n",
       "| RGL4 | 0.8255927 | 1.234865e-06 | 0.8331010 |  1.715674e-50 | 0.8031442 | 8.076839e-38 | 0.7511874 | 3.250748e-29 | 0.7601380 | 1.986591e-08 | 0.7169920 | 3.263312e-20 | 0.5294919 | 3.438145e-06 |\n",
       "| CD8A | 0.8297334 | 9.782806e-07 | 0.7223509 |  4.228873e-32 | 0.9485727 | 7.845899e-82 | 0.9119353 | 1.113430e-60 | 0.9490510 | 3.803083e-20 | 0.6306819 | 1.165121e-14 | 0.8974433 | 3.778951e-25 |\n",
       "| FCRL6 | 0.8409804 | 5.030422e-07 | 0.6922620 |  1.392313e-28 | 0.8848315 | 6.027160e-55 | 0.7939604 | 1.145249e-34 | 0.6618176 | 4.476479e-06 | 0.7341486 | 1.432333e-21 | 0.3908235 | 9.836112e-04 |\n",
       "| NKG7 | 0.8557974 | 1.929352e-07 | 0.7911819 |  3.186459e-42 | 0.8358351 | 1.603444e-43 | 0.8209957 | 7.865166e-39 | 0.8506126 | 7.098365e-12 | 0.6947326 | 1.356987e-18 | 0.8403730 | 3.219818e-19 |\n",
       "| CCR7 | 0.8622848 | 1.226029e-07 | 0.8405792 |  3.283445e-52 | 0.8462302 | 1.328032e-45 | 0.7511389 | 3.292557e-29 | 0.8462885 | 1.157940e-11 | 0.7619646 | 5.202945e-24 | 0.6494738 | 2.078609e-09 |\n",
       "| CD5 | 0.8692029 | 7.366939e-08 | 0.8982391 |  2.136771e-69 | 0.9434923 | 1.200457e-78 | 0.8333226 | 5.715379e-41 | 0.9316907 | 7.441853e-18 | 0.7177139 | 2.874498e-20 | 0.9524284 | 8.963588e-36 |\n",
       "| SLA2 | 0.8730951 | 5.461177e-08 | 0.9395957 |  6.159438e-90 | 0.9222394 | 6.298479e-68 | 0.9701284 | 2.111029e-95 | 0.9822511 | 1.695816e-28 | 0.6393144 | 3.889988e-15 | 0.9637571 | 1.356199e-39 |\n",
       "| GPR171 | 0.8760531 | 4.321351e-08 | 0.8539021 |  1.674726e-55 | 0.6203021 | 1.333978e-18 | 0.8725040 | 3.895202e-49 | 0.9218611 | 8.226133e-17 | 0.7992727 | 7.325896e-28 | 0.9051104 | 3.296149e-26 |\n",
       "| CD3G | 0.8916712 | 1.128237e-08 | 0.9016288 |  1.025669e-70 | 0.9165891 | 1.369867e-65 | 0.9442775 | 3.011730e-75 | 0.9381844 | 1.239476e-18 | 0.8091628 | 5.075192e-29 | 0.9665041 | 1.050789e-40 |\n",
       "| UBASH3A | 0.8919558 | 1.098915e-08 | 0.9506295 |  5.483584e-98 | 0.9447088 | 2.210039e-79 | 0.9246362 | 1.314353e-65 | 0.9627704 | 1.288365e-22 | 0.8329111 | 4.189402e-32 | 0.9551240 | 1.364763e-36 |\n",
       "| SH2D1A | 0.8929103 | 1.005501e-08 | 0.9483888 |  3.269756e-96 | 0.9555122 | 9.523490e-87 | 0.8638909 | 3.983626e-47 | 0.9518009 | 1.394705e-20 | 0.8992926 | 3.371763e-44 | 0.7308774 | 1.487366e-12 |\n",
       "| CD3D | 0.9003417 | 4.887249e-09 | 0.9322707 |  2.162980e-85 | 0.9185723 | 2.165864e-66 | 0.9285070 | 2.772804e-67 | 0.9755304 | 6.093034e-26 | 0.8473790 | 3.130683e-34 | 0.9391742 | 2.416480e-32 |\n",
       "| TRAT1 | 0.9049260 | 3.043206e-09 | 0.9126624 |  2.294566e-75 | 0.8805662 | 9.267124e-54 | 0.9451258 | 9.694007e-76 | 0.9172967 | 2.260708e-16 | 0.8825063 | 1.814084e-40 | 0.4323198 | 2.317673e-04 |\n",
       "| SAMD3 | 0.9103179 | 1.689119e-09 | 0.9239469 |  8.296848e-81 | 0.8104685 | 5.331758e-39 | 0.7730838 | 7.402817e-32 | 0.9232232 | 6.011589e-17 | 0.6622355 | 1.772701e-16 | 0.6831804 | 1.374278e-10 |\n",
       "| THEMIS | 0.9126344 | 1.296754e-09 | 0.8940632 |  7.796479e-68 | 0.9040602 | 5.980970e-61 | 0.8837375 | 5.472201e-52 | 0.9452630 | 1.387822e-19 | 0.8812981 | 3.198269e-40 | 0.9383812 | 3.658533e-32 |\n",
       "| CXCR3 | 0.9211693 | 4.578787e-10 | 0.9329997 |  8.054627e-86 | 0.8617943 | 5.005856e-49 | 0.9360168 | 8.030239e-71 | 0.9536587 | 6.847472e-21 | 0.9195386 | 1.094318e-49 | 0.9370961 | 7.082780e-32 |\n",
       "| CD3E | 0.9315350 | 1.091502e-10 | 0.9554457 | 4.221811e-102 | 0.9320409 | 1.951958e-72 | 0.9159365 | 3.793538e-62 | 0.9788384 | 4.265199e-27 | 0.9167000 | 7.778931e-49 | 0.9485577 | 1.113903e-34 |\n",
       "| CST7 | 0.9362638 | 5.258006e-11 | 0.8638211 |  3.568747e-58 | 0.6857139 | 7.741219e-24 | 0.8837197 | 5.532138e-52 | 0.9187309 | 1.656006e-16 | 0.8010137 | 4.629228e-28 | 0.8653899 | 1.762623e-21 |\n",
       "| SIRPG | 0.9390234 | 3.344451e-11 | 0.9426737 |  5.089837e-92 | 0.7768401 | 5.865335e-34 | 0.8960652 | 1.769949e-55 | 0.9711176 | 1.261419e-24 | 0.9003921 | 1.823414e-44 | 0.9032615 | 6.046573e-26 |\n",
       "| CD96 | 0.9628638 | 2.036296e-13 | 0.9381976 |  5.008096e-89 | 0.9533277 | 4.040792e-85 | 0.8348538 | 3.014372e-41 | 0.9477183 | 6.062874e-20 | 0.6442397 | 2.047865e-15 | 0.9047549 | 3.707507e-26 |\n",
       "| CD2 | 0.9893250 | 4.722466e-19 | 0.9675961 | 6.392070e-115 | 0.9524979 | 1.600814e-84 | 0.9418565 | 6.958780e-74 | 0.9797096 | 1.973946e-27 | 0.9050078 | 1.273873e-45 | 0.9468446 | 3.195270e-34 |\n",
       "\n"
      ],
      "text/plain": [
       "          MM_TH13_1 p.MM_TH13_1  MM_TH13_2 p.MM_TH13_2   MM_TH13_3 p.MM_TH13_3 \n",
       "KIR3DL2   0.2928406 1.750850e-01 0.5961463  9.168345e-20 0.7546816 4.302378e-31\n",
       "CD27      0.3887011 6.679717e-02 0.9394872  7.259575e-90 0.9300237 1.867931e-71\n",
       "ARHGAP9   0.4323493 3.936216e-02 0.8871212  2.236080e-65 0.6222811 9.652831e-19\n",
       "CXCL9     0.4896524 1.771353e-02 0.7644230  7.058594e-38 0.7621461 5.051546e-32\n",
       "C11orf21  0.4939824 1.658661e-02 0.8758176  1.059797e-61 0.5013089 1.085373e-11\n",
       "KIAA0125  0.5425543 7.476983e-03 0.7755066  1.323590e-39 0.6095551 7.430401e-18\n",
       "CCL17     0.5595308 5.502226e-03 0.5551211  7.840582e-17 0.5002888 1.212840e-11\n",
       "CHRM3-AS2 0.6214728 1.548854e-03 0.7553319  1.569672e-36 0.4480449 2.252428e-09\n",
       "PRF1      0.6254051 1.416362e-03 0.9045746  6.688545e-72 0.8314390 1.101908e-42\n",
       "FCER2     0.6276649 1.344687e-03 0.7129233  5.983600e-31 0.2052905 8.775925e-03\n",
       "ZNF683    0.6366185 1.090288e-03 0.6949602  7.015132e-29 0.8474115 7.531841e-46\n",
       "LINC00892 0.6418156 9.624401e-04 0.8163785  6.107776e-47 0.7337210 1.193139e-28\n",
       "CLEC9A    0.6529127 7.317572e-04 0.6874521  4.638561e-28 0.6953051 1.007522e-24\n",
       "GZMA      0.6651291 5.343232e-04 0.8578216  1.558075e-56 0.6723993 1.156560e-22\n",
       "IFNG      0.6699395 4.702681e-04 0.5173394  1.818928e-14 0.7839730 5.955843e-35\n",
       "SLAMF1    0.6783416 3.741811e-04 0.9133878  1.080519e-75 0.8277155 5.401112e-42\n",
       "XCL2      0.6939307 2.400743e-04 0.7869733  1.690310e-41 0.7721794 2.498884e-33\n",
       "IL7R      0.6946558 2.350158e-04 0.8643779  2.490915e-58 0.5430518 8.278793e-14\n",
       "PARVG     0.6984123 2.102585e-04 0.8145085  1.446893e-46 0.6797702 2.634501e-23\n",
       "FASLG     0.7101872 1.467107e-04 0.7953410  5.896200e-43 0.8889253 3.944895e-56\n",
       "UBD       0.7118385 1.392975e-04 0.8052355  9.059554e-45 0.8171591 4.007570e-40\n",
       "GZMK      0.7162336 1.211331e-04 0.9188961  2.833192e-78 0.7530171 6.864649e-31\n",
       "C16orf54  0.7328999 6.962196e-05 0.9332356  5.837437e-86 0.4313385 1.002402e-08\n",
       "CCR4      0.7344343 6.602803e-05 0.8231409  2.482540e-48 0.7682013 8.381092e-33\n",
       "EOMES     0.7352821 6.411286e-05 0.8659540  8.922852e-59 0.7712729 3.299429e-33\n",
       "CD244     0.7410718 5.228246e-05 0.8436871  5.970187e-53 0.5970998 5.021203e-17\n",
       "P2RY10    0.7436761 4.761665e-05 0.8951181  3.188156e-68 0.9015422 4.286234e-60\n",
       "GZMH      0.7564812 2.958127e-05 0.6686158  4.161234e-26 0.8850691 5.159406e-55\n",
       "CCL5      0.7614011 2.444878e-05 0.8399011  4.739653e-52 0.8468149 1.003568e-45\n",
       "CXCR6     0.7656875 2.063276e-05 0.7751664  1.500419e-39 0.9196777 7.589939e-67\n",
       "CD247     0.7758235 1.361547e-05 0.9141981  4.622459e-76 0.9422676 6.353015e-78\n",
       "CTSW      0.7763381 1.332362e-05 0.8740358  3.730538e-61 0.7502050 1.498922e-30\n",
       "CRTAM     0.7801908 1.130818e-05 0.8665382  6.078879e-59 0.5309681 3.639443e-13\n",
       "LINC00861 0.7907243 7.100226e-06 0.8666195  5.761849e-59 0.7993657 3.139988e-37\n",
       "CCL22     0.7972691 5.246695e-06 0.6690065  3.803305e-26 0.5036438 8.405987e-12\n",
       "ITK       0.8184064 1.824354e-06 0.6825333  1.550559e-27 0.2478885 1.470395e-03\n",
       "ICOS      0.8190844 1.759682e-06 0.8829356  5.684276e-64 0.9032453 1.137998e-60\n",
       "RGL4      0.8255927 1.234865e-06 0.8331010  1.715674e-50 0.8031442 8.076839e-38\n",
       "CD8A      0.8297334 9.782806e-07 0.7223509  4.228873e-32 0.9485727 7.845899e-82\n",
       "FCRL6     0.8409804 5.030422e-07 0.6922620  1.392313e-28 0.8848315 6.027160e-55\n",
       "NKG7      0.8557974 1.929352e-07 0.7911819  3.186459e-42 0.8358351 1.603444e-43\n",
       "CCR7      0.8622848 1.226029e-07 0.8405792  3.283445e-52 0.8462302 1.328032e-45\n",
       "CD5       0.8692029 7.366939e-08 0.8982391  2.136771e-69 0.9434923 1.200457e-78\n",
       "SLA2      0.8730951 5.461177e-08 0.9395957  6.159438e-90 0.9222394 6.298479e-68\n",
       "GPR171    0.8760531 4.321351e-08 0.8539021  1.674726e-55 0.6203021 1.333978e-18\n",
       "CD3G      0.8916712 1.128237e-08 0.9016288  1.025669e-70 0.9165891 1.369867e-65\n",
       "UBASH3A   0.8919558 1.098915e-08 0.9506295  5.483584e-98 0.9447088 2.210039e-79\n",
       "SH2D1A    0.8929103 1.005501e-08 0.9483888  3.269756e-96 0.9555122 9.523490e-87\n",
       "CD3D      0.9003417 4.887249e-09 0.9322707  2.162980e-85 0.9185723 2.165864e-66\n",
       "TRAT1     0.9049260 3.043206e-09 0.9126624  2.294566e-75 0.8805662 9.267124e-54\n",
       "SAMD3     0.9103179 1.689119e-09 0.9239469  8.296848e-81 0.8104685 5.331758e-39\n",
       "THEMIS    0.9126344 1.296754e-09 0.8940632  7.796479e-68 0.9040602 5.980970e-61\n",
       "CXCR3     0.9211693 4.578787e-10 0.9329997  8.054627e-86 0.8617943 5.005856e-49\n",
       "CD3E      0.9315350 1.091502e-10 0.9554457 4.221811e-102 0.9320409 1.951958e-72\n",
       "CST7      0.9362638 5.258006e-11 0.8638211  3.568747e-58 0.6857139 7.741219e-24\n",
       "SIRPG     0.9390234 3.344451e-11 0.9426737  5.089837e-92 0.7768401 5.865335e-34\n",
       "CD96      0.9628638 2.036296e-13 0.9381976  5.008096e-89 0.9533277 4.040792e-85\n",
       "CD2       0.9893250 4.722466e-19 0.9675961 6.392070e-115 0.9524979 1.600814e-84\n",
       "          MM_TH13_4 p.MM_TH13_4  MM_TH13_5 p.MM_TH13_5  MM_TH13_6 p.MM_TH13_6 \n",
       "KIR3DL2   0.8010890 1.056355e-35 0.6445282 9.501857e-06 0.6271907 1.798247e-14\n",
       "CD27      0.9159417 3.776241e-62 0.9682396 7.137122e-24 0.8010313 4.607697e-28\n",
       "ARHGAP9   0.5805010 2.999639e-15 0.8276579 8.135175e-11 0.7087196 1.358396e-19\n",
       "CXCL9     0.8032955 4.952968e-36 0.8721239 4.838125e-13 0.7033422 3.343419e-19\n",
       "C11orf21  0.6983034 7.795684e-24 0.9064579 2.009135e-15 0.6177890 5.634279e-14\n",
       "KIAA0125  0.7973482 3.733719e-35 0.5983046 5.749355e-05 0.5186062 1.299252e-09\n",
       "CCL17     0.6963699 1.164886e-23 0.6915607 1.087933e-06 0.5995098 4.668746e-13\n",
       "CHRM3-AS2 0.7236566 2.941922e-26 0.6408066 1.110530e-05 0.4084243 3.641930e-06\n",
       "PRF1      0.7979602 3.042385e-35 0.8298756 6.530872e-11 0.6633603 1.512815e-16\n",
       "FCER2     0.6326207 1.358416e-18 0.5803222 1.076967e-04 0.5496884 7.918812e-11\n",
       "ZNF683    0.8069017 1.406619e-36 0.6451184 9.267973e-06 0.6888503 3.436410e-18\n",
       "LINC00892 0.8555753 2.595019e-45 0.3285975 4.110888e-02 0.5432411 1.448622e-10\n",
       "CLEC9A    0.7525957 2.240662e-29 0.8689333 7.421117e-13 0.6657653 1.075428e-16\n",
       "GZMA      0.8148887 7.857774e-38 0.8559858 3.780871e-12 0.7758853 2.323540e-25\n",
       "IFNG      0.6006673 1.799438e-16 0.7232648 1.980014e-07 0.7084641 1.418463e-19\n",
       "SLAMF1    0.9167320 1.899008e-62 0.9527235 9.831300e-21 0.8317843 6.014161e-32\n",
       "XCL2      0.8165895 4.175054e-38 0.7843444 3.472221e-09 0.7519653 4.269532e-23\n",
       "IL7R      0.8339030 4.488083e-41 0.6145715 3.151790e-05 0.5779161 4.805628e-12\n",
       "PARVG     0.7879524 7.944961e-34 0.6505223 7.358827e-06 0.7023660 3.928849e-19\n",
       "FASLG     0.7943438 1.009893e-34 0.8438498 1.516016e-11 0.5476051 9.638842e-11\n",
       "UBD       0.8132414 1.440825e-37 0.9168168 2.505748e-16 0.7349619 1.227666e-21\n",
       "GZMK      0.9166356 2.065799e-62 0.9111217 8.121476e-16 0.8683540 9.690550e-38\n",
       "C16orf54  0.9406367 3.218637e-73 0.8738073 3.842779e-13 0.5740475 7.168214e-12\n",
       "CCR4      0.8420545 1.359415e-42 0.8147541 2.753463e-10 0.6480981 1.228716e-15\n",
       "EOMES     0.8806594 3.533051e-51 0.7225820 2.059004e-07 0.7159075 3.945594e-20\n",
       "CD244     0.8277736 5.505452e-40 0.8480458 9.508405e-12 0.7454374 1.599759e-22\n",
       "P2RY10    0.9234276 4.204229e-65 0.9413983 4.744250e-19 0.7635979 3.653173e-24\n",
       "GZMH      0.6949317 1.567244e-23 0.8224360 1.348200e-10 0.6446363 1.943784e-15\n",
       "CCL5      0.8289094 3.485971e-40 0.8869838 5.608323e-14 0.8177064 4.447499e-30\n",
       "CXCR6     0.8044845 3.280039e-36 0.8607694 2.111590e-12 0.8030604 2.682970e-28\n",
       "CD247     0.6984161 7.614596e-24 0.9864071 1.261968e-30 0.7105967 9.871665e-20\n",
       "CTSW      0.8770031 3.032138e-50 0.8851865 7.392160e-14 0.7319859 2.152327e-21\n",
       "CRTAM     0.7798586 9.797486e-33 0.9074477 1.664437e-15 0.7969193 1.352852e-27\n",
       "LINC00861 0.7379532 9.541891e-28 0.7438015 5.770572e-08 0.8063202 1.110490e-28\n",
       "CCL22     0.7716177 1.136235e-31 0.7793260 5.074242e-09 0.6726665 3.968184e-17\n",
       "ITK       0.9477416 2.615492e-77 0.9345398 3.467117e-18 0.9227665 1.075374e-50\n",
       "ICOS      0.9383392 5.283400e-72 0.8069337 5.511690e-10 0.7897320 8.385923e-27\n",
       "RGL4      0.7511874 3.250748e-29 0.7601380 1.986591e-08 0.7169920 3.263312e-20\n",
       "CD8A      0.9119353 1.113430e-60 0.9490510 3.803083e-20 0.6306819 1.165121e-14\n",
       "FCRL6     0.7939604 1.145249e-34 0.6618176 4.476479e-06 0.7341486 1.432333e-21\n",
       "NKG7      0.8209957 7.865166e-39 0.8506126 7.098365e-12 0.6947326 1.356987e-18\n",
       "CCR7      0.7511389 3.292557e-29 0.8462885 1.157940e-11 0.7619646 5.202945e-24\n",
       "CD5       0.8333226 5.715379e-41 0.9316907 7.441853e-18 0.7177139 2.874498e-20\n",
       "SLA2      0.9701284 2.111029e-95 0.9822511 1.695816e-28 0.6393144 3.889988e-15\n",
       "GPR171    0.8725040 3.895202e-49 0.9218611 8.226133e-17 0.7992727 7.325896e-28\n",
       "CD3G      0.9442775 3.011730e-75 0.9381844 1.239476e-18 0.8091628 5.075192e-29\n",
       "UBASH3A   0.9246362 1.314353e-65 0.9627704 1.288365e-22 0.8329111 4.189402e-32\n",
       "SH2D1A    0.8638909 3.983626e-47 0.9518009 1.394705e-20 0.8992926 3.371763e-44\n",
       "CD3D      0.9285070 2.772804e-67 0.9755304 6.093034e-26 0.8473790 3.130683e-34\n",
       "TRAT1     0.9451258 9.694007e-76 0.9172967 2.260708e-16 0.8825063 1.814084e-40\n",
       "SAMD3     0.7730838 7.402817e-32 0.9232232 6.011589e-17 0.6622355 1.772701e-16\n",
       "THEMIS    0.8837375 5.472201e-52 0.9452630 1.387822e-19 0.8812981 3.198269e-40\n",
       "CXCR3     0.9360168 8.030239e-71 0.9536587 6.847472e-21 0.9195386 1.094318e-49\n",
       "CD3E      0.9159365 3.793538e-62 0.9788384 4.265199e-27 0.9167000 7.778931e-49\n",
       "CST7      0.8837197 5.532138e-52 0.9187309 1.656006e-16 0.8010137 4.629228e-28\n",
       "SIRPG     0.8960652 1.769949e-55 0.9711176 1.261419e-24 0.9003921 1.823414e-44\n",
       "CD96      0.8348538 3.014372e-41 0.9477183 6.062874e-20 0.6442397 2.047865e-15\n",
       "CD2       0.9418565 6.958780e-74 0.9797096 1.973946e-27 0.9050078 1.273873e-45\n",
       "          MM_TH13_7 p.MM_TH13_7 \n",
       "KIR3DL2   0.7617006 4.624310e-14\n",
       "CD27      0.9416750 6.292625e-33\n",
       "ARHGAP9   0.6386558 4.633545e-09\n",
       "CXCL9     0.7953219 5.475132e-16\n",
       "C11orf21  0.7931679 7.453310e-16\n",
       "KIAA0125  0.7615974 4.682387e-14\n",
       "CCL17     0.4961645 1.686427e-05\n",
       "CHRM3-AS2 0.7899685 1.170649e-15\n",
       "PRF1      0.8983189 2.888580e-25\n",
       "FCER2     0.7383748 6.686958e-13\n",
       "ZNF683    0.8836100 1.960671e-23\n",
       "LINC00892 0.5955946 8.433908e-08\n",
       "CLEC9A    0.8119506 4.441739e-17\n",
       "GZMA      0.8790720 6.429162e-23\n",
       "IFNG      0.8627861 3.176623e-21\n",
       "SLAMF1    0.9396499 1.879120e-32\n",
       "XCL2      0.8796527 5.537572e-23\n",
       "IL7R      0.7303252 1.575914e-12\n",
       "PARVG     0.2606092 3.183818e-02\n",
       "FASLG     0.9204225 1.269284e-28\n",
       "UBD       0.8944867 9.198636e-25\n",
       "GZMK      0.8900674 3.314105e-24\n",
       "C16orf54  0.8893714 4.035220e-24\n",
       "CCR4      0.7769668 6.786298e-15\n",
       "EOMES     0.9246163 2.275054e-29\n",
       "CD244     0.8438362 1.654641e-19\n",
       "P2RY10    0.9344774 2.609430e-31\n",
       "GZMH      0.8124150 4.126202e-17\n",
       "CCL5      0.8324638 1.390350e-18\n",
       "CXCR6     0.9140896 1.434019e-27\n",
       "CD247     0.6529943 1.590233e-09\n",
       "CTSW      0.8485131 6.560452e-20\n",
       "CRTAM     0.3851479 1.181859e-03\n",
       "LINC00861 0.7325860 1.242552e-12\n",
       "CCL22     0.7251734 2.684835e-12\n",
       "ITK       0.8580335 9.029341e-21\n",
       "ICOS      0.9377549 5.057139e-32\n",
       "RGL4      0.5294919 3.438145e-06\n",
       "CD8A      0.8974433 3.778951e-25\n",
       "FCRL6     0.3908235 9.836112e-04\n",
       "NKG7      0.8403730 3.219818e-19\n",
       "CCR7      0.6494738 2.078609e-09\n",
       "CD5       0.9524284 8.963588e-36\n",
       "SLA2      0.9637571 1.356199e-39\n",
       "GPR171    0.9051104 3.296149e-26\n",
       "CD3G      0.9665041 1.050789e-40\n",
       "UBASH3A   0.9551240 1.364763e-36\n",
       "SH2D1A    0.7308774 1.487366e-12\n",
       "CD3D      0.9391742 2.416480e-32\n",
       "TRAT1     0.4323198 2.317673e-04\n",
       "SAMD3     0.6831804 1.374278e-10\n",
       "THEMIS    0.9383812 3.658533e-32\n",
       "CXCR3     0.9370961 7.082780e-32\n",
       "CD3E      0.9485577 1.113903e-34\n",
       "CST7      0.8653899 1.762623e-21\n",
       "SIRPG     0.9032615 6.046573e-26\n",
       "CD96      0.9047549 3.707507e-26\n",
       "CD2       0.9468446 3.195270e-34"
      ]
     },
     "metadata": {},
     "output_type": "display_data"
    }
   ],
   "source": [
    "TH_13[ order(TH_13$MM_TH13_1, TH_13$MM_TH13_2, TH_13$MM_TH13_3, TH_13$MM_TH13_4,\n",
    "            TH_13$MM_TH13_5, TH_13$MM_TH13_6,TH_13$MM_TH13_7),grepl(\"MM_TH13\", colnames(TH_13))]"
   ]
  },
  {
   "cell_type": "code",
   "execution_count": 96,
   "metadata": {},
   "outputs": [],
   "source": [
    "mm13_1 <- rownames(TH_13)[TH_13$MM_TH13_1 > 0.8]\n",
    "mm13_2 <- rownames(TH_13)[TH_13$MM_TH13_2 > 0.8]\n",
    "mm13_3 <- rownames(TH_13)[TH_13$MM_TH13_3 > 0.8]\n",
    "mm13_4 <- rownames(TH_13)[TH_13$MM_TH13_4 > 0.8]\n",
    "mm13_5 <- rownames(TH_13)[TH_13$MM_TH13_5 > 0.8]\n",
    "mm13_6 <- rownames(TH_13)[TH_13$MM_TH13_6 > 0.8]\n",
    "mm13_7 <- rownames(TH_13)[TH_13$MM_TH13_7 > 0.8]"
   ]
  },
  {
   "cell_type": "code",
   "execution_count": 97,
   "metadata": {},
   "outputs": [
    {
     "data": {
      "text/html": [
       "<style>\n",
       ".list-inline {list-style: none; margin:0; padding: 0}\n",
       ".list-inline>li {display: inline-block}\n",
       ".list-inline>li:not(:last-child)::after {content: \"\\00b7\"; padding: 0 .5ex}\n",
       "</style>\n",
       "<ol class=list-inline><li>'CD2'</li><li>'CD3D'</li><li>'CD3E'</li><li>'CD3G'</li><li>'CXCR3'</li><li>'THEMIS'</li><li>'UBASH3A'</li></ol>\n"
      ],
      "text/latex": [
       "\\begin{enumerate*}\n",
       "\\item 'CD2'\n",
       "\\item 'CD3D'\n",
       "\\item 'CD3E'\n",
       "\\item 'CD3G'\n",
       "\\item 'CXCR3'\n",
       "\\item 'THEMIS'\n",
       "\\item 'UBASH3A'\n",
       "\\end{enumerate*}\n"
      ],
      "text/markdown": [
       "1. 'CD2'\n",
       "2. 'CD3D'\n",
       "3. 'CD3E'\n",
       "4. 'CD3G'\n",
       "5. 'CXCR3'\n",
       "6. 'THEMIS'\n",
       "7. 'UBASH3A'\n",
       "\n",
       "\n"
      ],
      "text/plain": [
       "[1] \"CD2\"     \"CD3D\"    \"CD3E\"    \"CD3G\"    \"CXCR3\"   \"THEMIS\"  \"UBASH3A\""
      ]
     },
     "metadata": {},
     "output_type": "display_data"
    }
   ],
   "source": [
    "Reduce(intersect, list(mm13_1, mm13_2, mm13_3 ,mm13_4,mm13_5,mm13_6,mm13_7))"
   ]
  },
  {
   "cell_type": "code",
   "execution_count": 98,
   "metadata": {},
   "outputs": [],
   "source": [
    "# Muscle dev\n",
    "TH_26 <- geneInfo[ geneInfo$moduleLabel == \"26\",]"
   ]
  },
  {
   "cell_type": "code",
   "execution_count": 99,
   "metadata": {},
   "outputs": [
    {
     "data": {
      "text/html": [
       "<style>\n",
       ".list-inline {list-style: none; margin:0; padding: 0}\n",
       ".list-inline>li {display: inline-block}\n",
       ".list-inline>li:not(:last-child)::after {content: \"\\00b7\"; padding: 0 .5ex}\n",
       "</style>\n",
       "<ol class=list-inline><li>'ACTC1'</li><li>'ASB5'</li><li>'CAV3'</li><li>'CHRNA1'</li><li>'CHRND'</li><li>'CKM'</li><li>'CSRP3'</li><li>'DES'</li><li>'DUSP13'</li><li>'DUSP27'</li><li>'HSPB3'</li><li>'KLHL30'</li><li>'KLHL40'</li><li>'KLHL41'</li><li>'MYF6'</li><li>'MYL1'</li><li>'MYL2'</li><li>'MYOG'</li><li>'MYOM3'</li><li>'MYOZ2'</li><li>'MYPN'</li><li>'NRAP'</li><li>'RAPSN'</li><li>'RPL3L'</li><li>'SGCA'</li><li>'SLN'</li><li>'SMYD1'</li><li>'TRDN'</li></ol>\n"
      ],
      "text/latex": [
       "\\begin{enumerate*}\n",
       "\\item 'ACTC1'\n",
       "\\item 'ASB5'\n",
       "\\item 'CAV3'\n",
       "\\item 'CHRNA1'\n",
       "\\item 'CHRND'\n",
       "\\item 'CKM'\n",
       "\\item 'CSRP3'\n",
       "\\item 'DES'\n",
       "\\item 'DUSP13'\n",
       "\\item 'DUSP27'\n",
       "\\item 'HSPB3'\n",
       "\\item 'KLHL30'\n",
       "\\item 'KLHL40'\n",
       "\\item 'KLHL41'\n",
       "\\item 'MYF6'\n",
       "\\item 'MYL1'\n",
       "\\item 'MYL2'\n",
       "\\item 'MYOG'\n",
       "\\item 'MYOM3'\n",
       "\\item 'MYOZ2'\n",
       "\\item 'MYPN'\n",
       "\\item 'NRAP'\n",
       "\\item 'RAPSN'\n",
       "\\item 'RPL3L'\n",
       "\\item 'SGCA'\n",
       "\\item 'SLN'\n",
       "\\item 'SMYD1'\n",
       "\\item 'TRDN'\n",
       "\\end{enumerate*}\n"
      ],
      "text/markdown": [
       "1. 'ACTC1'\n",
       "2. 'ASB5'\n",
       "3. 'CAV3'\n",
       "4. 'CHRNA1'\n",
       "5. 'CHRND'\n",
       "6. 'CKM'\n",
       "7. 'CSRP3'\n",
       "8. 'DES'\n",
       "9. 'DUSP13'\n",
       "10. 'DUSP27'\n",
       "11. 'HSPB3'\n",
       "12. 'KLHL30'\n",
       "13. 'KLHL40'\n",
       "14. 'KLHL41'\n",
       "15. 'MYF6'\n",
       "16. 'MYL1'\n",
       "17. 'MYL2'\n",
       "18. 'MYOG'\n",
       "19. 'MYOM3'\n",
       "20. 'MYOZ2'\n",
       "21. 'MYPN'\n",
       "22. 'NRAP'\n",
       "23. 'RAPSN'\n",
       "24. 'RPL3L'\n",
       "25. 'SGCA'\n",
       "26. 'SLN'\n",
       "27. 'SMYD1'\n",
       "28. 'TRDN'\n",
       "\n",
       "\n"
      ],
      "text/plain": [
       " [1] \"ACTC1\"  \"ASB5\"   \"CAV3\"   \"CHRNA1\" \"CHRND\"  \"CKM\"    \"CSRP3\"  \"DES\"   \n",
       " [9] \"DUSP13\" \"DUSP27\" \"HSPB3\"  \"KLHL30\" \"KLHL40\" \"KLHL41\" \"MYF6\"   \"MYL1\"  \n",
       "[17] \"MYL2\"   \"MYOG\"   \"MYOM3\"  \"MYOZ2\"  \"MYPN\"   \"NRAP\"   \"RAPSN\"  \"RPL3L\" \n",
       "[25] \"SGCA\"   \"SLN\"    \"SMYD1\"  \"TRDN\"  "
      ]
     },
     "metadata": {},
     "output_type": "display_data"
    }
   ],
   "source": [
    "rownames(TH_26)"
   ]
  },
  {
   "cell_type": "code",
   "execution_count": 100,
   "metadata": {
    "scrolled": true
   },
   "outputs": [
    {
     "data": {
      "text/html": [
       "<table class=\"dataframe\">\n",
       "<caption>A data.frame: 28 × 14</caption>\n",
       "<thead>\n",
       "\t<tr><th></th><th scope=col>MM_TH26_1</th><th scope=col>p.MM_TH26_1</th><th scope=col>MM_TH26_2</th><th scope=col>p.MM_TH26_2</th><th scope=col>MM_TH26_3</th><th scope=col>p.MM_TH26_3</th><th scope=col>MM_TH26_4</th><th scope=col>p.MM_TH26_4</th><th scope=col>MM_TH26_5</th><th scope=col>p.MM_TH26_5</th><th scope=col>MM_TH26_6</th><th scope=col>p.MM_TH26_6</th><th scope=col>MM_TH26_7</th><th scope=col>p.MM_TH26_7</th></tr>\n",
       "\t<tr><th></th><th scope=col>&lt;dbl&gt;</th><th scope=col>&lt;dbl&gt;</th><th scope=col>&lt;dbl&gt;</th><th scope=col>&lt;dbl&gt;</th><th scope=col>&lt;dbl&gt;</th><th scope=col>&lt;dbl&gt;</th><th scope=col>&lt;dbl&gt;</th><th scope=col>&lt;dbl&gt;</th><th scope=col>&lt;dbl&gt;</th><th scope=col>&lt;dbl&gt;</th><th scope=col>&lt;dbl&gt;</th><th scope=col>&lt;dbl&gt;</th><th scope=col>&lt;dbl&gt;</th><th scope=col>&lt;dbl&gt;</th></tr>\n",
       "</thead>\n",
       "<tbody>\n",
       "\t<tr><th scope=row>SMYD1</th><td>0.3553060</td><td>9.616024e-02</td><td>0.9656664</td><td>1.381447e-112</td><td>0.9476494</td><td> 3.139379e-81</td><td>0.9019896</td><td>2.576124e-57</td><td>0.9655611</td><td>3.120599e-23</td><td>0.9853610</td><td> 1.618267e-92</td><td>0.9870206</td><td>3.750305e-54</td></tr>\n",
       "\t<tr><th scope=row>CHRNA1</th><td>0.4246280</td><td>4.342390e-02</td><td>0.7044767</td><td> 5.878425e-30</td><td>0.6069406</td><td> 1.117405e-17</td><td>0.5064754</td><td>2.063022e-11</td><td>0.8616173</td><td>1.900171e-12</td><td>0.4390088</td><td> 5.281039e-07</td><td>0.9822943</td><td>9.824949e-50</td></tr>\n",
       "\t<tr><th scope=row>DES</th><td>0.4711651</td><td>2.324439e-02</td><td>0.6523056</td><td> 1.579037e-24</td><td>0.6847428</td><td> 9.474916e-24</td><td>0.8621111</td><td>9.963981e-47</td><td>0.7294932</td><td>1.378364e-07</td><td>0.7701118</td><td> 8.661615e-25</td><td>0.9536651</td><td>3.832722e-36</td></tr>\n",
       "\t<tr><th scope=row>SGCA</th><td>0.6916579</td><td>2.565488e-04</td><td>0.6139267</td><td> 3.602907e-21</td><td>0.4423968</td><td> 3.765225e-09</td><td>0.5763122</td><td>5.253503e-15</td><td>0.8283425</td><td>7.604319e-11</td><td>0.9019367</td><td> 7.595124e-45</td><td>0.9367256</td><td>8.546572e-32</td></tr>\n",
       "\t<tr><th scope=row>RPL3L</th><td>0.7137367</td><td>1.311808e-04</td><td>0.7795486</td><td> 2.932150e-40</td><td>0.8315794</td><td> 1.037032e-42</td><td>0.5783867</td><td>3.984309e-15</td><td>0.8464602</td><td>1.135979e-11</td><td>0.2950740</td><td> 1.069008e-03</td><td>0.8478856</td><td>7.440780e-20</td></tr>\n",
       "\t<tr><th scope=row>MYF6</th><td>0.8130097</td><td>2.418976e-06</td><td>0.8517120</td><td> 6.126103e-55</td><td>0.8891504</td><td> 3.385066e-56</td><td>0.4175727</td><td>7.127279e-08</td><td>0.7109878</td><td>3.933222e-07</td><td>0.9295843</td><td> 5.637641e-53</td><td>0.9642346</td><td>8.821207e-40</td></tr>\n",
       "\t<tr><th scope=row>ASB5</th><td>0.8340087</td><td>7.641334e-07</td><td>0.9454481</td><td> 5.346770e-94</td><td>0.6149026</td><td> 3.187478e-18</td><td>0.8722438</td><td>4.501502e-49</td><td>0.9782417</td><td>7.099131e-27</td><td>0.9686761</td><td> 3.101921e-73</td><td>0.9867045</td><td>8.256352e-54</td></tr>\n",
       "\t<tr><th scope=row>CKM</th><td>0.8474452</td><td>3.352589e-07</td><td>0.9756197</td><td>1.962775e-126</td><td>0.8984650</td><td> 4.431419e-59</td><td>0.8995518</td><td>1.516050e-56</td><td>0.7286396</td><td>1.449349e-07</td><td>0.9524294</td><td> 9.835818e-63</td><td>0.9780566</td><td>1.093322e-46</td></tr>\n",
       "\t<tr><th scope=row>DUSP13</th><td>0.8585208</td><td>1.599292e-07</td><td>0.7719226</td><td> 4.907246e-39</td><td>0.9419771</td><td> 9.382757e-78</td><td>0.8007144</td><td>1.200158e-35</td><td>0.9793539</td><td>2.714405e-27</td><td>0.9449612</td><td> 4.309906e-59</td><td>0.9960119</td><td>5.284411e-71</td></tr>\n",
       "\t<tr><th scope=row>MYL2</th><td>0.8651119</td><td>9.989958e-08</td><td>0.9685758</td><td>3.678634e-116</td><td>0.9326578</td><td> 9.648110e-73</td><td>0.6321510</td><td>1.465612e-18</td><td>0.6534935</td><td>6.469731e-06</td><td>0.8000866</td><td> 5.914370e-28</td><td>0.9683040</td><td>1.746921e-41</td></tr>\n",
       "\t<tr><th scope=row>ACTC1</th><td>0.8760531</td><td>4.321379e-08</td><td>0.8326706</td><td> 2.141534e-50</td><td>0.7898361</td><td> 8.507077e-36</td><td>0.8029748</td><td>5.532571e-36</td><td>0.7354777</td><td>9.641206e-08</td><td>0.8737392</td><td> 9.711242e-39</td><td>0.9754873</td><td>4.056580e-45</td></tr>\n",
       "\t<tr><th scope=row>CHRND</th><td>0.9077574</td><td>2.243969e-09</td><td>0.5640928</td><td> 1.939024e-17</td><td>0.9317037</td><td> 2.861213e-72</td><td>0.5984160</td><td>2.487815e-16</td><td>0.8517231</td><td>6.244547e-12</td><td>0.7226724</td><td> 1.189708e-20</td><td>0.9802529</td><td>3.486107e-48</td></tr>\n",
       "\t<tr><th scope=row>KLHL30</th><td>0.9081114</td><td>2.158609e-09</td><td>0.6320365</td><td> 1.072909e-22</td><td>0.4214925</td><td> 2.328422e-08</td><td>0.8661718</td><td>1.207035e-47</td><td>0.6903011</td><td>1.158981e-06</td><td>0.6548834</td><td> 4.914496e-16</td><td>0.9235969</td><td>3.486340e-29</td></tr>\n",
       "\t<tr><th scope=row>SLN</th><td>0.9191526</td><td>5.915743e-10</td><td>0.8027224</td><td> 2.675753e-44</td><td>0.6459180</td><td> 1.683924e-20</td><td>0.8705831</td><td>1.125039e-48</td><td>0.5463435</td><td>3.205225e-04</td><td>0.9384943</td><td> 2.503750e-56</td><td>0.9667279</td><td>8.452302e-41</td></tr>\n",
       "\t<tr><th scope=row>RAPSN</th><td>0.9272349</td><td>2.029763e-10</td><td>0.5649381</td><td> 1.696147e-17</td><td>0.7618098</td><td> 5.572717e-32</td><td>0.5771504</td><td>4.699232e-15</td><td>0.9806074</td><td>8.609930e-28</td><td>0.9702234</td><td> 1.633268e-74</td><td>0.8600799</td><td>5.785635e-21</td></tr>\n",
       "\t<tr><th scope=row>CAV3</th><td>0.9402899</td><td>2.698111e-11</td><td>0.8436474</td><td> 6.102956e-53</td><td>0.6818539</td><td> 1.720559e-23</td><td>0.8886414</td><td>2.507322e-53</td><td>0.9679603</td><td>8.372214e-24</td><td>0.9910333</td><td>5.247171e-105</td><td>0.9692985</td><td>6.197301e-42</td></tr>\n",
       "\t<tr><th scope=row>HSPB3</th><td>0.9714905</td><td>1.317779e-14</td><td>0.8252836</td><td> 8.744098e-49</td><td>0.4731428</td><td> 2.043543e-10</td><td>0.9107845</td><td>2.856588e-60</td><td>0.9337427</td><td>4.307840e-18</td><td>0.9648977</td><td> 2.302350e-70</td><td>0.9830183</td><td>2.505700e-50</td></tr>\n",
       "\t<tr><th scope=row>DUSP27</th><td>0.9756326</td><td>2.581331e-15</td><td>0.9206295</td><td> 3.998080e-79</td><td>0.5380399</td><td> 1.541007e-13</td><td>0.8045517</td><td>3.204204e-36</td><td>0.9695496</td><td>3.310382e-24</td><td>0.9584258</td><td> 4.133678e-66</td><td>0.9541869</td><td>2.659572e-36</td></tr>\n",
       "\t<tr><th scope=row>MYL1</th><td>0.9771520</td><td>1.321737e-15</td><td>0.9776276</td><td>6.401501e-130</td><td>0.8409214</td><td> 1.603660e-44</td><td>0.8488564</td><td>6.290051e-44</td><td>0.6201922</td><td>2.540651e-05</td><td>0.9616350</td><td> 3.966475e-68</td><td>0.9599018</td><td>3.585858e-38</td></tr>\n",
       "\t<tr><th scope=row>KLHL41</th><td>0.9847128</td><td>2.009260e-17</td><td>0.8896641</td><td> 2.940310e-66</td><td>0.9047278</td><td> 3.515860e-61</td><td>0.8847860</td><td>2.864216e-52</td><td>0.9481284</td><td>5.259146e-20</td><td>0.9579626</td><td> 7.841307e-66</td><td>0.9890439</td><td>1.442401e-56</td></tr>\n",
       "\t<tr><th scope=row>TRDN</th><td>0.9872531</td><td>3.014009e-18</td><td>0.7578893</td><td> 6.650787e-37</td><td>0.7769228</td><td> 5.714554e-34</td><td>0.7920409</td><td>2.141219e-34</td><td>0.8616314</td><td>1.896816e-12</td><td>0.5277317</td><td> 5.883817e-10</td><td>0.9094259</td><td>7.609384e-27</td></tr>\n",
       "\t<tr><th scope=row>MYOG</th><td>0.9875511</td><td>2.354182e-18</td><td>0.8807486</td><td> 2.935599e-63</td><td>0.8689212</td><td> 9.754996e-51</td><td>0.6791226</td><td>3.657261e-22</td><td>0.7472292</td><td>4.644609e-08</td><td>0.9191672</td><td> 1.420177e-49</td><td>0.9912149</td><td>1.020595e-59</td></tr>\n",
       "\t<tr><th scope=row>MYPN</th><td>0.9886368</td><td>9.074005e-19</td><td>0.9588244</td><td>2.872465e-105</td><td>0.9378913</td><td> 1.841795e-75</td><td>0.8314795</td><td>1.223964e-40</td><td>0.8877301</td><td>4.993898e-14</td><td>0.9662643</td><td> 2.300925e-71</td><td>0.2793055</td><td>2.107585e-02</td></tr>\n",
       "\t<tr><th scope=row>CSRP3</th><td>0.9897032</td><td>3.238965e-19</td><td>0.9225298</td><td> 4.435853e-80</td><td>0.9744467</td><td>1.100905e-105</td><td>0.8526658</td><td>1.052266e-44</td><td>0.7645299</td><td>1.470134e-08</td><td>0.9394559</td><td> 1.016449e-56</td><td>0.9924121</td><td>8.265478e-62</td></tr>\n",
       "\t<tr><th scope=row>NRAP</th><td>0.9897555</td><td>3.071089e-19</td><td>0.9645392</td><td>2.773657e-111</td><td>0.8884313</td><td> 5.512669e-56</td><td>0.6136789</td><td>2.630241e-17</td><td>0.6559769</td><td>5.803350e-06</td><td>0.8015059</td><td> 4.062526e-28</td><td>0.9883075</td><td>1.220057e-55</td></tr>\n",
       "\t<tr><th scope=row>KLHL40</th><td>0.9900373</td><td>2.294141e-19</td><td>0.9508961</td><td> 3.329016e-98</td><td>0.9501511</td><td> 6.902485e-83</td><td>0.7817104</td><td>5.566864e-33</td><td>0.9097214</td><td>1.071453e-15</td><td>0.9790357</td><td> 2.148726e-83</td><td>0.9876073</td><td>8.225882e-55</td></tr>\n",
       "\t<tr><th scope=row>MYOM3</th><td>0.9922282</td><td>1.707222e-20</td><td>0.8846170</td><td> 1.573024e-64</td><td>0.7719979</td><td> 2.642068e-33</td><td>0.8423797</td><td>1.177578e-42</td><td>0.4641390</td><td>2.917017e-03</td><td>0.8851162</td><td> 5.215698e-41</td><td>0.9810466</td><td>9.116222e-49</td></tr>\n",
       "\t<tr><th scope=row>MYOZ2</th><td>0.9926526</td><td>9.484389e-21</td><td>0.7635238</td><td> 9.652726e-38</td><td>0.8107597</td><td> 4.773997e-39</td><td>0.8800776</td><td>4.997597e-51</td><td>0.7873159</td><td>2.760479e-09</td><td>0.9856085</td><td> 5.960210e-93</td><td>0.9591987</td><td>6.293427e-38</td></tr>\n",
       "</tbody>\n",
       "</table>\n"
      ],
      "text/latex": [
       "A data.frame: 28 × 14\n",
       "\\begin{tabular}{r|llllllllllllll}\n",
       "  & MM\\_TH26\\_1 & p.MM\\_TH26\\_1 & MM\\_TH26\\_2 & p.MM\\_TH26\\_2 & MM\\_TH26\\_3 & p.MM\\_TH26\\_3 & MM\\_TH26\\_4 & p.MM\\_TH26\\_4 & MM\\_TH26\\_5 & p.MM\\_TH26\\_5 & MM\\_TH26\\_6 & p.MM\\_TH26\\_6 & MM\\_TH26\\_7 & p.MM\\_TH26\\_7\\\\\n",
       "  & <dbl> & <dbl> & <dbl> & <dbl> & <dbl> & <dbl> & <dbl> & <dbl> & <dbl> & <dbl> & <dbl> & <dbl> & <dbl> & <dbl>\\\\\n",
       "\\hline\n",
       "\tSMYD1 & 0.3553060 & 9.616024e-02 & 0.9656664 & 1.381447e-112 & 0.9476494 &  3.139379e-81 & 0.9019896 & 2.576124e-57 & 0.9655611 & 3.120599e-23 & 0.9853610 &  1.618267e-92 & 0.9870206 & 3.750305e-54\\\\\n",
       "\tCHRNA1 & 0.4246280 & 4.342390e-02 & 0.7044767 &  5.878425e-30 & 0.6069406 &  1.117405e-17 & 0.5064754 & 2.063022e-11 & 0.8616173 & 1.900171e-12 & 0.4390088 &  5.281039e-07 & 0.9822943 & 9.824949e-50\\\\\n",
       "\tDES & 0.4711651 & 2.324439e-02 & 0.6523056 &  1.579037e-24 & 0.6847428 &  9.474916e-24 & 0.8621111 & 9.963981e-47 & 0.7294932 & 1.378364e-07 & 0.7701118 &  8.661615e-25 & 0.9536651 & 3.832722e-36\\\\\n",
       "\tSGCA & 0.6916579 & 2.565488e-04 & 0.6139267 &  3.602907e-21 & 0.4423968 &  3.765225e-09 & 0.5763122 & 5.253503e-15 & 0.8283425 & 7.604319e-11 & 0.9019367 &  7.595124e-45 & 0.9367256 & 8.546572e-32\\\\\n",
       "\tRPL3L & 0.7137367 & 1.311808e-04 & 0.7795486 &  2.932150e-40 & 0.8315794 &  1.037032e-42 & 0.5783867 & 3.984309e-15 & 0.8464602 & 1.135979e-11 & 0.2950740 &  1.069008e-03 & 0.8478856 & 7.440780e-20\\\\\n",
       "\tMYF6 & 0.8130097 & 2.418976e-06 & 0.8517120 &  6.126103e-55 & 0.8891504 &  3.385066e-56 & 0.4175727 & 7.127279e-08 & 0.7109878 & 3.933222e-07 & 0.9295843 &  5.637641e-53 & 0.9642346 & 8.821207e-40\\\\\n",
       "\tASB5 & 0.8340087 & 7.641334e-07 & 0.9454481 &  5.346770e-94 & 0.6149026 &  3.187478e-18 & 0.8722438 & 4.501502e-49 & 0.9782417 & 7.099131e-27 & 0.9686761 &  3.101921e-73 & 0.9867045 & 8.256352e-54\\\\\n",
       "\tCKM & 0.8474452 & 3.352589e-07 & 0.9756197 & 1.962775e-126 & 0.8984650 &  4.431419e-59 & 0.8995518 & 1.516050e-56 & 0.7286396 & 1.449349e-07 & 0.9524294 &  9.835818e-63 & 0.9780566 & 1.093322e-46\\\\\n",
       "\tDUSP13 & 0.8585208 & 1.599292e-07 & 0.7719226 &  4.907246e-39 & 0.9419771 &  9.382757e-78 & 0.8007144 & 1.200158e-35 & 0.9793539 & 2.714405e-27 & 0.9449612 &  4.309906e-59 & 0.9960119 & 5.284411e-71\\\\\n",
       "\tMYL2 & 0.8651119 & 9.989958e-08 & 0.9685758 & 3.678634e-116 & 0.9326578 &  9.648110e-73 & 0.6321510 & 1.465612e-18 & 0.6534935 & 6.469731e-06 & 0.8000866 &  5.914370e-28 & 0.9683040 & 1.746921e-41\\\\\n",
       "\tACTC1 & 0.8760531 & 4.321379e-08 & 0.8326706 &  2.141534e-50 & 0.7898361 &  8.507077e-36 & 0.8029748 & 5.532571e-36 & 0.7354777 & 9.641206e-08 & 0.8737392 &  9.711242e-39 & 0.9754873 & 4.056580e-45\\\\\n",
       "\tCHRND & 0.9077574 & 2.243969e-09 & 0.5640928 &  1.939024e-17 & 0.9317037 &  2.861213e-72 & 0.5984160 & 2.487815e-16 & 0.8517231 & 6.244547e-12 & 0.7226724 &  1.189708e-20 & 0.9802529 & 3.486107e-48\\\\\n",
       "\tKLHL30 & 0.9081114 & 2.158609e-09 & 0.6320365 &  1.072909e-22 & 0.4214925 &  2.328422e-08 & 0.8661718 & 1.207035e-47 & 0.6903011 & 1.158981e-06 & 0.6548834 &  4.914496e-16 & 0.9235969 & 3.486340e-29\\\\\n",
       "\tSLN & 0.9191526 & 5.915743e-10 & 0.8027224 &  2.675753e-44 & 0.6459180 &  1.683924e-20 & 0.8705831 & 1.125039e-48 & 0.5463435 & 3.205225e-04 & 0.9384943 &  2.503750e-56 & 0.9667279 & 8.452302e-41\\\\\n",
       "\tRAPSN & 0.9272349 & 2.029763e-10 & 0.5649381 &  1.696147e-17 & 0.7618098 &  5.572717e-32 & 0.5771504 & 4.699232e-15 & 0.9806074 & 8.609930e-28 & 0.9702234 &  1.633268e-74 & 0.8600799 & 5.785635e-21\\\\\n",
       "\tCAV3 & 0.9402899 & 2.698111e-11 & 0.8436474 &  6.102956e-53 & 0.6818539 &  1.720559e-23 & 0.8886414 & 2.507322e-53 & 0.9679603 & 8.372214e-24 & 0.9910333 & 5.247171e-105 & 0.9692985 & 6.197301e-42\\\\\n",
       "\tHSPB3 & 0.9714905 & 1.317779e-14 & 0.8252836 &  8.744098e-49 & 0.4731428 &  2.043543e-10 & 0.9107845 & 2.856588e-60 & 0.9337427 & 4.307840e-18 & 0.9648977 &  2.302350e-70 & 0.9830183 & 2.505700e-50\\\\\n",
       "\tDUSP27 & 0.9756326 & 2.581331e-15 & 0.9206295 &  3.998080e-79 & 0.5380399 &  1.541007e-13 & 0.8045517 & 3.204204e-36 & 0.9695496 & 3.310382e-24 & 0.9584258 &  4.133678e-66 & 0.9541869 & 2.659572e-36\\\\\n",
       "\tMYL1 & 0.9771520 & 1.321737e-15 & 0.9776276 & 6.401501e-130 & 0.8409214 &  1.603660e-44 & 0.8488564 & 6.290051e-44 & 0.6201922 & 2.540651e-05 & 0.9616350 &  3.966475e-68 & 0.9599018 & 3.585858e-38\\\\\n",
       "\tKLHL41 & 0.9847128 & 2.009260e-17 & 0.8896641 &  2.940310e-66 & 0.9047278 &  3.515860e-61 & 0.8847860 & 2.864216e-52 & 0.9481284 & 5.259146e-20 & 0.9579626 &  7.841307e-66 & 0.9890439 & 1.442401e-56\\\\\n",
       "\tTRDN & 0.9872531 & 3.014009e-18 & 0.7578893 &  6.650787e-37 & 0.7769228 &  5.714554e-34 & 0.7920409 & 2.141219e-34 & 0.8616314 & 1.896816e-12 & 0.5277317 &  5.883817e-10 & 0.9094259 & 7.609384e-27\\\\\n",
       "\tMYOG & 0.9875511 & 2.354182e-18 & 0.8807486 &  2.935599e-63 & 0.8689212 &  9.754996e-51 & 0.6791226 & 3.657261e-22 & 0.7472292 & 4.644609e-08 & 0.9191672 &  1.420177e-49 & 0.9912149 & 1.020595e-59\\\\\n",
       "\tMYPN & 0.9886368 & 9.074005e-19 & 0.9588244 & 2.872465e-105 & 0.9378913 &  1.841795e-75 & 0.8314795 & 1.223964e-40 & 0.8877301 & 4.993898e-14 & 0.9662643 &  2.300925e-71 & 0.2793055 & 2.107585e-02\\\\\n",
       "\tCSRP3 & 0.9897032 & 3.238965e-19 & 0.9225298 &  4.435853e-80 & 0.9744467 & 1.100905e-105 & 0.8526658 & 1.052266e-44 & 0.7645299 & 1.470134e-08 & 0.9394559 &  1.016449e-56 & 0.9924121 & 8.265478e-62\\\\\n",
       "\tNRAP & 0.9897555 & 3.071089e-19 & 0.9645392 & 2.773657e-111 & 0.8884313 &  5.512669e-56 & 0.6136789 & 2.630241e-17 & 0.6559769 & 5.803350e-06 & 0.8015059 &  4.062526e-28 & 0.9883075 & 1.220057e-55\\\\\n",
       "\tKLHL40 & 0.9900373 & 2.294141e-19 & 0.9508961 &  3.329016e-98 & 0.9501511 &  6.902485e-83 & 0.7817104 & 5.566864e-33 & 0.9097214 & 1.071453e-15 & 0.9790357 &  2.148726e-83 & 0.9876073 & 8.225882e-55\\\\\n",
       "\tMYOM3 & 0.9922282 & 1.707222e-20 & 0.8846170 &  1.573024e-64 & 0.7719979 &  2.642068e-33 & 0.8423797 & 1.177578e-42 & 0.4641390 & 2.917017e-03 & 0.8851162 &  5.215698e-41 & 0.9810466 & 9.116222e-49\\\\\n",
       "\tMYOZ2 & 0.9926526 & 9.484389e-21 & 0.7635238 &  9.652726e-38 & 0.8107597 &  4.773997e-39 & 0.8800776 & 4.997597e-51 & 0.7873159 & 2.760479e-09 & 0.9856085 &  5.960210e-93 & 0.9591987 & 6.293427e-38\\\\\n",
       "\\end{tabular}\n"
      ],
      "text/markdown": [
       "\n",
       "A data.frame: 28 × 14\n",
       "\n",
       "| <!--/--> | MM_TH26_1 &lt;dbl&gt; | p.MM_TH26_1 &lt;dbl&gt; | MM_TH26_2 &lt;dbl&gt; | p.MM_TH26_2 &lt;dbl&gt; | MM_TH26_3 &lt;dbl&gt; | p.MM_TH26_3 &lt;dbl&gt; | MM_TH26_4 &lt;dbl&gt; | p.MM_TH26_4 &lt;dbl&gt; | MM_TH26_5 &lt;dbl&gt; | p.MM_TH26_5 &lt;dbl&gt; | MM_TH26_6 &lt;dbl&gt; | p.MM_TH26_6 &lt;dbl&gt; | MM_TH26_7 &lt;dbl&gt; | p.MM_TH26_7 &lt;dbl&gt; |\n",
       "|---|---|---|---|---|---|---|---|---|---|---|---|---|---|---|\n",
       "| SMYD1 | 0.3553060 | 9.616024e-02 | 0.9656664 | 1.381447e-112 | 0.9476494 |  3.139379e-81 | 0.9019896 | 2.576124e-57 | 0.9655611 | 3.120599e-23 | 0.9853610 |  1.618267e-92 | 0.9870206 | 3.750305e-54 |\n",
       "| CHRNA1 | 0.4246280 | 4.342390e-02 | 0.7044767 |  5.878425e-30 | 0.6069406 |  1.117405e-17 | 0.5064754 | 2.063022e-11 | 0.8616173 | 1.900171e-12 | 0.4390088 |  5.281039e-07 | 0.9822943 | 9.824949e-50 |\n",
       "| DES | 0.4711651 | 2.324439e-02 | 0.6523056 |  1.579037e-24 | 0.6847428 |  9.474916e-24 | 0.8621111 | 9.963981e-47 | 0.7294932 | 1.378364e-07 | 0.7701118 |  8.661615e-25 | 0.9536651 | 3.832722e-36 |\n",
       "| SGCA | 0.6916579 | 2.565488e-04 | 0.6139267 |  3.602907e-21 | 0.4423968 |  3.765225e-09 | 0.5763122 | 5.253503e-15 | 0.8283425 | 7.604319e-11 | 0.9019367 |  7.595124e-45 | 0.9367256 | 8.546572e-32 |\n",
       "| RPL3L | 0.7137367 | 1.311808e-04 | 0.7795486 |  2.932150e-40 | 0.8315794 |  1.037032e-42 | 0.5783867 | 3.984309e-15 | 0.8464602 | 1.135979e-11 | 0.2950740 |  1.069008e-03 | 0.8478856 | 7.440780e-20 |\n",
       "| MYF6 | 0.8130097 | 2.418976e-06 | 0.8517120 |  6.126103e-55 | 0.8891504 |  3.385066e-56 | 0.4175727 | 7.127279e-08 | 0.7109878 | 3.933222e-07 | 0.9295843 |  5.637641e-53 | 0.9642346 | 8.821207e-40 |\n",
       "| ASB5 | 0.8340087 | 7.641334e-07 | 0.9454481 |  5.346770e-94 | 0.6149026 |  3.187478e-18 | 0.8722438 | 4.501502e-49 | 0.9782417 | 7.099131e-27 | 0.9686761 |  3.101921e-73 | 0.9867045 | 8.256352e-54 |\n",
       "| CKM | 0.8474452 | 3.352589e-07 | 0.9756197 | 1.962775e-126 | 0.8984650 |  4.431419e-59 | 0.8995518 | 1.516050e-56 | 0.7286396 | 1.449349e-07 | 0.9524294 |  9.835818e-63 | 0.9780566 | 1.093322e-46 |\n",
       "| DUSP13 | 0.8585208 | 1.599292e-07 | 0.7719226 |  4.907246e-39 | 0.9419771 |  9.382757e-78 | 0.8007144 | 1.200158e-35 | 0.9793539 | 2.714405e-27 | 0.9449612 |  4.309906e-59 | 0.9960119 | 5.284411e-71 |\n",
       "| MYL2 | 0.8651119 | 9.989958e-08 | 0.9685758 | 3.678634e-116 | 0.9326578 |  9.648110e-73 | 0.6321510 | 1.465612e-18 | 0.6534935 | 6.469731e-06 | 0.8000866 |  5.914370e-28 | 0.9683040 | 1.746921e-41 |\n",
       "| ACTC1 | 0.8760531 | 4.321379e-08 | 0.8326706 |  2.141534e-50 | 0.7898361 |  8.507077e-36 | 0.8029748 | 5.532571e-36 | 0.7354777 | 9.641206e-08 | 0.8737392 |  9.711242e-39 | 0.9754873 | 4.056580e-45 |\n",
       "| CHRND | 0.9077574 | 2.243969e-09 | 0.5640928 |  1.939024e-17 | 0.9317037 |  2.861213e-72 | 0.5984160 | 2.487815e-16 | 0.8517231 | 6.244547e-12 | 0.7226724 |  1.189708e-20 | 0.9802529 | 3.486107e-48 |\n",
       "| KLHL30 | 0.9081114 | 2.158609e-09 | 0.6320365 |  1.072909e-22 | 0.4214925 |  2.328422e-08 | 0.8661718 | 1.207035e-47 | 0.6903011 | 1.158981e-06 | 0.6548834 |  4.914496e-16 | 0.9235969 | 3.486340e-29 |\n",
       "| SLN | 0.9191526 | 5.915743e-10 | 0.8027224 |  2.675753e-44 | 0.6459180 |  1.683924e-20 | 0.8705831 | 1.125039e-48 | 0.5463435 | 3.205225e-04 | 0.9384943 |  2.503750e-56 | 0.9667279 | 8.452302e-41 |\n",
       "| RAPSN | 0.9272349 | 2.029763e-10 | 0.5649381 |  1.696147e-17 | 0.7618098 |  5.572717e-32 | 0.5771504 | 4.699232e-15 | 0.9806074 | 8.609930e-28 | 0.9702234 |  1.633268e-74 | 0.8600799 | 5.785635e-21 |\n",
       "| CAV3 | 0.9402899 | 2.698111e-11 | 0.8436474 |  6.102956e-53 | 0.6818539 |  1.720559e-23 | 0.8886414 | 2.507322e-53 | 0.9679603 | 8.372214e-24 | 0.9910333 | 5.247171e-105 | 0.9692985 | 6.197301e-42 |\n",
       "| HSPB3 | 0.9714905 | 1.317779e-14 | 0.8252836 |  8.744098e-49 | 0.4731428 |  2.043543e-10 | 0.9107845 | 2.856588e-60 | 0.9337427 | 4.307840e-18 | 0.9648977 |  2.302350e-70 | 0.9830183 | 2.505700e-50 |\n",
       "| DUSP27 | 0.9756326 | 2.581331e-15 | 0.9206295 |  3.998080e-79 | 0.5380399 |  1.541007e-13 | 0.8045517 | 3.204204e-36 | 0.9695496 | 3.310382e-24 | 0.9584258 |  4.133678e-66 | 0.9541869 | 2.659572e-36 |\n",
       "| MYL1 | 0.9771520 | 1.321737e-15 | 0.9776276 | 6.401501e-130 | 0.8409214 |  1.603660e-44 | 0.8488564 | 6.290051e-44 | 0.6201922 | 2.540651e-05 | 0.9616350 |  3.966475e-68 | 0.9599018 | 3.585858e-38 |\n",
       "| KLHL41 | 0.9847128 | 2.009260e-17 | 0.8896641 |  2.940310e-66 | 0.9047278 |  3.515860e-61 | 0.8847860 | 2.864216e-52 | 0.9481284 | 5.259146e-20 | 0.9579626 |  7.841307e-66 | 0.9890439 | 1.442401e-56 |\n",
       "| TRDN | 0.9872531 | 3.014009e-18 | 0.7578893 |  6.650787e-37 | 0.7769228 |  5.714554e-34 | 0.7920409 | 2.141219e-34 | 0.8616314 | 1.896816e-12 | 0.5277317 |  5.883817e-10 | 0.9094259 | 7.609384e-27 |\n",
       "| MYOG | 0.9875511 | 2.354182e-18 | 0.8807486 |  2.935599e-63 | 0.8689212 |  9.754996e-51 | 0.6791226 | 3.657261e-22 | 0.7472292 | 4.644609e-08 | 0.9191672 |  1.420177e-49 | 0.9912149 | 1.020595e-59 |\n",
       "| MYPN | 0.9886368 | 9.074005e-19 | 0.9588244 | 2.872465e-105 | 0.9378913 |  1.841795e-75 | 0.8314795 | 1.223964e-40 | 0.8877301 | 4.993898e-14 | 0.9662643 |  2.300925e-71 | 0.2793055 | 2.107585e-02 |\n",
       "| CSRP3 | 0.9897032 | 3.238965e-19 | 0.9225298 |  4.435853e-80 | 0.9744467 | 1.100905e-105 | 0.8526658 | 1.052266e-44 | 0.7645299 | 1.470134e-08 | 0.9394559 |  1.016449e-56 | 0.9924121 | 8.265478e-62 |\n",
       "| NRAP | 0.9897555 | 3.071089e-19 | 0.9645392 | 2.773657e-111 | 0.8884313 |  5.512669e-56 | 0.6136789 | 2.630241e-17 | 0.6559769 | 5.803350e-06 | 0.8015059 |  4.062526e-28 | 0.9883075 | 1.220057e-55 |\n",
       "| KLHL40 | 0.9900373 | 2.294141e-19 | 0.9508961 |  3.329016e-98 | 0.9501511 |  6.902485e-83 | 0.7817104 | 5.566864e-33 | 0.9097214 | 1.071453e-15 | 0.9790357 |  2.148726e-83 | 0.9876073 | 8.225882e-55 |\n",
       "| MYOM3 | 0.9922282 | 1.707222e-20 | 0.8846170 |  1.573024e-64 | 0.7719979 |  2.642068e-33 | 0.8423797 | 1.177578e-42 | 0.4641390 | 2.917017e-03 | 0.8851162 |  5.215698e-41 | 0.9810466 | 9.116222e-49 |\n",
       "| MYOZ2 | 0.9926526 | 9.484389e-21 | 0.7635238 |  9.652726e-38 | 0.8107597 |  4.773997e-39 | 0.8800776 | 4.997597e-51 | 0.7873159 | 2.760479e-09 | 0.9856085 |  5.960210e-93 | 0.9591987 | 6.293427e-38 |\n",
       "\n"
      ],
      "text/plain": [
       "       MM_TH26_1 p.MM_TH26_1  MM_TH26_2 p.MM_TH26_2   MM_TH26_3 p.MM_TH26_3  \n",
       "SMYD1  0.3553060 9.616024e-02 0.9656664 1.381447e-112 0.9476494  3.139379e-81\n",
       "CHRNA1 0.4246280 4.342390e-02 0.7044767  5.878425e-30 0.6069406  1.117405e-17\n",
       "DES    0.4711651 2.324439e-02 0.6523056  1.579037e-24 0.6847428  9.474916e-24\n",
       "SGCA   0.6916579 2.565488e-04 0.6139267  3.602907e-21 0.4423968  3.765225e-09\n",
       "RPL3L  0.7137367 1.311808e-04 0.7795486  2.932150e-40 0.8315794  1.037032e-42\n",
       "MYF6   0.8130097 2.418976e-06 0.8517120  6.126103e-55 0.8891504  3.385066e-56\n",
       "ASB5   0.8340087 7.641334e-07 0.9454481  5.346770e-94 0.6149026  3.187478e-18\n",
       "CKM    0.8474452 3.352589e-07 0.9756197 1.962775e-126 0.8984650  4.431419e-59\n",
       "DUSP13 0.8585208 1.599292e-07 0.7719226  4.907246e-39 0.9419771  9.382757e-78\n",
       "MYL2   0.8651119 9.989958e-08 0.9685758 3.678634e-116 0.9326578  9.648110e-73\n",
       "ACTC1  0.8760531 4.321379e-08 0.8326706  2.141534e-50 0.7898361  8.507077e-36\n",
       "CHRND  0.9077574 2.243969e-09 0.5640928  1.939024e-17 0.9317037  2.861213e-72\n",
       "KLHL30 0.9081114 2.158609e-09 0.6320365  1.072909e-22 0.4214925  2.328422e-08\n",
       "SLN    0.9191526 5.915743e-10 0.8027224  2.675753e-44 0.6459180  1.683924e-20\n",
       "RAPSN  0.9272349 2.029763e-10 0.5649381  1.696147e-17 0.7618098  5.572717e-32\n",
       "CAV3   0.9402899 2.698111e-11 0.8436474  6.102956e-53 0.6818539  1.720559e-23\n",
       "HSPB3  0.9714905 1.317779e-14 0.8252836  8.744098e-49 0.4731428  2.043543e-10\n",
       "DUSP27 0.9756326 2.581331e-15 0.9206295  3.998080e-79 0.5380399  1.541007e-13\n",
       "MYL1   0.9771520 1.321737e-15 0.9776276 6.401501e-130 0.8409214  1.603660e-44\n",
       "KLHL41 0.9847128 2.009260e-17 0.8896641  2.940310e-66 0.9047278  3.515860e-61\n",
       "TRDN   0.9872531 3.014009e-18 0.7578893  6.650787e-37 0.7769228  5.714554e-34\n",
       "MYOG   0.9875511 2.354182e-18 0.8807486  2.935599e-63 0.8689212  9.754996e-51\n",
       "MYPN   0.9886368 9.074005e-19 0.9588244 2.872465e-105 0.9378913  1.841795e-75\n",
       "CSRP3  0.9897032 3.238965e-19 0.9225298  4.435853e-80 0.9744467 1.100905e-105\n",
       "NRAP   0.9897555 3.071089e-19 0.9645392 2.773657e-111 0.8884313  5.512669e-56\n",
       "KLHL40 0.9900373 2.294141e-19 0.9508961  3.329016e-98 0.9501511  6.902485e-83\n",
       "MYOM3  0.9922282 1.707222e-20 0.8846170  1.573024e-64 0.7719979  2.642068e-33\n",
       "MYOZ2  0.9926526 9.484389e-21 0.7635238  9.652726e-38 0.8107597  4.773997e-39\n",
       "       MM_TH26_4 p.MM_TH26_4  MM_TH26_5 p.MM_TH26_5  MM_TH26_6 p.MM_TH26_6  \n",
       "SMYD1  0.9019896 2.576124e-57 0.9655611 3.120599e-23 0.9853610  1.618267e-92\n",
       "CHRNA1 0.5064754 2.063022e-11 0.8616173 1.900171e-12 0.4390088  5.281039e-07\n",
       "DES    0.8621111 9.963981e-47 0.7294932 1.378364e-07 0.7701118  8.661615e-25\n",
       "SGCA   0.5763122 5.253503e-15 0.8283425 7.604319e-11 0.9019367  7.595124e-45\n",
       "RPL3L  0.5783867 3.984309e-15 0.8464602 1.135979e-11 0.2950740  1.069008e-03\n",
       "MYF6   0.4175727 7.127279e-08 0.7109878 3.933222e-07 0.9295843  5.637641e-53\n",
       "ASB5   0.8722438 4.501502e-49 0.9782417 7.099131e-27 0.9686761  3.101921e-73\n",
       "CKM    0.8995518 1.516050e-56 0.7286396 1.449349e-07 0.9524294  9.835818e-63\n",
       "DUSP13 0.8007144 1.200158e-35 0.9793539 2.714405e-27 0.9449612  4.309906e-59\n",
       "MYL2   0.6321510 1.465612e-18 0.6534935 6.469731e-06 0.8000866  5.914370e-28\n",
       "ACTC1  0.8029748 5.532571e-36 0.7354777 9.641206e-08 0.8737392  9.711242e-39\n",
       "CHRND  0.5984160 2.487815e-16 0.8517231 6.244547e-12 0.7226724  1.189708e-20\n",
       "KLHL30 0.8661718 1.207035e-47 0.6903011 1.158981e-06 0.6548834  4.914496e-16\n",
       "SLN    0.8705831 1.125039e-48 0.5463435 3.205225e-04 0.9384943  2.503750e-56\n",
       "RAPSN  0.5771504 4.699232e-15 0.9806074 8.609930e-28 0.9702234  1.633268e-74\n",
       "CAV3   0.8886414 2.507322e-53 0.9679603 8.372214e-24 0.9910333 5.247171e-105\n",
       "HSPB3  0.9107845 2.856588e-60 0.9337427 4.307840e-18 0.9648977  2.302350e-70\n",
       "DUSP27 0.8045517 3.204204e-36 0.9695496 3.310382e-24 0.9584258  4.133678e-66\n",
       "MYL1   0.8488564 6.290051e-44 0.6201922 2.540651e-05 0.9616350  3.966475e-68\n",
       "KLHL41 0.8847860 2.864216e-52 0.9481284 5.259146e-20 0.9579626  7.841307e-66\n",
       "TRDN   0.7920409 2.141219e-34 0.8616314 1.896816e-12 0.5277317  5.883817e-10\n",
       "MYOG   0.6791226 3.657261e-22 0.7472292 4.644609e-08 0.9191672  1.420177e-49\n",
       "MYPN   0.8314795 1.223964e-40 0.8877301 4.993898e-14 0.9662643  2.300925e-71\n",
       "CSRP3  0.8526658 1.052266e-44 0.7645299 1.470134e-08 0.9394559  1.016449e-56\n",
       "NRAP   0.6136789 2.630241e-17 0.6559769 5.803350e-06 0.8015059  4.062526e-28\n",
       "KLHL40 0.7817104 5.566864e-33 0.9097214 1.071453e-15 0.9790357  2.148726e-83\n",
       "MYOM3  0.8423797 1.177578e-42 0.4641390 2.917017e-03 0.8851162  5.215698e-41\n",
       "MYOZ2  0.8800776 4.997597e-51 0.7873159 2.760479e-09 0.9856085  5.960210e-93\n",
       "       MM_TH26_7 p.MM_TH26_7 \n",
       "SMYD1  0.9870206 3.750305e-54\n",
       "CHRNA1 0.9822943 9.824949e-50\n",
       "DES    0.9536651 3.832722e-36\n",
       "SGCA   0.9367256 8.546572e-32\n",
       "RPL3L  0.8478856 7.440780e-20\n",
       "MYF6   0.9642346 8.821207e-40\n",
       "ASB5   0.9867045 8.256352e-54\n",
       "CKM    0.9780566 1.093322e-46\n",
       "DUSP13 0.9960119 5.284411e-71\n",
       "MYL2   0.9683040 1.746921e-41\n",
       "ACTC1  0.9754873 4.056580e-45\n",
       "CHRND  0.9802529 3.486107e-48\n",
       "KLHL30 0.9235969 3.486340e-29\n",
       "SLN    0.9667279 8.452302e-41\n",
       "RAPSN  0.8600799 5.785635e-21\n",
       "CAV3   0.9692985 6.197301e-42\n",
       "HSPB3  0.9830183 2.505700e-50\n",
       "DUSP27 0.9541869 2.659572e-36\n",
       "MYL1   0.9599018 3.585858e-38\n",
       "KLHL41 0.9890439 1.442401e-56\n",
       "TRDN   0.9094259 7.609384e-27\n",
       "MYOG   0.9912149 1.020595e-59\n",
       "MYPN   0.2793055 2.107585e-02\n",
       "CSRP3  0.9924121 8.265478e-62\n",
       "NRAP   0.9883075 1.220057e-55\n",
       "KLHL40 0.9876073 8.225882e-55\n",
       "MYOM3  0.9810466 9.116222e-49\n",
       "MYOZ2  0.9591987 6.293427e-38"
      ]
     },
     "metadata": {},
     "output_type": "display_data"
    }
   ],
   "source": [
    "TH_26[ order(TH_26$MM_TH26_1, TH_26$MM_TH26_2, TH_26$MM_TH26_3, TH_26$MM_TH26_4,\n",
    "            TH_26$MM_TH26_5, TH_26$MM_TH26_6,TH_26$MM_TH26_7),grepl(\"MM_TH26\", colnames(TH_26))]"
   ]
  },
  {
   "cell_type": "code",
   "execution_count": 101,
   "metadata": {},
   "outputs": [],
   "source": [
    "mm26_1 <- rownames(TH_26)[TH_26$MM_TH26_1 > 0.8]\n",
    "mm26_2 <- rownames(TH_26)[TH_26$MM_TH26_2 > 0.8]\n",
    "mm26_3 <- rownames(TH_26)[TH_26$MM_TH26_3 > 0.8]\n",
    "mm26_4 <- rownames(TH_26)[TH_26$MM_TH26_4 > 0.8]\n",
    "mm26_5 <- rownames(TH_26)[TH_26$MM_TH26_5 > 0.8]\n",
    "mm26_6 <- rownames(TH_26)[TH_26$MM_TH26_6 > 0.8]\n",
    "mm26_7 <- rownames(TH_26)[TH_26$MM_TH26_7 > 0.8]"
   ]
  },
  {
   "cell_type": "code",
   "execution_count": 102,
   "metadata": {},
   "outputs": [
    {
     "data": {
      "text/html": [
       "'KLHL41'"
      ],
      "text/latex": [
       "'KLHL41'"
      ],
      "text/markdown": [
       "'KLHL41'"
      ],
      "text/plain": [
       "[1] \"KLHL41\""
      ]
     },
     "metadata": {},
     "output_type": "display_data"
    }
   ],
   "source": [
    "Reduce(intersect, list(mm26_1, mm26_2,mm26_3,mm26_4,mm26_5,mm26_6,mm26_7))"
   ]
  },
  {
   "cell_type": "code",
   "execution_count": 103,
   "metadata": {},
   "outputs": [],
   "source": [
    "# Just over 5% FDR - immune response module\n",
    "TH_3 <- geneInfo[ geneInfo$moduleLabel == \"3\",]"
   ]
  },
  {
   "cell_type": "code",
   "execution_count": 104,
   "metadata": {},
   "outputs": [],
   "source": [
    "mm3_1 <- rownames(TH_3)[TH_3$MM_TH3_1 > 0.8]\n",
    "mm3_2 <- rownames(TH_3)[TH_3$MM_TH3_2 > 0.8]\n",
    "mm3_3 <- rownames(TH_3)[TH_3$MM_TH3_3 > 0.8]\n",
    "mm3_4 <- rownames(TH_3)[TH_3$MM_TH3_4 > 0.8]\n",
    "mm3_5 <- rownames(TH_3)[TH_3$MM_TH3_5 > 0.8]\n",
    "mm3_6 <- rownames(TH_3)[TH_3$MM_TH3_6 > 0.8]\n",
    "mm3_7 <- rownames(TH_3)[TH_3$MM_TH3_7 > 0.8]"
   ]
  },
  {
   "cell_type": "code",
   "execution_count": 105,
   "metadata": {},
   "outputs": [
    {
     "data": {
      "text/html": [
       "<style>\n",
       ".list-inline {list-style: none; margin:0; padding: 0}\n",
       ".list-inline>li {display: inline-block}\n",
       ".list-inline>li:not(:last-child)::after {content: \"\\00b7\"; padding: 0 .5ex}\n",
       "</style>\n",
       "<ol class=list-inline><li>'C3AR1'</li><li>'CCR5'</li><li>'CLEC7A'</li><li>'CTSS'</li><li>'IL12RB1'</li><li>'ITGAM'</li><li>'LRRC25'</li><li>'MNDA'</li><li>'SAMSN1'</li><li>'SIGLEC7'</li><li>'SIGLEC9'</li><li>'SNX20'</li><li>'TLR8'</li></ol>\n"
      ],
      "text/latex": [
       "\\begin{enumerate*}\n",
       "\\item 'C3AR1'\n",
       "\\item 'CCR5'\n",
       "\\item 'CLEC7A'\n",
       "\\item 'CTSS'\n",
       "\\item 'IL12RB1'\n",
       "\\item 'ITGAM'\n",
       "\\item 'LRRC25'\n",
       "\\item 'MNDA'\n",
       "\\item 'SAMSN1'\n",
       "\\item 'SIGLEC7'\n",
       "\\item 'SIGLEC9'\n",
       "\\item 'SNX20'\n",
       "\\item 'TLR8'\n",
       "\\end{enumerate*}\n"
      ],
      "text/markdown": [
       "1. 'C3AR1'\n",
       "2. 'CCR5'\n",
       "3. 'CLEC7A'\n",
       "4. 'CTSS'\n",
       "5. 'IL12RB1'\n",
       "6. 'ITGAM'\n",
       "7. 'LRRC25'\n",
       "8. 'MNDA'\n",
       "9. 'SAMSN1'\n",
       "10. 'SIGLEC7'\n",
       "11. 'SIGLEC9'\n",
       "12. 'SNX20'\n",
       "13. 'TLR8'\n",
       "\n",
       "\n"
      ],
      "text/plain": [
       " [1] \"C3AR1\"   \"CCR5\"    \"CLEC7A\"  \"CTSS\"    \"IL12RB1\" \"ITGAM\"   \"LRRC25\" \n",
       " [8] \"MNDA\"    \"SAMSN1\"  \"SIGLEC7\" \"SIGLEC9\" \"SNX20\"   \"TLR8\"   "
      ]
     },
     "metadata": {},
     "output_type": "display_data"
    }
   ],
   "source": [
    "Reduce(intersect, list(mm3_1, mm3_2, mm3_3 ,mm3_4,mm3_5,mm3_6,mm3_7))"
   ]
  },
  {
   "cell_type": "markdown",
   "metadata": {},
   "source": [
    "## Quick survival analysis using important genes"
   ]
  },
  {
   "cell_type": "code",
   "execution_count": 106,
   "metadata": {},
   "outputs": [],
   "source": [
    "module_sample <- matrix(ncol = nrow(tpm_mat_ensg_t_matched), nrow = 3)\n",
    "rownames(module_sample) <- c(\"TH_13\", \"TH_26\", \"TH_27\")\n",
    "colnames(module_sample) <- rownames(tpm_mat_ensg_t_matched)"
   ]
  },
  {
   "cell_type": "code",
   "execution_count": 107,
   "metadata": {},
   "outputs": [
    {
     "data": {
      "text/html": [
       "<table class=\"dataframe\">\n",
       "<caption>A matrix: 3 × 66 of type lgl</caption>\n",
       "<thead>\n",
       "\t<tr><th></th><th scope=col>06520001B0023R</th><th scope=col>06520003C0012R</th><th scope=col>06520004C0018R</th><th scope=col>06520005C0017R</th><th scope=col>06520006C0016R</th><th scope=col>06520007C0018R</th><th scope=col>06520008C0017R</th><th scope=col>06520010B0023R</th><th scope=col>06520011B0023R</th><th scope=col>06520015C0016R</th><th scope=col>⋯</th><th scope=col>06520095B0017R</th><th scope=col>06520097B0021R</th><th scope=col>06520099B0017R</th><th scope=col>06520100B0017R</th><th scope=col>06520103C0017R</th><th scope=col>06520104C0017R</th><th scope=col>06520105C0017R</th><th scope=col>06520106C0017R</th><th scope=col>06520107C0017R</th><th scope=col>06520110C0016R</th></tr>\n",
       "</thead>\n",
       "<tbody>\n",
       "\t<tr><th scope=row>TH_13</th><td>NA</td><td>NA</td><td>NA</td><td>NA</td><td>NA</td><td>NA</td><td>NA</td><td>NA</td><td>NA</td><td>NA</td><td>⋯</td><td>NA</td><td>NA</td><td>NA</td><td>NA</td><td>NA</td><td>NA</td><td>NA</td><td>NA</td><td>NA</td><td>NA</td></tr>\n",
       "\t<tr><th scope=row>TH_26</th><td>NA</td><td>NA</td><td>NA</td><td>NA</td><td>NA</td><td>NA</td><td>NA</td><td>NA</td><td>NA</td><td>NA</td><td>⋯</td><td>NA</td><td>NA</td><td>NA</td><td>NA</td><td>NA</td><td>NA</td><td>NA</td><td>NA</td><td>NA</td><td>NA</td></tr>\n",
       "\t<tr><th scope=row>TH_27</th><td>NA</td><td>NA</td><td>NA</td><td>NA</td><td>NA</td><td>NA</td><td>NA</td><td>NA</td><td>NA</td><td>NA</td><td>⋯</td><td>NA</td><td>NA</td><td>NA</td><td>NA</td><td>NA</td><td>NA</td><td>NA</td><td>NA</td><td>NA</td><td>NA</td></tr>\n",
       "</tbody>\n",
       "</table>\n"
      ],
      "text/latex": [
       "A matrix: 3 × 66 of type lgl\n",
       "\\begin{tabular}{r|lllllllllllllllllllll}\n",
       "  & 06520001B0023R & 06520003C0012R & 06520004C0018R & 06520005C0017R & 06520006C0016R & 06520007C0018R & 06520008C0017R & 06520010B0023R & 06520011B0023R & 06520015C0016R & ⋯ & 06520095B0017R & 06520097B0021R & 06520099B0017R & 06520100B0017R & 06520103C0017R & 06520104C0017R & 06520105C0017R & 06520106C0017R & 06520107C0017R & 06520110C0016R\\\\\n",
       "\\hline\n",
       "\tTH\\_13 & NA & NA & NA & NA & NA & NA & NA & NA & NA & NA & ⋯ & NA & NA & NA & NA & NA & NA & NA & NA & NA & NA\\\\\n",
       "\tTH\\_26 & NA & NA & NA & NA & NA & NA & NA & NA & NA & NA & ⋯ & NA & NA & NA & NA & NA & NA & NA & NA & NA & NA\\\\\n",
       "\tTH\\_27 & NA & NA & NA & NA & NA & NA & NA & NA & NA & NA & ⋯ & NA & NA & NA & NA & NA & NA & NA & NA & NA & NA\\\\\n",
       "\\end{tabular}\n"
      ],
      "text/markdown": [
       "\n",
       "A matrix: 3 × 66 of type lgl\n",
       "\n",
       "| <!--/--> | 06520001B0023R | 06520003C0012R | 06520004C0018R | 06520005C0017R | 06520006C0016R | 06520007C0018R | 06520008C0017R | 06520010B0023R | 06520011B0023R | 06520015C0016R | ⋯ | 06520095B0017R | 06520097B0021R | 06520099B0017R | 06520100B0017R | 06520103C0017R | 06520104C0017R | 06520105C0017R | 06520106C0017R | 06520107C0017R | 06520110C0016R |\n",
       "|---|---|---|---|---|---|---|---|---|---|---|---|---|---|---|---|---|---|---|---|---|---|\n",
       "| TH_13 | NA | NA | NA | NA | NA | NA | NA | NA | NA | NA | ⋯ | NA | NA | NA | NA | NA | NA | NA | NA | NA | NA |\n",
       "| TH_26 | NA | NA | NA | NA | NA | NA | NA | NA | NA | NA | ⋯ | NA | NA | NA | NA | NA | NA | NA | NA | NA | NA |\n",
       "| TH_27 | NA | NA | NA | NA | NA | NA | NA | NA | NA | NA | ⋯ | NA | NA | NA | NA | NA | NA | NA | NA | NA | NA |\n",
       "\n"
      ],
      "text/plain": [
       "      06520001B0023R 06520003C0012R 06520004C0018R 06520005C0017R\n",
       "TH_13 NA             NA             NA             NA            \n",
       "TH_26 NA             NA             NA             NA            \n",
       "TH_27 NA             NA             NA             NA            \n",
       "      06520006C0016R 06520007C0018R 06520008C0017R 06520010B0023R\n",
       "TH_13 NA             NA             NA             NA            \n",
       "TH_26 NA             NA             NA             NA            \n",
       "TH_27 NA             NA             NA             NA            \n",
       "      06520011B0023R 06520015C0016R ⋯ 06520095B0017R 06520097B0021R\n",
       "TH_13 NA             NA             ⋯ NA             NA            \n",
       "TH_26 NA             NA             ⋯ NA             NA            \n",
       "TH_27 NA             NA             ⋯ NA             NA            \n",
       "      06520099B0017R 06520100B0017R 06520103C0017R 06520104C0017R\n",
       "TH_13 NA             NA             NA             NA            \n",
       "TH_26 NA             NA             NA             NA            \n",
       "TH_27 NA             NA             NA             NA            \n",
       "      06520105C0017R 06520106C0017R 06520107C0017R 06520110C0016R\n",
       "TH_13 NA             NA             NA             NA            \n",
       "TH_26 NA             NA             NA             NA            \n",
       "TH_27 NA             NA             NA             NA            "
      ]
     },
     "metadata": {},
     "output_type": "display_data"
    }
   ],
   "source": [
    "head(module_sample)"
   ]
  },
  {
   "cell_type": "code",
   "execution_count": 108,
   "metadata": {},
   "outputs": [
    {
     "data": {
      "text/html": [
       "<table class=\"dataframe\">\n",
       "<caption>A data.frame: 6 × 5</caption>\n",
       "<thead>\n",
       "\t<tr><th></th><th scope=col>moduleLabel</th><th scope=col>moduleColor</th><th scope=col>ensembl_id_TH</th><th scope=col>ensembl_id</th><th scope=col>entrez</th></tr>\n",
       "\t<tr><th></th><th scope=col>&lt;chr&gt;</th><th scope=col>&lt;chr&gt;</th><th scope=col>&lt;chr&gt;</th><th scope=col>&lt;chr&gt;</th><th scope=col>&lt;int&gt;</th></tr>\n",
       "</thead>\n",
       "<tbody>\n",
       "\t<tr><th scope=row>A2M</th><td>TH_22</td><td>darkgreen</td><td>ENSG00000175899.14</td><td>ENSG00000175899</td><td>     2</td></tr>\n",
       "\t<tr><th scope=row>AAK1</th><td>TH_7 </td><td>black    </td><td>ENSG00000115977.18</td><td>ENSG00000115977</td><td> 22848</td></tr>\n",
       "\t<tr><th scope=row>AASDH</th><td>TH_6 </td><td>red      </td><td>ENSG00000157426.13</td><td>ENSG00000157426</td><td>132949</td></tr>\n",
       "\t<tr><th scope=row>AASDHPPT</th><td>TH_6 </td><td>red      </td><td>ENSG00000149313.10</td><td>ENSG00000149313</td><td> 60496</td></tr>\n",
       "\t<tr><th scope=row>ABCB10</th><td>TH_6 </td><td>red      </td><td>ENSG00000135776.4 </td><td>ENSG00000135776</td><td> 23456</td></tr>\n",
       "\t<tr><th scope=row>ABCE1</th><td>TH_6 </td><td>red      </td><td>ENSG00000164163.10</td><td>ENSG00000164163</td><td>  6059</td></tr>\n",
       "</tbody>\n",
       "</table>\n"
      ],
      "text/latex": [
       "A data.frame: 6 × 5\n",
       "\\begin{tabular}{r|lllll}\n",
       "  & moduleLabel & moduleColor & ensembl\\_id\\_TH & ensembl\\_id & entrez\\\\\n",
       "  & <chr> & <chr> & <chr> & <chr> & <int>\\\\\n",
       "\\hline\n",
       "\tA2M & TH\\_22 & darkgreen & ENSG00000175899.14 & ENSG00000175899 &      2\\\\\n",
       "\tAAK1 & TH\\_7  & black     & ENSG00000115977.18 & ENSG00000115977 &  22848\\\\\n",
       "\tAASDH & TH\\_6  & red       & ENSG00000157426.13 & ENSG00000157426 & 132949\\\\\n",
       "\tAASDHPPT & TH\\_6  & red       & ENSG00000149313.10 & ENSG00000149313 &  60496\\\\\n",
       "\tABCB10 & TH\\_6  & red       & ENSG00000135776.4  & ENSG00000135776 &  23456\\\\\n",
       "\tABCE1 & TH\\_6  & red       & ENSG00000164163.10 & ENSG00000164163 &   6059\\\\\n",
       "\\end{tabular}\n"
      ],
      "text/markdown": [
       "\n",
       "A data.frame: 6 × 5\n",
       "\n",
       "| <!--/--> | moduleLabel &lt;chr&gt; | moduleColor &lt;chr&gt; | ensembl_id_TH &lt;chr&gt; | ensembl_id &lt;chr&gt; | entrez &lt;int&gt; |\n",
       "|---|---|---|---|---|---|\n",
       "| A2M | TH_22 | darkgreen | ENSG00000175899.14 | ENSG00000175899 |      2 |\n",
       "| AAK1 | TH_7  | black     | ENSG00000115977.18 | ENSG00000115977 |  22848 |\n",
       "| AASDH | TH_6  | red       | ENSG00000157426.13 | ENSG00000157426 | 132949 |\n",
       "| AASDHPPT | TH_6  | red       | ENSG00000149313.10 | ENSG00000149313 |  60496 |\n",
       "| ABCB10 | TH_6  | red       | ENSG00000135776.4  | ENSG00000135776 |  23456 |\n",
       "| ABCE1 | TH_6  | red       | ENSG00000164163.10 | ENSG00000164163 |   6059 |\n",
       "\n"
      ],
      "text/plain": [
       "         moduleLabel moduleColor ensembl_id_TH      ensembl_id      entrez\n",
       "A2M      TH_22       darkgreen   ENSG00000175899.14 ENSG00000175899      2\n",
       "AAK1     TH_7        black       ENSG00000115977.18 ENSG00000115977  22848\n",
       "AASDH    TH_6        red         ENSG00000157426.13 ENSG00000157426 132949\n",
       "AASDHPPT TH_6        red         ENSG00000149313.10 ENSG00000149313  60496\n",
       "ABCB10   TH_6        red         ENSG00000135776.4  ENSG00000135776  23456\n",
       "ABCE1    TH_6        red         ENSG00000164163.10 ENSG00000164163   6059"
      ]
     },
     "metadata": {},
     "output_type": "display_data"
    }
   ],
   "source": [
    "head(mygene_modules)"
   ]
  },
  {
   "cell_type": "code",
   "execution_count": 109,
   "metadata": {},
   "outputs": [],
   "source": [
    "mygen <- mygene_modules$ensembl_id[ rownames(mygene_modules) %in% \"KLHL41\"]\n",
    "genes <- tpm_mat_ensg_t_matched[,mygen]"
   ]
  },
  {
   "cell_type": "code",
   "execution_count": 110,
   "metadata": {},
   "outputs": [],
   "source": [
    "module_sample[\"TH_26\",] <- genes"
   ]
  },
  {
   "cell_type": "code",
   "execution_count": 111,
   "metadata": {},
   "outputs": [],
   "source": [
    "mygen <- mygene_modules$ensembl_id[ rownames(mygene_modules) %in% c('CD2','CD3D','CD3E','CD3G','CXCR3','THEMIS','UBASH3A')]\n",
    "genes <- tpm_mat_ensg_t_matched[,mygen]"
   ]
  },
  {
   "cell_type": "code",
   "execution_count": 112,
   "metadata": {},
   "outputs": [],
   "source": [
    "averagegenes <- apply(genes,1,mean)"
   ]
  },
  {
   "cell_type": "code",
   "execution_count": 113,
   "metadata": {},
   "outputs": [],
   "source": [
    "module_sample[\"TH_13\",] <- averagegenes"
   ]
  },
  {
   "cell_type": "code",
   "execution_count": 114,
   "metadata": {},
   "outputs": [],
   "source": [
    "module_samplemygen <- mygene_modules$ensembl_id[ rownames(mygene_modules) %in% c('HLA-B','HLA-F','PSMB9')]\n",
    "\n",
    "genes <- tpm_mat_ensg_t_matched[,mygen]\n",
    "\n",
    "averagegenes <- apply(genes,1,mean)\n",
    "\n",
    "module_sample[\"TH_27\",] <- averagegenes"
   ]
  },
  {
   "cell_type": "code",
   "execution_count": 115,
   "metadata": {},
   "outputs": [
    {
     "data": {
      "text/html": [
       "<table class=\"dataframe\">\n",
       "<caption>A matrix: 3 × 66 of type dbl</caption>\n",
       "<thead>\n",
       "\t<tr><th></th><th scope=col>06520001B0023R</th><th scope=col>06520003C0012R</th><th scope=col>06520004C0018R</th><th scope=col>06520005C0017R</th><th scope=col>06520006C0016R</th><th scope=col>06520007C0018R</th><th scope=col>06520008C0017R</th><th scope=col>06520010B0023R</th><th scope=col>06520011B0023R</th><th scope=col>06520015C0016R</th><th scope=col>⋯</th><th scope=col>06520095B0017R</th><th scope=col>06520097B0021R</th><th scope=col>06520099B0017R</th><th scope=col>06520100B0017R</th><th scope=col>06520103C0017R</th><th scope=col>06520104C0017R</th><th scope=col>06520105C0017R</th><th scope=col>06520106C0017R</th><th scope=col>06520107C0017R</th><th scope=col>06520110C0016R</th></tr>\n",
       "</thead>\n",
       "<tbody>\n",
       "\t<tr><th scope=row>TH_13</th><td>0.8034742</td><td>4.9275058</td><td>4.0912993</td><td>0.08551532</td><td>0.5531959</td><td>1.9188268</td><td>0.03585165</td><td>0.6275425</td><td>0.2252948</td><td>1.603264</td><td>⋯</td><td>0.7298162</td><td>2.26694873</td><td>5.3403622</td><td>3.2737386</td><td>2.3460847</td><td>4.3566979</td><td>0.7259099</td><td>0.4494325</td><td>1.596793</td><td>1.620667</td></tr>\n",
       "\t<tr><th scope=row>TH_26</th><td>1.5704629</td><td>0.1375035</td><td>0.2265085</td><td>4.44095220</td><td>6.4929748</td><td>0.5160151</td><td>0.50589093</td><td>0.3448285</td><td>0.6322682</td><td>3.992768</td><td>⋯</td><td>2.1795111</td><td>0.02856915</td><td>0.3785116</td><td>0.6690268</td><td>0.3895668</td><td>0.2630344</td><td>1.7355222</td><td>0.5655972</td><td>2.090853</td><td>1.226509</td></tr>\n",
       "\t<tr><th scope=row>TH_27</th><td>0.8034742</td><td>4.9275058</td><td>4.0912993</td><td>0.08551532</td><td>0.5531959</td><td>1.9188268</td><td>0.03585165</td><td>0.6275425</td><td>0.2252948</td><td>1.603264</td><td>⋯</td><td>0.7298162</td><td>2.26694873</td><td>5.3403622</td><td>3.2737386</td><td>2.3460847</td><td>4.3566979</td><td>0.7259099</td><td>0.4494325</td><td>1.596793</td><td>1.620667</td></tr>\n",
       "</tbody>\n",
       "</table>\n"
      ],
      "text/latex": [
       "A matrix: 3 × 66 of type dbl\n",
       "\\begin{tabular}{r|lllllllllllllllllllll}\n",
       "  & 06520001B0023R & 06520003C0012R & 06520004C0018R & 06520005C0017R & 06520006C0016R & 06520007C0018R & 06520008C0017R & 06520010B0023R & 06520011B0023R & 06520015C0016R & ⋯ & 06520095B0017R & 06520097B0021R & 06520099B0017R & 06520100B0017R & 06520103C0017R & 06520104C0017R & 06520105C0017R & 06520106C0017R & 06520107C0017R & 06520110C0016R\\\\\n",
       "\\hline\n",
       "\tTH\\_13 & 0.8034742 & 4.9275058 & 4.0912993 & 0.08551532 & 0.5531959 & 1.9188268 & 0.03585165 & 0.6275425 & 0.2252948 & 1.603264 & ⋯ & 0.7298162 & 2.26694873 & 5.3403622 & 3.2737386 & 2.3460847 & 4.3566979 & 0.7259099 & 0.4494325 & 1.596793 & 1.620667\\\\\n",
       "\tTH\\_26 & 1.5704629 & 0.1375035 & 0.2265085 & 4.44095220 & 6.4929748 & 0.5160151 & 0.50589093 & 0.3448285 & 0.6322682 & 3.992768 & ⋯ & 2.1795111 & 0.02856915 & 0.3785116 & 0.6690268 & 0.3895668 & 0.2630344 & 1.7355222 & 0.5655972 & 2.090853 & 1.226509\\\\\n",
       "\tTH\\_27 & 0.8034742 & 4.9275058 & 4.0912993 & 0.08551532 & 0.5531959 & 1.9188268 & 0.03585165 & 0.6275425 & 0.2252948 & 1.603264 & ⋯ & 0.7298162 & 2.26694873 & 5.3403622 & 3.2737386 & 2.3460847 & 4.3566979 & 0.7259099 & 0.4494325 & 1.596793 & 1.620667\\\\\n",
       "\\end{tabular}\n"
      ],
      "text/markdown": [
       "\n",
       "A matrix: 3 × 66 of type dbl\n",
       "\n",
       "| <!--/--> | 06520001B0023R | 06520003C0012R | 06520004C0018R | 06520005C0017R | 06520006C0016R | 06520007C0018R | 06520008C0017R | 06520010B0023R | 06520011B0023R | 06520015C0016R | ⋯ | 06520095B0017R | 06520097B0021R | 06520099B0017R | 06520100B0017R | 06520103C0017R | 06520104C0017R | 06520105C0017R | 06520106C0017R | 06520107C0017R | 06520110C0016R |\n",
       "|---|---|---|---|---|---|---|---|---|---|---|---|---|---|---|---|---|---|---|---|---|---|\n",
       "| TH_13 | 0.8034742 | 4.9275058 | 4.0912993 | 0.08551532 | 0.5531959 | 1.9188268 | 0.03585165 | 0.6275425 | 0.2252948 | 1.603264 | ⋯ | 0.7298162 | 2.26694873 | 5.3403622 | 3.2737386 | 2.3460847 | 4.3566979 | 0.7259099 | 0.4494325 | 1.596793 | 1.620667 |\n",
       "| TH_26 | 1.5704629 | 0.1375035 | 0.2265085 | 4.44095220 | 6.4929748 | 0.5160151 | 0.50589093 | 0.3448285 | 0.6322682 | 3.992768 | ⋯ | 2.1795111 | 0.02856915 | 0.3785116 | 0.6690268 | 0.3895668 | 0.2630344 | 1.7355222 | 0.5655972 | 2.090853 | 1.226509 |\n",
       "| TH_27 | 0.8034742 | 4.9275058 | 4.0912993 | 0.08551532 | 0.5531959 | 1.9188268 | 0.03585165 | 0.6275425 | 0.2252948 | 1.603264 | ⋯ | 0.7298162 | 2.26694873 | 5.3403622 | 3.2737386 | 2.3460847 | 4.3566979 | 0.7259099 | 0.4494325 | 1.596793 | 1.620667 |\n",
       "\n"
      ],
      "text/plain": [
       "      06520001B0023R 06520003C0012R 06520004C0018R 06520005C0017R\n",
       "TH_13 0.8034742      4.9275058      4.0912993      0.08551532    \n",
       "TH_26 1.5704629      0.1375035      0.2265085      4.44095220    \n",
       "TH_27 0.8034742      4.9275058      4.0912993      0.08551532    \n",
       "      06520006C0016R 06520007C0018R 06520008C0017R 06520010B0023R\n",
       "TH_13 0.5531959      1.9188268      0.03585165     0.6275425     \n",
       "TH_26 6.4929748      0.5160151      0.50589093     0.3448285     \n",
       "TH_27 0.5531959      1.9188268      0.03585165     0.6275425     \n",
       "      06520011B0023R 06520015C0016R ⋯ 06520095B0017R 06520097B0021R\n",
       "TH_13 0.2252948      1.603264       ⋯ 0.7298162      2.26694873    \n",
       "TH_26 0.6322682      3.992768       ⋯ 2.1795111      0.02856915    \n",
       "TH_27 0.2252948      1.603264       ⋯ 0.7298162      2.26694873    \n",
       "      06520099B0017R 06520100B0017R 06520103C0017R 06520104C0017R\n",
       "TH_13 5.3403622      3.2737386      2.3460847      4.3566979     \n",
       "TH_26 0.3785116      0.6690268      0.3895668      0.2630344     \n",
       "TH_27 5.3403622      3.2737386      2.3460847      4.3566979     \n",
       "      06520105C0017R 06520106C0017R 06520107C0017R 06520110C0016R\n",
       "TH_13 0.7259099      0.4494325      1.596793       1.620667      \n",
       "TH_26 1.7355222      0.5655972      2.090853       1.226509      \n",
       "TH_27 0.7259099      0.4494325      1.596793       1.620667      "
      ]
     },
     "metadata": {},
     "output_type": "display_data"
    }
   ],
   "source": [
    "module_sample"
   ]
  },
  {
   "cell_type": "markdown",
   "metadata": {},
   "source": [
    "Merge with metadata for survival analysis"
   ]
  },
  {
   "cell_type": "code",
   "execution_count": 116,
   "metadata": {
    "scrolled": true
   },
   "outputs": [],
   "source": [
    "module_sample_t <- as.data.frame(t(module_sample))\n",
    "module_sample_t$sample_id <- rownames(module_sample_t)"
   ]
  },
  {
   "cell_type": "code",
   "execution_count": 117,
   "metadata": {},
   "outputs": [],
   "source": [
    "metadata_modules <- merge(metadata, module_sample_t, by = \"sample_id\")"
   ]
  },
  {
   "cell_type": "code",
   "execution_count": 118,
   "metadata": {},
   "outputs": [
    {
     "data": {
      "text/html": [
       "<table class=\"dataframe\">\n",
       "<caption>A data.frame: 66 × 80</caption>\n",
       "<thead>\n",
       "\t<tr><th scope=col>sample_id</th><th scope=col>SAMPLE.ID</th><th scope=col>Patient.ID.x</th><th scope=col>STUDYID</th><th scope=col>USUBJID</th><th scope=col>AGE</th><th scope=col>AGEU</th><th scope=col>TRTDUR</th><th scope=col>COHORT</th><th scope=col>TTYPE</th><th scope=col>⋯</th><th scope=col>SE_Simpson</th><th scope=col>ALIQUOT</th><th scope=col>SUBJECT.ID</th><th scope=col>QC_Status</th><th scope=col>TMB_Score</th><th scope=col>TMB_Confidence</th><th scope=col>PDL1</th><th scope=col>TH_13</th><th scope=col>TH_26</th><th scope=col>TH_27</th></tr>\n",
       "\t<tr><th scope=col>&lt;chr&gt;</th><th scope=col>&lt;chr&gt;</th><th scope=col>&lt;int&gt;</th><th scope=col>&lt;chr&gt;</th><th scope=col>&lt;chr&gt;</th><th scope=col>&lt;int&gt;</th><th scope=col>&lt;chr&gt;</th><th scope=col>&lt;int&gt;</th><th scope=col>&lt;chr&gt;</th><th scope=col>&lt;chr&gt;</th><th scope=col>⋯</th><th scope=col>&lt;dbl&gt;</th><th scope=col>&lt;chr&gt;</th><th scope=col>&lt;int&gt;</th><th scope=col>&lt;chr&gt;</th><th scope=col>&lt;dbl&gt;</th><th scope=col>&lt;chr&gt;</th><th scope=col>&lt;chr&gt;</th><th scope=col>&lt;dbl&gt;</th><th scope=col>&lt;dbl&gt;</th><th scope=col>&lt;dbl&gt;</th></tr>\n",
       "</thead>\n",
       "<tbody>\n",
       "\t<tr><td>06520001B0023R</td><td>06520001B</td><td>11010601</td><td>GO29664</td><td>GO29664-283971-11010601</td><td>19</td><td>YEARS</td><td>  1</td><td>Cohort 6 (OSTEOSARCOMA)                                          </td><td>OSTEOSARCOMA                                                                                          </td><td>⋯</td><td>2.101</td><td>TRF185855.01</td><td>     601</td><td>PASS     </td><td> 1.75</td><td>VALID      </td><td>No expression</td><td>0.80347424</td><td>1.5704629</td><td>0.80347424</td></tr>\n",
       "\t<tr><td>06520003C0012R</td><td>06520003C</td><td>11010202</td><td>GO29664</td><td>GO29664-283658-11010202</td><td>17</td><td>YEARS</td><td>108</td><td>Cohort 2 (HODGKIN LYMPHOMA)                                      </td><td>HODGKIN LYMPHOMA                                                                                      </td><td>⋯</td><td>   NA</td><td>NA          </td><td>      NA</td><td>NA       </td><td>   NA</td><td>NA         </td><td>High         </td><td>4.92750577</td><td>0.1375035</td><td>4.92750577</td></tr>\n",
       "\t<tr><td>06520004C0018R</td><td>06520004C</td><td>11010201</td><td>GO29664</td><td>GO29664-283658-11010201</td><td>17</td><td>YEARS</td><td>652</td><td>Cohort 2 (HODGKIN LYMPHOMA)                                      </td><td>HODGKIN LYMPHOMA                                                                                      </td><td>⋯</td><td>0.791</td><td>TRF185857.01</td><td>     201</td><td>QUALIFIED</td><td> 2.63</td><td>LOWER_BOUND</td><td>High         </td><td>4.09129934</td><td>0.2265085</td><td>4.09129934</td></tr>\n",
       "\t<tr><td>06520005C0017R</td><td>06520005C</td><td>11010701</td><td>GO29664</td><td>GO29664-283971-11010701</td><td>11</td><td>YEARS</td><td> 22</td><td>Cohort 7 (RHABDOMYOSARCOMA )                                     </td><td>RHABDOMYOSARCOMA - ALVEOLAR                                                                           </td><td>⋯</td><td>0.427</td><td>TRF185858.01</td><td>     701</td><td>QUALIFIED</td><td> 8.77</td><td>VALID      </td><td>No expression</td><td>0.08551532</td><td>4.4409522</td><td>0.08551532</td></tr>\n",
       "\t<tr><td>06520006C0016R</td><td>06520006C</td><td>11010702</td><td>GO29664</td><td>GO29664-283504-11010702</td><td> 5</td><td>YEARS</td><td> 23</td><td>Cohort 7 (RHABDOMYOSARCOMA )                                     </td><td>RHABDOMYOSARCOMA - UNKNOWN                                                                            </td><td>⋯</td><td>   NA</td><td>NA          </td><td>      NA</td><td>NA       </td><td>   NA</td><td>NA         </td><td>No expression</td><td>0.55319589</td><td>6.4929748</td><td>0.55319589</td></tr>\n",
       "\t<tr><td>06520007C0018R</td><td>06520007C</td><td>11010604</td><td>GO29664</td><td>GO29664-283971-11010604</td><td>22</td><td>YEARS</td><td> 65</td><td>Cohort 6 (OSTEOSARCOMA)                                          </td><td>OSTEOSARCOMA                                                                                          </td><td>⋯</td><td>0.572</td><td>TRF185859.01</td><td>     604</td><td>PASS     </td><td> 3.51</td><td>VALID      </td><td>No expression</td><td>1.91882684</td><td>0.5160151</td><td>1.91882684</td></tr>\n",
       "\t<tr><td>06520008C0017R</td><td>06520008C</td><td>11010602</td><td>GO29664</td><td>GO29664-280959-11010602</td><td>18</td><td>YEARS</td><td> 22</td><td>Cohort 6 (OSTEOSARCOMA)                                          </td><td>OSTEOSARCOMA                                                                                          </td><td>⋯</td><td>   NA</td><td>NA          </td><td>      NA</td><td>NA       </td><td>   NA</td><td>NA         </td><td>NA           </td><td>0.03585165</td><td>0.5058909</td><td>0.03585165</td></tr>\n",
       "\t<tr><td>06520010B0023R</td><td>06520010B</td><td>11011002</td><td>GO29664</td><td>GO29664-281049-11011002</td><td>11</td><td>YEARS</td><td> 20</td><td>Cohort 10 (OTHER TUMOR TYPES WITHOUT DOCUMENTED PD-L1 EXPRESSION)</td><td>OTHER TUMOR TYPES WITHOUT DOCUMENTED PD-L1 EXPRESSION (TUMORS TYPE MUST NOT BE INCLUDED IN LIST ABOVE)</td><td>⋯</td><td>0.451</td><td>TRF185860.01</td><td>    1002</td><td>PASS     </td><td> 2.63</td><td>VALID      </td><td>No expression</td><td>0.62754254</td><td>0.3448285</td><td>0.62754254</td></tr>\n",
       "\t<tr><td>06520011B0023R</td><td>06520011B</td><td>11010103</td><td>GO29664</td><td>GO29664-283495-11010103</td><td>13</td><td>YEARS</td><td>  1</td><td>Cohort 1 (EWING SARCOMA)                                         </td><td>EWING SARCOMA                                                                                         </td><td>⋯</td><td>0.316</td><td>TRF185861.01</td><td>     103</td><td>PASS     </td><td> 0.88</td><td>VALID      </td><td>No expression</td><td>0.22529481</td><td>0.6322682</td><td>0.22529481</td></tr>\n",
       "\t<tr><td>06520015C0016R</td><td>06520015C</td><td>11010104</td><td>GO29664</td><td>GO29664-282359-11010104</td><td>15</td><td>YEARS</td><td> 22</td><td>Cohort 1 (EWING SARCOMA)                                         </td><td>EWING SARCOMA                                                                                         </td><td>⋯</td><td>   NA</td><td>NA          </td><td>      NA</td><td>NA       </td><td>   NA</td><td>NA         </td><td>No expression</td><td>1.60326407</td><td>3.9927684</td><td>1.60326407</td></tr>\n",
       "\t<tr><td>06520017C0018R</td><td>06520017C</td><td>11010503</td><td>GO29664</td><td>GO29664-282359-11010503</td><td>16</td><td>YEARS</td><td> 64</td><td>Cohort 5 (NON-RHABDOMYOSARCOMA SOFT TISSUE SARCOMA)              </td><td>NON-RHABDOMYOSARCOMA SOFT TISSUE SARCOMA - SYNOVIAL SARCOMA                                           </td><td>⋯</td><td>0.155</td><td>TRF185863.01</td><td>     503</td><td>PASS     </td><td> 2.63</td><td>VALID      </td><td>No expression</td><td>0.06012587</td><td>1.2986583</td><td>0.06012587</td></tr>\n",
       "\t<tr><td>06520018C0017R</td><td>06520018C</td><td>11010302</td><td>GO29664</td><td>GO29664-281049-11010302</td><td>11</td><td>YEARS</td><td> 64</td><td>Cohort 3 (NEUROBLASTOMA)                                         </td><td>NEUROBLASTOMA                                                                                         </td><td>⋯</td><td>   NA</td><td>TRF400312.01</td><td>11010302</td><td>Pass     </td><td> 2.63</td><td>VALID      </td><td>No expression</td><td>1.35831925</td><td>2.9486008</td><td>1.35831925</td></tr>\n",
       "\t<tr><td>06520019C0023R</td><td>06520019C</td><td>11010303</td><td>GO29664</td><td>GO29664-283658-11010303</td><td> 7</td><td>YEARS</td><td> 64</td><td>Cohort 3 (NEUROBLASTOMA)                                         </td><td>NEUROBLASTOMA                                                                                         </td><td>⋯</td><td>1.396</td><td>TRF185864.01</td><td>     303</td><td>PASS     </td><td> 1.75</td><td>VALID      </td><td>No expression</td><td>1.36413710</td><td>0.2986583</td><td>1.36413710</td></tr>\n",
       "\t<tr><td>06520020C0017R</td><td>06520020C</td><td>11010504</td><td>GO29664</td><td>GO29664-283658-11010504</td><td>15</td><td>YEARS</td><td> 22</td><td>Cohort 5 (NON-RHABDOMYOSARCOMA SOFT TISSUE SARCOMA)              </td><td>NON-RHABDOMYOSARCOMA SOFT TISSUE SARCOMA - DESMOPLASTIC SMALL ROUND CELL TUMOR                        </td><td>⋯</td><td>0.306</td><td>TRF185865.01</td><td>     504</td><td>PASS     </td><td> 1.75</td><td>VALID      </td><td>No expression</td><td>0.17980237</td><td>0.4436067</td><td>0.17980237</td></tr>\n",
       "\t<tr><td>06520022C0017R</td><td>06520022C</td><td>11010105</td><td>GO29664</td><td>GO29664-281049-11010105</td><td>16</td><td>YEARS</td><td> 22</td><td>Cohort 1 (EWING SARCOMA)                                         </td><td>EWING SARCOMA                                                                                         </td><td>⋯</td><td>1.762</td><td>TRF400308.01</td><td>11010105</td><td>Pass     </td><td> 2.63</td><td>VALID      </td><td>NA           </td><td>1.54469312</td><td>1.0840643</td><td>1.54469312</td></tr>\n",
       "\t<tr><td>06520023C0018R</td><td>06520023C</td><td>11010305</td><td>GO29664</td><td>GO29664-282359-11010305</td><td> 2</td><td>YEARS</td><td> 64</td><td>Cohort 3 (NEUROBLASTOMA)                                         </td><td>NEUROBLASTOMA                                                                                         </td><td>⋯</td><td>   NA</td><td>TRF185866.01</td><td>     305</td><td>PASS     </td><td> 2.63</td><td>VALID      </td><td>No expression</td><td>2.56100566</td><td>0.9259994</td><td>2.56100566</td></tr>\n",
       "\t<tr><td>06520025B0023R</td><td>06520025B</td><td>11010505</td><td>GO29664</td><td>GO29664-282738-11010505</td><td>19</td><td>YEARS</td><td> 44</td><td>Cohort 5 (NON-RHABDOMYOSARCOMA SOFT TISSUE SARCOMA)              </td><td>NON-RHABDOMYOSARCOMA SOFT TISSUE SARCOMA - OTHER                                                      </td><td>⋯</td><td>   NA</td><td>NA          </td><td>      NA</td><td>NA       </td><td>   NA</td><td>NA         </td><td>NA           </td><td>0.56736131</td><td>0.9335726</td><td>0.56736131</td></tr>\n",
       "\t<tr><td>06520026C0014R</td><td>06520026C</td><td>11011003</td><td>GO29664</td><td>GO29664-283504-11011003</td><td>12</td><td>YEARS</td><td> 43</td><td>Cohort 10 (OTHER TUMOR TYPES WITHOUT DOCUMENTED PD-L1 EXPRESSION)</td><td>RENAL CELL CARCINOMA WITHOUT DOCUMENTED PD-L1 EXPRESSION                                              </td><td>⋯</td><td>0.100</td><td>TRF185868.01</td><td>    1003</td><td>PASS     </td><td> 1.75</td><td>VALID      </td><td>No expression</td><td>1.08374089</td><td>0.3334237</td><td>1.08374089</td></tr>\n",
       "\t<tr><td>06520027C0022R</td><td>06520027C</td><td>11010704</td><td>GO29664</td><td>GO29664-281702-11010704</td><td>25</td><td>YEARS</td><td> 25</td><td>Cohort 7 (RHABDOMYOSARCOMA )                                     </td><td>RHABDOMYOSARCOMA - ALVEOLAR                                                                           </td><td>⋯</td><td>   NA</td><td>NA          </td><td>      NA</td><td>NA       </td><td>   NA</td><td>NA         </td><td>No expression</td><td>0.41412748</td><td>2.7886857</td><td>0.41412748</td></tr>\n",
       "\t<tr><td>06520029C0018R</td><td>06520029C</td><td>11010111</td><td>GO29664</td><td>GO29664-283593-11010111</td><td>14</td><td>YEARS</td><td>127</td><td>Cohort 1 (EWING SARCOMA)                                         </td><td>EWING SARCOMA                                                                                         </td><td>⋯</td><td>   NA</td><td>TRF185870.01</td><td>     111</td><td>PASS     </td><td> 7.02</td><td>VALID      </td><td>No expression</td><td>0.08442383</td><td>0.8953026</td><td>0.08442383</td></tr>\n",
       "\t<tr><td>06520030C0018R</td><td>06520030C</td><td>11010507</td><td>GO29664</td><td>GO29664-283971-11010507</td><td>20</td><td>YEARS</td><td> 21</td><td>Cohort 5 (NON-RHABDOMYOSARCOMA SOFT TISSUE SARCOMA)              </td><td>NON-RHABDOMYOSARCOMA SOFT TISSUE SARCOMA - SYNOVIAL SARCOMA                                           </td><td>⋯</td><td>0.125</td><td>TRF185871.01</td><td>     507</td><td>PASS     </td><td> 7.90</td><td>VALID      </td><td>No expression</td><td>0.11385217</td><td>0.9486008</td><td>0.11385217</td></tr>\n",
       "\t<tr><td>06520031C0018R</td><td>06520031C</td><td>11010606</td><td>GO29664</td><td>GO29664-283497-11010606</td><td>13</td><td>YEARS</td><td> 23</td><td>Cohort 6 (OSTEOSARCOMA)                                          </td><td>OSTEOSARCOMA                                                                                          </td><td>⋯</td><td>   NA</td><td>TRF185872.01</td><td>     606</td><td>PASS     </td><td> 5.26</td><td>VALID      </td><td>No expression</td><td>0.03816040</td><td>1.7865964</td><td>0.03816040</td></tr>\n",
       "\t<tr><td>06520033C0018R</td><td>06520033C</td><td>11010203</td><td>GO29664</td><td>GO29664-283658-11010203</td><td>17</td><td>YEARS</td><td> 63</td><td>Cohort 2 (HODGKIN LYMPHOMA)                                      </td><td>HODGKIN LYMPHOMA                                                                                      </td><td>⋯</td><td>2.287</td><td>TRF185873.01</td><td>     203</td><td>QUALIFIED</td><td> 4.39</td><td>LOWER_BOUND</td><td>High         </td><td>4.52740939</td><td>0.3895668</td><td>4.52740939</td></tr>\n",
       "\t<tr><td>06520035C0021R</td><td>06520035C</td><td>11011005</td><td>GO29664</td><td>GO29664-282359-11011005</td><td>11</td><td>YEARS</td><td>204</td><td>Cohort 10 (OTHER TUMOR TYPES WITHOUT DOCUMENTED PD-L1 EXPRESSION)</td><td>GERM CELL TUMOR - OTHER WITHOUT DOCUMENTED PD-L1 EXPRESSION                                           </td><td>⋯</td><td>1.307</td><td>NA          </td><td>      NA</td><td>NA       </td><td>   NA</td><td>NA         </td><td>No expression</td><td>0.82568581</td><td>2.2172307</td><td>0.82568581</td></tr>\n",
       "\t<tr><td>06520037C0013R</td><td>06520037C</td><td>11010502</td><td>GO29664</td><td>GO29664-283495-11010502</td><td>12</td><td>YEARS</td><td> 22</td><td>Cohort 5 (NON-RHABDOMYOSARCOMA SOFT TISSUE SARCOMA)              </td><td>NON-RHABDOMYOSARCOMA SOFT TISSUE SARCOMA - OTHER                                                      </td><td>⋯</td><td>   NA</td><td>TRF185874.01</td><td>     502</td><td>PASS     </td><td> 1.75</td><td>VALID      </td><td>No expression</td><td>1.78261023</td><td>0.2509616</td><td>1.78261023</td></tr>\n",
       "\t<tr><td>06520038B0023R</td><td>06520038B</td><td>11010308</td><td>GO29664</td><td>GO29664-283659-11010308</td><td>22</td><td>YEARS</td><td>149</td><td>Cohort 3 (NEUROBLASTOMA)                                         </td><td>NEUROBLASTOMA                                                                                         </td><td>⋯</td><td>0.000</td><td>TRF185875.01</td><td>     308</td><td>PASS     </td><td> 9.65</td><td>VALID      </td><td>No expression</td><td>0.16531749</td><td>2.0179219</td><td>0.16531749</td></tr>\n",
       "\t<tr><td>06520042B0023R</td><td>06520042B</td><td>11010703</td><td>GO29664</td><td>GO29664-283551-11010703</td><td> 4</td><td>YEARS</td><td> 22</td><td>Cohort 7 (RHABDOMYOSARCOMA )                                     </td><td>RHABDOMYOSARCOMA - EMBRYONAL                                                                          </td><td>⋯</td><td>1.875</td><td>TRF185877.01</td><td>     703</td><td>PASS     </td><td> 7.90</td><td>VALID      </td><td>No expression</td><td>0.18993980</td><td>5.7023805</td><td>0.18993980</td></tr>\n",
       "\t<tr><td>06520043B0022R</td><td>06520043B</td><td>11010803</td><td>GO29664</td><td>GO29664-282738-11010803</td><td>12</td><td>YEARS</td><td> 57</td><td>Cohort 8 (WILMS TUMOR)                                           </td><td>WILMS TUMOR                                                                                           </td><td>⋯</td><td>   NA</td><td>NA          </td><td>      NA</td><td>NA       </td><td>   NA</td><td>NA         </td><td>No expression</td><td>2.11369427</td><td>0.2868811</td><td>2.11369427</td></tr>\n",
       "\t<tr><td>06520045C0027R</td><td>06520045C</td><td>11010309</td><td>GO29664</td><td>GO29664-283747-11010309</td><td>14</td><td>YEARS</td><td>263</td><td>Cohort 3 (NEUROBLASTOMA)                                         </td><td>NEUROBLASTOMA                                                                                         </td><td>⋯</td><td>0.413</td><td>TRF400313.01</td><td>11010309</td><td>Pass     </td><td>18.43</td><td>VALID      </td><td>NA           </td><td>1.18061649</td><td>1.3617684</td><td>1.18061649</td></tr>\n",
       "\t<tr><td>06520046C0018R</td><td>06520046C</td><td>11010310</td><td>GO29664</td><td>GO29664-283495-11010310</td><td>27</td><td>YEARS</td><td> 22</td><td>Cohort 3 (NEUROBLASTOMA)                                         </td><td>NEUROBLASTOMA                                                                                         </td><td>⋯</td><td>0.336</td><td>TRF185879.01</td><td>     310</td><td>PASS     </td><td> 2.63</td><td>VALID      </td><td>No expression</td><td>0.92136523</td><td>0.4329594</td><td>0.92136523</td></tr>\n",
       "\t<tr><td>⋮</td><td>⋮</td><td>⋮</td><td>⋮</td><td>⋮</td><td>⋮</td><td>⋮</td><td>⋮</td><td>⋮</td><td>⋮</td><td>⋱</td><td>⋮</td><td>⋮</td><td>⋮</td><td>⋮</td><td>⋮</td><td>⋮</td><td>⋮</td><td>⋮</td><td>⋮</td><td>⋮</td></tr>\n",
       "\t<tr><td>06520058C0045R</td><td>06520058C</td><td>11010706</td><td>GO29664</td><td>GO29664-284024-11010706</td><td>18</td><td>YEARS</td><td> 43</td><td>Cohort 7 (RHABDOMYOSARCOMA )                                     </td><td>RHABDOMYOSARCOMA - ALVEOLAR                                                                                                              </td><td>⋯</td><td> 0.924</td><td>TRF185886.01</td><td>     706</td><td>PASS     </td><td>0.88</td><td>VALID               </td><td>No expression</td><td>1.8649845</td><td>5.11061381</td><td>1.8649845</td></tr>\n",
       "\t<tr><td>06520059B0023R</td><td>06520059B</td><td>11010108</td><td>GO29664</td><td>GO29664-283552-11010108</td><td>15</td><td>YEARS</td><td>337</td><td>Cohort 1 (EWING SARCOMA)                                         </td><td>EWING SARCOMA                                                                                                                            </td><td>⋯</td><td> 0.201</td><td>TRF185887.01</td><td>     108</td><td>QUALIFIED</td><td>4.39</td><td>VALID               </td><td>No expression</td><td>1.1118785</td><td>1.02147973</td><td>1.1118785</td></tr>\n",
       "\t<tr><td>06520060B0022R</td><td>06520060B</td><td>11010401</td><td>GO29664</td><td>GO29664-283583-11010401</td><td>13</td><td>YEARS</td><td> 22</td><td>Cohort 4 (NON HODGKIN LYMPHOMA)                                  </td><td>NON HODGKIN LYMPHOMA - OTHER                                                                                                             </td><td>⋯</td><td> 4.594</td><td>TRF185888.01</td><td>     401</td><td>QUALIFIED</td><td>1.75</td><td>LOWER_BOUND         </td><td>High         </td><td>3.6516791</td><td>0.23878686</td><td>3.6516791</td></tr>\n",
       "\t<tr><td>06520062C0017R</td><td>06520062C</td><td>11010609</td><td>GO29664</td><td>GO29664-283497-11010609</td><td>19</td><td>YEARS</td><td> 80</td><td>Cohort 6 (OSTEOSARCOMA)                                          </td><td>OSTEOSARCOMA                                                                                                                             </td><td>⋯</td><td> 0.213</td><td>TRF185889.01</td><td>     609</td><td>QUALIFIED</td><td>  NA</td><td>CANNOT_BE_DETERMINED</td><td>No expression</td><td>0.2651452</td><td>0.46466827</td><td>0.2651452</td></tr>\n",
       "\t<tr><td>06520067C0018R</td><td>06520067C</td><td>11010102</td><td>GO29664</td><td>GO29664-282087-11010102</td><td>19</td><td>YEARS</td><td> 22</td><td>Cohort 1 (EWING SARCOMA)                                         </td><td>EWING SARCOMA                                                                                                                            </td><td>⋯</td><td> 0.230</td><td>TRF185892.01</td><td>     102</td><td>PASS     </td><td>0.00</td><td>VALID               </td><td>No expression</td><td>0.1509749</td><td>0.16349873</td><td>0.1509749</td></tr>\n",
       "\t<tr><td>06520068B0023R</td><td>06520068B</td><td>11010709</td><td>GO29664</td><td>GO29664-283593-11010709</td><td>15</td><td>YEARS</td><td>  1</td><td>Cohort 7 (RHABDOMYOSARCOMA )                                     </td><td>RHABDOMYOSARCOMA - ALVEOLAR                                                                                                              </td><td>⋯</td><td> 0.189</td><td>TRF185893.01</td><td>     709</td><td>QUALIFIED</td><td>3.51</td><td>VALID               </td><td>No expression</td><td>0.4034793</td><td>6.99548452</td><td>0.4034793</td></tr>\n",
       "\t<tr><td>06520069C0017R</td><td>06520069C</td><td>11011001</td><td>GO29664</td><td>GO29664-281702-11011001</td><td>11</td><td>YEARS</td><td> 64</td><td>Cohort 10 (OTHER TUMOR TYPES WITHOUT DOCUMENTED PD-L1 EXPRESSION)</td><td>OTHER TUMOR TYPES WITHOUT DOCUMENTED PD-L1 EXPRESSION (TUMORS TYPE MUST NOT BE INCLUDED IN LIST ABOVE)                                   </td><td>⋯</td><td>    NA</td><td>TRF185894.01</td><td>    1001</td><td>PASS     </td><td>2.63</td><td>VALID               </td><td>No expression</td><td>0.6370391</td><td>0.53605290</td><td>0.6370391</td></tr>\n",
       "\t<tr><td>06520070C0018R</td><td>06520070C</td><td>11010306</td><td>GO29664</td><td>GO29664-282087-11010306</td><td> 4</td><td>YEARS</td><td> 22</td><td>Cohort 3 (NEUROBLASTOMA)                                         </td><td>NEUROBLASTOMA                                                                                                                            </td><td>⋯</td><td> 0.048</td><td>TRF185895.01</td><td>     306</td><td>PASS     </td><td>0.88</td><td>VALID               </td><td>No expression</td><td>0.9699725</td><td>1.22650853</td><td>0.9699725</td></tr>\n",
       "\t<tr><td>06520071C0020R</td><td>06520071C</td><td>11010307</td><td>GO29664</td><td>GO29664-282087-11010307</td><td> 5</td><td>YEARS</td><td> 22</td><td>Cohort 3 (NEUROBLASTOMA)                                         </td><td>NEUROBLASTOMA                                                                                                                            </td><td>⋯</td><td> 0.350</td><td>TRF185896.01</td><td>     307</td><td>PASS     </td><td>2.63</td><td>VALID               </td><td>No expression</td><td>1.5171075</td><td>0.92599942</td><td>1.5171075</td></tr>\n",
       "\t<tr><td>06520072C0017R</td><td>06520072C</td><td>11010508</td><td>GO29664</td><td>GO29664-283497-11010508</td><td> 4</td><td>YEARS</td><td> 64</td><td>Cohort 5 (NON-RHABDOMYOSARCOMA SOFT TISSUE SARCOMA)              </td><td>NON-RHABDOMYOSARCOMA SOFT TISSUE SARCOMA - OTHER                                                                                         </td><td>⋯</td><td> 1.055</td><td>TRF185897.01</td><td>     508</td><td>QUALIFIED</td><td>4.39</td><td>LOWER_BOUND         </td><td>High         </td><td>2.4318386</td><td>1.07038933</td><td>2.4318386</td></tr>\n",
       "\t<tr><td>06520075C0017R</td><td>06520075C</td><td>11010509</td><td>GO29664</td><td>GO29664-282702-11010509</td><td>17</td><td>YEARS</td><td> 22</td><td>Cohort 5 (NON-RHABDOMYOSARCOMA SOFT TISSUE SARCOMA)              </td><td>NON-RHABDOMYOSARCOMA SOFT TISSUE SARCOMA - CLEAR CELL SARCOMA                                                                            </td><td>⋯</td><td>    NA</td><td>TRF185898.01</td><td>     509</td><td>PASS     </td><td>4.39</td><td>VALID               </td><td>No expression</td><td>0.9068105</td><td>0.78240856</td><td>0.9068105</td></tr>\n",
       "\t<tr><td>06520078C0028R</td><td>06520078C</td><td>11010902</td><td>GO29664</td><td>GO29664-283747-11010902</td><td>14</td><td>YEARS</td><td> 25</td><td>Cohort 9 (OTHER TUMOR TYPES WITH DOCUMENTED PD-L1 EXPRESSION)    </td><td>OTHER TUMOR TYPES WITH DOCUMENTED PD-L1 EXPRESSION ON EITHER TUMOR CELLS OR IMMUNE CELLS (TUMORS TYPE MUST NOT BE INCLUDED IN LIST ABOVE)</td><td>⋯</td><td> 4.943</td><td>TRF185899.01</td><td>     902</td><td>QUALIFIED</td><td>2.63</td><td>LOWER_BOUND         </td><td>No expression</td><td>4.0675330</td><td>0.62293035</td><td>4.0675330</td></tr>\n",
       "\t<tr><td>06520079B0021R</td><td>06520079B</td><td>11010612</td><td>GO29664</td><td>GO29664-283694-11010612</td><td>14</td><td>YEARS</td><td> 77</td><td>Cohort 6 (OSTEOSARCOMA)                                          </td><td>OSTEOSARCOMA                                                                                                                             </td><td>⋯</td><td>    NA</td><td>NA          </td><td>      NA</td><td>NA       </td><td>  NA</td><td>NA                  </td><td>No expression</td><td>2.2949059</td><td>0.85598970</td><td>2.2949059</td></tr>\n",
       "\t<tr><td>06520080B0023R</td><td>06520080B</td><td>11010611</td><td>GO29664</td><td>GO29664-283662-11010611</td><td>12</td><td>YEARS</td><td>  1</td><td>Cohort 6 (OSTEOSARCOMA)                                          </td><td>OSTEOSARCOMA                                                                                                                             </td><td>⋯</td><td> 0.276</td><td>TRF185901.01</td><td>     611</td><td>PASS     </td><td>7.02</td><td>VALID               </td><td>No expression</td><td>0.1649279</td><td>0.33342373</td><td>0.1649279</td></tr>\n",
       "\t<tr><td>06520082C0018R</td><td>06520082C</td><td>11010806</td><td>GO29664</td><td>GO29664-280960-11010806</td><td> 5</td><td>YEARS</td><td>  1</td><td>Cohort 8 (WILMS TUMOR)                                           </td><td>WILMS TUMOR                                                                                                                              </td><td>⋯</td><td> 0.157</td><td>TRF185902.01</td><td>     806</td><td>PASS     </td><td>4.39</td><td>VALID               </td><td>No expression</td><td>0.3734215</td><td>1.59454855</td><td>0.3734215</td></tr>\n",
       "\t<tr><td>06520090C0018R</td><td>06520090C</td><td>11010205</td><td>GO29664</td><td>GO29664-283657-11010205</td><td>11</td><td>YEARS</td><td>876</td><td>Cohort 2 (HODGKIN LYMPHOMA)                                      </td><td>HODGKIN LYMPHOMA                                                                                                                         </td><td>⋯</td><td> 3.563</td><td>TRF185903.01</td><td>     205</td><td>QUALIFIED</td><td>2.63</td><td>LOWER_BOUND         </td><td>High         </td><td>4.3307161</td><td>0.41142625</td><td>4.3307161</td></tr>\n",
       "\t<tr><td>06520091B0017R</td><td>06520091B</td><td>11010807</td><td>GO29664</td><td>GO29664-282738-11010807</td><td>28</td><td>YEARS</td><td> 64</td><td>Cohort 8 (WILMS TUMOR)                                           </td><td>WILMS TUMOR                                                                                                                              </td><td>⋯</td><td> 1.800</td><td>TRF400319.01</td><td>11010807</td><td>Pass     </td><td>0.00</td><td>VALID               </td><td>No expression</td><td>0.4919712</td><td>0.53605290</td><td>0.4919712</td></tr>\n",
       "\t<tr><td>06520092C0017R</td><td>06520092C</td><td>11010901</td><td>GO29664</td><td>GO29664-280959-11010901</td><td>14</td><td>YEARS</td><td> 63</td><td>Cohort 9 (OTHER TUMOR TYPES WITH DOCUMENTED PD-L1 EXPRESSION)    </td><td>OTHER TUMOR TYPES WITH DOCUMENTED PD-L1 EXPRESSION ON EITHER TUMOR CELLS OR IMMUNE CELLS (TUMORS TYPE MUST NOT BE INCLUDED IN LIST ABOVE)</td><td>⋯</td><td>    NA</td><td>NA          </td><td>      NA</td><td>NA       </td><td>  NA</td><td>NA                  </td><td>No expression</td><td>1.3289751</td><td>0.51601515</td><td>1.3289751</td></tr>\n",
       "\t<tr><td>06520093C0017R</td><td>06520093C</td><td>11010206</td><td>GO29664</td><td>GO29664-283495-11010206</td><td>12</td><td>YEARS</td><td>142</td><td>Cohort 2 (HODGKIN LYMPHOMA)                                      </td><td>HODGKIN LYMPHOMA                                                                                                                         </td><td>⋯</td><td>11.434</td><td>NA          </td><td>      NA</td><td>NA       </td><td>  NA</td><td>NA                  </td><td>High         </td><td>5.4061806</td><td>0.45417589</td><td>5.4061806</td></tr>\n",
       "\t<tr><td>06520094C0016R</td><td>06520094C</td><td>11010402</td><td>GO29664</td><td>GO29664-281702-11010402</td><td>26</td><td>YEARS</td><td>509</td><td>Cohort 4 (NON HODGKIN LYMPHOMA)                                  </td><td>NON HODGKIN LYMPHOMA - OTHER                                                                                                             </td><td>⋯</td><td> 5.139</td><td>TRF400314.01</td><td>11010402</td><td>Qualified</td><td>0.00</td><td>LOWER_BOUND         </td><td>High         </td><td>4.0869525</td><td>0.27500705</td><td>4.0869525</td></tr>\n",
       "\t<tr><td>06520095B0017R</td><td>06520095B</td><td>11010810</td><td>GO29664</td><td>GO29664-282738-11010810</td><td>17</td><td>YEARS</td><td>176</td><td>Cohort 8 (WILMS TUMOR)                                           </td><td>WILMS TUMOR                                                                                                                              </td><td>⋯</td><td> 1.625</td><td>TRF400322.01</td><td>11010810</td><td>Pass     </td><td>0.88</td><td>VALID               </td><td>No expression</td><td>0.7298162</td><td>2.17951105</td><td>0.7298162</td></tr>\n",
       "\t<tr><td>06520097B0021R</td><td>06520097B</td><td>11010403</td><td>GO29664</td><td>GO29664-282738-11010403</td><td>18</td><td>YEARS</td><td> 24</td><td>Cohort 4 (NON HODGKIN LYMPHOMA)                                  </td><td>NON HODGKIN LYMPHOMA - OTHER                                                                                                             </td><td>⋯</td><td> 0.431</td><td>TRF400315.01</td><td>11010403</td><td>Pass     </td><td>7.90</td><td>VALID               </td><td>No expression</td><td>2.2669487</td><td>0.02856915</td><td>2.2669487</td></tr>\n",
       "\t<tr><td>06520099B0017R</td><td>06520099B</td><td>11010208</td><td>GO29664</td><td>GO29664-283971-11010208</td><td>14</td><td>YEARS</td><td>109</td><td>Cohort 2 (HODGKIN LYMPHOMA)                                      </td><td>HODGKIN LYMPHOMA                                                                                                                         </td><td>⋯</td><td> 1.557</td><td>NA          </td><td>      NA</td><td>NA       </td><td>  NA</td><td>NA                  </td><td>High         </td><td>5.3403622</td><td>0.37851162</td><td>5.3403622</td></tr>\n",
       "\t<tr><td>06520100B0017R</td><td>06520100B</td><td>11010209</td><td>GO29664</td><td>GO29664-282703-11010209</td><td>17</td><td>YEARS</td><td> 24</td><td>Cohort 2 (HODGKIN LYMPHOMA)                                      </td><td>HODGKIN LYMPHOMA                                                                                                                         </td><td>⋯</td><td> 5.117</td><td>TRF400311.01</td><td>11010209</td><td>Qualified</td><td>0.00</td><td>LOWER_BOUND         </td><td>High         </td><td>3.2737386</td><td>0.66902677</td><td>3.2737386</td></tr>\n",
       "\t<tr><td>06520103C0017R</td><td>06520103C</td><td>11010903</td><td>GO29664</td><td>GO29664-282087-11010903</td><td>16</td><td>YEARS</td><td>  1</td><td>Cohort 9 (OTHER TUMOR TYPES WITH DOCUMENTED PD-L1 EXPRESSION)    </td><td>GERM CELL TUMOR - YOLK SAC TUMOR (ENDODERMAL SINUS TUMOR) WITH DOCUMENTED PD-L1 EXPRESSION                                               </td><td>⋯</td><td> 5.079</td><td>TRF400323.01</td><td>11010903</td><td>Pass     </td><td>1.75</td><td>VALID               </td><td>No expression</td><td>2.3460847</td><td>0.38956681</td><td>2.3460847</td></tr>\n",
       "\t<tr><td>06520104C0017R</td><td>06520104C</td><td>11010904</td><td>GO29664</td><td>GO29664-284024-11010904</td><td>15</td><td>YEARS</td><td>107</td><td>Cohort 9 (OTHER TUMOR TYPES WITH DOCUMENTED PD-L1 EXPRESSION)    </td><td>OTHER TUMOR TYPES WITH DOCUMENTED PD-L1 EXPRESSION ON EITHER TUMOR CELLS OR IMMUNE CELLS (TUMORS TYPE MUST NOT BE INCLUDED IN LIST ABOVE)</td><td>⋯</td><td>    NA</td><td>TRF400324.01</td><td>11010904</td><td>Pass     </td><td>4.39</td><td>VALID               </td><td>Low          </td><td>4.3566979</td><td>0.26303441</td><td>4.3566979</td></tr>\n",
       "\t<tr><td>06520105C0017R</td><td>06520105C</td><td>11011201</td><td>GO29664</td><td>GO29664-283694-11011201</td><td>10</td><td>YEARS</td><td> 65</td><td>Cohort 12 (ATYPICAL TERATOID RHABDOID TUMOR)                     </td><td>ATYPICAL TERATOID RHABDOID TUMOR                                                                                                         </td><td>⋯</td><td> 0.346</td><td>TRF400326.01</td><td>11011201</td><td>Pass     </td><td>2.63</td><td>VALID               </td><td>No expression</td><td>0.7259099</td><td>1.73552218</td><td>0.7259099</td></tr>\n",
       "\t<tr><td>06520106C0017R</td><td>06520106C</td><td>11010809</td><td>GO29664</td><td>GO29664-283497-11010809</td><td>13</td><td>YEARS</td><td> 22</td><td>Cohort 8 (WILMS TUMOR)                                           </td><td>WILMS TUMOR                                                                                                                              </td><td>⋯</td><td> 0.762</td><td>TRF400321.01</td><td>11010809</td><td>Pass     </td><td>7.90</td><td>VALID               </td><td>No expression</td><td>0.4494325</td><td>0.56559718</td><td>0.4494325</td></tr>\n",
       "\t<tr><td>06520107C0017R</td><td>06520107C</td><td>11011202</td><td>GO29664</td><td>GO29664-283504-11011202</td><td> 2</td><td>YEARS</td><td> 22</td><td>Cohort 12 (ATYPICAL TERATOID RHABDOID TUMOR)                     </td><td>ATYPICAL TERATOID RHABDOID TUMOR                                                                                                         </td><td>⋯</td><td>    NA</td><td>NA          </td><td>      NA</td><td>NA       </td><td>  NA</td><td>NA                  </td><td>No expression</td><td>1.5967932</td><td>2.09085343</td><td>1.5967932</td></tr>\n",
       "\t<tr><td>06520110C0016R</td><td>06520110C</td><td>11011203</td><td>GO29664</td><td>GO29664-283497-11011203</td><td>10</td><td>YEARS</td><td> 22</td><td>Cohort 12 (ATYPICAL TERATOID RHABDOID TUMOR)                     </td><td>ATYPICAL TERATOID RHABDOID TUMOR                                                                                                         </td><td>⋯</td><td> 0.339</td><td>TRF400327.01</td><td>11011203</td><td>Pass     </td><td>2.63</td><td>VALID               </td><td>No expression</td><td>1.6206675</td><td>1.22650853</td><td>1.6206675</td></tr>\n",
       "</tbody>\n",
       "</table>\n"
      ],
      "text/latex": [
       "A data.frame: 66 × 80\n",
       "\\begin{tabular}{lllllllllllllllllllll}\n",
       " sample\\_id & SAMPLE.ID & Patient.ID.x & STUDYID & USUBJID & AGE & AGEU & TRTDUR & COHORT & TTYPE & ⋯ & SE\\_Simpson & ALIQUOT & SUBJECT.ID & QC\\_Status & TMB\\_Score & TMB\\_Confidence & PDL1 & TH\\_13 & TH\\_26 & TH\\_27\\\\\n",
       " <chr> & <chr> & <int> & <chr> & <chr> & <int> & <chr> & <int> & <chr> & <chr> & ⋯ & <dbl> & <chr> & <int> & <chr> & <dbl> & <chr> & <chr> & <dbl> & <dbl> & <dbl>\\\\\n",
       "\\hline\n",
       "\t 06520001B0023R & 06520001B & 11010601 & GO29664 & GO29664-283971-11010601 & 19 & YEARS &   1 & Cohort 6 (OSTEOSARCOMA)                                           & OSTEOSARCOMA                                                                                           & ⋯ & 2.101 & TRF185855.01 &      601 & PASS      &  1.75 & VALID       & No expression & 0.80347424 & 1.5704629 & 0.80347424\\\\\n",
       "\t 06520003C0012R & 06520003C & 11010202 & GO29664 & GO29664-283658-11010202 & 17 & YEARS & 108 & Cohort 2 (HODGKIN LYMPHOMA)                                       & HODGKIN LYMPHOMA                                                                                       & ⋯ &    NA & NA           &       NA & NA        &    NA & NA          & High          & 4.92750577 & 0.1375035 & 4.92750577\\\\\n",
       "\t 06520004C0018R & 06520004C & 11010201 & GO29664 & GO29664-283658-11010201 & 17 & YEARS & 652 & Cohort 2 (HODGKIN LYMPHOMA)                                       & HODGKIN LYMPHOMA                                                                                       & ⋯ & 0.791 & TRF185857.01 &      201 & QUALIFIED &  2.63 & LOWER\\_BOUND & High          & 4.09129934 & 0.2265085 & 4.09129934\\\\\n",
       "\t 06520005C0017R & 06520005C & 11010701 & GO29664 & GO29664-283971-11010701 & 11 & YEARS &  22 & Cohort 7 (RHABDOMYOSARCOMA )                                      & RHABDOMYOSARCOMA - ALVEOLAR                                                                            & ⋯ & 0.427 & TRF185858.01 &      701 & QUALIFIED &  8.77 & VALID       & No expression & 0.08551532 & 4.4409522 & 0.08551532\\\\\n",
       "\t 06520006C0016R & 06520006C & 11010702 & GO29664 & GO29664-283504-11010702 &  5 & YEARS &  23 & Cohort 7 (RHABDOMYOSARCOMA )                                      & RHABDOMYOSARCOMA - UNKNOWN                                                                             & ⋯ &    NA & NA           &       NA & NA        &    NA & NA          & No expression & 0.55319589 & 6.4929748 & 0.55319589\\\\\n",
       "\t 06520007C0018R & 06520007C & 11010604 & GO29664 & GO29664-283971-11010604 & 22 & YEARS &  65 & Cohort 6 (OSTEOSARCOMA)                                           & OSTEOSARCOMA                                                                                           & ⋯ & 0.572 & TRF185859.01 &      604 & PASS      &  3.51 & VALID       & No expression & 1.91882684 & 0.5160151 & 1.91882684\\\\\n",
       "\t 06520008C0017R & 06520008C & 11010602 & GO29664 & GO29664-280959-11010602 & 18 & YEARS &  22 & Cohort 6 (OSTEOSARCOMA)                                           & OSTEOSARCOMA                                                                                           & ⋯ &    NA & NA           &       NA & NA        &    NA & NA          & NA            & 0.03585165 & 0.5058909 & 0.03585165\\\\\n",
       "\t 06520010B0023R & 06520010B & 11011002 & GO29664 & GO29664-281049-11011002 & 11 & YEARS &  20 & Cohort 10 (OTHER TUMOR TYPES WITHOUT DOCUMENTED PD-L1 EXPRESSION) & OTHER TUMOR TYPES WITHOUT DOCUMENTED PD-L1 EXPRESSION (TUMORS TYPE MUST NOT BE INCLUDED IN LIST ABOVE) & ⋯ & 0.451 & TRF185860.01 &     1002 & PASS      &  2.63 & VALID       & No expression & 0.62754254 & 0.3448285 & 0.62754254\\\\\n",
       "\t 06520011B0023R & 06520011B & 11010103 & GO29664 & GO29664-283495-11010103 & 13 & YEARS &   1 & Cohort 1 (EWING SARCOMA)                                          & EWING SARCOMA                                                                                          & ⋯ & 0.316 & TRF185861.01 &      103 & PASS      &  0.88 & VALID       & No expression & 0.22529481 & 0.6322682 & 0.22529481\\\\\n",
       "\t 06520015C0016R & 06520015C & 11010104 & GO29664 & GO29664-282359-11010104 & 15 & YEARS &  22 & Cohort 1 (EWING SARCOMA)                                          & EWING SARCOMA                                                                                          & ⋯ &    NA & NA           &       NA & NA        &    NA & NA          & No expression & 1.60326407 & 3.9927684 & 1.60326407\\\\\n",
       "\t 06520017C0018R & 06520017C & 11010503 & GO29664 & GO29664-282359-11010503 & 16 & YEARS &  64 & Cohort 5 (NON-RHABDOMYOSARCOMA SOFT TISSUE SARCOMA)               & NON-RHABDOMYOSARCOMA SOFT TISSUE SARCOMA - SYNOVIAL SARCOMA                                            & ⋯ & 0.155 & TRF185863.01 &      503 & PASS      &  2.63 & VALID       & No expression & 0.06012587 & 1.2986583 & 0.06012587\\\\\n",
       "\t 06520018C0017R & 06520018C & 11010302 & GO29664 & GO29664-281049-11010302 & 11 & YEARS &  64 & Cohort 3 (NEUROBLASTOMA)                                          & NEUROBLASTOMA                                                                                          & ⋯ &    NA & TRF400312.01 & 11010302 & Pass      &  2.63 & VALID       & No expression & 1.35831925 & 2.9486008 & 1.35831925\\\\\n",
       "\t 06520019C0023R & 06520019C & 11010303 & GO29664 & GO29664-283658-11010303 &  7 & YEARS &  64 & Cohort 3 (NEUROBLASTOMA)                                          & NEUROBLASTOMA                                                                                          & ⋯ & 1.396 & TRF185864.01 &      303 & PASS      &  1.75 & VALID       & No expression & 1.36413710 & 0.2986583 & 1.36413710\\\\\n",
       "\t 06520020C0017R & 06520020C & 11010504 & GO29664 & GO29664-283658-11010504 & 15 & YEARS &  22 & Cohort 5 (NON-RHABDOMYOSARCOMA SOFT TISSUE SARCOMA)               & NON-RHABDOMYOSARCOMA SOFT TISSUE SARCOMA - DESMOPLASTIC SMALL ROUND CELL TUMOR                         & ⋯ & 0.306 & TRF185865.01 &      504 & PASS      &  1.75 & VALID       & No expression & 0.17980237 & 0.4436067 & 0.17980237\\\\\n",
       "\t 06520022C0017R & 06520022C & 11010105 & GO29664 & GO29664-281049-11010105 & 16 & YEARS &  22 & Cohort 1 (EWING SARCOMA)                                          & EWING SARCOMA                                                                                          & ⋯ & 1.762 & TRF400308.01 & 11010105 & Pass      &  2.63 & VALID       & NA            & 1.54469312 & 1.0840643 & 1.54469312\\\\\n",
       "\t 06520023C0018R & 06520023C & 11010305 & GO29664 & GO29664-282359-11010305 &  2 & YEARS &  64 & Cohort 3 (NEUROBLASTOMA)                                          & NEUROBLASTOMA                                                                                          & ⋯ &    NA & TRF185866.01 &      305 & PASS      &  2.63 & VALID       & No expression & 2.56100566 & 0.9259994 & 2.56100566\\\\\n",
       "\t 06520025B0023R & 06520025B & 11010505 & GO29664 & GO29664-282738-11010505 & 19 & YEARS &  44 & Cohort 5 (NON-RHABDOMYOSARCOMA SOFT TISSUE SARCOMA)               & NON-RHABDOMYOSARCOMA SOFT TISSUE SARCOMA - OTHER                                                       & ⋯ &    NA & NA           &       NA & NA        &    NA & NA          & NA            & 0.56736131 & 0.9335726 & 0.56736131\\\\\n",
       "\t 06520026C0014R & 06520026C & 11011003 & GO29664 & GO29664-283504-11011003 & 12 & YEARS &  43 & Cohort 10 (OTHER TUMOR TYPES WITHOUT DOCUMENTED PD-L1 EXPRESSION) & RENAL CELL CARCINOMA WITHOUT DOCUMENTED PD-L1 EXPRESSION                                               & ⋯ & 0.100 & TRF185868.01 &     1003 & PASS      &  1.75 & VALID       & No expression & 1.08374089 & 0.3334237 & 1.08374089\\\\\n",
       "\t 06520027C0022R & 06520027C & 11010704 & GO29664 & GO29664-281702-11010704 & 25 & YEARS &  25 & Cohort 7 (RHABDOMYOSARCOMA )                                      & RHABDOMYOSARCOMA - ALVEOLAR                                                                            & ⋯ &    NA & NA           &       NA & NA        &    NA & NA          & No expression & 0.41412748 & 2.7886857 & 0.41412748\\\\\n",
       "\t 06520029C0018R & 06520029C & 11010111 & GO29664 & GO29664-283593-11010111 & 14 & YEARS & 127 & Cohort 1 (EWING SARCOMA)                                          & EWING SARCOMA                                                                                          & ⋯ &    NA & TRF185870.01 &      111 & PASS      &  7.02 & VALID       & No expression & 0.08442383 & 0.8953026 & 0.08442383\\\\\n",
       "\t 06520030C0018R & 06520030C & 11010507 & GO29664 & GO29664-283971-11010507 & 20 & YEARS &  21 & Cohort 5 (NON-RHABDOMYOSARCOMA SOFT TISSUE SARCOMA)               & NON-RHABDOMYOSARCOMA SOFT TISSUE SARCOMA - SYNOVIAL SARCOMA                                            & ⋯ & 0.125 & TRF185871.01 &      507 & PASS      &  7.90 & VALID       & No expression & 0.11385217 & 0.9486008 & 0.11385217\\\\\n",
       "\t 06520031C0018R & 06520031C & 11010606 & GO29664 & GO29664-283497-11010606 & 13 & YEARS &  23 & Cohort 6 (OSTEOSARCOMA)                                           & OSTEOSARCOMA                                                                                           & ⋯ &    NA & TRF185872.01 &      606 & PASS      &  5.26 & VALID       & No expression & 0.03816040 & 1.7865964 & 0.03816040\\\\\n",
       "\t 06520033C0018R & 06520033C & 11010203 & GO29664 & GO29664-283658-11010203 & 17 & YEARS &  63 & Cohort 2 (HODGKIN LYMPHOMA)                                       & HODGKIN LYMPHOMA                                                                                       & ⋯ & 2.287 & TRF185873.01 &      203 & QUALIFIED &  4.39 & LOWER\\_BOUND & High          & 4.52740939 & 0.3895668 & 4.52740939\\\\\n",
       "\t 06520035C0021R & 06520035C & 11011005 & GO29664 & GO29664-282359-11011005 & 11 & YEARS & 204 & Cohort 10 (OTHER TUMOR TYPES WITHOUT DOCUMENTED PD-L1 EXPRESSION) & GERM CELL TUMOR - OTHER WITHOUT DOCUMENTED PD-L1 EXPRESSION                                            & ⋯ & 1.307 & NA           &       NA & NA        &    NA & NA          & No expression & 0.82568581 & 2.2172307 & 0.82568581\\\\\n",
       "\t 06520037C0013R & 06520037C & 11010502 & GO29664 & GO29664-283495-11010502 & 12 & YEARS &  22 & Cohort 5 (NON-RHABDOMYOSARCOMA SOFT TISSUE SARCOMA)               & NON-RHABDOMYOSARCOMA SOFT TISSUE SARCOMA - OTHER                                                       & ⋯ &    NA & TRF185874.01 &      502 & PASS      &  1.75 & VALID       & No expression & 1.78261023 & 0.2509616 & 1.78261023\\\\\n",
       "\t 06520038B0023R & 06520038B & 11010308 & GO29664 & GO29664-283659-11010308 & 22 & YEARS & 149 & Cohort 3 (NEUROBLASTOMA)                                          & NEUROBLASTOMA                                                                                          & ⋯ & 0.000 & TRF185875.01 &      308 & PASS      &  9.65 & VALID       & No expression & 0.16531749 & 2.0179219 & 0.16531749\\\\\n",
       "\t 06520042B0023R & 06520042B & 11010703 & GO29664 & GO29664-283551-11010703 &  4 & YEARS &  22 & Cohort 7 (RHABDOMYOSARCOMA )                                      & RHABDOMYOSARCOMA - EMBRYONAL                                                                           & ⋯ & 1.875 & TRF185877.01 &      703 & PASS      &  7.90 & VALID       & No expression & 0.18993980 & 5.7023805 & 0.18993980\\\\\n",
       "\t 06520043B0022R & 06520043B & 11010803 & GO29664 & GO29664-282738-11010803 & 12 & YEARS &  57 & Cohort 8 (WILMS TUMOR)                                            & WILMS TUMOR                                                                                            & ⋯ &    NA & NA           &       NA & NA        &    NA & NA          & No expression & 2.11369427 & 0.2868811 & 2.11369427\\\\\n",
       "\t 06520045C0027R & 06520045C & 11010309 & GO29664 & GO29664-283747-11010309 & 14 & YEARS & 263 & Cohort 3 (NEUROBLASTOMA)                                          & NEUROBLASTOMA                                                                                          & ⋯ & 0.413 & TRF400313.01 & 11010309 & Pass      & 18.43 & VALID       & NA            & 1.18061649 & 1.3617684 & 1.18061649\\\\\n",
       "\t 06520046C0018R & 06520046C & 11010310 & GO29664 & GO29664-283495-11010310 & 27 & YEARS &  22 & Cohort 3 (NEUROBLASTOMA)                                          & NEUROBLASTOMA                                                                                          & ⋯ & 0.336 & TRF185879.01 &      310 & PASS      &  2.63 & VALID       & No expression & 0.92136523 & 0.4329594 & 0.92136523\\\\\n",
       "\t ⋮ & ⋮ & ⋮ & ⋮ & ⋮ & ⋮ & ⋮ & ⋮ & ⋮ & ⋮ & ⋱ & ⋮ & ⋮ & ⋮ & ⋮ & ⋮ & ⋮ & ⋮ & ⋮ & ⋮ & ⋮\\\\\n",
       "\t 06520058C0045R & 06520058C & 11010706 & GO29664 & GO29664-284024-11010706 & 18 & YEARS &  43 & Cohort 7 (RHABDOMYOSARCOMA )                                      & RHABDOMYOSARCOMA - ALVEOLAR                                                                                                               & ⋯ &  0.924 & TRF185886.01 &      706 & PASS      & 0.88 & VALID                & No expression & 1.8649845 & 5.11061381 & 1.8649845\\\\\n",
       "\t 06520059B0023R & 06520059B & 11010108 & GO29664 & GO29664-283552-11010108 & 15 & YEARS & 337 & Cohort 1 (EWING SARCOMA)                                          & EWING SARCOMA                                                                                                                             & ⋯ &  0.201 & TRF185887.01 &      108 & QUALIFIED & 4.39 & VALID                & No expression & 1.1118785 & 1.02147973 & 1.1118785\\\\\n",
       "\t 06520060B0022R & 06520060B & 11010401 & GO29664 & GO29664-283583-11010401 & 13 & YEARS &  22 & Cohort 4 (NON HODGKIN LYMPHOMA)                                   & NON HODGKIN LYMPHOMA - OTHER                                                                                                              & ⋯ &  4.594 & TRF185888.01 &      401 & QUALIFIED & 1.75 & LOWER\\_BOUND          & High          & 3.6516791 & 0.23878686 & 3.6516791\\\\\n",
       "\t 06520062C0017R & 06520062C & 11010609 & GO29664 & GO29664-283497-11010609 & 19 & YEARS &  80 & Cohort 6 (OSTEOSARCOMA)                                           & OSTEOSARCOMA                                                                                                                              & ⋯ &  0.213 & TRF185889.01 &      609 & QUALIFIED &   NA & CANNOT\\_BE\\_DETERMINED & No expression & 0.2651452 & 0.46466827 & 0.2651452\\\\\n",
       "\t 06520067C0018R & 06520067C & 11010102 & GO29664 & GO29664-282087-11010102 & 19 & YEARS &  22 & Cohort 1 (EWING SARCOMA)                                          & EWING SARCOMA                                                                                                                             & ⋯ &  0.230 & TRF185892.01 &      102 & PASS      & 0.00 & VALID                & No expression & 0.1509749 & 0.16349873 & 0.1509749\\\\\n",
       "\t 06520068B0023R & 06520068B & 11010709 & GO29664 & GO29664-283593-11010709 & 15 & YEARS &   1 & Cohort 7 (RHABDOMYOSARCOMA )                                      & RHABDOMYOSARCOMA - ALVEOLAR                                                                                                               & ⋯ &  0.189 & TRF185893.01 &      709 & QUALIFIED & 3.51 & VALID                & No expression & 0.4034793 & 6.99548452 & 0.4034793\\\\\n",
       "\t 06520069C0017R & 06520069C & 11011001 & GO29664 & GO29664-281702-11011001 & 11 & YEARS &  64 & Cohort 10 (OTHER TUMOR TYPES WITHOUT DOCUMENTED PD-L1 EXPRESSION) & OTHER TUMOR TYPES WITHOUT DOCUMENTED PD-L1 EXPRESSION (TUMORS TYPE MUST NOT BE INCLUDED IN LIST ABOVE)                                    & ⋯ &     NA & TRF185894.01 &     1001 & PASS      & 2.63 & VALID                & No expression & 0.6370391 & 0.53605290 & 0.6370391\\\\\n",
       "\t 06520070C0018R & 06520070C & 11010306 & GO29664 & GO29664-282087-11010306 &  4 & YEARS &  22 & Cohort 3 (NEUROBLASTOMA)                                          & NEUROBLASTOMA                                                                                                                             & ⋯ &  0.048 & TRF185895.01 &      306 & PASS      & 0.88 & VALID                & No expression & 0.9699725 & 1.22650853 & 0.9699725\\\\\n",
       "\t 06520071C0020R & 06520071C & 11010307 & GO29664 & GO29664-282087-11010307 &  5 & YEARS &  22 & Cohort 3 (NEUROBLASTOMA)                                          & NEUROBLASTOMA                                                                                                                             & ⋯ &  0.350 & TRF185896.01 &      307 & PASS      & 2.63 & VALID                & No expression & 1.5171075 & 0.92599942 & 1.5171075\\\\\n",
       "\t 06520072C0017R & 06520072C & 11010508 & GO29664 & GO29664-283497-11010508 &  4 & YEARS &  64 & Cohort 5 (NON-RHABDOMYOSARCOMA SOFT TISSUE SARCOMA)               & NON-RHABDOMYOSARCOMA SOFT TISSUE SARCOMA - OTHER                                                                                          & ⋯ &  1.055 & TRF185897.01 &      508 & QUALIFIED & 4.39 & LOWER\\_BOUND          & High          & 2.4318386 & 1.07038933 & 2.4318386\\\\\n",
       "\t 06520075C0017R & 06520075C & 11010509 & GO29664 & GO29664-282702-11010509 & 17 & YEARS &  22 & Cohort 5 (NON-RHABDOMYOSARCOMA SOFT TISSUE SARCOMA)               & NON-RHABDOMYOSARCOMA SOFT TISSUE SARCOMA - CLEAR CELL SARCOMA                                                                             & ⋯ &     NA & TRF185898.01 &      509 & PASS      & 4.39 & VALID                & No expression & 0.9068105 & 0.78240856 & 0.9068105\\\\\n",
       "\t 06520078C0028R & 06520078C & 11010902 & GO29664 & GO29664-283747-11010902 & 14 & YEARS &  25 & Cohort 9 (OTHER TUMOR TYPES WITH DOCUMENTED PD-L1 EXPRESSION)     & OTHER TUMOR TYPES WITH DOCUMENTED PD-L1 EXPRESSION ON EITHER TUMOR CELLS OR IMMUNE CELLS (TUMORS TYPE MUST NOT BE INCLUDED IN LIST ABOVE) & ⋯ &  4.943 & TRF185899.01 &      902 & QUALIFIED & 2.63 & LOWER\\_BOUND          & No expression & 4.0675330 & 0.62293035 & 4.0675330\\\\\n",
       "\t 06520079B0021R & 06520079B & 11010612 & GO29664 & GO29664-283694-11010612 & 14 & YEARS &  77 & Cohort 6 (OSTEOSARCOMA)                                           & OSTEOSARCOMA                                                                                                                              & ⋯ &     NA & NA           &       NA & NA        &   NA & NA                   & No expression & 2.2949059 & 0.85598970 & 2.2949059\\\\\n",
       "\t 06520080B0023R & 06520080B & 11010611 & GO29664 & GO29664-283662-11010611 & 12 & YEARS &   1 & Cohort 6 (OSTEOSARCOMA)                                           & OSTEOSARCOMA                                                                                                                              & ⋯ &  0.276 & TRF185901.01 &      611 & PASS      & 7.02 & VALID                & No expression & 0.1649279 & 0.33342373 & 0.1649279\\\\\n",
       "\t 06520082C0018R & 06520082C & 11010806 & GO29664 & GO29664-280960-11010806 &  5 & YEARS &   1 & Cohort 8 (WILMS TUMOR)                                            & WILMS TUMOR                                                                                                                               & ⋯ &  0.157 & TRF185902.01 &      806 & PASS      & 4.39 & VALID                & No expression & 0.3734215 & 1.59454855 & 0.3734215\\\\\n",
       "\t 06520090C0018R & 06520090C & 11010205 & GO29664 & GO29664-283657-11010205 & 11 & YEARS & 876 & Cohort 2 (HODGKIN LYMPHOMA)                                       & HODGKIN LYMPHOMA                                                                                                                          & ⋯ &  3.563 & TRF185903.01 &      205 & QUALIFIED & 2.63 & LOWER\\_BOUND          & High          & 4.3307161 & 0.41142625 & 4.3307161\\\\\n",
       "\t 06520091B0017R & 06520091B & 11010807 & GO29664 & GO29664-282738-11010807 & 28 & YEARS &  64 & Cohort 8 (WILMS TUMOR)                                            & WILMS TUMOR                                                                                                                               & ⋯ &  1.800 & TRF400319.01 & 11010807 & Pass      & 0.00 & VALID                & No expression & 0.4919712 & 0.53605290 & 0.4919712\\\\\n",
       "\t 06520092C0017R & 06520092C & 11010901 & GO29664 & GO29664-280959-11010901 & 14 & YEARS &  63 & Cohort 9 (OTHER TUMOR TYPES WITH DOCUMENTED PD-L1 EXPRESSION)     & OTHER TUMOR TYPES WITH DOCUMENTED PD-L1 EXPRESSION ON EITHER TUMOR CELLS OR IMMUNE CELLS (TUMORS TYPE MUST NOT BE INCLUDED IN LIST ABOVE) & ⋯ &     NA & NA           &       NA & NA        &   NA & NA                   & No expression & 1.3289751 & 0.51601515 & 1.3289751\\\\\n",
       "\t 06520093C0017R & 06520093C & 11010206 & GO29664 & GO29664-283495-11010206 & 12 & YEARS & 142 & Cohort 2 (HODGKIN LYMPHOMA)                                       & HODGKIN LYMPHOMA                                                                                                                          & ⋯ & 11.434 & NA           &       NA & NA        &   NA & NA                   & High          & 5.4061806 & 0.45417589 & 5.4061806\\\\\n",
       "\t 06520094C0016R & 06520094C & 11010402 & GO29664 & GO29664-281702-11010402 & 26 & YEARS & 509 & Cohort 4 (NON HODGKIN LYMPHOMA)                                   & NON HODGKIN LYMPHOMA - OTHER                                                                                                              & ⋯ &  5.139 & TRF400314.01 & 11010402 & Qualified & 0.00 & LOWER\\_BOUND          & High          & 4.0869525 & 0.27500705 & 4.0869525\\\\\n",
       "\t 06520095B0017R & 06520095B & 11010810 & GO29664 & GO29664-282738-11010810 & 17 & YEARS & 176 & Cohort 8 (WILMS TUMOR)                                            & WILMS TUMOR                                                                                                                               & ⋯ &  1.625 & TRF400322.01 & 11010810 & Pass      & 0.88 & VALID                & No expression & 0.7298162 & 2.17951105 & 0.7298162\\\\\n",
       "\t 06520097B0021R & 06520097B & 11010403 & GO29664 & GO29664-282738-11010403 & 18 & YEARS &  24 & Cohort 4 (NON HODGKIN LYMPHOMA)                                   & NON HODGKIN LYMPHOMA - OTHER                                                                                                              & ⋯ &  0.431 & TRF400315.01 & 11010403 & Pass      & 7.90 & VALID                & No expression & 2.2669487 & 0.02856915 & 2.2669487\\\\\n",
       "\t 06520099B0017R & 06520099B & 11010208 & GO29664 & GO29664-283971-11010208 & 14 & YEARS & 109 & Cohort 2 (HODGKIN LYMPHOMA)                                       & HODGKIN LYMPHOMA                                                                                                                          & ⋯ &  1.557 & NA           &       NA & NA        &   NA & NA                   & High          & 5.3403622 & 0.37851162 & 5.3403622\\\\\n",
       "\t 06520100B0017R & 06520100B & 11010209 & GO29664 & GO29664-282703-11010209 & 17 & YEARS &  24 & Cohort 2 (HODGKIN LYMPHOMA)                                       & HODGKIN LYMPHOMA                                                                                                                          & ⋯ &  5.117 & TRF400311.01 & 11010209 & Qualified & 0.00 & LOWER\\_BOUND          & High          & 3.2737386 & 0.66902677 & 3.2737386\\\\\n",
       "\t 06520103C0017R & 06520103C & 11010903 & GO29664 & GO29664-282087-11010903 & 16 & YEARS &   1 & Cohort 9 (OTHER TUMOR TYPES WITH DOCUMENTED PD-L1 EXPRESSION)     & GERM CELL TUMOR - YOLK SAC TUMOR (ENDODERMAL SINUS TUMOR) WITH DOCUMENTED PD-L1 EXPRESSION                                                & ⋯ &  5.079 & TRF400323.01 & 11010903 & Pass      & 1.75 & VALID                & No expression & 2.3460847 & 0.38956681 & 2.3460847\\\\\n",
       "\t 06520104C0017R & 06520104C & 11010904 & GO29664 & GO29664-284024-11010904 & 15 & YEARS & 107 & Cohort 9 (OTHER TUMOR TYPES WITH DOCUMENTED PD-L1 EXPRESSION)     & OTHER TUMOR TYPES WITH DOCUMENTED PD-L1 EXPRESSION ON EITHER TUMOR CELLS OR IMMUNE CELLS (TUMORS TYPE MUST NOT BE INCLUDED IN LIST ABOVE) & ⋯ &     NA & TRF400324.01 & 11010904 & Pass      & 4.39 & VALID                & Low           & 4.3566979 & 0.26303441 & 4.3566979\\\\\n",
       "\t 06520105C0017R & 06520105C & 11011201 & GO29664 & GO29664-283694-11011201 & 10 & YEARS &  65 & Cohort 12 (ATYPICAL TERATOID RHABDOID TUMOR)                      & ATYPICAL TERATOID RHABDOID TUMOR                                                                                                          & ⋯ &  0.346 & TRF400326.01 & 11011201 & Pass      & 2.63 & VALID                & No expression & 0.7259099 & 1.73552218 & 0.7259099\\\\\n",
       "\t 06520106C0017R & 06520106C & 11010809 & GO29664 & GO29664-283497-11010809 & 13 & YEARS &  22 & Cohort 8 (WILMS TUMOR)                                            & WILMS TUMOR                                                                                                                               & ⋯ &  0.762 & TRF400321.01 & 11010809 & Pass      & 7.90 & VALID                & No expression & 0.4494325 & 0.56559718 & 0.4494325\\\\\n",
       "\t 06520107C0017R & 06520107C & 11011202 & GO29664 & GO29664-283504-11011202 &  2 & YEARS &  22 & Cohort 12 (ATYPICAL TERATOID RHABDOID TUMOR)                      & ATYPICAL TERATOID RHABDOID TUMOR                                                                                                          & ⋯ &     NA & NA           &       NA & NA        &   NA & NA                   & No expression & 1.5967932 & 2.09085343 & 1.5967932\\\\\n",
       "\t 06520110C0016R & 06520110C & 11011203 & GO29664 & GO29664-283497-11011203 & 10 & YEARS &  22 & Cohort 12 (ATYPICAL TERATOID RHABDOID TUMOR)                      & ATYPICAL TERATOID RHABDOID TUMOR                                                                                                          & ⋯ &  0.339 & TRF400327.01 & 11011203 & Pass      & 2.63 & VALID                & No expression & 1.6206675 & 1.22650853 & 1.6206675\\\\\n",
       "\\end{tabular}\n"
      ],
      "text/markdown": [
       "\n",
       "A data.frame: 66 × 80\n",
       "\n",
       "| sample_id &lt;chr&gt; | SAMPLE.ID &lt;chr&gt; | Patient.ID.x &lt;int&gt; | STUDYID &lt;chr&gt; | USUBJID &lt;chr&gt; | AGE &lt;int&gt; | AGEU &lt;chr&gt; | TRTDUR &lt;int&gt; | COHORT &lt;chr&gt; | TTYPE &lt;chr&gt; | ⋯ ⋯ | SE_Simpson &lt;dbl&gt; | ALIQUOT &lt;chr&gt; | SUBJECT.ID &lt;int&gt; | QC_Status &lt;chr&gt; | TMB_Score &lt;dbl&gt; | TMB_Confidence &lt;chr&gt; | PDL1 &lt;chr&gt; | TH_13 &lt;dbl&gt; | TH_26 &lt;dbl&gt; | TH_27 &lt;dbl&gt; |\n",
       "|---|---|---|---|---|---|---|---|---|---|---|---|---|---|---|---|---|---|---|---|---|\n",
       "| 06520001B0023R | 06520001B | 11010601 | GO29664 | GO29664-283971-11010601 | 19 | YEARS |   1 | Cohort 6 (OSTEOSARCOMA)                                           | OSTEOSARCOMA                                                                                           | ⋯ | 2.101 | TRF185855.01 |      601 | PASS      |  1.75 | VALID       | No expression | 0.80347424 | 1.5704629 | 0.80347424 |\n",
       "| 06520003C0012R | 06520003C | 11010202 | GO29664 | GO29664-283658-11010202 | 17 | YEARS | 108 | Cohort 2 (HODGKIN LYMPHOMA)                                       | HODGKIN LYMPHOMA                                                                                       | ⋯ |    NA | NA           |       NA | NA        |    NA | NA          | High          | 4.92750577 | 0.1375035 | 4.92750577 |\n",
       "| 06520004C0018R | 06520004C | 11010201 | GO29664 | GO29664-283658-11010201 | 17 | YEARS | 652 | Cohort 2 (HODGKIN LYMPHOMA)                                       | HODGKIN LYMPHOMA                                                                                       | ⋯ | 0.791 | TRF185857.01 |      201 | QUALIFIED |  2.63 | LOWER_BOUND | High          | 4.09129934 | 0.2265085 | 4.09129934 |\n",
       "| 06520005C0017R | 06520005C | 11010701 | GO29664 | GO29664-283971-11010701 | 11 | YEARS |  22 | Cohort 7 (RHABDOMYOSARCOMA )                                      | RHABDOMYOSARCOMA - ALVEOLAR                                                                            | ⋯ | 0.427 | TRF185858.01 |      701 | QUALIFIED |  8.77 | VALID       | No expression | 0.08551532 | 4.4409522 | 0.08551532 |\n",
       "| 06520006C0016R | 06520006C | 11010702 | GO29664 | GO29664-283504-11010702 |  5 | YEARS |  23 | Cohort 7 (RHABDOMYOSARCOMA )                                      | RHABDOMYOSARCOMA - UNKNOWN                                                                             | ⋯ |    NA | NA           |       NA | NA        |    NA | NA          | No expression | 0.55319589 | 6.4929748 | 0.55319589 |\n",
       "| 06520007C0018R | 06520007C | 11010604 | GO29664 | GO29664-283971-11010604 | 22 | YEARS |  65 | Cohort 6 (OSTEOSARCOMA)                                           | OSTEOSARCOMA                                                                                           | ⋯ | 0.572 | TRF185859.01 |      604 | PASS      |  3.51 | VALID       | No expression | 1.91882684 | 0.5160151 | 1.91882684 |\n",
       "| 06520008C0017R | 06520008C | 11010602 | GO29664 | GO29664-280959-11010602 | 18 | YEARS |  22 | Cohort 6 (OSTEOSARCOMA)                                           | OSTEOSARCOMA                                                                                           | ⋯ |    NA | NA           |       NA | NA        |    NA | NA          | NA            | 0.03585165 | 0.5058909 | 0.03585165 |\n",
       "| 06520010B0023R | 06520010B | 11011002 | GO29664 | GO29664-281049-11011002 | 11 | YEARS |  20 | Cohort 10 (OTHER TUMOR TYPES WITHOUT DOCUMENTED PD-L1 EXPRESSION) | OTHER TUMOR TYPES WITHOUT DOCUMENTED PD-L1 EXPRESSION (TUMORS TYPE MUST NOT BE INCLUDED IN LIST ABOVE) | ⋯ | 0.451 | TRF185860.01 |     1002 | PASS      |  2.63 | VALID       | No expression | 0.62754254 | 0.3448285 | 0.62754254 |\n",
       "| 06520011B0023R | 06520011B | 11010103 | GO29664 | GO29664-283495-11010103 | 13 | YEARS |   1 | Cohort 1 (EWING SARCOMA)                                          | EWING SARCOMA                                                                                          | ⋯ | 0.316 | TRF185861.01 |      103 | PASS      |  0.88 | VALID       | No expression | 0.22529481 | 0.6322682 | 0.22529481 |\n",
       "| 06520015C0016R | 06520015C | 11010104 | GO29664 | GO29664-282359-11010104 | 15 | YEARS |  22 | Cohort 1 (EWING SARCOMA)                                          | EWING SARCOMA                                                                                          | ⋯ |    NA | NA           |       NA | NA        |    NA | NA          | No expression | 1.60326407 | 3.9927684 | 1.60326407 |\n",
       "| 06520017C0018R | 06520017C | 11010503 | GO29664 | GO29664-282359-11010503 | 16 | YEARS |  64 | Cohort 5 (NON-RHABDOMYOSARCOMA SOFT TISSUE SARCOMA)               | NON-RHABDOMYOSARCOMA SOFT TISSUE SARCOMA - SYNOVIAL SARCOMA                                            | ⋯ | 0.155 | TRF185863.01 |      503 | PASS      |  2.63 | VALID       | No expression | 0.06012587 | 1.2986583 | 0.06012587 |\n",
       "| 06520018C0017R | 06520018C | 11010302 | GO29664 | GO29664-281049-11010302 | 11 | YEARS |  64 | Cohort 3 (NEUROBLASTOMA)                                          | NEUROBLASTOMA                                                                                          | ⋯ |    NA | TRF400312.01 | 11010302 | Pass      |  2.63 | VALID       | No expression | 1.35831925 | 2.9486008 | 1.35831925 |\n",
       "| 06520019C0023R | 06520019C | 11010303 | GO29664 | GO29664-283658-11010303 |  7 | YEARS |  64 | Cohort 3 (NEUROBLASTOMA)                                          | NEUROBLASTOMA                                                                                          | ⋯ | 1.396 | TRF185864.01 |      303 | PASS      |  1.75 | VALID       | No expression | 1.36413710 | 0.2986583 | 1.36413710 |\n",
       "| 06520020C0017R | 06520020C | 11010504 | GO29664 | GO29664-283658-11010504 | 15 | YEARS |  22 | Cohort 5 (NON-RHABDOMYOSARCOMA SOFT TISSUE SARCOMA)               | NON-RHABDOMYOSARCOMA SOFT TISSUE SARCOMA - DESMOPLASTIC SMALL ROUND CELL TUMOR                         | ⋯ | 0.306 | TRF185865.01 |      504 | PASS      |  1.75 | VALID       | No expression | 0.17980237 | 0.4436067 | 0.17980237 |\n",
       "| 06520022C0017R | 06520022C | 11010105 | GO29664 | GO29664-281049-11010105 | 16 | YEARS |  22 | Cohort 1 (EWING SARCOMA)                                          | EWING SARCOMA                                                                                          | ⋯ | 1.762 | TRF400308.01 | 11010105 | Pass      |  2.63 | VALID       | NA            | 1.54469312 | 1.0840643 | 1.54469312 |\n",
       "| 06520023C0018R | 06520023C | 11010305 | GO29664 | GO29664-282359-11010305 |  2 | YEARS |  64 | Cohort 3 (NEUROBLASTOMA)                                          | NEUROBLASTOMA                                                                                          | ⋯ |    NA | TRF185866.01 |      305 | PASS      |  2.63 | VALID       | No expression | 2.56100566 | 0.9259994 | 2.56100566 |\n",
       "| 06520025B0023R | 06520025B | 11010505 | GO29664 | GO29664-282738-11010505 | 19 | YEARS |  44 | Cohort 5 (NON-RHABDOMYOSARCOMA SOFT TISSUE SARCOMA)               | NON-RHABDOMYOSARCOMA SOFT TISSUE SARCOMA - OTHER                                                       | ⋯ |    NA | NA           |       NA | NA        |    NA | NA          | NA            | 0.56736131 | 0.9335726 | 0.56736131 |\n",
       "| 06520026C0014R | 06520026C | 11011003 | GO29664 | GO29664-283504-11011003 | 12 | YEARS |  43 | Cohort 10 (OTHER TUMOR TYPES WITHOUT DOCUMENTED PD-L1 EXPRESSION) | RENAL CELL CARCINOMA WITHOUT DOCUMENTED PD-L1 EXPRESSION                                               | ⋯ | 0.100 | TRF185868.01 |     1003 | PASS      |  1.75 | VALID       | No expression | 1.08374089 | 0.3334237 | 1.08374089 |\n",
       "| 06520027C0022R | 06520027C | 11010704 | GO29664 | GO29664-281702-11010704 | 25 | YEARS |  25 | Cohort 7 (RHABDOMYOSARCOMA )                                      | RHABDOMYOSARCOMA - ALVEOLAR                                                                            | ⋯ |    NA | NA           |       NA | NA        |    NA | NA          | No expression | 0.41412748 | 2.7886857 | 0.41412748 |\n",
       "| 06520029C0018R | 06520029C | 11010111 | GO29664 | GO29664-283593-11010111 | 14 | YEARS | 127 | Cohort 1 (EWING SARCOMA)                                          | EWING SARCOMA                                                                                          | ⋯ |    NA | TRF185870.01 |      111 | PASS      |  7.02 | VALID       | No expression | 0.08442383 | 0.8953026 | 0.08442383 |\n",
       "| 06520030C0018R | 06520030C | 11010507 | GO29664 | GO29664-283971-11010507 | 20 | YEARS |  21 | Cohort 5 (NON-RHABDOMYOSARCOMA SOFT TISSUE SARCOMA)               | NON-RHABDOMYOSARCOMA SOFT TISSUE SARCOMA - SYNOVIAL SARCOMA                                            | ⋯ | 0.125 | TRF185871.01 |      507 | PASS      |  7.90 | VALID       | No expression | 0.11385217 | 0.9486008 | 0.11385217 |\n",
       "| 06520031C0018R | 06520031C | 11010606 | GO29664 | GO29664-283497-11010606 | 13 | YEARS |  23 | Cohort 6 (OSTEOSARCOMA)                                           | OSTEOSARCOMA                                                                                           | ⋯ |    NA | TRF185872.01 |      606 | PASS      |  5.26 | VALID       | No expression | 0.03816040 | 1.7865964 | 0.03816040 |\n",
       "| 06520033C0018R | 06520033C | 11010203 | GO29664 | GO29664-283658-11010203 | 17 | YEARS |  63 | Cohort 2 (HODGKIN LYMPHOMA)                                       | HODGKIN LYMPHOMA                                                                                       | ⋯ | 2.287 | TRF185873.01 |      203 | QUALIFIED |  4.39 | LOWER_BOUND | High          | 4.52740939 | 0.3895668 | 4.52740939 |\n",
       "| 06520035C0021R | 06520035C | 11011005 | GO29664 | GO29664-282359-11011005 | 11 | YEARS | 204 | Cohort 10 (OTHER TUMOR TYPES WITHOUT DOCUMENTED PD-L1 EXPRESSION) | GERM CELL TUMOR - OTHER WITHOUT DOCUMENTED PD-L1 EXPRESSION                                            | ⋯ | 1.307 | NA           |       NA | NA        |    NA | NA          | No expression | 0.82568581 | 2.2172307 | 0.82568581 |\n",
       "| 06520037C0013R | 06520037C | 11010502 | GO29664 | GO29664-283495-11010502 | 12 | YEARS |  22 | Cohort 5 (NON-RHABDOMYOSARCOMA SOFT TISSUE SARCOMA)               | NON-RHABDOMYOSARCOMA SOFT TISSUE SARCOMA - OTHER                                                       | ⋯ |    NA | TRF185874.01 |      502 | PASS      |  1.75 | VALID       | No expression | 1.78261023 | 0.2509616 | 1.78261023 |\n",
       "| 06520038B0023R | 06520038B | 11010308 | GO29664 | GO29664-283659-11010308 | 22 | YEARS | 149 | Cohort 3 (NEUROBLASTOMA)                                          | NEUROBLASTOMA                                                                                          | ⋯ | 0.000 | TRF185875.01 |      308 | PASS      |  9.65 | VALID       | No expression | 0.16531749 | 2.0179219 | 0.16531749 |\n",
       "| 06520042B0023R | 06520042B | 11010703 | GO29664 | GO29664-283551-11010703 |  4 | YEARS |  22 | Cohort 7 (RHABDOMYOSARCOMA )                                      | RHABDOMYOSARCOMA - EMBRYONAL                                                                           | ⋯ | 1.875 | TRF185877.01 |      703 | PASS      |  7.90 | VALID       | No expression | 0.18993980 | 5.7023805 | 0.18993980 |\n",
       "| 06520043B0022R | 06520043B | 11010803 | GO29664 | GO29664-282738-11010803 | 12 | YEARS |  57 | Cohort 8 (WILMS TUMOR)                                            | WILMS TUMOR                                                                                            | ⋯ |    NA | NA           |       NA | NA        |    NA | NA          | No expression | 2.11369427 | 0.2868811 | 2.11369427 |\n",
       "| 06520045C0027R | 06520045C | 11010309 | GO29664 | GO29664-283747-11010309 | 14 | YEARS | 263 | Cohort 3 (NEUROBLASTOMA)                                          | NEUROBLASTOMA                                                                                          | ⋯ | 0.413 | TRF400313.01 | 11010309 | Pass      | 18.43 | VALID       | NA            | 1.18061649 | 1.3617684 | 1.18061649 |\n",
       "| 06520046C0018R | 06520046C | 11010310 | GO29664 | GO29664-283495-11010310 | 27 | YEARS |  22 | Cohort 3 (NEUROBLASTOMA)                                          | NEUROBLASTOMA                                                                                          | ⋯ | 0.336 | TRF185879.01 |      310 | PASS      |  2.63 | VALID       | No expression | 0.92136523 | 0.4329594 | 0.92136523 |\n",
       "| ⋮ | ⋮ | ⋮ | ⋮ | ⋮ | ⋮ | ⋮ | ⋮ | ⋮ | ⋮ | ⋱ | ⋮ | ⋮ | ⋮ | ⋮ | ⋮ | ⋮ | ⋮ | ⋮ | ⋮ | ⋮ |\n",
       "| 06520058C0045R | 06520058C | 11010706 | GO29664 | GO29664-284024-11010706 | 18 | YEARS |  43 | Cohort 7 (RHABDOMYOSARCOMA )                                      | RHABDOMYOSARCOMA - ALVEOLAR                                                                                                               | ⋯ |  0.924 | TRF185886.01 |      706 | PASS      | 0.88 | VALID                | No expression | 1.8649845 | 5.11061381 | 1.8649845 |\n",
       "| 06520059B0023R | 06520059B | 11010108 | GO29664 | GO29664-283552-11010108 | 15 | YEARS | 337 | Cohort 1 (EWING SARCOMA)                                          | EWING SARCOMA                                                                                                                             | ⋯ |  0.201 | TRF185887.01 |      108 | QUALIFIED | 4.39 | VALID                | No expression | 1.1118785 | 1.02147973 | 1.1118785 |\n",
       "| 06520060B0022R | 06520060B | 11010401 | GO29664 | GO29664-283583-11010401 | 13 | YEARS |  22 | Cohort 4 (NON HODGKIN LYMPHOMA)                                   | NON HODGKIN LYMPHOMA - OTHER                                                                                                              | ⋯ |  4.594 | TRF185888.01 |      401 | QUALIFIED | 1.75 | LOWER_BOUND          | High          | 3.6516791 | 0.23878686 | 3.6516791 |\n",
       "| 06520062C0017R | 06520062C | 11010609 | GO29664 | GO29664-283497-11010609 | 19 | YEARS |  80 | Cohort 6 (OSTEOSARCOMA)                                           | OSTEOSARCOMA                                                                                                                              | ⋯ |  0.213 | TRF185889.01 |      609 | QUALIFIED |   NA | CANNOT_BE_DETERMINED | No expression | 0.2651452 | 0.46466827 | 0.2651452 |\n",
       "| 06520067C0018R | 06520067C | 11010102 | GO29664 | GO29664-282087-11010102 | 19 | YEARS |  22 | Cohort 1 (EWING SARCOMA)                                          | EWING SARCOMA                                                                                                                             | ⋯ |  0.230 | TRF185892.01 |      102 | PASS      | 0.00 | VALID                | No expression | 0.1509749 | 0.16349873 | 0.1509749 |\n",
       "| 06520068B0023R | 06520068B | 11010709 | GO29664 | GO29664-283593-11010709 | 15 | YEARS |   1 | Cohort 7 (RHABDOMYOSARCOMA )                                      | RHABDOMYOSARCOMA - ALVEOLAR                                                                                                               | ⋯ |  0.189 | TRF185893.01 |      709 | QUALIFIED | 3.51 | VALID                | No expression | 0.4034793 | 6.99548452 | 0.4034793 |\n",
       "| 06520069C0017R | 06520069C | 11011001 | GO29664 | GO29664-281702-11011001 | 11 | YEARS |  64 | Cohort 10 (OTHER TUMOR TYPES WITHOUT DOCUMENTED PD-L1 EXPRESSION) | OTHER TUMOR TYPES WITHOUT DOCUMENTED PD-L1 EXPRESSION (TUMORS TYPE MUST NOT BE INCLUDED IN LIST ABOVE)                                    | ⋯ |     NA | TRF185894.01 |     1001 | PASS      | 2.63 | VALID                | No expression | 0.6370391 | 0.53605290 | 0.6370391 |\n",
       "| 06520070C0018R | 06520070C | 11010306 | GO29664 | GO29664-282087-11010306 |  4 | YEARS |  22 | Cohort 3 (NEUROBLASTOMA)                                          | NEUROBLASTOMA                                                                                                                             | ⋯ |  0.048 | TRF185895.01 |      306 | PASS      | 0.88 | VALID                | No expression | 0.9699725 | 1.22650853 | 0.9699725 |\n",
       "| 06520071C0020R | 06520071C | 11010307 | GO29664 | GO29664-282087-11010307 |  5 | YEARS |  22 | Cohort 3 (NEUROBLASTOMA)                                          | NEUROBLASTOMA                                                                                                                             | ⋯ |  0.350 | TRF185896.01 |      307 | PASS      | 2.63 | VALID                | No expression | 1.5171075 | 0.92599942 | 1.5171075 |\n",
       "| 06520072C0017R | 06520072C | 11010508 | GO29664 | GO29664-283497-11010508 |  4 | YEARS |  64 | Cohort 5 (NON-RHABDOMYOSARCOMA SOFT TISSUE SARCOMA)               | NON-RHABDOMYOSARCOMA SOFT TISSUE SARCOMA - OTHER                                                                                          | ⋯ |  1.055 | TRF185897.01 |      508 | QUALIFIED | 4.39 | LOWER_BOUND          | High          | 2.4318386 | 1.07038933 | 2.4318386 |\n",
       "| 06520075C0017R | 06520075C | 11010509 | GO29664 | GO29664-282702-11010509 | 17 | YEARS |  22 | Cohort 5 (NON-RHABDOMYOSARCOMA SOFT TISSUE SARCOMA)               | NON-RHABDOMYOSARCOMA SOFT TISSUE SARCOMA - CLEAR CELL SARCOMA                                                                             | ⋯ |     NA | TRF185898.01 |      509 | PASS      | 4.39 | VALID                | No expression | 0.9068105 | 0.78240856 | 0.9068105 |\n",
       "| 06520078C0028R | 06520078C | 11010902 | GO29664 | GO29664-283747-11010902 | 14 | YEARS |  25 | Cohort 9 (OTHER TUMOR TYPES WITH DOCUMENTED PD-L1 EXPRESSION)     | OTHER TUMOR TYPES WITH DOCUMENTED PD-L1 EXPRESSION ON EITHER TUMOR CELLS OR IMMUNE CELLS (TUMORS TYPE MUST NOT BE INCLUDED IN LIST ABOVE) | ⋯ |  4.943 | TRF185899.01 |      902 | QUALIFIED | 2.63 | LOWER_BOUND          | No expression | 4.0675330 | 0.62293035 | 4.0675330 |\n",
       "| 06520079B0021R | 06520079B | 11010612 | GO29664 | GO29664-283694-11010612 | 14 | YEARS |  77 | Cohort 6 (OSTEOSARCOMA)                                           | OSTEOSARCOMA                                                                                                                              | ⋯ |     NA | NA           |       NA | NA        |   NA | NA                   | No expression | 2.2949059 | 0.85598970 | 2.2949059 |\n",
       "| 06520080B0023R | 06520080B | 11010611 | GO29664 | GO29664-283662-11010611 | 12 | YEARS |   1 | Cohort 6 (OSTEOSARCOMA)                                           | OSTEOSARCOMA                                                                                                                              | ⋯ |  0.276 | TRF185901.01 |      611 | PASS      | 7.02 | VALID                | No expression | 0.1649279 | 0.33342373 | 0.1649279 |\n",
       "| 06520082C0018R | 06520082C | 11010806 | GO29664 | GO29664-280960-11010806 |  5 | YEARS |   1 | Cohort 8 (WILMS TUMOR)                                            | WILMS TUMOR                                                                                                                               | ⋯ |  0.157 | TRF185902.01 |      806 | PASS      | 4.39 | VALID                | No expression | 0.3734215 | 1.59454855 | 0.3734215 |\n",
       "| 06520090C0018R | 06520090C | 11010205 | GO29664 | GO29664-283657-11010205 | 11 | YEARS | 876 | Cohort 2 (HODGKIN LYMPHOMA)                                       | HODGKIN LYMPHOMA                                                                                                                          | ⋯ |  3.563 | TRF185903.01 |      205 | QUALIFIED | 2.63 | LOWER_BOUND          | High          | 4.3307161 | 0.41142625 | 4.3307161 |\n",
       "| 06520091B0017R | 06520091B | 11010807 | GO29664 | GO29664-282738-11010807 | 28 | YEARS |  64 | Cohort 8 (WILMS TUMOR)                                            | WILMS TUMOR                                                                                                                               | ⋯ |  1.800 | TRF400319.01 | 11010807 | Pass      | 0.00 | VALID                | No expression | 0.4919712 | 0.53605290 | 0.4919712 |\n",
       "| 06520092C0017R | 06520092C | 11010901 | GO29664 | GO29664-280959-11010901 | 14 | YEARS |  63 | Cohort 9 (OTHER TUMOR TYPES WITH DOCUMENTED PD-L1 EXPRESSION)     | OTHER TUMOR TYPES WITH DOCUMENTED PD-L1 EXPRESSION ON EITHER TUMOR CELLS OR IMMUNE CELLS (TUMORS TYPE MUST NOT BE INCLUDED IN LIST ABOVE) | ⋯ |     NA | NA           |       NA | NA        |   NA | NA                   | No expression | 1.3289751 | 0.51601515 | 1.3289751 |\n",
       "| 06520093C0017R | 06520093C | 11010206 | GO29664 | GO29664-283495-11010206 | 12 | YEARS | 142 | Cohort 2 (HODGKIN LYMPHOMA)                                       | HODGKIN LYMPHOMA                                                                                                                          | ⋯ | 11.434 | NA           |       NA | NA        |   NA | NA                   | High          | 5.4061806 | 0.45417589 | 5.4061806 |\n",
       "| 06520094C0016R | 06520094C | 11010402 | GO29664 | GO29664-281702-11010402 | 26 | YEARS | 509 | Cohort 4 (NON HODGKIN LYMPHOMA)                                   | NON HODGKIN LYMPHOMA - OTHER                                                                                                              | ⋯ |  5.139 | TRF400314.01 | 11010402 | Qualified | 0.00 | LOWER_BOUND          | High          | 4.0869525 | 0.27500705 | 4.0869525 |\n",
       "| 06520095B0017R | 06520095B | 11010810 | GO29664 | GO29664-282738-11010810 | 17 | YEARS | 176 | Cohort 8 (WILMS TUMOR)                                            | WILMS TUMOR                                                                                                                               | ⋯ |  1.625 | TRF400322.01 | 11010810 | Pass      | 0.88 | VALID                | No expression | 0.7298162 | 2.17951105 | 0.7298162 |\n",
       "| 06520097B0021R | 06520097B | 11010403 | GO29664 | GO29664-282738-11010403 | 18 | YEARS |  24 | Cohort 4 (NON HODGKIN LYMPHOMA)                                   | NON HODGKIN LYMPHOMA - OTHER                                                                                                              | ⋯ |  0.431 | TRF400315.01 | 11010403 | Pass      | 7.90 | VALID                | No expression | 2.2669487 | 0.02856915 | 2.2669487 |\n",
       "| 06520099B0017R | 06520099B | 11010208 | GO29664 | GO29664-283971-11010208 | 14 | YEARS | 109 | Cohort 2 (HODGKIN LYMPHOMA)                                       | HODGKIN LYMPHOMA                                                                                                                          | ⋯ |  1.557 | NA           |       NA | NA        |   NA | NA                   | High          | 5.3403622 | 0.37851162 | 5.3403622 |\n",
       "| 06520100B0017R | 06520100B | 11010209 | GO29664 | GO29664-282703-11010209 | 17 | YEARS |  24 | Cohort 2 (HODGKIN LYMPHOMA)                                       | HODGKIN LYMPHOMA                                                                                                                          | ⋯ |  5.117 | TRF400311.01 | 11010209 | Qualified | 0.00 | LOWER_BOUND          | High          | 3.2737386 | 0.66902677 | 3.2737386 |\n",
       "| 06520103C0017R | 06520103C | 11010903 | GO29664 | GO29664-282087-11010903 | 16 | YEARS |   1 | Cohort 9 (OTHER TUMOR TYPES WITH DOCUMENTED PD-L1 EXPRESSION)     | GERM CELL TUMOR - YOLK SAC TUMOR (ENDODERMAL SINUS TUMOR) WITH DOCUMENTED PD-L1 EXPRESSION                                                | ⋯ |  5.079 | TRF400323.01 | 11010903 | Pass      | 1.75 | VALID                | No expression | 2.3460847 | 0.38956681 | 2.3460847 |\n",
       "| 06520104C0017R | 06520104C | 11010904 | GO29664 | GO29664-284024-11010904 | 15 | YEARS | 107 | Cohort 9 (OTHER TUMOR TYPES WITH DOCUMENTED PD-L1 EXPRESSION)     | OTHER TUMOR TYPES WITH DOCUMENTED PD-L1 EXPRESSION ON EITHER TUMOR CELLS OR IMMUNE CELLS (TUMORS TYPE MUST NOT BE INCLUDED IN LIST ABOVE) | ⋯ |     NA | TRF400324.01 | 11010904 | Pass      | 4.39 | VALID                | Low           | 4.3566979 | 0.26303441 | 4.3566979 |\n",
       "| 06520105C0017R | 06520105C | 11011201 | GO29664 | GO29664-283694-11011201 | 10 | YEARS |  65 | Cohort 12 (ATYPICAL TERATOID RHABDOID TUMOR)                      | ATYPICAL TERATOID RHABDOID TUMOR                                                                                                          | ⋯ |  0.346 | TRF400326.01 | 11011201 | Pass      | 2.63 | VALID                | No expression | 0.7259099 | 1.73552218 | 0.7259099 |\n",
       "| 06520106C0017R | 06520106C | 11010809 | GO29664 | GO29664-283497-11010809 | 13 | YEARS |  22 | Cohort 8 (WILMS TUMOR)                                            | WILMS TUMOR                                                                                                                               | ⋯ |  0.762 | TRF400321.01 | 11010809 | Pass      | 7.90 | VALID                | No expression | 0.4494325 | 0.56559718 | 0.4494325 |\n",
       "| 06520107C0017R | 06520107C | 11011202 | GO29664 | GO29664-283504-11011202 |  2 | YEARS |  22 | Cohort 12 (ATYPICAL TERATOID RHABDOID TUMOR)                      | ATYPICAL TERATOID RHABDOID TUMOR                                                                                                          | ⋯ |     NA | NA           |       NA | NA        |   NA | NA                   | No expression | 1.5967932 | 2.09085343 | 1.5967932 |\n",
       "| 06520110C0016R | 06520110C | 11011203 | GO29664 | GO29664-283497-11011203 | 10 | YEARS |  22 | Cohort 12 (ATYPICAL TERATOID RHABDOID TUMOR)                      | ATYPICAL TERATOID RHABDOID TUMOR                                                                                                          | ⋯ |  0.339 | TRF400327.01 | 11011203 | Pass      | 2.63 | VALID                | No expression | 1.6206675 | 1.22650853 | 1.6206675 |\n",
       "\n"
      ],
      "text/plain": [
       "   sample_id      SAMPLE.ID Patient.ID.x STUDYID USUBJID                 AGE\n",
       "1  06520001B0023R 06520001B 11010601     GO29664 GO29664-283971-11010601 19 \n",
       "2  06520003C0012R 06520003C 11010202     GO29664 GO29664-283658-11010202 17 \n",
       "3  06520004C0018R 06520004C 11010201     GO29664 GO29664-283658-11010201 17 \n",
       "4  06520005C0017R 06520005C 11010701     GO29664 GO29664-283971-11010701 11 \n",
       "5  06520006C0016R 06520006C 11010702     GO29664 GO29664-283504-11010702  5 \n",
       "6  06520007C0018R 06520007C 11010604     GO29664 GO29664-283971-11010604 22 \n",
       "7  06520008C0017R 06520008C 11010602     GO29664 GO29664-280959-11010602 18 \n",
       "8  06520010B0023R 06520010B 11011002     GO29664 GO29664-281049-11011002 11 \n",
       "9  06520011B0023R 06520011B 11010103     GO29664 GO29664-283495-11010103 13 \n",
       "10 06520015C0016R 06520015C 11010104     GO29664 GO29664-282359-11010104 15 \n",
       "11 06520017C0018R 06520017C 11010503     GO29664 GO29664-282359-11010503 16 \n",
       "12 06520018C0017R 06520018C 11010302     GO29664 GO29664-281049-11010302 11 \n",
       "13 06520019C0023R 06520019C 11010303     GO29664 GO29664-283658-11010303  7 \n",
       "14 06520020C0017R 06520020C 11010504     GO29664 GO29664-283658-11010504 15 \n",
       "15 06520022C0017R 06520022C 11010105     GO29664 GO29664-281049-11010105 16 \n",
       "16 06520023C0018R 06520023C 11010305     GO29664 GO29664-282359-11010305  2 \n",
       "17 06520025B0023R 06520025B 11010505     GO29664 GO29664-282738-11010505 19 \n",
       "18 06520026C0014R 06520026C 11011003     GO29664 GO29664-283504-11011003 12 \n",
       "19 06520027C0022R 06520027C 11010704     GO29664 GO29664-281702-11010704 25 \n",
       "20 06520029C0018R 06520029C 11010111     GO29664 GO29664-283593-11010111 14 \n",
       "21 06520030C0018R 06520030C 11010507     GO29664 GO29664-283971-11010507 20 \n",
       "22 06520031C0018R 06520031C 11010606     GO29664 GO29664-283497-11010606 13 \n",
       "23 06520033C0018R 06520033C 11010203     GO29664 GO29664-283658-11010203 17 \n",
       "24 06520035C0021R 06520035C 11011005     GO29664 GO29664-282359-11011005 11 \n",
       "25 06520037C0013R 06520037C 11010502     GO29664 GO29664-283495-11010502 12 \n",
       "26 06520038B0023R 06520038B 11010308     GO29664 GO29664-283659-11010308 22 \n",
       "27 06520042B0023R 06520042B 11010703     GO29664 GO29664-283551-11010703  4 \n",
       "28 06520043B0022R 06520043B 11010803     GO29664 GO29664-282738-11010803 12 \n",
       "29 06520045C0027R 06520045C 11010309     GO29664 GO29664-283747-11010309 14 \n",
       "30 06520046C0018R 06520046C 11010310     GO29664 GO29664-283495-11010310 27 \n",
       "⋮  ⋮              ⋮         ⋮            ⋮       ⋮                       ⋮  \n",
       "37 06520058C0045R 06520058C 11010706     GO29664 GO29664-284024-11010706 18 \n",
       "38 06520059B0023R 06520059B 11010108     GO29664 GO29664-283552-11010108 15 \n",
       "39 06520060B0022R 06520060B 11010401     GO29664 GO29664-283583-11010401 13 \n",
       "40 06520062C0017R 06520062C 11010609     GO29664 GO29664-283497-11010609 19 \n",
       "41 06520067C0018R 06520067C 11010102     GO29664 GO29664-282087-11010102 19 \n",
       "42 06520068B0023R 06520068B 11010709     GO29664 GO29664-283593-11010709 15 \n",
       "43 06520069C0017R 06520069C 11011001     GO29664 GO29664-281702-11011001 11 \n",
       "44 06520070C0018R 06520070C 11010306     GO29664 GO29664-282087-11010306  4 \n",
       "45 06520071C0020R 06520071C 11010307     GO29664 GO29664-282087-11010307  5 \n",
       "46 06520072C0017R 06520072C 11010508     GO29664 GO29664-283497-11010508  4 \n",
       "47 06520075C0017R 06520075C 11010509     GO29664 GO29664-282702-11010509 17 \n",
       "48 06520078C0028R 06520078C 11010902     GO29664 GO29664-283747-11010902 14 \n",
       "49 06520079B0021R 06520079B 11010612     GO29664 GO29664-283694-11010612 14 \n",
       "50 06520080B0023R 06520080B 11010611     GO29664 GO29664-283662-11010611 12 \n",
       "51 06520082C0018R 06520082C 11010806     GO29664 GO29664-280960-11010806  5 \n",
       "52 06520090C0018R 06520090C 11010205     GO29664 GO29664-283657-11010205 11 \n",
       "53 06520091B0017R 06520091B 11010807     GO29664 GO29664-282738-11010807 28 \n",
       "54 06520092C0017R 06520092C 11010901     GO29664 GO29664-280959-11010901 14 \n",
       "55 06520093C0017R 06520093C 11010206     GO29664 GO29664-283495-11010206 12 \n",
       "56 06520094C0016R 06520094C 11010402     GO29664 GO29664-281702-11010402 26 \n",
       "57 06520095B0017R 06520095B 11010810     GO29664 GO29664-282738-11010810 17 \n",
       "58 06520097B0021R 06520097B 11010403     GO29664 GO29664-282738-11010403 18 \n",
       "59 06520099B0017R 06520099B 11010208     GO29664 GO29664-283971-11010208 14 \n",
       "60 06520100B0017R 06520100B 11010209     GO29664 GO29664-282703-11010209 17 \n",
       "61 06520103C0017R 06520103C 11010903     GO29664 GO29664-282087-11010903 16 \n",
       "62 06520104C0017R 06520104C 11010904     GO29664 GO29664-284024-11010904 15 \n",
       "63 06520105C0017R 06520105C 11011201     GO29664 GO29664-283694-11011201 10 \n",
       "64 06520106C0017R 06520106C 11010809     GO29664 GO29664-283497-11010809 13 \n",
       "65 06520107C0017R 06520107C 11011202     GO29664 GO29664-283504-11011202  2 \n",
       "66 06520110C0016R 06520110C 11011203     GO29664 GO29664-283497-11011203 10 \n",
       "   AGEU  TRTDUR\n",
       "1  YEARS   1   \n",
       "2  YEARS 108   \n",
       "3  YEARS 652   \n",
       "4  YEARS  22   \n",
       "5  YEARS  23   \n",
       "6  YEARS  65   \n",
       "7  YEARS  22   \n",
       "8  YEARS  20   \n",
       "9  YEARS   1   \n",
       "10 YEARS  22   \n",
       "11 YEARS  64   \n",
       "12 YEARS  64   \n",
       "13 YEARS  64   \n",
       "14 YEARS  22   \n",
       "15 YEARS  22   \n",
       "16 YEARS  64   \n",
       "17 YEARS  44   \n",
       "18 YEARS  43   \n",
       "19 YEARS  25   \n",
       "20 YEARS 127   \n",
       "21 YEARS  21   \n",
       "22 YEARS  23   \n",
       "23 YEARS  63   \n",
       "24 YEARS 204   \n",
       "25 YEARS  22   \n",
       "26 YEARS 149   \n",
       "27 YEARS  22   \n",
       "28 YEARS  57   \n",
       "29 YEARS 263   \n",
       "30 YEARS  22   \n",
       "⋮  ⋮     ⋮     \n",
       "37 YEARS  43   \n",
       "38 YEARS 337   \n",
       "39 YEARS  22   \n",
       "40 YEARS  80   \n",
       "41 YEARS  22   \n",
       "42 YEARS   1   \n",
       "43 YEARS  64   \n",
       "44 YEARS  22   \n",
       "45 YEARS  22   \n",
       "46 YEARS  64   \n",
       "47 YEARS  22   \n",
       "48 YEARS  25   \n",
       "49 YEARS  77   \n",
       "50 YEARS   1   \n",
       "51 YEARS   1   \n",
       "52 YEARS 876   \n",
       "53 YEARS  64   \n",
       "54 YEARS  63   \n",
       "55 YEARS 142   \n",
       "56 YEARS 509   \n",
       "57 YEARS 176   \n",
       "58 YEARS  24   \n",
       "59 YEARS 109   \n",
       "60 YEARS  24   \n",
       "61 YEARS   1   \n",
       "62 YEARS 107   \n",
       "63 YEARS  65   \n",
       "64 YEARS  22   \n",
       "65 YEARS  22   \n",
       "66 YEARS  22   \n",
       "   COHORT                                                           \n",
       "1  Cohort 6 (OSTEOSARCOMA)                                          \n",
       "2  Cohort 2 (HODGKIN LYMPHOMA)                                      \n",
       "3  Cohort 2 (HODGKIN LYMPHOMA)                                      \n",
       "4  Cohort 7 (RHABDOMYOSARCOMA )                                     \n",
       "5  Cohort 7 (RHABDOMYOSARCOMA )                                     \n",
       "6  Cohort 6 (OSTEOSARCOMA)                                          \n",
       "7  Cohort 6 (OSTEOSARCOMA)                                          \n",
       "8  Cohort 10 (OTHER TUMOR TYPES WITHOUT DOCUMENTED PD-L1 EXPRESSION)\n",
       "9  Cohort 1 (EWING SARCOMA)                                         \n",
       "10 Cohort 1 (EWING SARCOMA)                                         \n",
       "11 Cohort 5 (NON-RHABDOMYOSARCOMA SOFT TISSUE SARCOMA)              \n",
       "12 Cohort 3 (NEUROBLASTOMA)                                         \n",
       "13 Cohort 3 (NEUROBLASTOMA)                                         \n",
       "14 Cohort 5 (NON-RHABDOMYOSARCOMA SOFT TISSUE SARCOMA)              \n",
       "15 Cohort 1 (EWING SARCOMA)                                         \n",
       "16 Cohort 3 (NEUROBLASTOMA)                                         \n",
       "17 Cohort 5 (NON-RHABDOMYOSARCOMA SOFT TISSUE SARCOMA)              \n",
       "18 Cohort 10 (OTHER TUMOR TYPES WITHOUT DOCUMENTED PD-L1 EXPRESSION)\n",
       "19 Cohort 7 (RHABDOMYOSARCOMA )                                     \n",
       "20 Cohort 1 (EWING SARCOMA)                                         \n",
       "21 Cohort 5 (NON-RHABDOMYOSARCOMA SOFT TISSUE SARCOMA)              \n",
       "22 Cohort 6 (OSTEOSARCOMA)                                          \n",
       "23 Cohort 2 (HODGKIN LYMPHOMA)                                      \n",
       "24 Cohort 10 (OTHER TUMOR TYPES WITHOUT DOCUMENTED PD-L1 EXPRESSION)\n",
       "25 Cohort 5 (NON-RHABDOMYOSARCOMA SOFT TISSUE SARCOMA)              \n",
       "26 Cohort 3 (NEUROBLASTOMA)                                         \n",
       "27 Cohort 7 (RHABDOMYOSARCOMA )                                     \n",
       "28 Cohort 8 (WILMS TUMOR)                                           \n",
       "29 Cohort 3 (NEUROBLASTOMA)                                         \n",
       "30 Cohort 3 (NEUROBLASTOMA)                                         \n",
       "⋮  ⋮                                                                \n",
       "37 Cohort 7 (RHABDOMYOSARCOMA )                                     \n",
       "38 Cohort 1 (EWING SARCOMA)                                         \n",
       "39 Cohort 4 (NON HODGKIN LYMPHOMA)                                  \n",
       "40 Cohort 6 (OSTEOSARCOMA)                                          \n",
       "41 Cohort 1 (EWING SARCOMA)                                         \n",
       "42 Cohort 7 (RHABDOMYOSARCOMA )                                     \n",
       "43 Cohort 10 (OTHER TUMOR TYPES WITHOUT DOCUMENTED PD-L1 EXPRESSION)\n",
       "44 Cohort 3 (NEUROBLASTOMA)                                         \n",
       "45 Cohort 3 (NEUROBLASTOMA)                                         \n",
       "46 Cohort 5 (NON-RHABDOMYOSARCOMA SOFT TISSUE SARCOMA)              \n",
       "47 Cohort 5 (NON-RHABDOMYOSARCOMA SOFT TISSUE SARCOMA)              \n",
       "48 Cohort 9 (OTHER TUMOR TYPES WITH DOCUMENTED PD-L1 EXPRESSION)    \n",
       "49 Cohort 6 (OSTEOSARCOMA)                                          \n",
       "50 Cohort 6 (OSTEOSARCOMA)                                          \n",
       "51 Cohort 8 (WILMS TUMOR)                                           \n",
       "52 Cohort 2 (HODGKIN LYMPHOMA)                                      \n",
       "53 Cohort 8 (WILMS TUMOR)                                           \n",
       "54 Cohort 9 (OTHER TUMOR TYPES WITH DOCUMENTED PD-L1 EXPRESSION)    \n",
       "55 Cohort 2 (HODGKIN LYMPHOMA)                                      \n",
       "56 Cohort 4 (NON HODGKIN LYMPHOMA)                                  \n",
       "57 Cohort 8 (WILMS TUMOR)                                           \n",
       "58 Cohort 4 (NON HODGKIN LYMPHOMA)                                  \n",
       "59 Cohort 2 (HODGKIN LYMPHOMA)                                      \n",
       "60 Cohort 2 (HODGKIN LYMPHOMA)                                      \n",
       "61 Cohort 9 (OTHER TUMOR TYPES WITH DOCUMENTED PD-L1 EXPRESSION)    \n",
       "62 Cohort 9 (OTHER TUMOR TYPES WITH DOCUMENTED PD-L1 EXPRESSION)    \n",
       "63 Cohort 12 (ATYPICAL TERATOID RHABDOID TUMOR)                     \n",
       "64 Cohort 8 (WILMS TUMOR)                                           \n",
       "65 Cohort 12 (ATYPICAL TERATOID RHABDOID TUMOR)                     \n",
       "66 Cohort 12 (ATYPICAL TERATOID RHABDOID TUMOR)                     \n",
       "   TTYPE                                                                                                                                    \n",
       "1  OSTEOSARCOMA                                                                                                                             \n",
       "2  HODGKIN LYMPHOMA                                                                                                                         \n",
       "3  HODGKIN LYMPHOMA                                                                                                                         \n",
       "4  RHABDOMYOSARCOMA - ALVEOLAR                                                                                                              \n",
       "5  RHABDOMYOSARCOMA - UNKNOWN                                                                                                               \n",
       "6  OSTEOSARCOMA                                                                                                                             \n",
       "7  OSTEOSARCOMA                                                                                                                             \n",
       "8  OTHER TUMOR TYPES WITHOUT DOCUMENTED PD-L1 EXPRESSION (TUMORS TYPE MUST NOT BE INCLUDED IN LIST ABOVE)                                   \n",
       "9  EWING SARCOMA                                                                                                                            \n",
       "10 EWING SARCOMA                                                                                                                            \n",
       "11 NON-RHABDOMYOSARCOMA SOFT TISSUE SARCOMA - SYNOVIAL SARCOMA                                                                              \n",
       "12 NEUROBLASTOMA                                                                                                                            \n",
       "13 NEUROBLASTOMA                                                                                                                            \n",
       "14 NON-RHABDOMYOSARCOMA SOFT TISSUE SARCOMA - DESMOPLASTIC SMALL ROUND CELL TUMOR                                                           \n",
       "15 EWING SARCOMA                                                                                                                            \n",
       "16 NEUROBLASTOMA                                                                                                                            \n",
       "17 NON-RHABDOMYOSARCOMA SOFT TISSUE SARCOMA - OTHER                                                                                         \n",
       "18 RENAL CELL CARCINOMA WITHOUT DOCUMENTED PD-L1 EXPRESSION                                                                                 \n",
       "19 RHABDOMYOSARCOMA - ALVEOLAR                                                                                                              \n",
       "20 EWING SARCOMA                                                                                                                            \n",
       "21 NON-RHABDOMYOSARCOMA SOFT TISSUE SARCOMA - SYNOVIAL SARCOMA                                                                              \n",
       "22 OSTEOSARCOMA                                                                                                                             \n",
       "23 HODGKIN LYMPHOMA                                                                                                                         \n",
       "24 GERM CELL TUMOR - OTHER WITHOUT DOCUMENTED PD-L1 EXPRESSION                                                                              \n",
       "25 NON-RHABDOMYOSARCOMA SOFT TISSUE SARCOMA - OTHER                                                                                         \n",
       "26 NEUROBLASTOMA                                                                                                                            \n",
       "27 RHABDOMYOSARCOMA - EMBRYONAL                                                                                                             \n",
       "28 WILMS TUMOR                                                                                                                              \n",
       "29 NEUROBLASTOMA                                                                                                                            \n",
       "30 NEUROBLASTOMA                                                                                                                            \n",
       "⋮  ⋮                                                                                                                                        \n",
       "37 RHABDOMYOSARCOMA - ALVEOLAR                                                                                                              \n",
       "38 EWING SARCOMA                                                                                                                            \n",
       "39 NON HODGKIN LYMPHOMA - OTHER                                                                                                             \n",
       "40 OSTEOSARCOMA                                                                                                                             \n",
       "41 EWING SARCOMA                                                                                                                            \n",
       "42 RHABDOMYOSARCOMA - ALVEOLAR                                                                                                              \n",
       "43 OTHER TUMOR TYPES WITHOUT DOCUMENTED PD-L1 EXPRESSION (TUMORS TYPE MUST NOT BE INCLUDED IN LIST ABOVE)                                   \n",
       "44 NEUROBLASTOMA                                                                                                                            \n",
       "45 NEUROBLASTOMA                                                                                                                            \n",
       "46 NON-RHABDOMYOSARCOMA SOFT TISSUE SARCOMA - OTHER                                                                                         \n",
       "47 NON-RHABDOMYOSARCOMA SOFT TISSUE SARCOMA - CLEAR CELL SARCOMA                                                                            \n",
       "48 OTHER TUMOR TYPES WITH DOCUMENTED PD-L1 EXPRESSION ON EITHER TUMOR CELLS OR IMMUNE CELLS (TUMORS TYPE MUST NOT BE INCLUDED IN LIST ABOVE)\n",
       "49 OSTEOSARCOMA                                                                                                                             \n",
       "50 OSTEOSARCOMA                                                                                                                             \n",
       "51 WILMS TUMOR                                                                                                                              \n",
       "52 HODGKIN LYMPHOMA                                                                                                                         \n",
       "53 WILMS TUMOR                                                                                                                              \n",
       "54 OTHER TUMOR TYPES WITH DOCUMENTED PD-L1 EXPRESSION ON EITHER TUMOR CELLS OR IMMUNE CELLS (TUMORS TYPE MUST NOT BE INCLUDED IN LIST ABOVE)\n",
       "55 HODGKIN LYMPHOMA                                                                                                                         \n",
       "56 NON HODGKIN LYMPHOMA - OTHER                                                                                                             \n",
       "57 WILMS TUMOR                                                                                                                              \n",
       "58 NON HODGKIN LYMPHOMA - OTHER                                                                                                             \n",
       "59 HODGKIN LYMPHOMA                                                                                                                         \n",
       "60 HODGKIN LYMPHOMA                                                                                                                         \n",
       "61 GERM CELL TUMOR - YOLK SAC TUMOR (ENDODERMAL SINUS TUMOR) WITH DOCUMENTED PD-L1 EXPRESSION                                               \n",
       "62 OTHER TUMOR TYPES WITH DOCUMENTED PD-L1 EXPRESSION ON EITHER TUMOR CELLS OR IMMUNE CELLS (TUMORS TYPE MUST NOT BE INCLUDED IN LIST ABOVE)\n",
       "63 ATYPICAL TERATOID RHABDOID TUMOR                                                                                                         \n",
       "64 WILMS TUMOR                                                                                                                              \n",
       "65 ATYPICAL TERATOID RHABDOID TUMOR                                                                                                         \n",
       "66 ATYPICAL TERATOID RHABDOID TUMOR                                                                                                         \n",
       "   ⋯ SE_Simpson ALIQUOT      SUBJECT.ID QC_Status TMB_Score\n",
       "1  ⋯ 2.101      TRF185855.01      601   PASS       1.75    \n",
       "2  ⋯    NA      NA                 NA   NA           NA    \n",
       "3  ⋯ 0.791      TRF185857.01      201   QUALIFIED  2.63    \n",
       "4  ⋯ 0.427      TRF185858.01      701   QUALIFIED  8.77    \n",
       "5  ⋯    NA      NA                 NA   NA           NA    \n",
       "6  ⋯ 0.572      TRF185859.01      604   PASS       3.51    \n",
       "7  ⋯    NA      NA                 NA   NA           NA    \n",
       "8  ⋯ 0.451      TRF185860.01     1002   PASS       2.63    \n",
       "9  ⋯ 0.316      TRF185861.01      103   PASS       0.88    \n",
       "10 ⋯    NA      NA                 NA   NA           NA    \n",
       "11 ⋯ 0.155      TRF185863.01      503   PASS       2.63    \n",
       "12 ⋯    NA      TRF400312.01 11010302   Pass       2.63    \n",
       "13 ⋯ 1.396      TRF185864.01      303   PASS       1.75    \n",
       "14 ⋯ 0.306      TRF185865.01      504   PASS       1.75    \n",
       "15 ⋯ 1.762      TRF400308.01 11010105   Pass       2.63    \n",
       "16 ⋯    NA      TRF185866.01      305   PASS       2.63    \n",
       "17 ⋯    NA      NA                 NA   NA           NA    \n",
       "18 ⋯ 0.100      TRF185868.01     1003   PASS       1.75    \n",
       "19 ⋯    NA      NA                 NA   NA           NA    \n",
       "20 ⋯    NA      TRF185870.01      111   PASS       7.02    \n",
       "21 ⋯ 0.125      TRF185871.01      507   PASS       7.90    \n",
       "22 ⋯    NA      TRF185872.01      606   PASS       5.26    \n",
       "23 ⋯ 2.287      TRF185873.01      203   QUALIFIED  4.39    \n",
       "24 ⋯ 1.307      NA                 NA   NA           NA    \n",
       "25 ⋯    NA      TRF185874.01      502   PASS       1.75    \n",
       "26 ⋯ 0.000      TRF185875.01      308   PASS       9.65    \n",
       "27 ⋯ 1.875      TRF185877.01      703   PASS       7.90    \n",
       "28 ⋯    NA      NA                 NA   NA           NA    \n",
       "29 ⋯ 0.413      TRF400313.01 11010309   Pass      18.43    \n",
       "30 ⋯ 0.336      TRF185879.01      310   PASS       2.63    \n",
       "⋮  ⋱ ⋮          ⋮            ⋮          ⋮         ⋮        \n",
       "37 ⋯  0.924     TRF185886.01      706   PASS      0.88     \n",
       "38 ⋯  0.201     TRF185887.01      108   QUALIFIED 4.39     \n",
       "39 ⋯  4.594     TRF185888.01      401   QUALIFIED 1.75     \n",
       "40 ⋯  0.213     TRF185889.01      609   QUALIFIED   NA     \n",
       "41 ⋯  0.230     TRF185892.01      102   PASS      0.00     \n",
       "42 ⋯  0.189     TRF185893.01      709   QUALIFIED 3.51     \n",
       "43 ⋯     NA     TRF185894.01     1001   PASS      2.63     \n",
       "44 ⋯  0.048     TRF185895.01      306   PASS      0.88     \n",
       "45 ⋯  0.350     TRF185896.01      307   PASS      2.63     \n",
       "46 ⋯  1.055     TRF185897.01      508   QUALIFIED 4.39     \n",
       "47 ⋯     NA     TRF185898.01      509   PASS      4.39     \n",
       "48 ⋯  4.943     TRF185899.01      902   QUALIFIED 2.63     \n",
       "49 ⋯     NA     NA                 NA   NA          NA     \n",
       "50 ⋯  0.276     TRF185901.01      611   PASS      7.02     \n",
       "51 ⋯  0.157     TRF185902.01      806   PASS      4.39     \n",
       "52 ⋯  3.563     TRF185903.01      205   QUALIFIED 2.63     \n",
       "53 ⋯  1.800     TRF400319.01 11010807   Pass      0.00     \n",
       "54 ⋯     NA     NA                 NA   NA          NA     \n",
       "55 ⋯ 11.434     NA                 NA   NA          NA     \n",
       "56 ⋯  5.139     TRF400314.01 11010402   Qualified 0.00     \n",
       "57 ⋯  1.625     TRF400322.01 11010810   Pass      0.88     \n",
       "58 ⋯  0.431     TRF400315.01 11010403   Pass      7.90     \n",
       "59 ⋯  1.557     NA                 NA   NA          NA     \n",
       "60 ⋯  5.117     TRF400311.01 11010209   Qualified 0.00     \n",
       "61 ⋯  5.079     TRF400323.01 11010903   Pass      1.75     \n",
       "62 ⋯     NA     TRF400324.01 11010904   Pass      4.39     \n",
       "63 ⋯  0.346     TRF400326.01 11011201   Pass      2.63     \n",
       "64 ⋯  0.762     TRF400321.01 11010809   Pass      7.90     \n",
       "65 ⋯     NA     NA                 NA   NA          NA     \n",
       "66 ⋯  0.339     TRF400327.01 11011203   Pass      2.63     \n",
       "   TMB_Confidence       PDL1          TH_13      TH_26      TH_27     \n",
       "1  VALID                No expression 0.80347424 1.5704629  0.80347424\n",
       "2  NA                   High          4.92750577 0.1375035  4.92750577\n",
       "3  LOWER_BOUND          High          4.09129934 0.2265085  4.09129934\n",
       "4  VALID                No expression 0.08551532 4.4409522  0.08551532\n",
       "5  NA                   No expression 0.55319589 6.4929748  0.55319589\n",
       "6  VALID                No expression 1.91882684 0.5160151  1.91882684\n",
       "7  NA                   NA            0.03585165 0.5058909  0.03585165\n",
       "8  VALID                No expression 0.62754254 0.3448285  0.62754254\n",
       "9  VALID                No expression 0.22529481 0.6322682  0.22529481\n",
       "10 NA                   No expression 1.60326407 3.9927684  1.60326407\n",
       "11 VALID                No expression 0.06012587 1.2986583  0.06012587\n",
       "12 VALID                No expression 1.35831925 2.9486008  1.35831925\n",
       "13 VALID                No expression 1.36413710 0.2986583  1.36413710\n",
       "14 VALID                No expression 0.17980237 0.4436067  0.17980237\n",
       "15 VALID                NA            1.54469312 1.0840643  1.54469312\n",
       "16 VALID                No expression 2.56100566 0.9259994  2.56100566\n",
       "17 NA                   NA            0.56736131 0.9335726  0.56736131\n",
       "18 VALID                No expression 1.08374089 0.3334237  1.08374089\n",
       "19 NA                   No expression 0.41412748 2.7886857  0.41412748\n",
       "20 VALID                No expression 0.08442383 0.8953026  0.08442383\n",
       "21 VALID                No expression 0.11385217 0.9486008  0.11385217\n",
       "22 VALID                No expression 0.03816040 1.7865964  0.03816040\n",
       "23 LOWER_BOUND          High          4.52740939 0.3895668  4.52740939\n",
       "24 NA                   No expression 0.82568581 2.2172307  0.82568581\n",
       "25 VALID                No expression 1.78261023 0.2509616  1.78261023\n",
       "26 VALID                No expression 0.16531749 2.0179219  0.16531749\n",
       "27 VALID                No expression 0.18993980 5.7023805  0.18993980\n",
       "28 NA                   No expression 2.11369427 0.2868811  2.11369427\n",
       "29 VALID                NA            1.18061649 1.3617684  1.18061649\n",
       "30 VALID                No expression 0.92136523 0.4329594  0.92136523\n",
       "⋮  ⋮                    ⋮             ⋮          ⋮          ⋮         \n",
       "37 VALID                No expression 1.8649845  5.11061381 1.8649845 \n",
       "38 VALID                No expression 1.1118785  1.02147973 1.1118785 \n",
       "39 LOWER_BOUND          High          3.6516791  0.23878686 3.6516791 \n",
       "40 CANNOT_BE_DETERMINED No expression 0.2651452  0.46466827 0.2651452 \n",
       "41 VALID                No expression 0.1509749  0.16349873 0.1509749 \n",
       "42 VALID                No expression 0.4034793  6.99548452 0.4034793 \n",
       "43 VALID                No expression 0.6370391  0.53605290 0.6370391 \n",
       "44 VALID                No expression 0.9699725  1.22650853 0.9699725 \n",
       "45 VALID                No expression 1.5171075  0.92599942 1.5171075 \n",
       "46 LOWER_BOUND          High          2.4318386  1.07038933 2.4318386 \n",
       "47 VALID                No expression 0.9068105  0.78240856 0.9068105 \n",
       "48 LOWER_BOUND          No expression 4.0675330  0.62293035 4.0675330 \n",
       "49 NA                   No expression 2.2949059  0.85598970 2.2949059 \n",
       "50 VALID                No expression 0.1649279  0.33342373 0.1649279 \n",
       "51 VALID                No expression 0.3734215  1.59454855 0.3734215 \n",
       "52 LOWER_BOUND          High          4.3307161  0.41142625 4.3307161 \n",
       "53 VALID                No expression 0.4919712  0.53605290 0.4919712 \n",
       "54 NA                   No expression 1.3289751  0.51601515 1.3289751 \n",
       "55 NA                   High          5.4061806  0.45417589 5.4061806 \n",
       "56 LOWER_BOUND          High          4.0869525  0.27500705 4.0869525 \n",
       "57 VALID                No expression 0.7298162  2.17951105 0.7298162 \n",
       "58 VALID                No expression 2.2669487  0.02856915 2.2669487 \n",
       "59 NA                   High          5.3403622  0.37851162 5.3403622 \n",
       "60 LOWER_BOUND          High          3.2737386  0.66902677 3.2737386 \n",
       "61 VALID                No expression 2.3460847  0.38956681 2.3460847 \n",
       "62 VALID                Low           4.3566979  0.26303441 4.3566979 \n",
       "63 VALID                No expression 0.7259099  1.73552218 0.7259099 \n",
       "64 VALID                No expression 0.4494325  0.56559718 0.4494325 \n",
       "65 NA                   No expression 1.5967932  2.09085343 1.5967932 \n",
       "66 VALID                No expression 1.6206675  1.22650853 1.6206675 "
      ]
     },
     "metadata": {},
     "output_type": "display_data"
    }
   ],
   "source": [
    "metadata_modules"
   ]
  },
  {
   "cell_type": "code",
   "execution_count": 129,
   "metadata": {},
   "outputs": [
    {
     "data": {
      "text/plain": [
       "Call:\n",
       "coxph(formula = f, data = metadata_modules)\n",
       "\n",
       "  n= 60, number of events= 49 \n",
       "   (6 observations deleted due to missingness)\n",
       "\n",
       "                                          coef  exp(coef)   se(coef)      z\n",
       "TH_13                               -0.3043382  0.7376114  0.1315092 -2.314\n",
       "sample_originBone                    0.1915507  1.2111262  0.6651232  0.288\n",
       "sample_originBrain                   0.3375638  1.4015290  0.7156967  0.472\n",
       "sample_originConnective/Soft tissue  0.1362825  1.1460056  0.6241915  0.218\n",
       "sample_originKidney                  0.0004653  1.0004654  0.6788067  0.001\n",
       "sample_originLung                   -0.1767536  0.8379862  0.6117147 -0.289\n",
       "sample_originLymph node             -0.3562101  0.7003255  0.6861296 -0.519\n",
       "sample_originOthers                 -0.7060786  0.4935759  0.6416759 -1.100\n",
       "                                    Pr(>|z|)  \n",
       "TH_13                                 0.0207 *\n",
       "sample_originBone                     0.7734  \n",
       "sample_originBrain                    0.6372  \n",
       "sample_originConnective/Soft tissue   0.8272  \n",
       "sample_originKidney                   0.9995  \n",
       "sample_originLung                     0.7726  \n",
       "sample_originLymph node               0.6037  \n",
       "sample_originOthers                   0.2712  \n",
       "---\n",
       "Signif. codes:  0 ‘***’ 0.001 ‘**’ 0.01 ‘*’ 0.05 ‘.’ 0.1 ‘ ’ 1\n",
       "\n",
       "                                    exp(coef) exp(-coef) lower .95 upper .95\n",
       "TH_13                                  0.7376     1.3557    0.5700    0.9545\n",
       "sample_originBone                      1.2111     0.8257    0.3289    4.4601\n",
       "sample_originBrain                     1.4015     0.7135    0.3447    5.6991\n",
       "sample_originConnective/Soft tissue    1.1460     0.8726    0.3372    3.8949\n",
       "sample_originKidney                    1.0005     0.9995    0.2645    3.7845\n",
       "sample_originLung                      0.8380     1.1933    0.2527    2.7793\n",
       "sample_originLymph node                0.7003     1.4279    0.1825    2.6874\n",
       "sample_originOthers                    0.4936     2.0260    0.1403    1.7360\n",
       "\n",
       "Concordance= 0.705  (se = 0.043 )\n",
       "Likelihood ratio test= 15.85  on 8 df,   p=0.04\n",
       "Wald test            = 13.55  on 8 df,   p=0.09\n",
       "Score (logrank) test = 14.98  on 8 df,   p=0.06\n"
      ]
     },
     "metadata": {},
     "output_type": "display_data"
    }
   ],
   "source": [
    "f <- as.formula(paste0(\"Surv(TRTDUR, progressed)~\", \"TH_13\", \"+ sample_origin\"))  \n",
    "    coxmodel <- coxph(f, data=metadata_modules) \n",
    "summary(coxmodel)"
   ]
  },
  {
   "cell_type": "code",
   "execution_count": null,
   "metadata": {},
   "outputs": [],
   "source": []
  },
  {
   "cell_type": "markdown",
   "metadata": {},
   "source": [
    "## Multivariable model"
   ]
  },
  {
   "cell_type": "markdown",
   "metadata": {},
   "source": [
    "Make a gene signature matrix for all samples"
   ]
  },
  {
   "cell_type": "code",
   "execution_count": 163,
   "metadata": {},
   "outputs": [],
   "source": [
    "module_sample <- matrix(ncol = nrow(tpm_mat_ensg_t_matched), nrow = length(unique(mygene_modules$moduleLabel)))\n",
    "rownames(module_sample) <- labelorders\n",
    "colnames(module_sample) <- rownames(tpm_mat_ensg_t_matched)"
   ]
  },
  {
   "cell_type": "code",
   "execution_count": 164,
   "metadata": {
    "scrolled": true
   },
   "outputs": [],
   "source": [
    "for(mod in 1:nrow(module_sample)){\n",
    "    mymod <- rownames(module_sample)[mod]    \n",
    "    modGenes <- mygene_modules$ensembl_id[which(mygene_modules$moduleLabel == mymod)]\n",
    "    genes <- tpm_mat_ensg_t_matched[,modGenes]\n",
    "if(length(modGenes) > 1){\n",
    "    averagegenes <- apply(genes,1,mean)\n",
    "    module_sample[mod,] <- averagegenes}\n",
    "}"
   ]
  },
  {
   "cell_type": "code",
   "execution_count": 165,
   "metadata": {},
   "outputs": [
    {
     "data": {
      "text/html": [
       "<table class=\"dataframe\">\n",
       "<caption>A matrix: 6 × 66 of type dbl</caption>\n",
       "<thead>\n",
       "\t<tr><th></th><th scope=col>06520001B0023R</th><th scope=col>06520003C0012R</th><th scope=col>06520004C0018R</th><th scope=col>06520005C0017R</th><th scope=col>06520006C0016R</th><th scope=col>06520007C0018R</th><th scope=col>06520008C0017R</th><th scope=col>06520010B0023R</th><th scope=col>06520011B0023R</th><th scope=col>06520015C0016R</th><th scope=col>⋯</th><th scope=col>06520095B0017R</th><th scope=col>06520097B0021R</th><th scope=col>06520099B0017R</th><th scope=col>06520100B0017R</th><th scope=col>06520103C0017R</th><th scope=col>06520104C0017R</th><th scope=col>06520105C0017R</th><th scope=col>06520106C0017R</th><th scope=col>06520107C0017R</th><th scope=col>06520110C0016R</th></tr>\n",
       "</thead>\n",
       "<tbody>\n",
       "\t<tr><th scope=row>TH_4</th><td>3.258641</td><td>2.543560</td><td>2.470124</td><td>3.873546</td><td>2.379499</td><td>2.629001</td><td>3.626413</td><td>3.324695</td><td>3.378651</td><td>3.010907</td><td>⋯</td><td>2.951200</td><td>3.083745</td><td>2.632355</td><td>2.061169</td><td>3.220097</td><td>3.715501</td><td>3.701069</td><td>3.795182</td><td>3.725360</td><td>2.996888</td></tr>\n",
       "\t<tr><th scope=row>TH_18</th><td>3.402986</td><td>3.732832</td><td>3.247667</td><td>4.139311</td><td>3.341334</td><td>3.291128</td><td>4.050459</td><td>3.721943</td><td>3.655911</td><td>3.816681</td><td>⋯</td><td>3.551753</td><td>3.175228</td><td>3.525619</td><td>3.196350</td><td>3.502437</td><td>3.907429</td><td>4.421255</td><td>4.021101</td><td>4.220187</td><td>3.828690</td></tr>\n",
       "\t<tr><th scope=row>TH_17</th><td>2.899621</td><td>3.349528</td><td>2.850904</td><td>2.935903</td><td>2.614786</td><td>2.895317</td><td>3.348928</td><td>3.045980</td><td>2.964719</td><td>3.480863</td><td>⋯</td><td>3.015086</td><td>2.616543</td><td>3.032016</td><td>2.728924</td><td>3.155685</td><td>3.335919</td><td>3.722357</td><td>3.176780</td><td>3.500666</td><td>3.466325</td></tr>\n",
       "\t<tr><th scope=row>TH_28</th><td>2.122054</td><td>2.508796</td><td>2.143300</td><td>3.314616</td><td>2.165245</td><td>1.977253</td><td>2.165512</td><td>2.499301</td><td>2.533448</td><td>3.328631</td><td>⋯</td><td>2.511312</td><td>1.076290</td><td>2.442948</td><td>2.083394</td><td>2.147661</td><td>2.551371</td><td>3.625210</td><td>2.598789</td><td>3.111280</td><td>2.757612</td></tr>\n",
       "\t<tr><th scope=row>TH_6</th><td>2.835558</td><td>3.165800</td><td>2.741455</td><td>3.255378</td><td>2.731744</td><td>2.760267</td><td>3.137937</td><td>3.093191</td><td>3.024381</td><td>3.281667</td><td>⋯</td><td>3.015380</td><td>2.593224</td><td>2.971578</td><td>2.649060</td><td>2.974029</td><td>3.278718</td><td>3.668864</td><td>3.268602</td><td>3.505263</td><td>3.297834</td></tr>\n",
       "\t<tr><th scope=row>TH_7</th><td>3.246414</td><td>3.515224</td><td>3.084530</td><td>3.041327</td><td>2.726420</td><td>3.288073</td><td>3.286074</td><td>3.328865</td><td>3.101268</td><td>3.797706</td><td>⋯</td><td>3.225476</td><td>2.599680</td><td>3.158812</td><td>3.012368</td><td>3.441499</td><td>3.529465</td><td>3.870514</td><td>3.326879</td><td>3.653408</td><td>3.721464</td></tr>\n",
       "</tbody>\n",
       "</table>\n"
      ],
      "text/latex": [
       "A matrix: 6 × 66 of type dbl\n",
       "\\begin{tabular}{r|lllllllllllllllllllll}\n",
       "  & 06520001B0023R & 06520003C0012R & 06520004C0018R & 06520005C0017R & 06520006C0016R & 06520007C0018R & 06520008C0017R & 06520010B0023R & 06520011B0023R & 06520015C0016R & ⋯ & 06520095B0017R & 06520097B0021R & 06520099B0017R & 06520100B0017R & 06520103C0017R & 06520104C0017R & 06520105C0017R & 06520106C0017R & 06520107C0017R & 06520110C0016R\\\\\n",
       "\\hline\n",
       "\tTH\\_4 & 3.258641 & 2.543560 & 2.470124 & 3.873546 & 2.379499 & 2.629001 & 3.626413 & 3.324695 & 3.378651 & 3.010907 & ⋯ & 2.951200 & 3.083745 & 2.632355 & 2.061169 & 3.220097 & 3.715501 & 3.701069 & 3.795182 & 3.725360 & 2.996888\\\\\n",
       "\tTH\\_18 & 3.402986 & 3.732832 & 3.247667 & 4.139311 & 3.341334 & 3.291128 & 4.050459 & 3.721943 & 3.655911 & 3.816681 & ⋯ & 3.551753 & 3.175228 & 3.525619 & 3.196350 & 3.502437 & 3.907429 & 4.421255 & 4.021101 & 4.220187 & 3.828690\\\\\n",
       "\tTH\\_17 & 2.899621 & 3.349528 & 2.850904 & 2.935903 & 2.614786 & 2.895317 & 3.348928 & 3.045980 & 2.964719 & 3.480863 & ⋯ & 3.015086 & 2.616543 & 3.032016 & 2.728924 & 3.155685 & 3.335919 & 3.722357 & 3.176780 & 3.500666 & 3.466325\\\\\n",
       "\tTH\\_28 & 2.122054 & 2.508796 & 2.143300 & 3.314616 & 2.165245 & 1.977253 & 2.165512 & 2.499301 & 2.533448 & 3.328631 & ⋯ & 2.511312 & 1.076290 & 2.442948 & 2.083394 & 2.147661 & 2.551371 & 3.625210 & 2.598789 & 3.111280 & 2.757612\\\\\n",
       "\tTH\\_6 & 2.835558 & 3.165800 & 2.741455 & 3.255378 & 2.731744 & 2.760267 & 3.137937 & 3.093191 & 3.024381 & 3.281667 & ⋯ & 3.015380 & 2.593224 & 2.971578 & 2.649060 & 2.974029 & 3.278718 & 3.668864 & 3.268602 & 3.505263 & 3.297834\\\\\n",
       "\tTH\\_7 & 3.246414 & 3.515224 & 3.084530 & 3.041327 & 2.726420 & 3.288073 & 3.286074 & 3.328865 & 3.101268 & 3.797706 & ⋯ & 3.225476 & 2.599680 & 3.158812 & 3.012368 & 3.441499 & 3.529465 & 3.870514 & 3.326879 & 3.653408 & 3.721464\\\\\n",
       "\\end{tabular}\n"
      ],
      "text/markdown": [
       "\n",
       "A matrix: 6 × 66 of type dbl\n",
       "\n",
       "| <!--/--> | 06520001B0023R | 06520003C0012R | 06520004C0018R | 06520005C0017R | 06520006C0016R | 06520007C0018R | 06520008C0017R | 06520010B0023R | 06520011B0023R | 06520015C0016R | ⋯ | 06520095B0017R | 06520097B0021R | 06520099B0017R | 06520100B0017R | 06520103C0017R | 06520104C0017R | 06520105C0017R | 06520106C0017R | 06520107C0017R | 06520110C0016R |\n",
       "|---|---|---|---|---|---|---|---|---|---|---|---|---|---|---|---|---|---|---|---|---|---|\n",
       "| TH_4 | 3.258641 | 2.543560 | 2.470124 | 3.873546 | 2.379499 | 2.629001 | 3.626413 | 3.324695 | 3.378651 | 3.010907 | ⋯ | 2.951200 | 3.083745 | 2.632355 | 2.061169 | 3.220097 | 3.715501 | 3.701069 | 3.795182 | 3.725360 | 2.996888 |\n",
       "| TH_18 | 3.402986 | 3.732832 | 3.247667 | 4.139311 | 3.341334 | 3.291128 | 4.050459 | 3.721943 | 3.655911 | 3.816681 | ⋯ | 3.551753 | 3.175228 | 3.525619 | 3.196350 | 3.502437 | 3.907429 | 4.421255 | 4.021101 | 4.220187 | 3.828690 |\n",
       "| TH_17 | 2.899621 | 3.349528 | 2.850904 | 2.935903 | 2.614786 | 2.895317 | 3.348928 | 3.045980 | 2.964719 | 3.480863 | ⋯ | 3.015086 | 2.616543 | 3.032016 | 2.728924 | 3.155685 | 3.335919 | 3.722357 | 3.176780 | 3.500666 | 3.466325 |\n",
       "| TH_28 | 2.122054 | 2.508796 | 2.143300 | 3.314616 | 2.165245 | 1.977253 | 2.165512 | 2.499301 | 2.533448 | 3.328631 | ⋯ | 2.511312 | 1.076290 | 2.442948 | 2.083394 | 2.147661 | 2.551371 | 3.625210 | 2.598789 | 3.111280 | 2.757612 |\n",
       "| TH_6 | 2.835558 | 3.165800 | 2.741455 | 3.255378 | 2.731744 | 2.760267 | 3.137937 | 3.093191 | 3.024381 | 3.281667 | ⋯ | 3.015380 | 2.593224 | 2.971578 | 2.649060 | 2.974029 | 3.278718 | 3.668864 | 3.268602 | 3.505263 | 3.297834 |\n",
       "| TH_7 | 3.246414 | 3.515224 | 3.084530 | 3.041327 | 2.726420 | 3.288073 | 3.286074 | 3.328865 | 3.101268 | 3.797706 | ⋯ | 3.225476 | 2.599680 | 3.158812 | 3.012368 | 3.441499 | 3.529465 | 3.870514 | 3.326879 | 3.653408 | 3.721464 |\n",
       "\n"
      ],
      "text/plain": [
       "      06520001B0023R 06520003C0012R 06520004C0018R 06520005C0017R\n",
       "TH_4  3.258641       2.543560       2.470124       3.873546      \n",
       "TH_18 3.402986       3.732832       3.247667       4.139311      \n",
       "TH_17 2.899621       3.349528       2.850904       2.935903      \n",
       "TH_28 2.122054       2.508796       2.143300       3.314616      \n",
       "TH_6  2.835558       3.165800       2.741455       3.255378      \n",
       "TH_7  3.246414       3.515224       3.084530       3.041327      \n",
       "      06520006C0016R 06520007C0018R 06520008C0017R 06520010B0023R\n",
       "TH_4  2.379499       2.629001       3.626413       3.324695      \n",
       "TH_18 3.341334       3.291128       4.050459       3.721943      \n",
       "TH_17 2.614786       2.895317       3.348928       3.045980      \n",
       "TH_28 2.165245       1.977253       2.165512       2.499301      \n",
       "TH_6  2.731744       2.760267       3.137937       3.093191      \n",
       "TH_7  2.726420       3.288073       3.286074       3.328865      \n",
       "      06520011B0023R 06520015C0016R ⋯ 06520095B0017R 06520097B0021R\n",
       "TH_4  3.378651       3.010907       ⋯ 2.951200       3.083745      \n",
       "TH_18 3.655911       3.816681       ⋯ 3.551753       3.175228      \n",
       "TH_17 2.964719       3.480863       ⋯ 3.015086       2.616543      \n",
       "TH_28 2.533448       3.328631       ⋯ 2.511312       1.076290      \n",
       "TH_6  3.024381       3.281667       ⋯ 3.015380       2.593224      \n",
       "TH_7  3.101268       3.797706       ⋯ 3.225476       2.599680      \n",
       "      06520099B0017R 06520100B0017R 06520103C0017R 06520104C0017R\n",
       "TH_4  2.632355       2.061169       3.220097       3.715501      \n",
       "TH_18 3.525619       3.196350       3.502437       3.907429      \n",
       "TH_17 3.032016       2.728924       3.155685       3.335919      \n",
       "TH_28 2.442948       2.083394       2.147661       2.551371      \n",
       "TH_6  2.971578       2.649060       2.974029       3.278718      \n",
       "TH_7  3.158812       3.012368       3.441499       3.529465      \n",
       "      06520105C0017R 06520106C0017R 06520107C0017R 06520110C0016R\n",
       "TH_4  3.701069       3.795182       3.725360       2.996888      \n",
       "TH_18 4.421255       4.021101       4.220187       3.828690      \n",
       "TH_17 3.722357       3.176780       3.500666       3.466325      \n",
       "TH_28 3.625210       2.598789       3.111280       2.757612      \n",
       "TH_6  3.668864       3.268602       3.505263       3.297834      \n",
       "TH_7  3.870514       3.326879       3.653408       3.721464      "
      ]
     },
     "metadata": {},
     "output_type": "display_data"
    }
   ],
   "source": [
    "head(module_sample)"
   ]
  },
  {
   "cell_type": "markdown",
   "metadata": {},
   "source": [
    "Merge with metadata for survival analysis"
   ]
  },
  {
   "cell_type": "code",
   "execution_count": 166,
   "metadata": {
    "scrolled": true
   },
   "outputs": [],
   "source": [
    "module_sample_t <- as.data.frame(t(module_sample))\n",
    "module_sample_t$sample_id <- rownames(module_sample_t)"
   ]
  },
  {
   "cell_type": "code",
   "execution_count": 167,
   "metadata": {},
   "outputs": [],
   "source": [
    "metadata_modules <- merge(metadata, module_sample_t, by = \"sample_id\")"
   ]
  },
  {
   "cell_type": "markdown",
   "metadata": {},
   "source": [
    "Run cox and make a summary matrix"
   ]
  },
  {
   "cell_type": "code",
   "execution_count": 168,
   "metadata": {},
   "outputs": [],
   "source": [
    "module_cox <- matrix(nrow = nrow(module_sample), ncol = 7)\n",
    "rownames(module_cox) <- rownames(module_sample)\n",
    "colnames(module_cox) <- c('coef', 'exp(coef)', 'se(coef)', 'z', 'Pr(>|z|)', 'lower.95' ,'upper.95')"
   ]
  },
  {
   "cell_type": "code",
   "execution_count": 169,
   "metadata": {},
   "outputs": [],
   "source": [
    "for(i in rownames(module_cox)){\n",
    "  #  message(i)\n",
    "    f <- as.formula(paste0(\"Surv(TRTDUR, progressed)~\", i, \" + sample_origin\"))  \n",
    "    coxmodel <- coxph(f, data=metadata_modules) \n",
    "    sumcox <- summary(coxmodel)\n",
    "   # print(sumcox)\n",
    "    module_cox[i,1:5] <- sumcox$coefficients[1,1:5]\n",
    "    module_cox[i,6:7] <- sumcox$conf.int[1,3:4]\n",
    "}"
   ]
  },
  {
   "cell_type": "code",
   "execution_count": 170,
   "metadata": {
    "scrolled": true
   },
   "outputs": [
    {
     "data": {
      "text/html": [
       "<table class=\"dataframe\">\n",
       "<caption>A matrix: 6 × 7 of type dbl</caption>\n",
       "<thead>\n",
       "\t<tr><th></th><th scope=col>coef</th><th scope=col>exp(coef)</th><th scope=col>se(coef)</th><th scope=col>z</th><th scope=col>Pr(&gt;|z|)</th><th scope=col>lower.95</th><th scope=col>upper.95</th></tr>\n",
       "</thead>\n",
       "<tbody>\n",
       "\t<tr><th scope=row>TH_4</th><td> 0.1258451</td><td>1.1341065</td><td>0.2626941</td><td> 0.4790558</td><td>0.63189891</td><td>0.6777168</td><td>1.897839</td></tr>\n",
       "\t<tr><th scope=row>TH_18</th><td>-0.3245838</td><td>0.7228281</td><td>0.3048519</td><td>-1.0647265</td><td>0.28699972</td><td>0.3976900</td><td>1.313788</td></tr>\n",
       "\t<tr><th scope=row>TH_17</th><td>-0.4159244</td><td>0.6597301</td><td>0.3508369</td><td>-1.1855206</td><td>0.23581166</td><td>0.3316907</td><td>1.312198</td></tr>\n",
       "\t<tr><th scope=row>TH_28</th><td>-0.5627951</td><td>0.5696147</td><td>0.3163769</td><td>-1.7788756</td><td>0.07526015</td><td>0.3063943</td><td>1.058965</td></tr>\n",
       "\t<tr><th scope=row>TH_6</th><td>-0.4413447</td><td>0.6431710</td><td>0.3597122</td><td>-1.2269385</td><td>0.21984571</td><td>0.3177890</td><td>1.301709</td></tr>\n",
       "\t<tr><th scope=row>TH_7</th><td>-0.4939272</td><td>0.6102252</td><td>0.3346354</td><td>-1.4760160</td><td>0.13993959</td><td>0.3166999</td><td>1.175797</td></tr>\n",
       "</tbody>\n",
       "</table>\n"
      ],
      "text/latex": [
       "A matrix: 6 × 7 of type dbl\n",
       "\\begin{tabular}{r|lllllll}\n",
       "  & coef & exp(coef) & se(coef) & z & Pr(>\\textbar{}z\\textbar{}) & lower.95 & upper.95\\\\\n",
       "\\hline\n",
       "\tTH\\_4 &  0.1258451 & 1.1341065 & 0.2626941 &  0.4790558 & 0.63189891 & 0.6777168 & 1.897839\\\\\n",
       "\tTH\\_18 & -0.3245838 & 0.7228281 & 0.3048519 & -1.0647265 & 0.28699972 & 0.3976900 & 1.313788\\\\\n",
       "\tTH\\_17 & -0.4159244 & 0.6597301 & 0.3508369 & -1.1855206 & 0.23581166 & 0.3316907 & 1.312198\\\\\n",
       "\tTH\\_28 & -0.5627951 & 0.5696147 & 0.3163769 & -1.7788756 & 0.07526015 & 0.3063943 & 1.058965\\\\\n",
       "\tTH\\_6 & -0.4413447 & 0.6431710 & 0.3597122 & -1.2269385 & 0.21984571 & 0.3177890 & 1.301709\\\\\n",
       "\tTH\\_7 & -0.4939272 & 0.6102252 & 0.3346354 & -1.4760160 & 0.13993959 & 0.3166999 & 1.175797\\\\\n",
       "\\end{tabular}\n"
      ],
      "text/markdown": [
       "\n",
       "A matrix: 6 × 7 of type dbl\n",
       "\n",
       "| <!--/--> | coef | exp(coef) | se(coef) | z | Pr(&gt;|z|) | lower.95 | upper.95 |\n",
       "|---|---|---|---|---|---|---|---|\n",
       "| TH_4 |  0.1258451 | 1.1341065 | 0.2626941 |  0.4790558 | 0.63189891 | 0.6777168 | 1.897839 |\n",
       "| TH_18 | -0.3245838 | 0.7228281 | 0.3048519 | -1.0647265 | 0.28699972 | 0.3976900 | 1.313788 |\n",
       "| TH_17 | -0.4159244 | 0.6597301 | 0.3508369 | -1.1855206 | 0.23581166 | 0.3316907 | 1.312198 |\n",
       "| TH_28 | -0.5627951 | 0.5696147 | 0.3163769 | -1.7788756 | 0.07526015 | 0.3063943 | 1.058965 |\n",
       "| TH_6 | -0.4413447 | 0.6431710 | 0.3597122 | -1.2269385 | 0.21984571 | 0.3177890 | 1.301709 |\n",
       "| TH_7 | -0.4939272 | 0.6102252 | 0.3346354 | -1.4760160 | 0.13993959 | 0.3166999 | 1.175797 |\n",
       "\n"
      ],
      "text/plain": [
       "      coef       exp(coef) se(coef)  z          Pr(>|z|)   lower.95  upper.95\n",
       "TH_4   0.1258451 1.1341065 0.2626941  0.4790558 0.63189891 0.6777168 1.897839\n",
       "TH_18 -0.3245838 0.7228281 0.3048519 -1.0647265 0.28699972 0.3976900 1.313788\n",
       "TH_17 -0.4159244 0.6597301 0.3508369 -1.1855206 0.23581166 0.3316907 1.312198\n",
       "TH_28 -0.5627951 0.5696147 0.3163769 -1.7788756 0.07526015 0.3063943 1.058965\n",
       "TH_6  -0.4413447 0.6431710 0.3597122 -1.2269385 0.21984571 0.3177890 1.301709\n",
       "TH_7  -0.4939272 0.6102252 0.3346354 -1.4760160 0.13993959 0.3166999 1.175797"
      ]
     },
     "metadata": {},
     "output_type": "display_data"
    }
   ],
   "source": [
    "head(module_cox)"
   ]
  },
  {
   "cell_type": "markdown",
   "metadata": {},
   "source": [
    "Calculate FDR add to matrix"
   ]
  },
  {
   "cell_type": "code",
   "execution_count": 171,
   "metadata": {
    "scrolled": true
   },
   "outputs": [],
   "source": [
    "fdr_df <- as.matrix(p.adjust(module_cox[,5], method = \"fdr\"))\n",
    "colnames(fdr_df)[1] <- \"fdr\"\n",
    "module_cox <- cbind(module_cox, fdr_df)"
   ]
  },
  {
   "cell_type": "markdown",
   "metadata": {},
   "source": [
    "Order FDR for plot"
   ]
  },
  {
   "cell_type": "code",
   "execution_count": 172,
   "metadata": {},
   "outputs": [],
   "source": [
    "module_cox <- module_cox[order(module_cox[,8], module_cox[,2]),]"
   ]
  },
  {
   "cell_type": "code",
   "execution_count": 173,
   "metadata": {},
   "outputs": [
    {
     "data": {
      "text/plain": [
       "GRID.VP.13::forestplot_margins "
      ]
     },
     "metadata": {},
     "output_type": "display_data"
    },
    {
     "data": {
      "image/png": "[encoded data removed]",
      "text/plain": [
       "plot without title"
      ]
     },
     "metadata": {
      "image/png": {
       "height": 420,
       "width": 420
      }
     },
     "output_type": "display_data"
    }
   ],
   "source": [
    "forest.fx(module_cox, \"Multivariable model (+ sample origin)\", 3, 14)"
   ]
  },
  {
   "cell_type": "code",
   "execution_count": 174,
   "metadata": {},
   "outputs": [
    {
     "data": {
      "text/plain": [
       "GRID.VP.15::forestplot_margins "
      ]
     },
     "metadata": {},
     "output_type": "display_data"
    },
    {
     "data": {
      "text/html": [
       "<strong>pdf:</strong> 2"
      ],
      "text/latex": [
       "\\textbf{pdf:} 2"
      ],
      "text/markdown": [
       "**pdf:** 2"
      ],
      "text/plain": [
       "pdf \n",
       "  2 "
      ]
     },
     "metadata": {},
     "output_type": "display_data"
    }
   ],
   "source": [
    "pdf(file = paste0(plotpath,\"Multivar_forestplot_ordered.pdf\"),\n",
    "    width = 8, height = 12,\n",
    "    useDingbats = FALSE, onefile = F)\n",
    "\n",
    "forest.fx(module_cox, \"Multivariable model (sample origin)\", 3, 14)\n",
    "\n",
    "dev.off()"
   ]
  }
 ],
 "metadata": {
  "kernelspec": {
   "display_name": "R 4.0",
   "language": "R",
   "name": "ir40"
  },
  "language_info": {
   "codemirror_mode": "r",
   "file_extension": ".r",
   "mimetype": "text/x-r-source",
   "name": "R",
   "pygments_lexer": "r",
   "version": "4.0.3"
  },
  "toc": {
   "base_numbering": 1,
   "nav_menu": {},
   "number_sections": false,
   "sideBar": true,
   "skip_h1_title": false,
   "title_cell": "Table of Contents",
   "title_sidebar": "Contents",
   "toc_cell": true,
   "toc_position": {
    "height": "calc(100% - 180px)",
    "left": "10px",
    "top": "150px",
    "width": "165px"
   },
   "toc_section_display": true,
   "toc_window_display": true
  }
 },
 "nbformat": 4,
 "nbformat_minor": 2
}
