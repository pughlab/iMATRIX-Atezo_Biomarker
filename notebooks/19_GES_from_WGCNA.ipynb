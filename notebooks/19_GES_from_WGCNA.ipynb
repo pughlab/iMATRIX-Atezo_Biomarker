{
 "cells": [
  {
   "cell_type": "markdown",
   "metadata": {
    "toc": true
   },
   "source": [
    "<h1>Table of Contents<span class=\"tocSkip\"></span></h1>\n",
    "<div class=\"toc\"><ul class=\"toc-item\"><li><span><a href=\"#Dependencies\" data-toc-modified-id=\"Dependencies-1\">Dependencies</a></span></li><li><span><a href=\"#Functions\" data-toc-modified-id=\"Functions-2\">Functions</a></span></li><li><span><a href=\"#Paths\" data-toc-modified-id=\"Paths-3\">Paths</a></span></li><li><span><a href=\"#Main\" data-toc-modified-id=\"Main-4\">Main</a></span></li><li><span><a href=\"#Survival-value-of-gene-modules\" data-toc-modified-id=\"Survival-value-of-gene-modules-5\">Survival value of gene modules</a></span><ul class=\"toc-item\"><li><span><a href=\"#Univariable-model\" data-toc-modified-id=\"Univariable-model-5.1\">Univariable model</a></span></li><li><span><a href=\"#TableS7\" data-toc-modified-id=\"TableS7-5.2\">TableS7</a></span></li></ul></li><li><span><a href=\"#Determine-module-membership-for-GES\" data-toc-modified-id=\"Determine-module-membership-for-GES-6\">Determine module membership for GES</a></span><ul class=\"toc-item\"><li><span><a href=\"#Table-S8\" data-toc-modified-id=\"Table-S8-6.1\">Table S8</a></span></li><li><span><a href=\"#Quick-survival-analysis-using-important-genes\" data-toc-modified-id=\"Quick-survival-analysis-using-important-genes-6.2\">Quick survival analysis using important genes</a></span></li><li><span><a href=\"#Multivariable-model\" data-toc-modified-id=\"Multivariable-model-6.3\">Multivariable model</a></span></li></ul></li></ul></div>"
   ]
  },
  {
   "cell_type": "markdown",
   "metadata": {},
   "source": [
    "# Dependencies"
   ]
  },
  {
   "cell_type": "code",
   "execution_count": 1,
   "metadata": {},
   "outputs": [
    {
     "name": "stderr",
     "output_type": "stream",
     "text": [
      "Loading required package: ggplot2\n",
      "\n",
      "Loading required package: ggpubr\n",
      "\n",
      "Loading required package: grid\n",
      "\n",
      "Loading required package: magrittr\n",
      "\n",
      "Loading required package: checkmate\n",
      "\n"
     ]
    }
   ],
   "source": [
    "library(survival)\n",
    "library(survminer)\n",
    "library(forestplot)"
   ]
  },
  {
   "cell_type": "markdown",
   "metadata": {},
   "source": [
    "# Functions\n"
   ]
  },
  {
   "cell_type": "code",
   "execution_count": 2,
   "metadata": {},
   "outputs": [],
   "source": [
    "forest.fx <- function(cox_matrix, mytitle, signumber, totalnumber){\n",
    "    myhrs <- cox_matrix[,c(2,6,7)]\n",
    "    myhrs <- rbind(NA, myhrs)\n",
    "    mytabletext <- as.data.frame(cox_matrix[,c(2,5,8)])\n",
    "    mytabletext <- format(round(mytabletext, 3))\n",
    "    mytabletext <- cbind(rownames(mytabletext),mytabletext)\n",
    "    colnames(mytabletext) <- c(\"Signature\", \"Hazard Ratio\", \"p-value\", \"FDR\")\n",
    "    rownames(mytabletext) <- NULL\n",
    "    mytabletext <- rbind(colnames(mytabletext), mytabletext)\n",
    "    \n",
    "    fn <- local({\n",
    "        i = 0\n",
    "        nonsig <- totalnumber - signumber\n",
    "        b_clrs = c(rep(\"red\", signumber), rep(\"black\",nonsig))\n",
    "        l_clrs = c(rep(\"red\", signumber), rep(\"black\",nonsig))\n",
    "        function(..., clr.line, clr.marker){\n",
    "            i <<- i + 1\n",
    "            fpDrawNormalCI(..., clr.line = l_clrs[i], clr.marker = b_clrs[i])\n",
    "        }\n",
    "    })\n",
    "    \n",
    "    fplot <- forestplot(mytabletext, fn.ci_norm = fn, myhrs,\n",
    "                        new_page = TRUE, xlog = TRUE,\n",
    "                        title = mytitle, boxsize = 0.3)\n",
    "\n",
    "    return(fplot)\n",
    "}"
   ]
  },
  {
   "cell_type": "markdown",
   "metadata": {},
   "source": [
    "# Paths"
   ]
  },
  {
   "cell_type": "code",
   "execution_count": 3,
   "metadata": {},
   "outputs": [],
   "source": [
    "datapath <- \"/Users/anabbi/OneDrive - UHN/Documents/INDICATE/Data/\"\n",
    "plotpath <- \"/Users/anabbi/OneDrive - UHN/Documents/INDICATE/Plots/\""
   ]
  },
  {
   "cell_type": "markdown",
   "metadata": {},
   "source": [
    "# Main"
   ]
  },
  {
   "cell_type": "code",
   "execution_count": 4,
   "metadata": {},
   "outputs": [],
   "source": [
    "gene_module_th <- read.csv(file = paste0(datapath, \"WGCNA/TH/gene_module_treehouse_manual_signed_20.csv\"),\n",
    "                                      header = T, stringsAsFactors = F,row.names = 1,check.names = F) "
   ]
  },
  {
   "cell_type": "code",
   "execution_count": 5,
   "metadata": {},
   "outputs": [],
   "source": [
    "gene_module_th <- gene_module_th[ gene_module_th$moduleColor != \"grey\",]\n",
    "gene_module_th$moduleLabel <- paste0(\"TH_\", gene_module_th$moduleLabel)"
   ]
  },
  {
   "cell_type": "code",
   "execution_count": 6,
   "metadata": {},
   "outputs": [
    {
     "data": {
      "text/html": [
       "<table class=\"dataframe\">\n",
       "<caption>A data.frame: 6 × 5</caption>\n",
       "<thead>\n",
       "\t<tr><th></th><th scope=col>moduleLabel</th><th scope=col>moduleColor</th><th scope=col>ensembl_id_TH</th><th scope=col>ensembl_id</th><th scope=col>entrez</th></tr>\n",
       "\t<tr><th></th><th scope=col>&lt;chr&gt;</th><th scope=col>&lt;chr&gt;</th><th scope=col>&lt;chr&gt;</th><th scope=col>&lt;chr&gt;</th><th scope=col>&lt;int&gt;</th></tr>\n",
       "</thead>\n",
       "<tbody>\n",
       "\t<tr><th scope=row>ZWINT</th><td>TH_4 </td><td>yellow</td><td>ENSG00000122952.16</td><td>ENSG00000122952</td><td> 11130</td></tr>\n",
       "\t<tr><th scope=row>ZXDA</th><td>TH_6 </td><td>red   </td><td>ENSG00000198205.6 </td><td>ENSG00000198205</td><td>  7789</td></tr>\n",
       "\t<tr><th scope=row>ZXDB</th><td>TH_17</td><td>grey60</td><td>ENSG00000198455.4 </td><td>ENSG00000198455</td><td>158586</td></tr>\n",
       "\t<tr><th scope=row>ZXDC</th><td>TH_6 </td><td>red   </td><td>ENSG00000070476.14</td><td>ENSG00000070476</td><td> 79364</td></tr>\n",
       "\t<tr><th scope=row>ZYG11B</th><td>TH_17</td><td>grey60</td><td>ENSG00000162378.12</td><td>ENSG00000162378</td><td> 79699</td></tr>\n",
       "\t<tr><th scope=row>ZZZ3</th><td>TH_6 </td><td>red   </td><td>ENSG00000036549.12</td><td>ENSG00000036549</td><td> 26009</td></tr>\n",
       "</tbody>\n",
       "</table>\n"
      ],
      "text/latex": [
       "A data.frame: 6 × 5\n",
       "\\begin{tabular}{r|lllll}\n",
       "  & moduleLabel & moduleColor & ensembl\\_id\\_TH & ensembl\\_id & entrez\\\\\n",
       "  & <chr> & <chr> & <chr> & <chr> & <int>\\\\\n",
       "\\hline\n",
       "\tZWINT & TH\\_4  & yellow & ENSG00000122952.16 & ENSG00000122952 &  11130\\\\\n",
       "\tZXDA & TH\\_6  & red    & ENSG00000198205.6  & ENSG00000198205 &   7789\\\\\n",
       "\tZXDB & TH\\_17 & grey60 & ENSG00000198455.4  & ENSG00000198455 & 158586\\\\\n",
       "\tZXDC & TH\\_6  & red    & ENSG00000070476.14 & ENSG00000070476 &  79364\\\\\n",
       "\tZYG11B & TH\\_17 & grey60 & ENSG00000162378.12 & ENSG00000162378 &  79699\\\\\n",
       "\tZZZ3 & TH\\_6  & red    & ENSG00000036549.12 & ENSG00000036549 &  26009\\\\\n",
       "\\end{tabular}\n"
      ],
      "text/markdown": [
       "\n",
       "A data.frame: 6 × 5\n",
       "\n",
       "| <!--/--> | moduleLabel &lt;chr&gt; | moduleColor &lt;chr&gt; | ensembl_id_TH &lt;chr&gt; | ensembl_id &lt;chr&gt; | entrez &lt;int&gt; |\n",
       "|---|---|---|---|---|---|\n",
       "| ZWINT | TH_4  | yellow | ENSG00000122952.16 | ENSG00000122952 |  11130 |\n",
       "| ZXDA | TH_6  | red    | ENSG00000198205.6  | ENSG00000198205 |   7789 |\n",
       "| ZXDB | TH_17 | grey60 | ENSG00000198455.4  | ENSG00000198455 | 158586 |\n",
       "| ZXDC | TH_6  | red    | ENSG00000070476.14 | ENSG00000070476 |  79364 |\n",
       "| ZYG11B | TH_17 | grey60 | ENSG00000162378.12 | ENSG00000162378 |  79699 |\n",
       "| ZZZ3 | TH_6  | red    | ENSG00000036549.12 | ENSG00000036549 |  26009 |\n",
       "\n"
      ],
      "text/plain": [
       "       moduleLabel moduleColor ensembl_id_TH      ensembl_id      entrez\n",
       "ZWINT  TH_4        yellow      ENSG00000122952.16 ENSG00000122952  11130\n",
       "ZXDA   TH_6        red         ENSG00000198205.6  ENSG00000198205   7789\n",
       "ZXDB   TH_17       grey60      ENSG00000198455.4  ENSG00000198455 158586\n",
       "ZXDC   TH_6        red         ENSG00000070476.14 ENSG00000070476  79364\n",
       "ZYG11B TH_17       grey60      ENSG00000162378.12 ENSG00000162378  79699\n",
       "ZZZ3   TH_6        red         ENSG00000036549.12 ENSG00000036549  26009"
      ]
     },
     "metadata": {},
     "output_type": "display_data"
    }
   ],
   "source": [
    "tail(gene_module_th)"
   ]
  },
  {
   "cell_type": "code",
   "execution_count": 7,
   "metadata": {},
   "outputs": [
    {
     "data": {
      "text/plain": [
       "\n",
       "        black         brown          cyan     darkgreen      darkgrey \n",
       "          332           228            85            44            33 \n",
       "   darkorange darkturquoise        grey60    lightgreen           red \n",
       "           28            43           535            51          1162 \n",
       "       salmon       skyblue         white        yellow \n",
       "           58            24            28           393 "
      ]
     },
     "metadata": {},
     "output_type": "display_data"
    }
   ],
   "source": [
    "table(gene_module_th$moduleColor)"
   ]
  },
  {
   "cell_type": "code",
   "execution_count": 8,
   "metadata": {},
   "outputs": [
    {
     "data": {
      "text/html": [
       "14"
      ],
      "text/latex": [
       "14"
      ],
      "text/markdown": [
       "14"
      ],
      "text/plain": [
       "[1] 14"
      ]
     },
     "metadata": {},
     "output_type": "display_data"
    }
   ],
   "source": [
    "length(unique(gene_module_th$moduleColor))"
   ]
  },
  {
   "cell_type": "code",
   "execution_count": 9,
   "metadata": {},
   "outputs": [
    {
     "data": {
      "text/html": [
       "3044"
      ],
      "text/latex": [
       "3044"
      ],
      "text/markdown": [
       "3044"
      ],
      "text/plain": [
       "[1] 3044"
      ]
     },
     "metadata": {},
     "output_type": "display_data"
    }
   ],
   "source": [
    "nrow(gene_module_th)"
   ]
  },
  {
   "cell_type": "code",
   "execution_count": 10,
   "metadata": {},
   "outputs": [],
   "source": [
    "GO_modules <- read.csv(file.path(datapath,\"WGCNA/TH/GO_TH_cons_manual_signed_20.csv\"),\n",
    "                       header = T, stringsAsFactors = F, check.names = F, row.names = 1)  "
   ]
  },
  {
   "cell_type": "code",
   "execution_count": 11,
   "metadata": {},
   "outputs": [],
   "source": [
    "GO_modules <- GO_modules[ GO_modules$module != \"grey\",]"
   ]
  },
  {
   "cell_type": "code",
   "execution_count": 12,
   "metadata": {},
   "outputs": [],
   "source": [
    "GO_modules$moduleLabel <- gene_module_th$moduleLabel[match(GO_modules$module, gene_module_th$moduleColor)]"
   ]
  },
  {
   "cell_type": "code",
   "execution_count": 13,
   "metadata": {},
   "outputs": [],
   "source": [
    "# Add one MF for TH_28 module\n",
    "TH28_MF <- GO_modules[ GO_modules$termName == \"transcription regulator activity\",]"
   ]
  },
  {
   "cell_type": "code",
   "execution_count": 14,
   "metadata": {},
   "outputs": [],
   "source": [
    "GO_modules <- GO_modules[GO_modules$termOntology == \"BP\",]"
   ]
  },
  {
   "cell_type": "code",
   "execution_count": 15,
   "metadata": {},
   "outputs": [],
   "source": [
    "GO_modules <- rbind(GO_modules, TH28_MF)"
   ]
  },
  {
   "cell_type": "code",
   "execution_count": 16,
   "metadata": {},
   "outputs": [
    {
     "data": {
      "text/html": [
       "<style>\n",
       ".list-inline {list-style: none; margin:0; padding: 0}\n",
       ".list-inline>li {display: inline-block}\n",
       ".list-inline>li:not(:last-child)::after {content: \"\\00b7\"; padding: 0 .5ex}\n",
       "</style>\n",
       "<ol class=list-inline><li>96</li><li>8</li></ol>\n"
      ],
      "text/latex": [
       "\\begin{enumerate*}\n",
       "\\item 96\n",
       "\\item 8\n",
       "\\end{enumerate*}\n"
      ],
      "text/markdown": [
       "1. 96\n",
       "2. 8\n",
       "\n",
       "\n"
      ],
      "text/plain": [
       "[1] 96  8"
      ]
     },
     "metadata": {},
     "output_type": "display_data"
    }
   ],
   "source": [
    "dim(GO_modules)"
   ]
  },
  {
   "cell_type": "code",
   "execution_count": 17,
   "metadata": {},
   "outputs": [],
   "source": [
    "GO_modules <- GO_modules[ GO_modules$nModGenesInTerm >= 9,]"
   ]
  },
  {
   "cell_type": "code",
   "execution_count": 18,
   "metadata": {},
   "outputs": [
    {
     "data": {
      "text/html": [
       "<style>\n",
       ".list-inline {list-style: none; margin:0; padding: 0}\n",
       ".list-inline>li {display: inline-block}\n",
       ".list-inline>li:not(:last-child)::after {content: \"\\00b7\"; padding: 0 .5ex}\n",
       "</style>\n",
       "<ol class=list-inline><li>85</li><li>8</li></ol>\n"
      ],
      "text/latex": [
       "\\begin{enumerate*}\n",
       "\\item 85\n",
       "\\item 8\n",
       "\\end{enumerate*}\n"
      ],
      "text/markdown": [
       "1. 85\n",
       "2. 8\n",
       "\n",
       "\n"
      ],
      "text/plain": [
       "[1] 85  8"
      ]
     },
     "metadata": {},
     "output_type": "display_data"
    }
   ],
   "source": [
    "dim(GO_modules)"
   ]
  },
  {
   "cell_type": "code",
   "execution_count": 19,
   "metadata": {},
   "outputs": [],
   "source": [
    "GO_modules$myterm <- NA\n",
    "\n",
    "for(i in unique(GO_modules$moduleLabel)){\n",
    "    tmp <- GO_modules[ GO_modules$moduleLabel == i,]\n",
    "    moduleterm <- tmp$termName[tmp$nModGenesInTerm == min(tmp$nModGenesInTerm)][1] #use one term if min returns two terms\n",
    "    GO_modules$myterm[GO_modules$moduleLabel == i] <- moduleterm\n",
    "    \n",
    "}"
   ]
  },
  {
   "cell_type": "code",
   "execution_count": 20,
   "metadata": {},
   "outputs": [
    {
     "data": {
      "text/html": [
       "<table class=\"dataframe\">\n",
       "<caption>A data.frame: 6 × 9</caption>\n",
       "<thead>\n",
       "\t<tr><th></th><th scope=col>module</th><th scope=col>modSize</th><th scope=col>enrichmentP</th><th scope=col>BonferoniP</th><th scope=col>nModGenesInTerm</th><th scope=col>termOntology</th><th scope=col>termName</th><th scope=col>moduleLabel</th><th scope=col>myterm</th></tr>\n",
       "\t<tr><th></th><th scope=col>&lt;chr&gt;</th><th scope=col>&lt;int&gt;</th><th scope=col>&lt;dbl&gt;</th><th scope=col>&lt;dbl&gt;</th><th scope=col>&lt;int&gt;</th><th scope=col>&lt;chr&gt;</th><th scope=col>&lt;chr&gt;</th><th scope=col>&lt;chr&gt;</th><th scope=col>&lt;chr&gt;</th></tr>\n",
       "</thead>\n",
       "<tbody>\n",
       "\t<tr><th scope=row>GO:0016050</th><td>black</td><td>331</td><td>4.6e-13</td><td>8.5e-09</td><td>31</td><td>BP</td><td>vesicle organization            </td><td>TH_7</td><td>vesicle organization</td></tr>\n",
       "\t<tr><th scope=row>GO:0010256</th><td>black</td><td>331</td><td>9.7e-12</td><td>1.8e-07</td><td>34</td><td>BP</td><td>endomembrane system organization</td><td>TH_7</td><td>vesicle organization</td></tr>\n",
       "\t<tr><th scope=row>GO:0042886</th><td>black</td><td>331</td><td>3.1e-11</td><td>5.8e-07</td><td>80</td><td>BP</td><td>amide transport                 </td><td>TH_7</td><td>vesicle organization</td></tr>\n",
       "\t<tr><th scope=row>GO:0015031</th><td>black</td><td>331</td><td>3.2e-11</td><td>5.8e-07</td><td>78</td><td>BP</td><td>protein transport               </td><td>TH_7</td><td>vesicle organization</td></tr>\n",
       "\t<tr><th scope=row>GO:0046907</th><td>black</td><td>331</td><td>7.2e-11</td><td>1.3e-06</td><td>72</td><td>BP</td><td>intracellular transport         </td><td>TH_7</td><td>vesicle organization</td></tr>\n",
       "\t<tr><th scope=row>GO:0015833</th><td>black</td><td>331</td><td>8.7e-11</td><td>1.6e-06</td><td>78</td><td>BP</td><td>peptide transport               </td><td>TH_7</td><td>vesicle organization</td></tr>\n",
       "</tbody>\n",
       "</table>\n"
      ],
      "text/latex": [
       "A data.frame: 6 × 9\n",
       "\\begin{tabular}{r|lllllllll}\n",
       "  & module & modSize & enrichmentP & BonferoniP & nModGenesInTerm & termOntology & termName & moduleLabel & myterm\\\\\n",
       "  & <chr> & <int> & <dbl> & <dbl> & <int> & <chr> & <chr> & <chr> & <chr>\\\\\n",
       "\\hline\n",
       "\tGO:0016050 & black & 331 & 4.6e-13 & 8.5e-09 & 31 & BP & vesicle organization             & TH\\_7 & vesicle organization\\\\\n",
       "\tGO:0010256 & black & 331 & 9.7e-12 & 1.8e-07 & 34 & BP & endomembrane system organization & TH\\_7 & vesicle organization\\\\\n",
       "\tGO:0042886 & black & 331 & 3.1e-11 & 5.8e-07 & 80 & BP & amide transport                  & TH\\_7 & vesicle organization\\\\\n",
       "\tGO:0015031 & black & 331 & 3.2e-11 & 5.8e-07 & 78 & BP & protein transport                & TH\\_7 & vesicle organization\\\\\n",
       "\tGO:0046907 & black & 331 & 7.2e-11 & 1.3e-06 & 72 & BP & intracellular transport          & TH\\_7 & vesicle organization\\\\\n",
       "\tGO:0015833 & black & 331 & 8.7e-11 & 1.6e-06 & 78 & BP & peptide transport                & TH\\_7 & vesicle organization\\\\\n",
       "\\end{tabular}\n"
      ],
      "text/markdown": [
       "\n",
       "A data.frame: 6 × 9\n",
       "\n",
       "| <!--/--> | module &lt;chr&gt; | modSize &lt;int&gt; | enrichmentP &lt;dbl&gt; | BonferoniP &lt;dbl&gt; | nModGenesInTerm &lt;int&gt; | termOntology &lt;chr&gt; | termName &lt;chr&gt; | moduleLabel &lt;chr&gt; | myterm &lt;chr&gt; |\n",
       "|---|---|---|---|---|---|---|---|---|---|\n",
       "| GO:0016050 | black | 331 | 4.6e-13 | 8.5e-09 | 31 | BP | vesicle organization             | TH_7 | vesicle organization |\n",
       "| GO:0010256 | black | 331 | 9.7e-12 | 1.8e-07 | 34 | BP | endomembrane system organization | TH_7 | vesicle organization |\n",
       "| GO:0042886 | black | 331 | 3.1e-11 | 5.8e-07 | 80 | BP | amide transport                  | TH_7 | vesicle organization |\n",
       "| GO:0015031 | black | 331 | 3.2e-11 | 5.8e-07 | 78 | BP | protein transport                | TH_7 | vesicle organization |\n",
       "| GO:0046907 | black | 331 | 7.2e-11 | 1.3e-06 | 72 | BP | intracellular transport          | TH_7 | vesicle organization |\n",
       "| GO:0015833 | black | 331 | 8.7e-11 | 1.6e-06 | 78 | BP | peptide transport                | TH_7 | vesicle organization |\n",
       "\n"
      ],
      "text/plain": [
       "           module modSize enrichmentP BonferoniP nModGenesInTerm termOntology\n",
       "GO:0016050 black  331     4.6e-13     8.5e-09    31              BP          \n",
       "GO:0010256 black  331     9.7e-12     1.8e-07    34              BP          \n",
       "GO:0042886 black  331     3.1e-11     5.8e-07    80              BP          \n",
       "GO:0015031 black  331     3.2e-11     5.8e-07    78              BP          \n",
       "GO:0046907 black  331     7.2e-11     1.3e-06    72              BP          \n",
       "GO:0015833 black  331     8.7e-11     1.6e-06    78              BP          \n",
       "           termName                         moduleLabel myterm              \n",
       "GO:0016050 vesicle organization             TH_7        vesicle organization\n",
       "GO:0010256 endomembrane system organization TH_7        vesicle organization\n",
       "GO:0042886 amide transport                  TH_7        vesicle organization\n",
       "GO:0015031 protein transport                TH_7        vesicle organization\n",
       "GO:0046907 intracellular transport          TH_7        vesicle organization\n",
       "GO:0015833 peptide transport                TH_7        vesicle organization"
      ]
     },
     "metadata": {},
     "output_type": "display_data"
    }
   ],
   "source": [
    "head(GO_modules)"
   ]
  },
  {
   "cell_type": "code",
   "execution_count": 21,
   "metadata": {},
   "outputs": [
    {
     "data": {
      "text/html": [
       "<style>\n",
       ".list-inline {list-style: none; margin:0; padding: 0}\n",
       ".list-inline>li {display: inline-block}\n",
       ".list-inline>li:not(:last-child)::after {content: \"\\00b7\"; padding: 0 .5ex}\n",
       "</style>\n",
       "<ol class=list-inline><li>3044</li><li>5</li></ol>\n"
      ],
      "text/latex": [
       "\\begin{enumerate*}\n",
       "\\item 3044\n",
       "\\item 5\n",
       "\\end{enumerate*}\n"
      ],
      "text/markdown": [
       "1. 3044\n",
       "2. 5\n",
       "\n",
       "\n"
      ],
      "text/plain": [
       "[1] 3044    5"
      ]
     },
     "metadata": {},
     "output_type": "display_data"
    }
   ],
   "source": [
    "dim(gene_module_th)"
   ]
  },
  {
   "cell_type": "code",
   "execution_count": 22,
   "metadata": {},
   "outputs": [
    {
     "data": {
      "text/html": [
       "<style>\n",
       ".list-inline {list-style: none; margin:0; padding: 0}\n",
       ".list-inline>li {display: inline-block}\n",
       ".list-inline>li:not(:last-child)::after {content: \"\\00b7\"; padding: 0 .5ex}\n",
       "</style>\n",
       "<ol class=list-inline><li>85</li><li>9</li></ol>\n"
      ],
      "text/latex": [
       "\\begin{enumerate*}\n",
       "\\item 85\n",
       "\\item 9\n",
       "\\end{enumerate*}\n"
      ],
      "text/markdown": [
       "1. 85\n",
       "2. 9\n",
       "\n",
       "\n"
      ],
      "text/plain": [
       "[1] 85  9"
      ]
     },
     "metadata": {},
     "output_type": "display_data"
    }
   ],
   "source": [
    "dim(GO_modules)"
   ]
  },
  {
   "cell_type": "markdown",
   "metadata": {},
   "source": [
    "# Survival value of gene modules"
   ]
  },
  {
   "cell_type": "code",
   "execution_count": 23,
   "metadata": {},
   "outputs": [],
   "source": [
    "metadata <- read.csv(file.path(datapath,\"IND_estimate_metadata_IHC_trb_tmb.csv\"),header = T, stringsAsFactors = F, \n",
    "                     check.names = F)"
   ]
  },
  {
   "cell_type": "markdown",
   "metadata": {},
   "source": [
    "expression matrix in tpm hg38\n",
    "\n",
    "added ensg ids. "
   ]
  },
  {
   "cell_type": "code",
   "execution_count": 24,
   "metadata": {},
   "outputs": [],
   "source": [
    "tpm_mat <- read.csv(file = paste0(datapath, \"exp_mat/INDICATE.tpm_hg38_ENSG_HUGO.csv\"), \n",
    "                    header = T, stringsAsFactors = F,check.names = F) "
   ]
  },
  {
   "cell_type": "code",
   "execution_count": 25,
   "metadata": {},
   "outputs": [
    {
     "data": {
      "text/html": [
       "<style>\n",
       ".list-inline {list-style: none; margin:0; padding: 0}\n",
       ".list-inline>li {display: inline-block}\n",
       ".list-inline>li:not(:last-child)::after {content: \"\\00b7\"; padding: 0 .5ex}\n",
       "</style>\n",
       "<ol class=list-inline><li>26475</li><li>75</li></ol>\n"
      ],
      "text/latex": [
       "\\begin{enumerate*}\n",
       "\\item 26475\n",
       "\\item 75\n",
       "\\end{enumerate*}\n"
      ],
      "text/markdown": [
       "1. 26475\n",
       "2. 75\n",
       "\n",
       "\n"
      ],
      "text/plain": [
       "[1] 26475    75"
      ]
     },
     "metadata": {},
     "output_type": "display_data"
    }
   ],
   "source": [
    "dim(tpm_mat)"
   ]
  },
  {
   "cell_type": "code",
   "execution_count": 26,
   "metadata": {},
   "outputs": [
    {
     "data": {
      "text/html": [
       "<table class=\"dataframe\">\n",
       "<caption>A data.frame: 10 × 10</caption>\n",
       "<thead>\n",
       "\t<tr><th></th><th scope=col>ensembl_id</th><th scope=col>HGNC_symbol</th><th scope=col>go29664_ngs_rna_targrna_rnaaccess_06520001b0023r_20171125.genes.results</th><th scope=col>go29664_ngs_rna_targrna_rnaaccess_06520003c0012r_20171125.genes.results</th><th scope=col>go29664_ngs_rna_targrna_rnaaccess_06520004c0018r_20171125.genes.results</th><th scope=col>go29664_ngs_rna_targrna_rnaaccess_06520005c0017r_20171125.genes.results</th><th scope=col>go29664_ngs_rna_targrna_rnaaccess_06520006c0016r_20171125.genes.results</th><th scope=col>go29664_ngs_rna_targrna_rnaaccess_06520007c0018r_20171125.genes.results</th><th scope=col>go29664_ngs_rna_targrna_rnaaccess_06520008c0017r_20171125.genes.results</th><th scope=col>go29664_ngs_rna_targrna_rnaaccess_06520010b0023r_20171125.genes.results</th></tr>\n",
       "\t<tr><th></th><th scope=col>&lt;chr&gt;</th><th scope=col>&lt;chr&gt;</th><th scope=col>&lt;dbl&gt;</th><th scope=col>&lt;dbl&gt;</th><th scope=col>&lt;dbl&gt;</th><th scope=col>&lt;dbl&gt;</th><th scope=col>&lt;dbl&gt;</th><th scope=col>&lt;dbl&gt;</th><th scope=col>&lt;dbl&gt;</th><th scope=col>&lt;dbl&gt;</th></tr>\n",
       "</thead>\n",
       "<tbody>\n",
       "\t<tr><th scope=row>1</th><td>ENSG00000121410.11</td><td>A1BG    </td><td>  0.06</td><td> 1.23</td><td> 0.69</td><td> 0.36</td><td> 0.32</td><td>  0.76</td><td>  0.00</td><td> 2.46</td></tr>\n",
       "\t<tr><th scope=row>2</th><td>ENSG00000268895.5 </td><td>A1BG-AS1</td><td>  0.14</td><td> 1.41</td><td> 1.21</td><td> 1.36</td><td> 0.38</td><td>  0.55</td><td>  0.00</td><td> 0.77</td></tr>\n",
       "\t<tr><th scope=row>3</th><td>ENSG00000148584.14</td><td>A1CF    </td><td>  0.00</td><td> 0.00</td><td> 0.00</td><td> 0.00</td><td> 0.00</td><td>  0.00</td><td>  0.00</td><td> 0.00</td></tr>\n",
       "\t<tr><th scope=row>4</th><td>ENSG00000175899.14</td><td>A2M     </td><td>114.92</td><td>98.31</td><td>50.73</td><td>30.12</td><td>35.55</td><td>384.47</td><td>212.23</td><td>71.93</td></tr>\n",
       "\t<tr><th scope=row>5</th><td>ENSG00000245105.2 </td><td>A2M-AS1 </td><td>  0.10</td><td> 1.07</td><td> 0.49</td><td> 0.87</td><td> 0.43</td><td>  0.58</td><td>  0.00</td><td> 0.49</td></tr>\n",
       "\t<tr><th scope=row>6</th><td>ENSG00000166535.19</td><td>A2ML1   </td><td>  0.00</td><td> 0.00</td><td> 0.00</td><td> 0.04</td><td> 0.02</td><td>  0.00</td><td>  0.00</td><td> 3.73</td></tr>\n",
       "\t<tr><th scope=row>7</th><td>ENSG00000256069.7 </td><td>A2MP1   </td><td>  0.00</td><td> 0.00</td><td> 0.00</td><td> 0.00</td><td> 0.00</td><td>  0.00</td><td>  0.00</td><td> 0.00</td></tr>\n",
       "\t<tr><th scope=row>8</th><td>ENSG00000184389.9 </td><td>A3GALT2 </td><td>  0.10</td><td> 0.00</td><td> 0.02</td><td> 0.02</td><td> 0.00</td><td>  0.02</td><td>  0.00</td><td> 0.00</td></tr>\n",
       "\t<tr><th scope=row>9</th><td>ENSG00000128274.15</td><td>A4GALT  </td><td>  2.81</td><td> 8.51</td><td> 6.03</td><td> 0.79</td><td> 0.86</td><td>  1.27</td><td>  0.02</td><td> 2.80</td></tr>\n",
       "\t<tr><th scope=row>10</th><td>ENSG00000118017.3 </td><td>A4GNT   </td><td>  0.00</td><td> 0.00</td><td> 0.00</td><td> 0.00</td><td> 0.00</td><td>  0.01</td><td>  0.00</td><td> 0.00</td></tr>\n",
       "</tbody>\n",
       "</table>\n"
      ],
      "text/latex": [
       "A data.frame: 10 × 10\n",
       "\\begin{tabular}{r|llllllllll}\n",
       "  & ensembl\\_id & HGNC\\_symbol & go29664\\_ngs\\_rna\\_targrna\\_rnaaccess\\_06520001b0023r\\_20171125.genes.results & go29664\\_ngs\\_rna\\_targrna\\_rnaaccess\\_06520003c0012r\\_20171125.genes.results & go29664\\_ngs\\_rna\\_targrna\\_rnaaccess\\_06520004c0018r\\_20171125.genes.results & go29664\\_ngs\\_rna\\_targrna\\_rnaaccess\\_06520005c0017r\\_20171125.genes.results & go29664\\_ngs\\_rna\\_targrna\\_rnaaccess\\_06520006c0016r\\_20171125.genes.results & go29664\\_ngs\\_rna\\_targrna\\_rnaaccess\\_06520007c0018r\\_20171125.genes.results & go29664\\_ngs\\_rna\\_targrna\\_rnaaccess\\_06520008c0017r\\_20171125.genes.results & go29664\\_ngs\\_rna\\_targrna\\_rnaaccess\\_06520010b0023r\\_20171125.genes.results\\\\\n",
       "  & <chr> & <chr> & <dbl> & <dbl> & <dbl> & <dbl> & <dbl> & <dbl> & <dbl> & <dbl>\\\\\n",
       "\\hline\n",
       "\t1 & ENSG00000121410.11 & A1BG     &   0.06 &  1.23 &  0.69 &  0.36 &  0.32 &   0.76 &   0.00 &  2.46\\\\\n",
       "\t2 & ENSG00000268895.5  & A1BG-AS1 &   0.14 &  1.41 &  1.21 &  1.36 &  0.38 &   0.55 &   0.00 &  0.77\\\\\n",
       "\t3 & ENSG00000148584.14 & A1CF     &   0.00 &  0.00 &  0.00 &  0.00 &  0.00 &   0.00 &   0.00 &  0.00\\\\\n",
       "\t4 & ENSG00000175899.14 & A2M      & 114.92 & 98.31 & 50.73 & 30.12 & 35.55 & 384.47 & 212.23 & 71.93\\\\\n",
       "\t5 & ENSG00000245105.2  & A2M-AS1  &   0.10 &  1.07 &  0.49 &  0.87 &  0.43 &   0.58 &   0.00 &  0.49\\\\\n",
       "\t6 & ENSG00000166535.19 & A2ML1    &   0.00 &  0.00 &  0.00 &  0.04 &  0.02 &   0.00 &   0.00 &  3.73\\\\\n",
       "\t7 & ENSG00000256069.7  & A2MP1    &   0.00 &  0.00 &  0.00 &  0.00 &  0.00 &   0.00 &   0.00 &  0.00\\\\\n",
       "\t8 & ENSG00000184389.9  & A3GALT2  &   0.10 &  0.00 &  0.02 &  0.02 &  0.00 &   0.02 &   0.00 &  0.00\\\\\n",
       "\t9 & ENSG00000128274.15 & A4GALT   &   2.81 &  8.51 &  6.03 &  0.79 &  0.86 &   1.27 &   0.02 &  2.80\\\\\n",
       "\t10 & ENSG00000118017.3  & A4GNT    &   0.00 &  0.00 &  0.00 &  0.00 &  0.00 &   0.01 &   0.00 &  0.00\\\\\n",
       "\\end{tabular}\n"
      ],
      "text/markdown": [
       "\n",
       "A data.frame: 10 × 10\n",
       "\n",
       "| <!--/--> | ensembl_id &lt;chr&gt; | HGNC_symbol &lt;chr&gt; | go29664_ngs_rna_targrna_rnaaccess_06520001b0023r_20171125.genes.results &lt;dbl&gt; | go29664_ngs_rna_targrna_rnaaccess_06520003c0012r_20171125.genes.results &lt;dbl&gt; | go29664_ngs_rna_targrna_rnaaccess_06520004c0018r_20171125.genes.results &lt;dbl&gt; | go29664_ngs_rna_targrna_rnaaccess_06520005c0017r_20171125.genes.results &lt;dbl&gt; | go29664_ngs_rna_targrna_rnaaccess_06520006c0016r_20171125.genes.results &lt;dbl&gt; | go29664_ngs_rna_targrna_rnaaccess_06520007c0018r_20171125.genes.results &lt;dbl&gt; | go29664_ngs_rna_targrna_rnaaccess_06520008c0017r_20171125.genes.results &lt;dbl&gt; | go29664_ngs_rna_targrna_rnaaccess_06520010b0023r_20171125.genes.results &lt;dbl&gt; |\n",
       "|---|---|---|---|---|---|---|---|---|---|---|\n",
       "| 1 | ENSG00000121410.11 | A1BG     |   0.06 |  1.23 |  0.69 |  0.36 |  0.32 |   0.76 |   0.00 |  2.46 |\n",
       "| 2 | ENSG00000268895.5  | A1BG-AS1 |   0.14 |  1.41 |  1.21 |  1.36 |  0.38 |   0.55 |   0.00 |  0.77 |\n",
       "| 3 | ENSG00000148584.14 | A1CF     |   0.00 |  0.00 |  0.00 |  0.00 |  0.00 |   0.00 |   0.00 |  0.00 |\n",
       "| 4 | ENSG00000175899.14 | A2M      | 114.92 | 98.31 | 50.73 | 30.12 | 35.55 | 384.47 | 212.23 | 71.93 |\n",
       "| 5 | ENSG00000245105.2  | A2M-AS1  |   0.10 |  1.07 |  0.49 |  0.87 |  0.43 |   0.58 |   0.00 |  0.49 |\n",
       "| 6 | ENSG00000166535.19 | A2ML1    |   0.00 |  0.00 |  0.00 |  0.04 |  0.02 |   0.00 |   0.00 |  3.73 |\n",
       "| 7 | ENSG00000256069.7  | A2MP1    |   0.00 |  0.00 |  0.00 |  0.00 |  0.00 |   0.00 |   0.00 |  0.00 |\n",
       "| 8 | ENSG00000184389.9  | A3GALT2  |   0.10 |  0.00 |  0.02 |  0.02 |  0.00 |   0.02 |   0.00 |  0.00 |\n",
       "| 9 | ENSG00000128274.15 | A4GALT   |   2.81 |  8.51 |  6.03 |  0.79 |  0.86 |   1.27 |   0.02 |  2.80 |\n",
       "| 10 | ENSG00000118017.3  | A4GNT    |   0.00 |  0.00 |  0.00 |  0.00 |  0.00 |   0.01 |   0.00 |  0.00 |\n",
       "\n"
      ],
      "text/plain": [
       "   ensembl_id         HGNC_symbol\n",
       "1  ENSG00000121410.11 A1BG       \n",
       "2  ENSG00000268895.5  A1BG-AS1   \n",
       "3  ENSG00000148584.14 A1CF       \n",
       "4  ENSG00000175899.14 A2M        \n",
       "5  ENSG00000245105.2  A2M-AS1    \n",
       "6  ENSG00000166535.19 A2ML1      \n",
       "7  ENSG00000256069.7  A2MP1      \n",
       "8  ENSG00000184389.9  A3GALT2    \n",
       "9  ENSG00000128274.15 A4GALT     \n",
       "10 ENSG00000118017.3  A4GNT      \n",
       "   go29664_ngs_rna_targrna_rnaaccess_06520001b0023r_20171125.genes.results\n",
       "1    0.06                                                                 \n",
       "2    0.14                                                                 \n",
       "3    0.00                                                                 \n",
       "4  114.92                                                                 \n",
       "5    0.10                                                                 \n",
       "6    0.00                                                                 \n",
       "7    0.00                                                                 \n",
       "8    0.10                                                                 \n",
       "9    2.81                                                                 \n",
       "10   0.00                                                                 \n",
       "   go29664_ngs_rna_targrna_rnaaccess_06520003c0012r_20171125.genes.results\n",
       "1   1.23                                                                  \n",
       "2   1.41                                                                  \n",
       "3   0.00                                                                  \n",
       "4  98.31                                                                  \n",
       "5   1.07                                                                  \n",
       "6   0.00                                                                  \n",
       "7   0.00                                                                  \n",
       "8   0.00                                                                  \n",
       "9   8.51                                                                  \n",
       "10  0.00                                                                  \n",
       "   go29664_ngs_rna_targrna_rnaaccess_06520004c0018r_20171125.genes.results\n",
       "1   0.69                                                                  \n",
       "2   1.21                                                                  \n",
       "3   0.00                                                                  \n",
       "4  50.73                                                                  \n",
       "5   0.49                                                                  \n",
       "6   0.00                                                                  \n",
       "7   0.00                                                                  \n",
       "8   0.02                                                                  \n",
       "9   6.03                                                                  \n",
       "10  0.00                                                                  \n",
       "   go29664_ngs_rna_targrna_rnaaccess_06520005c0017r_20171125.genes.results\n",
       "1   0.36                                                                  \n",
       "2   1.36                                                                  \n",
       "3   0.00                                                                  \n",
       "4  30.12                                                                  \n",
       "5   0.87                                                                  \n",
       "6   0.04                                                                  \n",
       "7   0.00                                                                  \n",
       "8   0.02                                                                  \n",
       "9   0.79                                                                  \n",
       "10  0.00                                                                  \n",
       "   go29664_ngs_rna_targrna_rnaaccess_06520006c0016r_20171125.genes.results\n",
       "1   0.32                                                                  \n",
       "2   0.38                                                                  \n",
       "3   0.00                                                                  \n",
       "4  35.55                                                                  \n",
       "5   0.43                                                                  \n",
       "6   0.02                                                                  \n",
       "7   0.00                                                                  \n",
       "8   0.00                                                                  \n",
       "9   0.86                                                                  \n",
       "10  0.00                                                                  \n",
       "   go29664_ngs_rna_targrna_rnaaccess_06520007c0018r_20171125.genes.results\n",
       "1    0.76                                                                 \n",
       "2    0.55                                                                 \n",
       "3    0.00                                                                 \n",
       "4  384.47                                                                 \n",
       "5    0.58                                                                 \n",
       "6    0.00                                                                 \n",
       "7    0.00                                                                 \n",
       "8    0.02                                                                 \n",
       "9    1.27                                                                 \n",
       "10   0.01                                                                 \n",
       "   go29664_ngs_rna_targrna_rnaaccess_06520008c0017r_20171125.genes.results\n",
       "1    0.00                                                                 \n",
       "2    0.00                                                                 \n",
       "3    0.00                                                                 \n",
       "4  212.23                                                                 \n",
       "5    0.00                                                                 \n",
       "6    0.00                                                                 \n",
       "7    0.00                                                                 \n",
       "8    0.00                                                                 \n",
       "9    0.02                                                                 \n",
       "10   0.00                                                                 \n",
       "   go29664_ngs_rna_targrna_rnaaccess_06520010b0023r_20171125.genes.results\n",
       "1   2.46                                                                  \n",
       "2   0.77                                                                  \n",
       "3   0.00                                                                  \n",
       "4  71.93                                                                  \n",
       "5   0.49                                                                  \n",
       "6   3.73                                                                  \n",
       "7   0.00                                                                  \n",
       "8   0.00                                                                  \n",
       "9   2.80                                                                  \n",
       "10  0.00                                                                  "
      ]
     },
     "metadata": {},
     "output_type": "display_data"
    }
   ],
   "source": [
    "tpm_mat[1:10,1:10]"
   ]
  },
  {
   "cell_type": "code",
   "execution_count": 27,
   "metadata": {},
   "outputs": [],
   "source": [
    "indicate_ids <- tpm_mat[,1:2]"
   ]
  },
  {
   "cell_type": "markdown",
   "metadata": {},
   "source": [
    "Remove samples with no ensg id to compare with TH data and remove HGNC"
   ]
  },
  {
   "cell_type": "code",
   "execution_count": 28,
   "metadata": {},
   "outputs": [],
   "source": [
    "tpm_mat_ensg <- tpm_mat[!is.na(tpm_mat$ensembl_id),]"
   ]
  },
  {
   "cell_type": "code",
   "execution_count": 29,
   "metadata": {},
   "outputs": [
    {
     "data": {
      "text/html": [
       "<style>\n",
       ".list-inline {list-style: none; margin:0; padding: 0}\n",
       ".list-inline>li {display: inline-block}\n",
       ".list-inline>li:not(:last-child)::after {content: \"\\00b7\"; padding: 0 .5ex}\n",
       "</style>\n",
       "<ol class=list-inline><li>24447</li><li>75</li></ol>\n"
      ],
      "text/latex": [
       "\\begin{enumerate*}\n",
       "\\item 24447\n",
       "\\item 75\n",
       "\\end{enumerate*}\n"
      ],
      "text/markdown": [
       "1. 24447\n",
       "2. 75\n",
       "\n",
       "\n"
      ],
      "text/plain": [
       "[1] 24447    75"
      ]
     },
     "metadata": {},
     "output_type": "display_data"
    }
   ],
   "source": [
    "dim(tpm_mat_ensg)"
   ]
  },
  {
   "cell_type": "markdown",
   "metadata": {},
   "source": [
    "remove hugos add ensembl ids as rownames"
   ]
  },
  {
   "cell_type": "code",
   "execution_count": 30,
   "metadata": {},
   "outputs": [],
   "source": [
    "tpm_mat_ensg$HGNC_symbol <- NULL\n",
    "rownames(tpm_mat_ensg) <- gsub(\"[.].*\", \"\",tpm_mat_ensg$ensembl_id)\n",
    "tpm_mat_ensg$ensembl_id <- NULL"
   ]
  },
  {
   "cell_type": "code",
   "execution_count": 31,
   "metadata": {},
   "outputs": [
    {
     "data": {
      "text/html": [
       "<style>\n",
       ".list-inline {list-style: none; margin:0; padding: 0}\n",
       ".list-inline>li {display: inline-block}\n",
       ".list-inline>li:not(:last-child)::after {content: \"\\00b7\"; padding: 0 .5ex}\n",
       "</style>\n",
       "<ol class=list-inline><li>24447</li><li>73</li></ol>\n"
      ],
      "text/latex": [
       "\\begin{enumerate*}\n",
       "\\item 24447\n",
       "\\item 73\n",
       "\\end{enumerate*}\n"
      ],
      "text/markdown": [
       "1. 24447\n",
       "2. 73\n",
       "\n",
       "\n"
      ],
      "text/plain": [
       "[1] 24447    73"
      ]
     },
     "metadata": {},
     "output_type": "display_data"
    }
   ],
   "source": [
    "dim(tpm_mat_ensg)"
   ]
  },
  {
   "cell_type": "markdown",
   "metadata": {},
   "source": [
    "transpose and clean up sample IDs"
   ]
  },
  {
   "cell_type": "code",
   "execution_count": 32,
   "metadata": {},
   "outputs": [],
   "source": [
    "tpm_mat_ensg_t <- t(tpm_mat_ensg)"
   ]
  },
  {
   "cell_type": "code",
   "execution_count": 33,
   "metadata": {},
   "outputs": [],
   "source": [
    "rownames(tpm_mat_ensg_t) <- gsub(\".*rnaaccess_\", \"\", rownames(tpm_mat_ensg_t))\n",
    "rownames(tpm_mat_ensg_t) <- gsub(\"_.*\", \"\", rownames(tpm_mat_ensg_t))\n",
    "rownames(tpm_mat_ensg_t) <- toupper(rownames(tpm_mat_ensg_t))"
   ]
  },
  {
   "cell_type": "markdown",
   "metadata": {},
   "source": [
    "log2 transform"
   ]
  },
  {
   "cell_type": "code",
   "execution_count": 34,
   "metadata": {},
   "outputs": [],
   "source": [
    "tpm_mat_ensg_t <- log2(tpm_mat_ensg_t + 1)"
   ]
  },
  {
   "cell_type": "code",
   "execution_count": 35,
   "metadata": {},
   "outputs": [
    {
     "data": {
      "text/html": [
       "<style>\n",
       ".list-inline {list-style: none; margin:0; padding: 0}\n",
       ".list-inline>li {display: inline-block}\n",
       ".list-inline>li:not(:last-child)::after {content: \"\\00b7\"; padding: 0 .5ex}\n",
       "</style>\n",
       "<ol class=list-inline><li>73</li><li>24447</li></ol>\n"
      ],
      "text/latex": [
       "\\begin{enumerate*}\n",
       "\\item 73\n",
       "\\item 24447\n",
       "\\end{enumerate*}\n"
      ],
      "text/markdown": [
       "1. 73\n",
       "2. 24447\n",
       "\n",
       "\n"
      ],
      "text/plain": [
       "[1]    73 24447"
      ]
     },
     "metadata": {},
     "output_type": "display_data"
    }
   ],
   "source": [
    "dim(tpm_mat_ensg_t)"
   ]
  },
  {
   "cell_type": "markdown",
   "metadata": {},
   "source": [
    "match samples with those in metadata"
   ]
  },
  {
   "cell_type": "code",
   "execution_count": 36,
   "metadata": {},
   "outputs": [],
   "source": [
    "tpm_mat_ensg_t_matched <- tpm_mat_ensg_t[rownames(tpm_mat_ensg_t) %in% metadata$sample_id,]"
   ]
  },
  {
   "cell_type": "code",
   "execution_count": 37,
   "metadata": {},
   "outputs": [
    {
     "data": {
      "text/html": [
       "<style>\n",
       ".list-inline {list-style: none; margin:0; padding: 0}\n",
       ".list-inline>li {display: inline-block}\n",
       ".list-inline>li:not(:last-child)::after {content: \"\\00b7\"; padding: 0 .5ex}\n",
       "</style>\n",
       "<ol class=list-inline><li>66</li><li>24447</li></ol>\n"
      ],
      "text/latex": [
       "\\begin{enumerate*}\n",
       "\\item 66\n",
       "\\item 24447\n",
       "\\end{enumerate*}\n"
      ],
      "text/markdown": [
       "1. 66\n",
       "2. 24447\n",
       "\n",
       "\n"
      ],
      "text/plain": [
       "[1]    66 24447"
      ]
     },
     "metadata": {},
     "output_type": "display_data"
    }
   ],
   "source": [
    "dim(tpm_mat_ensg_t_matched)"
   ]
  },
  {
   "cell_type": "markdown",
   "metadata": {},
   "source": [
    "module label cleanup"
   ]
  },
  {
   "cell_type": "code",
   "execution_count": 38,
   "metadata": {},
   "outputs": [
    {
     "data": {
      "text/html": [
       "<table class=\"dataframe\">\n",
       "<caption>A data.frame: 6 × 5</caption>\n",
       "<thead>\n",
       "\t<tr><th></th><th scope=col>moduleLabel</th><th scope=col>moduleColor</th><th scope=col>ensembl_id_TH</th><th scope=col>ensembl_id</th><th scope=col>entrez</th></tr>\n",
       "\t<tr><th></th><th scope=col>&lt;chr&gt;</th><th scope=col>&lt;chr&gt;</th><th scope=col>&lt;chr&gt;</th><th scope=col>&lt;chr&gt;</th><th scope=col>&lt;int&gt;</th></tr>\n",
       "</thead>\n",
       "<tbody>\n",
       "\t<tr><th scope=row>A2M</th><td>TH_22</td><td>darkgreen</td><td>ENSG00000175899.14</td><td>ENSG00000175899</td><td>     2</td></tr>\n",
       "\t<tr><th scope=row>AAK1</th><td>TH_7 </td><td>black    </td><td>ENSG00000115977.18</td><td>ENSG00000115977</td><td> 22848</td></tr>\n",
       "\t<tr><th scope=row>AASDH</th><td>TH_6 </td><td>red      </td><td>ENSG00000157426.13</td><td>ENSG00000157426</td><td>132949</td></tr>\n",
       "\t<tr><th scope=row>AASDHPPT</th><td>TH_6 </td><td>red      </td><td>ENSG00000149313.10</td><td>ENSG00000149313</td><td> 60496</td></tr>\n",
       "\t<tr><th scope=row>ABCB10</th><td>TH_6 </td><td>red      </td><td>ENSG00000135776.4 </td><td>ENSG00000135776</td><td> 23456</td></tr>\n",
       "\t<tr><th scope=row>ABCE1</th><td>TH_6 </td><td>red      </td><td>ENSG00000164163.10</td><td>ENSG00000164163</td><td>  6059</td></tr>\n",
       "</tbody>\n",
       "</table>\n"
      ],
      "text/latex": [
       "A data.frame: 6 × 5\n",
       "\\begin{tabular}{r|lllll}\n",
       "  & moduleLabel & moduleColor & ensembl\\_id\\_TH & ensembl\\_id & entrez\\\\\n",
       "  & <chr> & <chr> & <chr> & <chr> & <int>\\\\\n",
       "\\hline\n",
       "\tA2M & TH\\_22 & darkgreen & ENSG00000175899.14 & ENSG00000175899 &      2\\\\\n",
       "\tAAK1 & TH\\_7  & black     & ENSG00000115977.18 & ENSG00000115977 &  22848\\\\\n",
       "\tAASDH & TH\\_6  & red       & ENSG00000157426.13 & ENSG00000157426 & 132949\\\\\n",
       "\tAASDHPPT & TH\\_6  & red       & ENSG00000149313.10 & ENSG00000149313 &  60496\\\\\n",
       "\tABCB10 & TH\\_6  & red       & ENSG00000135776.4  & ENSG00000135776 &  23456\\\\\n",
       "\tABCE1 & TH\\_6  & red       & ENSG00000164163.10 & ENSG00000164163 &   6059\\\\\n",
       "\\end{tabular}\n"
      ],
      "text/markdown": [
       "\n",
       "A data.frame: 6 × 5\n",
       "\n",
       "| <!--/--> | moduleLabel &lt;chr&gt; | moduleColor &lt;chr&gt; | ensembl_id_TH &lt;chr&gt; | ensembl_id &lt;chr&gt; | entrez &lt;int&gt; |\n",
       "|---|---|---|---|---|---|\n",
       "| A2M | TH_22 | darkgreen | ENSG00000175899.14 | ENSG00000175899 |      2 |\n",
       "| AAK1 | TH_7  | black     | ENSG00000115977.18 | ENSG00000115977 |  22848 |\n",
       "| AASDH | TH_6  | red       | ENSG00000157426.13 | ENSG00000157426 | 132949 |\n",
       "| AASDHPPT | TH_6  | red       | ENSG00000149313.10 | ENSG00000149313 |  60496 |\n",
       "| ABCB10 | TH_6  | red       | ENSG00000135776.4  | ENSG00000135776 |  23456 |\n",
       "| ABCE1 | TH_6  | red       | ENSG00000164163.10 | ENSG00000164163 |   6059 |\n",
       "\n"
      ],
      "text/plain": [
       "         moduleLabel moduleColor ensembl_id_TH      ensembl_id      entrez\n",
       "A2M      TH_22       darkgreen   ENSG00000175899.14 ENSG00000175899      2\n",
       "AAK1     TH_7        black       ENSG00000115977.18 ENSG00000115977  22848\n",
       "AASDH    TH_6        red         ENSG00000157426.13 ENSG00000157426 132949\n",
       "AASDHPPT TH_6        red         ENSG00000149313.10 ENSG00000149313  60496\n",
       "ABCB10   TH_6        red         ENSG00000135776.4  ENSG00000135776  23456\n",
       "ABCE1    TH_6        red         ENSG00000164163.10 ENSG00000164163   6059"
      ]
     },
     "metadata": {},
     "output_type": "display_data"
    }
   ],
   "source": [
    "head(gene_module_th)"
   ]
  },
  {
   "cell_type": "code",
   "execution_count": 39,
   "metadata": {},
   "outputs": [
    {
     "data": {
      "text/html": [
       "<style>\n",
       ".list-inline {list-style: none; margin:0; padding: 0}\n",
       ".list-inline>li {display: inline-block}\n",
       ".list-inline>li:not(:last-child)::after {content: \"\\00b7\"; padding: 0 .5ex}\n",
       "</style>\n",
       "<ol class=list-inline><li>3044</li><li>5</li></ol>\n"
      ],
      "text/latex": [
       "\\begin{enumerate*}\n",
       "\\item 3044\n",
       "\\item 5\n",
       "\\end{enumerate*}\n"
      ],
      "text/markdown": [
       "1. 3044\n",
       "2. 5\n",
       "\n",
       "\n"
      ],
      "text/plain": [
       "[1] 3044    5"
      ]
     },
     "metadata": {},
     "output_type": "display_data"
    }
   ],
   "source": [
    "dim(gene_module_th)"
   ]
  },
  {
   "cell_type": "code",
   "execution_count": 40,
   "metadata": {},
   "outputs": [],
   "source": [
    "mygene_modules <- gene_module_th[ gene_module_th$ensembl_id %in% colnames(tpm_mat_ensg_t_matched),]"
   ]
  },
  {
   "cell_type": "code",
   "execution_count": 41,
   "metadata": {
    "scrolled": false
   },
   "outputs": [
    {
     "data": {
      "text/html": [
       "<table class=\"dataframe\">\n",
       "<caption>A data.frame: 11 × 5</caption>\n",
       "<thead>\n",
       "\t<tr><th></th><th scope=col>moduleLabel</th><th scope=col>moduleColor</th><th scope=col>ensembl_id_TH</th><th scope=col>ensembl_id</th><th scope=col>entrez</th></tr>\n",
       "\t<tr><th></th><th scope=col>&lt;chr&gt;</th><th scope=col>&lt;chr&gt;</th><th scope=col>&lt;chr&gt;</th><th scope=col>&lt;chr&gt;</th><th scope=col>&lt;int&gt;</th></tr>\n",
       "</thead>\n",
       "<tbody>\n",
       "\t<tr><th scope=row>BMS1P4</th><td>TH_6 </td><td>red      </td><td>ENSG00000242338.6 </td><td>ENSG00000242338</td><td>    NA</td></tr>\n",
       "\t<tr><th scope=row>ECSCR</th><td>TH_22</td><td>darkgreen</td><td>ENSG00000249751.3 </td><td>ENSG00000249751</td><td>641700</td></tr>\n",
       "\t<tr><th scope=row>KAT6B</th><td>TH_6 </td><td>red      </td><td>ENSG00000156650.12</td><td>ENSG00000156650</td><td> 23522</td></tr>\n",
       "\t<tr><th scope=row>KIAA1143</th><td>TH_6 </td><td>red      </td><td>ENSG00000163807.5 </td><td>ENSG00000163807</td><td> 57456</td></tr>\n",
       "\t<tr><th scope=row>KIF15</th><td>TH_4 </td><td>yellow   </td><td>ENSG00000163808.16</td><td>ENSG00000163808</td><td> 56992</td></tr>\n",
       "\t<tr><th scope=row>MATR3</th><td>TH_6 </td><td>red      </td><td>ENSG00000015479.17</td><td>ENSG00000015479</td><td>  9782</td></tr>\n",
       "\t<tr><th scope=row>RCC2</th><td>TH_4 </td><td>yellow   </td><td>ENSG00000179051.13</td><td>ENSG00000179051</td><td> 55920</td></tr>\n",
       "\t<tr><th scope=row>SLC16A1</th><td>TH_4 </td><td>yellow   </td><td>ENSG00000155380.11</td><td>ENSG00000155380</td><td>  6566</td></tr>\n",
       "\t<tr><th scope=row>ZKSCAN7</th><td>TH_6 </td><td>red      </td><td>ENSG00000196345.12</td><td>ENSG00000196345</td><td> 55888</td></tr>\n",
       "\t<tr><th scope=row>ZNF501</th><td>TH_6 </td><td>red      </td><td>ENSG00000186446.11</td><td>ENSG00000186446</td><td>115560</td></tr>\n",
       "\t<tr><th scope=row>ZNF852</th><td>TH_17</td><td>grey60   </td><td>ENSG00000178917.14</td><td>ENSG00000178917</td><td>285346</td></tr>\n",
       "</tbody>\n",
       "</table>\n"
      ],
      "text/latex": [
       "A data.frame: 11 × 5\n",
       "\\begin{tabular}{r|lllll}\n",
       "  & moduleLabel & moduleColor & ensembl\\_id\\_TH & ensembl\\_id & entrez\\\\\n",
       "  & <chr> & <chr> & <chr> & <chr> & <int>\\\\\n",
       "\\hline\n",
       "\tBMS1P4 & TH\\_6  & red       & ENSG00000242338.6  & ENSG00000242338 &     NA\\\\\n",
       "\tECSCR & TH\\_22 & darkgreen & ENSG00000249751.3  & ENSG00000249751 & 641700\\\\\n",
       "\tKAT6B & TH\\_6  & red       & ENSG00000156650.12 & ENSG00000156650 &  23522\\\\\n",
       "\tKIAA1143 & TH\\_6  & red       & ENSG00000163807.5  & ENSG00000163807 &  57456\\\\\n",
       "\tKIF15 & TH\\_4  & yellow    & ENSG00000163808.16 & ENSG00000163808 &  56992\\\\\n",
       "\tMATR3 & TH\\_6  & red       & ENSG00000015479.17 & ENSG00000015479 &   9782\\\\\n",
       "\tRCC2 & TH\\_4  & yellow    & ENSG00000179051.13 & ENSG00000179051 &  55920\\\\\n",
       "\tSLC16A1 & TH\\_4  & yellow    & ENSG00000155380.11 & ENSG00000155380 &   6566\\\\\n",
       "\tZKSCAN7 & TH\\_6  & red       & ENSG00000196345.12 & ENSG00000196345 &  55888\\\\\n",
       "\tZNF501 & TH\\_6  & red       & ENSG00000186446.11 & ENSG00000186446 & 115560\\\\\n",
       "\tZNF852 & TH\\_17 & grey60    & ENSG00000178917.14 & ENSG00000178917 & 285346\\\\\n",
       "\\end{tabular}\n"
      ],
      "text/markdown": [
       "\n",
       "A data.frame: 11 × 5\n",
       "\n",
       "| <!--/--> | moduleLabel &lt;chr&gt; | moduleColor &lt;chr&gt; | ensembl_id_TH &lt;chr&gt; | ensembl_id &lt;chr&gt; | entrez &lt;int&gt; |\n",
       "|---|---|---|---|---|---|\n",
       "| BMS1P4 | TH_6  | red       | ENSG00000242338.6  | ENSG00000242338 |     NA |\n",
       "| ECSCR | TH_22 | darkgreen | ENSG00000249751.3  | ENSG00000249751 | 641700 |\n",
       "| KAT6B | TH_6  | red       | ENSG00000156650.12 | ENSG00000156650 |  23522 |\n",
       "| KIAA1143 | TH_6  | red       | ENSG00000163807.5  | ENSG00000163807 |  57456 |\n",
       "| KIF15 | TH_4  | yellow    | ENSG00000163808.16 | ENSG00000163808 |  56992 |\n",
       "| MATR3 | TH_6  | red       | ENSG00000015479.17 | ENSG00000015479 |   9782 |\n",
       "| RCC2 | TH_4  | yellow    | ENSG00000179051.13 | ENSG00000179051 |  55920 |\n",
       "| SLC16A1 | TH_4  | yellow    | ENSG00000155380.11 | ENSG00000155380 |   6566 |\n",
       "| ZKSCAN7 | TH_6  | red       | ENSG00000196345.12 | ENSG00000196345 |  55888 |\n",
       "| ZNF501 | TH_6  | red       | ENSG00000186446.11 | ENSG00000186446 | 115560 |\n",
       "| ZNF852 | TH_17 | grey60    | ENSG00000178917.14 | ENSG00000178917 | 285346 |\n",
       "\n"
      ],
      "text/plain": [
       "         moduleLabel moduleColor ensembl_id_TH      ensembl_id      entrez\n",
       "BMS1P4   TH_6        red         ENSG00000242338.6  ENSG00000242338     NA\n",
       "ECSCR    TH_22       darkgreen   ENSG00000249751.3  ENSG00000249751 641700\n",
       "KAT6B    TH_6        red         ENSG00000156650.12 ENSG00000156650  23522\n",
       "KIAA1143 TH_6        red         ENSG00000163807.5  ENSG00000163807  57456\n",
       "KIF15    TH_4        yellow      ENSG00000163808.16 ENSG00000163808  56992\n",
       "MATR3    TH_6        red         ENSG00000015479.17 ENSG00000015479   9782\n",
       "RCC2     TH_4        yellow      ENSG00000179051.13 ENSG00000179051  55920\n",
       "SLC16A1  TH_4        yellow      ENSG00000155380.11 ENSG00000155380   6566\n",
       "ZKSCAN7  TH_6        red         ENSG00000196345.12 ENSG00000196345  55888\n",
       "ZNF501   TH_6        red         ENSG00000186446.11 ENSG00000186446 115560\n",
       "ZNF852   TH_17       grey60      ENSG00000178917.14 ENSG00000178917 285346"
      ]
     },
     "metadata": {},
     "output_type": "display_data"
    }
   ],
   "source": [
    "#genes that were in imatrix data but not in treehouse\n",
    "gene_module_th[!rownames(gene_module_th) %in% rownames(mygene_modules),]"
   ]
  },
  {
   "cell_type": "markdown",
   "metadata": {},
   "source": [
    "## Univariable model"
   ]
  },
  {
   "cell_type": "markdown",
   "metadata": {},
   "source": [
    "Make a gene signature matrix for all samples"
   ]
  },
  {
   "cell_type": "code",
   "execution_count": 42,
   "metadata": {},
   "outputs": [],
   "source": [
    "#Order same as heatmap\n",
    "labelorders <- c('TH_4','TH_18','TH_17','TH_28','TH_6','TH_7','TH_14',\n",
    "                 'TH_24','TH_23','TH_27','TH_3','TH_13','TH_22','TH_26')"
   ]
  },
  {
   "cell_type": "code",
   "execution_count": 43,
   "metadata": {},
   "outputs": [],
   "source": [
    "module_sample <- matrix(ncol = nrow(tpm_mat_ensg_t_matched), nrow = length(unique(mygene_modules$moduleLabel)))\n",
    "rownames(module_sample) <- labelorders\n",
    "colnames(module_sample) <- rownames(tpm_mat_ensg_t_matched)"
   ]
  },
  {
   "cell_type": "code",
   "execution_count": 44,
   "metadata": {
    "scrolled": true
   },
   "outputs": [],
   "source": [
    "for(mod in 1:nrow(module_sample)){\n",
    "    mymod <- rownames(module_sample)[mod]    \n",
    "    modGenes <- mygene_modules$ensembl_id[which(mygene_modules$moduleLabel == mymod)]\n",
    "    genes <- tpm_mat_ensg_t_matched[,modGenes]\n",
    "if(length(modGenes) > 1){\n",
    "    averagegenes <- apply(genes,1,mean)\n",
    "    module_sample[mod,] <- averagegenes}\n",
    "}"
   ]
  },
  {
   "cell_type": "code",
   "execution_count": 45,
   "metadata": {},
   "outputs": [
    {
     "data": {
      "text/html": [
       "<style>\n",
       ".list-inline {list-style: none; margin:0; padding: 0}\n",
       ".list-inline>li {display: inline-block}\n",
       ".list-inline>li:not(:last-child)::after {content: \"\\00b7\"; padding: 0 .5ex}\n",
       "</style>\n",
       "<ol class=list-inline><li>14</li><li>66</li></ol>\n"
      ],
      "text/latex": [
       "\\begin{enumerate*}\n",
       "\\item 14\n",
       "\\item 66\n",
       "\\end{enumerate*}\n"
      ],
      "text/markdown": [
       "1. 14\n",
       "2. 66\n",
       "\n",
       "\n"
      ],
      "text/plain": [
       "[1] 14 66"
      ]
     },
     "metadata": {},
     "output_type": "display_data"
    }
   ],
   "source": [
    "dim(module_sample)"
   ]
  },
  {
   "cell_type": "markdown",
   "metadata": {},
   "source": [
    "Merge with metadata for survival analysis"
   ]
  },
  {
   "cell_type": "code",
   "execution_count": 46,
   "metadata": {
    "scrolled": true
   },
   "outputs": [],
   "source": [
    "module_sample_t <- as.data.frame(t(module_sample))\n",
    "module_sample_t$sample_id <- rownames(module_sample_t)"
   ]
  },
  {
   "cell_type": "code",
   "execution_count": 47,
   "metadata": {},
   "outputs": [],
   "source": [
    "metadata_modules <- merge(metadata, module_sample_t, by = \"sample_id\")"
   ]
  },
  {
   "cell_type": "markdown",
   "metadata": {},
   "source": [
    "Run cox and make a summary matrix"
   ]
  },
  {
   "cell_type": "code",
   "execution_count": 48,
   "metadata": {},
   "outputs": [],
   "source": [
    "module_cox <- matrix(nrow = nrow(module_sample), ncol = 7)\n",
    "rownames(module_cox) <- rownames(module_sample)\n",
    "colnames(module_cox) <- c('coef', 'exp(coef)', 'se(coef)', 'z', 'Pr(>|z|)', 'lower.95' ,'upper.95')"
   ]
  },
  {
   "cell_type": "code",
   "execution_count": 49,
   "metadata": {},
   "outputs": [],
   "source": [
    "for(i in rownames(module_cox)){\n",
    "   # message(i)\n",
    "    f <- as.formula(paste0(\"Surv(TRTDUR, progressed)~\", i))  \n",
    "    coxmodel <- coxph(f, data=metadata_modules) \n",
    "    sumcox <- summary(coxmodel)\n",
    "   # print(sumcox)\n",
    "    module_cox[i,1:5] <- sumcox$coefficients[1,1:5]\n",
    "    module_cox[i,6:7] <- sumcox$conf.int[1,3:4]\n",
    "}"
   ]
  },
  {
   "cell_type": "markdown",
   "metadata": {},
   "source": [
    "Calculate FDR add to matrix"
   ]
  },
  {
   "cell_type": "code",
   "execution_count": 50,
   "metadata": {
    "scrolled": true
   },
   "outputs": [],
   "source": [
    "fdr_df <- as.matrix(p.adjust(module_cox[,5], method = \"fdr\"))\n",
    "colnames(fdr_df)[1] <- \"fdr\"\n",
    "module_cox <- cbind(module_cox, fdr_df)"
   ]
  },
  {
   "cell_type": "code",
   "execution_count": 51,
   "metadata": {},
   "outputs": [
    {
     "data": {
      "text/html": [
       "<table class=\"dataframe\">\n",
       "<caption>A matrix: 14 × 8 of type dbl</caption>\n",
       "<thead>\n",
       "\t<tr><th></th><th scope=col>coef</th><th scope=col>exp(coef)</th><th scope=col>se(coef)</th><th scope=col>z</th><th scope=col>Pr(&gt;|z|)</th><th scope=col>lower.95</th><th scope=col>upper.95</th><th scope=col>fdr</th></tr>\n",
       "</thead>\n",
       "<tbody>\n",
       "\t<tr><th scope=row>TH_4</th><td> 0.26275994</td><td>1.3005145</td><td>0.2341486</td><td> 1.12219311</td><td>0.261780341</td><td>0.8218784</td><td>2.0578932</td><td>0.61082080</td></tr>\n",
       "\t<tr><th scope=row>TH_18</th><td>-0.04886734</td><td>0.9523075</td><td>0.2950671</td><td>-0.16561433</td><td>0.868460466</td><td>0.5340914</td><td>1.6980041</td><td>0.93526512</td></tr>\n",
       "\t<tr><th scope=row>TH_17</th><td>-0.21641351</td><td>0.8054022</td><td>0.3312179</td><td>-0.65338721</td><td>0.513506685</td><td>0.4208038</td><td>1.5415086</td><td>0.68908419</td></tr>\n",
       "\t<tr><th scope=row>TH_28</th><td>-0.17251042</td><td>0.8415495</td><td>0.2824973</td><td>-0.61066211</td><td>0.541423293</td><td>0.4837461</td><td>1.4640026</td><td>0.68908419</td></tr>\n",
       "\t<tr><th scope=row>TH_6</th><td>-0.16634058</td><td>0.8467578</td><td>0.3421508</td><td>-0.48616163</td><td>0.626852576</td><td>0.4330319</td><td>1.6557642</td><td>0.73132800</td></tr>\n",
       "\t<tr><th scope=row>TH_7</th><td>-0.29204773</td><td>0.7467329</td><td>0.3107780</td><td>-0.93973113</td><td>0.347355493</td><td>0.4060978</td><td>1.3730930</td><td>0.68908419</td></tr>\n",
       "\t<tr><th scope=row>TH_14</th><td>-0.19463045</td><td>0.8231388</td><td>0.2841113</td><td>-0.68504997</td><td>0.493312389</td><td>0.4716687</td><td>1.4365114</td><td>0.68908419</td></tr>\n",
       "\t<tr><th scope=row>TH_24</th><td>-0.01897856</td><td>0.9812004</td><td>0.2896798</td><td>-0.06551567</td><td>0.947763434</td><td>0.5561371</td><td>1.7311455</td><td>0.94776343</td></tr>\n",
       "\t<tr><th scope=row>TH_23</th><td> 0.14233871</td><td>1.1529671</td><td>0.1923932</td><td> 0.73983248</td><td>0.459401648</td><td>0.7907725</td><td>1.6810563</td><td>0.68908419</td></tr>\n",
       "\t<tr><th scope=row>TH_27</th><td>-0.33939059</td><td>0.7122042</td><td>0.1164899</td><td>-2.91347644</td><td>0.003574288</td><td>0.5668239</td><td>0.8948720</td><td>0.02087031</td></tr>\n",
       "\t<tr><th scope=row>TH_3</th><td>-0.30967486</td><td>0.7336855</td><td>0.1269118</td><td>-2.44007852</td><td>0.014684070</td><td>0.5721137</td><td>0.9408870</td><td>0.05139424</td></tr>\n",
       "\t<tr><th scope=row>TH_13</th><td>-0.46685707</td><td>0.6269697</td><td>0.1642256</td><td>-2.84277882</td><td>0.004472209</td><td>0.4544200</td><td>0.8650389</td><td>0.02087031</td></tr>\n",
       "\t<tr><th scope=row>TH_22</th><td>-0.46005016</td><td>0.6312520</td><td>0.2683390</td><td>-1.71443656</td><td>0.086448579</td><td>0.3730716</td><td>1.0681034</td><td>0.24205602</td></tr>\n",
       "\t<tr><th scope=row>TH_26</th><td> 0.34003978</td><td>1.4050035</td><td>0.1178252</td><td> 2.88596861</td><td>0.003902111</td><td>1.1152813</td><td>1.7699882</td><td>0.02087031</td></tr>\n",
       "</tbody>\n",
       "</table>\n"
      ],
      "text/latex": [
       "A matrix: 14 × 8 of type dbl\n",
       "\\begin{tabular}{r|llllllll}\n",
       "  & coef & exp(coef) & se(coef) & z & Pr(>\\textbar{}z\\textbar{}) & lower.95 & upper.95 & fdr\\\\\n",
       "\\hline\n",
       "\tTH\\_4 &  0.26275994 & 1.3005145 & 0.2341486 &  1.12219311 & 0.261780341 & 0.8218784 & 2.0578932 & 0.61082080\\\\\n",
       "\tTH\\_18 & -0.04886734 & 0.9523075 & 0.2950671 & -0.16561433 & 0.868460466 & 0.5340914 & 1.6980041 & 0.93526512\\\\\n",
       "\tTH\\_17 & -0.21641351 & 0.8054022 & 0.3312179 & -0.65338721 & 0.513506685 & 0.4208038 & 1.5415086 & 0.68908419\\\\\n",
       "\tTH\\_28 & -0.17251042 & 0.8415495 & 0.2824973 & -0.61066211 & 0.541423293 & 0.4837461 & 1.4640026 & 0.68908419\\\\\n",
       "\tTH\\_6 & -0.16634058 & 0.8467578 & 0.3421508 & -0.48616163 & 0.626852576 & 0.4330319 & 1.6557642 & 0.73132800\\\\\n",
       "\tTH\\_7 & -0.29204773 & 0.7467329 & 0.3107780 & -0.93973113 & 0.347355493 & 0.4060978 & 1.3730930 & 0.68908419\\\\\n",
       "\tTH\\_14 & -0.19463045 & 0.8231388 & 0.2841113 & -0.68504997 & 0.493312389 & 0.4716687 & 1.4365114 & 0.68908419\\\\\n",
       "\tTH\\_24 & -0.01897856 & 0.9812004 & 0.2896798 & -0.06551567 & 0.947763434 & 0.5561371 & 1.7311455 & 0.94776343\\\\\n",
       "\tTH\\_23 &  0.14233871 & 1.1529671 & 0.1923932 &  0.73983248 & 0.459401648 & 0.7907725 & 1.6810563 & 0.68908419\\\\\n",
       "\tTH\\_27 & -0.33939059 & 0.7122042 & 0.1164899 & -2.91347644 & 0.003574288 & 0.5668239 & 0.8948720 & 0.02087031\\\\\n",
       "\tTH\\_3 & -0.30967486 & 0.7336855 & 0.1269118 & -2.44007852 & 0.014684070 & 0.5721137 & 0.9408870 & 0.05139424\\\\\n",
       "\tTH\\_13 & -0.46685707 & 0.6269697 & 0.1642256 & -2.84277882 & 0.004472209 & 0.4544200 & 0.8650389 & 0.02087031\\\\\n",
       "\tTH\\_22 & -0.46005016 & 0.6312520 & 0.2683390 & -1.71443656 & 0.086448579 & 0.3730716 & 1.0681034 & 0.24205602\\\\\n",
       "\tTH\\_26 &  0.34003978 & 1.4050035 & 0.1178252 &  2.88596861 & 0.003902111 & 1.1152813 & 1.7699882 & 0.02087031\\\\\n",
       "\\end{tabular}\n"
      ],
      "text/markdown": [
       "\n",
       "A matrix: 14 × 8 of type dbl\n",
       "\n",
       "| <!--/--> | coef | exp(coef) | se(coef) | z | Pr(&gt;|z|) | lower.95 | upper.95 | fdr |\n",
       "|---|---|---|---|---|---|---|---|---|\n",
       "| TH_4 |  0.26275994 | 1.3005145 | 0.2341486 |  1.12219311 | 0.261780341 | 0.8218784 | 2.0578932 | 0.61082080 |\n",
       "| TH_18 | -0.04886734 | 0.9523075 | 0.2950671 | -0.16561433 | 0.868460466 | 0.5340914 | 1.6980041 | 0.93526512 |\n",
       "| TH_17 | -0.21641351 | 0.8054022 | 0.3312179 | -0.65338721 | 0.513506685 | 0.4208038 | 1.5415086 | 0.68908419 |\n",
       "| TH_28 | -0.17251042 | 0.8415495 | 0.2824973 | -0.61066211 | 0.541423293 | 0.4837461 | 1.4640026 | 0.68908419 |\n",
       "| TH_6 | -0.16634058 | 0.8467578 | 0.3421508 | -0.48616163 | 0.626852576 | 0.4330319 | 1.6557642 | 0.73132800 |\n",
       "| TH_7 | -0.29204773 | 0.7467329 | 0.3107780 | -0.93973113 | 0.347355493 | 0.4060978 | 1.3730930 | 0.68908419 |\n",
       "| TH_14 | -0.19463045 | 0.8231388 | 0.2841113 | -0.68504997 | 0.493312389 | 0.4716687 | 1.4365114 | 0.68908419 |\n",
       "| TH_24 | -0.01897856 | 0.9812004 | 0.2896798 | -0.06551567 | 0.947763434 | 0.5561371 | 1.7311455 | 0.94776343 |\n",
       "| TH_23 |  0.14233871 | 1.1529671 | 0.1923932 |  0.73983248 | 0.459401648 | 0.7907725 | 1.6810563 | 0.68908419 |\n",
       "| TH_27 | -0.33939059 | 0.7122042 | 0.1164899 | -2.91347644 | 0.003574288 | 0.5668239 | 0.8948720 | 0.02087031 |\n",
       "| TH_3 | -0.30967486 | 0.7336855 | 0.1269118 | -2.44007852 | 0.014684070 | 0.5721137 | 0.9408870 | 0.05139424 |\n",
       "| TH_13 | -0.46685707 | 0.6269697 | 0.1642256 | -2.84277882 | 0.004472209 | 0.4544200 | 0.8650389 | 0.02087031 |\n",
       "| TH_22 | -0.46005016 | 0.6312520 | 0.2683390 | -1.71443656 | 0.086448579 | 0.3730716 | 1.0681034 | 0.24205602 |\n",
       "| TH_26 |  0.34003978 | 1.4050035 | 0.1178252 |  2.88596861 | 0.003902111 | 1.1152813 | 1.7699882 | 0.02087031 |\n",
       "\n"
      ],
      "text/plain": [
       "      coef        exp(coef) se(coef)  z           Pr(>|z|)    lower.95 \n",
       "TH_4   0.26275994 1.3005145 0.2341486  1.12219311 0.261780341 0.8218784\n",
       "TH_18 -0.04886734 0.9523075 0.2950671 -0.16561433 0.868460466 0.5340914\n",
       "TH_17 -0.21641351 0.8054022 0.3312179 -0.65338721 0.513506685 0.4208038\n",
       "TH_28 -0.17251042 0.8415495 0.2824973 -0.61066211 0.541423293 0.4837461\n",
       "TH_6  -0.16634058 0.8467578 0.3421508 -0.48616163 0.626852576 0.4330319\n",
       "TH_7  -0.29204773 0.7467329 0.3107780 -0.93973113 0.347355493 0.4060978\n",
       "TH_14 -0.19463045 0.8231388 0.2841113 -0.68504997 0.493312389 0.4716687\n",
       "TH_24 -0.01897856 0.9812004 0.2896798 -0.06551567 0.947763434 0.5561371\n",
       "TH_23  0.14233871 1.1529671 0.1923932  0.73983248 0.459401648 0.7907725\n",
       "TH_27 -0.33939059 0.7122042 0.1164899 -2.91347644 0.003574288 0.5668239\n",
       "TH_3  -0.30967486 0.7336855 0.1269118 -2.44007852 0.014684070 0.5721137\n",
       "TH_13 -0.46685707 0.6269697 0.1642256 -2.84277882 0.004472209 0.4544200\n",
       "TH_22 -0.46005016 0.6312520 0.2683390 -1.71443656 0.086448579 0.3730716\n",
       "TH_26  0.34003978 1.4050035 0.1178252  2.88596861 0.003902111 1.1152813\n",
       "      upper.95  fdr       \n",
       "TH_4  2.0578932 0.61082080\n",
       "TH_18 1.6980041 0.93526512\n",
       "TH_17 1.5415086 0.68908419\n",
       "TH_28 1.4640026 0.68908419\n",
       "TH_6  1.6557642 0.73132800\n",
       "TH_7  1.3730930 0.68908419\n",
       "TH_14 1.4365114 0.68908419\n",
       "TH_24 1.7311455 0.94776343\n",
       "TH_23 1.6810563 0.68908419\n",
       "TH_27 0.8948720 0.02087031\n",
       "TH_3  0.9408870 0.05139424\n",
       "TH_13 0.8650389 0.02087031\n",
       "TH_22 1.0681034 0.24205602\n",
       "TH_26 1.7699882 0.02087031"
      ]
     },
     "metadata": {},
     "output_type": "display_data"
    }
   ],
   "source": [
    "module_cox"
   ]
  },
  {
   "cell_type": "markdown",
   "metadata": {},
   "source": [
    "Make a manual list of module labels and go terms"
   ]
  },
  {
   "cell_type": "code",
   "execution_count": 52,
   "metadata": {},
   "outputs": [],
   "source": [
    "module_cox <- as.data.frame(module_cox)"
   ]
  },
  {
   "cell_type": "code",
   "execution_count": 53,
   "metadata": {},
   "outputs": [
    {
     "data": {
      "text/html": [
       "<table class=\"dataframe\">\n",
       "<caption>A data.frame: 14 × 8</caption>\n",
       "<thead>\n",
       "\t<tr><th></th><th scope=col>coef</th><th scope=col>exp(coef)</th><th scope=col>se(coef)</th><th scope=col>z</th><th scope=col>Pr(&gt;|z|)</th><th scope=col>lower.95</th><th scope=col>upper.95</th><th scope=col>fdr</th></tr>\n",
       "\t<tr><th></th><th scope=col>&lt;dbl&gt;</th><th scope=col>&lt;dbl&gt;</th><th scope=col>&lt;dbl&gt;</th><th scope=col>&lt;dbl&gt;</th><th scope=col>&lt;dbl&gt;</th><th scope=col>&lt;dbl&gt;</th><th scope=col>&lt;dbl&gt;</th><th scope=col>&lt;dbl&gt;</th></tr>\n",
       "</thead>\n",
       "<tbody>\n",
       "\t<tr><th scope=row>TH_4</th><td> 0.26275994</td><td>1.3005145</td><td>0.2341486</td><td> 1.12219311</td><td>0.261780341</td><td>0.8218784</td><td>2.0578932</td><td>0.61082080</td></tr>\n",
       "\t<tr><th scope=row>TH_18</th><td>-0.04886734</td><td>0.9523075</td><td>0.2950671</td><td>-0.16561433</td><td>0.868460466</td><td>0.5340914</td><td>1.6980041</td><td>0.93526512</td></tr>\n",
       "\t<tr><th scope=row>TH_17</th><td>-0.21641351</td><td>0.8054022</td><td>0.3312179</td><td>-0.65338721</td><td>0.513506685</td><td>0.4208038</td><td>1.5415086</td><td>0.68908419</td></tr>\n",
       "\t<tr><th scope=row>TH_28</th><td>-0.17251042</td><td>0.8415495</td><td>0.2824973</td><td>-0.61066211</td><td>0.541423293</td><td>0.4837461</td><td>1.4640026</td><td>0.68908419</td></tr>\n",
       "\t<tr><th scope=row>TH_6</th><td>-0.16634058</td><td>0.8467578</td><td>0.3421508</td><td>-0.48616163</td><td>0.626852576</td><td>0.4330319</td><td>1.6557642</td><td>0.73132800</td></tr>\n",
       "\t<tr><th scope=row>TH_7</th><td>-0.29204773</td><td>0.7467329</td><td>0.3107780</td><td>-0.93973113</td><td>0.347355493</td><td>0.4060978</td><td>1.3730930</td><td>0.68908419</td></tr>\n",
       "\t<tr><th scope=row>TH_14</th><td>-0.19463045</td><td>0.8231388</td><td>0.2841113</td><td>-0.68504997</td><td>0.493312389</td><td>0.4716687</td><td>1.4365114</td><td>0.68908419</td></tr>\n",
       "\t<tr><th scope=row>TH_24</th><td>-0.01897856</td><td>0.9812004</td><td>0.2896798</td><td>-0.06551567</td><td>0.947763434</td><td>0.5561371</td><td>1.7311455</td><td>0.94776343</td></tr>\n",
       "\t<tr><th scope=row>TH_23</th><td> 0.14233871</td><td>1.1529671</td><td>0.1923932</td><td> 0.73983248</td><td>0.459401648</td><td>0.7907725</td><td>1.6810563</td><td>0.68908419</td></tr>\n",
       "\t<tr><th scope=row>TH_27</th><td>-0.33939059</td><td>0.7122042</td><td>0.1164899</td><td>-2.91347644</td><td>0.003574288</td><td>0.5668239</td><td>0.8948720</td><td>0.02087031</td></tr>\n",
       "\t<tr><th scope=row>TH_3</th><td>-0.30967486</td><td>0.7336855</td><td>0.1269118</td><td>-2.44007852</td><td>0.014684070</td><td>0.5721137</td><td>0.9408870</td><td>0.05139424</td></tr>\n",
       "\t<tr><th scope=row>TH_13</th><td>-0.46685707</td><td>0.6269697</td><td>0.1642256</td><td>-2.84277882</td><td>0.004472209</td><td>0.4544200</td><td>0.8650389</td><td>0.02087031</td></tr>\n",
       "\t<tr><th scope=row>TH_22</th><td>-0.46005016</td><td>0.6312520</td><td>0.2683390</td><td>-1.71443656</td><td>0.086448579</td><td>0.3730716</td><td>1.0681034</td><td>0.24205602</td></tr>\n",
       "\t<tr><th scope=row>TH_26</th><td> 0.34003978</td><td>1.4050035</td><td>0.1178252</td><td> 2.88596861</td><td>0.003902111</td><td>1.1152813</td><td>1.7699882</td><td>0.02087031</td></tr>\n",
       "</tbody>\n",
       "</table>\n"
      ],
      "text/latex": [
       "A data.frame: 14 × 8\n",
       "\\begin{tabular}{r|llllllll}\n",
       "  & coef & exp(coef) & se(coef) & z & Pr(>\\textbar{}z\\textbar{}) & lower.95 & upper.95 & fdr\\\\\n",
       "  & <dbl> & <dbl> & <dbl> & <dbl> & <dbl> & <dbl> & <dbl> & <dbl>\\\\\n",
       "\\hline\n",
       "\tTH\\_4 &  0.26275994 & 1.3005145 & 0.2341486 &  1.12219311 & 0.261780341 & 0.8218784 & 2.0578932 & 0.61082080\\\\\n",
       "\tTH\\_18 & -0.04886734 & 0.9523075 & 0.2950671 & -0.16561433 & 0.868460466 & 0.5340914 & 1.6980041 & 0.93526512\\\\\n",
       "\tTH\\_17 & -0.21641351 & 0.8054022 & 0.3312179 & -0.65338721 & 0.513506685 & 0.4208038 & 1.5415086 & 0.68908419\\\\\n",
       "\tTH\\_28 & -0.17251042 & 0.8415495 & 0.2824973 & -0.61066211 & 0.541423293 & 0.4837461 & 1.4640026 & 0.68908419\\\\\n",
       "\tTH\\_6 & -0.16634058 & 0.8467578 & 0.3421508 & -0.48616163 & 0.626852576 & 0.4330319 & 1.6557642 & 0.73132800\\\\\n",
       "\tTH\\_7 & -0.29204773 & 0.7467329 & 0.3107780 & -0.93973113 & 0.347355493 & 0.4060978 & 1.3730930 & 0.68908419\\\\\n",
       "\tTH\\_14 & -0.19463045 & 0.8231388 & 0.2841113 & -0.68504997 & 0.493312389 & 0.4716687 & 1.4365114 & 0.68908419\\\\\n",
       "\tTH\\_24 & -0.01897856 & 0.9812004 & 0.2896798 & -0.06551567 & 0.947763434 & 0.5561371 & 1.7311455 & 0.94776343\\\\\n",
       "\tTH\\_23 &  0.14233871 & 1.1529671 & 0.1923932 &  0.73983248 & 0.459401648 & 0.7907725 & 1.6810563 & 0.68908419\\\\\n",
       "\tTH\\_27 & -0.33939059 & 0.7122042 & 0.1164899 & -2.91347644 & 0.003574288 & 0.5668239 & 0.8948720 & 0.02087031\\\\\n",
       "\tTH\\_3 & -0.30967486 & 0.7336855 & 0.1269118 & -2.44007852 & 0.014684070 & 0.5721137 & 0.9408870 & 0.05139424\\\\\n",
       "\tTH\\_13 & -0.46685707 & 0.6269697 & 0.1642256 & -2.84277882 & 0.004472209 & 0.4544200 & 0.8650389 & 0.02087031\\\\\n",
       "\tTH\\_22 & -0.46005016 & 0.6312520 & 0.2683390 & -1.71443656 & 0.086448579 & 0.3730716 & 1.0681034 & 0.24205602\\\\\n",
       "\tTH\\_26 &  0.34003978 & 1.4050035 & 0.1178252 &  2.88596861 & 0.003902111 & 1.1152813 & 1.7699882 & 0.02087031\\\\\n",
       "\\end{tabular}\n"
      ],
      "text/markdown": [
       "\n",
       "A data.frame: 14 × 8\n",
       "\n",
       "| <!--/--> | coef &lt;dbl&gt; | exp(coef) &lt;dbl&gt; | se(coef) &lt;dbl&gt; | z &lt;dbl&gt; | Pr(&gt;|z|) &lt;dbl&gt; | lower.95 &lt;dbl&gt; | upper.95 &lt;dbl&gt; | fdr &lt;dbl&gt; |\n",
       "|---|---|---|---|---|---|---|---|---|\n",
       "| TH_4 |  0.26275994 | 1.3005145 | 0.2341486 |  1.12219311 | 0.261780341 | 0.8218784 | 2.0578932 | 0.61082080 |\n",
       "| TH_18 | -0.04886734 | 0.9523075 | 0.2950671 | -0.16561433 | 0.868460466 | 0.5340914 | 1.6980041 | 0.93526512 |\n",
       "| TH_17 | -0.21641351 | 0.8054022 | 0.3312179 | -0.65338721 | 0.513506685 | 0.4208038 | 1.5415086 | 0.68908419 |\n",
       "| TH_28 | -0.17251042 | 0.8415495 | 0.2824973 | -0.61066211 | 0.541423293 | 0.4837461 | 1.4640026 | 0.68908419 |\n",
       "| TH_6 | -0.16634058 | 0.8467578 | 0.3421508 | -0.48616163 | 0.626852576 | 0.4330319 | 1.6557642 | 0.73132800 |\n",
       "| TH_7 | -0.29204773 | 0.7467329 | 0.3107780 | -0.93973113 | 0.347355493 | 0.4060978 | 1.3730930 | 0.68908419 |\n",
       "| TH_14 | -0.19463045 | 0.8231388 | 0.2841113 | -0.68504997 | 0.493312389 | 0.4716687 | 1.4365114 | 0.68908419 |\n",
       "| TH_24 | -0.01897856 | 0.9812004 | 0.2896798 | -0.06551567 | 0.947763434 | 0.5561371 | 1.7311455 | 0.94776343 |\n",
       "| TH_23 |  0.14233871 | 1.1529671 | 0.1923932 |  0.73983248 | 0.459401648 | 0.7907725 | 1.6810563 | 0.68908419 |\n",
       "| TH_27 | -0.33939059 | 0.7122042 | 0.1164899 | -2.91347644 | 0.003574288 | 0.5668239 | 0.8948720 | 0.02087031 |\n",
       "| TH_3 | -0.30967486 | 0.7336855 | 0.1269118 | -2.44007852 | 0.014684070 | 0.5721137 | 0.9408870 | 0.05139424 |\n",
       "| TH_13 | -0.46685707 | 0.6269697 | 0.1642256 | -2.84277882 | 0.004472209 | 0.4544200 | 0.8650389 | 0.02087031 |\n",
       "| TH_22 | -0.46005016 | 0.6312520 | 0.2683390 | -1.71443656 | 0.086448579 | 0.3730716 | 1.0681034 | 0.24205602 |\n",
       "| TH_26 |  0.34003978 | 1.4050035 | 0.1178252 |  2.88596861 | 0.003902111 | 1.1152813 | 1.7699882 | 0.02087031 |\n",
       "\n"
      ],
      "text/plain": [
       "      coef        exp(coef) se(coef)  z           Pr(>|z|)    lower.95 \n",
       "TH_4   0.26275994 1.3005145 0.2341486  1.12219311 0.261780341 0.8218784\n",
       "TH_18 -0.04886734 0.9523075 0.2950671 -0.16561433 0.868460466 0.5340914\n",
       "TH_17 -0.21641351 0.8054022 0.3312179 -0.65338721 0.513506685 0.4208038\n",
       "TH_28 -0.17251042 0.8415495 0.2824973 -0.61066211 0.541423293 0.4837461\n",
       "TH_6  -0.16634058 0.8467578 0.3421508 -0.48616163 0.626852576 0.4330319\n",
       "TH_7  -0.29204773 0.7467329 0.3107780 -0.93973113 0.347355493 0.4060978\n",
       "TH_14 -0.19463045 0.8231388 0.2841113 -0.68504997 0.493312389 0.4716687\n",
       "TH_24 -0.01897856 0.9812004 0.2896798 -0.06551567 0.947763434 0.5561371\n",
       "TH_23  0.14233871 1.1529671 0.1923932  0.73983248 0.459401648 0.7907725\n",
       "TH_27 -0.33939059 0.7122042 0.1164899 -2.91347644 0.003574288 0.5668239\n",
       "TH_3  -0.30967486 0.7336855 0.1269118 -2.44007852 0.014684070 0.5721137\n",
       "TH_13 -0.46685707 0.6269697 0.1642256 -2.84277882 0.004472209 0.4544200\n",
       "TH_22 -0.46005016 0.6312520 0.2683390 -1.71443656 0.086448579 0.3730716\n",
       "TH_26  0.34003978 1.4050035 0.1178252  2.88596861 0.003902111 1.1152813\n",
       "      upper.95  fdr       \n",
       "TH_4  2.0578932 0.61082080\n",
       "TH_18 1.6980041 0.93526512\n",
       "TH_17 1.5415086 0.68908419\n",
       "TH_28 1.4640026 0.68908419\n",
       "TH_6  1.6557642 0.73132800\n",
       "TH_7  1.3730930 0.68908419\n",
       "TH_14 1.4365114 0.68908419\n",
       "TH_24 1.7311455 0.94776343\n",
       "TH_23 1.6810563 0.68908419\n",
       "TH_27 0.8948720 0.02087031\n",
       "TH_3  0.9408870 0.05139424\n",
       "TH_13 0.8650389 0.02087031\n",
       "TH_22 1.0681034 0.24205602\n",
       "TH_26 1.7699882 0.02087031"
      ]
     },
     "metadata": {},
     "output_type": "display_data"
    }
   ],
   "source": [
    "module_cox"
   ]
  },
  {
   "cell_type": "code",
   "execution_count": 54,
   "metadata": {},
   "outputs": [],
   "source": [
    "module_cox$term <- NA\n",
    "\n",
    "module_cox$term <- GO_modules$myterm[match(rownames(module_cox),GO_modules$moduleLabel)]"
   ]
  },
  {
   "cell_type": "code",
   "execution_count": 55,
   "metadata": {},
   "outputs": [
    {
     "data": {
      "text/html": [
       "<table class=\"dataframe\">\n",
       "<caption>A data.frame: 14 × 9</caption>\n",
       "<thead>\n",
       "\t<tr><th></th><th scope=col>coef</th><th scope=col>exp(coef)</th><th scope=col>se(coef)</th><th scope=col>z</th><th scope=col>Pr(&gt;|z|)</th><th scope=col>lower.95</th><th scope=col>upper.95</th><th scope=col>fdr</th><th scope=col>term</th></tr>\n",
       "\t<tr><th></th><th scope=col>&lt;dbl&gt;</th><th scope=col>&lt;dbl&gt;</th><th scope=col>&lt;dbl&gt;</th><th scope=col>&lt;dbl&gt;</th><th scope=col>&lt;dbl&gt;</th><th scope=col>&lt;dbl&gt;</th><th scope=col>&lt;dbl&gt;</th><th scope=col>&lt;dbl&gt;</th><th scope=col>&lt;chr&gt;</th></tr>\n",
       "</thead>\n",
       "<tbody>\n",
       "\t<tr><th scope=row>TH_4</th><td> 0.26275994</td><td>1.3005145</td><td>0.2341486</td><td> 1.12219311</td><td>0.261780341</td><td>0.8218784</td><td>2.0578932</td><td>0.61082080</td><td>DNA replication                                                                                </td></tr>\n",
       "\t<tr><th scope=row>TH_18</th><td>-0.04886734</td><td>0.9523075</td><td>0.2950671</td><td>-0.16561433</td><td>0.868460466</td><td>0.5340914</td><td>1.6980041</td><td>0.93526512</td><td>mRNA metabolic process                                                                         </td></tr>\n",
       "\t<tr><th scope=row>TH_17</th><td>-0.21641351</td><td>0.8054022</td><td>0.3312179</td><td>-0.65338721</td><td>0.513506685</td><td>0.4208038</td><td>1.5415086</td><td>0.68908419</td><td>cellular protein modification process                                                          </td></tr>\n",
       "\t<tr><th scope=row>TH_28</th><td>-0.17251042</td><td>0.8415495</td><td>0.2824973</td><td>-0.61066211</td><td>0.541423293</td><td>0.4837461</td><td>1.4640026</td><td>0.68908419</td><td>transcription regulator activity                                                               </td></tr>\n",
       "\t<tr><th scope=row>TH_6</th><td>-0.16634058</td><td>0.8467578</td><td>0.3421508</td><td>-0.48616163</td><td>0.626852576</td><td>0.4330319</td><td>1.6557642</td><td>0.73132800</td><td>RNA metabolic process                                                                          </td></tr>\n",
       "\t<tr><th scope=row>TH_7</th><td>-0.29204773</td><td>0.7467329</td><td>0.3107780</td><td>-0.93973113</td><td>0.347355493</td><td>0.4060978</td><td>1.3730930</td><td>0.68908419</td><td>vesicle organization                                                                           </td></tr>\n",
       "\t<tr><th scope=row>TH_14</th><td>-0.19463045</td><td>0.8231388</td><td>0.2841113</td><td>-0.68504997</td><td>0.493312389</td><td>0.4716687</td><td>1.4365114</td><td>0.68908419</td><td>cellular protein localization                                                                  </td></tr>\n",
       "\t<tr><th scope=row>TH_24</th><td>-0.01897856</td><td>0.9812004</td><td>0.2896798</td><td>-0.06551567</td><td>0.947763434</td><td>0.5561371</td><td>1.7311455</td><td>0.94776343</td><td>RNA splicing                                                                                   </td></tr>\n",
       "\t<tr><th scope=row>TH_23</th><td> 0.14233871</td><td>1.1529671</td><td>0.1923932</td><td> 0.73983248</td><td>0.459401648</td><td>0.7907725</td><td>1.6810563</td><td>0.68908419</td><td>SRP-dependent cotranslational protein targeting to membrane                                    </td></tr>\n",
       "\t<tr><th scope=row>TH_27</th><td>-0.33939059</td><td>0.7122042</td><td>0.1164899</td><td>-2.91347644</td><td>0.003574288</td><td>0.5668239</td><td>0.8948720</td><td>0.02087031</td><td>antigen processing and presentation of exogenous peptide antigen via MHC class I, TAP-dependent</td></tr>\n",
       "\t<tr><th scope=row>TH_3</th><td>-0.30967486</td><td>0.7336855</td><td>0.1269118</td><td>-2.44007852</td><td>0.014684070</td><td>0.5721137</td><td>0.9408870</td><td>0.05139424</td><td>defense response to other organism                                                             </td></tr>\n",
       "\t<tr><th scope=row>TH_13</th><td>-0.46685707</td><td>0.6269697</td><td>0.1642256</td><td>-2.84277882</td><td>0.004472209</td><td>0.4544200</td><td>0.8650389</td><td>0.02087031</td><td>T cell differentiation                                                                         </td></tr>\n",
       "\t<tr><th scope=row>TH_22</th><td>-0.46005016</td><td>0.6312520</td><td>0.2683390</td><td>-1.71443656</td><td>0.086448579</td><td>0.3730716</td><td>1.0681034</td><td>0.24205602</td><td>angiogenesis                                                                                   </td></tr>\n",
       "\t<tr><th scope=row>TH_26</th><td> 0.34003978</td><td>1.4050035</td><td>0.1178252</td><td> 2.88596861</td><td>0.003902111</td><td>1.1152813</td><td>1.7699882</td><td>0.02087031</td><td>striated muscle cell development                                                               </td></tr>\n",
       "</tbody>\n",
       "</table>\n"
      ],
      "text/latex": [
       "A data.frame: 14 × 9\n",
       "\\begin{tabular}{r|lllllllll}\n",
       "  & coef & exp(coef) & se(coef) & z & Pr(>\\textbar{}z\\textbar{}) & lower.95 & upper.95 & fdr & term\\\\\n",
       "  & <dbl> & <dbl> & <dbl> & <dbl> & <dbl> & <dbl> & <dbl> & <dbl> & <chr>\\\\\n",
       "\\hline\n",
       "\tTH\\_4 &  0.26275994 & 1.3005145 & 0.2341486 &  1.12219311 & 0.261780341 & 0.8218784 & 2.0578932 & 0.61082080 & DNA replication                                                                                \\\\\n",
       "\tTH\\_18 & -0.04886734 & 0.9523075 & 0.2950671 & -0.16561433 & 0.868460466 & 0.5340914 & 1.6980041 & 0.93526512 & mRNA metabolic process                                                                         \\\\\n",
       "\tTH\\_17 & -0.21641351 & 0.8054022 & 0.3312179 & -0.65338721 & 0.513506685 & 0.4208038 & 1.5415086 & 0.68908419 & cellular protein modification process                                                          \\\\\n",
       "\tTH\\_28 & -0.17251042 & 0.8415495 & 0.2824973 & -0.61066211 & 0.541423293 & 0.4837461 & 1.4640026 & 0.68908419 & transcription regulator activity                                                               \\\\\n",
       "\tTH\\_6 & -0.16634058 & 0.8467578 & 0.3421508 & -0.48616163 & 0.626852576 & 0.4330319 & 1.6557642 & 0.73132800 & RNA metabolic process                                                                          \\\\\n",
       "\tTH\\_7 & -0.29204773 & 0.7467329 & 0.3107780 & -0.93973113 & 0.347355493 & 0.4060978 & 1.3730930 & 0.68908419 & vesicle organization                                                                           \\\\\n",
       "\tTH\\_14 & -0.19463045 & 0.8231388 & 0.2841113 & -0.68504997 & 0.493312389 & 0.4716687 & 1.4365114 & 0.68908419 & cellular protein localization                                                                  \\\\\n",
       "\tTH\\_24 & -0.01897856 & 0.9812004 & 0.2896798 & -0.06551567 & 0.947763434 & 0.5561371 & 1.7311455 & 0.94776343 & RNA splicing                                                                                   \\\\\n",
       "\tTH\\_23 &  0.14233871 & 1.1529671 & 0.1923932 &  0.73983248 & 0.459401648 & 0.7907725 & 1.6810563 & 0.68908419 & SRP-dependent cotranslational protein targeting to membrane                                    \\\\\n",
       "\tTH\\_27 & -0.33939059 & 0.7122042 & 0.1164899 & -2.91347644 & 0.003574288 & 0.5668239 & 0.8948720 & 0.02087031 & antigen processing and presentation of exogenous peptide antigen via MHC class I, TAP-dependent\\\\\n",
       "\tTH\\_3 & -0.30967486 & 0.7336855 & 0.1269118 & -2.44007852 & 0.014684070 & 0.5721137 & 0.9408870 & 0.05139424 & defense response to other organism                                                             \\\\\n",
       "\tTH\\_13 & -0.46685707 & 0.6269697 & 0.1642256 & -2.84277882 & 0.004472209 & 0.4544200 & 0.8650389 & 0.02087031 & T cell differentiation                                                                         \\\\\n",
       "\tTH\\_22 & -0.46005016 & 0.6312520 & 0.2683390 & -1.71443656 & 0.086448579 & 0.3730716 & 1.0681034 & 0.24205602 & angiogenesis                                                                                   \\\\\n",
       "\tTH\\_26 &  0.34003978 & 1.4050035 & 0.1178252 &  2.88596861 & 0.003902111 & 1.1152813 & 1.7699882 & 0.02087031 & striated muscle cell development                                                               \\\\\n",
       "\\end{tabular}\n"
      ],
      "text/markdown": [
       "\n",
       "A data.frame: 14 × 9\n",
       "\n",
       "| <!--/--> | coef &lt;dbl&gt; | exp(coef) &lt;dbl&gt; | se(coef) &lt;dbl&gt; | z &lt;dbl&gt; | Pr(&gt;|z|) &lt;dbl&gt; | lower.95 &lt;dbl&gt; | upper.95 &lt;dbl&gt; | fdr &lt;dbl&gt; | term &lt;chr&gt; |\n",
       "|---|---|---|---|---|---|---|---|---|---|\n",
       "| TH_4 |  0.26275994 | 1.3005145 | 0.2341486 |  1.12219311 | 0.261780341 | 0.8218784 | 2.0578932 | 0.61082080 | DNA replication                                                                                 |\n",
       "| TH_18 | -0.04886734 | 0.9523075 | 0.2950671 | -0.16561433 | 0.868460466 | 0.5340914 | 1.6980041 | 0.93526512 | mRNA metabolic process                                                                          |\n",
       "| TH_17 | -0.21641351 | 0.8054022 | 0.3312179 | -0.65338721 | 0.513506685 | 0.4208038 | 1.5415086 | 0.68908419 | cellular protein modification process                                                           |\n",
       "| TH_28 | -0.17251042 | 0.8415495 | 0.2824973 | -0.61066211 | 0.541423293 | 0.4837461 | 1.4640026 | 0.68908419 | transcription regulator activity                                                                |\n",
       "| TH_6 | -0.16634058 | 0.8467578 | 0.3421508 | -0.48616163 | 0.626852576 | 0.4330319 | 1.6557642 | 0.73132800 | RNA metabolic process                                                                           |\n",
       "| TH_7 | -0.29204773 | 0.7467329 | 0.3107780 | -0.93973113 | 0.347355493 | 0.4060978 | 1.3730930 | 0.68908419 | vesicle organization                                                                            |\n",
       "| TH_14 | -0.19463045 | 0.8231388 | 0.2841113 | -0.68504997 | 0.493312389 | 0.4716687 | 1.4365114 | 0.68908419 | cellular protein localization                                                                   |\n",
       "| TH_24 | -0.01897856 | 0.9812004 | 0.2896798 | -0.06551567 | 0.947763434 | 0.5561371 | 1.7311455 | 0.94776343 | RNA splicing                                                                                    |\n",
       "| TH_23 |  0.14233871 | 1.1529671 | 0.1923932 |  0.73983248 | 0.459401648 | 0.7907725 | 1.6810563 | 0.68908419 | SRP-dependent cotranslational protein targeting to membrane                                     |\n",
       "| TH_27 | -0.33939059 | 0.7122042 | 0.1164899 | -2.91347644 | 0.003574288 | 0.5668239 | 0.8948720 | 0.02087031 | antigen processing and presentation of exogenous peptide antigen via MHC class I, TAP-dependent |\n",
       "| TH_3 | -0.30967486 | 0.7336855 | 0.1269118 | -2.44007852 | 0.014684070 | 0.5721137 | 0.9408870 | 0.05139424 | defense response to other organism                                                              |\n",
       "| TH_13 | -0.46685707 | 0.6269697 | 0.1642256 | -2.84277882 | 0.004472209 | 0.4544200 | 0.8650389 | 0.02087031 | T cell differentiation                                                                          |\n",
       "| TH_22 | -0.46005016 | 0.6312520 | 0.2683390 | -1.71443656 | 0.086448579 | 0.3730716 | 1.0681034 | 0.24205602 | angiogenesis                                                                                    |\n",
       "| TH_26 |  0.34003978 | 1.4050035 | 0.1178252 |  2.88596861 | 0.003902111 | 1.1152813 | 1.7699882 | 0.02087031 | striated muscle cell development                                                                |\n",
       "\n"
      ],
      "text/plain": [
       "      coef        exp(coef) se(coef)  z           Pr(>|z|)    lower.95 \n",
       "TH_4   0.26275994 1.3005145 0.2341486  1.12219311 0.261780341 0.8218784\n",
       "TH_18 -0.04886734 0.9523075 0.2950671 -0.16561433 0.868460466 0.5340914\n",
       "TH_17 -0.21641351 0.8054022 0.3312179 -0.65338721 0.513506685 0.4208038\n",
       "TH_28 -0.17251042 0.8415495 0.2824973 -0.61066211 0.541423293 0.4837461\n",
       "TH_6  -0.16634058 0.8467578 0.3421508 -0.48616163 0.626852576 0.4330319\n",
       "TH_7  -0.29204773 0.7467329 0.3107780 -0.93973113 0.347355493 0.4060978\n",
       "TH_14 -0.19463045 0.8231388 0.2841113 -0.68504997 0.493312389 0.4716687\n",
       "TH_24 -0.01897856 0.9812004 0.2896798 -0.06551567 0.947763434 0.5561371\n",
       "TH_23  0.14233871 1.1529671 0.1923932  0.73983248 0.459401648 0.7907725\n",
       "TH_27 -0.33939059 0.7122042 0.1164899 -2.91347644 0.003574288 0.5668239\n",
       "TH_3  -0.30967486 0.7336855 0.1269118 -2.44007852 0.014684070 0.5721137\n",
       "TH_13 -0.46685707 0.6269697 0.1642256 -2.84277882 0.004472209 0.4544200\n",
       "TH_22 -0.46005016 0.6312520 0.2683390 -1.71443656 0.086448579 0.3730716\n",
       "TH_26  0.34003978 1.4050035 0.1178252  2.88596861 0.003902111 1.1152813\n",
       "      upper.95  fdr       \n",
       "TH_4  2.0578932 0.61082080\n",
       "TH_18 1.6980041 0.93526512\n",
       "TH_17 1.5415086 0.68908419\n",
       "TH_28 1.4640026 0.68908419\n",
       "TH_6  1.6557642 0.73132800\n",
       "TH_7  1.3730930 0.68908419\n",
       "TH_14 1.4365114 0.68908419\n",
       "TH_24 1.7311455 0.94776343\n",
       "TH_23 1.6810563 0.68908419\n",
       "TH_27 0.8948720 0.02087031\n",
       "TH_3  0.9408870 0.05139424\n",
       "TH_13 0.8650389 0.02087031\n",
       "TH_22 1.0681034 0.24205602\n",
       "TH_26 1.7699882 0.02087031\n",
       "      term                                                                                           \n",
       "TH_4  DNA replication                                                                                \n",
       "TH_18 mRNA metabolic process                                                                         \n",
       "TH_17 cellular protein modification process                                                          \n",
       "TH_28 transcription regulator activity                                                               \n",
       "TH_6  RNA metabolic process                                                                          \n",
       "TH_7  vesicle organization                                                                           \n",
       "TH_14 cellular protein localization                                                                  \n",
       "TH_24 RNA splicing                                                                                   \n",
       "TH_23 SRP-dependent cotranslational protein targeting to membrane                                    \n",
       "TH_27 antigen processing and presentation of exogenous peptide antigen via MHC class I, TAP-dependent\n",
       "TH_3  defense response to other organism                                                             \n",
       "TH_13 T cell differentiation                                                                         \n",
       "TH_22 angiogenesis                                                                                   \n",
       "TH_26 striated muscle cell development                                                               "
      ]
     },
     "metadata": {},
     "output_type": "display_data"
    }
   ],
   "source": [
    "module_cox"
   ]
  },
  {
   "cell_type": "code",
   "execution_count": 56,
   "metadata": {},
   "outputs": [],
   "source": [
    "# some cleanup for terms\n",
    "\n",
    "module_cox$term[module_cox$term == \"antigen processing and presentation of exogenous peptide antigen via MHC class I, TAP-dependent\" ] <- \n",
    "\"antigen processing and presentation\"\n",
    "module_cox$term[module_cox$term == \"SRP-dependent cotranslational protein targeting to membrane\" ] <- \"protein targeting to ER\""
   ]
  },
  {
   "cell_type": "markdown",
   "metadata": {},
   "source": [
    "## TableS7"
   ]
  },
  {
   "cell_type": "code",
   "execution_count": 57,
   "metadata": {},
   "outputs": [],
   "source": [
    "xlsx::write.xlsx(module_cox, \n",
    "                 file = \"~/OneDrive - UHN/Documents/Manuscripts/INDICATE/v2/TableS7.xlsx\")"
   ]
  },
  {
   "cell_type": "code",
   "execution_count": 58,
   "metadata": {},
   "outputs": [],
   "source": [
    "hrs <- module_cox[,c(2,6,7)]\n",
    "hrs <- rbind(NA,hrs)"
   ]
  },
  {
   "cell_type": "code",
   "execution_count": 59,
   "metadata": {},
   "outputs": [
    {
     "data": {
      "text/html": [
       "<table class=\"dataframe\">\n",
       "<caption>A data.frame: 15 × 3</caption>\n",
       "<thead>\n",
       "\t<tr><th></th><th scope=col>exp(coef)</th><th scope=col>lower.95</th><th scope=col>upper.95</th></tr>\n",
       "\t<tr><th></th><th scope=col>&lt;dbl&gt;</th><th scope=col>&lt;dbl&gt;</th><th scope=col>&lt;dbl&gt;</th></tr>\n",
       "</thead>\n",
       "<tbody>\n",
       "\t<tr><th scope=row>1</th><td>       NA</td><td>       NA</td><td>       NA</td></tr>\n",
       "\t<tr><th scope=row>TH_4</th><td>1.3005145</td><td>0.8218784</td><td>2.0578932</td></tr>\n",
       "\t<tr><th scope=row>TH_18</th><td>0.9523075</td><td>0.5340914</td><td>1.6980041</td></tr>\n",
       "\t<tr><th scope=row>TH_17</th><td>0.8054022</td><td>0.4208038</td><td>1.5415086</td></tr>\n",
       "\t<tr><th scope=row>TH_28</th><td>0.8415495</td><td>0.4837461</td><td>1.4640026</td></tr>\n",
       "\t<tr><th scope=row>TH_6</th><td>0.8467578</td><td>0.4330319</td><td>1.6557642</td></tr>\n",
       "\t<tr><th scope=row>TH_7</th><td>0.7467329</td><td>0.4060978</td><td>1.3730930</td></tr>\n",
       "\t<tr><th scope=row>TH_14</th><td>0.8231388</td><td>0.4716687</td><td>1.4365114</td></tr>\n",
       "\t<tr><th scope=row>TH_24</th><td>0.9812004</td><td>0.5561371</td><td>1.7311455</td></tr>\n",
       "\t<tr><th scope=row>TH_23</th><td>1.1529671</td><td>0.7907725</td><td>1.6810563</td></tr>\n",
       "\t<tr><th scope=row>TH_27</th><td>0.7122042</td><td>0.5668239</td><td>0.8948720</td></tr>\n",
       "\t<tr><th scope=row>TH_3</th><td>0.7336855</td><td>0.5721137</td><td>0.9408870</td></tr>\n",
       "\t<tr><th scope=row>TH_13</th><td>0.6269697</td><td>0.4544200</td><td>0.8650389</td></tr>\n",
       "\t<tr><th scope=row>TH_22</th><td>0.6312520</td><td>0.3730716</td><td>1.0681034</td></tr>\n",
       "\t<tr><th scope=row>TH_26</th><td>1.4050035</td><td>1.1152813</td><td>1.7699882</td></tr>\n",
       "</tbody>\n",
       "</table>\n"
      ],
      "text/latex": [
       "A data.frame: 15 × 3\n",
       "\\begin{tabular}{r|lll}\n",
       "  & exp(coef) & lower.95 & upper.95\\\\\n",
       "  & <dbl> & <dbl> & <dbl>\\\\\n",
       "\\hline\n",
       "\t1 &        NA &        NA &        NA\\\\\n",
       "\tTH\\_4 & 1.3005145 & 0.8218784 & 2.0578932\\\\\n",
       "\tTH\\_18 & 0.9523075 & 0.5340914 & 1.6980041\\\\\n",
       "\tTH\\_17 & 0.8054022 & 0.4208038 & 1.5415086\\\\\n",
       "\tTH\\_28 & 0.8415495 & 0.4837461 & 1.4640026\\\\\n",
       "\tTH\\_6 & 0.8467578 & 0.4330319 & 1.6557642\\\\\n",
       "\tTH\\_7 & 0.7467329 & 0.4060978 & 1.3730930\\\\\n",
       "\tTH\\_14 & 0.8231388 & 0.4716687 & 1.4365114\\\\\n",
       "\tTH\\_24 & 0.9812004 & 0.5561371 & 1.7311455\\\\\n",
       "\tTH\\_23 & 1.1529671 & 0.7907725 & 1.6810563\\\\\n",
       "\tTH\\_27 & 0.7122042 & 0.5668239 & 0.8948720\\\\\n",
       "\tTH\\_3 & 0.7336855 & 0.5721137 & 0.9408870\\\\\n",
       "\tTH\\_13 & 0.6269697 & 0.4544200 & 0.8650389\\\\\n",
       "\tTH\\_22 & 0.6312520 & 0.3730716 & 1.0681034\\\\\n",
       "\tTH\\_26 & 1.4050035 & 1.1152813 & 1.7699882\\\\\n",
       "\\end{tabular}\n"
      ],
      "text/markdown": [
       "\n",
       "A data.frame: 15 × 3\n",
       "\n",
       "| <!--/--> | exp(coef) &lt;dbl&gt; | lower.95 &lt;dbl&gt; | upper.95 &lt;dbl&gt; |\n",
       "|---|---|---|---|\n",
       "| 1 |        NA |        NA |        NA |\n",
       "| TH_4 | 1.3005145 | 0.8218784 | 2.0578932 |\n",
       "| TH_18 | 0.9523075 | 0.5340914 | 1.6980041 |\n",
       "| TH_17 | 0.8054022 | 0.4208038 | 1.5415086 |\n",
       "| TH_28 | 0.8415495 | 0.4837461 | 1.4640026 |\n",
       "| TH_6 | 0.8467578 | 0.4330319 | 1.6557642 |\n",
       "| TH_7 | 0.7467329 | 0.4060978 | 1.3730930 |\n",
       "| TH_14 | 0.8231388 | 0.4716687 | 1.4365114 |\n",
       "| TH_24 | 0.9812004 | 0.5561371 | 1.7311455 |\n",
       "| TH_23 | 1.1529671 | 0.7907725 | 1.6810563 |\n",
       "| TH_27 | 0.7122042 | 0.5668239 | 0.8948720 |\n",
       "| TH_3 | 0.7336855 | 0.5721137 | 0.9408870 |\n",
       "| TH_13 | 0.6269697 | 0.4544200 | 0.8650389 |\n",
       "| TH_22 | 0.6312520 | 0.3730716 | 1.0681034 |\n",
       "| TH_26 | 1.4050035 | 1.1152813 | 1.7699882 |\n",
       "\n"
      ],
      "text/plain": [
       "      exp(coef) lower.95  upper.95 \n",
       "1            NA        NA        NA\n",
       "TH_4  1.3005145 0.8218784 2.0578932\n",
       "TH_18 0.9523075 0.5340914 1.6980041\n",
       "TH_17 0.8054022 0.4208038 1.5415086\n",
       "TH_28 0.8415495 0.4837461 1.4640026\n",
       "TH_6  0.8467578 0.4330319 1.6557642\n",
       "TH_7  0.7467329 0.4060978 1.3730930\n",
       "TH_14 0.8231388 0.4716687 1.4365114\n",
       "TH_24 0.9812004 0.5561371 1.7311455\n",
       "TH_23 1.1529671 0.7907725 1.6810563\n",
       "TH_27 0.7122042 0.5668239 0.8948720\n",
       "TH_3  0.7336855 0.5721137 0.9408870\n",
       "TH_13 0.6269697 0.4544200 0.8650389\n",
       "TH_22 0.6312520 0.3730716 1.0681034\n",
       "TH_26 1.4050035 1.1152813 1.7699882"
      ]
     },
     "metadata": {},
     "output_type": "display_data"
    }
   ],
   "source": [
    "hrs"
   ]
  },
  {
   "cell_type": "code",
   "execution_count": 60,
   "metadata": {},
   "outputs": [],
   "source": [
    "tabtext <- as.data.frame(module_cox[,c(2,5,8)])\n",
    "tabtext <- format(round(tabtext, 2))\n",
    "tabtext <- cbind(module_cox[,9],tabtext)\n",
    "colnames(tabtext) <- c(\"Signature\", \"Hazard Ratio\", \"p-value\", \"FDR\")\n",
    "rownames(tabtext) <- NULL\n",
    "tabtext <- rbind(colnames(tabtext),tabtext)"
   ]
  },
  {
   "cell_type": "code",
   "execution_count": 61,
   "metadata": {},
   "outputs": [
    {
     "data": {
      "text/html": [
       "<table class=\"dataframe\">\n",
       "<caption>A data.frame: 15 × 4</caption>\n",
       "<thead>\n",
       "\t<tr><th scope=col>Signature</th><th scope=col>Hazard Ratio</th><th scope=col>p-value</th><th scope=col>FDR</th></tr>\n",
       "\t<tr><th scope=col>&lt;chr&gt;</th><th scope=col>&lt;I&lt;chr&gt;&gt;</th><th scope=col>&lt;I&lt;chr&gt;&gt;</th><th scope=col>&lt;I&lt;chr&gt;&gt;</th></tr>\n",
       "</thead>\n",
       "<tbody>\n",
       "\t<tr><td>Signature                            </td><td>Hazard Ratio</td><td>p-value</td><td>FDR </td></tr>\n",
       "\t<tr><td>DNA replication                      </td><td>1.30        </td><td>0.26   </td><td>0.61</td></tr>\n",
       "\t<tr><td>mRNA metabolic process               </td><td>0.95        </td><td>0.87   </td><td>0.94</td></tr>\n",
       "\t<tr><td>cellular protein modification process</td><td>0.81        </td><td>0.51   </td><td>0.69</td></tr>\n",
       "\t<tr><td>transcription regulator activity     </td><td>0.84        </td><td>0.54   </td><td>0.69</td></tr>\n",
       "\t<tr><td>RNA metabolic process                </td><td>0.85        </td><td>0.63   </td><td>0.73</td></tr>\n",
       "\t<tr><td>vesicle organization                 </td><td>0.75        </td><td>0.35   </td><td>0.69</td></tr>\n",
       "\t<tr><td>cellular protein localization        </td><td>0.82        </td><td>0.49   </td><td>0.69</td></tr>\n",
       "\t<tr><td>RNA splicing                         </td><td>0.98        </td><td>0.95   </td><td>0.95</td></tr>\n",
       "\t<tr><td>protein targeting to ER              </td><td>1.15        </td><td>0.46   </td><td>0.69</td></tr>\n",
       "\t<tr><td>antigen processing and presentation  </td><td>0.71        </td><td>0.00   </td><td>0.02</td></tr>\n",
       "\t<tr><td>defense response to other organism   </td><td>0.73        </td><td>0.01   </td><td>0.05</td></tr>\n",
       "\t<tr><td>T cell differentiation               </td><td>0.63        </td><td>0.00   </td><td>0.02</td></tr>\n",
       "\t<tr><td>angiogenesis                         </td><td>0.63        </td><td>0.09   </td><td>0.24</td></tr>\n",
       "\t<tr><td>striated muscle cell development     </td><td>1.41        </td><td>0.00   </td><td>0.02</td></tr>\n",
       "</tbody>\n",
       "</table>\n"
      ],
      "text/latex": [
       "A data.frame: 15 × 4\n",
       "\\begin{tabular}{llll}\n",
       " Signature & Hazard Ratio & p-value & FDR\\\\\n",
       " <chr> & <I<chr>> & <I<chr>> & <I<chr>>\\\\\n",
       "\\hline\n",
       "\t Signature                             & Hazard Ratio & p-value & FDR \\\\\n",
       "\t DNA replication                       & 1.30         & 0.26    & 0.61\\\\\n",
       "\t mRNA metabolic process                & 0.95         & 0.87    & 0.94\\\\\n",
       "\t cellular protein modification process & 0.81         & 0.51    & 0.69\\\\\n",
       "\t transcription regulator activity      & 0.84         & 0.54    & 0.69\\\\\n",
       "\t RNA metabolic process                 & 0.85         & 0.63    & 0.73\\\\\n",
       "\t vesicle organization                  & 0.75         & 0.35    & 0.69\\\\\n",
       "\t cellular protein localization         & 0.82         & 0.49    & 0.69\\\\\n",
       "\t RNA splicing                          & 0.98         & 0.95    & 0.95\\\\\n",
       "\t protein targeting to ER               & 1.15         & 0.46    & 0.69\\\\\n",
       "\t antigen processing and presentation   & 0.71         & 0.00    & 0.02\\\\\n",
       "\t defense response to other organism    & 0.73         & 0.01    & 0.05\\\\\n",
       "\t T cell differentiation                & 0.63         & 0.00    & 0.02\\\\\n",
       "\t angiogenesis                          & 0.63         & 0.09    & 0.24\\\\\n",
       "\t striated muscle cell development      & 1.41         & 0.00    & 0.02\\\\\n",
       "\\end{tabular}\n"
      ],
      "text/markdown": [
       "\n",
       "A data.frame: 15 × 4\n",
       "\n",
       "| Signature &lt;chr&gt; | Hazard Ratio &lt;I&lt;chr&gt;&gt; | p-value &lt;I&lt;chr&gt;&gt; | FDR &lt;I&lt;chr&gt;&gt; |\n",
       "|---|---|---|---|\n",
       "| Signature                             | Hazard Ratio | p-value | FDR  |\n",
       "| DNA replication                       | 1.30         | 0.26    | 0.61 |\n",
       "| mRNA metabolic process                | 0.95         | 0.87    | 0.94 |\n",
       "| cellular protein modification process | 0.81         | 0.51    | 0.69 |\n",
       "| transcription regulator activity      | 0.84         | 0.54    | 0.69 |\n",
       "| RNA metabolic process                 | 0.85         | 0.63    | 0.73 |\n",
       "| vesicle organization                  | 0.75         | 0.35    | 0.69 |\n",
       "| cellular protein localization         | 0.82         | 0.49    | 0.69 |\n",
       "| RNA splicing                          | 0.98         | 0.95    | 0.95 |\n",
       "| protein targeting to ER               | 1.15         | 0.46    | 0.69 |\n",
       "| antigen processing and presentation   | 0.71         | 0.00    | 0.02 |\n",
       "| defense response to other organism    | 0.73         | 0.01    | 0.05 |\n",
       "| T cell differentiation                | 0.63         | 0.00    | 0.02 |\n",
       "| angiogenesis                          | 0.63         | 0.09    | 0.24 |\n",
       "| striated muscle cell development      | 1.41         | 0.00    | 0.02 |\n",
       "\n"
      ],
      "text/plain": [
       "   Signature                             Hazard Ratio p-value FDR \n",
       "1  Signature                             Hazard Ratio p-value FDR \n",
       "2  DNA replication                       1.30         0.26    0.61\n",
       "3  mRNA metabolic process                0.95         0.87    0.94\n",
       "4  cellular protein modification process 0.81         0.51    0.69\n",
       "5  transcription regulator activity      0.84         0.54    0.69\n",
       "6  RNA metabolic process                 0.85         0.63    0.73\n",
       "7  vesicle organization                  0.75         0.35    0.69\n",
       "8  cellular protein localization         0.82         0.49    0.69\n",
       "9  RNA splicing                          0.98         0.95    0.95\n",
       "10 protein targeting to ER               1.15         0.46    0.69\n",
       "11 antigen processing and presentation   0.71         0.00    0.02\n",
       "12 defense response to other organism    0.73         0.01    0.05\n",
       "13 T cell differentiation                0.63         0.00    0.02\n",
       "14 angiogenesis                          0.63         0.09    0.24\n",
       "15 striated muscle cell development      1.41         0.00    0.02"
      ]
     },
     "metadata": {},
     "output_type": "display_data"
    }
   ],
   "source": [
    "tabtext"
   ]
  },
  {
   "cell_type": "code",
   "execution_count": 62,
   "metadata": {},
   "outputs": [],
   "source": [
    "tabtext$`Hazard Ratio` <- NULL"
   ]
  },
  {
   "cell_type": "code",
   "execution_count": 63,
   "metadata": {},
   "outputs": [
    {
     "data": {
      "image/png": "[encoded data removed]",
      "text/plain": [
       "plot without title"
      ]
     },
     "metadata": {
      "image/png": {
       "height": 420,
       "width": 420
      }
     },
     "output_type": "display_data"
    }
   ],
   "source": [
    "fplot <- forestplot(tabtext, hrs, new_page = TRUE, xlog = TRUE,\n",
    "                   title = \"Univariable model (iMATRIX)\", boxsize = 0.25)"
   ]
  },
  {
   "cell_type": "code",
   "execution_count": 64,
   "metadata": {},
   "outputs": [
    {
     "data": {
      "text/html": [
       "<strong>pdf:</strong> 2"
      ],
      "text/latex": [
       "\\textbf{pdf:} 2"
      ],
      "text/markdown": [
       "**pdf:** 2"
      ],
      "text/plain": [
       "pdf \n",
       "  2 "
      ]
     },
     "metadata": {},
     "output_type": "display_data"
    }
   ],
   "source": [
    "pdf(file = paste0(plotpath,\"Univar_forestplot.pdf\"),\n",
    "    width = 7, height = 10,\n",
    "    useDingbats = FALSE, onefile = F)\n",
    "\n",
    "forestplot(tabtext, hrs, new_page = TRUE, xlog = TRUE,\n",
    "                   title = \"Univariable model (iMATRIX)\", boxsize = 0.25)\n",
    "\n",
    "dev.off()"
   ]
  },
  {
   "cell_type": "markdown",
   "metadata": {},
   "source": [
    "# Determine module membership for GES"
   ]
  },
  {
   "cell_type": "code",
   "execution_count": 65,
   "metadata": {
    "scrolled": true
   },
   "outputs": [
    {
     "name": "stderr",
     "output_type": "stream",
     "text": [
      "Loading required package: dynamicTreeCut\n",
      "\n",
      "Loading required package: fastcluster\n",
      "\n",
      "\n",
      "Attaching package: ‘fastcluster’\n",
      "\n",
      "\n",
      "The following object is masked from ‘package:stats’:\n",
      "\n",
      "    hclust\n",
      "\n",
      "\n",
      "\n",
      "\n",
      "\n",
      "Attaching package: ‘WGCNA’\n",
      "\n",
      "\n",
      "The following object is masked from ‘package:stats’:\n",
      "\n",
      "    cor\n",
      "\n",
      "\n"
     ]
    }
   ],
   "source": [
    "library(WGCNA)"
   ]
  },
  {
   "cell_type": "code",
   "execution_count": 66,
   "metadata": {},
   "outputs": [],
   "source": [
    "mountpath <- \"/Users/anabbi/Desktop/H4H/INDICATE/wgcna/th/\""
   ]
  },
  {
   "cell_type": "code",
   "execution_count": 67,
   "metadata": {},
   "outputs": [],
   "source": [
    "load(paste0(mountpath, \"Consensus_Network_TH_manual_signed_20.RData\"))"
   ]
  },
  {
   "cell_type": "code",
   "execution_count": 68,
   "metadata": {},
   "outputs": [],
   "source": [
    "load(file = paste0(datapath, \"WGCNA/TH/Consensus-dataInput_Treehouse_tpm.RData\"))"
   ]
  },
  {
   "cell_type": "code",
   "execution_count": 69,
   "metadata": {},
   "outputs": [],
   "source": [
    "gene_module <- read.csv(file = paste0(datapath, \"/WGCNA/TH/gene_module_treehouse_manual_signed_20.csv\"),\n",
    "                       header = T, stringsAsFactors = F,row.names = 1,check.names = F) "
   ]
  },
  {
   "cell_type": "code",
   "execution_count": 70,
   "metadata": {},
   "outputs": [],
   "source": [
    "GO_module <- read.csv(file = paste0(datapath, \"WGCNA/TH/GO_TH_cons_manual_signed_20.csv\"),\n",
    "                       header = T, stringsAsFactors = F,row.names = 1,check.names = F) "
   ]
  },
  {
   "cell_type": "code",
   "execution_count": 71,
   "metadata": {},
   "outputs": [
    {
     "data": {
      "text/html": [
       "<table class=\"dataframe\">\n",
       "<caption>A data.frame: 6 × 7</caption>\n",
       "<thead>\n",
       "\t<tr><th></th><th scope=col>module</th><th scope=col>modSize</th><th scope=col>enrichmentP</th><th scope=col>BonferoniP</th><th scope=col>nModGenesInTerm</th><th scope=col>termOntology</th><th scope=col>termName</th></tr>\n",
       "\t<tr><th></th><th scope=col>&lt;chr&gt;</th><th scope=col>&lt;int&gt;</th><th scope=col>&lt;dbl&gt;</th><th scope=col>&lt;dbl&gt;</th><th scope=col>&lt;int&gt;</th><th scope=col>&lt;chr&gt;</th><th scope=col>&lt;chr&gt;</th></tr>\n",
       "</thead>\n",
       "<tbody>\n",
       "\t<tr><th scope=row>GO:0000139</th><td>black</td><td>331</td><td>3.6e-14</td><td>6.6e-10</td><td> 49</td><td>CC</td><td>Golgi membrane                  </td></tr>\n",
       "\t<tr><th scope=row>GO:0005794</th><td>black</td><td>331</td><td>1.9e-13</td><td>3.5e-09</td><td> 73</td><td>CC</td><td>Golgi apparatus                 </td></tr>\n",
       "\t<tr><th scope=row>GO:0016050</th><td>black</td><td>331</td><td>4.6e-13</td><td>8.5e-09</td><td> 31</td><td>BP</td><td>vesicle organization            </td></tr>\n",
       "\t<tr><th scope=row>GO:0031090</th><td>black</td><td>331</td><td>8.8e-13</td><td>1.6e-08</td><td>120</td><td>CC</td><td>organelle membrane              </td></tr>\n",
       "\t<tr><th scope=row>GO:0012505</th><td>black</td><td>331</td><td>4.0e-12</td><td>7.3e-08</td><td>140</td><td>CC</td><td>endomembrane system             </td></tr>\n",
       "\t<tr><th scope=row>GO:0010256</th><td>black</td><td>331</td><td>9.7e-12</td><td>1.8e-07</td><td> 34</td><td>BP</td><td>endomembrane system organization</td></tr>\n",
       "</tbody>\n",
       "</table>\n"
      ],
      "text/latex": [
       "A data.frame: 6 × 7\n",
       "\\begin{tabular}{r|lllllll}\n",
       "  & module & modSize & enrichmentP & BonferoniP & nModGenesInTerm & termOntology & termName\\\\\n",
       "  & <chr> & <int> & <dbl> & <dbl> & <int> & <chr> & <chr>\\\\\n",
       "\\hline\n",
       "\tGO:0000139 & black & 331 & 3.6e-14 & 6.6e-10 &  49 & CC & Golgi membrane                  \\\\\n",
       "\tGO:0005794 & black & 331 & 1.9e-13 & 3.5e-09 &  73 & CC & Golgi apparatus                 \\\\\n",
       "\tGO:0016050 & black & 331 & 4.6e-13 & 8.5e-09 &  31 & BP & vesicle organization            \\\\\n",
       "\tGO:0031090 & black & 331 & 8.8e-13 & 1.6e-08 & 120 & CC & organelle membrane              \\\\\n",
       "\tGO:0012505 & black & 331 & 4.0e-12 & 7.3e-08 & 140 & CC & endomembrane system             \\\\\n",
       "\tGO:0010256 & black & 331 & 9.7e-12 & 1.8e-07 &  34 & BP & endomembrane system organization\\\\\n",
       "\\end{tabular}\n"
      ],
      "text/markdown": [
       "\n",
       "A data.frame: 6 × 7\n",
       "\n",
       "| <!--/--> | module &lt;chr&gt; | modSize &lt;int&gt; | enrichmentP &lt;dbl&gt; | BonferoniP &lt;dbl&gt; | nModGenesInTerm &lt;int&gt; | termOntology &lt;chr&gt; | termName &lt;chr&gt; |\n",
       "|---|---|---|---|---|---|---|---|\n",
       "| GO:0000139 | black | 331 | 3.6e-14 | 6.6e-10 |  49 | CC | Golgi membrane                   |\n",
       "| GO:0005794 | black | 331 | 1.9e-13 | 3.5e-09 |  73 | CC | Golgi apparatus                  |\n",
       "| GO:0016050 | black | 331 | 4.6e-13 | 8.5e-09 |  31 | BP | vesicle organization             |\n",
       "| GO:0031090 | black | 331 | 8.8e-13 | 1.6e-08 | 120 | CC | organelle membrane               |\n",
       "| GO:0012505 | black | 331 | 4.0e-12 | 7.3e-08 | 140 | CC | endomembrane system              |\n",
       "| GO:0010256 | black | 331 | 9.7e-12 | 1.8e-07 |  34 | BP | endomembrane system organization |\n",
       "\n"
      ],
      "text/plain": [
       "           module modSize enrichmentP BonferoniP nModGenesInTerm termOntology\n",
       "GO:0000139 black  331     3.6e-14     6.6e-10     49             CC          \n",
       "GO:0005794 black  331     1.9e-13     3.5e-09     73             CC          \n",
       "GO:0016050 black  331     4.6e-13     8.5e-09     31             BP          \n",
       "GO:0031090 black  331     8.8e-13     1.6e-08    120             CC          \n",
       "GO:0012505 black  331     4.0e-12     7.3e-08    140             CC          \n",
       "GO:0010256 black  331     9.7e-12     1.8e-07     34             BP          \n",
       "           termName                        \n",
       "GO:0000139 Golgi membrane                  \n",
       "GO:0005794 Golgi apparatus                 \n",
       "GO:0016050 vesicle organization            \n",
       "GO:0031090 organelle membrane              \n",
       "GO:0012505 endomembrane system             \n",
       "GO:0010256 endomembrane system organization"
      ]
     },
     "metadata": {},
     "output_type": "display_data"
    }
   ],
   "source": [
    "head(GO_module)"
   ]
  },
  {
   "cell_type": "code",
   "execution_count": 72,
   "metadata": {},
   "outputs": [],
   "source": [
    "# add module labels to GO data\n",
    "labels_colors <- gene_module[ !duplicated(gene_module$moduleColor),c(\"moduleLabel\", \"moduleColor\")]\n",
    "GO_module$label <- NA\n",
    "for(i in 1:nrow(labels_colors)){\n",
    "    mycolor <- labels_colors$moduleColor[i]\n",
    "    GO_module$label[GO_module$module == mycolor] <- labels_colors$moduleLabel[labels_colors$moduleColor == mycolor]\n",
    "    }"
   ]
  },
  {
   "cell_type": "code",
   "execution_count": 73,
   "metadata": {},
   "outputs": [
    {
     "data": {
      "text/html": [
       "<table class=\"dataframe\">\n",
       "<caption>A data.frame: 10 × 8</caption>\n",
       "<thead>\n",
       "\t<tr><th></th><th scope=col>module</th><th scope=col>modSize</th><th scope=col>enrichmentP</th><th scope=col>BonferoniP</th><th scope=col>nModGenesInTerm</th><th scope=col>termOntology</th><th scope=col>termName</th><th scope=col>label</th></tr>\n",
       "\t<tr><th></th><th scope=col>&lt;chr&gt;</th><th scope=col>&lt;int&gt;</th><th scope=col>&lt;dbl&gt;</th><th scope=col>&lt;dbl&gt;</th><th scope=col>&lt;int&gt;</th><th scope=col>&lt;chr&gt;</th><th scope=col>&lt;chr&gt;</th><th scope=col>&lt;int&gt;</th></tr>\n",
       "</thead>\n",
       "<tbody>\n",
       "\t<tr><th scope=row>GO:0006955</th><td>brown</td><td>224</td><td>2.5e-99</td><td>4.5e-95</td><td>155</td><td>BP</td><td>immune response                     </td><td>3</td></tr>\n",
       "\t<tr><th scope=row>GO:0002376</th><td>brown</td><td>224</td><td>1.7e-82</td><td>3.1e-78</td><td>164</td><td>BP</td><td>immune system process               </td><td>3</td></tr>\n",
       "\t<tr><th scope=row>GO:0002682</th><td>brown</td><td>224</td><td>2.0e-61</td><td>3.6e-57</td><td>112</td><td>BP</td><td>regulation of immune system process </td><td>3</td></tr>\n",
       "\t<tr><th scope=row>GO:0001775</th><td>brown</td><td>224</td><td>2.9e-59</td><td>5.2e-55</td><td>107</td><td>BP</td><td>cell activation                     </td><td>3</td></tr>\n",
       "\t<tr><th scope=row>GO:0006952</th><td>brown</td><td>224</td><td>3.6e-59</td><td>6.6e-55</td><td>111</td><td>BP</td><td>defense response                    </td><td>3</td></tr>\n",
       "\t<tr><th scope=row>GO:0045321</th><td>brown</td><td>224</td><td>1.5e-58</td><td>2.7e-54</td><td>102</td><td>BP</td><td>leukocyte activation                </td><td>3</td></tr>\n",
       "\t<tr><th scope=row>GO:0050776</th><td>brown</td><td>224</td><td>1.5e-56</td><td>2.7e-52</td><td> 88</td><td>BP</td><td>regulation of immune response       </td><td>3</td></tr>\n",
       "\t<tr><th scope=row>GO:0051707</th><td>brown</td><td>224</td><td>9.0e-46</td><td>1.7e-41</td><td> 92</td><td>BP</td><td>response to other organism          </td><td>3</td></tr>\n",
       "\t<tr><th scope=row>GO:0043207</th><td>brown</td><td>224</td><td>1.0e-45</td><td>1.9e-41</td><td> 92</td><td>BP</td><td>response to external biotic stimulus</td><td>3</td></tr>\n",
       "\t<tr><th scope=row>GO:0098542</th><td>brown</td><td>224</td><td>8.3e-44</td><td>1.5e-39</td><td> 80</td><td>BP</td><td>defense response to other organism  </td><td>3</td></tr>\n",
       "</tbody>\n",
       "</table>\n"
      ],
      "text/latex": [
       "A data.frame: 10 × 8\n",
       "\\begin{tabular}{r|llllllll}\n",
       "  & module & modSize & enrichmentP & BonferoniP & nModGenesInTerm & termOntology & termName & label\\\\\n",
       "  & <chr> & <int> & <dbl> & <dbl> & <int> & <chr> & <chr> & <int>\\\\\n",
       "\\hline\n",
       "\tGO:0006955 & brown & 224 & 2.5e-99 & 4.5e-95 & 155 & BP & immune response                      & 3\\\\\n",
       "\tGO:0002376 & brown & 224 & 1.7e-82 & 3.1e-78 & 164 & BP & immune system process                & 3\\\\\n",
       "\tGO:0002682 & brown & 224 & 2.0e-61 & 3.6e-57 & 112 & BP & regulation of immune system process  & 3\\\\\n",
       "\tGO:0001775 & brown & 224 & 2.9e-59 & 5.2e-55 & 107 & BP & cell activation                      & 3\\\\\n",
       "\tGO:0006952 & brown & 224 & 3.6e-59 & 6.6e-55 & 111 & BP & defense response                     & 3\\\\\n",
       "\tGO:0045321 & brown & 224 & 1.5e-58 & 2.7e-54 & 102 & BP & leukocyte activation                 & 3\\\\\n",
       "\tGO:0050776 & brown & 224 & 1.5e-56 & 2.7e-52 &  88 & BP & regulation of immune response        & 3\\\\\n",
       "\tGO:0051707 & brown & 224 & 9.0e-46 & 1.7e-41 &  92 & BP & response to other organism           & 3\\\\\n",
       "\tGO:0043207 & brown & 224 & 1.0e-45 & 1.9e-41 &  92 & BP & response to external biotic stimulus & 3\\\\\n",
       "\tGO:0098542 & brown & 224 & 8.3e-44 & 1.5e-39 &  80 & BP & defense response to other organism   & 3\\\\\n",
       "\\end{tabular}\n"
      ],
      "text/markdown": [
       "\n",
       "A data.frame: 10 × 8\n",
       "\n",
       "| <!--/--> | module &lt;chr&gt; | modSize &lt;int&gt; | enrichmentP &lt;dbl&gt; | BonferoniP &lt;dbl&gt; | nModGenesInTerm &lt;int&gt; | termOntology &lt;chr&gt; | termName &lt;chr&gt; | label &lt;int&gt; |\n",
       "|---|---|---|---|---|---|---|---|---|\n",
       "| GO:0006955 | brown | 224 | 2.5e-99 | 4.5e-95 | 155 | BP | immune response                      | 3 |\n",
       "| GO:0002376 | brown | 224 | 1.7e-82 | 3.1e-78 | 164 | BP | immune system process                | 3 |\n",
       "| GO:0002682 | brown | 224 | 2.0e-61 | 3.6e-57 | 112 | BP | regulation of immune system process  | 3 |\n",
       "| GO:0001775 | brown | 224 | 2.9e-59 | 5.2e-55 | 107 | BP | cell activation                      | 3 |\n",
       "| GO:0006952 | brown | 224 | 3.6e-59 | 6.6e-55 | 111 | BP | defense response                     | 3 |\n",
       "| GO:0045321 | brown | 224 | 1.5e-58 | 2.7e-54 | 102 | BP | leukocyte activation                 | 3 |\n",
       "| GO:0050776 | brown | 224 | 1.5e-56 | 2.7e-52 |  88 | BP | regulation of immune response        | 3 |\n",
       "| GO:0051707 | brown | 224 | 9.0e-46 | 1.7e-41 |  92 | BP | response to other organism           | 3 |\n",
       "| GO:0043207 | brown | 224 | 1.0e-45 | 1.9e-41 |  92 | BP | response to external biotic stimulus | 3 |\n",
       "| GO:0098542 | brown | 224 | 8.3e-44 | 1.5e-39 |  80 | BP | defense response to other organism   | 3 |\n",
       "\n"
      ],
      "text/plain": [
       "           module modSize enrichmentP BonferoniP nModGenesInTerm termOntology\n",
       "GO:0006955 brown  224     2.5e-99     4.5e-95    155             BP          \n",
       "GO:0002376 brown  224     1.7e-82     3.1e-78    164             BP          \n",
       "GO:0002682 brown  224     2.0e-61     3.6e-57    112             BP          \n",
       "GO:0001775 brown  224     2.9e-59     5.2e-55    107             BP          \n",
       "GO:0006952 brown  224     3.6e-59     6.6e-55    111             BP          \n",
       "GO:0045321 brown  224     1.5e-58     2.7e-54    102             BP          \n",
       "GO:0050776 brown  224     1.5e-56     2.7e-52     88             BP          \n",
       "GO:0051707 brown  224     9.0e-46     1.7e-41     92             BP          \n",
       "GO:0043207 brown  224     1.0e-45     1.9e-41     92             BP          \n",
       "GO:0098542 brown  224     8.3e-44     1.5e-39     80             BP          \n",
       "           termName                             label\n",
       "GO:0006955 immune response                      3    \n",
       "GO:0002376 immune system process                3    \n",
       "GO:0002682 regulation of immune system process  3    \n",
       "GO:0001775 cell activation                      3    \n",
       "GO:0006952 defense response                     3    \n",
       "GO:0045321 leukocyte activation                 3    \n",
       "GO:0050776 regulation of immune response        3    \n",
       "GO:0051707 response to other organism           3    \n",
       "GO:0043207 response to external biotic stimulus 3    \n",
       "GO:0098542 defense response to other organism   3    "
      ]
     },
     "metadata": {},
     "output_type": "display_data"
    }
   ],
   "source": [
    "GO_module[ GO_module$label == 3,]"
   ]
  },
  {
   "cell_type": "code",
   "execution_count": 74,
   "metadata": {},
   "outputs": [],
   "source": [
    "modNames <- substring(names(consMEs[[1]]$data), 3)"
   ]
  },
  {
   "cell_type": "code",
   "execution_count": 75,
   "metadata": {},
   "outputs": [
    {
     "data": {
      "text/html": [
       "7"
      ],
      "text/latex": [
       "7"
      ],
      "text/markdown": [
       "7"
      ],
      "text/plain": [
       "[1] 7"
      ]
     },
     "metadata": {},
     "output_type": "display_data"
    }
   ],
   "source": [
    "length(consMEs)"
   ]
  },
  {
   "cell_type": "code",
   "execution_count": 76,
   "metadata": {},
   "outputs": [],
   "source": [
    "geneInfo <- gene_module"
   ]
  },
  {
   "cell_type": "code",
   "execution_count": 77,
   "metadata": {},
   "outputs": [],
   "source": [
    "for(c in 1:length(consMEs)){\n",
    "    #for each cancer, correlate genes with module eigengenes\n",
    "    geneModuleMembership <- as.data.frame(cor(treehouse_gene_mat[[c]]$data, consMEs[[c]]$data, use = \"p\"))\n",
    "    MMPvalue <- as.data.frame(corPvalueStudent(as.matrix(geneModuleMembership), nSamples[c]))\n",
    "    #add cancer index to colnames\n",
    "    names(geneModuleMembership) <- paste0(\"MM_TH\", modNames, \"_\", c)\n",
    "    names(MMPvalue) <- paste0(\"p.MM_TH\", modNames, \"_\", c)\n",
    "    \n",
    "    geneInfo <- data.frame(geneInfo, geneModuleMembership[rownames(geneInfo),],\n",
    "                           MMPvalue[rownames(geneInfo), ])\n",
    "}"
   ]
  },
  {
   "cell_type": "code",
   "execution_count": 78,
   "metadata": {},
   "outputs": [],
   "source": [
    "geneInfo <- geneInfo[ geneInfo$moduleLabel != 0,]"
   ]
  },
  {
   "cell_type": "code",
   "execution_count": 79,
   "metadata": {},
   "outputs": [],
   "source": [
    "geneInfo$moduleLabel <- as.character(geneInfo$moduleLabel)"
   ]
  },
  {
   "cell_type": "markdown",
   "metadata": {},
   "source": [
    "## Table S8"
   ]
  },
  {
   "cell_type": "code",
   "execution_count": 80,
   "metadata": {},
   "outputs": [],
   "source": [
    "tables8 <- geneInfo[, !grepl(\"TH0\", colnames(geneInfo))]\n",
    "tables8$moduleLabel <- paste0(\"TH_\", tables8$moduleLabel)"
   ]
  },
  {
   "cell_type": "code",
   "execution_count": null,
   "metadata": {},
   "outputs": [],
   "source": [
    "xlsx::write.xlsx(tables8, \n",
    "                 file = \"~/OneDrive - UHN/Documents/Manuscripts/INDICATE/v2/TableS8.xlsx\")"
   ]
  },
  {
   "cell_type": "code",
   "execution_count": null,
   "metadata": {},
   "outputs": [],
   "source": [
    "#Antigen presentation module\n",
    "TH_27 <- geneInfo[ geneInfo$moduleLabel == \"27\",]"
   ]
  },
  {
   "cell_type": "code",
   "execution_count": null,
   "metadata": {},
   "outputs": [],
   "source": [
    "dim(TH_27)"
   ]
  },
  {
   "cell_type": "code",
   "execution_count": null,
   "metadata": {},
   "outputs": [],
   "source": [
    "rownames(TH_27)"
   ]
  },
  {
   "cell_type": "code",
   "execution_count": null,
   "metadata": {
    "scrolled": true
   },
   "outputs": [],
   "source": [
    "TH_27[order(TH_27$MM_TH27_1, TH_27$MM_TH27_2, TH_27$MM_TH27_3, TH_27$MM_TH27_4,\n",
    "            TH_27$MM_TH27_5, TH_27$MM_TH27_6,TH_27$MM_TH27_7),grepl(\"MM_TH27\", colnames(TH_27))]"
   ]
  },
  {
   "cell_type": "code",
   "execution_count": null,
   "metadata": {},
   "outputs": [],
   "source": [
    "mm27_1 <- rownames(TH_27)[TH_27$MM_TH27_1 > 0.8]\n",
    "mm27_2 <- rownames(TH_27)[TH_27$MM_TH27_2 > 0.8]\n",
    "mm27_3 <- rownames(TH_27)[TH_27$MM_TH27_3 > 0.8]\n",
    "mm27_4 <- rownames(TH_27)[TH_27$MM_TH27_4 > 0.8]\n",
    "mm27_5 <- rownames(TH_27)[TH_27$MM_TH27_5 > 0.8]\n",
    "mm27_6 <- rownames(TH_27)[TH_27$MM_TH27_6 > 0.8]\n",
    "mm27_7 <- rownames(TH_27)[TH_27$MM_TH27_7 > 0.8]"
   ]
  },
  {
   "cell_type": "code",
   "execution_count": null,
   "metadata": {},
   "outputs": [],
   "source": [
    "Reduce(intersect, list(mm27_1, mm27_2, mm27_3 ,mm27_4,mm27_5,mm27_6,mm27_7))"
   ]
  },
  {
   "cell_type": "code",
   "execution_count": null,
   "metadata": {},
   "outputs": [],
   "source": [
    "# T cell activation\n",
    "TH_13 <- geneInfo[ geneInfo$moduleLabel == \"13\",]"
   ]
  },
  {
   "cell_type": "code",
   "execution_count": null,
   "metadata": {},
   "outputs": [],
   "source": [
    "dim(TH_13)"
   ]
  },
  {
   "cell_type": "code",
   "execution_count": null,
   "metadata": {},
   "outputs": [],
   "source": [
    "rownames(TH_13)"
   ]
  },
  {
   "cell_type": "code",
   "execution_count": null,
   "metadata": {
    "scrolled": true
   },
   "outputs": [],
   "source": [
    "TH_13[ order(TH_13$MM_TH13_1, TH_13$MM_TH13_2, TH_13$MM_TH13_3, TH_13$MM_TH13_4,\n",
    "            TH_13$MM_TH13_5, TH_13$MM_TH13_6,TH_13$MM_TH13_7),grepl(\"MM_TH13\", colnames(TH_13))]"
   ]
  },
  {
   "cell_type": "code",
   "execution_count": null,
   "metadata": {},
   "outputs": [],
   "source": [
    "mm13_1 <- rownames(TH_13)[TH_13$MM_TH13_1 > 0.8]\n",
    "mm13_2 <- rownames(TH_13)[TH_13$MM_TH13_2 > 0.8]\n",
    "mm13_3 <- rownames(TH_13)[TH_13$MM_TH13_3 > 0.8]\n",
    "mm13_4 <- rownames(TH_13)[TH_13$MM_TH13_4 > 0.8]\n",
    "mm13_5 <- rownames(TH_13)[TH_13$MM_TH13_5 > 0.8]\n",
    "mm13_6 <- rownames(TH_13)[TH_13$MM_TH13_6 > 0.8]\n",
    "mm13_7 <- rownames(TH_13)[TH_13$MM_TH13_7 > 0.8]"
   ]
  },
  {
   "cell_type": "code",
   "execution_count": null,
   "metadata": {},
   "outputs": [],
   "source": [
    "Reduce(intersect, list(mm13_1, mm13_2, mm13_3 ,mm13_4,mm13_5,mm13_6,mm13_7))"
   ]
  },
  {
   "cell_type": "code",
   "execution_count": null,
   "metadata": {},
   "outputs": [],
   "source": [
    "# Muscle dev\n",
    "TH_26 <- geneInfo[ geneInfo$moduleLabel == \"26\",]"
   ]
  },
  {
   "cell_type": "code",
   "execution_count": null,
   "metadata": {},
   "outputs": [],
   "source": [
    "rownames(TH_26)"
   ]
  },
  {
   "cell_type": "code",
   "execution_count": null,
   "metadata": {},
   "outputs": [],
   "source": [
    "dim(TH_26)"
   ]
  },
  {
   "cell_type": "code",
   "execution_count": null,
   "metadata": {
    "scrolled": true
   },
   "outputs": [],
   "source": [
    "TH_26[ order(TH_26$MM_TH26_1, TH_26$MM_TH26_2, TH_26$MM_TH26_3, TH_26$MM_TH26_4,\n",
    "            TH_26$MM_TH26_5, TH_26$MM_TH26_6,TH_26$MM_TH26_7),grepl(\"MM_TH26\", colnames(TH_26))]"
   ]
  },
  {
   "cell_type": "code",
   "execution_count": 99,
   "metadata": {},
   "outputs": [],
   "source": [
    "mm26_1 <- rownames(TH_26)[TH_26$MM_TH26_1 > 0.8]\n",
    "mm26_2 <- rownames(TH_26)[TH_26$MM_TH26_2 > 0.8]\n",
    "mm26_3 <- rownames(TH_26)[TH_26$MM_TH26_3 > 0.8]\n",
    "mm26_4 <- rownames(TH_26)[TH_26$MM_TH26_4 > 0.8]\n",
    "mm26_5 <- rownames(TH_26)[TH_26$MM_TH26_5 > 0.8]\n",
    "mm26_6 <- rownames(TH_26)[TH_26$MM_TH26_6 > 0.8]\n",
    "mm26_7 <- rownames(TH_26)[TH_26$MM_TH26_7 > 0.8]"
   ]
  },
  {
   "cell_type": "code",
   "execution_count": 100,
   "metadata": {},
   "outputs": [
    {
     "data": {
      "text/html": [
       "'KLHL41'"
      ],
      "text/latex": [
       "'KLHL41'"
      ],
      "text/markdown": [
       "'KLHL41'"
      ],
      "text/plain": [
       "[1] \"KLHL41\""
      ]
     },
     "metadata": {},
     "output_type": "display_data"
    }
   ],
   "source": [
    "Reduce(intersect, list(mm26_1, mm26_2,mm26_3,mm26_4,mm26_5,mm26_6,mm26_7))"
   ]
  },
  {
   "cell_type": "code",
   "execution_count": 101,
   "metadata": {},
   "outputs": [],
   "source": [
    "# Just over 5% FDR - immune response module\n",
    "TH_3 <- geneInfo[ geneInfo$moduleLabel == \"3\",]"
   ]
  },
  {
   "cell_type": "code",
   "execution_count": 102,
   "metadata": {},
   "outputs": [],
   "source": [
    "mm3_1 <- rownames(TH_3)[TH_3$MM_TH3_1 > 0.8]\n",
    "mm3_2 <- rownames(TH_3)[TH_3$MM_TH3_2 > 0.8]\n",
    "mm3_3 <- rownames(TH_3)[TH_3$MM_TH3_3 > 0.8]\n",
    "mm3_4 <- rownames(TH_3)[TH_3$MM_TH3_4 > 0.8]\n",
    "mm3_5 <- rownames(TH_3)[TH_3$MM_TH3_5 > 0.8]\n",
    "mm3_6 <- rownames(TH_3)[TH_3$MM_TH3_6 > 0.8]\n",
    "mm3_7 <- rownames(TH_3)[TH_3$MM_TH3_7 > 0.8]"
   ]
  },
  {
   "cell_type": "code",
   "execution_count": 104,
   "metadata": {},
   "outputs": [
    {
     "data": {
      "text/html": [
       "<style>\n",
       ".list-inline {list-style: none; margin:0; padding: 0}\n",
       ".list-inline>li {display: inline-block}\n",
       ".list-inline>li:not(:last-child)::after {content: \"\\00b7\"; padding: 0 .5ex}\n",
       "</style>\n",
       "<ol class=list-inline><li>'C3AR1'</li><li>'CCR5'</li><li>'CLEC7A'</li><li>'CTSS'</li><li>'IL12RB1'</li><li>'ITGAM'</li><li>'LRRC25'</li><li>'MNDA'</li><li>'SAMSN1'</li><li>'SIGLEC7'</li><li>'SIGLEC9'</li><li>'SNX20'</li><li>'TLR8'</li></ol>\n"
      ],
      "text/latex": [
       "\\begin{enumerate*}\n",
       "\\item 'C3AR1'\n",
       "\\item 'CCR5'\n",
       "\\item 'CLEC7A'\n",
       "\\item 'CTSS'\n",
       "\\item 'IL12RB1'\n",
       "\\item 'ITGAM'\n",
       "\\item 'LRRC25'\n",
       "\\item 'MNDA'\n",
       "\\item 'SAMSN1'\n",
       "\\item 'SIGLEC7'\n",
       "\\item 'SIGLEC9'\n",
       "\\item 'SNX20'\n",
       "\\item 'TLR8'\n",
       "\\end{enumerate*}\n"
      ],
      "text/markdown": [
       "1. 'C3AR1'\n",
       "2. 'CCR5'\n",
       "3. 'CLEC7A'\n",
       "4. 'CTSS'\n",
       "5. 'IL12RB1'\n",
       "6. 'ITGAM'\n",
       "7. 'LRRC25'\n",
       "8. 'MNDA'\n",
       "9. 'SAMSN1'\n",
       "10. 'SIGLEC7'\n",
       "11. 'SIGLEC9'\n",
       "12. 'SNX20'\n",
       "13. 'TLR8'\n",
       "\n",
       "\n"
      ],
      "text/plain": [
       " [1] \"C3AR1\"   \"CCR5\"    \"CLEC7A\"  \"CTSS\"    \"IL12RB1\" \"ITGAM\"   \"LRRC25\" \n",
       " [8] \"MNDA\"    \"SAMSN1\"  \"SIGLEC7\" \"SIGLEC9\" \"SNX20\"   \"TLR8\"   "
      ]
     },
     "metadata": {},
     "output_type": "display_data"
    }
   ],
   "source": [
    "Reduce(intersect, list(mm3_1, mm3_2, mm3_3 ,mm3_4,mm3_5,mm3_6,mm3_7))"
   ]
  },
  {
   "cell_type": "markdown",
   "metadata": {},
   "source": [
    "## Quick survival analysis using important genes"
   ]
  },
  {
   "cell_type": "code",
   "execution_count": 105,
   "metadata": {},
   "outputs": [],
   "source": [
    "module_sample <- matrix(ncol = nrow(tpm_mat_ensg_t_matched), nrow = 3)\n",
    "rownames(module_sample) <- c(\"TH_13\", \"TH_26\", \"TH_27\")\n",
    "colnames(module_sample) <- rownames(tpm_mat_ensg_t_matched)"
   ]
  },
  {
   "cell_type": "code",
   "execution_count": 106,
   "metadata": {},
   "outputs": [
    {
     "data": {
      "text/html": [
       "<table class=\"dataframe\">\n",
       "<caption>A matrix: 3 × 66 of type lgl</caption>\n",
       "<thead>\n",
       "\t<tr><th></th><th scope=col>06520001B0023R</th><th scope=col>06520003C0012R</th><th scope=col>06520004C0018R</th><th scope=col>06520005C0017R</th><th scope=col>06520006C0016R</th><th scope=col>06520007C0018R</th><th scope=col>06520008C0017R</th><th scope=col>06520010B0023R</th><th scope=col>06520011B0023R</th><th scope=col>06520015C0016R</th><th scope=col>⋯</th><th scope=col>06520095B0017R</th><th scope=col>06520097B0021R</th><th scope=col>06520099B0017R</th><th scope=col>06520100B0017R</th><th scope=col>06520103C0017R</th><th scope=col>06520104C0017R</th><th scope=col>06520105C0017R</th><th scope=col>06520106C0017R</th><th scope=col>06520107C0017R</th><th scope=col>06520110C0016R</th></tr>\n",
       "</thead>\n",
       "<tbody>\n",
       "\t<tr><th scope=row>TH_13</th><td>NA</td><td>NA</td><td>NA</td><td>NA</td><td>NA</td><td>NA</td><td>NA</td><td>NA</td><td>NA</td><td>NA</td><td>⋯</td><td>NA</td><td>NA</td><td>NA</td><td>NA</td><td>NA</td><td>NA</td><td>NA</td><td>NA</td><td>NA</td><td>NA</td></tr>\n",
       "\t<tr><th scope=row>TH_26</th><td>NA</td><td>NA</td><td>NA</td><td>NA</td><td>NA</td><td>NA</td><td>NA</td><td>NA</td><td>NA</td><td>NA</td><td>⋯</td><td>NA</td><td>NA</td><td>NA</td><td>NA</td><td>NA</td><td>NA</td><td>NA</td><td>NA</td><td>NA</td><td>NA</td></tr>\n",
       "\t<tr><th scope=row>TH_27</th><td>NA</td><td>NA</td><td>NA</td><td>NA</td><td>NA</td><td>NA</td><td>NA</td><td>NA</td><td>NA</td><td>NA</td><td>⋯</td><td>NA</td><td>NA</td><td>NA</td><td>NA</td><td>NA</td><td>NA</td><td>NA</td><td>NA</td><td>NA</td><td>NA</td></tr>\n",
       "</tbody>\n",
       "</table>\n"
      ],
      "text/latex": [
       "A matrix: 3 × 66 of type lgl\n",
       "\\begin{tabular}{r|lllllllllllllllllllll}\n",
       "  & 06520001B0023R & 06520003C0012R & 06520004C0018R & 06520005C0017R & 06520006C0016R & 06520007C0018R & 06520008C0017R & 06520010B0023R & 06520011B0023R & 06520015C0016R & ⋯ & 06520095B0017R & 06520097B0021R & 06520099B0017R & 06520100B0017R & 06520103C0017R & 06520104C0017R & 06520105C0017R & 06520106C0017R & 06520107C0017R & 06520110C0016R\\\\\n",
       "\\hline\n",
       "\tTH\\_13 & NA & NA & NA & NA & NA & NA & NA & NA & NA & NA & ⋯ & NA & NA & NA & NA & NA & NA & NA & NA & NA & NA\\\\\n",
       "\tTH\\_26 & NA & NA & NA & NA & NA & NA & NA & NA & NA & NA & ⋯ & NA & NA & NA & NA & NA & NA & NA & NA & NA & NA\\\\\n",
       "\tTH\\_27 & NA & NA & NA & NA & NA & NA & NA & NA & NA & NA & ⋯ & NA & NA & NA & NA & NA & NA & NA & NA & NA & NA\\\\\n",
       "\\end{tabular}\n"
      ],
      "text/markdown": [
       "\n",
       "A matrix: 3 × 66 of type lgl\n",
       "\n",
       "| <!--/--> | 06520001B0023R | 06520003C0012R | 06520004C0018R | 06520005C0017R | 06520006C0016R | 06520007C0018R | 06520008C0017R | 06520010B0023R | 06520011B0023R | 06520015C0016R | ⋯ | 06520095B0017R | 06520097B0021R | 06520099B0017R | 06520100B0017R | 06520103C0017R | 06520104C0017R | 06520105C0017R | 06520106C0017R | 06520107C0017R | 06520110C0016R |\n",
       "|---|---|---|---|---|---|---|---|---|---|---|---|---|---|---|---|---|---|---|---|---|---|\n",
       "| TH_13 | NA | NA | NA | NA | NA | NA | NA | NA | NA | NA | ⋯ | NA | NA | NA | NA | NA | NA | NA | NA | NA | NA |\n",
       "| TH_26 | NA | NA | NA | NA | NA | NA | NA | NA | NA | NA | ⋯ | NA | NA | NA | NA | NA | NA | NA | NA | NA | NA |\n",
       "| TH_27 | NA | NA | NA | NA | NA | NA | NA | NA | NA | NA | ⋯ | NA | NA | NA | NA | NA | NA | NA | NA | NA | NA |\n",
       "\n"
      ],
      "text/plain": [
       "      06520001B0023R 06520003C0012R 06520004C0018R 06520005C0017R\n",
       "TH_13 NA             NA             NA             NA            \n",
       "TH_26 NA             NA             NA             NA            \n",
       "TH_27 NA             NA             NA             NA            \n",
       "      06520006C0016R 06520007C0018R 06520008C0017R 06520010B0023R\n",
       "TH_13 NA             NA             NA             NA            \n",
       "TH_26 NA             NA             NA             NA            \n",
       "TH_27 NA             NA             NA             NA            \n",
       "      06520011B0023R 06520015C0016R ⋯ 06520095B0017R 06520097B0021R\n",
       "TH_13 NA             NA             ⋯ NA             NA            \n",
       "TH_26 NA             NA             ⋯ NA             NA            \n",
       "TH_27 NA             NA             ⋯ NA             NA            \n",
       "      06520099B0017R 06520100B0017R 06520103C0017R 06520104C0017R\n",
       "TH_13 NA             NA             NA             NA            \n",
       "TH_26 NA             NA             NA             NA            \n",
       "TH_27 NA             NA             NA             NA            \n",
       "      06520105C0017R 06520106C0017R 06520107C0017R 06520110C0016R\n",
       "TH_13 NA             NA             NA             NA            \n",
       "TH_26 NA             NA             NA             NA            \n",
       "TH_27 NA             NA             NA             NA            "
      ]
     },
     "metadata": {},
     "output_type": "display_data"
    }
   ],
   "source": [
    "head(module_sample)"
   ]
  },
  {
   "cell_type": "code",
   "execution_count": 107,
   "metadata": {},
   "outputs": [
    {
     "data": {
      "text/html": [
       "<table class=\"dataframe\">\n",
       "<caption>A data.frame: 6 × 5</caption>\n",
       "<thead>\n",
       "\t<tr><th></th><th scope=col>moduleLabel</th><th scope=col>moduleColor</th><th scope=col>ensembl_id_TH</th><th scope=col>ensembl_id</th><th scope=col>entrez</th></tr>\n",
       "\t<tr><th></th><th scope=col>&lt;chr&gt;</th><th scope=col>&lt;chr&gt;</th><th scope=col>&lt;chr&gt;</th><th scope=col>&lt;chr&gt;</th><th scope=col>&lt;int&gt;</th></tr>\n",
       "</thead>\n",
       "<tbody>\n",
       "\t<tr><th scope=row>A2M</th><td>TH_22</td><td>darkgreen</td><td>ENSG00000175899.14</td><td>ENSG00000175899</td><td>     2</td></tr>\n",
       "\t<tr><th scope=row>AAK1</th><td>TH_7 </td><td>black    </td><td>ENSG00000115977.18</td><td>ENSG00000115977</td><td> 22848</td></tr>\n",
       "\t<tr><th scope=row>AASDH</th><td>TH_6 </td><td>red      </td><td>ENSG00000157426.13</td><td>ENSG00000157426</td><td>132949</td></tr>\n",
       "\t<tr><th scope=row>AASDHPPT</th><td>TH_6 </td><td>red      </td><td>ENSG00000149313.10</td><td>ENSG00000149313</td><td> 60496</td></tr>\n",
       "\t<tr><th scope=row>ABCB10</th><td>TH_6 </td><td>red      </td><td>ENSG00000135776.4 </td><td>ENSG00000135776</td><td> 23456</td></tr>\n",
       "\t<tr><th scope=row>ABCE1</th><td>TH_6 </td><td>red      </td><td>ENSG00000164163.10</td><td>ENSG00000164163</td><td>  6059</td></tr>\n",
       "</tbody>\n",
       "</table>\n"
      ],
      "text/latex": [
       "A data.frame: 6 × 5\n",
       "\\begin{tabular}{r|lllll}\n",
       "  & moduleLabel & moduleColor & ensembl\\_id\\_TH & ensembl\\_id & entrez\\\\\n",
       "  & <chr> & <chr> & <chr> & <chr> & <int>\\\\\n",
       "\\hline\n",
       "\tA2M & TH\\_22 & darkgreen & ENSG00000175899.14 & ENSG00000175899 &      2\\\\\n",
       "\tAAK1 & TH\\_7  & black     & ENSG00000115977.18 & ENSG00000115977 &  22848\\\\\n",
       "\tAASDH & TH\\_6  & red       & ENSG00000157426.13 & ENSG00000157426 & 132949\\\\\n",
       "\tAASDHPPT & TH\\_6  & red       & ENSG00000149313.10 & ENSG00000149313 &  60496\\\\\n",
       "\tABCB10 & TH\\_6  & red       & ENSG00000135776.4  & ENSG00000135776 &  23456\\\\\n",
       "\tABCE1 & TH\\_6  & red       & ENSG00000164163.10 & ENSG00000164163 &   6059\\\\\n",
       "\\end{tabular}\n"
      ],
      "text/markdown": [
       "\n",
       "A data.frame: 6 × 5\n",
       "\n",
       "| <!--/--> | moduleLabel &lt;chr&gt; | moduleColor &lt;chr&gt; | ensembl_id_TH &lt;chr&gt; | ensembl_id &lt;chr&gt; | entrez &lt;int&gt; |\n",
       "|---|---|---|---|---|---|\n",
       "| A2M | TH_22 | darkgreen | ENSG00000175899.14 | ENSG00000175899 |      2 |\n",
       "| AAK1 | TH_7  | black     | ENSG00000115977.18 | ENSG00000115977 |  22848 |\n",
       "| AASDH | TH_6  | red       | ENSG00000157426.13 | ENSG00000157426 | 132949 |\n",
       "| AASDHPPT | TH_6  | red       | ENSG00000149313.10 | ENSG00000149313 |  60496 |\n",
       "| ABCB10 | TH_6  | red       | ENSG00000135776.4  | ENSG00000135776 |  23456 |\n",
       "| ABCE1 | TH_6  | red       | ENSG00000164163.10 | ENSG00000164163 |   6059 |\n",
       "\n"
      ],
      "text/plain": [
       "         moduleLabel moduleColor ensembl_id_TH      ensembl_id      entrez\n",
       "A2M      TH_22       darkgreen   ENSG00000175899.14 ENSG00000175899      2\n",
       "AAK1     TH_7        black       ENSG00000115977.18 ENSG00000115977  22848\n",
       "AASDH    TH_6        red         ENSG00000157426.13 ENSG00000157426 132949\n",
       "AASDHPPT TH_6        red         ENSG00000149313.10 ENSG00000149313  60496\n",
       "ABCB10   TH_6        red         ENSG00000135776.4  ENSG00000135776  23456\n",
       "ABCE1    TH_6        red         ENSG00000164163.10 ENSG00000164163   6059"
      ]
     },
     "metadata": {},
     "output_type": "display_data"
    }
   ],
   "source": [
    "head(mygene_modules)"
   ]
  },
  {
   "cell_type": "code",
   "execution_count": 108,
   "metadata": {},
   "outputs": [],
   "source": [
    "mygen <- mygene_modules$ensembl_id[ rownames(mygene_modules) %in% \"KLHL41\"]\n",
    "genes <- tpm_mat_ensg_t_matched[,mygen]"
   ]
  },
  {
   "cell_type": "code",
   "execution_count": 109,
   "metadata": {},
   "outputs": [],
   "source": [
    "module_sample[\"TH_26\",] <- genes"
   ]
  },
  {
   "cell_type": "code",
   "execution_count": 110,
   "metadata": {},
   "outputs": [],
   "source": [
    "mygen <- mygene_modules$ensembl_id[ rownames(mygene_modules) %in% c('CD2','CD3D','CD3E','CD3G','CXCR3','THEMIS','UBASH3A')]\n",
    "genes <- tpm_mat_ensg_t_matched[,mygen]"
   ]
  },
  {
   "cell_type": "code",
   "execution_count": 111,
   "metadata": {},
   "outputs": [],
   "source": [
    "averagegenes <- apply(genes,1,mean)"
   ]
  },
  {
   "cell_type": "code",
   "execution_count": 112,
   "metadata": {},
   "outputs": [],
   "source": [
    "module_sample[\"TH_13\",] <- averagegenes"
   ]
  },
  {
   "cell_type": "code",
   "execution_count": 113,
   "metadata": {},
   "outputs": [],
   "source": [
    "module_samplemygen <- mygene_modules$ensembl_id[ rownames(mygene_modules) %in% c('HLA-B','HLA-F','PSMB9')]\n",
    "\n",
    "genes <- tpm_mat_ensg_t_matched[,mygen]\n",
    "\n",
    "averagegenes <- apply(genes,1,mean)\n",
    "\n",
    "module_sample[\"TH_27\",] <- averagegenes"
   ]
  },
  {
   "cell_type": "code",
   "execution_count": 114,
   "metadata": {},
   "outputs": [
    {
     "data": {
      "text/html": [
       "<table class=\"dataframe\">\n",
       "<caption>A matrix: 3 × 66 of type dbl</caption>\n",
       "<thead>\n",
       "\t<tr><th></th><th scope=col>06520001B0023R</th><th scope=col>06520003C0012R</th><th scope=col>06520004C0018R</th><th scope=col>06520005C0017R</th><th scope=col>06520006C0016R</th><th scope=col>06520007C0018R</th><th scope=col>06520008C0017R</th><th scope=col>06520010B0023R</th><th scope=col>06520011B0023R</th><th scope=col>06520015C0016R</th><th scope=col>⋯</th><th scope=col>06520095B0017R</th><th scope=col>06520097B0021R</th><th scope=col>06520099B0017R</th><th scope=col>06520100B0017R</th><th scope=col>06520103C0017R</th><th scope=col>06520104C0017R</th><th scope=col>06520105C0017R</th><th scope=col>06520106C0017R</th><th scope=col>06520107C0017R</th><th scope=col>06520110C0016R</th></tr>\n",
       "</thead>\n",
       "<tbody>\n",
       "\t<tr><th scope=row>TH_13</th><td>0.8034742</td><td>4.9275058</td><td>4.0912993</td><td>0.08551532</td><td>0.5531959</td><td>1.9188268</td><td>0.03585165</td><td>0.6275425</td><td>0.2252948</td><td>1.603264</td><td>⋯</td><td>0.7298162</td><td>2.26694873</td><td>5.3403622</td><td>3.2737386</td><td>2.3460847</td><td>4.3566979</td><td>0.7259099</td><td>0.4494325</td><td>1.596793</td><td>1.620667</td></tr>\n",
       "\t<tr><th scope=row>TH_26</th><td>1.5704629</td><td>0.1375035</td><td>0.2265085</td><td>4.44095220</td><td>6.4929748</td><td>0.5160151</td><td>0.50589093</td><td>0.3448285</td><td>0.6322682</td><td>3.992768</td><td>⋯</td><td>2.1795111</td><td>0.02856915</td><td>0.3785116</td><td>0.6690268</td><td>0.3895668</td><td>0.2630344</td><td>1.7355222</td><td>0.5655972</td><td>2.090853</td><td>1.226509</td></tr>\n",
       "\t<tr><th scope=row>TH_27</th><td>0.8034742</td><td>4.9275058</td><td>4.0912993</td><td>0.08551532</td><td>0.5531959</td><td>1.9188268</td><td>0.03585165</td><td>0.6275425</td><td>0.2252948</td><td>1.603264</td><td>⋯</td><td>0.7298162</td><td>2.26694873</td><td>5.3403622</td><td>3.2737386</td><td>2.3460847</td><td>4.3566979</td><td>0.7259099</td><td>0.4494325</td><td>1.596793</td><td>1.620667</td></tr>\n",
       "</tbody>\n",
       "</table>\n"
      ],
      "text/latex": [
       "A matrix: 3 × 66 of type dbl\n",
       "\\begin{tabular}{r|lllllllllllllllllllll}\n",
       "  & 06520001B0023R & 06520003C0012R & 06520004C0018R & 06520005C0017R & 06520006C0016R & 06520007C0018R & 06520008C0017R & 06520010B0023R & 06520011B0023R & 06520015C0016R & ⋯ & 06520095B0017R & 06520097B0021R & 06520099B0017R & 06520100B0017R & 06520103C0017R & 06520104C0017R & 06520105C0017R & 06520106C0017R & 06520107C0017R & 06520110C0016R\\\\\n",
       "\\hline\n",
       "\tTH\\_13 & 0.8034742 & 4.9275058 & 4.0912993 & 0.08551532 & 0.5531959 & 1.9188268 & 0.03585165 & 0.6275425 & 0.2252948 & 1.603264 & ⋯ & 0.7298162 & 2.26694873 & 5.3403622 & 3.2737386 & 2.3460847 & 4.3566979 & 0.7259099 & 0.4494325 & 1.596793 & 1.620667\\\\\n",
       "\tTH\\_26 & 1.5704629 & 0.1375035 & 0.2265085 & 4.44095220 & 6.4929748 & 0.5160151 & 0.50589093 & 0.3448285 & 0.6322682 & 3.992768 & ⋯ & 2.1795111 & 0.02856915 & 0.3785116 & 0.6690268 & 0.3895668 & 0.2630344 & 1.7355222 & 0.5655972 & 2.090853 & 1.226509\\\\\n",
       "\tTH\\_27 & 0.8034742 & 4.9275058 & 4.0912993 & 0.08551532 & 0.5531959 & 1.9188268 & 0.03585165 & 0.6275425 & 0.2252948 & 1.603264 & ⋯ & 0.7298162 & 2.26694873 & 5.3403622 & 3.2737386 & 2.3460847 & 4.3566979 & 0.7259099 & 0.4494325 & 1.596793 & 1.620667\\\\\n",
       "\\end{tabular}\n"
      ],
      "text/markdown": [
       "\n",
       "A matrix: 3 × 66 of type dbl\n",
       "\n",
       "| <!--/--> | 06520001B0023R | 06520003C0012R | 06520004C0018R | 06520005C0017R | 06520006C0016R | 06520007C0018R | 06520008C0017R | 06520010B0023R | 06520011B0023R | 06520015C0016R | ⋯ | 06520095B0017R | 06520097B0021R | 06520099B0017R | 06520100B0017R | 06520103C0017R | 06520104C0017R | 06520105C0017R | 06520106C0017R | 06520107C0017R | 06520110C0016R |\n",
       "|---|---|---|---|---|---|---|---|---|---|---|---|---|---|---|---|---|---|---|---|---|---|\n",
       "| TH_13 | 0.8034742 | 4.9275058 | 4.0912993 | 0.08551532 | 0.5531959 | 1.9188268 | 0.03585165 | 0.6275425 | 0.2252948 | 1.603264 | ⋯ | 0.7298162 | 2.26694873 | 5.3403622 | 3.2737386 | 2.3460847 | 4.3566979 | 0.7259099 | 0.4494325 | 1.596793 | 1.620667 |\n",
       "| TH_26 | 1.5704629 | 0.1375035 | 0.2265085 | 4.44095220 | 6.4929748 | 0.5160151 | 0.50589093 | 0.3448285 | 0.6322682 | 3.992768 | ⋯ | 2.1795111 | 0.02856915 | 0.3785116 | 0.6690268 | 0.3895668 | 0.2630344 | 1.7355222 | 0.5655972 | 2.090853 | 1.226509 |\n",
       "| TH_27 | 0.8034742 | 4.9275058 | 4.0912993 | 0.08551532 | 0.5531959 | 1.9188268 | 0.03585165 | 0.6275425 | 0.2252948 | 1.603264 | ⋯ | 0.7298162 | 2.26694873 | 5.3403622 | 3.2737386 | 2.3460847 | 4.3566979 | 0.7259099 | 0.4494325 | 1.596793 | 1.620667 |\n",
       "\n"
      ],
      "text/plain": [
       "      06520001B0023R 06520003C0012R 06520004C0018R 06520005C0017R\n",
       "TH_13 0.8034742      4.9275058      4.0912993      0.08551532    \n",
       "TH_26 1.5704629      0.1375035      0.2265085      4.44095220    \n",
       "TH_27 0.8034742      4.9275058      4.0912993      0.08551532    \n",
       "      06520006C0016R 06520007C0018R 06520008C0017R 06520010B0023R\n",
       "TH_13 0.5531959      1.9188268      0.03585165     0.6275425     \n",
       "TH_26 6.4929748      0.5160151      0.50589093     0.3448285     \n",
       "TH_27 0.5531959      1.9188268      0.03585165     0.6275425     \n",
       "      06520011B0023R 06520015C0016R ⋯ 06520095B0017R 06520097B0021R\n",
       "TH_13 0.2252948      1.603264       ⋯ 0.7298162      2.26694873    \n",
       "TH_26 0.6322682      3.992768       ⋯ 2.1795111      0.02856915    \n",
       "TH_27 0.2252948      1.603264       ⋯ 0.7298162      2.26694873    \n",
       "      06520099B0017R 06520100B0017R 06520103C0017R 06520104C0017R\n",
       "TH_13 5.3403622      3.2737386      2.3460847      4.3566979     \n",
       "TH_26 0.3785116      0.6690268      0.3895668      0.2630344     \n",
       "TH_27 5.3403622      3.2737386      2.3460847      4.3566979     \n",
       "      06520105C0017R 06520106C0017R 06520107C0017R 06520110C0016R\n",
       "TH_13 0.7259099      0.4494325      1.596793       1.620667      \n",
       "TH_26 1.7355222      0.5655972      2.090853       1.226509      \n",
       "TH_27 0.7259099      0.4494325      1.596793       1.620667      "
      ]
     },
     "metadata": {},
     "output_type": "display_data"
    }
   ],
   "source": [
    "module_sample"
   ]
  },
  {
   "cell_type": "markdown",
   "metadata": {},
   "source": [
    "Merge with metadata for survival analysis"
   ]
  },
  {
   "cell_type": "code",
   "execution_count": 115,
   "metadata": {
    "scrolled": true
   },
   "outputs": [],
   "source": [
    "module_sample_t <- as.data.frame(t(module_sample))\n",
    "module_sample_t$sample_id <- rownames(module_sample_t)"
   ]
  },
  {
   "cell_type": "code",
   "execution_count": 116,
   "metadata": {},
   "outputs": [],
   "source": [
    "metadata_modules <- merge(metadata, module_sample_t, by = \"sample_id\")"
   ]
  },
  {
   "cell_type": "code",
   "execution_count": 118,
   "metadata": {},
   "outputs": [
    {
     "data": {
      "text/plain": [
       "Call:\n",
       "coxph(formula = f, data = metadata_modules)\n",
       "\n",
       "  n= 60, number of events= 49 \n",
       "   (6 observations deleted due to missingness)\n",
       "\n",
       "         coef exp(coef) se(coef)      z Pr(>|z|)   \n",
       "TH_13 -0.3264    0.7215   0.1092 -2.988   0.0028 **\n",
       "---\n",
       "Signif. codes:  0 ‘***’ 0.001 ‘**’ 0.01 ‘*’ 0.05 ‘.’ 0.1 ‘ ’ 1\n",
       "\n",
       "      exp(coef) exp(-coef) lower .95 upper .95\n",
       "TH_13    0.7215      1.386    0.5825    0.8938\n",
       "\n",
       "Concordance= 0.671  (se = 0.044 )\n",
       "Likelihood ratio test= 10.94  on 1 df,   p=9e-04\n",
       "Wald test            = 8.93  on 1 df,   p=0.003\n",
       "Score (logrank) test = 9.64  on 1 df,   p=0.002\n"
      ]
     },
     "metadata": {},
     "output_type": "display_data"
    }
   ],
   "source": [
    "f <- as.formula(paste0(\"Surv(TRTDUR, progressed)~\", \"TH_13\"))  \n",
    "    coxmodel <- coxph(f, data=metadata_modules) \n",
    "summary(coxmodel)"
   ]
  },
  {
   "cell_type": "code",
   "execution_count": null,
   "metadata": {},
   "outputs": [],
   "source": []
  },
  {
   "cell_type": "markdown",
   "metadata": {},
   "source": [
    "## Multivariable model"
   ]
  },
  {
   "cell_type": "markdown",
   "metadata": {},
   "source": [
    "Make a gene signature matrix for all samples"
   ]
  },
  {
   "cell_type": "code",
   "execution_count": 119,
   "metadata": {},
   "outputs": [],
   "source": [
    "module_sample <- matrix(ncol = nrow(tpm_mat_ensg_t_matched), nrow = length(unique(mygene_modules$moduleLabel)))\n",
    "rownames(module_sample) <- labelorders\n",
    "colnames(module_sample) <- rownames(tpm_mat_ensg_t_matched)"
   ]
  },
  {
   "cell_type": "code",
   "execution_count": 120,
   "metadata": {
    "scrolled": true
   },
   "outputs": [],
   "source": [
    "for(mod in 1:nrow(module_sample)){\n",
    "    mymod <- rownames(module_sample)[mod]    \n",
    "    modGenes <- mygene_modules$ensembl_id[which(mygene_modules$moduleLabel == mymod)]\n",
    "    genes <- tpm_mat_ensg_t_matched[,modGenes]\n",
    "if(length(modGenes) > 1){\n",
    "    averagegenes <- apply(genes,1,mean)\n",
    "    module_sample[mod,] <- averagegenes}\n",
    "}"
   ]
  },
  {
   "cell_type": "code",
   "execution_count": 121,
   "metadata": {},
   "outputs": [
    {
     "data": {
      "text/html": [
       "<table class=\"dataframe\">\n",
       "<caption>A matrix: 6 × 66 of type dbl</caption>\n",
       "<thead>\n",
       "\t<tr><th></th><th scope=col>06520001B0023R</th><th scope=col>06520003C0012R</th><th scope=col>06520004C0018R</th><th scope=col>06520005C0017R</th><th scope=col>06520006C0016R</th><th scope=col>06520007C0018R</th><th scope=col>06520008C0017R</th><th scope=col>06520010B0023R</th><th scope=col>06520011B0023R</th><th scope=col>06520015C0016R</th><th scope=col>⋯</th><th scope=col>06520095B0017R</th><th scope=col>06520097B0021R</th><th scope=col>06520099B0017R</th><th scope=col>06520100B0017R</th><th scope=col>06520103C0017R</th><th scope=col>06520104C0017R</th><th scope=col>06520105C0017R</th><th scope=col>06520106C0017R</th><th scope=col>06520107C0017R</th><th scope=col>06520110C0016R</th></tr>\n",
       "</thead>\n",
       "<tbody>\n",
       "\t<tr><th scope=row>TH_4</th><td>3.258641</td><td>2.543560</td><td>2.470124</td><td>3.873546</td><td>2.379499</td><td>2.629001</td><td>3.626413</td><td>3.324695</td><td>3.378651</td><td>3.010907</td><td>⋯</td><td>2.951200</td><td>3.083745</td><td>2.632355</td><td>2.061169</td><td>3.220097</td><td>3.715501</td><td>3.701069</td><td>3.795182</td><td>3.725360</td><td>2.996888</td></tr>\n",
       "\t<tr><th scope=row>TH_18</th><td>3.402986</td><td>3.732832</td><td>3.247667</td><td>4.139311</td><td>3.341334</td><td>3.291128</td><td>4.050459</td><td>3.721943</td><td>3.655911</td><td>3.816681</td><td>⋯</td><td>3.551753</td><td>3.175228</td><td>3.525619</td><td>3.196350</td><td>3.502437</td><td>3.907429</td><td>4.421255</td><td>4.021101</td><td>4.220187</td><td>3.828690</td></tr>\n",
       "\t<tr><th scope=row>TH_17</th><td>2.899621</td><td>3.349528</td><td>2.850904</td><td>2.935903</td><td>2.614786</td><td>2.895317</td><td>3.348928</td><td>3.045980</td><td>2.964719</td><td>3.480863</td><td>⋯</td><td>3.015086</td><td>2.616543</td><td>3.032016</td><td>2.728924</td><td>3.155685</td><td>3.335919</td><td>3.722357</td><td>3.176780</td><td>3.500666</td><td>3.466325</td></tr>\n",
       "\t<tr><th scope=row>TH_28</th><td>2.122054</td><td>2.508796</td><td>2.143300</td><td>3.314616</td><td>2.165245</td><td>1.977253</td><td>2.165512</td><td>2.499301</td><td>2.533448</td><td>3.328631</td><td>⋯</td><td>2.511312</td><td>1.076290</td><td>2.442948</td><td>2.083394</td><td>2.147661</td><td>2.551371</td><td>3.625210</td><td>2.598789</td><td>3.111280</td><td>2.757612</td></tr>\n",
       "\t<tr><th scope=row>TH_6</th><td>2.835558</td><td>3.165800</td><td>2.741455</td><td>3.255378</td><td>2.731744</td><td>2.760267</td><td>3.137937</td><td>3.093191</td><td>3.024381</td><td>3.281667</td><td>⋯</td><td>3.015380</td><td>2.593224</td><td>2.971578</td><td>2.649060</td><td>2.974029</td><td>3.278718</td><td>3.668864</td><td>3.268602</td><td>3.505263</td><td>3.297834</td></tr>\n",
       "\t<tr><th scope=row>TH_7</th><td>3.246414</td><td>3.515224</td><td>3.084530</td><td>3.041327</td><td>2.726420</td><td>3.288073</td><td>3.286074</td><td>3.328865</td><td>3.101268</td><td>3.797706</td><td>⋯</td><td>3.225476</td><td>2.599680</td><td>3.158812</td><td>3.012368</td><td>3.441499</td><td>3.529465</td><td>3.870514</td><td>3.326879</td><td>3.653408</td><td>3.721464</td></tr>\n",
       "</tbody>\n",
       "</table>\n"
      ],
      "text/latex": [
       "A matrix: 6 × 66 of type dbl\n",
       "\\begin{tabular}{r|lllllllllllllllllllll}\n",
       "  & 06520001B0023R & 06520003C0012R & 06520004C0018R & 06520005C0017R & 06520006C0016R & 06520007C0018R & 06520008C0017R & 06520010B0023R & 06520011B0023R & 06520015C0016R & ⋯ & 06520095B0017R & 06520097B0021R & 06520099B0017R & 06520100B0017R & 06520103C0017R & 06520104C0017R & 06520105C0017R & 06520106C0017R & 06520107C0017R & 06520110C0016R\\\\\n",
       "\\hline\n",
       "\tTH\\_4 & 3.258641 & 2.543560 & 2.470124 & 3.873546 & 2.379499 & 2.629001 & 3.626413 & 3.324695 & 3.378651 & 3.010907 & ⋯ & 2.951200 & 3.083745 & 2.632355 & 2.061169 & 3.220097 & 3.715501 & 3.701069 & 3.795182 & 3.725360 & 2.996888\\\\\n",
       "\tTH\\_18 & 3.402986 & 3.732832 & 3.247667 & 4.139311 & 3.341334 & 3.291128 & 4.050459 & 3.721943 & 3.655911 & 3.816681 & ⋯ & 3.551753 & 3.175228 & 3.525619 & 3.196350 & 3.502437 & 3.907429 & 4.421255 & 4.021101 & 4.220187 & 3.828690\\\\\n",
       "\tTH\\_17 & 2.899621 & 3.349528 & 2.850904 & 2.935903 & 2.614786 & 2.895317 & 3.348928 & 3.045980 & 2.964719 & 3.480863 & ⋯ & 3.015086 & 2.616543 & 3.032016 & 2.728924 & 3.155685 & 3.335919 & 3.722357 & 3.176780 & 3.500666 & 3.466325\\\\\n",
       "\tTH\\_28 & 2.122054 & 2.508796 & 2.143300 & 3.314616 & 2.165245 & 1.977253 & 2.165512 & 2.499301 & 2.533448 & 3.328631 & ⋯ & 2.511312 & 1.076290 & 2.442948 & 2.083394 & 2.147661 & 2.551371 & 3.625210 & 2.598789 & 3.111280 & 2.757612\\\\\n",
       "\tTH\\_6 & 2.835558 & 3.165800 & 2.741455 & 3.255378 & 2.731744 & 2.760267 & 3.137937 & 3.093191 & 3.024381 & 3.281667 & ⋯ & 3.015380 & 2.593224 & 2.971578 & 2.649060 & 2.974029 & 3.278718 & 3.668864 & 3.268602 & 3.505263 & 3.297834\\\\\n",
       "\tTH\\_7 & 3.246414 & 3.515224 & 3.084530 & 3.041327 & 2.726420 & 3.288073 & 3.286074 & 3.328865 & 3.101268 & 3.797706 & ⋯ & 3.225476 & 2.599680 & 3.158812 & 3.012368 & 3.441499 & 3.529465 & 3.870514 & 3.326879 & 3.653408 & 3.721464\\\\\n",
       "\\end{tabular}\n"
      ],
      "text/markdown": [
       "\n",
       "A matrix: 6 × 66 of type dbl\n",
       "\n",
       "| <!--/--> | 06520001B0023R | 06520003C0012R | 06520004C0018R | 06520005C0017R | 06520006C0016R | 06520007C0018R | 06520008C0017R | 06520010B0023R | 06520011B0023R | 06520015C0016R | ⋯ | 06520095B0017R | 06520097B0021R | 06520099B0017R | 06520100B0017R | 06520103C0017R | 06520104C0017R | 06520105C0017R | 06520106C0017R | 06520107C0017R | 06520110C0016R |\n",
       "|---|---|---|---|---|---|---|---|---|---|---|---|---|---|---|---|---|---|---|---|---|---|\n",
       "| TH_4 | 3.258641 | 2.543560 | 2.470124 | 3.873546 | 2.379499 | 2.629001 | 3.626413 | 3.324695 | 3.378651 | 3.010907 | ⋯ | 2.951200 | 3.083745 | 2.632355 | 2.061169 | 3.220097 | 3.715501 | 3.701069 | 3.795182 | 3.725360 | 2.996888 |\n",
       "| TH_18 | 3.402986 | 3.732832 | 3.247667 | 4.139311 | 3.341334 | 3.291128 | 4.050459 | 3.721943 | 3.655911 | 3.816681 | ⋯ | 3.551753 | 3.175228 | 3.525619 | 3.196350 | 3.502437 | 3.907429 | 4.421255 | 4.021101 | 4.220187 | 3.828690 |\n",
       "| TH_17 | 2.899621 | 3.349528 | 2.850904 | 2.935903 | 2.614786 | 2.895317 | 3.348928 | 3.045980 | 2.964719 | 3.480863 | ⋯ | 3.015086 | 2.616543 | 3.032016 | 2.728924 | 3.155685 | 3.335919 | 3.722357 | 3.176780 | 3.500666 | 3.466325 |\n",
       "| TH_28 | 2.122054 | 2.508796 | 2.143300 | 3.314616 | 2.165245 | 1.977253 | 2.165512 | 2.499301 | 2.533448 | 3.328631 | ⋯ | 2.511312 | 1.076290 | 2.442948 | 2.083394 | 2.147661 | 2.551371 | 3.625210 | 2.598789 | 3.111280 | 2.757612 |\n",
       "| TH_6 | 2.835558 | 3.165800 | 2.741455 | 3.255378 | 2.731744 | 2.760267 | 3.137937 | 3.093191 | 3.024381 | 3.281667 | ⋯ | 3.015380 | 2.593224 | 2.971578 | 2.649060 | 2.974029 | 3.278718 | 3.668864 | 3.268602 | 3.505263 | 3.297834 |\n",
       "| TH_7 | 3.246414 | 3.515224 | 3.084530 | 3.041327 | 2.726420 | 3.288073 | 3.286074 | 3.328865 | 3.101268 | 3.797706 | ⋯ | 3.225476 | 2.599680 | 3.158812 | 3.012368 | 3.441499 | 3.529465 | 3.870514 | 3.326879 | 3.653408 | 3.721464 |\n",
       "\n"
      ],
      "text/plain": [
       "      06520001B0023R 06520003C0012R 06520004C0018R 06520005C0017R\n",
       "TH_4  3.258641       2.543560       2.470124       3.873546      \n",
       "TH_18 3.402986       3.732832       3.247667       4.139311      \n",
       "TH_17 2.899621       3.349528       2.850904       2.935903      \n",
       "TH_28 2.122054       2.508796       2.143300       3.314616      \n",
       "TH_6  2.835558       3.165800       2.741455       3.255378      \n",
       "TH_7  3.246414       3.515224       3.084530       3.041327      \n",
       "      06520006C0016R 06520007C0018R 06520008C0017R 06520010B0023R\n",
       "TH_4  2.379499       2.629001       3.626413       3.324695      \n",
       "TH_18 3.341334       3.291128       4.050459       3.721943      \n",
       "TH_17 2.614786       2.895317       3.348928       3.045980      \n",
       "TH_28 2.165245       1.977253       2.165512       2.499301      \n",
       "TH_6  2.731744       2.760267       3.137937       3.093191      \n",
       "TH_7  2.726420       3.288073       3.286074       3.328865      \n",
       "      06520011B0023R 06520015C0016R ⋯ 06520095B0017R 06520097B0021R\n",
       "TH_4  3.378651       3.010907       ⋯ 2.951200       3.083745      \n",
       "TH_18 3.655911       3.816681       ⋯ 3.551753       3.175228      \n",
       "TH_17 2.964719       3.480863       ⋯ 3.015086       2.616543      \n",
       "TH_28 2.533448       3.328631       ⋯ 2.511312       1.076290      \n",
       "TH_6  3.024381       3.281667       ⋯ 3.015380       2.593224      \n",
       "TH_7  3.101268       3.797706       ⋯ 3.225476       2.599680      \n",
       "      06520099B0017R 06520100B0017R 06520103C0017R 06520104C0017R\n",
       "TH_4  2.632355       2.061169       3.220097       3.715501      \n",
       "TH_18 3.525619       3.196350       3.502437       3.907429      \n",
       "TH_17 3.032016       2.728924       3.155685       3.335919      \n",
       "TH_28 2.442948       2.083394       2.147661       2.551371      \n",
       "TH_6  2.971578       2.649060       2.974029       3.278718      \n",
       "TH_7  3.158812       3.012368       3.441499       3.529465      \n",
       "      06520105C0017R 06520106C0017R 06520107C0017R 06520110C0016R\n",
       "TH_4  3.701069       3.795182       3.725360       2.996888      \n",
       "TH_18 4.421255       4.021101       4.220187       3.828690      \n",
       "TH_17 3.722357       3.176780       3.500666       3.466325      \n",
       "TH_28 3.625210       2.598789       3.111280       2.757612      \n",
       "TH_6  3.668864       3.268602       3.505263       3.297834      \n",
       "TH_7  3.870514       3.326879       3.653408       3.721464      "
      ]
     },
     "metadata": {},
     "output_type": "display_data"
    }
   ],
   "source": [
    "head(module_sample)"
   ]
  },
  {
   "cell_type": "markdown",
   "metadata": {},
   "source": [
    "Merge with metadata for survival analysis"
   ]
  },
  {
   "cell_type": "code",
   "execution_count": 122,
   "metadata": {
    "scrolled": true
   },
   "outputs": [],
   "source": [
    "module_sample_t <- as.data.frame(t(module_sample))\n",
    "module_sample_t$sample_id <- rownames(module_sample_t)"
   ]
  },
  {
   "cell_type": "code",
   "execution_count": 123,
   "metadata": {},
   "outputs": [],
   "source": [
    "metadata_modules <- merge(metadata, module_sample_t, by = \"sample_id\")"
   ]
  },
  {
   "cell_type": "markdown",
   "metadata": {},
   "source": [
    "Run cox and make a summary matrix"
   ]
  },
  {
   "cell_type": "code",
   "execution_count": 124,
   "metadata": {},
   "outputs": [],
   "source": [
    "module_cox <- matrix(nrow = nrow(module_sample), ncol = 7)\n",
    "rownames(module_cox) <- rownames(module_sample)\n",
    "colnames(module_cox) <- c('coef', 'exp(coef)', 'se(coef)', 'z', 'Pr(>|z|)', 'lower.95' ,'upper.95')"
   ]
  },
  {
   "cell_type": "code",
   "execution_count": 125,
   "metadata": {},
   "outputs": [],
   "source": [
    "for(i in rownames(module_cox)){\n",
    "  #  message(i)\n",
    "    f <- as.formula(paste0(\"Surv(TRTDUR, progressed)~\", i, \" + sample_origin\"))  \n",
    "    coxmodel <- coxph(f, data=metadata_modules) \n",
    "    sumcox <- summary(coxmodel)\n",
    "   # print(sumcox)\n",
    "    module_cox[i,1:5] <- sumcox$coefficients[1,1:5]\n",
    "    module_cox[i,6:7] <- sumcox$conf.int[1,3:4]\n",
    "}"
   ]
  },
  {
   "cell_type": "code",
   "execution_count": 126,
   "metadata": {
    "scrolled": true
   },
   "outputs": [
    {
     "data": {
      "text/html": [
       "<table class=\"dataframe\">\n",
       "<caption>A matrix: 6 × 7 of type dbl</caption>\n",
       "<thead>\n",
       "\t<tr><th></th><th scope=col>coef</th><th scope=col>exp(coef)</th><th scope=col>se(coef)</th><th scope=col>z</th><th scope=col>Pr(&gt;|z|)</th><th scope=col>lower.95</th><th scope=col>upper.95</th></tr>\n",
       "</thead>\n",
       "<tbody>\n",
       "\t<tr><th scope=row>TH_4</th><td> 0.1258451</td><td>1.1341065</td><td>0.2626941</td><td> 0.4790558</td><td>0.63189891</td><td>0.6777168</td><td>1.897839</td></tr>\n",
       "\t<tr><th scope=row>TH_18</th><td>-0.3245838</td><td>0.7228281</td><td>0.3048519</td><td>-1.0647265</td><td>0.28699972</td><td>0.3976900</td><td>1.313788</td></tr>\n",
       "\t<tr><th scope=row>TH_17</th><td>-0.4159244</td><td>0.6597301</td><td>0.3508369</td><td>-1.1855206</td><td>0.23581166</td><td>0.3316907</td><td>1.312198</td></tr>\n",
       "\t<tr><th scope=row>TH_28</th><td>-0.5627951</td><td>0.5696147</td><td>0.3163769</td><td>-1.7788756</td><td>0.07526015</td><td>0.3063943</td><td>1.058965</td></tr>\n",
       "\t<tr><th scope=row>TH_6</th><td>-0.4413447</td><td>0.6431710</td><td>0.3597122</td><td>-1.2269385</td><td>0.21984571</td><td>0.3177890</td><td>1.301709</td></tr>\n",
       "\t<tr><th scope=row>TH_7</th><td>-0.4939272</td><td>0.6102252</td><td>0.3346354</td><td>-1.4760160</td><td>0.13993959</td><td>0.3166999</td><td>1.175797</td></tr>\n",
       "</tbody>\n",
       "</table>\n"
      ],
      "text/latex": [
       "A matrix: 6 × 7 of type dbl\n",
       "\\begin{tabular}{r|lllllll}\n",
       "  & coef & exp(coef) & se(coef) & z & Pr(>\\textbar{}z\\textbar{}) & lower.95 & upper.95\\\\\n",
       "\\hline\n",
       "\tTH\\_4 &  0.1258451 & 1.1341065 & 0.2626941 &  0.4790558 & 0.63189891 & 0.6777168 & 1.897839\\\\\n",
       "\tTH\\_18 & -0.3245838 & 0.7228281 & 0.3048519 & -1.0647265 & 0.28699972 & 0.3976900 & 1.313788\\\\\n",
       "\tTH\\_17 & -0.4159244 & 0.6597301 & 0.3508369 & -1.1855206 & 0.23581166 & 0.3316907 & 1.312198\\\\\n",
       "\tTH\\_28 & -0.5627951 & 0.5696147 & 0.3163769 & -1.7788756 & 0.07526015 & 0.3063943 & 1.058965\\\\\n",
       "\tTH\\_6 & -0.4413447 & 0.6431710 & 0.3597122 & -1.2269385 & 0.21984571 & 0.3177890 & 1.301709\\\\\n",
       "\tTH\\_7 & -0.4939272 & 0.6102252 & 0.3346354 & -1.4760160 & 0.13993959 & 0.3166999 & 1.175797\\\\\n",
       "\\end{tabular}\n"
      ],
      "text/markdown": [
       "\n",
       "A matrix: 6 × 7 of type dbl\n",
       "\n",
       "| <!--/--> | coef | exp(coef) | se(coef) | z | Pr(&gt;|z|) | lower.95 | upper.95 |\n",
       "|---|---|---|---|---|---|---|---|\n",
       "| TH_4 |  0.1258451 | 1.1341065 | 0.2626941 |  0.4790558 | 0.63189891 | 0.6777168 | 1.897839 |\n",
       "| TH_18 | -0.3245838 | 0.7228281 | 0.3048519 | -1.0647265 | 0.28699972 | 0.3976900 | 1.313788 |\n",
       "| TH_17 | -0.4159244 | 0.6597301 | 0.3508369 | -1.1855206 | 0.23581166 | 0.3316907 | 1.312198 |\n",
       "| TH_28 | -0.5627951 | 0.5696147 | 0.3163769 | -1.7788756 | 0.07526015 | 0.3063943 | 1.058965 |\n",
       "| TH_6 | -0.4413447 | 0.6431710 | 0.3597122 | -1.2269385 | 0.21984571 | 0.3177890 | 1.301709 |\n",
       "| TH_7 | -0.4939272 | 0.6102252 | 0.3346354 | -1.4760160 | 0.13993959 | 0.3166999 | 1.175797 |\n",
       "\n"
      ],
      "text/plain": [
       "      coef       exp(coef) se(coef)  z          Pr(>|z|)   lower.95  upper.95\n",
       "TH_4   0.1258451 1.1341065 0.2626941  0.4790558 0.63189891 0.6777168 1.897839\n",
       "TH_18 -0.3245838 0.7228281 0.3048519 -1.0647265 0.28699972 0.3976900 1.313788\n",
       "TH_17 -0.4159244 0.6597301 0.3508369 -1.1855206 0.23581166 0.3316907 1.312198\n",
       "TH_28 -0.5627951 0.5696147 0.3163769 -1.7788756 0.07526015 0.3063943 1.058965\n",
       "TH_6  -0.4413447 0.6431710 0.3597122 -1.2269385 0.21984571 0.3177890 1.301709\n",
       "TH_7  -0.4939272 0.6102252 0.3346354 -1.4760160 0.13993959 0.3166999 1.175797"
      ]
     },
     "metadata": {},
     "output_type": "display_data"
    }
   ],
   "source": [
    "head(module_cox)"
   ]
  },
  {
   "cell_type": "markdown",
   "metadata": {},
   "source": [
    "Calculate FDR add to matrix"
   ]
  },
  {
   "cell_type": "code",
   "execution_count": 127,
   "metadata": {
    "scrolled": true
   },
   "outputs": [],
   "source": [
    "fdr_df <- as.matrix(p.adjust(module_cox[,5], method = \"fdr\"))\n",
    "colnames(fdr_df)[1] <- \"fdr\"\n",
    "module_cox <- cbind(module_cox, fdr_df)"
   ]
  },
  {
   "cell_type": "markdown",
   "metadata": {},
   "source": [
    "Order FDR for plot"
   ]
  },
  {
   "cell_type": "code",
   "execution_count": 128,
   "metadata": {},
   "outputs": [],
   "source": [
    "module_cox <- module_cox[order(module_cox[,8], module_cox[,2]),]"
   ]
  },
  {
   "cell_type": "code",
   "execution_count": 131,
   "metadata": {},
   "outputs": [
    {
     "data": {
      "text/plain": [
       "GRID.VP.7::forestplot_margins "
      ]
     },
     "metadata": {},
     "output_type": "display_data"
    },
    {
     "data": {
      "image/png": "[encoded data removed]",
      "text/plain": [
       "plot without title"
      ]
     },
     "metadata": {
      "image/png": {
       "height": 420,
       "width": 420
      }
     },
     "output_type": "display_data"
    }
   ],
   "source": [
    "forest.fx(module_cox, \"Multivariable model (+ sample origin)\", 3, 14)"
   ]
  },
  {
   "cell_type": "code",
   "execution_count": 132,
   "metadata": {},
   "outputs": [
    {
     "data": {
      "text/plain": [
       "GRID.VP.9::forestplot_margins "
      ]
     },
     "metadata": {},
     "output_type": "display_data"
    },
    {
     "data": {
      "text/html": [
       "<strong>pdf:</strong> 2"
      ],
      "text/latex": [
       "\\textbf{pdf:} 2"
      ],
      "text/markdown": [
       "**pdf:** 2"
      ],
      "text/plain": [
       "pdf \n",
       "  2 "
      ]
     },
     "metadata": {},
     "output_type": "display_data"
    }
   ],
   "source": [
    "pdf(file = paste0(plotpath,\"Multivar_forestplot_ordered.pdf\"),\n",
    "    width = 8, height = 12,\n",
    "    useDingbats = FALSE, onefile = F)\n",
    "\n",
    "forest.fx(module_cox, \"Multivariable model (sample origin)\", 3, 14)\n",
    "\n",
    "dev.off()"
   ]
  },
  {
   "cell_type": "code",
   "execution_count": null,
   "metadata": {},
   "outputs": [],
   "source": []
  }
 ],
 "metadata": {
  "kernelspec": {
   "display_name": "R 4.0",
   "language": "R",
   "name": "ir40"
  },
  "language_info": {
   "codemirror_mode": "r",
   "file_extension": ".r",
   "mimetype": "text/x-r-source",
   "name": "R",
   "pygments_lexer": "r",
   "version": "4.0.3"
  },
  "toc": {
   "base_numbering": 1,
   "nav_menu": {},
   "number_sections": false,
   "sideBar": true,
   "skip_h1_title": false,
   "title_cell": "Table of Contents",
   "title_sidebar": "Contents",
   "toc_cell": true,
   "toc_position": {
    "height": "calc(100% - 180px)",
    "left": "10px",
    "top": "150px",
    "width": "320px"
   },
   "toc_section_display": true,
   "toc_window_display": true
  }
 },
 "nbformat": 4,
 "nbformat_minor": 2
}
