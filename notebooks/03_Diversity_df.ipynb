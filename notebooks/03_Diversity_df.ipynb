{
 "cells": [
  {
   "cell_type": "markdown",
   "metadata": {
    "toc": true
   },
   "source": [
    "<h1>Table of Contents<span class=\"tocSkip\"></span></h1>\n",
    "<div class=\"toc\"><ul class=\"toc-item\"><li><span><a href=\"#Dependencies\" data-toc-modified-id=\"Dependencies-1\">Dependencies</a></span></li><li><span><a href=\"#Functions\" data-toc-modified-id=\"Functions-2\">Functions</a></span></li><li><span><a href=\"#Paths\" data-toc-modified-id=\"Paths-3\">Paths</a></span></li><li><span><a href=\"#Main\" data-toc-modified-id=\"Main-4\">Main</a></span><ul class=\"toc-item\"><li><span><a href=\"#Get-div-stats\" data-toc-modified-id=\"Get-div-stats-4.1\">Get div stats</a></span></li></ul></li></ul></div>"
   ]
  },
  {
   "cell_type": "markdown",
   "metadata": {},
   "source": [
    "# Dependencies"
   ]
  },
  {
   "cell_type": "code",
   "execution_count": 1,
   "metadata": {},
   "outputs": [],
   "source": [
    "options(stringsAsFactors = F)"
   ]
  },
  {
   "cell_type": "code",
   "execution_count": 2,
   "metadata": {},
   "outputs": [
    {
     "name": "stderr",
     "output_type": "stream",
     "text": [
      "\n",
      "Attaching package: ‘dplyr’\n",
      "\n",
      "\n",
      "The following objects are masked from ‘package:stats’:\n",
      "\n",
      "    filter, lag\n",
      "\n",
      "\n",
      "The following objects are masked from ‘package:base’:\n",
      "\n",
      "    intersect, setdiff, setequal, union\n",
      "\n",
      "\n"
     ]
    }
   ],
   "source": [
    "library(dplyr)"
   ]
  },
  {
   "cell_type": "markdown",
   "metadata": {},
   "source": [
    "# Functions"
   ]
  },
  {
   "cell_type": "code",
   "execution_count": 3,
   "metadata": {},
   "outputs": [],
   "source": [
    "source(\"~/git/iMATRIX-Atezo_Biomarker/R/Immune_Diversity.R\")"
   ]
  },
  {
   "cell_type": "markdown",
   "metadata": {},
   "source": [
    "# Paths"
   ]
  },
  {
   "cell_type": "code",
   "execution_count": 4,
   "metadata": {},
   "outputs": [],
   "source": [
    "mountpath <- \"/Users/anabbi/Desktop/H4H/INDICATE/CapTCR/NovaSeq/ds_ICT/clones/\""
   ]
  },
  {
   "cell_type": "code",
   "execution_count": 5,
   "metadata": {},
   "outputs": [],
   "source": [
    "datapath <- \"/Users/anabbi/OneDrive - UHN/Documents/INDICATE/Data/\"\n",
    "plotpath <- \"/Users/anabbi/OneDrive - UHN/Documents/INDICATE/Plots/\"\n",
    "manifestpath <- \"/Users/anabbi/OneDrive - UHN/Documents/INDICATE/Manifests/\""
   ]
  },
  {
   "cell_type": "markdown",
   "metadata": {},
   "source": [
    "# Main"
   ]
  },
  {
   "cell_type": "code",
   "execution_count": 6,
   "metadata": {},
   "outputs": [],
   "source": [
    "metadata <- read.csv(file.path(datapath,\"IND_estimate_metadata.csv\"),header = T, check.names = F)  "
   ]
  },
  {
   "cell_type": "markdown",
   "metadata": {},
   "source": [
    "## Get div stats"
   ]
  },
  {
   "cell_type": "markdown",
   "metadata": {},
   "source": [
    "I exported this from the lab log file to match samples between RNAseq and DNA"
   ]
  },
  {
   "cell_type": "code",
   "execution_count": 7,
   "metadata": {},
   "outputs": [],
   "source": [
    "samplelist_captcr <- read.csv(file.path(manifestpath,\"clinical_manifest_TCRcap.csv\"),header = T, check.names = F) "
   ]
  },
  {
   "cell_type": "code",
   "execution_count": 8,
   "metadata": {
    "scrolled": true
   },
   "outputs": [
    {
     "data": {
      "text/html": [
       "<style>\n",
       ".list-inline {list-style: none; margin:0; padding: 0}\n",
       ".list-inline>li {display: inline-block}\n",
       ".list-inline>li:not(:last-child)::after {content: \"\\00b7\"; padding: 0 .5ex}\n",
       "</style>\n",
       "<ol class=list-inline><li>56</li><li>6</li></ol>\n"
      ],
      "text/latex": [
       "\\begin{enumerate*}\n",
       "\\item 56\n",
       "\\item 6\n",
       "\\end{enumerate*}\n"
      ],
      "text/markdown": [
       "1. 56\n",
       "2. 6\n",
       "\n",
       "\n"
      ],
      "text/plain": [
       "[1] 56  6"
      ]
     },
     "metadata": {},
     "output_type": "display_data"
    }
   ],
   "source": [
    "dim(samplelist_captcr)"
   ]
  },
  {
   "cell_type": "code",
   "execution_count": 9,
   "metadata": {},
   "outputs": [],
   "source": [
    "samplelist_captcr <- samplelist_captcr[!duplicated(samplelist_captcr$`Patient ID`),]"
   ]
  },
  {
   "cell_type": "code",
   "execution_count": 10,
   "metadata": {},
   "outputs": [
    {
     "data": {
      "text/html": [
       "<style>\n",
       ".list-inline {list-style: none; margin:0; padding: 0}\n",
       ".list-inline>li {display: inline-block}\n",
       ".list-inline>li:not(:last-child)::after {content: \"\\00b7\"; padding: 0 .5ex}\n",
       "</style>\n",
       "<ol class=list-inline><li>51</li><li>6</li></ol>\n"
      ],
      "text/latex": [
       "\\begin{enumerate*}\n",
       "\\item 51\n",
       "\\item 6\n",
       "\\end{enumerate*}\n"
      ],
      "text/markdown": [
       "1. 51\n",
       "2. 6\n",
       "\n",
       "\n"
      ],
      "text/plain": [
       "[1] 51  6"
      ]
     },
     "metadata": {},
     "output_type": "display_data"
    }
   ],
   "source": [
    "dim(samplelist_captcr)"
   ]
  },
  {
   "cell_type": "markdown",
   "metadata": {},
   "source": [
    "samples to remove from captcr analysis:\n",
    "\n",
    "- ICT-6502789214-02_T_DNA, 11010109 no screening sample. \n",
    "\n",
    "- ICT-6503110274-02_T_DNA 11010904 TCRCap failed contaminant in capture"
   ]
  },
  {
   "cell_type": "code",
   "execution_count": 11,
   "metadata": {},
   "outputs": [
    {
     "data": {
      "text/html": [
       "<table class=\"dataframe\">\n",
       "<caption>A data.frame: 6 × 6</caption>\n",
       "<thead>\n",
       "\t<tr><th></th><th scope=col>Original Specimen ID</th><th scope=col>Patient ID</th><th scope=col>Visit Type</th><th scope=col>Submitted Sample ID</th><th scope=col>Pugh Lab ID</th><th scope=col>Bioinformatics ID</th></tr>\n",
       "\t<tr><th></th><th scope=col>&lt;chr&gt;</th><th scope=col>&lt;int&gt;</th><th scope=col>&lt;chr&gt;</th><th scope=col>&lt;chr&gt;</th><th scope=col>&lt;chr&gt;</th><th scope=col>&lt;chr&gt;</th></tr>\n",
       "</thead>\n",
       "<tbody>\n",
       "\t<tr><th scope=row>1</th><td>06520040B0019D</td><td>11010703</td><td>BIOPSY KIT</td><td>6201855900-02</td><td>ICT-6201855900-02_T_DNA</td><td>ICT-6201855900-02_T_DNA_capTCRseq</td></tr>\n",
       "\t<tr><th scope=row>2</th><td>06520055C0019D</td><td>11010710</td><td>SCREENING </td><td>6202785779-02</td><td>ICT-6202785779-02_T_DNA</td><td>ICT-6202785779-02_T_DNA_capTCRseq</td></tr>\n",
       "\t<tr><th scope=row>3</th><td>06520094C0019D</td><td>11010402</td><td>SCREENING </td><td>6502553313-02</td><td>ICT-6502553313-02_T_DNA</td><td>ICT-6502553313-02_T_DNA_capTCRseq</td></tr>\n",
       "\t<tr><th scope=row>4</th><td>06520102B0020D</td><td>11010808</td><td>SCREENING </td><td>6202116747   </td><td>ICT-6202116747_T_DNA   </td><td>ICT-6202116747_T_DNA_capTCRseq   </td></tr>\n",
       "\t<tr><th scope=row>5</th><td>06520047C0019D</td><td>11010304</td><td>SCREENING </td><td>6502064156-02</td><td>ICT-6502064156-02_T_DNA</td><td>ICT-6502064156-02_T_DNA_capTCRseq</td></tr>\n",
       "\t<tr><th scope=row>6</th><td>06520090C0020D</td><td>11010205</td><td>SCREENING </td><td>6203065456-02</td><td>ICT-6203065456-02_T_DNA</td><td>ICT-6203065456-02_T_DNA_capTCRseq</td></tr>\n",
       "</tbody>\n",
       "</table>\n"
      ],
      "text/latex": [
       "A data.frame: 6 × 6\n",
       "\\begin{tabular}{r|llllll}\n",
       "  & Original Specimen ID & Patient ID & Visit Type & Submitted Sample ID & Pugh Lab ID & Bioinformatics ID\\\\\n",
       "  & <chr> & <int> & <chr> & <chr> & <chr> & <chr>\\\\\n",
       "\\hline\n",
       "\t1 & 06520040B0019D & 11010703 & BIOPSY KIT & 6201855900-02 & ICT-6201855900-02\\_T\\_DNA & ICT-6201855900-02\\_T\\_DNA\\_capTCRseq\\\\\n",
       "\t2 & 06520055C0019D & 11010710 & SCREENING  & 6202785779-02 & ICT-6202785779-02\\_T\\_DNA & ICT-6202785779-02\\_T\\_DNA\\_capTCRseq\\\\\n",
       "\t3 & 06520094C0019D & 11010402 & SCREENING  & 6502553313-02 & ICT-6502553313-02\\_T\\_DNA & ICT-6502553313-02\\_T\\_DNA\\_capTCRseq\\\\\n",
       "\t4 & 06520102B0020D & 11010808 & SCREENING  & 6202116747    & ICT-6202116747\\_T\\_DNA    & ICT-6202116747\\_T\\_DNA\\_capTCRseq   \\\\\n",
       "\t5 & 06520047C0019D & 11010304 & SCREENING  & 6502064156-02 & ICT-6502064156-02\\_T\\_DNA & ICT-6502064156-02\\_T\\_DNA\\_capTCRseq\\\\\n",
       "\t6 & 06520090C0020D & 11010205 & SCREENING  & 6203065456-02 & ICT-6203065456-02\\_T\\_DNA & ICT-6203065456-02\\_T\\_DNA\\_capTCRseq\\\\\n",
       "\\end{tabular}\n"
      ],
      "text/markdown": [
       "\n",
       "A data.frame: 6 × 6\n",
       "\n",
       "| <!--/--> | Original Specimen ID &lt;chr&gt; | Patient ID &lt;int&gt; | Visit Type &lt;chr&gt; | Submitted Sample ID &lt;chr&gt; | Pugh Lab ID &lt;chr&gt; | Bioinformatics ID &lt;chr&gt; |\n",
       "|---|---|---|---|---|---|---|\n",
       "| 1 | 06520040B0019D | 11010703 | BIOPSY KIT | 6201855900-02 | ICT-6201855900-02_T_DNA | ICT-6201855900-02_T_DNA_capTCRseq |\n",
       "| 2 | 06520055C0019D | 11010710 | SCREENING  | 6202785779-02 | ICT-6202785779-02_T_DNA | ICT-6202785779-02_T_DNA_capTCRseq |\n",
       "| 3 | 06520094C0019D | 11010402 | SCREENING  | 6502553313-02 | ICT-6502553313-02_T_DNA | ICT-6502553313-02_T_DNA_capTCRseq |\n",
       "| 4 | 06520102B0020D | 11010808 | SCREENING  | 6202116747    | ICT-6202116747_T_DNA    | ICT-6202116747_T_DNA_capTCRseq    |\n",
       "| 5 | 06520047C0019D | 11010304 | SCREENING  | 6502064156-02 | ICT-6502064156-02_T_DNA | ICT-6502064156-02_T_DNA_capTCRseq |\n",
       "| 6 | 06520090C0020D | 11010205 | SCREENING  | 6203065456-02 | ICT-6203065456-02_T_DNA | ICT-6203065456-02_T_DNA_capTCRseq |\n",
       "\n"
      ],
      "text/plain": [
       "  Original Specimen ID Patient ID Visit Type Submitted Sample ID\n",
       "1 06520040B0019D       11010703   BIOPSY KIT 6201855900-02      \n",
       "2 06520055C0019D       11010710   SCREENING  6202785779-02      \n",
       "3 06520094C0019D       11010402   SCREENING  6502553313-02      \n",
       "4 06520102B0020D       11010808   SCREENING  6202116747         \n",
       "5 06520047C0019D       11010304   SCREENING  6502064156-02      \n",
       "6 06520090C0020D       11010205   SCREENING  6203065456-02      \n",
       "  Pugh Lab ID             Bioinformatics ID                \n",
       "1 ICT-6201855900-02_T_DNA ICT-6201855900-02_T_DNA_capTCRseq\n",
       "2 ICT-6202785779-02_T_DNA ICT-6202785779-02_T_DNA_capTCRseq\n",
       "3 ICT-6502553313-02_T_DNA ICT-6502553313-02_T_DNA_capTCRseq\n",
       "4 ICT-6202116747_T_DNA    ICT-6202116747_T_DNA_capTCRseq   \n",
       "5 ICT-6502064156-02_T_DNA ICT-6502064156-02_T_DNA_capTCRseq\n",
       "6 ICT-6203065456-02_T_DNA ICT-6203065456-02_T_DNA_capTCRseq"
      ]
     },
     "metadata": {},
     "output_type": "display_data"
    }
   ],
   "source": [
    "head(samplelist_captcr)"
   ]
  },
  {
   "cell_type": "code",
   "execution_count": 12,
   "metadata": {},
   "outputs": [],
   "source": [
    "samplelist_captcr$sample_id_DNA <- gsub(\"_DNA\", \"\", samplelist_captcr$`Pugh Lab ID`)"
   ]
  },
  {
   "cell_type": "code",
   "execution_count": 13,
   "metadata": {},
   "outputs": [],
   "source": [
    "samplelist_captcr$Patient.ID <- samplelist_captcr$`Patient ID`"
   ]
  },
  {
   "cell_type": "code",
   "execution_count": 14,
   "metadata": {},
   "outputs": [
    {
     "data": {
      "text/html": [
       "<style>\n",
       ".list-inline {list-style: none; margin:0; padding: 0}\n",
       ".list-inline>li {display: inline-block}\n",
       ".list-inline>li:not(:last-child)::after {content: \"\\00b7\"; padding: 0 .5ex}\n",
       "</style>\n",
       "<ol class=list-inline><li>51</li><li>8</li></ol>\n"
      ],
      "text/latex": [
       "\\begin{enumerate*}\n",
       "\\item 51\n",
       "\\item 8\n",
       "\\end{enumerate*}\n"
      ],
      "text/markdown": [
       "1. 51\n",
       "2. 8\n",
       "\n",
       "\n"
      ],
      "text/plain": [
       "[1] 51  8"
      ]
     },
     "metadata": {},
     "output_type": "display_data"
    }
   ],
   "source": [
    "dim(samplelist_captcr)"
   ]
  },
  {
   "cell_type": "markdown",
   "metadata": {},
   "source": [
    "include DNA sample id in the metadata using patient id"
   ]
  },
  {
   "cell_type": "code",
   "execution_count": 15,
   "metadata": {},
   "outputs": [],
   "source": [
    "metadata_tcr <- merge(metadata[, c(\"sample_id\",\"Patient.ID\")], samplelist_captcr[, c(\"sample_id_DNA\", \"Patient.ID\")],by = \"Patient.ID\")"
   ]
  },
  {
   "cell_type": "code",
   "execution_count": 16,
   "metadata": {},
   "outputs": [
    {
     "data": {
      "text/html": [
       "<table class=\"dataframe\">\n",
       "<caption>A data.frame: 5 × 8</caption>\n",
       "<thead>\n",
       "\t<tr><th></th><th scope=col>Original Specimen ID</th><th scope=col>Patient ID</th><th scope=col>Visit Type</th><th scope=col>Submitted Sample ID</th><th scope=col>Pugh Lab ID</th><th scope=col>Bioinformatics ID</th><th scope=col>sample_id_DNA</th><th scope=col>Patient.ID</th></tr>\n",
       "\t<tr><th></th><th scope=col>&lt;chr&gt;</th><th scope=col>&lt;int&gt;</th><th scope=col>&lt;chr&gt;</th><th scope=col>&lt;chr&gt;</th><th scope=col>&lt;chr&gt;</th><th scope=col>&lt;chr&gt;</th><th scope=col>&lt;chr&gt;</th><th scope=col>&lt;int&gt;</th></tr>\n",
       "</thead>\n",
       "<tbody>\n",
       "\t<tr><th scope=row>4</th><td>06520102B0020D</td><td>11010808</td><td>SCREENING</td><td>6202116747    </td><td>ICT-6202116747_T_DNA    </td><td>ICT-6202116747_T_DNA_capTCRseq    </td><td>ICT-6202116747_T    </td><td>11010808</td></tr>\n",
       "\t<tr><th scope=row>27</th><td>06520076B0019D</td><td>11010109</td><td>SCREENING</td><td>6502789214-02 </td><td>ICT-6502789214-02_T_DNA </td><td>ICT-6502789214-02_T_DNA_capTCRseq </td><td>ICT-6502789214-02_T </td><td>11010109</td></tr>\n",
       "\t<tr><th scope=row>31</th><td>4038863256    </td><td>11010708</td><td>Screening</td><td>06520074C0018D</td><td>ICT-06520074C0018D_T_DNA</td><td>ICT-06520074C0018D_T_DNA_capTCRseq</td><td>ICT-06520074C0018D_T</td><td>11010708</td></tr>\n",
       "\t<tr><th scope=row>54</th><td>4038863232    </td><td>11010804</td><td>Screening</td><td>06520063C0041D</td><td>ICT-06520063C0041D_T_DNA</td><td>ICT-06520063C0041D_T_DNA_capTCRseq</td><td>ICT-06520063C0041D_T</td><td>11010804</td></tr>\n",
       "\t<tr><th scope=row>56</th><td>5000153896    </td><td>11010506</td><td>Screening</td><td>06520034C0016D</td><td>ICT-06520034C0016D_T_DNA</td><td>ICT-06520034C0016D_T_DNA_capTCRseq</td><td>ICT-06520034C0016D_T</td><td>11010506</td></tr>\n",
       "</tbody>\n",
       "</table>\n"
      ],
      "text/latex": [
       "A data.frame: 5 × 8\n",
       "\\begin{tabular}{r|llllllll}\n",
       "  & Original Specimen ID & Patient ID & Visit Type & Submitted Sample ID & Pugh Lab ID & Bioinformatics ID & sample\\_id\\_DNA & Patient.ID\\\\\n",
       "  & <chr> & <int> & <chr> & <chr> & <chr> & <chr> & <chr> & <int>\\\\\n",
       "\\hline\n",
       "\t4 & 06520102B0020D & 11010808 & SCREENING & 6202116747     & ICT-6202116747\\_T\\_DNA     & ICT-6202116747\\_T\\_DNA\\_capTCRseq     & ICT-6202116747\\_T     & 11010808\\\\\n",
       "\t27 & 06520076B0019D & 11010109 & SCREENING & 6502789214-02  & ICT-6502789214-02\\_T\\_DNA  & ICT-6502789214-02\\_T\\_DNA\\_capTCRseq  & ICT-6502789214-02\\_T  & 11010109\\\\\n",
       "\t31 & 4038863256     & 11010708 & Screening & 06520074C0018D & ICT-06520074C0018D\\_T\\_DNA & ICT-06520074C0018D\\_T\\_DNA\\_capTCRseq & ICT-06520074C0018D\\_T & 11010708\\\\\n",
       "\t54 & 4038863232     & 11010804 & Screening & 06520063C0041D & ICT-06520063C0041D\\_T\\_DNA & ICT-06520063C0041D\\_T\\_DNA\\_capTCRseq & ICT-06520063C0041D\\_T & 11010804\\\\\n",
       "\t56 & 5000153896     & 11010506 & Screening & 06520034C0016D & ICT-06520034C0016D\\_T\\_DNA & ICT-06520034C0016D\\_T\\_DNA\\_capTCRseq & ICT-06520034C0016D\\_T & 11010506\\\\\n",
       "\\end{tabular}\n"
      ],
      "text/markdown": [
       "\n",
       "A data.frame: 5 × 8\n",
       "\n",
       "| <!--/--> | Original Specimen ID &lt;chr&gt; | Patient ID &lt;int&gt; | Visit Type &lt;chr&gt; | Submitted Sample ID &lt;chr&gt; | Pugh Lab ID &lt;chr&gt; | Bioinformatics ID &lt;chr&gt; | sample_id_DNA &lt;chr&gt; | Patient.ID &lt;int&gt; |\n",
       "|---|---|---|---|---|---|---|---|---|\n",
       "| 4 | 06520102B0020D | 11010808 | SCREENING | 6202116747     | ICT-6202116747_T_DNA     | ICT-6202116747_T_DNA_capTCRseq     | ICT-6202116747_T     | 11010808 |\n",
       "| 27 | 06520076B0019D | 11010109 | SCREENING | 6502789214-02  | ICT-6502789214-02_T_DNA  | ICT-6502789214-02_T_DNA_capTCRseq  | ICT-6502789214-02_T  | 11010109 |\n",
       "| 31 | 4038863256     | 11010708 | Screening | 06520074C0018D | ICT-06520074C0018D_T_DNA | ICT-06520074C0018D_T_DNA_capTCRseq | ICT-06520074C0018D_T | 11010708 |\n",
       "| 54 | 4038863232     | 11010804 | Screening | 06520063C0041D | ICT-06520063C0041D_T_DNA | ICT-06520063C0041D_T_DNA_capTCRseq | ICT-06520063C0041D_T | 11010804 |\n",
       "| 56 | 5000153896     | 11010506 | Screening | 06520034C0016D | ICT-06520034C0016D_T_DNA | ICT-06520034C0016D_T_DNA_capTCRseq | ICT-06520034C0016D_T | 11010506 |\n",
       "\n"
      ],
      "text/plain": [
       "   Original Specimen ID Patient ID Visit Type Submitted Sample ID\n",
       "4  06520102B0020D       11010808   SCREENING  6202116747         \n",
       "27 06520076B0019D       11010109   SCREENING  6502789214-02      \n",
       "31 4038863256           11010708   Screening  06520074C0018D     \n",
       "54 4038863232           11010804   Screening  06520063C0041D     \n",
       "56 5000153896           11010506   Screening  06520034C0016D     \n",
       "   Pugh Lab ID              Bioinformatics ID                 \n",
       "4  ICT-6202116747_T_DNA     ICT-6202116747_T_DNA_capTCRseq    \n",
       "27 ICT-6502789214-02_T_DNA  ICT-6502789214-02_T_DNA_capTCRseq \n",
       "31 ICT-06520074C0018D_T_DNA ICT-06520074C0018D_T_DNA_capTCRseq\n",
       "54 ICT-06520063C0041D_T_DNA ICT-06520063C0041D_T_DNA_capTCRseq\n",
       "56 ICT-06520034C0016D_T_DNA ICT-06520034C0016D_T_DNA_capTCRseq\n",
       "   sample_id_DNA        Patient.ID\n",
       "4  ICT-6202116747_T     11010808  \n",
       "27 ICT-6502789214-02_T  11010109  \n",
       "31 ICT-06520074C0018D_T 11010708  \n",
       "54 ICT-06520063C0041D_T 11010804  \n",
       "56 ICT-06520034C0016D_T 11010506  "
      ]
     },
     "metadata": {},
     "output_type": "display_data"
    }
   ],
   "source": [
    "samplelist_captcr[!samplelist_captcr$sample_id_DNA %in% metadata_tcr$sample_id_DNA ,]"
   ]
  },
  {
   "cell_type": "code",
   "execution_count": 17,
   "metadata": {},
   "outputs": [
    {
     "data": {
      "text/html": [
       "<style>\n",
       ".list-inline {list-style: none; margin:0; padding: 0}\n",
       ".list-inline>li {display: inline-block}\n",
       ".list-inline>li:not(:last-child)::after {content: \"\\00b7\"; padding: 0 .5ex}\n",
       "</style>\n",
       "<ol class=list-inline><li>46</li><li>3</li></ol>\n"
      ],
      "text/latex": [
       "\\begin{enumerate*}\n",
       "\\item 46\n",
       "\\item 3\n",
       "\\end{enumerate*}\n"
      ],
      "text/markdown": [
       "1. 46\n",
       "2. 3\n",
       "\n",
       "\n"
      ],
      "text/plain": [
       "[1] 46  3"
      ]
     },
     "metadata": {},
     "output_type": "display_data"
    }
   ],
   "source": [
    "dim(metadata_tcr)"
   ]
  },
  {
   "cell_type": "code",
   "execution_count": 18,
   "metadata": {},
   "outputs": [
    {
     "name": "stderr",
     "output_type": "stream",
     "text": [
      "number of clones in file:CLONES_TRBICT-06520001B0024D_T_DNA_capTCRseq_S63_L002_1600000.txt\n",
      "\n"
     ]
    },
    {
     "name": "stdout",
     "output_type": "stream",
     "text": [
      "[1] 118\n"
     ]
    },
    {
     "name": "stderr",
     "output_type": "stream",
     "text": [
      "number of non prodcutive CDR3s:\n",
      "\n"
     ]
    },
    {
     "name": "stdout",
     "output_type": "stream",
     "text": [
      "[1] 34\n"
     ]
    },
    {
     "name": "stderr",
     "output_type": "stream",
     "text": [
      "nonproductive aaCDR3 removed\n",
      "\n",
      "number of clones in file:CLONES_TRBICT-06520004C0016D_T_DNA_capTCRseq_S76_L002_1600000.txt\n",
      "\n"
     ]
    },
    {
     "name": "stdout",
     "output_type": "stream",
     "text": [
      "[1] 372\n"
     ]
    },
    {
     "name": "stderr",
     "output_type": "stream",
     "text": [
      "number of non prodcutive CDR3s:\n",
      "\n"
     ]
    },
    {
     "name": "stdout",
     "output_type": "stream",
     "text": [
      "[1] 89\n"
     ]
    },
    {
     "name": "stderr",
     "output_type": "stream",
     "text": [
      "nonproductive aaCDR3 removed\n",
      "\n",
      "number of clones in file:CLONES_TRBICT-06520007C0016D_T_DNA_capTCRseq_S71_L002_1600000.txt\n",
      "\n"
     ]
    },
    {
     "name": "stdout",
     "output_type": "stream",
     "text": [
      "[1] 310\n"
     ]
    },
    {
     "name": "stderr",
     "output_type": "stream",
     "text": [
      "number of non prodcutive CDR3s:\n",
      "\n"
     ]
    },
    {
     "name": "stdout",
     "output_type": "stream",
     "text": [
      "[1] 79\n"
     ]
    },
    {
     "name": "stderr",
     "output_type": "stream",
     "text": [
      "nonproductive aaCDR3 removed\n",
      "\n",
      "number of clones in file:CLONES_TRBICT-06520010B0021D_T_DNA_capTCRseq_S66_L002_1600000.txt\n",
      "\n"
     ]
    },
    {
     "name": "stdout",
     "output_type": "stream",
     "text": [
      "[1] 48\n"
     ]
    },
    {
     "name": "stderr",
     "output_type": "stream",
     "text": [
      "number of non prodcutive CDR3s:\n",
      "\n"
     ]
    },
    {
     "name": "stdout",
     "output_type": "stream",
     "text": [
      "[1] 10\n"
     ]
    },
    {
     "name": "stderr",
     "output_type": "stream",
     "text": [
      "nonproductive aaCDR3 removed\n",
      "\n",
      "number of clones in file:CLONES_TRBICT-06520011B0021D_T_DNA_capTCRseq_S70_L002_1600000.txt\n",
      "\n"
     ]
    },
    {
     "name": "stdout",
     "output_type": "stream",
     "text": [
      "[1] 12\n"
     ]
    },
    {
     "name": "stderr",
     "output_type": "stream",
     "text": [
      "number of non prodcutive CDR3s:\n",
      "\n"
     ]
    },
    {
     "name": "stdout",
     "output_type": "stream",
     "text": [
      "[1] 1\n"
     ]
    },
    {
     "name": "stderr",
     "output_type": "stream",
     "text": [
      "nonproductive aaCDR3 removed\n",
      "\n",
      "number of clones in file:CLONES_TRBICT-06520017C0016D_T_DNA_capTCRseq_S72_L002_1600000.txt\n",
      "\n"
     ]
    },
    {
     "name": "stdout",
     "output_type": "stream",
     "text": [
      "[1] 7\n"
     ]
    },
    {
     "name": "stderr",
     "output_type": "stream",
     "text": [
      "number of non prodcutive CDR3s:\n",
      "\n"
     ]
    },
    {
     "name": "stdout",
     "output_type": "stream",
     "text": [
      "[1] 2\n"
     ]
    },
    {
     "name": "stderr",
     "output_type": "stream",
     "text": [
      "nonproductive aaCDR3 removed\n",
      "\n",
      "number of clones in file:CLONES_TRBICT-06520019C0024D_T_DNA_capTCRseq_S77_L002_1600000.txt\n",
      "\n"
     ]
    },
    {
     "name": "stdout",
     "output_type": "stream",
     "text": [
      "[1] 264\n"
     ]
    },
    {
     "name": "stderr",
     "output_type": "stream",
     "text": [
      "number of non prodcutive CDR3s:\n",
      "\n"
     ]
    },
    {
     "name": "stdout",
     "output_type": "stream",
     "text": [
      "[1] 56\n"
     ]
    },
    {
     "name": "stderr",
     "output_type": "stream",
     "text": [
      "nonproductive aaCDR3 removed\n",
      "\n",
      "number of clones in file:CLONES_TRBICT-06520026C0012D_T_DNA_capTCRseq_S75_L002_1600000.txt\n",
      "\n"
     ]
    },
    {
     "name": "stdout",
     "output_type": "stream",
     "text": [
      "[1] 56\n"
     ]
    },
    {
     "name": "stderr",
     "output_type": "stream",
     "text": [
      "number of non prodcutive CDR3s:\n",
      "\n"
     ]
    },
    {
     "name": "stdout",
     "output_type": "stream",
     "text": [
      "[1] 7\n"
     ]
    },
    {
     "name": "stderr",
     "output_type": "stream",
     "text": [
      "nonproductive aaCDR3 removed\n",
      "\n",
      "number of clones in file:CLONES_TRBICT-06520030C0016D_T_DNA_capTCRseq_S73_L002_1600000.txt\n",
      "\n"
     ]
    },
    {
     "name": "stdout",
     "output_type": "stream",
     "text": [
      "[1] 4\n"
     ]
    },
    {
     "name": "stderr",
     "output_type": "stream",
     "text": [
      "number of non prodcutive CDR3s:\n",
      "\n"
     ]
    },
    {
     "name": "stdout",
     "output_type": "stream",
     "text": [
      "[1] 1\n"
     ]
    },
    {
     "name": "stderr",
     "output_type": "stream",
     "text": [
      "nonproductive aaCDR3 removed\n",
      "\n",
      "number of clones in file:CLONES_TRBICT-06520033C0016D_T_DNA_capTCRseq_S79_L002_1600000.txt\n",
      "\n"
     ]
    },
    {
     "name": "stdout",
     "output_type": "stream",
     "text": [
      "[1] 746\n"
     ]
    },
    {
     "name": "stderr",
     "output_type": "stream",
     "text": [
      "number of non prodcutive CDR3s:\n",
      "\n"
     ]
    },
    {
     "name": "stdout",
     "output_type": "stream",
     "text": [
      "[1] 144\n"
     ]
    },
    {
     "name": "stderr",
     "output_type": "stream",
     "text": [
      "nonproductive aaCDR3 removed\n",
      "\n",
      "number of clones in file:CLONES_TRBICT-06520034C0016D_T_DNA_capTCRseq_S86_L002_1600000.txt\n",
      "\n"
     ]
    },
    {
     "name": "stdout",
     "output_type": "stream",
     "text": [
      "[1] 1\n"
     ]
    },
    {
     "name": "stderr",
     "output_type": "stream",
     "text": [
      "number of clones in file:CLONES_TRBICT-06520038B0024D_T_DNA_capTCRseq_S78_L002_1600000.txt\n",
      "\n"
     ]
    },
    {
     "name": "stdout",
     "output_type": "stream",
     "text": [
      "[1] 10\n"
     ]
    },
    {
     "name": "stderr",
     "output_type": "stream",
     "text": [
      "number of non prodcutive CDR3s:\n",
      "\n"
     ]
    },
    {
     "name": "stdout",
     "output_type": "stream",
     "text": [
      "[1] 1\n"
     ]
    },
    {
     "name": "stderr",
     "output_type": "stream",
     "text": [
      "nonproductive aaCDR3 removed\n",
      "\n",
      "number of clones in file:CLONES_TRBICT-06520046C0016D_T_DNA_capTCRseq_S83_L002_1600000.txt\n",
      "\n"
     ]
    },
    {
     "name": "stdout",
     "output_type": "stream",
     "text": [
      "[1] 34\n"
     ]
    },
    {
     "name": "stderr",
     "output_type": "stream",
     "text": [
      "number of non prodcutive CDR3s:\n",
      "\n"
     ]
    },
    {
     "name": "stdout",
     "output_type": "stream",
     "text": [
      "[1] 4\n"
     ]
    },
    {
     "name": "stderr",
     "output_type": "stream",
     "text": [
      "nonproductive aaCDR3 removed\n",
      "\n",
      "number of clones in file:CLONES_TRBICT-06520049C0019D_T_DNA_capTCRseq_S67_L002_1600000.txt\n",
      "\n"
     ]
    },
    {
     "name": "stdout",
     "output_type": "stream",
     "text": [
      "[1] 22\n"
     ]
    },
    {
     "name": "stderr",
     "output_type": "stream",
     "text": [
      "number of non prodcutive CDR3s:\n",
      "\n"
     ]
    },
    {
     "name": "stdout",
     "output_type": "stream",
     "text": [
      "[1] 4\n"
     ]
    },
    {
     "name": "stderr",
     "output_type": "stream",
     "text": [
      "nonproductive aaCDR3 removed\n",
      "\n",
      "number of clones in file:CLONES_TRBICT-06520058C0044D_T_DNA_capTCRseq_S69_L002_1600000.txt\n",
      "\n"
     ]
    },
    {
     "name": "stdout",
     "output_type": "stream",
     "text": [
      "[1] 220\n"
     ]
    },
    {
     "name": "stderr",
     "output_type": "stream",
     "text": [
      "number of non prodcutive CDR3s:\n",
      "\n"
     ]
    },
    {
     "name": "stdout",
     "output_type": "stream",
     "text": [
      "[1] 50\n"
     ]
    },
    {
     "name": "stderr",
     "output_type": "stream",
     "text": [
      "nonproductive aaCDR3 removed\n",
      "\n",
      "number of clones in file:CLONES_TRBICT-06520059B0021D_T_DNA_capTCRseq_S85_L002_1600000.txt\n",
      "\n"
     ]
    },
    {
     "name": "stdout",
     "output_type": "stream",
     "text": [
      "[1] 43\n"
     ]
    },
    {
     "name": "stderr",
     "output_type": "stream",
     "text": [
      "number of non prodcutive CDR3s:\n",
      "\n"
     ]
    },
    {
     "name": "stdout",
     "output_type": "stream",
     "text": [
      "[1] 12\n"
     ]
    },
    {
     "name": "stderr",
     "output_type": "stream",
     "text": [
      "nonproductive aaCDR3 removed\n",
      "\n",
      "number of clones in file:CLONES_TRBICT-06520063C0041D_T_DNA_capTCRseq_S84_L002_1600000.txt\n",
      "\n"
     ]
    },
    {
     "name": "stdout",
     "output_type": "stream",
     "text": [
      "[1] 24\n"
     ]
    },
    {
     "name": "stderr",
     "output_type": "stream",
     "text": [
      "number of non prodcutive CDR3s:\n",
      "\n"
     ]
    },
    {
     "name": "stdout",
     "output_type": "stream",
     "text": [
      "[1] 7\n"
     ]
    },
    {
     "name": "stderr",
     "output_type": "stream",
     "text": [
      "nonproductive aaCDR3 removed\n",
      "\n",
      "number of clones in file:CLONES_TRBICT-06520067C0016D_T_DNA_capTCRseq_S81_L002_1600000.txt\n",
      "\n"
     ]
    },
    {
     "name": "stdout",
     "output_type": "stream",
     "text": [
      "[1] 36\n"
     ]
    },
    {
     "name": "stderr",
     "output_type": "stream",
     "text": [
      "number of non prodcutive CDR3s:\n",
      "\n"
     ]
    },
    {
     "name": "stdout",
     "output_type": "stream",
     "text": [
      "[1] 7\n"
     ]
    },
    {
     "name": "stderr",
     "output_type": "stream",
     "text": [
      "nonproductive aaCDR3 removed\n",
      "\n",
      "number of clones in file:CLONES_TRBICT-06520068B0021D_T_DNA_capTCRseq_S68_L002_1600000.txt\n",
      "\n"
     ]
    },
    {
     "name": "stdout",
     "output_type": "stream",
     "text": [
      "[1] 17\n"
     ]
    },
    {
     "name": "stderr",
     "output_type": "stream",
     "text": [
      "number of non prodcutive CDR3s:\n",
      "\n"
     ]
    },
    {
     "name": "stdout",
     "output_type": "stream",
     "text": [
      "[1] 1\n"
     ]
    },
    {
     "name": "stderr",
     "output_type": "stream",
     "text": [
      "nonproductive aaCDR3 removed\n",
      "\n",
      "number of clones in file:CLONES_TRBICT-06520070C0016D_T_DNA_capTCRseq_S82_L002_1600000.txt\n",
      "\n"
     ]
    },
    {
     "name": "stdout",
     "output_type": "stream",
     "text": [
      "[1] 6\n"
     ]
    },
    {
     "name": "stderr",
     "output_type": "stream",
     "text": [
      "number of non prodcutive CDR3s:\n",
      "\n"
     ]
    },
    {
     "name": "stdout",
     "output_type": "stream",
     "text": [
      "[1] 3\n"
     ]
    },
    {
     "name": "stderr",
     "output_type": "stream",
     "text": [
      "nonproductive aaCDR3 removed\n",
      "\n",
      "number of clones in file:CLONES_TRBICT-06520071C0018D_T_DNA_capTCRseq_S80_L002_1600000.txt\n",
      "\n"
     ]
    },
    {
     "name": "stdout",
     "output_type": "stream",
     "text": [
      "[1] 42\n"
     ]
    },
    {
     "name": "stderr",
     "output_type": "stream",
     "text": [
      "number of non prodcutive CDR3s:\n",
      "\n"
     ]
    },
    {
     "name": "stdout",
     "output_type": "stream",
     "text": [
      "[1] 11\n"
     ]
    },
    {
     "name": "stderr",
     "output_type": "stream",
     "text": [
      "nonproductive aaCDR3 removed\n",
      "\n",
      "number of clones in file:CLONES_TRBICT-06520074C0018D_T_DNA_capTCRseq_S61_L002_1600000.txt\n",
      "\n"
     ]
    },
    {
     "name": "stdout",
     "output_type": "stream",
     "text": [
      "[1] 69\n"
     ]
    },
    {
     "name": "stderr",
     "output_type": "stream",
     "text": [
      "number of non prodcutive CDR3s:\n",
      "\n"
     ]
    },
    {
     "name": "stdout",
     "output_type": "stream",
     "text": [
      "[1] 21\n"
     ]
    },
    {
     "name": "stderr",
     "output_type": "stream",
     "text": [
      "nonproductive aaCDR3 removed\n",
      "\n",
      "number of clones in file:CLONES_TRBICT-06520078C0026D_T_DNA_capTCRseq_S64_L002_1600000.txt\n",
      "\n"
     ]
    },
    {
     "name": "stdout",
     "output_type": "stream",
     "text": [
      "[1] 1289\n"
     ]
    },
    {
     "name": "stderr",
     "output_type": "stream",
     "text": [
      "number of non prodcutive CDR3s:\n",
      "\n"
     ]
    },
    {
     "name": "stdout",
     "output_type": "stream",
     "text": [
      "[1] 269\n"
     ]
    },
    {
     "name": "stderr",
     "output_type": "stream",
     "text": [
      "nonproductive aaCDR3 removed\n",
      "\n",
      "number of clones in file:CLONES_TRBICT-06520080B0021D_T_DNA_capTCRseq_S74_L002_1600000.txt\n",
      "\n"
     ]
    },
    {
     "name": "stdout",
     "output_type": "stream",
     "text": [
      "[1] 16\n"
     ]
    },
    {
     "name": "stderr",
     "output_type": "stream",
     "text": [
      "number of non prodcutive CDR3s:\n",
      "\n"
     ]
    },
    {
     "name": "stdout",
     "output_type": "stream",
     "text": [
      "[1] 3\n"
     ]
    },
    {
     "name": "stderr",
     "output_type": "stream",
     "text": [
      "nonproductive aaCDR3 removed\n",
      "\n",
      "number of clones in file:CLONES_TRBICT-06520082C0016D_T_DNA_capTCRseq_S62_L002_1600000.txt\n",
      "\n"
     ]
    },
    {
     "name": "stdout",
     "output_type": "stream",
     "text": [
      "[1] 469\n"
     ]
    },
    {
     "name": "stderr",
     "output_type": "stream",
     "text": [
      "number of non prodcutive CDR3s:\n",
      "\n"
     ]
    },
    {
     "name": "stdout",
     "output_type": "stream",
     "text": [
      "[1] 108\n"
     ]
    },
    {
     "name": "stderr",
     "output_type": "stream",
     "text": [
      "nonproductive aaCDR3 removed\n",
      "\n",
      "number of clones in file:CLONES_TRBICT-06520090C0019D_T_DNA_capTCRseq_S65_L002_1600000.txt\n",
      "\n"
     ]
    },
    {
     "name": "stdout",
     "output_type": "stream",
     "text": [
      "[1] 2266\n"
     ]
    },
    {
     "name": "stderr",
     "output_type": "stream",
     "text": [
      "number of non prodcutive CDR3s:\n",
      "\n"
     ]
    },
    {
     "name": "stdout",
     "output_type": "stream",
     "text": [
      "[1] 470\n"
     ]
    },
    {
     "name": "stderr",
     "output_type": "stream",
     "text": [
      "nonproductive aaCDR3 removed\n",
      "\n",
      "number of clones in file:CLONES_TRBICT-6201764804-02_T_DNA_capTCRseq_S39_L002_1600000.txt\n",
      "\n"
     ]
    },
    {
     "name": "stdout",
     "output_type": "stream",
     "text": [
      "[1] 19\n"
     ]
    },
    {
     "name": "stderr",
     "output_type": "stream",
     "text": [
      "number of non prodcutive CDR3s:\n",
      "\n"
     ]
    },
    {
     "name": "stdout",
     "output_type": "stream",
     "text": [
      "[1] 1\n"
     ]
    },
    {
     "name": "stderr",
     "output_type": "stream",
     "text": [
      "nonproductive aaCDR3 removed\n",
      "\n",
      "number of clones in file:CLONES_TRBICT-6201764818-01_T_DNA_capTCRseq_S47_L002_1600000.txt\n",
      "\n"
     ]
    },
    {
     "name": "stdout",
     "output_type": "stream",
     "text": [
      "[1] 25\n"
     ]
    },
    {
     "name": "stderr",
     "output_type": "stream",
     "text": [
      "number of non prodcutive CDR3s:\n",
      "\n"
     ]
    },
    {
     "name": "stdout",
     "output_type": "stream",
     "text": [
      "[1] 7\n"
     ]
    },
    {
     "name": "stderr",
     "output_type": "stream",
     "text": [
      "nonproductive aaCDR3 removed\n",
      "\n",
      "number of clones in file:CLONES_TRBICT-6201764824-02_T_DNA_capTCRseq_S41_L002_1600000.txt\n",
      "\n"
     ]
    },
    {
     "name": "stdout",
     "output_type": "stream",
     "text": [
      "[1] 65\n"
     ]
    },
    {
     "name": "stderr",
     "output_type": "stream",
     "text": [
      "number of non prodcutive CDR3s:\n",
      "\n"
     ]
    },
    {
     "name": "stdout",
     "output_type": "stream",
     "text": [
      "[1] 15\n"
     ]
    },
    {
     "name": "stderr",
     "output_type": "stream",
     "text": [
      "nonproductive aaCDR3 removed\n",
      "\n",
      "number of clones in file:CLONES_TRBICT-6201815172-01_T_DNA_capTCRseq_S48_L002_1600000.txt\n",
      "\n"
     ]
    },
    {
     "name": "stdout",
     "output_type": "stream",
     "text": [
      "[1] 384\n"
     ]
    },
    {
     "name": "stderr",
     "output_type": "stream",
     "text": [
      "number of non prodcutive CDR3s:\n",
      "\n"
     ]
    },
    {
     "name": "stdout",
     "output_type": "stream",
     "text": [
      "[1] 85\n"
     ]
    },
    {
     "name": "stderr",
     "output_type": "stream",
     "text": [
      "nonproductive aaCDR3 removed\n",
      "\n",
      "number of clones in file:CLONES_TRBICT-6201815273-02_T_DNA_capTCRseq_S60_L002_1600000.txt\n",
      "\n"
     ]
    },
    {
     "name": "stdout",
     "output_type": "stream",
     "text": [
      "[1] 23\n"
     ]
    },
    {
     "name": "stderr",
     "output_type": "stream",
     "text": [
      "number of non prodcutive CDR3s:\n",
      "\n"
     ]
    },
    {
     "name": "stdout",
     "output_type": "stream",
     "text": [
      "[1] 7\n"
     ]
    },
    {
     "name": "stderr",
     "output_type": "stream",
     "text": [
      "nonproductive aaCDR3 removed\n",
      "\n",
      "number of clones in file:CLONES_TRBICT-6201855900-02_T_DNA_capTCRseq_S31_L002_1600000.txt\n",
      "\n"
     ]
    },
    {
     "name": "stdout",
     "output_type": "stream",
     "text": [
      "[1] 43\n"
     ]
    },
    {
     "name": "stderr",
     "output_type": "stream",
     "text": [
      "number of non prodcutive CDR3s:\n",
      "\n"
     ]
    },
    {
     "name": "stdout",
     "output_type": "stream",
     "text": [
      "[1] 15\n"
     ]
    },
    {
     "name": "stderr",
     "output_type": "stream",
     "text": [
      "nonproductive aaCDR3 removed\n",
      "\n",
      "number of clones in file:CLONES_TRBICT-6202116713-02_T_DNA_capTCRseq_S59_L002_1600000.txt\n",
      "\n"
     ]
    },
    {
     "name": "stdout",
     "output_type": "stream",
     "text": [
      "[1] 322\n"
     ]
    },
    {
     "name": "stderr",
     "output_type": "stream",
     "text": [
      "number of non prodcutive CDR3s:\n",
      "\n"
     ]
    },
    {
     "name": "stdout",
     "output_type": "stream",
     "text": [
      "[1] 79\n"
     ]
    },
    {
     "name": "stderr",
     "output_type": "stream",
     "text": [
      "nonproductive aaCDR3 removed\n",
      "\n",
      "number of clones in file:CLONES_TRBICT-6202116728-02_T_DNA_capTCRseq_S40_L002_1600000.txt\n",
      "\n"
     ]
    },
    {
     "name": "stdout",
     "output_type": "stream",
     "text": [
      "[1] 8\n"
     ]
    },
    {
     "name": "stderr",
     "output_type": "stream",
     "text": [
      "number of non prodcutive CDR3s:\n",
      "\n"
     ]
    },
    {
     "name": "stdout",
     "output_type": "stream",
     "text": [
      "[1] 4\n"
     ]
    },
    {
     "name": "stderr",
     "output_type": "stream",
     "text": [
      "nonproductive aaCDR3 removed\n",
      "\n",
      "number of clones in file:CLONES_TRBICT-6202116735-01_T_DNA_capTCRseq_S54_L002_1600000.txt\n",
      "\n"
     ]
    },
    {
     "name": "stdout",
     "output_type": "stream",
     "text": [
      "[1] 2\n"
     ]
    },
    {
     "name": "stderr",
     "output_type": "stream",
     "text": [
      "number of non prodcutive CDR3s:\n",
      "\n"
     ]
    },
    {
     "name": "stdout",
     "output_type": "stream",
     "text": [
      "[1] 1\n"
     ]
    },
    {
     "name": "stderr",
     "output_type": "stream",
     "text": [
      "nonproductive aaCDR3 removed\n",
      "\n",
      "number of clones in file:CLONES_TRBICT-6202116747_T_DNA_capTCRseq_S50_L002_1600000.txt\n",
      "\n"
     ]
    },
    {
     "name": "stdout",
     "output_type": "stream",
     "text": [
      "[1] 7\n"
     ]
    },
    {
     "name": "stderr",
     "output_type": "stream",
     "text": [
      "number of non prodcutive CDR3s:\n",
      "\n"
     ]
    },
    {
     "name": "stdout",
     "output_type": "stream",
     "text": [
      "[1] 5\n"
     ]
    },
    {
     "name": "stderr",
     "output_type": "stream",
     "text": [
      "nonproductive aaCDR3 removed\n",
      "\n",
      "number of clones in file:CLONES_TRBICT-6202218209-01_T_DNA_capTCRseq_S58_L002_1600000.txt\n",
      "\n"
     ]
    },
    {
     "name": "stdout",
     "output_type": "stream",
     "text": [
      "[1] 691\n"
     ]
    },
    {
     "name": "stderr",
     "output_type": "stream",
     "text": [
      "number of non prodcutive CDR3s:\n",
      "\n"
     ]
    },
    {
     "name": "stdout",
     "output_type": "stream",
     "text": [
      "[1] 146\n"
     ]
    },
    {
     "name": "stderr",
     "output_type": "stream",
     "text": [
      "nonproductive aaCDR3 removed\n",
      "\n",
      "number of clones in file:CLONES_TRBICT-6202255794-02_T_DNA_capTCRseq_S37_L002_1600000.txt\n",
      "\n"
     ]
    },
    {
     "name": "stdout",
     "output_type": "stream",
     "text": [
      "[1] 211\n"
     ]
    },
    {
     "name": "stderr",
     "output_type": "stream",
     "text": [
      "number of non prodcutive CDR3s:\n",
      "\n"
     ]
    },
    {
     "name": "stdout",
     "output_type": "stream",
     "text": [
      "[1] 60\n"
     ]
    },
    {
     "name": "stderr",
     "output_type": "stream",
     "text": [
      "nonproductive aaCDR3 removed\n",
      "\n",
      "number of clones in file:CLONES_TRBICT-6202261663-02_T_DNA_capTCRseq_S57_L002_1600000.txt\n",
      "\n"
     ]
    },
    {
     "name": "stdout",
     "output_type": "stream",
     "text": [
      "[1] 11\n"
     ]
    },
    {
     "name": "stderr",
     "output_type": "stream",
     "text": [
      "number of non prodcutive CDR3s:\n",
      "\n"
     ]
    },
    {
     "name": "stdout",
     "output_type": "stream",
     "text": [
      "[1] 1\n"
     ]
    },
    {
     "name": "stderr",
     "output_type": "stream",
     "text": [
      "nonproductive aaCDR3 removed\n",
      "\n",
      "number of clones in file:CLONES_TRBICT-6202277503-02_T_DNA_capTCRseq_S35_L002_1600000.txt\n",
      "\n"
     ]
    },
    {
     "name": "stdout",
     "output_type": "stream",
     "text": [
      "[1] 22\n"
     ]
    },
    {
     "name": "stderr",
     "output_type": "stream",
     "text": [
      "number of non prodcutive CDR3s:\n",
      "\n"
     ]
    },
    {
     "name": "stdout",
     "output_type": "stream",
     "text": [
      "[1] 4\n"
     ]
    },
    {
     "name": "stderr",
     "output_type": "stream",
     "text": [
      "nonproductive aaCDR3 removed\n",
      "\n",
      "number of clones in file:CLONES_TRBICT-6202549619-02_T_DNA_capTCRseq_S33_L002_1600000.txt\n",
      "\n"
     ]
    },
    {
     "name": "stdout",
     "output_type": "stream",
     "text": [
      "[1] 17\n"
     ]
    },
    {
     "name": "stderr",
     "output_type": "stream",
     "text": [
      "number of non prodcutive CDR3s:\n",
      "\n"
     ]
    },
    {
     "name": "stdout",
     "output_type": "stream",
     "text": [
      "[1] 4\n"
     ]
    },
    {
     "name": "stderr",
     "output_type": "stream",
     "text": [
      "nonproductive aaCDR3 removed\n",
      "\n",
      "number of clones in file:CLONES_TRBICT-6202785779-02_T_DNA_capTCRseq_S32_L002_1600000.txt\n",
      "\n"
     ]
    },
    {
     "name": "stdout",
     "output_type": "stream",
     "text": [
      "[1] 62\n"
     ]
    },
    {
     "name": "stderr",
     "output_type": "stream",
     "text": [
      "number of non prodcutive CDR3s:\n",
      "\n"
     ]
    },
    {
     "name": "stdout",
     "output_type": "stream",
     "text": [
      "[1] 12\n"
     ]
    },
    {
     "name": "stderr",
     "output_type": "stream",
     "text": [
      "nonproductive aaCDR3 removed\n",
      "\n",
      "number of clones in file:CLONES_TRBICT-6202994429-02_T_DNA_capTCRseq_S56_L002_1600000.txt\n",
      "\n"
     ]
    },
    {
     "name": "stdout",
     "output_type": "stream",
     "text": [
      "[1] 60\n"
     ]
    },
    {
     "name": "stderr",
     "output_type": "stream",
     "text": [
      "number of non prodcutive CDR3s:\n",
      "\n"
     ]
    },
    {
     "name": "stdout",
     "output_type": "stream",
     "text": [
      "[1] 16\n"
     ]
    },
    {
     "name": "stderr",
     "output_type": "stream",
     "text": [
      "nonproductive aaCDR3 removed\n",
      "\n",
      "number of clones in file:CLONES_TRBICT-6203065383-03_T_DNA_capTCRseq_S46_L002_1600000.txt\n",
      "\n"
     ]
    },
    {
     "name": "stdout",
     "output_type": "stream",
     "text": [
      "[1] 338\n"
     ]
    },
    {
     "name": "stderr",
     "output_type": "stream",
     "text": [
      "number of non prodcutive CDR3s:\n",
      "\n"
     ]
    },
    {
     "name": "stdout",
     "output_type": "stream",
     "text": [
      "[1] 71\n"
     ]
    },
    {
     "name": "stderr",
     "output_type": "stream",
     "text": [
      "nonproductive aaCDR3 removed\n",
      "\n",
      "number of clones in file:CLONES_TRBICT-6203065392-02_T_DNA_capTCRseq_S43_L002_1600000.txt\n",
      "\n"
     ]
    },
    {
     "name": "stdout",
     "output_type": "stream",
     "text": [
      "[1] 604\n"
     ]
    },
    {
     "name": "stderr",
     "output_type": "stream",
     "text": [
      "number of non prodcutive CDR3s:\n",
      "\n"
     ]
    },
    {
     "name": "stdout",
     "output_type": "stream",
     "text": [
      "[1] 115\n"
     ]
    },
    {
     "name": "stderr",
     "output_type": "stream",
     "text": [
      "nonproductive aaCDR3 removed\n",
      "\n",
      "number of clones in file:CLONES_TRBICT-6203065431-03_T_DNA_capTCRseq_S38_L002_1600000.txt\n",
      "\n"
     ]
    },
    {
     "name": "stdout",
     "output_type": "stream",
     "text": [
      "[1] 24\n"
     ]
    },
    {
     "name": "stderr",
     "output_type": "stream",
     "text": [
      "number of non prodcutive CDR3s:\n",
      "\n"
     ]
    },
    {
     "name": "stdout",
     "output_type": "stream",
     "text": [
      "[1] 5\n"
     ]
    },
    {
     "name": "stderr",
     "output_type": "stream",
     "text": [
      "nonproductive aaCDR3 removed\n",
      "\n",
      "number of clones in file:CLONES_TRBICT-6203065432-01_T_DNA_capTCRseq_S34_L002_1600000.txt\n",
      "\n"
     ]
    },
    {
     "name": "stdout",
     "output_type": "stream",
     "text": [
      "[1] 12\n"
     ]
    },
    {
     "name": "stderr",
     "output_type": "stream",
     "text": [
      "number of non prodcutive CDR3s:\n",
      "\n"
     ]
    },
    {
     "name": "stdout",
     "output_type": "stream",
     "text": [
      "[1] 6\n"
     ]
    },
    {
     "name": "stderr",
     "output_type": "stream",
     "text": [
      "nonproductive aaCDR3 removed\n",
      "\n",
      "number of clones in file:CLONES_TRBICT-6203065440-02_T_DNA_capTCRseq_S36_L002_1600000.txt\n",
      "\n"
     ]
    },
    {
     "name": "stdout",
     "output_type": "stream",
     "text": [
      "[1] 6\n"
     ]
    },
    {
     "name": "stderr",
     "output_type": "stream",
     "text": [
      "number of non prodcutive CDR3s:\n",
      "\n"
     ]
    },
    {
     "name": "stdout",
     "output_type": "stream",
     "text": [
      "[1] 1\n"
     ]
    },
    {
     "name": "stderr",
     "output_type": "stream",
     "text": [
      "nonproductive aaCDR3 removed\n",
      "\n",
      "number of clones in file:CLONES_TRBICT-6203065456-02_T_DNA_capTCRseq_S52_L002_1600000.txt\n",
      "\n"
     ]
    },
    {
     "name": "stdout",
     "output_type": "stream",
     "text": [
      "[1] 806\n"
     ]
    },
    {
     "name": "stderr",
     "output_type": "stream",
     "text": [
      "number of non prodcutive CDR3s:\n",
      "\n"
     ]
    },
    {
     "name": "stdout",
     "output_type": "stream",
     "text": [
      "[1] 180\n"
     ]
    },
    {
     "name": "stderr",
     "output_type": "stream",
     "text": [
      "nonproductive aaCDR3 removed\n",
      "\n",
      "number of clones in file:CLONES_TRBICT-6204179150-01_T_DNA_capTCRseq_S55_L002_1600000.txt\n",
      "\n"
     ]
    },
    {
     "name": "stdout",
     "output_type": "stream",
     "text": [
      "[1] 90\n"
     ]
    },
    {
     "name": "stderr",
     "output_type": "stream",
     "text": [
      "number of non prodcutive CDR3s:\n",
      "\n"
     ]
    },
    {
     "name": "stdout",
     "output_type": "stream",
     "text": [
      "[1] 16\n"
     ]
    },
    {
     "name": "stderr",
     "output_type": "stream",
     "text": [
      "nonproductive aaCDR3 removed\n",
      "\n",
      "number of clones in file:CLONES_TRBICT-6501799176-02_T_DNA_capTCRseq_S53_L002_1600000.txt\n",
      "\n"
     ]
    },
    {
     "name": "stdout",
     "output_type": "stream",
     "text": [
      "[1] 36\n"
     ]
    },
    {
     "name": "stderr",
     "output_type": "stream",
     "text": [
      "number of non prodcutive CDR3s:\n",
      "\n"
     ]
    },
    {
     "name": "stdout",
     "output_type": "stream",
     "text": [
      "[1] 10\n"
     ]
    },
    {
     "name": "stderr",
     "output_type": "stream",
     "text": [
      "nonproductive aaCDR3 removed\n",
      "\n",
      "number of clones in file:CLONES_TRBICT-6502064156-02_T_DNA_capTCRseq_S51_L002_1600000.txt\n",
      "\n"
     ]
    },
    {
     "name": "stdout",
     "output_type": "stream",
     "text": [
      "[1] 18\n"
     ]
    },
    {
     "name": "stderr",
     "output_type": "stream",
     "text": [
      "number of non prodcutive CDR3s:\n",
      "\n"
     ]
    },
    {
     "name": "stdout",
     "output_type": "stream",
     "text": [
      "[1] 5\n"
     ]
    },
    {
     "name": "stderr",
     "output_type": "stream",
     "text": [
      "nonproductive aaCDR3 removed\n",
      "\n",
      "number of clones in file:CLONES_TRBICT-6502168706_T_DNA_capTCRseq_S42_L002_1600000.txt\n",
      "\n"
     ]
    },
    {
     "name": "stdout",
     "output_type": "stream",
     "text": [
      "[1] 141\n"
     ]
    },
    {
     "name": "stderr",
     "output_type": "stream",
     "text": [
      "number of non prodcutive CDR3s:\n",
      "\n"
     ]
    },
    {
     "name": "stdout",
     "output_type": "stream",
     "text": [
      "[1] 32\n"
     ]
    },
    {
     "name": "stderr",
     "output_type": "stream",
     "text": [
      "nonproductive aaCDR3 removed\n",
      "\n",
      "number of clones in file:CLONES_TRBICT-6502553313-02_T_DNA_capTCRseq_S49_L002_1600000.txt\n",
      "\n"
     ]
    },
    {
     "name": "stdout",
     "output_type": "stream",
     "text": [
      "[1] 244\n"
     ]
    },
    {
     "name": "stderr",
     "output_type": "stream",
     "text": [
      "number of non prodcutive CDR3s:\n",
      "\n"
     ]
    },
    {
     "name": "stdout",
     "output_type": "stream",
     "text": [
      "[1] 65\n"
     ]
    },
    {
     "name": "stderr",
     "output_type": "stream",
     "text": [
      "nonproductive aaCDR3 removed\n",
      "\n"
     ]
    }
   ],
   "source": [
    "TRBclones <- immunelistfx(mountpath, \"TRB\")"
   ]
  },
  {
   "cell_type": "code",
   "execution_count": 19,
   "metadata": {},
   "outputs": [],
   "source": [
    "captcrpath <- paste0(datapath, \"CapTCR_seq/\")"
   ]
  },
  {
   "cell_type": "code",
   "execution_count": 20,
   "metadata": {},
   "outputs": [
    {
     "name": "stderr",
     "output_type": "stream",
     "text": [
      "Warning message in BootstrapFun.abun(x = x, FunName, datatype, B):\n",
      "“The Bootstrap community has only one species. Estimation is not robust.”\n",
      "Warning message in max(x[-1] > 1):\n",
      "“no non-missing arguments to max; returning -Inf”\n",
      "Warning message in BootstrapFun.abun(x = x, FunName, datatype, B):\n",
      "“The Bootstrap community has only one species. Estimation is not robust.”\n"
     ]
    }
   ],
   "source": [
    "Divstats.fx(TRBclones, \"TRB\", \"IND\" , captcrpath)"
   ]
  },
  {
   "cell_type": "code",
   "execution_count": 21,
   "metadata": {},
   "outputs": [],
   "source": [
    "trb <- read.csv(paste0(datapath, \"CapTCR_seq/divstats_TRBIND.csv\"),header = T, stringsAsFactors = F)    "
   ]
  },
  {
   "cell_type": "code",
   "execution_count": 22,
   "metadata": {},
   "outputs": [],
   "source": [
    "trb$sample_id_DNA <- gsub(\"_DNA.*\", \"\",trb$X)"
   ]
  },
  {
   "cell_type": "code",
   "execution_count": 23,
   "metadata": {},
   "outputs": [
    {
     "data": {
      "text/html": [
       "<table class=\"dataframe\">\n",
       "<caption>A data.frame: 6 × 21</caption>\n",
       "<thead>\n",
       "\t<tr><th></th><th scope=col>X</th><th scope=col>TRB</th><th scope=col>Reads</th><th scope=col>CPKR</th><th scope=col>Average_reads</th><th scope=col>VMR</th><th scope=col>Max_reads</th><th scope=col>Singletons</th><th scope=col>Doubletons</th><th scope=col>qD</th><th scope=col>⋯</th><th scope=col>observed_Richness</th><th scope=col>estimated_Richness</th><th scope=col>SE_Richeness</th><th scope=col>observed_Shannon</th><th scope=col>estimated_Shannon</th><th scope=col>SE_Shannon</th><th scope=col>observed_Simpson</th><th scope=col>estimated_Simpson</th><th scope=col>SE_Simpson</th><th scope=col>sample_id_DNA</th></tr>\n",
       "\t<tr><th></th><th scope=col>&lt;chr&gt;</th><th scope=col>&lt;int&gt;</th><th scope=col>&lt;int&gt;</th><th scope=col>&lt;dbl&gt;</th><th scope=col>&lt;dbl&gt;</th><th scope=col>&lt;dbl&gt;</th><th scope=col>&lt;int&gt;</th><th scope=col>&lt;int&gt;</th><th scope=col>&lt;int&gt;</th><th scope=col>&lt;dbl&gt;</th><th scope=col>⋯</th><th scope=col>&lt;int&gt;</th><th scope=col>&lt;dbl&gt;</th><th scope=col>&lt;dbl&gt;</th><th scope=col>&lt;dbl&gt;</th><th scope=col>&lt;dbl&gt;</th><th scope=col>&lt;dbl&gt;</th><th scope=col>&lt;dbl&gt;</th><th scope=col>&lt;dbl&gt;</th><th scope=col>&lt;dbl&gt;</th><th scope=col>&lt;chr&gt;</th></tr>\n",
       "</thead>\n",
       "<tbody>\n",
       "\t<tr><th scope=row>1</th><td>ICT-06520001B0024D_T_DNA_capTCRseq_S63_L002_1600000</td><td> 84</td><td> 4686</td><td>17.925736</td><td> 55.78571</td><td>0.9650138</td><td> 227</td><td> 5</td><td>1</td><td> 88.121</td><td>⋯</td><td> 84</td><td> 96.497</td><td>17.136</td><td> 55.046</td><td> 55.606</td><td>0.638</td><td> 43.746</td><td> 44.149</td><td>0.727</td><td>ICT-06520001B0024D_T</td></tr>\n",
       "\t<tr><th scope=row>2</th><td>ICT-06520004C0016D_T_DNA_capTCRseq_S76_L002_1600000</td><td>283</td><td>39283</td><td> 7.204134</td><td>138.80919</td><td>0.9002639</td><td> 680</td><td>10</td><td>4</td><td>289.883</td><td>⋯</td><td>283</td><td>295.500</td><td>10.680</td><td>188.541</td><td>189.259</td><td>0.656</td><td>156.560</td><td>157.183</td><td>0.791</td><td>ICT-06520004C0016D_T</td></tr>\n",
       "\t<tr><th scope=row>3</th><td>ICT-06520007C0016D_T_DNA_capTCRseq_S71_L002_1600000</td><td>231</td><td>21190</td><td>10.901369</td><td> 91.73160</td><td>2.5690567</td><td>2739</td><td>10</td><td>4</td><td>237.883</td><td>⋯</td><td>231</td><td>243.499</td><td>10.680</td><td> 79.329</td><td> 79.794</td><td>0.856</td><td> 30.509</td><td> 30.552</td><td>0.572</td><td>ICT-06520007C0016D_T</td></tr>\n",
       "\t<tr><th scope=row>4</th><td>ICT-06520010B0021D_T_DNA_capTCRseq_S66_L002_1600000</td><td> 38</td><td> 3988</td><td> 9.528586</td><td>104.94737</td><td>0.7413485</td><td> 359</td><td> 0</td><td>0</td><td> 38.000</td><td>⋯</td><td> 38</td><td> 38.000</td><td> 0.030</td><td> 30.089</td><td> 30.229</td><td>0.318</td><td> 24.754</td><td> 24.902</td><td>0.451</td><td>ICT-06520010B0021D_T</td></tr>\n",
       "\t<tr><th scope=row>5</th><td>ICT-06520011B0021D_T_DNA_capTCRseq_S70_L002_1600000</td><td> 11</td><td>  511</td><td>21.526419</td><td> 46.45455</td><td>0.8501907</td><td> 135</td><td> 1</td><td>0</td><td> 11.000</td><td>⋯</td><td> 11</td><td> 11.000</td><td> 0.482</td><td>  7.981</td><td>  8.062</td><td>0.239</td><td>  6.638</td><td>  6.712</td><td>0.316</td><td>ICT-06520011B0021D_T</td></tr>\n",
       "\t<tr><th scope=row>6</th><td>ICT-06520017C0016D_T_DNA_capTCRseq_S72_L002_1600000</td><td>  5</td><td>  495</td><td>10.101010</td><td> 99.00000</td><td>0.7836262</td><td> 224</td><td> 0</td><td>0</td><td>  5.000</td><td>⋯</td><td>  5</td><td>  5.000</td><td> 0.000</td><td>  4.002</td><td>  4.018</td><td>0.118</td><td>  3.353</td><td>  3.369</td><td>0.155</td><td>ICT-06520017C0016D_T</td></tr>\n",
       "</tbody>\n",
       "</table>\n"
      ],
      "text/latex": [
       "A data.frame: 6 × 21\n",
       "\\begin{tabular}{r|lllllllllllllllllllll}\n",
       "  & X & TRB & Reads & CPKR & Average\\_reads & VMR & Max\\_reads & Singletons & Doubletons & qD & ⋯ & observed\\_Richness & estimated\\_Richness & SE\\_Richeness & observed\\_Shannon & estimated\\_Shannon & SE\\_Shannon & observed\\_Simpson & estimated\\_Simpson & SE\\_Simpson & sample\\_id\\_DNA\\\\\n",
       "  & <chr> & <int> & <int> & <dbl> & <dbl> & <dbl> & <int> & <int> & <int> & <dbl> & ⋯ & <int> & <dbl> & <dbl> & <dbl> & <dbl> & <dbl> & <dbl> & <dbl> & <dbl> & <chr>\\\\\n",
       "\\hline\n",
       "\t1 & ICT-06520001B0024D\\_T\\_DNA\\_capTCRseq\\_S63\\_L002\\_1600000 &  84 &  4686 & 17.925736 &  55.78571 & 0.9650138 &  227 &  5 & 1 &  88.121 & ⋯ &  84 &  96.497 & 17.136 &  55.046 &  55.606 & 0.638 &  43.746 &  44.149 & 0.727 & ICT-06520001B0024D\\_T\\\\\n",
       "\t2 & ICT-06520004C0016D\\_T\\_DNA\\_capTCRseq\\_S76\\_L002\\_1600000 & 283 & 39283 &  7.204134 & 138.80919 & 0.9002639 &  680 & 10 & 4 & 289.883 & ⋯ & 283 & 295.500 & 10.680 & 188.541 & 189.259 & 0.656 & 156.560 & 157.183 & 0.791 & ICT-06520004C0016D\\_T\\\\\n",
       "\t3 & ICT-06520007C0016D\\_T\\_DNA\\_capTCRseq\\_S71\\_L002\\_1600000 & 231 & 21190 & 10.901369 &  91.73160 & 2.5690567 & 2739 & 10 & 4 & 237.883 & ⋯ & 231 & 243.499 & 10.680 &  79.329 &  79.794 & 0.856 &  30.509 &  30.552 & 0.572 & ICT-06520007C0016D\\_T\\\\\n",
       "\t4 & ICT-06520010B0021D\\_T\\_DNA\\_capTCRseq\\_S66\\_L002\\_1600000 &  38 &  3988 &  9.528586 & 104.94737 & 0.7413485 &  359 &  0 & 0 &  38.000 & ⋯ &  38 &  38.000 &  0.030 &  30.089 &  30.229 & 0.318 &  24.754 &  24.902 & 0.451 & ICT-06520010B0021D\\_T\\\\\n",
       "\t5 & ICT-06520011B0021D\\_T\\_DNA\\_capTCRseq\\_S70\\_L002\\_1600000 &  11 &   511 & 21.526419 &  46.45455 & 0.8501907 &  135 &  1 & 0 &  11.000 & ⋯ &  11 &  11.000 &  0.482 &   7.981 &   8.062 & 0.239 &   6.638 &   6.712 & 0.316 & ICT-06520011B0021D\\_T\\\\\n",
       "\t6 & ICT-06520017C0016D\\_T\\_DNA\\_capTCRseq\\_S72\\_L002\\_1600000 &   5 &   495 & 10.101010 &  99.00000 & 0.7836262 &  224 &  0 & 0 &   5.000 & ⋯ &   5 &   5.000 &  0.000 &   4.002 &   4.018 & 0.118 &   3.353 &   3.369 & 0.155 & ICT-06520017C0016D\\_T\\\\\n",
       "\\end{tabular}\n"
      ],
      "text/markdown": [
       "\n",
       "A data.frame: 6 × 21\n",
       "\n",
       "| <!--/--> | X &lt;chr&gt; | TRB &lt;int&gt; | Reads &lt;int&gt; | CPKR &lt;dbl&gt; | Average_reads &lt;dbl&gt; | VMR &lt;dbl&gt; | Max_reads &lt;int&gt; | Singletons &lt;int&gt; | Doubletons &lt;int&gt; | qD &lt;dbl&gt; | ⋯ ⋯ | observed_Richness &lt;int&gt; | estimated_Richness &lt;dbl&gt; | SE_Richeness &lt;dbl&gt; | observed_Shannon &lt;dbl&gt; | estimated_Shannon &lt;dbl&gt; | SE_Shannon &lt;dbl&gt; | observed_Simpson &lt;dbl&gt; | estimated_Simpson &lt;dbl&gt; | SE_Simpson &lt;dbl&gt; | sample_id_DNA &lt;chr&gt; |\n",
       "|---|---|---|---|---|---|---|---|---|---|---|---|---|---|---|---|---|---|---|---|---|---|\n",
       "| 1 | ICT-06520001B0024D_T_DNA_capTCRseq_S63_L002_1600000 |  84 |  4686 | 17.925736 |  55.78571 | 0.9650138 |  227 |  5 | 1 |  88.121 | ⋯ |  84 |  96.497 | 17.136 |  55.046 |  55.606 | 0.638 |  43.746 |  44.149 | 0.727 | ICT-06520001B0024D_T |\n",
       "| 2 | ICT-06520004C0016D_T_DNA_capTCRseq_S76_L002_1600000 | 283 | 39283 |  7.204134 | 138.80919 | 0.9002639 |  680 | 10 | 4 | 289.883 | ⋯ | 283 | 295.500 | 10.680 | 188.541 | 189.259 | 0.656 | 156.560 | 157.183 | 0.791 | ICT-06520004C0016D_T |\n",
       "| 3 | ICT-06520007C0016D_T_DNA_capTCRseq_S71_L002_1600000 | 231 | 21190 | 10.901369 |  91.73160 | 2.5690567 | 2739 | 10 | 4 | 237.883 | ⋯ | 231 | 243.499 | 10.680 |  79.329 |  79.794 | 0.856 |  30.509 |  30.552 | 0.572 | ICT-06520007C0016D_T |\n",
       "| 4 | ICT-06520010B0021D_T_DNA_capTCRseq_S66_L002_1600000 |  38 |  3988 |  9.528586 | 104.94737 | 0.7413485 |  359 |  0 | 0 |  38.000 | ⋯ |  38 |  38.000 |  0.030 |  30.089 |  30.229 | 0.318 |  24.754 |  24.902 | 0.451 | ICT-06520010B0021D_T |\n",
       "| 5 | ICT-06520011B0021D_T_DNA_capTCRseq_S70_L002_1600000 |  11 |   511 | 21.526419 |  46.45455 | 0.8501907 |  135 |  1 | 0 |  11.000 | ⋯ |  11 |  11.000 |  0.482 |   7.981 |   8.062 | 0.239 |   6.638 |   6.712 | 0.316 | ICT-06520011B0021D_T |\n",
       "| 6 | ICT-06520017C0016D_T_DNA_capTCRseq_S72_L002_1600000 |   5 |   495 | 10.101010 |  99.00000 | 0.7836262 |  224 |  0 | 0 |   5.000 | ⋯ |   5 |   5.000 |  0.000 |   4.002 |   4.018 | 0.118 |   3.353 |   3.369 | 0.155 | ICT-06520017C0016D_T |\n",
       "\n"
      ],
      "text/plain": [
       "  X                                                   TRB Reads CPKR     \n",
       "1 ICT-06520001B0024D_T_DNA_capTCRseq_S63_L002_1600000  84  4686 17.925736\n",
       "2 ICT-06520004C0016D_T_DNA_capTCRseq_S76_L002_1600000 283 39283  7.204134\n",
       "3 ICT-06520007C0016D_T_DNA_capTCRseq_S71_L002_1600000 231 21190 10.901369\n",
       "4 ICT-06520010B0021D_T_DNA_capTCRseq_S66_L002_1600000  38  3988  9.528586\n",
       "5 ICT-06520011B0021D_T_DNA_capTCRseq_S70_L002_1600000  11   511 21.526419\n",
       "6 ICT-06520017C0016D_T_DNA_capTCRseq_S72_L002_1600000   5   495 10.101010\n",
       "  Average_reads VMR       Max_reads Singletons Doubletons qD      ⋯\n",
       "1  55.78571     0.9650138  227       5         1           88.121 ⋯\n",
       "2 138.80919     0.9002639  680      10         4          289.883 ⋯\n",
       "3  91.73160     2.5690567 2739      10         4          237.883 ⋯\n",
       "4 104.94737     0.7413485  359       0         0           38.000 ⋯\n",
       "5  46.45455     0.8501907  135       1         0           11.000 ⋯\n",
       "6  99.00000     0.7836262  224       0         0            5.000 ⋯\n",
       "  observed_Richness estimated_Richness SE_Richeness observed_Shannon\n",
       "1  84                96.497            17.136        55.046         \n",
       "2 283               295.500            10.680       188.541         \n",
       "3 231               243.499            10.680        79.329         \n",
       "4  38                38.000             0.030        30.089         \n",
       "5  11                11.000             0.482         7.981         \n",
       "6   5                 5.000             0.000         4.002         \n",
       "  estimated_Shannon SE_Shannon observed_Simpson estimated_Simpson SE_Simpson\n",
       "1  55.606           0.638       43.746           44.149           0.727     \n",
       "2 189.259           0.656      156.560          157.183           0.791     \n",
       "3  79.794           0.856       30.509           30.552           0.572     \n",
       "4  30.229           0.318       24.754           24.902           0.451     \n",
       "5   8.062           0.239        6.638            6.712           0.316     \n",
       "6   4.018           0.118        3.353            3.369           0.155     \n",
       "  sample_id_DNA       \n",
       "1 ICT-06520001B0024D_T\n",
       "2 ICT-06520004C0016D_T\n",
       "3 ICT-06520007C0016D_T\n",
       "4 ICT-06520010B0021D_T\n",
       "5 ICT-06520011B0021D_T\n",
       "6 ICT-06520017C0016D_T"
      ]
     },
     "metadata": {},
     "output_type": "display_data"
    }
   ],
   "source": [
    "head(trb)"
   ]
  },
  {
   "cell_type": "code",
   "execution_count": 24,
   "metadata": {},
   "outputs": [],
   "source": [
    "trb_metadata <- merge(metadata_tcr, trb, by = \"sample_id_DNA\")"
   ]
  },
  {
   "cell_type": "code",
   "execution_count": 25,
   "metadata": {},
   "outputs": [
    {
     "data": {
      "text/html": [
       "<table class=\"dataframe\">\n",
       "<caption>A data.frame: 45 × 23</caption>\n",
       "<thead>\n",
       "\t<tr><th scope=col>sample_id_DNA</th><th scope=col>Patient.ID</th><th scope=col>sample_id</th><th scope=col>X</th><th scope=col>TRB</th><th scope=col>Reads</th><th scope=col>CPKR</th><th scope=col>Average_reads</th><th scope=col>VMR</th><th scope=col>Max_reads</th><th scope=col>⋯</th><th scope=col>Sample_Coverage</th><th scope=col>observed_Richness</th><th scope=col>estimated_Richness</th><th scope=col>SE_Richeness</th><th scope=col>observed_Shannon</th><th scope=col>estimated_Shannon</th><th scope=col>SE_Shannon</th><th scope=col>observed_Simpson</th><th scope=col>estimated_Simpson</th><th scope=col>SE_Simpson</th></tr>\n",
       "\t<tr><th scope=col>&lt;chr&gt;</th><th scope=col>&lt;int&gt;</th><th scope=col>&lt;chr&gt;</th><th scope=col>&lt;chr&gt;</th><th scope=col>&lt;int&gt;</th><th scope=col>&lt;int&gt;</th><th scope=col>&lt;dbl&gt;</th><th scope=col>&lt;dbl&gt;</th><th scope=col>&lt;dbl&gt;</th><th scope=col>&lt;int&gt;</th><th scope=col>⋯</th><th scope=col>&lt;dbl&gt;</th><th scope=col>&lt;int&gt;</th><th scope=col>&lt;dbl&gt;</th><th scope=col>&lt;dbl&gt;</th><th scope=col>&lt;dbl&gt;</th><th scope=col>&lt;dbl&gt;</th><th scope=col>&lt;dbl&gt;</th><th scope=col>&lt;dbl&gt;</th><th scope=col>&lt;dbl&gt;</th><th scope=col>&lt;dbl&gt;</th></tr>\n",
       "</thead>\n",
       "<tbody>\n",
       "\t<tr><td>ICT-06520004C0016D_T</td><td>11010201</td><td>06520004C0018R</td><td>ICT-06520004C0016D_T_DNA_capTCRseq_S76_L002_1600000</td><td> 283</td><td>39283</td><td>  7.204134</td><td>138.809187</td><td>0.9002639</td><td> 680</td><td>⋯</td><td>1.000</td><td> 283</td><td> 295.500</td><td>10.680</td><td>188.541</td><td>189.259</td><td>0.656</td><td>156.560</td><td>157.183</td><td> 0.791</td></tr>\n",
       "\t<tr><td>ICT-06520007C0016D_T</td><td>11010604</td><td>06520007C0018R</td><td>ICT-06520007C0016D_T_DNA_capTCRseq_S71_L002_1600000</td><td> 231</td><td>21190</td><td> 10.901369</td><td> 91.731602</td><td>2.5690567</td><td>2739</td><td>⋯</td><td>1.000</td><td> 231</td><td> 243.499</td><td>10.680</td><td> 79.329</td><td> 79.794</td><td>0.856</td><td> 30.509</td><td> 30.552</td><td> 0.572</td></tr>\n",
       "\t<tr><td>ICT-06520010B0021D_T</td><td>11011002</td><td>06520010B0023R</td><td>ICT-06520010B0021D_T_DNA_capTCRseq_S66_L002_1600000</td><td>  38</td><td> 3988</td><td>  9.528586</td><td>104.947368</td><td>0.7413485</td><td> 359</td><td>⋯</td><td>1.000</td><td>  38</td><td>  38.000</td><td> 0.030</td><td> 30.089</td><td> 30.229</td><td>0.318</td><td> 24.754</td><td> 24.902</td><td> 0.451</td></tr>\n",
       "\t<tr><td>ICT-06520011B0021D_T</td><td>11010103</td><td>06520011B0023R</td><td>ICT-06520011B0021D_T_DNA_capTCRseq_S70_L002_1600000</td><td>  11</td><td>  511</td><td> 21.526419</td><td> 46.454545</td><td>0.8501907</td><td> 135</td><td>⋯</td><td>1.000</td><td>  11</td><td>  11.000</td><td> 0.482</td><td>  7.981</td><td>  8.062</td><td>0.239</td><td>  6.638</td><td>  6.712</td><td> 0.316</td></tr>\n",
       "\t<tr><td>ICT-06520017C0016D_T</td><td>11010503</td><td>06520017C0018R</td><td>ICT-06520017C0016D_T_DNA_capTCRseq_S72_L002_1600000</td><td>   5</td><td>  495</td><td> 10.101010</td><td> 99.000000</td><td>0.7836262</td><td> 224</td><td>⋯</td><td>1.000</td><td>   5</td><td>   5.000</td><td> 0.000</td><td>  4.002</td><td>  4.018</td><td>0.118</td><td>  3.353</td><td>  3.369</td><td> 0.155</td></tr>\n",
       "\t<tr><td>ICT-06520026C0012D_T</td><td>11011003</td><td>06520026C0014R</td><td>ICT-06520026C0012D_T_DNA_capTCRseq_S75_L002_1600000</td><td>  49</td><td>12419</td><td>  3.945567</td><td>253.448980</td><td>2.5840139</td><td>3619</td><td>⋯</td><td>1.000</td><td>  49</td><td>  50.000</td><td> 2.328</td><td> 13.925</td><td> 13.953</td><td>0.199</td><td>  6.498</td><td>  6.501</td><td> 0.100</td></tr>\n",
       "\t<tr><td>ICT-06520030C0016D_T</td><td>11010507</td><td>06520030C0018R</td><td>ICT-06520030C0016D_T_DNA_capTCRseq_S73_L002_1600000</td><td>   3</td><td>  231</td><td> 12.987013</td><td> 77.000000</td><td>0.8583227</td><td> 153</td><td>⋯</td><td>1.000</td><td>   3</td><td>   3.000</td><td> 0.000</td><td>  2.386</td><td>  2.396</td><td>0.099</td><td>  2.012</td><td>  2.021</td><td> 0.125</td></tr>\n",
       "\t<tr><td>ICT-06520033C0016D_T</td><td>11010203</td><td>06520033C0018R</td><td>ICT-06520033C0016D_T_DNA_capTCRseq_S79_L002_1600000</td><td> 602</td><td>35678</td><td> 16.873143</td><td> 59.265781</td><td>1.0509233</td><td> 496</td><td>⋯</td><td>1.000</td><td> 602</td><td> 630.124</td><td>13.529</td><td>380.961</td><td>384.422</td><td>1.676</td><td>286.311</td><td>288.620</td><td> 2.287</td></tr>\n",
       "\t<tr><td>ICT-06520046C0016D_T</td><td>11010310</td><td>06520046C0018R</td><td>ICT-06520046C0016D_T_DNA_capTCRseq_S83_L002_1600000</td><td>  30</td><td> 3056</td><td>  9.816754</td><td>101.866667</td><td>0.7060053</td><td> 286</td><td>⋯</td><td>1.000</td><td>  30</td><td>  30.000</td><td> 0.218</td><td> 23.439</td><td> 23.551</td><td>0.280</td><td> 20.245</td><td> 20.374</td><td> 0.336</td></tr>\n",
       "\t<tr><td>ICT-06520058C0044D_T</td><td>11010706</td><td>06520058C0045R</td><td>ICT-06520058C0044D_T_DNA_capTCRseq_S69_L002_1600000</td><td> 170</td><td>11695</td><td> 14.536127</td><td> 68.794118</td><td>1.1051789</td><td> 411</td><td>⋯</td><td>0.999</td><td> 170</td><td> 186.899</td><td>12.723</td><td>101.164</td><td>101.992</td><td>0.784</td><td> 76.776</td><td> 77.277</td><td> 0.924</td></tr>\n",
       "\t<tr><td>ICT-06520059B0021D_T</td><td>11010108</td><td>06520059B0023R</td><td>ICT-06520059B0021D_T_DNA_capTCRseq_S85_L002_1600000</td><td>  31</td><td> 8351</td><td>  3.712130</td><td>269.387097</td><td>0.8698389</td><td> 961</td><td>⋯</td><td>1.000</td><td>  31</td><td>  31.000</td><td> 0.191</td><td> 21.531</td><td> 21.570</td><td>0.172</td><td> 17.896</td><td> 17.932</td><td> 0.201</td></tr>\n",
       "\t<tr><td>ICT-06520067C0016D_T</td><td>11010102</td><td>06520067C0018R</td><td>ICT-06520067C0016D_T_DNA_capTCRseq_S81_L002_1600000</td><td>  29</td><td> 2810</td><td> 10.320285</td><td> 96.896552</td><td>0.9190077</td><td> 256</td><td>⋯</td><td>1.000</td><td>  29</td><td>  30.999</td><td> 3.740</td><td> 18.420</td><td> 18.522</td><td>0.247</td><td> 15.974</td><td> 16.060</td><td> 0.230</td></tr>\n",
       "\t<tr><td>ICT-06520068B0021D_T</td><td>11010709</td><td>06520068B0023R</td><td>ICT-06520068B0021D_T_DNA_capTCRseq_S68_L002_1600000</td><td>  16</td><td> 2741</td><td>  5.837286</td><td>171.312500</td><td>0.9078026</td><td> 541</td><td>⋯</td><td>1.000</td><td>  16</td><td>  16.000</td><td> 0.342</td><td> 10.993</td><td> 11.024</td><td>0.142</td><td>  9.026</td><td>  9.053</td><td> 0.189</td></tr>\n",
       "\t<tr><td>ICT-06520070C0016D_T</td><td>11010306</td><td>06520070C0018R</td><td>ICT-06520070C0016D_T_DNA_capTCRseq_S82_L002_1600000</td><td>   3</td><td>  702</td><td>  4.273504</td><td>234.000000</td><td>0.4159154</td><td> 298</td><td>⋯</td><td>1.000</td><td>   3</td><td>   3.000</td><td> 0.000</td><td>  2.813</td><td>  2.817</td><td>0.035</td><td>  2.690</td><td>  2.696</td><td> 0.048</td></tr>\n",
       "\t<tr><td>ICT-06520071C0018D_T</td><td>11010307</td><td>06520071C0020R</td><td>ICT-06520071C0018D_T_DNA_capTCRseq_S80_L002_1600000</td><td>  31</td><td> 2789</td><td> 11.115095</td><td> 89.967742</td><td>1.0915321</td><td> 366</td><td>⋯</td><td>1.000</td><td>  31</td><td>  31.000</td><td> 0.160</td><td> 19.177</td><td> 19.281</td><td>0.306</td><td> 14.398</td><td> 14.468</td><td> 0.350</td></tr>\n",
       "\t<tr><td>ICT-06520078C0026D_T</td><td>11010902</td><td>06520078C0028R</td><td>ICT-06520078C0026D_T_DNA_capTCRseq_S64_L002_1600000</td><td>1020</td><td>44703</td><td> 22.817261</td><td> 43.826471</td><td>1.0128827</td><td> 608</td><td>⋯</td><td>0.999</td><td>1020</td><td>1098.891</td><td>32.452</td><td>697.247</td><td>705.981</td><td>2.315</td><td>503.722</td><td>509.452</td><td> 4.943</td></tr>\n",
       "\t<tr><td>ICT-06520080B0021D_T</td><td>11010611</td><td>06520080B0023R</td><td>ICT-06520080B0021D_T_DNA_capTCRseq_S74_L002_1600000</td><td>  13</td><td>  715</td><td> 18.181818</td><td> 55.000000</td><td>1.0480994</td><td> 188</td><td>⋯</td><td>1.000</td><td>  13</td><td>  13.000</td><td> 0.136</td><td>  8.343</td><td>  8.414</td><td>0.248</td><td>  6.455</td><td>  6.504</td><td> 0.276</td></tr>\n",
       "\t<tr><td>ICT-06520082C0016D_T</td><td>11010806</td><td>06520082C0018R</td><td>ICT-06520082C0016D_T_DNA_capTCRseq_S62_L002_1600000</td><td> 361</td><td>24294</td><td> 14.859636</td><td> 67.296399</td><td>5.8240547</td><td>6850</td><td>⋯</td><td>1.000</td><td> 361</td><td> 376.749</td><td> 8.984</td><td> 54.879</td><td> 55.319</td><td>0.863</td><td> 10.366</td><td> 10.370</td><td> 0.157</td></tr>\n",
       "\t<tr><td>ICT-6201764804-02_T </td><td>11010309</td><td>06520045C0027R</td><td>ICT-6201764804-02_T_DNA_capTCRseq_S39_L002_1600000 </td><td>  18</td><td>  560</td><td> 32.142857</td><td> 31.111111</td><td>0.9044383</td><td>  96</td><td>⋯</td><td>0.999</td><td>  18</td><td>  19.996</td><td> 3.735</td><td> 11.873</td><td> 12.087</td><td>0.364</td><td> 10.155</td><td> 10.324</td><td> 0.413</td></tr>\n",
       "\t<tr><td>ICT-6201764818-01_T </td><td>11010601</td><td>06520001B0023R</td><td>ICT-6201764818-01_T_DNA_capTCRseq_S47_L002_1600000 </td><td>  18</td><td>   72</td><td>250.000000</td><td>  4.000000</td><td>0.9115275</td><td>  17</td><td>⋯</td><td>0.997</td><td>  18</td><td>  19.109</td><td> 1.749</td><td> 13.553</td><td> 15.562</td><td>1.481</td><td> 10.086</td><td> 11.566</td><td> 2.101</td></tr>\n",
       "\t<tr><td>ICT-6201764824-02_T </td><td>11010701</td><td>06520005C0017R</td><td>ICT-6201764824-02_T_DNA_capTCRseq_S41_L002_1600000 </td><td>  50</td><td> 1011</td><td> 49.455984</td><td> 20.220000</td><td>1.8685204</td><td> 164</td><td>⋯</td><td>1.000</td><td>  50</td><td>  50.727</td><td> 1.141</td><td> 17.635</td><td> 18.100</td><td>0.696</td><td> 11.308</td><td> 11.425</td><td> 0.427</td></tr>\n",
       "\t<tr><td>ICT-6201815172-01_T </td><td>11010401</td><td>06520060B0022R</td><td>ICT-6201815172-01_T_DNA_capTCRseq_S48_L002_1600000 </td><td> 299</td><td> 1503</td><td>198.935462</td><td>  5.026756</td><td>2.1815977</td><td> 167</td><td>⋯</td><td>0.992</td><td> 299</td><td> 337.735</td><td>12.976</td><td>159.053</td><td>179.940</td><td>6.014</td><td> 52.059</td><td> 53.891</td><td> 4.594</td></tr>\n",
       "\t<tr><td>ICT-6201815273-02_T </td><td>11010609</td><td>06520062C0017R</td><td>ICT-6201815273-02_T_DNA_capTCRseq_S60_L002_1600000 </td><td>  16</td><td> 1273</td><td> 12.568735</td><td> 79.562500</td><td>0.9521978</td><td> 222</td><td>⋯</td><td>1.000</td><td>  16</td><td>  16.000</td><td> 0.135</td><td> 10.309</td><td> 10.370</td><td>0.205</td><td>  8.649</td><td>  8.701</td><td> 0.213</td></tr>\n",
       "\t<tr><td>ICT-6201855900-02_T </td><td>11010703</td><td>06520042B0023R</td><td>ICT-6201855900-02_T_DNA_capTCRseq_S31_L002_1600000 </td><td>  28</td><td>  112</td><td>250.000000</td><td>  4.000000</td><td>0.9077853</td><td>  14</td><td>⋯</td><td>0.996</td><td>  28</td><td>  30.230</td><td> 2.483</td><td> 20.160</td><td> 23.307</td><td>1.826</td><td> 15.602</td><td> 17.965</td><td> 1.875</td></tr>\n",
       "\t<tr><td>ICT-6202116713-02_T </td><td>11010303</td><td>06520019C0023R</td><td>ICT-6202116713-02_T_DNA_capTCRseq_S59_L002_1600000 </td><td> 243</td><td>14321</td><td> 16.968089</td><td> 58.934156</td><td>1.0142093</td><td> 405</td><td>⋯</td><td>1.000</td><td> 243</td><td> 259.899</td><td>12.723</td><td>159.184</td><td>160.660</td><td>1.099</td><td>120.036</td><td>121.042</td><td> 1.396</td></tr>\n",
       "\t<tr><td>ICT-6202116728-02_T </td><td>11010707</td><td>06520049C0018R</td><td>ICT-6202116728-02_T_DNA_capTCRseq_S40_L002_1600000 </td><td>   4</td><td>   14</td><td>285.714286</td><td>  3.500000</td><td>0.6801360</td><td>   6</td><td>⋯</td><td>0.992</td><td>   4</td><td>   4.464</td><td> 1.242</td><td>  3.311</td><td>  3.816</td><td>0.862</td><td>  2.970</td><td>  3.500</td><td> 0.802</td></tr>\n",
       "\t<tr><td>ICT-6202116735-01_T </td><td>11010308</td><td>06520038B0023R</td><td>ICT-6202116735-01_T_DNA_capTCRseq_S54_L002_1600000 </td><td>   1</td><td>    3</td><td>333.333333</td><td>  3.000000</td><td>       NA</td><td>   3</td><td>⋯</td><td>1.000</td><td>   1</td><td>   1.000</td><td> 0.200</td><td>  1.000</td><td>  1.000</td><td>0.000</td><td>  1.000</td><td>  1.000</td><td> 0.000</td></tr>\n",
       "\t<tr><td>ICT-6202218209-01_T </td><td>11010208</td><td>06520099B0017R</td><td>ICT-6202218209-01_T_DNA_capTCRseq_S58_L002_1600000 </td><td> 545</td><td>45756</td><td> 11.911006</td><td> 83.955963</td><td>0.8991825</td><td> 437</td><td>⋯</td><td>1.000</td><td> 545</td><td> 588.681</td><td>21.525</td><td>368.103</td><td>370.519</td><td>1.226</td><td>301.597</td><td>303.592</td><td> 1.557</td></tr>\n",
       "\t<tr><td>ICT-6202255794-02_T </td><td>11010508</td><td>06520072C0017R</td><td>ICT-6202255794-02_T_DNA_capTCRseq_S37_L002_1600000 </td><td> 151</td><td> 1420</td><td>106.338028</td><td>  9.403974</td><td>2.5727996</td><td> 195</td><td>⋯</td><td>0.998</td><td> 151</td><td> 162.870</td><td> 6.022</td><td> 48.588</td><td> 51.723</td><td>1.999</td><td> 19.933</td><td> 20.202</td><td> 1.055</td></tr>\n",
       "\t<tr><td>ICT-6202261663-02_T </td><td>11010504</td><td>06520020C0017R</td><td>ICT-6202261663-02_T_DNA_capTCRseq_S57_L002_1600000 </td><td>  10</td><td>  363</td><td> 27.548209</td><td> 36.300000</td><td>1.0682842</td><td> 127</td><td>⋯</td><td>1.000</td><td>  10</td><td>  10.000</td><td> 0.528</td><td>  6.331</td><td>  6.412</td><td>0.241</td><td>  4.933</td><td>  4.987</td><td> 0.306</td></tr>\n",
       "\t<tr><td>ICT-6202277503-02_T </td><td>11011201</td><td>06520105C0017R</td><td>ICT-6202277503-02_T_DNA_capTCRseq_S35_L002_1600000 </td><td>  18</td><td>  285</td><td> 63.157895</td><td> 15.833333</td><td>1.3989404</td><td>  63</td><td>⋯</td><td>1.000</td><td>  18</td><td>  18.399</td><td> 0.865</td><td>  8.170</td><td>  8.442</td><td>0.517</td><td>  6.320</td><td>  6.440</td><td> 0.346</td></tr>\n",
       "\t<tr><td>ICT-6202549619-02_T </td><td>11011005</td><td>06520035C0021R</td><td>ICT-6202549619-02_T_DNA_capTCRseq_S33_L002_1600000 </td><td>  13</td><td>   61</td><td>213.114754</td><td>  4.692308</td><td>0.6356908</td><td>  11</td><td>⋯</td><td>0.988</td><td>  13</td><td>  14.967</td><td> 3.685</td><td> 10.787</td><td> 12.208</td><td>1.090</td><td>  9.468</td><td> 11.024</td><td> 1.307</td></tr>\n",
       "\t<tr><td>ICT-6202785779-02_T </td><td>11010710</td><td>06520055C0018R</td><td>ICT-6202785779-02_T_DNA_capTCRseq_S32_L002_1600000 </td><td>  50</td><td>  263</td><td>190.114068</td><td>  5.260000</td><td>1.1288606</td><td>  37</td><td>⋯</td><td>0.997</td><td>  50</td><td>  53.668</td><td> 3.297</td><td> 32.940</td><td> 36.764</td><td>2.370</td><td> 22.234</td><td> 24.195</td><td> 2.813</td></tr>\n",
       "\t<tr><td>ICT-6202994429-02_T </td><td>11011203</td><td>06520110C0016R</td><td>ICT-6202994429-02_T_DNA_capTCRseq_S56_L002_1600000 </td><td>  44</td><td> 4633</td><td>  9.497086</td><td>105.295455</td><td>0.7244460</td><td> 257</td><td>⋯</td><td>1.000</td><td>  44</td><td>  44.500</td><td> 1.323</td><td> 32.970</td><td> 33.127</td><td>0.289</td><td> 29.083</td><td> 29.261</td><td> 0.339</td></tr>\n",
       "\t<tr><td>ICT-6203065383-03_T </td><td>11010209</td><td>06520100B0017R</td><td>ICT-6203065383-03_T_DNA_capTCRseq_S46_L002_1600000 </td><td> 267</td><td> 1639</td><td>162.904210</td><td>  6.138577</td><td>1.6062808</td><td> 113</td><td>⋯</td><td>0.995</td><td> 267</td><td> 296.052</td><td>10.780</td><td>147.720</td><td>163.031</td><td>4.607</td><td> 74.780</td><td> 78.307</td><td> 5.117</td></tr>\n",
       "\t<tr><td>ICT-6203065392-02_T </td><td>11010206</td><td>06520093C0017R</td><td>ICT-6203065392-02_T_DNA_capTCRseq_S43_L002_1600000 </td><td> 489</td><td> 1960</td><td>249.489796</td><td>  4.008180</td><td>0.9292577</td><td>  33</td><td>⋯</td><td>0.995</td><td> 489</td><td> 530.561</td><td>11.509</td><td>361.046</td><td>418.977</td><td>7.849</td><td>262.656</td><td>303.145</td><td>11.434</td></tr>\n",
       "\t<tr><td>ICT-6203065431-03_T </td><td>11010810</td><td>06520095B0017R</td><td>ICT-6203065431-03_T_DNA_capTCRseq_S38_L002_1600000 </td><td>  19</td><td>   77</td><td>246.753247</td><td>  4.052632</td><td>1.1049651</td><td>  20</td><td>⋯</td><td>1.000</td><td>  19</td><td>  19.555</td><td> 1.002</td><td> 12.811</td><td> 14.619</td><td>1.614</td><td>  8.810</td><td>  9.819</td><td> 1.625</td></tr>\n",
       "\t<tr><td>ICT-6203065432-01_T </td><td>11010807</td><td>06520091B0017R</td><td>ICT-6203065432-01_T_DNA_capTCRseq_S34_L002_1600000 </td><td>   6</td><td>   14</td><td>428.571429</td><td>  2.333333</td><td>0.8427361</td><td>   6</td><td>⋯</td><td>0.899</td><td>   6</td><td>  10.179</td><td> 6.702</td><td>  4.649</td><td>  6.673</td><td>2.552</td><td>  3.769</td><td>  4.789</td><td> 1.800</td></tr>\n",
       "\t<tr><td>ICT-6203065440-02_T </td><td>11010809</td><td>06520106C0017R</td><td>ICT-6203065440-02_T_DNA_capTCRseq_S36_L002_1600000 </td><td>   5</td><td>   18</td><td>277.777778</td><td>  3.600000</td><td>0.5046084</td><td>   6</td><td>⋯</td><td>1.000</td><td>   5</td><td>   5.000</td><td> 0.541</td><td>  4.454</td><td>  5.021</td><td>0.552</td><td>  4.154</td><td>  5.100</td><td> 0.762</td></tr>\n",
       "\t<tr><td>ICT-6203065456-02_T </td><td>11010205</td><td>06520090C0018R</td><td>ICT-6203065456-02_T_DNA_capTCRseq_S52_L002_1600000 </td><td> 626</td><td> 5328</td><td>117.492492</td><td>  8.511182</td><td>2.3273738</td><td> 249</td><td>⋯</td><td>0.996</td><td> 626</td><td> 691.787</td><td>16.653</td><td>238.268</td><td>255.711</td><td>5.141</td><td> 97.690</td><td> 99.496</td><td> 3.563</td></tr>\n",
       "\t<tr><td>ICT-6204179150-01_T </td><td>11010403</td><td>06520097B0021R</td><td>ICT-6204179150-01_T_DNA_capTCRseq_S55_L002_1600000 </td><td>  74</td><td> 8007</td><td>  9.241913</td><td>108.202703</td><td>1.1739996</td><td> 576</td><td>⋯</td><td>0.999</td><td>  74</td><td>  94.997</td><td>17.617</td><td> 41.448</td><td> 41.684</td><td>0.379</td><td> 31.361</td><td> 31.480</td><td> 0.431</td></tr>\n",
       "\t<tr><td>ICT-6501799176-02_T </td><td>11010105</td><td>06520022C0017R</td><td>ICT-6501799176-02_T_DNA_capTCRseq_S53_L002_1600000 </td><td>  26</td><td>  122</td><td>213.114754</td><td>  4.692308</td><td>0.9545433</td><td>  17</td><td>⋯</td><td>0.995</td><td>  26</td><td>  28.480</td><td> 2.937</td><td> 18.375</td><td> 20.805</td><td>1.669</td><td> 13.858</td><td> 15.506</td><td> 1.762</td></tr>\n",
       "\t<tr><td>ICT-6502064156-02_T </td><td>11010304</td><td>06520047C0017R</td><td>ICT-6502064156-02_T_DNA_capTCRseq_S51_L002_1600000 </td><td>  13</td><td>  196</td><td> 66.326531</td><td> 15.076923</td><td>0.8066524</td><td>  36</td><td>⋯</td><td>1.000</td><td>  13</td><td>  13.000</td><td> 0.480</td><td>  9.527</td><td>  9.831</td><td>0.475</td><td>  8.122</td><td>  8.430</td><td> 0.539</td></tr>\n",
       "\t<tr><td>ICT-6502168706_T    </td><td>11010903</td><td>06520103C0017R</td><td>ICT-6502168706_T_DNA_capTCRseq_S42_L002_1600000    </td><td> 109</td><td>  370</td><td>294.594595</td><td>  3.394495</td><td>0.9194505</td><td>  18</td><td>⋯</td><td>0.990</td><td> 109</td><td> 122.464</td><td> 6.858</td><td> 80.269</td><td> 96.472</td><td>4.172</td><td> 59.315</td><td> 70.449</td><td> 5.079</td></tr>\n",
       "\t<tr><td>ICT-6502553313-02_T </td><td>11010402</td><td>06520094C0016R</td><td>ICT-6502553313-02_T_DNA_capTCRseq_S49_L002_1600000 </td><td> 179</td><td>  872</td><td>205.275229</td><td>  4.871508</td><td>1.4003860</td><td>  67</td><td>⋯</td><td>0.983</td><td> 179</td><td> 219.646</td><td>15.743</td><td>108.314</td><td>124.383</td><td>5.054</td><td> 60.675</td><td> 65.138</td><td> 5.139</td></tr>\n",
       "</tbody>\n",
       "</table>\n"
      ],
      "text/latex": [
       "A data.frame: 45 × 23\n",
       "\\begin{tabular}{lllllllllllllllllllll}\n",
       " sample\\_id\\_DNA & Patient.ID & sample\\_id & X & TRB & Reads & CPKR & Average\\_reads & VMR & Max\\_reads & ⋯ & Sample\\_Coverage & observed\\_Richness & estimated\\_Richness & SE\\_Richeness & observed\\_Shannon & estimated\\_Shannon & SE\\_Shannon & observed\\_Simpson & estimated\\_Simpson & SE\\_Simpson\\\\\n",
       " <chr> & <int> & <chr> & <chr> & <int> & <int> & <dbl> & <dbl> & <dbl> & <int> & ⋯ & <dbl> & <int> & <dbl> & <dbl> & <dbl> & <dbl> & <dbl> & <dbl> & <dbl> & <dbl>\\\\\n",
       "\\hline\n",
       "\t ICT-06520004C0016D\\_T & 11010201 & 06520004C0018R & ICT-06520004C0016D\\_T\\_DNA\\_capTCRseq\\_S76\\_L002\\_1600000 &  283 & 39283 &   7.204134 & 138.809187 & 0.9002639 &  680 & ⋯ & 1.000 &  283 &  295.500 & 10.680 & 188.541 & 189.259 & 0.656 & 156.560 & 157.183 &  0.791\\\\\n",
       "\t ICT-06520007C0016D\\_T & 11010604 & 06520007C0018R & ICT-06520007C0016D\\_T\\_DNA\\_capTCRseq\\_S71\\_L002\\_1600000 &  231 & 21190 &  10.901369 &  91.731602 & 2.5690567 & 2739 & ⋯ & 1.000 &  231 &  243.499 & 10.680 &  79.329 &  79.794 & 0.856 &  30.509 &  30.552 &  0.572\\\\\n",
       "\t ICT-06520010B0021D\\_T & 11011002 & 06520010B0023R & ICT-06520010B0021D\\_T\\_DNA\\_capTCRseq\\_S66\\_L002\\_1600000 &   38 &  3988 &   9.528586 & 104.947368 & 0.7413485 &  359 & ⋯ & 1.000 &   38 &   38.000 &  0.030 &  30.089 &  30.229 & 0.318 &  24.754 &  24.902 &  0.451\\\\\n",
       "\t ICT-06520011B0021D\\_T & 11010103 & 06520011B0023R & ICT-06520011B0021D\\_T\\_DNA\\_capTCRseq\\_S70\\_L002\\_1600000 &   11 &   511 &  21.526419 &  46.454545 & 0.8501907 &  135 & ⋯ & 1.000 &   11 &   11.000 &  0.482 &   7.981 &   8.062 & 0.239 &   6.638 &   6.712 &  0.316\\\\\n",
       "\t ICT-06520017C0016D\\_T & 11010503 & 06520017C0018R & ICT-06520017C0016D\\_T\\_DNA\\_capTCRseq\\_S72\\_L002\\_1600000 &    5 &   495 &  10.101010 &  99.000000 & 0.7836262 &  224 & ⋯ & 1.000 &    5 &    5.000 &  0.000 &   4.002 &   4.018 & 0.118 &   3.353 &   3.369 &  0.155\\\\\n",
       "\t ICT-06520026C0012D\\_T & 11011003 & 06520026C0014R & ICT-06520026C0012D\\_T\\_DNA\\_capTCRseq\\_S75\\_L002\\_1600000 &   49 & 12419 &   3.945567 & 253.448980 & 2.5840139 & 3619 & ⋯ & 1.000 &   49 &   50.000 &  2.328 &  13.925 &  13.953 & 0.199 &   6.498 &   6.501 &  0.100\\\\\n",
       "\t ICT-06520030C0016D\\_T & 11010507 & 06520030C0018R & ICT-06520030C0016D\\_T\\_DNA\\_capTCRseq\\_S73\\_L002\\_1600000 &    3 &   231 &  12.987013 &  77.000000 & 0.8583227 &  153 & ⋯ & 1.000 &    3 &    3.000 &  0.000 &   2.386 &   2.396 & 0.099 &   2.012 &   2.021 &  0.125\\\\\n",
       "\t ICT-06520033C0016D\\_T & 11010203 & 06520033C0018R & ICT-06520033C0016D\\_T\\_DNA\\_capTCRseq\\_S79\\_L002\\_1600000 &  602 & 35678 &  16.873143 &  59.265781 & 1.0509233 &  496 & ⋯ & 1.000 &  602 &  630.124 & 13.529 & 380.961 & 384.422 & 1.676 & 286.311 & 288.620 &  2.287\\\\\n",
       "\t ICT-06520046C0016D\\_T & 11010310 & 06520046C0018R & ICT-06520046C0016D\\_T\\_DNA\\_capTCRseq\\_S83\\_L002\\_1600000 &   30 &  3056 &   9.816754 & 101.866667 & 0.7060053 &  286 & ⋯ & 1.000 &   30 &   30.000 &  0.218 &  23.439 &  23.551 & 0.280 &  20.245 &  20.374 &  0.336\\\\\n",
       "\t ICT-06520058C0044D\\_T & 11010706 & 06520058C0045R & ICT-06520058C0044D\\_T\\_DNA\\_capTCRseq\\_S69\\_L002\\_1600000 &  170 & 11695 &  14.536127 &  68.794118 & 1.1051789 &  411 & ⋯ & 0.999 &  170 &  186.899 & 12.723 & 101.164 & 101.992 & 0.784 &  76.776 &  77.277 &  0.924\\\\\n",
       "\t ICT-06520059B0021D\\_T & 11010108 & 06520059B0023R & ICT-06520059B0021D\\_T\\_DNA\\_capTCRseq\\_S85\\_L002\\_1600000 &   31 &  8351 &   3.712130 & 269.387097 & 0.8698389 &  961 & ⋯ & 1.000 &   31 &   31.000 &  0.191 &  21.531 &  21.570 & 0.172 &  17.896 &  17.932 &  0.201\\\\\n",
       "\t ICT-06520067C0016D\\_T & 11010102 & 06520067C0018R & ICT-06520067C0016D\\_T\\_DNA\\_capTCRseq\\_S81\\_L002\\_1600000 &   29 &  2810 &  10.320285 &  96.896552 & 0.9190077 &  256 & ⋯ & 1.000 &   29 &   30.999 &  3.740 &  18.420 &  18.522 & 0.247 &  15.974 &  16.060 &  0.230\\\\\n",
       "\t ICT-06520068B0021D\\_T & 11010709 & 06520068B0023R & ICT-06520068B0021D\\_T\\_DNA\\_capTCRseq\\_S68\\_L002\\_1600000 &   16 &  2741 &   5.837286 & 171.312500 & 0.9078026 &  541 & ⋯ & 1.000 &   16 &   16.000 &  0.342 &  10.993 &  11.024 & 0.142 &   9.026 &   9.053 &  0.189\\\\\n",
       "\t ICT-06520070C0016D\\_T & 11010306 & 06520070C0018R & ICT-06520070C0016D\\_T\\_DNA\\_capTCRseq\\_S82\\_L002\\_1600000 &    3 &   702 &   4.273504 & 234.000000 & 0.4159154 &  298 & ⋯ & 1.000 &    3 &    3.000 &  0.000 &   2.813 &   2.817 & 0.035 &   2.690 &   2.696 &  0.048\\\\\n",
       "\t ICT-06520071C0018D\\_T & 11010307 & 06520071C0020R & ICT-06520071C0018D\\_T\\_DNA\\_capTCRseq\\_S80\\_L002\\_1600000 &   31 &  2789 &  11.115095 &  89.967742 & 1.0915321 &  366 & ⋯ & 1.000 &   31 &   31.000 &  0.160 &  19.177 &  19.281 & 0.306 &  14.398 &  14.468 &  0.350\\\\\n",
       "\t ICT-06520078C0026D\\_T & 11010902 & 06520078C0028R & ICT-06520078C0026D\\_T\\_DNA\\_capTCRseq\\_S64\\_L002\\_1600000 & 1020 & 44703 &  22.817261 &  43.826471 & 1.0128827 &  608 & ⋯ & 0.999 & 1020 & 1098.891 & 32.452 & 697.247 & 705.981 & 2.315 & 503.722 & 509.452 &  4.943\\\\\n",
       "\t ICT-06520080B0021D\\_T & 11010611 & 06520080B0023R & ICT-06520080B0021D\\_T\\_DNA\\_capTCRseq\\_S74\\_L002\\_1600000 &   13 &   715 &  18.181818 &  55.000000 & 1.0480994 &  188 & ⋯ & 1.000 &   13 &   13.000 &  0.136 &   8.343 &   8.414 & 0.248 &   6.455 &   6.504 &  0.276\\\\\n",
       "\t ICT-06520082C0016D\\_T & 11010806 & 06520082C0018R & ICT-06520082C0016D\\_T\\_DNA\\_capTCRseq\\_S62\\_L002\\_1600000 &  361 & 24294 &  14.859636 &  67.296399 & 5.8240547 & 6850 & ⋯ & 1.000 &  361 &  376.749 &  8.984 &  54.879 &  55.319 & 0.863 &  10.366 &  10.370 &  0.157\\\\\n",
       "\t ICT-6201764804-02\\_T  & 11010309 & 06520045C0027R & ICT-6201764804-02\\_T\\_DNA\\_capTCRseq\\_S39\\_L002\\_1600000  &   18 &   560 &  32.142857 &  31.111111 & 0.9044383 &   96 & ⋯ & 0.999 &   18 &   19.996 &  3.735 &  11.873 &  12.087 & 0.364 &  10.155 &  10.324 &  0.413\\\\\n",
       "\t ICT-6201764818-01\\_T  & 11010601 & 06520001B0023R & ICT-6201764818-01\\_T\\_DNA\\_capTCRseq\\_S47\\_L002\\_1600000  &   18 &    72 & 250.000000 &   4.000000 & 0.9115275 &   17 & ⋯ & 0.997 &   18 &   19.109 &  1.749 &  13.553 &  15.562 & 1.481 &  10.086 &  11.566 &  2.101\\\\\n",
       "\t ICT-6201764824-02\\_T  & 11010701 & 06520005C0017R & ICT-6201764824-02\\_T\\_DNA\\_capTCRseq\\_S41\\_L002\\_1600000  &   50 &  1011 &  49.455984 &  20.220000 & 1.8685204 &  164 & ⋯ & 1.000 &   50 &   50.727 &  1.141 &  17.635 &  18.100 & 0.696 &  11.308 &  11.425 &  0.427\\\\\n",
       "\t ICT-6201815172-01\\_T  & 11010401 & 06520060B0022R & ICT-6201815172-01\\_T\\_DNA\\_capTCRseq\\_S48\\_L002\\_1600000  &  299 &  1503 & 198.935462 &   5.026756 & 2.1815977 &  167 & ⋯ & 0.992 &  299 &  337.735 & 12.976 & 159.053 & 179.940 & 6.014 &  52.059 &  53.891 &  4.594\\\\\n",
       "\t ICT-6201815273-02\\_T  & 11010609 & 06520062C0017R & ICT-6201815273-02\\_T\\_DNA\\_capTCRseq\\_S60\\_L002\\_1600000  &   16 &  1273 &  12.568735 &  79.562500 & 0.9521978 &  222 & ⋯ & 1.000 &   16 &   16.000 &  0.135 &  10.309 &  10.370 & 0.205 &   8.649 &   8.701 &  0.213\\\\\n",
       "\t ICT-6201855900-02\\_T  & 11010703 & 06520042B0023R & ICT-6201855900-02\\_T\\_DNA\\_capTCRseq\\_S31\\_L002\\_1600000  &   28 &   112 & 250.000000 &   4.000000 & 0.9077853 &   14 & ⋯ & 0.996 &   28 &   30.230 &  2.483 &  20.160 &  23.307 & 1.826 &  15.602 &  17.965 &  1.875\\\\\n",
       "\t ICT-6202116713-02\\_T  & 11010303 & 06520019C0023R & ICT-6202116713-02\\_T\\_DNA\\_capTCRseq\\_S59\\_L002\\_1600000  &  243 & 14321 &  16.968089 &  58.934156 & 1.0142093 &  405 & ⋯ & 1.000 &  243 &  259.899 & 12.723 & 159.184 & 160.660 & 1.099 & 120.036 & 121.042 &  1.396\\\\\n",
       "\t ICT-6202116728-02\\_T  & 11010707 & 06520049C0018R & ICT-6202116728-02\\_T\\_DNA\\_capTCRseq\\_S40\\_L002\\_1600000  &    4 &    14 & 285.714286 &   3.500000 & 0.6801360 &    6 & ⋯ & 0.992 &    4 &    4.464 &  1.242 &   3.311 &   3.816 & 0.862 &   2.970 &   3.500 &  0.802\\\\\n",
       "\t ICT-6202116735-01\\_T  & 11010308 & 06520038B0023R & ICT-6202116735-01\\_T\\_DNA\\_capTCRseq\\_S54\\_L002\\_1600000  &    1 &     3 & 333.333333 &   3.000000 &        NA &    3 & ⋯ & 1.000 &    1 &    1.000 &  0.200 &   1.000 &   1.000 & 0.000 &   1.000 &   1.000 &  0.000\\\\\n",
       "\t ICT-6202218209-01\\_T  & 11010208 & 06520099B0017R & ICT-6202218209-01\\_T\\_DNA\\_capTCRseq\\_S58\\_L002\\_1600000  &  545 & 45756 &  11.911006 &  83.955963 & 0.8991825 &  437 & ⋯ & 1.000 &  545 &  588.681 & 21.525 & 368.103 & 370.519 & 1.226 & 301.597 & 303.592 &  1.557\\\\\n",
       "\t ICT-6202255794-02\\_T  & 11010508 & 06520072C0017R & ICT-6202255794-02\\_T\\_DNA\\_capTCRseq\\_S37\\_L002\\_1600000  &  151 &  1420 & 106.338028 &   9.403974 & 2.5727996 &  195 & ⋯ & 0.998 &  151 &  162.870 &  6.022 &  48.588 &  51.723 & 1.999 &  19.933 &  20.202 &  1.055\\\\\n",
       "\t ICT-6202261663-02\\_T  & 11010504 & 06520020C0017R & ICT-6202261663-02\\_T\\_DNA\\_capTCRseq\\_S57\\_L002\\_1600000  &   10 &   363 &  27.548209 &  36.300000 & 1.0682842 &  127 & ⋯ & 1.000 &   10 &   10.000 &  0.528 &   6.331 &   6.412 & 0.241 &   4.933 &   4.987 &  0.306\\\\\n",
       "\t ICT-6202277503-02\\_T  & 11011201 & 06520105C0017R & ICT-6202277503-02\\_T\\_DNA\\_capTCRseq\\_S35\\_L002\\_1600000  &   18 &   285 &  63.157895 &  15.833333 & 1.3989404 &   63 & ⋯ & 1.000 &   18 &   18.399 &  0.865 &   8.170 &   8.442 & 0.517 &   6.320 &   6.440 &  0.346\\\\\n",
       "\t ICT-6202549619-02\\_T  & 11011005 & 06520035C0021R & ICT-6202549619-02\\_T\\_DNA\\_capTCRseq\\_S33\\_L002\\_1600000  &   13 &    61 & 213.114754 &   4.692308 & 0.6356908 &   11 & ⋯ & 0.988 &   13 &   14.967 &  3.685 &  10.787 &  12.208 & 1.090 &   9.468 &  11.024 &  1.307\\\\\n",
       "\t ICT-6202785779-02\\_T  & 11010710 & 06520055C0018R & ICT-6202785779-02\\_T\\_DNA\\_capTCRseq\\_S32\\_L002\\_1600000  &   50 &   263 & 190.114068 &   5.260000 & 1.1288606 &   37 & ⋯ & 0.997 &   50 &   53.668 &  3.297 &  32.940 &  36.764 & 2.370 &  22.234 &  24.195 &  2.813\\\\\n",
       "\t ICT-6202994429-02\\_T  & 11011203 & 06520110C0016R & ICT-6202994429-02\\_T\\_DNA\\_capTCRseq\\_S56\\_L002\\_1600000  &   44 &  4633 &   9.497086 & 105.295455 & 0.7244460 &  257 & ⋯ & 1.000 &   44 &   44.500 &  1.323 &  32.970 &  33.127 & 0.289 &  29.083 &  29.261 &  0.339\\\\\n",
       "\t ICT-6203065383-03\\_T  & 11010209 & 06520100B0017R & ICT-6203065383-03\\_T\\_DNA\\_capTCRseq\\_S46\\_L002\\_1600000  &  267 &  1639 & 162.904210 &   6.138577 & 1.6062808 &  113 & ⋯ & 0.995 &  267 &  296.052 & 10.780 & 147.720 & 163.031 & 4.607 &  74.780 &  78.307 &  5.117\\\\\n",
       "\t ICT-6203065392-02\\_T  & 11010206 & 06520093C0017R & ICT-6203065392-02\\_T\\_DNA\\_capTCRseq\\_S43\\_L002\\_1600000  &  489 &  1960 & 249.489796 &   4.008180 & 0.9292577 &   33 & ⋯ & 0.995 &  489 &  530.561 & 11.509 & 361.046 & 418.977 & 7.849 & 262.656 & 303.145 & 11.434\\\\\n",
       "\t ICT-6203065431-03\\_T  & 11010810 & 06520095B0017R & ICT-6203065431-03\\_T\\_DNA\\_capTCRseq\\_S38\\_L002\\_1600000  &   19 &    77 & 246.753247 &   4.052632 & 1.1049651 &   20 & ⋯ & 1.000 &   19 &   19.555 &  1.002 &  12.811 &  14.619 & 1.614 &   8.810 &   9.819 &  1.625\\\\\n",
       "\t ICT-6203065432-01\\_T  & 11010807 & 06520091B0017R & ICT-6203065432-01\\_T\\_DNA\\_capTCRseq\\_S34\\_L002\\_1600000  &    6 &    14 & 428.571429 &   2.333333 & 0.8427361 &    6 & ⋯ & 0.899 &    6 &   10.179 &  6.702 &   4.649 &   6.673 & 2.552 &   3.769 &   4.789 &  1.800\\\\\n",
       "\t ICT-6203065440-02\\_T  & 11010809 & 06520106C0017R & ICT-6203065440-02\\_T\\_DNA\\_capTCRseq\\_S36\\_L002\\_1600000  &    5 &    18 & 277.777778 &   3.600000 & 0.5046084 &    6 & ⋯ & 1.000 &    5 &    5.000 &  0.541 &   4.454 &   5.021 & 0.552 &   4.154 &   5.100 &  0.762\\\\\n",
       "\t ICT-6203065456-02\\_T  & 11010205 & 06520090C0018R & ICT-6203065456-02\\_T\\_DNA\\_capTCRseq\\_S52\\_L002\\_1600000  &  626 &  5328 & 117.492492 &   8.511182 & 2.3273738 &  249 & ⋯ & 0.996 &  626 &  691.787 & 16.653 & 238.268 & 255.711 & 5.141 &  97.690 &  99.496 &  3.563\\\\\n",
       "\t ICT-6204179150-01\\_T  & 11010403 & 06520097B0021R & ICT-6204179150-01\\_T\\_DNA\\_capTCRseq\\_S55\\_L002\\_1600000  &   74 &  8007 &   9.241913 & 108.202703 & 1.1739996 &  576 & ⋯ & 0.999 &   74 &   94.997 & 17.617 &  41.448 &  41.684 & 0.379 &  31.361 &  31.480 &  0.431\\\\\n",
       "\t ICT-6501799176-02\\_T  & 11010105 & 06520022C0017R & ICT-6501799176-02\\_T\\_DNA\\_capTCRseq\\_S53\\_L002\\_1600000  &   26 &   122 & 213.114754 &   4.692308 & 0.9545433 &   17 & ⋯ & 0.995 &   26 &   28.480 &  2.937 &  18.375 &  20.805 & 1.669 &  13.858 &  15.506 &  1.762\\\\\n",
       "\t ICT-6502064156-02\\_T  & 11010304 & 06520047C0017R & ICT-6502064156-02\\_T\\_DNA\\_capTCRseq\\_S51\\_L002\\_1600000  &   13 &   196 &  66.326531 &  15.076923 & 0.8066524 &   36 & ⋯ & 1.000 &   13 &   13.000 &  0.480 &   9.527 &   9.831 & 0.475 &   8.122 &   8.430 &  0.539\\\\\n",
       "\t ICT-6502168706\\_T     & 11010903 & 06520103C0017R & ICT-6502168706\\_T\\_DNA\\_capTCRseq\\_S42\\_L002\\_1600000     &  109 &   370 & 294.594595 &   3.394495 & 0.9194505 &   18 & ⋯ & 0.990 &  109 &  122.464 &  6.858 &  80.269 &  96.472 & 4.172 &  59.315 &  70.449 &  5.079\\\\\n",
       "\t ICT-6502553313-02\\_T  & 11010402 & 06520094C0016R & ICT-6502553313-02\\_T\\_DNA\\_capTCRseq\\_S49\\_L002\\_1600000  &  179 &   872 & 205.275229 &   4.871508 & 1.4003860 &   67 & ⋯ & 0.983 &  179 &  219.646 & 15.743 & 108.314 & 124.383 & 5.054 &  60.675 &  65.138 &  5.139\\\\\n",
       "\\end{tabular}\n"
      ],
      "text/markdown": [
       "\n",
       "A data.frame: 45 × 23\n",
       "\n",
       "| sample_id_DNA &lt;chr&gt; | Patient.ID &lt;int&gt; | sample_id &lt;chr&gt; | X &lt;chr&gt; | TRB &lt;int&gt; | Reads &lt;int&gt; | CPKR &lt;dbl&gt; | Average_reads &lt;dbl&gt; | VMR &lt;dbl&gt; | Max_reads &lt;int&gt; | ⋯ ⋯ | Sample_Coverage &lt;dbl&gt; | observed_Richness &lt;int&gt; | estimated_Richness &lt;dbl&gt; | SE_Richeness &lt;dbl&gt; | observed_Shannon &lt;dbl&gt; | estimated_Shannon &lt;dbl&gt; | SE_Shannon &lt;dbl&gt; | observed_Simpson &lt;dbl&gt; | estimated_Simpson &lt;dbl&gt; | SE_Simpson &lt;dbl&gt; |\n",
       "|---|---|---|---|---|---|---|---|---|---|---|---|---|---|---|---|---|---|---|---|---|\n",
       "| ICT-06520004C0016D_T | 11010201 | 06520004C0018R | ICT-06520004C0016D_T_DNA_capTCRseq_S76_L002_1600000 |  283 | 39283 |   7.204134 | 138.809187 | 0.9002639 |  680 | ⋯ | 1.000 |  283 |  295.500 | 10.680 | 188.541 | 189.259 | 0.656 | 156.560 | 157.183 |  0.791 |\n",
       "| ICT-06520007C0016D_T | 11010604 | 06520007C0018R | ICT-06520007C0016D_T_DNA_capTCRseq_S71_L002_1600000 |  231 | 21190 |  10.901369 |  91.731602 | 2.5690567 | 2739 | ⋯ | 1.000 |  231 |  243.499 | 10.680 |  79.329 |  79.794 | 0.856 |  30.509 |  30.552 |  0.572 |\n",
       "| ICT-06520010B0021D_T | 11011002 | 06520010B0023R | ICT-06520010B0021D_T_DNA_capTCRseq_S66_L002_1600000 |   38 |  3988 |   9.528586 | 104.947368 | 0.7413485 |  359 | ⋯ | 1.000 |   38 |   38.000 |  0.030 |  30.089 |  30.229 | 0.318 |  24.754 |  24.902 |  0.451 |\n",
       "| ICT-06520011B0021D_T | 11010103 | 06520011B0023R | ICT-06520011B0021D_T_DNA_capTCRseq_S70_L002_1600000 |   11 |   511 |  21.526419 |  46.454545 | 0.8501907 |  135 | ⋯ | 1.000 |   11 |   11.000 |  0.482 |   7.981 |   8.062 | 0.239 |   6.638 |   6.712 |  0.316 |\n",
       "| ICT-06520017C0016D_T | 11010503 | 06520017C0018R | ICT-06520017C0016D_T_DNA_capTCRseq_S72_L002_1600000 |    5 |   495 |  10.101010 |  99.000000 | 0.7836262 |  224 | ⋯ | 1.000 |    5 |    5.000 |  0.000 |   4.002 |   4.018 | 0.118 |   3.353 |   3.369 |  0.155 |\n",
       "| ICT-06520026C0012D_T | 11011003 | 06520026C0014R | ICT-06520026C0012D_T_DNA_capTCRseq_S75_L002_1600000 |   49 | 12419 |   3.945567 | 253.448980 | 2.5840139 | 3619 | ⋯ | 1.000 |   49 |   50.000 |  2.328 |  13.925 |  13.953 | 0.199 |   6.498 |   6.501 |  0.100 |\n",
       "| ICT-06520030C0016D_T | 11010507 | 06520030C0018R | ICT-06520030C0016D_T_DNA_capTCRseq_S73_L002_1600000 |    3 |   231 |  12.987013 |  77.000000 | 0.8583227 |  153 | ⋯ | 1.000 |    3 |    3.000 |  0.000 |   2.386 |   2.396 | 0.099 |   2.012 |   2.021 |  0.125 |\n",
       "| ICT-06520033C0016D_T | 11010203 | 06520033C0018R | ICT-06520033C0016D_T_DNA_capTCRseq_S79_L002_1600000 |  602 | 35678 |  16.873143 |  59.265781 | 1.0509233 |  496 | ⋯ | 1.000 |  602 |  630.124 | 13.529 | 380.961 | 384.422 | 1.676 | 286.311 | 288.620 |  2.287 |\n",
       "| ICT-06520046C0016D_T | 11010310 | 06520046C0018R | ICT-06520046C0016D_T_DNA_capTCRseq_S83_L002_1600000 |   30 |  3056 |   9.816754 | 101.866667 | 0.7060053 |  286 | ⋯ | 1.000 |   30 |   30.000 |  0.218 |  23.439 |  23.551 | 0.280 |  20.245 |  20.374 |  0.336 |\n",
       "| ICT-06520058C0044D_T | 11010706 | 06520058C0045R | ICT-06520058C0044D_T_DNA_capTCRseq_S69_L002_1600000 |  170 | 11695 |  14.536127 |  68.794118 | 1.1051789 |  411 | ⋯ | 0.999 |  170 |  186.899 | 12.723 | 101.164 | 101.992 | 0.784 |  76.776 |  77.277 |  0.924 |\n",
       "| ICT-06520059B0021D_T | 11010108 | 06520059B0023R | ICT-06520059B0021D_T_DNA_capTCRseq_S85_L002_1600000 |   31 |  8351 |   3.712130 | 269.387097 | 0.8698389 |  961 | ⋯ | 1.000 |   31 |   31.000 |  0.191 |  21.531 |  21.570 | 0.172 |  17.896 |  17.932 |  0.201 |\n",
       "| ICT-06520067C0016D_T | 11010102 | 06520067C0018R | ICT-06520067C0016D_T_DNA_capTCRseq_S81_L002_1600000 |   29 |  2810 |  10.320285 |  96.896552 | 0.9190077 |  256 | ⋯ | 1.000 |   29 |   30.999 |  3.740 |  18.420 |  18.522 | 0.247 |  15.974 |  16.060 |  0.230 |\n",
       "| ICT-06520068B0021D_T | 11010709 | 06520068B0023R | ICT-06520068B0021D_T_DNA_capTCRseq_S68_L002_1600000 |   16 |  2741 |   5.837286 | 171.312500 | 0.9078026 |  541 | ⋯ | 1.000 |   16 |   16.000 |  0.342 |  10.993 |  11.024 | 0.142 |   9.026 |   9.053 |  0.189 |\n",
       "| ICT-06520070C0016D_T | 11010306 | 06520070C0018R | ICT-06520070C0016D_T_DNA_capTCRseq_S82_L002_1600000 |    3 |   702 |   4.273504 | 234.000000 | 0.4159154 |  298 | ⋯ | 1.000 |    3 |    3.000 |  0.000 |   2.813 |   2.817 | 0.035 |   2.690 |   2.696 |  0.048 |\n",
       "| ICT-06520071C0018D_T | 11010307 | 06520071C0020R | ICT-06520071C0018D_T_DNA_capTCRseq_S80_L002_1600000 |   31 |  2789 |  11.115095 |  89.967742 | 1.0915321 |  366 | ⋯ | 1.000 |   31 |   31.000 |  0.160 |  19.177 |  19.281 | 0.306 |  14.398 |  14.468 |  0.350 |\n",
       "| ICT-06520078C0026D_T | 11010902 | 06520078C0028R | ICT-06520078C0026D_T_DNA_capTCRseq_S64_L002_1600000 | 1020 | 44703 |  22.817261 |  43.826471 | 1.0128827 |  608 | ⋯ | 0.999 | 1020 | 1098.891 | 32.452 | 697.247 | 705.981 | 2.315 | 503.722 | 509.452 |  4.943 |\n",
       "| ICT-06520080B0021D_T | 11010611 | 06520080B0023R | ICT-06520080B0021D_T_DNA_capTCRseq_S74_L002_1600000 |   13 |   715 |  18.181818 |  55.000000 | 1.0480994 |  188 | ⋯ | 1.000 |   13 |   13.000 |  0.136 |   8.343 |   8.414 | 0.248 |   6.455 |   6.504 |  0.276 |\n",
       "| ICT-06520082C0016D_T | 11010806 | 06520082C0018R | ICT-06520082C0016D_T_DNA_capTCRseq_S62_L002_1600000 |  361 | 24294 |  14.859636 |  67.296399 | 5.8240547 | 6850 | ⋯ | 1.000 |  361 |  376.749 |  8.984 |  54.879 |  55.319 | 0.863 |  10.366 |  10.370 |  0.157 |\n",
       "| ICT-6201764804-02_T  | 11010309 | 06520045C0027R | ICT-6201764804-02_T_DNA_capTCRseq_S39_L002_1600000  |   18 |   560 |  32.142857 |  31.111111 | 0.9044383 |   96 | ⋯ | 0.999 |   18 |   19.996 |  3.735 |  11.873 |  12.087 | 0.364 |  10.155 |  10.324 |  0.413 |\n",
       "| ICT-6201764818-01_T  | 11010601 | 06520001B0023R | ICT-6201764818-01_T_DNA_capTCRseq_S47_L002_1600000  |   18 |    72 | 250.000000 |   4.000000 | 0.9115275 |   17 | ⋯ | 0.997 |   18 |   19.109 |  1.749 |  13.553 |  15.562 | 1.481 |  10.086 |  11.566 |  2.101 |\n",
       "| ICT-6201764824-02_T  | 11010701 | 06520005C0017R | ICT-6201764824-02_T_DNA_capTCRseq_S41_L002_1600000  |   50 |  1011 |  49.455984 |  20.220000 | 1.8685204 |  164 | ⋯ | 1.000 |   50 |   50.727 |  1.141 |  17.635 |  18.100 | 0.696 |  11.308 |  11.425 |  0.427 |\n",
       "| ICT-6201815172-01_T  | 11010401 | 06520060B0022R | ICT-6201815172-01_T_DNA_capTCRseq_S48_L002_1600000  |  299 |  1503 | 198.935462 |   5.026756 | 2.1815977 |  167 | ⋯ | 0.992 |  299 |  337.735 | 12.976 | 159.053 | 179.940 | 6.014 |  52.059 |  53.891 |  4.594 |\n",
       "| ICT-6201815273-02_T  | 11010609 | 06520062C0017R | ICT-6201815273-02_T_DNA_capTCRseq_S60_L002_1600000  |   16 |  1273 |  12.568735 |  79.562500 | 0.9521978 |  222 | ⋯ | 1.000 |   16 |   16.000 |  0.135 |  10.309 |  10.370 | 0.205 |   8.649 |   8.701 |  0.213 |\n",
       "| ICT-6201855900-02_T  | 11010703 | 06520042B0023R | ICT-6201855900-02_T_DNA_capTCRseq_S31_L002_1600000  |   28 |   112 | 250.000000 |   4.000000 | 0.9077853 |   14 | ⋯ | 0.996 |   28 |   30.230 |  2.483 |  20.160 |  23.307 | 1.826 |  15.602 |  17.965 |  1.875 |\n",
       "| ICT-6202116713-02_T  | 11010303 | 06520019C0023R | ICT-6202116713-02_T_DNA_capTCRseq_S59_L002_1600000  |  243 | 14321 |  16.968089 |  58.934156 | 1.0142093 |  405 | ⋯ | 1.000 |  243 |  259.899 | 12.723 | 159.184 | 160.660 | 1.099 | 120.036 | 121.042 |  1.396 |\n",
       "| ICT-6202116728-02_T  | 11010707 | 06520049C0018R | ICT-6202116728-02_T_DNA_capTCRseq_S40_L002_1600000  |    4 |    14 | 285.714286 |   3.500000 | 0.6801360 |    6 | ⋯ | 0.992 |    4 |    4.464 |  1.242 |   3.311 |   3.816 | 0.862 |   2.970 |   3.500 |  0.802 |\n",
       "| ICT-6202116735-01_T  | 11010308 | 06520038B0023R | ICT-6202116735-01_T_DNA_capTCRseq_S54_L002_1600000  |    1 |     3 | 333.333333 |   3.000000 |        NA |    3 | ⋯ | 1.000 |    1 |    1.000 |  0.200 |   1.000 |   1.000 | 0.000 |   1.000 |   1.000 |  0.000 |\n",
       "| ICT-6202218209-01_T  | 11010208 | 06520099B0017R | ICT-6202218209-01_T_DNA_capTCRseq_S58_L002_1600000  |  545 | 45756 |  11.911006 |  83.955963 | 0.8991825 |  437 | ⋯ | 1.000 |  545 |  588.681 | 21.525 | 368.103 | 370.519 | 1.226 | 301.597 | 303.592 |  1.557 |\n",
       "| ICT-6202255794-02_T  | 11010508 | 06520072C0017R | ICT-6202255794-02_T_DNA_capTCRseq_S37_L002_1600000  |  151 |  1420 | 106.338028 |   9.403974 | 2.5727996 |  195 | ⋯ | 0.998 |  151 |  162.870 |  6.022 |  48.588 |  51.723 | 1.999 |  19.933 |  20.202 |  1.055 |\n",
       "| ICT-6202261663-02_T  | 11010504 | 06520020C0017R | ICT-6202261663-02_T_DNA_capTCRseq_S57_L002_1600000  |   10 |   363 |  27.548209 |  36.300000 | 1.0682842 |  127 | ⋯ | 1.000 |   10 |   10.000 |  0.528 |   6.331 |   6.412 | 0.241 |   4.933 |   4.987 |  0.306 |\n",
       "| ICT-6202277503-02_T  | 11011201 | 06520105C0017R | ICT-6202277503-02_T_DNA_capTCRseq_S35_L002_1600000  |   18 |   285 |  63.157895 |  15.833333 | 1.3989404 |   63 | ⋯ | 1.000 |   18 |   18.399 |  0.865 |   8.170 |   8.442 | 0.517 |   6.320 |   6.440 |  0.346 |\n",
       "| ICT-6202549619-02_T  | 11011005 | 06520035C0021R | ICT-6202549619-02_T_DNA_capTCRseq_S33_L002_1600000  |   13 |    61 | 213.114754 |   4.692308 | 0.6356908 |   11 | ⋯ | 0.988 |   13 |   14.967 |  3.685 |  10.787 |  12.208 | 1.090 |   9.468 |  11.024 |  1.307 |\n",
       "| ICT-6202785779-02_T  | 11010710 | 06520055C0018R | ICT-6202785779-02_T_DNA_capTCRseq_S32_L002_1600000  |   50 |   263 | 190.114068 |   5.260000 | 1.1288606 |   37 | ⋯ | 0.997 |   50 |   53.668 |  3.297 |  32.940 |  36.764 | 2.370 |  22.234 |  24.195 |  2.813 |\n",
       "| ICT-6202994429-02_T  | 11011203 | 06520110C0016R | ICT-6202994429-02_T_DNA_capTCRseq_S56_L002_1600000  |   44 |  4633 |   9.497086 | 105.295455 | 0.7244460 |  257 | ⋯ | 1.000 |   44 |   44.500 |  1.323 |  32.970 |  33.127 | 0.289 |  29.083 |  29.261 |  0.339 |\n",
       "| ICT-6203065383-03_T  | 11010209 | 06520100B0017R | ICT-6203065383-03_T_DNA_capTCRseq_S46_L002_1600000  |  267 |  1639 | 162.904210 |   6.138577 | 1.6062808 |  113 | ⋯ | 0.995 |  267 |  296.052 | 10.780 | 147.720 | 163.031 | 4.607 |  74.780 |  78.307 |  5.117 |\n",
       "| ICT-6203065392-02_T  | 11010206 | 06520093C0017R | ICT-6203065392-02_T_DNA_capTCRseq_S43_L002_1600000  |  489 |  1960 | 249.489796 |   4.008180 | 0.9292577 |   33 | ⋯ | 0.995 |  489 |  530.561 | 11.509 | 361.046 | 418.977 | 7.849 | 262.656 | 303.145 | 11.434 |\n",
       "| ICT-6203065431-03_T  | 11010810 | 06520095B0017R | ICT-6203065431-03_T_DNA_capTCRseq_S38_L002_1600000  |   19 |    77 | 246.753247 |   4.052632 | 1.1049651 |   20 | ⋯ | 1.000 |   19 |   19.555 |  1.002 |  12.811 |  14.619 | 1.614 |   8.810 |   9.819 |  1.625 |\n",
       "| ICT-6203065432-01_T  | 11010807 | 06520091B0017R | ICT-6203065432-01_T_DNA_capTCRseq_S34_L002_1600000  |    6 |    14 | 428.571429 |   2.333333 | 0.8427361 |    6 | ⋯ | 0.899 |    6 |   10.179 |  6.702 |   4.649 |   6.673 | 2.552 |   3.769 |   4.789 |  1.800 |\n",
       "| ICT-6203065440-02_T  | 11010809 | 06520106C0017R | ICT-6203065440-02_T_DNA_capTCRseq_S36_L002_1600000  |    5 |    18 | 277.777778 |   3.600000 | 0.5046084 |    6 | ⋯ | 1.000 |    5 |    5.000 |  0.541 |   4.454 |   5.021 | 0.552 |   4.154 |   5.100 |  0.762 |\n",
       "| ICT-6203065456-02_T  | 11010205 | 06520090C0018R | ICT-6203065456-02_T_DNA_capTCRseq_S52_L002_1600000  |  626 |  5328 | 117.492492 |   8.511182 | 2.3273738 |  249 | ⋯ | 0.996 |  626 |  691.787 | 16.653 | 238.268 | 255.711 | 5.141 |  97.690 |  99.496 |  3.563 |\n",
       "| ICT-6204179150-01_T  | 11010403 | 06520097B0021R | ICT-6204179150-01_T_DNA_capTCRseq_S55_L002_1600000  |   74 |  8007 |   9.241913 | 108.202703 | 1.1739996 |  576 | ⋯ | 0.999 |   74 |   94.997 | 17.617 |  41.448 |  41.684 | 0.379 |  31.361 |  31.480 |  0.431 |\n",
       "| ICT-6501799176-02_T  | 11010105 | 06520022C0017R | ICT-6501799176-02_T_DNA_capTCRseq_S53_L002_1600000  |   26 |   122 | 213.114754 |   4.692308 | 0.9545433 |   17 | ⋯ | 0.995 |   26 |   28.480 |  2.937 |  18.375 |  20.805 | 1.669 |  13.858 |  15.506 |  1.762 |\n",
       "| ICT-6502064156-02_T  | 11010304 | 06520047C0017R | ICT-6502064156-02_T_DNA_capTCRseq_S51_L002_1600000  |   13 |   196 |  66.326531 |  15.076923 | 0.8066524 |   36 | ⋯ | 1.000 |   13 |   13.000 |  0.480 |   9.527 |   9.831 | 0.475 |   8.122 |   8.430 |  0.539 |\n",
       "| ICT-6502168706_T     | 11010903 | 06520103C0017R | ICT-6502168706_T_DNA_capTCRseq_S42_L002_1600000     |  109 |   370 | 294.594595 |   3.394495 | 0.9194505 |   18 | ⋯ | 0.990 |  109 |  122.464 |  6.858 |  80.269 |  96.472 | 4.172 |  59.315 |  70.449 |  5.079 |\n",
       "| ICT-6502553313-02_T  | 11010402 | 06520094C0016R | ICT-6502553313-02_T_DNA_capTCRseq_S49_L002_1600000  |  179 |   872 | 205.275229 |   4.871508 | 1.4003860 |   67 | ⋯ | 0.983 |  179 |  219.646 | 15.743 | 108.314 | 124.383 | 5.054 |  60.675 |  65.138 |  5.139 |\n",
       "\n"
      ],
      "text/plain": [
       "   sample_id_DNA        Patient.ID sample_id     \n",
       "1  ICT-06520004C0016D_T 11010201   06520004C0018R\n",
       "2  ICT-06520007C0016D_T 11010604   06520007C0018R\n",
       "3  ICT-06520010B0021D_T 11011002   06520010B0023R\n",
       "4  ICT-06520011B0021D_T 11010103   06520011B0023R\n",
       "5  ICT-06520017C0016D_T 11010503   06520017C0018R\n",
       "6  ICT-06520026C0012D_T 11011003   06520026C0014R\n",
       "7  ICT-06520030C0016D_T 11010507   06520030C0018R\n",
       "8  ICT-06520033C0016D_T 11010203   06520033C0018R\n",
       "9  ICT-06520046C0016D_T 11010310   06520046C0018R\n",
       "10 ICT-06520058C0044D_T 11010706   06520058C0045R\n",
       "11 ICT-06520059B0021D_T 11010108   06520059B0023R\n",
       "12 ICT-06520067C0016D_T 11010102   06520067C0018R\n",
       "13 ICT-06520068B0021D_T 11010709   06520068B0023R\n",
       "14 ICT-06520070C0016D_T 11010306   06520070C0018R\n",
       "15 ICT-06520071C0018D_T 11010307   06520071C0020R\n",
       "16 ICT-06520078C0026D_T 11010902   06520078C0028R\n",
       "17 ICT-06520080B0021D_T 11010611   06520080B0023R\n",
       "18 ICT-06520082C0016D_T 11010806   06520082C0018R\n",
       "19 ICT-6201764804-02_T  11010309   06520045C0027R\n",
       "20 ICT-6201764818-01_T  11010601   06520001B0023R\n",
       "21 ICT-6201764824-02_T  11010701   06520005C0017R\n",
       "22 ICT-6201815172-01_T  11010401   06520060B0022R\n",
       "23 ICT-6201815273-02_T  11010609   06520062C0017R\n",
       "24 ICT-6201855900-02_T  11010703   06520042B0023R\n",
       "25 ICT-6202116713-02_T  11010303   06520019C0023R\n",
       "26 ICT-6202116728-02_T  11010707   06520049C0018R\n",
       "27 ICT-6202116735-01_T  11010308   06520038B0023R\n",
       "28 ICT-6202218209-01_T  11010208   06520099B0017R\n",
       "29 ICT-6202255794-02_T  11010508   06520072C0017R\n",
       "30 ICT-6202261663-02_T  11010504   06520020C0017R\n",
       "31 ICT-6202277503-02_T  11011201   06520105C0017R\n",
       "32 ICT-6202549619-02_T  11011005   06520035C0021R\n",
       "33 ICT-6202785779-02_T  11010710   06520055C0018R\n",
       "34 ICT-6202994429-02_T  11011203   06520110C0016R\n",
       "35 ICT-6203065383-03_T  11010209   06520100B0017R\n",
       "36 ICT-6203065392-02_T  11010206   06520093C0017R\n",
       "37 ICT-6203065431-03_T  11010810   06520095B0017R\n",
       "38 ICT-6203065432-01_T  11010807   06520091B0017R\n",
       "39 ICT-6203065440-02_T  11010809   06520106C0017R\n",
       "40 ICT-6203065456-02_T  11010205   06520090C0018R\n",
       "41 ICT-6204179150-01_T  11010403   06520097B0021R\n",
       "42 ICT-6501799176-02_T  11010105   06520022C0017R\n",
       "43 ICT-6502064156-02_T  11010304   06520047C0017R\n",
       "44 ICT-6502168706_T     11010903   06520103C0017R\n",
       "45 ICT-6502553313-02_T  11010402   06520094C0016R\n",
       "   X                                                   TRB  Reads CPKR      \n",
       "1  ICT-06520004C0016D_T_DNA_capTCRseq_S76_L002_1600000  283 39283   7.204134\n",
       "2  ICT-06520007C0016D_T_DNA_capTCRseq_S71_L002_1600000  231 21190  10.901369\n",
       "3  ICT-06520010B0021D_T_DNA_capTCRseq_S66_L002_1600000   38  3988   9.528586\n",
       "4  ICT-06520011B0021D_T_DNA_capTCRseq_S70_L002_1600000   11   511  21.526419\n",
       "5  ICT-06520017C0016D_T_DNA_capTCRseq_S72_L002_1600000    5   495  10.101010\n",
       "6  ICT-06520026C0012D_T_DNA_capTCRseq_S75_L002_1600000   49 12419   3.945567\n",
       "7  ICT-06520030C0016D_T_DNA_capTCRseq_S73_L002_1600000    3   231  12.987013\n",
       "8  ICT-06520033C0016D_T_DNA_capTCRseq_S79_L002_1600000  602 35678  16.873143\n",
       "9  ICT-06520046C0016D_T_DNA_capTCRseq_S83_L002_1600000   30  3056   9.816754\n",
       "10 ICT-06520058C0044D_T_DNA_capTCRseq_S69_L002_1600000  170 11695  14.536127\n",
       "11 ICT-06520059B0021D_T_DNA_capTCRseq_S85_L002_1600000   31  8351   3.712130\n",
       "12 ICT-06520067C0016D_T_DNA_capTCRseq_S81_L002_1600000   29  2810  10.320285\n",
       "13 ICT-06520068B0021D_T_DNA_capTCRseq_S68_L002_1600000   16  2741   5.837286\n",
       "14 ICT-06520070C0016D_T_DNA_capTCRseq_S82_L002_1600000    3   702   4.273504\n",
       "15 ICT-06520071C0018D_T_DNA_capTCRseq_S80_L002_1600000   31  2789  11.115095\n",
       "16 ICT-06520078C0026D_T_DNA_capTCRseq_S64_L002_1600000 1020 44703  22.817261\n",
       "17 ICT-06520080B0021D_T_DNA_capTCRseq_S74_L002_1600000   13   715  18.181818\n",
       "18 ICT-06520082C0016D_T_DNA_capTCRseq_S62_L002_1600000  361 24294  14.859636\n",
       "19 ICT-6201764804-02_T_DNA_capTCRseq_S39_L002_1600000    18   560  32.142857\n",
       "20 ICT-6201764818-01_T_DNA_capTCRseq_S47_L002_1600000    18    72 250.000000\n",
       "21 ICT-6201764824-02_T_DNA_capTCRseq_S41_L002_1600000    50  1011  49.455984\n",
       "22 ICT-6201815172-01_T_DNA_capTCRseq_S48_L002_1600000   299  1503 198.935462\n",
       "23 ICT-6201815273-02_T_DNA_capTCRseq_S60_L002_1600000    16  1273  12.568735\n",
       "24 ICT-6201855900-02_T_DNA_capTCRseq_S31_L002_1600000    28   112 250.000000\n",
       "25 ICT-6202116713-02_T_DNA_capTCRseq_S59_L002_1600000   243 14321  16.968089\n",
       "26 ICT-6202116728-02_T_DNA_capTCRseq_S40_L002_1600000     4    14 285.714286\n",
       "27 ICT-6202116735-01_T_DNA_capTCRseq_S54_L002_1600000     1     3 333.333333\n",
       "28 ICT-6202218209-01_T_DNA_capTCRseq_S58_L002_1600000   545 45756  11.911006\n",
       "29 ICT-6202255794-02_T_DNA_capTCRseq_S37_L002_1600000   151  1420 106.338028\n",
       "30 ICT-6202261663-02_T_DNA_capTCRseq_S57_L002_1600000    10   363  27.548209\n",
       "31 ICT-6202277503-02_T_DNA_capTCRseq_S35_L002_1600000    18   285  63.157895\n",
       "32 ICT-6202549619-02_T_DNA_capTCRseq_S33_L002_1600000    13    61 213.114754\n",
       "33 ICT-6202785779-02_T_DNA_capTCRseq_S32_L002_1600000    50   263 190.114068\n",
       "34 ICT-6202994429-02_T_DNA_capTCRseq_S56_L002_1600000    44  4633   9.497086\n",
       "35 ICT-6203065383-03_T_DNA_capTCRseq_S46_L002_1600000   267  1639 162.904210\n",
       "36 ICT-6203065392-02_T_DNA_capTCRseq_S43_L002_1600000   489  1960 249.489796\n",
       "37 ICT-6203065431-03_T_DNA_capTCRseq_S38_L002_1600000    19    77 246.753247\n",
       "38 ICT-6203065432-01_T_DNA_capTCRseq_S34_L002_1600000     6    14 428.571429\n",
       "39 ICT-6203065440-02_T_DNA_capTCRseq_S36_L002_1600000     5    18 277.777778\n",
       "40 ICT-6203065456-02_T_DNA_capTCRseq_S52_L002_1600000   626  5328 117.492492\n",
       "41 ICT-6204179150-01_T_DNA_capTCRseq_S55_L002_1600000    74  8007   9.241913\n",
       "42 ICT-6501799176-02_T_DNA_capTCRseq_S53_L002_1600000    26   122 213.114754\n",
       "43 ICT-6502064156-02_T_DNA_capTCRseq_S51_L002_1600000    13   196  66.326531\n",
       "44 ICT-6502168706_T_DNA_capTCRseq_S42_L002_1600000      109   370 294.594595\n",
       "45 ICT-6502553313-02_T_DNA_capTCRseq_S49_L002_1600000   179   872 205.275229\n",
       "   Average_reads VMR       Max_reads ⋯ Sample_Coverage observed_Richness\n",
       "1  138.809187    0.9002639  680      ⋯ 1.000            283             \n",
       "2   91.731602    2.5690567 2739      ⋯ 1.000            231             \n",
       "3  104.947368    0.7413485  359      ⋯ 1.000             38             \n",
       "4   46.454545    0.8501907  135      ⋯ 1.000             11             \n",
       "5   99.000000    0.7836262  224      ⋯ 1.000              5             \n",
       "6  253.448980    2.5840139 3619      ⋯ 1.000             49             \n",
       "7   77.000000    0.8583227  153      ⋯ 1.000              3             \n",
       "8   59.265781    1.0509233  496      ⋯ 1.000            602             \n",
       "9  101.866667    0.7060053  286      ⋯ 1.000             30             \n",
       "10  68.794118    1.1051789  411      ⋯ 0.999            170             \n",
       "11 269.387097    0.8698389  961      ⋯ 1.000             31             \n",
       "12  96.896552    0.9190077  256      ⋯ 1.000             29             \n",
       "13 171.312500    0.9078026  541      ⋯ 1.000             16             \n",
       "14 234.000000    0.4159154  298      ⋯ 1.000              3             \n",
       "15  89.967742    1.0915321  366      ⋯ 1.000             31             \n",
       "16  43.826471    1.0128827  608      ⋯ 0.999           1020             \n",
       "17  55.000000    1.0480994  188      ⋯ 1.000             13             \n",
       "18  67.296399    5.8240547 6850      ⋯ 1.000            361             \n",
       "19  31.111111    0.9044383   96      ⋯ 0.999             18             \n",
       "20   4.000000    0.9115275   17      ⋯ 0.997             18             \n",
       "21  20.220000    1.8685204  164      ⋯ 1.000             50             \n",
       "22   5.026756    2.1815977  167      ⋯ 0.992            299             \n",
       "23  79.562500    0.9521978  222      ⋯ 1.000             16             \n",
       "24   4.000000    0.9077853   14      ⋯ 0.996             28             \n",
       "25  58.934156    1.0142093  405      ⋯ 1.000            243             \n",
       "26   3.500000    0.6801360    6      ⋯ 0.992              4             \n",
       "27   3.000000           NA    3      ⋯ 1.000              1             \n",
       "28  83.955963    0.8991825  437      ⋯ 1.000            545             \n",
       "29   9.403974    2.5727996  195      ⋯ 0.998            151             \n",
       "30  36.300000    1.0682842  127      ⋯ 1.000             10             \n",
       "31  15.833333    1.3989404   63      ⋯ 1.000             18             \n",
       "32   4.692308    0.6356908   11      ⋯ 0.988             13             \n",
       "33   5.260000    1.1288606   37      ⋯ 0.997             50             \n",
       "34 105.295455    0.7244460  257      ⋯ 1.000             44             \n",
       "35   6.138577    1.6062808  113      ⋯ 0.995            267             \n",
       "36   4.008180    0.9292577   33      ⋯ 0.995            489             \n",
       "37   4.052632    1.1049651   20      ⋯ 1.000             19             \n",
       "38   2.333333    0.8427361    6      ⋯ 0.899              6             \n",
       "39   3.600000    0.5046084    6      ⋯ 1.000              5             \n",
       "40   8.511182    2.3273738  249      ⋯ 0.996            626             \n",
       "41 108.202703    1.1739996  576      ⋯ 0.999             74             \n",
       "42   4.692308    0.9545433   17      ⋯ 0.995             26             \n",
       "43  15.076923    0.8066524   36      ⋯ 1.000             13             \n",
       "44   3.394495    0.9194505   18      ⋯ 0.990            109             \n",
       "45   4.871508    1.4003860   67      ⋯ 0.983            179             \n",
       "   estimated_Richness SE_Richeness observed_Shannon estimated_Shannon\n",
       "1   295.500           10.680       188.541          189.259          \n",
       "2   243.499           10.680        79.329           79.794          \n",
       "3    38.000            0.030        30.089           30.229          \n",
       "4    11.000            0.482         7.981            8.062          \n",
       "5     5.000            0.000         4.002            4.018          \n",
       "6    50.000            2.328        13.925           13.953          \n",
       "7     3.000            0.000         2.386            2.396          \n",
       "8   630.124           13.529       380.961          384.422          \n",
       "9    30.000            0.218        23.439           23.551          \n",
       "10  186.899           12.723       101.164          101.992          \n",
       "11   31.000            0.191        21.531           21.570          \n",
       "12   30.999            3.740        18.420           18.522          \n",
       "13   16.000            0.342        10.993           11.024          \n",
       "14    3.000            0.000         2.813            2.817          \n",
       "15   31.000            0.160        19.177           19.281          \n",
       "16 1098.891           32.452       697.247          705.981          \n",
       "17   13.000            0.136         8.343            8.414          \n",
       "18  376.749            8.984        54.879           55.319          \n",
       "19   19.996            3.735        11.873           12.087          \n",
       "20   19.109            1.749        13.553           15.562          \n",
       "21   50.727            1.141        17.635           18.100          \n",
       "22  337.735           12.976       159.053          179.940          \n",
       "23   16.000            0.135        10.309           10.370          \n",
       "24   30.230            2.483        20.160           23.307          \n",
       "25  259.899           12.723       159.184          160.660          \n",
       "26    4.464            1.242         3.311            3.816          \n",
       "27    1.000            0.200         1.000            1.000          \n",
       "28  588.681           21.525       368.103          370.519          \n",
       "29  162.870            6.022        48.588           51.723          \n",
       "30   10.000            0.528         6.331            6.412          \n",
       "31   18.399            0.865         8.170            8.442          \n",
       "32   14.967            3.685        10.787           12.208          \n",
       "33   53.668            3.297        32.940           36.764          \n",
       "34   44.500            1.323        32.970           33.127          \n",
       "35  296.052           10.780       147.720          163.031          \n",
       "36  530.561           11.509       361.046          418.977          \n",
       "37   19.555            1.002        12.811           14.619          \n",
       "38   10.179            6.702         4.649            6.673          \n",
       "39    5.000            0.541         4.454            5.021          \n",
       "40  691.787           16.653       238.268          255.711          \n",
       "41   94.997           17.617        41.448           41.684          \n",
       "42   28.480            2.937        18.375           20.805          \n",
       "43   13.000            0.480         9.527            9.831          \n",
       "44  122.464            6.858        80.269           96.472          \n",
       "45  219.646           15.743       108.314          124.383          \n",
       "   SE_Shannon observed_Simpson estimated_Simpson SE_Simpson\n",
       "1  0.656      156.560          157.183            0.791    \n",
       "2  0.856       30.509           30.552            0.572    \n",
       "3  0.318       24.754           24.902            0.451    \n",
       "4  0.239        6.638            6.712            0.316    \n",
       "5  0.118        3.353            3.369            0.155    \n",
       "6  0.199        6.498            6.501            0.100    \n",
       "7  0.099        2.012            2.021            0.125    \n",
       "8  1.676      286.311          288.620            2.287    \n",
       "9  0.280       20.245           20.374            0.336    \n",
       "10 0.784       76.776           77.277            0.924    \n",
       "11 0.172       17.896           17.932            0.201    \n",
       "12 0.247       15.974           16.060            0.230    \n",
       "13 0.142        9.026            9.053            0.189    \n",
       "14 0.035        2.690            2.696            0.048    \n",
       "15 0.306       14.398           14.468            0.350    \n",
       "16 2.315      503.722          509.452            4.943    \n",
       "17 0.248        6.455            6.504            0.276    \n",
       "18 0.863       10.366           10.370            0.157    \n",
       "19 0.364       10.155           10.324            0.413    \n",
       "20 1.481       10.086           11.566            2.101    \n",
       "21 0.696       11.308           11.425            0.427    \n",
       "22 6.014       52.059           53.891            4.594    \n",
       "23 0.205        8.649            8.701            0.213    \n",
       "24 1.826       15.602           17.965            1.875    \n",
       "25 1.099      120.036          121.042            1.396    \n",
       "26 0.862        2.970            3.500            0.802    \n",
       "27 0.000        1.000            1.000            0.000    \n",
       "28 1.226      301.597          303.592            1.557    \n",
       "29 1.999       19.933           20.202            1.055    \n",
       "30 0.241        4.933            4.987            0.306    \n",
       "31 0.517        6.320            6.440            0.346    \n",
       "32 1.090        9.468           11.024            1.307    \n",
       "33 2.370       22.234           24.195            2.813    \n",
       "34 0.289       29.083           29.261            0.339    \n",
       "35 4.607       74.780           78.307            5.117    \n",
       "36 7.849      262.656          303.145           11.434    \n",
       "37 1.614        8.810            9.819            1.625    \n",
       "38 2.552        3.769            4.789            1.800    \n",
       "39 0.552        4.154            5.100            0.762    \n",
       "40 5.141       97.690           99.496            3.563    \n",
       "41 0.379       31.361           31.480            0.431    \n",
       "42 1.669       13.858           15.506            1.762    \n",
       "43 0.475        8.122            8.430            0.539    \n",
       "44 4.172       59.315           70.449            5.079    \n",
       "45 5.054       60.675           65.138            5.139    "
      ]
     },
     "metadata": {},
     "output_type": "display_data"
    }
   ],
   "source": [
    "trb_metadata"
   ]
  },
  {
   "cell_type": "code",
   "execution_count": 26,
   "metadata": {},
   "outputs": [],
   "source": [
    "write.csv(trb_metadata, file.path(datapath,\"CapTCR_seq/trb_sample_id.csv\"), quote = F, row.names = F)"
   ]
  },
  {
   "cell_type": "code",
   "execution_count": null,
   "metadata": {},
   "outputs": [],
   "source": []
  }
 ],
 "metadata": {
  "kernelspec": {
   "display_name": "R 4.0",
   "language": "R",
   "name": "ir40"
  },
  "language_info": {
   "codemirror_mode": "r",
   "file_extension": ".r",
   "mimetype": "text/x-r-source",
   "name": "R",
   "pygments_lexer": "r",
   "version": "4.0.3"
  },
  "toc": {
   "base_numbering": 1,
   "nav_menu": {},
   "number_sections": false,
   "sideBar": true,
   "skip_h1_title": false,
   "title_cell": "Table of Contents",
   "title_sidebar": "Contents",
   "toc_cell": true,
   "toc_position": {
    "height": "calc(100% - 180px)",
    "left": "10px",
    "top": "150px",
    "width": "175.327px"
   },
   "toc_section_display": true,
   "toc_window_display": true
  }
 },
 "nbformat": 4,
 "nbformat_minor": 2
}
