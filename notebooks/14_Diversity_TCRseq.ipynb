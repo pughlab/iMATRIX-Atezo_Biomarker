{
 "cells": [
  {
   "cell_type": "markdown",
   "metadata": {
    "toc": true
   },
   "source": [
    "<h1>Table of Contents<span class=\"tocSkip\"></span></h1>\n",
    "<div class=\"toc\"><ul class=\"toc-item\"><li><span><a href=\"#Dependencies\" data-toc-modified-id=\"Dependencies-1\">Dependencies</a></span></li><li><span><a href=\"#Functions\" data-toc-modified-id=\"Functions-2\">Functions</a></span></li><li><span><a href=\"#Paths\" data-toc-modified-id=\"Paths-3\">Paths</a></span></li><li><span><a href=\"#Main\" data-toc-modified-id=\"Main-4\">Main</a></span><ul class=\"toc-item\"><li><span><a href=\"#Plot-clone-fraction\" data-toc-modified-id=\"Plot-clone-fraction-4.1\">Plot clone fraction</a></span></li><li><span><a href=\"#TableS2\" data-toc-modified-id=\"TableS2-4.2\">TableS2</a></span></li><li><span><a href=\"#Plot-Shannon-div\" data-toc-modified-id=\"Plot-Shannon-div-4.3\">Plot Shannon div</a></span></li><li><span><a href=\"#Plot-GLIPH2-number-of-TCR-specificities\" data-toc-modified-id=\"Plot-GLIPH2-number-of-TCR-specificities-4.4\">Plot GLIPH2 number of TCR specificities</a></span></li><li><span><a href=\"#Table-S3\" data-toc-modified-id=\"Table-S3-4.5\">Table S3</a></span></li><li><span><a href=\"#Add-heatmap-for-sample-origin\" data-toc-modified-id=\"Add-heatmap-for-sample-origin-4.6\">Add heatmap for sample origin</a></span></li><li><span><a href=\"#Add-heatmap-for-tumour-type\" data-toc-modified-id=\"Add-heatmap-for-tumour-type-4.7\">Add heatmap for tumour type</a></span></li></ul></li><li><span><a href=\"#PFS-correlates\" data-toc-modified-id=\"PFS-correlates-5\">PFS correlates</a></span><ul class=\"toc-item\"><li><span><a href=\"#Diversity\" data-toc-modified-id=\"Diversity-5.1\">Diversity</a></span><ul class=\"toc-item\"><li><span><a href=\"#KM\" data-toc-modified-id=\"KM-5.1.1\">KM</a></span></li><li><span><a href=\"#Cox\" data-toc-modified-id=\"Cox-5.1.2\">Cox</a></span></li></ul></li><li><span><a href=\"#GLIPH\" data-toc-modified-id=\"GLIPH-5.2\">GLIPH</a></span><ul class=\"toc-item\"><li><span><a href=\"#KM\" data-toc-modified-id=\"KM-5.2.1\">KM</a></span></li><li><span><a href=\"#Cox\" data-toc-modified-id=\"Cox-5.2.2\">Cox</a></span></li></ul></li></ul></li></ul></div>"
   ]
  },
  {
   "cell_type": "markdown",
   "metadata": {},
   "source": [
    "# Dependencies"
   ]
  },
  {
   "cell_type": "code",
   "execution_count": 2,
   "metadata": {},
   "outputs": [
    {
     "name": "stderr",
     "output_type": "stream",
     "text": [
      "Loading required package: grid\n",
      "\n",
      "========================================\n",
      "ComplexHeatmap version 2.6.2\n",
      "Bioconductor page: http://bioconductor.org/packages/ComplexHeatmap/\n",
      "Github page: https://github.com/jokergoo/ComplexHeatmap\n",
      "Documentation: http://jokergoo.github.io/ComplexHeatmap-reference\n",
      "\n",
      "If you use it in published research, please cite:\n",
      "Gu, Z. Complex heatmaps reveal patterns and correlations in multidimensional \n",
      "  genomic data. Bioinformatics 2016.\n",
      "\n",
      "This message can be suppressed by:\n",
      "  suppressPackageStartupMessages(library(ComplexHeatmap))\n",
      "========================================\n",
      "\n",
      "\n",
      "========================================\n",
      "circlize version 0.4.12\n",
      "CRAN page: https://cran.r-project.org/package=circlize\n",
      "Github page: https://github.com/jokergoo/circlize\n",
      "Documentation: https://jokergoo.github.io/circlize_book/book/\n",
      "\n",
      "If you use it in published research, please cite:\n",
      "Gu, Z. circlize implements and enhances circular visualization\n",
      "  in R. Bioinformatics 2014.\n",
      "\n",
      "This message can be suppressed by:\n",
      "  suppressPackageStartupMessages(library(circlize))\n",
      "========================================\n",
      "\n",
      "\n",
      "Loading required package: ggpubr\n",
      "\n",
      "\n",
      "Attaching package: ‘dplyr’\n",
      "\n",
      "\n",
      "The following objects are masked from ‘package:stats’:\n",
      "\n",
      "    filter, lag\n",
      "\n",
      "\n",
      "The following objects are masked from ‘package:base’:\n",
      "\n",
      "    intersect, setdiff, setequal, union\n",
      "\n",
      "\n"
     ]
    }
   ],
   "source": [
    "library(ggplot2)\n",
    "library(ComplexHeatmap)\n",
    "library(circlize)\n",
    "library(survival)\n",
    "library(survminer)\n",
    "library(dplyr)"
   ]
  },
  {
   "cell_type": "markdown",
   "metadata": {},
   "source": [
    "# Functions"
   ]
  },
  {
   "cell_type": "code",
   "execution_count": 3,
   "metadata": {},
   "outputs": [],
   "source": [
    "source(\"~/OneDrive - UHN/R_src/ggplot2_theme.R\")"
   ]
  },
  {
   "cell_type": "code",
   "execution_count": 4,
   "metadata": {},
   "outputs": [],
   "source": [
    "source(\"~/git/PLTK/PLTK/R/Immune_Diversity.R\")"
   ]
  },
  {
   "cell_type": "code",
   "execution_count": 5,
   "metadata": {},
   "outputs": [],
   "source": [
    "origin_hm.fx <- function(origin_mat){\n",
    "\n",
    "    colpal <- c(\"Lymph node\" = \"#b15928\",\n",
    "                \"Other tissue\" = \"#ffff99\")\n",
    "\n",
    "    origin_hm = Heatmap(origin_mat,\n",
    "                          #titles and names\n",
    "                          name = \"Sample origin\",\n",
    "                          show_row_names = TRUE,\n",
    "                          show_column_names = FALSE,    \n",
    "                          #clusters\n",
    "                          cluster_columns = FALSE,\n",
    "                          cluster_rows = FALSE,\n",
    "                          #aesthestics\n",
    "                          col = colpal,\n",
    "                          row_names_gp = gpar(fontsize = 20),\n",
    "                          height = unit(1, \"cm\"),\n",
    "                          column_title_gp = gpar(fontsize = 42),\n",
    "                          row_title = NULL)\n",
    "    return(origin_hm)\n",
    "}"
   ]
  },
  {
   "cell_type": "code",
   "execution_count": 6,
   "metadata": {},
   "outputs": [],
   "source": [
    "cancer_hm.fx <- function(cancer_mat){\n",
    "\n",
    "    colpal <- c(\"Lymphoma\" = \"#2c7fb8\",\n",
    "                \"Solid tumour\" = \"#edf8b1\")\n",
    "\n",
    "    cancer_hm = Heatmap(cancer_mat,\n",
    "                          #titles and names\n",
    "                          name = \"Cancer group\",\n",
    "                          show_row_names = TRUE,\n",
    "                          show_column_names = FALSE,    \n",
    "                          #clusters\n",
    "                          cluster_columns = FALSE,\n",
    "                          cluster_rows = FALSE,\n",
    "                          #aesthestics\n",
    "                          col = colpal,\n",
    "                          row_names_gp = gpar(fontsize = 20),\n",
    "                          height = unit(1, \"cm\"),\n",
    "                          column_title_gp = gpar(fontsize = 42),\n",
    "                          row_title = NULL)\n",
    "    return(cancer_hm)\n",
    "}"
   ]
  },
  {
   "cell_type": "code",
   "execution_count": 7,
   "metadata": {},
   "outputs": [],
   "source": [
    "type_hm.fx <- function(tumortype_mat){\n",
    "\n",
    "    colpal <- c(\"Primary\" = \"#d8daeb\",\n",
    "                \"Metastatic\" = \"#542788\")\n",
    "\n",
    "    type_hm = Heatmap(tumortype_mat,\n",
    "                          #titles and names\n",
    "                          name = \"Tumour type\",\n",
    "                          show_row_names = TRUE,\n",
    "                          show_column_names = FALSE,    \n",
    "                          #clusters\n",
    "                          cluster_columns = FALSE,\n",
    "                          cluster_rows = FALSE,\n",
    "                          #aesthestics\n",
    "                          col = colpal,\n",
    "                          row_names_gp = gpar(fontsize = 20),\n",
    "                          height = unit(1, \"cm\"),\n",
    "                          column_title_gp = gpar(fontsize = 42),\n",
    "                          row_title = NULL)\n",
    "    return(type_hm)\n",
    "}"
   ]
  },
  {
   "cell_type": "code",
   "execution_count": 8,
   "metadata": {},
   "outputs": [],
   "source": [
    "  # Function to align plots (from stackoverflow) \n",
    "  align_plots1 <- function (...) {\n",
    "    pl <- list(...)\n",
    "    stopifnot(do.call(all, lapply(pl, inherits, \"gg\")))\n",
    "    gl <- lapply(pl, ggplotGrob)\n",
    "    bind2 <- function(x, y) gtable:::rbind_gtable(x, y, \"first\")\n",
    "    combined <- Reduce(bind2, gl[-1], gl[[1]])\n",
    "    wl <- lapply(gl, \"[[\", \"widths\")\n",
    "    combined$widths <- do.call(grid::unit.pmax, wl)\n",
    "    grid::grid.newpage()\n",
    "    grid::grid.draw(combined)\n",
    "  }"
   ]
  },
  {
   "cell_type": "markdown",
   "metadata": {},
   "source": [
    "# Paths"
   ]
  },
  {
   "cell_type": "markdown",
   "metadata": {},
   "source": [
    "Mount h4h first"
   ]
  },
  {
   "cell_type": "code",
   "execution_count": 9,
   "metadata": {},
   "outputs": [],
   "source": [
    "mountpath <- \"/Users/anabbi/Desktop/H4H/INDICATE/CapTCR/NovaSeq/ds_ICT/clones/\""
   ]
  },
  {
   "cell_type": "code",
   "execution_count": 10,
   "metadata": {},
   "outputs": [],
   "source": [
    "datapath <- \"/Users/anabbi/OneDrive - UHN/Documents/INDICATE/Data/\"\n",
    "plotpath <- \"/Users/anabbi/OneDrive - UHN/Documents/INDICATE/Plots/\"\n",
    "manifestpath <- \"/Users/anabbi/OneDrive - UHN/Documents/INDICATE/Manifests/\""
   ]
  },
  {
   "cell_type": "markdown",
   "metadata": {},
   "source": [
    "# Main"
   ]
  },
  {
   "cell_type": "code",
   "execution_count": 11,
   "metadata": {},
   "outputs": [],
   "source": [
    "metadata <- read.csv(file.path(datapath,\"IND_estimate_metadata_IHC_trb_tmb.csv\"),header = T, stringsAsFactors = F, \n",
    "                     check.names = F)"
   ]
  },
  {
   "cell_type": "code",
   "execution_count": 12,
   "metadata": {},
   "outputs": [],
   "source": [
    "metadata_trb <- metadata[ !is.na(metadata$observed_Shannon),]"
   ]
  },
  {
   "cell_type": "code",
   "execution_count": 13,
   "metadata": {},
   "outputs": [],
   "source": [
    "metadata_trb <- metadata_trb[order(metadata_trb$cancer, metadata_trb$observed_Shannon), ]"
   ]
  },
  {
   "cell_type": "code",
   "execution_count": 14,
   "metadata": {},
   "outputs": [
    {
     "data": {
      "text/html": [
       "<style>\n",
       ".list-inline {list-style: none; margin:0; padding: 0}\n",
       ".list-inline>li {display: inline-block}\n",
       ".list-inline>li:not(:last-child)::after {content: \"\\00b7\"; padding: 0 .5ex}\n",
       "</style>\n",
       "<ol class=list-inline><li>45</li><li>77</li></ol>\n"
      ],
      "text/latex": [
       "\\begin{enumerate*}\n",
       "\\item 45\n",
       "\\item 77\n",
       "\\end{enumerate*}\n"
      ],
      "text/markdown": [
       "1. 45\n",
       "2. 77\n",
       "\n",
       "\n"
      ],
      "text/plain": [
       "[1] 45 77"
      ]
     },
     "metadata": {},
     "output_type": "display_data"
    }
   ],
   "source": [
    "dim(metadata_trb)"
   ]
  },
  {
   "cell_type": "code",
   "execution_count": 15,
   "metadata": {},
   "outputs": [
    {
     "data": {
      "text/html": [
       "6247"
      ],
      "text/latex": [
       "6247"
      ],
      "text/markdown": [
       "6247"
      ],
      "text/plain": [
       "[1] 6247"
      ]
     },
     "metadata": {},
     "output_type": "display_data"
    }
   ],
   "source": [
    "sum(metadata_trb$TRB)"
   ]
  },
  {
   "cell_type": "code",
   "execution_count": 16,
   "metadata": {},
   "outputs": [
    {
     "data": {
      "text/plain": [
       "   Min. 1st Qu.  Median    Mean 3rd Qu.    Max. \n",
       "  1.000   9.527  19.177  79.913  80.269 697.247 "
      ]
     },
     "metadata": {},
     "output_type": "display_data"
    }
   ],
   "source": [
    "summary(metadata_trb$observed_Shannon)"
   ]
  },
  {
   "cell_type": "code",
   "execution_count": 17,
   "metadata": {},
   "outputs": [],
   "source": [
    "metadata_trb$sampleorigin <- NA\n",
    "\n",
    "metadata_trb$sampleorigin[ metadata_trb$sample_origin == \"Lymph node\"] <- \"LN\"\n",
    "metadata_trb$sampleorigin[ metadata_trb$sample_origin != \"Lymph node\"] <- \"Others\""
   ]
  },
  {
   "cell_type": "code",
   "execution_count": 18,
   "metadata": {},
   "outputs": [
    {
     "data": {
      "text/plain": [
       "$LN\n",
       "   Min. 1st Qu.  Median    Mean 3rd Qu.    Max. \n",
       "  12.81   80.27  188.54  253.13  368.10  697.25 \n",
       "\n",
       "$Others\n",
       "   Min. 1st Qu.  Median    Mean 3rd Qu.    Max. \n",
       "  1.000   8.123  15.780  36.609  32.947 238.268 \n"
      ]
     },
     "metadata": {},
     "output_type": "display_data"
    }
   ],
   "source": [
    "tapply(metadata_trb$observed_Shannon, metadata_trb$sampleorigin, summary)"
   ]
  },
  {
   "cell_type": "code",
   "execution_count": 19,
   "metadata": {},
   "outputs": [
    {
     "data": {
      "text/plain": [
       "\n",
       "\tWilcoxon rank sum exact test\n",
       "\n",
       "data:  metadata_trb$observed_Shannon by metadata_trb$sampleorigin\n",
       "W = 287, p-value = 0.0001346\n",
       "alternative hypothesis: true location shift is not equal to 0\n"
      ]
     },
     "metadata": {},
     "output_type": "display_data"
    }
   ],
   "source": [
    "wilcox.test(metadata_trb$observed_Shannon ~ metadata_trb$sampleorigin)"
   ]
  },
  {
   "cell_type": "code",
   "execution_count": 20,
   "metadata": {},
   "outputs": [
    {
     "data": {
      "text/plain": [
       "$Metastatic\n",
       "   Min. 1st Qu.  Median    Mean 3rd Qu.    Max. \n",
       "  1.000   7.929  13.553  64.130  19.976 697.247 \n",
       "\n",
       "$Primary\n",
       "   Min. 1st Qu.  Median    Mean 3rd Qu.    Max. \n",
       "  2.813  10.838  31.515  87.804 137.869 380.961 \n"
      ]
     },
     "metadata": {},
     "output_type": "display_data"
    }
   ],
   "source": [
    "tapply(metadata_trb$observed_Shannon, metadata_trb$tumor_type, summary)"
   ]
  },
  {
   "cell_type": "code",
   "execution_count": 21,
   "metadata": {},
   "outputs": [
    {
     "data": {
      "text/plain": [
       "\n",
       "\tWilcoxon rank sum exact test\n",
       "\n",
       "data:  metadata_trb$observed_Shannon by metadata_trb$tumor_type\n",
       "W = 151, p-value = 0.07662\n",
       "alternative hypothesis: true location shift is not equal to 0\n"
      ]
     },
     "metadata": {},
     "output_type": "display_data"
    }
   ],
   "source": [
    "wilcox.test(metadata_trb$observed_Shannon ~ metadata_trb$tumor_type)"
   ]
  },
  {
   "cell_type": "code",
   "execution_count": 22,
   "metadata": {},
   "outputs": [
    {
     "data": {
      "text/plain": [
       "$Lymphoma\n",
       "   Min. 1st Qu.  Median    Mean 3rd Qu.    Max. \n",
       "  41.45  147.72  188.54  221.49  361.05  380.96 \n",
       "\n",
       "$`Solid tumour`\n",
       "   Min. 1st Qu.  Median    Mean 3rd Qu.    Max. \n",
       "  1.000   8.123  13.739  44.517  30.802 697.247 \n"
      ]
     },
     "metadata": {},
     "output_type": "display_data"
    }
   ],
   "source": [
    "tapply(metadata_trb$observed_Shannon, metadata_trb$cancer, summary)"
   ]
  },
  {
   "cell_type": "code",
   "execution_count": 23,
   "metadata": {},
   "outputs": [],
   "source": [
    "metadata_trb$sample_id_DNA <- factor(metadata_trb$sample_id_DNA, levels = metadata_trb$sample_id_DNA)"
   ]
  },
  {
   "cell_type": "markdown",
   "metadata": {},
   "source": [
    "## Plot clone fraction "
   ]
  },
  {
   "cell_type": "code",
   "execution_count": 24,
   "metadata": {},
   "outputs": [],
   "source": [
    "flelst <- list.files(mountpath,recursive = TRUE, pattern = \"CLONES_TRB\")"
   ]
  },
  {
   "cell_type": "code",
   "execution_count": 25,
   "metadata": {},
   "outputs": [
    {
     "data": {
      "text/html": [
       "54"
      ],
      "text/latex": [
       "54"
      ],
      "text/markdown": [
       "54"
      ],
      "text/plain": [
       "[1] 54"
      ]
     },
     "metadata": {},
     "output_type": "display_data"
    }
   ],
   "source": [
    "length(flelst)"
   ]
  },
  {
   "cell_type": "code",
   "execution_count": 26,
   "metadata": {
    "scrolled": true
   },
   "outputs": [
    {
     "name": "stderr",
     "output_type": "stream",
     "text": [
      "mixcr file: CLONES_TRBICT-06520001B0024D_T_DNA_capTCRseq_S63_L002_1600000.txt\n",
      "\n"
     ]
    },
    {
     "name": "stdout",
     "output_type": "stream",
     "text": [
      "[1] 118  35\n"
     ]
    },
    {
     "name": "stderr",
     "output_type": "stream",
     "text": [
      "mixcr file with only productive seqs: CLONES_TRBICT-06520001B0024D_T_DNA_capTCRseq_S63_L002_1600000.txt\n",
      "\n"
     ]
    },
    {
     "name": "stdout",
     "output_type": "stream",
     "text": [
      "[1] 84 35\n"
     ]
    },
    {
     "name": "stderr",
     "output_type": "stream",
     "text": [
      "mixcr file: CLONES_TRBICT-06520004C0016D_T_DNA_capTCRseq_S76_L002_1600000.txt\n",
      "\n"
     ]
    },
    {
     "name": "stdout",
     "output_type": "stream",
     "text": [
      "[1] 372  35\n"
     ]
    },
    {
     "name": "stderr",
     "output_type": "stream",
     "text": [
      "mixcr file with only productive seqs: CLONES_TRBICT-06520004C0016D_T_DNA_capTCRseq_S76_L002_1600000.txt\n",
      "\n"
     ]
    },
    {
     "name": "stdout",
     "output_type": "stream",
     "text": [
      "[1] 283  35\n"
     ]
    },
    {
     "name": "stderr",
     "output_type": "stream",
     "text": [
      "mixcr file: CLONES_TRBICT-06520007C0016D_T_DNA_capTCRseq_S71_L002_1600000.txt\n",
      "\n"
     ]
    },
    {
     "name": "stdout",
     "output_type": "stream",
     "text": [
      "[1] 310  35\n"
     ]
    },
    {
     "name": "stderr",
     "output_type": "stream",
     "text": [
      "mixcr file with only productive seqs: CLONES_TRBICT-06520007C0016D_T_DNA_capTCRseq_S71_L002_1600000.txt\n",
      "\n"
     ]
    },
    {
     "name": "stdout",
     "output_type": "stream",
     "text": [
      "[1] 231  35\n"
     ]
    },
    {
     "name": "stderr",
     "output_type": "stream",
     "text": [
      "mixcr file: CLONES_TRBICT-06520010B0021D_T_DNA_capTCRseq_S66_L002_1600000.txt\n",
      "\n"
     ]
    },
    {
     "name": "stdout",
     "output_type": "stream",
     "text": [
      "[1] 48 35\n"
     ]
    },
    {
     "name": "stderr",
     "output_type": "stream",
     "text": [
      "mixcr file with only productive seqs: CLONES_TRBICT-06520010B0021D_T_DNA_capTCRseq_S66_L002_1600000.txt\n",
      "\n"
     ]
    },
    {
     "name": "stdout",
     "output_type": "stream",
     "text": [
      "[1] 38 35\n"
     ]
    },
    {
     "name": "stderr",
     "output_type": "stream",
     "text": [
      "mixcr file: CLONES_TRBICT-06520011B0021D_T_DNA_capTCRseq_S70_L002_1600000.txt\n",
      "\n"
     ]
    },
    {
     "name": "stdout",
     "output_type": "stream",
     "text": [
      "[1] 12 35\n"
     ]
    },
    {
     "name": "stderr",
     "output_type": "stream",
     "text": [
      "mixcr file with only productive seqs: CLONES_TRBICT-06520011B0021D_T_DNA_capTCRseq_S70_L002_1600000.txt\n",
      "\n"
     ]
    },
    {
     "name": "stdout",
     "output_type": "stream",
     "text": [
      "[1] 11 35\n"
     ]
    },
    {
     "name": "stderr",
     "output_type": "stream",
     "text": [
      "mixcr file: CLONES_TRBICT-06520017C0016D_T_DNA_capTCRseq_S72_L002_1600000.txt\n",
      "\n"
     ]
    },
    {
     "name": "stdout",
     "output_type": "stream",
     "text": [
      "[1]  7 35\n"
     ]
    },
    {
     "name": "stderr",
     "output_type": "stream",
     "text": [
      "mixcr file with only productive seqs: CLONES_TRBICT-06520017C0016D_T_DNA_capTCRseq_S72_L002_1600000.txt\n",
      "\n"
     ]
    },
    {
     "name": "stdout",
     "output_type": "stream",
     "text": [
      "[1]  5 35\n"
     ]
    },
    {
     "name": "stderr",
     "output_type": "stream",
     "text": [
      "mixcr file: CLONES_TRBICT-06520019C0024D_T_DNA_capTCRseq_S77_L002_1600000.txt\n",
      "\n"
     ]
    },
    {
     "name": "stdout",
     "output_type": "stream",
     "text": [
      "[1] 264  35\n"
     ]
    },
    {
     "name": "stderr",
     "output_type": "stream",
     "text": [
      "mixcr file with only productive seqs: CLONES_TRBICT-06520019C0024D_T_DNA_capTCRseq_S77_L002_1600000.txt\n",
      "\n"
     ]
    },
    {
     "name": "stdout",
     "output_type": "stream",
     "text": [
      "[1] 208  35\n"
     ]
    },
    {
     "name": "stderr",
     "output_type": "stream",
     "text": [
      "mixcr file: CLONES_TRBICT-06520026C0012D_T_DNA_capTCRseq_S75_L002_1600000.txt\n",
      "\n"
     ]
    },
    {
     "name": "stdout",
     "output_type": "stream",
     "text": [
      "[1] 56 35\n"
     ]
    },
    {
     "name": "stderr",
     "output_type": "stream",
     "text": [
      "mixcr file with only productive seqs: CLONES_TRBICT-06520026C0012D_T_DNA_capTCRseq_S75_L002_1600000.txt\n",
      "\n"
     ]
    },
    {
     "name": "stdout",
     "output_type": "stream",
     "text": [
      "[1] 49 35\n"
     ]
    },
    {
     "name": "stderr",
     "output_type": "stream",
     "text": [
      "mixcr file: CLONES_TRBICT-06520030C0016D_T_DNA_capTCRseq_S73_L002_1600000.txt\n",
      "\n"
     ]
    },
    {
     "name": "stdout",
     "output_type": "stream",
     "text": [
      "[1]  4 35\n"
     ]
    },
    {
     "name": "stderr",
     "output_type": "stream",
     "text": [
      "mixcr file with only productive seqs: CLONES_TRBICT-06520030C0016D_T_DNA_capTCRseq_S73_L002_1600000.txt\n",
      "\n"
     ]
    },
    {
     "name": "stdout",
     "output_type": "stream",
     "text": [
      "[1]  3 35\n"
     ]
    },
    {
     "name": "stderr",
     "output_type": "stream",
     "text": [
      "mixcr file: CLONES_TRBICT-06520033C0016D_T_DNA_capTCRseq_S79_L002_1600000.txt\n",
      "\n"
     ]
    },
    {
     "name": "stdout",
     "output_type": "stream",
     "text": [
      "[1] 746  35\n"
     ]
    },
    {
     "name": "stderr",
     "output_type": "stream",
     "text": [
      "mixcr file with only productive seqs: CLONES_TRBICT-06520033C0016D_T_DNA_capTCRseq_S79_L002_1600000.txt\n",
      "\n"
     ]
    },
    {
     "name": "stdout",
     "output_type": "stream",
     "text": [
      "[1] 602  35\n"
     ]
    },
    {
     "name": "stderr",
     "output_type": "stream",
     "text": [
      "mixcr file: CLONES_TRBICT-06520034C0016D_T_DNA_capTCRseq_S86_L002_1600000.txt\n",
      "\n"
     ]
    },
    {
     "name": "stdout",
     "output_type": "stream",
     "text": [
      "[1]  1 35\n"
     ]
    },
    {
     "name": "stderr",
     "output_type": "stream",
     "text": [
      "mixcr file with only productive seqs: CLONES_TRBICT-06520034C0016D_T_DNA_capTCRseq_S86_L002_1600000.txt\n",
      "\n"
     ]
    },
    {
     "name": "stdout",
     "output_type": "stream",
     "text": [
      "[1]  1 35\n"
     ]
    },
    {
     "name": "stderr",
     "output_type": "stream",
     "text": [
      "mixcr file: CLONES_TRBICT-06520038B0024D_T_DNA_capTCRseq_S78_L002_1600000.txt\n",
      "\n"
     ]
    },
    {
     "name": "stdout",
     "output_type": "stream",
     "text": [
      "[1] 10 35\n"
     ]
    },
    {
     "name": "stderr",
     "output_type": "stream",
     "text": [
      "mixcr file with only productive seqs: CLONES_TRBICT-06520038B0024D_T_DNA_capTCRseq_S78_L002_1600000.txt\n",
      "\n"
     ]
    },
    {
     "name": "stdout",
     "output_type": "stream",
     "text": [
      "[1]  9 35\n"
     ]
    },
    {
     "name": "stderr",
     "output_type": "stream",
     "text": [
      "mixcr file: CLONES_TRBICT-06520046C0016D_T_DNA_capTCRseq_S83_L002_1600000.txt\n",
      "\n"
     ]
    },
    {
     "name": "stdout",
     "output_type": "stream",
     "text": [
      "[1] 34 35\n"
     ]
    },
    {
     "name": "stderr",
     "output_type": "stream",
     "text": [
      "mixcr file with only productive seqs: CLONES_TRBICT-06520046C0016D_T_DNA_capTCRseq_S83_L002_1600000.txt\n",
      "\n"
     ]
    },
    {
     "name": "stdout",
     "output_type": "stream",
     "text": [
      "[1] 30 35\n"
     ]
    },
    {
     "name": "stderr",
     "output_type": "stream",
     "text": [
      "mixcr file: CLONES_TRBICT-06520049C0019D_T_DNA_capTCRseq_S67_L002_1600000.txt\n",
      "\n"
     ]
    },
    {
     "name": "stdout",
     "output_type": "stream",
     "text": [
      "[1] 22 35\n"
     ]
    },
    {
     "name": "stderr",
     "output_type": "stream",
     "text": [
      "mixcr file with only productive seqs: CLONES_TRBICT-06520049C0019D_T_DNA_capTCRseq_S67_L002_1600000.txt\n",
      "\n"
     ]
    },
    {
     "name": "stdout",
     "output_type": "stream",
     "text": [
      "[1] 18 35\n"
     ]
    },
    {
     "name": "stderr",
     "output_type": "stream",
     "text": [
      "mixcr file: CLONES_TRBICT-06520058C0044D_T_DNA_capTCRseq_S69_L002_1600000.txt\n",
      "\n"
     ]
    },
    {
     "name": "stdout",
     "output_type": "stream",
     "text": [
      "[1] 220  35\n"
     ]
    },
    {
     "name": "stderr",
     "output_type": "stream",
     "text": [
      "mixcr file with only productive seqs: CLONES_TRBICT-06520058C0044D_T_DNA_capTCRseq_S69_L002_1600000.txt\n",
      "\n"
     ]
    },
    {
     "name": "stdout",
     "output_type": "stream",
     "text": [
      "[1] 170  35\n"
     ]
    },
    {
     "name": "stderr",
     "output_type": "stream",
     "text": [
      "mixcr file: CLONES_TRBICT-06520059B0021D_T_DNA_capTCRseq_S85_L002_1600000.txt\n",
      "\n"
     ]
    },
    {
     "name": "stdout",
     "output_type": "stream",
     "text": [
      "[1] 43 35\n"
     ]
    },
    {
     "name": "stderr",
     "output_type": "stream",
     "text": [
      "mixcr file with only productive seqs: CLONES_TRBICT-06520059B0021D_T_DNA_capTCRseq_S85_L002_1600000.txt\n",
      "\n"
     ]
    },
    {
     "name": "stdout",
     "output_type": "stream",
     "text": [
      "[1] 31 35\n"
     ]
    },
    {
     "name": "stderr",
     "output_type": "stream",
     "text": [
      "mixcr file: CLONES_TRBICT-06520063C0041D_T_DNA_capTCRseq_S84_L002_1600000.txt\n",
      "\n"
     ]
    },
    {
     "name": "stdout",
     "output_type": "stream",
     "text": [
      "[1] 24 35\n"
     ]
    },
    {
     "name": "stderr",
     "output_type": "stream",
     "text": [
      "mixcr file with only productive seqs: CLONES_TRBICT-06520063C0041D_T_DNA_capTCRseq_S84_L002_1600000.txt\n",
      "\n"
     ]
    },
    {
     "name": "stdout",
     "output_type": "stream",
     "text": [
      "[1] 17 35\n"
     ]
    },
    {
     "name": "stderr",
     "output_type": "stream",
     "text": [
      "mixcr file: CLONES_TRBICT-06520067C0016D_T_DNA_capTCRseq_S81_L002_1600000.txt\n",
      "\n"
     ]
    },
    {
     "name": "stdout",
     "output_type": "stream",
     "text": [
      "[1] 36 35\n"
     ]
    },
    {
     "name": "stderr",
     "output_type": "stream",
     "text": [
      "mixcr file with only productive seqs: CLONES_TRBICT-06520067C0016D_T_DNA_capTCRseq_S81_L002_1600000.txt\n",
      "\n"
     ]
    },
    {
     "name": "stdout",
     "output_type": "stream",
     "text": [
      "[1] 29 35\n"
     ]
    },
    {
     "name": "stderr",
     "output_type": "stream",
     "text": [
      "mixcr file: CLONES_TRBICT-06520068B0021D_T_DNA_capTCRseq_S68_L002_1600000.txt\n",
      "\n"
     ]
    },
    {
     "name": "stdout",
     "output_type": "stream",
     "text": [
      "[1] 17 35\n"
     ]
    },
    {
     "name": "stderr",
     "output_type": "stream",
     "text": [
      "mixcr file with only productive seqs: CLONES_TRBICT-06520068B0021D_T_DNA_capTCRseq_S68_L002_1600000.txt\n",
      "\n"
     ]
    },
    {
     "name": "stdout",
     "output_type": "stream",
     "text": [
      "[1] 16 35\n"
     ]
    },
    {
     "name": "stderr",
     "output_type": "stream",
     "text": [
      "mixcr file: CLONES_TRBICT-06520070C0016D_T_DNA_capTCRseq_S82_L002_1600000.txt\n",
      "\n"
     ]
    },
    {
     "name": "stdout",
     "output_type": "stream",
     "text": [
      "[1]  6 35\n"
     ]
    },
    {
     "name": "stderr",
     "output_type": "stream",
     "text": [
      "mixcr file with only productive seqs: CLONES_TRBICT-06520070C0016D_T_DNA_capTCRseq_S82_L002_1600000.txt\n",
      "\n"
     ]
    },
    {
     "name": "stdout",
     "output_type": "stream",
     "text": [
      "[1]  3 35\n"
     ]
    },
    {
     "name": "stderr",
     "output_type": "stream",
     "text": [
      "mixcr file: CLONES_TRBICT-06520071C0018D_T_DNA_capTCRseq_S80_L002_1600000.txt\n",
      "\n"
     ]
    },
    {
     "name": "stdout",
     "output_type": "stream",
     "text": [
      "[1] 42 35\n"
     ]
    },
    {
     "name": "stderr",
     "output_type": "stream",
     "text": [
      "mixcr file with only productive seqs: CLONES_TRBICT-06520071C0018D_T_DNA_capTCRseq_S80_L002_1600000.txt\n",
      "\n"
     ]
    },
    {
     "name": "stdout",
     "output_type": "stream",
     "text": [
      "[1] 31 35\n"
     ]
    },
    {
     "name": "stderr",
     "output_type": "stream",
     "text": [
      "mixcr file: CLONES_TRBICT-06520074C0018D_T_DNA_capTCRseq_S61_L002_1600000.txt\n",
      "\n"
     ]
    },
    {
     "name": "stdout",
     "output_type": "stream",
     "text": [
      "[1] 69 35\n"
     ]
    },
    {
     "name": "stderr",
     "output_type": "stream",
     "text": [
      "mixcr file with only productive seqs: CLONES_TRBICT-06520074C0018D_T_DNA_capTCRseq_S61_L002_1600000.txt\n",
      "\n"
     ]
    },
    {
     "name": "stdout",
     "output_type": "stream",
     "text": [
      "[1] 48 35\n"
     ]
    },
    {
     "name": "stderr",
     "output_type": "stream",
     "text": [
      "mixcr file: CLONES_TRBICT-06520078C0026D_T_DNA_capTCRseq_S64_L002_1600000.txt\n",
      "\n"
     ]
    },
    {
     "name": "stdout",
     "output_type": "stream",
     "text": [
      "[1] 1289   35\n"
     ]
    },
    {
     "name": "stderr",
     "output_type": "stream",
     "text": [
      "mixcr file with only productive seqs: CLONES_TRBICT-06520078C0026D_T_DNA_capTCRseq_S64_L002_1600000.txt\n",
      "\n"
     ]
    },
    {
     "name": "stdout",
     "output_type": "stream",
     "text": [
      "[1] 1020   35\n"
     ]
    },
    {
     "name": "stderr",
     "output_type": "stream",
     "text": [
      "mixcr file: CLONES_TRBICT-06520080B0021D_T_DNA_capTCRseq_S74_L002_1600000.txt\n",
      "\n"
     ]
    },
    {
     "name": "stdout",
     "output_type": "stream",
     "text": [
      "[1] 16 35\n"
     ]
    },
    {
     "name": "stderr",
     "output_type": "stream",
     "text": [
      "mixcr file with only productive seqs: CLONES_TRBICT-06520080B0021D_T_DNA_capTCRseq_S74_L002_1600000.txt\n",
      "\n"
     ]
    },
    {
     "name": "stdout",
     "output_type": "stream",
     "text": [
      "[1] 13 35\n"
     ]
    },
    {
     "name": "stderr",
     "output_type": "stream",
     "text": [
      "mixcr file: CLONES_TRBICT-06520082C0016D_T_DNA_capTCRseq_S62_L002_1600000.txt\n",
      "\n"
     ]
    },
    {
     "name": "stdout",
     "output_type": "stream",
     "text": [
      "[1] 469  35\n"
     ]
    },
    {
     "name": "stderr",
     "output_type": "stream",
     "text": [
      "mixcr file with only productive seqs: CLONES_TRBICT-06520082C0016D_T_DNA_capTCRseq_S62_L002_1600000.txt\n",
      "\n"
     ]
    },
    {
     "name": "stdout",
     "output_type": "stream",
     "text": [
      "[1] 361  35\n"
     ]
    },
    {
     "name": "stderr",
     "output_type": "stream",
     "text": [
      "mixcr file: CLONES_TRBICT-06520090C0019D_T_DNA_capTCRseq_S65_L002_1600000.txt\n",
      "\n"
     ]
    },
    {
     "name": "stdout",
     "output_type": "stream",
     "text": [
      "[1] 2266   35\n"
     ]
    },
    {
     "name": "stderr",
     "output_type": "stream",
     "text": [
      "mixcr file with only productive seqs: CLONES_TRBICT-06520090C0019D_T_DNA_capTCRseq_S65_L002_1600000.txt\n",
      "\n"
     ]
    },
    {
     "name": "stdout",
     "output_type": "stream",
     "text": [
      "[1] 1796   35\n"
     ]
    },
    {
     "name": "stderr",
     "output_type": "stream",
     "text": [
      "mixcr file: CLONES_TRBICT-6201764804-02_T_DNA_capTCRseq_S39_L002_1600000.txt\n",
      "\n"
     ]
    },
    {
     "name": "stdout",
     "output_type": "stream",
     "text": [
      "[1] 19 35\n"
     ]
    },
    {
     "name": "stderr",
     "output_type": "stream",
     "text": [
      "mixcr file with only productive seqs: CLONES_TRBICT-6201764804-02_T_DNA_capTCRseq_S39_L002_1600000.txt\n",
      "\n"
     ]
    },
    {
     "name": "stdout",
     "output_type": "stream",
     "text": [
      "[1] 18 35\n"
     ]
    },
    {
     "name": "stderr",
     "output_type": "stream",
     "text": [
      "mixcr file: CLONES_TRBICT-6201764818-01_T_DNA_capTCRseq_S47_L002_1600000.txt\n",
      "\n"
     ]
    },
    {
     "name": "stdout",
     "output_type": "stream",
     "text": [
      "[1] 25 35\n"
     ]
    },
    {
     "name": "stderr",
     "output_type": "stream",
     "text": [
      "mixcr file with only productive seqs: CLONES_TRBICT-6201764818-01_T_DNA_capTCRseq_S47_L002_1600000.txt\n",
      "\n"
     ]
    },
    {
     "name": "stdout",
     "output_type": "stream",
     "text": [
      "[1] 18 35\n"
     ]
    },
    {
     "name": "stderr",
     "output_type": "stream",
     "text": [
      "mixcr file: CLONES_TRBICT-6201764824-02_T_DNA_capTCRseq_S41_L002_1600000.txt\n",
      "\n"
     ]
    },
    {
     "name": "stdout",
     "output_type": "stream",
     "text": [
      "[1] 65 35\n"
     ]
    },
    {
     "name": "stderr",
     "output_type": "stream",
     "text": [
      "mixcr file with only productive seqs: CLONES_TRBICT-6201764824-02_T_DNA_capTCRseq_S41_L002_1600000.txt\n",
      "\n"
     ]
    },
    {
     "name": "stdout",
     "output_type": "stream",
     "text": [
      "[1] 50 35\n"
     ]
    },
    {
     "name": "stderr",
     "output_type": "stream",
     "text": [
      "mixcr file: CLONES_TRBICT-6201815172-01_T_DNA_capTCRseq_S48_L002_1600000.txt\n",
      "\n"
     ]
    },
    {
     "name": "stdout",
     "output_type": "stream",
     "text": [
      "[1] 384  35\n"
     ]
    },
    {
     "name": "stderr",
     "output_type": "stream",
     "text": [
      "mixcr file with only productive seqs: CLONES_TRBICT-6201815172-01_T_DNA_capTCRseq_S48_L002_1600000.txt\n",
      "\n"
     ]
    },
    {
     "name": "stdout",
     "output_type": "stream",
     "text": [
      "[1] 299  35\n"
     ]
    },
    {
     "name": "stderr",
     "output_type": "stream",
     "text": [
      "mixcr file: CLONES_TRBICT-6201815273-02_T_DNA_capTCRseq_S60_L002_1600000.txt\n",
      "\n"
     ]
    },
    {
     "name": "stdout",
     "output_type": "stream",
     "text": [
      "[1] 23 35\n"
     ]
    },
    {
     "name": "stderr",
     "output_type": "stream",
     "text": [
      "mixcr file with only productive seqs: CLONES_TRBICT-6201815273-02_T_DNA_capTCRseq_S60_L002_1600000.txt\n",
      "\n"
     ]
    },
    {
     "name": "stdout",
     "output_type": "stream",
     "text": [
      "[1] 16 35\n"
     ]
    },
    {
     "name": "stderr",
     "output_type": "stream",
     "text": [
      "mixcr file: CLONES_TRBICT-6201855900-02_T_DNA_capTCRseq_S31_L002_1600000.txt\n",
      "\n"
     ]
    },
    {
     "name": "stdout",
     "output_type": "stream",
     "text": [
      "[1] 43 35\n"
     ]
    },
    {
     "name": "stderr",
     "output_type": "stream",
     "text": [
      "mixcr file with only productive seqs: CLONES_TRBICT-6201855900-02_T_DNA_capTCRseq_S31_L002_1600000.txt\n",
      "\n"
     ]
    },
    {
     "name": "stdout",
     "output_type": "stream",
     "text": [
      "[1] 28 35\n"
     ]
    },
    {
     "name": "stderr",
     "output_type": "stream",
     "text": [
      "mixcr file: CLONES_TRBICT-6202116713-02_T_DNA_capTCRseq_S59_L002_1600000.txt\n",
      "\n"
     ]
    },
    {
     "name": "stdout",
     "output_type": "stream",
     "text": [
      "[1] 322  35\n"
     ]
    },
    {
     "name": "stderr",
     "output_type": "stream",
     "text": [
      "mixcr file with only productive seqs: CLONES_TRBICT-6202116713-02_T_DNA_capTCRseq_S59_L002_1600000.txt\n",
      "\n"
     ]
    },
    {
     "name": "stdout",
     "output_type": "stream",
     "text": [
      "[1] 243  35\n"
     ]
    },
    {
     "name": "stderr",
     "output_type": "stream",
     "text": [
      "mixcr file: CLONES_TRBICT-6202116728-02_T_DNA_capTCRseq_S40_L002_1600000.txt\n",
      "\n"
     ]
    },
    {
     "name": "stdout",
     "output_type": "stream",
     "text": [
      "[1]  8 35\n"
     ]
    },
    {
     "name": "stderr",
     "output_type": "stream",
     "text": [
      "mixcr file with only productive seqs: CLONES_TRBICT-6202116728-02_T_DNA_capTCRseq_S40_L002_1600000.txt\n",
      "\n"
     ]
    },
    {
     "name": "stdout",
     "output_type": "stream",
     "text": [
      "[1]  4 35\n"
     ]
    },
    {
     "name": "stderr",
     "output_type": "stream",
     "text": [
      "mixcr file: CLONES_TRBICT-6202116735-01_T_DNA_capTCRseq_S54_L002_1600000.txt\n",
      "\n"
     ]
    },
    {
     "name": "stdout",
     "output_type": "stream",
     "text": [
      "[1]  2 35\n"
     ]
    },
    {
     "name": "stderr",
     "output_type": "stream",
     "text": [
      "mixcr file with only productive seqs: CLONES_TRBICT-6202116735-01_T_DNA_capTCRseq_S54_L002_1600000.txt\n",
      "\n"
     ]
    },
    {
     "name": "stdout",
     "output_type": "stream",
     "text": [
      "[1]  1 35\n"
     ]
    },
    {
     "name": "stderr",
     "output_type": "stream",
     "text": [
      "mixcr file: CLONES_TRBICT-6202116747_T_DNA_capTCRseq_S50_L002_1600000.txt\n",
      "\n"
     ]
    },
    {
     "name": "stdout",
     "output_type": "stream",
     "text": [
      "[1]  7 35\n"
     ]
    },
    {
     "name": "stderr",
     "output_type": "stream",
     "text": [
      "mixcr file with only productive seqs: CLONES_TRBICT-6202116747_T_DNA_capTCRseq_S50_L002_1600000.txt\n",
      "\n"
     ]
    },
    {
     "name": "stdout",
     "output_type": "stream",
     "text": [
      "[1]  2 35\n"
     ]
    },
    {
     "name": "stderr",
     "output_type": "stream",
     "text": [
      "mixcr file: CLONES_TRBICT-6202218209-01_T_DNA_capTCRseq_S58_L002_1600000.txt\n",
      "\n"
     ]
    },
    {
     "name": "stdout",
     "output_type": "stream",
     "text": [
      "[1] 691  35\n"
     ]
    },
    {
     "name": "stderr",
     "output_type": "stream",
     "text": [
      "mixcr file with only productive seqs: CLONES_TRBICT-6202218209-01_T_DNA_capTCRseq_S58_L002_1600000.txt\n",
      "\n"
     ]
    },
    {
     "name": "stdout",
     "output_type": "stream",
     "text": [
      "[1] 545  35\n"
     ]
    },
    {
     "name": "stderr",
     "output_type": "stream",
     "text": [
      "mixcr file: CLONES_TRBICT-6202255794-02_T_DNA_capTCRseq_S37_L002_1600000.txt\n",
      "\n"
     ]
    },
    {
     "name": "stdout",
     "output_type": "stream",
     "text": [
      "[1] 211  35\n"
     ]
    },
    {
     "name": "stderr",
     "output_type": "stream",
     "text": [
      "mixcr file with only productive seqs: CLONES_TRBICT-6202255794-02_T_DNA_capTCRseq_S37_L002_1600000.txt\n",
      "\n"
     ]
    },
    {
     "name": "stdout",
     "output_type": "stream",
     "text": [
      "[1] 151  35\n"
     ]
    },
    {
     "name": "stderr",
     "output_type": "stream",
     "text": [
      "mixcr file: CLONES_TRBICT-6202261663-02_T_DNA_capTCRseq_S57_L002_1600000.txt\n",
      "\n"
     ]
    },
    {
     "name": "stdout",
     "output_type": "stream",
     "text": [
      "[1] 11 35\n"
     ]
    },
    {
     "name": "stderr",
     "output_type": "stream",
     "text": [
      "mixcr file with only productive seqs: CLONES_TRBICT-6202261663-02_T_DNA_capTCRseq_S57_L002_1600000.txt\n",
      "\n"
     ]
    },
    {
     "name": "stdout",
     "output_type": "stream",
     "text": [
      "[1] 10 35\n"
     ]
    },
    {
     "name": "stderr",
     "output_type": "stream",
     "text": [
      "mixcr file: CLONES_TRBICT-6202277503-02_T_DNA_capTCRseq_S35_L002_1600000.txt\n",
      "\n"
     ]
    },
    {
     "name": "stdout",
     "output_type": "stream",
     "text": [
      "[1] 22 35\n"
     ]
    },
    {
     "name": "stderr",
     "output_type": "stream",
     "text": [
      "mixcr file with only productive seqs: CLONES_TRBICT-6202277503-02_T_DNA_capTCRseq_S35_L002_1600000.txt\n",
      "\n"
     ]
    },
    {
     "name": "stdout",
     "output_type": "stream",
     "text": [
      "[1] 18 35\n"
     ]
    },
    {
     "name": "stderr",
     "output_type": "stream",
     "text": [
      "mixcr file: CLONES_TRBICT-6202549619-02_T_DNA_capTCRseq_S33_L002_1600000.txt\n",
      "\n"
     ]
    },
    {
     "name": "stdout",
     "output_type": "stream",
     "text": [
      "[1] 17 35\n"
     ]
    },
    {
     "name": "stderr",
     "output_type": "stream",
     "text": [
      "mixcr file with only productive seqs: CLONES_TRBICT-6202549619-02_T_DNA_capTCRseq_S33_L002_1600000.txt\n",
      "\n"
     ]
    },
    {
     "name": "stdout",
     "output_type": "stream",
     "text": [
      "[1] 13 35\n"
     ]
    },
    {
     "name": "stderr",
     "output_type": "stream",
     "text": [
      "mixcr file: CLONES_TRBICT-6202785779-02_T_DNA_capTCRseq_S32_L002_1600000.txt\n",
      "\n"
     ]
    },
    {
     "name": "stdout",
     "output_type": "stream",
     "text": [
      "[1] 62 35\n"
     ]
    },
    {
     "name": "stderr",
     "output_type": "stream",
     "text": [
      "mixcr file with only productive seqs: CLONES_TRBICT-6202785779-02_T_DNA_capTCRseq_S32_L002_1600000.txt\n",
      "\n"
     ]
    },
    {
     "name": "stdout",
     "output_type": "stream",
     "text": [
      "[1] 50 35\n"
     ]
    },
    {
     "name": "stderr",
     "output_type": "stream",
     "text": [
      "mixcr file: CLONES_TRBICT-6202994429-02_T_DNA_capTCRseq_S56_L002_1600000.txt\n",
      "\n"
     ]
    },
    {
     "name": "stdout",
     "output_type": "stream",
     "text": [
      "[1] 60 35\n"
     ]
    },
    {
     "name": "stderr",
     "output_type": "stream",
     "text": [
      "mixcr file with only productive seqs: CLONES_TRBICT-6202994429-02_T_DNA_capTCRseq_S56_L002_1600000.txt\n",
      "\n"
     ]
    },
    {
     "name": "stdout",
     "output_type": "stream",
     "text": [
      "[1] 44 35\n"
     ]
    },
    {
     "name": "stderr",
     "output_type": "stream",
     "text": [
      "mixcr file: CLONES_TRBICT-6203065383-03_T_DNA_capTCRseq_S46_L002_1600000.txt\n",
      "\n"
     ]
    },
    {
     "name": "stdout",
     "output_type": "stream",
     "text": [
      "[1] 338  35\n"
     ]
    },
    {
     "name": "stderr",
     "output_type": "stream",
     "text": [
      "mixcr file with only productive seqs: CLONES_TRBICT-6203065383-03_T_DNA_capTCRseq_S46_L002_1600000.txt\n",
      "\n"
     ]
    },
    {
     "name": "stdout",
     "output_type": "stream",
     "text": [
      "[1] 267  35\n"
     ]
    },
    {
     "name": "stderr",
     "output_type": "stream",
     "text": [
      "mixcr file: CLONES_TRBICT-6203065392-02_T_DNA_capTCRseq_S43_L002_1600000.txt\n",
      "\n"
     ]
    },
    {
     "name": "stdout",
     "output_type": "stream",
     "text": [
      "[1] 604  35\n"
     ]
    },
    {
     "name": "stderr",
     "output_type": "stream",
     "text": [
      "mixcr file with only productive seqs: CLONES_TRBICT-6203065392-02_T_DNA_capTCRseq_S43_L002_1600000.txt\n",
      "\n"
     ]
    },
    {
     "name": "stdout",
     "output_type": "stream",
     "text": [
      "[1] 489  35\n"
     ]
    },
    {
     "name": "stderr",
     "output_type": "stream",
     "text": [
      "mixcr file: CLONES_TRBICT-6203065431-03_T_DNA_capTCRseq_S38_L002_1600000.txt\n",
      "\n"
     ]
    },
    {
     "name": "stdout",
     "output_type": "stream",
     "text": [
      "[1] 24 35\n"
     ]
    },
    {
     "name": "stderr",
     "output_type": "stream",
     "text": [
      "mixcr file with only productive seqs: CLONES_TRBICT-6203065431-03_T_DNA_capTCRseq_S38_L002_1600000.txt\n",
      "\n"
     ]
    },
    {
     "name": "stdout",
     "output_type": "stream",
     "text": [
      "[1] 19 35\n"
     ]
    },
    {
     "name": "stderr",
     "output_type": "stream",
     "text": [
      "mixcr file: CLONES_TRBICT-6203065432-01_T_DNA_capTCRseq_S34_L002_1600000.txt\n",
      "\n"
     ]
    },
    {
     "name": "stdout",
     "output_type": "stream",
     "text": [
      "[1] 12 35\n"
     ]
    },
    {
     "name": "stderr",
     "output_type": "stream",
     "text": [
      "mixcr file with only productive seqs: CLONES_TRBICT-6203065432-01_T_DNA_capTCRseq_S34_L002_1600000.txt\n",
      "\n"
     ]
    },
    {
     "name": "stdout",
     "output_type": "stream",
     "text": [
      "[1]  6 35\n"
     ]
    },
    {
     "name": "stderr",
     "output_type": "stream",
     "text": [
      "mixcr file: CLONES_TRBICT-6203065440-02_T_DNA_capTCRseq_S36_L002_1600000.txt\n",
      "\n"
     ]
    },
    {
     "name": "stdout",
     "output_type": "stream",
     "text": [
      "[1]  6 35\n"
     ]
    },
    {
     "name": "stderr",
     "output_type": "stream",
     "text": [
      "mixcr file with only productive seqs: CLONES_TRBICT-6203065440-02_T_DNA_capTCRseq_S36_L002_1600000.txt\n",
      "\n"
     ]
    },
    {
     "name": "stdout",
     "output_type": "stream",
     "text": [
      "[1]  5 35\n"
     ]
    },
    {
     "name": "stderr",
     "output_type": "stream",
     "text": [
      "mixcr file: CLONES_TRBICT-6203065456-02_T_DNA_capTCRseq_S52_L002_1600000.txt\n",
      "\n"
     ]
    },
    {
     "name": "stdout",
     "output_type": "stream",
     "text": [
      "[1] 806  35\n"
     ]
    },
    {
     "name": "stderr",
     "output_type": "stream",
     "text": [
      "mixcr file with only productive seqs: CLONES_TRBICT-6203065456-02_T_DNA_capTCRseq_S52_L002_1600000.txt\n",
      "\n"
     ]
    },
    {
     "name": "stdout",
     "output_type": "stream",
     "text": [
      "[1] 626  35\n"
     ]
    },
    {
     "name": "stderr",
     "output_type": "stream",
     "text": [
      "mixcr file: CLONES_TRBICT-6204179150-01_T_DNA_capTCRseq_S55_L002_1600000.txt\n",
      "\n"
     ]
    },
    {
     "name": "stdout",
     "output_type": "stream",
     "text": [
      "[1] 90 35\n"
     ]
    },
    {
     "name": "stderr",
     "output_type": "stream",
     "text": [
      "mixcr file with only productive seqs: CLONES_TRBICT-6204179150-01_T_DNA_capTCRseq_S55_L002_1600000.txt\n",
      "\n"
     ]
    },
    {
     "name": "stdout",
     "output_type": "stream",
     "text": [
      "[1] 74 35\n"
     ]
    },
    {
     "name": "stderr",
     "output_type": "stream",
     "text": [
      "mixcr file: CLONES_TRBICT-6501799176-02_T_DNA_capTCRseq_S53_L002_1600000.txt\n",
      "\n"
     ]
    },
    {
     "name": "stdout",
     "output_type": "stream",
     "text": [
      "[1] 36 35\n"
     ]
    },
    {
     "name": "stderr",
     "output_type": "stream",
     "text": [
      "mixcr file with only productive seqs: CLONES_TRBICT-6501799176-02_T_DNA_capTCRseq_S53_L002_1600000.txt\n",
      "\n"
     ]
    },
    {
     "name": "stdout",
     "output_type": "stream",
     "text": [
      "[1] 26 35\n"
     ]
    },
    {
     "name": "stderr",
     "output_type": "stream",
     "text": [
      "mixcr file: CLONES_TRBICT-6502064156-02_T_DNA_capTCRseq_S51_L002_1600000.txt\n",
      "\n"
     ]
    },
    {
     "name": "stdout",
     "output_type": "stream",
     "text": [
      "[1] 18 35\n"
     ]
    },
    {
     "name": "stderr",
     "output_type": "stream",
     "text": [
      "mixcr file with only productive seqs: CLONES_TRBICT-6502064156-02_T_DNA_capTCRseq_S51_L002_1600000.txt\n",
      "\n"
     ]
    },
    {
     "name": "stdout",
     "output_type": "stream",
     "text": [
      "[1] 13 35\n"
     ]
    },
    {
     "name": "stderr",
     "output_type": "stream",
     "text": [
      "mixcr file: CLONES_TRBICT-6502168706_T_DNA_capTCRseq_S42_L002_1600000.txt\n",
      "\n"
     ]
    },
    {
     "name": "stdout",
     "output_type": "stream",
     "text": [
      "[1] 141  35\n"
     ]
    },
    {
     "name": "stderr",
     "output_type": "stream",
     "text": [
      "mixcr file with only productive seqs: CLONES_TRBICT-6502168706_T_DNA_capTCRseq_S42_L002_1600000.txt\n",
      "\n"
     ]
    },
    {
     "name": "stdout",
     "output_type": "stream",
     "text": [
      "[1] 109  35\n"
     ]
    },
    {
     "name": "stderr",
     "output_type": "stream",
     "text": [
      "mixcr file: CLONES_TRBICT-6502553313-02_T_DNA_capTCRseq_S49_L002_1600000.txt\n",
      "\n"
     ]
    },
    {
     "name": "stdout",
     "output_type": "stream",
     "text": [
      "[1] 244  35\n"
     ]
    },
    {
     "name": "stderr",
     "output_type": "stream",
     "text": [
      "mixcr file with only productive seqs: CLONES_TRBICT-6502553313-02_T_DNA_capTCRseq_S49_L002_1600000.txt\n",
      "\n"
     ]
    },
    {
     "name": "stdout",
     "output_type": "stream",
     "text": [
      "[1] 179  35\n"
     ]
    }
   ],
   "source": [
    "i <- 1\n",
    "  for (f in flelst){\n",
    "    mixcrfle <- read.table(paste0(mountpath, f), header = TRUE, sep = \"\\t\", stringsAsFactors = F, na.strings = c(\"\", \"NA\"))\n",
    "    message(\"mixcr file: \", f)  \n",
    "    print(dim(mixcrfle))  \n",
    "    #remove nonproductive seqs  \n",
    "    mixcr_productivefle <- mixcrfle[!grepl(\"_\",mixcrfle$aaSeqCDR3)& !grepl(\"[*]\",mixcrfle$aaSeqCDR3),]  \n",
    "    message(\"mixcr file with only productive seqs: \", f)  \n",
    "    print(dim(mixcr_productivefle)) \n",
    "    \n",
    "    #recalculate cloneFraction\n",
    "    mixcr_productivefle$cloneFraction <- NA\n",
    "    mixcr_productivefle$cloneFraction <- mixcr_productivefle$cloneCount/sum(mixcr_productivefle$cloneCount)\n",
    "      \n",
    "    if(i == 1){\n",
    "      compldfle <- mixcr_productivefle\n",
    "      compldfle <- cbind(cloneno = row.names(compldfle), \n",
    "                         filename = f, \n",
    "                         compldfle)\n",
    "      i <- i + 1   \n",
    "    }\n",
    "    else{\n",
    "      compldfle1 <- mixcr_productivefle\n",
    "      compldfle1 <- cbind(cloneno = row.names(compldfle1), filename = f, compldfle1)\n",
    "      compldfle <- rbind(compldfle, compldfle1)\n",
    "      rm(compldfle1)\n",
    "    }\n",
    "  }\n"
   ]
  },
  {
   "cell_type": "code",
   "execution_count": 27,
   "metadata": {},
   "outputs": [
    {
     "data": {
      "text/html": [
       "<table class=\"dataframe\">\n",
       "<caption>A data.frame: 6 × 37</caption>\n",
       "<thead>\n",
       "\t<tr><th></th><th scope=col>cloneno</th><th scope=col>filename</th><th scope=col>cloneId</th><th scope=col>cloneCount</th><th scope=col>cloneFraction</th><th scope=col>clonalSequence</th><th scope=col>clonalSequenceQuality</th><th scope=col>allVHitsWithScore</th><th scope=col>allDHitsWithScore</th><th scope=col>allJHitsWithScore</th><th scope=col>⋯</th><th scope=col>nSeqFR4</th><th scope=col>minQualFR4</th><th scope=col>aaSeqFR1</th><th scope=col>aaSeqCDR1</th><th scope=col>aaSeqFR2</th><th scope=col>aaSeqCDR2</th><th scope=col>aaSeqFR3</th><th scope=col>aaSeqCDR3</th><th scope=col>aaSeqFR4</th><th scope=col>refPoints</th></tr>\n",
       "\t<tr><th></th><th scope=col>&lt;chr&gt;</th><th scope=col>&lt;chr&gt;</th><th scope=col>&lt;int&gt;</th><th scope=col>&lt;int&gt;</th><th scope=col>&lt;dbl&gt;</th><th scope=col>&lt;chr&gt;</th><th scope=col>&lt;chr&gt;</th><th scope=col>&lt;chr&gt;</th><th scope=col>&lt;chr&gt;</th><th scope=col>&lt;chr&gt;</th><th scope=col>⋯</th><th scope=col>&lt;lgl&gt;</th><th scope=col>&lt;lgl&gt;</th><th scope=col>&lt;lgl&gt;</th><th scope=col>&lt;lgl&gt;</th><th scope=col>&lt;lgl&gt;</th><th scope=col>&lt;lgl&gt;</th><th scope=col>&lt;lgl&gt;</th><th scope=col>&lt;chr&gt;</th><th scope=col>&lt;lgl&gt;</th><th scope=col>&lt;chr&gt;</th></tr>\n",
       "</thead>\n",
       "<tbody>\n",
       "\t<tr><th scope=row>1</th><td>1</td><td>CLONES_TRBICT-06520001B0024D_T_DNA_capTCRseq_S63_L002_1600000.txt</td><td> 2</td><td>227</td><td>0.04844217</td><td>TGTGCCAGCAGTTACTCGGGGGGCTACACCTTC            </td><td>FFFFFFFFFFFFFFFFFFFFFFFFFFFFFFFFF            </td><td>TRBV6-5*00(109.3)                                       </td><td>NA          </td><td>TRBJ1-2*00(199.8)</td><td>⋯</td><td>NA</td><td>NA</td><td>NA</td><td>NA</td><td>NA</td><td>NA</td><td>NA</td><td>CASSYSGGYTF    </td><td>NA</td><td>:::::::::0:1:18:::::21:-8:33:::         </td></tr>\n",
       "\t<tr><th scope=row>2</th><td>2</td><td>CLONES_TRBICT-06520001B0024D_T_DNA_capTCRseq_S63_L002_1600000.txt</td><td> 6</td><td>214</td><td>0.04566795</td><td>TGTGCCAGCAGCCCCGATACAGGGGGGTTTACTGAAGCTTTCTTT</td><td>FFFFFFFFFFFFFFFFFFFFFFFFFFFFFFFFFFFFFFFFFFFFF</td><td>TRBV7-9*00(655.4)                                       </td><td>TRBD1*00(40)</td><td>TRBJ1-1*00(175.4)</td><td>⋯</td><td>NA</td><td>NA</td><td>NA</td><td>NA</td><td>NA</td><td>NA</td><td>NA</td><td>CASSPDTGGFTEAFF</td><td>NA</td><td>:::::::::0:-5:12:18:-3:-1:26:30:-5:45:::</td></tr>\n",
       "\t<tr><th scope=row>3</th><td>3</td><td>CLONES_TRBICT-06520001B0024D_T_DNA_capTCRseq_S63_L002_1600000.txt</td><td> 7</td><td>214</td><td>0.04566795</td><td>TGTGCCAGCAGGCTAACAGGGGGCAACACTGAAGCTTTCTTT   </td><td>FFFFFFFFFFFFFFFFFFFFFFFFFFFFFFFFFFFFFFFFFF   </td><td>TRBV7-2*00(414.1)                                       </td><td>TRBD1*00(45)</td><td>TRBJ1-1*00(230.4)</td><td>⋯</td><td>NA</td><td>NA</td><td>NA</td><td>NA</td><td>NA</td><td>NA</td><td>NA</td><td>CASRLTGGNTEAFF </td><td>NA</td><td>:::::::::0:-6:11:15:-3:0:24:24:-2:42::: </td></tr>\n",
       "\t<tr><th scope=row>4</th><td>4</td><td>CLONES_TRBICT-06520001B0024D_T_DNA_capTCRseq_S63_L002_1600000.txt</td><td> 8</td><td>198</td><td>0.04225352</td><td>TGTGCCAGCAGCGCGGACCTAGCGGGAGGTTATACGCAGTATTTT</td><td>FFFFFFFFFFFFFFFFFFFFFFFFFFFFFFFFFFFFFFFFFFFFF</td><td>TRBV7-2*00(538.9)                                       </td><td>TRBD2*00(55)</td><td>TRBJ2-3*00(183.9)</td><td>⋯</td><td>NA</td><td>NA</td><td>NA</td><td>NA</td><td>NA</td><td>NA</td><td>NA</td><td>CASSADLAGGYTQYF</td><td>NA</td><td>:::::::::0:-5:12:18:-4:-1:29:31:-7:45:::</td></tr>\n",
       "\t<tr><th scope=row>5</th><td>5</td><td>CLONES_TRBICT-06520001B0024D_T_DNA_capTCRseq_S63_L002_1600000.txt</td><td>21</td><td>173</td><td>0.03691848</td><td>TGTGCCAGCAGCTCCGGGACAGGTTTTCAGCCCCAGCATTTT   </td><td>FFFFFFFFFFFFFFFFFFFFFFFFFFFFFFFFFFFFFFFFFF   </td><td>TRBV7-2*00(740)                                         </td><td>TRBD1*00(50)</td><td>TRBJ1-5*00(219.8)</td><td>⋯</td><td>NA</td><td>NA</td><td>NA</td><td>NA</td><td>NA</td><td>NA</td><td>NA</td><td>CASSSGTGFQPQHF </td><td>NA</td><td>:::::::::0:-4:13:13:2:-4:23:26:-6:42::: </td></tr>\n",
       "\t<tr><th scope=row>7</th><td>7</td><td>CLONES_TRBICT-06520001B0024D_T_DNA_capTCRseq_S63_L002_1600000.txt</td><td>39</td><td>143</td><td>0.03051643</td><td>TGTGCCAGCACCAGAGTTCTTTCCTACAATGAGCAGTTCTTC   </td><td>FFFFFFFFFFFFFFFFFFFFFFFFFFFFFFFFFFFFFFFFFF   </td><td>TRBV11-2*00(554.2),TRBV11-3*00(522.2),TRBV11-1*00(506.2)</td><td>NA          </td><td>TRBJ2-1*00(135)  </td><td>⋯</td><td>NA</td><td>NA</td><td>NA</td><td>NA</td><td>NA</td><td>NA</td><td>NA</td><td>CASTRVLSYNEQFF </td><td>NA</td><td>:::::::::0:-7:10:::::21:-1:42:::        </td></tr>\n",
       "</tbody>\n",
       "</table>\n"
      ],
      "text/latex": [
       "A data.frame: 6 × 37\n",
       "\\begin{tabular}{r|lllllllllllllllllllll}\n",
       "  & cloneno & filename & cloneId & cloneCount & cloneFraction & clonalSequence & clonalSequenceQuality & allVHitsWithScore & allDHitsWithScore & allJHitsWithScore & ⋯ & nSeqFR4 & minQualFR4 & aaSeqFR1 & aaSeqCDR1 & aaSeqFR2 & aaSeqCDR2 & aaSeqFR3 & aaSeqCDR3 & aaSeqFR4 & refPoints\\\\\n",
       "  & <chr> & <chr> & <int> & <int> & <dbl> & <chr> & <chr> & <chr> & <chr> & <chr> & ⋯ & <lgl> & <lgl> & <lgl> & <lgl> & <lgl> & <lgl> & <lgl> & <chr> & <lgl> & <chr>\\\\\n",
       "\\hline\n",
       "\t1 & 1 & CLONES\\_TRBICT-06520001B0024D\\_T\\_DNA\\_capTCRseq\\_S63\\_L002\\_1600000.txt &  2 & 227 & 0.04844217 & TGTGCCAGCAGTTACTCGGGGGGCTACACCTTC             & FFFFFFFFFFFFFFFFFFFFFFFFFFFFFFFFF             & TRBV6-5*00(109.3)                                        & NA           & TRBJ1-2*00(199.8) & ⋯ & NA & NA & NA & NA & NA & NA & NA & CASSYSGGYTF     & NA & :::::::::0:1:18:::::21:-8:33:::         \\\\\n",
       "\t2 & 2 & CLONES\\_TRBICT-06520001B0024D\\_T\\_DNA\\_capTCRseq\\_S63\\_L002\\_1600000.txt &  6 & 214 & 0.04566795 & TGTGCCAGCAGCCCCGATACAGGGGGGTTTACTGAAGCTTTCTTT & FFFFFFFFFFFFFFFFFFFFFFFFFFFFFFFFFFFFFFFFFFFFF & TRBV7-9*00(655.4)                                        & TRBD1*00(40) & TRBJ1-1*00(175.4) & ⋯ & NA & NA & NA & NA & NA & NA & NA & CASSPDTGGFTEAFF & NA & :::::::::0:-5:12:18:-3:-1:26:30:-5:45:::\\\\\n",
       "\t3 & 3 & CLONES\\_TRBICT-06520001B0024D\\_T\\_DNA\\_capTCRseq\\_S63\\_L002\\_1600000.txt &  7 & 214 & 0.04566795 & TGTGCCAGCAGGCTAACAGGGGGCAACACTGAAGCTTTCTTT    & FFFFFFFFFFFFFFFFFFFFFFFFFFFFFFFFFFFFFFFFFF    & TRBV7-2*00(414.1)                                        & TRBD1*00(45) & TRBJ1-1*00(230.4) & ⋯ & NA & NA & NA & NA & NA & NA & NA & CASRLTGGNTEAFF  & NA & :::::::::0:-6:11:15:-3:0:24:24:-2:42::: \\\\\n",
       "\t4 & 4 & CLONES\\_TRBICT-06520001B0024D\\_T\\_DNA\\_capTCRseq\\_S63\\_L002\\_1600000.txt &  8 & 198 & 0.04225352 & TGTGCCAGCAGCGCGGACCTAGCGGGAGGTTATACGCAGTATTTT & FFFFFFFFFFFFFFFFFFFFFFFFFFFFFFFFFFFFFFFFFFFFF & TRBV7-2*00(538.9)                                        & TRBD2*00(55) & TRBJ2-3*00(183.9) & ⋯ & NA & NA & NA & NA & NA & NA & NA & CASSADLAGGYTQYF & NA & :::::::::0:-5:12:18:-4:-1:29:31:-7:45:::\\\\\n",
       "\t5 & 5 & CLONES\\_TRBICT-06520001B0024D\\_T\\_DNA\\_capTCRseq\\_S63\\_L002\\_1600000.txt & 21 & 173 & 0.03691848 & TGTGCCAGCAGCTCCGGGACAGGTTTTCAGCCCCAGCATTTT    & FFFFFFFFFFFFFFFFFFFFFFFFFFFFFFFFFFFFFFFFFF    & TRBV7-2*00(740)                                          & TRBD1*00(50) & TRBJ1-5*00(219.8) & ⋯ & NA & NA & NA & NA & NA & NA & NA & CASSSGTGFQPQHF  & NA & :::::::::0:-4:13:13:2:-4:23:26:-6:42::: \\\\\n",
       "\t7 & 7 & CLONES\\_TRBICT-06520001B0024D\\_T\\_DNA\\_capTCRseq\\_S63\\_L002\\_1600000.txt & 39 & 143 & 0.03051643 & TGTGCCAGCACCAGAGTTCTTTCCTACAATGAGCAGTTCTTC    & FFFFFFFFFFFFFFFFFFFFFFFFFFFFFFFFFFFFFFFFFF    & TRBV11-2*00(554.2),TRBV11-3*00(522.2),TRBV11-1*00(506.2) & NA           & TRBJ2-1*00(135)   & ⋯ & NA & NA & NA & NA & NA & NA & NA & CASTRVLSYNEQFF  & NA & :::::::::0:-7:10:::::21:-1:42:::        \\\\\n",
       "\\end{tabular}\n"
      ],
      "text/markdown": [
       "\n",
       "A data.frame: 6 × 37\n",
       "\n",
       "| <!--/--> | cloneno &lt;chr&gt; | filename &lt;chr&gt; | cloneId &lt;int&gt; | cloneCount &lt;int&gt; | cloneFraction &lt;dbl&gt; | clonalSequence &lt;chr&gt; | clonalSequenceQuality &lt;chr&gt; | allVHitsWithScore &lt;chr&gt; | allDHitsWithScore &lt;chr&gt; | allJHitsWithScore &lt;chr&gt; | ⋯ ⋯ | nSeqFR4 &lt;lgl&gt; | minQualFR4 &lt;lgl&gt; | aaSeqFR1 &lt;lgl&gt; | aaSeqCDR1 &lt;lgl&gt; | aaSeqFR2 &lt;lgl&gt; | aaSeqCDR2 &lt;lgl&gt; | aaSeqFR3 &lt;lgl&gt; | aaSeqCDR3 &lt;chr&gt; | aaSeqFR4 &lt;lgl&gt; | refPoints &lt;chr&gt; |\n",
       "|---|---|---|---|---|---|---|---|---|---|---|---|---|---|---|---|---|---|---|---|---|---|\n",
       "| 1 | 1 | CLONES_TRBICT-06520001B0024D_T_DNA_capTCRseq_S63_L002_1600000.txt |  2 | 227 | 0.04844217 | TGTGCCAGCAGTTACTCGGGGGGCTACACCTTC             | FFFFFFFFFFFFFFFFFFFFFFFFFFFFFFFFF             | TRBV6-5*00(109.3)                                        | NA           | TRBJ1-2*00(199.8) | ⋯ | NA | NA | NA | NA | NA | NA | NA | CASSYSGGYTF     | NA | :::::::::0:1:18:::::21:-8:33:::          |\n",
       "| 2 | 2 | CLONES_TRBICT-06520001B0024D_T_DNA_capTCRseq_S63_L002_1600000.txt |  6 | 214 | 0.04566795 | TGTGCCAGCAGCCCCGATACAGGGGGGTTTACTGAAGCTTTCTTT | FFFFFFFFFFFFFFFFFFFFFFFFFFFFFFFFFFFFFFFFFFFFF | TRBV7-9*00(655.4)                                        | TRBD1*00(40) | TRBJ1-1*00(175.4) | ⋯ | NA | NA | NA | NA | NA | NA | NA | CASSPDTGGFTEAFF | NA | :::::::::0:-5:12:18:-3:-1:26:30:-5:45::: |\n",
       "| 3 | 3 | CLONES_TRBICT-06520001B0024D_T_DNA_capTCRseq_S63_L002_1600000.txt |  7 | 214 | 0.04566795 | TGTGCCAGCAGGCTAACAGGGGGCAACACTGAAGCTTTCTTT    | FFFFFFFFFFFFFFFFFFFFFFFFFFFFFFFFFFFFFFFFFF    | TRBV7-2*00(414.1)                                        | TRBD1*00(45) | TRBJ1-1*00(230.4) | ⋯ | NA | NA | NA | NA | NA | NA | NA | CASRLTGGNTEAFF  | NA | :::::::::0:-6:11:15:-3:0:24:24:-2:42:::  |\n",
       "| 4 | 4 | CLONES_TRBICT-06520001B0024D_T_DNA_capTCRseq_S63_L002_1600000.txt |  8 | 198 | 0.04225352 | TGTGCCAGCAGCGCGGACCTAGCGGGAGGTTATACGCAGTATTTT | FFFFFFFFFFFFFFFFFFFFFFFFFFFFFFFFFFFFFFFFFFFFF | TRBV7-2*00(538.9)                                        | TRBD2*00(55) | TRBJ2-3*00(183.9) | ⋯ | NA | NA | NA | NA | NA | NA | NA | CASSADLAGGYTQYF | NA | :::::::::0:-5:12:18:-4:-1:29:31:-7:45::: |\n",
       "| 5 | 5 | CLONES_TRBICT-06520001B0024D_T_DNA_capTCRseq_S63_L002_1600000.txt | 21 | 173 | 0.03691848 | TGTGCCAGCAGCTCCGGGACAGGTTTTCAGCCCCAGCATTTT    | FFFFFFFFFFFFFFFFFFFFFFFFFFFFFFFFFFFFFFFFFF    | TRBV7-2*00(740)                                          | TRBD1*00(50) | TRBJ1-5*00(219.8) | ⋯ | NA | NA | NA | NA | NA | NA | NA | CASSSGTGFQPQHF  | NA | :::::::::0:-4:13:13:2:-4:23:26:-6:42:::  |\n",
       "| 7 | 7 | CLONES_TRBICT-06520001B0024D_T_DNA_capTCRseq_S63_L002_1600000.txt | 39 | 143 | 0.03051643 | TGTGCCAGCACCAGAGTTCTTTCCTACAATGAGCAGTTCTTC    | FFFFFFFFFFFFFFFFFFFFFFFFFFFFFFFFFFFFFFFFFF    | TRBV11-2*00(554.2),TRBV11-3*00(522.2),TRBV11-1*00(506.2) | NA           | TRBJ2-1*00(135)   | ⋯ | NA | NA | NA | NA | NA | NA | NA | CASTRVLSYNEQFF  | NA | :::::::::0:-7:10:::::21:-1:42:::         |\n",
       "\n"
      ],
      "text/plain": [
       "  cloneno filename                                                         \n",
       "1 1       CLONES_TRBICT-06520001B0024D_T_DNA_capTCRseq_S63_L002_1600000.txt\n",
       "2 2       CLONES_TRBICT-06520001B0024D_T_DNA_capTCRseq_S63_L002_1600000.txt\n",
       "3 3       CLONES_TRBICT-06520001B0024D_T_DNA_capTCRseq_S63_L002_1600000.txt\n",
       "4 4       CLONES_TRBICT-06520001B0024D_T_DNA_capTCRseq_S63_L002_1600000.txt\n",
       "5 5       CLONES_TRBICT-06520001B0024D_T_DNA_capTCRseq_S63_L002_1600000.txt\n",
       "7 7       CLONES_TRBICT-06520001B0024D_T_DNA_capTCRseq_S63_L002_1600000.txt\n",
       "  cloneId cloneCount cloneFraction\n",
       "1  2      227        0.04844217   \n",
       "2  6      214        0.04566795   \n",
       "3  7      214        0.04566795   \n",
       "4  8      198        0.04225352   \n",
       "5 21      173        0.03691848   \n",
       "7 39      143        0.03051643   \n",
       "  clonalSequence                               \n",
       "1 TGTGCCAGCAGTTACTCGGGGGGCTACACCTTC            \n",
       "2 TGTGCCAGCAGCCCCGATACAGGGGGGTTTACTGAAGCTTTCTTT\n",
       "3 TGTGCCAGCAGGCTAACAGGGGGCAACACTGAAGCTTTCTTT   \n",
       "4 TGTGCCAGCAGCGCGGACCTAGCGGGAGGTTATACGCAGTATTTT\n",
       "5 TGTGCCAGCAGCTCCGGGACAGGTTTTCAGCCCCAGCATTTT   \n",
       "7 TGTGCCAGCACCAGAGTTCTTTCCTACAATGAGCAGTTCTTC   \n",
       "  clonalSequenceQuality                        \n",
       "1 FFFFFFFFFFFFFFFFFFFFFFFFFFFFFFFFF            \n",
       "2 FFFFFFFFFFFFFFFFFFFFFFFFFFFFFFFFFFFFFFFFFFFFF\n",
       "3 FFFFFFFFFFFFFFFFFFFFFFFFFFFFFFFFFFFFFFFFFF   \n",
       "4 FFFFFFFFFFFFFFFFFFFFFFFFFFFFFFFFFFFFFFFFFFFFF\n",
       "5 FFFFFFFFFFFFFFFFFFFFFFFFFFFFFFFFFFFFFFFFFF   \n",
       "7 FFFFFFFFFFFFFFFFFFFFFFFFFFFFFFFFFFFFFFFFFF   \n",
       "  allVHitsWithScore                                        allDHitsWithScore\n",
       "1 TRBV6-5*00(109.3)                                        NA               \n",
       "2 TRBV7-9*00(655.4)                                        TRBD1*00(40)     \n",
       "3 TRBV7-2*00(414.1)                                        TRBD1*00(45)     \n",
       "4 TRBV7-2*00(538.9)                                        TRBD2*00(55)     \n",
       "5 TRBV7-2*00(740)                                          TRBD1*00(50)     \n",
       "7 TRBV11-2*00(554.2),TRBV11-3*00(522.2),TRBV11-1*00(506.2) NA               \n",
       "  allJHitsWithScore ⋯ nSeqFR4 minQualFR4 aaSeqFR1 aaSeqCDR1 aaSeqFR2 aaSeqCDR2\n",
       "1 TRBJ1-2*00(199.8) ⋯ NA      NA         NA       NA        NA       NA       \n",
       "2 TRBJ1-1*00(175.4) ⋯ NA      NA         NA       NA        NA       NA       \n",
       "3 TRBJ1-1*00(230.4) ⋯ NA      NA         NA       NA        NA       NA       \n",
       "4 TRBJ2-3*00(183.9) ⋯ NA      NA         NA       NA        NA       NA       \n",
       "5 TRBJ1-5*00(219.8) ⋯ NA      NA         NA       NA        NA       NA       \n",
       "7 TRBJ2-1*00(135)   ⋯ NA      NA         NA       NA        NA       NA       \n",
       "  aaSeqFR3 aaSeqCDR3       aaSeqFR4 refPoints                               \n",
       "1 NA       CASSYSGGYTF     NA       :::::::::0:1:18:::::21:-8:33:::         \n",
       "2 NA       CASSPDTGGFTEAFF NA       :::::::::0:-5:12:18:-3:-1:26:30:-5:45:::\n",
       "3 NA       CASRLTGGNTEAFF  NA       :::::::::0:-6:11:15:-3:0:24:24:-2:42::: \n",
       "4 NA       CASSADLAGGYTQYF NA       :::::::::0:-5:12:18:-4:-1:29:31:-7:45:::\n",
       "5 NA       CASSSGTGFQPQHF  NA       :::::::::0:-4:13:13:2:-4:23:26:-6:42::: \n",
       "7 NA       CASTRVLSYNEQFF  NA       :::::::::0:-7:10:::::21:-1:42:::        "
      ]
     },
     "metadata": {},
     "output_type": "display_data"
    }
   ],
   "source": [
    "head(compldfle)"
   ]
  },
  {
   "cell_type": "code",
   "execution_count": 28,
   "metadata": {},
   "outputs": [
    {
     "data": {
      "text/html": [
       "<style>\n",
       ".list-inline {list-style: none; margin:0; padding: 0}\n",
       ".list-inline>li {display: inline-block}\n",
       ".list-inline>li:not(:last-child)::after {content: \"\\00b7\"; padding: 0 .5ex}\n",
       "</style>\n",
       "<ol class=list-inline><li>8430</li><li>37</li></ol>\n"
      ],
      "text/latex": [
       "\\begin{enumerate*}\n",
       "\\item 8430\n",
       "\\item 37\n",
       "\\end{enumerate*}\n"
      ],
      "text/markdown": [
       "1. 8430\n",
       "2. 37\n",
       "\n",
       "\n"
      ],
      "text/plain": [
       "[1] 8430   37"
      ]
     },
     "metadata": {},
     "output_type": "display_data"
    }
   ],
   "source": [
    "dim(compldfle)"
   ]
  },
  {
   "cell_type": "code",
   "execution_count": 29,
   "metadata": {},
   "outputs": [],
   "source": [
    "compldfle$samplename <- gsub(\"CLONES_TRB\", \"\", compldfle$filename)\n",
    "compldfle$samplename <- gsub(\"_DNA.*\", \"\",compldfle$samplename)\n",
    "compldfle$cloneno <- formatC(compldfle$cloneno, \n",
    "                             width=nchar(max(as.numeric(compldfle$cloneno))), flag=\"0\")"
   ]
  },
  {
   "cell_type": "markdown",
   "metadata": {},
   "source": [
    "subset to those in metadata"
   ]
  },
  {
   "cell_type": "code",
   "execution_count": 30,
   "metadata": {},
   "outputs": [],
   "source": [
    "compldfle <- compldfle[compldfle$samplename %in% metadata_trb$sample_id_DNA,]"
   ]
  },
  {
   "cell_type": "code",
   "execution_count": 31,
   "metadata": {},
   "outputs": [
    {
     "data": {
      "text/html": [
       "45"
      ],
      "text/latex": [
       "45"
      ],
      "text/markdown": [
       "45"
      ],
      "text/plain": [
       "[1] 45"
      ]
     },
     "metadata": {},
     "output_type": "display_data"
    }
   ],
   "source": [
    "length(unique(compldfle$samplename))"
   ]
  },
  {
   "cell_type": "code",
   "execution_count": 32,
   "metadata": {},
   "outputs": [
    {
     "data": {
      "text/html": [
       "<style>\n",
       ".list-inline {list-style: none; margin:0; padding: 0}\n",
       ".list-inline>li {display: inline-block}\n",
       ".list-inline>li:not(:last-child)::after {content: \"\\00b7\"; padding: 0 .5ex}\n",
       "</style>\n",
       "<ol class=list-inline><li>6247</li><li>38</li></ol>\n"
      ],
      "text/latex": [
       "\\begin{enumerate*}\n",
       "\\item 6247\n",
       "\\item 38\n",
       "\\end{enumerate*}\n"
      ],
      "text/markdown": [
       "1. 6247\n",
       "2. 38\n",
       "\n",
       "\n"
      ],
      "text/plain": [
       "[1] 6247   38"
      ]
     },
     "metadata": {},
     "output_type": "display_data"
    }
   ],
   "source": [
    "dim(compldfle)"
   ]
  },
  {
   "cell_type": "markdown",
   "metadata": {},
   "source": [
    "## TableS2"
   ]
  },
  {
   "cell_type": "code",
   "execution_count": 33,
   "metadata": {},
   "outputs": [],
   "source": [
    "xlsx::write.xlsx(compldfle, file = \"~/OneDrive - UHN/Documents/Manuscripts/INDICATE/v2/TableS2.xlsx\",row.names = F)"
   ]
  },
  {
   "cell_type": "markdown",
   "metadata": {},
   "source": [
    "How many public cdr3?"
   ]
  },
  {
   "cell_type": "code",
   "execution_count": 34,
   "metadata": {},
   "outputs": [],
   "source": [
    "tmp <- as.data.frame(table(compldfle$nSeqCDR3))"
   ]
  },
  {
   "cell_type": "code",
   "execution_count": 35,
   "metadata": {},
   "outputs": [
    {
     "data": {
      "text/html": [
       "<table class=\"dataframe\">\n",
       "<caption>A data.frame: 13 × 2</caption>\n",
       "<thead>\n",
       "\t<tr><th></th><th scope=col>Var1</th><th scope=col>Freq</th></tr>\n",
       "\t<tr><th></th><th scope=col>&lt;fct&gt;</th><th scope=col>&lt;int&gt;</th></tr>\n",
       "</thead>\n",
       "<tbody>\n",
       "\t<tr><th scope=row>308</th><td>TGCAGTGCTAGAAGGGAGGAGGGGAGAATCAACACTGAAGCTTTCTTT   </td><td>2</td></tr>\n",
       "\t<tr><th scope=row>350</th><td>TGCAGTGCTAGAGACCGATATGGGCCGTCCGCTGAAGCTTTCTTT      </td><td>2</td></tr>\n",
       "\t<tr><th scope=row>483</th><td>TGCAGTGCTAGCCTCCCATTTAACAATGAGCAGTTCTTC            </td><td>2</td></tr>\n",
       "\t<tr><th scope=row>1350</th><td>TGTGCCAATAAGCGGGAGCCTTGCCATGAGCAGTTCTTC            </td><td>2</td></tr>\n",
       "\t<tr><th scope=row>1397</th><td>TGTGCCACCAGCAGAGATCCTTCGGGTTGGTCCACAGATACGCAGTATTTT</td><td>2</td></tr>\n",
       "\t<tr><th scope=row>1673</th><td>TGTGCCAGCACCAACCCAGGGTCTGGGGCCAACGTCCTGACTTTC      </td><td>2</td></tr>\n",
       "\t<tr><th scope=row>2359</th><td>TGTGCCAGCAGCCCCCCTAGCGGGGACTACGAGCAGTACTTC         </td><td>2</td></tr>\n",
       "\t<tr><th scope=row>3264</th><td>TGTGCCAGCAGCTTAGAGTACGAGCAGTACTTC                  </td><td>2</td></tr>\n",
       "\t<tr><th scope=row>3475</th><td>TGTGCCAGCAGCTTCAGAGCGGGAGCCCTCTACAATGAGCAGTTCTTC   </td><td>2</td></tr>\n",
       "\t<tr><th scope=row>3493</th><td>TGTGCCAGCAGCTTCGGACAGGGGGCGAGGATAGGCTACACCTTC      </td><td>2</td></tr>\n",
       "\t<tr><th scope=row>3565</th><td>TGTGCCAGCAGCTTGGCCCCACCAGATACGCAGTATTTT            </td><td>2</td></tr>\n",
       "\t<tr><th scope=row>3645</th><td>TGTGCCAGCAGCTTGTACACCGGGGAGCTGTTTTTT               </td><td>3</td></tr>\n",
       "\t<tr><th scope=row>4794</th><td>TGTGCCAGCAGTTGGACAGGGTTCTATGGCTACACCTTC            </td><td>2</td></tr>\n",
       "</tbody>\n",
       "</table>\n"
      ],
      "text/latex": [
       "A data.frame: 13 × 2\n",
       "\\begin{tabular}{r|ll}\n",
       "  & Var1 & Freq\\\\\n",
       "  & <fct> & <int>\\\\\n",
       "\\hline\n",
       "\t308 & TGCAGTGCTAGAAGGGAGGAGGGGAGAATCAACACTGAAGCTTTCTTT    & 2\\\\\n",
       "\t350 & TGCAGTGCTAGAGACCGATATGGGCCGTCCGCTGAAGCTTTCTTT       & 2\\\\\n",
       "\t483 & TGCAGTGCTAGCCTCCCATTTAACAATGAGCAGTTCTTC             & 2\\\\\n",
       "\t1350 & TGTGCCAATAAGCGGGAGCCTTGCCATGAGCAGTTCTTC             & 2\\\\\n",
       "\t1397 & TGTGCCACCAGCAGAGATCCTTCGGGTTGGTCCACAGATACGCAGTATTTT & 2\\\\\n",
       "\t1673 & TGTGCCAGCACCAACCCAGGGTCTGGGGCCAACGTCCTGACTTTC       & 2\\\\\n",
       "\t2359 & TGTGCCAGCAGCCCCCCTAGCGGGGACTACGAGCAGTACTTC          & 2\\\\\n",
       "\t3264 & TGTGCCAGCAGCTTAGAGTACGAGCAGTACTTC                   & 2\\\\\n",
       "\t3475 & TGTGCCAGCAGCTTCAGAGCGGGAGCCCTCTACAATGAGCAGTTCTTC    & 2\\\\\n",
       "\t3493 & TGTGCCAGCAGCTTCGGACAGGGGGCGAGGATAGGCTACACCTTC       & 2\\\\\n",
       "\t3565 & TGTGCCAGCAGCTTGGCCCCACCAGATACGCAGTATTTT             & 2\\\\\n",
       "\t3645 & TGTGCCAGCAGCTTGTACACCGGGGAGCTGTTTTTT                & 3\\\\\n",
       "\t4794 & TGTGCCAGCAGTTGGACAGGGTTCTATGGCTACACCTTC             & 2\\\\\n",
       "\\end{tabular}\n"
      ],
      "text/markdown": [
       "\n",
       "A data.frame: 13 × 2\n",
       "\n",
       "| <!--/--> | Var1 &lt;fct&gt; | Freq &lt;int&gt; |\n",
       "|---|---|---|\n",
       "| 308 | TGCAGTGCTAGAAGGGAGGAGGGGAGAATCAACACTGAAGCTTTCTTT    | 2 |\n",
       "| 350 | TGCAGTGCTAGAGACCGATATGGGCCGTCCGCTGAAGCTTTCTTT       | 2 |\n",
       "| 483 | TGCAGTGCTAGCCTCCCATTTAACAATGAGCAGTTCTTC             | 2 |\n",
       "| 1350 | TGTGCCAATAAGCGGGAGCCTTGCCATGAGCAGTTCTTC             | 2 |\n",
       "| 1397 | TGTGCCACCAGCAGAGATCCTTCGGGTTGGTCCACAGATACGCAGTATTTT | 2 |\n",
       "| 1673 | TGTGCCAGCACCAACCCAGGGTCTGGGGCCAACGTCCTGACTTTC       | 2 |\n",
       "| 2359 | TGTGCCAGCAGCCCCCCTAGCGGGGACTACGAGCAGTACTTC          | 2 |\n",
       "| 3264 | TGTGCCAGCAGCTTAGAGTACGAGCAGTACTTC                   | 2 |\n",
       "| 3475 | TGTGCCAGCAGCTTCAGAGCGGGAGCCCTCTACAATGAGCAGTTCTTC    | 2 |\n",
       "| 3493 | TGTGCCAGCAGCTTCGGACAGGGGGCGAGGATAGGCTACACCTTC       | 2 |\n",
       "| 3565 | TGTGCCAGCAGCTTGGCCCCACCAGATACGCAGTATTTT             | 2 |\n",
       "| 3645 | TGTGCCAGCAGCTTGTACACCGGGGAGCTGTTTTTT                | 3 |\n",
       "| 4794 | TGTGCCAGCAGTTGGACAGGGTTCTATGGCTACACCTTC             | 2 |\n",
       "\n"
      ],
      "text/plain": [
       "     Var1                                                Freq\n",
       "308  TGCAGTGCTAGAAGGGAGGAGGGGAGAATCAACACTGAAGCTTTCTTT    2   \n",
       "350  TGCAGTGCTAGAGACCGATATGGGCCGTCCGCTGAAGCTTTCTTT       2   \n",
       "483  TGCAGTGCTAGCCTCCCATTTAACAATGAGCAGTTCTTC             2   \n",
       "1350 TGTGCCAATAAGCGGGAGCCTTGCCATGAGCAGTTCTTC             2   \n",
       "1397 TGTGCCACCAGCAGAGATCCTTCGGGTTGGTCCACAGATACGCAGTATTTT 2   \n",
       "1673 TGTGCCAGCACCAACCCAGGGTCTGGGGCCAACGTCCTGACTTTC       2   \n",
       "2359 TGTGCCAGCAGCCCCCCTAGCGGGGACTACGAGCAGTACTTC          2   \n",
       "3264 TGTGCCAGCAGCTTAGAGTACGAGCAGTACTTC                   2   \n",
       "3475 TGTGCCAGCAGCTTCAGAGCGGGAGCCCTCTACAATGAGCAGTTCTTC    2   \n",
       "3493 TGTGCCAGCAGCTTCGGACAGGGGGCGAGGATAGGCTACACCTTC       2   \n",
       "3565 TGTGCCAGCAGCTTGGCCCCACCAGATACGCAGTATTTT             2   \n",
       "3645 TGTGCCAGCAGCTTGTACACCGGGGAGCTGTTTTTT                3   \n",
       "4794 TGTGCCAGCAGTTGGACAGGGTTCTATGGCTACACCTTC             2   "
      ]
     },
     "metadata": {},
     "output_type": "display_data"
    }
   ],
   "source": [
    "tmp[ tmp$Freq > 1,]"
   ]
  },
  {
   "cell_type": "code",
   "execution_count": 36,
   "metadata": {},
   "outputs": [
    {
     "data": {
      "text/html": [
       "0.00208099887946214"
      ],
      "text/latex": [
       "0.00208099887946214"
      ],
      "text/markdown": [
       "0.00208099887946214"
      ],
      "text/plain": [
       "[1] 0.002080999"
      ]
     },
     "metadata": {},
     "output_type": "display_data"
    }
   ],
   "source": [
    "13/6247"
   ]
  },
  {
   "cell_type": "code",
   "execution_count": 37,
   "metadata": {},
   "outputs": [],
   "source": [
    "compldfle$samplename <- factor(compldfle$samplename, levels = metadata_trb$sample_id_DNA)"
   ]
  },
  {
   "cell_type": "code",
   "execution_count": 38,
   "metadata": {},
   "outputs": [],
   "source": [
    "  clonenocol = rep(\"#ffffff\", \n",
    "                     nlevels(as.factor(compldfle$cloneno)))\n",
    "  \n",
    "  clonpt <- ggplot(data = compldfle, \n",
    "                  aes(y = cloneFraction, \n",
    "                      x = samplename, \n",
    "                      fill = cloneno)) + \n",
    "    geom_bar(colour = \"#000000\", stat=\"identity\", width = 0.8) +\n",
    "    theme(axis.title.x = element_blank(),\n",
    "          axis.text.x = element_blank(),\n",
    "          axis.line = element_line(color = \"black\"),\n",
    "          axis.text = element_text(size = 20),\n",
    "          axis.title = element_text(size = 20), \n",
    "          legend.position = \"none\") +\n",
    "    theme(panel.grid.major = element_blank(),\n",
    "          panel.grid.minor = element_blank(),\n",
    "          panel.background = element_rect(fill = \"transparent\",\n",
    "                                          colour = NA),\n",
    "          panel.border=element_blank(),\n",
    "          plot.margin = unit(c(0,0,0,0),\"cm\")) +\n",
    "    scale_fill_manual(values = clonenocol,\n",
    "                      guide = FALSE) \n"
   ]
  },
  {
   "cell_type": "code",
   "execution_count": 39,
   "metadata": {},
   "outputs": [
    {
     "data": {
      "image/png": "[encoded data removed]",
      "text/plain": [
       "plot without title"
      ]
     },
     "metadata": {
      "image/png": {
       "height": 420,
       "width": 420
      }
     },
     "output_type": "display_data"
    }
   ],
   "source": [
    "clonpt"
   ]
  },
  {
   "cell_type": "markdown",
   "metadata": {},
   "source": [
    "## Plot Shannon div"
   ]
  },
  {
   "cell_type": "code",
   "execution_count": 40,
   "metadata": {},
   "outputs": [
    {
     "data": {
      "text/plain": [
       "   Min. 1st Qu.  Median    Mean 3rd Qu.    Max. \n",
       "  1.000   9.527  19.177  79.913  80.269 697.247 "
      ]
     },
     "metadata": {},
     "output_type": "display_data"
    }
   ],
   "source": [
    "summary(metadata_trb$observed_Shannon)"
   ]
  },
  {
   "cell_type": "code",
   "execution_count": 41,
   "metadata": {},
   "outputs": [],
   "source": [
    "metadata_trb$Div_group <- NA\n",
    "metadata_trb$Div_group[metadata_trb$observed_Shannon >= 80.269] <- \"High\"\n",
    "\n",
    "metadata_trb$Div_group[metadata_trb$observed_Shannon < 80.269 &\n",
    "                       metadata_trb$observed_Shannon > 9.527] <- \"Intermediate\"\n",
    "\n",
    "metadata_trb$Div_group[metadata_trb$observed_Shannon <= 9.527] <- \"Low\""
   ]
  },
  {
   "cell_type": "code",
   "execution_count": 42,
   "metadata": {},
   "outputs": [],
   "source": [
    "colpal <- c(\"High\" = \"#ED2024\",\n",
    "            \"Intermediate\" = \"#adadad\",\n",
    "            \"Low\" = \"#3953A4\")"
   ]
  },
  {
   "cell_type": "code",
   "execution_count": 43,
   "metadata": {},
   "outputs": [],
   "source": [
    "divplot <- ggplot(data = metadata_trb, \n",
    "                  aes(y = observed_Shannon, \n",
    "                      x = sample_id_DNA)) + \n",
    "    geom_bar(aes(fill = Div_group),colour = \"#000000\", stat=\"identity\", width = 0.8) +\n",
    "    theme(axis.title.x = element_blank(),\n",
    "          axis.text.x = element_blank(),\n",
    "          axis.line = element_line(color = \"black\"),\n",
    "          axis.text = element_text(size = 20),\n",
    "          axis.title = element_text(size = 20), \n",
    "          legend.position = \"none\") +\n",
    "    theme(panel.grid.major = element_blank(),\n",
    "          panel.grid.minor = element_blank(),\n",
    "          panel.background = element_rect(fill = \"transparent\",\n",
    "                                          colour = NA),\n",
    "          panel.border=element_blank(),\n",
    "          plot.margin = unit(c(0,0,0,0),\"cm\")) "
   ]
  },
  {
   "cell_type": "code",
   "execution_count": 44,
   "metadata": {},
   "outputs": [],
   "source": [
    "divplot <- divplot + annotation_logticks(sides = \"l\") +\n",
    "scale_y_continuous(trans = \"log10\") + scale_fill_manual(values = colpal)"
   ]
  },
  {
   "cell_type": "code",
   "execution_count": 45,
   "metadata": {},
   "outputs": [
    {
     "data": {
      "image/png": "[encoded data removed]",
      "text/plain": [
       "plot without title"
      ]
     },
     "metadata": {
      "image/png": {
       "height": 420,
       "width": 420
      }
     },
     "output_type": "display_data"
    }
   ],
   "source": [
    "divplot"
   ]
  },
  {
   "cell_type": "markdown",
   "metadata": {},
   "source": [
    "## Plot GLIPH2 number of TCR specificities"
   ]
  },
  {
   "cell_type": "code",
   "execution_count": 46,
   "metadata": {},
   "outputs": [],
   "source": [
    "gliph2 <- read.csv(file.path(datapath,\"GLIPH/P2409_WKR0TLACRD_ind_gliph2_refv1_CD48.csv\"),header = T, stringsAsFactors = F, \n",
    "                     check.names = F)"
   ]
  },
  {
   "cell_type": "code",
   "execution_count": 47,
   "metadata": {},
   "outputs": [],
   "source": [
    "gliph2 <- gliph2[!grepl(\" \",gliph2$type),]"
   ]
  },
  {
   "cell_type": "code",
   "execution_count": 48,
   "metadata": {},
   "outputs": [
    {
     "data": {
      "text/html": [
       "<style>\n",
       ".list-inline {list-style: none; margin:0; padding: 0}\n",
       ".list-inline>li {display: inline-block}\n",
       ".list-inline>li:not(:last-child)::after {content: \"\\00b7\"; padding: 0 .5ex}\n",
       "</style>\n",
       "<ol class=list-inline><li>1020</li><li>30</li></ol>\n"
      ],
      "text/latex": [
       "\\begin{enumerate*}\n",
       "\\item 1020\n",
       "\\item 30\n",
       "\\end{enumerate*}\n"
      ],
      "text/markdown": [
       "1. 1020\n",
       "2. 30\n",
       "\n",
       "\n"
      ],
      "text/plain": [
       "[1] 1020   30"
      ]
     },
     "metadata": {},
     "output_type": "display_data"
    }
   ],
   "source": [
    "dim(gliph2)"
   ]
  },
  {
   "cell_type": "markdown",
   "metadata": {},
   "source": [
    "## Table S3"
   ]
  },
  {
   "cell_type": "code",
   "execution_count": 49,
   "metadata": {},
   "outputs": [],
   "source": [
    "xlsx::write.xlsx(gliph2, file = \"~/OneDrive - UHN/Documents/Manuscripts/INDICATE/v2/TableS3.xlsx\",row.names = F)"
   ]
  },
  {
   "cell_type": "code",
   "execution_count": 50,
   "metadata": {},
   "outputs": [
    {
     "data": {
      "text/html": [
       "<table class=\"dataframe\">\n",
       "<caption>A data.frame: 6 × 30</caption>\n",
       "<thead>\n",
       "\t<tr><th></th><th scope=col>index</th><th scope=col>pattern</th><th scope=col>Fisher_score</th><th scope=col>number_subject</th><th scope=col>number_unique_cdr3</th><th scope=col>final_score</th><th scope=col>hla_score</th><th scope=col>vb_score</th><th scope=col>expansion_score</th><th scope=col>length_score</th><th scope=col>⋯</th><th scope=col>HLA-B</th><th scope=col>HLA-C</th><th scope=col>HLA-DPA1</th><th scope=col>HLA-DPB1</th><th scope=col>HLA-DQA1</th><th scope=col>HLA-DQB1</th><th scope=col>HLA-DRB1</th><th scope=col>HLA-DRB3</th><th scope=col>HLA-DRB4</th><th scope=col>HLA-DRB5</th></tr>\n",
       "\t<tr><th></th><th scope=col>&lt;int&gt;</th><th scope=col>&lt;chr&gt;</th><th scope=col>&lt;dbl&gt;</th><th scope=col>&lt;int&gt;</th><th scope=col>&lt;int&gt;</th><th scope=col>&lt;dbl&gt;</th><th scope=col>&lt;dbl&gt;</th><th scope=col>&lt;dbl&gt;</th><th scope=col>&lt;dbl&gt;</th><th scope=col>&lt;dbl&gt;</th><th scope=col>⋯</th><th scope=col>&lt;chr&gt;</th><th scope=col>&lt;chr&gt;</th><th scope=col>&lt;chr&gt;</th><th scope=col>&lt;chr&gt;</th><th scope=col>&lt;chr&gt;</th><th scope=col>&lt;chr&gt;</th><th scope=col>&lt;chr&gt;</th><th scope=col>&lt;chr&gt;</th><th scope=col>&lt;chr&gt;</th><th scope=col>&lt;chr&gt;</th></tr>\n",
       "</thead>\n",
       "<tbody>\n",
       "\t<tr><th scope=row>752</th><td>46</td><td>YSSY</td><td>1.9e-09</td><td>7</td><td>8</td><td>0.00011</td><td>1</td><td>0.85</td><td>0.4</td><td>0.4</td><td>⋯</td><td>-</td><td>-</td><td>-</td><td>-</td><td>-</td><td>-</td><td>-</td><td>-</td><td>-</td><td>-</td></tr>\n",
       "\t<tr><th scope=row>753</th><td>46</td><td>YSSY</td><td>1.9e-09</td><td>7</td><td>8</td><td>0.00011</td><td>1</td><td>0.85</td><td>0.4</td><td>0.4</td><td>⋯</td><td>-</td><td>-</td><td>-</td><td>-</td><td>-</td><td>-</td><td>-</td><td>-</td><td>-</td><td>-</td></tr>\n",
       "\t<tr><th scope=row>754</th><td>46</td><td>YSSY</td><td>1.9e-09</td><td>7</td><td>8</td><td>0.00011</td><td>1</td><td>0.85</td><td>0.4</td><td>0.4</td><td>⋯</td><td>-</td><td>-</td><td>-</td><td>-</td><td>-</td><td>-</td><td>-</td><td>-</td><td>-</td><td>-</td></tr>\n",
       "\t<tr><th scope=row>755</th><td>46</td><td>YSSY</td><td>1.9e-09</td><td>7</td><td>8</td><td>0.00011</td><td>1</td><td>0.85</td><td>0.4</td><td>0.4</td><td>⋯</td><td>-</td><td>-</td><td>-</td><td>-</td><td>-</td><td>-</td><td>-</td><td>-</td><td>-</td><td>-</td></tr>\n",
       "\t<tr><th scope=row>756</th><td>46</td><td>YSSY</td><td>1.9e-09</td><td>7</td><td>8</td><td>0.00011</td><td>1</td><td>0.85</td><td>0.4</td><td>0.4</td><td>⋯</td><td>-</td><td>-</td><td>-</td><td>-</td><td>-</td><td>-</td><td>-</td><td>-</td><td>-</td><td>-</td></tr>\n",
       "\t<tr><th scope=row>757</th><td>46</td><td>YSSY</td><td>1.9e-09</td><td>7</td><td>8</td><td>0.00011</td><td>1</td><td>0.85</td><td>0.4</td><td>0.4</td><td>⋯</td><td>-</td><td>-</td><td>-</td><td>-</td><td>-</td><td>-</td><td>-</td><td>-</td><td>-</td><td>-</td></tr>\n",
       "</tbody>\n",
       "</table>\n"
      ],
      "text/latex": [
       "A data.frame: 6 × 30\n",
       "\\begin{tabular}{r|lllllllllllllllllllll}\n",
       "  & index & pattern & Fisher\\_score & number\\_subject & number\\_unique\\_cdr3 & final\\_score & hla\\_score & vb\\_score & expansion\\_score & length\\_score & ⋯ & HLA-B & HLA-C & HLA-DPA1 & HLA-DPB1 & HLA-DQA1 & HLA-DQB1 & HLA-DRB1 & HLA-DRB3 & HLA-DRB4 & HLA-DRB5\\\\\n",
       "  & <int> & <chr> & <dbl> & <int> & <int> & <dbl> & <dbl> & <dbl> & <dbl> & <dbl> & ⋯ & <chr> & <chr> & <chr> & <chr> & <chr> & <chr> & <chr> & <chr> & <chr> & <chr>\\\\\n",
       "\\hline\n",
       "\t752 & 46 & YSSY & 1.9e-09 & 7 & 8 & 0.00011 & 1 & 0.85 & 0.4 & 0.4 & ⋯ & - & - & - & - & - & - & - & - & - & -\\\\\n",
       "\t753 & 46 & YSSY & 1.9e-09 & 7 & 8 & 0.00011 & 1 & 0.85 & 0.4 & 0.4 & ⋯ & - & - & - & - & - & - & - & - & - & -\\\\\n",
       "\t754 & 46 & YSSY & 1.9e-09 & 7 & 8 & 0.00011 & 1 & 0.85 & 0.4 & 0.4 & ⋯ & - & - & - & - & - & - & - & - & - & -\\\\\n",
       "\t755 & 46 & YSSY & 1.9e-09 & 7 & 8 & 0.00011 & 1 & 0.85 & 0.4 & 0.4 & ⋯ & - & - & - & - & - & - & - & - & - & -\\\\\n",
       "\t756 & 46 & YSSY & 1.9e-09 & 7 & 8 & 0.00011 & 1 & 0.85 & 0.4 & 0.4 & ⋯ & - & - & - & - & - & - & - & - & - & -\\\\\n",
       "\t757 & 46 & YSSY & 1.9e-09 & 7 & 8 & 0.00011 & 1 & 0.85 & 0.4 & 0.4 & ⋯ & - & - & - & - & - & - & - & - & - & -\\\\\n",
       "\\end{tabular}\n"
      ],
      "text/markdown": [
       "\n",
       "A data.frame: 6 × 30\n",
       "\n",
       "| <!--/--> | index &lt;int&gt; | pattern &lt;chr&gt; | Fisher_score &lt;dbl&gt; | number_subject &lt;int&gt; | number_unique_cdr3 &lt;int&gt; | final_score &lt;dbl&gt; | hla_score &lt;dbl&gt; | vb_score &lt;dbl&gt; | expansion_score &lt;dbl&gt; | length_score &lt;dbl&gt; | ⋯ ⋯ | HLA-B &lt;chr&gt; | HLA-C &lt;chr&gt; | HLA-DPA1 &lt;chr&gt; | HLA-DPB1 &lt;chr&gt; | HLA-DQA1 &lt;chr&gt; | HLA-DQB1 &lt;chr&gt; | HLA-DRB1 &lt;chr&gt; | HLA-DRB3 &lt;chr&gt; | HLA-DRB4 &lt;chr&gt; | HLA-DRB5 &lt;chr&gt; |\n",
       "|---|---|---|---|---|---|---|---|---|---|---|---|---|---|---|---|---|---|---|---|---|---|\n",
       "| 752 | 46 | YSSY | 1.9e-09 | 7 | 8 | 0.00011 | 1 | 0.85 | 0.4 | 0.4 | ⋯ | - | - | - | - | - | - | - | - | - | - |\n",
       "| 753 | 46 | YSSY | 1.9e-09 | 7 | 8 | 0.00011 | 1 | 0.85 | 0.4 | 0.4 | ⋯ | - | - | - | - | - | - | - | - | - | - |\n",
       "| 754 | 46 | YSSY | 1.9e-09 | 7 | 8 | 0.00011 | 1 | 0.85 | 0.4 | 0.4 | ⋯ | - | - | - | - | - | - | - | - | - | - |\n",
       "| 755 | 46 | YSSY | 1.9e-09 | 7 | 8 | 0.00011 | 1 | 0.85 | 0.4 | 0.4 | ⋯ | - | - | - | - | - | - | - | - | - | - |\n",
       "| 756 | 46 | YSSY | 1.9e-09 | 7 | 8 | 0.00011 | 1 | 0.85 | 0.4 | 0.4 | ⋯ | - | - | - | - | - | - | - | - | - | - |\n",
       "| 757 | 46 | YSSY | 1.9e-09 | 7 | 8 | 0.00011 | 1 | 0.85 | 0.4 | 0.4 | ⋯ | - | - | - | - | - | - | - | - | - | - |\n",
       "\n"
      ],
      "text/plain": [
       "    index pattern Fisher_score number_subject number_unique_cdr3 final_score\n",
       "752 46    YSSY    1.9e-09      7              8                  0.00011    \n",
       "753 46    YSSY    1.9e-09      7              8                  0.00011    \n",
       "754 46    YSSY    1.9e-09      7              8                  0.00011    \n",
       "755 46    YSSY    1.9e-09      7              8                  0.00011    \n",
       "756 46    YSSY    1.9e-09      7              8                  0.00011    \n",
       "757 46    YSSY    1.9e-09      7              8                  0.00011    \n",
       "    hla_score vb_score expansion_score length_score ⋯ HLA-B HLA-C HLA-DPA1\n",
       "752 1         0.85     0.4             0.4          ⋯ -     -     -       \n",
       "753 1         0.85     0.4             0.4          ⋯ -     -     -       \n",
       "754 1         0.85     0.4             0.4          ⋯ -     -     -       \n",
       "755 1         0.85     0.4             0.4          ⋯ -     -     -       \n",
       "756 1         0.85     0.4             0.4          ⋯ -     -     -       \n",
       "757 1         0.85     0.4             0.4          ⋯ -     -     -       \n",
       "    HLA-DPB1 HLA-DQA1 HLA-DQB1 HLA-DRB1 HLA-DRB3 HLA-DRB4 HLA-DRB5\n",
       "752 -        -        -        -        -        -        -       \n",
       "753 -        -        -        -        -        -        -       \n",
       "754 -        -        -        -        -        -        -       \n",
       "755 -        -        -        -        -        -        -       \n",
       "756 -        -        -        -        -        -        -       \n",
       "757 -        -        -        -        -        -        -       "
      ]
     },
     "metadata": {},
     "output_type": "display_data"
    }
   ],
   "source": [
    "head(gliph2)"
   ]
  },
  {
   "cell_type": "code",
   "execution_count": 51,
   "metadata": {},
   "outputs": [],
   "source": [
    "# Add number of sample specific gliph types\n",
    "metadata_trb$gliph2_type <- NA\n",
    "\n",
    "for(i in 1:nrow(metadata_trb)){\n",
    "    mysample <- metadata_trb$sample_id_DNA[i]\n",
    "    mygliph <- gliph2[gliph2$Sample == mysample,]\n",
    "    gliphtab <- as.data.frame(table(mygliph$type), stringsAsFactors = F)\n",
    "#count number of gliph types that have more than one cdr3 in a given sample    \n",
    "    if(nrow(gliphtab) !=0 ){\n",
    "    metadata_trb$gliph2_type[i] <- nrow(gliphtab[gliphtab$Freq > 1,])}\n",
    "}"
   ]
  },
  {
   "cell_type": "code",
   "execution_count": 52,
   "metadata": {
    "scrolled": true
   },
   "outputs": [
    {
     "data": {
      "text/html": [
       "<table class=\"dataframe\">\n",
       "<caption>A data.frame: 143 × 2</caption>\n",
       "<thead>\n",
       "\t<tr><th scope=col>Var1</th><th scope=col>Freq</th></tr>\n",
       "\t<tr><th scope=col>&lt;chr&gt;</th><th scope=col>&lt;int&gt;</th></tr>\n",
       "</thead>\n",
       "<tbody>\n",
       "\t<tr><td>global-%ALASSYE  </td><td>2</td></tr>\n",
       "\t<tr><td>global-%GGGSSYNE </td><td>1</td></tr>\n",
       "\t<tr><td>global-%GNE      </td><td>1</td></tr>\n",
       "\t<tr><td>global-%PTRSSYNE </td><td>2</td></tr>\n",
       "\t<tr><td>global-%SANTE    </td><td>2</td></tr>\n",
       "\t<tr><td>global-%TGGGNQP  </td><td>1</td></tr>\n",
       "\t<tr><td>global-%TGGK     </td><td>1</td></tr>\n",
       "\t<tr><td>global-%TSGYE    </td><td>1</td></tr>\n",
       "\t<tr><td>global-G%SNQP    </td><td>1</td></tr>\n",
       "\t<tr><td>global-LH%NQP    </td><td>2</td></tr>\n",
       "\t<tr><td>global-R%GGSYE   </td><td>1</td></tr>\n",
       "\t<tr><td>global-R%NTGE    </td><td>1</td></tr>\n",
       "\t<tr><td>global-RLQGGSTE  </td><td>2</td></tr>\n",
       "\t<tr><td>global-RQG%TDT   </td><td>1</td></tr>\n",
       "\t<tr><td>global-RR%NTE    </td><td>1</td></tr>\n",
       "\t<tr><td>global-RRGA%QP   </td><td>1</td></tr>\n",
       "\t<tr><td>global-RSRG%GNT  </td><td>1</td></tr>\n",
       "\t<tr><td>global-S%AGGGYE  </td><td>1</td></tr>\n",
       "\t<tr><td>global-S%ANTE    </td><td>2</td></tr>\n",
       "\t<tr><td>global-S%ARSSYE  </td><td>1</td></tr>\n",
       "\t<tr><td>global-S%ASGNT   </td><td>1</td></tr>\n",
       "\t<tr><td>global-S%DRGYE   </td><td>3</td></tr>\n",
       "\t<tr><td>global-S%DSSYE   </td><td>1</td></tr>\n",
       "\t<tr><td>global-S%EGV     </td><td>2</td></tr>\n",
       "\t<tr><td>global-S%ENGRGTGE</td><td>2</td></tr>\n",
       "\t<tr><td>global-S%GGG     </td><td>2</td></tr>\n",
       "\t<tr><td>global-S%GGGMNTE </td><td>2</td></tr>\n",
       "\t<tr><td>global-S%GGNTE   </td><td>1</td></tr>\n",
       "\t<tr><td>global-S%GGYE    </td><td>1</td></tr>\n",
       "\t<tr><td>global-S%GQGAYNE </td><td>1</td></tr>\n",
       "\t<tr><td>⋮</td><td>⋮</td></tr>\n",
       "\t<tr><td>global-SS%NTE   </td><td>1</td></tr>\n",
       "\t<tr><td>global-SSDRG%G  </td><td>1</td></tr>\n",
       "\t<tr><td>global-SSDRGY%  </td><td>3</td></tr>\n",
       "\t<tr><td>global-SSG%NYG  </td><td>1</td></tr>\n",
       "\t<tr><td>global-SSL%DT   </td><td>1</td></tr>\n",
       "\t<tr><td>global-SSPG%E   </td><td>1</td></tr>\n",
       "\t<tr><td>global-SSPG%GNE </td><td>1</td></tr>\n",
       "\t<tr><td>global-SSPGQG%E </td><td>1</td></tr>\n",
       "\t<tr><td>global-SSTVRDYG </td><td>2</td></tr>\n",
       "\t<tr><td>global-ST%NTE   </td><td>1</td></tr>\n",
       "\t<tr><td>global-SV%GGNTE </td><td>1</td></tr>\n",
       "\t<tr><td>global-SV%GGSYNE</td><td>1</td></tr>\n",
       "\t<tr><td>global-SV%SGNT  </td><td>1</td></tr>\n",
       "\t<tr><td>global-SVAWV%TE </td><td>2</td></tr>\n",
       "\t<tr><td>global-SVG%SGGYE</td><td>2</td></tr>\n",
       "\t<tr><td>global-SWE%RGNYG</td><td>1</td></tr>\n",
       "\t<tr><td>global-SY%TG    </td><td>1</td></tr>\n",
       "\t<tr><td>global-TR%HE    </td><td>1</td></tr>\n",
       "\t<tr><td>global-TRQG%TGE </td><td>1</td></tr>\n",
       "\t<tr><td>motif-DFK       </td><td>3</td></tr>\n",
       "\t<tr><td>motif-DSPA      </td><td>1</td></tr>\n",
       "\t<tr><td>motif-FHNE      </td><td>1</td></tr>\n",
       "\t<tr><td>motif-HEGQ      </td><td>3</td></tr>\n",
       "\t<tr><td>motif-QNRN      </td><td>3</td></tr>\n",
       "\t<tr><td>motif-QQGF      </td><td>1</td></tr>\n",
       "\t<tr><td>motif-QVPG      </td><td>1</td></tr>\n",
       "\t<tr><td>motif-SMYS      </td><td>1</td></tr>\n",
       "\t<tr><td>motif-SPDF      </td><td>1</td></tr>\n",
       "\t<tr><td>motif-SQDH      </td><td>1</td></tr>\n",
       "\t<tr><td>motif-YSSY      </td><td>2</td></tr>\n",
       "</tbody>\n",
       "</table>\n"
      ],
      "text/latex": [
       "A data.frame: 143 × 2\n",
       "\\begin{tabular}{ll}\n",
       " Var1 & Freq\\\\\n",
       " <chr> & <int>\\\\\n",
       "\\hline\n",
       "\t global-\\%ALASSYE   & 2\\\\\n",
       "\t global-\\%GGGSSYNE  & 1\\\\\n",
       "\t global-\\%GNE       & 1\\\\\n",
       "\t global-\\%PTRSSYNE  & 2\\\\\n",
       "\t global-\\%SANTE     & 2\\\\\n",
       "\t global-\\%TGGGNQP   & 1\\\\\n",
       "\t global-\\%TGGK      & 1\\\\\n",
       "\t global-\\%TSGYE     & 1\\\\\n",
       "\t global-G\\%SNQP     & 1\\\\\n",
       "\t global-LH\\%NQP     & 2\\\\\n",
       "\t global-R\\%GGSYE    & 1\\\\\n",
       "\t global-R\\%NTGE     & 1\\\\\n",
       "\t global-RLQGGSTE   & 2\\\\\n",
       "\t global-RQG\\%TDT    & 1\\\\\n",
       "\t global-RR\\%NTE     & 1\\\\\n",
       "\t global-RRGA\\%QP    & 1\\\\\n",
       "\t global-RSRG\\%GNT   & 1\\\\\n",
       "\t global-S\\%AGGGYE   & 1\\\\\n",
       "\t global-S\\%ANTE     & 2\\\\\n",
       "\t global-S\\%ARSSYE   & 1\\\\\n",
       "\t global-S\\%ASGNT    & 1\\\\\n",
       "\t global-S\\%DRGYE    & 3\\\\\n",
       "\t global-S\\%DSSYE    & 1\\\\\n",
       "\t global-S\\%EGV      & 2\\\\\n",
       "\t global-S\\%ENGRGTGE & 2\\\\\n",
       "\t global-S\\%GGG      & 2\\\\\n",
       "\t global-S\\%GGGMNTE  & 2\\\\\n",
       "\t global-S\\%GGNTE    & 1\\\\\n",
       "\t global-S\\%GGYE     & 1\\\\\n",
       "\t global-S\\%GQGAYNE  & 1\\\\\n",
       "\t ⋮ & ⋮\\\\\n",
       "\t global-SS\\%NTE    & 1\\\\\n",
       "\t global-SSDRG\\%G   & 1\\\\\n",
       "\t global-SSDRGY\\%   & 3\\\\\n",
       "\t global-SSG\\%NYG   & 1\\\\\n",
       "\t global-SSL\\%DT    & 1\\\\\n",
       "\t global-SSPG\\%E    & 1\\\\\n",
       "\t global-SSPG\\%GNE  & 1\\\\\n",
       "\t global-SSPGQG\\%E  & 1\\\\\n",
       "\t global-SSTVRDYG  & 2\\\\\n",
       "\t global-ST\\%NTE    & 1\\\\\n",
       "\t global-SV\\%GGNTE  & 1\\\\\n",
       "\t global-SV\\%GGSYNE & 1\\\\\n",
       "\t global-SV\\%SGNT   & 1\\\\\n",
       "\t global-SVAWV\\%TE  & 2\\\\\n",
       "\t global-SVG\\%SGGYE & 2\\\\\n",
       "\t global-SWE\\%RGNYG & 1\\\\\n",
       "\t global-SY\\%TG     & 1\\\\\n",
       "\t global-TR\\%HE     & 1\\\\\n",
       "\t global-TRQG\\%TGE  & 1\\\\\n",
       "\t motif-DFK        & 3\\\\\n",
       "\t motif-DSPA       & 1\\\\\n",
       "\t motif-FHNE       & 1\\\\\n",
       "\t motif-HEGQ       & 3\\\\\n",
       "\t motif-QNRN       & 3\\\\\n",
       "\t motif-QQGF       & 1\\\\\n",
       "\t motif-QVPG       & 1\\\\\n",
       "\t motif-SMYS       & 1\\\\\n",
       "\t motif-SPDF       & 1\\\\\n",
       "\t motif-SQDH       & 1\\\\\n",
       "\t motif-YSSY       & 2\\\\\n",
       "\\end{tabular}\n"
      ],
      "text/markdown": [
       "\n",
       "A data.frame: 143 × 2\n",
       "\n",
       "| Var1 &lt;chr&gt; | Freq &lt;int&gt; |\n",
       "|---|---|\n",
       "| global-%ALASSYE   | 2 |\n",
       "| global-%GGGSSYNE  | 1 |\n",
       "| global-%GNE       | 1 |\n",
       "| global-%PTRSSYNE  | 2 |\n",
       "| global-%SANTE     | 2 |\n",
       "| global-%TGGGNQP   | 1 |\n",
       "| global-%TGGK      | 1 |\n",
       "| global-%TSGYE     | 1 |\n",
       "| global-G%SNQP     | 1 |\n",
       "| global-LH%NQP     | 2 |\n",
       "| global-R%GGSYE    | 1 |\n",
       "| global-R%NTGE     | 1 |\n",
       "| global-RLQGGSTE   | 2 |\n",
       "| global-RQG%TDT    | 1 |\n",
       "| global-RR%NTE     | 1 |\n",
       "| global-RRGA%QP    | 1 |\n",
       "| global-RSRG%GNT   | 1 |\n",
       "| global-S%AGGGYE   | 1 |\n",
       "| global-S%ANTE     | 2 |\n",
       "| global-S%ARSSYE   | 1 |\n",
       "| global-S%ASGNT    | 1 |\n",
       "| global-S%DRGYE    | 3 |\n",
       "| global-S%DSSYE    | 1 |\n",
       "| global-S%EGV      | 2 |\n",
       "| global-S%ENGRGTGE | 2 |\n",
       "| global-S%GGG      | 2 |\n",
       "| global-S%GGGMNTE  | 2 |\n",
       "| global-S%GGNTE    | 1 |\n",
       "| global-S%GGYE     | 1 |\n",
       "| global-S%GQGAYNE  | 1 |\n",
       "| ⋮ | ⋮ |\n",
       "| global-SS%NTE    | 1 |\n",
       "| global-SSDRG%G   | 1 |\n",
       "| global-SSDRGY%   | 3 |\n",
       "| global-SSG%NYG   | 1 |\n",
       "| global-SSL%DT    | 1 |\n",
       "| global-SSPG%E    | 1 |\n",
       "| global-SSPG%GNE  | 1 |\n",
       "| global-SSPGQG%E  | 1 |\n",
       "| global-SSTVRDYG  | 2 |\n",
       "| global-ST%NTE    | 1 |\n",
       "| global-SV%GGNTE  | 1 |\n",
       "| global-SV%GGSYNE | 1 |\n",
       "| global-SV%SGNT   | 1 |\n",
       "| global-SVAWV%TE  | 2 |\n",
       "| global-SVG%SGGYE | 2 |\n",
       "| global-SWE%RGNYG | 1 |\n",
       "| global-SY%TG     | 1 |\n",
       "| global-TR%HE     | 1 |\n",
       "| global-TRQG%TGE  | 1 |\n",
       "| motif-DFK        | 3 |\n",
       "| motif-DSPA       | 1 |\n",
       "| motif-FHNE       | 1 |\n",
       "| motif-HEGQ       | 3 |\n",
       "| motif-QNRN       | 3 |\n",
       "| motif-QQGF       | 1 |\n",
       "| motif-QVPG       | 1 |\n",
       "| motif-SMYS       | 1 |\n",
       "| motif-SPDF       | 1 |\n",
       "| motif-SQDH       | 1 |\n",
       "| motif-YSSY       | 2 |\n",
       "\n"
      ],
      "text/plain": [
       "    Var1              Freq\n",
       "1   global-%ALASSYE   2   \n",
       "2   global-%GGGSSYNE  1   \n",
       "3   global-%GNE       1   \n",
       "4   global-%PTRSSYNE  2   \n",
       "5   global-%SANTE     2   \n",
       "6   global-%TGGGNQP   1   \n",
       "7   global-%TGGK      1   \n",
       "8   global-%TSGYE     1   \n",
       "9   global-G%SNQP     1   \n",
       "10  global-LH%NQP     2   \n",
       "11  global-R%GGSYE    1   \n",
       "12  global-R%NTGE     1   \n",
       "13  global-RLQGGSTE   2   \n",
       "14  global-RQG%TDT    1   \n",
       "15  global-RR%NTE     1   \n",
       "16  global-RRGA%QP    1   \n",
       "17  global-RSRG%GNT   1   \n",
       "18  global-S%AGGGYE   1   \n",
       "19  global-S%ANTE     2   \n",
       "20  global-S%ARSSYE   1   \n",
       "21  global-S%ASGNT    1   \n",
       "22  global-S%DRGYE    3   \n",
       "23  global-S%DSSYE    1   \n",
       "24  global-S%EGV      2   \n",
       "25  global-S%ENGRGTGE 2   \n",
       "26  global-S%GGG      2   \n",
       "27  global-S%GGGMNTE  2   \n",
       "28  global-S%GGNTE    1   \n",
       "29  global-S%GGYE     1   \n",
       "30  global-S%GQGAYNE  1   \n",
       "⋮   ⋮                 ⋮   \n",
       "114 global-SS%NTE     1   \n",
       "115 global-SSDRG%G    1   \n",
       "116 global-SSDRGY%    3   \n",
       "117 global-SSG%NYG    1   \n",
       "118 global-SSL%DT     1   \n",
       "119 global-SSPG%E     1   \n",
       "120 global-SSPG%GNE   1   \n",
       "121 global-SSPGQG%E   1   \n",
       "122 global-SSTVRDYG   2   \n",
       "123 global-ST%NTE     1   \n",
       "124 global-SV%GGNTE   1   \n",
       "125 global-SV%GGSYNE  1   \n",
       "126 global-SV%SGNT    1   \n",
       "127 global-SVAWV%TE   2   \n",
       "128 global-SVG%SGGYE  2   \n",
       "129 global-SWE%RGNYG  1   \n",
       "130 global-SY%TG      1   \n",
       "131 global-TR%HE      1   \n",
       "132 global-TRQG%TGE   1   \n",
       "133 motif-DFK         3   \n",
       "134 motif-DSPA        1   \n",
       "135 motif-FHNE        1   \n",
       "136 motif-HEGQ        3   \n",
       "137 motif-QNRN        3   \n",
       "138 motif-QQGF        1   \n",
       "139 motif-QVPG        1   \n",
       "140 motif-SMYS        1   \n",
       "141 motif-SPDF        1   \n",
       "142 motif-SQDH        1   \n",
       "143 motif-YSSY        2   "
      ]
     },
     "metadata": {},
     "output_type": "display_data"
    }
   ],
   "source": [
    "gliphtab"
   ]
  },
  {
   "cell_type": "code",
   "execution_count": 53,
   "metadata": {},
   "outputs": [
    {
     "data": {
      "text/html": [
       "189"
      ],
      "text/latex": [
       "189"
      ],
      "text/markdown": [
       "189"
      ],
      "text/plain": [
       "[1] 189"
      ]
     },
     "metadata": {},
     "output_type": "display_data"
    }
   ],
   "source": [
    "sum(gliphtab$Freq)"
   ]
  },
  {
   "cell_type": "code",
   "execution_count": 54,
   "metadata": {},
   "outputs": [],
   "source": [
    "#convert NAs to zero\n",
    "metadata_trb$gliph2_type[ is.na(metadata_trb$gliph2_type)] <- 0"
   ]
  },
  {
   "cell_type": "code",
   "execution_count": 55,
   "metadata": {},
   "outputs": [
    {
     "data": {
      "text/plain": [
       "   Min. 1st Qu.  Median    Mean 3rd Qu.    Max. \n",
       "  0.000   0.000   1.000   4.178   3.000  41.000 "
      ]
     },
     "metadata": {},
     "output_type": "display_data"
    }
   ],
   "source": [
    "summary(metadata_trb$gliph2_type)"
   ]
  },
  {
   "cell_type": "code",
   "execution_count": 56,
   "metadata": {},
   "outputs": [],
   "source": [
    "gliphplot <- ggplot(data = metadata_trb, \n",
    "                  aes(y = gliph2_type, \n",
    "                      x = sample_id_DNA)) + \n",
    "    geom_bar(colour = \"#000000\", fill = \"#adadad\", stat=\"identity\", width = 0.8) +\n",
    "    theme(axis.title.x = element_blank(),\n",
    "          axis.text.x = element_blank(),\n",
    "          axis.line = element_line(color = \"black\"),\n",
    "          axis.text = element_text(size = 20),\n",
    "          axis.title = element_text(size = 20), \n",
    "          legend.position = \"none\") +\n",
    "    theme(panel.grid.major = element_blank(),\n",
    "          panel.grid.minor = element_blank(),\n",
    "          panel.background = element_rect(fill = \"transparent\",\n",
    "                                          colour = NA),\n",
    "          panel.border=element_blank(),\n",
    "          plot.margin = unit(c(0,0,0,0),\"cm\")) "
   ]
  },
  {
   "cell_type": "code",
   "execution_count": 57,
   "metadata": {
    "scrolled": false
   },
   "outputs": [
    {
     "data": {
      "image/png": "[encoded data removed]",
      "text/plain": [
       "plot without title"
      ]
     },
     "metadata": {
      "image/png": {
       "height": 420,
       "width": 420
      }
     },
     "output_type": "display_data"
    }
   ],
   "source": [
    "align_plots1(divplot, clonpt, gliphplot)"
   ]
  },
  {
   "cell_type": "code",
   "execution_count": 58,
   "metadata": {},
   "outputs": [
    {
     "data": {
      "text/html": [
       "<strong>pdf:</strong> 2"
      ],
      "text/latex": [
       "\\textbf{pdf:} 2"
      ],
      "text/markdown": [
       "**pdf:** 2"
      ],
      "text/plain": [
       "pdf \n",
       "  2 "
      ]
     },
     "metadata": {},
     "output_type": "display_data"
    }
   ],
   "source": [
    "pdf(file = paste0(plotpath,\"TRB_clonplot_wlegend.pdf\"),\n",
    "        width = 20, \n",
    "        height = 12,\n",
    "        useDingbats = FALSE, onefile = F)\n",
    "divplot + theme(legend.position = \"right\")\n",
    "    dev.off()"
   ]
  },
  {
   "cell_type": "code",
   "execution_count": 59,
   "metadata": {},
   "outputs": [
    {
     "data": {
      "text/html": [
       "<strong>pdf:</strong> 2"
      ],
      "text/latex": [
       "\\textbf{pdf:} 2"
      ],
      "text/markdown": [
       "**pdf:** 2"
      ],
      "text/plain": [
       "pdf \n",
       "  2 "
      ]
     },
     "metadata": {},
     "output_type": "display_data"
    }
   ],
   "source": [
    "pdf(file = paste0(plotpath,\"TRB_clonplot.pdf\"),\n",
    "        width = 20, \n",
    "        height = 12,\n",
    "        useDingbats = FALSE, onefile = F)\n",
    "align_plots1(divplot, clonpt, gliphplot)\n",
    "    dev.off()"
   ]
  },
  {
   "cell_type": "markdown",
   "metadata": {},
   "source": [
    "## Add heatmap for sample origin"
   ]
  },
  {
   "cell_type": "code",
   "execution_count": 60,
   "metadata": {},
   "outputs": [],
   "source": [
    "metadata_trb$origin <- NA\n",
    "metadata_trb$origin[ metadata_trb$sample_origin == \"Lymph node\"] <- \"Lymph node\"\n",
    "metadata_trb$origin[ metadata_trb$sample_origin != \"Lymph node\"] <- \"Other tissue\""
   ]
  },
  {
   "cell_type": "code",
   "execution_count": 61,
   "metadata": {},
   "outputs": [],
   "source": [
    "myorigin <- metadata_trb$origin\n",
    "names(myorigin) <- metadata_trb$sample_id_DNA\n",
    "myorigin <- t(as.matrix(myorigin))\n",
    "rownames(myorigin) <- \"Lymph node\\n/Other tissue\"\n",
    "\n",
    "origin_hm <- origin_hm.fx(myorigin)"
   ]
  },
  {
   "cell_type": "code",
   "execution_count": 62,
   "metadata": {},
   "outputs": [
    {
     "data": {
      "image/png": "[encoded data removed]",
      "text/plain": [
       "plot without title"
      ]
     },
     "metadata": {
      "image/png": {
       "height": 420,
       "width": 420
      }
     },
     "output_type": "display_data"
    }
   ],
   "source": [
    "origin_hm"
   ]
  },
  {
   "cell_type": "markdown",
   "metadata": {},
   "source": [
    "## Add heatmap for tumour type"
   ]
  },
  {
   "cell_type": "code",
   "execution_count": 63,
   "metadata": {},
   "outputs": [],
   "source": [
    "mytype <- metadata_trb$tumor_type\n",
    "names(mytype) <- metadata_trb$sample_id_DNA\n",
    "mytype <- t(as.matrix(mytype))\n",
    "rownames(mytype) <- \"Primary/Metastatic\"\n",
    "\n",
    "type_hm <- type_hm.fx(mytype)"
   ]
  },
  {
   "cell_type": "code",
   "execution_count": 64,
   "metadata": {},
   "outputs": [
    {
     "data": {
      "text/html": [
       "<strong>pdf:</strong> 2"
      ],
      "text/latex": [
       "\\textbf{pdf:} 2"
      ],
      "text/markdown": [
       "**pdf:** 2"
      ],
      "text/plain": [
       "pdf \n",
       "  2 "
      ]
     },
     "metadata": {},
     "output_type": "display_data"
    }
   ],
   "source": [
    "pdf(paste0(plotpath, \"type_origin_hm_4TCR.pdf\"),\n",
    "   width = 10, height = 20,\n",
    "   useDingbats = FALSE)\n",
    "\n",
    "draw(type_hm %v% origin_hm,heatmap_legend_side = \"bottom\")\n",
    "\n",
    "dev.off()"
   ]
  },
  {
   "cell_type": "markdown",
   "metadata": {},
   "source": [
    "# PFS correlates"
   ]
  },
  {
   "cell_type": "markdown",
   "metadata": {},
   "source": [
    "## Diversity"
   ]
  },
  {
   "cell_type": "markdown",
   "metadata": {},
   "source": [
    "### KM"
   ]
  },
  {
   "cell_type": "code",
   "execution_count": 71,
   "metadata": {},
   "outputs": [
    {
     "data": {
      "text/plain": [
       "   Min. 1st Qu.  Median    Mean 3rd Qu.    Max. \n",
       "  1.000   9.527  19.177  79.913  80.269 697.247 "
      ]
     },
     "metadata": {},
     "output_type": "display_data"
    }
   ],
   "source": [
    "summary(metadata_trb$observed_Shannon)"
   ]
  },
  {
   "cell_type": "code",
   "execution_count": 72,
   "metadata": {},
   "outputs": [],
   "source": [
    "metadata_trb$log10shann <- log10(metadata_trb$observed_Shannon)"
   ]
  },
  {
   "cell_type": "code",
   "execution_count": 73,
   "metadata": {},
   "outputs": [
    {
     "data": {
      "text/plain": [
       "   Min. 1st Qu.  Median    Mean 3rd Qu.    Max. \n",
       "  0.000   0.979   1.283   1.413   1.905   2.843 "
      ]
     },
     "metadata": {},
     "output_type": "display_data"
    }
   ],
   "source": [
    "summary(metadata_trb$log10shann)"
   ]
  },
  {
   "cell_type": "code",
   "execution_count": 74,
   "metadata": {},
   "outputs": [],
   "source": [
    "metadata_trb$Div_group <- NA\n",
    "metadata_trb$Div_group[metadata_trb$log10shann >= 1.905] <- \"High\"\n",
    "\n",
    "metadata_trb$Div_group[metadata_trb$log10shann < 1.905 &\n",
    "                       metadata_trb$log10shann > 0.979] <- \"Intermediate\"\n",
    "\n",
    "metadata_trb$Div_group[metadata_trb$log10shann <= 0.979] <- \"Low\""
   ]
  },
  {
   "cell_type": "code",
   "execution_count": 75,
   "metadata": {},
   "outputs": [
    {
     "data": {
      "text/plain": [
       "\n",
       "        High Intermediate          Low \n",
       "          11           22           12 "
      ]
     },
     "metadata": {},
     "output_type": "display_data"
    }
   ],
   "source": [
    "table(metadata_trb$Div_group)"
   ]
  },
  {
   "cell_type": "code",
   "execution_count": 76,
   "metadata": {},
   "outputs": [
    {
     "data": {
      "text/plain": [
       "   Min. 1st Qu.  Median    Mean 3rd Qu.    Max. \n",
       "  2.005   2.185   2.275   2.347   2.562   2.843 "
      ]
     },
     "metadata": {},
     "output_type": "display_data"
    },
    {
     "data": {
      "text/plain": [
       "   Min. 1st Qu.  Median    Mean 3rd Qu.    Max. \n",
       "  1.013   1.135   1.294   1.362   1.518   1.905 "
      ]
     },
     "metadata": {},
     "output_type": "display_data"
    },
    {
     "data": {
      "text/plain": [
       "   Min. 1st Qu.  Median    Mean 3rd Qu.    Max. \n",
       " 0.0000  0.5023  0.6581  0.6484  0.9046  0.9790 "
      ]
     },
     "metadata": {},
     "output_type": "display_data"
    }
   ],
   "source": [
    "summary(metadata_trb$log10shann[metadata_trb$Div_group == \"High\"])\n",
    "summary(metadata_trb$log10shann[metadata_trb$Div_group == \"Intermediate\"])\n",
    "summary(metadata_trb$log10shann[metadata_trb$Div_group == \"Low\"])"
   ]
  },
  {
   "cell_type": "code",
   "execution_count": 77,
   "metadata": {},
   "outputs": [],
   "source": [
    "sfit <- survfit(Surv(TRTDUR, progressed)~ Div_group, data= metadata_trb)\n",
    "\n",
    "kmplot <- ggsurvplot(sfit, conf.int=FALSE, palette = c(\"#ED2024\", \"#adadad\", \"#3953A4\"),\n",
    "                     pval = TRUE, pval.size = 8, pval.coord = c(300, 0.75),\n",
    "                     risk.table=TRUE, fontsize = 8,\n",
    "                     legend = c(0.7, 0.95),font.legend = 16, legend.title = \"\",\n",
    "                     font.main = 23, font.x = 25,font.y = 25, font.tickslab = 20) \n",
    "\n",
    "kmplot$table <- kmplot$table + theme(axis.text.x = element_text(size = 20))\n",
    "kmplot$plot <- kmplot$plot + labs(title = \"PFS analysis of TRB diversity\")"
   ]
  },
  {
   "cell_type": "code",
   "execution_count": 78,
   "metadata": {},
   "outputs": [
    {
     "data": {
      "image/png": "[encoded data removed]",
      "text/plain": [
       "plot without title"
      ]
     },
     "metadata": {
      "image/png": {
       "height": 420,
       "width": 420
      }
     },
     "output_type": "display_data"
    }
   ],
   "source": [
    "kmplot"
   ]
  },
  {
   "cell_type": "code",
   "execution_count": 79,
   "metadata": {},
   "outputs": [
    {
     "data": {
      "text/html": [
       "<strong>pdf:</strong> 2"
      ],
      "text/latex": [
       "\\textbf{pdf:} 2"
      ],
      "text/markdown": [
       "**pdf:** 2"
      ],
      "text/plain": [
       "pdf \n",
       "  2 "
      ]
     },
     "metadata": {},
     "output_type": "display_data"
    }
   ],
   "source": [
    "pdf(file = paste0(plotpath,\"KM_TRB_Div.pdf\"),\n",
    "    width = 10, \n",
    "    height = 10,\n",
    "    useDingbats = FALSE,\n",
    "    onefile = FALSE)\n",
    "kmplot\n",
    "dev.off()"
   ]
  },
  {
   "cell_type": "markdown",
   "metadata": {},
   "source": [
    "### Cox"
   ]
  },
  {
   "cell_type": "code",
   "execution_count": 106,
   "metadata": {},
   "outputs": [],
   "source": [
    "colnames(metadata_trb)[colnames(metadata_trb) == \"log10shann\"] <- \"Shannon diversity (log10)\""
   ]
  },
  {
   "cell_type": "code",
   "execution_count": 107,
   "metadata": {},
   "outputs": [
    {
     "data": {
      "text/plain": [
       "Call:\n",
       "coxph(formula = Surv(TRTDUR, progressed) ~ `Shannon diversity (log10)` + \n",
       "    sample_origin + disease_group, data = metadata_trb)\n",
       "\n",
       "  n= 42, number of events= 34 \n",
       "   (3 observations deleted due to missingness)\n",
       "\n",
       "                                         coef exp(coef)  se(coef)      z\n",
       "`Shannon diversity (log10)`         -1.231384  0.291888  0.623651 -1.974\n",
       "sample_originBone                   -1.925964  0.145735  1.090638 -1.766\n",
       "sample_originBrain                  -1.570180  0.208008  1.414530 -1.110\n",
       "sample_originConnective/Soft tissue -2.468105  0.084745  1.466217 -1.683\n",
       "sample_originKidney                 -2.542119  0.078699  1.651907 -1.539\n",
       "sample_originLung                   -4.300858  0.013557  1.447699 -2.971\n",
       "sample_originLymph node             -2.948131  0.052438  1.707499 -1.727\n",
       "sample_originOthers                 -6.004783  0.002467  1.736030 -3.459\n",
       "disease_groupLymphoma                0.063918  1.066005  1.469205  0.044\n",
       "disease_groupNBL                    -2.128070  0.119067  1.199798 -1.774\n",
       "disease_groupOS                      0.928751  2.531347  0.985680  0.942\n",
       "disease_groupOthers                  1.375799  3.958237  1.132117  1.215\n",
       "disease_groupRMS                     0.823056  2.277450  1.259737  0.653\n",
       "disease_groupRT                     -2.009359  0.134075  1.097850 -1.830\n",
       "disease_groupSARC                    2.179543  8.842268  1.292653  1.686\n",
       "disease_groupWILMS                  -1.327289  0.265195  1.428485 -0.929\n",
       "                                    Pr(>|z|)    \n",
       "`Shannon diversity (log10)`         0.048328 *  \n",
       "sample_originBone                   0.077412 .  \n",
       "sample_originBrain                  0.266983    \n",
       "sample_originConnective/Soft tissue 0.092314 .  \n",
       "sample_originKidney                 0.123829    \n",
       "sample_originLung                   0.002970 ** \n",
       "sample_originLymph node             0.084243 .  \n",
       "sample_originOthers                 0.000542 ***\n",
       "disease_groupLymphoma               0.965299    \n",
       "disease_groupNBL                    0.076114 .  \n",
       "disease_groupOS                     0.346068    \n",
       "disease_groupOthers                 0.224273    \n",
       "disease_groupRMS                    0.513527    \n",
       "disease_groupRT                     0.067210 .  \n",
       "disease_groupSARC                   0.091776 .  \n",
       "disease_groupWILMS                  0.352807    \n",
       "---\n",
       "Signif. codes:  0 ‘***’ 0.001 ‘**’ 0.01 ‘*’ 0.05 ‘.’ 0.1 ‘ ’ 1\n",
       "\n",
       "                                    exp(coef) exp(-coef) lower .95 upper .95\n",
       "`Shannon diversity (log10)`          0.291888     3.4260 8.597e-02   0.99099\n",
       "sample_originBone                    0.145735     6.8618 1.719e-02   1.23571\n",
       "sample_originBrain                   0.208008     4.8075 1.300e-02   3.32759\n",
       "sample_originConnective/Soft tissue  0.084745    11.8001 4.787e-03   1.50024\n",
       "sample_originKidney                  0.078699    12.7066 3.089e-03   2.00483\n",
       "sample_originLung                    0.013557    73.7631 7.941e-04   0.23144\n",
       "sample_originLymph node              0.052438    19.0703 1.846e-03   1.48960\n",
       "sample_originOthers                  0.002467   405.3630 8.212e-05   0.07411\n",
       "disease_groupLymphoma                1.066005     0.9381 5.986e-02  18.98231\n",
       "disease_groupNBL                     0.119067     8.3986 1.134e-02   1.25043\n",
       "disease_groupOS                      2.531347     0.3950 3.667e-01  17.47286\n",
       "disease_groupOthers                  3.958237     0.2526 4.304e-01  36.40502\n",
       "disease_groupRMS                     2.277450     0.4391 1.928e-01  26.89916\n",
       "disease_groupRT                      0.134075     7.4585 1.559e-02   1.15302\n",
       "disease_groupSARC                    8.842268     0.1131 7.019e-01 111.39650\n",
       "disease_groupWILMS                   0.265195     3.7708 1.613e-02   4.36008\n",
       "\n",
       "Concordance= 0.814  (se = 0.049 )\n",
       "Likelihood ratio test= 32.93  on 16 df,   p=0.008\n",
       "Wald test            = 23.77  on 16 df,   p=0.09\n",
       "Score (logrank) test = 28.02  on 16 df,   p=0.03\n"
      ]
     },
     "metadata": {},
     "output_type": "display_data"
    }
   ],
   "source": [
    "coxmodel <- coxph(Surv(TRTDUR, progressed) ~ `Shannon diversity (log10)` + sample_origin + disease_group, data = metadata_trb)\n",
    "summary(coxmodel)"
   ]
  },
  {
   "cell_type": "code",
   "execution_count": 108,
   "metadata": {},
   "outputs": [],
   "source": [
    "library(forestmodel)"
   ]
  },
  {
   "cell_type": "code",
   "execution_count": 109,
   "metadata": {},
   "outputs": [
    {
     "name": "stderr",
     "output_type": "stream",
     "text": [
      "Warning message in recalculate_width_panels(panel_positions, mapped_text = mapped_text, :\n",
      "“Unable to resize forest panel to be smaller than its heading; consider a smaller text size”\n"
     ]
    }
   ],
   "source": [
    "trb_cox <- forest_model(coxmodel,exponentiate = TRUE) + labs(title = \"Cox for TRB Diversity\")"
   ]
  },
  {
   "cell_type": "code",
   "execution_count": 110,
   "metadata": {},
   "outputs": [
    {
     "data": {
      "image/png": "[encoded data removed]",
      "text/plain": [
       "plot without title"
      ]
     },
     "metadata": {
      "image/png": {
       "height": 420,
       "width": 420
      }
     },
     "output_type": "display_data"
    }
   ],
   "source": [
    "trb_cox"
   ]
  },
  {
   "cell_type": "code",
   "execution_count": 111,
   "metadata": {},
   "outputs": [
    {
     "data": {
      "text/html": [
       "<strong>pdf:</strong> 2"
      ],
      "text/latex": [
       "\\textbf{pdf:} 2"
      ],
      "text/markdown": [
       "**pdf:** 2"
      ],
      "text/plain": [
       "pdf \n",
       "  2 "
      ]
     },
     "metadata": {},
     "output_type": "display_data"
    }
   ],
   "source": [
    "pdf(file = paste0(plotpath,\"TRB_Shannon_cox.pdf\"),\n",
    "    width = 8, \n",
    "    height = 10,\n",
    "    useDingbats = FALSE)\n",
    "\n",
    "trb_cox\n",
    "\n",
    "dev.off()"
   ]
  },
  {
   "cell_type": "markdown",
   "metadata": {},
   "source": [
    "Take out samples from lymph nodes and do Cox"
   ]
  },
  {
   "cell_type": "code",
   "execution_count": 112,
   "metadata": {},
   "outputs": [
    {
     "data": {
      "text/plain": [
       "\n",
       "  Lymph node Other tissue \n",
       "           9           36 "
      ]
     },
     "metadata": {},
     "output_type": "display_data"
    }
   ],
   "source": [
    "table(metadata_trb$origin)"
   ]
  },
  {
   "cell_type": "code",
   "execution_count": 113,
   "metadata": {},
   "outputs": [],
   "source": [
    "tmp <- metadata_trb[ metadata_trb$origin != \"Lymph node\",]"
   ]
  },
  {
   "cell_type": "code",
   "execution_count": 114,
   "metadata": {},
   "outputs": [
    {
     "data": {
      "text/plain": [
       "Call:\n",
       "coxph(formula = Surv(TRTDUR, progressed) ~ `Shannon diversity (log10)` + \n",
       "    sample_origin, data = tmp)\n",
       "\n",
       "  n= 34, number of events= 29 \n",
       "   (2 observations deleted due to missingness)\n",
       "\n",
       "                                       coef exp(coef) se(coef)      z Pr(>|z|)\n",
       "`Shannon diversity (log10)`         -0.8771    0.4160   0.4431 -1.979   0.0478\n",
       "sample_originBone                   -0.7226    0.4855   0.8962 -0.806   0.4201\n",
       "sample_originBrain                  -0.6408    0.5268   0.8185 -0.783   0.4337\n",
       "sample_originConnective/Soft tissue  0.1310    1.1399   0.7410  0.177   0.8597\n",
       "sample_originKidney                 -0.8177    0.4415   1.0135 -0.807   0.4198\n",
       "sample_originLung                   -0.9441    0.3890   0.7265 -1.299   0.1938\n",
       "sample_originOthers                 -2.2994    0.1003   0.9750 -2.358   0.0184\n",
       "                                     \n",
       "`Shannon diversity (log10)`         *\n",
       "sample_originBone                    \n",
       "sample_originBrain                   \n",
       "sample_originConnective/Soft tissue  \n",
       "sample_originKidney                  \n",
       "sample_originLung                    \n",
       "sample_originOthers                 *\n",
       "---\n",
       "Signif. codes:  0 ‘***’ 0.001 ‘**’ 0.01 ‘*’ 0.05 ‘.’ 0.1 ‘ ’ 1\n",
       "\n",
       "                                    exp(coef) exp(-coef) lower .95 upper .95\n",
       "`Shannon diversity (log10)`            0.4160     2.4039   0.17455    0.9914\n",
       "sample_originBone                      0.4855     2.0597   0.08382    2.8121\n",
       "sample_originBrain                     0.5268     1.8981   0.10592    2.6205\n",
       "sample_originConnective/Soft tissue    1.1399     0.8772   0.26678    4.8710\n",
       "sample_originKidney                    0.4415     2.2652   0.06056    3.2181\n",
       "sample_originLung                      0.3890     2.5704   0.09367    1.6159\n",
       "sample_originOthers                    0.1003     9.9678   0.01484    0.6782\n",
       "\n",
       "Concordance= 0.711  (se = 0.059 )\n",
       "Likelihood ratio test= 13.9  on 7 df,   p=0.05\n",
       "Wald test            = 11.45  on 7 df,   p=0.1\n",
       "Score (logrank) test = 12.73  on 7 df,   p=0.08\n"
      ]
     },
     "metadata": {},
     "output_type": "display_data"
    }
   ],
   "source": [
    "coxmodel <- coxph(Surv(TRTDUR, progressed) ~ `Shannon diversity (log10)` + sample_origin, data = tmp)\n",
    "summary(coxmodel)"
   ]
  },
  {
   "cell_type": "code",
   "execution_count": 301,
   "metadata": {},
   "outputs": [],
   "source": [
    "panels <- list(\n",
    "#left side\n",
    "  list(width = 0.03),\n",
    "# variable column    \n",
    "  list(width = 0.12, display = ~variable, heading = \"Variable\"),\n",
    "    list(width = 0.1, display = ~level),\n",
    "# N column\n",
    "  list(width = 0.05, display = ~n, hjust = 1, heading = \"N (%)\"),\n",
    "# right vertical line for N\n",
    "    list(width = 0.03, item = \"vline\", hjust = 0.5),\n",
    "# forest plot  \n",
    "    list(width = 0.55, item = \"forest\", hjust = 0.5, heading = \"Hazard ratio\", linetype = \"dashed\", line_x = 0),\n",
    "# right vertical line for forest    \n",
    "  list(width = 0.03, item = \"vline\", hjust = 0.5),\n",
    "# data column    \n",
    "  list(width = 5, display = ~ ifelse(reference, \"\", sprintf(\"%0.2f (%0.2f, %0.2f)\",\n",
    "    trans(estimate), trans(conf.low), trans(conf.high))), display_na = NA, heading = \"HR (%CI)\"),\n",
    "  list(\n",
    "    width = 5,\n",
    "    display = ~ ifelse(reference, \"\", format.pval(p.value, digits = 1, eps = 0.001)),\n",
    "    display_na = NA, hjust = 1, heading = \"p\"),\n",
    "  list(width = 0.08)\n",
    ")"
   ]
  },
  {
   "cell_type": "code",
   "execution_count": 302,
   "metadata": {},
   "outputs": [
    {
     "name": "stderr",
     "output_type": "stream",
     "text": [
      "Warning message in recalculate_width_panels(panel_positions, mapped_text = mapped_text, :\n",
      "“Unable to resize forest panel to be smaller than its heading; consider a smaller text size”\n"
     ]
    }
   ],
   "source": [
    "trb_cox <- forest_model(coxmodel,exponentiate = TRUE, panels) + labs(title = \"Cox for TRB Diversity (excluding lymph nodes)\")"
   ]
  },
  {
   "cell_type": "code",
   "execution_count": 303,
   "metadata": {},
   "outputs": [
    {
     "data": {
      "image/png": "[encoded data removed]",
      "text/plain": [
       "plot without title"
      ]
     },
     "metadata": {
      "image/png": {
       "height": 420,
       "width": 420
      }
     },
     "output_type": "display_data"
    }
   ],
   "source": [
    "trb_cox"
   ]
  },
  {
   "cell_type": "code",
   "execution_count": 304,
   "metadata": {},
   "outputs": [
    {
     "data": {
      "text/html": [
       "<strong>pdf:</strong> 2"
      ],
      "text/latex": [
       "\\textbf{pdf:} 2"
      ],
      "text/markdown": [
       "**pdf:** 2"
      ],
      "text/plain": [
       "pdf \n",
       "  2 "
      ]
     },
     "metadata": {},
     "output_type": "display_data"
    }
   ],
   "source": [
    "pdf(file = paste0(plotpath,\"TRB_Shannon_cox_noLN.pdf\"),\n",
    "    width = 10, \n",
    "    height = 10,\n",
    "    useDingbats = FALSE)\n",
    "\n",
    "trb_cox\n",
    "\n",
    "dev.off()"
   ]
  },
  {
   "cell_type": "markdown",
   "metadata": {},
   "source": [
    "## GLIPH"
   ]
  },
  {
   "cell_type": "code",
   "execution_count": 94,
   "metadata": {},
   "outputs": [
    {
     "data": {
      "text/plain": [
       "    x   y\n",
       "x 1.0 0.8\n",
       "y 0.8 1.0\n",
       "\n",
       "n= 45 \n",
       "\n",
       "\n",
       "P\n",
       "  x  y \n",
       "x     0\n",
       "y  0   "
      ]
     },
     "metadata": {},
     "output_type": "display_data"
    }
   ],
   "source": [
    "Hmisc:: rcorr(metadata_trb$observed_Shannon, metadata_trb$gliph2_type,\n",
    "             type = \"spearman\")"
   ]
  },
  {
   "cell_type": "code",
   "execution_count": 95,
   "metadata": {},
   "outputs": [],
   "source": [
    "shann_gliph <- ggplot(data = metadata_trb, aes(x = gliph2_type, y = observed_Shannon)) + \n",
    "geom_point(size =5) +\n",
    " myplot + \n",
    "  theme(axis.title = element_text(size = 25),\n",
    "        axis.line = element_line(color = \"black\"),\n",
    "        axis.text.x = element_text(size = 25),\n",
    "        axis.text.y = element_text(size = 25)) "
   ]
  },
  {
   "cell_type": "code",
   "execution_count": 96,
   "metadata": {},
   "outputs": [
    {
     "data": {
      "image/png": "[encoded data removed]",
      "text/plain": [
       "plot without title"
      ]
     },
     "metadata": {
      "image/png": {
       "height": 420,
       "width": 420
      }
     },
     "output_type": "display_data"
    }
   ],
   "source": [
    "shann_gliph"
   ]
  },
  {
   "cell_type": "code",
   "execution_count": 97,
   "metadata": {},
   "outputs": [
    {
     "data": {
      "text/html": [
       "<strong>pdf:</strong> 2"
      ],
      "text/latex": [
       "\\textbf{pdf:} 2"
      ],
      "text/markdown": [
       "**pdf:** 2"
      ],
      "text/plain": [
       "pdf \n",
       "  2 "
      ]
     },
     "metadata": {},
     "output_type": "display_data"
    }
   ],
   "source": [
    "pdf(file = paste0(plotpath,\"Shannon_GLIPH.pdf\"),\n",
    "    width = 10, \n",
    "    height = 10,\n",
    "    useDingbats = FALSE,\n",
    "    onefile = FALSE)\n",
    "shann_gliph\n",
    "dev.off()"
   ]
  },
  {
   "cell_type": "markdown",
   "metadata": {},
   "source": [
    "### KM"
   ]
  },
  {
   "cell_type": "code",
   "execution_count": 98,
   "metadata": {
    "scrolled": true
   },
   "outputs": [
    {
     "data": {
      "text/html": [
       "<style>\n",
       ".list-inline {list-style: none; margin:0; padding: 0}\n",
       ".list-inline>li {display: inline-block}\n",
       ".list-inline>li:not(:last-child)::after {content: \"\\00b7\"; padding: 0 .5ex}\n",
       "</style>\n",
       "<ol class=list-inline><li>45</li><li>82</li></ol>\n"
      ],
      "text/latex": [
       "\\begin{enumerate*}\n",
       "\\item 45\n",
       "\\item 82\n",
       "\\end{enumerate*}\n"
      ],
      "text/markdown": [
       "1. 45\n",
       "2. 82\n",
       "\n",
       "\n"
      ],
      "text/plain": [
       "[1] 45 82"
      ]
     },
     "metadata": {},
     "output_type": "display_data"
    }
   ],
   "source": [
    "dim(metadata_trb)"
   ]
  },
  {
   "cell_type": "code",
   "execution_count": 99,
   "metadata": {},
   "outputs": [
    {
     "data": {
      "text/plain": [
       "   Min. 1st Qu.  Median    Mean 3rd Qu.    Max. \n",
       "  0.000   0.000   1.000   4.178   3.000  41.000 "
      ]
     },
     "metadata": {},
     "output_type": "display_data"
    }
   ],
   "source": [
    "summary(metadata_trb$gliph2_type)"
   ]
  },
  {
   "cell_type": "code",
   "execution_count": 100,
   "metadata": {},
   "outputs": [],
   "source": [
    "metadata_trb$gliph <- NA\n",
    "metadata_trb$gliph[metadata_trb$gliph2_type > 1] <- \"High\"\n",
    "\n",
    "metadata_trb$gliph[metadata_trb$gliph2_type <= 1] <- \"Low\""
   ]
  },
  {
   "cell_type": "code",
   "execution_count": 101,
   "metadata": {},
   "outputs": [
    {
     "data": {
      "text/plain": [
       "\n",
       "High  Low \n",
       "  17   28 "
      ]
     },
     "metadata": {},
     "output_type": "display_data"
    }
   ],
   "source": [
    "table(metadata_trb$gliph)"
   ]
  },
  {
   "cell_type": "code",
   "execution_count": 102,
   "metadata": {},
   "outputs": [],
   "source": [
    "sfit <- survfit(Surv(TRTDUR, progressed)~ gliph, data= metadata_trb)\n",
    "\n",
    "kmplot <- ggsurvplot(sfit, conf.int=FALSE, palette = c(\"#ED2024\", \"#3953A4\"),\n",
    "                     pval = TRUE, pval.size = 8, pval.coord = c(300, 0.75),\n",
    "                     risk.table=TRUE, fontsize = 8,\n",
    "                     legend = c(0.7, 0.95),font.legend = 16, legend.title = \"\",\n",
    "                     font.main = 23, font.x = 25,font.y = 25, font.tickslab = 20) \n",
    "\n",
    "kmplot$table <- kmplot$table + theme(axis.text.x = element_text(size = 20))\n",
    "kmplot$plot <- kmplot$plot + labs(title = \"PFS of TRB specificity cutoff = 1\")"
   ]
  },
  {
   "cell_type": "code",
   "execution_count": 103,
   "metadata": {},
   "outputs": [
    {
     "data": {
      "image/png": "[encoded data removed]",
      "text/plain": [
       "plot without title"
      ]
     },
     "metadata": {
      "image/png": {
       "height": 420,
       "width": 420
      }
     },
     "output_type": "display_data"
    }
   ],
   "source": [
    "kmplot"
   ]
  },
  {
   "cell_type": "code",
   "execution_count": 104,
   "metadata": {},
   "outputs": [
    {
     "data": {
      "text/html": [
       "<strong>pdf:</strong> 2"
      ],
      "text/latex": [
       "\\textbf{pdf:} 2"
      ],
      "text/markdown": [
       "**pdf:** 2"
      ],
      "text/plain": [
       "pdf \n",
       "  2 "
      ]
     },
     "metadata": {},
     "output_type": "display_data"
    }
   ],
   "source": [
    "pdf(file = paste0(plotpath,\"KM_gliph.pdf\"),\n",
    "    width = 10, \n",
    "    height = 10,\n",
    "    useDingbats = FALSE,\n",
    "    onefile = FALSE)\n",
    "kmplot\n",
    "dev.off()"
   ]
  },
  {
   "cell_type": "markdown",
   "metadata": {},
   "source": [
    "### Cox"
   ]
  },
  {
   "cell_type": "code",
   "execution_count": 105,
   "metadata": {},
   "outputs": [
    {
     "data": {
      "text/plain": [
       "Call:\n",
       "coxph(formula = Surv(TRTDUR, progressed) ~ gliph + `Shannon diversity (log10)`, \n",
       "    data = metadata_trb)\n",
       "\n",
       "  n= 42, number of events= 34 \n",
       "   (3 observations deleted due to missingness)\n",
       "\n",
       "                               coef exp(coef) se(coef)      z Pr(>|z|)  \n",
       "gliphLow                    -0.4941    0.6101   0.5862 -0.843   0.3993  \n",
       "`Shannon diversity (log10)` -0.6740    0.5097   0.3914 -1.722   0.0851 .\n",
       "---\n",
       "Signif. codes:  0 ‘***’ 0.001 ‘**’ 0.01 ‘*’ 0.05 ‘.’ 0.1 ‘ ’ 1\n",
       "\n",
       "                            exp(coef) exp(-coef) lower .95 upper .95\n",
       "gliphLow                       0.6101      1.639    0.1934     1.925\n",
       "`Shannon diversity (log10)`    0.5097      1.962    0.2367     1.098\n",
       "\n",
       "Concordance= 0.626  (se = 0.059 )\n",
       "Likelihood ratio test= 3.43  on 2 df,   p=0.2\n",
       "Wald test            = 3.65  on 2 df,   p=0.2\n",
       "Score (logrank) test = 3.68  on 2 df,   p=0.2\n"
      ]
     },
     "metadata": {},
     "output_type": "display_data"
    }
   ],
   "source": [
    "coxmodel <- coxph(Surv(TRTDUR, progressed) ~ gliph + `Shannon diversity (log10)`, data = metadata_trb)\n",
    "summary(coxmodel)"
   ]
  },
  {
   "cell_type": "code",
   "execution_count": null,
   "metadata": {},
   "outputs": [],
   "source": []
  }
 ],
 "metadata": {
  "kernelspec": {
   "display_name": "R 4.0",
   "language": "R",
   "name": "ir40"
  },
  "language_info": {
   "codemirror_mode": "r",
   "file_extension": ".r",
   "mimetype": "text/x-r-source",
   "name": "R",
   "pygments_lexer": "r",
   "version": "4.0.3"
  },
  "toc": {
   "base_numbering": 1,
   "nav_menu": {},
   "number_sections": false,
   "sideBar": true,
   "skip_h1_title": false,
   "title_cell": "Table of Contents",
   "title_sidebar": "Contents",
   "toc_cell": true,
   "toc_position": {
    "height": "calc(100% - 180px)",
    "left": "10px",
    "top": "150px",
    "width": "182.315px"
   },
   "toc_section_display": true,
   "toc_window_display": true
  }
 },
 "nbformat": 4,
 "nbformat_minor": 2
}
