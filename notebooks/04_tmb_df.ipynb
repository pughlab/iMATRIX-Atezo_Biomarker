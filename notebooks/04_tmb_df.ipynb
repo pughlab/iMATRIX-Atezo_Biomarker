{
 "cells": [
  {
   "cell_type": "markdown",
   "metadata": {
    "toc": true
   },
   "source": [
    "<h1>Table of Contents<span class=\"tocSkip\"></span></h1>\n",
    "<div class=\"toc\"><ul class=\"toc-item\"><li><span><a href=\"#Dependencies\" data-toc-modified-id=\"Dependencies-1\">Dependencies</a></span></li><li><span><a href=\"#Functions\" data-toc-modified-id=\"Functions-2\">Functions</a></span></li><li><span><a href=\"#Paths\" data-toc-modified-id=\"Paths-3\">Paths</a></span></li><li><span><a href=\"#Main\" data-toc-modified-id=\"Main-4\">Main</a></span></li></ul></div>"
   ]
  },
  {
   "cell_type": "markdown",
   "metadata": {},
   "source": [
    "# Dependencies"
   ]
  },
  {
   "cell_type": "code",
   "execution_count": 1,
   "metadata": {},
   "outputs": [],
   "source": [
    "options(scipen = 999)"
   ]
  },
  {
   "cell_type": "markdown",
   "metadata": {},
   "source": [
    "# Functions\n"
   ]
  },
  {
   "cell_type": "markdown",
   "metadata": {},
   "source": [
    "# Paths"
   ]
  },
  {
   "cell_type": "code",
   "execution_count": 2,
   "metadata": {},
   "outputs": [],
   "source": [
    "datapath <- \"/Users/anabbi/OneDrive - UHN/Documents/INDICATE/Data/\"\n",
    "plotpath <- \"/Users/anabbi/OneDrive - UHN/Documents/INDICATE/Plots/\""
   ]
  },
  {
   "cell_type": "markdown",
   "metadata": {},
   "source": [
    "# Main"
   ]
  },
  {
   "cell_type": "code",
   "execution_count": 3,
   "metadata": {},
   "outputs": [],
   "source": [
    "metadata <- read.csv(file.path(datapath,\"IND_estimate_metadata.csv\"),header = T,stringsAsFactors = F, check.names = F)  "
   ]
  },
  {
   "cell_type": "code",
   "execution_count": 4,
   "metadata": {},
   "outputs": [
    {
     "data": {
      "text/html": [
       "<table class=\"dataframe\">\n",
       "<caption>A data.frame: 6 × 40</caption>\n",
       "<thead>\n",
       "\t<tr><th></th><th scope=col>sample_id</th><th scope=col>Patient.ID</th><th scope=col>STUDYID</th><th scope=col>USUBJID</th><th scope=col>AGE</th><th scope=col>AGEU</th><th scope=col>TRTDUR</th><th scope=col>COHORT</th><th scope=col>TTYPE</th><th scope=col>SUBID</th><th scope=col>⋯</th><th scope=col>EA.Sequencing.Batch</th><th scope=col>tumor_type</th><th scope=col>sample_origin</th><th scope=col>disease_group</th><th scope=col>cancer</th><th scope=col>progressed</th><th scope=col>filename</th><th scope=col>StromalScore</th><th scope=col>ImmuneScore</th><th scope=col>ESTIMATEScore</th></tr>\n",
       "\t<tr><th></th><th scope=col>&lt;chr&gt;</th><th scope=col>&lt;int&gt;</th><th scope=col>&lt;chr&gt;</th><th scope=col>&lt;chr&gt;</th><th scope=col>&lt;int&gt;</th><th scope=col>&lt;chr&gt;</th><th scope=col>&lt;int&gt;</th><th scope=col>&lt;chr&gt;</th><th scope=col>&lt;chr&gt;</th><th scope=col>&lt;int&gt;</th><th scope=col>⋯</th><th scope=col>&lt;int&gt;</th><th scope=col>&lt;chr&gt;</th><th scope=col>&lt;chr&gt;</th><th scope=col>&lt;chr&gt;</th><th scope=col>&lt;chr&gt;</th><th scope=col>&lt;int&gt;</th><th scope=col>&lt;chr&gt;</th><th scope=col>&lt;dbl&gt;</th><th scope=col>&lt;dbl&gt;</th><th scope=col>&lt;dbl&gt;</th></tr>\n",
       "</thead>\n",
       "<tbody>\n",
       "\t<tr><th scope=row>1</th><td>06520001B0023R</td><td>11010601</td><td>GO29664</td><td>GO29664-283971-11010601</td><td>19</td><td>YEARS</td><td>  1</td><td>Cohort 6 (OSTEOSARCOMA)     </td><td>OSTEOSARCOMA               </td><td>11010601</td><td>⋯</td><td>1</td><td>Metastatic</td><td>Connective/Soft tissue</td><td>OS      </td><td>Solid tumour</td><td>1</td><td>go29664_ngs_rna_targrna_rnaaccess_06520001b0023r_20171125.genes.results</td><td> 759.34037</td><td>  687.8819</td><td> 1447.2222</td></tr>\n",
       "\t<tr><th scope=row>2</th><td>06520003C0012R</td><td>11010202</td><td>GO29664</td><td>GO29664-283658-11010202</td><td>17</td><td>YEARS</td><td>108</td><td>Cohort 2 (HODGKIN LYMPHOMA) </td><td>HODGKIN LYMPHOMA           </td><td>11010202</td><td>⋯</td><td>1</td><td>Primary   </td><td>Lymph node            </td><td>Lymphoma</td><td>Lymphoma    </td><td>1</td><td>go29664_ngs_rna_targrna_rnaaccess_06520003c0012r_20171125.genes.results</td><td>1291.97366</td><td> 3126.7697</td><td> 4418.7433</td></tr>\n",
       "\t<tr><th scope=row>3</th><td>06520004C0018R</td><td>11010201</td><td>GO29664</td><td>GO29664-283658-11010201</td><td>17</td><td>YEARS</td><td>652</td><td>Cohort 2 (HODGKIN LYMPHOMA) </td><td>HODGKIN LYMPHOMA           </td><td>11010201</td><td>⋯</td><td>1</td><td>Primary   </td><td>Lymph node            </td><td>Lymphoma</td><td>Lymphoma    </td><td>0</td><td>go29664_ngs_rna_targrna_rnaaccess_06520004c0018r_20171125.genes.results</td><td>1345.33693</td><td> 3036.1189</td><td> 4381.4559</td></tr>\n",
       "\t<tr><th scope=row>4</th><td>06520005C0017R</td><td>11010701</td><td>GO29664</td><td>GO29664-283971-11010701</td><td>11</td><td>YEARS</td><td> 22</td><td>Cohort 7 (RHABDOMYOSARCOMA )</td><td>RHABDOMYOSARCOMA - ALVEOLAR</td><td>11010701</td><td>⋯</td><td>1</td><td>Metastatic</td><td>Connective/Soft tissue</td><td>RMS     </td><td>Solid tumour</td><td>1</td><td>go29664_ngs_rna_targrna_rnaaccess_06520005c0017r_20171125.genes.results</td><td>-431.00973</td><td>-1033.1230</td><td>-1464.1327</td></tr>\n",
       "\t<tr><th scope=row>5</th><td>06520006C0016R</td><td>11010702</td><td>GO29664</td><td>GO29664-283504-11010702</td><td> 5</td><td>YEARS</td><td> 23</td><td>Cohort 7 (RHABDOMYOSARCOMA )</td><td>RHABDOMYOSARCOMA - UNKNOWN </td><td>11010702</td><td>⋯</td><td>1</td><td>Primary   </td><td>Bone                  </td><td>RMS     </td><td>Solid tumour</td><td>1</td><td>go29664_ngs_rna_targrna_rnaaccess_06520006c0016r_20171125.genes.results</td><td> -36.73263</td><td> -257.1170</td><td> -293.8497</td></tr>\n",
       "\t<tr><th scope=row>6</th><td>06520007C0018R</td><td>11010604</td><td>GO29664</td><td>GO29664-283971-11010604</td><td>22</td><td>YEARS</td><td> 65</td><td>Cohort 6 (OSTEOSARCOMA)     </td><td>OSTEOSARCOMA               </td><td>11010604</td><td>⋯</td><td>1</td><td>Metastatic</td><td>Lung                  </td><td>OS      </td><td>Solid tumour</td><td>1</td><td>go29664_ngs_rna_targrna_rnaaccess_06520007c0018r_20171125.genes.results</td><td> 616.94657</td><td> 1406.1334</td><td> 2023.0799</td></tr>\n",
       "</tbody>\n",
       "</table>\n"
      ],
      "text/latex": [
       "A data.frame: 6 × 40\n",
       "\\begin{tabular}{r|lllllllllllllllllllll}\n",
       "  & sample\\_id & Patient.ID & STUDYID & USUBJID & AGE & AGEU & TRTDUR & COHORT & TTYPE & SUBID & ⋯ & EA.Sequencing.Batch & tumor\\_type & sample\\_origin & disease\\_group & cancer & progressed & filename & StromalScore & ImmuneScore & ESTIMATEScore\\\\\n",
       "  & <chr> & <int> & <chr> & <chr> & <int> & <chr> & <int> & <chr> & <chr> & <int> & ⋯ & <int> & <chr> & <chr> & <chr> & <chr> & <int> & <chr> & <dbl> & <dbl> & <dbl>\\\\\n",
       "\\hline\n",
       "\t1 & 06520001B0023R & 11010601 & GO29664 & GO29664-283971-11010601 & 19 & YEARS &   1 & Cohort 6 (OSTEOSARCOMA)      & OSTEOSARCOMA                & 11010601 & ⋯ & 1 & Metastatic & Connective/Soft tissue & OS       & Solid tumour & 1 & go29664\\_ngs\\_rna\\_targrna\\_rnaaccess\\_06520001b0023r\\_20171125.genes.results &  759.34037 &   687.8819 &  1447.2222\\\\\n",
       "\t2 & 06520003C0012R & 11010202 & GO29664 & GO29664-283658-11010202 & 17 & YEARS & 108 & Cohort 2 (HODGKIN LYMPHOMA)  & HODGKIN LYMPHOMA            & 11010202 & ⋯ & 1 & Primary    & Lymph node             & Lymphoma & Lymphoma     & 1 & go29664\\_ngs\\_rna\\_targrna\\_rnaaccess\\_06520003c0012r\\_20171125.genes.results & 1291.97366 &  3126.7697 &  4418.7433\\\\\n",
       "\t3 & 06520004C0018R & 11010201 & GO29664 & GO29664-283658-11010201 & 17 & YEARS & 652 & Cohort 2 (HODGKIN LYMPHOMA)  & HODGKIN LYMPHOMA            & 11010201 & ⋯ & 1 & Primary    & Lymph node             & Lymphoma & Lymphoma     & 0 & go29664\\_ngs\\_rna\\_targrna\\_rnaaccess\\_06520004c0018r\\_20171125.genes.results & 1345.33693 &  3036.1189 &  4381.4559\\\\\n",
       "\t4 & 06520005C0017R & 11010701 & GO29664 & GO29664-283971-11010701 & 11 & YEARS &  22 & Cohort 7 (RHABDOMYOSARCOMA ) & RHABDOMYOSARCOMA - ALVEOLAR & 11010701 & ⋯ & 1 & Metastatic & Connective/Soft tissue & RMS      & Solid tumour & 1 & go29664\\_ngs\\_rna\\_targrna\\_rnaaccess\\_06520005c0017r\\_20171125.genes.results & -431.00973 & -1033.1230 & -1464.1327\\\\\n",
       "\t5 & 06520006C0016R & 11010702 & GO29664 & GO29664-283504-11010702 &  5 & YEARS &  23 & Cohort 7 (RHABDOMYOSARCOMA ) & RHABDOMYOSARCOMA - UNKNOWN  & 11010702 & ⋯ & 1 & Primary    & Bone                   & RMS      & Solid tumour & 1 & go29664\\_ngs\\_rna\\_targrna\\_rnaaccess\\_06520006c0016r\\_20171125.genes.results &  -36.73263 &  -257.1170 &  -293.8497\\\\\n",
       "\t6 & 06520007C0018R & 11010604 & GO29664 & GO29664-283971-11010604 & 22 & YEARS &  65 & Cohort 6 (OSTEOSARCOMA)      & OSTEOSARCOMA                & 11010604 & ⋯ & 1 & Metastatic & Lung                   & OS       & Solid tumour & 1 & go29664\\_ngs\\_rna\\_targrna\\_rnaaccess\\_06520007c0018r\\_20171125.genes.results &  616.94657 &  1406.1334 &  2023.0799\\\\\n",
       "\\end{tabular}\n"
      ],
      "text/markdown": [
       "\n",
       "A data.frame: 6 × 40\n",
       "\n",
       "| <!--/--> | sample_id &lt;chr&gt; | Patient.ID &lt;int&gt; | STUDYID &lt;chr&gt; | USUBJID &lt;chr&gt; | AGE &lt;int&gt; | AGEU &lt;chr&gt; | TRTDUR &lt;int&gt; | COHORT &lt;chr&gt; | TTYPE &lt;chr&gt; | SUBID &lt;int&gt; | ⋯ ⋯ | EA.Sequencing.Batch &lt;int&gt; | tumor_type &lt;chr&gt; | sample_origin &lt;chr&gt; | disease_group &lt;chr&gt; | cancer &lt;chr&gt; | progressed &lt;int&gt; | filename &lt;chr&gt; | StromalScore &lt;dbl&gt; | ImmuneScore &lt;dbl&gt; | ESTIMATEScore &lt;dbl&gt; |\n",
       "|---|---|---|---|---|---|---|---|---|---|---|---|---|---|---|---|---|---|---|---|---|---|\n",
       "| 1 | 06520001B0023R | 11010601 | GO29664 | GO29664-283971-11010601 | 19 | YEARS |   1 | Cohort 6 (OSTEOSARCOMA)      | OSTEOSARCOMA                | 11010601 | ⋯ | 1 | Metastatic | Connective/Soft tissue | OS       | Solid tumour | 1 | go29664_ngs_rna_targrna_rnaaccess_06520001b0023r_20171125.genes.results |  759.34037 |   687.8819 |  1447.2222 |\n",
       "| 2 | 06520003C0012R | 11010202 | GO29664 | GO29664-283658-11010202 | 17 | YEARS | 108 | Cohort 2 (HODGKIN LYMPHOMA)  | HODGKIN LYMPHOMA            | 11010202 | ⋯ | 1 | Primary    | Lymph node             | Lymphoma | Lymphoma     | 1 | go29664_ngs_rna_targrna_rnaaccess_06520003c0012r_20171125.genes.results | 1291.97366 |  3126.7697 |  4418.7433 |\n",
       "| 3 | 06520004C0018R | 11010201 | GO29664 | GO29664-283658-11010201 | 17 | YEARS | 652 | Cohort 2 (HODGKIN LYMPHOMA)  | HODGKIN LYMPHOMA            | 11010201 | ⋯ | 1 | Primary    | Lymph node             | Lymphoma | Lymphoma     | 0 | go29664_ngs_rna_targrna_rnaaccess_06520004c0018r_20171125.genes.results | 1345.33693 |  3036.1189 |  4381.4559 |\n",
       "| 4 | 06520005C0017R | 11010701 | GO29664 | GO29664-283971-11010701 | 11 | YEARS |  22 | Cohort 7 (RHABDOMYOSARCOMA ) | RHABDOMYOSARCOMA - ALVEOLAR | 11010701 | ⋯ | 1 | Metastatic | Connective/Soft tissue | RMS      | Solid tumour | 1 | go29664_ngs_rna_targrna_rnaaccess_06520005c0017r_20171125.genes.results | -431.00973 | -1033.1230 | -1464.1327 |\n",
       "| 5 | 06520006C0016R | 11010702 | GO29664 | GO29664-283504-11010702 |  5 | YEARS |  23 | Cohort 7 (RHABDOMYOSARCOMA ) | RHABDOMYOSARCOMA - UNKNOWN  | 11010702 | ⋯ | 1 | Primary    | Bone                   | RMS      | Solid tumour | 1 | go29664_ngs_rna_targrna_rnaaccess_06520006c0016r_20171125.genes.results |  -36.73263 |  -257.1170 |  -293.8497 |\n",
       "| 6 | 06520007C0018R | 11010604 | GO29664 | GO29664-283971-11010604 | 22 | YEARS |  65 | Cohort 6 (OSTEOSARCOMA)      | OSTEOSARCOMA                | 11010604 | ⋯ | 1 | Metastatic | Lung                   | OS       | Solid tumour | 1 | go29664_ngs_rna_targrna_rnaaccess_06520007c0018r_20171125.genes.results |  616.94657 |  1406.1334 |  2023.0799 |\n",
       "\n"
      ],
      "text/plain": [
       "  sample_id      Patient.ID STUDYID USUBJID                 AGE AGEU  TRTDUR\n",
       "1 06520001B0023R 11010601   GO29664 GO29664-283971-11010601 19  YEARS   1   \n",
       "2 06520003C0012R 11010202   GO29664 GO29664-283658-11010202 17  YEARS 108   \n",
       "3 06520004C0018R 11010201   GO29664 GO29664-283658-11010201 17  YEARS 652   \n",
       "4 06520005C0017R 11010701   GO29664 GO29664-283971-11010701 11  YEARS  22   \n",
       "5 06520006C0016R 11010702   GO29664 GO29664-283504-11010702  5  YEARS  23   \n",
       "6 06520007C0018R 11010604   GO29664 GO29664-283971-11010604 22  YEARS  65   \n",
       "  COHORT                       TTYPE                       SUBID    ⋯\n",
       "1 Cohort 6 (OSTEOSARCOMA)      OSTEOSARCOMA                11010601 ⋯\n",
       "2 Cohort 2 (HODGKIN LYMPHOMA)  HODGKIN LYMPHOMA            11010202 ⋯\n",
       "3 Cohort 2 (HODGKIN LYMPHOMA)  HODGKIN LYMPHOMA            11010201 ⋯\n",
       "4 Cohort 7 (RHABDOMYOSARCOMA ) RHABDOMYOSARCOMA - ALVEOLAR 11010701 ⋯\n",
       "5 Cohort 7 (RHABDOMYOSARCOMA ) RHABDOMYOSARCOMA - UNKNOWN  11010702 ⋯\n",
       "6 Cohort 6 (OSTEOSARCOMA)      OSTEOSARCOMA                11010604 ⋯\n",
       "  EA.Sequencing.Batch tumor_type sample_origin          disease_group\n",
       "1 1                   Metastatic Connective/Soft tissue OS           \n",
       "2 1                   Primary    Lymph node             Lymphoma     \n",
       "3 1                   Primary    Lymph node             Lymphoma     \n",
       "4 1                   Metastatic Connective/Soft tissue RMS          \n",
       "5 1                   Primary    Bone                   RMS          \n",
       "6 1                   Metastatic Lung                   OS           \n",
       "  cancer       progressed\n",
       "1 Solid tumour 1         \n",
       "2 Lymphoma     1         \n",
       "3 Lymphoma     0         \n",
       "4 Solid tumour 1         \n",
       "5 Solid tumour 1         \n",
       "6 Solid tumour 1         \n",
       "  filename                                                               \n",
       "1 go29664_ngs_rna_targrna_rnaaccess_06520001b0023r_20171125.genes.results\n",
       "2 go29664_ngs_rna_targrna_rnaaccess_06520003c0012r_20171125.genes.results\n",
       "3 go29664_ngs_rna_targrna_rnaaccess_06520004c0018r_20171125.genes.results\n",
       "4 go29664_ngs_rna_targrna_rnaaccess_06520005c0017r_20171125.genes.results\n",
       "5 go29664_ngs_rna_targrna_rnaaccess_06520006c0016r_20171125.genes.results\n",
       "6 go29664_ngs_rna_targrna_rnaaccess_06520007c0018r_20171125.genes.results\n",
       "  StromalScore ImmuneScore ESTIMATEScore\n",
       "1  759.34037     687.8819   1447.2222   \n",
       "2 1291.97366    3126.7697   4418.7433   \n",
       "3 1345.33693    3036.1189   4381.4559   \n",
       "4 -431.00973   -1033.1230  -1464.1327   \n",
       "5  -36.73263    -257.1170   -293.8497   \n",
       "6  616.94657    1406.1334   2023.0799   "
      ]
     },
     "metadata": {},
     "output_type": "display_data"
    }
   ],
   "source": [
    "head(metadata)"
   ]
  },
  {
   "cell_type": "markdown",
   "metadata": {},
   "source": [
    "Load foundation one file"
   ]
  },
  {
   "cell_type": "code",
   "execution_count": 5,
   "metadata": {},
   "outputs": [],
   "source": [
    "f1 <- read.table(paste0(datapath, \"ngs_dna_foundationone.txt\"), sep = \"\\t\",stringsAsFactors = F, header = T)"
   ]
  },
  {
   "cell_type": "code",
   "execution_count": 6,
   "metadata": {},
   "outputs": [
    {
     "data": {
      "text/html": [
       "<table class=\"dataframe\">\n",
       "<caption>A data.frame: 6 × 25</caption>\n",
       "<thead>\n",
       "\t<tr><th></th><th scope=col>FMI.SAMPLE.ID</th><th scope=col>SUBJECT.ID</th><th scope=col>SAMPLE.ID</th><th scope=col>ALIQUOT</th><th scope=col>VARIANT.TYPE</th><th scope=col>GENE</th><th scope=col>SOMATIC.STATUS.FUNCTIONAL.IMPACT</th><th scope=col>TRANSCRIPT</th><th scope=col>SV.PROTEIN.CHANGE</th><th scope=col>SV.CDS.CHANGE</th><th scope=col>⋯</th><th scope=col>CNA.RATIO</th><th scope=col>CNA.TYPE</th><th scope=col>CNA.POS</th><th scope=col>REARR.GENE1</th><th scope=col>REARR.GENE2</th><th scope=col>REARR.DESCRIPTION</th><th scope=col>REARR.IN.FRAME.</th><th scope=col>REARR.POS1</th><th scope=col>REARR.POS2</th><th scope=col>REARR.NUMBER.OF.READS</th></tr>\n",
       "\t<tr><th></th><th scope=col>&lt;chr&gt;</th><th scope=col>&lt;int&gt;</th><th scope=col>&lt;chr&gt;</th><th scope=col>&lt;chr&gt;</th><th scope=col>&lt;chr&gt;</th><th scope=col>&lt;chr&gt;</th><th scope=col>&lt;chr&gt;</th><th scope=col>&lt;chr&gt;</th><th scope=col>&lt;chr&gt;</th><th scope=col>&lt;chr&gt;</th><th scope=col>⋯</th><th scope=col>&lt;chr&gt;</th><th scope=col>&lt;chr&gt;</th><th scope=col>&lt;chr&gt;</th><th scope=col>&lt;chr&gt;</th><th scope=col>&lt;chr&gt;</th><th scope=col>&lt;chr&gt;</th><th scope=col>&lt;chr&gt;</th><th scope=col>&lt;chr&gt;</th><th scope=col>&lt;chr&gt;</th><th scope=col>&lt;chr&gt;</th></tr>\n",
       "</thead>\n",
       "<tbody>\n",
       "\t<tr><th scope=row>1</th><td>TRF185855</td><td>601</td><td>06520001B</td><td>TRF185855.01</td><td>short-variant</td><td>FANCG</td><td>likely </td><td>NM_004629</td><td>K618fs*3</td><td>1852_1853delAA</td><td>⋯</td><td>-</td><td>-</td><td>-</td><td>-</td><td>-</td><td>-</td><td>-</td><td>-</td><td>-</td><td>-</td></tr>\n",
       "\t<tr><th scope=row>2</th><td>TRF185855</td><td>601</td><td>06520001B</td><td>TRF185855.01</td><td>short-variant</td><td><span style=white-space:pre-wrap>ATR  </span></td><td>unknown</td><td>NM_001184</td><td><span style=white-space:pre-wrap>V2620M  </span></td><td><span style=white-space:pre-wrap>7858G&gt;A       </span></td><td>⋯</td><td>-</td><td>-</td><td>-</td><td>-</td><td>-</td><td>-</td><td>-</td><td>-</td><td>-</td><td>-</td></tr>\n",
       "\t<tr><th scope=row>3</th><td>TRF185855</td><td>601</td><td>06520001B</td><td>TRF185855.01</td><td>short-variant</td><td>CDK12</td><td>unknown</td><td>NM_016507</td><td><span style=white-space:pre-wrap>A1289T  </span></td><td><span style=white-space:pre-wrap>3865G&gt;A       </span></td><td>⋯</td><td>-</td><td>-</td><td>-</td><td>-</td><td>-</td><td>-</td><td>-</td><td>-</td><td>-</td><td>-</td></tr>\n",
       "\t<tr><th scope=row>4</th><td>TRF185855</td><td>601</td><td>06520001B</td><td>TRF185855.01</td><td>short-variant</td><td>FAT1 </td><td>unknown</td><td>NM_005245</td><td><span style=white-space:pre-wrap>A4419T  </span></td><td><span style=white-space:pre-wrap>13255G&gt;A      </span></td><td>⋯</td><td>-</td><td>-</td><td>-</td><td>-</td><td>-</td><td>-</td><td>-</td><td>-</td><td>-</td><td>-</td></tr>\n",
       "\t<tr><th scope=row>5</th><td>TRF185855</td><td>601</td><td>06520001B</td><td>TRF185855.01</td><td>short-variant</td><td>INHBA</td><td>unknown</td><td>NM_002192</td><td><span style=white-space:pre-wrap>V210L   </span></td><td><span style=white-space:pre-wrap>628G&gt;C        </span></td><td>⋯</td><td>-</td><td>-</td><td>-</td><td>-</td><td>-</td><td>-</td><td>-</td><td>-</td><td>-</td><td>-</td></tr>\n",
       "\t<tr><th scope=row>6</th><td>TRF185855</td><td>601</td><td>06520001B</td><td>TRF185855.01</td><td>short-variant</td><td>NCOR1</td><td>unknown</td><td>NM_006311</td><td><span style=white-space:pre-wrap>Q1372H  </span></td><td><span style=white-space:pre-wrap>4116G&gt;C       </span></td><td>⋯</td><td>-</td><td>-</td><td>-</td><td>-</td><td>-</td><td>-</td><td>-</td><td>-</td><td>-</td><td>-</td></tr>\n",
       "</tbody>\n",
       "</table>\n"
      ],
      "text/latex": [
       "A data.frame: 6 × 25\n",
       "\\begin{tabular}{r|lllllllllllllllllllll}\n",
       "  & FMI.SAMPLE.ID & SUBJECT.ID & SAMPLE.ID & ALIQUOT & VARIANT.TYPE & GENE & SOMATIC.STATUS.FUNCTIONAL.IMPACT & TRANSCRIPT & SV.PROTEIN.CHANGE & SV.CDS.CHANGE & ⋯ & CNA.RATIO & CNA.TYPE & CNA.POS & REARR.GENE1 & REARR.GENE2 & REARR.DESCRIPTION & REARR.IN.FRAME. & REARR.POS1 & REARR.POS2 & REARR.NUMBER.OF.READS\\\\\n",
       "  & <chr> & <int> & <chr> & <chr> & <chr> & <chr> & <chr> & <chr> & <chr> & <chr> & ⋯ & <chr> & <chr> & <chr> & <chr> & <chr> & <chr> & <chr> & <chr> & <chr> & <chr>\\\\\n",
       "\\hline\n",
       "\t1 & TRF185855 & 601 & 06520001B & TRF185855.01 & short-variant & FANCG & likely  & NM\\_004629 & K618fs*3 & 1852\\_1853delAA & ⋯ & - & - & - & - & - & - & - & - & - & -\\\\\n",
       "\t2 & TRF185855 & 601 & 06520001B & TRF185855.01 & short-variant & ATR   & unknown & NM\\_001184 & V2620M   & 7858G>A        & ⋯ & - & - & - & - & - & - & - & - & - & -\\\\\n",
       "\t3 & TRF185855 & 601 & 06520001B & TRF185855.01 & short-variant & CDK12 & unknown & NM\\_016507 & A1289T   & 3865G>A        & ⋯ & - & - & - & - & - & - & - & - & - & -\\\\\n",
       "\t4 & TRF185855 & 601 & 06520001B & TRF185855.01 & short-variant & FAT1  & unknown & NM\\_005245 & A4419T   & 13255G>A       & ⋯ & - & - & - & - & - & - & - & - & - & -\\\\\n",
       "\t5 & TRF185855 & 601 & 06520001B & TRF185855.01 & short-variant & INHBA & unknown & NM\\_002192 & V210L    & 628G>C         & ⋯ & - & - & - & - & - & - & - & - & - & -\\\\\n",
       "\t6 & TRF185855 & 601 & 06520001B & TRF185855.01 & short-variant & NCOR1 & unknown & NM\\_006311 & Q1372H   & 4116G>C        & ⋯ & - & - & - & - & - & - & - & - & - & -\\\\\n",
       "\\end{tabular}\n"
      ],
      "text/markdown": [
       "\n",
       "A data.frame: 6 × 25\n",
       "\n",
       "| <!--/--> | FMI.SAMPLE.ID &lt;chr&gt; | SUBJECT.ID &lt;int&gt; | SAMPLE.ID &lt;chr&gt; | ALIQUOT &lt;chr&gt; | VARIANT.TYPE &lt;chr&gt; | GENE &lt;chr&gt; | SOMATIC.STATUS.FUNCTIONAL.IMPACT &lt;chr&gt; | TRANSCRIPT &lt;chr&gt; | SV.PROTEIN.CHANGE &lt;chr&gt; | SV.CDS.CHANGE &lt;chr&gt; | ⋯ ⋯ | CNA.RATIO &lt;chr&gt; | CNA.TYPE &lt;chr&gt; | CNA.POS &lt;chr&gt; | REARR.GENE1 &lt;chr&gt; | REARR.GENE2 &lt;chr&gt; | REARR.DESCRIPTION &lt;chr&gt; | REARR.IN.FRAME. &lt;chr&gt; | REARR.POS1 &lt;chr&gt; | REARR.POS2 &lt;chr&gt; | REARR.NUMBER.OF.READS &lt;chr&gt; |\n",
       "|---|---|---|---|---|---|---|---|---|---|---|---|---|---|---|---|---|---|---|---|---|---|\n",
       "| 1 | TRF185855 | 601 | 06520001B | TRF185855.01 | short-variant | FANCG | likely  | NM_004629 | K618fs*3 | 1852_1853delAA | ⋯ | - | - | - | - | - | - | - | - | - | - |\n",
       "| 2 | TRF185855 | 601 | 06520001B | TRF185855.01 | short-variant | ATR   | unknown | NM_001184 | V2620M   | 7858G&gt;A        | ⋯ | - | - | - | - | - | - | - | - | - | - |\n",
       "| 3 | TRF185855 | 601 | 06520001B | TRF185855.01 | short-variant | CDK12 | unknown | NM_016507 | A1289T   | 3865G&gt;A        | ⋯ | - | - | - | - | - | - | - | - | - | - |\n",
       "| 4 | TRF185855 | 601 | 06520001B | TRF185855.01 | short-variant | FAT1  | unknown | NM_005245 | A4419T   | 13255G&gt;A       | ⋯ | - | - | - | - | - | - | - | - | - | - |\n",
       "| 5 | TRF185855 | 601 | 06520001B | TRF185855.01 | short-variant | INHBA | unknown | NM_002192 | V210L    | 628G&gt;C         | ⋯ | - | - | - | - | - | - | - | - | - | - |\n",
       "| 6 | TRF185855 | 601 | 06520001B | TRF185855.01 | short-variant | NCOR1 | unknown | NM_006311 | Q1372H   | 4116G&gt;C        | ⋯ | - | - | - | - | - | - | - | - | - | - |\n",
       "\n"
      ],
      "text/plain": [
       "  FMI.SAMPLE.ID SUBJECT.ID SAMPLE.ID ALIQUOT      VARIANT.TYPE  GENE \n",
       "1 TRF185855     601        06520001B TRF185855.01 short-variant FANCG\n",
       "2 TRF185855     601        06520001B TRF185855.01 short-variant ATR  \n",
       "3 TRF185855     601        06520001B TRF185855.01 short-variant CDK12\n",
       "4 TRF185855     601        06520001B TRF185855.01 short-variant FAT1 \n",
       "5 TRF185855     601        06520001B TRF185855.01 short-variant INHBA\n",
       "6 TRF185855     601        06520001B TRF185855.01 short-variant NCOR1\n",
       "  SOMATIC.STATUS.FUNCTIONAL.IMPACT TRANSCRIPT SV.PROTEIN.CHANGE SV.CDS.CHANGE \n",
       "1 likely                           NM_004629  K618fs*3          1852_1853delAA\n",
       "2 unknown                          NM_001184  V2620M            7858G>A       \n",
       "3 unknown                          NM_016507  A1289T            3865G>A       \n",
       "4 unknown                          NM_005245  A4419T            13255G>A      \n",
       "5 unknown                          NM_002192  V210L             628G>C        \n",
       "6 unknown                          NM_006311  Q1372H            4116G>C       \n",
       "  ⋯ CNA.RATIO CNA.TYPE CNA.POS REARR.GENE1 REARR.GENE2 REARR.DESCRIPTION\n",
       "1 ⋯ -         -        -       -           -           -                \n",
       "2 ⋯ -         -        -       -           -           -                \n",
       "3 ⋯ -         -        -       -           -           -                \n",
       "4 ⋯ -         -        -       -           -           -                \n",
       "5 ⋯ -         -        -       -           -           -                \n",
       "6 ⋯ -         -        -       -           -           -                \n",
       "  REARR.IN.FRAME. REARR.POS1 REARR.POS2 REARR.NUMBER.OF.READS\n",
       "1 -               -          -          -                    \n",
       "2 -               -          -          -                    \n",
       "3 -               -          -          -                    \n",
       "4 -               -          -          -                    \n",
       "5 -               -          -          -                    \n",
       "6 -               -          -          -                    "
      ]
     },
     "metadata": {},
     "output_type": "display_data"
    }
   ],
   "source": [
    "head(f1)"
   ]
  },
  {
   "cell_type": "markdown",
   "metadata": {},
   "source": [
    "get a list of sample id and aliquot ids to match with tmb df and metadata"
   ]
  },
  {
   "cell_type": "code",
   "execution_count": 7,
   "metadata": {},
   "outputs": [],
   "source": [
    "sample_aliquot <- f1[,c(\"SAMPLE.ID\", \"ALIQUOT\", \"SUBJECT.ID\")]"
   ]
  },
  {
   "cell_type": "code",
   "execution_count": 8,
   "metadata": {},
   "outputs": [],
   "source": [
    "sample_aliquot <- sample_aliquot[!duplicated(sample_aliquot$SAMPLE.ID),]"
   ]
  },
  {
   "cell_type": "code",
   "execution_count": 9,
   "metadata": {},
   "outputs": [
    {
     "data": {
      "text/html": [
       "<style>\n",
       ".list-inline {list-style: none; margin:0; padding: 0}\n",
       ".list-inline>li {display: inline-block}\n",
       ".list-inline>li:not(:last-child)::after {content: \"\\00b7\"; padding: 0 .5ex}\n",
       "</style>\n",
       "<ol class=list-inline><li>60</li><li>3</li></ol>\n"
      ],
      "text/latex": [
       "\\begin{enumerate*}\n",
       "\\item 60\n",
       "\\item 3\n",
       "\\end{enumerate*}\n"
      ],
      "text/markdown": [
       "1. 60\n",
       "2. 3\n",
       "\n",
       "\n"
      ],
      "text/plain": [
       "[1] 60  3"
      ]
     },
     "metadata": {},
     "output_type": "display_data"
    }
   ],
   "source": [
    "dim(sample_aliquot)"
   ]
  },
  {
   "cell_type": "code",
   "execution_count": 10,
   "metadata": {},
   "outputs": [
    {
     "data": {
      "text/html": [
       "<table class=\"dataframe\">\n",
       "<caption>A data.frame: 1 × 3</caption>\n",
       "<thead>\n",
       "\t<tr><th></th><th scope=col>SAMPLE.ID</th><th scope=col>ALIQUOT</th><th scope=col>SUBJECT.ID</th></tr>\n",
       "\t<tr><th></th><th scope=col>&lt;chr&gt;</th><th scope=col>&lt;chr&gt;</th><th scope=col>&lt;int&gt;</th></tr>\n",
       "</thead>\n",
       "<tbody>\n",
       "\t<tr><th scope=row>301</th><td>06520062C</td><td>TRF185889.01</td><td>609</td></tr>\n",
       "</tbody>\n",
       "</table>\n"
      ],
      "text/latex": [
       "A data.frame: 1 × 3\n",
       "\\begin{tabular}{r|lll}\n",
       "  & SAMPLE.ID & ALIQUOT & SUBJECT.ID\\\\\n",
       "  & <chr> & <chr> & <int>\\\\\n",
       "\\hline\n",
       "\t301 & 06520062C & TRF185889.01 & 609\\\\\n",
       "\\end{tabular}\n"
      ],
      "text/markdown": [
       "\n",
       "A data.frame: 1 × 3\n",
       "\n",
       "| <!--/--> | SAMPLE.ID &lt;chr&gt; | ALIQUOT &lt;chr&gt; | SUBJECT.ID &lt;int&gt; |\n",
       "|---|---|---|---|\n",
       "| 301 | 06520062C | TRF185889.01 | 609 |\n",
       "\n"
      ],
      "text/plain": [
       "    SAMPLE.ID ALIQUOT      SUBJECT.ID\n",
       "301 06520062C TRF185889.01 609       "
      ]
     },
     "metadata": {},
     "output_type": "display_data"
    }
   ],
   "source": [
    "sample_aliquot[ sample_aliquot$SAMPLE.ID == \"06520062C\",]"
   ]
  },
  {
   "cell_type": "code",
   "execution_count": 11,
   "metadata": {},
   "outputs": [
    {
     "data": {
      "text/html": [
       "<table class=\"dataframe\">\n",
       "<caption>A data.frame: 6 × 3</caption>\n",
       "<thead>\n",
       "\t<tr><th></th><th scope=col>SAMPLE.ID</th><th scope=col>ALIQUOT</th><th scope=col>SUBJECT.ID</th></tr>\n",
       "\t<tr><th></th><th scope=col>&lt;chr&gt;</th><th scope=col>&lt;chr&gt;</th><th scope=col>&lt;int&gt;</th></tr>\n",
       "</thead>\n",
       "<tbody>\n",
       "\t<tr><th scope=row>1</th><td>06520001B</td><td>TRF185855.01</td><td> 601</td></tr>\n",
       "\t<tr><th scope=row>27</th><td>06520004C</td><td>TRF185857.01</td><td> 201</td></tr>\n",
       "\t<tr><th scope=row>39</th><td>06520005C</td><td>TRF185858.01</td><td> 701</td></tr>\n",
       "\t<tr><th scope=row>57</th><td>06520007C</td><td>TRF185859.01</td><td> 604</td></tr>\n",
       "\t<tr><th scope=row>66</th><td>06520010B</td><td>TRF185860.01</td><td>1002</td></tr>\n",
       "\t<tr><th scope=row>75</th><td>06520011B</td><td>TRF185861.01</td><td> 103</td></tr>\n",
       "</tbody>\n",
       "</table>\n"
      ],
      "text/latex": [
       "A data.frame: 6 × 3\n",
       "\\begin{tabular}{r|lll}\n",
       "  & SAMPLE.ID & ALIQUOT & SUBJECT.ID\\\\\n",
       "  & <chr> & <chr> & <int>\\\\\n",
       "\\hline\n",
       "\t1 & 06520001B & TRF185855.01 &  601\\\\\n",
       "\t27 & 06520004C & TRF185857.01 &  201\\\\\n",
       "\t39 & 06520005C & TRF185858.01 &  701\\\\\n",
       "\t57 & 06520007C & TRF185859.01 &  604\\\\\n",
       "\t66 & 06520010B & TRF185860.01 & 1002\\\\\n",
       "\t75 & 06520011B & TRF185861.01 &  103\\\\\n",
       "\\end{tabular}\n"
      ],
      "text/markdown": [
       "\n",
       "A data.frame: 6 × 3\n",
       "\n",
       "| <!--/--> | SAMPLE.ID &lt;chr&gt; | ALIQUOT &lt;chr&gt; | SUBJECT.ID &lt;int&gt; |\n",
       "|---|---|---|---|\n",
       "| 1 | 06520001B | TRF185855.01 |  601 |\n",
       "| 27 | 06520004C | TRF185857.01 |  201 |\n",
       "| 39 | 06520005C | TRF185858.01 |  701 |\n",
       "| 57 | 06520007C | TRF185859.01 |  604 |\n",
       "| 66 | 06520010B | TRF185860.01 | 1002 |\n",
       "| 75 | 06520011B | TRF185861.01 |  103 |\n",
       "\n"
      ],
      "text/plain": [
       "   SAMPLE.ID ALIQUOT      SUBJECT.ID\n",
       "1  06520001B TRF185855.01  601      \n",
       "27 06520004C TRF185857.01  201      \n",
       "39 06520005C TRF185858.01  701      \n",
       "57 06520007C TRF185859.01  604      \n",
       "66 06520010B TRF185860.01 1002      \n",
       "75 06520011B TRF185861.01  103      "
      ]
     },
     "metadata": {},
     "output_type": "display_data"
    }
   ],
   "source": [
    "head(sample_aliquot)"
   ]
  },
  {
   "cell_type": "markdown",
   "metadata": {},
   "source": [
    "get sample id in tmb df"
   ]
  },
  {
   "cell_type": "code",
   "execution_count": 12,
   "metadata": {},
   "outputs": [],
   "source": [
    "f1_tmb <- read.table(paste0(datapath, \"ngs_dna_foundationone_tmb.txt\"), sep = \"\\t\",stringsAsFactors = F, header = T)"
   ]
  },
  {
   "cell_type": "code",
   "execution_count": 13,
   "metadata": {},
   "outputs": [
    {
     "data": {
      "text/html": [
       "<style>\n",
       ".list-inline {list-style: none; margin:0; padding: 0}\n",
       ".list-inline>li {display: inline-block}\n",
       ".list-inline>li:not(:last-child)::after {content: \"\\00b7\"; padding: 0 .5ex}\n",
       "</style>\n",
       "<ol class=list-inline><li>60</li><li>4</li></ol>\n"
      ],
      "text/latex": [
       "\\begin{enumerate*}\n",
       "\\item 60\n",
       "\\item 4\n",
       "\\end{enumerate*}\n"
      ],
      "text/markdown": [
       "1. 60\n",
       "2. 4\n",
       "\n",
       "\n"
      ],
      "text/plain": [
       "[1] 60  4"
      ]
     },
     "metadata": {},
     "output_type": "display_data"
    }
   ],
   "source": [
    "dim(f1_tmb)"
   ]
  },
  {
   "cell_type": "code",
   "execution_count": 14,
   "metadata": {},
   "outputs": [
    {
     "data": {
      "text/html": [
       "<table class=\"dataframe\">\n",
       "<caption>A data.frame: 6 × 4</caption>\n",
       "<thead>\n",
       "\t<tr><th></th><th scope=col>Specimen_Name</th><th scope=col>QC_Status</th><th scope=col>TMB_Score</th><th scope=col>TMB_Confidence</th></tr>\n",
       "\t<tr><th></th><th scope=col>&lt;chr&gt;</th><th scope=col>&lt;chr&gt;</th><th scope=col>&lt;chr&gt;</th><th scope=col>&lt;chr&gt;</th></tr>\n",
       "</thead>\n",
       "<tbody>\n",
       "\t<tr><th scope=row>1</th><td>TRF185855.01</td><td>PASS     </td><td>1.75</td><td>VALID      </td></tr>\n",
       "\t<tr><th scope=row>2</th><td>TRF185857.01</td><td>QUALIFIED</td><td>2.63</td><td>LOWER_BOUND</td></tr>\n",
       "\t<tr><th scope=row>3</th><td>TRF185858.01</td><td>QUALIFIED</td><td>8.77</td><td>VALID      </td></tr>\n",
       "\t<tr><th scope=row>4</th><td>TRF185859.01</td><td>PASS     </td><td>3.51</td><td>VALID      </td></tr>\n",
       "\t<tr><th scope=row>5</th><td>TRF185860.01</td><td>PASS     </td><td>2.63</td><td>VALID      </td></tr>\n",
       "\t<tr><th scope=row>6</th><td>TRF185861.01</td><td>PASS     </td><td>0.88</td><td>VALID      </td></tr>\n",
       "</tbody>\n",
       "</table>\n"
      ],
      "text/latex": [
       "A data.frame: 6 × 4\n",
       "\\begin{tabular}{r|llll}\n",
       "  & Specimen\\_Name & QC\\_Status & TMB\\_Score & TMB\\_Confidence\\\\\n",
       "  & <chr> & <chr> & <chr> & <chr>\\\\\n",
       "\\hline\n",
       "\t1 & TRF185855.01 & PASS      & 1.75 & VALID      \\\\\n",
       "\t2 & TRF185857.01 & QUALIFIED & 2.63 & LOWER\\_BOUND\\\\\n",
       "\t3 & TRF185858.01 & QUALIFIED & 8.77 & VALID      \\\\\n",
       "\t4 & TRF185859.01 & PASS      & 3.51 & VALID      \\\\\n",
       "\t5 & TRF185860.01 & PASS      & 2.63 & VALID      \\\\\n",
       "\t6 & TRF185861.01 & PASS      & 0.88 & VALID      \\\\\n",
       "\\end{tabular}\n"
      ],
      "text/markdown": [
       "\n",
       "A data.frame: 6 × 4\n",
       "\n",
       "| <!--/--> | Specimen_Name &lt;chr&gt; | QC_Status &lt;chr&gt; | TMB_Score &lt;chr&gt; | TMB_Confidence &lt;chr&gt; |\n",
       "|---|---|---|---|---|\n",
       "| 1 | TRF185855.01 | PASS      | 1.75 | VALID       |\n",
       "| 2 | TRF185857.01 | QUALIFIED | 2.63 | LOWER_BOUND |\n",
       "| 3 | TRF185858.01 | QUALIFIED | 8.77 | VALID       |\n",
       "| 4 | TRF185859.01 | PASS      | 3.51 | VALID       |\n",
       "| 5 | TRF185860.01 | PASS      | 2.63 | VALID       |\n",
       "| 6 | TRF185861.01 | PASS      | 0.88 | VALID       |\n",
       "\n"
      ],
      "text/plain": [
       "  Specimen_Name QC_Status TMB_Score TMB_Confidence\n",
       "1 TRF185855.01  PASS      1.75      VALID         \n",
       "2 TRF185857.01  QUALIFIED 2.63      LOWER_BOUND   \n",
       "3 TRF185858.01  QUALIFIED 8.77      VALID         \n",
       "4 TRF185859.01  PASS      3.51      VALID         \n",
       "5 TRF185860.01  PASS      2.63      VALID         \n",
       "6 TRF185861.01  PASS      0.88      VALID         "
      ]
     },
     "metadata": {},
     "output_type": "display_data"
    }
   ],
   "source": [
    "head(f1_tmb)"
   ]
  },
  {
   "cell_type": "code",
   "execution_count": 15,
   "metadata": {},
   "outputs": [],
   "source": [
    "colnames(f1_tmb)[1] <- \"ALIQUOT\""
   ]
  },
  {
   "cell_type": "code",
   "execution_count": 16,
   "metadata": {},
   "outputs": [],
   "source": [
    "f1_tmb_sampleid <- merge(sample_aliquot, f1_tmb, by = \"ALIQUOT\")"
   ]
  },
  {
   "cell_type": "code",
   "execution_count": 17,
   "metadata": {},
   "outputs": [
    {
     "data": {
      "text/html": [
       "<table class=\"dataframe\">\n",
       "<caption>A data.frame: 6 × 6</caption>\n",
       "<thead>\n",
       "\t<tr><th></th><th scope=col>ALIQUOT</th><th scope=col>SAMPLE.ID</th><th scope=col>SUBJECT.ID</th><th scope=col>QC_Status</th><th scope=col>TMB_Score</th><th scope=col>TMB_Confidence</th></tr>\n",
       "\t<tr><th></th><th scope=col>&lt;chr&gt;</th><th scope=col>&lt;chr&gt;</th><th scope=col>&lt;int&gt;</th><th scope=col>&lt;chr&gt;</th><th scope=col>&lt;chr&gt;</th><th scope=col>&lt;chr&gt;</th></tr>\n",
       "</thead>\n",
       "<tbody>\n",
       "\t<tr><th scope=row>1</th><td>TRF185855.01</td><td>06520001B</td><td> 601</td><td>PASS     </td><td>1.75</td><td>VALID      </td></tr>\n",
       "\t<tr><th scope=row>2</th><td>TRF185857.01</td><td>06520004C</td><td> 201</td><td>QUALIFIED</td><td>2.63</td><td>LOWER_BOUND</td></tr>\n",
       "\t<tr><th scope=row>3</th><td>TRF185858.01</td><td>06520005C</td><td> 701</td><td>QUALIFIED</td><td>8.77</td><td>VALID      </td></tr>\n",
       "\t<tr><th scope=row>4</th><td>TRF185859.01</td><td>06520007C</td><td> 604</td><td>PASS     </td><td>3.51</td><td>VALID      </td></tr>\n",
       "\t<tr><th scope=row>5</th><td>TRF185860.01</td><td>06520010B</td><td>1002</td><td>PASS     </td><td>2.63</td><td>VALID      </td></tr>\n",
       "\t<tr><th scope=row>6</th><td>TRF185861.01</td><td>06520011B</td><td> 103</td><td>PASS     </td><td>0.88</td><td>VALID      </td></tr>\n",
       "</tbody>\n",
       "</table>\n"
      ],
      "text/latex": [
       "A data.frame: 6 × 6\n",
       "\\begin{tabular}{r|llllll}\n",
       "  & ALIQUOT & SAMPLE.ID & SUBJECT.ID & QC\\_Status & TMB\\_Score & TMB\\_Confidence\\\\\n",
       "  & <chr> & <chr> & <int> & <chr> & <chr> & <chr>\\\\\n",
       "\\hline\n",
       "\t1 & TRF185855.01 & 06520001B &  601 & PASS      & 1.75 & VALID      \\\\\n",
       "\t2 & TRF185857.01 & 06520004C &  201 & QUALIFIED & 2.63 & LOWER\\_BOUND\\\\\n",
       "\t3 & TRF185858.01 & 06520005C &  701 & QUALIFIED & 8.77 & VALID      \\\\\n",
       "\t4 & TRF185859.01 & 06520007C &  604 & PASS      & 3.51 & VALID      \\\\\n",
       "\t5 & TRF185860.01 & 06520010B & 1002 & PASS      & 2.63 & VALID      \\\\\n",
       "\t6 & TRF185861.01 & 06520011B &  103 & PASS      & 0.88 & VALID      \\\\\n",
       "\\end{tabular}\n"
      ],
      "text/markdown": [
       "\n",
       "A data.frame: 6 × 6\n",
       "\n",
       "| <!--/--> | ALIQUOT &lt;chr&gt; | SAMPLE.ID &lt;chr&gt; | SUBJECT.ID &lt;int&gt; | QC_Status &lt;chr&gt; | TMB_Score &lt;chr&gt; | TMB_Confidence &lt;chr&gt; |\n",
       "|---|---|---|---|---|---|---|\n",
       "| 1 | TRF185855.01 | 06520001B |  601 | PASS      | 1.75 | VALID       |\n",
       "| 2 | TRF185857.01 | 06520004C |  201 | QUALIFIED | 2.63 | LOWER_BOUND |\n",
       "| 3 | TRF185858.01 | 06520005C |  701 | QUALIFIED | 8.77 | VALID       |\n",
       "| 4 | TRF185859.01 | 06520007C |  604 | PASS      | 3.51 | VALID       |\n",
       "| 5 | TRF185860.01 | 06520010B | 1002 | PASS      | 2.63 | VALID       |\n",
       "| 6 | TRF185861.01 | 06520011B |  103 | PASS      | 0.88 | VALID       |\n",
       "\n"
      ],
      "text/plain": [
       "  ALIQUOT      SAMPLE.ID SUBJECT.ID QC_Status TMB_Score TMB_Confidence\n",
       "1 TRF185855.01 06520001B  601       PASS      1.75      VALID         \n",
       "2 TRF185857.01 06520004C  201       QUALIFIED 2.63      LOWER_BOUND   \n",
       "3 TRF185858.01 06520005C  701       QUALIFIED 8.77      VALID         \n",
       "4 TRF185859.01 06520007C  604       PASS      3.51      VALID         \n",
       "5 TRF185860.01 06520010B 1002       PASS      2.63      VALID         \n",
       "6 TRF185861.01 06520011B  103       PASS      0.88      VALID         "
      ]
     },
     "metadata": {},
     "output_type": "display_data"
    }
   ],
   "source": [
    "head(f1_tmb_sampleid)"
   ]
  },
  {
   "cell_type": "code",
   "execution_count": 18,
   "metadata": {},
   "outputs": [],
   "source": [
    "write.csv(f1_tmb_sampleid, file.path(datapath,\"f1_tmb_sampleid.csv\"), quote = F, row.names = F)"
   ]
  },
  {
   "cell_type": "code",
   "execution_count": null,
   "metadata": {},
   "outputs": [],
   "source": []
  }
 ],
 "metadata": {
  "kernelspec": {
   "display_name": "R 4.0",
   "language": "R",
   "name": "ir40"
  },
  "language_info": {
   "codemirror_mode": "r",
   "file_extension": ".r",
   "mimetype": "text/x-r-source",
   "name": "R",
   "pygments_lexer": "r",
   "version": "4.0.3"
  },
  "toc": {
   "base_numbering": 1,
   "nav_menu": {},
   "number_sections": false,
   "sideBar": true,
   "skip_h1_title": false,
   "title_cell": "Table of Contents",
   "title_sidebar": "Contents",
   "toc_cell": true,
   "toc_position": {
    "height": "calc(100% - 180px)",
    "left": "10px",
    "top": "150px",
    "width": "291.771px"
   },
   "toc_section_display": true,
   "toc_window_display": true
  }
 },
 "nbformat": 4,
 "nbformat_minor": 2
}
