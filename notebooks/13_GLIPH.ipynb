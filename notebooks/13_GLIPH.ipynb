{
 "cells": [
  {
   "cell_type": "markdown",
   "metadata": {
    "toc": true
   },
   "source": [
    "<h1>Table of Contents<span class=\"tocSkip\"></span></h1>\n",
    "<div class=\"toc\"><ul class=\"toc-item\"><li><span><a href=\"#Dependencies\" data-toc-modified-id=\"Dependencies-1\">Dependencies</a></span></li><li><span><a href=\"#Functions\" data-toc-modified-id=\"Functions-2\">Functions</a></span></li><li><span><a href=\"#Paths\" data-toc-modified-id=\"Paths-3\">Paths</a></span></li><li><span><a href=\"#Main\" data-toc-modified-id=\"Main-4\">Main</a></span></li><li><span><a href=\"#Prepare-input-file-for-GLIPH2\" data-toc-modified-id=\"Prepare-input-file-for-GLIPH2-5\">Prepare input file for GLIPH2</a></span></li><li><span><a href=\"#GLIPH2-output\" data-toc-modified-id=\"GLIPH2-output-6\">GLIPH2 output</a></span></li><li><span><a href=\"#circle-plots\" data-toc-modified-id=\"circle-plots-7\">circle plots</a></span></li><li><span><a href=\"#matrix-of-samples-and-GLIPH-output\" data-toc-modified-id=\"matrix-of-samples-and-GLIPH-output-8\">matrix of samples and GLIPH output</a></span></li></ul></div>"
   ]
  },
  {
   "cell_type": "markdown",
   "metadata": {},
   "source": [
    "# Dependencies"
   ]
  },
  {
   "cell_type": "code",
   "execution_count": 1,
   "metadata": {},
   "outputs": [
    {
     "name": "stderr",
     "output_type": "stream",
     "text": [
      "\n",
      "Attaching package: ‘igraph’\n",
      "\n",
      "\n",
      "The following objects are masked from ‘package:stats’:\n",
      "\n",
      "    decompose, spectrum\n",
      "\n",
      "\n",
      "The following object is masked from ‘package:base’:\n",
      "\n",
      "    union\n",
      "\n",
      "\n",
      "Loading required package: ggplot2\n",
      "\n"
     ]
    }
   ],
   "source": [
    "library(randomcoloR)\n",
    "library(igraph)\n",
    "library(ggraph)"
   ]
  },
  {
   "cell_type": "markdown",
   "metadata": {},
   "source": [
    "# Functions"
   ]
  },
  {
   "cell_type": "code",
   "execution_count": 2,
   "metadata": {},
   "outputs": [],
   "source": [
    "circlepack.reads.fx <- function(inputfile, sample_id_DNA){\n",
    "    \n",
    "    sample_df <- inputfile[inputfile$samplename == sample_id_DNA,]\n",
    "  \n",
    "    type_tab <- as.data.frame(table(sample_df$Type), stringsAsFactors = F)\n",
    "    if(nrow(type_tab) != 0){    \n",
    "        cluster_tab <- type_tab[type_tab$Freq > 1,]\n",
    "    } else {\n",
    "        cluster_tab <- type_tab \n",
    "    }    \n",
    "    \n",
    "# if there is a cluster, group cdr3s and use sum of reads\n",
    "    if(nrow(cluster_tab) != 0){    \n",
    "        cluster_tab$typereads <- NA\n",
    "        for(j in 1:nrow(cluster_tab)){\n",
    "            mytype <- cluster_tab$Var1[j]\n",
    "            mytypereads <- sum(sample_df$cloneCount[which(sample_df$Type == mytype)])\n",
    "            cluster_tab$typereads[j] <- mytypereads\n",
    "        }\n",
    "#clean up cluster_tab\n",
    "        cluster_tab <- cluster_tab[, c(\"Var1\", \"typereads\")]\n",
    "        colnames(cluster_tab) <- c(\"name\", \"size\")\n",
    "    }\n",
    "    \n",
    "# Make edge df\n",
    "    type_cdr3 <- sample_df[, c(\"Type\", \"nSeqCDR3\")]\n",
    "    colnames(type_cdr3) <- c(\"from\", \"to\")\n",
    "#if no clusters, edge df is octamer_cdr3 df and all octamers will be replaced by sample_id\n",
    "    if(nrow(cluster_tab) == 0) {\n",
    "        myedge <- type_cdr3\n",
    "        myedge[,\"from\"] <- unique(sample_df$samplename)\n",
    "    }\n",
    "    \n",
    "# if there is a cluster, make a list of sample_id and clusters\n",
    "    if(nrow(cluster_tab) != 0){\n",
    "        myclusters <- cbind.data.frame(NA,cluster_tab$name, stringsAsFactors = F)\n",
    "        colnames(myclusters) <- c(\"from\", \"to\")\n",
    "        myclusters$from <- unique(sample_df$samplename)\n",
    "# replace types < 2 sequences with sample_id\n",
    "        type_cdr3$from[!type_cdr3$from %in% cluster_tab$name] <- unique(sample_df$samplename)\n",
    "        myedge <- rbind(myclusters, type_cdr3)   \n",
    "    }\n",
    "\n",
    "# get cdr3 and reads    \n",
    "    cdr3_freq <- sample_df[, c(\"nSeqCDR3\", \"cloneCount\")]\n",
    "    colnames(cdr3_freq) <- c(\"name\", \"size\")\n",
    "\n",
    "#bind all and cleanup\n",
    "# get sample frequency        \n",
    "    sample_tab <- as.data.frame(table(sample_df$samplename), stringsAsFactors = F)\n",
    "    colnames(sample_tab) <- c(\"name\", \"size\")\n",
    "\n",
    "#bind all and cleanup\n",
    "    myvertex <- rbind(sample_tab, cdr3_freq)\n",
    "                      \n",
    "# if there is a cluster, include it to vertex\n",
    "    if(nrow(cluster_tab) != 0){\n",
    "        myvertex <- rbind(myvertex, cluster_tab)\n",
    "    }\n",
    "\n",
    "# first row is NA so remove it\n",
    "    myvertex <- myvertex[!is.na(myvertex$name),]\n",
    "    myvertex$size <- as.numeric(myvertex$size)\n",
    "    \n",
    "# Make a type variable for colors\n",
    "    myvertex$type <- NA\n",
    "    myvertex$type[1] <- \"samplename\"\n",
    "    myvertex$type[myvertex$name %in% cdr3_freq$name] <- \"CDR3\"\n",
    "    myvertex$type[is.na(myvertex$type)] <- myvertex$name[is.na(myvertex$type)] \n",
    "\n",
    "\n",
    "    myvertex$group <- NA\n",
    "    myvertex$group[myvertex$type == \"samplename\"] <- \"samplename\"\n",
    "    myvertex$group[myvertex$type == \"CDR3\"] <- \"CDR3\"\n",
    "    myvertex$group[!myvertex$type %in% c(\"CDR3\", \"samplename\")] <- \"Type\"\n",
    "    \n",
    "     if(nrow(cluster_tab) != 0){\n",
    "        myColors <- distinctColorPalette(nrow(cluster_tab))\n",
    "        myColors <- c(\"white\", # color samplename white\n",
    "                     rep(\"#ededed\",nrow(myvertex[myvertex$type == \"CDR3\",])), #color all cdr3 light gray\n",
    "                     myColors)\n",
    "        names(myColors) <- myvertex$type\n",
    "    } else{\n",
    "         myColors <- c(\"white\", \n",
    "                       rep(\"#ededed\",nrow(myvertex[myvertex$type == \"CDR3\",])))    \n",
    "         names(myColors) <- myvertex$type\n",
    "     }\n",
    "    \n",
    "mygraph <- graph_from_data_frame(myedge, vertices = myvertex)  \n",
    "     \n",
    "    alphapal <- c(\"CDR3\" = 1,\"Type\" = 0.4, \"samplename\" = 0)\n",
    "    circlep <- ggraph(mygraph, layout = 'circlepack', weight = size) + \n",
    "    geom_node_circle(aes(fill = type, alpha = group)) +\n",
    "    theme_void() + scale_fill_manual(values = myColors) +\n",
    "    scale_alpha_manual(values = alphapal)\n",
    "   \n",
    "    \n",
    "    pdf(file = paste0(plotpath,sample_id_DNA,\"_gliph_circles.pdf\"),\n",
    "        width = 15, \n",
    "        height = 15,\n",
    "        useDingbats = FALSE)\n",
    "    print(circlep)\n",
    "    dev.off()\n",
    "}"
   ]
  },
  {
   "cell_type": "markdown",
   "metadata": {},
   "source": [
    "# Paths"
   ]
  },
  {
   "cell_type": "code",
   "execution_count": 3,
   "metadata": {},
   "outputs": [],
   "source": [
    "datapath <- \"/Users/anabbi/OneDrive - UHN/Documents/INDICATE/Data/\"\n",
    "plotpath <- \"/Users/anabbi/OneDrive - UHN/Documents/INDICATE/Plots/\"\n",
    "manifestpath <- \"/Users/anabbi/OneDrive - UHN/Documents/INDICATE/Manifests/\""
   ]
  },
  {
   "cell_type": "code",
   "execution_count": 4,
   "metadata": {},
   "outputs": [],
   "source": [
    "mountpath <- \"/Users/anabbi/Desktop/H4H/INDICATE/GLIPH/input/\""
   ]
  },
  {
   "cell_type": "markdown",
   "metadata": {},
   "source": [
    "# Main"
   ]
  },
  {
   "cell_type": "code",
   "execution_count": 5,
   "metadata": {},
   "outputs": [],
   "source": [
    "metadata <- read.csv(file.path(datapath,\"IND_estimate_metadata_IHC_trb_tmb.csv\"),header = T, stringsAsFactors = F, \n",
    "                     check.names = F)"
   ]
  },
  {
   "cell_type": "markdown",
   "metadata": {},
   "source": [
    "# Prepare input file for GLIPH2\n",
    "\n",
    "Add in all GLIPHinput.txt in one file"
   ]
  },
  {
   "cell_type": "code",
   "execution_count": 6,
   "metadata": {},
   "outputs": [],
   "source": [
    "filelist <- list.files(mountpath, pattern = \"GLIPHinput.txt\")"
   ]
  },
  {
   "cell_type": "code",
   "execution_count": 7,
   "metadata": {},
   "outputs": [],
   "source": [
    "all.files <- lapply(filelist, function(f){ read.table(paste0(mountpath,f), sep = \"\\t\", header = TRUE,\n",
    "                                                           stringsAsFactors = F)})"
   ]
  },
  {
   "cell_type": "code",
   "execution_count": 8,
   "metadata": {},
   "outputs": [],
   "source": [
    "filenames <- gsub(\"CLONES_TRB\", \"\", filelist)\n",
    "filenames <- gsub(\"_DNA.*\", \"\", filenames)"
   ]
  },
  {
   "cell_type": "code",
   "execution_count": 9,
   "metadata": {},
   "outputs": [],
   "source": [
    "filelst <- mapply(cbind, all.files, \"Subject\"=filenames, SIMPLIFY=F)"
   ]
  },
  {
   "cell_type": "code",
   "execution_count": 10,
   "metadata": {},
   "outputs": [],
   "source": [
    "gliph.inputdf <- as.data.frame(do.call(rbind, filelst))"
   ]
  },
  {
   "cell_type": "code",
   "execution_count": 11,
   "metadata": {},
   "outputs": [
    {
     "data": {
      "text/html": [
       "<table class=\"dataframe\">\n",
       "<caption>A data.frame: 1 × 5</caption>\n",
       "<thead>\n",
       "\t<tr><th></th><th scope=col>CDR3b</th><th scope=col>TRBV</th><th scope=col>TRBJ</th><th scope=col>Counts</th><th scope=col>Subject</th></tr>\n",
       "\t<tr><th></th><th scope=col>&lt;chr&gt;</th><th scope=col>&lt;chr&gt;</th><th scope=col>&lt;chr&gt;</th><th scope=col>&lt;int&gt;</th><th scope=col>&lt;chr&gt;</th></tr>\n",
       "</thead>\n",
       "<tbody>\n",
       "\t<tr><th scope=row>852</th><td>CASSLYTGELFFGEGSRLTVLGKEAVGAPESSERAGWAEVSSCPTLRGAVLRGAAG</td><td>TRBV11-3</td><td>TRBJ2-2P</td><td>15</td><td>ICT-06520026C0012D_T</td></tr>\n",
       "</tbody>\n",
       "</table>\n"
      ],
      "text/latex": [
       "A data.frame: 1 × 5\n",
       "\\begin{tabular}{r|lllll}\n",
       "  & CDR3b & TRBV & TRBJ & Counts & Subject\\\\\n",
       "  & <chr> & <chr> & <chr> & <int> & <chr>\\\\\n",
       "\\hline\n",
       "\t852 & CASSLYTGELFFGEGSRLTVLGKEAVGAPESSERAGWAEVSSCPTLRGAVLRGAAG & TRBV11-3 & TRBJ2-2P & 15 & ICT-06520026C0012D\\_T\\\\\n",
       "\\end{tabular}\n"
      ],
      "text/markdown": [
       "\n",
       "A data.frame: 1 × 5\n",
       "\n",
       "| <!--/--> | CDR3b &lt;chr&gt; | TRBV &lt;chr&gt; | TRBJ &lt;chr&gt; | Counts &lt;int&gt; | Subject &lt;chr&gt; |\n",
       "|---|---|---|---|---|---|\n",
       "| 852 | CASSLYTGELFFGEGSRLTVLGKEAVGAPESSERAGWAEVSSCPTLRGAVLRGAAG | TRBV11-3 | TRBJ2-2P | 15 | ICT-06520026C0012D_T |\n",
       "\n"
      ],
      "text/plain": [
       "    CDR3b                                                    TRBV     TRBJ    \n",
       "852 CASSLYTGELFFGEGSRLTVLGKEAVGAPESSERAGWAEVSSCPTLRGAVLRGAAG TRBV11-3 TRBJ2-2P\n",
       "    Counts Subject             \n",
       "852 15     ICT-06520026C0012D_T"
      ]
     },
     "metadata": {},
     "output_type": "display_data"
    }
   ],
   "source": [
    "gliph.inputdf[ gliph.inputdf$CDR3b == \"CASSLYTGELFFGEGSRLTVLGKEAVGAPESSERAGWAEVSSCPTLRGAVLRGAAG\",]"
   ]
  },
  {
   "cell_type": "code",
   "execution_count": 12,
   "metadata": {},
   "outputs": [
    {
     "data": {
      "text/plain": [
       "\n",
       " TRBJ1-1  TRBJ1-2  TRBJ1-3  TRBJ1-4  TRBJ1-5  TRBJ1-6  TRBJ2-1  TRBJ2-2 \n",
       "    1110      870      249      318      495      294     1030      473 \n",
       "TRBJ2-2P  TRBJ2-3  TRBJ2-4  TRBJ2-5  TRBJ2-6  TRBJ2-7 \n",
       "      21      665       51      425      100     1006 "
      ]
     },
     "metadata": {},
     "output_type": "display_data"
    }
   ],
   "source": [
    "table(gliph.inputdf$TRBJ)"
   ]
  },
  {
   "cell_type": "code",
   "execution_count": 13,
   "metadata": {},
   "outputs": [],
   "source": [
    "gliph.inputdf$CDR3a <- NA"
   ]
  },
  {
   "cell_type": "code",
   "execution_count": 14,
   "metadata": {},
   "outputs": [
    {
     "data": {
      "text/html": [
       "<table class=\"dataframe\">\n",
       "<caption>A data.frame: 6 × 6</caption>\n",
       "<thead>\n",
       "\t<tr><th></th><th scope=col>CDR3b</th><th scope=col>TRBV</th><th scope=col>TRBJ</th><th scope=col>Counts</th><th scope=col>Subject</th><th scope=col>CDR3a</th></tr>\n",
       "\t<tr><th></th><th scope=col>&lt;chr&gt;</th><th scope=col>&lt;chr&gt;</th><th scope=col>&lt;chr&gt;</th><th scope=col>&lt;int&gt;</th><th scope=col>&lt;chr&gt;</th><th scope=col>&lt;lgl&gt;</th></tr>\n",
       "</thead>\n",
       "<tbody>\n",
       "\t<tr><th scope=row>1</th><td>CASSYSGGYTF    </td><td>TRBV6-5 </td><td>TRBJ1-2</td><td>227</td><td>ICT-06520001B0024D_T</td><td>NA</td></tr>\n",
       "\t<tr><th scope=row>2</th><td>CASSPDTGGFTEAFF</td><td>TRBV7-9 </td><td>TRBJ1-1</td><td>214</td><td>ICT-06520001B0024D_T</td><td>NA</td></tr>\n",
       "\t<tr><th scope=row>3</th><td>CASRLTGGNTEAFF </td><td>TRBV7-2 </td><td>TRBJ1-1</td><td>214</td><td>ICT-06520001B0024D_T</td><td>NA</td></tr>\n",
       "\t<tr><th scope=row>4</th><td>CASSADLAGGYTQYF</td><td>TRBV7-2 </td><td>TRBJ2-3</td><td>198</td><td>ICT-06520001B0024D_T</td><td>NA</td></tr>\n",
       "\t<tr><th scope=row>5</th><td>CASSSGTGFQPQHF </td><td>TRBV7-2 </td><td>TRBJ1-5</td><td>173</td><td>ICT-06520001B0024D_T</td><td>NA</td></tr>\n",
       "\t<tr><th scope=row>6</th><td>CASTRVLSYNEQFF </td><td>TRBV11-2</td><td>TRBJ2-1</td><td>143</td><td>ICT-06520001B0024D_T</td><td>NA</td></tr>\n",
       "</tbody>\n",
       "</table>\n"
      ],
      "text/latex": [
       "A data.frame: 6 × 6\n",
       "\\begin{tabular}{r|llllll}\n",
       "  & CDR3b & TRBV & TRBJ & Counts & Subject & CDR3a\\\\\n",
       "  & <chr> & <chr> & <chr> & <int> & <chr> & <lgl>\\\\\n",
       "\\hline\n",
       "\t1 & CASSYSGGYTF     & TRBV6-5  & TRBJ1-2 & 227 & ICT-06520001B0024D\\_T & NA\\\\\n",
       "\t2 & CASSPDTGGFTEAFF & TRBV7-9  & TRBJ1-1 & 214 & ICT-06520001B0024D\\_T & NA\\\\\n",
       "\t3 & CASRLTGGNTEAFF  & TRBV7-2  & TRBJ1-1 & 214 & ICT-06520001B0024D\\_T & NA\\\\\n",
       "\t4 & CASSADLAGGYTQYF & TRBV7-2  & TRBJ2-3 & 198 & ICT-06520001B0024D\\_T & NA\\\\\n",
       "\t5 & CASSSGTGFQPQHF  & TRBV7-2  & TRBJ1-5 & 173 & ICT-06520001B0024D\\_T & NA\\\\\n",
       "\t6 & CASTRVLSYNEQFF  & TRBV11-2 & TRBJ2-1 & 143 & ICT-06520001B0024D\\_T & NA\\\\\n",
       "\\end{tabular}\n"
      ],
      "text/markdown": [
       "\n",
       "A data.frame: 6 × 6\n",
       "\n",
       "| <!--/--> | CDR3b &lt;chr&gt; | TRBV &lt;chr&gt; | TRBJ &lt;chr&gt; | Counts &lt;int&gt; | Subject &lt;chr&gt; | CDR3a &lt;lgl&gt; |\n",
       "|---|---|---|---|---|---|---|\n",
       "| 1 | CASSYSGGYTF     | TRBV6-5  | TRBJ1-2 | 227 | ICT-06520001B0024D_T | NA |\n",
       "| 2 | CASSPDTGGFTEAFF | TRBV7-9  | TRBJ1-1 | 214 | ICT-06520001B0024D_T | NA |\n",
       "| 3 | CASRLTGGNTEAFF  | TRBV7-2  | TRBJ1-1 | 214 | ICT-06520001B0024D_T | NA |\n",
       "| 4 | CASSADLAGGYTQYF | TRBV7-2  | TRBJ2-3 | 198 | ICT-06520001B0024D_T | NA |\n",
       "| 5 | CASSSGTGFQPQHF  | TRBV7-2  | TRBJ1-5 | 173 | ICT-06520001B0024D_T | NA |\n",
       "| 6 | CASTRVLSYNEQFF  | TRBV11-2 | TRBJ2-1 | 143 | ICT-06520001B0024D_T | NA |\n",
       "\n"
      ],
      "text/plain": [
       "  CDR3b           TRBV     TRBJ    Counts Subject              CDR3a\n",
       "1 CASSYSGGYTF     TRBV6-5  TRBJ1-2 227    ICT-06520001B0024D_T NA   \n",
       "2 CASSPDTGGFTEAFF TRBV7-9  TRBJ1-1 214    ICT-06520001B0024D_T NA   \n",
       "3 CASRLTGGNTEAFF  TRBV7-2  TRBJ1-1 214    ICT-06520001B0024D_T NA   \n",
       "4 CASSADLAGGYTQYF TRBV7-2  TRBJ2-3 198    ICT-06520001B0024D_T NA   \n",
       "5 CASSSGTGFQPQHF  TRBV7-2  TRBJ1-5 173    ICT-06520001B0024D_T NA   \n",
       "6 CASTRVLSYNEQFF  TRBV11-2 TRBJ2-1 143    ICT-06520001B0024D_T NA   "
      ]
     },
     "metadata": {},
     "output_type": "display_data"
    }
   ],
   "source": [
    "head(gliph.inputdf)"
   ]
  },
  {
   "cell_type": "code",
   "execution_count": 15,
   "metadata": {},
   "outputs": [],
   "source": [
    "gliph.inputdf <- gliph.inputdf[, c(\"CDR3b\",\"TRBV\", \"TRBJ\", \"CDR3a\", \"Subject\", \"Counts\")]"
   ]
  },
  {
   "cell_type": "code",
   "execution_count": 16,
   "metadata": {},
   "outputs": [],
   "source": [
    "gliph.inputdf <- gliph.inputdf[gliph.inputdf$Subject %in% metadata$sample_id_DNA,]"
   ]
  },
  {
   "cell_type": "code",
   "execution_count": 17,
   "metadata": {},
   "outputs": [
    {
     "data": {
      "text/html": [
       "45"
      ],
      "text/latex": [
       "45"
      ],
      "text/markdown": [
       "45"
      ],
      "text/plain": [
       "[1] 45"
      ]
     },
     "metadata": {},
     "output_type": "display_data"
    }
   ],
   "source": [
    "length(unique(gliph.inputdf$Subject))"
   ]
  },
  {
   "cell_type": "code",
   "execution_count": 18,
   "metadata": {},
   "outputs": [],
   "source": [
    "write.table(gliph.inputdf, file = paste0(datapath, \"GLIPH/IND_GLIPH2_input.txt\"), col.names = FALSE, row.names = FALSE,\n",
    "            sep = \"\\t\", quote = F)"
   ]
  },
  {
   "cell_type": "markdown",
   "metadata": {},
   "source": [
    "# GLIPH2 output"
   ]
  },
  {
   "cell_type": "code",
   "execution_count": 19,
   "metadata": {},
   "outputs": [],
   "source": [
    "gliph2 <- read.csv(file.path(datapath,\"GLIPH/P2409_WKR0TLACRD_ind_gliph2_refv1_CD48.csv\"),header = T, stringsAsFactors = F, \n",
    "                     check.names = F)"
   ]
  },
  {
   "cell_type": "code",
   "execution_count": 20,
   "metadata": {},
   "outputs": [
    {
     "data": {
      "text/html": [
       "<style>\n",
       ".list-inline {list-style: none; margin:0; padding: 0}\n",
       ".list-inline>li {display: inline-block}\n",
       ".list-inline>li:not(:last-child)::after {content: \"\\00b7\"; padding: 0 .5ex}\n",
       "</style>\n",
       "<ol class=list-inline><li>'index'</li><li>'pattern'</li><li>'Fisher_score'</li><li>'number_subject'</li><li>'number_unique_cdr3'</li><li>'final_score'</li><li>'hla_score'</li><li>'vb_score'</li><li>'expansion_score'</li><li>'length_score'</li><li>'cluster_size_score'</li><li>'type'</li><li>'ulTcRb'</li><li>'TcRb'</li><li>'V'</li><li>'J'</li><li>'TcRa'</li><li>'Sample'</li><li>'Freq'</li><li>'HLA-A'</li><li>'HLA-B'</li><li>'HLA-C'</li><li>'HLA-DPA1'</li><li>'HLA-DPB1'</li><li>'HLA-DQA1'</li><li>'HLA-DQB1'</li><li>'HLA-DRB1'</li><li>'HLA-DRB3'</li><li>'HLA-DRB4'</li><li>'HLA-DRB5'</li></ol>\n"
      ],
      "text/latex": [
       "\\begin{enumerate*}\n",
       "\\item 'index'\n",
       "\\item 'pattern'\n",
       "\\item 'Fisher\\_score'\n",
       "\\item 'number\\_subject'\n",
       "\\item 'number\\_unique\\_cdr3'\n",
       "\\item 'final\\_score'\n",
       "\\item 'hla\\_score'\n",
       "\\item 'vb\\_score'\n",
       "\\item 'expansion\\_score'\n",
       "\\item 'length\\_score'\n",
       "\\item 'cluster\\_size\\_score'\n",
       "\\item 'type'\n",
       "\\item 'ulTcRb'\n",
       "\\item 'TcRb'\n",
       "\\item 'V'\n",
       "\\item 'J'\n",
       "\\item 'TcRa'\n",
       "\\item 'Sample'\n",
       "\\item 'Freq'\n",
       "\\item 'HLA-A'\n",
       "\\item 'HLA-B'\n",
       "\\item 'HLA-C'\n",
       "\\item 'HLA-DPA1'\n",
       "\\item 'HLA-DPB1'\n",
       "\\item 'HLA-DQA1'\n",
       "\\item 'HLA-DQB1'\n",
       "\\item 'HLA-DRB1'\n",
       "\\item 'HLA-DRB3'\n",
       "\\item 'HLA-DRB4'\n",
       "\\item 'HLA-DRB5'\n",
       "\\end{enumerate*}\n"
      ],
      "text/markdown": [
       "1. 'index'\n",
       "2. 'pattern'\n",
       "3. 'Fisher_score'\n",
       "4. 'number_subject'\n",
       "5. 'number_unique_cdr3'\n",
       "6. 'final_score'\n",
       "7. 'hla_score'\n",
       "8. 'vb_score'\n",
       "9. 'expansion_score'\n",
       "10. 'length_score'\n",
       "11. 'cluster_size_score'\n",
       "12. 'type'\n",
       "13. 'ulTcRb'\n",
       "14. 'TcRb'\n",
       "15. 'V'\n",
       "16. 'J'\n",
       "17. 'TcRa'\n",
       "18. 'Sample'\n",
       "19. 'Freq'\n",
       "20. 'HLA-A'\n",
       "21. 'HLA-B'\n",
       "22. 'HLA-C'\n",
       "23. 'HLA-DPA1'\n",
       "24. 'HLA-DPB1'\n",
       "25. 'HLA-DQA1'\n",
       "26. 'HLA-DQB1'\n",
       "27. 'HLA-DRB1'\n",
       "28. 'HLA-DRB3'\n",
       "29. 'HLA-DRB4'\n",
       "30. 'HLA-DRB5'\n",
       "\n",
       "\n"
      ],
      "text/plain": [
       " [1] \"index\"              \"pattern\"            \"Fisher_score\"      \n",
       " [4] \"number_subject\"     \"number_unique_cdr3\" \"final_score\"       \n",
       " [7] \"hla_score\"          \"vb_score\"           \"expansion_score\"   \n",
       "[10] \"length_score\"       \"cluster_size_score\" \"type\"              \n",
       "[13] \"ulTcRb\"             \"TcRb\"               \"V\"                 \n",
       "[16] \"J\"                  \"TcRa\"               \"Sample\"            \n",
       "[19] \"Freq\"               \"HLA-A\"              \"HLA-B\"             \n",
       "[22] \"HLA-C\"              \"HLA-DPA1\"           \"HLA-DPB1\"          \n",
       "[25] \"HLA-DQA1\"           \"HLA-DQB1\"           \"HLA-DRB1\"          \n",
       "[28] \"HLA-DRB3\"           \"HLA-DRB4\"           \"HLA-DRB5\"          "
      ]
     },
     "metadata": {},
     "output_type": "display_data"
    }
   ],
   "source": [
    "colnames(gliph2)"
   ]
  },
  {
   "cell_type": "code",
   "execution_count": 21,
   "metadata": {},
   "outputs": [
    {
     "data": {
      "text/html": [
       "<style>\n",
       ".list-inline {list-style: none; margin:0; padding: 0}\n",
       ".list-inline>li {display: inline-block}\n",
       ".list-inline>li:not(:last-child)::after {content: \"\\00b7\"; padding: 0 .5ex}\n",
       "</style>\n",
       "<ol class=list-inline><li>1799</li><li>30</li></ol>\n"
      ],
      "text/latex": [
       "\\begin{enumerate*}\n",
       "\\item 1799\n",
       "\\item 30\n",
       "\\end{enumerate*}\n"
      ],
      "text/markdown": [
       "1. 1799\n",
       "2. 30\n",
       "\n",
       "\n"
      ],
      "text/plain": [
       "[1] 1799   30"
      ]
     },
     "metadata": {},
     "output_type": "display_data"
    }
   ],
   "source": [
    "dim(gliph2)"
   ]
  },
  {
   "cell_type": "code",
   "execution_count": 22,
   "metadata": {},
   "outputs": [],
   "source": [
    "gliph2$cdr_length <- nchar(gliph2$TcRb)"
   ]
  },
  {
   "cell_type": "code",
   "execution_count": 23,
   "metadata": {},
   "outputs": [
    {
     "data": {
      "text/plain": [
       "   Min. 1st Qu.  Median    Mean 3rd Qu.    Max. \n",
       "  10.00   13.00   15.00   32.17   57.00   61.00 "
      ]
     },
     "metadata": {},
     "output_type": "display_data"
    }
   ],
   "source": [
    "summary(gliph2$cdr_length)"
   ]
  },
  {
   "cell_type": "code",
   "execution_count": 24,
   "metadata": {},
   "outputs": [
    {
     "data": {
      "text/plain": [
       "\n",
       " TRBJ1-1  TRBJ1-2  TRBJ1-3  TRBJ1-4  TRBJ1-5  TRBJ1-6  TRBJ2-1  TRBJ2-2 \n",
       "     200      106       38       19       85       32      160      102 \n",
       "TRBJ2-2P  TRBJ2-3  TRBJ2-5  TRBJ2-6  TRBJ2-7 \n",
       "     755       84       45        9      164 "
      ]
     },
     "metadata": {},
     "output_type": "display_data"
    }
   ],
   "source": [
    "table(gliph2$J)"
   ]
  },
  {
   "cell_type": "markdown",
   "metadata": {},
   "source": [
    "Remove rows with multiple motifs from super long CDR3s"
   ]
  },
  {
   "cell_type": "code",
   "execution_count": 25,
   "metadata": {},
   "outputs": [],
   "source": [
    "gliph2 <- gliph2[!grepl(\" \",gliph2$type),]"
   ]
  },
  {
   "cell_type": "code",
   "execution_count": 26,
   "metadata": {},
   "outputs": [
    {
     "data": {
      "text/html": [
       "<table class=\"dataframe\">\n",
       "<caption>A data.frame: 6 × 31</caption>\n",
       "<thead>\n",
       "\t<tr><th></th><th scope=col>index</th><th scope=col>pattern</th><th scope=col>Fisher_score</th><th scope=col>number_subject</th><th scope=col>number_unique_cdr3</th><th scope=col>final_score</th><th scope=col>hla_score</th><th scope=col>vb_score</th><th scope=col>expansion_score</th><th scope=col>length_score</th><th scope=col>⋯</th><th scope=col>HLA-C</th><th scope=col>HLA-DPA1</th><th scope=col>HLA-DPB1</th><th scope=col>HLA-DQA1</th><th scope=col>HLA-DQB1</th><th scope=col>HLA-DRB1</th><th scope=col>HLA-DRB3</th><th scope=col>HLA-DRB4</th><th scope=col>HLA-DRB5</th><th scope=col>cdr_length</th></tr>\n",
       "\t<tr><th></th><th scope=col>&lt;int&gt;</th><th scope=col>&lt;chr&gt;</th><th scope=col>&lt;dbl&gt;</th><th scope=col>&lt;int&gt;</th><th scope=col>&lt;int&gt;</th><th scope=col>&lt;dbl&gt;</th><th scope=col>&lt;dbl&gt;</th><th scope=col>&lt;dbl&gt;</th><th scope=col>&lt;dbl&gt;</th><th scope=col>&lt;dbl&gt;</th><th scope=col>⋯</th><th scope=col>&lt;chr&gt;</th><th scope=col>&lt;chr&gt;</th><th scope=col>&lt;chr&gt;</th><th scope=col>&lt;chr&gt;</th><th scope=col>&lt;chr&gt;</th><th scope=col>&lt;chr&gt;</th><th scope=col>&lt;chr&gt;</th><th scope=col>&lt;chr&gt;</th><th scope=col>&lt;chr&gt;</th><th scope=col>&lt;int&gt;</th></tr>\n",
       "</thead>\n",
       "<tbody>\n",
       "\t<tr><th scope=row>752</th><td>46</td><td>YSSY</td><td>1.9e-09</td><td>7</td><td>8</td><td>0.00011</td><td>1</td><td>0.85</td><td>0.4</td><td>0.4</td><td>⋯</td><td>-</td><td>-</td><td>-</td><td>-</td><td>-</td><td>-</td><td>-</td><td>-</td><td>-</td><td>18</td></tr>\n",
       "\t<tr><th scope=row>753</th><td>46</td><td>YSSY</td><td>1.9e-09</td><td>7</td><td>8</td><td>0.00011</td><td>1</td><td>0.85</td><td>0.4</td><td>0.4</td><td>⋯</td><td>-</td><td>-</td><td>-</td><td>-</td><td>-</td><td>-</td><td>-</td><td>-</td><td>-</td><td>20</td></tr>\n",
       "\t<tr><th scope=row>754</th><td>46</td><td>YSSY</td><td>1.9e-09</td><td>7</td><td>8</td><td>0.00011</td><td>1</td><td>0.85</td><td>0.4</td><td>0.4</td><td>⋯</td><td>-</td><td>-</td><td>-</td><td>-</td><td>-</td><td>-</td><td>-</td><td>-</td><td>-</td><td>18</td></tr>\n",
       "\t<tr><th scope=row>755</th><td>46</td><td>YSSY</td><td>1.9e-09</td><td>7</td><td>8</td><td>0.00011</td><td>1</td><td>0.85</td><td>0.4</td><td>0.4</td><td>⋯</td><td>-</td><td>-</td><td>-</td><td>-</td><td>-</td><td>-</td><td>-</td><td>-</td><td>-</td><td>21</td></tr>\n",
       "\t<tr><th scope=row>756</th><td>46</td><td>YSSY</td><td>1.9e-09</td><td>7</td><td>8</td><td>0.00011</td><td>1</td><td>0.85</td><td>0.4</td><td>0.4</td><td>⋯</td><td>-</td><td>-</td><td>-</td><td>-</td><td>-</td><td>-</td><td>-</td><td>-</td><td>-</td><td>14</td></tr>\n",
       "\t<tr><th scope=row>757</th><td>46</td><td>YSSY</td><td>1.9e-09</td><td>7</td><td>8</td><td>0.00011</td><td>1</td><td>0.85</td><td>0.4</td><td>0.4</td><td>⋯</td><td>-</td><td>-</td><td>-</td><td>-</td><td>-</td><td>-</td><td>-</td><td>-</td><td>-</td><td>15</td></tr>\n",
       "</tbody>\n",
       "</table>\n"
      ],
      "text/latex": [
       "A data.frame: 6 × 31\n",
       "\\begin{tabular}{r|lllllllllllllllllllll}\n",
       "  & index & pattern & Fisher\\_score & number\\_subject & number\\_unique\\_cdr3 & final\\_score & hla\\_score & vb\\_score & expansion\\_score & length\\_score & ⋯ & HLA-C & HLA-DPA1 & HLA-DPB1 & HLA-DQA1 & HLA-DQB1 & HLA-DRB1 & HLA-DRB3 & HLA-DRB4 & HLA-DRB5 & cdr\\_length\\\\\n",
       "  & <int> & <chr> & <dbl> & <int> & <int> & <dbl> & <dbl> & <dbl> & <dbl> & <dbl> & ⋯ & <chr> & <chr> & <chr> & <chr> & <chr> & <chr> & <chr> & <chr> & <chr> & <int>\\\\\n",
       "\\hline\n",
       "\t752 & 46 & YSSY & 1.9e-09 & 7 & 8 & 0.00011 & 1 & 0.85 & 0.4 & 0.4 & ⋯ & - & - & - & - & - & - & - & - & - & 18\\\\\n",
       "\t753 & 46 & YSSY & 1.9e-09 & 7 & 8 & 0.00011 & 1 & 0.85 & 0.4 & 0.4 & ⋯ & - & - & - & - & - & - & - & - & - & 20\\\\\n",
       "\t754 & 46 & YSSY & 1.9e-09 & 7 & 8 & 0.00011 & 1 & 0.85 & 0.4 & 0.4 & ⋯ & - & - & - & - & - & - & - & - & - & 18\\\\\n",
       "\t755 & 46 & YSSY & 1.9e-09 & 7 & 8 & 0.00011 & 1 & 0.85 & 0.4 & 0.4 & ⋯ & - & - & - & - & - & - & - & - & - & 21\\\\\n",
       "\t756 & 46 & YSSY & 1.9e-09 & 7 & 8 & 0.00011 & 1 & 0.85 & 0.4 & 0.4 & ⋯ & - & - & - & - & - & - & - & - & - & 14\\\\\n",
       "\t757 & 46 & YSSY & 1.9e-09 & 7 & 8 & 0.00011 & 1 & 0.85 & 0.4 & 0.4 & ⋯ & - & - & - & - & - & - & - & - & - & 15\\\\\n",
       "\\end{tabular}\n"
      ],
      "text/markdown": [
       "\n",
       "A data.frame: 6 × 31\n",
       "\n",
       "| <!--/--> | index &lt;int&gt; | pattern &lt;chr&gt; | Fisher_score &lt;dbl&gt; | number_subject &lt;int&gt; | number_unique_cdr3 &lt;int&gt; | final_score &lt;dbl&gt; | hla_score &lt;dbl&gt; | vb_score &lt;dbl&gt; | expansion_score &lt;dbl&gt; | length_score &lt;dbl&gt; | ⋯ ⋯ | HLA-C &lt;chr&gt; | HLA-DPA1 &lt;chr&gt; | HLA-DPB1 &lt;chr&gt; | HLA-DQA1 &lt;chr&gt; | HLA-DQB1 &lt;chr&gt; | HLA-DRB1 &lt;chr&gt; | HLA-DRB3 &lt;chr&gt; | HLA-DRB4 &lt;chr&gt; | HLA-DRB5 &lt;chr&gt; | cdr_length &lt;int&gt; |\n",
       "|---|---|---|---|---|---|---|---|---|---|---|---|---|---|---|---|---|---|---|---|---|---|\n",
       "| 752 | 46 | YSSY | 1.9e-09 | 7 | 8 | 0.00011 | 1 | 0.85 | 0.4 | 0.4 | ⋯ | - | - | - | - | - | - | - | - | - | 18 |\n",
       "| 753 | 46 | YSSY | 1.9e-09 | 7 | 8 | 0.00011 | 1 | 0.85 | 0.4 | 0.4 | ⋯ | - | - | - | - | - | - | - | - | - | 20 |\n",
       "| 754 | 46 | YSSY | 1.9e-09 | 7 | 8 | 0.00011 | 1 | 0.85 | 0.4 | 0.4 | ⋯ | - | - | - | - | - | - | - | - | - | 18 |\n",
       "| 755 | 46 | YSSY | 1.9e-09 | 7 | 8 | 0.00011 | 1 | 0.85 | 0.4 | 0.4 | ⋯ | - | - | - | - | - | - | - | - | - | 21 |\n",
       "| 756 | 46 | YSSY | 1.9e-09 | 7 | 8 | 0.00011 | 1 | 0.85 | 0.4 | 0.4 | ⋯ | - | - | - | - | - | - | - | - | - | 14 |\n",
       "| 757 | 46 | YSSY | 1.9e-09 | 7 | 8 | 0.00011 | 1 | 0.85 | 0.4 | 0.4 | ⋯ | - | - | - | - | - | - | - | - | - | 15 |\n",
       "\n"
      ],
      "text/plain": [
       "    index pattern Fisher_score number_subject number_unique_cdr3 final_score\n",
       "752 46    YSSY    1.9e-09      7              8                  0.00011    \n",
       "753 46    YSSY    1.9e-09      7              8                  0.00011    \n",
       "754 46    YSSY    1.9e-09      7              8                  0.00011    \n",
       "755 46    YSSY    1.9e-09      7              8                  0.00011    \n",
       "756 46    YSSY    1.9e-09      7              8                  0.00011    \n",
       "757 46    YSSY    1.9e-09      7              8                  0.00011    \n",
       "    hla_score vb_score expansion_score length_score ⋯ HLA-C HLA-DPA1 HLA-DPB1\n",
       "752 1         0.85     0.4             0.4          ⋯ -     -        -       \n",
       "753 1         0.85     0.4             0.4          ⋯ -     -        -       \n",
       "754 1         0.85     0.4             0.4          ⋯ -     -        -       \n",
       "755 1         0.85     0.4             0.4          ⋯ -     -        -       \n",
       "756 1         0.85     0.4             0.4          ⋯ -     -        -       \n",
       "757 1         0.85     0.4             0.4          ⋯ -     -        -       \n",
       "    HLA-DQA1 HLA-DQB1 HLA-DRB1 HLA-DRB3 HLA-DRB4 HLA-DRB5 cdr_length\n",
       "752 -        -        -        -        -        -        18        \n",
       "753 -        -        -        -        -        -        20        \n",
       "754 -        -        -        -        -        -        18        \n",
       "755 -        -        -        -        -        -        21        \n",
       "756 -        -        -        -        -        -        14        \n",
       "757 -        -        -        -        -        -        15        "
      ]
     },
     "metadata": {},
     "output_type": "display_data"
    }
   ],
   "source": [
    "head(gliph2)"
   ]
  },
  {
   "cell_type": "code",
   "execution_count": 27,
   "metadata": {},
   "outputs": [],
   "source": [
    "tmp <- as.data.frame(table(gliph2$type))"
   ]
  },
  {
   "cell_type": "code",
   "execution_count": 28,
   "metadata": {},
   "outputs": [
    {
     "data": {
      "text/html": [
       "<style>\n",
       ".list-inline {list-style: none; margin:0; padding: 0}\n",
       ".list-inline>li {display: inline-block}\n",
       ".list-inline>li:not(:last-child)::after {content: \"\\00b7\"; padding: 0 .5ex}\n",
       "</style>\n",
       "<ol class=list-inline><li>456</li><li>2</li></ol>\n"
      ],
      "text/latex": [
       "\\begin{enumerate*}\n",
       "\\item 456\n",
       "\\item 2\n",
       "\\end{enumerate*}\n"
      ],
      "text/markdown": [
       "1. 456\n",
       "2. 2\n",
       "\n",
       "\n"
      ],
      "text/plain": [
       "[1] 456   2"
      ]
     },
     "metadata": {},
     "output_type": "display_data"
    }
   ],
   "source": [
    "dim(tmp)"
   ]
  },
  {
   "cell_type": "code",
   "execution_count": 30,
   "metadata": {},
   "outputs": [
    {
     "data": {
      "text/plain": [
       "   Min. 1st Qu.  Median    Mean 3rd Qu.    Max. \n",
       "  2.000   2.000   2.000   2.237   2.000   8.000 "
      ]
     },
     "metadata": {},
     "output_type": "display_data"
    }
   ],
   "source": [
    "summary(tmp$Freq)"
   ]
  },
  {
   "cell_type": "markdown",
   "metadata": {},
   "source": [
    "# circle plots\n",
    "\n",
    "Add motifs to mixcr files"
   ]
  },
  {
   "cell_type": "code",
   "execution_count": 31,
   "metadata": {},
   "outputs": [],
   "source": [
    "mountpath <- \"/Users/anabbi/Desktop/H4H/INDICATE/CapTCR/NovaSeq/ds_ICT/clones/\""
   ]
  },
  {
   "cell_type": "code",
   "execution_count": 32,
   "metadata": {},
   "outputs": [],
   "source": [
    "flelst <- list.files(mountpath,recursive = TRUE, pattern = \"CLONES_TRB\")"
   ]
  },
  {
   "cell_type": "code",
   "execution_count": 33,
   "metadata": {
    "scrolled": true
   },
   "outputs": [
    {
     "name": "stderr",
     "output_type": "stream",
     "text": [
      "mixcr file: CLONES_TRBICT-06520001B0024D_T_DNA_capTCRseq_S63_L002_1600000.txt\n",
      "\n"
     ]
    },
    {
     "name": "stdout",
     "output_type": "stream",
     "text": [
      "[1] 118  35\n"
     ]
    },
    {
     "name": "stderr",
     "output_type": "stream",
     "text": [
      "mixcr file with only productive seqs: CLONES_TRBICT-06520001B0024D_T_DNA_capTCRseq_S63_L002_1600000.txt\n",
      "\n"
     ]
    },
    {
     "name": "stdout",
     "output_type": "stream",
     "text": [
      "[1] 84 35\n"
     ]
    },
    {
     "name": "stderr",
     "output_type": "stream",
     "text": [
      "mixcr file: CLONES_TRBICT-06520004C0016D_T_DNA_capTCRseq_S76_L002_1600000.txt\n",
      "\n"
     ]
    },
    {
     "name": "stdout",
     "output_type": "stream",
     "text": [
      "[1] 372  35\n"
     ]
    },
    {
     "name": "stderr",
     "output_type": "stream",
     "text": [
      "mixcr file with only productive seqs: CLONES_TRBICT-06520004C0016D_T_DNA_capTCRseq_S76_L002_1600000.txt\n",
      "\n"
     ]
    },
    {
     "name": "stdout",
     "output_type": "stream",
     "text": [
      "[1] 283  35\n"
     ]
    },
    {
     "name": "stderr",
     "output_type": "stream",
     "text": [
      "mixcr file: CLONES_TRBICT-06520007C0016D_T_DNA_capTCRseq_S71_L002_1600000.txt\n",
      "\n"
     ]
    },
    {
     "name": "stdout",
     "output_type": "stream",
     "text": [
      "[1] 310  35\n"
     ]
    },
    {
     "name": "stderr",
     "output_type": "stream",
     "text": [
      "mixcr file with only productive seqs: CLONES_TRBICT-06520007C0016D_T_DNA_capTCRseq_S71_L002_1600000.txt\n",
      "\n"
     ]
    },
    {
     "name": "stdout",
     "output_type": "stream",
     "text": [
      "[1] 231  35\n"
     ]
    },
    {
     "name": "stderr",
     "output_type": "stream",
     "text": [
      "mixcr file: CLONES_TRBICT-06520010B0021D_T_DNA_capTCRseq_S66_L002_1600000.txt\n",
      "\n"
     ]
    },
    {
     "name": "stdout",
     "output_type": "stream",
     "text": [
      "[1] 48 35\n"
     ]
    },
    {
     "name": "stderr",
     "output_type": "stream",
     "text": [
      "mixcr file with only productive seqs: CLONES_TRBICT-06520010B0021D_T_DNA_capTCRseq_S66_L002_1600000.txt\n",
      "\n"
     ]
    },
    {
     "name": "stdout",
     "output_type": "stream",
     "text": [
      "[1] 38 35\n"
     ]
    },
    {
     "name": "stderr",
     "output_type": "stream",
     "text": [
      "mixcr file: CLONES_TRBICT-06520011B0021D_T_DNA_capTCRseq_S70_L002_1600000.txt\n",
      "\n"
     ]
    },
    {
     "name": "stdout",
     "output_type": "stream",
     "text": [
      "[1] 12 35\n"
     ]
    },
    {
     "name": "stderr",
     "output_type": "stream",
     "text": [
      "mixcr file with only productive seqs: CLONES_TRBICT-06520011B0021D_T_DNA_capTCRseq_S70_L002_1600000.txt\n",
      "\n"
     ]
    },
    {
     "name": "stdout",
     "output_type": "stream",
     "text": [
      "[1] 11 35\n"
     ]
    },
    {
     "name": "stderr",
     "output_type": "stream",
     "text": [
      "mixcr file: CLONES_TRBICT-06520017C0016D_T_DNA_capTCRseq_S72_L002_1600000.txt\n",
      "\n"
     ]
    },
    {
     "name": "stdout",
     "output_type": "stream",
     "text": [
      "[1]  7 35\n"
     ]
    },
    {
     "name": "stderr",
     "output_type": "stream",
     "text": [
      "mixcr file with only productive seqs: CLONES_TRBICT-06520017C0016D_T_DNA_capTCRseq_S72_L002_1600000.txt\n",
      "\n"
     ]
    },
    {
     "name": "stdout",
     "output_type": "stream",
     "text": [
      "[1]  5 35\n"
     ]
    },
    {
     "name": "stderr",
     "output_type": "stream",
     "text": [
      "mixcr file: CLONES_TRBICT-06520019C0024D_T_DNA_capTCRseq_S77_L002_1600000.txt\n",
      "\n"
     ]
    },
    {
     "name": "stdout",
     "output_type": "stream",
     "text": [
      "[1] 264  35\n"
     ]
    },
    {
     "name": "stderr",
     "output_type": "stream",
     "text": [
      "mixcr file with only productive seqs: CLONES_TRBICT-06520019C0024D_T_DNA_capTCRseq_S77_L002_1600000.txt\n",
      "\n"
     ]
    },
    {
     "name": "stdout",
     "output_type": "stream",
     "text": [
      "[1] 208  35\n"
     ]
    },
    {
     "name": "stderr",
     "output_type": "stream",
     "text": [
      "mixcr file: CLONES_TRBICT-06520026C0012D_T_DNA_capTCRseq_S75_L002_1600000.txt\n",
      "\n"
     ]
    },
    {
     "name": "stdout",
     "output_type": "stream",
     "text": [
      "[1] 56 35\n"
     ]
    },
    {
     "name": "stderr",
     "output_type": "stream",
     "text": [
      "mixcr file with only productive seqs: CLONES_TRBICT-06520026C0012D_T_DNA_capTCRseq_S75_L002_1600000.txt\n",
      "\n"
     ]
    },
    {
     "name": "stdout",
     "output_type": "stream",
     "text": [
      "[1] 49 35\n"
     ]
    },
    {
     "name": "stderr",
     "output_type": "stream",
     "text": [
      "mixcr file: CLONES_TRBICT-06520030C0016D_T_DNA_capTCRseq_S73_L002_1600000.txt\n",
      "\n"
     ]
    },
    {
     "name": "stdout",
     "output_type": "stream",
     "text": [
      "[1]  4 35\n"
     ]
    },
    {
     "name": "stderr",
     "output_type": "stream",
     "text": [
      "mixcr file with only productive seqs: CLONES_TRBICT-06520030C0016D_T_DNA_capTCRseq_S73_L002_1600000.txt\n",
      "\n"
     ]
    },
    {
     "name": "stdout",
     "output_type": "stream",
     "text": [
      "[1]  3 35\n"
     ]
    },
    {
     "name": "stderr",
     "output_type": "stream",
     "text": [
      "mixcr file: CLONES_TRBICT-06520033C0016D_T_DNA_capTCRseq_S79_L002_1600000.txt\n",
      "\n"
     ]
    },
    {
     "name": "stdout",
     "output_type": "stream",
     "text": [
      "[1] 746  35\n"
     ]
    },
    {
     "name": "stderr",
     "output_type": "stream",
     "text": [
      "mixcr file with only productive seqs: CLONES_TRBICT-06520033C0016D_T_DNA_capTCRseq_S79_L002_1600000.txt\n",
      "\n"
     ]
    },
    {
     "name": "stdout",
     "output_type": "stream",
     "text": [
      "[1] 602  35\n"
     ]
    },
    {
     "name": "stderr",
     "output_type": "stream",
     "text": [
      "mixcr file: CLONES_TRBICT-06520034C0016D_T_DNA_capTCRseq_S86_L002_1600000.txt\n",
      "\n"
     ]
    },
    {
     "name": "stdout",
     "output_type": "stream",
     "text": [
      "[1]  1 35\n"
     ]
    },
    {
     "name": "stderr",
     "output_type": "stream",
     "text": [
      "mixcr file with only productive seqs: CLONES_TRBICT-06520034C0016D_T_DNA_capTCRseq_S86_L002_1600000.txt\n",
      "\n"
     ]
    },
    {
     "name": "stdout",
     "output_type": "stream",
     "text": [
      "[1]  1 35\n"
     ]
    },
    {
     "name": "stderr",
     "output_type": "stream",
     "text": [
      "mixcr file: CLONES_TRBICT-06520038B0024D_T_DNA_capTCRseq_S78_L002_1600000.txt\n",
      "\n"
     ]
    },
    {
     "name": "stdout",
     "output_type": "stream",
     "text": [
      "[1] 10 35\n"
     ]
    },
    {
     "name": "stderr",
     "output_type": "stream",
     "text": [
      "mixcr file with only productive seqs: CLONES_TRBICT-06520038B0024D_T_DNA_capTCRseq_S78_L002_1600000.txt\n",
      "\n"
     ]
    },
    {
     "name": "stdout",
     "output_type": "stream",
     "text": [
      "[1]  9 35\n"
     ]
    },
    {
     "name": "stderr",
     "output_type": "stream",
     "text": [
      "mixcr file: CLONES_TRBICT-06520046C0016D_T_DNA_capTCRseq_S83_L002_1600000.txt\n",
      "\n"
     ]
    },
    {
     "name": "stdout",
     "output_type": "stream",
     "text": [
      "[1] 34 35\n"
     ]
    },
    {
     "name": "stderr",
     "output_type": "stream",
     "text": [
      "mixcr file with only productive seqs: CLONES_TRBICT-06520046C0016D_T_DNA_capTCRseq_S83_L002_1600000.txt\n",
      "\n"
     ]
    },
    {
     "name": "stdout",
     "output_type": "stream",
     "text": [
      "[1] 30 35\n"
     ]
    },
    {
     "name": "stderr",
     "output_type": "stream",
     "text": [
      "mixcr file: CLONES_TRBICT-06520049C0019D_T_DNA_capTCRseq_S67_L002_1600000.txt\n",
      "\n"
     ]
    },
    {
     "name": "stdout",
     "output_type": "stream",
     "text": [
      "[1] 22 35\n"
     ]
    },
    {
     "name": "stderr",
     "output_type": "stream",
     "text": [
      "mixcr file with only productive seqs: CLONES_TRBICT-06520049C0019D_T_DNA_capTCRseq_S67_L002_1600000.txt\n",
      "\n"
     ]
    },
    {
     "name": "stdout",
     "output_type": "stream",
     "text": [
      "[1] 18 35\n"
     ]
    },
    {
     "name": "stderr",
     "output_type": "stream",
     "text": [
      "mixcr file: CLONES_TRBICT-06520058C0044D_T_DNA_capTCRseq_S69_L002_1600000.txt\n",
      "\n"
     ]
    },
    {
     "name": "stdout",
     "output_type": "stream",
     "text": [
      "[1] 220  35\n"
     ]
    },
    {
     "name": "stderr",
     "output_type": "stream",
     "text": [
      "mixcr file with only productive seqs: CLONES_TRBICT-06520058C0044D_T_DNA_capTCRseq_S69_L002_1600000.txt\n",
      "\n"
     ]
    },
    {
     "name": "stdout",
     "output_type": "stream",
     "text": [
      "[1] 170  35\n"
     ]
    },
    {
     "name": "stderr",
     "output_type": "stream",
     "text": [
      "mixcr file: CLONES_TRBICT-06520059B0021D_T_DNA_capTCRseq_S85_L002_1600000.txt\n",
      "\n"
     ]
    },
    {
     "name": "stdout",
     "output_type": "stream",
     "text": [
      "[1] 43 35\n"
     ]
    },
    {
     "name": "stderr",
     "output_type": "stream",
     "text": [
      "mixcr file with only productive seqs: CLONES_TRBICT-06520059B0021D_T_DNA_capTCRseq_S85_L002_1600000.txt\n",
      "\n"
     ]
    },
    {
     "name": "stdout",
     "output_type": "stream",
     "text": [
      "[1] 31 35\n"
     ]
    },
    {
     "name": "stderr",
     "output_type": "stream",
     "text": [
      "mixcr file: CLONES_TRBICT-06520063C0041D_T_DNA_capTCRseq_S84_L002_1600000.txt\n",
      "\n"
     ]
    },
    {
     "name": "stdout",
     "output_type": "stream",
     "text": [
      "[1] 24 35\n"
     ]
    },
    {
     "name": "stderr",
     "output_type": "stream",
     "text": [
      "mixcr file with only productive seqs: CLONES_TRBICT-06520063C0041D_T_DNA_capTCRseq_S84_L002_1600000.txt\n",
      "\n"
     ]
    },
    {
     "name": "stdout",
     "output_type": "stream",
     "text": [
      "[1] 17 35\n"
     ]
    },
    {
     "name": "stderr",
     "output_type": "stream",
     "text": [
      "mixcr file: CLONES_TRBICT-06520067C0016D_T_DNA_capTCRseq_S81_L002_1600000.txt\n",
      "\n"
     ]
    },
    {
     "name": "stdout",
     "output_type": "stream",
     "text": [
      "[1] 36 35\n"
     ]
    },
    {
     "name": "stderr",
     "output_type": "stream",
     "text": [
      "mixcr file with only productive seqs: CLONES_TRBICT-06520067C0016D_T_DNA_capTCRseq_S81_L002_1600000.txt\n",
      "\n"
     ]
    },
    {
     "name": "stdout",
     "output_type": "stream",
     "text": [
      "[1] 29 35\n"
     ]
    },
    {
     "name": "stderr",
     "output_type": "stream",
     "text": [
      "mixcr file: CLONES_TRBICT-06520068B0021D_T_DNA_capTCRseq_S68_L002_1600000.txt\n",
      "\n"
     ]
    },
    {
     "name": "stdout",
     "output_type": "stream",
     "text": [
      "[1] 17 35\n"
     ]
    },
    {
     "name": "stderr",
     "output_type": "stream",
     "text": [
      "mixcr file with only productive seqs: CLONES_TRBICT-06520068B0021D_T_DNA_capTCRseq_S68_L002_1600000.txt\n",
      "\n"
     ]
    },
    {
     "name": "stdout",
     "output_type": "stream",
     "text": [
      "[1] 16 35\n"
     ]
    },
    {
     "name": "stderr",
     "output_type": "stream",
     "text": [
      "mixcr file: CLONES_TRBICT-06520070C0016D_T_DNA_capTCRseq_S82_L002_1600000.txt\n",
      "\n"
     ]
    },
    {
     "name": "stdout",
     "output_type": "stream",
     "text": [
      "[1]  6 35\n"
     ]
    },
    {
     "name": "stderr",
     "output_type": "stream",
     "text": [
      "mixcr file with only productive seqs: CLONES_TRBICT-06520070C0016D_T_DNA_capTCRseq_S82_L002_1600000.txt\n",
      "\n"
     ]
    },
    {
     "name": "stdout",
     "output_type": "stream",
     "text": [
      "[1]  3 35\n"
     ]
    },
    {
     "name": "stderr",
     "output_type": "stream",
     "text": [
      "mixcr file: CLONES_TRBICT-06520071C0018D_T_DNA_capTCRseq_S80_L002_1600000.txt\n",
      "\n"
     ]
    },
    {
     "name": "stdout",
     "output_type": "stream",
     "text": [
      "[1] 42 35\n"
     ]
    },
    {
     "name": "stderr",
     "output_type": "stream",
     "text": [
      "mixcr file with only productive seqs: CLONES_TRBICT-06520071C0018D_T_DNA_capTCRseq_S80_L002_1600000.txt\n",
      "\n"
     ]
    },
    {
     "name": "stdout",
     "output_type": "stream",
     "text": [
      "[1] 31 35\n"
     ]
    },
    {
     "name": "stderr",
     "output_type": "stream",
     "text": [
      "mixcr file: CLONES_TRBICT-06520074C0018D_T_DNA_capTCRseq_S61_L002_1600000.txt\n",
      "\n"
     ]
    },
    {
     "name": "stdout",
     "output_type": "stream",
     "text": [
      "[1] 69 35\n"
     ]
    },
    {
     "name": "stderr",
     "output_type": "stream",
     "text": [
      "mixcr file with only productive seqs: CLONES_TRBICT-06520074C0018D_T_DNA_capTCRseq_S61_L002_1600000.txt\n",
      "\n"
     ]
    },
    {
     "name": "stdout",
     "output_type": "stream",
     "text": [
      "[1] 48 35\n"
     ]
    },
    {
     "name": "stderr",
     "output_type": "stream",
     "text": [
      "mixcr file: CLONES_TRBICT-06520078C0026D_T_DNA_capTCRseq_S64_L002_1600000.txt\n",
      "\n"
     ]
    },
    {
     "name": "stdout",
     "output_type": "stream",
     "text": [
      "[1] 1289   35\n"
     ]
    },
    {
     "name": "stderr",
     "output_type": "stream",
     "text": [
      "mixcr file with only productive seqs: CLONES_TRBICT-06520078C0026D_T_DNA_capTCRseq_S64_L002_1600000.txt\n",
      "\n"
     ]
    },
    {
     "name": "stdout",
     "output_type": "stream",
     "text": [
      "[1] 1020   35\n"
     ]
    },
    {
     "name": "stderr",
     "output_type": "stream",
     "text": [
      "mixcr file: CLONES_TRBICT-06520080B0021D_T_DNA_capTCRseq_S74_L002_1600000.txt\n",
      "\n"
     ]
    },
    {
     "name": "stdout",
     "output_type": "stream",
     "text": [
      "[1] 16 35\n"
     ]
    },
    {
     "name": "stderr",
     "output_type": "stream",
     "text": [
      "mixcr file with only productive seqs: CLONES_TRBICT-06520080B0021D_T_DNA_capTCRseq_S74_L002_1600000.txt\n",
      "\n"
     ]
    },
    {
     "name": "stdout",
     "output_type": "stream",
     "text": [
      "[1] 13 35\n"
     ]
    },
    {
     "name": "stderr",
     "output_type": "stream",
     "text": [
      "mixcr file: CLONES_TRBICT-06520082C0016D_T_DNA_capTCRseq_S62_L002_1600000.txt\n",
      "\n"
     ]
    },
    {
     "name": "stdout",
     "output_type": "stream",
     "text": [
      "[1] 469  35\n"
     ]
    },
    {
     "name": "stderr",
     "output_type": "stream",
     "text": [
      "mixcr file with only productive seqs: CLONES_TRBICT-06520082C0016D_T_DNA_capTCRseq_S62_L002_1600000.txt\n",
      "\n"
     ]
    },
    {
     "name": "stdout",
     "output_type": "stream",
     "text": [
      "[1] 361  35\n"
     ]
    },
    {
     "name": "stderr",
     "output_type": "stream",
     "text": [
      "mixcr file: CLONES_TRBICT-06520090C0019D_T_DNA_capTCRseq_S65_L002_1600000.txt\n",
      "\n"
     ]
    },
    {
     "name": "stdout",
     "output_type": "stream",
     "text": [
      "[1] 2266   35\n"
     ]
    },
    {
     "name": "stderr",
     "output_type": "stream",
     "text": [
      "mixcr file with only productive seqs: CLONES_TRBICT-06520090C0019D_T_DNA_capTCRseq_S65_L002_1600000.txt\n",
      "\n"
     ]
    },
    {
     "name": "stdout",
     "output_type": "stream",
     "text": [
      "[1] 1796   35\n"
     ]
    },
    {
     "name": "stderr",
     "output_type": "stream",
     "text": [
      "mixcr file: CLONES_TRBICT-6201764804-02_T_DNA_capTCRseq_S39_L002_1600000.txt\n",
      "\n"
     ]
    },
    {
     "name": "stdout",
     "output_type": "stream",
     "text": [
      "[1] 19 35\n"
     ]
    },
    {
     "name": "stderr",
     "output_type": "stream",
     "text": [
      "mixcr file with only productive seqs: CLONES_TRBICT-6201764804-02_T_DNA_capTCRseq_S39_L002_1600000.txt\n",
      "\n"
     ]
    },
    {
     "name": "stdout",
     "output_type": "stream",
     "text": [
      "[1] 18 35\n"
     ]
    },
    {
     "name": "stderr",
     "output_type": "stream",
     "text": [
      "mixcr file: CLONES_TRBICT-6201764818-01_T_DNA_capTCRseq_S47_L002_1600000.txt\n",
      "\n"
     ]
    },
    {
     "name": "stdout",
     "output_type": "stream",
     "text": [
      "[1] 25 35\n"
     ]
    },
    {
     "name": "stderr",
     "output_type": "stream",
     "text": [
      "mixcr file with only productive seqs: CLONES_TRBICT-6201764818-01_T_DNA_capTCRseq_S47_L002_1600000.txt\n",
      "\n"
     ]
    },
    {
     "name": "stdout",
     "output_type": "stream",
     "text": [
      "[1] 18 35\n"
     ]
    },
    {
     "name": "stderr",
     "output_type": "stream",
     "text": [
      "mixcr file: CLONES_TRBICT-6201764824-02_T_DNA_capTCRseq_S41_L002_1600000.txt\n",
      "\n"
     ]
    },
    {
     "name": "stdout",
     "output_type": "stream",
     "text": [
      "[1] 65 35\n"
     ]
    },
    {
     "name": "stderr",
     "output_type": "stream",
     "text": [
      "mixcr file with only productive seqs: CLONES_TRBICT-6201764824-02_T_DNA_capTCRseq_S41_L002_1600000.txt\n",
      "\n"
     ]
    },
    {
     "name": "stdout",
     "output_type": "stream",
     "text": [
      "[1] 50 35\n"
     ]
    },
    {
     "name": "stderr",
     "output_type": "stream",
     "text": [
      "mixcr file: CLONES_TRBICT-6201815172-01_T_DNA_capTCRseq_S48_L002_1600000.txt\n",
      "\n"
     ]
    },
    {
     "name": "stdout",
     "output_type": "stream",
     "text": [
      "[1] 384  35\n"
     ]
    },
    {
     "name": "stderr",
     "output_type": "stream",
     "text": [
      "mixcr file with only productive seqs: CLONES_TRBICT-6201815172-01_T_DNA_capTCRseq_S48_L002_1600000.txt\n",
      "\n"
     ]
    },
    {
     "name": "stdout",
     "output_type": "stream",
     "text": [
      "[1] 299  35\n"
     ]
    },
    {
     "name": "stderr",
     "output_type": "stream",
     "text": [
      "mixcr file: CLONES_TRBICT-6201815273-02_T_DNA_capTCRseq_S60_L002_1600000.txt\n",
      "\n"
     ]
    },
    {
     "name": "stdout",
     "output_type": "stream",
     "text": [
      "[1] 23 35\n"
     ]
    },
    {
     "name": "stderr",
     "output_type": "stream",
     "text": [
      "mixcr file with only productive seqs: CLONES_TRBICT-6201815273-02_T_DNA_capTCRseq_S60_L002_1600000.txt\n",
      "\n"
     ]
    },
    {
     "name": "stdout",
     "output_type": "stream",
     "text": [
      "[1] 16 35\n"
     ]
    },
    {
     "name": "stderr",
     "output_type": "stream",
     "text": [
      "mixcr file: CLONES_TRBICT-6201855900-02_T_DNA_capTCRseq_S31_L002_1600000.txt\n",
      "\n"
     ]
    },
    {
     "name": "stdout",
     "output_type": "stream",
     "text": [
      "[1] 43 35\n"
     ]
    },
    {
     "name": "stderr",
     "output_type": "stream",
     "text": [
      "mixcr file with only productive seqs: CLONES_TRBICT-6201855900-02_T_DNA_capTCRseq_S31_L002_1600000.txt\n",
      "\n"
     ]
    },
    {
     "name": "stdout",
     "output_type": "stream",
     "text": [
      "[1] 28 35\n"
     ]
    },
    {
     "name": "stderr",
     "output_type": "stream",
     "text": [
      "mixcr file: CLONES_TRBICT-6202116713-02_T_DNA_capTCRseq_S59_L002_1600000.txt\n",
      "\n"
     ]
    },
    {
     "name": "stdout",
     "output_type": "stream",
     "text": [
      "[1] 322  35\n"
     ]
    },
    {
     "name": "stderr",
     "output_type": "stream",
     "text": [
      "mixcr file with only productive seqs: CLONES_TRBICT-6202116713-02_T_DNA_capTCRseq_S59_L002_1600000.txt\n",
      "\n"
     ]
    },
    {
     "name": "stdout",
     "output_type": "stream",
     "text": [
      "[1] 243  35\n"
     ]
    },
    {
     "name": "stderr",
     "output_type": "stream",
     "text": [
      "mixcr file: CLONES_TRBICT-6202116728-02_T_DNA_capTCRseq_S40_L002_1600000.txt\n",
      "\n"
     ]
    },
    {
     "name": "stdout",
     "output_type": "stream",
     "text": [
      "[1]  8 35\n"
     ]
    },
    {
     "name": "stderr",
     "output_type": "stream",
     "text": [
      "mixcr file with only productive seqs: CLONES_TRBICT-6202116728-02_T_DNA_capTCRseq_S40_L002_1600000.txt\n",
      "\n"
     ]
    },
    {
     "name": "stdout",
     "output_type": "stream",
     "text": [
      "[1]  4 35\n"
     ]
    },
    {
     "name": "stderr",
     "output_type": "stream",
     "text": [
      "mixcr file: CLONES_TRBICT-6202116735-01_T_DNA_capTCRseq_S54_L002_1600000.txt\n",
      "\n"
     ]
    },
    {
     "name": "stdout",
     "output_type": "stream",
     "text": [
      "[1]  2 35\n"
     ]
    },
    {
     "name": "stderr",
     "output_type": "stream",
     "text": [
      "mixcr file with only productive seqs: CLONES_TRBICT-6202116735-01_T_DNA_capTCRseq_S54_L002_1600000.txt\n",
      "\n"
     ]
    },
    {
     "name": "stdout",
     "output_type": "stream",
     "text": [
      "[1]  1 35\n"
     ]
    },
    {
     "name": "stderr",
     "output_type": "stream",
     "text": [
      "mixcr file: CLONES_TRBICT-6202116747_T_DNA_capTCRseq_S50_L002_1600000.txt\n",
      "\n"
     ]
    },
    {
     "name": "stdout",
     "output_type": "stream",
     "text": [
      "[1]  7 35\n"
     ]
    },
    {
     "name": "stderr",
     "output_type": "stream",
     "text": [
      "mixcr file with only productive seqs: CLONES_TRBICT-6202116747_T_DNA_capTCRseq_S50_L002_1600000.txt\n",
      "\n"
     ]
    },
    {
     "name": "stdout",
     "output_type": "stream",
     "text": [
      "[1]  2 35\n"
     ]
    },
    {
     "name": "stderr",
     "output_type": "stream",
     "text": [
      "mixcr file: CLONES_TRBICT-6202218209-01_T_DNA_capTCRseq_S58_L002_1600000.txt\n",
      "\n"
     ]
    },
    {
     "name": "stdout",
     "output_type": "stream",
     "text": [
      "[1] 691  35\n"
     ]
    },
    {
     "name": "stderr",
     "output_type": "stream",
     "text": [
      "mixcr file with only productive seqs: CLONES_TRBICT-6202218209-01_T_DNA_capTCRseq_S58_L002_1600000.txt\n",
      "\n"
     ]
    },
    {
     "name": "stdout",
     "output_type": "stream",
     "text": [
      "[1] 545  35\n"
     ]
    },
    {
     "name": "stderr",
     "output_type": "stream",
     "text": [
      "mixcr file: CLONES_TRBICT-6202255794-02_T_DNA_capTCRseq_S37_L002_1600000.txt\n",
      "\n"
     ]
    },
    {
     "name": "stdout",
     "output_type": "stream",
     "text": [
      "[1] 211  35\n"
     ]
    },
    {
     "name": "stderr",
     "output_type": "stream",
     "text": [
      "mixcr file with only productive seqs: CLONES_TRBICT-6202255794-02_T_DNA_capTCRseq_S37_L002_1600000.txt\n",
      "\n"
     ]
    },
    {
     "name": "stdout",
     "output_type": "stream",
     "text": [
      "[1] 151  35\n"
     ]
    },
    {
     "name": "stderr",
     "output_type": "stream",
     "text": [
      "mixcr file: CLONES_TRBICT-6202261663-02_T_DNA_capTCRseq_S57_L002_1600000.txt\n",
      "\n"
     ]
    },
    {
     "name": "stdout",
     "output_type": "stream",
     "text": [
      "[1] 11 35\n"
     ]
    },
    {
     "name": "stderr",
     "output_type": "stream",
     "text": [
      "mixcr file with only productive seqs: CLONES_TRBICT-6202261663-02_T_DNA_capTCRseq_S57_L002_1600000.txt\n",
      "\n"
     ]
    },
    {
     "name": "stdout",
     "output_type": "stream",
     "text": [
      "[1] 10 35\n"
     ]
    },
    {
     "name": "stderr",
     "output_type": "stream",
     "text": [
      "mixcr file: CLONES_TRBICT-6202277503-02_T_DNA_capTCRseq_S35_L002_1600000.txt\n",
      "\n"
     ]
    },
    {
     "name": "stdout",
     "output_type": "stream",
     "text": [
      "[1] 22 35\n"
     ]
    },
    {
     "name": "stderr",
     "output_type": "stream",
     "text": [
      "mixcr file with only productive seqs: CLONES_TRBICT-6202277503-02_T_DNA_capTCRseq_S35_L002_1600000.txt\n",
      "\n"
     ]
    },
    {
     "name": "stdout",
     "output_type": "stream",
     "text": [
      "[1] 18 35\n"
     ]
    },
    {
     "name": "stderr",
     "output_type": "stream",
     "text": [
      "mixcr file: CLONES_TRBICT-6202549619-02_T_DNA_capTCRseq_S33_L002_1600000.txt\n",
      "\n"
     ]
    },
    {
     "name": "stdout",
     "output_type": "stream",
     "text": [
      "[1] 17 35\n"
     ]
    },
    {
     "name": "stderr",
     "output_type": "stream",
     "text": [
      "mixcr file with only productive seqs: CLONES_TRBICT-6202549619-02_T_DNA_capTCRseq_S33_L002_1600000.txt\n",
      "\n"
     ]
    },
    {
     "name": "stdout",
     "output_type": "stream",
     "text": [
      "[1] 13 35\n"
     ]
    },
    {
     "name": "stderr",
     "output_type": "stream",
     "text": [
      "mixcr file: CLONES_TRBICT-6202785779-02_T_DNA_capTCRseq_S32_L002_1600000.txt\n",
      "\n"
     ]
    },
    {
     "name": "stdout",
     "output_type": "stream",
     "text": [
      "[1] 62 35\n"
     ]
    },
    {
     "name": "stderr",
     "output_type": "stream",
     "text": [
      "mixcr file with only productive seqs: CLONES_TRBICT-6202785779-02_T_DNA_capTCRseq_S32_L002_1600000.txt\n",
      "\n"
     ]
    },
    {
     "name": "stdout",
     "output_type": "stream",
     "text": [
      "[1] 50 35\n"
     ]
    },
    {
     "name": "stderr",
     "output_type": "stream",
     "text": [
      "mixcr file: CLONES_TRBICT-6202994429-02_T_DNA_capTCRseq_S56_L002_1600000.txt\n",
      "\n"
     ]
    },
    {
     "name": "stdout",
     "output_type": "stream",
     "text": [
      "[1] 60 35\n"
     ]
    },
    {
     "name": "stderr",
     "output_type": "stream",
     "text": [
      "mixcr file with only productive seqs: CLONES_TRBICT-6202994429-02_T_DNA_capTCRseq_S56_L002_1600000.txt\n",
      "\n"
     ]
    },
    {
     "name": "stdout",
     "output_type": "stream",
     "text": [
      "[1] 44 35\n"
     ]
    },
    {
     "name": "stderr",
     "output_type": "stream",
     "text": [
      "mixcr file: CLONES_TRBICT-6203065383-03_T_DNA_capTCRseq_S46_L002_1600000.txt\n",
      "\n"
     ]
    },
    {
     "name": "stdout",
     "output_type": "stream",
     "text": [
      "[1] 338  35\n"
     ]
    },
    {
     "name": "stderr",
     "output_type": "stream",
     "text": [
      "mixcr file with only productive seqs: CLONES_TRBICT-6203065383-03_T_DNA_capTCRseq_S46_L002_1600000.txt\n",
      "\n"
     ]
    },
    {
     "name": "stdout",
     "output_type": "stream",
     "text": [
      "[1] 267  35\n"
     ]
    },
    {
     "name": "stderr",
     "output_type": "stream",
     "text": [
      "mixcr file: CLONES_TRBICT-6203065392-02_T_DNA_capTCRseq_S43_L002_1600000.txt\n",
      "\n"
     ]
    },
    {
     "name": "stdout",
     "output_type": "stream",
     "text": [
      "[1] 604  35\n"
     ]
    },
    {
     "name": "stderr",
     "output_type": "stream",
     "text": [
      "mixcr file with only productive seqs: CLONES_TRBICT-6203065392-02_T_DNA_capTCRseq_S43_L002_1600000.txt\n",
      "\n"
     ]
    },
    {
     "name": "stdout",
     "output_type": "stream",
     "text": [
      "[1] 489  35\n"
     ]
    },
    {
     "name": "stderr",
     "output_type": "stream",
     "text": [
      "mixcr file: CLONES_TRBICT-6203065431-03_T_DNA_capTCRseq_S38_L002_1600000.txt\n",
      "\n"
     ]
    },
    {
     "name": "stdout",
     "output_type": "stream",
     "text": [
      "[1] 24 35\n"
     ]
    },
    {
     "name": "stderr",
     "output_type": "stream",
     "text": [
      "mixcr file with only productive seqs: CLONES_TRBICT-6203065431-03_T_DNA_capTCRseq_S38_L002_1600000.txt\n",
      "\n"
     ]
    },
    {
     "name": "stdout",
     "output_type": "stream",
     "text": [
      "[1] 19 35\n"
     ]
    },
    {
     "name": "stderr",
     "output_type": "stream",
     "text": [
      "mixcr file: CLONES_TRBICT-6203065432-01_T_DNA_capTCRseq_S34_L002_1600000.txt\n",
      "\n"
     ]
    },
    {
     "name": "stdout",
     "output_type": "stream",
     "text": [
      "[1] 12 35\n"
     ]
    },
    {
     "name": "stderr",
     "output_type": "stream",
     "text": [
      "mixcr file with only productive seqs: CLONES_TRBICT-6203065432-01_T_DNA_capTCRseq_S34_L002_1600000.txt\n",
      "\n"
     ]
    },
    {
     "name": "stdout",
     "output_type": "stream",
     "text": [
      "[1]  6 35\n"
     ]
    },
    {
     "name": "stderr",
     "output_type": "stream",
     "text": [
      "mixcr file: CLONES_TRBICT-6203065440-02_T_DNA_capTCRseq_S36_L002_1600000.txt\n",
      "\n"
     ]
    },
    {
     "name": "stdout",
     "output_type": "stream",
     "text": [
      "[1]  6 35\n"
     ]
    },
    {
     "name": "stderr",
     "output_type": "stream",
     "text": [
      "mixcr file with only productive seqs: CLONES_TRBICT-6203065440-02_T_DNA_capTCRseq_S36_L002_1600000.txt\n",
      "\n"
     ]
    },
    {
     "name": "stdout",
     "output_type": "stream",
     "text": [
      "[1]  5 35\n"
     ]
    },
    {
     "name": "stderr",
     "output_type": "stream",
     "text": [
      "mixcr file: CLONES_TRBICT-6203065456-02_T_DNA_capTCRseq_S52_L002_1600000.txt\n",
      "\n"
     ]
    },
    {
     "name": "stdout",
     "output_type": "stream",
     "text": [
      "[1] 806  35\n"
     ]
    },
    {
     "name": "stderr",
     "output_type": "stream",
     "text": [
      "mixcr file with only productive seqs: CLONES_TRBICT-6203065456-02_T_DNA_capTCRseq_S52_L002_1600000.txt\n",
      "\n"
     ]
    },
    {
     "name": "stdout",
     "output_type": "stream",
     "text": [
      "[1] 626  35\n"
     ]
    },
    {
     "name": "stderr",
     "output_type": "stream",
     "text": [
      "mixcr file: CLONES_TRBICT-6204179150-01_T_DNA_capTCRseq_S55_L002_1600000.txt\n",
      "\n"
     ]
    },
    {
     "name": "stdout",
     "output_type": "stream",
     "text": [
      "[1] 90 35\n"
     ]
    },
    {
     "name": "stderr",
     "output_type": "stream",
     "text": [
      "mixcr file with only productive seqs: CLONES_TRBICT-6204179150-01_T_DNA_capTCRseq_S55_L002_1600000.txt\n",
      "\n"
     ]
    },
    {
     "name": "stdout",
     "output_type": "stream",
     "text": [
      "[1] 74 35\n"
     ]
    },
    {
     "name": "stderr",
     "output_type": "stream",
     "text": [
      "mixcr file: CLONES_TRBICT-6501799176-02_T_DNA_capTCRseq_S53_L002_1600000.txt\n",
      "\n"
     ]
    },
    {
     "name": "stdout",
     "output_type": "stream",
     "text": [
      "[1] 36 35\n"
     ]
    },
    {
     "name": "stderr",
     "output_type": "stream",
     "text": [
      "mixcr file with only productive seqs: CLONES_TRBICT-6501799176-02_T_DNA_capTCRseq_S53_L002_1600000.txt\n",
      "\n"
     ]
    },
    {
     "name": "stdout",
     "output_type": "stream",
     "text": [
      "[1] 26 35\n"
     ]
    },
    {
     "name": "stderr",
     "output_type": "stream",
     "text": [
      "mixcr file: CLONES_TRBICT-6502064156-02_T_DNA_capTCRseq_S51_L002_1600000.txt\n",
      "\n"
     ]
    },
    {
     "name": "stdout",
     "output_type": "stream",
     "text": [
      "[1] 18 35\n"
     ]
    },
    {
     "name": "stderr",
     "output_type": "stream",
     "text": [
      "mixcr file with only productive seqs: CLONES_TRBICT-6502064156-02_T_DNA_capTCRseq_S51_L002_1600000.txt\n",
      "\n"
     ]
    },
    {
     "name": "stdout",
     "output_type": "stream",
     "text": [
      "[1] 13 35\n"
     ]
    },
    {
     "name": "stderr",
     "output_type": "stream",
     "text": [
      "mixcr file: CLONES_TRBICT-6502168706_T_DNA_capTCRseq_S42_L002_1600000.txt\n",
      "\n"
     ]
    },
    {
     "name": "stdout",
     "output_type": "stream",
     "text": [
      "[1] 141  35\n"
     ]
    },
    {
     "name": "stderr",
     "output_type": "stream",
     "text": [
      "mixcr file with only productive seqs: CLONES_TRBICT-6502168706_T_DNA_capTCRseq_S42_L002_1600000.txt\n",
      "\n"
     ]
    },
    {
     "name": "stdout",
     "output_type": "stream",
     "text": [
      "[1] 109  35\n"
     ]
    },
    {
     "name": "stderr",
     "output_type": "stream",
     "text": [
      "mixcr file: CLONES_TRBICT-6502553313-02_T_DNA_capTCRseq_S49_L002_1600000.txt\n",
      "\n"
     ]
    },
    {
     "name": "stdout",
     "output_type": "stream",
     "text": [
      "[1] 244  35\n"
     ]
    },
    {
     "name": "stderr",
     "output_type": "stream",
     "text": [
      "mixcr file with only productive seqs: CLONES_TRBICT-6502553313-02_T_DNA_capTCRseq_S49_L002_1600000.txt\n",
      "\n"
     ]
    },
    {
     "name": "stdout",
     "output_type": "stream",
     "text": [
      "[1] 179  35\n"
     ]
    }
   ],
   "source": [
    "i <- 1\n",
    "  for (f in flelst){\n",
    "    mixcrfle <- read.table(paste0(mountpath, f), header = TRUE, sep = \"\\t\", stringsAsFactors = F, na.strings = c(\"\", \"NA\"))\n",
    "    message(\"mixcr file: \", f)  \n",
    "    print(dim(mixcrfle))  \n",
    "    #remove nonproductive seqs  \n",
    "    mixcr_productivefle <- mixcrfle[!grepl(\"_\",mixcrfle$aaSeqCDR3)& !grepl(\"[*]\",mixcrfle$aaSeqCDR3),]  \n",
    "    message(\"mixcr file with only productive seqs: \", f)  \n",
    "    print(dim(mixcr_productivefle)) \n",
    "    \n",
    "    #recalculate cloneFraction\n",
    "    mixcr_productivefle$cloneFraction <- NA\n",
    "    mixcr_productivefle$cloneFraction <- mixcr_productivefle$cloneCount/sum(mixcr_productivefle$cloneCount)\n",
    "      \n",
    "    if(i == 1){\n",
    "      compldfle <- mixcr_productivefle\n",
    "      compldfle <- cbind(cloneno = row.names(compldfle), \n",
    "                         filename = f, \n",
    "                         compldfle)\n",
    "      i <- i + 1   \n",
    "    }\n",
    "    else{\n",
    "      compldfle1 <- mixcr_productivefle\n",
    "      compldfle1 <- cbind(cloneno = row.names(compldfle1), filename = f, compldfle1)\n",
    "      compldfle <- rbind(compldfle, compldfle1)\n",
    "      rm(compldfle1)\n",
    "    }\n",
    "  }\n"
   ]
  },
  {
   "cell_type": "code",
   "execution_count": 34,
   "metadata": {},
   "outputs": [],
   "source": [
    "compldfle$samplename <- gsub(\"CLONES_TRB\", \"\", compldfle$filename)\n",
    "compldfle$samplename <- gsub(\"_DNA.*\", \"\",compldfle$samplename)\n",
    "compldfle$cloneno <- formatC(compldfle$cloneno, \n",
    "                             width=nchar(max(as.numeric(compldfle$cloneno))), flag=\"0\")"
   ]
  },
  {
   "cell_type": "code",
   "execution_count": 35,
   "metadata": {},
   "outputs": [
    {
     "data": {
      "text/html": [
       "54"
      ],
      "text/latex": [
       "54"
      ],
      "text/markdown": [
       "54"
      ],
      "text/plain": [
       "[1] 54"
      ]
     },
     "metadata": {},
     "output_type": "display_data"
    }
   ],
   "source": [
    "length(unique(compldfle$samplename))"
   ]
  },
  {
   "cell_type": "code",
   "execution_count": 36,
   "metadata": {},
   "outputs": [],
   "source": [
    "compldfle <- compldfle[compldfle$samplename %in% metadata$sample_id_DNA,]"
   ]
  },
  {
   "cell_type": "code",
   "execution_count": 37,
   "metadata": {},
   "outputs": [
    {
     "data": {
      "text/html": [
       "45"
      ],
      "text/latex": [
       "45"
      ],
      "text/markdown": [
       "45"
      ],
      "text/plain": [
       "[1] 45"
      ]
     },
     "metadata": {},
     "output_type": "display_data"
    }
   ],
   "source": [
    "length(unique(compldfle$samplename))"
   ]
  },
  {
   "cell_type": "markdown",
   "metadata": {},
   "source": [
    "Add type from gliph to complefle"
   ]
  },
  {
   "cell_type": "code",
   "execution_count": 38,
   "metadata": {},
   "outputs": [],
   "source": [
    "compldfle$Type <- NA\n",
    "compldfle$Type <- gliph2$type[match(compldfle$aaSeqCDR3,gliph2$TcRb)]"
   ]
  },
  {
   "cell_type": "code",
   "execution_count": 39,
   "metadata": {},
   "outputs": [],
   "source": [
    "inputfile <- compldfle"
   ]
  },
  {
   "cell_type": "code",
   "execution_count": 40,
   "metadata": {},
   "outputs": [],
   "source": [
    "sample_id_DNA <- \"ICT-6202994429-02_T\""
   ]
  },
  {
   "cell_type": "code",
   "execution_count": 41,
   "metadata": {},
   "outputs": [
    {
     "data": {
      "text/html": [
       "<table class=\"dataframe\">\n",
       "<caption>A data.frame: 1 × 39</caption>\n",
       "<thead>\n",
       "\t<tr><th></th><th scope=col>cloneno</th><th scope=col>filename</th><th scope=col>cloneId</th><th scope=col>cloneCount</th><th scope=col>cloneFraction</th><th scope=col>clonalSequence</th><th scope=col>clonalSequenceQuality</th><th scope=col>allVHitsWithScore</th><th scope=col>allDHitsWithScore</th><th scope=col>allJHitsWithScore</th><th scope=col>⋯</th><th scope=col>aaSeqFR1</th><th scope=col>aaSeqCDR1</th><th scope=col>aaSeqFR2</th><th scope=col>aaSeqCDR2</th><th scope=col>aaSeqFR3</th><th scope=col>aaSeqCDR3</th><th scope=col>aaSeqFR4</th><th scope=col>refPoints</th><th scope=col>samplename</th><th scope=col>Type</th></tr>\n",
       "\t<tr><th></th><th scope=col>&lt;chr&gt;</th><th scope=col>&lt;chr&gt;</th><th scope=col>&lt;int&gt;</th><th scope=col>&lt;int&gt;</th><th scope=col>&lt;dbl&gt;</th><th scope=col>&lt;chr&gt;</th><th scope=col>&lt;chr&gt;</th><th scope=col>&lt;chr&gt;</th><th scope=col>&lt;chr&gt;</th><th scope=col>&lt;chr&gt;</th><th scope=col>⋯</th><th scope=col>&lt;lgl&gt;</th><th scope=col>&lt;lgl&gt;</th><th scope=col>&lt;lgl&gt;</th><th scope=col>&lt;lgl&gt;</th><th scope=col>&lt;lgl&gt;</th><th scope=col>&lt;chr&gt;</th><th scope=col>&lt;lgl&gt;</th><th scope=col>&lt;chr&gt;</th><th scope=col>&lt;chr&gt;</th><th scope=col>&lt;chr&gt;</th></tr>\n",
       "</thead>\n",
       "<tbody>\n",
       "\t<tr><th scope=row>11007</th><td>   1</td><td>CLONES_TRBICT-6202994429-02_T_DNA_capTCRseq_S56_L002_1600000.txt</td><td>25</td><td>257</td><td>0.05547162</td><td>TGTGCCAGCAGCGTGACTAGCGGGAGAACTAATGAGCAGTTCTTC</td><td>FFFFFFFFFFFFFFFFFFFFFFFFFFFFFFFFFFFFFFFFFFFFF</td><td>TRBV9*00(722.4)</td><td>TRBD2*00(60)</td><td>TRBJ2-1*00(199.4)</td><td>⋯</td><td>NA</td><td>NA</td><td>NA</td><td>NA</td><td>NA</td><td>CASSVTSGRTNEQFF</td><td>NA</td><td>:::::::::0:-2:14:14:-2:-2:26:30:-7:45:::</td><td>ICT-6202994429-02_T</td><td>global-S%TSGRTNE</td></tr>\n",
       "</tbody>\n",
       "</table>\n"
      ],
      "text/latex": [
       "A data.frame: 1 × 39\n",
       "\\begin{tabular}{r|lllllllllllllllllllll}\n",
       "  & cloneno & filename & cloneId & cloneCount & cloneFraction & clonalSequence & clonalSequenceQuality & allVHitsWithScore & allDHitsWithScore & allJHitsWithScore & ⋯ & aaSeqFR1 & aaSeqCDR1 & aaSeqFR2 & aaSeqCDR2 & aaSeqFR3 & aaSeqCDR3 & aaSeqFR4 & refPoints & samplename & Type\\\\\n",
       "  & <chr> & <chr> & <int> & <int> & <dbl> & <chr> & <chr> & <chr> & <chr> & <chr> & ⋯ & <lgl> & <lgl> & <lgl> & <lgl> & <lgl> & <chr> & <lgl> & <chr> & <chr> & <chr>\\\\\n",
       "\\hline\n",
       "\t11007 &    1 & CLONES\\_TRBICT-6202994429-02\\_T\\_DNA\\_capTCRseq\\_S56\\_L002\\_1600000.txt & 25 & 257 & 0.05547162 & TGTGCCAGCAGCGTGACTAGCGGGAGAACTAATGAGCAGTTCTTC & FFFFFFFFFFFFFFFFFFFFFFFFFFFFFFFFFFFFFFFFFFFFF & TRBV9*00(722.4) & TRBD2*00(60) & TRBJ2-1*00(199.4) & ⋯ & NA & NA & NA & NA & NA & CASSVTSGRTNEQFF & NA & :::::::::0:-2:14:14:-2:-2:26:30:-7:45::: & ICT-6202994429-02\\_T & global-S\\%TSGRTNE\\\\\n",
       "\\end{tabular}\n"
      ],
      "text/markdown": [
       "\n",
       "A data.frame: 1 × 39\n",
       "\n",
       "| <!--/--> | cloneno &lt;chr&gt; | filename &lt;chr&gt; | cloneId &lt;int&gt; | cloneCount &lt;int&gt; | cloneFraction &lt;dbl&gt; | clonalSequence &lt;chr&gt; | clonalSequenceQuality &lt;chr&gt; | allVHitsWithScore &lt;chr&gt; | allDHitsWithScore &lt;chr&gt; | allJHitsWithScore &lt;chr&gt; | ⋯ ⋯ | aaSeqFR1 &lt;lgl&gt; | aaSeqCDR1 &lt;lgl&gt; | aaSeqFR2 &lt;lgl&gt; | aaSeqCDR2 &lt;lgl&gt; | aaSeqFR3 &lt;lgl&gt; | aaSeqCDR3 &lt;chr&gt; | aaSeqFR4 &lt;lgl&gt; | refPoints &lt;chr&gt; | samplename &lt;chr&gt; | Type &lt;chr&gt; |\n",
       "|---|---|---|---|---|---|---|---|---|---|---|---|---|---|---|---|---|---|---|---|---|---|\n",
       "| 11007 |    1 | CLONES_TRBICT-6202994429-02_T_DNA_capTCRseq_S56_L002_1600000.txt | 25 | 257 | 0.05547162 | TGTGCCAGCAGCGTGACTAGCGGGAGAACTAATGAGCAGTTCTTC | FFFFFFFFFFFFFFFFFFFFFFFFFFFFFFFFFFFFFFFFFFFFF | TRBV9*00(722.4) | TRBD2*00(60) | TRBJ2-1*00(199.4) | ⋯ | NA | NA | NA | NA | NA | CASSVTSGRTNEQFF | NA | :::::::::0:-2:14:14:-2:-2:26:30:-7:45::: | ICT-6202994429-02_T | global-S%TSGRTNE |\n",
       "\n"
      ],
      "text/plain": [
       "      cloneno filename                                                        \n",
       "11007    1    CLONES_TRBICT-6202994429-02_T_DNA_capTCRseq_S56_L002_1600000.txt\n",
       "      cloneId cloneCount cloneFraction\n",
       "11007 25      257        0.05547162   \n",
       "      clonalSequence                               \n",
       "11007 TGTGCCAGCAGCGTGACTAGCGGGAGAACTAATGAGCAGTTCTTC\n",
       "      clonalSequenceQuality                         allVHitsWithScore\n",
       "11007 FFFFFFFFFFFFFFFFFFFFFFFFFFFFFFFFFFFFFFFFFFFFF TRBV9*00(722.4)  \n",
       "      allDHitsWithScore allJHitsWithScore ⋯ aaSeqFR1 aaSeqCDR1 aaSeqFR2\n",
       "11007 TRBD2*00(60)      TRBJ2-1*00(199.4) ⋯ NA       NA        NA      \n",
       "      aaSeqCDR2 aaSeqFR3 aaSeqCDR3       aaSeqFR4\n",
       "11007 NA        NA       CASSVTSGRTNEQFF NA      \n",
       "      refPoints                                samplename         \n",
       "11007 :::::::::0:-2:14:14:-2:-2:26:30:-7:45::: ICT-6202994429-02_T\n",
       "      Type            \n",
       "11007 global-S%TSGRTNE"
      ]
     },
     "metadata": {},
     "output_type": "display_data"
    }
   ],
   "source": [
    "compldfle[ compldfle$aaSeqCDR3 == \"CASSVTSGRTNEQFF\",]"
   ]
  },
  {
   "cell_type": "code",
   "execution_count": 42,
   "metadata": {},
   "outputs": [
    {
     "data": {
      "text/html": [
       "<table class=\"dataframe\">\n",
       "<caption>A data.frame: 1 × 39</caption>\n",
       "<thead>\n",
       "\t<tr><th></th><th scope=col>cloneno</th><th scope=col>filename</th><th scope=col>cloneId</th><th scope=col>cloneCount</th><th scope=col>cloneFraction</th><th scope=col>clonalSequence</th><th scope=col>clonalSequenceQuality</th><th scope=col>allVHitsWithScore</th><th scope=col>allDHitsWithScore</th><th scope=col>allJHitsWithScore</th><th scope=col>⋯</th><th scope=col>aaSeqFR1</th><th scope=col>aaSeqCDR1</th><th scope=col>aaSeqFR2</th><th scope=col>aaSeqCDR2</th><th scope=col>aaSeqFR3</th><th scope=col>aaSeqCDR3</th><th scope=col>aaSeqFR4</th><th scope=col>refPoints</th><th scope=col>samplename</th><th scope=col>Type</th></tr>\n",
       "\t<tr><th></th><th scope=col>&lt;chr&gt;</th><th scope=col>&lt;chr&gt;</th><th scope=col>&lt;int&gt;</th><th scope=col>&lt;int&gt;</th><th scope=col>&lt;dbl&gt;</th><th scope=col>&lt;chr&gt;</th><th scope=col>&lt;chr&gt;</th><th scope=col>&lt;chr&gt;</th><th scope=col>&lt;chr&gt;</th><th scope=col>&lt;chr&gt;</th><th scope=col>⋯</th><th scope=col>&lt;lgl&gt;</th><th scope=col>&lt;lgl&gt;</th><th scope=col>&lt;lgl&gt;</th><th scope=col>&lt;lgl&gt;</th><th scope=col>&lt;lgl&gt;</th><th scope=col>&lt;chr&gt;</th><th scope=col>&lt;lgl&gt;</th><th scope=col>&lt;chr&gt;</th><th scope=col>&lt;chr&gt;</th><th scope=col>&lt;chr&gt;</th></tr>\n",
       "</thead>\n",
       "<tbody>\n",
       "\t<tr><th scope=row>8124</th><td>   8</td><td>CLONES_TRBICT-6202994429-02_T_DNA_capTCRseq_S56_L002_1600000.txt</td><td>53</td><td>200</td><td>0.04316857</td><td>TGTGCCAGCAGCGTAACTTCGGGAAGATCCAATGAGCAGTTCTTC</td><td>FFFFFFFFFFFFFFFFFFFFFFFFFFFFFFFFFFFFFFFFFFFFF</td><td>TRBV9*00(693.1)</td><td>TRBD1*00(25),TRBD2*00(25)</td><td>TRBJ2-1*00(199.3)</td><td>⋯</td><td>NA</td><td>NA</td><td>NA</td><td>NA</td><td>NA</td><td>CASSVTSGRSNEQFF</td><td>NA</td><td>:::::::::0:-1:15:19:1:-8:24:29:-6:45:::</td><td>ICT-6202994429-02_T</td><td>global-SVTSGR%NE</td></tr>\n",
       "</tbody>\n",
       "</table>\n"
      ],
      "text/latex": [
       "A data.frame: 1 × 39\n",
       "\\begin{tabular}{r|lllllllllllllllllllll}\n",
       "  & cloneno & filename & cloneId & cloneCount & cloneFraction & clonalSequence & clonalSequenceQuality & allVHitsWithScore & allDHitsWithScore & allJHitsWithScore & ⋯ & aaSeqFR1 & aaSeqCDR1 & aaSeqFR2 & aaSeqCDR2 & aaSeqFR3 & aaSeqCDR3 & aaSeqFR4 & refPoints & samplename & Type\\\\\n",
       "  & <chr> & <chr> & <int> & <int> & <dbl> & <chr> & <chr> & <chr> & <chr> & <chr> & ⋯ & <lgl> & <lgl> & <lgl> & <lgl> & <lgl> & <chr> & <lgl> & <chr> & <chr> & <chr>\\\\\n",
       "\\hline\n",
       "\t8124 &    8 & CLONES\\_TRBICT-6202994429-02\\_T\\_DNA\\_capTCRseq\\_S56\\_L002\\_1600000.txt & 53 & 200 & 0.04316857 & TGTGCCAGCAGCGTAACTTCGGGAAGATCCAATGAGCAGTTCTTC & FFFFFFFFFFFFFFFFFFFFFFFFFFFFFFFFFFFFFFFFFFFFF & TRBV9*00(693.1) & TRBD1*00(25),TRBD2*00(25) & TRBJ2-1*00(199.3) & ⋯ & NA & NA & NA & NA & NA & CASSVTSGRSNEQFF & NA & :::::::::0:-1:15:19:1:-8:24:29:-6:45::: & ICT-6202994429-02\\_T & global-SVTSGR\\%NE\\\\\n",
       "\\end{tabular}\n"
      ],
      "text/markdown": [
       "\n",
       "A data.frame: 1 × 39\n",
       "\n",
       "| <!--/--> | cloneno &lt;chr&gt; | filename &lt;chr&gt; | cloneId &lt;int&gt; | cloneCount &lt;int&gt; | cloneFraction &lt;dbl&gt; | clonalSequence &lt;chr&gt; | clonalSequenceQuality &lt;chr&gt; | allVHitsWithScore &lt;chr&gt; | allDHitsWithScore &lt;chr&gt; | allJHitsWithScore &lt;chr&gt; | ⋯ ⋯ | aaSeqFR1 &lt;lgl&gt; | aaSeqCDR1 &lt;lgl&gt; | aaSeqFR2 &lt;lgl&gt; | aaSeqCDR2 &lt;lgl&gt; | aaSeqFR3 &lt;lgl&gt; | aaSeqCDR3 &lt;chr&gt; | aaSeqFR4 &lt;lgl&gt; | refPoints &lt;chr&gt; | samplename &lt;chr&gt; | Type &lt;chr&gt; |\n",
       "|---|---|---|---|---|---|---|---|---|---|---|---|---|---|---|---|---|---|---|---|---|---|\n",
       "| 8124 |    8 | CLONES_TRBICT-6202994429-02_T_DNA_capTCRseq_S56_L002_1600000.txt | 53 | 200 | 0.04316857 | TGTGCCAGCAGCGTAACTTCGGGAAGATCCAATGAGCAGTTCTTC | FFFFFFFFFFFFFFFFFFFFFFFFFFFFFFFFFFFFFFFFFFFFF | TRBV9*00(693.1) | TRBD1*00(25),TRBD2*00(25) | TRBJ2-1*00(199.3) | ⋯ | NA | NA | NA | NA | NA | CASSVTSGRSNEQFF | NA | :::::::::0:-1:15:19:1:-8:24:29:-6:45::: | ICT-6202994429-02_T | global-SVTSGR%NE |\n",
       "\n"
      ],
      "text/plain": [
       "     cloneno filename                                                        \n",
       "8124    8    CLONES_TRBICT-6202994429-02_T_DNA_capTCRseq_S56_L002_1600000.txt\n",
       "     cloneId cloneCount cloneFraction\n",
       "8124 53      200        0.04316857   \n",
       "     clonalSequence                               \n",
       "8124 TGTGCCAGCAGCGTAACTTCGGGAAGATCCAATGAGCAGTTCTTC\n",
       "     clonalSequenceQuality                         allVHitsWithScore\n",
       "8124 FFFFFFFFFFFFFFFFFFFFFFFFFFFFFFFFFFFFFFFFFFFFF TRBV9*00(693.1)  \n",
       "     allDHitsWithScore         allJHitsWithScore ⋯ aaSeqFR1 aaSeqCDR1 aaSeqFR2\n",
       "8124 TRBD1*00(25),TRBD2*00(25) TRBJ2-1*00(199.3) ⋯ NA       NA        NA      \n",
       "     aaSeqCDR2 aaSeqFR3 aaSeqCDR3       aaSeqFR4\n",
       "8124 NA        NA       CASSVTSGRSNEQFF NA      \n",
       "     refPoints                               samplename         \n",
       "8124 :::::::::0:-1:15:19:1:-8:24:29:-6:45::: ICT-6202994429-02_T\n",
       "     Type            \n",
       "8124 global-SVTSGR%NE"
      ]
     },
     "metadata": {},
     "output_type": "display_data"
    }
   ],
   "source": [
    "compldfle[ compldfle$aaSeqCDR3 == \"CASSVTSGRSNEQFF\",]"
   ]
  },
  {
   "cell_type": "code",
   "execution_count": 44,
   "metadata": {},
   "outputs": [
    {
     "name": "stderr",
     "output_type": "stream",
     "text": [
      "Non-leaf weights ignored\n",
      "\n"
     ]
    }
   ],
   "source": [
    "    sample_df <- inputfile[inputfile$samplename == sample_id_DNA,]\n",
    "  \n",
    "    type_tab <- as.data.frame(table(sample_df$Type), stringsAsFactors = F)\n",
    "    if(nrow(type_tab) != 0){    \n",
    "        cluster_tab <- type_tab[type_tab$Freq > 1,]\n",
    "    } else {\n",
    "        cluster_tab <- type_tab \n",
    "    }    \n",
    "    \n",
    "# if there is a cluster, group cdr3s and use sum of reads\n",
    "    if(nrow(cluster_tab) != 0){    \n",
    "        cluster_tab$typereads <- NA\n",
    "        for(j in 1:nrow(cluster_tab)){\n",
    "            mytype <- cluster_tab$Var1[j]\n",
    "            mytypereads <- sum(sample_df$cloneCount[which(sample_df$Type == mytype)])\n",
    "            cluster_tab$typereads[j] <- mytypereads\n",
    "        }\n",
    "#clean up cluster_tab\n",
    "        cluster_tab <- cluster_tab[, c(\"Var1\", \"typereads\")]\n",
    "        colnames(cluster_tab) <- c(\"name\", \"size\")\n",
    "    }\n",
    "    \n",
    "# Make edge df\n",
    "    type_cdr3 <- sample_df[, c(\"Type\", \"nSeqCDR3\")]\n",
    "    colnames(type_cdr3) <- c(\"from\", \"to\")\n",
    "#if no clusters, edge df is octamer_cdr3 df and all octamers will be replaced by sample_id\n",
    "    if(nrow(cluster_tab) == 0) {\n",
    "        myedge <- type_cdr3\n",
    "        myedge[,\"from\"] <- unique(sample_df$samplename)\n",
    "    }\n",
    "    \n",
    "# if there is a cluster, make a list of sample_id and clusters\n",
    "    if(nrow(cluster_tab) != 0){\n",
    "        myclusters <- cbind.data.frame(NA,cluster_tab$name, stringsAsFactors = F)\n",
    "        colnames(myclusters) <- c(\"from\", \"to\")\n",
    "        myclusters$from <- unique(sample_df$samplename)\n",
    "# replace types < 2 sequences with sample_id\n",
    "        type_cdr3$from[!type_cdr3$from %in% cluster_tab$name] <- unique(sample_df$samplename)\n",
    "        myedge <- rbind(myclusters, type_cdr3)   \n",
    "    }\n",
    "\n",
    "# get cdr3 and reads    \n",
    "    cdr3_freq <- sample_df[, c(\"nSeqCDR3\", \"cloneCount\")]\n",
    "    colnames(cdr3_freq) <- c(\"name\", \"size\")\n",
    "\n",
    "#bind all and cleanup\n",
    "# get sample frequency        \n",
    "    sample_tab <- as.data.frame(table(sample_df$samplename), stringsAsFactors = F)\n",
    "    colnames(sample_tab) <- c(\"name\", \"size\")\n",
    "\n",
    "#bind all and cleanup\n",
    "    myvertex <- rbind(sample_tab, cdr3_freq)\n",
    "                      \n",
    "# if there is a cluster, include it to vertex\n",
    "    if(nrow(cluster_tab) != 0){\n",
    "        myvertex <- rbind(myvertex, cluster_tab)\n",
    "    }\n",
    "\n",
    "# first row is NA so remove it\n",
    "    myvertex <- myvertex[!is.na(myvertex$name),]\n",
    "    myvertex$size <- as.numeric(myvertex$size)\n",
    "    \n",
    "# Make a type variable for colors\n",
    "    myvertex$type <- NA\n",
    "    myvertex$type[1] <- \"samplename\"\n",
    "    myvertex$type[myvertex$name %in% cdr3_freq$name] <- \"CDR3\"\n",
    "    myvertex$type[is.na(myvertex$type)] <- myvertex$name[is.na(myvertex$type)] \n",
    "\n",
    "\n",
    "    myvertex$group <- NA\n",
    "    myvertex$group[myvertex$type == \"samplename\"] <- \"samplename\"\n",
    "    myvertex$group[myvertex$type == \"CDR3\"] <- \"CDR3\"\n",
    "    myvertex$group[!myvertex$type %in% c(\"CDR3\", \"samplename\")] <- \"Type\"\n",
    "    \n",
    "     if(nrow(cluster_tab) != 0){\n",
    "        myColors <- distinctColorPalette(nrow(cluster_tab))\n",
    "        myColors <- c(\"white\", # color samplename white\n",
    "                     rep(\"#ededed\",nrow(myvertex[myvertex$type == \"CDR3\",])), #color all cdr3 light gray\n",
    "                     myColors)\n",
    "        names(myColors) <- myvertex$type\n",
    "    } else{\n",
    "         myColors <- c(\"white\", \n",
    "                       rep(\"#ededed\",nrow(myvertex[myvertex$type == \"CDR3\",])))    \n",
    "         names(myColors) <- myvertex$type\n",
    "     }\n",
    "    \n",
    "mygraph <- graph_from_data_frame(myedge, vertices = myvertex)  \n",
    "     \n",
    "    alphapal <- c(\"CDR3\" = 1,\"Type\" = 0.4, \"samplename\" = 0)\n",
    "    circlep <- ggraph(mygraph, layout = 'circlepack', weight = size) + \n",
    "    geom_node_circle(aes(fill = type, alpha = group)) +\n",
    "    theme_void() + scale_fill_manual(values = myColors) +\n",
    "    scale_alpha_manual(values = alphapal)\n",
    "   "
   ]
  },
  {
   "cell_type": "code",
   "execution_count": 45,
   "metadata": {},
   "outputs": [
    {
     "data": {
      "image/png": "[encoded data removed]",
      "text/plain": [
       "plot without title"
      ]
     },
     "metadata": {
      "image/png": {
       "height": 420,
       "width": 420
      }
     },
     "output_type": "display_data"
    }
   ],
   "source": [
    "circlep"
   ]
  },
  {
   "cell_type": "code",
   "execution_count": 46,
   "metadata": {
    "scrolled": true
   },
   "outputs": [
    {
     "name": "stderr",
     "output_type": "stream",
     "text": [
      "Non-leaf weights ignored\n",
      "\n",
      "Non-leaf weights ignored\n",
      "\n",
      "Non-leaf weights ignored\n",
      "\n",
      "Non-leaf weights ignored\n",
      "\n",
      "Non-leaf weights ignored\n",
      "\n",
      "Non-leaf weights ignored\n",
      "\n",
      "Non-leaf weights ignored\n",
      "\n",
      "Non-leaf weights ignored\n",
      "\n",
      "Non-leaf weights ignored\n",
      "\n",
      "Non-leaf weights ignored\n",
      "\n",
      "Non-leaf weights ignored\n",
      "\n",
      "Non-leaf weights ignored\n",
      "\n",
      "Non-leaf weights ignored\n",
      "\n",
      "Non-leaf weights ignored\n",
      "\n",
      "Non-leaf weights ignored\n",
      "\n",
      "Non-leaf weights ignored\n",
      "\n",
      "Non-leaf weights ignored\n",
      "\n",
      "Non-leaf weights ignored\n",
      "\n",
      "Non-leaf weights ignored\n",
      "\n",
      "Non-leaf weights ignored\n",
      "\n",
      "Non-leaf weights ignored\n",
      "\n",
      "Non-leaf weights ignored\n",
      "\n",
      "Non-leaf weights ignored\n",
      "\n",
      "Non-leaf weights ignored\n",
      "\n",
      "Non-leaf weights ignored\n",
      "\n",
      "Non-leaf weights ignored\n",
      "\n",
      "Non-leaf weights ignored\n",
      "\n",
      "Non-leaf weights ignored\n",
      "\n",
      "Non-leaf weights ignored\n",
      "\n",
      "Non-leaf weights ignored\n",
      "\n",
      "Non-leaf weights ignored\n",
      "\n",
      "Non-leaf weights ignored\n",
      "\n",
      "Non-leaf weights ignored\n",
      "\n",
      "Non-leaf weights ignored\n",
      "\n",
      "Non-leaf weights ignored\n",
      "\n",
      "Non-leaf weights ignored\n",
      "\n",
      "Non-leaf weights ignored\n",
      "\n",
      "Non-leaf weights ignored\n",
      "\n",
      "Non-leaf weights ignored\n",
      "\n",
      "Non-leaf weights ignored\n",
      "\n",
      "Non-leaf weights ignored\n",
      "\n",
      "Non-leaf weights ignored\n",
      "\n",
      "Non-leaf weights ignored\n",
      "\n",
      "Non-leaf weights ignored\n",
      "\n",
      "Non-leaf weights ignored\n",
      "\n"
     ]
    }
   ],
   "source": [
    "for(smpl in unique(compldfle$samplename)){\n",
    "   circlepack.reads.fx(compldfle, smpl) \n",
    "}"
   ]
  },
  {
   "cell_type": "markdown",
   "metadata": {},
   "source": [
    "# matrix of samples and GLIPH output"
   ]
  },
  {
   "cell_type": "code",
   "execution_count": 47,
   "metadata": {},
   "outputs": [],
   "source": [
    "gliph2 <- read.csv(file.path(datapath,\"GLIPH/P2409_WKR0TLACRD_ind_gliph2_refv1_CD48.csv\"),header = T, stringsAsFactors = F, \n",
    "                     check.names = F)"
   ]
  },
  {
   "cell_type": "code",
   "execution_count": 48,
   "metadata": {},
   "outputs": [],
   "source": [
    "gliph2$cdr_length <- nchar(gliph2$TcRb)"
   ]
  },
  {
   "cell_type": "code",
   "execution_count": 49,
   "metadata": {},
   "outputs": [
    {
     "data": {
      "text/html": [
       "<table class=\"dataframe\">\n",
       "<caption>A data.frame: 6 × 31</caption>\n",
       "<thead>\n",
       "\t<tr><th></th><th scope=col>index</th><th scope=col>pattern</th><th scope=col>Fisher_score</th><th scope=col>number_subject</th><th scope=col>number_unique_cdr3</th><th scope=col>final_score</th><th scope=col>hla_score</th><th scope=col>vb_score</th><th scope=col>expansion_score</th><th scope=col>length_score</th><th scope=col>⋯</th><th scope=col>HLA-C</th><th scope=col>HLA-DPA1</th><th scope=col>HLA-DPB1</th><th scope=col>HLA-DQA1</th><th scope=col>HLA-DQB1</th><th scope=col>HLA-DRB1</th><th scope=col>HLA-DRB3</th><th scope=col>HLA-DRB4</th><th scope=col>HLA-DRB5</th><th scope=col>cdr_length</th></tr>\n",
       "\t<tr><th></th><th scope=col>&lt;int&gt;</th><th scope=col>&lt;chr&gt;</th><th scope=col>&lt;dbl&gt;</th><th scope=col>&lt;int&gt;</th><th scope=col>&lt;int&gt;</th><th scope=col>&lt;dbl&gt;</th><th scope=col>&lt;dbl&gt;</th><th scope=col>&lt;dbl&gt;</th><th scope=col>&lt;dbl&gt;</th><th scope=col>&lt;dbl&gt;</th><th scope=col>⋯</th><th scope=col>&lt;chr&gt;</th><th scope=col>&lt;chr&gt;</th><th scope=col>&lt;chr&gt;</th><th scope=col>&lt;chr&gt;</th><th scope=col>&lt;chr&gt;</th><th scope=col>&lt;chr&gt;</th><th scope=col>&lt;chr&gt;</th><th scope=col>&lt;chr&gt;</th><th scope=col>&lt;chr&gt;</th><th scope=col>&lt;int&gt;</th></tr>\n",
       "</thead>\n",
       "<tbody>\n",
       "\t<tr><th scope=row>1</th><td>1</td><td>CPTL</td><td>1.1e-43</td><td>10</td><td>17</td><td>2.4e-05</td><td>1</td><td>0.99</td><td>1</td><td>0.25</td><td>⋯</td><td>-</td><td>-</td><td>-</td><td>-</td><td>-</td><td>-</td><td>-</td><td>-</td><td>-</td><td>60</td></tr>\n",
       "\t<tr><th scope=row>2</th><td>1</td><td>CPTL</td><td>1.1e-43</td><td>10</td><td>17</td><td>2.4e-05</td><td>1</td><td>0.99</td><td>1</td><td>0.25</td><td>⋯</td><td>-</td><td>-</td><td>-</td><td>-</td><td>-</td><td>-</td><td>-</td><td>-</td><td>-</td><td>60</td></tr>\n",
       "\t<tr><th scope=row>3</th><td>1</td><td>CPTL</td><td>1.1e-43</td><td>10</td><td>17</td><td>2.4e-05</td><td>1</td><td>0.99</td><td>1</td><td>0.25</td><td>⋯</td><td>-</td><td>-</td><td>-</td><td>-</td><td>-</td><td>-</td><td>-</td><td>-</td><td>-</td><td>59</td></tr>\n",
       "\t<tr><th scope=row>4</th><td>1</td><td>CPTL</td><td>1.1e-43</td><td>10</td><td>17</td><td>2.4e-05</td><td>1</td><td>0.99</td><td>1</td><td>0.25</td><td>⋯</td><td>-</td><td>-</td><td>-</td><td>-</td><td>-</td><td>-</td><td>-</td><td>-</td><td>-</td><td>60</td></tr>\n",
       "\t<tr><th scope=row>5</th><td>1</td><td>CPTL</td><td>1.1e-43</td><td>10</td><td>17</td><td>2.4e-05</td><td>1</td><td>0.99</td><td>1</td><td>0.25</td><td>⋯</td><td>-</td><td>-</td><td>-</td><td>-</td><td>-</td><td>-</td><td>-</td><td>-</td><td>-</td><td>58</td></tr>\n",
       "\t<tr><th scope=row>6</th><td>1</td><td>CPTL</td><td>1.1e-43</td><td>10</td><td>17</td><td>2.4e-05</td><td>1</td><td>0.99</td><td>1</td><td>0.25</td><td>⋯</td><td>-</td><td>-</td><td>-</td><td>-</td><td>-</td><td>-</td><td>-</td><td>-</td><td>-</td><td>59</td></tr>\n",
       "</tbody>\n",
       "</table>\n"
      ],
      "text/latex": [
       "A data.frame: 6 × 31\n",
       "\\begin{tabular}{r|lllllllllllllllllllll}\n",
       "  & index & pattern & Fisher\\_score & number\\_subject & number\\_unique\\_cdr3 & final\\_score & hla\\_score & vb\\_score & expansion\\_score & length\\_score & ⋯ & HLA-C & HLA-DPA1 & HLA-DPB1 & HLA-DQA1 & HLA-DQB1 & HLA-DRB1 & HLA-DRB3 & HLA-DRB4 & HLA-DRB5 & cdr\\_length\\\\\n",
       "  & <int> & <chr> & <dbl> & <int> & <int> & <dbl> & <dbl> & <dbl> & <dbl> & <dbl> & ⋯ & <chr> & <chr> & <chr> & <chr> & <chr> & <chr> & <chr> & <chr> & <chr> & <int>\\\\\n",
       "\\hline\n",
       "\t1 & 1 & CPTL & 1.1e-43 & 10 & 17 & 2.4e-05 & 1 & 0.99 & 1 & 0.25 & ⋯ & - & - & - & - & - & - & - & - & - & 60\\\\\n",
       "\t2 & 1 & CPTL & 1.1e-43 & 10 & 17 & 2.4e-05 & 1 & 0.99 & 1 & 0.25 & ⋯ & - & - & - & - & - & - & - & - & - & 60\\\\\n",
       "\t3 & 1 & CPTL & 1.1e-43 & 10 & 17 & 2.4e-05 & 1 & 0.99 & 1 & 0.25 & ⋯ & - & - & - & - & - & - & - & - & - & 59\\\\\n",
       "\t4 & 1 & CPTL & 1.1e-43 & 10 & 17 & 2.4e-05 & 1 & 0.99 & 1 & 0.25 & ⋯ & - & - & - & - & - & - & - & - & - & 60\\\\\n",
       "\t5 & 1 & CPTL & 1.1e-43 & 10 & 17 & 2.4e-05 & 1 & 0.99 & 1 & 0.25 & ⋯ & - & - & - & - & - & - & - & - & - & 58\\\\\n",
       "\t6 & 1 & CPTL & 1.1e-43 & 10 & 17 & 2.4e-05 & 1 & 0.99 & 1 & 0.25 & ⋯ & - & - & - & - & - & - & - & - & - & 59\\\\\n",
       "\\end{tabular}\n"
      ],
      "text/markdown": [
       "\n",
       "A data.frame: 6 × 31\n",
       "\n",
       "| <!--/--> | index &lt;int&gt; | pattern &lt;chr&gt; | Fisher_score &lt;dbl&gt; | number_subject &lt;int&gt; | number_unique_cdr3 &lt;int&gt; | final_score &lt;dbl&gt; | hla_score &lt;dbl&gt; | vb_score &lt;dbl&gt; | expansion_score &lt;dbl&gt; | length_score &lt;dbl&gt; | ⋯ ⋯ | HLA-C &lt;chr&gt; | HLA-DPA1 &lt;chr&gt; | HLA-DPB1 &lt;chr&gt; | HLA-DQA1 &lt;chr&gt; | HLA-DQB1 &lt;chr&gt; | HLA-DRB1 &lt;chr&gt; | HLA-DRB3 &lt;chr&gt; | HLA-DRB4 &lt;chr&gt; | HLA-DRB5 &lt;chr&gt; | cdr_length &lt;int&gt; |\n",
       "|---|---|---|---|---|---|---|---|---|---|---|---|---|---|---|---|---|---|---|---|---|---|\n",
       "| 1 | 1 | CPTL | 1.1e-43 | 10 | 17 | 2.4e-05 | 1 | 0.99 | 1 | 0.25 | ⋯ | - | - | - | - | - | - | - | - | - | 60 |\n",
       "| 2 | 1 | CPTL | 1.1e-43 | 10 | 17 | 2.4e-05 | 1 | 0.99 | 1 | 0.25 | ⋯ | - | - | - | - | - | - | - | - | - | 60 |\n",
       "| 3 | 1 | CPTL | 1.1e-43 | 10 | 17 | 2.4e-05 | 1 | 0.99 | 1 | 0.25 | ⋯ | - | - | - | - | - | - | - | - | - | 59 |\n",
       "| 4 | 1 | CPTL | 1.1e-43 | 10 | 17 | 2.4e-05 | 1 | 0.99 | 1 | 0.25 | ⋯ | - | - | - | - | - | - | - | - | - | 60 |\n",
       "| 5 | 1 | CPTL | 1.1e-43 | 10 | 17 | 2.4e-05 | 1 | 0.99 | 1 | 0.25 | ⋯ | - | - | - | - | - | - | - | - | - | 58 |\n",
       "| 6 | 1 | CPTL | 1.1e-43 | 10 | 17 | 2.4e-05 | 1 | 0.99 | 1 | 0.25 | ⋯ | - | - | - | - | - | - | - | - | - | 59 |\n",
       "\n"
      ],
      "text/plain": [
       "  index pattern Fisher_score number_subject number_unique_cdr3 final_score\n",
       "1 1     CPTL    1.1e-43      10             17                 2.4e-05    \n",
       "2 1     CPTL    1.1e-43      10             17                 2.4e-05    \n",
       "3 1     CPTL    1.1e-43      10             17                 2.4e-05    \n",
       "4 1     CPTL    1.1e-43      10             17                 2.4e-05    \n",
       "5 1     CPTL    1.1e-43      10             17                 2.4e-05    \n",
       "6 1     CPTL    1.1e-43      10             17                 2.4e-05    \n",
       "  hla_score vb_score expansion_score length_score ⋯ HLA-C HLA-DPA1 HLA-DPB1\n",
       "1 1         0.99     1               0.25         ⋯ -     -        -       \n",
       "2 1         0.99     1               0.25         ⋯ -     -        -       \n",
       "3 1         0.99     1               0.25         ⋯ -     -        -       \n",
       "4 1         0.99     1               0.25         ⋯ -     -        -       \n",
       "5 1         0.99     1               0.25         ⋯ -     -        -       \n",
       "6 1         0.99     1               0.25         ⋯ -     -        -       \n",
       "  HLA-DQA1 HLA-DQB1 HLA-DRB1 HLA-DRB3 HLA-DRB4 HLA-DRB5 cdr_length\n",
       "1 -        -        -        -        -        -        60        \n",
       "2 -        -        -        -        -        -        60        \n",
       "3 -        -        -        -        -        -        59        \n",
       "4 -        -        -        -        -        -        60        \n",
       "5 -        -        -        -        -        -        58        \n",
       "6 -        -        -        -        -        -        59        "
      ]
     },
     "metadata": {},
     "output_type": "display_data"
    }
   ],
   "source": [
    "head(gliph2)"
   ]
  },
  {
   "cell_type": "code",
   "execution_count": 50,
   "metadata": {},
   "outputs": [
    {
     "data": {
      "text/plain": [
       "   Min. 1st Qu.  Median    Mean 3rd Qu.    Max. \n",
       "  10.00   13.00   15.00   32.17   57.00   61.00 "
      ]
     },
     "metadata": {},
     "output_type": "display_data"
    }
   ],
   "source": [
    "summary(gliph2$cdr_length)"
   ]
  },
  {
   "cell_type": "markdown",
   "metadata": {},
   "source": [
    "Remove rows with multiple motifs from super long CDR3s"
   ]
  },
  {
   "cell_type": "code",
   "execution_count": 51,
   "metadata": {},
   "outputs": [],
   "source": [
    "gliph2 <- gliph2[!grepl(\" \",gliph2$type),]"
   ]
  },
  {
   "cell_type": "code",
   "execution_count": 52,
   "metadata": {},
   "outputs": [],
   "source": [
    "gliph2 <- gliph2[gliph2$Sample %in% metadata$sample_id_DNA,]"
   ]
  },
  {
   "cell_type": "code",
   "execution_count": 53,
   "metadata": {},
   "outputs": [
    {
     "data": {
      "text/html": [
       "38"
      ],
      "text/latex": [
       "38"
      ],
      "text/markdown": [
       "38"
      ],
      "text/plain": [
       "[1] 38"
      ]
     },
     "metadata": {},
     "output_type": "display_data"
    }
   ],
   "source": [
    "length(unique(gliph2$Sample))"
   ]
  },
  {
   "cell_type": "code",
   "execution_count": 54,
   "metadata": {},
   "outputs": [],
   "source": [
    "tcr_mat <- matrix(nrow = length(unique(gliph2$Sample)), ncol = length(unique(gliph2$type)),\n",
    "                 dimnames = list(unique(gliph2$Sample), unique(gliph2$type)))"
   ]
  },
  {
   "cell_type": "code",
   "execution_count": 55,
   "metadata": {},
   "outputs": [],
   "source": [
    "for( i in 1:nrow(tcr_mat)){\n",
    "    sampl <- rownames(tcr_mat)[i]\n",
    "    mygliph <- gliph2[ gliph2$Sample == sampl,]\n",
    "    tcr_df <- as.data.frame(table(mygliph$type), stringsAsFactors = F)\n",
    "    tcr_mat[i,] <- tcr_df$Freq[match(colnames(tcr_mat), tcr_df$Var1)]\n",
    "}"
   ]
  },
  {
   "cell_type": "code",
   "execution_count": 56,
   "metadata": {},
   "outputs": [
    {
     "data": {
      "text/html": [
       "<table class=\"dataframe\">\n",
       "<caption>A matrix: 6 × 456 of type int</caption>\n",
       "<thead>\n",
       "\t<tr><th></th><th scope=col>motif-YSSY</th><th scope=col>motif-SMYS</th><th scope=col>global-SI%GTENQP</th><th scope=col>global-SQDLG%TE</th><th scope=col>global-TG%SYNE</th><th scope=col>motif-LFI</th><th scope=col>motif-SYPS</th><th scope=col>global-RG%AGNT</th><th scope=col>global-SLAGG%DT</th><th scope=col>motif-PIRD</th><th scope=col>⋯</th><th scope=col>global-SHEGVSYNE</th><th scope=col>global-SPRGEYNE</th><th scope=col>global-EQGEGQP</th><th scope=col>global-SQGIQEET</th><th scope=col>global-SALGDDYG</th><th scope=col>global-RGQGALFTDT</th><th scope=col>global-TNPGSGANV</th><th scope=col>global-SVLPDT</th><th scope=col>global-SESFGGSYE</th><th scope=col>global-SQGDTE</th></tr>\n",
       "</thead>\n",
       "<tbody>\n",
       "\t<tr><th scope=row>ICT-06520033C0016D_T</th><td>1</td><td>NA</td><td>NA</td><td>NA</td><td> 3</td><td> 1</td><td>NA</td><td> 2</td><td>NA</td><td> 1</td><td>⋯</td><td>NA</td><td>NA</td><td>NA</td><td>NA</td><td>NA</td><td>NA</td><td>NA</td><td>NA</td><td>NA</td><td>NA</td></tr>\n",
       "\t<tr><th scope=row>ICT-6502168706_T</th><td>1</td><td>NA</td><td>NA</td><td>NA</td><td>NA</td><td>NA</td><td>NA</td><td>NA</td><td>NA</td><td>NA</td><td>⋯</td><td>NA</td><td>NA</td><td>NA</td><td>NA</td><td>NA</td><td>NA</td><td>NA</td><td>NA</td><td>NA</td><td>NA</td></tr>\n",
       "\t<tr><th scope=row>ICT-6203065383-03_T</th><td>1</td><td>NA</td><td>NA</td><td>NA</td><td>NA</td><td> 1</td><td>NA</td><td>NA</td><td> 2</td><td>NA</td><td>⋯</td><td>NA</td><td>NA</td><td>NA</td><td>NA</td><td>NA</td><td>NA</td><td>NA</td><td>NA</td><td> 2</td><td>NA</td></tr>\n",
       "\t<tr><th scope=row>ICT-06520004C0016D_T</th><td>1</td><td>NA</td><td>NA</td><td>NA</td><td>NA</td><td>NA</td><td> 3</td><td>NA</td><td>NA</td><td>NA</td><td>⋯</td><td>NA</td><td>NA</td><td> 2</td><td>NA</td><td>NA</td><td>NA</td><td> 1</td><td>NA</td><td>NA</td><td>NA</td></tr>\n",
       "\t<tr><th scope=row>ICT-6203065392-02_T</th><td>1</td><td>NA</td><td>NA</td><td>NA</td><td>NA</td><td>NA</td><td>NA</td><td>NA</td><td>NA</td><td>NA</td><td>⋯</td><td>NA</td><td>NA</td><td>NA</td><td>NA</td><td>NA</td><td>NA</td><td>NA</td><td>NA</td><td>NA</td><td>NA</td></tr>\n",
       "\t<tr><th scope=row>ICT-06520078C0026D_T</th><td>2</td><td> 1</td><td> 1</td><td>NA</td><td>NA</td><td>NA</td><td>NA</td><td>NA</td><td> 1</td><td>NA</td><td>⋯</td><td>NA</td><td>NA</td><td>NA</td><td>NA</td><td>NA</td><td>NA</td><td>NA</td><td>NA</td><td>NA</td><td>NA</td></tr>\n",
       "</tbody>\n",
       "</table>\n"
      ],
      "text/latex": [
       "A matrix: 6 × 456 of type int\n",
       "\\begin{tabular}{r|lllllllllllllllllllll}\n",
       "  & motif-YSSY & motif-SMYS & global-SI\\%GTENQP & global-SQDLG\\%TE & global-TG\\%SYNE & motif-LFI & motif-SYPS & global-RG\\%AGNT & global-SLAGG\\%DT & motif-PIRD & ⋯ & global-SHEGVSYNE & global-SPRGEYNE & global-EQGEGQP & global-SQGIQEET & global-SALGDDYG & global-RGQGALFTDT & global-TNPGSGANV & global-SVLPDT & global-SESFGGSYE & global-SQGDTE\\\\\n",
       "\\hline\n",
       "\tICT-06520033C0016D\\_T & 1 & NA & NA & NA &  3 &  1 & NA &  2 & NA &  1 & ⋯ & NA & NA & NA & NA & NA & NA & NA & NA & NA & NA\\\\\n",
       "\tICT-6502168706\\_T & 1 & NA & NA & NA & NA & NA & NA & NA & NA & NA & ⋯ & NA & NA & NA & NA & NA & NA & NA & NA & NA & NA\\\\\n",
       "\tICT-6203065383-03\\_T & 1 & NA & NA & NA & NA &  1 & NA & NA &  2 & NA & ⋯ & NA & NA & NA & NA & NA & NA & NA & NA &  2 & NA\\\\\n",
       "\tICT-06520004C0016D\\_T & 1 & NA & NA & NA & NA & NA &  3 & NA & NA & NA & ⋯ & NA & NA &  2 & NA & NA & NA &  1 & NA & NA & NA\\\\\n",
       "\tICT-6203065392-02\\_T & 1 & NA & NA & NA & NA & NA & NA & NA & NA & NA & ⋯ & NA & NA & NA & NA & NA & NA & NA & NA & NA & NA\\\\\n",
       "\tICT-06520078C0026D\\_T & 2 &  1 &  1 & NA & NA & NA & NA & NA &  1 & NA & ⋯ & NA & NA & NA & NA & NA & NA & NA & NA & NA & NA\\\\\n",
       "\\end{tabular}\n"
      ],
      "text/markdown": [
       "\n",
       "A matrix: 6 × 456 of type int\n",
       "\n",
       "| <!--/--> | motif-YSSY | motif-SMYS | global-SI%GTENQP | global-SQDLG%TE | global-TG%SYNE | motif-LFI | motif-SYPS | global-RG%AGNT | global-SLAGG%DT | motif-PIRD | ⋯ | global-SHEGVSYNE | global-SPRGEYNE | global-EQGEGQP | global-SQGIQEET | global-SALGDDYG | global-RGQGALFTDT | global-TNPGSGANV | global-SVLPDT | global-SESFGGSYE | global-SQGDTE |\n",
       "|---|---|---|---|---|---|---|---|---|---|---|---|---|---|---|---|---|---|---|---|---|---|\n",
       "| ICT-06520033C0016D_T | 1 | NA | NA | NA |  3 |  1 | NA |  2 | NA |  1 | ⋯ | NA | NA | NA | NA | NA | NA | NA | NA | NA | NA |\n",
       "| ICT-6502168706_T | 1 | NA | NA | NA | NA | NA | NA | NA | NA | NA | ⋯ | NA | NA | NA | NA | NA | NA | NA | NA | NA | NA |\n",
       "| ICT-6203065383-03_T | 1 | NA | NA | NA | NA |  1 | NA | NA |  2 | NA | ⋯ | NA | NA | NA | NA | NA | NA | NA | NA |  2 | NA |\n",
       "| ICT-06520004C0016D_T | 1 | NA | NA | NA | NA | NA |  3 | NA | NA | NA | ⋯ | NA | NA |  2 | NA | NA | NA |  1 | NA | NA | NA |\n",
       "| ICT-6203065392-02_T | 1 | NA | NA | NA | NA | NA | NA | NA | NA | NA | ⋯ | NA | NA | NA | NA | NA | NA | NA | NA | NA | NA |\n",
       "| ICT-06520078C0026D_T | 2 |  1 |  1 | NA | NA | NA | NA | NA |  1 | NA | ⋯ | NA | NA | NA | NA | NA | NA | NA | NA | NA | NA |\n",
       "\n"
      ],
      "text/plain": [
       "                     motif-YSSY motif-SMYS global-SI%GTENQP global-SQDLG%TE\n",
       "ICT-06520033C0016D_T 1          NA         NA               NA             \n",
       "ICT-6502168706_T     1          NA         NA               NA             \n",
       "ICT-6203065383-03_T  1          NA         NA               NA             \n",
       "ICT-06520004C0016D_T 1          NA         NA               NA             \n",
       "ICT-6203065392-02_T  1          NA         NA               NA             \n",
       "ICT-06520078C0026D_T 2           1          1               NA             \n",
       "                     global-TG%SYNE motif-LFI motif-SYPS global-RG%AGNT\n",
       "ICT-06520033C0016D_T  3              1        NA          2            \n",
       "ICT-6502168706_T     NA             NA        NA         NA            \n",
       "ICT-6203065383-03_T  NA              1        NA         NA            \n",
       "ICT-06520004C0016D_T NA             NA         3         NA            \n",
       "ICT-6203065392-02_T  NA             NA        NA         NA            \n",
       "ICT-06520078C0026D_T NA             NA        NA         NA            \n",
       "                     global-SLAGG%DT motif-PIRD ⋯ global-SHEGVSYNE\n",
       "ICT-06520033C0016D_T NA               1         ⋯ NA              \n",
       "ICT-6502168706_T     NA              NA         ⋯ NA              \n",
       "ICT-6203065383-03_T   2              NA         ⋯ NA              \n",
       "ICT-06520004C0016D_T NA              NA         ⋯ NA              \n",
       "ICT-6203065392-02_T  NA              NA         ⋯ NA              \n",
       "ICT-06520078C0026D_T  1              NA         ⋯ NA              \n",
       "                     global-SPRGEYNE global-EQGEGQP global-SQGIQEET\n",
       "ICT-06520033C0016D_T NA              NA             NA             \n",
       "ICT-6502168706_T     NA              NA             NA             \n",
       "ICT-6203065383-03_T  NA              NA             NA             \n",
       "ICT-06520004C0016D_T NA               2             NA             \n",
       "ICT-6203065392-02_T  NA              NA             NA             \n",
       "ICT-06520078C0026D_T NA              NA             NA             \n",
       "                     global-SALGDDYG global-RGQGALFTDT global-TNPGSGANV\n",
       "ICT-06520033C0016D_T NA              NA                NA              \n",
       "ICT-6502168706_T     NA              NA                NA              \n",
       "ICT-6203065383-03_T  NA              NA                NA              \n",
       "ICT-06520004C0016D_T NA              NA                 1              \n",
       "ICT-6203065392-02_T  NA              NA                NA              \n",
       "ICT-06520078C0026D_T NA              NA                NA              \n",
       "                     global-SVLPDT global-SESFGGSYE global-SQGDTE\n",
       "ICT-06520033C0016D_T NA            NA               NA           \n",
       "ICT-6502168706_T     NA            NA               NA           \n",
       "ICT-6203065383-03_T  NA             2               NA           \n",
       "ICT-06520004C0016D_T NA            NA               NA           \n",
       "ICT-6203065392-02_T  NA            NA               NA           \n",
       "ICT-06520078C0026D_T NA            NA               NA           "
      ]
     },
     "metadata": {},
     "output_type": "display_data"
    }
   ],
   "source": [
    "head(tcr_mat)"
   ]
  },
  {
   "cell_type": "code",
   "execution_count": 57,
   "metadata": {},
   "outputs": [],
   "source": [
    "write.csv(tcr_mat, file = paste0(datapath, \"GLIPH/IND_GLIPH2_TCR_Matrix.csv\"), quote = F)"
   ]
  }
 ],
 "metadata": {
  "kernelspec": {
   "display_name": "R 4.0",
   "language": "R",
   "name": "ir40"
  },
  "language_info": {
   "codemirror_mode": "r",
   "file_extension": ".r",
   "mimetype": "text/x-r-source",
   "name": "R",
   "pygments_lexer": "r",
   "version": "4.0.3"
  },
  "toc": {
   "base_numbering": 1,
   "nav_menu": {},
   "number_sections": false,
   "sideBar": true,
   "skip_h1_title": false,
   "title_cell": "Table of Contents",
   "title_sidebar": "Contents",
   "toc_cell": true,
   "toc_position": {
    "height": "calc(100% - 180px)",
    "left": "10px",
    "top": "150px",
    "width": "199.667px"
   },
   "toc_section_display": true,
   "toc_window_display": true
  }
 },
 "nbformat": 4,
 "nbformat_minor": 2
}
