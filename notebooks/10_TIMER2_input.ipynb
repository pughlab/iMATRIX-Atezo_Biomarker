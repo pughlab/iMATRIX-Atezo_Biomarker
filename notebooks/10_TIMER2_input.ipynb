{
 "cells": [
  {
   "cell_type": "markdown",
   "metadata": {
    "toc": true
   },
   "source": [
    "<h1>Table of Contents<span class=\"tocSkip\"></span></h1>\n",
    "<div class=\"toc\"><ul class=\"toc-item\"><li><span><a href=\"#Dependencies\" data-toc-modified-id=\"Dependencies-1\">Dependencies</a></span></li><li><span><a href=\"#Functions\" data-toc-modified-id=\"Functions-2\">Functions</a></span></li><li><span><a href=\"#Paths\" data-toc-modified-id=\"Paths-3\">Paths</a></span></li><li><span><a href=\"#Main\" data-toc-modified-id=\"Main-4\">Main</a></span></li></ul></div>"
   ]
  },
  {
   "cell_type": "markdown",
   "metadata": {},
   "source": [
    "# Dependencies"
   ]
  },
  {
   "cell_type": "code",
   "execution_count": 1,
   "metadata": {},
   "outputs": [],
   "source": [
    "options(scipen = 999)"
   ]
  },
  {
   "cell_type": "markdown",
   "metadata": {},
   "source": [
    "# Functions\n"
   ]
  },
  {
   "cell_type": "markdown",
   "metadata": {},
   "source": [
    "# Paths"
   ]
  },
  {
   "cell_type": "code",
   "execution_count": 4,
   "metadata": {},
   "outputs": [],
   "source": [
    "datapath <- \"/Users/anabbi/OneDrive - UHN/Documents/INDICATE/Data/\"\n",
    "plotpath <- \"/Users/anabbi/OneDrive - UHN/Documents/INDICATE/Plots/\""
   ]
  },
  {
   "cell_type": "markdown",
   "metadata": {},
   "source": [
    "# Main"
   ]
  },
  {
   "cell_type": "markdown",
   "metadata": {},
   "source": [
    "Create treehouse metadata"
   ]
  },
  {
   "cell_type": "code",
   "execution_count": 5,
   "metadata": {},
   "outputs": [],
   "source": [
    "clinical <- read.table(\"~/OneDrive - UHN/Documents/ImmPedCan/treehousegenomics/clinical_TumorCompendium_v11_PolyA_2020-04-09.tsv\", sep = \"\\t\",\n",
    "                      header = TRUE, stringsAsFactors = F)"
   ]
  },
  {
   "cell_type": "code",
   "execution_count": 6,
   "metadata": {},
   "outputs": [
    {
     "data": {
      "text/plain": [
       "\n",
       "                                     No             Unknown Yes, age < 30 years \n",
       "                425                9426                  82                2814 "
      ]
     },
     "metadata": {},
     "output_type": "display_data"
    }
   ],
   "source": [
    "table(clinical$pedaya)"
   ]
  },
  {
   "cell_type": "code",
   "execution_count": 7,
   "metadata": {},
   "outputs": [],
   "source": [
    "pedaya <- clinical[which(clinical$pedaya == \"Yes, age < 30 years\"),]"
   ]
  },
  {
   "cell_type": "code",
   "execution_count": 8,
   "metadata": {},
   "outputs": [],
   "source": [
    "pedaya$diseasetype[grepl(\"lymphoma\",pedaya$disease)] <- \"Lymphoma\"\n",
    "pedaya$diseasetype[grepl(\"leukemia\",pedaya$disease)] <- \"Leukemia\"\n",
    "\n",
    "pedaya$diseasetype[grepl(\"rhabdoid\",pedaya$disease)] <- \"Rhabdoid\"\n",
    "\n",
    "#All sarcomas NOS\n",
    "pedaya$diseasetype[grepl(\" sarcoma\",pedaya$disease)] <- \"SARC\"\n",
    "pedaya$diseasetype[grepl(\"Ewing\",pedaya$disease)] <- \"EWS\"\n",
    "\n",
    "pedaya$diseasetype[grepl(\"neuroblastoma\",pedaya$disease)] <- \"NBL\"\n",
    "pedaya$diseasetype[grepl(\"wilms\",pedaya$disease)] <- \"WILMS\"\n",
    "\n",
    "#pedaya$diseasetype[grepl(\"sarcoma\",pedaya$disease)] <- \"SARC\" # 5 cases annotated as sarcoma was excluded\n",
    "pedaya$diseasetype[grepl(\"osteosarcoma\",pedaya$disease)] <- \"OS\"\n",
    "\n",
    "#Includes alveolar, embryonal, spindle cell\n",
    "pedaya$diseasetype[pedaya$disease ==\"rhabdomyosarcoma\"] <- \"RMS\"\n",
    "pedaya$diseasetype[grepl(\"rhabdomyosarcoma\",pedaya$disease)] <- \"RMS\""
   ]
  },
  {
   "cell_type": "code",
   "execution_count": 9,
   "metadata": {},
   "outputs": [],
   "source": [
    "pedaya$diseasetype[grepl(\"adrenocortical carcinoma\",pedaya$disease)] <- \"Adrenocortical carcinoma\"\n",
    "\n",
    "pedaya$diseasetype[grepl(\"choroid plexus\",pedaya$disease)] <- \"Choroid plexus carcinoma\"\n",
    "\n",
    "pedaya$diseasetype[grepl(\"dysembryoplastic neuroepithelial tumor\",pedaya$disease)] <- \"Dysembryoplastic neuroepithelial tumor\"\n",
    "\n",
    "pedaya$diseasetype[grepl(\"ependymoma\",pedaya$disease)] <- \"Ependymoma\"\n",
    "#Includes ganglioglima and gliomatosis cerebri\n",
    "pedaya$diseasetype[grepl(\"glioma\",pedaya$disease)] <- \"Glioma\"\n",
    "pedaya$diseasetype[grepl(\"glioblastoma multiforme\",pedaya$disease)] <- \"Glioblastoma multiforme\"\n",
    "\n",
    "pedaya$diseasetype[grepl(\"hepatoblastoma\",pedaya$disease)] <- \"Hepatoblastoma\"\n",
    "#Includes fibrolamellar HCC\n",
    "pedaya$diseasetype[grepl(\"hepatocellular carcinoma\",pedaya$disease)] <- \"Hepatocellular carcinoma\"\n",
    "\n",
    "pedaya$diseasetype[grepl(\"medulloblastoma\",pedaya$disease)] <- \"Medulloblastoma\"\n",
    "pedaya$diseasetype[grepl(\"pheochromocytoma\",pedaya$disease)] <- \"Pheochromocytoma\"\n",
    "\n",
    "pedaya$diseasetype[grepl(\"thyroid carcinoma\",pedaya$disease)] <- \"Thyroid cancer\"\n",
    "pedaya$diseasetype[grepl(\"thymic carcinoma\",pedaya$disease)] <- \"Thyroid cancer\"\n",
    "\n",
    "#Includes uveal melanoma\n",
    "pedaya$diseasetype[grepl(\"skin cutaneous melanoma\",pedaya$disease)] <- \"Melanoma\"\n",
    "pedaya$diseasetype[grepl(\"melanoma\",pedaya$disease)] <- \"Melanoma\"\n",
    "\n",
    "pedaya$diseasetype[grepl(\"breast invasive carcinoma\",pedaya$disease)] <- \"Breast cancer\"\n",
    "pedaya$diseasetype[grepl(\"cervical & endocervical cancer\",pedaya$disease)] <- \"Cervical cancer\"\n",
    "\n",
    "pedaya$diseasetype[grepl(\"testicular germ cell tumor\",pedaya$disease)] <- \"Testicular germ cell tumor\"\n",
    "\n",
    "pedaya$diseasetype[grepl(\"supratentorial embryonal tumor NOS\",pedaya$disease)] <- \"Supratentorial embryonal tumor\""
   ]
  },
  {
   "cell_type": "code",
   "execution_count": 10,
   "metadata": {},
   "outputs": [],
   "source": [
    "pedaya$diseasetype[is.na(pedaya$diseasetype)] <- \"Others\""
   ]
  },
  {
   "cell_type": "code",
   "execution_count": 11,
   "metadata": {},
   "outputs": [
    {
     "data": {
      "text/plain": [
       "\n",
       "                                                 acinar cell carcinoma \n",
       "                                                                     1 \n",
       "                                                        acute leukemia \n",
       "                                                                     4 \n",
       "                                   acute leukemia of ambiguous lineage \n",
       "                                                                     2 \n",
       "                                          acute lymphoblastic leukemia \n",
       "                                                                   548 \n",
       "                                       acute megakaryoblastic leukemia \n",
       "                                                                    93 \n",
       "                                                acute myeloid leukemia \n",
       "                                                                   307 \n",
       "                                       acute undifferentiated leukemia \n",
       "                                                                     1 \n",
       "                                                adrenocortical adenoma \n",
       "                                                                     1 \n",
       "                                                 adrenocortical cancer \n",
       "                                                                     1 \n",
       "                                              adrenocortical carcinoma \n",
       "                                                                    33 \n",
       "                                             alveolar rhabdomyosarcoma \n",
       "                                                                    49 \n",
       "                                            alveolar soft part sarcoma \n",
       "                                                                     1 \n",
       "                                                          angiosarcoma \n",
       "                                                                     1 \n",
       "                                      atypical teratoid/rhabdoid tumor \n",
       "                                                                     4 \n",
       "                                             breast invasive carcinoma \n",
       "                                                                    10 \n",
       "                                        cervical & endocervical cancer \n",
       "                                                                    22 \n",
       "                                                    cholangiocarcinoma \n",
       "                                                                     2 \n",
       "                                              choroid plexus carcinoma \n",
       "                                                                    26 \n",
       "chronic myelogenous leukemia (S02), acute lymphoblastic leukemia (S01) \n",
       "                                                                     2 \n",
       "                                        clear cell carcinoma of cervix \n",
       "                                                                     1 \n",
       "                                                  colon adenocarcinoma \n",
       "                                                                     3 \n",
       "                                                     craniopharyngioma \n",
       "                                                                     1 \n",
       "                                   desmoplastic small round cell tumor \n",
       "                                                                     8 \n",
       "                                         diffuse large B-cell lymphoma \n",
       "                                                                     3 \n",
       "                                dysembryoplastic neuroepithelial tumor \n",
       "                                                                    13 \n",
       "                                            embryonal rhabdomyosarcoma \n",
       "                                                                    60 \n",
       "                            embryonal tumor with multilayered rosettes \n",
       "                                                                     2 \n",
       "                                           endometrial stromal sarcoma \n",
       "                                                                     1 \n",
       "                                                            ependymoma \n",
       "                                                                   101 \n",
       "                                      epithelioid hemangioendothelioma \n",
       "                                                                     1 \n",
       "                                                   epithelioid sarcoma \n",
       "                                                                     3 \n",
       "                                                  esophageal carcinoma \n",
       "                                                                     1 \n",
       "                                                         Ewing sarcoma \n",
       "                                                                    81 \n",
       "                                fibrolamellar hepatocellular carcinoma \n",
       "                                                                     6 \n",
       "                                                          fibromatosis \n",
       "                                                                     4 \n",
       "                                                   follicular neoplasm \n",
       "                                                                     1 \n",
       "                                                         ganglioglioma \n",
       "                                                                     1 \n",
       "                                        gastrointestinal stromal tumor \n",
       "                                                                     3 \n",
       "                                                       germ cell tumor \n",
       "                                                                     2 \n",
       "                                               glioblastoma multiforme \n",
       "                                                                    38 \n",
       "                                                                glioma \n",
       "                                                                   298 \n",
       "                                                   gliomatosis cerebri \n",
       "                                                                     1 \n",
       "                                   head & neck squamous cell carcinoma \n",
       "                                                                     7 \n",
       "                                                        hepatoblastoma \n",
       "                                                                    17 \n",
       "                                              hepatocellular carcinoma \n",
       "                                                                    17 \n",
       "                                                infantile fibrosarcoma \n",
       "                                                                     2 \n",
       "                                    inflammatory myofibroblastic tumor \n",
       "                                                                     4 \n",
       "                                 INI-deficient soft tissue sarcoma NOS \n",
       "                                                                     2 \n",
       "                                      juvenile myelomonocytic leukemia \n",
       "                                                                     4 \n",
       "                                                    kidney chromophobe \n",
       "                                                                     4 \n",
       "                                           kidney clear cell carcinoma \n",
       "                                                                     3 \n",
       "                                       kidney papillary cell carcinoma \n",
       "                                                                     2 \n",
       "                                                              leukemia \n",
       "                                                                     2 \n",
       "                                                     lipoblastomatosis \n",
       "                                                                     1 \n",
       "                                                   lung adenocarcinoma \n",
       "                                                                     1 \n",
       "                                                              lymphoma \n",
       "                                                                    22 \n",
       "                               malignant peripheral nerve sheath tumor \n",
       "                                                                     5 \n",
       "                                                       medulloblastoma \n",
       "                                                                   118 \n",
       "                                                              melanoma \n",
       "                                                                     7 \n",
       "                                       melanotic neuroectodermal tumor \n",
       "                                                                     1 \n",
       "                                                            meningioma \n",
       "                                                                     3 \n",
       "                                                          mesothelioma \n",
       "                                                                     1 \n",
       "                                                  myeloid neoplasm NOS \n",
       "                                                                     1 \n",
       "                                           myeloproliferative neoplasm \n",
       "                                                                     2 \n",
       "                                               myoepithelial carcinoma \n",
       "                                                                     3 \n",
       "                                                       myofibromatosis \n",
       "                                                                     2 \n",
       "                                              nasopharyngeal carcinoma \n",
       "                                                                     3 \n",
       "                      neoplasm (uncertain whether benign or malignant) \n",
       "                                                                     1 \n",
       "                                                         neuroblastoma \n",
       "                                                                   201 \n",
       "                                              neuroendocrine carcinoma \n",
       "                                                                     1 \n",
       "                                                          neurofibroma \n",
       "                                                                     2 \n",
       "                                              neurofibromatosis type 1 \n",
       "                                                                     1 \n",
       "                                                 NUT midline carcinoma \n",
       "                                                                     1 \n",
       "                                                          osteosarcoma \n",
       "                                                                   184 \n",
       "                                     ovarian serous cystadenocarcinoma \n",
       "                                                                     1 \n",
       "                                                                PEComa \n",
       "                                                                     1 \n",
       "                                      pheochromocytoma & paraganglioma \n",
       "                                                                    24 \n",
       "                                              pineal parenchymal tumor \n",
       "                                                                     1 \n",
       "                                        pleomorphic myxoid liposarcoma \n",
       "                                                                     1 \n",
       "                                              pleuropulmonary blastoma \n",
       "                                                                     1 \n",
       "                                                        retinoblastoma \n",
       "                                                                     2 \n",
       "                                                        rhabdoid tumor \n",
       "                                                                     2 \n",
       "                                                      rhabdomyosarcoma \n",
       "                                                                    54 \n",
       "                                    rosette forming glioneuronal tumor \n",
       "                                                                     1 \n",
       "                                                               sarcoma \n",
       "                                                                     5 \n",
       "                                   sclerosing epithelioid fibrosarcoma \n",
       "                                                                     1 \n",
       "                                   Sertoli-Leydig cell tumor, retiform \n",
       "                                                                     1 \n",
       "                                               skin cutaneous melanoma \n",
       "                                                                    21 \n",
       "                              spindle cell/sclerosing rhabdomyosarcoma \n",
       "                                                                     5 \n",
       "                                    supratentorial embryonal tumor NOS \n",
       "                                                                    19 \n",
       "                                                      synovial sarcoma \n",
       "                                                                    13 \n",
       "                                                              teratoma \n",
       "                                                                     1 \n",
       "                                            testicular germ cell tumor \n",
       "                                                                    62 \n",
       "                                                      thymic carcinoma \n",
       "                                                                     2 \n",
       "                                                               thymoma \n",
       "                                                                     2 \n",
       "                                                     thyroid carcinoma \n",
       "                                                                    71 \n",
       "                                      undifferentiated hepatic sarcoma \n",
       "                                                                     2 \n",
       "                                  undifferentiated pleomorphic sarcoma \n",
       "                                                                     4 \n",
       "                                          undifferentiated sarcoma NOS \n",
       "                                                                    12 \n",
       "                                 undifferentiated spindle cell sarcoma \n",
       "                                                                     2 \n",
       "                                                        uveal melanoma \n",
       "                                                                     1 \n",
       "                                                           wilms tumor \n",
       "                                                                   136 "
      ]
     },
     "metadata": {},
     "output_type": "display_data"
    }
   ],
   "source": [
    "table(pedaya$disease)"
   ]
  },
  {
   "cell_type": "code",
   "execution_count": 12,
   "metadata": {},
   "outputs": [],
   "source": [
    "pedaya_solid <- pedaya[ pedaya$diseasetype != \"Leukemia\",]"
   ]
  },
  {
   "cell_type": "code",
   "execution_count": 13,
   "metadata": {},
   "outputs": [
    {
     "data": {
      "text/html": [
       "<style>\n",
       ".list-inline {list-style: none; margin:0; padding: 0}\n",
       ".list-inline>li {display: inline-block}\n",
       ".list-inline>li:not(:last-child)::after {content: \"\\00b7\"; padding: 0 .5ex}\n",
       "</style>\n",
       "<ol class=list-inline><li>1851</li><li>10</li></ol>\n"
      ],
      "text/latex": [
       "\\begin{enumerate*}\n",
       "\\item 1851\n",
       "\\item 10\n",
       "\\end{enumerate*}\n"
      ],
      "text/markdown": [
       "1. 1851\n",
       "2. 10\n",
       "\n",
       "\n"
      ],
      "text/plain": [
       "[1] 1851   10"
      ]
     },
     "metadata": {},
     "output_type": "display_data"
    }
   ],
   "source": [
    "dim(pedaya_solid)"
   ]
  },
  {
   "cell_type": "code",
   "execution_count": 14,
   "metadata": {},
   "outputs": [],
   "source": [
    "write.csv(pedaya_solid, file = paste0(datapath, \"treehouse_metadata.csv\"))"
   ]
  },
  {
   "cell_type": "markdown",
   "metadata": {},
   "source": [
    "scp the metadata file to samwise ~/immpedcan/wgcna then on immpedcan/4timer2_th/. on samwise, open an R console:"
   ]
  },
  {
   "cell_type": "markdown",
   "metadata": {},
   "source": [
    "write.csv(tmp_mat_orginal[,1:100], file = \"~/immpedcan/4timer2_th/input_timer2_originaltpmvalues100.csv\", quote = F)\n",
    "write.csv(tmp_mat_orginal[,101:200], file = \"~/immpedcan/4timer2_th/input_timer2_originaltpmvalues200.csv\", quote = F)\n",
    "write.csv(tmp_mat_orginal[,201:300], file = \"~/immpedcan/4timer2_th/input_timer2_originaltpmvalues300.csv\", quote = F)\n",
    "write.csv(tmp_mat_orginal[,301:400], file = \"~/immpedcan/4timer2_th/input_timer2_originaltpmvalues400.csv\", quote = F)\n",
    "write.csv(tmp_mat_orginal[,401:500], file = \"~/immpedcan/4timer2_th/input_timer2_originaltpmvalues500.csv\", quote = F)\n",
    "write.csv(tmp_mat_orginal[,501:600], file = \"~/immpedcan/4timer2_th/input_timer2_originaltpmvalues600.csv\", quote = F)\n",
    "write.csv(tmp_mat_orginal[,601:700], file = \"~/immpedcan/4timer2_th/input_timer2_originaltpmvalues700.csv\", quote = F)\n",
    "write.csv(tmp_mat_orginal[,701:800], file = \"~/immpedcan/4timer2_th/input_timer2_originaltpmvalues800.csv\", quote = F)\n",
    "write.csv(tmp_mat_orginal[,801:900], file = \"~/immpedcan/4timer2_th/input_timer2_originaltpmvalues900.csv\", quote = F)\n",
    "write.csv(tmp_mat_orginal[,901:1000], file = \"~/immpedcan/4timer2_th/input_timer2_originaltpmvalues1000.csv\", quote = F)\n",
    "write.csv(tmp_mat_orginal[,1001:1100], file = \"~/immpedcan/4timer2_th/input_timer2_originaltpmvalues1100.csv\", quote = F)\n",
    "write.csv(tmp_mat_orginal[,1101:1200], file = \"~/immpedcan/4timer2_th/input_timer2_originaltpmvalues1200.csv\", quote = F)\n",
    "write.csv(tmp_mat_orginal[,1201:1300], file = \"~/immpedcan/4timer2_th/input_timer2_originaltpmvalues1300.csv\", quote = F)\n",
    "write.csv(tmp_mat_orginal[,1301:1400], file = \"~/immpedcan/4timer2_th/input_timer2_originaltpmvalues1400.csv\", quote = F)\n",
    "write.csv(tmp_mat_orginal[,1401:1500], file = \"~/immpedcan/4timer2_th/input_timer2_originaltpmvalues1500.csv\", quote = F)\n",
    "write.csv(tmp_mat_orginal[,1501:1600], file = \"~/immpedcan/4timer2_th/input_timer2_originaltpmvalues1600.csv\", quote = F)\n",
    "write.csv(tmp_mat_orginal[,1601:1700], file = \"~/immpedcan/4timer2_th/input_timer2_originaltpmvalues1700.csv\", quote = F)\n",
    "write.csv(tmp_mat_orginal[,1701:1851], file = \"~/immpedcan/4timer2_th/input_timer2_originaltpmvalues1851.csv\", quote = F)\n",
    "\n"
   ]
  }
 ],
 "metadata": {
  "kernelspec": {
   "display_name": "R 4.0",
   "language": "R",
   "name": "ir40"
  },
  "language_info": {
   "codemirror_mode": "r",
   "file_extension": ".r",
   "mimetype": "text/x-r-source",
   "name": "R",
   "pygments_lexer": "r",
   "version": "4.0.3"
  },
  "toc": {
   "base_numbering": 1,
   "nav_menu": {},
   "number_sections": false,
   "sideBar": true,
   "skip_h1_title": false,
   "title_cell": "Table of Contents",
   "title_sidebar": "Contents",
   "toc_cell": true,
   "toc_position": {
    "height": "988.889px",
    "left": "31px",
    "top": "132.052px",
    "width": "291.771px"
   },
   "toc_section_display": true,
   "toc_window_display": true
  }
 },
 "nbformat": 4,
 "nbformat_minor": 2
}
