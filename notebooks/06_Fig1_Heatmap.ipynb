{
 "cells": [
  {
   "cell_type": "markdown",
   "metadata": {
    "toc": true
   },
   "source": [
    "<h1>Table of Contents<span class=\"tocSkip\"></span></h1>\n",
    "<div class=\"toc\"><ul class=\"toc-item\"><li><span><a href=\"#Dependencies\" data-toc-modified-id=\"Dependencies-1\">Dependencies</a></span></li><li><span><a href=\"#Functions\" data-toc-modified-id=\"Functions-2\">Functions</a></span></li><li><span><a href=\"#Paths\" data-toc-modified-id=\"Paths-3\">Paths</a></span></li><li><span><a href=\"#Main\" data-toc-modified-id=\"Main-4\">Main</a></span><ul class=\"toc-item\"><li><ul class=\"toc-item\"><li><span><a href=\"#PFS-annotation\" data-toc-modified-id=\"PFS-annotation-4.0.1\">PFS annotation</a></span></li><li><span><a href=\"#IHC-annotations\" data-toc-modified-id=\"IHC-annotations-4.0.2\">IHC annotations</a></span></li><li><span><a href=\"#Diversity-annotation\" data-toc-modified-id=\"Diversity-annotation-4.0.3\">Diversity annotation</a></span></li><li><span><a href=\"#TMB-annotation\" data-toc-modified-id=\"TMB-annotation-4.0.4\">TMB annotation</a></span></li><li><span><a href=\"#Age-annotation\" data-toc-modified-id=\"Age-annotation-4.0.5\">Age annotation</a></span></li><li><span><a href=\"#Clinical\" data-toc-modified-id=\"Clinical-4.0.6\">Clinical</a></span></li></ul></li></ul></li></ul></div>"
   ]
  },
  {
   "cell_type": "markdown",
   "metadata": {},
   "source": [
    "# Dependencies"
   ]
  },
  {
   "cell_type": "markdown",
   "metadata": {},
   "source": [
    "# Functions"
   ]
  },
  {
   "cell_type": "code",
   "execution_count": 1,
   "metadata": {},
   "outputs": [
    {
     "name": "stderr",
     "output_type": "stream",
     "text": [
      "Loading required package: grid\n",
      "\n",
      "========================================\n",
      "ComplexHeatmap version 2.6.2\n",
      "Bioconductor page: http://bioconductor.org/packages/ComplexHeatmap/\n",
      "Github page: https://github.com/jokergoo/ComplexHeatmap\n",
      "Documentation: http://jokergoo.github.io/ComplexHeatmap-reference\n",
      "\n",
      "If you use it in published research, please cite:\n",
      "Gu, Z. Complex heatmaps reveal patterns and correlations in multidimensional \n",
      "  genomic data. Bioinformatics 2016.\n",
      "\n",
      "This message can be suppressed by:\n",
      "  suppressPackageStartupMessages(library(ComplexHeatmap))\n",
      "========================================\n",
      "\n",
      "\n",
      "========================================\n",
      "circlize version 0.4.12\n",
      "CRAN page: https://cran.r-project.org/package=circlize\n",
      "Github page: https://github.com/jokergoo/circlize\n",
      "Documentation: https://jokergoo.github.io/circlize_book/book/\n",
      "\n",
      "If you use it in published research, please cite:\n",
      "Gu, Z. circlize implements and enhances circular visualization\n",
      "  in R. Bioinformatics 2014.\n",
      "\n",
      "This message can be suppressed by:\n",
      "  suppressPackageStartupMessages(library(circlize))\n",
      "========================================\n",
      "\n",
      "\n"
     ]
    }
   ],
   "source": [
    "source(\"~/git/iMATRIX-Atezo_Biomarker/R/ggplot2_theme.R\")\n",
    "source(\"~/git/iMATRIX-Atezo_Biomarker/R/Heatmap_functions.R\")"
   ]
  },
  {
   "cell_type": "markdown",
   "metadata": {},
   "source": [
    "# Paths"
   ]
  },
  {
   "cell_type": "code",
   "execution_count": 2,
   "metadata": {},
   "outputs": [],
   "source": [
    "datapath <- \"/Users/anabbi/OneDrive - UHN/Documents/INDICATE/Data/\"\n",
    "plotpath <- \"/Users/anabbi/OneDrive - UHN/Documents/INDICATE/Plots/\""
   ]
  },
  {
   "cell_type": "markdown",
   "metadata": {},
   "source": [
    "# Main"
   ]
  },
  {
   "cell_type": "code",
   "execution_count": 3,
   "metadata": {},
   "outputs": [],
   "source": [
    "metadata <- read.csv(file.path(datapath,\"IND_estimate_metadata_IHC_trb_tmb.csv\"),header = T, stringsAsFactors = F, \n",
    "                     check.names = F)"
   ]
  },
  {
   "cell_type": "code",
   "execution_count": 4,
   "metadata": {},
   "outputs": [
    {
     "data": {
      "text/plain": [
       "\n",
       "     EWS Lymphoma      NBL       OS   Others      RMS       RT     SARC \n",
       "       6       11        9        8        8        8        4        6 \n",
       "   WILMS \n",
       "       6 "
      ]
     },
     "metadata": {},
     "output_type": "display_data"
    }
   ],
   "source": [
    "table(metadata$disease_group)"
   ]
  },
  {
   "cell_type": "markdown",
   "metadata": {},
   "source": [
    "Order by treatment duration then by cancer group"
   ]
  },
  {
   "cell_type": "code",
   "execution_count": 5,
   "metadata": {},
   "outputs": [],
   "source": [
    "metadata <- metadata[order(metadata$cancer, metadata$TRTDUR), ]"
   ]
  },
  {
   "cell_type": "markdown",
   "metadata": {},
   "source": [
    "### PFS annotation"
   ]
  },
  {
   "cell_type": "code",
   "execution_count": 6,
   "metadata": {},
   "outputs": [],
   "source": [
    "PFS_ha = HeatmapAnnotation(`Treatment duration` = anno_barplot(metadata$TRTDUR), height = unit(3, \"cm\"),\n",
    "                          annotation_name_gp = gpar(fontsize = 20))"
   ]
  },
  {
   "cell_type": "markdown",
   "metadata": {},
   "source": [
    "### IHC annotations"
   ]
  },
  {
   "cell_type": "markdown",
   "metadata": {},
   "source": [
    "Make a matrix for IHC"
   ]
  },
  {
   "cell_type": "code",
   "execution_count": 7,
   "metadata": {},
   "outputs": [],
   "source": [
    "ihc_mat <- metadata[, c(\"IHC_CD8\", \"IHC_CD3\",\"IHC_TINFLICP\", \"IHC_STUILYPC\", \"IHC_PDL1TC\", \"IHC_PDL1IC\")]\n",
    "\n",
    "rownames(ihc_mat) <- metadata$sample_id"
   ]
  },
  {
   "cell_type": "code",
   "execution_count": 8,
   "metadata": {},
   "outputs": [],
   "source": [
    "ihc_mat[is.na(ihc_mat)] <- NA\n",
    "ihc_mat[ihc_mat == \"\"] <- NA\n",
    "ihc_mat[ihc_mat == \"<1\"] <- 0.5"
   ]
  },
  {
   "cell_type": "code",
   "execution_count": 9,
   "metadata": {},
   "outputs": [],
   "source": [
    "ihc_mat$IHC_CD8 <- as.numeric(ihc_mat$IHC_CD8)\n",
    "ihc_mat$IHC_CD3 <- as.numeric(ihc_mat$IHC_CD3)\n",
    "ihc_mat$IHC_TINFLICP <- as.numeric(ihc_mat$IHC_TINFLICP)\n",
    "ihc_mat$IHC_STUILYPC <- as.numeric(ihc_mat$IHC_STUILYPC)\n",
    "ihc_mat$IHC_PDL1TC <- as.numeric(ihc_mat$IHC_PDL1TC)\n",
    "ihc_mat$IHC_PDL1IC <- as.numeric(ihc_mat$IHC_PDL1IC)"
   ]
  },
  {
   "cell_type": "code",
   "execution_count": 10,
   "metadata": {},
   "outputs": [],
   "source": [
    "ihc_mat <- as.matrix(ihc_mat)\n",
    "mode(ihc_mat) <- \"numeric\""
   ]
  },
  {
   "cell_type": "code",
   "execution_count": 11,
   "metadata": {},
   "outputs": [
    {
     "data": {
      "text/html": [
       "<table class=\"dataframe\">\n",
       "<caption>A matrix: 6 × 6 of type dbl</caption>\n",
       "<thead>\n",
       "\t<tr><th></th><th scope=col>IHC_CD8</th><th scope=col>IHC_CD3</th><th scope=col>IHC_TINFLICP</th><th scope=col>IHC_STUILYPC</th><th scope=col>IHC_PDL1TC</th><th scope=col>IHC_PDL1IC</th></tr>\n",
       "</thead>\n",
       "<tbody>\n",
       "\t<tr><th scope=row>06520060B0022R</th><td>2.65</td><td> 0.0022</td><td> 3</td><td> 5</td><td> 13</td><td>15.0</td></tr>\n",
       "\t<tr><th scope=row>06520097B0021R</th><td>3.33</td><td> 4.1700</td><td> 1</td><td> 2</td><td>  0</td><td> 0.5</td></tr>\n",
       "\t<tr><th scope=row>06520100B0017R</th><td>2.59</td><td>40.7700</td><td> 5</td><td>20</td><td> 45</td><td>55.0</td></tr>\n",
       "\t<tr><th scope=row>06520033C0018R</th><td>3.18</td><td>21.3300</td><td>70</td><td>60</td><td>100</td><td>15.0</td></tr>\n",
       "\t<tr><th scope=row>06520003C0012R</th><td>0.93</td><td>13.7300</td><td> 0</td><td> 0</td><td> 50</td><td>60.0</td></tr>\n",
       "\t<tr><th scope=row>06520099B0017R</th><td>3.85</td><td>69.1000</td><td>40</td><td>40</td><td> 95</td><td>20.0</td></tr>\n",
       "</tbody>\n",
       "</table>\n"
      ],
      "text/latex": [
       "A matrix: 6 × 6 of type dbl\n",
       "\\begin{tabular}{r|llllll}\n",
       "  & IHC\\_CD8 & IHC\\_CD3 & IHC\\_TINFLICP & IHC\\_STUILYPC & IHC\\_PDL1TC & IHC\\_PDL1IC\\\\\n",
       "\\hline\n",
       "\t06520060B0022R & 2.65 &  0.0022 &  3 &  5 &  13 & 15.0\\\\\n",
       "\t06520097B0021R & 3.33 &  4.1700 &  1 &  2 &   0 &  0.5\\\\\n",
       "\t06520100B0017R & 2.59 & 40.7700 &  5 & 20 &  45 & 55.0\\\\\n",
       "\t06520033C0018R & 3.18 & 21.3300 & 70 & 60 & 100 & 15.0\\\\\n",
       "\t06520003C0012R & 0.93 & 13.7300 &  0 &  0 &  50 & 60.0\\\\\n",
       "\t06520099B0017R & 3.85 & 69.1000 & 40 & 40 &  95 & 20.0\\\\\n",
       "\\end{tabular}\n"
      ],
      "text/markdown": [
       "\n",
       "A matrix: 6 × 6 of type dbl\n",
       "\n",
       "| <!--/--> | IHC_CD8 | IHC_CD3 | IHC_TINFLICP | IHC_STUILYPC | IHC_PDL1TC | IHC_PDL1IC |\n",
       "|---|---|---|---|---|---|---|\n",
       "| 06520060B0022R | 2.65 |  0.0022 |  3 |  5 |  13 | 15.0 |\n",
       "| 06520097B0021R | 3.33 |  4.1700 |  1 |  2 |   0 |  0.5 |\n",
       "| 06520100B0017R | 2.59 | 40.7700 |  5 | 20 |  45 | 55.0 |\n",
       "| 06520033C0018R | 3.18 | 21.3300 | 70 | 60 | 100 | 15.0 |\n",
       "| 06520003C0012R | 0.93 | 13.7300 |  0 |  0 |  50 | 60.0 |\n",
       "| 06520099B0017R | 3.85 | 69.1000 | 40 | 40 |  95 | 20.0 |\n",
       "\n"
      ],
      "text/plain": [
       "               IHC_CD8 IHC_CD3 IHC_TINFLICP IHC_STUILYPC IHC_PDL1TC IHC_PDL1IC\n",
       "06520060B0022R 2.65     0.0022  3            5            13        15.0      \n",
       "06520097B0021R 3.33     4.1700  1            2             0         0.5      \n",
       "06520100B0017R 2.59    40.7700  5           20            45        55.0      \n",
       "06520033C0018R 3.18    21.3300 70           60           100        15.0      \n",
       "06520003C0012R 0.93    13.7300  0            0            50        60.0      \n",
       "06520099B0017R 3.85    69.1000 40           40            95        20.0      "
      ]
     },
     "metadata": {},
     "output_type": "display_data"
    }
   ],
   "source": [
    "head(ihc_mat)"
   ]
  },
  {
   "cell_type": "code",
   "execution_count": 12,
   "metadata": {},
   "outputs": [],
   "source": [
    "CD8_ha = HeatmapAnnotation(`%CD8+` = anno_barplot(ihc_mat[,1]), height = unit(3, \"cm\"),\n",
    "                           annotation_name_gp = gpar(fontsize = 20))\n",
    "\n",
    "CD3_ha = HeatmapAnnotation(`%CD3+` = anno_barplot(ihc_mat[,2]), height = unit(3, \"cm\"),\n",
    "                           annotation_name_gp = gpar(fontsize = 20))\n",
    "\n",
    "PDL1_TC_ha = HeatmapAnnotation(`%PDL1+ in\\n tumour cells` = anno_barplot(ihc_mat[,5]), height = unit(3, \"cm\"),\n",
    "                               annotation_name_gp = gpar(fontsize = 20))\n",
    "\n",
    "PDL1_IC_ha = HeatmapAnnotation(`%PDL1+ in\\n immune cells` = anno_barplot(ihc_mat[,6]), height = unit(3, \"cm\"),\n",
    "                               annotation_name_gp = gpar(fontsize = 20))"
   ]
  },
  {
   "cell_type": "markdown",
   "metadata": {},
   "source": [
    "### Diversity annotation"
   ]
  },
  {
   "cell_type": "code",
   "execution_count": 13,
   "metadata": {},
   "outputs": [],
   "source": [
    "Div_ha = HeatmapAnnotation(`TRb diversity` = anno_barplot(log10(metadata$observed_Shannon), height = unit(3, \"cm\"),\n",
    "                                                          axis_param = list(at = c(0,1,2,3),\n",
    "                                                                            labels = c(\"1\", \"10\", \"100\", \"1000\"))),\n",
    "                           annotation_name_gp = gpar(fontsize = 20))"
   ]
  },
  {
   "cell_type": "markdown",
   "metadata": {},
   "source": [
    "### TMB annotation"
   ]
  },
  {
   "cell_type": "code",
   "execution_count": 14,
   "metadata": {},
   "outputs": [],
   "source": [
    "#recode 0 to 0.01 for log10 transformation\n",
    "metadata$TMB <- NA\n",
    "metadata$TMB <- as.numeric(metadata$TMB_Score)\n",
    "metadata$TMB[metadata$TMB == 0] <- 0.09"
   ]
  },
  {
   "cell_type": "code",
   "execution_count": 15,
   "metadata": {},
   "outputs": [],
   "source": [
    "TMB_ha = HeatmapAnnotation(`Tumour mutation\\nburden` = anno_points(log10(metadata$TMB), height = unit(3,\"cm\"),\n",
    "                                                                   axis_param = list(at = c(-1,0, 1, 2),\n",
    "                                                                                     labels = c(\"<0.1\", \"1\", \"10\", \"100\"))),\n",
    "                           annotation_name_gp = gpar(fontsize = 20))"
   ]
  },
  {
   "cell_type": "markdown",
   "metadata": {},
   "source": [
    "### Age annotation"
   ]
  },
  {
   "cell_type": "code",
   "execution_count": 16,
   "metadata": {},
   "outputs": [],
   "source": [
    "age_ha = HeatmapAnnotation(Age = anno_barplot(metadata$AGE, height = unit(2, \"cm\")),\n",
    "                           annotation_name_gp = gpar(fontsize = 20))"
   ]
  },
  {
   "cell_type": "markdown",
   "metadata": {},
   "source": [
    "### Clinical"
   ]
  },
  {
   "cell_type": "code",
   "execution_count": 17,
   "metadata": {},
   "outputs": [],
   "source": [
    "mycohort <- metadata$disease_group\n",
    "names(mycohort) <- metadata$sample_id\n",
    "mycohorts <- t(as.matrix(mycohort))\n",
    "rownames(mycohorts) <- \"Cohort\"\n",
    "\n",
    "cohorts_hm <- cohorts_hm.fx(mycohorts)"
   ]
  },
  {
   "cell_type": "code",
   "execution_count": 18,
   "metadata": {},
   "outputs": [],
   "source": [
    "myresponse <- metadata$AVALC\n",
    "names(myresponse) <- metadata$sample_id\n",
    "myresponse <- t(as.matrix(myresponse))\n",
    "rownames(myresponse) <- \"Objective response\"\n",
    "\n",
    "response_hm <- response_hm.fx(myresponse)"
   ]
  },
  {
   "cell_type": "code",
   "execution_count": 19,
   "metadata": {},
   "outputs": [],
   "source": [
    "mycancer <- metadata$cancer\n",
    "names(mycancer) <- metadata$sample_id\n",
    "mycancer <- t(as.matrix(mycancer))\n",
    "rownames(mycancer) <- \"Cancer\"\n",
    "\n",
    "cancer_hm <- cancer_hm.fx(mycancer)"
   ]
  },
  {
   "cell_type": "code",
   "execution_count": 20,
   "metadata": {},
   "outputs": [],
   "source": [
    "metadata$origin <- NA\n",
    "metadata$origin[ metadata$sample_origin == \"Lymph node\"] <- \"Lymph node\"\n",
    "metadata$origin[ metadata$sample_origin != \"Lymph node\"] <- \"Other tissue\""
   ]
  },
  {
   "cell_type": "code",
   "execution_count": 21,
   "metadata": {},
   "outputs": [],
   "source": [
    "myorigin <- metadata$origin\n",
    "names(myorigin) <- metadata$sample_id\n",
    "myorigin <- t(as.matrix(myorigin))\n",
    "rownames(myorigin) <- \"Lymph node/other tissue\"\n",
    "\n",
    "origin_hm <- origin_hm.fx(myorigin)"
   ]
  },
  {
   "cell_type": "code",
   "execution_count": 22,
   "metadata": {},
   "outputs": [],
   "source": [
    "mytype <- metadata$tumor_type\n",
    "names(mytype) <- metadata$sample_id\n",
    "mytype <- t(as.matrix(mytype))\n",
    "rownames(mytype) <- \"Tumour type\"\n",
    "\n",
    "type_hm <- type_hm.fx(mytype)"
   ]
  },
  {
   "cell_type": "code",
   "execution_count": 23,
   "metadata": {},
   "outputs": [],
   "source": [
    "heatmaps <- PFS_ha %v% response_hm %v% origin_hm %v%\n",
    "CD8_ha %v% CD3_ha %v% PDL1_IC_ha %v% PDL1_TC_ha %v% TMB_ha %v% Div_ha "
   ]
  },
  {
   "cell_type": "code",
   "execution_count": 24,
   "metadata": {},
   "outputs": [
    {
     "data": {
      "image/png": "[encoded data removed]",
      "text/plain": [
       "plot without title"
      ]
     },
     "metadata": {
      "image/png": {
       "height": 420,
       "width": 420
      }
     },
     "output_type": "display_data"
    }
   ],
   "source": [
    "draw(heatmaps)"
   ]
  },
  {
   "cell_type": "code",
   "execution_count": 25,
   "metadata": {},
   "outputs": [
    {
     "data": {
      "text/html": [
       "<strong>pdf:</strong> 2"
      ],
      "text/latex": [
       "\\textbf{pdf:} 2"
      ],
      "text/markdown": [
       "**pdf:** 2"
      ],
      "text/plain": [
       "pdf \n",
       "  2 "
      ]
     },
     "metadata": {},
     "output_type": "display_data"
    }
   ],
   "source": [
    "pdf(paste0(plotpath, \"IND_heatmap.pdf\"),\n",
    "   width = 10, height = 20,\n",
    "   useDingbats = FALSE)\n",
    "\n",
    "draw(heatmaps,heatmap_legend_side = \"bottom\")\n",
    "\n",
    "dev.off()"
   ]
  },
  {
   "cell_type": "code",
   "execution_count": null,
   "metadata": {},
   "outputs": [],
   "source": []
  }
 ],
 "metadata": {
  "kernelspec": {
   "display_name": "R 4.0",
   "language": "R",
   "name": "ir40"
  },
  "language_info": {
   "codemirror_mode": "r",
   "file_extension": ".r",
   "mimetype": "text/x-r-source",
   "name": "R",
   "pygments_lexer": "r",
   "version": "4.0.3"
  },
  "toc": {
   "base_numbering": 1,
   "nav_menu": {},
   "number_sections": false,
   "sideBar": true,
   "skip_h1_title": false,
   "title_cell": "Table of Contents",
   "title_sidebar": "Contents",
   "toc_cell": true,
   "toc_position": {
    "height": "calc(100% - 180px)",
    "left": "10px",
    "top": "150px",
    "width": "165px"
   },
   "toc_section_display": true,
   "toc_window_display": true
  }
 },
 "nbformat": 4,
 "nbformat_minor": 2
}
