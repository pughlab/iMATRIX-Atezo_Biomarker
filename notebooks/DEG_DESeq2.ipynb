{
 "cells": [
  {
   "cell_type": "markdown",
   "metadata": {
    "toc": true
   },
   "source": [
    "<h1>Table of Contents<span class=\"tocSkip\"></span></h1>\n",
    "<div class=\"toc\"><ul class=\"toc-item\"><li><span><a href=\"#Dependenices\" data-toc-modified-id=\"Dependenices-1\">Dependenices</a></span></li><li><span><a href=\"#Functions\" data-toc-modified-id=\"Functions-2\">Functions</a></span></li><li><span><a href=\"#Paths\" data-toc-modified-id=\"Paths-3\">Paths</a></span></li><li><span><a href=\"#Main\" data-toc-modified-id=\"Main-4\">Main</a></span></li><li><span><a href=\"#Load-txi\" data-toc-modified-id=\"Load-txi-5\">Load txi</a></span></li><li><span><a href=\"#DEG-in-all-samples\" data-toc-modified-id=\"DEG-in-all-samples-6\">DEG in all samples</a></span></li></ul></div>"
   ]
  },
  {
   "cell_type": "markdown",
   "metadata": {},
   "source": [
    "# Dependenices"
   ]
  },
  {
   "cell_type": "code",
   "execution_count": 1,
   "metadata": {
    "scrolled": true
   },
   "outputs": [
    {
     "name": "stderr",
     "output_type": "stream",
     "text": [
      "Loading required package: S4Vectors\n",
      "\n",
      "Loading required package: stats4\n",
      "\n",
      "Loading required package: BiocGenerics\n",
      "\n",
      "Warning message:\n",
      "“package ‘BiocGenerics’ was built under R version 4.0.5”\n",
      "Loading required package: parallel\n",
      "\n",
      "\n",
      "Attaching package: ‘BiocGenerics’\n",
      "\n",
      "\n",
      "The following objects are masked from ‘package:parallel’:\n",
      "\n",
      "    clusterApply, clusterApplyLB, clusterCall, clusterEvalQ,\n",
      "    clusterExport, clusterMap, parApply, parCapply, parLapply,\n",
      "    parLapplyLB, parRapply, parSapply, parSapplyLB\n",
      "\n",
      "\n",
      "The following objects are masked from ‘package:stats’:\n",
      "\n",
      "    IQR, mad, sd, var, xtabs\n",
      "\n",
      "\n",
      "The following objects are masked from ‘package:base’:\n",
      "\n",
      "    anyDuplicated, append, as.data.frame, basename, cbind, colnames,\n",
      "    dirname, do.call, duplicated, eval, evalq, Filter, Find, get, grep,\n",
      "    grepl, intersect, is.unsorted, lapply, Map, mapply, match, mget,\n",
      "    order, paste, pmax, pmax.int, pmin, pmin.int, Position, rank,\n",
      "    rbind, Reduce, rownames, sapply, setdiff, sort, table, tapply,\n",
      "    union, unique, unsplit, which.max, which.min\n",
      "\n",
      "\n",
      "\n",
      "Attaching package: ‘S4Vectors’\n",
      "\n",
      "\n",
      "The following object is masked from ‘package:base’:\n",
      "\n",
      "    expand.grid\n",
      "\n",
      "\n",
      "Loading required package: IRanges\n",
      "\n",
      "Loading required package: GenomicRanges\n",
      "\n",
      "Loading required package: GenomeInfoDb\n",
      "\n",
      "Warning message:\n",
      "“package ‘GenomeInfoDb’ was built under R version 4.0.5”\n",
      "Loading required package: SummarizedExperiment\n",
      "\n",
      "Loading required package: MatrixGenerics\n",
      "\n",
      "Loading required package: matrixStats\n",
      "\n",
      "\n",
      "Attaching package: ‘MatrixGenerics’\n",
      "\n",
      "\n",
      "The following objects are masked from ‘package:matrixStats’:\n",
      "\n",
      "    colAlls, colAnyNAs, colAnys, colAvgsPerRowSet, colCollapse,\n",
      "    colCounts, colCummaxs, colCummins, colCumprods, colCumsums,\n",
      "    colDiffs, colIQRDiffs, colIQRs, colLogSumExps, colMadDiffs,\n",
      "    colMads, colMaxs, colMeans2, colMedians, colMins, colOrderStats,\n",
      "    colProds, colQuantiles, colRanges, colRanks, colSdDiffs, colSds,\n",
      "    colSums2, colTabulates, colVarDiffs, colVars, colWeightedMads,\n",
      "    colWeightedMeans, colWeightedMedians, colWeightedSds,\n",
      "    colWeightedVars, rowAlls, rowAnyNAs, rowAnys, rowAvgsPerColSet,\n",
      "    rowCollapse, rowCounts, rowCummaxs, rowCummins, rowCumprods,\n",
      "    rowCumsums, rowDiffs, rowIQRDiffs, rowIQRs, rowLogSumExps,\n",
      "    rowMadDiffs, rowMads, rowMaxs, rowMeans2, rowMedians, rowMins,\n",
      "    rowOrderStats, rowProds, rowQuantiles, rowRanges, rowRanks,\n",
      "    rowSdDiffs, rowSds, rowSums2, rowTabulates, rowVarDiffs, rowVars,\n",
      "    rowWeightedMads, rowWeightedMeans, rowWeightedMedians,\n",
      "    rowWeightedSds, rowWeightedVars\n",
      "\n",
      "\n",
      "Loading required package: Biobase\n",
      "\n",
      "Welcome to Bioconductor\n",
      "\n",
      "    Vignettes contain introductory material; view with\n",
      "    'browseVignettes()'. To cite Bioconductor, see\n",
      "    'citation(\"Biobase\")', and for packages 'citation(\"pkgname\")'.\n",
      "\n",
      "\n",
      "\n",
      "Attaching package: ‘Biobase’\n",
      "\n",
      "\n",
      "The following object is masked from ‘package:MatrixGenerics’:\n",
      "\n",
      "    rowMedians\n",
      "\n",
      "\n",
      "The following objects are masked from ‘package:matrixStats’:\n",
      "\n",
      "    anyMissing, rowMedians\n",
      "\n",
      "\n"
     ]
    }
   ],
   "source": [
    "library(DESeq2)\n",
    "library(tximport)"
   ]
  },
  {
   "cell_type": "markdown",
   "metadata": {},
   "source": [
    "# Functions"
   ]
  },
  {
   "cell_type": "markdown",
   "metadata": {},
   "source": [
    "# Paths"
   ]
  },
  {
   "cell_type": "code",
   "execution_count": 2,
   "metadata": {},
   "outputs": [],
   "source": [
    "manifestpath <- \"/Users/anabbi/OneDrive - UHN/Documents/INDICATE/Manifests/\"\n",
    "datapath <- \"/Users/anabbi/OneDrive - UHN/Documents/INDICATE/Data_1/\"\n",
    "plotpath <- \"/Users/anabbi/OneDrive - UHN/Documents/INDICATE/Plots/\""
   ]
  },
  {
   "cell_type": "code",
   "execution_count": 3,
   "metadata": {},
   "outputs": [],
   "source": [
    "h4hpath <- \"/Users/anabbi/Desktop/H4H/\""
   ]
  },
  {
   "cell_type": "code",
   "execution_count": 4,
   "metadata": {},
   "outputs": [],
   "source": [
    "gitpath <- \"/Users/anabbi/git/iMATRIX-Atezo_Biomarker/data/\""
   ]
  },
  {
   "cell_type": "markdown",
   "metadata": {},
   "source": [
    "# Main"
   ]
  },
  {
   "cell_type": "code",
   "execution_count": 5,
   "metadata": {},
   "outputs": [],
   "source": [
    "metadata <- read.csv(file.path(datapath,\"IND_metadata_IHC_trb_tmb.csv\"),header = T, \n",
    "                     stringsAsFactors = F, check.names = F)"
   ]
  },
  {
   "cell_type": "code",
   "execution_count": 6,
   "metadata": {},
   "outputs": [
    {
     "data": {
      "text/plain": [
       "\n",
       "     EWS Lymphoma      NBL       OS   Others      RMS       RT     SARC \n",
       "       6       11        9        8        8        8        4        6 \n",
       "   WILMS \n",
       "       6 "
      ]
     },
     "metadata": {},
     "output_type": "display_data"
    }
   ],
   "source": [
    "table(metadata$disease_group)"
   ]
  },
  {
   "cell_type": "code",
   "execution_count": 7,
   "metadata": {},
   "outputs": [],
   "source": [
    "metadata$response <- NA\n",
    "metadata$response[metadata$AVALC == \"PD\"] <- \"No\"\n",
    "metadata$response[metadata$AVALC == \"SD\"] <- \"Yes\"\n",
    "metadata$response[metadata$AVALC == \"PR\"] <- \"Yes\""
   ]
  },
  {
   "cell_type": "code",
   "execution_count": 8,
   "metadata": {},
   "outputs": [],
   "source": [
    "# only those with resposne data\n",
    "metadata <- metadata[!is.na(metadata$response),]"
   ]
  },
  {
   "cell_type": "code",
   "execution_count": 9,
   "metadata": {},
   "outputs": [
    {
     "data": {
      "text/html": [
       "<style>\n",
       ".list-inline {list-style: none; margin:0; padding: 0}\n",
       ".list-inline>li {display: inline-block}\n",
       ".list-inline>li:not(:last-child)::after {content: \"\\00b7\"; padding: 0 .5ex}\n",
       "</style>\n",
       "<ol class=list-inline><li>60</li><li>74</li></ol>\n"
      ],
      "text/latex": [
       "\\begin{enumerate*}\n",
       "\\item 60\n",
       "\\item 74\n",
       "\\end{enumerate*}\n"
      ],
      "text/markdown": [
       "1. 60\n",
       "2. 74\n",
       "\n",
       "\n"
      ],
      "text/plain": [
       "[1] 60 74"
      ]
     },
     "metadata": {},
     "output_type": "display_data"
    }
   ],
   "source": [
    "dim(metadata)"
   ]
  },
  {
   "cell_type": "code",
   "execution_count": 10,
   "metadata": {},
   "outputs": [
    {
     "data": {
      "text/plain": [
       "\n",
       " No Yes \n",
       " 49  11 "
      ]
     },
     "metadata": {},
     "output_type": "display_data"
    }
   ],
   "source": [
    "table(metadata$response)"
   ]
  },
  {
   "cell_type": "code",
   "execution_count": 20,
   "metadata": {},
   "outputs": [],
   "source": [
    "files <- list.files(paste0(h4hpath, \"INDICATE/src\"),pattern = \"genes\", full.names = T)"
   ]
  },
  {
   "cell_type": "code",
   "execution_count": 21,
   "metadata": {},
   "outputs": [],
   "source": [
    "names(files) <- gsub(\".*go29664_ngs_rna_targrna_rnaaccess_\", \"\", files)\n",
    "names(files) <- gsub(\".genes.results\", \"\", names(files))\n",
    "names(files) <- gsub(\"_20171125\", \"\", names(files))\n",
    "names(files) <- gsub(\"_20180223\", \"\", names(files))\n",
    "names(files) <- toupper( names(files))"
   ]
  },
  {
   "cell_type": "code",
   "execution_count": 22,
   "metadata": {},
   "outputs": [],
   "source": [
    "files <- files[names(files) %in% metadata$sample_id]"
   ]
  },
  {
   "cell_type": "code",
   "execution_count": 23,
   "metadata": {},
   "outputs": [
    {
     "data": {
      "text/html": [
       "60"
      ],
      "text/latex": [
       "60"
      ],
      "text/markdown": [
       "60"
      ],
      "text/plain": [
       "[1] 60"
      ]
     },
     "metadata": {},
     "output_type": "display_data"
    }
   ],
   "source": [
    "length(metadata$sample_id)"
   ]
  },
  {
   "cell_type": "markdown",
   "metadata": {},
   "source": [
    "Get a list of genes that are nonzero in at least half of samples"
   ]
  },
  {
   "cell_type": "code",
   "execution_count": 24,
   "metadata": {
    "scrolled": true
   },
   "outputs": [
    {
     "name": "stderr",
     "output_type": "stream",
     "text": [
      "reading in files with read_tsv\n",
      "\n",
      "1 \n",
      "2 \n",
      "3 \n",
      "4 \n",
      "5 \n",
      "6 \n",
      "7 \n",
      "8 \n",
      "9 \n",
      "10 \n",
      "11 \n",
      "12 \n",
      "13 \n",
      "14 \n",
      "15 \n",
      "16 \n",
      "17 \n",
      "18 \n",
      "19 \n",
      "20 \n",
      "21 \n",
      "22 \n",
      "23 \n",
      "24 \n",
      "25 \n",
      "26 \n",
      "27 \n",
      "28 \n",
      "29 \n",
      "30 \n",
      "31 \n",
      "32 \n",
      "33 \n",
      "34 \n",
      "35 \n",
      "36 \n",
      "37 \n",
      "38 \n",
      "39 \n",
      "40 \n",
      "41 \n",
      "42 \n",
      "43 \n",
      "44 \n",
      "45 \n",
      "46 \n",
      "47 \n",
      "48 \n",
      "49 \n",
      "50 \n",
      "51 \n",
      "52 \n",
      "53 \n",
      "54 \n",
      "55 \n",
      "56 \n",
      "57 \n",
      "58 \n",
      "59 \n",
      "60 \n"
     ]
    }
   ],
   "source": [
    "txi <- tximport(files[ names(files) %in% metadata$sample_id ], type = \"rsem\", txIn = FALSE, txOut = FALSE)\n",
    "txi$length[txi$length == 0] <- 1"
   ]
  },
  {
   "cell_type": "code",
   "execution_count": 25,
   "metadata": {},
   "outputs": [],
   "source": [
    "save(txi, file = paste0(datapath, \"DEG/txi.RData\"))"
   ]
  },
  {
   "cell_type": "markdown",
   "metadata": {},
   "source": [
    "# Load txi"
   ]
  },
  {
   "cell_type": "code",
   "execution_count": 26,
   "metadata": {},
   "outputs": [],
   "source": [
    "load(file = paste0(datapath, \"DEG/txi.RData\"))"
   ]
  },
  {
   "cell_type": "code",
   "execution_count": 27,
   "metadata": {},
   "outputs": [
    {
     "name": "stderr",
     "output_type": "stream",
     "text": [
      "Warning message in DESeqDataSet(se, design = design, ignoreRank):\n",
      "“some variables in design formula are characters, converting to factors”\n",
      "  the design formula contains one or more numeric variables with integer values,\n",
      "  specifying a model with increasing fold change for higher values.\n",
      "  did you mean for this to be a factor? if so, first convert\n",
      "  this variable to a factor using the factor() function\n",
      "\n",
      "  Note: levels of factors in the design contain characters other than\n",
      "  letters, numbers, '_' and '.'. It is recommended (but not required) to use\n",
      "  only letters, numbers, and delimiters '_' or '.', as these are safe characters\n",
      "  for column names in R. [This is a message, not a warning or an error]\n",
      "\n",
      "using counts and average transcript lengths from tximport\n",
      "\n"
     ]
    }
   ],
   "source": [
    "dds <- DESeqDataSetFromTximport(txi, colData = metadata, \n",
    "                                design = ~ EA.Sequencing.Batch + disease_group + sample_origin + response)\n",
    "dds$response <- relevel(dds$response, ref = \"No\")"
   ]
  },
  {
   "cell_type": "markdown",
   "metadata": {},
   "source": [
    "Remove low expressed genes"
   ]
  },
  {
   "cell_type": "code",
   "execution_count": 28,
   "metadata": {
    "scrolled": true
   },
   "outputs": [
    {
     "name": "stderr",
     "output_type": "stream",
     "text": [
      "  Note: levels of factors in the design contain characters other than\n",
      "  letters, numbers, '_' and '.'. It is recommended (but not required) to use\n",
      "  only letters, numbers, and delimiters '_' or '.', as these are safe characters\n",
      "  for column names in R. [This is a message, not a warning or an error]\n",
      "\n",
      "using 'avgTxLength' from assays(dds), correcting for library size\n",
      "\n"
     ]
    }
   ],
   "source": [
    "dds <- estimateSizeFactors(dds)"
   ]
  },
  {
   "cell_type": "code",
   "execution_count": 29,
   "metadata": {},
   "outputs": [],
   "source": [
    "mymat <- assay(dds)"
   ]
  },
  {
   "cell_type": "code",
   "execution_count": 30,
   "metadata": {},
   "outputs": [
    {
     "data": {
      "text/html": [
       "<style>\n",
       ".list-inline {list-style: none; margin:0; padding: 0}\n",
       ".list-inline>li {display: inline-block}\n",
       ".list-inline>li:not(:last-child)::after {content: \"\\00b7\"; padding: 0 .5ex}\n",
       "</style>\n",
       "<ol class=list-inline><li>60155</li><li>60</li></ol>\n"
      ],
      "text/latex": [
       "\\begin{enumerate*}\n",
       "\\item 60155\n",
       "\\item 60\n",
       "\\end{enumerate*}\n"
      ],
      "text/markdown": [
       "1. 60155\n",
       "2. 60\n",
       "\n",
       "\n"
      ],
      "text/plain": [
       "[1] 60155    60"
      ]
     },
     "metadata": {},
     "output_type": "display_data"
    }
   ],
   "source": [
    "dim(mymat)"
   ]
  },
  {
   "cell_type": "markdown",
   "metadata": {},
   "source": [
    "Keep genes that have more than 10 count in more than 10% (n = 6) samples"
   ]
  },
  {
   "cell_type": "code",
   "execution_count": 31,
   "metadata": {},
   "outputs": [],
   "source": [
    "sumgenes <- rowSums(mymat >= 10)\n",
    "keep <- sumgenes[ sumgenes > 6]"
   ]
  },
  {
   "cell_type": "code",
   "execution_count": 32,
   "metadata": {},
   "outputs": [],
   "source": [
    "mymat_s <- mymat[names(keep),]"
   ]
  },
  {
   "cell_type": "code",
   "execution_count": 33,
   "metadata": {},
   "outputs": [
    {
     "data": {
      "text/html": [
       "<style>\n",
       ".list-inline {list-style: none; margin:0; padding: 0}\n",
       ".list-inline>li {display: inline-block}\n",
       ".list-inline>li:not(:last-child)::after {content: \"\\00b7\"; padding: 0 .5ex}\n",
       "</style>\n",
       "<ol class=list-inline><li>60155</li><li>60</li></ol>\n"
      ],
      "text/latex": [
       "\\begin{enumerate*}\n",
       "\\item 60155\n",
       "\\item 60\n",
       "\\end{enumerate*}\n"
      ],
      "text/markdown": [
       "1. 60155\n",
       "2. 60\n",
       "\n",
       "\n"
      ],
      "text/plain": [
       "[1] 60155    60"
      ]
     },
     "metadata": {},
     "output_type": "display_data"
    }
   ],
   "source": [
    "dim(mymat)"
   ]
  },
  {
   "cell_type": "code",
   "execution_count": 34,
   "metadata": {},
   "outputs": [
    {
     "data": {
      "text/html": [
       "<style>\n",
       ".list-inline {list-style: none; margin:0; padding: 0}\n",
       ".list-inline>li {display: inline-block}\n",
       ".list-inline>li:not(:last-child)::after {content: \"\\00b7\"; padding: 0 .5ex}\n",
       "</style>\n",
       "<ol class=list-inline><li>22266</li><li>60</li></ol>\n"
      ],
      "text/latex": [
       "\\begin{enumerate*}\n",
       "\\item 22266\n",
       "\\item 60\n",
       "\\end{enumerate*}\n"
      ],
      "text/markdown": [
       "1. 22266\n",
       "2. 60\n",
       "\n",
       "\n"
      ],
      "text/plain": [
       "[1] 22266    60"
      ]
     },
     "metadata": {},
     "output_type": "display_data"
    }
   ],
   "source": [
    "dim(mymat_s)"
   ]
  },
  {
   "cell_type": "markdown",
   "metadata": {},
   "source": [
    "Remove log10(var) < 0"
   ]
  },
  {
   "cell_type": "code",
   "execution_count": 35,
   "metadata": {},
   "outputs": [],
   "source": [
    "mock <- dds[which(rownames(dds) %in% rownames(mymat_s)), ]"
   ]
  },
  {
   "cell_type": "code",
   "execution_count": 36,
   "metadata": {},
   "outputs": [
    {
     "data": {
      "text/html": [
       "<style>\n",
       ".list-inline {list-style: none; margin:0; padding: 0}\n",
       ".list-inline>li {display: inline-block}\n",
       ".list-inline>li:not(:last-child)::after {content: \"\\00b7\"; padding: 0 .5ex}\n",
       "</style>\n",
       "<ol class=list-inline><li>22266</li><li>60</li></ol>\n"
      ],
      "text/latex": [
       "\\begin{enumerate*}\n",
       "\\item 22266\n",
       "\\item 60\n",
       "\\end{enumerate*}\n"
      ],
      "text/markdown": [
       "1. 22266\n",
       "2. 60\n",
       "\n",
       "\n"
      ],
      "text/plain": [
       "[1] 22266    60"
      ]
     },
     "metadata": {},
     "output_type": "display_data"
    }
   ],
   "source": [
    "dim(mock)"
   ]
  },
  {
   "cell_type": "code",
   "execution_count": 37,
   "metadata": {},
   "outputs": [
    {
     "name": "stderr",
     "output_type": "stream",
     "text": [
      "  Note: levels of factors in the design contain characters other than\n",
      "  letters, numbers, '_' and '.'. It is recommended (but not required) to use\n",
      "  only letters, numbers, and delimiters '_' or '.', as these are safe characters\n",
      "  for column names in R. [This is a message, not a warning or an error]\n",
      "\n",
      "using 'avgTxLength' from assays(dds), correcting for library size\n",
      "\n"
     ]
    }
   ],
   "source": [
    "mock <- estimateSizeFactors(mock)"
   ]
  },
  {
   "cell_type": "code",
   "execution_count": 38,
   "metadata": {},
   "outputs": [],
   "source": [
    "normmat <- assay(mock,normalize=T)"
   ]
  },
  {
   "cell_type": "code",
   "execution_count": 39,
   "metadata": {
    "scrolled": false
   },
   "outputs": [
    {
     "data": {
      "image/png": "[encoded data removed]",
      "text/plain": [
       "Plot with title “Histogram of log10(vars)”"
      ]
     },
     "metadata": {
      "image/png": {
       "height": 420,
       "width": 420
      }
     },
     "output_type": "display_data"
    },
    {
     "data": {
      "image/png": "[encoded data removed]",
      "text/plain": [
       "Plot with title “Histogram of log10(madds)”"
      ]
     },
     "metadata": {
      "image/png": {
       "height": 420,
       "width": 420
      }
     },
     "output_type": "display_data"
    }
   ],
   "source": [
    "#var\n",
    "vars <- rowVars(normmat)\n",
    "names(vars) <- row.names(normmat)\n",
    "#mad\n",
    "madds <- rowMads(normmat)\n",
    "names(madds) <- row.names(normmat)\n",
    "#plot hist\n",
    "hist(log10(vars),100)\n",
    "hist(log10(madds),100)\n",
    "# which genes with log10(var) and log10(mad) < 0\n",
    "VarMad <- c(names(which(log10(vars) < 0)),names(which(log10(madds) <0)))"
   ]
  },
  {
   "cell_type": "code",
   "execution_count": 40,
   "metadata": {},
   "outputs": [],
   "source": [
    "dds <- dds[which(rownames(dds) %in% rownames(mymat_s)), ]"
   ]
  },
  {
   "cell_type": "code",
   "execution_count": 41,
   "metadata": {},
   "outputs": [
    {
     "data": {
      "text/html": [
       "<style>\n",
       ".list-inline {list-style: none; margin:0; padding: 0}\n",
       ".list-inline>li {display: inline-block}\n",
       ".list-inline>li:not(:last-child)::after {content: \"\\00b7\"; padding: 0 .5ex}\n",
       "</style>\n",
       "<ol class=list-inline><li>22266</li><li>60</li></ol>\n"
      ],
      "text/latex": [
       "\\begin{enumerate*}\n",
       "\\item 22266\n",
       "\\item 60\n",
       "\\end{enumerate*}\n"
      ],
      "text/markdown": [
       "1. 22266\n",
       "2. 60\n",
       "\n",
       "\n"
      ],
      "text/plain": [
       "[1] 22266    60"
      ]
     },
     "metadata": {},
     "output_type": "display_data"
    }
   ],
   "source": [
    "dim(dds)"
   ]
  },
  {
   "cell_type": "code",
   "execution_count": 44,
   "metadata": {},
   "outputs": [],
   "source": [
    "#remove genes with log10(var) and log10(mad) < 0\n",
    "dds <- dds[ -which(rownames(dds) %in% VarMad), ]"
   ]
  },
  {
   "cell_type": "code",
   "execution_count": 45,
   "metadata": {},
   "outputs": [
    {
     "data": {
      "text/html": [
       "<style>\n",
       ".list-inline {list-style: none; margin:0; padding: 0}\n",
       ".list-inline>li {display: inline-block}\n",
       ".list-inline>li:not(:last-child)::after {content: \"\\00b7\"; padding: 0 .5ex}\n",
       "</style>\n",
       "<ol class=list-inline><li>21316</li><li>60</li></ol>\n"
      ],
      "text/latex": [
       "\\begin{enumerate*}\n",
       "\\item 21316\n",
       "\\item 60\n",
       "\\end{enumerate*}\n"
      ],
      "text/markdown": [
       "1. 21316\n",
       "2. 60\n",
       "\n",
       "\n"
      ],
      "text/plain": [
       "[1] 21316    60"
      ]
     },
     "metadata": {},
     "output_type": "display_data"
    }
   ],
   "source": [
    "dim(dds)"
   ]
  },
  {
   "cell_type": "code",
   "execution_count": 46,
   "metadata": {},
   "outputs": [],
   "source": [
    "#remove version\n",
    "names(dds) <- gsub(\"[.].*\", \"\", names(dds))"
   ]
  },
  {
   "cell_type": "markdown",
   "metadata": {},
   "source": [
    "# DEG in all samples"
   ]
  },
  {
   "cell_type": "markdown",
   "metadata": {},
   "source": [
    "add hgnc symbols using mart"
   ]
  },
  {
   "cell_type": "code",
   "execution_count": 48,
   "metadata": {},
   "outputs": [],
   "source": [
    "hg38 <- biomaRt::useMart(biomart=\"ENSEMBL_MART_ENSEMBL\", host=\"useast.ensembl.org\", \n",
    "                path=\"/biomart/martservice\", dataset=\"hsapiens_gene_ensembl\")"
   ]
  },
  {
   "cell_type": "code",
   "execution_count": 49,
   "metadata": {},
   "outputs": [],
   "source": [
    "ids <- names(dds)"
   ]
  },
  {
   "cell_type": "code",
   "execution_count": 51,
   "metadata": {},
   "outputs": [],
   "source": [
    "ensembl_hgnc_biotype <- biomaRt::getBM(filters=\"ensembl_gene_id\",\n",
    "                              attributes=c(\"ensembl_gene_id\", \"hgnc_symbol\", \"entrezgene_id\", \"gene_biotype\"), \n",
    "                              values= ids, mart=hg38)"
   ]
  },
  {
   "cell_type": "code",
   "execution_count": 52,
   "metadata": {},
   "outputs": [],
   "source": [
    "proteincoding <- ensembl_hgnc_biotype[ ensembl_hgnc_biotype$gene_biotype == \"protein_coding\",]"
   ]
  },
  {
   "cell_type": "code",
   "execution_count": 53,
   "metadata": {},
   "outputs": [],
   "source": [
    "# duplicated ensembl are mostly those with difference entrez\n",
    "proteincoding <- proteincoding[!duplicated(proteincoding$ensembl_gene_id),]"
   ]
  },
  {
   "cell_type": "code",
   "execution_count": 54,
   "metadata": {
    "scrolled": true
   },
   "outputs": [
    {
     "name": "stderr",
     "output_type": "stream",
     "text": [
      "using pre-existing normalization factors\n",
      "\n",
      "estimating dispersions\n",
      "\n",
      "gene-wise dispersion estimates: 2 workers\n",
      "\n",
      "  Note: levels of factors in the design contain characters other than\n",
      "  letters, numbers, '_' and '.'. It is recommended (but not required) to use\n",
      "  only letters, numbers, and delimiters '_' or '.', as these are safe characters\n",
      "  for column names in R. [This is a message, not a warning or an error]\n",
      "\n",
      "mean-dispersion relationship\n",
      "\n",
      "  Note: levels of factors in the design contain characters other than\n",
      "  letters, numbers, '_' and '.'. It is recommended (but not required) to use\n",
      "  only letters, numbers, and delimiters '_' or '.', as these are safe characters\n",
      "  for column names in R. [This is a message, not a warning or an error]\n",
      "\n",
      "final dispersion estimates, fitting model and testing: 2 workers\n",
      "\n",
      "R_zmq_msg_send errno: 4 strerror: Interrupted system call\n",
      "\n",
      "R_zmq_msg_send errno: 4 strerror: Interrupted system call\n",
      "\n",
      "  Note: levels of factors in the design contain characters other than\n",
      "  letters, numbers, '_' and '.'. It is recommended (but not required) to use\n",
      "  only letters, numbers, and delimiters '_' or '.', as these are safe characters\n",
      "  for column names in R. [This is a message, not a warning or an error]\n",
      "\n"
     ]
    }
   ],
   "source": [
    "dds_all <- DESeq(dds, parallel = TRUE)"
   ]
  },
  {
   "cell_type": "markdown",
   "metadata": {},
   "source": [
    "Get results"
   ]
  },
  {
   "cell_type": "code",
   "execution_count": 55,
   "metadata": {},
   "outputs": [],
   "source": [
    "res <- as.data.frame(results(dds_all, contrast= c(\"response\", \"Yes\", \"No\")))"
   ]
  },
  {
   "cell_type": "markdown",
   "metadata": {},
   "source": [
    "Add gene names using biomart and using the gencode v21. "
   ]
  },
  {
   "cell_type": "code",
   "execution_count": 56,
   "metadata": {},
   "outputs": [],
   "source": [
    "genesgencodev21 <- read.csv(paste0(datapath, \"exp_mat/ensembl_HGNC_gencode.v21.annotation.gtf.csv\"))"
   ]
  },
  {
   "cell_type": "code",
   "execution_count": 57,
   "metadata": {},
   "outputs": [],
   "source": [
    "genesgencodev21$ensembl <- gsub(\"[.].*\", \"\", genesgencodev21$gene_id)"
   ]
  },
  {
   "cell_type": "code",
   "execution_count": 58,
   "metadata": {},
   "outputs": [
    {
     "data": {
      "text/html": [
       "<table class=\"dataframe\">\n",
       "<caption>A data.frame: 6 × 3</caption>\n",
       "<thead>\n",
       "\t<tr><th></th><th scope=col>gene_id</th><th scope=col>gene_name</th><th scope=col>ensembl</th></tr>\n",
       "\t<tr><th></th><th scope=col>&lt;chr&gt;</th><th scope=col>&lt;chr&gt;</th><th scope=col>&lt;chr&gt;</th></tr>\n",
       "</thead>\n",
       "<tbody>\n",
       "\t<tr><th scope=row>1</th><td>ENSG00000223972.5</td><td>DDX11L1   </td><td>ENSG00000223972</td></tr>\n",
       "\t<tr><th scope=row>2</th><td>ENSG00000227232.5</td><td>WASH7P    </td><td>ENSG00000227232</td></tr>\n",
       "\t<tr><th scope=row>3</th><td>ENSG00000278267.1</td><td>MIR6859-2 </td><td>ENSG00000278267</td></tr>\n",
       "\t<tr><th scope=row>4</th><td>ENSG00000243485.3</td><td>MIR1302-10</td><td>ENSG00000243485</td></tr>\n",
       "\t<tr><th scope=row>5</th><td>ENSG00000274890.1</td><td>MIR1302-11</td><td>ENSG00000274890</td></tr>\n",
       "\t<tr><th scope=row>6</th><td>ENSG00000237613.2</td><td>FAM138A   </td><td>ENSG00000237613</td></tr>\n",
       "</tbody>\n",
       "</table>\n"
      ],
      "text/latex": [
       "A data.frame: 6 × 3\n",
       "\\begin{tabular}{r|lll}\n",
       "  & gene\\_id & gene\\_name & ensembl\\\\\n",
       "  & <chr> & <chr> & <chr>\\\\\n",
       "\\hline\n",
       "\t1 & ENSG00000223972.5 & DDX11L1    & ENSG00000223972\\\\\n",
       "\t2 & ENSG00000227232.5 & WASH7P     & ENSG00000227232\\\\\n",
       "\t3 & ENSG00000278267.1 & MIR6859-2  & ENSG00000278267\\\\\n",
       "\t4 & ENSG00000243485.3 & MIR1302-10 & ENSG00000243485\\\\\n",
       "\t5 & ENSG00000274890.1 & MIR1302-11 & ENSG00000274890\\\\\n",
       "\t6 & ENSG00000237613.2 & FAM138A    & ENSG00000237613\\\\\n",
       "\\end{tabular}\n"
      ],
      "text/markdown": [
       "\n",
       "A data.frame: 6 × 3\n",
       "\n",
       "| <!--/--> | gene_id &lt;chr&gt; | gene_name &lt;chr&gt; | ensembl &lt;chr&gt; |\n",
       "|---|---|---|---|\n",
       "| 1 | ENSG00000223972.5 | DDX11L1    | ENSG00000223972 |\n",
       "| 2 | ENSG00000227232.5 | WASH7P     | ENSG00000227232 |\n",
       "| 3 | ENSG00000278267.1 | MIR6859-2  | ENSG00000278267 |\n",
       "| 4 | ENSG00000243485.3 | MIR1302-10 | ENSG00000243485 |\n",
       "| 5 | ENSG00000274890.1 | MIR1302-11 | ENSG00000274890 |\n",
       "| 6 | ENSG00000237613.2 | FAM138A    | ENSG00000237613 |\n",
       "\n"
      ],
      "text/plain": [
       "  gene_id           gene_name  ensembl        \n",
       "1 ENSG00000223972.5 DDX11L1    ENSG00000223972\n",
       "2 ENSG00000227232.5 WASH7P     ENSG00000227232\n",
       "3 ENSG00000278267.1 MIR6859-2  ENSG00000278267\n",
       "4 ENSG00000243485.3 MIR1302-10 ENSG00000243485\n",
       "5 ENSG00000274890.1 MIR1302-11 ENSG00000274890\n",
       "6 ENSG00000237613.2 FAM138A    ENSG00000237613"
      ]
     },
     "metadata": {},
     "output_type": "display_data"
    }
   ],
   "source": [
    "head(genesgencodev21)"
   ]
  },
  {
   "cell_type": "code",
   "execution_count": 59,
   "metadata": {},
   "outputs": [],
   "source": [
    "res$Gene_gencode <-  genesgencodev21$gene_name[ match( rownames(res), genesgencodev21$ensembl)]"
   ]
  },
  {
   "cell_type": "code",
   "execution_count": 60,
   "metadata": {},
   "outputs": [],
   "source": [
    "res$Gene_mart <-  proteincoding$hgnc_symbol[ match( rownames(res), proteincoding$ensembl_gene_id)]"
   ]
  },
  {
   "cell_type": "code",
   "execution_count": 61,
   "metadata": {},
   "outputs": [],
   "source": [
    "res_all <- res"
   ]
  },
  {
   "cell_type": "code",
   "execution_count": 62,
   "metadata": {},
   "outputs": [
    {
     "data": {
      "text/html": [
       "<table class=\"dataframe\">\n",
       "<caption>A data.frame: 6 × 8</caption>\n",
       "<thead>\n",
       "\t<tr><th></th><th scope=col>baseMean</th><th scope=col>log2FoldChange</th><th scope=col>lfcSE</th><th scope=col>stat</th><th scope=col>pvalue</th><th scope=col>padj</th><th scope=col>Gene_gencode</th><th scope=col>Gene_mart</th></tr>\n",
       "\t<tr><th></th><th scope=col>&lt;dbl&gt;</th><th scope=col>&lt;dbl&gt;</th><th scope=col>&lt;dbl&gt;</th><th scope=col>&lt;dbl&gt;</th><th scope=col>&lt;dbl&gt;</th><th scope=col>&lt;dbl&gt;</th><th scope=col>&lt;chr&gt;</th><th scope=col>&lt;chr&gt;</th></tr>\n",
       "</thead>\n",
       "<tbody>\n",
       "\t<tr><th scope=row>ENSG00000000003</th><td> 927.36451</td><td>-0.16995178</td><td>0.3222090</td><td>-0.5274581</td><td>0.59787547</td><td>0.9872860</td><td>TSPAN6  </td><td>TSPAN6  </td></tr>\n",
       "\t<tr><th scope=row>ENSG00000000005</th><td>  31.24901</td><td>-0.25489503</td><td>0.8887613</td><td>-0.2867981</td><td>0.77426694</td><td>0.9962345</td><td>TNMD    </td><td>TNMD    </td></tr>\n",
       "\t<tr><th scope=row>ENSG00000000419</th><td>3565.47595</td><td> 0.07491173</td><td>0.1889612</td><td> 0.3964396</td><td>0.69178073</td><td>0.9957530</td><td>DPM1    </td><td>DPM1    </td></tr>\n",
       "\t<tr><th scope=row>ENSG00000000457</th><td> 631.86918</td><td> 0.23887003</td><td>0.1368761</td><td> 1.7451552</td><td>0.08095786</td><td>0.8417688</td><td>SCYL3   </td><td>SCYL3   </td></tr>\n",
       "\t<tr><th scope=row>ENSG00000000460</th><td>1633.68728</td><td>-0.40124676</td><td>0.2707462</td><td>-1.4820032</td><td>0.13833945</td><td>0.8923813</td><td>C1orf112</td><td>C1orf112</td></tr>\n",
       "\t<tr><th scope=row>ENSG00000000938</th><td> 415.87614</td><td> 0.53971820</td><td>0.5573822</td><td> 0.9683090</td><td>0.33289006</td><td>0.9653727</td><td>FGR     </td><td>FGR     </td></tr>\n",
       "</tbody>\n",
       "</table>\n"
      ],
      "text/latex": [
       "A data.frame: 6 × 8\n",
       "\\begin{tabular}{r|llllllll}\n",
       "  & baseMean & log2FoldChange & lfcSE & stat & pvalue & padj & Gene\\_gencode & Gene\\_mart\\\\\n",
       "  & <dbl> & <dbl> & <dbl> & <dbl> & <dbl> & <dbl> & <chr> & <chr>\\\\\n",
       "\\hline\n",
       "\tENSG00000000003 &  927.36451 & -0.16995178 & 0.3222090 & -0.5274581 & 0.59787547 & 0.9872860 & TSPAN6   & TSPAN6  \\\\\n",
       "\tENSG00000000005 &   31.24901 & -0.25489503 & 0.8887613 & -0.2867981 & 0.77426694 & 0.9962345 & TNMD     & TNMD    \\\\\n",
       "\tENSG00000000419 & 3565.47595 &  0.07491173 & 0.1889612 &  0.3964396 & 0.69178073 & 0.9957530 & DPM1     & DPM1    \\\\\n",
       "\tENSG00000000457 &  631.86918 &  0.23887003 & 0.1368761 &  1.7451552 & 0.08095786 & 0.8417688 & SCYL3    & SCYL3   \\\\\n",
       "\tENSG00000000460 & 1633.68728 & -0.40124676 & 0.2707462 & -1.4820032 & 0.13833945 & 0.8923813 & C1orf112 & C1orf112\\\\\n",
       "\tENSG00000000938 &  415.87614 &  0.53971820 & 0.5573822 &  0.9683090 & 0.33289006 & 0.9653727 & FGR      & FGR     \\\\\n",
       "\\end{tabular}\n"
      ],
      "text/markdown": [
       "\n",
       "A data.frame: 6 × 8\n",
       "\n",
       "| <!--/--> | baseMean &lt;dbl&gt; | log2FoldChange &lt;dbl&gt; | lfcSE &lt;dbl&gt; | stat &lt;dbl&gt; | pvalue &lt;dbl&gt; | padj &lt;dbl&gt; | Gene_gencode &lt;chr&gt; | Gene_mart &lt;chr&gt; |\n",
       "|---|---|---|---|---|---|---|---|---|\n",
       "| ENSG00000000003 |  927.36451 | -0.16995178 | 0.3222090 | -0.5274581 | 0.59787547 | 0.9872860 | TSPAN6   | TSPAN6   |\n",
       "| ENSG00000000005 |   31.24901 | -0.25489503 | 0.8887613 | -0.2867981 | 0.77426694 | 0.9962345 | TNMD     | TNMD     |\n",
       "| ENSG00000000419 | 3565.47595 |  0.07491173 | 0.1889612 |  0.3964396 | 0.69178073 | 0.9957530 | DPM1     | DPM1     |\n",
       "| ENSG00000000457 |  631.86918 |  0.23887003 | 0.1368761 |  1.7451552 | 0.08095786 | 0.8417688 | SCYL3    | SCYL3    |\n",
       "| ENSG00000000460 | 1633.68728 | -0.40124676 | 0.2707462 | -1.4820032 | 0.13833945 | 0.8923813 | C1orf112 | C1orf112 |\n",
       "| ENSG00000000938 |  415.87614 |  0.53971820 | 0.5573822 |  0.9683090 | 0.33289006 | 0.9653727 | FGR      | FGR      |\n",
       "\n"
      ],
      "text/plain": [
       "                baseMean   log2FoldChange lfcSE     stat       pvalue    \n",
       "ENSG00000000003  927.36451 -0.16995178    0.3222090 -0.5274581 0.59787547\n",
       "ENSG00000000005   31.24901 -0.25489503    0.8887613 -0.2867981 0.77426694\n",
       "ENSG00000000419 3565.47595  0.07491173    0.1889612  0.3964396 0.69178073\n",
       "ENSG00000000457  631.86918  0.23887003    0.1368761  1.7451552 0.08095786\n",
       "ENSG00000000460 1633.68728 -0.40124676    0.2707462 -1.4820032 0.13833945\n",
       "ENSG00000000938  415.87614  0.53971820    0.5573822  0.9683090 0.33289006\n",
       "                padj      Gene_gencode Gene_mart\n",
       "ENSG00000000003 0.9872860 TSPAN6       TSPAN6   \n",
       "ENSG00000000005 0.9962345 TNMD         TNMD     \n",
       "ENSG00000000419 0.9957530 DPM1         DPM1     \n",
       "ENSG00000000457 0.8417688 SCYL3        SCYL3    \n",
       "ENSG00000000460 0.8923813 C1orf112     C1orf112 \n",
       "ENSG00000000938 0.9653727 FGR          FGR      "
      ]
     },
     "metadata": {},
     "output_type": "display_data"
    }
   ],
   "source": [
    "head(res_all)"
   ]
  },
  {
   "cell_type": "code",
   "execution_count": 63,
   "metadata": {},
   "outputs": [],
   "source": [
    "save(res_all, file = paste0(gitpath, \"DESeq2_results_allsamples.RData\"))"
   ]
  },
  {
   "cell_type": "code",
   "execution_count": null,
   "metadata": {},
   "outputs": [],
   "source": []
  }
 ],
 "metadata": {
  "kernelspec": {
   "display_name": "R 4.0",
   "language": "R",
   "name": "ir40"
  },
  "language_info": {
   "codemirror_mode": "r",
   "file_extension": ".r",
   "mimetype": "text/x-r-source",
   "name": "R",
   "pygments_lexer": "r",
   "version": "4.0.3"
  },
  "toc": {
   "base_numbering": 1,
   "nav_menu": {},
   "number_sections": false,
   "sideBar": true,
   "skip_h1_title": false,
   "title_cell": "Table of Contents",
   "title_sidebar": "Contents",
   "toc_cell": true,
   "toc_position": {
    "height": "calc(100% - 180px)",
    "left": "10px",
    "top": "150px",
    "width": "165px"
   },
   "toc_section_display": true,
   "toc_window_display": true
  }
 },
 "nbformat": 4,
 "nbformat_minor": 2
}
