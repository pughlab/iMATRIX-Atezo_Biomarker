{
 "cells": [
  {
   "cell_type": "markdown",
   "metadata": {
    "toc": true
   },
   "source": [
    "<h1>Table of Contents<span class=\"tocSkip\"></span></h1>\n",
    "<div class=\"toc\"><ul class=\"toc-item\"><li><span><a href=\"#Dependencies\" data-toc-modified-id=\"Dependencies-1\">Dependencies</a></span></li><li><span><a href=\"#Functions\" data-toc-modified-id=\"Functions-2\">Functions</a></span></li><li><span><a href=\"#Paths\" data-toc-modified-id=\"Paths-3\">Paths</a></span></li><li><span><a href=\"#Main\" data-toc-modified-id=\"Main-4\">Main</a></span></li></ul></div>"
   ]
  },
  {
   "cell_type": "markdown",
   "metadata": {},
   "source": [
    "# Dependencies"
   ]
  },
  {
   "cell_type": "code",
   "execution_count": 1,
   "metadata": {
    "scrolled": false
   },
   "outputs": [
    {
     "name": "stderr",
     "output_type": "stream",
     "text": [
      "\n",
      "Attaching package: ‘dplyr’\n",
      "\n",
      "\n",
      "The following objects are masked from ‘package:stats’:\n",
      "\n",
      "    filter, lag\n",
      "\n",
      "\n",
      "The following objects are masked from ‘package:base’:\n",
      "\n",
      "    intersect, setdiff, setequal, union\n",
      "\n",
      "\n"
     ]
    }
   ],
   "source": [
    "library(dplyr)\n",
    "library(reshape2)\n",
    "library(ggplot2)"
   ]
  },
  {
   "cell_type": "markdown",
   "metadata": {},
   "source": [
    "# Functions"
   ]
  },
  {
   "cell_type": "markdown",
   "metadata": {},
   "source": [
    "# Paths"
   ]
  },
  {
   "cell_type": "code",
   "execution_count": 2,
   "metadata": {},
   "outputs": [],
   "source": [
    "manifestpath <- \"/Users/anabbi/OneDrive - UHN/Documents/INDICATE/Manifests/\"\n",
    "datapath <- \"/Users/anabbi/OneDrive - UHN/Documents/INDICATE/Data/\"\n",
    "plotpath <- \"/Users/anabbi/OneDrive - UHN/Documents/INDICATE/Plots/\""
   ]
  },
  {
   "cell_type": "markdown",
   "metadata": {},
   "source": [
    "# Main"
   ]
  },
  {
   "cell_type": "code",
   "execution_count": 3,
   "metadata": {},
   "outputs": [],
   "source": [
    "metadata <- read.csv(file.path(manifestpath, \"IND_metadata.csv\"),header = T, stringsAsFactors = F)"
   ]
  },
  {
   "cell_type": "code",
   "execution_count": 4,
   "metadata": {},
   "outputs": [
    {
     "data": {
      "text/html": [
       "<table class=\"dataframe\">\n",
       "<caption>A data.frame: 7 × 36</caption>\n",
       "<thead>\n",
       "\t<tr><th></th><th scope=col>Patient.ID</th><th scope=col>STUDYID</th><th scope=col>USUBJID</th><th scope=col>AGE</th><th scope=col>AGEU</th><th scope=col>TRTDUR</th><th scope=col>COHORT</th><th scope=col>TTYPE</th><th scope=col>SUBID</th><th scope=col>PARAMCAT</th><th scope=col>⋯</th><th scope=col>Sample.Prep.Type.Fresh.Arch.Other.Khannotation</th><th scope=col>Sample.Origin</th><th scope=col>EA.Sequenced</th><th scope=col>EA.Sequencing.Batch</th><th scope=col>sample_id</th><th scope=col>tumor_type</th><th scope=col>sample_origin</th><th scope=col>disease_group</th><th scope=col>cancer</th><th scope=col>progressed</th></tr>\n",
       "\t<tr><th></th><th scope=col>&lt;int&gt;</th><th scope=col>&lt;chr&gt;</th><th scope=col>&lt;chr&gt;</th><th scope=col>&lt;int&gt;</th><th scope=col>&lt;chr&gt;</th><th scope=col>&lt;int&gt;</th><th scope=col>&lt;chr&gt;</th><th scope=col>&lt;chr&gt;</th><th scope=col>&lt;int&gt;</th><th scope=col>&lt;chr&gt;</th><th scope=col>⋯</th><th scope=col>&lt;chr&gt;</th><th scope=col>&lt;chr&gt;</th><th scope=col>&lt;chr&gt;</th><th scope=col>&lt;int&gt;</th><th scope=col>&lt;chr&gt;</th><th scope=col>&lt;chr&gt;</th><th scope=col>&lt;chr&gt;</th><th scope=col>&lt;chr&gt;</th><th scope=col>&lt;chr&gt;</th><th scope=col>&lt;int&gt;</th></tr>\n",
       "</thead>\n",
       "<tbody>\n",
       "\t<tr><th scope=row>5</th><td>11010108</td><td>GO29664</td><td>GO29664-283552-11010108</td><td>15</td><td>YEARS</td><td>337</td><td>Cohort 1 (EWING SARCOMA)                                         </td><td>EWING SARCOMA                                              </td><td>11010108</td><td>Tumor Response</td><td>⋯</td><td>ARCHIVAL TUMOR FFPE BLOCK </td><td>Lung metastase                          </td><td>Y</td><td>1</td><td>06520059B0023R</td><td>Metastatic</td><td>Lung                  </td><td>EWS     </td><td>Solid tumour</td><td>0</td></tr>\n",
       "\t<tr><th scope=row>6</th><td>11010111</td><td>GO29664</td><td>GO29664-283593-11010111</td><td>14</td><td>YEARS</td><td>127</td><td>Cohort 1 (EWING SARCOMA)                                         </td><td>EWING SARCOMA                                              </td><td>11010111</td><td>Tumor Response</td><td>⋯</td><td>ARCHIVAL TUMOR FFPE SLIDES</td><td>PLEURAL TISSUE | 1                      </td><td>Y</td><td>1</td><td>06520029C0018R</td><td>Metastatic</td><td>Connective/Soft tissue</td><td>EWS     </td><td>Solid tumour</td><td>0</td></tr>\n",
       "\t<tr><th scope=row>13</th><td>11010208</td><td>GO29664</td><td>GO29664-283971-11010208</td><td>14</td><td>YEARS</td><td>109</td><td>Cohort 2 (HODGKIN LYMPHOMA)                                      </td><td>HODGKIN LYMPHOMA                                           </td><td>11010208</td><td>Tumor Response</td><td>⋯</td><td>ARCHIVAL TUMOR FFPE BLOCK </td><td>LEFT SIDE ADENOPATHY OF THE NECK |      </td><td>Y</td><td>1</td><td>06520099B0017R</td><td>Primary   </td><td>Lymph node            </td><td>Lymphoma</td><td>Lymphoma    </td><td>0</td></tr>\n",
       "\t<tr><th scope=row>18</th><td>11010305</td><td>GO29664</td><td>GO29664-282359-11010305</td><td> 2</td><td>YEARS</td><td> 64</td><td>Cohort 3 (NEUROBLASTOMA)                                         </td><td>NEUROBLASTOMA                                              </td><td>11010305</td><td>Tumor Response</td><td>⋯</td><td>ARCHIVAL TUMOR FFPE SLIDES</td><td>ADRENAL GLAND |                         </td><td>Y</td><td>1</td><td>06520023C0018R</td><td>Primary   </td><td>Adrenal gland         </td><td>NBL     </td><td>Solid tumour</td><td>0</td></tr>\n",
       "\t<tr><th scope=row>22</th><td>11010309</td><td>GO29664</td><td>GO29664-283747-11010309</td><td>14</td><td>YEARS</td><td>263</td><td>Cohort 3 (NEUROBLASTOMA)                                         </td><td>NEUROBLASTOMA                                              </td><td>11010309</td><td>Tumor Response</td><td>⋯</td><td>ARCHIVAL TUMOR FFPE SLIDES</td><td>LEFT FOREARM | Information not available</td><td>Y</td><td>1</td><td>06520045C0027R</td><td>Metastatic</td><td>Bone                  </td><td>NBL     </td><td>Solid tumour</td><td>0</td></tr>\n",
       "\t<tr><th scope=row>55</th><td>11010810</td><td>GO29664</td><td>GO29664-282738-11010810</td><td>17</td><td>YEARS</td><td>176</td><td>Cohort 8 (WILMS TUMOR)                                           </td><td>WILMS TUMOR                                                </td><td>11010810</td><td>Tumor Response</td><td>⋯</td><td>ARCHIVAL TUMOR FFPE BLOCK </td><td>LYMPH NODE |                            </td><td>Y</td><td>1</td><td>06520095B0017R</td><td>Primary   </td><td>Lymph node            </td><td>WILMS   </td><td>Solid tumour</td><td>0</td></tr>\n",
       "\t<tr><th scope=row>63</th><td>11011005</td><td>GO29664</td><td>GO29664-282359-11011005</td><td>11</td><td>YEARS</td><td>204</td><td>Cohort 10 (OTHER TUMOR TYPES WITHOUT DOCUMENTED PD-L1 EXPRESSION)</td><td>GERM CELL TUMOR - OTHER WITHOUT DOCUMENTED PD-L1 EXPRESSION</td><td>11011005</td><td>Tumor Response</td><td>⋯</td><td>ARCHIVAL TUMOR FFPE SLIDES</td><td>BEHIND THE BLADDER | 6                  </td><td>Y</td><td>1</td><td>06520035C0021R</td><td>Primary   </td><td>Others                </td><td>Others  </td><td>Solid tumour</td><td>0</td></tr>\n",
       "</tbody>\n",
       "</table>\n"
      ],
      "text/latex": [
       "A data.frame: 7 × 36\n",
       "\\begin{tabular}{r|lllllllllllllllllllll}\n",
       "  & Patient.ID & STUDYID & USUBJID & AGE & AGEU & TRTDUR & COHORT & TTYPE & SUBID & PARAMCAT & ⋯ & Sample.Prep.Type.Fresh.Arch.Other.Khannotation & Sample.Origin & EA.Sequenced & EA.Sequencing.Batch & sample\\_id & tumor\\_type & sample\\_origin & disease\\_group & cancer & progressed\\\\\n",
       "  & <int> & <chr> & <chr> & <int> & <chr> & <int> & <chr> & <chr> & <int> & <chr> & ⋯ & <chr> & <chr> & <chr> & <int> & <chr> & <chr> & <chr> & <chr> & <chr> & <int>\\\\\n",
       "\\hline\n",
       "\t5 & 11010108 & GO29664 & GO29664-283552-11010108 & 15 & YEARS & 337 & Cohort 1 (EWING SARCOMA)                                          & EWING SARCOMA                                               & 11010108 & Tumor Response & ⋯ & ARCHIVAL TUMOR FFPE BLOCK  & Lung metastase                           & Y & 1 & 06520059B0023R & Metastatic & Lung                   & EWS      & Solid tumour & 0\\\\\n",
       "\t6 & 11010111 & GO29664 & GO29664-283593-11010111 & 14 & YEARS & 127 & Cohort 1 (EWING SARCOMA)                                          & EWING SARCOMA                                               & 11010111 & Tumor Response & ⋯ & ARCHIVAL TUMOR FFPE SLIDES & PLEURAL TISSUE \\textbar{} 1                       & Y & 1 & 06520029C0018R & Metastatic & Connective/Soft tissue & EWS      & Solid tumour & 0\\\\\n",
       "\t13 & 11010208 & GO29664 & GO29664-283971-11010208 & 14 & YEARS & 109 & Cohort 2 (HODGKIN LYMPHOMA)                                       & HODGKIN LYMPHOMA                                            & 11010208 & Tumor Response & ⋯ & ARCHIVAL TUMOR FFPE BLOCK  & LEFT SIDE ADENOPATHY OF THE NECK \\textbar{}       & Y & 1 & 06520099B0017R & Primary    & Lymph node             & Lymphoma & Lymphoma     & 0\\\\\n",
       "\t18 & 11010305 & GO29664 & GO29664-282359-11010305 &  2 & YEARS &  64 & Cohort 3 (NEUROBLASTOMA)                                          & NEUROBLASTOMA                                               & 11010305 & Tumor Response & ⋯ & ARCHIVAL TUMOR FFPE SLIDES & ADRENAL GLAND \\textbar{}                          & Y & 1 & 06520023C0018R & Primary    & Adrenal gland          & NBL      & Solid tumour & 0\\\\\n",
       "\t22 & 11010309 & GO29664 & GO29664-283747-11010309 & 14 & YEARS & 263 & Cohort 3 (NEUROBLASTOMA)                                          & NEUROBLASTOMA                                               & 11010309 & Tumor Response & ⋯ & ARCHIVAL TUMOR FFPE SLIDES & LEFT FOREARM \\textbar{} Information not available & Y & 1 & 06520045C0027R & Metastatic & Bone                   & NBL      & Solid tumour & 0\\\\\n",
       "\t55 & 11010810 & GO29664 & GO29664-282738-11010810 & 17 & YEARS & 176 & Cohort 8 (WILMS TUMOR)                                            & WILMS TUMOR                                                 & 11010810 & Tumor Response & ⋯ & ARCHIVAL TUMOR FFPE BLOCK  & LYMPH NODE \\textbar{}                             & Y & 1 & 06520095B0017R & Primary    & Lymph node             & WILMS    & Solid tumour & 0\\\\\n",
       "\t63 & 11011005 & GO29664 & GO29664-282359-11011005 & 11 & YEARS & 204 & Cohort 10 (OTHER TUMOR TYPES WITHOUT DOCUMENTED PD-L1 EXPRESSION) & GERM CELL TUMOR - OTHER WITHOUT DOCUMENTED PD-L1 EXPRESSION & 11011005 & Tumor Response & ⋯ & ARCHIVAL TUMOR FFPE SLIDES & BEHIND THE BLADDER \\textbar{} 6                   & Y & 1 & 06520035C0021R & Primary    & Others                 & Others   & Solid tumour & 0\\\\\n",
       "\\end{tabular}\n"
      ],
      "text/markdown": [
       "\n",
       "A data.frame: 7 × 36\n",
       "\n",
       "| <!--/--> | Patient.ID &lt;int&gt; | STUDYID &lt;chr&gt; | USUBJID &lt;chr&gt; | AGE &lt;int&gt; | AGEU &lt;chr&gt; | TRTDUR &lt;int&gt; | COHORT &lt;chr&gt; | TTYPE &lt;chr&gt; | SUBID &lt;int&gt; | PARAMCAT &lt;chr&gt; | ⋯ ⋯ | Sample.Prep.Type.Fresh.Arch.Other.Khannotation &lt;chr&gt; | Sample.Origin &lt;chr&gt; | EA.Sequenced &lt;chr&gt; | EA.Sequencing.Batch &lt;int&gt; | sample_id &lt;chr&gt; | tumor_type &lt;chr&gt; | sample_origin &lt;chr&gt; | disease_group &lt;chr&gt; | cancer &lt;chr&gt; | progressed &lt;int&gt; |\n",
       "|---|---|---|---|---|---|---|---|---|---|---|---|---|---|---|---|---|---|---|---|---|---|\n",
       "| 5 | 11010108 | GO29664 | GO29664-283552-11010108 | 15 | YEARS | 337 | Cohort 1 (EWING SARCOMA)                                          | EWING SARCOMA                                               | 11010108 | Tumor Response | ⋯ | ARCHIVAL TUMOR FFPE BLOCK  | Lung metastase                           | Y | 1 | 06520059B0023R | Metastatic | Lung                   | EWS      | Solid tumour | 0 |\n",
       "| 6 | 11010111 | GO29664 | GO29664-283593-11010111 | 14 | YEARS | 127 | Cohort 1 (EWING SARCOMA)                                          | EWING SARCOMA                                               | 11010111 | Tumor Response | ⋯ | ARCHIVAL TUMOR FFPE SLIDES | PLEURAL TISSUE | 1                       | Y | 1 | 06520029C0018R | Metastatic | Connective/Soft tissue | EWS      | Solid tumour | 0 |\n",
       "| 13 | 11010208 | GO29664 | GO29664-283971-11010208 | 14 | YEARS | 109 | Cohort 2 (HODGKIN LYMPHOMA)                                       | HODGKIN LYMPHOMA                                            | 11010208 | Tumor Response | ⋯ | ARCHIVAL TUMOR FFPE BLOCK  | LEFT SIDE ADENOPATHY OF THE NECK |       | Y | 1 | 06520099B0017R | Primary    | Lymph node             | Lymphoma | Lymphoma     | 0 |\n",
       "| 18 | 11010305 | GO29664 | GO29664-282359-11010305 |  2 | YEARS |  64 | Cohort 3 (NEUROBLASTOMA)                                          | NEUROBLASTOMA                                               | 11010305 | Tumor Response | ⋯ | ARCHIVAL TUMOR FFPE SLIDES | ADRENAL GLAND |                          | Y | 1 | 06520023C0018R | Primary    | Adrenal gland          | NBL      | Solid tumour | 0 |\n",
       "| 22 | 11010309 | GO29664 | GO29664-283747-11010309 | 14 | YEARS | 263 | Cohort 3 (NEUROBLASTOMA)                                          | NEUROBLASTOMA                                               | 11010309 | Tumor Response | ⋯ | ARCHIVAL TUMOR FFPE SLIDES | LEFT FOREARM | Information not available | Y | 1 | 06520045C0027R | Metastatic | Bone                   | NBL      | Solid tumour | 0 |\n",
       "| 55 | 11010810 | GO29664 | GO29664-282738-11010810 | 17 | YEARS | 176 | Cohort 8 (WILMS TUMOR)                                            | WILMS TUMOR                                                 | 11010810 | Tumor Response | ⋯ | ARCHIVAL TUMOR FFPE BLOCK  | LYMPH NODE |                             | Y | 1 | 06520095B0017R | Primary    | Lymph node             | WILMS    | Solid tumour | 0 |\n",
       "| 63 | 11011005 | GO29664 | GO29664-282359-11011005 | 11 | YEARS | 204 | Cohort 10 (OTHER TUMOR TYPES WITHOUT DOCUMENTED PD-L1 EXPRESSION) | GERM CELL TUMOR - OTHER WITHOUT DOCUMENTED PD-L1 EXPRESSION | 11011005 | Tumor Response | ⋯ | ARCHIVAL TUMOR FFPE SLIDES | BEHIND THE BLADDER | 6                   | Y | 1 | 06520035C0021R | Primary    | Others                 | Others   | Solid tumour | 0 |\n",
       "\n"
      ],
      "text/plain": [
       "   Patient.ID STUDYID USUBJID                 AGE AGEU  TRTDUR\n",
       "5  11010108   GO29664 GO29664-283552-11010108 15  YEARS 337   \n",
       "6  11010111   GO29664 GO29664-283593-11010111 14  YEARS 127   \n",
       "13 11010208   GO29664 GO29664-283971-11010208 14  YEARS 109   \n",
       "18 11010305   GO29664 GO29664-282359-11010305  2  YEARS  64   \n",
       "22 11010309   GO29664 GO29664-283747-11010309 14  YEARS 263   \n",
       "55 11010810   GO29664 GO29664-282738-11010810 17  YEARS 176   \n",
       "63 11011005   GO29664 GO29664-282359-11011005 11  YEARS 204   \n",
       "   COHORT                                                           \n",
       "5  Cohort 1 (EWING SARCOMA)                                         \n",
       "6  Cohort 1 (EWING SARCOMA)                                         \n",
       "13 Cohort 2 (HODGKIN LYMPHOMA)                                      \n",
       "18 Cohort 3 (NEUROBLASTOMA)                                         \n",
       "22 Cohort 3 (NEUROBLASTOMA)                                         \n",
       "55 Cohort 8 (WILMS TUMOR)                                           \n",
       "63 Cohort 10 (OTHER TUMOR TYPES WITHOUT DOCUMENTED PD-L1 EXPRESSION)\n",
       "   TTYPE                                                       SUBID   \n",
       "5  EWING SARCOMA                                               11010108\n",
       "6  EWING SARCOMA                                               11010111\n",
       "13 HODGKIN LYMPHOMA                                            11010208\n",
       "18 NEUROBLASTOMA                                               11010305\n",
       "22 NEUROBLASTOMA                                               11010309\n",
       "55 WILMS TUMOR                                                 11010810\n",
       "63 GERM CELL TUMOR - OTHER WITHOUT DOCUMENTED PD-L1 EXPRESSION 11011005\n",
       "   PARAMCAT       ⋯ Sample.Prep.Type.Fresh.Arch.Other.Khannotation\n",
       "5  Tumor Response ⋯ ARCHIVAL TUMOR FFPE BLOCK                     \n",
       "6  Tumor Response ⋯ ARCHIVAL TUMOR FFPE SLIDES                    \n",
       "13 Tumor Response ⋯ ARCHIVAL TUMOR FFPE BLOCK                     \n",
       "18 Tumor Response ⋯ ARCHIVAL TUMOR FFPE SLIDES                    \n",
       "22 Tumor Response ⋯ ARCHIVAL TUMOR FFPE SLIDES                    \n",
       "55 Tumor Response ⋯ ARCHIVAL TUMOR FFPE BLOCK                     \n",
       "63 Tumor Response ⋯ ARCHIVAL TUMOR FFPE SLIDES                    \n",
       "   Sample.Origin                            EA.Sequenced EA.Sequencing.Batch\n",
       "5  Lung metastase                           Y            1                  \n",
       "6  PLEURAL TISSUE | 1                       Y            1                  \n",
       "13 LEFT SIDE ADENOPATHY OF THE NECK |       Y            1                  \n",
       "18 ADRENAL GLAND |                          Y            1                  \n",
       "22 LEFT FOREARM | Information not available Y            1                  \n",
       "55 LYMPH NODE |                             Y            1                  \n",
       "63 BEHIND THE BLADDER | 6                   Y            1                  \n",
       "   sample_id      tumor_type sample_origin          disease_group cancer      \n",
       "5  06520059B0023R Metastatic Lung                   EWS           Solid tumour\n",
       "6  06520029C0018R Metastatic Connective/Soft tissue EWS           Solid tumour\n",
       "13 06520099B0017R Primary    Lymph node             Lymphoma      Lymphoma    \n",
       "18 06520023C0018R Primary    Adrenal gland          NBL           Solid tumour\n",
       "22 06520045C0027R Metastatic Bone                   NBL           Solid tumour\n",
       "55 06520095B0017R Primary    Lymph node             WILMS         Solid tumour\n",
       "63 06520035C0021R Primary    Others                 Others        Solid tumour\n",
       "   progressed\n",
       "5  0         \n",
       "6  0         \n",
       "13 0         \n",
       "18 0         \n",
       "22 0         \n",
       "55 0         \n",
       "63 0         "
      ]
     },
     "metadata": {},
     "output_type": "display_data"
    }
   ],
   "source": [
    "metadata[ metadata$AVALC == \"SD\",]"
   ]
  },
  {
   "cell_type": "code",
   "execution_count": 5,
   "metadata": {},
   "outputs": [],
   "source": [
    "ESTIMATEdf <- read.table(file.path(datapath, \"Deconvolution/ESTIMATEOutput.IND.txt\"), sep = \"\\t\", header = T, stringsAsFactors = F, row.names = NULL)"
   ]
  },
  {
   "cell_type": "code",
   "execution_count": 6,
   "metadata": {},
   "outputs": [
    {
     "data": {
      "text/html": [
       "<table class=\"dataframe\">\n",
       "<caption>A data.frame: 6 × 4</caption>\n",
       "<thead>\n",
       "\t<tr><th></th><th scope=col>row.names</th><th scope=col>StromalScore</th><th scope=col>ImmuneScore</th><th scope=col>ESTIMATEScore</th></tr>\n",
       "\t<tr><th></th><th scope=col>&lt;chr&gt;</th><th scope=col>&lt;dbl&gt;</th><th scope=col>&lt;dbl&gt;</th><th scope=col>&lt;dbl&gt;</th></tr>\n",
       "</thead>\n",
       "<tbody>\n",
       "\t<tr><th scope=row>1</th><td>go29664_ngs_rna_targrna_rnaaccess_06520001b0023r_20171125.genes.results</td><td> 759.34037</td><td>  687.8819</td><td> 1447.2222</td></tr>\n",
       "\t<tr><th scope=row>2</th><td>go29664_ngs_rna_targrna_rnaaccess_06520003c0012r_20171125.genes.results</td><td>1291.97366</td><td> 3126.7697</td><td> 4418.7433</td></tr>\n",
       "\t<tr><th scope=row>3</th><td>go29664_ngs_rna_targrna_rnaaccess_06520004c0018r_20171125.genes.results</td><td>1345.33693</td><td> 3036.1189</td><td> 4381.4559</td></tr>\n",
       "\t<tr><th scope=row>4</th><td>go29664_ngs_rna_targrna_rnaaccess_06520005c0017r_20171125.genes.results</td><td>-431.00973</td><td>-1033.1230</td><td>-1464.1327</td></tr>\n",
       "\t<tr><th scope=row>5</th><td>go29664_ngs_rna_targrna_rnaaccess_06520006c0016r_20171125.genes.results</td><td> -36.73263</td><td> -257.1170</td><td> -293.8497</td></tr>\n",
       "\t<tr><th scope=row>6</th><td>go29664_ngs_rna_targrna_rnaaccess_06520007c0018r_20171125.genes.results</td><td> 616.94657</td><td> 1406.1334</td><td> 2023.0799</td></tr>\n",
       "</tbody>\n",
       "</table>\n"
      ],
      "text/latex": [
       "A data.frame: 6 × 4\n",
       "\\begin{tabular}{r|llll}\n",
       "  & row.names & StromalScore & ImmuneScore & ESTIMATEScore\\\\\n",
       "  & <chr> & <dbl> & <dbl> & <dbl>\\\\\n",
       "\\hline\n",
       "\t1 & go29664\\_ngs\\_rna\\_targrna\\_rnaaccess\\_06520001b0023r\\_20171125.genes.results &  759.34037 &   687.8819 &  1447.2222\\\\\n",
       "\t2 & go29664\\_ngs\\_rna\\_targrna\\_rnaaccess\\_06520003c0012r\\_20171125.genes.results & 1291.97366 &  3126.7697 &  4418.7433\\\\\n",
       "\t3 & go29664\\_ngs\\_rna\\_targrna\\_rnaaccess\\_06520004c0018r\\_20171125.genes.results & 1345.33693 &  3036.1189 &  4381.4559\\\\\n",
       "\t4 & go29664\\_ngs\\_rna\\_targrna\\_rnaaccess\\_06520005c0017r\\_20171125.genes.results & -431.00973 & -1033.1230 & -1464.1327\\\\\n",
       "\t5 & go29664\\_ngs\\_rna\\_targrna\\_rnaaccess\\_06520006c0016r\\_20171125.genes.results &  -36.73263 &  -257.1170 &  -293.8497\\\\\n",
       "\t6 & go29664\\_ngs\\_rna\\_targrna\\_rnaaccess\\_06520007c0018r\\_20171125.genes.results &  616.94657 &  1406.1334 &  2023.0799\\\\\n",
       "\\end{tabular}\n"
      ],
      "text/markdown": [
       "\n",
       "A data.frame: 6 × 4\n",
       "\n",
       "| <!--/--> | row.names &lt;chr&gt; | StromalScore &lt;dbl&gt; | ImmuneScore &lt;dbl&gt; | ESTIMATEScore &lt;dbl&gt; |\n",
       "|---|---|---|---|---|\n",
       "| 1 | go29664_ngs_rna_targrna_rnaaccess_06520001b0023r_20171125.genes.results |  759.34037 |   687.8819 |  1447.2222 |\n",
       "| 2 | go29664_ngs_rna_targrna_rnaaccess_06520003c0012r_20171125.genes.results | 1291.97366 |  3126.7697 |  4418.7433 |\n",
       "| 3 | go29664_ngs_rna_targrna_rnaaccess_06520004c0018r_20171125.genes.results | 1345.33693 |  3036.1189 |  4381.4559 |\n",
       "| 4 | go29664_ngs_rna_targrna_rnaaccess_06520005c0017r_20171125.genes.results | -431.00973 | -1033.1230 | -1464.1327 |\n",
       "| 5 | go29664_ngs_rna_targrna_rnaaccess_06520006c0016r_20171125.genes.results |  -36.73263 |  -257.1170 |  -293.8497 |\n",
       "| 6 | go29664_ngs_rna_targrna_rnaaccess_06520007c0018r_20171125.genes.results |  616.94657 |  1406.1334 |  2023.0799 |\n",
       "\n"
      ],
      "text/plain": [
       "  row.names                                                              \n",
       "1 go29664_ngs_rna_targrna_rnaaccess_06520001b0023r_20171125.genes.results\n",
       "2 go29664_ngs_rna_targrna_rnaaccess_06520003c0012r_20171125.genes.results\n",
       "3 go29664_ngs_rna_targrna_rnaaccess_06520004c0018r_20171125.genes.results\n",
       "4 go29664_ngs_rna_targrna_rnaaccess_06520005c0017r_20171125.genes.results\n",
       "5 go29664_ngs_rna_targrna_rnaaccess_06520006c0016r_20171125.genes.results\n",
       "6 go29664_ngs_rna_targrna_rnaaccess_06520007c0018r_20171125.genes.results\n",
       "  StromalScore ImmuneScore ESTIMATEScore\n",
       "1  759.34037     687.8819   1447.2222   \n",
       "2 1291.97366    3126.7697   4418.7433   \n",
       "3 1345.33693    3036.1189   4381.4559   \n",
       "4 -431.00973   -1033.1230  -1464.1327   \n",
       "5  -36.73263    -257.1170   -293.8497   \n",
       "6  616.94657    1406.1334   2023.0799   "
      ]
     },
     "metadata": {},
     "output_type": "display_data"
    }
   ],
   "source": [
    "head(ESTIMATEdf)"
   ]
  },
  {
   "cell_type": "code",
   "execution_count": 7,
   "metadata": {},
   "outputs": [],
   "source": [
    "colnames(ESTIMATEdf)[1] <- \"filename\""
   ]
  },
  {
   "cell_type": "code",
   "execution_count": 8,
   "metadata": {},
   "outputs": [],
   "source": [
    "ESTIMATEdf$sample_id <- gsub(\"go29664_ngs_rna_targrna_rnaaccess_\", \"\", ESTIMATEdf$filename)\n",
    "ESTIMATEdf$sample_id <- gsub(\"_.*\", \"\", ESTIMATEdf$sample_id)\n",
    "ESTIMATEdf$sample_id <- toupper(ESTIMATEdf$sample_id)"
   ]
  },
  {
   "cell_type": "code",
   "execution_count": 9,
   "metadata": {},
   "outputs": [],
   "source": [
    "estimate_metadata <- merge(metadata, ESTIMATEdf, by = \"sample_id\")"
   ]
  },
  {
   "cell_type": "code",
   "execution_count": 10,
   "metadata": {},
   "outputs": [
    {
     "data": {
      "text/html": [
       "<style>\n",
       ".list-inline {list-style: none; margin:0; padding: 0}\n",
       ".list-inline>li {display: inline-block}\n",
       ".list-inline>li:not(:last-child)::after {content: \"\\00b7\"; padding: 0 .5ex}\n",
       "</style>\n",
       "<ol class=list-inline><li>66</li><li>40</li></ol>\n"
      ],
      "text/latex": [
       "\\begin{enumerate*}\n",
       "\\item 66\n",
       "\\item 40\n",
       "\\end{enumerate*}\n"
      ],
      "text/markdown": [
       "1. 66\n",
       "2. 40\n",
       "\n",
       "\n"
      ],
      "text/plain": [
       "[1] 66 40"
      ]
     },
     "metadata": {},
     "output_type": "display_data"
    },
    {
     "data": {
      "text/html": [
       "<style>\n",
       ".list-inline {list-style: none; margin:0; padding: 0}\n",
       ".list-inline>li {display: inline-block}\n",
       ".list-inline>li:not(:last-child)::after {content: \"\\00b7\"; padding: 0 .5ex}\n",
       "</style>\n",
       "<ol class=list-inline><li>66</li><li>36</li></ol>\n"
      ],
      "text/latex": [
       "\\begin{enumerate*}\n",
       "\\item 66\n",
       "\\item 36\n",
       "\\end{enumerate*}\n"
      ],
      "text/markdown": [
       "1. 66\n",
       "2. 36\n",
       "\n",
       "\n"
      ],
      "text/plain": [
       "[1] 66 36"
      ]
     },
     "metadata": {},
     "output_type": "display_data"
    }
   ],
   "source": [
    "dim(estimate_metadata)\n",
    "dim(metadata)"
   ]
  },
  {
   "cell_type": "code",
   "execution_count": 11,
   "metadata": {},
   "outputs": [],
   "source": [
    "write.csv(estimate_metadata, file.path(datapath,\"IND_estimate_metadata.csv\"), quote = F, row.names = F)"
   ]
  },
  {
   "cell_type": "code",
   "execution_count": null,
   "metadata": {},
   "outputs": [],
   "source": []
  }
 ],
 "metadata": {
  "kernelspec": {
   "display_name": "R 4.0",
   "language": "R",
   "name": "ir40"
  },
  "language_info": {
   "codemirror_mode": "r",
   "file_extension": ".r",
   "mimetype": "text/x-r-source",
   "name": "R",
   "pygments_lexer": "r",
   "version": "4.0.3"
  },
  "toc": {
   "base_numbering": 1,
   "nav_menu": {},
   "number_sections": false,
   "sideBar": true,
   "skip_h1_title": false,
   "title_cell": "Table of Contents",
   "title_sidebar": "Contents",
   "toc_cell": true,
   "toc_position": {
    "height": "calc(100% - 180px)",
    "left": "10px",
    "top": "150px",
    "width": "397.637px"
   },
   "toc_section_display": true,
   "toc_window_display": true
  }
 },
 "nbformat": 4,
 "nbformat_minor": 2
}
