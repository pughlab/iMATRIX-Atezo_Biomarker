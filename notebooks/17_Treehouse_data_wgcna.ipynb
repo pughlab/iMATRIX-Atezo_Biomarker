{
 "cells": [
  {
   "cell_type": "markdown",
   "metadata": {
    "toc": true
   },
   "source": [
    "<h1>Table of Contents<span class=\"tocSkip\"></span></h1>\n",
    "<div class=\"toc\"><ul class=\"toc-item\"><li><span><a href=\"#WGCNA-run-documention\" data-toc-modified-id=\"WGCNA-run-documention-1\">WGCNA run documention</a></span></li><li><span><a href=\"#Dependencies\" data-toc-modified-id=\"Dependencies-2\">Dependencies</a></span></li><li><span><a href=\"#Paths\" data-toc-modified-id=\"Paths-3\">Paths</a></span><ul class=\"toc-item\"><li><ul class=\"toc-item\"><li><span><a href=\"#Add-entrez-ID-and-run-GO\" data-toc-modified-id=\"Add-entrez-ID-and-run-GO-3.0.1\">Add entrez ID and run GO</a></span></li></ul></li></ul></li><li><span><a href=\"#Deprecated\" data-toc-modified-id=\"Deprecated-4\">Deprecated</a></span><ul class=\"toc-item\"><li><span><a href=\"#Consensus-network\" data-toc-modified-id=\"Consensus-network-4.1\">Consensus network</a></span></li><li><span><a href=\"#Consensus-input\" data-toc-modified-id=\"Consensus-input-4.2\">Consensus input</a></span></li><li><span><a href=\"#Run-blockwise-consensus-function\" data-toc-modified-id=\"Run-blockwise-consensus-function-4.3\">Run blockwise consensus function</a></span></li></ul></li><li><span><a href=\"#Try-step-by-step-module-identification\" data-toc-modified-id=\"Try-step-by-step-module-identification-5\">Try step-by-step module identification</a></span></li></ul></div>"
   ]
  },
  {
   "cell_type": "markdown",
   "metadata": {},
   "source": [
    "# WGCNA run documention"
   ]
  },
  {
   "cell_type": "code",
   "execution_count": 1,
   "metadata": {},
   "outputs": [],
   "source": [
    "datapath <- \"/Users/anabbi/OneDrive - UHN/Documents/INDICATE/Data/\"\n",
    "plotpath <- \"/Users/anabbi/OneDrive - UHN/Documents/INDICATE/Plots/\"\n",
    "mountpath <- \"/Users/anabbi/Desktop/H4H/INDICATE/wgcna/th/\""
   ]
  },
  {
   "cell_type": "markdown",
   "metadata": {},
   "source": [
    "on samwise, open an R console:"
   ]
  },
  {
   "cell_type": "code",
   "execution_count": 4,
   "metadata": {},
   "outputs": [
    {
     "data": {
      "text/html": [
       "-3.32192809488736"
      ],
      "text/latex": [
       "-3.32192809488736"
      ],
      "text/markdown": [
       "-3.32192809488736"
      ],
      "text/plain": [
       "[1] -3.321928"
      ]
     },
     "metadata": {},
     "output_type": "display_data"
    }
   ],
   "source": [
    "log2(0.1)"
   ]
  },
  {
   "cell_type": "code",
   "execution_count": null,
   "metadata": {},
   "outputs": [],
   "source": [
    "clinical <- read.csv(\"~/immpedcan/wgcna/treehouse_metadata.csv\", stringsAsFactors = F, header = T, row.names = 1)\n",
    "\n",
    "#load IND tpm matrix. Copied from local to samwise\n",
    "IND_mat <- read.csv(file = \"~/immpedcan/wgcna/INDICATE.tpm_hg38_ENSG_HUGO.csv\", header = T, stringsAsFactors = F,check.names = F)\n",
    "\n",
    "#loading th data takes some time\n",
    "tpm_mat <- read.table(\"~/pughlab/external_data/treehousegenomics/TumorCompendium_v11_PolyA_hugo_log2tpm_58581genes_2020-04-09.tsv\", sep = \"\\t\", header = T, stringsAsFactors = F, check.names = F)\n",
    "rownames(tpm_mat) <- tpm_mat$Gene\n",
    "tpm_mat$Gene <- NULL\n",
    "\n",
    "#Subset to my cancer types\n",
    "cancertypes <- c(\"Lymphoma\",\"NBL\",\"OS\",\"RMS\",\"SARC\",\"WILMS\", \"EWS\")\n",
    "clinical_subset <- clinical[clinical$diseasetype %in% cancertypes,]\n",
    "\n",
    "th_mat_subset <- tpm_mat[,colnames(tpm_mat) %in% clinical_subset$th_sampleid]\n",
    "#Only those genes in IND matrix\n",
    "th_mat_subset <- th_mat_subset[rownames(th_mat_subset) %in% IND_mat$HGNC_Symbol,]\n",
    "# 24435 genes overlapp with IND matrix\n",
    "\n",
    "#If log2(tpm) == 0 in more than half of samples, remove them\n",
    "keepgenes <- rowSums(th_mat_subset == 0) <= ncol(th_mat_subset)/2\n",
    "th_mat_subset <- th_mat_subset[keepgenes,]\n",
    "dim(th_mat_subset)\n",
    "\n",
    "#19014 genes overlap with IND and are > 0 in more than half of all samples (n = 835)\n",
    "\n",
    "for (c in cancertypes){\n",
    "    ids <- clinical_subset$th_sampleid[clinical_subset$diseasetype == c]\n",
    "    cancer_mat <- th_mat_subset[,colnames(th_mat_subset) %in% ids]\n",
    "    rownames(cancer_mat) <- rownames(th_mat_subset)\n",
    "    print(c)\n",
    "    print(dim(cancer_mat))\n",
    "    write.csv(cancer_mat, file = paste0(\"~/immpedcan/wgcna/tpm_th_\",c, \".csv\"), quote = F)\n",
    "}\n",
    "\"Lymphoma\"\n",
    "19014    25\n",
    "\"NBL\"\n",
    "19014   201\n",
    "\"OS\"\n",
    "19014   184\n",
    "\"RMS\"\n",
    "19014   168\n",
    "\"SARC\"\n",
    "19014    40\n",
    "\"WILMS\"\n",
    "19014   136\n",
    "\"EWS\"\n",
    "19014    81\n",
    "\n",
    "quit()"
   ]
  },
  {
   "cell_type": "markdown",
   "metadata": {},
   "source": [
    "Transfer to H4H"
   ]
  },
  {
   "cell_type": "code",
   "execution_count": null,
   "metadata": {},
   "outputs": [],
   "source": [
    "ssh anabbi@xfer\n",
    "cd immpedcan/wgcna/\n",
    "scp *.csv anabbi@h4huhndata1:~/INDICATE/wgcna/th"
   ]
  },
  {
   "cell_type": "markdown",
   "metadata": {},
   "source": [
    "run consensus_input.R on h4h"
   ]
  },
  {
   "cell_type": "code",
   "execution_count": null,
   "metadata": {},
   "outputs": [],
   "source": [
    "cd INDICATE/wgcna/th\n",
    "module load R/3.6.1\n",
    "sbatch -t 5-00:00:00 --mem=120G -p veryhimem -c 12 -N 1 Rscript consensus_input_th.R"
   ]
  },
  {
   "cell_type": "code",
   "execution_count": null,
   "metadata": {},
   "outputs": [],
   "source": [
    "mv slurm-2260326.out consensus_input_tpm_run.out"
   ]
  },
  {
   "cell_type": "markdown",
   "metadata": {},
   "source": [
    "run sftthreshold.R on h4h"
   ]
  },
  {
   "cell_type": "code",
   "execution_count": null,
   "metadata": {},
   "outputs": [],
   "source": [
    "sbatch -t 5-00:00:00 --mem=120G -p veryhimem -c 12 -N 1 Rscript sftthreshold.R"
   ]
  },
  {
   "cell_type": "code",
   "execution_count": null,
   "metadata": {},
   "outputs": [],
   "source": [
    "mv slurm-2260333.out sftthreshold_signed_th.out"
   ]
  },
  {
   "cell_type": "markdown",
   "metadata": {},
   "source": [
    "Soft power is 20."
   ]
  },
  {
   "cell_type": "markdown",
   "metadata": {},
   "source": [
    "Run auto mode:"
   ]
  },
  {
   "cell_type": "code",
   "execution_count": null,
   "metadata": {},
   "outputs": [],
   "source": [
    "sbatch -t 5-00:00:00 --mem=900G -p superhimem -c 12 -N 1 Rscript consensus_wgcna_auto_p20_th.R "
   ]
  },
  {
   "cell_type": "markdown",
   "metadata": {},
   "source": [
    "And manual mode with minimum p for each cancer type with model fit > 0.8"
   ]
  },
  {
   "cell_type": "code",
   "execution_count": null,
   "metadata": {},
   "outputs": [],
   "source": [
    "sbatch -t 5-00:00:00 --mem=900G -p superhimem -c 12 -N 1 Rscript consensus_manual_signed_th.R"
   ]
  },
  {
   "cell_type": "code",
   "execution_count": null,
   "metadata": {},
   "outputs": [],
   "source": []
  },
  {
   "cell_type": "code",
   "execution_count": null,
   "metadata": {},
   "outputs": [],
   "source": []
  },
  {
   "cell_type": "markdown",
   "metadata": {},
   "source": [
    "# Dependencies"
   ]
  },
  {
   "cell_type": "code",
   "execution_count": 1,
   "metadata": {},
   "outputs": [],
   "source": [
    "options(scipen = 999)"
   ]
  },
  {
   "cell_type": "code",
   "execution_count": 2,
   "metadata": {},
   "outputs": [
    {
     "name": "stderr",
     "output_type": "stream",
     "text": [
      "Loading required package: dynamicTreeCut\n",
      "\n",
      "Loading required package: fastcluster\n",
      "\n",
      "\n",
      "Attaching package: ‘fastcluster’\n",
      "\n",
      "\n",
      "The following object is masked from ‘package:stats’:\n",
      "\n",
      "    hclust\n",
      "\n",
      "\n",
      "\n",
      "\n",
      "\n",
      "Attaching package: ‘WGCNA’\n",
      "\n",
      "\n",
      "The following object is masked from ‘package:stats’:\n",
      "\n",
      "    cor\n",
      "\n",
      "\n"
     ]
    }
   ],
   "source": [
    "library(WGCNA)\n",
    "library(biomaRt)"
   ]
  },
  {
   "cell_type": "markdown",
   "metadata": {},
   "source": [
    "# Paths"
   ]
  },
  {
   "cell_type": "code",
   "execution_count": 3,
   "metadata": {},
   "outputs": [],
   "source": [
    "datapath <- \"/Users/anabbi/OneDrive - UHN/Documents/INDICATE/Data/\"\n",
    "plotpath <- \"/Users/anabbi/OneDrive - UHN/Documents/INDICATE/Plots/\"\n",
    "mountpath <- \"/Users/anabbi/Desktop/H4H/INDICATE/wgcna/th/\""
   ]
  },
  {
   "cell_type": "markdown",
   "metadata": {},
   "source": [
    "I copied this file dataInput_Treehouse_tpm.RData to local because it is big and doesnt read from mounted h4h"
   ]
  },
  {
   "cell_type": "code",
   "execution_count": 8,
   "metadata": {},
   "outputs": [],
   "source": [
    "load(file = paste0(datapath, \"WGCNA/TH/Consensus-dataInput_Treehouse_tpm.RData\"))"
   ]
  },
  {
   "cell_type": "code",
   "execution_count": 9,
   "metadata": {},
   "outputs": [],
   "source": [
    "load(file = paste0(mountpath, \"Consensus_Network_TH_manual_signed_20.RData\"))"
   ]
  },
  {
   "cell_type": "code",
   "execution_count": 12,
   "metadata": {},
   "outputs": [
    {
     "data": {
      "text/plain": [
       "moduleColors\n",
       "        black         brown          cyan     darkgreen      darkgrey \n",
       "          332           228            85            44            33 \n",
       "   darkorange darkturquoise          grey        grey60    lightgreen \n",
       "           28            43         15966           535            51 \n",
       "          red        salmon       skyblue         white        yellow \n",
       "         1162            58            24            28           393 "
      ]
     },
     "metadata": {},
     "output_type": "display_data"
    }
   ],
   "source": [
    "table(moduleColors)"
   ]
  },
  {
   "cell_type": "code",
   "execution_count": 13,
   "metadata": {},
   "outputs": [],
   "source": [
    "gene_module <- data.frame(moduleLabel = moduleLabels, moduleColor = moduleColors,\n",
    "                          row.names = colnames(treehouse_gene_mat[[1]]$data))"
   ]
  },
  {
   "cell_type": "code",
   "execution_count": 14,
   "metadata": {},
   "outputs": [
    {
     "data": {
      "text/html": [
       "<table class=\"dataframe\">\n",
       "<caption>A data.frame: 6 × 2</caption>\n",
       "<thead>\n",
       "\t<tr><th></th><th scope=col>moduleLabel</th><th scope=col>moduleColor</th></tr>\n",
       "\t<tr><th></th><th scope=col>&lt;dbl&gt;</th><th scope=col>&lt;chr&gt;</th></tr>\n",
       "</thead>\n",
       "<tbody>\n",
       "\t<tr><th scope=row>A1BG</th><td> 0</td><td>grey     </td></tr>\n",
       "\t<tr><th scope=row>A1BG-AS1</th><td> 0</td><td>grey     </td></tr>\n",
       "\t<tr><th scope=row>A1CF</th><td> 0</td><td>grey     </td></tr>\n",
       "\t<tr><th scope=row>A2M</th><td>22</td><td>darkgreen</td></tr>\n",
       "\t<tr><th scope=row>A2M-AS1</th><td> 0</td><td>grey     </td></tr>\n",
       "\t<tr><th scope=row>A2ML1</th><td> 0</td><td>grey     </td></tr>\n",
       "</tbody>\n",
       "</table>\n"
      ],
      "text/latex": [
       "A data.frame: 6 × 2\n",
       "\\begin{tabular}{r|ll}\n",
       "  & moduleLabel & moduleColor\\\\\n",
       "  & <dbl> & <chr>\\\\\n",
       "\\hline\n",
       "\tA1BG &  0 & grey     \\\\\n",
       "\tA1BG-AS1 &  0 & grey     \\\\\n",
       "\tA1CF &  0 & grey     \\\\\n",
       "\tA2M & 22 & darkgreen\\\\\n",
       "\tA2M-AS1 &  0 & grey     \\\\\n",
       "\tA2ML1 &  0 & grey     \\\\\n",
       "\\end{tabular}\n"
      ],
      "text/markdown": [
       "\n",
       "A data.frame: 6 × 2\n",
       "\n",
       "| <!--/--> | moduleLabel &lt;dbl&gt; | moduleColor &lt;chr&gt; |\n",
       "|---|---|---|\n",
       "| A1BG |  0 | grey      |\n",
       "| A1BG-AS1 |  0 | grey      |\n",
       "| A1CF |  0 | grey      |\n",
       "| A2M | 22 | darkgreen |\n",
       "| A2M-AS1 |  0 | grey      |\n",
       "| A2ML1 |  0 | grey      |\n",
       "\n"
      ],
      "text/plain": [
       "         moduleLabel moduleColor\n",
       "A1BG      0          grey       \n",
       "A1BG-AS1  0          grey       \n",
       "A1CF      0          grey       \n",
       "A2M      22          darkgreen  \n",
       "A2M-AS1   0          grey       \n",
       "A2ML1     0          grey       "
      ]
     },
     "metadata": {},
     "output_type": "display_data"
    }
   ],
   "source": [
    "head(gene_module)"
   ]
  },
  {
   "cell_type": "code",
   "execution_count": 15,
   "metadata": {},
   "outputs": [],
   "source": [
    "ENSG_HGNCfile <- read.table(paste0(datapath, \"exp_mat/EnsGeneID_Hugo_Observed_Conversions_TH.txt\"), sep = \"\\t\",\n",
    "                           header = T, stringsAsFactors = F, check.names = F)"
   ]
  },
  {
   "cell_type": "code",
   "execution_count": 16,
   "metadata": {},
   "outputs": [
    {
     "data": {
      "text/html": [
       "<table class=\"dataframe\">\n",
       "<caption>A data.frame: 6 × 2</caption>\n",
       "<thead>\n",
       "\t<tr><th></th><th scope=col>HugoID</th><th scope=col>EnsGeneID</th></tr>\n",
       "\t<tr><th></th><th scope=col>&lt;chr&gt;</th><th scope=col>&lt;chr&gt;</th></tr>\n",
       "</thead>\n",
       "<tbody>\n",
       "\t<tr><th scope=row>1</th><td>TSPAN6  </td><td>ENSG00000000003.14</td></tr>\n",
       "\t<tr><th scope=row>2</th><td>TNMD    </td><td>ENSG00000000005.5 </td></tr>\n",
       "\t<tr><th scope=row>3</th><td>DPM1    </td><td>ENSG00000000419.12</td></tr>\n",
       "\t<tr><th scope=row>4</th><td>SCYL3   </td><td>ENSG00000000457.13</td></tr>\n",
       "\t<tr><th scope=row>5</th><td>C1orf112</td><td>ENSG00000000460.16</td></tr>\n",
       "\t<tr><th scope=row>6</th><td>FGR     </td><td>ENSG00000000938.12</td></tr>\n",
       "</tbody>\n",
       "</table>\n"
      ],
      "text/latex": [
       "A data.frame: 6 × 2\n",
       "\\begin{tabular}{r|ll}\n",
       "  & HugoID & EnsGeneID\\\\\n",
       "  & <chr> & <chr>\\\\\n",
       "\\hline\n",
       "\t1 & TSPAN6   & ENSG00000000003.14\\\\\n",
       "\t2 & TNMD     & ENSG00000000005.5 \\\\\n",
       "\t3 & DPM1     & ENSG00000000419.12\\\\\n",
       "\t4 & SCYL3    & ENSG00000000457.13\\\\\n",
       "\t5 & C1orf112 & ENSG00000000460.16\\\\\n",
       "\t6 & FGR      & ENSG00000000938.12\\\\\n",
       "\\end{tabular}\n"
      ],
      "text/markdown": [
       "\n",
       "A data.frame: 6 × 2\n",
       "\n",
       "| <!--/--> | HugoID &lt;chr&gt; | EnsGeneID &lt;chr&gt; |\n",
       "|---|---|---|\n",
       "| 1 | TSPAN6   | ENSG00000000003.14 |\n",
       "| 2 | TNMD     | ENSG00000000005.5  |\n",
       "| 3 | DPM1     | ENSG00000000419.12 |\n",
       "| 4 | SCYL3    | ENSG00000000457.13 |\n",
       "| 5 | C1orf112 | ENSG00000000460.16 |\n",
       "| 6 | FGR      | ENSG00000000938.12 |\n",
       "\n"
      ],
      "text/plain": [
       "  HugoID   EnsGeneID         \n",
       "1 TSPAN6   ENSG00000000003.14\n",
       "2 TNMD     ENSG00000000005.5 \n",
       "3 DPM1     ENSG00000000419.12\n",
       "4 SCYL3    ENSG00000000457.13\n",
       "5 C1orf112 ENSG00000000460.16\n",
       "6 FGR      ENSG00000000938.12"
      ]
     },
     "metadata": {},
     "output_type": "display_data"
    }
   ],
   "source": [
    "head(ENSG_HGNCfile)"
   ]
  },
  {
   "cell_type": "code",
   "execution_count": 17,
   "metadata": {},
   "outputs": [],
   "source": [
    "THhugos <- rownames(gene_module)"
   ]
  },
  {
   "cell_type": "code",
   "execution_count": 18,
   "metadata": {},
   "outputs": [],
   "source": [
    "hugo2ensg <- match(THhugos, ENSG_HGNCfile$HugoID)\n",
    "\n",
    "gene_module$ensembl_id_TH <- ENSG_HGNCfile$EnsGeneID[hugo2ensg]\n",
    "\n",
    "gene_module$ensembl_id <- gsub(\"[.].*\", \"\", gene_module$ensembl_id_TH)"
   ]
  },
  {
   "cell_type": "code",
   "execution_count": 19,
   "metadata": {},
   "outputs": [
    {
     "data": {
      "text/html": [
       "<table class=\"dataframe\">\n",
       "<caption>A data.frame: 6 × 4</caption>\n",
       "<thead>\n",
       "\t<tr><th></th><th scope=col>moduleLabel</th><th scope=col>moduleColor</th><th scope=col>ensembl_id_TH</th><th scope=col>ensembl_id</th></tr>\n",
       "\t<tr><th></th><th scope=col>&lt;dbl&gt;</th><th scope=col>&lt;chr&gt;</th><th scope=col>&lt;chr&gt;</th><th scope=col>&lt;chr&gt;</th></tr>\n",
       "</thead>\n",
       "<tbody>\n",
       "\t<tr><th scope=row>A1BG</th><td> 0</td><td>grey     </td><td>ENSG00000121410.11</td><td>ENSG00000121410</td></tr>\n",
       "\t<tr><th scope=row>A1BG-AS1</th><td> 0</td><td>grey     </td><td>ENSG00000268895.5 </td><td>ENSG00000268895</td></tr>\n",
       "\t<tr><th scope=row>A1CF</th><td> 0</td><td>grey     </td><td>ENSG00000148584.14</td><td>ENSG00000148584</td></tr>\n",
       "\t<tr><th scope=row>A2M</th><td>22</td><td>darkgreen</td><td>ENSG00000175899.14</td><td>ENSG00000175899</td></tr>\n",
       "\t<tr><th scope=row>A2M-AS1</th><td> 0</td><td>grey     </td><td>ENSG00000245105.2 </td><td>ENSG00000245105</td></tr>\n",
       "\t<tr><th scope=row>A2ML1</th><td> 0</td><td>grey     </td><td>ENSG00000166535.19</td><td>ENSG00000166535</td></tr>\n",
       "</tbody>\n",
       "</table>\n"
      ],
      "text/latex": [
       "A data.frame: 6 × 4\n",
       "\\begin{tabular}{r|llll}\n",
       "  & moduleLabel & moduleColor & ensembl\\_id\\_TH & ensembl\\_id\\\\\n",
       "  & <dbl> & <chr> & <chr> & <chr>\\\\\n",
       "\\hline\n",
       "\tA1BG &  0 & grey      & ENSG00000121410.11 & ENSG00000121410\\\\\n",
       "\tA1BG-AS1 &  0 & grey      & ENSG00000268895.5  & ENSG00000268895\\\\\n",
       "\tA1CF &  0 & grey      & ENSG00000148584.14 & ENSG00000148584\\\\\n",
       "\tA2M & 22 & darkgreen & ENSG00000175899.14 & ENSG00000175899\\\\\n",
       "\tA2M-AS1 &  0 & grey      & ENSG00000245105.2  & ENSG00000245105\\\\\n",
       "\tA2ML1 &  0 & grey      & ENSG00000166535.19 & ENSG00000166535\\\\\n",
       "\\end{tabular}\n"
      ],
      "text/markdown": [
       "\n",
       "A data.frame: 6 × 4\n",
       "\n",
       "| <!--/--> | moduleLabel &lt;dbl&gt; | moduleColor &lt;chr&gt; | ensembl_id_TH &lt;chr&gt; | ensembl_id &lt;chr&gt; |\n",
       "|---|---|---|---|---|\n",
       "| A1BG |  0 | grey      | ENSG00000121410.11 | ENSG00000121410 |\n",
       "| A1BG-AS1 |  0 | grey      | ENSG00000268895.5  | ENSG00000268895 |\n",
       "| A1CF |  0 | grey      | ENSG00000148584.14 | ENSG00000148584 |\n",
       "| A2M | 22 | darkgreen | ENSG00000175899.14 | ENSG00000175899 |\n",
       "| A2M-AS1 |  0 | grey      | ENSG00000245105.2  | ENSG00000245105 |\n",
       "| A2ML1 |  0 | grey      | ENSG00000166535.19 | ENSG00000166535 |\n",
       "\n"
      ],
      "text/plain": [
       "         moduleLabel moduleColor ensembl_id_TH      ensembl_id     \n",
       "A1BG      0          grey        ENSG00000121410.11 ENSG00000121410\n",
       "A1BG-AS1  0          grey        ENSG00000268895.5  ENSG00000268895\n",
       "A1CF      0          grey        ENSG00000148584.14 ENSG00000148584\n",
       "A2M      22          darkgreen   ENSG00000175899.14 ENSG00000175899\n",
       "A2M-AS1   0          grey        ENSG00000245105.2  ENSG00000245105\n",
       "A2ML1     0          grey        ENSG00000166535.19 ENSG00000166535"
      ]
     },
     "metadata": {},
     "output_type": "display_data"
    }
   ],
   "source": [
    "head(gene_module)"
   ]
  },
  {
   "cell_type": "markdown",
   "metadata": {},
   "source": [
    "### Add entrez ID and run GO"
   ]
  },
  {
   "cell_type": "code",
   "execution_count": 20,
   "metadata": {},
   "outputs": [],
   "source": [
    "hg38 <- useMart(biomart=\"ENSEMBL_MART_ENSEMBL\", host=\"useast.ensembl.org\", \n",
    "                 path=\"/biomart/martservice\", dataset=\"hsapiens_gene_ensembl\")"
   ]
  },
  {
   "cell_type": "code",
   "execution_count": 21,
   "metadata": {},
   "outputs": [],
   "source": [
    "TH_ensembl <- gene_module$ensembl_id"
   ]
  },
  {
   "cell_type": "code",
   "execution_count": 22,
   "metadata": {},
   "outputs": [],
   "source": [
    "ensembl_hgnc_entrez <- getBM(filters=\"ensembl_gene_id\",\n",
    "                      attributes=c(\"ensembl_gene_id\", \"hgnc_symbol\", \"entrezgene_id\", \"gene_biotype\"), \n",
    "                      values= TH_ensembl, mart=hg38)"
   ]
  },
  {
   "cell_type": "code",
   "execution_count": 23,
   "metadata": {},
   "outputs": [
    {
     "data": {
      "text/html": [
       "<table class=\"dataframe\">\n",
       "<caption>A data.frame: 6 × 4</caption>\n",
       "<thead>\n",
       "\t<tr><th></th><th scope=col>ensembl_gene_id</th><th scope=col>hgnc_symbol</th><th scope=col>entrezgene_id</th><th scope=col>gene_biotype</th></tr>\n",
       "\t<tr><th></th><th scope=col>&lt;chr&gt;</th><th scope=col>&lt;chr&gt;</th><th scope=col>&lt;int&gt;</th><th scope=col>&lt;chr&gt;</th></tr>\n",
       "</thead>\n",
       "<tbody>\n",
       "\t<tr><th scope=row>1</th><td>ENSG00000000419</td><td>DPM1    </td><td> 8813</td><td>protein_coding</td></tr>\n",
       "\t<tr><th scope=row>2</th><td>ENSG00000000460</td><td>C1orf112</td><td>55732</td><td>protein_coding</td></tr>\n",
       "\t<tr><th scope=row>3</th><td>ENSG00000000971</td><td>CFH     </td><td> 3075</td><td>protein_coding</td></tr>\n",
       "\t<tr><th scope=row>4</th><td>ENSG00000001626</td><td>CFTR    </td><td> 1080</td><td>protein_coding</td></tr>\n",
       "\t<tr><th scope=row>5</th><td>ENSG00000001629</td><td>ANKIB1  </td><td>54467</td><td>protein_coding</td></tr>\n",
       "\t<tr><th scope=row>6</th><td>ENSG00000001630</td><td>CYP51A1 </td><td> 1595</td><td>protein_coding</td></tr>\n",
       "</tbody>\n",
       "</table>\n"
      ],
      "text/latex": [
       "A data.frame: 6 × 4\n",
       "\\begin{tabular}{r|llll}\n",
       "  & ensembl\\_gene\\_id & hgnc\\_symbol & entrezgene\\_id & gene\\_biotype\\\\\n",
       "  & <chr> & <chr> & <int> & <chr>\\\\\n",
       "\\hline\n",
       "\t1 & ENSG00000000419 & DPM1     &  8813 & protein\\_coding\\\\\n",
       "\t2 & ENSG00000000460 & C1orf112 & 55732 & protein\\_coding\\\\\n",
       "\t3 & ENSG00000000971 & CFH      &  3075 & protein\\_coding\\\\\n",
       "\t4 & ENSG00000001626 & CFTR     &  1080 & protein\\_coding\\\\\n",
       "\t5 & ENSG00000001629 & ANKIB1   & 54467 & protein\\_coding\\\\\n",
       "\t6 & ENSG00000001630 & CYP51A1  &  1595 & protein\\_coding\\\\\n",
       "\\end{tabular}\n"
      ],
      "text/markdown": [
       "\n",
       "A data.frame: 6 × 4\n",
       "\n",
       "| <!--/--> | ensembl_gene_id &lt;chr&gt; | hgnc_symbol &lt;chr&gt; | entrezgene_id &lt;int&gt; | gene_biotype &lt;chr&gt; |\n",
       "|---|---|---|---|---|\n",
       "| 1 | ENSG00000000419 | DPM1     |  8813 | protein_coding |\n",
       "| 2 | ENSG00000000460 | C1orf112 | 55732 | protein_coding |\n",
       "| 3 | ENSG00000000971 | CFH      |  3075 | protein_coding |\n",
       "| 4 | ENSG00000001626 | CFTR     |  1080 | protein_coding |\n",
       "| 5 | ENSG00000001629 | ANKIB1   | 54467 | protein_coding |\n",
       "| 6 | ENSG00000001630 | CYP51A1  |  1595 | protein_coding |\n",
       "\n"
      ],
      "text/plain": [
       "  ensembl_gene_id hgnc_symbol entrezgene_id gene_biotype  \n",
       "1 ENSG00000000419 DPM1         8813         protein_coding\n",
       "2 ENSG00000000460 C1orf112    55732         protein_coding\n",
       "3 ENSG00000000971 CFH          3075         protein_coding\n",
       "4 ENSG00000001626 CFTR         1080         protein_coding\n",
       "5 ENSG00000001629 ANKIB1      54467         protein_coding\n",
       "6 ENSG00000001630 CYP51A1      1595         protein_coding"
      ]
     },
     "metadata": {},
     "output_type": "display_data"
    }
   ],
   "source": [
    "head(ensembl_hgnc_entrez)"
   ]
  },
  {
   "cell_type": "code",
   "execution_count": 24,
   "metadata": {},
   "outputs": [],
   "source": [
    "hugo2ensg <- match(THhugos, ENSG_HGNCfile$HugoID)\n",
    "gene_module$ensembl_id_TH <- ENSG_HGNCfile$EnsGeneID[hugo2ensg]\n",
    "gene_module$ensembl_id <- gsub(\"[.].*\", \"\", gene_module$ensembl_id_TH)"
   ]
  },
  {
   "cell_type": "code",
   "execution_count": 25,
   "metadata": {},
   "outputs": [],
   "source": [
    "ensembl2entrez <- match(TH_ensembl, ensembl_hgnc_entrez$ensembl_gene_id)\n",
    "\n",
    "gene_module$entrez <- ensembl_hgnc_entrez$entrezgene_id[ensembl2entrez]"
   ]
  },
  {
   "cell_type": "code",
   "execution_count": 26,
   "metadata": {},
   "outputs": [],
   "source": [
    "write.csv(gene_module, file = paste0(datapath, \"WGCNA/TH/gene_module_treehouse_manual_signed_20.csv\"))"
   ]
  },
  {
   "cell_type": "code",
   "execution_count": 27,
   "metadata": {},
   "outputs": [],
   "source": [
    "allentrez <- ensembl_hgnc_entrez$entrezgene_id[ensembl2entrez]"
   ]
  },
  {
   "cell_type": "code",
   "execution_count": 28,
   "metadata": {},
   "outputs": [
    {
     "name": "stderr",
     "output_type": "stream",
     "text": [
      "Warning message in GOenrichmentAnalysis(gene_module$moduleColor, allentrez, organism = \"human\", :\n",
      "“This function is deprecated and will be removed in the near future. \n",
      "We suggest using the replacement function enrichmentAnalysis \n",
      "in R package anRichment, available from the following URL:\n",
      "https://labs.genetics.ucla.edu/horvath/htdocs/CoexpressionNetwork/GeneAnnotation/”\n",
      "Loading required package: org.Hs.eg.db\n",
      "\n",
      "Loading required package: AnnotationDbi\n",
      "\n",
      "Loading required package: stats4\n",
      "\n",
      "Loading required package: BiocGenerics\n",
      "\n",
      "Loading required package: parallel\n",
      "\n",
      "\n",
      "Attaching package: ‘BiocGenerics’\n",
      "\n",
      "\n",
      "The following objects are masked from ‘package:parallel’:\n",
      "\n",
      "    clusterApply, clusterApplyLB, clusterCall, clusterEvalQ,\n",
      "    clusterExport, clusterMap, parApply, parCapply, parLapply,\n",
      "    parLapplyLB, parRapply, parSapply, parSapplyLB\n",
      "\n",
      "\n",
      "The following objects are masked from ‘package:stats’:\n",
      "\n",
      "    IQR, mad, sd, var, xtabs\n",
      "\n",
      "\n",
      "The following objects are masked from ‘package:base’:\n",
      "\n",
      "    anyDuplicated, append, as.data.frame, basename, cbind, colnames,\n",
      "    dirname, do.call, duplicated, eval, evalq, Filter, Find, get, grep,\n",
      "    grepl, intersect, is.unsorted, lapply, Map, mapply, match, mget,\n",
      "    order, paste, pmax, pmax.int, pmin, pmin.int, Position, rank,\n",
      "    rbind, Reduce, rownames, sapply, setdiff, sort, table, tapply,\n",
      "    union, unique, unsplit, which.max, which.min\n",
      "\n",
      "\n",
      "Loading required package: Biobase\n",
      "\n",
      "Welcome to Bioconductor\n",
      "\n",
      "    Vignettes contain introductory material; view with\n",
      "    'browseVignettes()'. To cite Bioconductor, see\n",
      "    'citation(\"Biobase\")', and for packages 'citation(\"pkgname\")'.\n",
      "\n",
      "\n",
      "Loading required package: IRanges\n",
      "\n",
      "Loading required package: S4Vectors\n",
      "\n",
      "\n",
      "Attaching package: ‘S4Vectors’\n",
      "\n",
      "\n",
      "The following object is masked from ‘package:base’:\n",
      "\n",
      "    expand.grid\n",
      "\n",
      "\n",
      "\n",
      "\n",
      "Loading required package: GO.db\n",
      "\n"
     ]
    },
    {
     "name": "stdout",
     "output_type": "stream",
     "text": [
      " GOenrichmentAnalysis: loading annotation data...\n",
      "  ..of the 18175  Entrez identifiers submitted, 16720 are mapped in current GO categories.\n",
      "  ..will use 16720 background genes for enrichment calculations.\n",
      "  ..preparing term lists (this may take a while).. \n",
      "  ..working on label set 1 ..\n",
      "    ..calculating enrichments (this may also take a while)..\n",
      "    ..putting together terms with highest enrichment significance..\n"
     ]
    }
   ],
   "source": [
    "GOenr <- GOenrichmentAnalysis(gene_module$moduleColor, allentrez, organism = \"human\", nBestP = 10)"
   ]
  },
  {
   "cell_type": "code",
   "execution_count": 29,
   "metadata": {},
   "outputs": [],
   "source": [
    "tab <- GOenr$bestPTerms[[4]]$enrichment"
   ]
  },
  {
   "cell_type": "code",
   "execution_count": 30,
   "metadata": {},
   "outputs": [],
   "source": [
    "keepCols <- c(1, 2, 5, 6, 7, 12, 13)\n",
    "screenTab <- tab[, keepCols]\n",
    "numCols <- c(3, 4)\n",
    "screenTab[, numCols] <- signif(apply(screenTab[, numCols], 2, as.numeric), 2)"
   ]
  },
  {
   "cell_type": "code",
   "execution_count": 31,
   "metadata": {},
   "outputs": [],
   "source": [
    "write.csv(screenTab, file = paste0(datapath, \"WGCNA/TH/GO_TH_cons_manual_signed_20.csv\"))"
   ]
  },
  {
   "cell_type": "code",
   "execution_count": null,
   "metadata": {},
   "outputs": [],
   "source": []
  },
  {
   "cell_type": "code",
   "execution_count": null,
   "metadata": {},
   "outputs": [],
   "source": []
  }
 ],
 "metadata": {
  "kernelspec": {
   "display_name": "R 4.0",
   "language": "R",
   "name": "ir40"
  },
  "language_info": {
   "codemirror_mode": "r",
   "file_extension": ".r",
   "mimetype": "text/x-r-source",
   "name": "R",
   "pygments_lexer": "r",
   "version": "4.0.3"
  },
  "toc": {
   "base_numbering": 1,
   "nav_menu": {},
   "number_sections": false,
   "sideBar": true,
   "skip_h1_title": false,
   "title_cell": "Table of Contents",
   "title_sidebar": "Contents",
   "toc_cell": true,
   "toc_position": {
    "height": "calc(100% - 180px)",
    "left": "10px",
    "top": "150px",
    "width": "165px"
   },
   "toc_section_display": true,
   "toc_window_display": true
  }
 },
 "nbformat": 4,
 "nbformat_minor": 2
}
