{
 "cells": [
  {
   "cell_type": "markdown",
   "metadata": {
    "toc": true
   },
   "source": [
    "<h1>Table of Contents<span class=\"tocSkip\"></span></h1>\n",
    "<div class=\"toc\"><ul class=\"toc-item\"><li><span><a href=\"#Dependencies\" data-toc-modified-id=\"Dependencies-1\">Dependencies</a></span></li><li><span><a href=\"#Functions\" data-toc-modified-id=\"Functions-2\">Functions</a></span></li><li><span><a href=\"#Paths\" data-toc-modified-id=\"Paths-3\">Paths</a></span></li><li><span><a href=\"#Main\" data-toc-modified-id=\"Main-4\">Main</a></span></li><li><span><a href=\"#PFS-association-with-TMB\" data-toc-modified-id=\"PFS-association-with-TMB-5\">PFS association with TMB</a></span></li><li><span><a href=\"#Table-S4\" data-toc-modified-id=\"Table-S4-6\">Table S4</a></span></li><li><span><a href=\"#PFS-association-of-recurrent-alterations\" data-toc-modified-id=\"PFS-association-of-recurrent-alterations-7\">PFS association of recurrent alterations</a></span><ul class=\"toc-item\"><li><span><a href=\"#Table-S5\" data-toc-modified-id=\"Table-S5-7.1\">Table S5</a></span></li><li><span><a href=\"#Table-S6\" data-toc-modified-id=\"Table-S6-7.2\">Table S6</a></span></li></ul></li></ul></div>"
   ]
  },
  {
   "cell_type": "markdown",
   "metadata": {},
   "source": [
    "# Dependencies"
   ]
  },
  {
   "cell_type": "code",
   "execution_count": 1,
   "metadata": {},
   "outputs": [],
   "source": [
    "options(scipen = 999)"
   ]
  },
  {
   "cell_type": "code",
   "execution_count": 2,
   "metadata": {},
   "outputs": [
    {
     "name": "stderr",
     "output_type": "stream",
     "text": [
      "Loading required package: ggpubr\n",
      "\n",
      "Loading required package: lattice\n",
      "\n",
      "Loading required package: Formula\n",
      "\n",
      "\n",
      "Attaching package: ‘Hmisc’\n",
      "\n",
      "\n",
      "The following objects are masked from ‘package:base’:\n",
      "\n",
      "    format.pval, units\n",
      "\n",
      "\n",
      "Loading required package: grid\n",
      "\n",
      "Loading required package: magrittr\n",
      "\n",
      "Loading required package: checkmate\n",
      "\n"
     ]
    }
   ],
   "source": [
    "library(ggplot2)\n",
    "library(survival)\n",
    "library(survminer)\n",
    "library(Hmisc)\n",
    "library(forestplot)"
   ]
  },
  {
   "cell_type": "markdown",
   "metadata": {},
   "source": [
    "# Functions\n"
   ]
  },
  {
   "cell_type": "code",
   "execution_count": 3,
   "metadata": {},
   "outputs": [],
   "source": [
    "source(\"~/OneDrive - UHN/R_src/ggplot2_theme.R\")"
   ]
  },
  {
   "cell_type": "markdown",
   "metadata": {},
   "source": [
    "# Paths"
   ]
  },
  {
   "cell_type": "code",
   "execution_count": 4,
   "metadata": {},
   "outputs": [],
   "source": [
    "datapath <- \"/Users/anabbi/OneDrive - UHN/Documents/INDICATE/Data/\"\n",
    "plotpath <- \"/Users/anabbi/OneDrive - UHN/Documents/INDICATE/Plots/\"\n",
    "manifestpath <- \"/Users/anabbi/OneDrive - UHN/Documents/INDICATE/Manifests/\""
   ]
  },
  {
   "cell_type": "markdown",
   "metadata": {},
   "source": [
    "# Main"
   ]
  },
  {
   "cell_type": "code",
   "execution_count": 5,
   "metadata": {},
   "outputs": [],
   "source": [
    "metadata <- read.csv(file.path(datapath,\"IND_estimate_metadata_IHC_trb_tmb.csv\"),header = T, stringsAsFactors = F, \n",
    "                     check.names = F)"
   ]
  },
  {
   "cell_type": "markdown",
   "metadata": {},
   "source": [
    "# PFS association with TMB"
   ]
  },
  {
   "cell_type": "markdown",
   "metadata": {},
   "source": [
    "Only those with fmi data and available TMB score"
   ]
  },
  {
   "cell_type": "code",
   "execution_count": 6,
   "metadata": {},
   "outputs": [],
   "source": [
    "metadata_f1 <- metadata[!is.na(metadata$TMB_Score),]"
   ]
  },
  {
   "cell_type": "code",
   "execution_count": 7,
   "metadata": {},
   "outputs": [
    {
     "data": {
      "text/html": [
       "<table class=\"dataframe\">\n",
       "<caption>A data.frame: 6 × 77</caption>\n",
       "<thead>\n",
       "\t<tr><th></th><th scope=col>SAMPLE.ID</th><th scope=col>sample_id</th><th scope=col>Patient.ID.x</th><th scope=col>STUDYID</th><th scope=col>USUBJID</th><th scope=col>AGE</th><th scope=col>AGEU</th><th scope=col>TRTDUR</th><th scope=col>COHORT</th><th scope=col>TTYPE</th><th scope=col>⋯</th><th scope=col>SE_Shannon</th><th scope=col>observed_Simpson</th><th scope=col>estimated_Simpson</th><th scope=col>SE_Simpson</th><th scope=col>ALIQUOT</th><th scope=col>SUBJECT.ID</th><th scope=col>QC_Status</th><th scope=col>TMB_Score</th><th scope=col>TMB_Confidence</th><th scope=col>PDL1</th></tr>\n",
       "\t<tr><th></th><th scope=col>&lt;chr&gt;</th><th scope=col>&lt;chr&gt;</th><th scope=col>&lt;int&gt;</th><th scope=col>&lt;chr&gt;</th><th scope=col>&lt;chr&gt;</th><th scope=col>&lt;int&gt;</th><th scope=col>&lt;chr&gt;</th><th scope=col>&lt;int&gt;</th><th scope=col>&lt;chr&gt;</th><th scope=col>&lt;chr&gt;</th><th scope=col>⋯</th><th scope=col>&lt;dbl&gt;</th><th scope=col>&lt;dbl&gt;</th><th scope=col>&lt;dbl&gt;</th><th scope=col>&lt;dbl&gt;</th><th scope=col>&lt;chr&gt;</th><th scope=col>&lt;int&gt;</th><th scope=col>&lt;chr&gt;</th><th scope=col>&lt;dbl&gt;</th><th scope=col>&lt;chr&gt;</th><th scope=col>&lt;chr&gt;</th></tr>\n",
       "</thead>\n",
       "<tbody>\n",
       "\t<tr><th scope=row>1</th><td>06520001B</td><td>06520001B0023R</td><td>11010601</td><td>GO29664</td><td>GO29664-283971-11010601</td><td>19</td><td>YEARS</td><td>  1</td><td>Cohort 6 (OSTEOSARCOMA)                                          </td><td>OSTEOSARCOMA                                                                                          </td><td>⋯</td><td>1.481</td><td> 10.086</td><td> 11.566</td><td>2.101</td><td>TRF185855.01</td><td> 601</td><td>PASS     </td><td>1.75</td><td>VALID      </td><td>No expression</td></tr>\n",
       "\t<tr><th scope=row>3</th><td>06520004C</td><td>06520004C0018R</td><td>11010201</td><td>GO29664</td><td>GO29664-283658-11010201</td><td>17</td><td>YEARS</td><td>652</td><td>Cohort 2 (HODGKIN LYMPHOMA)                                      </td><td>HODGKIN LYMPHOMA                                                                                      </td><td>⋯</td><td>0.656</td><td>156.560</td><td>157.183</td><td>0.791</td><td>TRF185857.01</td><td> 201</td><td>QUALIFIED</td><td>2.63</td><td>LOWER_BOUND</td><td>High         </td></tr>\n",
       "\t<tr><th scope=row>4</th><td>06520005C</td><td>06520005C0017R</td><td>11010701</td><td>GO29664</td><td>GO29664-283971-11010701</td><td>11</td><td>YEARS</td><td> 22</td><td>Cohort 7 (RHABDOMYOSARCOMA )                                     </td><td>RHABDOMYOSARCOMA - ALVEOLAR                                                                           </td><td>⋯</td><td>0.696</td><td> 11.308</td><td> 11.425</td><td>0.427</td><td>TRF185858.01</td><td> 701</td><td>QUALIFIED</td><td>8.77</td><td>VALID      </td><td>No expression</td></tr>\n",
       "\t<tr><th scope=row>6</th><td>06520007C</td><td>06520007C0018R</td><td>11010604</td><td>GO29664</td><td>GO29664-283971-11010604</td><td>22</td><td>YEARS</td><td> 65</td><td>Cohort 6 (OSTEOSARCOMA)                                          </td><td>OSTEOSARCOMA                                                                                          </td><td>⋯</td><td>0.856</td><td> 30.509</td><td> 30.552</td><td>0.572</td><td>TRF185859.01</td><td> 604</td><td>PASS     </td><td>3.51</td><td>VALID      </td><td>No expression</td></tr>\n",
       "\t<tr><th scope=row>8</th><td>06520010B</td><td>06520010B0023R</td><td>11011002</td><td>GO29664</td><td>GO29664-281049-11011002</td><td>11</td><td>YEARS</td><td> 20</td><td>Cohort 10 (OTHER TUMOR TYPES WITHOUT DOCUMENTED PD-L1 EXPRESSION)</td><td>OTHER TUMOR TYPES WITHOUT DOCUMENTED PD-L1 EXPRESSION (TUMORS TYPE MUST NOT BE INCLUDED IN LIST ABOVE)</td><td>⋯</td><td>0.318</td><td> 24.754</td><td> 24.902</td><td>0.451</td><td>TRF185860.01</td><td>1002</td><td>PASS     </td><td>2.63</td><td>VALID      </td><td>No expression</td></tr>\n",
       "\t<tr><th scope=row>9</th><td>06520011B</td><td>06520011B0023R</td><td>11010103</td><td>GO29664</td><td>GO29664-283495-11010103</td><td>13</td><td>YEARS</td><td>  1</td><td>Cohort 1 (EWING SARCOMA)                                         </td><td>EWING SARCOMA                                                                                         </td><td>⋯</td><td>0.239</td><td>  6.638</td><td>  6.712</td><td>0.316</td><td>TRF185861.01</td><td> 103</td><td>PASS     </td><td>0.88</td><td>VALID      </td><td>No expression</td></tr>\n",
       "</tbody>\n",
       "</table>\n"
      ],
      "text/latex": [
       "A data.frame: 6 × 77\n",
       "\\begin{tabular}{r|lllllllllllllllllllll}\n",
       "  & SAMPLE.ID & sample\\_id & Patient.ID.x & STUDYID & USUBJID & AGE & AGEU & TRTDUR & COHORT & TTYPE & ⋯ & SE\\_Shannon & observed\\_Simpson & estimated\\_Simpson & SE\\_Simpson & ALIQUOT & SUBJECT.ID & QC\\_Status & TMB\\_Score & TMB\\_Confidence & PDL1\\\\\n",
       "  & <chr> & <chr> & <int> & <chr> & <chr> & <int> & <chr> & <int> & <chr> & <chr> & ⋯ & <dbl> & <dbl> & <dbl> & <dbl> & <chr> & <int> & <chr> & <dbl> & <chr> & <chr>\\\\\n",
       "\\hline\n",
       "\t1 & 06520001B & 06520001B0023R & 11010601 & GO29664 & GO29664-283971-11010601 & 19 & YEARS &   1 & Cohort 6 (OSTEOSARCOMA)                                           & OSTEOSARCOMA                                                                                           & ⋯ & 1.481 &  10.086 &  11.566 & 2.101 & TRF185855.01 &  601 & PASS      & 1.75 & VALID       & No expression\\\\\n",
       "\t3 & 06520004C & 06520004C0018R & 11010201 & GO29664 & GO29664-283658-11010201 & 17 & YEARS & 652 & Cohort 2 (HODGKIN LYMPHOMA)                                       & HODGKIN LYMPHOMA                                                                                       & ⋯ & 0.656 & 156.560 & 157.183 & 0.791 & TRF185857.01 &  201 & QUALIFIED & 2.63 & LOWER\\_BOUND & High         \\\\\n",
       "\t4 & 06520005C & 06520005C0017R & 11010701 & GO29664 & GO29664-283971-11010701 & 11 & YEARS &  22 & Cohort 7 (RHABDOMYOSARCOMA )                                      & RHABDOMYOSARCOMA - ALVEOLAR                                                                            & ⋯ & 0.696 &  11.308 &  11.425 & 0.427 & TRF185858.01 &  701 & QUALIFIED & 8.77 & VALID       & No expression\\\\\n",
       "\t6 & 06520007C & 06520007C0018R & 11010604 & GO29664 & GO29664-283971-11010604 & 22 & YEARS &  65 & Cohort 6 (OSTEOSARCOMA)                                           & OSTEOSARCOMA                                                                                           & ⋯ & 0.856 &  30.509 &  30.552 & 0.572 & TRF185859.01 &  604 & PASS      & 3.51 & VALID       & No expression\\\\\n",
       "\t8 & 06520010B & 06520010B0023R & 11011002 & GO29664 & GO29664-281049-11011002 & 11 & YEARS &  20 & Cohort 10 (OTHER TUMOR TYPES WITHOUT DOCUMENTED PD-L1 EXPRESSION) & OTHER TUMOR TYPES WITHOUT DOCUMENTED PD-L1 EXPRESSION (TUMORS TYPE MUST NOT BE INCLUDED IN LIST ABOVE) & ⋯ & 0.318 &  24.754 &  24.902 & 0.451 & TRF185860.01 & 1002 & PASS      & 2.63 & VALID       & No expression\\\\\n",
       "\t9 & 06520011B & 06520011B0023R & 11010103 & GO29664 & GO29664-283495-11010103 & 13 & YEARS &   1 & Cohort 1 (EWING SARCOMA)                                          & EWING SARCOMA                                                                                          & ⋯ & 0.239 &   6.638 &   6.712 & 0.316 & TRF185861.01 &  103 & PASS      & 0.88 & VALID       & No expression\\\\\n",
       "\\end{tabular}\n"
      ],
      "text/markdown": [
       "\n",
       "A data.frame: 6 × 77\n",
       "\n",
       "| <!--/--> | SAMPLE.ID &lt;chr&gt; | sample_id &lt;chr&gt; | Patient.ID.x &lt;int&gt; | STUDYID &lt;chr&gt; | USUBJID &lt;chr&gt; | AGE &lt;int&gt; | AGEU &lt;chr&gt; | TRTDUR &lt;int&gt; | COHORT &lt;chr&gt; | TTYPE &lt;chr&gt; | ⋯ ⋯ | SE_Shannon &lt;dbl&gt; | observed_Simpson &lt;dbl&gt; | estimated_Simpson &lt;dbl&gt; | SE_Simpson &lt;dbl&gt; | ALIQUOT &lt;chr&gt; | SUBJECT.ID &lt;int&gt; | QC_Status &lt;chr&gt; | TMB_Score &lt;dbl&gt; | TMB_Confidence &lt;chr&gt; | PDL1 &lt;chr&gt; |\n",
       "|---|---|---|---|---|---|---|---|---|---|---|---|---|---|---|---|---|---|---|---|---|---|\n",
       "| 1 | 06520001B | 06520001B0023R | 11010601 | GO29664 | GO29664-283971-11010601 | 19 | YEARS |   1 | Cohort 6 (OSTEOSARCOMA)                                           | OSTEOSARCOMA                                                                                           | ⋯ | 1.481 |  10.086 |  11.566 | 2.101 | TRF185855.01 |  601 | PASS      | 1.75 | VALID       | No expression |\n",
       "| 3 | 06520004C | 06520004C0018R | 11010201 | GO29664 | GO29664-283658-11010201 | 17 | YEARS | 652 | Cohort 2 (HODGKIN LYMPHOMA)                                       | HODGKIN LYMPHOMA                                                                                       | ⋯ | 0.656 | 156.560 | 157.183 | 0.791 | TRF185857.01 |  201 | QUALIFIED | 2.63 | LOWER_BOUND | High          |\n",
       "| 4 | 06520005C | 06520005C0017R | 11010701 | GO29664 | GO29664-283971-11010701 | 11 | YEARS |  22 | Cohort 7 (RHABDOMYOSARCOMA )                                      | RHABDOMYOSARCOMA - ALVEOLAR                                                                            | ⋯ | 0.696 |  11.308 |  11.425 | 0.427 | TRF185858.01 |  701 | QUALIFIED | 8.77 | VALID       | No expression |\n",
       "| 6 | 06520007C | 06520007C0018R | 11010604 | GO29664 | GO29664-283971-11010604 | 22 | YEARS |  65 | Cohort 6 (OSTEOSARCOMA)                                           | OSTEOSARCOMA                                                                                           | ⋯ | 0.856 |  30.509 |  30.552 | 0.572 | TRF185859.01 |  604 | PASS      | 3.51 | VALID       | No expression |\n",
       "| 8 | 06520010B | 06520010B0023R | 11011002 | GO29664 | GO29664-281049-11011002 | 11 | YEARS |  20 | Cohort 10 (OTHER TUMOR TYPES WITHOUT DOCUMENTED PD-L1 EXPRESSION) | OTHER TUMOR TYPES WITHOUT DOCUMENTED PD-L1 EXPRESSION (TUMORS TYPE MUST NOT BE INCLUDED IN LIST ABOVE) | ⋯ | 0.318 |  24.754 |  24.902 | 0.451 | TRF185860.01 | 1002 | PASS      | 2.63 | VALID       | No expression |\n",
       "| 9 | 06520011B | 06520011B0023R | 11010103 | GO29664 | GO29664-283495-11010103 | 13 | YEARS |   1 | Cohort 1 (EWING SARCOMA)                                          | EWING SARCOMA                                                                                          | ⋯ | 0.239 |   6.638 |   6.712 | 0.316 | TRF185861.01 |  103 | PASS      | 0.88 | VALID       | No expression |\n",
       "\n"
      ],
      "text/plain": [
       "  SAMPLE.ID sample_id      Patient.ID.x STUDYID USUBJID                 AGE\n",
       "1 06520001B 06520001B0023R 11010601     GO29664 GO29664-283971-11010601 19 \n",
       "3 06520004C 06520004C0018R 11010201     GO29664 GO29664-283658-11010201 17 \n",
       "4 06520005C 06520005C0017R 11010701     GO29664 GO29664-283971-11010701 11 \n",
       "6 06520007C 06520007C0018R 11010604     GO29664 GO29664-283971-11010604 22 \n",
       "8 06520010B 06520010B0023R 11011002     GO29664 GO29664-281049-11011002 11 \n",
       "9 06520011B 06520011B0023R 11010103     GO29664 GO29664-283495-11010103 13 \n",
       "  AGEU  TRTDUR\n",
       "1 YEARS   1   \n",
       "3 YEARS 652   \n",
       "4 YEARS  22   \n",
       "6 YEARS  65   \n",
       "8 YEARS  20   \n",
       "9 YEARS   1   \n",
       "  COHORT                                                           \n",
       "1 Cohort 6 (OSTEOSARCOMA)                                          \n",
       "3 Cohort 2 (HODGKIN LYMPHOMA)                                      \n",
       "4 Cohort 7 (RHABDOMYOSARCOMA )                                     \n",
       "6 Cohort 6 (OSTEOSARCOMA)                                          \n",
       "8 Cohort 10 (OTHER TUMOR TYPES WITHOUT DOCUMENTED PD-L1 EXPRESSION)\n",
       "9 Cohort 1 (EWING SARCOMA)                                         \n",
       "  TTYPE                                                                                                 \n",
       "1 OSTEOSARCOMA                                                                                          \n",
       "3 HODGKIN LYMPHOMA                                                                                      \n",
       "4 RHABDOMYOSARCOMA - ALVEOLAR                                                                           \n",
       "6 OSTEOSARCOMA                                                                                          \n",
       "8 OTHER TUMOR TYPES WITHOUT DOCUMENTED PD-L1 EXPRESSION (TUMORS TYPE MUST NOT BE INCLUDED IN LIST ABOVE)\n",
       "9 EWING SARCOMA                                                                                         \n",
       "  ⋯ SE_Shannon observed_Simpson estimated_Simpson SE_Simpson ALIQUOT     \n",
       "1 ⋯ 1.481       10.086           11.566           2.101      TRF185855.01\n",
       "3 ⋯ 0.656      156.560          157.183           0.791      TRF185857.01\n",
       "4 ⋯ 0.696       11.308           11.425           0.427      TRF185858.01\n",
       "6 ⋯ 0.856       30.509           30.552           0.572      TRF185859.01\n",
       "8 ⋯ 0.318       24.754           24.902           0.451      TRF185860.01\n",
       "9 ⋯ 0.239        6.638            6.712           0.316      TRF185861.01\n",
       "  SUBJECT.ID QC_Status TMB_Score TMB_Confidence PDL1         \n",
       "1  601       PASS      1.75      VALID          No expression\n",
       "3  201       QUALIFIED 2.63      LOWER_BOUND    High         \n",
       "4  701       QUALIFIED 8.77      VALID          No expression\n",
       "6  604       PASS      3.51      VALID          No expression\n",
       "8 1002       PASS      2.63      VALID          No expression\n",
       "9  103       PASS      0.88      VALID          No expression"
      ]
     },
     "metadata": {},
     "output_type": "display_data"
    }
   ],
   "source": [
    "head(metadata_f1)"
   ]
  },
  {
   "cell_type": "markdown",
   "metadata": {},
   "source": [
    "# Table S4"
   ]
  },
  {
   "cell_type": "code",
   "execution_count": 8,
   "metadata": {},
   "outputs": [],
   "source": [
    "xlsx::write.xlsx(metadata_f1[,c(\"sample_id\", \"TMB_Score\", \"TMB_Confidence\")], \n",
    "                 file = \"~/OneDrive - UHN/Documents/Manuscripts/INDICATE/v2/TableS4.xlsx\",row.names = F)"
   ]
  },
  {
   "cell_type": "code",
   "execution_count": 9,
   "metadata": {},
   "outputs": [
    {
     "data": {
      "text/plain": [
       "   Min. 1st Qu.  Median    Mean 3rd Qu.    Max. \n",
       "  0.000   1.750   2.630   3.939   4.825  18.430 "
      ]
     },
     "metadata": {},
     "output_type": "display_data"
    }
   ],
   "source": [
    "summary(metadata_f1$TMB_Score)"
   ]
  },
  {
   "cell_type": "code",
   "execution_count": 10,
   "metadata": {},
   "outputs": [
    {
     "data": {
      "text/html": [
       "<style>\n",
       ".list-inline {list-style: none; margin:0; padding: 0}\n",
       ".list-inline>li {display: inline-block}\n",
       ".list-inline>li:not(:last-child)::after {content: \"\\00b7\"; padding: 0 .5ex}\n",
       "</style>\n",
       "<ol class=list-inline><li>51</li><li>77</li></ol>\n"
      ],
      "text/latex": [
       "\\begin{enumerate*}\n",
       "\\item 51\n",
       "\\item 77\n",
       "\\end{enumerate*}\n"
      ],
      "text/markdown": [
       "1. 51\n",
       "2. 77\n",
       "\n",
       "\n"
      ],
      "text/plain": [
       "[1] 51 77"
      ]
     },
     "metadata": {},
     "output_type": "display_data"
    }
   ],
   "source": [
    "dim(metadata_f1)"
   ]
  },
  {
   "cell_type": "code",
   "execution_count": 11,
   "metadata": {},
   "outputs": [
    {
     "data": {
      "text/html": [
       "<style>\n",
       ".list-inline {list-style: none; margin:0; padding: 0}\n",
       ".list-inline>li {display: inline-block}\n",
       ".list-inline>li:not(:last-child)::after {content: \"\\00b7\"; padding: 0 .5ex}\n",
       "</style>\n",
       "<ol class=list-inline><li>'Metastatic'</li><li>'Metastatic'</li></ol>\n"
      ],
      "text/latex": [
       "\\begin{enumerate*}\n",
       "\\item 'Metastatic'\n",
       "\\item 'Metastatic'\n",
       "\\end{enumerate*}\n"
      ],
      "text/markdown": [
       "1. 'Metastatic'\n",
       "2. 'Metastatic'\n",
       "\n",
       "\n"
      ],
      "text/plain": [
       "[1] \"Metastatic\" \"Metastatic\""
      ]
     },
     "metadata": {},
     "output_type": "display_data"
    }
   ],
   "source": [
    "metadata_f1$tumor_type[metadata_f1$TMB_Score > 10] "
   ]
  },
  {
   "cell_type": "code",
   "execution_count": 12,
   "metadata": {},
   "outputs": [],
   "source": [
    "metadata_f1$TMBgroup <- NA\n",
    "metadata_f1$TMBgroup[metadata_f1$TMB_Score >= 4.825] <- \"TMB high\"\n",
    "metadata_f1$TMBgroup[metadata_f1$TMB_Score < 4.825 &\n",
    "                    metadata_f1$TMB_Score > 1.75] <- \"TMB intermediate\"\n",
    "metadata_f1$TMBgroup[metadata_f1$TMB_Score <= 1.750] <- \"TMB low\""
   ]
  },
  {
   "cell_type": "code",
   "execution_count": 13,
   "metadata": {},
   "outputs": [
    {
     "data": {
      "image/png": "[encoded data removed]",
      "text/plain": [
       "plot without title"
      ]
     },
     "metadata": {
      "image/png": {
       "height": 420,
       "width": 420
      }
     },
     "output_type": "display_data"
    }
   ],
   "source": [
    "sfit <- survfit(Surv(TRTDUR, progressed)~ TMBgroup, data= metadata_f1)\n",
    "\n",
    "kmplot <- ggsurvplot(sfit, conf.int=FALSE, #palette = c(\"blue\", \"red\"),\n",
    "                     pval = TRUE, pval.size = 8, pval.coord = c(300, 0.75),\n",
    "                     risk.table=TRUE, fontsize = 8,\n",
    "                     legend = c(0.7, 0.95),font.legend = 16, legend.title = \"\",\n",
    "                     font.main = 23, font.x = 25,font.y = 25, font.tickslab = 20) \n",
    "\n",
    "kmplot$table <- kmplot$table + theme(axis.text.x = element_text(size = 20))\n",
    "kmplot$plot <- kmplot$plot + labs(title = \"KM analysis of TMB - cutoff = 5\")\n",
    "kmplot"
   ]
  },
  {
   "cell_type": "code",
   "execution_count": 14,
   "metadata": {},
   "outputs": [
    {
     "data": {
      "text/html": [
       "<strong>pdf:</strong> 2"
      ],
      "text/latex": [
       "\\textbf{pdf:} 2"
      ],
      "text/markdown": [
       "**pdf:** 2"
      ],
      "text/plain": [
       "pdf \n",
       "  2 "
      ]
     },
     "metadata": {},
     "output_type": "display_data"
    }
   ],
   "source": [
    "pdf(file = paste0(plotpath,\"KM_TMB_5.pdf\"),\n",
    "    width = 10, \n",
    "    height = 10,\n",
    "    useDingbats = FALSE,\n",
    "    onefile = FALSE)\n",
    "kmplot\n",
    "dev.off()"
   ]
  },
  {
   "cell_type": "code",
   "execution_count": 15,
   "metadata": {},
   "outputs": [
    {
     "data": {
      "text/plain": [
       "   Min. 1st Qu.  Median    Mean 3rd Qu.    Max. \n",
       "  0.000   1.750   2.630   3.939   4.825  18.430 "
      ]
     },
     "metadata": {},
     "output_type": "display_data"
    }
   ],
   "source": [
    "summary(metadata_f1$TMB_Score)"
   ]
  },
  {
   "cell_type": "code",
   "execution_count": 16,
   "metadata": {},
   "outputs": [],
   "source": [
    "metadata_f1$TMBgroup <- NA\n",
    "metadata_f1$TMBgroup[metadata_f1$TMB_Score >= 2.6] <- \"TMB >= median\"\n",
    "metadata_f1$TMBgroup[metadata_f1$TMB_Score < 2.6] <- \"TMB < median\""
   ]
  },
  {
   "cell_type": "code",
   "execution_count": 17,
   "metadata": {},
   "outputs": [
    {
     "data": {
      "image/png": "[encoded data removed]",
      "text/plain": [
       "plot without title"
      ]
     },
     "metadata": {
      "image/png": {
       "height": 420,
       "width": 420
      }
     },
     "output_type": "display_data"
    }
   ],
   "source": [
    "sfit <- survfit(Surv(TRTDUR, progressed)~ TMBgroup, data= metadata_f1)\n",
    "\n",
    "kmplot <- ggsurvplot(sfit, conf.int=FALSE, palette = c(\"blue\", \"red\"),\n",
    "                     pval = TRUE, pval.size = 8, pval.coord = c(300, 0.75),\n",
    "                     risk.table=TRUE, fontsize = 8,\n",
    "                     legend = c(0.7, 0.95),font.legend = 16, legend.title = \"\",\n",
    "                     font.main = 23, font.x = 25,font.y = 25, font.tickslab = 20) \n",
    "\n",
    "kmplot$table <- kmplot$table + theme(axis.text.x = element_text(size = 20))\n",
    "kmplot$plot <- kmplot$plot + labs(title = \"KM analysis of TMB - cutoff = 2.6 (median)\")\n",
    "kmplot"
   ]
  },
  {
   "cell_type": "code",
   "execution_count": 18,
   "metadata": {},
   "outputs": [
    {
     "data": {
      "text/html": [
       "<strong>pdf:</strong> 2"
      ],
      "text/latex": [
       "\\textbf{pdf:} 2"
      ],
      "text/markdown": [
       "**pdf:** 2"
      ],
      "text/plain": [
       "pdf \n",
       "  2 "
      ]
     },
     "metadata": {},
     "output_type": "display_data"
    }
   ],
   "source": [
    "pdf(file = paste0(plotpath,\"KM_TMB_median.pdf\"),\n",
    "    width = 10, \n",
    "    height = 10,\n",
    "    useDingbats = FALSE,\n",
    "    onefile = FALSE)\n",
    "kmplot\n",
    "dev.off()"
   ]
  },
  {
   "cell_type": "markdown",
   "metadata": {},
   "source": [
    "Cox"
   ]
  },
  {
   "cell_type": "code",
   "execution_count": 19,
   "metadata": {},
   "outputs": [
    {
     "data": {
      "text/plain": [
       "Call:\n",
       "coxph(formula = Surv(TRTDUR, progressed) ~ TMB_Score + disease_group, \n",
       "    data = metadata_f1)\n",
       "\n",
       "  n= 46, number of events= 38 \n",
       "   (5 observations deleted due to missingness)\n",
       "\n",
       "                           coef exp(coef)  se(coef)      z Pr(>|z|)  \n",
       "TMB_Score             -0.037938  0.962772  0.052886 -0.717   0.4732  \n",
       "disease_groupLymphoma -0.677449  0.507911  0.828909 -0.817   0.4138  \n",
       "disease_groupNBL       0.209336  1.232860  0.725618  0.288   0.7730  \n",
       "disease_groupOS        1.055016  2.872020  0.776959  1.358   0.1745  \n",
       "disease_groupOthers    0.705814  2.025494  0.743585  0.949   0.3425  \n",
       "disease_groupRMS       1.503989  4.499603  0.738842  2.036   0.0418 *\n",
       "disease_groupRT        0.005798  1.005814  0.925594  0.006   0.9950  \n",
       "disease_groupSARC      1.088749  2.970556  0.787951  1.382   0.1670  \n",
       "disease_groupWILMS     0.078607  1.081779  0.771229  0.102   0.9188  \n",
       "---\n",
       "Signif. codes:  0 ‘***’ 0.001 ‘**’ 0.01 ‘*’ 0.05 ‘.’ 0.1 ‘ ’ 1\n",
       "\n",
       "                      exp(coef) exp(-coef) lower .95 upper .95\n",
       "TMB_Score                0.9628     1.0387    0.8680     1.068\n",
       "disease_groupLymphoma    0.5079     1.9688    0.1001     2.578\n",
       "disease_groupNBL         1.2329     0.8111    0.2973     5.112\n",
       "disease_groupOS          2.8720     0.3482    0.6264    13.168\n",
       "disease_groupOthers      2.0255     0.4937    0.4716     8.699\n",
       "disease_groupRMS         4.4996     0.2222    1.0575    19.146\n",
       "disease_groupRT          1.0058     0.9942    0.1639     6.171\n",
       "disease_groupSARC        2.9706     0.3366    0.6341    13.917\n",
       "disease_groupWILMS       1.0818     0.9244    0.2386     4.905\n",
       "\n",
       "Concordance= 0.698  (se = 0.044 )\n",
       "Likelihood ratio test= 14  on 9 df,   p=0.1\n",
       "Wald test            = 13.69  on 9 df,   p=0.1\n",
       "Score (logrank) test = 15.74  on 9 df,   p=0.07\n"
      ]
     },
     "metadata": {},
     "output_type": "display_data"
    }
   ],
   "source": [
    "coxmodel <- coxph(Surv(TRTDUR, progressed)~ TMB_Score + disease_group, data= metadata_f1) \n",
    "summary(coxmodel)"
   ]
  },
  {
   "cell_type": "markdown",
   "metadata": {},
   "source": [
    "# PFS association of recurrent alterations"
   ]
  },
  {
   "cell_type": "code",
   "execution_count": 20,
   "metadata": {},
   "outputs": [],
   "source": [
    "f1 <- read.table(paste0(datapath, \"ngs_dna_foundationone.txt\"), sep = \"\\t\",\n",
    "                stringsAsFactors = F, header = T)"
   ]
  },
  {
   "cell_type": "code",
   "execution_count": 21,
   "metadata": {},
   "outputs": [
    {
     "data": {
      "text/html": [
       "<style>\n",
       ".list-inline {list-style: none; margin:0; padding: 0}\n",
       ".list-inline>li {display: inline-block}\n",
       ".list-inline>li:not(:last-child)::after {content: \"\\00b7\"; padding: 0 .5ex}\n",
       "</style>\n",
       "<ol class=list-inline><li>692</li><li>25</li></ol>\n"
      ],
      "text/latex": [
       "\\begin{enumerate*}\n",
       "\\item 692\n",
       "\\item 25\n",
       "\\end{enumerate*}\n"
      ],
      "text/markdown": [
       "1. 692\n",
       "2. 25\n",
       "\n",
       "\n"
      ],
      "text/plain": [
       "[1] 692  25"
      ]
     },
     "metadata": {},
     "output_type": "display_data"
    }
   ],
   "source": [
    "dim(f1)"
   ]
  },
  {
   "cell_type": "code",
   "execution_count": 22,
   "metadata": {},
   "outputs": [
    {
     "data": {
      "text/html": [
       "60"
      ],
      "text/latex": [
       "60"
      ],
      "text/markdown": [
       "60"
      ],
      "text/plain": [
       "[1] 60"
      ]
     },
     "metadata": {},
     "output_type": "display_data"
    }
   ],
   "source": [
    "length(unique(f1$SAMPLE.ID))"
   ]
  },
  {
   "cell_type": "code",
   "execution_count": 23,
   "metadata": {},
   "outputs": [],
   "source": [
    "f1 <- f1[ f1$SAMPLE.ID %in% metadata_f1$SAMPLE.ID,]"
   ]
  },
  {
   "cell_type": "code",
   "execution_count": 24,
   "metadata": {},
   "outputs": [
    {
     "data": {
      "text/html": [
       "<table class=\"dataframe\">\n",
       "<caption>A data.frame: 6 × 25</caption>\n",
       "<thead>\n",
       "\t<tr><th></th><th scope=col>FMI.SAMPLE.ID</th><th scope=col>SUBJECT.ID</th><th scope=col>SAMPLE.ID</th><th scope=col>ALIQUOT</th><th scope=col>VARIANT.TYPE</th><th scope=col>GENE</th><th scope=col>SOMATIC.STATUS.FUNCTIONAL.IMPACT</th><th scope=col>TRANSCRIPT</th><th scope=col>SV.PROTEIN.CHANGE</th><th scope=col>SV.CDS.CHANGE</th><th scope=col>⋯</th><th scope=col>CNA.RATIO</th><th scope=col>CNA.TYPE</th><th scope=col>CNA.POS</th><th scope=col>REARR.GENE1</th><th scope=col>REARR.GENE2</th><th scope=col>REARR.DESCRIPTION</th><th scope=col>REARR.IN.FRAME.</th><th scope=col>REARR.POS1</th><th scope=col>REARR.POS2</th><th scope=col>REARR.NUMBER.OF.READS</th></tr>\n",
       "\t<tr><th></th><th scope=col>&lt;chr&gt;</th><th scope=col>&lt;int&gt;</th><th scope=col>&lt;chr&gt;</th><th scope=col>&lt;chr&gt;</th><th scope=col>&lt;chr&gt;</th><th scope=col>&lt;chr&gt;</th><th scope=col>&lt;chr&gt;</th><th scope=col>&lt;chr&gt;</th><th scope=col>&lt;chr&gt;</th><th scope=col>&lt;chr&gt;</th><th scope=col>⋯</th><th scope=col>&lt;chr&gt;</th><th scope=col>&lt;chr&gt;</th><th scope=col>&lt;chr&gt;</th><th scope=col>&lt;chr&gt;</th><th scope=col>&lt;chr&gt;</th><th scope=col>&lt;chr&gt;</th><th scope=col>&lt;chr&gt;</th><th scope=col>&lt;chr&gt;</th><th scope=col>&lt;chr&gt;</th><th scope=col>&lt;chr&gt;</th></tr>\n",
       "</thead>\n",
       "<tbody>\n",
       "\t<tr><th scope=row>1</th><td>TRF185855</td><td>601</td><td>06520001B</td><td>TRF185855.01</td><td>short-variant</td><td>FANCG</td><td>likely </td><td>NM_004629</td><td>K618fs*3</td><td>1852_1853delAA</td><td>⋯</td><td>-</td><td>-</td><td>-</td><td>-</td><td>-</td><td>-</td><td>-</td><td>-</td><td>-</td><td>-</td></tr>\n",
       "\t<tr><th scope=row>2</th><td>TRF185855</td><td>601</td><td>06520001B</td><td>TRF185855.01</td><td>short-variant</td><td><span style=white-space:pre-wrap>ATR  </span></td><td>unknown</td><td>NM_001184</td><td><span style=white-space:pre-wrap>V2620M  </span></td><td><span style=white-space:pre-wrap>7858G&gt;A       </span></td><td>⋯</td><td>-</td><td>-</td><td>-</td><td>-</td><td>-</td><td>-</td><td>-</td><td>-</td><td>-</td><td>-</td></tr>\n",
       "\t<tr><th scope=row>3</th><td>TRF185855</td><td>601</td><td>06520001B</td><td>TRF185855.01</td><td>short-variant</td><td>CDK12</td><td>unknown</td><td>NM_016507</td><td><span style=white-space:pre-wrap>A1289T  </span></td><td><span style=white-space:pre-wrap>3865G&gt;A       </span></td><td>⋯</td><td>-</td><td>-</td><td>-</td><td>-</td><td>-</td><td>-</td><td>-</td><td>-</td><td>-</td><td>-</td></tr>\n",
       "\t<tr><th scope=row>4</th><td>TRF185855</td><td>601</td><td>06520001B</td><td>TRF185855.01</td><td>short-variant</td><td>FAT1 </td><td>unknown</td><td>NM_005245</td><td><span style=white-space:pre-wrap>A4419T  </span></td><td><span style=white-space:pre-wrap>13255G&gt;A      </span></td><td>⋯</td><td>-</td><td>-</td><td>-</td><td>-</td><td>-</td><td>-</td><td>-</td><td>-</td><td>-</td><td>-</td></tr>\n",
       "\t<tr><th scope=row>5</th><td>TRF185855</td><td>601</td><td>06520001B</td><td>TRF185855.01</td><td>short-variant</td><td>INHBA</td><td>unknown</td><td>NM_002192</td><td><span style=white-space:pre-wrap>V210L   </span></td><td><span style=white-space:pre-wrap>628G&gt;C        </span></td><td>⋯</td><td>-</td><td>-</td><td>-</td><td>-</td><td>-</td><td>-</td><td>-</td><td>-</td><td>-</td><td>-</td></tr>\n",
       "\t<tr><th scope=row>6</th><td>TRF185855</td><td>601</td><td>06520001B</td><td>TRF185855.01</td><td>short-variant</td><td>NCOR1</td><td>unknown</td><td>NM_006311</td><td><span style=white-space:pre-wrap>Q1372H  </span></td><td><span style=white-space:pre-wrap>4116G&gt;C       </span></td><td>⋯</td><td>-</td><td>-</td><td>-</td><td>-</td><td>-</td><td>-</td><td>-</td><td>-</td><td>-</td><td>-</td></tr>\n",
       "</tbody>\n",
       "</table>\n"
      ],
      "text/latex": [
       "A data.frame: 6 × 25\n",
       "\\begin{tabular}{r|lllllllllllllllllllll}\n",
       "  & FMI.SAMPLE.ID & SUBJECT.ID & SAMPLE.ID & ALIQUOT & VARIANT.TYPE & GENE & SOMATIC.STATUS.FUNCTIONAL.IMPACT & TRANSCRIPT & SV.PROTEIN.CHANGE & SV.CDS.CHANGE & ⋯ & CNA.RATIO & CNA.TYPE & CNA.POS & REARR.GENE1 & REARR.GENE2 & REARR.DESCRIPTION & REARR.IN.FRAME. & REARR.POS1 & REARR.POS2 & REARR.NUMBER.OF.READS\\\\\n",
       "  & <chr> & <int> & <chr> & <chr> & <chr> & <chr> & <chr> & <chr> & <chr> & <chr> & ⋯ & <chr> & <chr> & <chr> & <chr> & <chr> & <chr> & <chr> & <chr> & <chr> & <chr>\\\\\n",
       "\\hline\n",
       "\t1 & TRF185855 & 601 & 06520001B & TRF185855.01 & short-variant & FANCG & likely  & NM\\_004629 & K618fs*3 & 1852\\_1853delAA & ⋯ & - & - & - & - & - & - & - & - & - & -\\\\\n",
       "\t2 & TRF185855 & 601 & 06520001B & TRF185855.01 & short-variant & ATR   & unknown & NM\\_001184 & V2620M   & 7858G>A        & ⋯ & - & - & - & - & - & - & - & - & - & -\\\\\n",
       "\t3 & TRF185855 & 601 & 06520001B & TRF185855.01 & short-variant & CDK12 & unknown & NM\\_016507 & A1289T   & 3865G>A        & ⋯ & - & - & - & - & - & - & - & - & - & -\\\\\n",
       "\t4 & TRF185855 & 601 & 06520001B & TRF185855.01 & short-variant & FAT1  & unknown & NM\\_005245 & A4419T   & 13255G>A       & ⋯ & - & - & - & - & - & - & - & - & - & -\\\\\n",
       "\t5 & TRF185855 & 601 & 06520001B & TRF185855.01 & short-variant & INHBA & unknown & NM\\_002192 & V210L    & 628G>C         & ⋯ & - & - & - & - & - & - & - & - & - & -\\\\\n",
       "\t6 & TRF185855 & 601 & 06520001B & TRF185855.01 & short-variant & NCOR1 & unknown & NM\\_006311 & Q1372H   & 4116G>C        & ⋯ & - & - & - & - & - & - & - & - & - & -\\\\\n",
       "\\end{tabular}\n"
      ],
      "text/markdown": [
       "\n",
       "A data.frame: 6 × 25\n",
       "\n",
       "| <!--/--> | FMI.SAMPLE.ID &lt;chr&gt; | SUBJECT.ID &lt;int&gt; | SAMPLE.ID &lt;chr&gt; | ALIQUOT &lt;chr&gt; | VARIANT.TYPE &lt;chr&gt; | GENE &lt;chr&gt; | SOMATIC.STATUS.FUNCTIONAL.IMPACT &lt;chr&gt; | TRANSCRIPT &lt;chr&gt; | SV.PROTEIN.CHANGE &lt;chr&gt; | SV.CDS.CHANGE &lt;chr&gt; | ⋯ ⋯ | CNA.RATIO &lt;chr&gt; | CNA.TYPE &lt;chr&gt; | CNA.POS &lt;chr&gt; | REARR.GENE1 &lt;chr&gt; | REARR.GENE2 &lt;chr&gt; | REARR.DESCRIPTION &lt;chr&gt; | REARR.IN.FRAME. &lt;chr&gt; | REARR.POS1 &lt;chr&gt; | REARR.POS2 &lt;chr&gt; | REARR.NUMBER.OF.READS &lt;chr&gt; |\n",
       "|---|---|---|---|---|---|---|---|---|---|---|---|---|---|---|---|---|---|---|---|---|---|\n",
       "| 1 | TRF185855 | 601 | 06520001B | TRF185855.01 | short-variant | FANCG | likely  | NM_004629 | K618fs*3 | 1852_1853delAA | ⋯ | - | - | - | - | - | - | - | - | - | - |\n",
       "| 2 | TRF185855 | 601 | 06520001B | TRF185855.01 | short-variant | ATR   | unknown | NM_001184 | V2620M   | 7858G&gt;A        | ⋯ | - | - | - | - | - | - | - | - | - | - |\n",
       "| 3 | TRF185855 | 601 | 06520001B | TRF185855.01 | short-variant | CDK12 | unknown | NM_016507 | A1289T   | 3865G&gt;A        | ⋯ | - | - | - | - | - | - | - | - | - | - |\n",
       "| 4 | TRF185855 | 601 | 06520001B | TRF185855.01 | short-variant | FAT1  | unknown | NM_005245 | A4419T   | 13255G&gt;A       | ⋯ | - | - | - | - | - | - | - | - | - | - |\n",
       "| 5 | TRF185855 | 601 | 06520001B | TRF185855.01 | short-variant | INHBA | unknown | NM_002192 | V210L    | 628G&gt;C         | ⋯ | - | - | - | - | - | - | - | - | - | - |\n",
       "| 6 | TRF185855 | 601 | 06520001B | TRF185855.01 | short-variant | NCOR1 | unknown | NM_006311 | Q1372H   | 4116G&gt;C        | ⋯ | - | - | - | - | - | - | - | - | - | - |\n",
       "\n"
      ],
      "text/plain": [
       "  FMI.SAMPLE.ID SUBJECT.ID SAMPLE.ID ALIQUOT      VARIANT.TYPE  GENE \n",
       "1 TRF185855     601        06520001B TRF185855.01 short-variant FANCG\n",
       "2 TRF185855     601        06520001B TRF185855.01 short-variant ATR  \n",
       "3 TRF185855     601        06520001B TRF185855.01 short-variant CDK12\n",
       "4 TRF185855     601        06520001B TRF185855.01 short-variant FAT1 \n",
       "5 TRF185855     601        06520001B TRF185855.01 short-variant INHBA\n",
       "6 TRF185855     601        06520001B TRF185855.01 short-variant NCOR1\n",
       "  SOMATIC.STATUS.FUNCTIONAL.IMPACT TRANSCRIPT SV.PROTEIN.CHANGE SV.CDS.CHANGE \n",
       "1 likely                           NM_004629  K618fs*3          1852_1853delAA\n",
       "2 unknown                          NM_001184  V2620M            7858G>A       \n",
       "3 unknown                          NM_016507  A1289T            3865G>A       \n",
       "4 unknown                          NM_005245  A4419T            13255G>A      \n",
       "5 unknown                          NM_002192  V210L             628G>C        \n",
       "6 unknown                          NM_006311  Q1372H            4116G>C       \n",
       "  ⋯ CNA.RATIO CNA.TYPE CNA.POS REARR.GENE1 REARR.GENE2 REARR.DESCRIPTION\n",
       "1 ⋯ -         -        -       -           -           -                \n",
       "2 ⋯ -         -        -       -           -           -                \n",
       "3 ⋯ -         -        -       -           -           -                \n",
       "4 ⋯ -         -        -       -           -           -                \n",
       "5 ⋯ -         -        -       -           -           -                \n",
       "6 ⋯ -         -        -       -           -           -                \n",
       "  REARR.IN.FRAME. REARR.POS1 REARR.POS2 REARR.NUMBER.OF.READS\n",
       "1 -               -          -          -                    \n",
       "2 -               -          -          -                    \n",
       "3 -               -          -          -                    \n",
       "4 -               -          -          -                    \n",
       "5 -               -          -          -                    \n",
       "6 -               -          -          -                    "
      ]
     },
     "metadata": {},
     "output_type": "display_data"
    }
   ],
   "source": [
    "head(f1)"
   ]
  },
  {
   "cell_type": "code",
   "execution_count": 25,
   "metadata": {},
   "outputs": [
    {
     "data": {
      "text/html": [
       "51"
      ],
      "text/latex": [
       "51"
      ],
      "text/markdown": [
       "51"
      ],
      "text/plain": [
       "[1] 51"
      ]
     },
     "metadata": {},
     "output_type": "display_data"
    }
   ],
   "source": [
    "length(unique(f1$SAMPLE.ID))"
   ]
  },
  {
   "cell_type": "code",
   "execution_count": 26,
   "metadata": {},
   "outputs": [
    {
     "data": {
      "text/html": [
       "<table class=\"dataframe\">\n",
       "<caption>A data.frame: 6 × 25</caption>\n",
       "<thead>\n",
       "\t<tr><th></th><th scope=col>FMI.SAMPLE.ID</th><th scope=col>SUBJECT.ID</th><th scope=col>SAMPLE.ID</th><th scope=col>ALIQUOT</th><th scope=col>VARIANT.TYPE</th><th scope=col>GENE</th><th scope=col>SOMATIC.STATUS.FUNCTIONAL.IMPACT</th><th scope=col>TRANSCRIPT</th><th scope=col>SV.PROTEIN.CHANGE</th><th scope=col>SV.CDS.CHANGE</th><th scope=col>⋯</th><th scope=col>CNA.RATIO</th><th scope=col>CNA.TYPE</th><th scope=col>CNA.POS</th><th scope=col>REARR.GENE1</th><th scope=col>REARR.GENE2</th><th scope=col>REARR.DESCRIPTION</th><th scope=col>REARR.IN.FRAME.</th><th scope=col>REARR.POS1</th><th scope=col>REARR.POS2</th><th scope=col>REARR.NUMBER.OF.READS</th></tr>\n",
       "\t<tr><th></th><th scope=col>&lt;chr&gt;</th><th scope=col>&lt;int&gt;</th><th scope=col>&lt;chr&gt;</th><th scope=col>&lt;chr&gt;</th><th scope=col>&lt;chr&gt;</th><th scope=col>&lt;chr&gt;</th><th scope=col>&lt;chr&gt;</th><th scope=col>&lt;chr&gt;</th><th scope=col>&lt;chr&gt;</th><th scope=col>&lt;chr&gt;</th><th scope=col>⋯</th><th scope=col>&lt;chr&gt;</th><th scope=col>&lt;chr&gt;</th><th scope=col>&lt;chr&gt;</th><th scope=col>&lt;chr&gt;</th><th scope=col>&lt;chr&gt;</th><th scope=col>&lt;chr&gt;</th><th scope=col>&lt;chr&gt;</th><th scope=col>&lt;chr&gt;</th><th scope=col>&lt;chr&gt;</th><th scope=col>&lt;chr&gt;</th></tr>\n",
       "</thead>\n",
       "<tbody>\n",
       "\t<tr><th scope=row>24</th><td>TRF185855</td><td>601</td><td>06520001B</td><td>TRF185855.01</td><td>copy-number-alteration</td><td>FAT3</td><td>unknown</td><td>-           </td><td>-     </td><td>-       </td><td>⋯</td><td>1.96</td><td>amplification</td><td>chr11:92085278-92616559</td><td>-</td><td>-</td><td>-</td><td>-</td><td>-</td><td>-</td><td>-</td></tr>\n",
       "\t<tr><th scope=row>43</th><td>TRF185858</td><td>701</td><td>06520005C</td><td>TRF185858.01</td><td><span style=white-space:pre-wrap>short-variant         </span></td><td>FAT3</td><td>unknown</td><td>NM_001008781</td><td>F1986L</td><td>5956T&gt;C </td><td>⋯</td><td><span style=white-space:pre-wrap>-   </span></td><td><span style=white-space:pre-wrap>-            </span></td><td><span style=white-space:pre-wrap>-                      </span></td><td>-</td><td>-</td><td>-</td><td>-</td><td>-</td><td>-</td><td>-</td></tr>\n",
       "\t<tr><th scope=row>219</th><td>TRF185880</td><td>304</td><td>06520047C</td><td>TRF185880.01</td><td><span style=white-space:pre-wrap>short-variant         </span></td><td>FAT3</td><td>unknown</td><td>NM_001008781</td><td>H3511Q</td><td>10533C&gt;G</td><td>⋯</td><td><span style=white-space:pre-wrap>-   </span></td><td><span style=white-space:pre-wrap>-            </span></td><td><span style=white-space:pre-wrap>-                      </span></td><td>-</td><td>-</td><td>-</td><td>-</td><td>-</td><td>-</td><td>-</td></tr>\n",
       "\t<tr><th scope=row>241</th><td>TRF185882</td><td>610</td><td>06520051C</td><td>TRF185882.01</td><td><span style=white-space:pre-wrap>short-variant         </span></td><td>FAT3</td><td>unknown</td><td>NM_001008781</td><td>R3408W</td><td>10222C&gt;T</td><td>⋯</td><td><span style=white-space:pre-wrap>-   </span></td><td><span style=white-space:pre-wrap>-            </span></td><td><span style=white-space:pre-wrap>-                      </span></td><td>-</td><td>-</td><td>-</td><td>-</td><td>-</td><td>-</td><td>-</td></tr>\n",
       "\t<tr><th scope=row>268</th><td>TRF185885</td><td>710</td><td>06520055C</td><td>TRF185885.01</td><td><span style=white-space:pre-wrap>short-variant         </span></td><td>FAT3</td><td>unknown</td><td>NM_001008781</td><td>A1405T</td><td>4213G&gt;A </td><td>⋯</td><td><span style=white-space:pre-wrap>-   </span></td><td><span style=white-space:pre-wrap>-            </span></td><td><span style=white-space:pre-wrap>-                      </span></td><td>-</td><td>-</td><td>-</td><td>-</td><td>-</td><td>-</td><td>-</td></tr>\n",
       "\t<tr><th scope=row>395</th><td>TRF185901</td><td>611</td><td>06520080B</td><td>TRF185901.01</td><td><span style=white-space:pre-wrap>short-variant         </span></td><td>FAT3</td><td>unknown</td><td>NM_001008781</td><td>N3116S</td><td>9347A&gt;G </td><td>⋯</td><td><span style=white-space:pre-wrap>-   </span></td><td><span style=white-space:pre-wrap>-            </span></td><td><span style=white-space:pre-wrap>-                      </span></td><td>-</td><td>-</td><td>-</td><td>-</td><td>-</td><td>-</td><td>-</td></tr>\n",
       "</tbody>\n",
       "</table>\n"
      ],
      "text/latex": [
       "A data.frame: 6 × 25\n",
       "\\begin{tabular}{r|lllllllllllllllllllll}\n",
       "  & FMI.SAMPLE.ID & SUBJECT.ID & SAMPLE.ID & ALIQUOT & VARIANT.TYPE & GENE & SOMATIC.STATUS.FUNCTIONAL.IMPACT & TRANSCRIPT & SV.PROTEIN.CHANGE & SV.CDS.CHANGE & ⋯ & CNA.RATIO & CNA.TYPE & CNA.POS & REARR.GENE1 & REARR.GENE2 & REARR.DESCRIPTION & REARR.IN.FRAME. & REARR.POS1 & REARR.POS2 & REARR.NUMBER.OF.READS\\\\\n",
       "  & <chr> & <int> & <chr> & <chr> & <chr> & <chr> & <chr> & <chr> & <chr> & <chr> & ⋯ & <chr> & <chr> & <chr> & <chr> & <chr> & <chr> & <chr> & <chr> & <chr> & <chr>\\\\\n",
       "\\hline\n",
       "\t24 & TRF185855 & 601 & 06520001B & TRF185855.01 & copy-number-alteration & FAT3 & unknown & -            & -      & -        & ⋯ & 1.96 & amplification & chr11:92085278-92616559 & - & - & - & - & - & - & -\\\\\n",
       "\t43 & TRF185858 & 701 & 06520005C & TRF185858.01 & short-variant          & FAT3 & unknown & NM\\_001008781 & F1986L & 5956T>C  & ⋯ & -    & -             & -                       & - & - & - & - & - & - & -\\\\\n",
       "\t219 & TRF185880 & 304 & 06520047C & TRF185880.01 & short-variant          & FAT3 & unknown & NM\\_001008781 & H3511Q & 10533C>G & ⋯ & -    & -             & -                       & - & - & - & - & - & - & -\\\\\n",
       "\t241 & TRF185882 & 610 & 06520051C & TRF185882.01 & short-variant          & FAT3 & unknown & NM\\_001008781 & R3408W & 10222C>T & ⋯ & -    & -             & -                       & - & - & - & - & - & - & -\\\\\n",
       "\t268 & TRF185885 & 710 & 06520055C & TRF185885.01 & short-variant          & FAT3 & unknown & NM\\_001008781 & A1405T & 4213G>A  & ⋯ & -    & -             & -                       & - & - & - & - & - & - & -\\\\\n",
       "\t395 & TRF185901 & 611 & 06520080B & TRF185901.01 & short-variant          & FAT3 & unknown & NM\\_001008781 & N3116S & 9347A>G  & ⋯ & -    & -             & -                       & - & - & - & - & - & - & -\\\\\n",
       "\\end{tabular}\n"
      ],
      "text/markdown": [
       "\n",
       "A data.frame: 6 × 25\n",
       "\n",
       "| <!--/--> | FMI.SAMPLE.ID &lt;chr&gt; | SUBJECT.ID &lt;int&gt; | SAMPLE.ID &lt;chr&gt; | ALIQUOT &lt;chr&gt; | VARIANT.TYPE &lt;chr&gt; | GENE &lt;chr&gt; | SOMATIC.STATUS.FUNCTIONAL.IMPACT &lt;chr&gt; | TRANSCRIPT &lt;chr&gt; | SV.PROTEIN.CHANGE &lt;chr&gt; | SV.CDS.CHANGE &lt;chr&gt; | ⋯ ⋯ | CNA.RATIO &lt;chr&gt; | CNA.TYPE &lt;chr&gt; | CNA.POS &lt;chr&gt; | REARR.GENE1 &lt;chr&gt; | REARR.GENE2 &lt;chr&gt; | REARR.DESCRIPTION &lt;chr&gt; | REARR.IN.FRAME. &lt;chr&gt; | REARR.POS1 &lt;chr&gt; | REARR.POS2 &lt;chr&gt; | REARR.NUMBER.OF.READS &lt;chr&gt; |\n",
       "|---|---|---|---|---|---|---|---|---|---|---|---|---|---|---|---|---|---|---|---|---|---|\n",
       "| 24 | TRF185855 | 601 | 06520001B | TRF185855.01 | copy-number-alteration | FAT3 | unknown | -            | -      | -        | ⋯ | 1.96 | amplification | chr11:92085278-92616559 | - | - | - | - | - | - | - |\n",
       "| 43 | TRF185858 | 701 | 06520005C | TRF185858.01 | short-variant          | FAT3 | unknown | NM_001008781 | F1986L | 5956T&gt;C  | ⋯ | -    | -             | -                       | - | - | - | - | - | - | - |\n",
       "| 219 | TRF185880 | 304 | 06520047C | TRF185880.01 | short-variant          | FAT3 | unknown | NM_001008781 | H3511Q | 10533C&gt;G | ⋯ | -    | -             | -                       | - | - | - | - | - | - | - |\n",
       "| 241 | TRF185882 | 610 | 06520051C | TRF185882.01 | short-variant          | FAT3 | unknown | NM_001008781 | R3408W | 10222C&gt;T | ⋯ | -    | -             | -                       | - | - | - | - | - | - | - |\n",
       "| 268 | TRF185885 | 710 | 06520055C | TRF185885.01 | short-variant          | FAT3 | unknown | NM_001008781 | A1405T | 4213G&gt;A  | ⋯ | -    | -             | -                       | - | - | - | - | - | - | - |\n",
       "| 395 | TRF185901 | 611 | 06520080B | TRF185901.01 | short-variant          | FAT3 | unknown | NM_001008781 | N3116S | 9347A&gt;G  | ⋯ | -    | -             | -                       | - | - | - | - | - | - | - |\n",
       "\n"
      ],
      "text/plain": [
       "    FMI.SAMPLE.ID SUBJECT.ID SAMPLE.ID ALIQUOT      VARIANT.TYPE           GENE\n",
       "24  TRF185855     601        06520001B TRF185855.01 copy-number-alteration FAT3\n",
       "43  TRF185858     701        06520005C TRF185858.01 short-variant          FAT3\n",
       "219 TRF185880     304        06520047C TRF185880.01 short-variant          FAT3\n",
       "241 TRF185882     610        06520051C TRF185882.01 short-variant          FAT3\n",
       "268 TRF185885     710        06520055C TRF185885.01 short-variant          FAT3\n",
       "395 TRF185901     611        06520080B TRF185901.01 short-variant          FAT3\n",
       "    SOMATIC.STATUS.FUNCTIONAL.IMPACT TRANSCRIPT   SV.PROTEIN.CHANGE\n",
       "24  unknown                          -            -                \n",
       "43  unknown                          NM_001008781 F1986L           \n",
       "219 unknown                          NM_001008781 H3511Q           \n",
       "241 unknown                          NM_001008781 R3408W           \n",
       "268 unknown                          NM_001008781 A1405T           \n",
       "395 unknown                          NM_001008781 N3116S           \n",
       "    SV.CDS.CHANGE ⋯ CNA.RATIO CNA.TYPE      CNA.POS                 REARR.GENE1\n",
       "24  -             ⋯ 1.96      amplification chr11:92085278-92616559 -          \n",
       "43  5956T>C       ⋯ -         -             -                       -          \n",
       "219 10533C>G      ⋯ -         -             -                       -          \n",
       "241 10222C>T      ⋯ -         -             -                       -          \n",
       "268 4213G>A       ⋯ -         -             -                       -          \n",
       "395 9347A>G       ⋯ -         -             -                       -          \n",
       "    REARR.GENE2 REARR.DESCRIPTION REARR.IN.FRAME. REARR.POS1 REARR.POS2\n",
       "24  -           -                 -               -          -         \n",
       "43  -           -                 -               -          -         \n",
       "219 -           -                 -               -          -         \n",
       "241 -           -                 -               -          -         \n",
       "268 -           -                 -               -          -         \n",
       "395 -           -                 -               -          -         \n",
       "    REARR.NUMBER.OF.READS\n",
       "24  -                    \n",
       "43  -                    \n",
       "219 -                    \n",
       "241 -                    \n",
       "268 -                    \n",
       "395 -                    "
      ]
     },
     "metadata": {},
     "output_type": "display_data"
    }
   ],
   "source": [
    "f1[ f1$GENE == \"FAT3\",]"
   ]
  },
  {
   "cell_type": "code",
   "execution_count": 27,
   "metadata": {},
   "outputs": [
    {
     "data": {
      "text/html": [
       "<style>\n",
       ".list-inline {list-style: none; margin:0; padding: 0}\n",
       ".list-inline>li {display: inline-block}\n",
       ".list-inline>li:not(:last-child)::after {content: \"\\00b7\"; padding: 0 .5ex}\n",
       "</style>\n",
       "<ol class=list-inline><li>607</li><li>25</li></ol>\n"
      ],
      "text/latex": [
       "\\begin{enumerate*}\n",
       "\\item 607\n",
       "\\item 25\n",
       "\\end{enumerate*}\n"
      ],
      "text/markdown": [
       "1. 607\n",
       "2. 25\n",
       "\n",
       "\n"
      ],
      "text/plain": [
       "[1] 607  25"
      ]
     },
     "metadata": {},
     "output_type": "display_data"
    }
   ],
   "source": [
    "dim(f1)"
   ]
  },
  {
   "cell_type": "code",
   "execution_count": 28,
   "metadata": {},
   "outputs": [
    {
     "data": {
      "text/html": [
       "51"
      ],
      "text/latex": [
       "51"
      ],
      "text/markdown": [
       "51"
      ],
      "text/plain": [
       "[1] 51"
      ]
     },
     "metadata": {},
     "output_type": "display_data"
    }
   ],
   "source": [
    "length(unique(f1$SAMPLE.ID))"
   ]
  },
  {
   "cell_type": "code",
   "execution_count": 29,
   "metadata": {},
   "outputs": [
    {
     "data": {
      "text/plain": [
       "\n",
       "copy-number-alteration          rearrangement          short-variant \n",
       "                    61                     18                    528 "
      ]
     },
     "metadata": {},
     "output_type": "display_data"
    }
   ],
   "source": [
    "table(f1$VARIANT.TYPE)"
   ]
  },
  {
   "cell_type": "code",
   "execution_count": 30,
   "metadata": {},
   "outputs": [],
   "source": [
    "genetab <- as.data.frame(table(f1$GENE), stringsAsFactors = F)"
   ]
  },
  {
   "cell_type": "code",
   "execution_count": 31,
   "metadata": {},
   "outputs": [],
   "source": [
    "commongenestab <- genetab[genetab$Freq > 4,]"
   ]
  },
  {
   "cell_type": "code",
   "execution_count": 32,
   "metadata": {},
   "outputs": [
    {
     "data": {
      "text/html": [
       "<table class=\"dataframe\">\n",
       "<caption>A data.frame: 25 × 2</caption>\n",
       "<thead>\n",
       "\t<tr><th></th><th scope=col>Var1</th><th scope=col>Freq</th></tr>\n",
       "\t<tr><th></th><th scope=col>&lt;chr&gt;</th><th scope=col>&lt;int&gt;</th></tr>\n",
       "</thead>\n",
       "<tbody>\n",
       "\t<tr><th scope=row>5</th><td>ALK    </td><td> 5</td></tr>\n",
       "\t<tr><th scope=row>12</th><td>ARID1B </td><td>12</td></tr>\n",
       "\t<tr><th scope=row>15</th><td>ATM    </td><td> 5</td></tr>\n",
       "\t<tr><th scope=row>16</th><td>ATR    </td><td> 7</td></tr>\n",
       "\t<tr><th scope=row>33</th><td>BRIP1  </td><td> 5</td></tr>\n",
       "\t<tr><th scope=row>47</th><td>CDKN2A </td><td> 5</td></tr>\n",
       "\t<tr><th scope=row>48</th><td>CDKN2B </td><td> 5</td></tr>\n",
       "\t<tr><th scope=row>52</th><td>CIC    </td><td> 7</td></tr>\n",
       "\t<tr><th scope=row>89</th><td>FAT1   </td><td> 7</td></tr>\n",
       "\t<tr><th scope=row>90</th><td>FAT3   </td><td> 6</td></tr>\n",
       "\t<tr><th scope=row>102</th><td>FLT1   </td><td> 5</td></tr>\n",
       "\t<tr><th scope=row>115</th><td>GPR124 </td><td> 5</td></tr>\n",
       "\t<tr><th scope=row>122</th><td>IGF2R  </td><td> 6</td></tr>\n",
       "\t<tr><th scope=row>127</th><td>IRS2   </td><td> 7</td></tr>\n",
       "\t<tr><th scope=row>137</th><td>LRP1B  </td><td> 6</td></tr>\n",
       "\t<tr><th scope=row>144</th><td>MAP3K1 </td><td> 6</td></tr>\n",
       "\t<tr><th scope=row>151</th><td>MET    </td><td> 5</td></tr>\n",
       "\t<tr><th scope=row>154</th><td>MLL2   </td><td>11</td></tr>\n",
       "\t<tr><th scope=row>155</th><td>MLL3   </td><td> 6</td></tr>\n",
       "\t<tr><th scope=row>187</th><td>PHLPP2 </td><td> 5</td></tr>\n",
       "\t<tr><th scope=row>188</th><td>PIK3C2B</td><td> 6</td></tr>\n",
       "\t<tr><th scope=row>198</th><td>PREX2  </td><td> 6</td></tr>\n",
       "\t<tr><th scope=row>201</th><td>PRKDC  </td><td> 9</td></tr>\n",
       "\t<tr><th scope=row>236</th><td>SPTA1  </td><td> 9</td></tr>\n",
       "\t<tr><th scope=row>250</th><td>TP53   </td><td>10</td></tr>\n",
       "</tbody>\n",
       "</table>\n"
      ],
      "text/latex": [
       "A data.frame: 25 × 2\n",
       "\\begin{tabular}{r|ll}\n",
       "  & Var1 & Freq\\\\\n",
       "  & <chr> & <int>\\\\\n",
       "\\hline\n",
       "\t5 & ALK     &  5\\\\\n",
       "\t12 & ARID1B  & 12\\\\\n",
       "\t15 & ATM     &  5\\\\\n",
       "\t16 & ATR     &  7\\\\\n",
       "\t33 & BRIP1   &  5\\\\\n",
       "\t47 & CDKN2A  &  5\\\\\n",
       "\t48 & CDKN2B  &  5\\\\\n",
       "\t52 & CIC     &  7\\\\\n",
       "\t89 & FAT1    &  7\\\\\n",
       "\t90 & FAT3    &  6\\\\\n",
       "\t102 & FLT1    &  5\\\\\n",
       "\t115 & GPR124  &  5\\\\\n",
       "\t122 & IGF2R   &  6\\\\\n",
       "\t127 & IRS2    &  7\\\\\n",
       "\t137 & LRP1B   &  6\\\\\n",
       "\t144 & MAP3K1  &  6\\\\\n",
       "\t151 & MET     &  5\\\\\n",
       "\t154 & MLL2    & 11\\\\\n",
       "\t155 & MLL3    &  6\\\\\n",
       "\t187 & PHLPP2  &  5\\\\\n",
       "\t188 & PIK3C2B &  6\\\\\n",
       "\t198 & PREX2   &  6\\\\\n",
       "\t201 & PRKDC   &  9\\\\\n",
       "\t236 & SPTA1   &  9\\\\\n",
       "\t250 & TP53    & 10\\\\\n",
       "\\end{tabular}\n"
      ],
      "text/markdown": [
       "\n",
       "A data.frame: 25 × 2\n",
       "\n",
       "| <!--/--> | Var1 &lt;chr&gt; | Freq &lt;int&gt; |\n",
       "|---|---|---|\n",
       "| 5 | ALK     |  5 |\n",
       "| 12 | ARID1B  | 12 |\n",
       "| 15 | ATM     |  5 |\n",
       "| 16 | ATR     |  7 |\n",
       "| 33 | BRIP1   |  5 |\n",
       "| 47 | CDKN2A  |  5 |\n",
       "| 48 | CDKN2B  |  5 |\n",
       "| 52 | CIC     |  7 |\n",
       "| 89 | FAT1    |  7 |\n",
       "| 90 | FAT3    |  6 |\n",
       "| 102 | FLT1    |  5 |\n",
       "| 115 | GPR124  |  5 |\n",
       "| 122 | IGF2R   |  6 |\n",
       "| 127 | IRS2    |  7 |\n",
       "| 137 | LRP1B   |  6 |\n",
       "| 144 | MAP3K1  |  6 |\n",
       "| 151 | MET     |  5 |\n",
       "| 154 | MLL2    | 11 |\n",
       "| 155 | MLL3    |  6 |\n",
       "| 187 | PHLPP2  |  5 |\n",
       "| 188 | PIK3C2B |  6 |\n",
       "| 198 | PREX2   |  6 |\n",
       "| 201 | PRKDC   |  9 |\n",
       "| 236 | SPTA1   |  9 |\n",
       "| 250 | TP53    | 10 |\n",
       "\n"
      ],
      "text/plain": [
       "    Var1    Freq\n",
       "5   ALK      5  \n",
       "12  ARID1B  12  \n",
       "15  ATM      5  \n",
       "16  ATR      7  \n",
       "33  BRIP1    5  \n",
       "47  CDKN2A   5  \n",
       "48  CDKN2B   5  \n",
       "52  CIC      7  \n",
       "89  FAT1     7  \n",
       "90  FAT3     6  \n",
       "102 FLT1     5  \n",
       "115 GPR124   5  \n",
       "122 IGF2R    6  \n",
       "127 IRS2     7  \n",
       "137 LRP1B    6  \n",
       "144 MAP3K1   6  \n",
       "151 MET      5  \n",
       "154 MLL2    11  \n",
       "155 MLL3     6  \n",
       "187 PHLPP2   5  \n",
       "188 PIK3C2B  6  \n",
       "198 PREX2    6  \n",
       "201 PRKDC    9  \n",
       "236 SPTA1    9  \n",
       "250 TP53    10  "
      ]
     },
     "metadata": {},
     "output_type": "display_data"
    }
   ],
   "source": [
    "commongenestab"
   ]
  },
  {
   "cell_type": "markdown",
   "metadata": {},
   "source": [
    "## Table S5"
   ]
  },
  {
   "cell_type": "code",
   "execution_count": 33,
   "metadata": {},
   "outputs": [],
   "source": [
    "xlsx::write.xlsx(f1[ f1$GENE %in% commongenestab$Var1,], \n",
    "                 file = \"~/OneDrive - UHN/Documents/Manuscripts/INDICATE/v2/TableS5.xlsx\",row.names = F)"
   ]
  },
  {
   "cell_type": "code",
   "execution_count": 34,
   "metadata": {},
   "outputs": [],
   "source": [
    "cox_mat <- matrix(nrow = nrow(commongenestab), ncol = 8)\n",
    "rownames(cox_mat) <- commongenestab$Var1\n",
    "colnames(cox_mat) <- c('n (altered)','coef', 'exp(coef)', 'se(coef)', 'z', 'Pr(>|z|)', 'lower.95' ,'upper.95')"
   ]
  },
  {
   "cell_type": "code",
   "execution_count": 35,
   "metadata": {},
   "outputs": [
    {
     "name": "stderr",
     "output_type": "stream",
     "text": [
      "ALK\n",
      "\n"
     ]
    },
    {
     "name": "stdout",
     "output_type": "stream",
     "text": [
      "\n",
      "Wildtype  Altered \n",
      "      46        5 \n",
      "Call:\n",
      "coxph(formula = f, data = metadata_f1)\n",
      "\n",
      "  n= 46, number of events= 38 \n",
      "   (5 observations deleted due to missingness)\n",
      "\n",
      "                      coef exp(coef) se(coef)      z Pr(>|z|)\n",
      "genealteredAltered -0.9919    0.3709   0.7286 -1.361    0.173\n",
      "\n",
      "                   exp(coef) exp(-coef) lower .95 upper .95\n",
      "genealteredAltered    0.3709      2.696   0.08893     1.547\n",
      "\n",
      "Concordance= 0.528  (se = 0.039 )\n",
      "Likelihood ratio test= 2.5  on 1 df,   p=0.1\n",
      "Wald test            = 1.85  on 1 df,   p=0.2\n",
      "Score (logrank) test = 2.01  on 1 df,   p=0.2\n",
      "\n"
     ]
    },
    {
     "name": "stderr",
     "output_type": "stream",
     "text": [
      "ARID1B\n",
      "\n"
     ]
    },
    {
     "name": "stdout",
     "output_type": "stream",
     "text": [
      "\n",
      "Wildtype  Altered \n",
      "      40       11 \n",
      "Call:\n",
      "coxph(formula = f, data = metadata_f1)\n",
      "\n",
      "  n= 46, number of events= 38 \n",
      "   (5 observations deleted due to missingness)\n",
      "\n",
      "                     coef exp(coef) se(coef)     z Pr(>|z|)\n",
      "genealteredAltered 0.4072    1.5025   0.3731 1.091    0.275\n",
      "\n",
      "                   exp(coef) exp(-coef) lower .95 upper .95\n",
      "genealteredAltered     1.503     0.6655    0.7232     3.122\n",
      "\n",
      "Concordance= 0.538  (se = 0.04 )\n",
      "Likelihood ratio test= 1.12  on 1 df,   p=0.3\n",
      "Wald test            = 1.19  on 1 df,   p=0.3\n",
      "Score (logrank) test = 1.21  on 1 df,   p=0.3\n",
      "\n"
     ]
    },
    {
     "name": "stderr",
     "output_type": "stream",
     "text": [
      "ATM\n",
      "\n"
     ]
    },
    {
     "name": "stdout",
     "output_type": "stream",
     "text": [
      "\n",
      "Wildtype  Altered \n",
      "      46        5 \n",
      "Call:\n",
      "coxph(formula = f, data = metadata_f1)\n",
      "\n",
      "  n= 46, number of events= 38 \n",
      "   (5 observations deleted due to missingness)\n",
      "\n",
      "                     coef exp(coef) se(coef)     z Pr(>|z|)\n",
      "genealteredAltered 0.4078    1.5036   0.5318 0.767    0.443\n",
      "\n",
      "                   exp(coef) exp(-coef) lower .95 upper .95\n",
      "genealteredAltered     1.504     0.6651    0.5302     4.264\n",
      "\n",
      "Concordance= 0.541  (se = 0.038 )\n",
      "Likelihood ratio test= 0.53  on 1 df,   p=0.5\n",
      "Wald test            = 0.59  on 1 df,   p=0.4\n",
      "Score (logrank) test = 0.6  on 1 df,   p=0.4\n",
      "\n"
     ]
    },
    {
     "name": "stderr",
     "output_type": "stream",
     "text": [
      "ATR\n",
      "\n"
     ]
    },
    {
     "name": "stdout",
     "output_type": "stream",
     "text": [
      "\n",
      "Wildtype  Altered \n",
      "      45        6 \n",
      "Call:\n",
      "coxph(formula = f, data = metadata_f1)\n",
      "\n",
      "  n= 46, number of events= 38 \n",
      "   (5 observations deleted due to missingness)\n",
      "\n",
      "                      coef exp(coef) se(coef)      z Pr(>|z|)\n",
      "genealteredAltered -0.5168    0.5964   0.5316 -0.972    0.331\n",
      "\n",
      "                   exp(coef) exp(-coef) lower .95 upper .95\n",
      "genealteredAltered    0.5964      1.677    0.2104     1.691\n",
      "\n",
      "Concordance= 0.53  (se = 0.037 )\n",
      "Likelihood ratio test= 1.08  on 1 df,   p=0.3\n",
      "Wald test            = 0.94  on 1 df,   p=0.3\n",
      "Score (logrank) test = 0.97  on 1 df,   p=0.3\n",
      "\n"
     ]
    },
    {
     "name": "stderr",
     "output_type": "stream",
     "text": [
      "BRIP1\n",
      "\n"
     ]
    },
    {
     "name": "stdout",
     "output_type": "stream",
     "text": [
      "\n",
      "Wildtype  Altered \n",
      "      46        5 \n",
      "Call:\n",
      "coxph(formula = f, data = metadata_f1)\n",
      "\n",
      "  n= 46, number of events= 38 \n",
      "   (5 observations deleted due to missingness)\n",
      "\n",
      "                     coef exp(coef) se(coef)     z Pr(>|z|)  \n",
      "genealteredAltered 1.1996    3.3187   0.5652 2.122   0.0338 *\n",
      "---\n",
      "Signif. codes:  0 ‘***’ 0.001 ‘**’ 0.01 ‘*’ 0.05 ‘.’ 0.1 ‘ ’ 1\n",
      "\n",
      "                   exp(coef) exp(-coef) lower .95 upper .95\n",
      "genealteredAltered     3.319     0.3013     1.096     10.05\n",
      "\n",
      "Concordance= 0.544  (se = 0.023 )\n",
      "Likelihood ratio test= 3.53  on 1 df,   p=0.06\n",
      "Wald test            = 4.5  on 1 df,   p=0.03\n",
      "Score (logrank) test = 5.06  on 1 df,   p=0.02\n",
      "\n"
     ]
    },
    {
     "name": "stderr",
     "output_type": "stream",
     "text": [
      "CDKN2A\n",
      "\n"
     ]
    },
    {
     "name": "stdout",
     "output_type": "stream",
     "text": [
      "\n",
      "Wildtype  Altered \n",
      "      46        5 \n",
      "Call:\n",
      "coxph(formula = f, data = metadata_f1)\n",
      "\n",
      "  n= 46, number of events= 38 \n",
      "   (5 observations deleted due to missingness)\n",
      "\n",
      "                     coef exp(coef) se(coef)     z Pr(>|z|)\n",
      "genealteredAltered 0.1082    1.1143   0.5310 0.204    0.839\n",
      "\n",
      "                   exp(coef) exp(-coef) lower .95 upper .95\n",
      "genealteredAltered     1.114     0.8974    0.3936     3.155\n",
      "\n",
      "Concordance= 0.51  (se = 0.03 )\n",
      "Likelihood ratio test= 0.04  on 1 df,   p=0.8\n",
      "Wald test            = 0.04  on 1 df,   p=0.8\n",
      "Score (logrank) test = 0.04  on 1 df,   p=0.8\n",
      "\n"
     ]
    },
    {
     "name": "stderr",
     "output_type": "stream",
     "text": [
      "CDKN2B\n",
      "\n"
     ]
    },
    {
     "name": "stdout",
     "output_type": "stream",
     "text": [
      "\n",
      "Wildtype  Altered \n",
      "      46        5 \n",
      "Call:\n",
      "coxph(formula = f, data = metadata_f1)\n",
      "\n",
      "  n= 46, number of events= 38 \n",
      "   (5 observations deleted due to missingness)\n",
      "\n",
      "                     coef exp(coef) se(coef)     z Pr(>|z|)  \n",
      "genealteredAltered 0.8827    2.4175   0.5012 1.761   0.0782 .\n",
      "---\n",
      "Signif. codes:  0 ‘***’ 0.001 ‘**’ 0.01 ‘*’ 0.05 ‘.’ 0.1 ‘ ’ 1\n",
      "\n",
      "                   exp(coef) exp(-coef) lower .95 upper .95\n",
      "genealteredAltered     2.417     0.4137    0.9051     6.457\n",
      "\n",
      "Concordance= 0.539  (se = 0.025 )\n",
      "Likelihood ratio test= 2.58  on 1 df,   p=0.1\n",
      "Wald test            = 3.1  on 1 df,   p=0.08\n",
      "Score (logrank) test = 3.31  on 1 df,   p=0.07\n",
      "\n"
     ]
    },
    {
     "name": "stderr",
     "output_type": "stream",
     "text": [
      "CIC\n",
      "\n"
     ]
    },
    {
     "name": "stdout",
     "output_type": "stream",
     "text": [
      "\n",
      "Wildtype  Altered \n",
      "      45        6 \n",
      "Call:\n",
      "coxph(formula = f, data = metadata_f1)\n",
      "\n",
      "  n= 46, number of events= 38 \n",
      "   (5 observations deleted due to missingness)\n",
      "\n",
      "                     coef exp(coef) se(coef)     z Pr(>|z|)\n",
      "genealteredAltered 0.4780    1.6128   0.4918 0.972    0.331\n",
      "\n",
      "                   exp(coef) exp(-coef) lower .95 upper .95\n",
      "genealteredAltered     1.613     0.6201    0.6152     4.228\n",
      "\n",
      "Concordance= 0.525  (se = 0.028 )\n",
      "Likelihood ratio test= 0.85  on 1 df,   p=0.4\n",
      "Wald test            = 0.94  on 1 df,   p=0.3\n",
      "Score (logrank) test = 0.96  on 1 df,   p=0.3\n",
      "\n"
     ]
    },
    {
     "name": "stderr",
     "output_type": "stream",
     "text": [
      "FAT1\n",
      "\n"
     ]
    },
    {
     "name": "stdout",
     "output_type": "stream",
     "text": [
      "\n",
      "Wildtype  Altered \n",
      "      44        7 \n",
      "Call:\n",
      "coxph(formula = f, data = metadata_f1)\n",
      "\n",
      "  n= 46, number of events= 38 \n",
      "   (5 observations deleted due to missingness)\n",
      "\n",
      "                     coef exp(coef) se(coef)     z Pr(>|z|)  \n",
      "genealteredAltered 0.9204    2.5102   0.4549 2.023   0.0431 *\n",
      "---\n",
      "Signif. codes:  0 ‘***’ 0.001 ‘**’ 0.01 ‘*’ 0.05 ‘.’ 0.1 ‘ ’ 1\n",
      "\n",
      "                   exp(coef) exp(-coef) lower .95 upper .95\n",
      "genealteredAltered      2.51     0.3984     1.029     6.123\n",
      "\n",
      "Concordance= 0.559  (se = 0.033 )\n",
      "Likelihood ratio test= 3.36  on 1 df,   p=0.07\n",
      "Wald test            = 4.09  on 1 df,   p=0.04\n",
      "Score (logrank) test = 4.38  on 1 df,   p=0.04\n",
      "\n"
     ]
    },
    {
     "name": "stderr",
     "output_type": "stream",
     "text": [
      "FAT3\n",
      "\n"
     ]
    },
    {
     "name": "stdout",
     "output_type": "stream",
     "text": [
      "\n",
      "Wildtype  Altered \n",
      "      45        6 \n",
      "Call:\n",
      "coxph(formula = f, data = metadata_f1)\n",
      "\n",
      "  n= 46, number of events= 38 \n",
      "   (5 observations deleted due to missingness)\n",
      "\n",
      "                     coef exp(coef) se(coef)     z Pr(>|z|)   \n",
      "genealteredAltered 1.5002    4.4824   0.5234 2.866  0.00415 **\n",
      "---\n",
      "Signif. codes:  0 ‘***’ 0.001 ‘**’ 0.01 ‘*’ 0.05 ‘.’ 0.1 ‘ ’ 1\n",
      "\n",
      "                   exp(coef) exp(-coef) lower .95 upper .95\n",
      "genealteredAltered     4.482     0.2231     1.607      12.5\n",
      "\n",
      "Concordance= 0.571  (se = 0.031 )\n",
      "Likelihood ratio test= 6.27  on 1 df,   p=0.01\n",
      "Wald test            = 8.22  on 1 df,   p=0.004\n",
      "Score (logrank) test = 9.84  on 1 df,   p=0.002\n",
      "\n"
     ]
    },
    {
     "name": "stderr",
     "output_type": "stream",
     "text": [
      "FLT1\n",
      "\n"
     ]
    },
    {
     "name": "stdout",
     "output_type": "stream",
     "text": [
      "\n",
      "Wildtype  Altered \n",
      "      46        5 \n",
      "Call:\n",
      "coxph(formula = f, data = metadata_f1)\n",
      "\n",
      "  n= 46, number of events= 38 \n",
      "   (5 observations deleted due to missingness)\n",
      "\n",
      "                      coef exp(coef) se(coef)    z Pr(>|z|)\n",
      "genealteredAltered -0.4365    0.6463   0.7280 -0.6    0.549\n",
      "\n",
      "                   exp(coef) exp(-coef) lower .95 upper .95\n",
      "genealteredAltered    0.6463      1.547    0.1552     2.692\n",
      "\n",
      "Concordance= 0.519  (se = 0.023 )\n",
      "Likelihood ratio test= 0.41  on 1 df,   p=0.5\n",
      "Wald test            = 0.36  on 1 df,   p=0.5\n",
      "Score (logrank) test = 0.37  on 1 df,   p=0.5\n",
      "\n"
     ]
    },
    {
     "name": "stderr",
     "output_type": "stream",
     "text": [
      "GPR124\n",
      "\n"
     ]
    },
    {
     "name": "stdout",
     "output_type": "stream",
     "text": [
      "\n",
      "Wildtype  Altered \n",
      "      46        5 \n",
      "Call:\n",
      "coxph(formula = f, data = metadata_f1)\n",
      "\n",
      "  n= 46, number of events= 38 \n",
      "   (5 observations deleted due to missingness)\n",
      "\n",
      "                      coef exp(coef) se(coef)     z Pr(>|z|)\n",
      "genealteredAltered 0.01699   1.01713  0.52982 0.032    0.974\n",
      "\n",
      "                   exp(coef) exp(-coef) lower .95 upper .95\n",
      "genealteredAltered     1.017     0.9832    0.3601     2.873\n",
      "\n",
      "Concordance= 0.503  (se = 0.031 )\n",
      "Likelihood ratio test= 0  on 1 df,   p=1\n",
      "Wald test            = 0  on 1 df,   p=1\n",
      "Score (logrank) test = 0  on 1 df,   p=1\n",
      "\n"
     ]
    },
    {
     "name": "stderr",
     "output_type": "stream",
     "text": [
      "IGF2R\n",
      "\n"
     ]
    },
    {
     "name": "stdout",
     "output_type": "stream",
     "text": [
      "\n",
      "Wildtype  Altered \n",
      "      46        5 \n",
      "Call:\n",
      "coxph(formula = f, data = metadata_f1)\n",
      "\n",
      "  n= 46, number of events= 38 \n",
      "   (5 observations deleted due to missingness)\n",
      "\n",
      "                      coef exp(coef) se(coef)      z Pr(>|z|)\n",
      "genealteredAltered -0.1957    0.8222   0.5302 -0.369    0.712\n",
      "\n",
      "                   exp(coef) exp(-coef) lower .95 upper .95\n",
      "genealteredAltered    0.8222      1.216    0.2909     2.324\n",
      "\n",
      "Concordance= 0.519  (se = 0.027 )\n",
      "Likelihood ratio test= 0.14  on 1 df,   p=0.7\n",
      "Wald test            = 0.14  on 1 df,   p=0.7\n",
      "Score (logrank) test = 0.14  on 1 df,   p=0.7\n",
      "\n"
     ]
    },
    {
     "name": "stderr",
     "output_type": "stream",
     "text": [
      "IRS2\n",
      "\n"
     ]
    },
    {
     "name": "stdout",
     "output_type": "stream",
     "text": [
      "\n",
      "Wildtype  Altered \n",
      "      45        6 \n",
      "Call:\n",
      "coxph(formula = f, data = metadata_f1)\n",
      "\n",
      "  n= 46, number of events= 38 \n",
      "   (5 observations deleted due to missingness)\n",
      "\n",
      "                      coef exp(coef) se(coef)      z Pr(>|z|)\n",
      "genealteredAltered -0.1270    0.8807   0.5320 -0.239    0.811\n",
      "\n",
      "                   exp(coef) exp(-coef) lower .95 upper .95\n",
      "genealteredAltered    0.8807      1.135    0.3105     2.498\n",
      "\n",
      "Concordance= 0.489  (se = 0.037 )\n",
      "Likelihood ratio test= 0.06  on 1 df,   p=0.8\n",
      "Wald test            = 0.06  on 1 df,   p=0.8\n",
      "Score (logrank) test = 0.06  on 1 df,   p=0.8\n",
      "\n"
     ]
    },
    {
     "name": "stderr",
     "output_type": "stream",
     "text": [
      "LRP1B\n",
      "\n"
     ]
    },
    {
     "name": "stdout",
     "output_type": "stream",
     "text": [
      "\n",
      "Wildtype  Altered \n",
      "      45        6 \n",
      "Call:\n",
      "coxph(formula = f, data = metadata_f1)\n",
      "\n",
      "  n= 46, number of events= 38 \n",
      "   (5 observations deleted due to missingness)\n",
      "\n",
      "                      coef exp(coef) se(coef)      z Pr(>|z|)\n",
      "genealteredAltered -0.7014    0.4959   0.6039 -1.162    0.245\n",
      "\n",
      "                   exp(coef) exp(-coef) lower .95 upper .95\n",
      "genealteredAltered    0.4959      2.017    0.1518      1.62\n",
      "\n",
      "Concordance= 0.533  (se = 0.038 )\n",
      "Likelihood ratio test= 1.64  on 1 df,   p=0.2\n",
      "Wald test            = 1.35  on 1 df,   p=0.2\n",
      "Score (logrank) test = 1.4  on 1 df,   p=0.2\n",
      "\n"
     ]
    },
    {
     "name": "stderr",
     "output_type": "stream",
     "text": [
      "MAP3K1\n",
      "\n"
     ]
    },
    {
     "name": "stdout",
     "output_type": "stream",
     "text": [
      "\n",
      "Wildtype  Altered \n",
      "      45        6 \n",
      "Call:\n",
      "coxph(formula = f, data = metadata_f1)\n",
      "\n",
      "  n= 46, number of events= 38 \n",
      "   (5 observations deleted due to missingness)\n",
      "\n",
      "                      coef exp(coef) se(coef)      z Pr(>|z|)\n",
      "genealteredAltered -0.9370    0.3918   0.6069 -1.544    0.123\n",
      "\n",
      "                   exp(coef) exp(-coef) lower .95 upper .95\n",
      "genealteredAltered    0.3918      2.552    0.1193     1.287\n",
      "\n",
      "Concordance= 0.547  (se = 0.034 )\n",
      "Likelihood ratio test= 3.08  on 1 df,   p=0.08\n",
      "Wald test            = 2.38  on 1 df,   p=0.1\n",
      "Score (logrank) test = 2.56  on 1 df,   p=0.1\n",
      "\n"
     ]
    },
    {
     "name": "stderr",
     "output_type": "stream",
     "text": [
      "MET\n",
      "\n"
     ]
    },
    {
     "name": "stdout",
     "output_type": "stream",
     "text": [
      "\n",
      "Wildtype  Altered \n",
      "      46        5 \n",
      "Call:\n",
      "coxph(formula = f, data = metadata_f1)\n",
      "\n",
      "  n= 46, number of events= 38 \n",
      "   (5 observations deleted due to missingness)\n",
      "\n",
      "                      coef exp(coef) se(coef)      z Pr(>|z|)\n",
      "genealteredAltered -0.2068    0.8132   0.5332 -0.388    0.698\n",
      "\n",
      "                   exp(coef) exp(-coef) lower .95 upper .95\n",
      "genealteredAltered    0.8132       1.23     0.286     2.312\n",
      "\n",
      "Concordance= 0.516  (se = 0.034 )\n",
      "Likelihood ratio test= 0.16  on 1 df,   p=0.7\n",
      "Wald test            = 0.15  on 1 df,   p=0.7\n",
      "Score (logrank) test = 0.15  on 1 df,   p=0.7\n",
      "\n"
     ]
    },
    {
     "name": "stderr",
     "output_type": "stream",
     "text": [
      "MLL2\n",
      "\n"
     ]
    },
    {
     "name": "stdout",
     "output_type": "stream",
     "text": [
      "\n",
      "Wildtype  Altered \n",
      "      40       11 \n",
      "Call:\n",
      "coxph(formula = f, data = metadata_f1)\n",
      "\n",
      "  n= 46, number of events= 38 \n",
      "   (5 observations deleted due to missingness)\n",
      "\n",
      "                      coef exp(coef) se(coef)      z Pr(>|z|)\n",
      "genealteredAltered -0.4681    0.6262   0.4470 -1.047    0.295\n",
      "\n",
      "                   exp(coef) exp(-coef) lower .95 upper .95\n",
      "genealteredAltered    0.6262      1.597    0.2607     1.504\n",
      "\n",
      "Concordance= 0.548  (se = 0.039 )\n",
      "Likelihood ratio test= 1.21  on 1 df,   p=0.3\n",
      "Wald test            = 1.1  on 1 df,   p=0.3\n",
      "Score (logrank) test = 1.12  on 1 df,   p=0.3\n",
      "\n"
     ]
    },
    {
     "name": "stderr",
     "output_type": "stream",
     "text": [
      "MLL3\n",
      "\n"
     ]
    },
    {
     "name": "stdout",
     "output_type": "stream",
     "text": [
      "\n",
      "Wildtype  Altered \n",
      "      45        6 \n",
      "Call:\n",
      "coxph(formula = f, data = metadata_f1)\n",
      "\n",
      "  n= 46, number of events= 38 \n",
      "   (5 observations deleted due to missingness)\n",
      "\n",
      "                     coef exp(coef) se(coef)     z Pr(>|z|)\n",
      "genealteredAltered 0.3303    1.3914   0.4816 0.686    0.493\n",
      "\n",
      "                   exp(coef) exp(-coef) lower .95 upper .95\n",
      "genealteredAltered     1.391     0.7187    0.5414     3.576\n",
      "\n",
      "Concordance= 0.534  (se = 0.037 )\n",
      "Likelihood ratio test= 0.43  on 1 df,   p=0.5\n",
      "Wald test            = 0.47  on 1 df,   p=0.5\n",
      "Score (logrank) test = 0.47  on 1 df,   p=0.5\n",
      "\n"
     ]
    },
    {
     "name": "stderr",
     "output_type": "stream",
     "text": [
      "PHLPP2\n",
      "\n"
     ]
    },
    {
     "name": "stdout",
     "output_type": "stream",
     "text": [
      "\n",
      "Wildtype  Altered \n",
      "      46        5 \n",
      "Call:\n",
      "coxph(formula = f, data = metadata_f1)\n",
      "\n",
      "  n= 46, number of events= 38 \n",
      "   (5 observations deleted due to missingness)\n",
      "\n",
      "                         coef  exp(coef)   se(coef)      z Pr(>|z|)\n",
      "genealteredAltered -0.0004132  0.9995869  0.5335431 -0.001    0.999\n",
      "\n",
      "                   exp(coef) exp(-coef) lower .95 upper .95\n",
      "genealteredAltered    0.9996          1    0.3513     2.844\n",
      "\n",
      "Concordance= 0.507  (se = 0.031 )\n",
      "Likelihood ratio test= 0  on 1 df,   p=1\n",
      "Wald test            = 0  on 1 df,   p=1\n",
      "Score (logrank) test = 0  on 1 df,   p=1\n",
      "\n"
     ]
    },
    {
     "name": "stderr",
     "output_type": "stream",
     "text": [
      "PIK3C2B\n",
      "\n"
     ]
    },
    {
     "name": "stdout",
     "output_type": "stream",
     "text": [
      "\n",
      "Wildtype  Altered \n",
      "      46        5 \n",
      "Call:\n",
      "coxph(formula = f, data = metadata_f1)\n",
      "\n",
      "  n= 46, number of events= 38 \n",
      "   (5 observations deleted due to missingness)\n",
      "\n",
      "                       coef exp(coef) se(coef)      z Pr(>|z|)\n",
      "genealteredAltered -0.03547   0.96515  0.60689 -0.058    0.953\n",
      "\n",
      "                   exp(coef) exp(-coef) lower .95 upper .95\n",
      "genealteredAltered    0.9652      1.036    0.2938     3.171\n",
      "\n",
      "Concordance= 0.508  (se = 0.026 )\n",
      "Likelihood ratio test= 0  on 1 df,   p=1\n",
      "Wald test            = 0  on 1 df,   p=1\n",
      "Score (logrank) test = 0  on 1 df,   p=1\n",
      "\n"
     ]
    },
    {
     "name": "stderr",
     "output_type": "stream",
     "text": [
      "PREX2\n",
      "\n"
     ]
    },
    {
     "name": "stdout",
     "output_type": "stream",
     "text": [
      "\n",
      "Wildtype  Altered \n",
      "      46        5 \n",
      "Call:\n",
      "coxph(formula = f, data = metadata_f1)\n",
      "\n",
      "  n= 46, number of events= 38 \n",
      "   (5 observations deleted due to missingness)\n",
      "\n",
      "                     coef exp(coef) se(coef)     z Pr(>|z|)  \n",
      "genealteredAltered 1.3154    3.7261   0.6308 2.085    0.037 *\n",
      "---\n",
      "Signif. codes:  0 ‘***’ 0.001 ‘**’ 0.01 ‘*’ 0.05 ‘.’ 0.1 ‘ ’ 1\n",
      "\n",
      "                   exp(coef) exp(-coef) lower .95 upper .95\n",
      "genealteredAltered     3.726     0.2684     1.082     12.83\n",
      "\n",
      "Concordance= 0.54  (se = 0.024 )\n",
      "Likelihood ratio test= 3.22  on 1 df,   p=0.07\n",
      "Wald test            = 4.35  on 1 df,   p=0.04\n",
      "Score (logrank) test = 5.01  on 1 df,   p=0.03\n",
      "\n"
     ]
    },
    {
     "name": "stderr",
     "output_type": "stream",
     "text": [
      "PRKDC\n",
      "\n"
     ]
    },
    {
     "name": "stdout",
     "output_type": "stream",
     "text": [
      "\n",
      "Wildtype  Altered \n",
      "      42        9 \n",
      "Call:\n",
      "coxph(formula = f, data = metadata_f1)\n",
      "\n",
      "  n= 46, number of events= 38 \n",
      "   (5 observations deleted due to missingness)\n",
      "\n",
      "                      coef exp(coef) se(coef)      z Pr(>|z|)\n",
      "genealteredAltered -0.2847    0.7522   0.4463 -0.638    0.523\n",
      "\n",
      "                   exp(coef) exp(-coef) lower .95 upper .95\n",
      "genealteredAltered    0.7522      1.329    0.3137     1.804\n",
      "\n",
      "Concordance= 0.52  (se = 0.04 )\n",
      "Likelihood ratio test= 0.43  on 1 df,   p=0.5\n",
      "Wald test            = 0.41  on 1 df,   p=0.5\n",
      "Score (logrank) test = 0.41  on 1 df,   p=0.5\n",
      "\n"
     ]
    },
    {
     "name": "stderr",
     "output_type": "stream",
     "text": [
      "SPTA1\n",
      "\n"
     ]
    },
    {
     "name": "stdout",
     "output_type": "stream",
     "text": [
      "\n",
      "Wildtype  Altered \n",
      "      43        8 \n",
      "Call:\n",
      "coxph(formula = f, data = metadata_f1)\n",
      "\n",
      "  n= 46, number of events= 38 \n",
      "   (5 observations deleted due to missingness)\n",
      "\n",
      "                      coef exp(coef) se(coef)      z Pr(>|z|)\n",
      "genealteredAltered -0.3098    0.7336   0.4818 -0.643     0.52\n",
      "\n",
      "                   exp(coef) exp(-coef) lower .95 upper .95\n",
      "genealteredAltered    0.7336      1.363    0.2853     1.886\n",
      "\n",
      "Concordance= 0.525  (se = 0.037 )\n",
      "Likelihood ratio test= 0.45  on 1 df,   p=0.5\n",
      "Wald test            = 0.41  on 1 df,   p=0.5\n",
      "Score (logrank) test = 0.42  on 1 df,   p=0.5\n",
      "\n"
     ]
    },
    {
     "name": "stderr",
     "output_type": "stream",
     "text": [
      "TP53\n",
      "\n"
     ]
    },
    {
     "name": "stdout",
     "output_type": "stream",
     "text": [
      "\n",
      "Wildtype  Altered \n",
      "      43        8 \n",
      "Call:\n",
      "coxph(formula = f, data = metadata_f1)\n",
      "\n",
      "  n= 46, number of events= 38 \n",
      "   (5 observations deleted due to missingness)\n",
      "\n",
      "                     coef exp(coef) se(coef)     z Pr(>|z|)  \n",
      "genealteredAltered 0.7695    2.1586   0.4519 1.703   0.0886 .\n",
      "---\n",
      "Signif. codes:  0 ‘***’ 0.001 ‘**’ 0.01 ‘*’ 0.05 ‘.’ 0.1 ‘ ’ 1\n",
      "\n",
      "                   exp(coef) exp(-coef) lower .95 upper .95\n",
      "genealteredAltered     2.159     0.4633    0.8903     5.234\n",
      "\n",
      "Concordance= 0.55  (se = 0.033 )\n",
      "Likelihood ratio test= 2.45  on 1 df,   p=0.1\n",
      "Wald test            = 2.9  on 1 df,   p=0.09\n",
      "Score (logrank) test = 3.04  on 1 df,   p=0.08\n",
      "\n"
     ]
    }
   ],
   "source": [
    "for(i in rownames(cox_mat)){\n",
    "    message(i)\n",
    "    tmp <- f1[f1$GENE == i,]\n",
    "    \n",
    "    metadata_f1$genealtered <- NA\n",
    "    metadata_f1$genealtered[metadata_f1$SAMPLE.ID %in% tmp$SAMPLE.ID] <- \"Altered\"\n",
    "    metadata_f1$genealtered[!metadata_f1$SAMPLE.ID %in% tmp$SAMPLE.ID] <- \"Wildtype\"\n",
    "    \n",
    "    metadata_f1$genealtered <- factor(metadata_f1$genealtered, levels = c(\"Wildtype\", \"Altered\"))\n",
    "    \n",
    "    print(table(metadata_f1$genealtered))    \n",
    "\n",
    "    f <- as.formula(paste(\"Surv(TRTDUR, progressed) ~ genealtered\") )\n",
    "    x <- coxph(f, data=metadata_f1)    \n",
    "    sumcox <- summary(x)\n",
    "    print(sumcox)\n",
    "    cox_mat[i,1] <- length(metadata_f1$genealtered[metadata_f1$genealtered == \"Altered\"])\n",
    "    cox_mat[i,2:6] <- sumcox$coefficients[1,1:5]\n",
    "    cox_mat[i,7:8] <- sumcox$conf.int[1,3:4]\n",
    "}"
   ]
  },
  {
   "cell_type": "code",
   "execution_count": 36,
   "metadata": {},
   "outputs": [],
   "source": [
    "fdr_df <- as.matrix(p.adjust(cox_mat[,6], method = \"fdr\"))\n",
    "colnames(fdr_df)[1] <- \"fdr\"\n",
    "cox_mat <- cbind(cox_mat, fdr_df)"
   ]
  },
  {
   "cell_type": "code",
   "execution_count": 37,
   "metadata": {},
   "outputs": [
    {
     "data": {
      "text/html": [
       "<table class=\"dataframe\">\n",
       "<caption>A matrix: 25 × 9 of type dbl</caption>\n",
       "<thead>\n",
       "\t<tr><th></th><th scope=col>n (altered)</th><th scope=col>coef</th><th scope=col>exp(coef)</th><th scope=col>se(coef)</th><th scope=col>z</th><th scope=col>Pr(&gt;|z|)</th><th scope=col>lower.95</th><th scope=col>upper.95</th><th scope=col>fdr</th></tr>\n",
       "</thead>\n",
       "<tbody>\n",
       "\t<tr><th scope=row>FAT3</th><td> 6</td><td> 1.5001578102</td><td>4.4823964</td><td>0.5233862</td><td> 2.8662539450</td><td>0.004153609</td><td>1.60695273</td><td>12.503092</td><td>0.1038402</td></tr>\n",
       "\t<tr><th scope=row>BRIP1</th><td> 5</td><td> 1.1995752891</td><td>3.3187071</td><td>0.5652181</td><td> 2.1223228140</td><td>0.033810639</td><td>1.09611066</td><td>10.048089</td><td>0.2691613</td></tr>\n",
       "\t<tr><th scope=row>FAT1</th><td> 7</td><td> 0.9203594832</td><td>2.5101926</td><td>0.4549318</td><td> 2.0230712034</td><td>0.043065807</td><td>1.02912557</td><td> 6.122739</td><td>0.2691613</td></tr>\n",
       "\t<tr><th scope=row>PREX2</th><td> 5</td><td> 1.3153714018</td><td>3.7261346</td><td>0.6307718</td><td> 2.0853363750</td><td>0.037038778</td><td>1.08229238</td><td>12.828400</td><td>0.2691613</td></tr>\n",
       "\t<tr><th scope=row>CDKN2B</th><td> 5</td><td> 0.8827150781</td><td>2.4174544</td><td>0.5012307</td><td> 1.7610954879</td><td>0.078222243</td><td>0.90512793</td><td> 6.456641</td><td>0.3691864</td></tr>\n",
       "\t<tr><th scope=row>TP53</th><td> 8</td><td> 0.7694818483</td><td>2.1586475</td><td>0.4518910</td><td> 1.7028040425</td><td>0.088604746</td><td>0.89028979</td><td> 5.233980</td><td>0.3691864</td></tr>\n",
       "\t<tr><th scope=row>MAP3K1</th><td> 6</td><td>-0.9369507328</td><td>0.3918208</td><td>0.6068593</td><td>-1.5439341190</td><td>0.122604294</td><td>0.11926909</td><td> 1.287203</td><td>0.4378725</td></tr>\n",
       "\t<tr><th scope=row>ALK</th><td> 5</td><td>-0.9918633736</td><td>0.3708849</td><td>0.7286006</td><td>-1.3613266671</td><td>0.173410479</td><td>0.08893102</td><td> 1.546768</td><td>0.5419077</td></tr>\n",
       "\t<tr><th scope=row>ARID1B</th><td>11</td><td> 0.4071575951</td><td>1.5025409</td><td>0.3730869</td><td> 1.0913210446</td><td>0.275131641</td><td>0.72319288</td><td> 3.121752</td><td>0.6367187</td></tr>\n",
       "\t<tr><th scope=row>ATR</th><td> 6</td><td>-0.5167705504</td><td>0.5964436</td><td>0.5316138</td><td>-0.9720789012</td><td>0.331011298</td><td>0.21040639</td><td> 1.690752</td><td>0.6367187</td></tr>\n",
       "\t<tr><th scope=row>CIC</th><td> 6</td><td> 0.4779507172</td><td>1.6127660</td><td>0.4917628</td><td> 0.9719132000</td><td>0.331093732</td><td>0.61515157</td><td> 4.228249</td><td>0.6367187</td></tr>\n",
       "\t<tr><th scope=row>LRP1B</th><td> 6</td><td>-0.7013934784</td><td>0.4958938</td><td>0.6038580</td><td>-1.1615205879</td><td>0.245430256</td><td>0.15183918</td><td> 1.619547</td><td>0.6367187</td></tr>\n",
       "\t<tr><th scope=row>MLL2</th><td>11</td><td>-0.4680947686</td><td>0.6261942</td><td>0.4470379</td><td>-1.0471030737</td><td>0.295052042</td><td>0.26072920</td><td> 1.503933</td><td>0.6367187</td></tr>\n",
       "\t<tr><th scope=row>ATM</th><td> 5</td><td> 0.4078312054</td><td>1.5035533</td><td>0.5318321</td><td> 0.7668420358</td><td>0.443175440</td><td>0.53017903</td><td> 4.263980</td><td>0.7621525</td></tr>\n",
       "\t<tr><th scope=row>FLT1</th><td> 5</td><td>-0.4365166911</td><td>0.6462837</td><td>0.7279712</td><td>-0.5996345996</td><td>0.548749783</td><td>0.15515760</td><td> 2.691990</td><td>0.7621525</td></tr>\n",
       "\t<tr><th scope=row>MLL3</th><td> 6</td><td> 0.3302761226</td><td>1.3913523</td><td>0.4815920</td><td> 0.6858007052</td><td>0.492838792</td><td>0.54138380</td><td> 3.575765</td><td>0.7621525</td></tr>\n",
       "\t<tr><th scope=row>PRKDC</th><td> 9</td><td>-0.2847363733</td><td>0.7522125</td><td>0.4462539</td><td>-0.6380590614</td><td>0.523435234</td><td>0.31368122</td><td> 1.803818</td><td>0.7621525</td></tr>\n",
       "\t<tr><th scope=row>SPTA1</th><td> 8</td><td>-0.3098245323</td><td>0.7335757</td><td>0.4817619</td><td>-0.6431072178</td><td>0.520154531</td><td>0.28534382</td><td> 1.885912</td><td>0.7621525</td></tr>\n",
       "\t<tr><th scope=row>IGF2R</th><td> 5</td><td>-0.1957366502</td><td>0.8222287</td><td>0.5301858</td><td>-0.3691849950</td><td>0.711989839</td><td>0.29086915</td><td> 2.324276</td><td>0.8899873</td></tr>\n",
       "\t<tr><th scope=row>MET</th><td> 5</td><td>-0.2067768442</td><td>0.8132011</td><td>0.5332026</td><td>-0.3878016376</td><td>0.698162834</td><td>0.28597961</td><td> 2.312389</td><td>0.8899873</td></tr>\n",
       "\t<tr><th scope=row>CDKN2A</th><td> 5</td><td> 0.1082091466</td><td>1.1142808</td><td>0.5309729</td><td> 0.2037941123</td><td>0.838514394</td><td>0.39357699</td><td> 3.154711</td><td>0.9528573</td></tr>\n",
       "\t<tr><th scope=row>IRS2</th><td> 6</td><td>-0.1269946322</td><td>0.8807384</td><td>0.5319865</td><td>-0.2387177705</td><td>0.811324436</td><td>0.31046968</td><td> 2.498473</td><td>0.9528573</td></tr>\n",
       "\t<tr><th scope=row>GPR124</th><td> 5</td><td> 0.0169873151</td><td>1.0171324</td><td>0.5298186</td><td> 0.0320625126</td><td>0.974422199</td><td>0.36007676</td><td> 2.873161</td><td>0.9993821</td></tr>\n",
       "\t<tr><th scope=row>PHLPP2</th><td> 5</td><td>-0.0004132007</td><td>0.9995869</td><td>0.5335431</td><td>-0.0007744468</td><td>0.999382081</td><td>0.35129166</td><td> 2.844286</td><td>0.9993821</td></tr>\n",
       "\t<tr><th scope=row>PIK3C2B</th><td> 5</td><td>-0.0354700421</td><td>0.9651516</td><td>0.6068934</td><td>-0.0584452627</td><td>0.953393962</td><td>0.29376969</td><td> 3.170912</td><td>0.9993821</td></tr>\n",
       "</tbody>\n",
       "</table>\n"
      ],
      "text/latex": [
       "A matrix: 25 × 9 of type dbl\n",
       "\\begin{tabular}{r|lllllllll}\n",
       "  & n (altered) & coef & exp(coef) & se(coef) & z & Pr(>\\textbar{}z\\textbar{}) & lower.95 & upper.95 & fdr\\\\\n",
       "\\hline\n",
       "\tFAT3 &  6 &  1.5001578102 & 4.4823964 & 0.5233862 &  2.8662539450 & 0.004153609 & 1.60695273 & 12.503092 & 0.1038402\\\\\n",
       "\tBRIP1 &  5 &  1.1995752891 & 3.3187071 & 0.5652181 &  2.1223228140 & 0.033810639 & 1.09611066 & 10.048089 & 0.2691613\\\\\n",
       "\tFAT1 &  7 &  0.9203594832 & 2.5101926 & 0.4549318 &  2.0230712034 & 0.043065807 & 1.02912557 &  6.122739 & 0.2691613\\\\\n",
       "\tPREX2 &  5 &  1.3153714018 & 3.7261346 & 0.6307718 &  2.0853363750 & 0.037038778 & 1.08229238 & 12.828400 & 0.2691613\\\\\n",
       "\tCDKN2B &  5 &  0.8827150781 & 2.4174544 & 0.5012307 &  1.7610954879 & 0.078222243 & 0.90512793 &  6.456641 & 0.3691864\\\\\n",
       "\tTP53 &  8 &  0.7694818483 & 2.1586475 & 0.4518910 &  1.7028040425 & 0.088604746 & 0.89028979 &  5.233980 & 0.3691864\\\\\n",
       "\tMAP3K1 &  6 & -0.9369507328 & 0.3918208 & 0.6068593 & -1.5439341190 & 0.122604294 & 0.11926909 &  1.287203 & 0.4378725\\\\\n",
       "\tALK &  5 & -0.9918633736 & 0.3708849 & 0.7286006 & -1.3613266671 & 0.173410479 & 0.08893102 &  1.546768 & 0.5419077\\\\\n",
       "\tARID1B & 11 &  0.4071575951 & 1.5025409 & 0.3730869 &  1.0913210446 & 0.275131641 & 0.72319288 &  3.121752 & 0.6367187\\\\\n",
       "\tATR &  6 & -0.5167705504 & 0.5964436 & 0.5316138 & -0.9720789012 & 0.331011298 & 0.21040639 &  1.690752 & 0.6367187\\\\\n",
       "\tCIC &  6 &  0.4779507172 & 1.6127660 & 0.4917628 &  0.9719132000 & 0.331093732 & 0.61515157 &  4.228249 & 0.6367187\\\\\n",
       "\tLRP1B &  6 & -0.7013934784 & 0.4958938 & 0.6038580 & -1.1615205879 & 0.245430256 & 0.15183918 &  1.619547 & 0.6367187\\\\\n",
       "\tMLL2 & 11 & -0.4680947686 & 0.6261942 & 0.4470379 & -1.0471030737 & 0.295052042 & 0.26072920 &  1.503933 & 0.6367187\\\\\n",
       "\tATM &  5 &  0.4078312054 & 1.5035533 & 0.5318321 &  0.7668420358 & 0.443175440 & 0.53017903 &  4.263980 & 0.7621525\\\\\n",
       "\tFLT1 &  5 & -0.4365166911 & 0.6462837 & 0.7279712 & -0.5996345996 & 0.548749783 & 0.15515760 &  2.691990 & 0.7621525\\\\\n",
       "\tMLL3 &  6 &  0.3302761226 & 1.3913523 & 0.4815920 &  0.6858007052 & 0.492838792 & 0.54138380 &  3.575765 & 0.7621525\\\\\n",
       "\tPRKDC &  9 & -0.2847363733 & 0.7522125 & 0.4462539 & -0.6380590614 & 0.523435234 & 0.31368122 &  1.803818 & 0.7621525\\\\\n",
       "\tSPTA1 &  8 & -0.3098245323 & 0.7335757 & 0.4817619 & -0.6431072178 & 0.520154531 & 0.28534382 &  1.885912 & 0.7621525\\\\\n",
       "\tIGF2R &  5 & -0.1957366502 & 0.8222287 & 0.5301858 & -0.3691849950 & 0.711989839 & 0.29086915 &  2.324276 & 0.8899873\\\\\n",
       "\tMET &  5 & -0.2067768442 & 0.8132011 & 0.5332026 & -0.3878016376 & 0.698162834 & 0.28597961 &  2.312389 & 0.8899873\\\\\n",
       "\tCDKN2A &  5 &  0.1082091466 & 1.1142808 & 0.5309729 &  0.2037941123 & 0.838514394 & 0.39357699 &  3.154711 & 0.9528573\\\\\n",
       "\tIRS2 &  6 & -0.1269946322 & 0.8807384 & 0.5319865 & -0.2387177705 & 0.811324436 & 0.31046968 &  2.498473 & 0.9528573\\\\\n",
       "\tGPR124 &  5 &  0.0169873151 & 1.0171324 & 0.5298186 &  0.0320625126 & 0.974422199 & 0.36007676 &  2.873161 & 0.9993821\\\\\n",
       "\tPHLPP2 &  5 & -0.0004132007 & 0.9995869 & 0.5335431 & -0.0007744468 & 0.999382081 & 0.35129166 &  2.844286 & 0.9993821\\\\\n",
       "\tPIK3C2B &  5 & -0.0354700421 & 0.9651516 & 0.6068934 & -0.0584452627 & 0.953393962 & 0.29376969 &  3.170912 & 0.9993821\\\\\n",
       "\\end{tabular}\n"
      ],
      "text/markdown": [
       "\n",
       "A matrix: 25 × 9 of type dbl\n",
       "\n",
       "| <!--/--> | n (altered) | coef | exp(coef) | se(coef) | z | Pr(&gt;|z|) | lower.95 | upper.95 | fdr |\n",
       "|---|---|---|---|---|---|---|---|---|---|\n",
       "| FAT3 |  6 |  1.5001578102 | 4.4823964 | 0.5233862 |  2.8662539450 | 0.004153609 | 1.60695273 | 12.503092 | 0.1038402 |\n",
       "| BRIP1 |  5 |  1.1995752891 | 3.3187071 | 0.5652181 |  2.1223228140 | 0.033810639 | 1.09611066 | 10.048089 | 0.2691613 |\n",
       "| FAT1 |  7 |  0.9203594832 | 2.5101926 | 0.4549318 |  2.0230712034 | 0.043065807 | 1.02912557 |  6.122739 | 0.2691613 |\n",
       "| PREX2 |  5 |  1.3153714018 | 3.7261346 | 0.6307718 |  2.0853363750 | 0.037038778 | 1.08229238 | 12.828400 | 0.2691613 |\n",
       "| CDKN2B |  5 |  0.8827150781 | 2.4174544 | 0.5012307 |  1.7610954879 | 0.078222243 | 0.90512793 |  6.456641 | 0.3691864 |\n",
       "| TP53 |  8 |  0.7694818483 | 2.1586475 | 0.4518910 |  1.7028040425 | 0.088604746 | 0.89028979 |  5.233980 | 0.3691864 |\n",
       "| MAP3K1 |  6 | -0.9369507328 | 0.3918208 | 0.6068593 | -1.5439341190 | 0.122604294 | 0.11926909 |  1.287203 | 0.4378725 |\n",
       "| ALK |  5 | -0.9918633736 | 0.3708849 | 0.7286006 | -1.3613266671 | 0.173410479 | 0.08893102 |  1.546768 | 0.5419077 |\n",
       "| ARID1B | 11 |  0.4071575951 | 1.5025409 | 0.3730869 |  1.0913210446 | 0.275131641 | 0.72319288 |  3.121752 | 0.6367187 |\n",
       "| ATR |  6 | -0.5167705504 | 0.5964436 | 0.5316138 | -0.9720789012 | 0.331011298 | 0.21040639 |  1.690752 | 0.6367187 |\n",
       "| CIC |  6 |  0.4779507172 | 1.6127660 | 0.4917628 |  0.9719132000 | 0.331093732 | 0.61515157 |  4.228249 | 0.6367187 |\n",
       "| LRP1B |  6 | -0.7013934784 | 0.4958938 | 0.6038580 | -1.1615205879 | 0.245430256 | 0.15183918 |  1.619547 | 0.6367187 |\n",
       "| MLL2 | 11 | -0.4680947686 | 0.6261942 | 0.4470379 | -1.0471030737 | 0.295052042 | 0.26072920 |  1.503933 | 0.6367187 |\n",
       "| ATM |  5 |  0.4078312054 | 1.5035533 | 0.5318321 |  0.7668420358 | 0.443175440 | 0.53017903 |  4.263980 | 0.7621525 |\n",
       "| FLT1 |  5 | -0.4365166911 | 0.6462837 | 0.7279712 | -0.5996345996 | 0.548749783 | 0.15515760 |  2.691990 | 0.7621525 |\n",
       "| MLL3 |  6 |  0.3302761226 | 1.3913523 | 0.4815920 |  0.6858007052 | 0.492838792 | 0.54138380 |  3.575765 | 0.7621525 |\n",
       "| PRKDC |  9 | -0.2847363733 | 0.7522125 | 0.4462539 | -0.6380590614 | 0.523435234 | 0.31368122 |  1.803818 | 0.7621525 |\n",
       "| SPTA1 |  8 | -0.3098245323 | 0.7335757 | 0.4817619 | -0.6431072178 | 0.520154531 | 0.28534382 |  1.885912 | 0.7621525 |\n",
       "| IGF2R |  5 | -0.1957366502 | 0.8222287 | 0.5301858 | -0.3691849950 | 0.711989839 | 0.29086915 |  2.324276 | 0.8899873 |\n",
       "| MET |  5 | -0.2067768442 | 0.8132011 | 0.5332026 | -0.3878016376 | 0.698162834 | 0.28597961 |  2.312389 | 0.8899873 |\n",
       "| CDKN2A |  5 |  0.1082091466 | 1.1142808 | 0.5309729 |  0.2037941123 | 0.838514394 | 0.39357699 |  3.154711 | 0.9528573 |\n",
       "| IRS2 |  6 | -0.1269946322 | 0.8807384 | 0.5319865 | -0.2387177705 | 0.811324436 | 0.31046968 |  2.498473 | 0.9528573 |\n",
       "| GPR124 |  5 |  0.0169873151 | 1.0171324 | 0.5298186 |  0.0320625126 | 0.974422199 | 0.36007676 |  2.873161 | 0.9993821 |\n",
       "| PHLPP2 |  5 | -0.0004132007 | 0.9995869 | 0.5335431 | -0.0007744468 | 0.999382081 | 0.35129166 |  2.844286 | 0.9993821 |\n",
       "| PIK3C2B |  5 | -0.0354700421 | 0.9651516 | 0.6068934 | -0.0584452627 | 0.953393962 | 0.29376969 |  3.170912 | 0.9993821 |\n",
       "\n"
      ],
      "text/plain": [
       "        n (altered) coef          exp(coef) se(coef)  z             Pr(>|z|)   \n",
       "FAT3     6           1.5001578102 4.4823964 0.5233862  2.8662539450 0.004153609\n",
       "BRIP1    5           1.1995752891 3.3187071 0.5652181  2.1223228140 0.033810639\n",
       "FAT1     7           0.9203594832 2.5101926 0.4549318  2.0230712034 0.043065807\n",
       "PREX2    5           1.3153714018 3.7261346 0.6307718  2.0853363750 0.037038778\n",
       "CDKN2B   5           0.8827150781 2.4174544 0.5012307  1.7610954879 0.078222243\n",
       "TP53     8           0.7694818483 2.1586475 0.4518910  1.7028040425 0.088604746\n",
       "MAP3K1   6          -0.9369507328 0.3918208 0.6068593 -1.5439341190 0.122604294\n",
       "ALK      5          -0.9918633736 0.3708849 0.7286006 -1.3613266671 0.173410479\n",
       "ARID1B  11           0.4071575951 1.5025409 0.3730869  1.0913210446 0.275131641\n",
       "ATR      6          -0.5167705504 0.5964436 0.5316138 -0.9720789012 0.331011298\n",
       "CIC      6           0.4779507172 1.6127660 0.4917628  0.9719132000 0.331093732\n",
       "LRP1B    6          -0.7013934784 0.4958938 0.6038580 -1.1615205879 0.245430256\n",
       "MLL2    11          -0.4680947686 0.6261942 0.4470379 -1.0471030737 0.295052042\n",
       "ATM      5           0.4078312054 1.5035533 0.5318321  0.7668420358 0.443175440\n",
       "FLT1     5          -0.4365166911 0.6462837 0.7279712 -0.5996345996 0.548749783\n",
       "MLL3     6           0.3302761226 1.3913523 0.4815920  0.6858007052 0.492838792\n",
       "PRKDC    9          -0.2847363733 0.7522125 0.4462539 -0.6380590614 0.523435234\n",
       "SPTA1    8          -0.3098245323 0.7335757 0.4817619 -0.6431072178 0.520154531\n",
       "IGF2R    5          -0.1957366502 0.8222287 0.5301858 -0.3691849950 0.711989839\n",
       "MET      5          -0.2067768442 0.8132011 0.5332026 -0.3878016376 0.698162834\n",
       "CDKN2A   5           0.1082091466 1.1142808 0.5309729  0.2037941123 0.838514394\n",
       "IRS2     6          -0.1269946322 0.8807384 0.5319865 -0.2387177705 0.811324436\n",
       "GPR124   5           0.0169873151 1.0171324 0.5298186  0.0320625126 0.974422199\n",
       "PHLPP2   5          -0.0004132007 0.9995869 0.5335431 -0.0007744468 0.999382081\n",
       "PIK3C2B  5          -0.0354700421 0.9651516 0.6068934 -0.0584452627 0.953393962\n",
       "        lower.95   upper.95  fdr      \n",
       "FAT3    1.60695273 12.503092 0.1038402\n",
       "BRIP1   1.09611066 10.048089 0.2691613\n",
       "FAT1    1.02912557  6.122739 0.2691613\n",
       "PREX2   1.08229238 12.828400 0.2691613\n",
       "CDKN2B  0.90512793  6.456641 0.3691864\n",
       "TP53    0.89028979  5.233980 0.3691864\n",
       "MAP3K1  0.11926909  1.287203 0.4378725\n",
       "ALK     0.08893102  1.546768 0.5419077\n",
       "ARID1B  0.72319288  3.121752 0.6367187\n",
       "ATR     0.21040639  1.690752 0.6367187\n",
       "CIC     0.61515157  4.228249 0.6367187\n",
       "LRP1B   0.15183918  1.619547 0.6367187\n",
       "MLL2    0.26072920  1.503933 0.6367187\n",
       "ATM     0.53017903  4.263980 0.7621525\n",
       "FLT1    0.15515760  2.691990 0.7621525\n",
       "MLL3    0.54138380  3.575765 0.7621525\n",
       "PRKDC   0.31368122  1.803818 0.7621525\n",
       "SPTA1   0.28534382  1.885912 0.7621525\n",
       "IGF2R   0.29086915  2.324276 0.8899873\n",
       "MET     0.28597961  2.312389 0.8899873\n",
       "CDKN2A  0.39357699  3.154711 0.9528573\n",
       "IRS2    0.31046968  2.498473 0.9528573\n",
       "GPR124  0.36007676  2.873161 0.9993821\n",
       "PHLPP2  0.35129166  2.844286 0.9993821\n",
       "PIK3C2B 0.29376969  3.170912 0.9993821"
      ]
     },
     "metadata": {},
     "output_type": "display_data"
    }
   ],
   "source": [
    "cox_mat <- cox_mat[ order(cox_mat[,9]),]\n",
    "cox_mat"
   ]
  },
  {
   "cell_type": "markdown",
   "metadata": {},
   "source": [
    "## Table S6"
   ]
  },
  {
   "cell_type": "code",
   "execution_count": 38,
   "metadata": {},
   "outputs": [],
   "source": [
    "xlsx::write.xlsx(cox_mat, \n",
    "                 file = \"~/OneDrive - UHN/Documents/Manuscripts/INDICATE/v2/TableS6.xlsx\")"
   ]
  },
  {
   "cell_type": "markdown",
   "metadata": {},
   "source": [
    "Forest plot"
   ]
  },
  {
   "cell_type": "code",
   "execution_count": 95,
   "metadata": {},
   "outputs": [],
   "source": [
    "myhrs <- cox_mat[,c(3,7,8)]\n",
    "myhrs <- rbind(NA, myhrs)\n",
    "mytabletext <- as.data.frame(cox_mat[,c(1,6,9)])"
   ]
  },
  {
   "cell_type": "code",
   "execution_count": 96,
   "metadata": {},
   "outputs": [],
   "source": [
    "mytabletext <- format(round(mytabletext, 2))\n",
    "mytabletext <- cbind(rownames(mytabletext),mytabletext)"
   ]
  },
  {
   "cell_type": "code",
   "execution_count": 97,
   "metadata": {},
   "outputs": [],
   "source": [
    "colnames(mytabletext) <- c( \"Gene\", \"n (altered)\", \"p-value\", \"FDR\")\n",
    "rownames(mytabletext) <- NULL"
   ]
  },
  {
   "cell_type": "code",
   "execution_count": 98,
   "metadata": {},
   "outputs": [],
   "source": [
    "mytabletext <- rbind(colnames(mytabletext), mytabletext)"
   ]
  },
  {
   "cell_type": "code",
   "execution_count": 99,
   "metadata": {},
   "outputs": [
    {
     "data": {
      "image/png": "[encoded data removed]",
      "text/plain": [
       "plot without title"
      ]
     },
     "metadata": {
      "image/png": {
       "height": 420,
       "width": 420
      }
     },
     "output_type": "display_data"
    }
   ],
   "source": [
    "fplot <- forestplot(mytabletext, myhrs, boxsize = 0.25,\n",
    "                    new_page = TRUE, xlog = TRUE,\n",
    "                    title = \"Univariable Cox model comparing samples \\nwith gene alteration vs wildtype\",)"
   ]
  },
  {
   "cell_type": "code",
   "execution_count": 100,
   "metadata": {},
   "outputs": [
    {
     "data": {
      "text/html": [
       "<strong>pdf:</strong> 2"
      ],
      "text/latex": [
       "\\textbf{pdf:} 2"
      ],
      "text/markdown": [
       "**pdf:** 2"
      ],
      "text/plain": [
       "pdf \n",
       "  2 "
      ]
     },
     "metadata": {},
     "output_type": "display_data"
    }
   ],
   "source": [
    "pdf(file = paste0(plotpath,\"Univar_forestplot_f1.pdf\"),\n",
    "    width = 7, height = 15,\n",
    "    useDingbats = FALSE, onefile = F)\n",
    "\n",
    "fplot <- forestplot(mytabletext, myhrs,boxsize = 0.25,\n",
    "                    new_page = TRUE, xlog = TRUE,\n",
    "                    title = \"Univariable Cox model comparing samples \\nwith gene alteration vs wildtype\",)\n",
    "\n",
    "dev.off()"
   ]
  },
  {
   "cell_type": "code",
   "execution_count": null,
   "metadata": {},
   "outputs": [],
   "source": []
  },
  {
   "cell_type": "code",
   "execution_count": null,
   "metadata": {},
   "outputs": [],
   "source": []
  },
  {
   "cell_type": "code",
   "execution_count": null,
   "metadata": {},
   "outputs": [],
   "source": []
  }
 ],
 "metadata": {
  "kernelspec": {
   "display_name": "R 4.0",
   "language": "R",
   "name": "ir40"
  },
  "language_info": {
   "codemirror_mode": "r",
   "file_extension": ".r",
   "mimetype": "text/x-r-source",
   "name": "R",
   "pygments_lexer": "r",
   "version": "4.0.3"
  },
  "toc": {
   "base_numbering": 1,
   "nav_menu": {},
   "number_sections": false,
   "sideBar": true,
   "skip_h1_title": false,
   "title_cell": "Table of Contents",
   "title_sidebar": "Contents",
   "toc_cell": true,
   "toc_position": {
    "height": "calc(100% - 180px)",
    "left": "10px",
    "top": "150px",
    "width": "189.771px"
   },
   "toc_section_display": true,
   "toc_window_display": true
  }
 },
 "nbformat": 4,
 "nbformat_minor": 2
}
