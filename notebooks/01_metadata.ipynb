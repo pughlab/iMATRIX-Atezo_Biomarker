{
 "cells": [
  {
   "cell_type": "markdown",
   "metadata": {
    "toc": true
   },
   "source": [
    "<h1>Table of Contents<span class=\"tocSkip\"></span></h1>\n",
    "<div class=\"toc\"><ul class=\"toc-item\"><li><span><a href=\"#Dependencies\" data-toc-modified-id=\"Dependencies-1\">Dependencies</a></span></li><li><span><a href=\"#Paths\" data-toc-modified-id=\"Paths-2\">Paths</a></span></li><li><span><a href=\"#Main\" data-toc-modified-id=\"Main-3\">Main</a></span><ul class=\"toc-item\"><li><span><a href=\"#tumour-type\" data-toc-modified-id=\"tumour-type-3.1\">tumour type</a></span></li><li><span><a href=\"#sample-origin\" data-toc-modified-id=\"sample-origin-3.2\">sample origin</a></span></li><li><span><a href=\"#Cohort\" data-toc-modified-id=\"Cohort-3.3\">Cohort</a></span></li></ul></li><li><span><a href=\"#Cancer-groups\" data-toc-modified-id=\"Cancer-groups-4\">Cancer groups</a></span><ul class=\"toc-item\"><li><span><a href=\"#Progression\" data-toc-modified-id=\"Progression-4.1\">Progression</a></span></li></ul></li></ul></div>"
   ]
  },
  {
   "cell_type": "markdown",
   "metadata": {},
   "source": [
    "# Dependencies"
   ]
  },
  {
   "cell_type": "markdown",
   "metadata": {},
   "source": [
    "# Paths"
   ]
  },
  {
   "cell_type": "code",
   "execution_count": 1,
   "metadata": {},
   "outputs": [],
   "source": [
    "manifestpath <- \"/Users/anabbi/OneDrive - UHN/Documents/INDICATE/Manifests/\"\n",
    "datapath <- \"/Users/anabbi/OneDrive - UHN/Documents/INDICATE/Data/\"\n",
    "plotpath <- \"/Users/anabbi/OneDrive - UHN/Documents/INDICATE/Plots/\""
   ]
  },
  {
   "cell_type": "markdown",
   "metadata": {},
   "source": [
    "# Main"
   ]
  },
  {
   "cell_type": "code",
   "execution_count": 2,
   "metadata": {},
   "outputs": [],
   "source": [
    "ptmanifest <- read.table(paste0(manifestpath, \"clinical_manifest.txt\"), sep = \"\\t\",\n",
    "                      header = T, stringsAsFactors = F)"
   ]
  },
  {
   "cell_type": "code",
   "execution_count": 3,
   "metadata": {},
   "outputs": [],
   "source": [
    "samplemanifest <- read.table(paste0(manifestpath, \"sample_manifest.txt\"), sep = \"\\t\",\n",
    "                      header = T, stringsAsFactors = F)"
   ]
  },
  {
   "cell_type": "code",
   "execution_count": 5,
   "metadata": {
    "scrolled": true
   },
   "outputs": [
    {
     "data": {
      "text/html": [
       "<table class=\"dataframe\">\n",
       "<caption>A data.frame: 83 × 16</caption>\n",
       "<thead>\n",
       "\t<tr><th></th><th scope=col>Patient.ID</th><th scope=col>Screening.ID</th><th scope=col>Sample.ID.ColFinHGXTracker</th><th scope=col>HGX.Specimen.Name</th><th scope=col>HGX.Specimen.Name.Split.1</th><th scope=col>HGX.Specimen.Name.Split.2</th><th scope=col>EA.Sample.ID</th><th scope=col>Visit.Code</th><th scope=col>Sample.Nr.Code</th><th scope=col>Sample.Collection.Timestamp</th><th scope=col>Tumor.Type.Primary.Met.Other</th><th scope=col>Sample.Prep.Type.Fresh.Arch.Other</th><th scope=col>Sample.Prep.Type.Fresh.Arch.Other.Khannotation</th><th scope=col>Sample.Origin</th><th scope=col>EA.Sequenced</th><th scope=col>EA.Sequencing.Batch</th></tr>\n",
       "\t<tr><th></th><th scope=col>&lt;int&gt;</th><th scope=col>&lt;int&gt;</th><th scope=col>&lt;chr&gt;</th><th scope=col>&lt;chr&gt;</th><th scope=col>&lt;chr&gt;</th><th scope=col>&lt;chr&gt;</th><th scope=col>&lt;int&gt;</th><th scope=col>&lt;chr&gt;</th><th scope=col>&lt;chr&gt;</th><th scope=col>&lt;chr&gt;</th><th scope=col>&lt;chr&gt;</th><th scope=col>&lt;chr&gt;</th><th scope=col>&lt;chr&gt;</th><th scope=col>&lt;chr&gt;</th><th scope=col>&lt;chr&gt;</th><th scope=col>&lt;int&gt;</th></tr>\n",
       "</thead>\n",
       "<tbody>\n",
       "\t<tr><th scope=row>17</th><td>11010101</td><td>1128350402</td><td>6201764811-02</td><td>06520021C0016R</td><td>06520021C</td><td>0016R</td><td>731481</td><td>SCREENING</td><td>SCRN </td><td>3-17-15 12:00 </td><td>Primary         </td><td>Archival Tumor Slides         </td><td>ARCHIVAL TUMOR FFPE SLIDES</td><td>RIGHT FEMUR |                                        </td><td>FAILED-QC      </td><td>1</td></tr>\n",
       "\t<tr><th scope=row>52</th><td>11010102</td><td>1128208701</td><td>6502168704-02</td><td>06520067C0018R</td><td>06520067C</td><td>0018R</td><td>713899</td><td>SCREENING</td><td>SCRN </td><td>2-3-14 0:00   </td><td>Metastatic      </td><td>ARCHIVAL TUMOR SLIDES         </td><td>ARCHIVAL TUMOR FFPE SLIDES</td><td>LUNG RT |                                            </td><td>Y              </td><td>1</td></tr>\n",
       "\t<tr><th scope=row>10</th><td>11010103</td><td>1128349502</td><td>6201801512-01</td><td>06520011B0023R</td><td>06520011B</td><td>0023R</td><td>713866</td><td>SCREENING</td><td>SCRN </td><td>8-18-15 10:00 </td><td>Primary         </td><td>Archival Tumor FFPE Block     </td><td>ARCHIVAL TUMOR FFPE BLOCK </td><td>FRONT DROIT |                                        </td><td>Y              </td><td>1</td></tr>\n",
       "\t<tr><th scope=row>12</th><td>11010104</td><td>1128235903</td><td>6201801499-02</td><td>06520015C0016R</td><td>06520015C</td><td>0016R</td><td>731480</td><td>SCREENING</td><td>SCRN </td><td>10-20-14 12:00</td><td>Primary         </td><td>Archival Tumor Slides         </td><td>ARCHIVAL TUMOR FFPE SLIDES</td><td>ILLIUM LEFT |                                        </td><td>Y              </td><td>1</td></tr>\n",
       "\t<tr><th scope=row>18</th><td>11010105</td><td>1128104903</td><td>6501799176-02</td><td>06520022C0017R</td><td>06520022C</td><td>0017R</td><td>713871</td><td>SCREENING</td><td>SCRN </td><td>5-15-14 12:00 </td><td>Primary         </td><td>Archival Tumor Slides         </td><td>ARCHIVAL TUMOR FFPE SLIDES</td><td>RIGHT FRONTAL SINUS |                                </td><td>Y              </td><td>1</td></tr>\n",
       "\t<tr><th scope=row>29</th><td>11010106</td><td>1128235906</td><td>6202549616-02</td><td>06520036C0021R</td><td>06520036C</td><td>0021R</td><td>731483</td><td>SCREENING</td><td>SCRN </td><td>12-19-14 8:00 </td><td>Metastatic      </td><td>Archival Tumor Slides         </td><td>ARCHIVAL TUMOR FFPE SLIDES</td><td>RIGHT FUMUR |                                        </td><td>FAILED-QC      </td><td>1</td></tr>\n",
       "\t<tr><th scope=row>32</th><td>11010107</td><td>1128365901</td><td>6202116734-05</td><td>06520039B0023R</td><td>06520039B</td><td>0023R</td><td>713883</td><td>SCREENING</td><td>SCRN </td><td>3-20-14 12:00 </td><td>Primary         </td><td>SM4/ Scrn Fresh Tumor FFPE Blk</td><td>ARCHIVAL TUMOR FFPE BLOCK </td><td>LEFT ILIAC WING |                                    </td><td>FAILED-LIB-PREP</td><td>1</td></tr>\n",
       "\t<tr><th scope=row>47</th><td>11010108</td><td>1128355202</td><td>6202889800-01</td><td>06520059B0023R</td><td>06520059B</td><td>0023R</td><td>713895</td><td>SCREENING</td><td>SCRN </td><td>10-2-14 0:00  </td><td>Metastatic      </td><td>ARCHIVAL TUMOR FFPE BLOCK     </td><td>ARCHIVAL TUMOR FFPE BLOCK </td><td>Lung metastase                                       </td><td>Y              </td><td>1</td></tr>\n",
       "\t<tr><th scope=row>59</th><td>11010109</td><td>1128898801</td><td>6502789214-02</td><td>06520076B0017R</td><td>06520076B</td><td>0017R</td><td>713906</td><td>SCREENING</td><td>OTHER</td><td>5-10-12 10:22 </td><td>Primary         </td><td>ARCHIVAL TUMOR FFPE BLOCK     </td><td>ARCHIVAL TUMOR FFPE BLOCK </td><td>R FEMUR |                                            </td><td>Y              </td><td>1</td></tr>\n",
       "\t<tr><th scope=row>60</th><td>11010109</td><td>1128898801</td><td>6502789213-04</td><td>06520077B0016R</td><td>06520077B</td><td>0016R</td><td>731488</td><td>SCREENING</td><td>PROG </td><td>4-21-14 13:22 </td><td>Metastatic      </td><td>ARCHIVAL TUMOR FFPE BLOCK     </td><td>ARCHIVAL TUMOR FFPE BLOCK </td><td>L ILIAC |                                            </td><td>FAILED-QC      </td><td>1</td></tr>\n",
       "\t<tr><th scope=row>24</th><td>11010111</td><td>1128359302</td><td>6202116742-02</td><td>06520029C0018R</td><td>06520029C</td><td>0018R</td><td>713877</td><td>SCREENING</td><td>SCRN </td><td>10-19-15 0:01 </td><td>Metastatic      </td><td>Archival Tumor Slides         </td><td>ARCHIVAL TUMOR FFPE SLIDES</td><td>PLEURAL TISSUE | 1                                   </td><td>Y              </td><td>1</td></tr>\n",
       "\t<tr><th scope=row>3</th><td>11010201</td><td>1128365801</td><td>6202063608-02</td><td>06520004C0018R</td><td>06520004C</td><td>0018R</td><td>713861</td><td>SCREENING</td><td>SCRN </td><td>2-1-13 0:01   </td><td>Primary         </td><td>Archival Tumor Slides         </td><td>ARCHIVAL TUMOR FFPE SLIDES</td><td>LATERO CERVICAL NECK NODE |                          </td><td>Y              </td><td>1</td></tr>\n",
       "\t<tr><th scope=row>2</th><td>11010202</td><td>1128365802</td><td>6202063607-02</td><td>06520003C0012R</td><td>06520003C</td><td>0012R</td><td>713860</td><td>SCREENING</td><td>SCRN </td><td>1-1-14 0:01   </td><td>Primary         </td><td>Archival Tumor Slides         </td><td>ARCHIVAL TUMOR FFPE SLIDES</td><td>LATERO CERVICAL NECK NODE |                          </td><td>Y              </td><td>1</td></tr>\n",
       "\t<tr><th scope=row>27</th><td>11010203</td><td>1128365805</td><td>6202261662-02</td><td>06520033C0018R</td><td>06520033C</td><td>0018R</td><td>713880</td><td>SCREENING</td><td>SCRN </td><td>2-16-16 0:00  </td><td>Primary         </td><td>Archival Tumor Slides         </td><td>ARCHIVAL TUMOR FFPE SLIDES</td><td>RIGHT LATERAL CERVICAL NODE                          </td><td>Y              </td><td>1</td></tr>\n",
       "\t<tr><th scope=row>43</th><td>11010204</td><td>1128365701</td><td>6202263035-02</td><td>06520053C0017R</td><td>06520053C</td><td>0017R</td><td>713893</td><td>SCREENING</td><td>SCRN </td><td>8-28-13 0:00  </td><td>Primary         </td><td>ARCHIVAL TUMOR SLIDES         </td><td>ARCHIVAL TUMOR FFPE SLIDES</td><td> lymph node left laterocervical                      </td><td>Y              </td><td>1</td></tr>\n",
       "\t<tr><th scope=row>65</th><td>11010205</td><td>1128365702</td><td>6203065456-02</td><td>06520090C0018R</td><td>06520090C</td><td>0018R</td><td>713910</td><td>SCREENING</td><td>SCRN </td><td>7-10-14 8:00  </td><td>Primary         </td><td>ARCHIVAL TUMOR SLIDES         </td><td>ARCHIVAL TUMOR FFPE SLIDES</td><td>Lung                                                 </td><td>Y              </td><td>1</td></tr>\n",
       "\t<tr><th scope=row>68</th><td>11010206</td><td>1128349506</td><td>6203065392-02</td><td>06520093C0017R</td><td>06520093C</td><td>0017R</td><td>713913</td><td>SCREENING</td><td>SCRN </td><td>1-1-15 8:00   </td><td>Hodgkin lymphoma</td><td>ARCHIVAL TUMOR SLIDES         </td><td>ARCHIVAL TUMOR FFPE SLIDES</td><td>lymph node | location unknown                        </td><td>Y              </td><td>1</td></tr>\n",
       "\t<tr><th scope=row>71</th><td>11010207</td><td>1128350408</td><td>6203065396-02</td><td>06520096C0016R</td><td>06520096C</td><td>0016R</td><td>731491</td><td>SCREENING</td><td>SCRN </td><td>4-22-16 12:00 </td><td>Metastatic      </td><td>ARCHIVAL TUMOR SLIDES         </td><td>ARCHIVAL TUMOR FFPE SLIDES</td><td>INFORMATION NOT AVAILABLE | INFORMATION NOT AVAILABLE</td><td>FAILED-QC      </td><td>1</td></tr>\n",
       "\t<tr><th scope=row>74</th><td>11010208</td><td>1128397108</td><td>6202218209-01</td><td>06520099B0017R</td><td>06520099B</td><td>0017R</td><td>713917</td><td>SCREENING</td><td>SCRN </td><td>9-7-15 10:00  </td><td>Primary         </td><td>SM01 ARCHIVAL TUMOR FFPE BLK  </td><td>ARCHIVAL TUMOR FFPE BLOCK </td><td>LEFT SIDE ADENOPATHY OF THE NECK |                   </td><td>Y              </td><td>1</td></tr>\n",
       "\t<tr><th scope=row>75</th><td>11010209</td><td>1128270302</td><td>6203065383-03</td><td>06520100B0017R</td><td>06520100B</td><td>0017R</td><td>713918</td><td>SCREENING</td><td>SCRN </td><td>2-17-16 0:00  </td><td>Primary         </td><td>SM01 ARCHIVAL TUMOUR FFPE BLK </td><td>ARCHIVAL TUMOR FFPE BLOCK </td><td>MEDIASTINAL LYMPH NODE |                             </td><td>Y              </td><td>1</td></tr>\n",
       "\t<tr><th scope=row>76</th><td>11010209</td><td>1128270302</td><td>6203065384-03</td><td>06520101B0017R</td><td>06520101B</td><td>0017R</td><td>713919</td><td>SCREENING</td><td>SCRN </td><td>4-21-15 0:00  </td><td>Primary         </td><td>SM04 SCRN FRESH TUMOR FFPE BLK</td><td>ARCHIVAL TUMOR FFPE BLOCK </td><td>CERVICAL LYMPH NODE |                                </td><td>Y              </td><td>1</td></tr>\n",
       "\t<tr><th scope=row>34</th><td>11010301</td><td>1128355101</td><td>6201855895-01</td><td>06520041B0016R</td><td>06520041B</td><td>0016R</td><td>731484</td><td>SCREENING</td><td>SCRN </td><td>12-16-15 12:00</td><td>Metastatic      </td><td>Archival Tumor FFPE Block     </td><td>ARCHIVAL TUMOR FFPE BLOCK </td><td> lymph node left laterocervical                      </td><td>FAILED-QC      </td><td>1</td></tr>\n",
       "\t<tr><th scope=row>14</th><td>11010302</td><td>1128104901</td><td>6501799178-02</td><td>06520018C0017R</td><td>06520018C</td><td>0017R</td><td>713868</td><td>SCREENING</td><td>SCRN </td><td>7-12-11 12:04 </td><td>Primary         </td><td>Archival Tumor Slides         </td><td>ARCHIVAL TUMOR FFPE SLIDES</td><td>LEFT ADRENAL GLAND RETROPERITONEUM |                 </td><td>Y              </td><td>1</td></tr>\n",
       "\t<tr><th scope=row>15</th><td>11010303</td><td>1128365803</td><td>6202116713-02</td><td>06520019C0023R</td><td>06520019C</td><td>0023R</td><td>713869</td><td>SCREENING</td><td>SCRN </td><td>6-25-10 0:00  </td><td>Primary         </td><td>Archival Tumor Slides         </td><td>ARCHIVAL TUMOR FFPE SLIDES</td><td>RIGHT ADRENAL MASS |                                 </td><td>Y              </td><td>1</td></tr>\n",
       "\t<tr><th scope=row>39</th><td>11010304</td><td>1128095903</td><td>6502064156-02</td><td>06520047C0017R</td><td>06520047C</td><td>0017R</td><td>713889</td><td>SCREENING</td><td>SCRN </td><td>1-7-14 17:20  </td><td>Metastatic      </td><td>ARCHIVAL TUMOR SLIDES         </td><td>ARCHIVAL TUMOR FFPE SLIDES</td><td>LEFT BRAIN MASS FRONTAL LOBE |                       </td><td>Y              </td><td>1</td></tr>\n",
       "\t<tr><th scope=row>19</th><td>11010305</td><td>1128235902</td><td>6201801498-02</td><td>06520023C0018R</td><td>06520023C</td><td>0018R</td><td>713872</td><td>SCREENING</td><td>SCRN </td><td>4-1-15 0:00   </td><td>Primary         </td><td>Archival Tumor Slides         </td><td>ARCHIVAL TUMOR FFPE SLIDES</td><td>ADRENAL GLAND |                                      </td><td>Y              </td><td>1</td></tr>\n",
       "\t<tr><th scope=row>51</th><td>11010305</td><td>1128235902</td><td>6202352889-02</td><td>06520064C0016R</td><td>06520064C</td><td>0016R</td><td>731487</td><td>SCREENING</td><td>SCRN </td><td>4-1-15 0:00   </td><td>Primary         </td><td>ARCHIVAL TUMOR SLIDES         </td><td>ARCHIVAL TUMOR FFPE SLIDES</td><td>BETWEEN SPINE AND RIGHT KIDNEY | 5                   </td><td>FAILED-QC      </td><td>1</td></tr>\n",
       "\t<tr><th scope=row>55</th><td>11010306</td><td>1128208703</td><td>6502867059-02</td><td>06520070C0018R</td><td>06520070C</td><td>0018R</td><td>713902</td><td>SCREENING</td><td>SCRN </td><td>6-10-14 13:45 </td><td>Primary         </td><td>ARCHIVAL TUMOR SLIDES         </td><td>ARCHIVAL TUMOR FFPE SLIDES</td><td>INTERTHORACIC PARDSPINAL COMPANENT |                 </td><td>Y              </td><td>1</td></tr>\n",
       "\t<tr><th scope=row>56</th><td>11010307</td><td>1128208702</td><td>6502168705-02</td><td>06520071C0020R</td><td>06520071C</td><td>0020R</td><td>713903</td><td>SCREENING</td><td>SCRN </td><td>2-18-14 0:01  </td><td>Primary         </td><td>ARCHIVAL TUMOR SLIDES         </td><td>ARCHIVAL TUMOR FFPE SLIDES</td><td>RETROPERITONEAL MASS |                               </td><td>Y              </td><td>1</td></tr>\n",
       "\t<tr><th scope=row>31</th><td>11010308</td><td>1128365902</td><td>6202116735-01</td><td>06520038B0023R</td><td>06520038B</td><td>0023R</td><td>713882</td><td>SCREENING</td><td>SCRN </td><td>8-22-14 11:30 </td><td>Metastatic      </td><td>Archival Tumor FFPE Block     </td><td>ARCHIVAL TUMOR FFPE BLOCK </td><td>PARA-CARDIAC |                                       </td><td>Y              </td><td>1</td></tr>\n",
       "\t<tr><th scope=row>⋮</th><td>⋮</td><td>⋮</td><td>⋮</td><td>⋮</td><td>⋮</td><td>⋮</td><td>⋮</td><td>⋮</td><td>⋮</td><td>⋮</td><td>⋮</td><td>⋮</td><td>⋮</td><td>⋮</td><td>⋮</td><td>⋮</td></tr>\n",
       "\t<tr><th scope=row>4</th><td>11010701</td><td>1128397102</td><td>6201764819-02</td><td>06520005C0017R</td><td>06520005C</td><td>0017R</td><td>713862</td><td>SCREENING </td><td>SCRN    </td><td>7-23-14 9:10  </td><td>Metastatic</td><td>Archival Tumor Slides            </td><td>ARCHIVAL TUMOR FFPE SLIDES </td><td>NECK |                                </td><td>Y</td><td>1</td></tr>\n",
       "\t<tr><th scope=row>20</th><td>11010701</td><td>1128397102</td><td>6201764824-02</td><td>06520024B0014R</td><td>06520024B</td><td>0014R</td><td>713873</td><td>BIOPSY KIT</td><td>PROG    </td><td>1-20-16 12:00 </td><td>Metastatic</td><td>SM5/ OPT RCR Tumor FFPE Block - 1</td><td>OPT RCR TUMOR FFPE BLOCK   </td><td>LEG SOFT TISSUE | 1                   </td><td>Y</td><td>1</td></tr>\n",
       "\t<tr><th scope=row>5</th><td>11010702</td><td>1128350401</td><td>6201764812-02</td><td>06520006C0016R</td><td>06520006C</td><td>0016R</td><td>731477</td><td>SCREENING </td><td>SCRN    </td><td>7-4-11 12:00  </td><td>Primary   </td><td>Archival Tumor Slides            </td><td>ARCHIVAL TUMOR FFPE SLIDES </td><td>right rib |                           </td><td>Y</td><td>1</td></tr>\n",
       "\t<tr><th scope=row>33</th><td>11010703</td><td>1128355102</td><td>6201855900-02</td><td>06520040B0014R</td><td>06520040B</td><td>0014R</td><td>713884</td><td>BIOPSY KIT</td><td>PROG    </td><td>3-8-16 12:00  </td><td>Primary   </td><td>SM5/ OPT RCR Tumor FFPE Block - 1</td><td>OPT RCR TUMOR FFPE BLOCK   </td><td>LEFT FACIAL SIDE | 1                  </td><td>Y</td><td>1</td></tr>\n",
       "\t<tr><th scope=row>35</th><td>11010703</td><td>1128355102</td><td>6201855894-01</td><td>06520042B0023R</td><td>06520042B</td><td>0023R</td><td>713885</td><td>SCREENING </td><td>SCRN    </td><td>7-23-15 12:00 </td><td>Primary   </td><td>Archival Tumor FFPE Block        </td><td>ARCHIVAL TUMOR FFPE BLOCK  </td><td>LEFT ORBIT | Information not available</td><td>Y</td><td>1</td></tr>\n",
       "\t<tr><th scope=row>23</th><td>11010704</td><td>1128170204</td><td>6501799191-02</td><td>06520027C0022R</td><td>06520027C</td><td>0022R</td><td>713876</td><td>SCREENING </td><td>SCRN    </td><td>12-29-14 9:16 </td><td>Metastatic</td><td>Archival Tumor Slides            </td><td>ARCHIVAL TUMOR FFPE SLIDES </td><td>right inguianal region |              </td><td>Y</td><td>1</td></tr>\n",
       "\t<tr><th scope=row>46</th><td>11010706</td><td>1128402401</td><td>6502282838-02</td><td>06520058C0045R</td><td>06520058C</td><td>0045R</td><td>731486</td><td>SCREENING </td><td>SCRN    </td><td>11-23-13 0:00 </td><td>Primary   </td><td>ARCHIVAL TUMOR SLIDES            </td><td>ARCHIVAL TUMOR FFPE SLIDES </td><td>R NASAL CAVITY |                      </td><td>Y</td><td>1</td></tr>\n",
       "\t<tr><th scope=row>40</th><td>11010707</td><td>1128355201</td><td>6202116728-02</td><td>06520049C0018R</td><td>06520049C</td><td>0018R</td><td>713890</td><td>SCREENING </td><td>SCRN    </td><td>10-29-15 0:00 </td><td>Primary   </td><td>ARCHIVAL TUMOR SLIDES            </td><td>ARCHIVAL TUMOR FFPE SLIDES </td><td>PELVIS |                              </td><td>Y</td><td>1</td></tr>\n",
       "\t<tr><th scope=row>53</th><td>11010709</td><td>1128359304</td><td>6202733282-01</td><td>06520068B0023R</td><td>06520068B</td><td>0023R</td><td>713900</td><td>SCREENING </td><td>SCRN    </td><td>6-25-15 0:00  </td><td>Primary   </td><td>ARCHIVAL TUMOR FFPE BLOCK        </td><td>ARCHIVAL TUMOR FFPE BLOCK  </td><td>Bone tissue                           </td><td>Y</td><td>1</td></tr>\n",
       "\t<tr><th scope=row>45</th><td>11010710</td><td>1128321601</td><td>6202785779-02</td><td>06520055C0018R</td><td>06520055C</td><td>0018R</td><td>713894</td><td>SCREENING </td><td>SCRN    </td><td>4-13-15 15:40 </td><td>Primary   </td><td>ARCHIVAL TUMOR SLIDES            </td><td>ARCHIVAL TUMOR FFPE SLIDES </td><td>LUNG |                                </td><td>Y</td><td>1</td></tr>\n",
       "\t<tr><th scope=row>42</th><td>11010802</td><td>1128374702</td><td>6202528199-02</td><td>06520052C0028R</td><td>06520052C</td><td>0028R</td><td>713892</td><td>SCREENING </td><td>SCRN    </td><td>12-2-15 14:13 </td><td>Primary   </td><td>ARCHIVAL TUMOR SLIDES            </td><td>ARCHIVAL TUMOR FFPE SLIDES </td><td>WILMS TUMOR SIN |                     </td><td>Y</td><td>1</td></tr>\n",
       "\t<tr><th scope=row>36</th><td>11010803</td><td>1128273804</td><td>6202039198-01</td><td>06520043B0022R</td><td>06520043B</td><td>0022R</td><td>713886</td><td>SCREENING </td><td>SCRN    </td><td>3-3-16 12:00  </td><td>Primary   </td><td>Archival Tumor FFPE Block        </td><td>ARCHIVAL TUMOR FFPE BLOCK  </td><td>KIDNEY |                              </td><td>Y</td><td>1</td></tr>\n",
       "\t<tr><th scope=row>50</th><td>11010804</td><td>1128402402</td><td>6502282849-09</td><td>06520063C0043R</td><td>06520063C</td><td>0043R</td><td>713898</td><td>SCREENING </td><td>PREDOSE </td><td>6-6-08 0:00   </td><td>Primary   </td><td>ARCHIVAL TUMOR SLIDES            </td><td>ARCHIVAL TUMOR FFPE SLIDES </td><td>Left Kidney |                         </td><td>Y</td><td>1</td></tr>\n",
       "\t<tr><th scope=row>64</th><td>11010806</td><td>1128096001</td><td>6503340215-02</td><td>06520082C0018R</td><td>06520082C</td><td>0018R</td><td>713909</td><td>SCREENING </td><td>SCRN    </td><td>3-12-14 0:00  </td><td>Metastatic</td><td>SMO2 ARCHIVAL TUMOR SLIDES       </td><td>ARCHIVAL TUMOR FFPE SLIDES </td><td>LUNG RIGHT MIDDE LOBE | NOT COLLECTED </td><td>Y</td><td>1</td></tr>\n",
       "\t<tr><th scope=row>66</th><td>11010807</td><td>1128273805</td><td>6203065432-01</td><td>06520091B0017R</td><td>06520091B</td><td>0017R</td><td>713911</td><td>SCREENING </td><td>SCRN    </td><td>6-12-15 8:00  </td><td>Primary   </td><td>ARCHIVAL TUMOR FFPE BLOCK        </td><td>ARCHIVAL TUMOR FFPE BLOCK  </td><td>LEFT KIDNEY | NOT KNOWN               </td><td>Y</td><td>1</td></tr>\n",
       "\t<tr><th scope=row>77</th><td>11010808</td><td>1128359306</td><td>6202116747   </td><td>06520102B0017R</td><td>06520102B</td><td>0017R</td><td>713920</td><td>SCREENING </td><td>LEFTOVER</td><td>3-10-16 0:00  </td><td>Metastatic</td><td>ARCHIVAL                         </td><td>ARCHIVAL TYPE NOT SPECIFIED</td><td>LEFT UPPER LOBE LUNG |                </td><td>Y</td><td>1</td></tr>\n",
       "\t<tr><th scope=row>81</th><td>11010809</td><td>1128349709</td><td>6203065440-02</td><td>06520106C0017R</td><td>06520106C</td><td>0017R</td><td>713923</td><td>SCREENING </td><td>SCRN    </td><td>3-13-17 0:00  </td><td>Primary   </td><td>SM02 ARCHIVAL TUMOR SLIDES       </td><td>ARCHIVAL TUMOR FFPE SLIDES </td><td>URETHRA |                             </td><td>Y</td><td>1</td></tr>\n",
       "\t<tr><th scope=row>70</th><td>11010810</td><td>1128273806</td><td>6203065431-03</td><td>06520095B0017R</td><td>06520095B</td><td>0017R</td><td>713914</td><td>SCREENING </td><td>SCRN    </td><td>10-9-16 12:00 </td><td>Primary   </td><td>ARCHIVAL TUMOR FFPE BLOCK        </td><td>ARCHIVAL TUMOR FFPE BLOCK  </td><td>LYMPH NODE |                          </td><td>Y</td><td>1</td></tr>\n",
       "\t<tr><th scope=row>67</th><td>11010901</td><td>1128095904</td><td>6503340212-02</td><td>06520092C0017R</td><td>06520092C</td><td>0017R</td><td>713912</td><td>SCREENING </td><td>SCRN    </td><td>1-28-16 0:00  </td><td>Primary   </td><td>SM02 ARCHIVAL TUMOR SLIDES       </td><td>ARCHIVAL TUMOR FFPE SLIDES </td><td>LEFT HEMIDIAPHRAGM | 1                </td><td>Y</td><td>1</td></tr>\n",
       "\t<tr><th scope=row>61</th><td>11010902</td><td>1128374705</td><td>6203065471-02</td><td>06520078C0028R</td><td>06520078C</td><td>0028R</td><td>713907</td><td>SCREENING </td><td>SCRN    </td><td>10-19-15 11:59</td><td>Metastatic</td><td>ARCHIVAL TUMOR SLIDES            </td><td>ARCHIVAL TUMOR FFPE SLIDES </td><td>Lymph node                            </td><td>Y</td><td>1</td></tr>\n",
       "\t<tr><th scope=row>78</th><td>11010903</td><td>1128208704</td><td>6502168706   </td><td>06520103C0017R</td><td>06520103C</td><td>0017R</td><td>713921</td><td>SCREENING </td><td>SCRN    </td><td>10-5-15 15:20 </td><td>Primary   </td><td>SM01 ARCHIVAL TUMOR FFPE BLK     </td><td>ARCHIVAL TUMOR FFPE BLOCK  </td><td>MEDIASTINAL MASS |                    </td><td>Y</td><td>1</td></tr>\n",
       "\t<tr><th scope=row>79</th><td>11010904</td><td>1128402403</td><td>6503110274-02</td><td>06520104C0017R</td><td>06520104C</td><td>0017R</td><td>766643</td><td>SCREENING </td><td>SCRN    </td><td>2015-10-15    </td><td>Metastatic</td><td>SM02 ARCHIVAL TUMOR SLIDES       </td><td>ARCHIVAL TUMOR FFPE SLIDES </td><td>PLEURAL NODULES LEFT LUNG |           </td><td>Y</td><td>2</td></tr>\n",
       "\t<tr><th scope=row>54</th><td>11011001</td><td>1128170201</td><td>6502553312-02</td><td>06520069C0017R</td><td>06520069C</td><td>0017R</td><td>713901</td><td>SCREENING </td><td>SCRN    </td><td>1-7-14 0:00   </td><td>Metastatic</td><td>ARCHIVAL TUMOR SLIDES            </td><td>ARCHIVAL TUMOR FFPE SLIDES </td><td>LIVER | INFORMATION NOT AVAILABLE     </td><td>Y</td><td>1</td></tr>\n",
       "\t<tr><th scope=row>9</th><td>11011002</td><td>1128104902</td><td>6501799177-01</td><td>06520010B0023R</td><td>06520010B</td><td>0023R</td><td>713865</td><td>SCREENING </td><td>SCRN    </td><td>8-21-15 12:00 </td><td>Primary   </td><td>Archival Tumor FFPE Block        </td><td>ARCHIVAL TUMOR FFPE BLOCK  </td><td>LEFT KIDNEY |                         </td><td>Y</td><td>1</td></tr>\n",
       "\t<tr><th scope=row>22</th><td>11011003</td><td>1128350404</td><td>6202189993-02</td><td>06520026C0014R</td><td>06520026C</td><td>0014R</td><td>713875</td><td>SCREENING </td><td>SCRN    </td><td>7-7-15 12:00  </td><td>Metastatic</td><td>Archival Tumor Slides            </td><td>ARCHIVAL TUMOR FFPE SLIDES </td><td>RIGHT LUNG |                          </td><td>Y</td><td>1</td></tr>\n",
       "\t<tr><th scope=row>28</th><td>11011005</td><td>1128235907</td><td>6202549619-02</td><td>06520035C0021R</td><td>06520035C</td><td>0021R</td><td>731482</td><td>SCREENING </td><td>SCRN    </td><td>3-5-15 8:00   </td><td>Primary   </td><td>Archival Tumor Slides            </td><td>ARCHIVAL TUMOR FFPE SLIDES </td><td>BEHIND THE BLADDER | 6                </td><td>Y</td><td>1</td></tr>\n",
       "\t<tr><th scope=row>73</th><td>11011005</td><td>1128235907</td><td>6203065378-09</td><td>06520098C0017R</td><td>06520098C</td><td>0017R</td><td>713916</td><td>BIOPSY KIT</td><td>LEFTOVER</td><td>9-27-16 0:00  </td><td>Metastatic</td><td>0                                </td><td>NOT SPECIFIED              </td><td>LUNG | 8                              </td><td>Y</td><td>1</td></tr>\n",
       "\t<tr><th scope=row>80</th><td>11011201</td><td>1128369402</td><td>6202277503-02</td><td>06520105C0017R</td><td>06520105C</td><td>0017R</td><td>713922</td><td>SCREENING </td><td>SCRN    </td><td>1-11-16 0:00  </td><td>Primary   </td><td>SM02 ARCHIVAL TUMOR SLIDES       </td><td>ARCHIVAL TUMOR FFPE SLIDES </td><td>LEFT TEMPORAL INTRA-AXIAL | UNKNOWN   </td><td>Y</td><td>1</td></tr>\n",
       "\t<tr><th scope=row>82</th><td>11011202</td><td>1128350409</td><td>6203065395-02</td><td>06520107C0017R</td><td>06520107C</td><td>0017R</td><td>713924</td><td>SCREENING </td><td>SCRN    </td><td>1-12-17 0:00  </td><td>Primary   </td><td>SM02 ARCHIVAL TUMOR SLIDES       </td><td>ARCHIVAL TUMOR FFPE SLIDES </td><td>BRAIN | UNKNOWN                       </td><td>Y</td><td>1</td></tr>\n",
       "\t<tr><th scope=row>83</th><td>11011203</td><td>1128349711</td><td>6202994429-02</td><td>06520110C0016R</td><td>06520110C</td><td>0016R</td><td>766644</td><td>SCREENING </td><td>SCRN    </td><td>2015-10-08    </td><td>Primary   </td><td>SM02 ARCHIVAL TUMOR SLIDES       </td><td>ARCHIVAL TUMOR FFPE SLIDES </td><td>LEFT FRONTAL |                        </td><td>Y</td><td>2</td></tr>\n",
       "</tbody>\n",
       "</table>\n"
      ],
      "text/latex": [
       "A data.frame: 83 × 16\n",
       "\\begin{tabular}{r|llllllllllllllll}\n",
       "  & Patient.ID & Screening.ID & Sample.ID.ColFinHGXTracker & HGX.Specimen.Name & HGX.Specimen.Name.Split.1 & HGX.Specimen.Name.Split.2 & EA.Sample.ID & Visit.Code & Sample.Nr.Code & Sample.Collection.Timestamp & Tumor.Type.Primary.Met.Other & Sample.Prep.Type.Fresh.Arch.Other & Sample.Prep.Type.Fresh.Arch.Other.Khannotation & Sample.Origin & EA.Sequenced & EA.Sequencing.Batch\\\\\n",
       "  & <int> & <int> & <chr> & <chr> & <chr> & <chr> & <int> & <chr> & <chr> & <chr> & <chr> & <chr> & <chr> & <chr> & <chr> & <int>\\\\\n",
       "\\hline\n",
       "\t17 & 11010101 & 1128350402 & 6201764811-02 & 06520021C0016R & 06520021C & 0016R & 731481 & SCREENING & SCRN  & 3-17-15 12:00  & Primary          & Archival Tumor Slides          & ARCHIVAL TUMOR FFPE SLIDES & RIGHT FEMUR \\textbar{}                                         & FAILED-QC       & 1\\\\\n",
       "\t52 & 11010102 & 1128208701 & 6502168704-02 & 06520067C0018R & 06520067C & 0018R & 713899 & SCREENING & SCRN  & 2-3-14 0:00    & Metastatic       & ARCHIVAL TUMOR SLIDES          & ARCHIVAL TUMOR FFPE SLIDES & LUNG RT \\textbar{}                                             & Y               & 1\\\\\n",
       "\t10 & 11010103 & 1128349502 & 6201801512-01 & 06520011B0023R & 06520011B & 0023R & 713866 & SCREENING & SCRN  & 8-18-15 10:00  & Primary          & Archival Tumor FFPE Block      & ARCHIVAL TUMOR FFPE BLOCK  & FRONT DROIT \\textbar{}                                         & Y               & 1\\\\\n",
       "\t12 & 11010104 & 1128235903 & 6201801499-02 & 06520015C0016R & 06520015C & 0016R & 731480 & SCREENING & SCRN  & 10-20-14 12:00 & Primary          & Archival Tumor Slides          & ARCHIVAL TUMOR FFPE SLIDES & ILLIUM LEFT \\textbar{}                                         & Y               & 1\\\\\n",
       "\t18 & 11010105 & 1128104903 & 6501799176-02 & 06520022C0017R & 06520022C & 0017R & 713871 & SCREENING & SCRN  & 5-15-14 12:00  & Primary          & Archival Tumor Slides          & ARCHIVAL TUMOR FFPE SLIDES & RIGHT FRONTAL SINUS \\textbar{}                                 & Y               & 1\\\\\n",
       "\t29 & 11010106 & 1128235906 & 6202549616-02 & 06520036C0021R & 06520036C & 0021R & 731483 & SCREENING & SCRN  & 12-19-14 8:00  & Metastatic       & Archival Tumor Slides          & ARCHIVAL TUMOR FFPE SLIDES & RIGHT FUMUR \\textbar{}                                         & FAILED-QC       & 1\\\\\n",
       "\t32 & 11010107 & 1128365901 & 6202116734-05 & 06520039B0023R & 06520039B & 0023R & 713883 & SCREENING & SCRN  & 3-20-14 12:00  & Primary          & SM4/ Scrn Fresh Tumor FFPE Blk & ARCHIVAL TUMOR FFPE BLOCK  & LEFT ILIAC WING \\textbar{}                                     & FAILED-LIB-PREP & 1\\\\\n",
       "\t47 & 11010108 & 1128355202 & 6202889800-01 & 06520059B0023R & 06520059B & 0023R & 713895 & SCREENING & SCRN  & 10-2-14 0:00   & Metastatic       & ARCHIVAL TUMOR FFPE BLOCK      & ARCHIVAL TUMOR FFPE BLOCK  & Lung metastase                                        & Y               & 1\\\\\n",
       "\t59 & 11010109 & 1128898801 & 6502789214-02 & 06520076B0017R & 06520076B & 0017R & 713906 & SCREENING & OTHER & 5-10-12 10:22  & Primary          & ARCHIVAL TUMOR FFPE BLOCK      & ARCHIVAL TUMOR FFPE BLOCK  & R FEMUR \\textbar{}                                             & Y               & 1\\\\\n",
       "\t60 & 11010109 & 1128898801 & 6502789213-04 & 06520077B0016R & 06520077B & 0016R & 731488 & SCREENING & PROG  & 4-21-14 13:22  & Metastatic       & ARCHIVAL TUMOR FFPE BLOCK      & ARCHIVAL TUMOR FFPE BLOCK  & L ILIAC \\textbar{}                                             & FAILED-QC       & 1\\\\\n",
       "\t24 & 11010111 & 1128359302 & 6202116742-02 & 06520029C0018R & 06520029C & 0018R & 713877 & SCREENING & SCRN  & 10-19-15 0:01  & Metastatic       & Archival Tumor Slides          & ARCHIVAL TUMOR FFPE SLIDES & PLEURAL TISSUE \\textbar{} 1                                    & Y               & 1\\\\\n",
       "\t3 & 11010201 & 1128365801 & 6202063608-02 & 06520004C0018R & 06520004C & 0018R & 713861 & SCREENING & SCRN  & 2-1-13 0:01    & Primary          & Archival Tumor Slides          & ARCHIVAL TUMOR FFPE SLIDES & LATERO CERVICAL NECK NODE \\textbar{}                           & Y               & 1\\\\\n",
       "\t2 & 11010202 & 1128365802 & 6202063607-02 & 06520003C0012R & 06520003C & 0012R & 713860 & SCREENING & SCRN  & 1-1-14 0:01    & Primary          & Archival Tumor Slides          & ARCHIVAL TUMOR FFPE SLIDES & LATERO CERVICAL NECK NODE \\textbar{}                           & Y               & 1\\\\\n",
       "\t27 & 11010203 & 1128365805 & 6202261662-02 & 06520033C0018R & 06520033C & 0018R & 713880 & SCREENING & SCRN  & 2-16-16 0:00   & Primary          & Archival Tumor Slides          & ARCHIVAL TUMOR FFPE SLIDES & RIGHT LATERAL CERVICAL NODE                           & Y               & 1\\\\\n",
       "\t43 & 11010204 & 1128365701 & 6202263035-02 & 06520053C0017R & 06520053C & 0017R & 713893 & SCREENING & SCRN  & 8-28-13 0:00   & Primary          & ARCHIVAL TUMOR SLIDES          & ARCHIVAL TUMOR FFPE SLIDES &  lymph node left laterocervical                       & Y               & 1\\\\\n",
       "\t65 & 11010205 & 1128365702 & 6203065456-02 & 06520090C0018R & 06520090C & 0018R & 713910 & SCREENING & SCRN  & 7-10-14 8:00   & Primary          & ARCHIVAL TUMOR SLIDES          & ARCHIVAL TUMOR FFPE SLIDES & Lung                                                  & Y               & 1\\\\\n",
       "\t68 & 11010206 & 1128349506 & 6203065392-02 & 06520093C0017R & 06520093C & 0017R & 713913 & SCREENING & SCRN  & 1-1-15 8:00    & Hodgkin lymphoma & ARCHIVAL TUMOR SLIDES          & ARCHIVAL TUMOR FFPE SLIDES & lymph node \\textbar{} location unknown                         & Y               & 1\\\\\n",
       "\t71 & 11010207 & 1128350408 & 6203065396-02 & 06520096C0016R & 06520096C & 0016R & 731491 & SCREENING & SCRN  & 4-22-16 12:00  & Metastatic       & ARCHIVAL TUMOR SLIDES          & ARCHIVAL TUMOR FFPE SLIDES & INFORMATION NOT AVAILABLE \\textbar{} INFORMATION NOT AVAILABLE & FAILED-QC       & 1\\\\\n",
       "\t74 & 11010208 & 1128397108 & 6202218209-01 & 06520099B0017R & 06520099B & 0017R & 713917 & SCREENING & SCRN  & 9-7-15 10:00   & Primary          & SM01 ARCHIVAL TUMOR FFPE BLK   & ARCHIVAL TUMOR FFPE BLOCK  & LEFT SIDE ADENOPATHY OF THE NECK \\textbar{}                    & Y               & 1\\\\\n",
       "\t75 & 11010209 & 1128270302 & 6203065383-03 & 06520100B0017R & 06520100B & 0017R & 713918 & SCREENING & SCRN  & 2-17-16 0:00   & Primary          & SM01 ARCHIVAL TUMOUR FFPE BLK  & ARCHIVAL TUMOR FFPE BLOCK  & MEDIASTINAL LYMPH NODE \\textbar{}                              & Y               & 1\\\\\n",
       "\t76 & 11010209 & 1128270302 & 6203065384-03 & 06520101B0017R & 06520101B & 0017R & 713919 & SCREENING & SCRN  & 4-21-15 0:00   & Primary          & SM04 SCRN FRESH TUMOR FFPE BLK & ARCHIVAL TUMOR FFPE BLOCK  & CERVICAL LYMPH NODE \\textbar{}                                 & Y               & 1\\\\\n",
       "\t34 & 11010301 & 1128355101 & 6201855895-01 & 06520041B0016R & 06520041B & 0016R & 731484 & SCREENING & SCRN  & 12-16-15 12:00 & Metastatic       & Archival Tumor FFPE Block      & ARCHIVAL TUMOR FFPE BLOCK  &  lymph node left laterocervical                       & FAILED-QC       & 1\\\\\n",
       "\t14 & 11010302 & 1128104901 & 6501799178-02 & 06520018C0017R & 06520018C & 0017R & 713868 & SCREENING & SCRN  & 7-12-11 12:04  & Primary          & Archival Tumor Slides          & ARCHIVAL TUMOR FFPE SLIDES & LEFT ADRENAL GLAND RETROPERITONEUM \\textbar{}                  & Y               & 1\\\\\n",
       "\t15 & 11010303 & 1128365803 & 6202116713-02 & 06520019C0023R & 06520019C & 0023R & 713869 & SCREENING & SCRN  & 6-25-10 0:00   & Primary          & Archival Tumor Slides          & ARCHIVAL TUMOR FFPE SLIDES & RIGHT ADRENAL MASS \\textbar{}                                  & Y               & 1\\\\\n",
       "\t39 & 11010304 & 1128095903 & 6502064156-02 & 06520047C0017R & 06520047C & 0017R & 713889 & SCREENING & SCRN  & 1-7-14 17:20   & Metastatic       & ARCHIVAL TUMOR SLIDES          & ARCHIVAL TUMOR FFPE SLIDES & LEFT BRAIN MASS FRONTAL LOBE \\textbar{}                        & Y               & 1\\\\\n",
       "\t19 & 11010305 & 1128235902 & 6201801498-02 & 06520023C0018R & 06520023C & 0018R & 713872 & SCREENING & SCRN  & 4-1-15 0:00    & Primary          & Archival Tumor Slides          & ARCHIVAL TUMOR FFPE SLIDES & ADRENAL GLAND \\textbar{}                                       & Y               & 1\\\\\n",
       "\t51 & 11010305 & 1128235902 & 6202352889-02 & 06520064C0016R & 06520064C & 0016R & 731487 & SCREENING & SCRN  & 4-1-15 0:00    & Primary          & ARCHIVAL TUMOR SLIDES          & ARCHIVAL TUMOR FFPE SLIDES & BETWEEN SPINE AND RIGHT KIDNEY \\textbar{} 5                    & FAILED-QC       & 1\\\\\n",
       "\t55 & 11010306 & 1128208703 & 6502867059-02 & 06520070C0018R & 06520070C & 0018R & 713902 & SCREENING & SCRN  & 6-10-14 13:45  & Primary          & ARCHIVAL TUMOR SLIDES          & ARCHIVAL TUMOR FFPE SLIDES & INTERTHORACIC PARDSPINAL COMPANENT \\textbar{}                  & Y               & 1\\\\\n",
       "\t56 & 11010307 & 1128208702 & 6502168705-02 & 06520071C0020R & 06520071C & 0020R & 713903 & SCREENING & SCRN  & 2-18-14 0:01   & Primary          & ARCHIVAL TUMOR SLIDES          & ARCHIVAL TUMOR FFPE SLIDES & RETROPERITONEAL MASS \\textbar{}                                & Y               & 1\\\\\n",
       "\t31 & 11010308 & 1128365902 & 6202116735-01 & 06520038B0023R & 06520038B & 0023R & 713882 & SCREENING & SCRN  & 8-22-14 11:30  & Metastatic       & Archival Tumor FFPE Block      & ARCHIVAL TUMOR FFPE BLOCK  & PARA-CARDIAC \\textbar{}                                        & Y               & 1\\\\\n",
       "\t⋮ & ⋮ & ⋮ & ⋮ & ⋮ & ⋮ & ⋮ & ⋮ & ⋮ & ⋮ & ⋮ & ⋮ & ⋮ & ⋮ & ⋮ & ⋮ & ⋮\\\\\n",
       "\t4 & 11010701 & 1128397102 & 6201764819-02 & 06520005C0017R & 06520005C & 0017R & 713862 & SCREENING  & SCRN     & 7-23-14 9:10   & Metastatic & Archival Tumor Slides             & ARCHIVAL TUMOR FFPE SLIDES  & NECK \\textbar{}                                 & Y & 1\\\\\n",
       "\t20 & 11010701 & 1128397102 & 6201764824-02 & 06520024B0014R & 06520024B & 0014R & 713873 & BIOPSY KIT & PROG     & 1-20-16 12:00  & Metastatic & SM5/ OPT RCR Tumor FFPE Block - 1 & OPT RCR TUMOR FFPE BLOCK    & LEG SOFT TISSUE \\textbar{} 1                    & Y & 1\\\\\n",
       "\t5 & 11010702 & 1128350401 & 6201764812-02 & 06520006C0016R & 06520006C & 0016R & 731477 & SCREENING  & SCRN     & 7-4-11 12:00   & Primary    & Archival Tumor Slides             & ARCHIVAL TUMOR FFPE SLIDES  & right rib \\textbar{}                            & Y & 1\\\\\n",
       "\t33 & 11010703 & 1128355102 & 6201855900-02 & 06520040B0014R & 06520040B & 0014R & 713884 & BIOPSY KIT & PROG     & 3-8-16 12:00   & Primary    & SM5/ OPT RCR Tumor FFPE Block - 1 & OPT RCR TUMOR FFPE BLOCK    & LEFT FACIAL SIDE \\textbar{} 1                   & Y & 1\\\\\n",
       "\t35 & 11010703 & 1128355102 & 6201855894-01 & 06520042B0023R & 06520042B & 0023R & 713885 & SCREENING  & SCRN     & 7-23-15 12:00  & Primary    & Archival Tumor FFPE Block         & ARCHIVAL TUMOR FFPE BLOCK   & LEFT ORBIT \\textbar{} Information not available & Y & 1\\\\\n",
       "\t23 & 11010704 & 1128170204 & 6501799191-02 & 06520027C0022R & 06520027C & 0022R & 713876 & SCREENING  & SCRN     & 12-29-14 9:16  & Metastatic & Archival Tumor Slides             & ARCHIVAL TUMOR FFPE SLIDES  & right inguianal region \\textbar{}               & Y & 1\\\\\n",
       "\t46 & 11010706 & 1128402401 & 6502282838-02 & 06520058C0045R & 06520058C & 0045R & 731486 & SCREENING  & SCRN     & 11-23-13 0:00  & Primary    & ARCHIVAL TUMOR SLIDES             & ARCHIVAL TUMOR FFPE SLIDES  & R NASAL CAVITY \\textbar{}                       & Y & 1\\\\\n",
       "\t40 & 11010707 & 1128355201 & 6202116728-02 & 06520049C0018R & 06520049C & 0018R & 713890 & SCREENING  & SCRN     & 10-29-15 0:00  & Primary    & ARCHIVAL TUMOR SLIDES             & ARCHIVAL TUMOR FFPE SLIDES  & PELVIS \\textbar{}                               & Y & 1\\\\\n",
       "\t53 & 11010709 & 1128359304 & 6202733282-01 & 06520068B0023R & 06520068B & 0023R & 713900 & SCREENING  & SCRN     & 6-25-15 0:00   & Primary    & ARCHIVAL TUMOR FFPE BLOCK         & ARCHIVAL TUMOR FFPE BLOCK   & Bone tissue                            & Y & 1\\\\\n",
       "\t45 & 11010710 & 1128321601 & 6202785779-02 & 06520055C0018R & 06520055C & 0018R & 713894 & SCREENING  & SCRN     & 4-13-15 15:40  & Primary    & ARCHIVAL TUMOR SLIDES             & ARCHIVAL TUMOR FFPE SLIDES  & LUNG \\textbar{}                                 & Y & 1\\\\\n",
       "\t42 & 11010802 & 1128374702 & 6202528199-02 & 06520052C0028R & 06520052C & 0028R & 713892 & SCREENING  & SCRN     & 12-2-15 14:13  & Primary    & ARCHIVAL TUMOR SLIDES             & ARCHIVAL TUMOR FFPE SLIDES  & WILMS TUMOR SIN \\textbar{}                      & Y & 1\\\\\n",
       "\t36 & 11010803 & 1128273804 & 6202039198-01 & 06520043B0022R & 06520043B & 0022R & 713886 & SCREENING  & SCRN     & 3-3-16 12:00   & Primary    & Archival Tumor FFPE Block         & ARCHIVAL TUMOR FFPE BLOCK   & KIDNEY \\textbar{}                               & Y & 1\\\\\n",
       "\t50 & 11010804 & 1128402402 & 6502282849-09 & 06520063C0043R & 06520063C & 0043R & 713898 & SCREENING  & PREDOSE  & 6-6-08 0:00    & Primary    & ARCHIVAL TUMOR SLIDES             & ARCHIVAL TUMOR FFPE SLIDES  & Left Kidney \\textbar{}                          & Y & 1\\\\\n",
       "\t64 & 11010806 & 1128096001 & 6503340215-02 & 06520082C0018R & 06520082C & 0018R & 713909 & SCREENING  & SCRN     & 3-12-14 0:00   & Metastatic & SMO2 ARCHIVAL TUMOR SLIDES        & ARCHIVAL TUMOR FFPE SLIDES  & LUNG RIGHT MIDDE LOBE \\textbar{} NOT COLLECTED  & Y & 1\\\\\n",
       "\t66 & 11010807 & 1128273805 & 6203065432-01 & 06520091B0017R & 06520091B & 0017R & 713911 & SCREENING  & SCRN     & 6-12-15 8:00   & Primary    & ARCHIVAL TUMOR FFPE BLOCK         & ARCHIVAL TUMOR FFPE BLOCK   & LEFT KIDNEY \\textbar{} NOT KNOWN                & Y & 1\\\\\n",
       "\t77 & 11010808 & 1128359306 & 6202116747    & 06520102B0017R & 06520102B & 0017R & 713920 & SCREENING  & LEFTOVER & 3-10-16 0:00   & Metastatic & ARCHIVAL                          & ARCHIVAL TYPE NOT SPECIFIED & LEFT UPPER LOBE LUNG \\textbar{}                 & Y & 1\\\\\n",
       "\t81 & 11010809 & 1128349709 & 6203065440-02 & 06520106C0017R & 06520106C & 0017R & 713923 & SCREENING  & SCRN     & 3-13-17 0:00   & Primary    & SM02 ARCHIVAL TUMOR SLIDES        & ARCHIVAL TUMOR FFPE SLIDES  & URETHRA \\textbar{}                              & Y & 1\\\\\n",
       "\t70 & 11010810 & 1128273806 & 6203065431-03 & 06520095B0017R & 06520095B & 0017R & 713914 & SCREENING  & SCRN     & 10-9-16 12:00  & Primary    & ARCHIVAL TUMOR FFPE BLOCK         & ARCHIVAL TUMOR FFPE BLOCK   & LYMPH NODE \\textbar{}                           & Y & 1\\\\\n",
       "\t67 & 11010901 & 1128095904 & 6503340212-02 & 06520092C0017R & 06520092C & 0017R & 713912 & SCREENING  & SCRN     & 1-28-16 0:00   & Primary    & SM02 ARCHIVAL TUMOR SLIDES        & ARCHIVAL TUMOR FFPE SLIDES  & LEFT HEMIDIAPHRAGM \\textbar{} 1                 & Y & 1\\\\\n",
       "\t61 & 11010902 & 1128374705 & 6203065471-02 & 06520078C0028R & 06520078C & 0028R & 713907 & SCREENING  & SCRN     & 10-19-15 11:59 & Metastatic & ARCHIVAL TUMOR SLIDES             & ARCHIVAL TUMOR FFPE SLIDES  & Lymph node                             & Y & 1\\\\\n",
       "\t78 & 11010903 & 1128208704 & 6502168706    & 06520103C0017R & 06520103C & 0017R & 713921 & SCREENING  & SCRN     & 10-5-15 15:20  & Primary    & SM01 ARCHIVAL TUMOR FFPE BLK      & ARCHIVAL TUMOR FFPE BLOCK   & MEDIASTINAL MASS \\textbar{}                     & Y & 1\\\\\n",
       "\t79 & 11010904 & 1128402403 & 6503110274-02 & 06520104C0017R & 06520104C & 0017R & 766643 & SCREENING  & SCRN     & 2015-10-15     & Metastatic & SM02 ARCHIVAL TUMOR SLIDES        & ARCHIVAL TUMOR FFPE SLIDES  & PLEURAL NODULES LEFT LUNG \\textbar{}            & Y & 2\\\\\n",
       "\t54 & 11011001 & 1128170201 & 6502553312-02 & 06520069C0017R & 06520069C & 0017R & 713901 & SCREENING  & SCRN     & 1-7-14 0:00    & Metastatic & ARCHIVAL TUMOR SLIDES             & ARCHIVAL TUMOR FFPE SLIDES  & LIVER \\textbar{} INFORMATION NOT AVAILABLE      & Y & 1\\\\\n",
       "\t9 & 11011002 & 1128104902 & 6501799177-01 & 06520010B0023R & 06520010B & 0023R & 713865 & SCREENING  & SCRN     & 8-21-15 12:00  & Primary    & Archival Tumor FFPE Block         & ARCHIVAL TUMOR FFPE BLOCK   & LEFT KIDNEY \\textbar{}                          & Y & 1\\\\\n",
       "\t22 & 11011003 & 1128350404 & 6202189993-02 & 06520026C0014R & 06520026C & 0014R & 713875 & SCREENING  & SCRN     & 7-7-15 12:00   & Metastatic & Archival Tumor Slides             & ARCHIVAL TUMOR FFPE SLIDES  & RIGHT LUNG \\textbar{}                           & Y & 1\\\\\n",
       "\t28 & 11011005 & 1128235907 & 6202549619-02 & 06520035C0021R & 06520035C & 0021R & 731482 & SCREENING  & SCRN     & 3-5-15 8:00    & Primary    & Archival Tumor Slides             & ARCHIVAL TUMOR FFPE SLIDES  & BEHIND THE BLADDER \\textbar{} 6                 & Y & 1\\\\\n",
       "\t73 & 11011005 & 1128235907 & 6203065378-09 & 06520098C0017R & 06520098C & 0017R & 713916 & BIOPSY KIT & LEFTOVER & 9-27-16 0:00   & Metastatic & 0                                 & NOT SPECIFIED               & LUNG \\textbar{} 8                               & Y & 1\\\\\n",
       "\t80 & 11011201 & 1128369402 & 6202277503-02 & 06520105C0017R & 06520105C & 0017R & 713922 & SCREENING  & SCRN     & 1-11-16 0:00   & Primary    & SM02 ARCHIVAL TUMOR SLIDES        & ARCHIVAL TUMOR FFPE SLIDES  & LEFT TEMPORAL INTRA-AXIAL \\textbar{} UNKNOWN    & Y & 1\\\\\n",
       "\t82 & 11011202 & 1128350409 & 6203065395-02 & 06520107C0017R & 06520107C & 0017R & 713924 & SCREENING  & SCRN     & 1-12-17 0:00   & Primary    & SM02 ARCHIVAL TUMOR SLIDES        & ARCHIVAL TUMOR FFPE SLIDES  & BRAIN \\textbar{} UNKNOWN                        & Y & 1\\\\\n",
       "\t83 & 11011203 & 1128349711 & 6202994429-02 & 06520110C0016R & 06520110C & 0016R & 766644 & SCREENING  & SCRN     & 2015-10-08     & Primary    & SM02 ARCHIVAL TUMOR SLIDES        & ARCHIVAL TUMOR FFPE SLIDES  & LEFT FRONTAL \\textbar{}                         & Y & 2\\\\\n",
       "\\end{tabular}\n"
      ],
      "text/markdown": [
       "\n",
       "A data.frame: 83 × 16\n",
       "\n",
       "| <!--/--> | Patient.ID &lt;int&gt; | Screening.ID &lt;int&gt; | Sample.ID.ColFinHGXTracker &lt;chr&gt; | HGX.Specimen.Name &lt;chr&gt; | HGX.Specimen.Name.Split.1 &lt;chr&gt; | HGX.Specimen.Name.Split.2 &lt;chr&gt; | EA.Sample.ID &lt;int&gt; | Visit.Code &lt;chr&gt; | Sample.Nr.Code &lt;chr&gt; | Sample.Collection.Timestamp &lt;chr&gt; | Tumor.Type.Primary.Met.Other &lt;chr&gt; | Sample.Prep.Type.Fresh.Arch.Other &lt;chr&gt; | Sample.Prep.Type.Fresh.Arch.Other.Khannotation &lt;chr&gt; | Sample.Origin &lt;chr&gt; | EA.Sequenced &lt;chr&gt; | EA.Sequencing.Batch &lt;int&gt; |\n",
       "|---|---|---|---|---|---|---|---|---|---|---|---|---|---|---|---|---|\n",
       "| 17 | 11010101 | 1128350402 | 6201764811-02 | 06520021C0016R | 06520021C | 0016R | 731481 | SCREENING | SCRN  | 3-17-15 12:00  | Primary          | Archival Tumor Slides          | ARCHIVAL TUMOR FFPE SLIDES | RIGHT FEMUR |                                         | FAILED-QC       | 1 |\n",
       "| 52 | 11010102 | 1128208701 | 6502168704-02 | 06520067C0018R | 06520067C | 0018R | 713899 | SCREENING | SCRN  | 2-3-14 0:00    | Metastatic       | ARCHIVAL TUMOR SLIDES          | ARCHIVAL TUMOR FFPE SLIDES | LUNG RT |                                             | Y               | 1 |\n",
       "| 10 | 11010103 | 1128349502 | 6201801512-01 | 06520011B0023R | 06520011B | 0023R | 713866 | SCREENING | SCRN  | 8-18-15 10:00  | Primary          | Archival Tumor FFPE Block      | ARCHIVAL TUMOR FFPE BLOCK  | FRONT DROIT |                                         | Y               | 1 |\n",
       "| 12 | 11010104 | 1128235903 | 6201801499-02 | 06520015C0016R | 06520015C | 0016R | 731480 | SCREENING | SCRN  | 10-20-14 12:00 | Primary          | Archival Tumor Slides          | ARCHIVAL TUMOR FFPE SLIDES | ILLIUM LEFT |                                         | Y               | 1 |\n",
       "| 18 | 11010105 | 1128104903 | 6501799176-02 | 06520022C0017R | 06520022C | 0017R | 713871 | SCREENING | SCRN  | 5-15-14 12:00  | Primary          | Archival Tumor Slides          | ARCHIVAL TUMOR FFPE SLIDES | RIGHT FRONTAL SINUS |                                 | Y               | 1 |\n",
       "| 29 | 11010106 | 1128235906 | 6202549616-02 | 06520036C0021R | 06520036C | 0021R | 731483 | SCREENING | SCRN  | 12-19-14 8:00  | Metastatic       | Archival Tumor Slides          | ARCHIVAL TUMOR FFPE SLIDES | RIGHT FUMUR |                                         | FAILED-QC       | 1 |\n",
       "| 32 | 11010107 | 1128365901 | 6202116734-05 | 06520039B0023R | 06520039B | 0023R | 713883 | SCREENING | SCRN  | 3-20-14 12:00  | Primary          | SM4/ Scrn Fresh Tumor FFPE Blk | ARCHIVAL TUMOR FFPE BLOCK  | LEFT ILIAC WING |                                     | FAILED-LIB-PREP | 1 |\n",
       "| 47 | 11010108 | 1128355202 | 6202889800-01 | 06520059B0023R | 06520059B | 0023R | 713895 | SCREENING | SCRN  | 10-2-14 0:00   | Metastatic       | ARCHIVAL TUMOR FFPE BLOCK      | ARCHIVAL TUMOR FFPE BLOCK  | Lung metastase                                        | Y               | 1 |\n",
       "| 59 | 11010109 | 1128898801 | 6502789214-02 | 06520076B0017R | 06520076B | 0017R | 713906 | SCREENING | OTHER | 5-10-12 10:22  | Primary          | ARCHIVAL TUMOR FFPE BLOCK      | ARCHIVAL TUMOR FFPE BLOCK  | R FEMUR |                                             | Y               | 1 |\n",
       "| 60 | 11010109 | 1128898801 | 6502789213-04 | 06520077B0016R | 06520077B | 0016R | 731488 | SCREENING | PROG  | 4-21-14 13:22  | Metastatic       | ARCHIVAL TUMOR FFPE BLOCK      | ARCHIVAL TUMOR FFPE BLOCK  | L ILIAC |                                             | FAILED-QC       | 1 |\n",
       "| 24 | 11010111 | 1128359302 | 6202116742-02 | 06520029C0018R | 06520029C | 0018R | 713877 | SCREENING | SCRN  | 10-19-15 0:01  | Metastatic       | Archival Tumor Slides          | ARCHIVAL TUMOR FFPE SLIDES | PLEURAL TISSUE | 1                                    | Y               | 1 |\n",
       "| 3 | 11010201 | 1128365801 | 6202063608-02 | 06520004C0018R | 06520004C | 0018R | 713861 | SCREENING | SCRN  | 2-1-13 0:01    | Primary          | Archival Tumor Slides          | ARCHIVAL TUMOR FFPE SLIDES | LATERO CERVICAL NECK NODE |                           | Y               | 1 |\n",
       "| 2 | 11010202 | 1128365802 | 6202063607-02 | 06520003C0012R | 06520003C | 0012R | 713860 | SCREENING | SCRN  | 1-1-14 0:01    | Primary          | Archival Tumor Slides          | ARCHIVAL TUMOR FFPE SLIDES | LATERO CERVICAL NECK NODE |                           | Y               | 1 |\n",
       "| 27 | 11010203 | 1128365805 | 6202261662-02 | 06520033C0018R | 06520033C | 0018R | 713880 | SCREENING | SCRN  | 2-16-16 0:00   | Primary          | Archival Tumor Slides          | ARCHIVAL TUMOR FFPE SLIDES | RIGHT LATERAL CERVICAL NODE                           | Y               | 1 |\n",
       "| 43 | 11010204 | 1128365701 | 6202263035-02 | 06520053C0017R | 06520053C | 0017R | 713893 | SCREENING | SCRN  | 8-28-13 0:00   | Primary          | ARCHIVAL TUMOR SLIDES          | ARCHIVAL TUMOR FFPE SLIDES |  lymph node left laterocervical                       | Y               | 1 |\n",
       "| 65 | 11010205 | 1128365702 | 6203065456-02 | 06520090C0018R | 06520090C | 0018R | 713910 | SCREENING | SCRN  | 7-10-14 8:00   | Primary          | ARCHIVAL TUMOR SLIDES          | ARCHIVAL TUMOR FFPE SLIDES | Lung                                                  | Y               | 1 |\n",
       "| 68 | 11010206 | 1128349506 | 6203065392-02 | 06520093C0017R | 06520093C | 0017R | 713913 | SCREENING | SCRN  | 1-1-15 8:00    | Hodgkin lymphoma | ARCHIVAL TUMOR SLIDES          | ARCHIVAL TUMOR FFPE SLIDES | lymph node | location unknown                         | Y               | 1 |\n",
       "| 71 | 11010207 | 1128350408 | 6203065396-02 | 06520096C0016R | 06520096C | 0016R | 731491 | SCREENING | SCRN  | 4-22-16 12:00  | Metastatic       | ARCHIVAL TUMOR SLIDES          | ARCHIVAL TUMOR FFPE SLIDES | INFORMATION NOT AVAILABLE | INFORMATION NOT AVAILABLE | FAILED-QC       | 1 |\n",
       "| 74 | 11010208 | 1128397108 | 6202218209-01 | 06520099B0017R | 06520099B | 0017R | 713917 | SCREENING | SCRN  | 9-7-15 10:00   | Primary          | SM01 ARCHIVAL TUMOR FFPE BLK   | ARCHIVAL TUMOR FFPE BLOCK  | LEFT SIDE ADENOPATHY OF THE NECK |                    | Y               | 1 |\n",
       "| 75 | 11010209 | 1128270302 | 6203065383-03 | 06520100B0017R | 06520100B | 0017R | 713918 | SCREENING | SCRN  | 2-17-16 0:00   | Primary          | SM01 ARCHIVAL TUMOUR FFPE BLK  | ARCHIVAL TUMOR FFPE BLOCK  | MEDIASTINAL LYMPH NODE |                              | Y               | 1 |\n",
       "| 76 | 11010209 | 1128270302 | 6203065384-03 | 06520101B0017R | 06520101B | 0017R | 713919 | SCREENING | SCRN  | 4-21-15 0:00   | Primary          | SM04 SCRN FRESH TUMOR FFPE BLK | ARCHIVAL TUMOR FFPE BLOCK  | CERVICAL LYMPH NODE |                                 | Y               | 1 |\n",
       "| 34 | 11010301 | 1128355101 | 6201855895-01 | 06520041B0016R | 06520041B | 0016R | 731484 | SCREENING | SCRN  | 12-16-15 12:00 | Metastatic       | Archival Tumor FFPE Block      | ARCHIVAL TUMOR FFPE BLOCK  |  lymph node left laterocervical                       | FAILED-QC       | 1 |\n",
       "| 14 | 11010302 | 1128104901 | 6501799178-02 | 06520018C0017R | 06520018C | 0017R | 713868 | SCREENING | SCRN  | 7-12-11 12:04  | Primary          | Archival Tumor Slides          | ARCHIVAL TUMOR FFPE SLIDES | LEFT ADRENAL GLAND RETROPERITONEUM |                  | Y               | 1 |\n",
       "| 15 | 11010303 | 1128365803 | 6202116713-02 | 06520019C0023R | 06520019C | 0023R | 713869 | SCREENING | SCRN  | 6-25-10 0:00   | Primary          | Archival Tumor Slides          | ARCHIVAL TUMOR FFPE SLIDES | RIGHT ADRENAL MASS |                                  | Y               | 1 |\n",
       "| 39 | 11010304 | 1128095903 | 6502064156-02 | 06520047C0017R | 06520047C | 0017R | 713889 | SCREENING | SCRN  | 1-7-14 17:20   | Metastatic       | ARCHIVAL TUMOR SLIDES          | ARCHIVAL TUMOR FFPE SLIDES | LEFT BRAIN MASS FRONTAL LOBE |                        | Y               | 1 |\n",
       "| 19 | 11010305 | 1128235902 | 6201801498-02 | 06520023C0018R | 06520023C | 0018R | 713872 | SCREENING | SCRN  | 4-1-15 0:00    | Primary          | Archival Tumor Slides          | ARCHIVAL TUMOR FFPE SLIDES | ADRENAL GLAND |                                       | Y               | 1 |\n",
       "| 51 | 11010305 | 1128235902 | 6202352889-02 | 06520064C0016R | 06520064C | 0016R | 731487 | SCREENING | SCRN  | 4-1-15 0:00    | Primary          | ARCHIVAL TUMOR SLIDES          | ARCHIVAL TUMOR FFPE SLIDES | BETWEEN SPINE AND RIGHT KIDNEY | 5                    | FAILED-QC       | 1 |\n",
       "| 55 | 11010306 | 1128208703 | 6502867059-02 | 06520070C0018R | 06520070C | 0018R | 713902 | SCREENING | SCRN  | 6-10-14 13:45  | Primary          | ARCHIVAL TUMOR SLIDES          | ARCHIVAL TUMOR FFPE SLIDES | INTERTHORACIC PARDSPINAL COMPANENT |                  | Y               | 1 |\n",
       "| 56 | 11010307 | 1128208702 | 6502168705-02 | 06520071C0020R | 06520071C | 0020R | 713903 | SCREENING | SCRN  | 2-18-14 0:01   | Primary          | ARCHIVAL TUMOR SLIDES          | ARCHIVAL TUMOR FFPE SLIDES | RETROPERITONEAL MASS |                                | Y               | 1 |\n",
       "| 31 | 11010308 | 1128365902 | 6202116735-01 | 06520038B0023R | 06520038B | 0023R | 713882 | SCREENING | SCRN  | 8-22-14 11:30  | Metastatic       | Archival Tumor FFPE Block      | ARCHIVAL TUMOR FFPE BLOCK  | PARA-CARDIAC |                                        | Y               | 1 |\n",
       "| ⋮ | ⋮ | ⋮ | ⋮ | ⋮ | ⋮ | ⋮ | ⋮ | ⋮ | ⋮ | ⋮ | ⋮ | ⋮ | ⋮ | ⋮ | ⋮ | ⋮ |\n",
       "| 4 | 11010701 | 1128397102 | 6201764819-02 | 06520005C0017R | 06520005C | 0017R | 713862 | SCREENING  | SCRN     | 7-23-14 9:10   | Metastatic | Archival Tumor Slides             | ARCHIVAL TUMOR FFPE SLIDES  | NECK |                                 | Y | 1 |\n",
       "| 20 | 11010701 | 1128397102 | 6201764824-02 | 06520024B0014R | 06520024B | 0014R | 713873 | BIOPSY KIT | PROG     | 1-20-16 12:00  | Metastatic | SM5/ OPT RCR Tumor FFPE Block - 1 | OPT RCR TUMOR FFPE BLOCK    | LEG SOFT TISSUE | 1                    | Y | 1 |\n",
       "| 5 | 11010702 | 1128350401 | 6201764812-02 | 06520006C0016R | 06520006C | 0016R | 731477 | SCREENING  | SCRN     | 7-4-11 12:00   | Primary    | Archival Tumor Slides             | ARCHIVAL TUMOR FFPE SLIDES  | right rib |                            | Y | 1 |\n",
       "| 33 | 11010703 | 1128355102 | 6201855900-02 | 06520040B0014R | 06520040B | 0014R | 713884 | BIOPSY KIT | PROG     | 3-8-16 12:00   | Primary    | SM5/ OPT RCR Tumor FFPE Block - 1 | OPT RCR TUMOR FFPE BLOCK    | LEFT FACIAL SIDE | 1                   | Y | 1 |\n",
       "| 35 | 11010703 | 1128355102 | 6201855894-01 | 06520042B0023R | 06520042B | 0023R | 713885 | SCREENING  | SCRN     | 7-23-15 12:00  | Primary    | Archival Tumor FFPE Block         | ARCHIVAL TUMOR FFPE BLOCK   | LEFT ORBIT | Information not available | Y | 1 |\n",
       "| 23 | 11010704 | 1128170204 | 6501799191-02 | 06520027C0022R | 06520027C | 0022R | 713876 | SCREENING  | SCRN     | 12-29-14 9:16  | Metastatic | Archival Tumor Slides             | ARCHIVAL TUMOR FFPE SLIDES  | right inguianal region |               | Y | 1 |\n",
       "| 46 | 11010706 | 1128402401 | 6502282838-02 | 06520058C0045R | 06520058C | 0045R | 731486 | SCREENING  | SCRN     | 11-23-13 0:00  | Primary    | ARCHIVAL TUMOR SLIDES             | ARCHIVAL TUMOR FFPE SLIDES  | R NASAL CAVITY |                       | Y | 1 |\n",
       "| 40 | 11010707 | 1128355201 | 6202116728-02 | 06520049C0018R | 06520049C | 0018R | 713890 | SCREENING  | SCRN     | 10-29-15 0:00  | Primary    | ARCHIVAL TUMOR SLIDES             | ARCHIVAL TUMOR FFPE SLIDES  | PELVIS |                               | Y | 1 |\n",
       "| 53 | 11010709 | 1128359304 | 6202733282-01 | 06520068B0023R | 06520068B | 0023R | 713900 | SCREENING  | SCRN     | 6-25-15 0:00   | Primary    | ARCHIVAL TUMOR FFPE BLOCK         | ARCHIVAL TUMOR FFPE BLOCK   | Bone tissue                            | Y | 1 |\n",
       "| 45 | 11010710 | 1128321601 | 6202785779-02 | 06520055C0018R | 06520055C | 0018R | 713894 | SCREENING  | SCRN     | 4-13-15 15:40  | Primary    | ARCHIVAL TUMOR SLIDES             | ARCHIVAL TUMOR FFPE SLIDES  | LUNG |                                 | Y | 1 |\n",
       "| 42 | 11010802 | 1128374702 | 6202528199-02 | 06520052C0028R | 06520052C | 0028R | 713892 | SCREENING  | SCRN     | 12-2-15 14:13  | Primary    | ARCHIVAL TUMOR SLIDES             | ARCHIVAL TUMOR FFPE SLIDES  | WILMS TUMOR SIN |                      | Y | 1 |\n",
       "| 36 | 11010803 | 1128273804 | 6202039198-01 | 06520043B0022R | 06520043B | 0022R | 713886 | SCREENING  | SCRN     | 3-3-16 12:00   | Primary    | Archival Tumor FFPE Block         | ARCHIVAL TUMOR FFPE BLOCK   | KIDNEY |                               | Y | 1 |\n",
       "| 50 | 11010804 | 1128402402 | 6502282849-09 | 06520063C0043R | 06520063C | 0043R | 713898 | SCREENING  | PREDOSE  | 6-6-08 0:00    | Primary    | ARCHIVAL TUMOR SLIDES             | ARCHIVAL TUMOR FFPE SLIDES  | Left Kidney |                          | Y | 1 |\n",
       "| 64 | 11010806 | 1128096001 | 6503340215-02 | 06520082C0018R | 06520082C | 0018R | 713909 | SCREENING  | SCRN     | 3-12-14 0:00   | Metastatic | SMO2 ARCHIVAL TUMOR SLIDES        | ARCHIVAL TUMOR FFPE SLIDES  | LUNG RIGHT MIDDE LOBE | NOT COLLECTED  | Y | 1 |\n",
       "| 66 | 11010807 | 1128273805 | 6203065432-01 | 06520091B0017R | 06520091B | 0017R | 713911 | SCREENING  | SCRN     | 6-12-15 8:00   | Primary    | ARCHIVAL TUMOR FFPE BLOCK         | ARCHIVAL TUMOR FFPE BLOCK   | LEFT KIDNEY | NOT KNOWN                | Y | 1 |\n",
       "| 77 | 11010808 | 1128359306 | 6202116747    | 06520102B0017R | 06520102B | 0017R | 713920 | SCREENING  | LEFTOVER | 3-10-16 0:00   | Metastatic | ARCHIVAL                          | ARCHIVAL TYPE NOT SPECIFIED | LEFT UPPER LOBE LUNG |                 | Y | 1 |\n",
       "| 81 | 11010809 | 1128349709 | 6203065440-02 | 06520106C0017R | 06520106C | 0017R | 713923 | SCREENING  | SCRN     | 3-13-17 0:00   | Primary    | SM02 ARCHIVAL TUMOR SLIDES        | ARCHIVAL TUMOR FFPE SLIDES  | URETHRA |                              | Y | 1 |\n",
       "| 70 | 11010810 | 1128273806 | 6203065431-03 | 06520095B0017R | 06520095B | 0017R | 713914 | SCREENING  | SCRN     | 10-9-16 12:00  | Primary    | ARCHIVAL TUMOR FFPE BLOCK         | ARCHIVAL TUMOR FFPE BLOCK   | LYMPH NODE |                           | Y | 1 |\n",
       "| 67 | 11010901 | 1128095904 | 6503340212-02 | 06520092C0017R | 06520092C | 0017R | 713912 | SCREENING  | SCRN     | 1-28-16 0:00   | Primary    | SM02 ARCHIVAL TUMOR SLIDES        | ARCHIVAL TUMOR FFPE SLIDES  | LEFT HEMIDIAPHRAGM | 1                 | Y | 1 |\n",
       "| 61 | 11010902 | 1128374705 | 6203065471-02 | 06520078C0028R | 06520078C | 0028R | 713907 | SCREENING  | SCRN     | 10-19-15 11:59 | Metastatic | ARCHIVAL TUMOR SLIDES             | ARCHIVAL TUMOR FFPE SLIDES  | Lymph node                             | Y | 1 |\n",
       "| 78 | 11010903 | 1128208704 | 6502168706    | 06520103C0017R | 06520103C | 0017R | 713921 | SCREENING  | SCRN     | 10-5-15 15:20  | Primary    | SM01 ARCHIVAL TUMOR FFPE BLK      | ARCHIVAL TUMOR FFPE BLOCK   | MEDIASTINAL MASS |                     | Y | 1 |\n",
       "| 79 | 11010904 | 1128402403 | 6503110274-02 | 06520104C0017R | 06520104C | 0017R | 766643 | SCREENING  | SCRN     | 2015-10-15     | Metastatic | SM02 ARCHIVAL TUMOR SLIDES        | ARCHIVAL TUMOR FFPE SLIDES  | PLEURAL NODULES LEFT LUNG |            | Y | 2 |\n",
       "| 54 | 11011001 | 1128170201 | 6502553312-02 | 06520069C0017R | 06520069C | 0017R | 713901 | SCREENING  | SCRN     | 1-7-14 0:00    | Metastatic | ARCHIVAL TUMOR SLIDES             | ARCHIVAL TUMOR FFPE SLIDES  | LIVER | INFORMATION NOT AVAILABLE      | Y | 1 |\n",
       "| 9 | 11011002 | 1128104902 | 6501799177-01 | 06520010B0023R | 06520010B | 0023R | 713865 | SCREENING  | SCRN     | 8-21-15 12:00  | Primary    | Archival Tumor FFPE Block         | ARCHIVAL TUMOR FFPE BLOCK   | LEFT KIDNEY |                          | Y | 1 |\n",
       "| 22 | 11011003 | 1128350404 | 6202189993-02 | 06520026C0014R | 06520026C | 0014R | 713875 | SCREENING  | SCRN     | 7-7-15 12:00   | Metastatic | Archival Tumor Slides             | ARCHIVAL TUMOR FFPE SLIDES  | RIGHT LUNG |                           | Y | 1 |\n",
       "| 28 | 11011005 | 1128235907 | 6202549619-02 | 06520035C0021R | 06520035C | 0021R | 731482 | SCREENING  | SCRN     | 3-5-15 8:00    | Primary    | Archival Tumor Slides             | ARCHIVAL TUMOR FFPE SLIDES  | BEHIND THE BLADDER | 6                 | Y | 1 |\n",
       "| 73 | 11011005 | 1128235907 | 6203065378-09 | 06520098C0017R | 06520098C | 0017R | 713916 | BIOPSY KIT | LEFTOVER | 9-27-16 0:00   | Metastatic | 0                                 | NOT SPECIFIED               | LUNG | 8                               | Y | 1 |\n",
       "| 80 | 11011201 | 1128369402 | 6202277503-02 | 06520105C0017R | 06520105C | 0017R | 713922 | SCREENING  | SCRN     | 1-11-16 0:00   | Primary    | SM02 ARCHIVAL TUMOR SLIDES        | ARCHIVAL TUMOR FFPE SLIDES  | LEFT TEMPORAL INTRA-AXIAL | UNKNOWN    | Y | 1 |\n",
       "| 82 | 11011202 | 1128350409 | 6203065395-02 | 06520107C0017R | 06520107C | 0017R | 713924 | SCREENING  | SCRN     | 1-12-17 0:00   | Primary    | SM02 ARCHIVAL TUMOR SLIDES        | ARCHIVAL TUMOR FFPE SLIDES  | BRAIN | UNKNOWN                        | Y | 1 |\n",
       "| 83 | 11011203 | 1128349711 | 6202994429-02 | 06520110C0016R | 06520110C | 0016R | 766644 | SCREENING  | SCRN     | 2015-10-08     | Primary    | SM02 ARCHIVAL TUMOR SLIDES        | ARCHIVAL TUMOR FFPE SLIDES  | LEFT FRONTAL |                         | Y | 2 |\n",
       "\n"
      ],
      "text/plain": [
       "   Patient.ID Screening.ID Sample.ID.ColFinHGXTracker HGX.Specimen.Name\n",
       "17 11010101   1128350402   6201764811-02              06520021C0016R   \n",
       "52 11010102   1128208701   6502168704-02              06520067C0018R   \n",
       "10 11010103   1128349502   6201801512-01              06520011B0023R   \n",
       "12 11010104   1128235903   6201801499-02              06520015C0016R   \n",
       "18 11010105   1128104903   6501799176-02              06520022C0017R   \n",
       "29 11010106   1128235906   6202549616-02              06520036C0021R   \n",
       "32 11010107   1128365901   6202116734-05              06520039B0023R   \n",
       "47 11010108   1128355202   6202889800-01              06520059B0023R   \n",
       "59 11010109   1128898801   6502789214-02              06520076B0017R   \n",
       "60 11010109   1128898801   6502789213-04              06520077B0016R   \n",
       "24 11010111   1128359302   6202116742-02              06520029C0018R   \n",
       "3  11010201   1128365801   6202063608-02              06520004C0018R   \n",
       "2  11010202   1128365802   6202063607-02              06520003C0012R   \n",
       "27 11010203   1128365805   6202261662-02              06520033C0018R   \n",
       "43 11010204   1128365701   6202263035-02              06520053C0017R   \n",
       "65 11010205   1128365702   6203065456-02              06520090C0018R   \n",
       "68 11010206   1128349506   6203065392-02              06520093C0017R   \n",
       "71 11010207   1128350408   6203065396-02              06520096C0016R   \n",
       "74 11010208   1128397108   6202218209-01              06520099B0017R   \n",
       "75 11010209   1128270302   6203065383-03              06520100B0017R   \n",
       "76 11010209   1128270302   6203065384-03              06520101B0017R   \n",
       "34 11010301   1128355101   6201855895-01              06520041B0016R   \n",
       "14 11010302   1128104901   6501799178-02              06520018C0017R   \n",
       "15 11010303   1128365803   6202116713-02              06520019C0023R   \n",
       "39 11010304   1128095903   6502064156-02              06520047C0017R   \n",
       "19 11010305   1128235902   6201801498-02              06520023C0018R   \n",
       "51 11010305   1128235902   6202352889-02              06520064C0016R   \n",
       "55 11010306   1128208703   6502867059-02              06520070C0018R   \n",
       "56 11010307   1128208702   6502168705-02              06520071C0020R   \n",
       "31 11010308   1128365902   6202116735-01              06520038B0023R   \n",
       "⋮  ⋮          ⋮            ⋮                          ⋮                \n",
       "4  11010701   1128397102   6201764819-02              06520005C0017R   \n",
       "20 11010701   1128397102   6201764824-02              06520024B0014R   \n",
       "5  11010702   1128350401   6201764812-02              06520006C0016R   \n",
       "33 11010703   1128355102   6201855900-02              06520040B0014R   \n",
       "35 11010703   1128355102   6201855894-01              06520042B0023R   \n",
       "23 11010704   1128170204   6501799191-02              06520027C0022R   \n",
       "46 11010706   1128402401   6502282838-02              06520058C0045R   \n",
       "40 11010707   1128355201   6202116728-02              06520049C0018R   \n",
       "53 11010709   1128359304   6202733282-01              06520068B0023R   \n",
       "45 11010710   1128321601   6202785779-02              06520055C0018R   \n",
       "42 11010802   1128374702   6202528199-02              06520052C0028R   \n",
       "36 11010803   1128273804   6202039198-01              06520043B0022R   \n",
       "50 11010804   1128402402   6502282849-09              06520063C0043R   \n",
       "64 11010806   1128096001   6503340215-02              06520082C0018R   \n",
       "66 11010807   1128273805   6203065432-01              06520091B0017R   \n",
       "77 11010808   1128359306   6202116747                 06520102B0017R   \n",
       "81 11010809   1128349709   6203065440-02              06520106C0017R   \n",
       "70 11010810   1128273806   6203065431-03              06520095B0017R   \n",
       "67 11010901   1128095904   6503340212-02              06520092C0017R   \n",
       "61 11010902   1128374705   6203065471-02              06520078C0028R   \n",
       "78 11010903   1128208704   6502168706                 06520103C0017R   \n",
       "79 11010904   1128402403   6503110274-02              06520104C0017R   \n",
       "54 11011001   1128170201   6502553312-02              06520069C0017R   \n",
       "9  11011002   1128104902   6501799177-01              06520010B0023R   \n",
       "22 11011003   1128350404   6202189993-02              06520026C0014R   \n",
       "28 11011005   1128235907   6202549619-02              06520035C0021R   \n",
       "73 11011005   1128235907   6203065378-09              06520098C0017R   \n",
       "80 11011201   1128369402   6202277503-02              06520105C0017R   \n",
       "82 11011202   1128350409   6203065395-02              06520107C0017R   \n",
       "83 11011203   1128349711   6202994429-02              06520110C0016R   \n",
       "   HGX.Specimen.Name.Split.1 HGX.Specimen.Name.Split.2 EA.Sample.ID Visit.Code\n",
       "17 06520021C                 0016R                     731481       SCREENING \n",
       "52 06520067C                 0018R                     713899       SCREENING \n",
       "10 06520011B                 0023R                     713866       SCREENING \n",
       "12 06520015C                 0016R                     731480       SCREENING \n",
       "18 06520022C                 0017R                     713871       SCREENING \n",
       "29 06520036C                 0021R                     731483       SCREENING \n",
       "32 06520039B                 0023R                     713883       SCREENING \n",
       "47 06520059B                 0023R                     713895       SCREENING \n",
       "59 06520076B                 0017R                     713906       SCREENING \n",
       "60 06520077B                 0016R                     731488       SCREENING \n",
       "24 06520029C                 0018R                     713877       SCREENING \n",
       "3  06520004C                 0018R                     713861       SCREENING \n",
       "2  06520003C                 0012R                     713860       SCREENING \n",
       "27 06520033C                 0018R                     713880       SCREENING \n",
       "43 06520053C                 0017R                     713893       SCREENING \n",
       "65 06520090C                 0018R                     713910       SCREENING \n",
       "68 06520093C                 0017R                     713913       SCREENING \n",
       "71 06520096C                 0016R                     731491       SCREENING \n",
       "74 06520099B                 0017R                     713917       SCREENING \n",
       "75 06520100B                 0017R                     713918       SCREENING \n",
       "76 06520101B                 0017R                     713919       SCREENING \n",
       "34 06520041B                 0016R                     731484       SCREENING \n",
       "14 06520018C                 0017R                     713868       SCREENING \n",
       "15 06520019C                 0023R                     713869       SCREENING \n",
       "39 06520047C                 0017R                     713889       SCREENING \n",
       "19 06520023C                 0018R                     713872       SCREENING \n",
       "51 06520064C                 0016R                     731487       SCREENING \n",
       "55 06520070C                 0018R                     713902       SCREENING \n",
       "56 06520071C                 0020R                     713903       SCREENING \n",
       "31 06520038B                 0023R                     713882       SCREENING \n",
       "⋮  ⋮                         ⋮                         ⋮            ⋮         \n",
       "4  06520005C                 0017R                     713862       SCREENING \n",
       "20 06520024B                 0014R                     713873       BIOPSY KIT\n",
       "5  06520006C                 0016R                     731477       SCREENING \n",
       "33 06520040B                 0014R                     713884       BIOPSY KIT\n",
       "35 06520042B                 0023R                     713885       SCREENING \n",
       "23 06520027C                 0022R                     713876       SCREENING \n",
       "46 06520058C                 0045R                     731486       SCREENING \n",
       "40 06520049C                 0018R                     713890       SCREENING \n",
       "53 06520068B                 0023R                     713900       SCREENING \n",
       "45 06520055C                 0018R                     713894       SCREENING \n",
       "42 06520052C                 0028R                     713892       SCREENING \n",
       "36 06520043B                 0022R                     713886       SCREENING \n",
       "50 06520063C                 0043R                     713898       SCREENING \n",
       "64 06520082C                 0018R                     713909       SCREENING \n",
       "66 06520091B                 0017R                     713911       SCREENING \n",
       "77 06520102B                 0017R                     713920       SCREENING \n",
       "81 06520106C                 0017R                     713923       SCREENING \n",
       "70 06520095B                 0017R                     713914       SCREENING \n",
       "67 06520092C                 0017R                     713912       SCREENING \n",
       "61 06520078C                 0028R                     713907       SCREENING \n",
       "78 06520103C                 0017R                     713921       SCREENING \n",
       "79 06520104C                 0017R                     766643       SCREENING \n",
       "54 06520069C                 0017R                     713901       SCREENING \n",
       "9  06520010B                 0023R                     713865       SCREENING \n",
       "22 06520026C                 0014R                     713875       SCREENING \n",
       "28 06520035C                 0021R                     731482       SCREENING \n",
       "73 06520098C                 0017R                     713916       BIOPSY KIT\n",
       "80 06520105C                 0017R                     713922       SCREENING \n",
       "82 06520107C                 0017R                     713924       SCREENING \n",
       "83 06520110C                 0016R                     766644       SCREENING \n",
       "   Sample.Nr.Code Sample.Collection.Timestamp Tumor.Type.Primary.Met.Other\n",
       "17 SCRN           3-17-15 12:00               Primary                     \n",
       "52 SCRN           2-3-14 0:00                 Metastatic                  \n",
       "10 SCRN           8-18-15 10:00               Primary                     \n",
       "12 SCRN           10-20-14 12:00              Primary                     \n",
       "18 SCRN           5-15-14 12:00               Primary                     \n",
       "29 SCRN           12-19-14 8:00               Metastatic                  \n",
       "32 SCRN           3-20-14 12:00               Primary                     \n",
       "47 SCRN           10-2-14 0:00                Metastatic                  \n",
       "59 OTHER          5-10-12 10:22               Primary                     \n",
       "60 PROG           4-21-14 13:22               Metastatic                  \n",
       "24 SCRN           10-19-15 0:01               Metastatic                  \n",
       "3  SCRN           2-1-13 0:01                 Primary                     \n",
       "2  SCRN           1-1-14 0:01                 Primary                     \n",
       "27 SCRN           2-16-16 0:00                Primary                     \n",
       "43 SCRN           8-28-13 0:00                Primary                     \n",
       "65 SCRN           7-10-14 8:00                Primary                     \n",
       "68 SCRN           1-1-15 8:00                 Hodgkin lymphoma            \n",
       "71 SCRN           4-22-16 12:00               Metastatic                  \n",
       "74 SCRN           9-7-15 10:00                Primary                     \n",
       "75 SCRN           2-17-16 0:00                Primary                     \n",
       "76 SCRN           4-21-15 0:00                Primary                     \n",
       "34 SCRN           12-16-15 12:00              Metastatic                  \n",
       "14 SCRN           7-12-11 12:04               Primary                     \n",
       "15 SCRN           6-25-10 0:00                Primary                     \n",
       "39 SCRN           1-7-14 17:20                Metastatic                  \n",
       "19 SCRN           4-1-15 0:00                 Primary                     \n",
       "51 SCRN           4-1-15 0:00                 Primary                     \n",
       "55 SCRN           6-10-14 13:45               Primary                     \n",
       "56 SCRN           2-18-14 0:01                Primary                     \n",
       "31 SCRN           8-22-14 11:30               Metastatic                  \n",
       "⋮  ⋮              ⋮                           ⋮                           \n",
       "4  SCRN           7-23-14 9:10                Metastatic                  \n",
       "20 PROG           1-20-16 12:00               Metastatic                  \n",
       "5  SCRN           7-4-11 12:00                Primary                     \n",
       "33 PROG           3-8-16 12:00                Primary                     \n",
       "35 SCRN           7-23-15 12:00               Primary                     \n",
       "23 SCRN           12-29-14 9:16               Metastatic                  \n",
       "46 SCRN           11-23-13 0:00               Primary                     \n",
       "40 SCRN           10-29-15 0:00               Primary                     \n",
       "53 SCRN           6-25-15 0:00                Primary                     \n",
       "45 SCRN           4-13-15 15:40               Primary                     \n",
       "42 SCRN           12-2-15 14:13               Primary                     \n",
       "36 SCRN           3-3-16 12:00                Primary                     \n",
       "50 PREDOSE        6-6-08 0:00                 Primary                     \n",
       "64 SCRN           3-12-14 0:00                Metastatic                  \n",
       "66 SCRN           6-12-15 8:00                Primary                     \n",
       "77 LEFTOVER       3-10-16 0:00                Metastatic                  \n",
       "81 SCRN           3-13-17 0:00                Primary                     \n",
       "70 SCRN           10-9-16 12:00               Primary                     \n",
       "67 SCRN           1-28-16 0:00                Primary                     \n",
       "61 SCRN           10-19-15 11:59              Metastatic                  \n",
       "78 SCRN           10-5-15 15:20               Primary                     \n",
       "79 SCRN           2015-10-15                  Metastatic                  \n",
       "54 SCRN           1-7-14 0:00                 Metastatic                  \n",
       "9  SCRN           8-21-15 12:00               Primary                     \n",
       "22 SCRN           7-7-15 12:00                Metastatic                  \n",
       "28 SCRN           3-5-15 8:00                 Primary                     \n",
       "73 LEFTOVER       9-27-16 0:00                Metastatic                  \n",
       "80 SCRN           1-11-16 0:00                Primary                     \n",
       "82 SCRN           1-12-17 0:00                Primary                     \n",
       "83 SCRN           2015-10-08                  Primary                     \n",
       "   Sample.Prep.Type.Fresh.Arch.Other\n",
       "17 Archival Tumor Slides            \n",
       "52 ARCHIVAL TUMOR SLIDES            \n",
       "10 Archival Tumor FFPE Block        \n",
       "12 Archival Tumor Slides            \n",
       "18 Archival Tumor Slides            \n",
       "29 Archival Tumor Slides            \n",
       "32 SM4/ Scrn Fresh Tumor FFPE Blk   \n",
       "47 ARCHIVAL TUMOR FFPE BLOCK        \n",
       "59 ARCHIVAL TUMOR FFPE BLOCK        \n",
       "60 ARCHIVAL TUMOR FFPE BLOCK        \n",
       "24 Archival Tumor Slides            \n",
       "3  Archival Tumor Slides            \n",
       "2  Archival Tumor Slides            \n",
       "27 Archival Tumor Slides            \n",
       "43 ARCHIVAL TUMOR SLIDES            \n",
       "65 ARCHIVAL TUMOR SLIDES            \n",
       "68 ARCHIVAL TUMOR SLIDES            \n",
       "71 ARCHIVAL TUMOR SLIDES            \n",
       "74 SM01 ARCHIVAL TUMOR FFPE BLK     \n",
       "75 SM01 ARCHIVAL TUMOUR FFPE BLK    \n",
       "76 SM04 SCRN FRESH TUMOR FFPE BLK   \n",
       "34 Archival Tumor FFPE Block        \n",
       "14 Archival Tumor Slides            \n",
       "15 Archival Tumor Slides            \n",
       "39 ARCHIVAL TUMOR SLIDES            \n",
       "19 Archival Tumor Slides            \n",
       "51 ARCHIVAL TUMOR SLIDES            \n",
       "55 ARCHIVAL TUMOR SLIDES            \n",
       "56 ARCHIVAL TUMOR SLIDES            \n",
       "31 Archival Tumor FFPE Block        \n",
       "⋮  ⋮                                \n",
       "4  Archival Tumor Slides            \n",
       "20 SM5/ OPT RCR Tumor FFPE Block - 1\n",
       "5  Archival Tumor Slides            \n",
       "33 SM5/ OPT RCR Tumor FFPE Block - 1\n",
       "35 Archival Tumor FFPE Block        \n",
       "23 Archival Tumor Slides            \n",
       "46 ARCHIVAL TUMOR SLIDES            \n",
       "40 ARCHIVAL TUMOR SLIDES            \n",
       "53 ARCHIVAL TUMOR FFPE BLOCK        \n",
       "45 ARCHIVAL TUMOR SLIDES            \n",
       "42 ARCHIVAL TUMOR SLIDES            \n",
       "36 Archival Tumor FFPE Block        \n",
       "50 ARCHIVAL TUMOR SLIDES            \n",
       "64 SMO2 ARCHIVAL TUMOR SLIDES       \n",
       "66 ARCHIVAL TUMOR FFPE BLOCK        \n",
       "77 ARCHIVAL                         \n",
       "81 SM02 ARCHIVAL TUMOR SLIDES       \n",
       "70 ARCHIVAL TUMOR FFPE BLOCK        \n",
       "67 SM02 ARCHIVAL TUMOR SLIDES       \n",
       "61 ARCHIVAL TUMOR SLIDES            \n",
       "78 SM01 ARCHIVAL TUMOR FFPE BLK     \n",
       "79 SM02 ARCHIVAL TUMOR SLIDES       \n",
       "54 ARCHIVAL TUMOR SLIDES            \n",
       "9  Archival Tumor FFPE Block        \n",
       "22 Archival Tumor Slides            \n",
       "28 Archival Tumor Slides            \n",
       "73 0                                \n",
       "80 SM02 ARCHIVAL TUMOR SLIDES       \n",
       "82 SM02 ARCHIVAL TUMOR SLIDES       \n",
       "83 SM02 ARCHIVAL TUMOR SLIDES       \n",
       "   Sample.Prep.Type.Fresh.Arch.Other.Khannotation\n",
       "17 ARCHIVAL TUMOR FFPE SLIDES                    \n",
       "52 ARCHIVAL TUMOR FFPE SLIDES                    \n",
       "10 ARCHIVAL TUMOR FFPE BLOCK                     \n",
       "12 ARCHIVAL TUMOR FFPE SLIDES                    \n",
       "18 ARCHIVAL TUMOR FFPE SLIDES                    \n",
       "29 ARCHIVAL TUMOR FFPE SLIDES                    \n",
       "32 ARCHIVAL TUMOR FFPE BLOCK                     \n",
       "47 ARCHIVAL TUMOR FFPE BLOCK                     \n",
       "59 ARCHIVAL TUMOR FFPE BLOCK                     \n",
       "60 ARCHIVAL TUMOR FFPE BLOCK                     \n",
       "24 ARCHIVAL TUMOR FFPE SLIDES                    \n",
       "3  ARCHIVAL TUMOR FFPE SLIDES                    \n",
       "2  ARCHIVAL TUMOR FFPE SLIDES                    \n",
       "27 ARCHIVAL TUMOR FFPE SLIDES                    \n",
       "43 ARCHIVAL TUMOR FFPE SLIDES                    \n",
       "65 ARCHIVAL TUMOR FFPE SLIDES                    \n",
       "68 ARCHIVAL TUMOR FFPE SLIDES                    \n",
       "71 ARCHIVAL TUMOR FFPE SLIDES                    \n",
       "74 ARCHIVAL TUMOR FFPE BLOCK                     \n",
       "75 ARCHIVAL TUMOR FFPE BLOCK                     \n",
       "76 ARCHIVAL TUMOR FFPE BLOCK                     \n",
       "34 ARCHIVAL TUMOR FFPE BLOCK                     \n",
       "14 ARCHIVAL TUMOR FFPE SLIDES                    \n",
       "15 ARCHIVAL TUMOR FFPE SLIDES                    \n",
       "39 ARCHIVAL TUMOR FFPE SLIDES                    \n",
       "19 ARCHIVAL TUMOR FFPE SLIDES                    \n",
       "51 ARCHIVAL TUMOR FFPE SLIDES                    \n",
       "55 ARCHIVAL TUMOR FFPE SLIDES                    \n",
       "56 ARCHIVAL TUMOR FFPE SLIDES                    \n",
       "31 ARCHIVAL TUMOR FFPE BLOCK                     \n",
       "⋮  ⋮                                             \n",
       "4  ARCHIVAL TUMOR FFPE SLIDES                    \n",
       "20 OPT RCR TUMOR FFPE BLOCK                      \n",
       "5  ARCHIVAL TUMOR FFPE SLIDES                    \n",
       "33 OPT RCR TUMOR FFPE BLOCK                      \n",
       "35 ARCHIVAL TUMOR FFPE BLOCK                     \n",
       "23 ARCHIVAL TUMOR FFPE SLIDES                    \n",
       "46 ARCHIVAL TUMOR FFPE SLIDES                    \n",
       "40 ARCHIVAL TUMOR FFPE SLIDES                    \n",
       "53 ARCHIVAL TUMOR FFPE BLOCK                     \n",
       "45 ARCHIVAL TUMOR FFPE SLIDES                    \n",
       "42 ARCHIVAL TUMOR FFPE SLIDES                    \n",
       "36 ARCHIVAL TUMOR FFPE BLOCK                     \n",
       "50 ARCHIVAL TUMOR FFPE SLIDES                    \n",
       "64 ARCHIVAL TUMOR FFPE SLIDES                    \n",
       "66 ARCHIVAL TUMOR FFPE BLOCK                     \n",
       "77 ARCHIVAL TYPE NOT SPECIFIED                   \n",
       "81 ARCHIVAL TUMOR FFPE SLIDES                    \n",
       "70 ARCHIVAL TUMOR FFPE BLOCK                     \n",
       "67 ARCHIVAL TUMOR FFPE SLIDES                    \n",
       "61 ARCHIVAL TUMOR FFPE SLIDES                    \n",
       "78 ARCHIVAL TUMOR FFPE BLOCK                     \n",
       "79 ARCHIVAL TUMOR FFPE SLIDES                    \n",
       "54 ARCHIVAL TUMOR FFPE SLIDES                    \n",
       "9  ARCHIVAL TUMOR FFPE BLOCK                     \n",
       "22 ARCHIVAL TUMOR FFPE SLIDES                    \n",
       "28 ARCHIVAL TUMOR FFPE SLIDES                    \n",
       "73 NOT SPECIFIED                                 \n",
       "80 ARCHIVAL TUMOR FFPE SLIDES                    \n",
       "82 ARCHIVAL TUMOR FFPE SLIDES                    \n",
       "83 ARCHIVAL TUMOR FFPE SLIDES                    \n",
       "   Sample.Origin                                         EA.Sequenced   \n",
       "17 RIGHT FEMUR |                                         FAILED-QC      \n",
       "52 LUNG RT |                                             Y              \n",
       "10 FRONT DROIT |                                         Y              \n",
       "12 ILLIUM LEFT |                                         Y              \n",
       "18 RIGHT FRONTAL SINUS |                                 Y              \n",
       "29 RIGHT FUMUR |                                         FAILED-QC      \n",
       "32 LEFT ILIAC WING |                                     FAILED-LIB-PREP\n",
       "47 Lung metastase                                        Y              \n",
       "59 R FEMUR |                                             Y              \n",
       "60 L ILIAC |                                             FAILED-QC      \n",
       "24 PLEURAL TISSUE | 1                                    Y              \n",
       "3  LATERO CERVICAL NECK NODE |                           Y              \n",
       "2  LATERO CERVICAL NECK NODE |                           Y              \n",
       "27 RIGHT LATERAL CERVICAL NODE                           Y              \n",
       "43  lymph node left laterocervical                       Y              \n",
       "65 Lung                                                  Y              \n",
       "68 lymph node | location unknown                         Y              \n",
       "71 INFORMATION NOT AVAILABLE | INFORMATION NOT AVAILABLE FAILED-QC      \n",
       "74 LEFT SIDE ADENOPATHY OF THE NECK |                    Y              \n",
       "75 MEDIASTINAL LYMPH NODE |                              Y              \n",
       "76 CERVICAL LYMPH NODE |                                 Y              \n",
       "34  lymph node left laterocervical                       FAILED-QC      \n",
       "14 LEFT ADRENAL GLAND RETROPERITONEUM |                  Y              \n",
       "15 RIGHT ADRENAL MASS |                                  Y              \n",
       "39 LEFT BRAIN MASS FRONTAL LOBE |                        Y              \n",
       "19 ADRENAL GLAND |                                       Y              \n",
       "51 BETWEEN SPINE AND RIGHT KIDNEY | 5                    FAILED-QC      \n",
       "55 INTERTHORACIC PARDSPINAL COMPANENT |                  Y              \n",
       "56 RETROPERITONEAL MASS |                                Y              \n",
       "31 PARA-CARDIAC |                                        Y              \n",
       "⋮  ⋮                                                     ⋮              \n",
       "4  NECK |                                                Y              \n",
       "20 LEG SOFT TISSUE | 1                                   Y              \n",
       "5  right rib |                                           Y              \n",
       "33 LEFT FACIAL SIDE | 1                                  Y              \n",
       "35 LEFT ORBIT | Information not available                Y              \n",
       "23 right inguianal region |                              Y              \n",
       "46 R NASAL CAVITY |                                      Y              \n",
       "40 PELVIS |                                              Y              \n",
       "53 Bone tissue                                           Y              \n",
       "45 LUNG |                                                Y              \n",
       "42 WILMS TUMOR SIN |                                     Y              \n",
       "36 KIDNEY |                                              Y              \n",
       "50 Left Kidney |                                         Y              \n",
       "64 LUNG RIGHT MIDDE LOBE | NOT COLLECTED                 Y              \n",
       "66 LEFT KIDNEY | NOT KNOWN                               Y              \n",
       "77 LEFT UPPER LOBE LUNG |                                Y              \n",
       "81 URETHRA |                                             Y              \n",
       "70 LYMPH NODE |                                          Y              \n",
       "67 LEFT HEMIDIAPHRAGM | 1                                Y              \n",
       "61 Lymph node                                            Y              \n",
       "78 MEDIASTINAL MASS |                                    Y              \n",
       "79 PLEURAL NODULES LEFT LUNG |                           Y              \n",
       "54 LIVER | INFORMATION NOT AVAILABLE                     Y              \n",
       "9  LEFT KIDNEY |                                         Y              \n",
       "22 RIGHT LUNG |                                          Y              \n",
       "28 BEHIND THE BLADDER | 6                                Y              \n",
       "73 LUNG | 8                                              Y              \n",
       "80 LEFT TEMPORAL INTRA-AXIAL | UNKNOWN                   Y              \n",
       "82 BRAIN | UNKNOWN                                       Y              \n",
       "83 LEFT FRONTAL |                                        Y              \n",
       "   EA.Sequencing.Batch\n",
       "17 1                  \n",
       "52 1                  \n",
       "10 1                  \n",
       "12 1                  \n",
       "18 1                  \n",
       "29 1                  \n",
       "32 1                  \n",
       "47 1                  \n",
       "59 1                  \n",
       "60 1                  \n",
       "24 1                  \n",
       "3  1                  \n",
       "2  1                  \n",
       "27 1                  \n",
       "43 1                  \n",
       "65 1                  \n",
       "68 1                  \n",
       "71 1                  \n",
       "74 1                  \n",
       "75 1                  \n",
       "76 1                  \n",
       "34 1                  \n",
       "14 1                  \n",
       "15 1                  \n",
       "39 1                  \n",
       "19 1                  \n",
       "51 1                  \n",
       "55 1                  \n",
       "56 1                  \n",
       "31 1                  \n",
       "⋮  ⋮                  \n",
       "4  1                  \n",
       "20 1                  \n",
       "5  1                  \n",
       "33 1                  \n",
       "35 1                  \n",
       "23 1                  \n",
       "46 1                  \n",
       "40 1                  \n",
       "53 1                  \n",
       "45 1                  \n",
       "42 1                  \n",
       "36 1                  \n",
       "50 1                  \n",
       "64 1                  \n",
       "66 1                  \n",
       "77 1                  \n",
       "81 1                  \n",
       "70 1                  \n",
       "67 1                  \n",
       "61 1                  \n",
       "78 1                  \n",
       "79 2                  \n",
       "54 1                  \n",
       "9  1                  \n",
       "22 1                  \n",
       "28 1                  \n",
       "73 1                  \n",
       "80 1                  \n",
       "82 1                  \n",
       "83 2                  "
      ]
     },
     "metadata": {},
     "output_type": "display_data"
    }
   ],
   "source": [
    "samplemanifest[order(samplemanifest$Patient.ID),]"
   ]
  },
  {
   "cell_type": "markdown",
   "metadata": {},
   "source": [
    "HGX Specimen name = sample_id"
   ]
  },
  {
   "cell_type": "code",
   "execution_count": 6,
   "metadata": {},
   "outputs": [],
   "source": [
    "samplemanifest$sample_id <- samplemanifest$HGX.Specimen.Name"
   ]
  },
  {
   "cell_type": "code",
   "execution_count": 7,
   "metadata": {},
   "outputs": [],
   "source": [
    "ptmanifest$Patient.ID <- ptmanifest$SUBID"
   ]
  },
  {
   "cell_type": "code",
   "execution_count": 8,
   "metadata": {},
   "outputs": [],
   "source": [
    "IND_metadata <- merge(ptmanifest, samplemanifest, by = \"Patient.ID\")"
   ]
  },
  {
   "cell_type": "code",
   "execution_count": 9,
   "metadata": {},
   "outputs": [
    {
     "data": {
      "text/html": [
       "<style>\n",
       ".list-inline {list-style: none; margin:0; padding: 0}\n",
       ".list-inline>li {display: inline-block}\n",
       ".list-inline>li:not(:last-child)::after {content: \"\\00b7\"; padding: 0 .5ex}\n",
       "</style>\n",
       "<ol class=list-inline><li>83</li><li>31</li></ol>\n"
      ],
      "text/latex": [
       "\\begin{enumerate*}\n",
       "\\item 83\n",
       "\\item 31\n",
       "\\end{enumerate*}\n"
      ],
      "text/markdown": [
       "1. 83\n",
       "2. 31\n",
       "\n",
       "\n"
      ],
      "text/plain": [
       "[1] 83 31"
      ]
     },
     "metadata": {},
     "output_type": "display_data"
    }
   ],
   "source": [
    "dim(IND_metadata)"
   ]
  },
  {
   "cell_type": "markdown",
   "metadata": {},
   "source": [
    "Only samples with sequencing data available"
   ]
  },
  {
   "cell_type": "code",
   "execution_count": 10,
   "metadata": {},
   "outputs": [],
   "source": [
    "IND_metadata_Y <- IND_metadata[IND_metadata$EA.Sequenced == \"Y\",]"
   ]
  },
  {
   "cell_type": "code",
   "execution_count": 11,
   "metadata": {},
   "outputs": [
    {
     "data": {
      "text/html": [
       "<style>\n",
       ".list-inline {list-style: none; margin:0; padding: 0}\n",
       ".list-inline>li {display: inline-block}\n",
       ".list-inline>li:not(:last-child)::after {content: \"\\00b7\"; padding: 0 .5ex}\n",
       "</style>\n",
       "<ol class=list-inline><li>73</li><li>31</li></ol>\n"
      ],
      "text/latex": [
       "\\begin{enumerate*}\n",
       "\\item 73\n",
       "\\item 31\n",
       "\\end{enumerate*}\n"
      ],
      "text/markdown": [
       "1. 73\n",
       "2. 31\n",
       "\n",
       "\n"
      ],
      "text/plain": [
       "[1] 73 31"
      ]
     },
     "metadata": {},
     "output_type": "display_data"
    }
   ],
   "source": [
    "dim(IND_metadata_Y)"
   ]
  },
  {
   "cell_type": "code",
   "execution_count": 12,
   "metadata": {},
   "outputs": [
    {
     "data": {
      "text/plain": [
       "\n",
       "LEFTOVER    OTHER  PREDOSE     PROG     SCRN \n",
       "       2        1        1        2       67 "
      ]
     },
     "metadata": {},
     "output_type": "display_data"
    }
   ],
   "source": [
    "table(IND_metadata_Y$Sample.Nr.Code)"
   ]
  },
  {
   "cell_type": "markdown",
   "metadata": {},
   "source": [
    "Only baseline samples"
   ]
  },
  {
   "cell_type": "code",
   "execution_count": 13,
   "metadata": {},
   "outputs": [],
   "source": [
    "IND_metadata_Y_SCN <- IND_metadata_Y[IND_metadata_Y$Sample.Nr.Code ==\"SCRN\",]"
   ]
  },
  {
   "cell_type": "code",
   "execution_count": 14,
   "metadata": {},
   "outputs": [
    {
     "data": {
      "text/html": [
       "<style>\n",
       ".list-inline {list-style: none; margin:0; padding: 0}\n",
       ".list-inline>li {display: inline-block}\n",
       ".list-inline>li:not(:last-child)::after {content: \"\\00b7\"; padding: 0 .5ex}\n",
       "</style>\n",
       "<ol class=list-inline><li>67</li><li>31</li></ol>\n"
      ],
      "text/latex": [
       "\\begin{enumerate*}\n",
       "\\item 67\n",
       "\\item 31\n",
       "\\end{enumerate*}\n"
      ],
      "text/markdown": [
       "1. 67\n",
       "2. 31\n",
       "\n",
       "\n"
      ],
      "text/plain": [
       "[1] 67 31"
      ]
     },
     "metadata": {},
     "output_type": "display_data"
    }
   ],
   "source": [
    "dim(IND_metadata_Y_SCN)"
   ]
  },
  {
   "cell_type": "markdown",
   "metadata": {},
   "source": [
    "One patient has two samples taken from two different lymph nodes"
   ]
  },
  {
   "cell_type": "code",
   "execution_count": 15,
   "metadata": {},
   "outputs": [],
   "source": [
    "IND_metadata_Y_SCN_dedup <- IND_metadata_Y_SCN[!duplicated(IND_metadata_Y_SCN$Patient.ID),]"
   ]
  },
  {
   "cell_type": "code",
   "execution_count": 16,
   "metadata": {},
   "outputs": [
    {
     "data": {
      "text/html": [
       "<style>\n",
       ".list-inline {list-style: none; margin:0; padding: 0}\n",
       ".list-inline>li {display: inline-block}\n",
       ".list-inline>li:not(:last-child)::after {content: \"\\00b7\"; padding: 0 .5ex}\n",
       "</style>\n",
       "<ol class=list-inline><li>66</li><li>31</li></ol>\n"
      ],
      "text/latex": [
       "\\begin{enumerate*}\n",
       "\\item 66\n",
       "\\item 31\n",
       "\\end{enumerate*}\n"
      ],
      "text/markdown": [
       "1. 66\n",
       "2. 31\n",
       "\n",
       "\n"
      ],
      "text/plain": [
       "[1] 66 31"
      ]
     },
     "metadata": {},
     "output_type": "display_data"
    }
   ],
   "source": [
    "dim(IND_metadata_Y_SCN_dedup)"
   ]
  },
  {
   "cell_type": "markdown",
   "metadata": {},
   "source": [
    "## tumour type"
   ]
  },
  {
   "cell_type": "code",
   "execution_count": 17,
   "metadata": {},
   "outputs": [
    {
     "data": {
      "text/plain": [
       "\n",
       "Hodgkin lymphoma       Metastatic          Primary \n",
       "               1               21               44 "
      ]
     },
     "metadata": {},
     "output_type": "display_data"
    }
   ],
   "source": [
    "table(IND_metadata_Y_SCN_dedup$Tumor.Type.Primary.Met.Other)"
   ]
  },
  {
   "cell_type": "markdown",
   "metadata": {},
   "source": [
    "One mistake in data entry, checked with KH, it is a primary lymphoma"
   ]
  },
  {
   "cell_type": "code",
   "execution_count": 18,
   "metadata": {},
   "outputs": [
    {
     "data": {
      "text/html": [
       "<table class=\"dataframe\">\n",
       "<caption>A data.frame: 1 × 31</caption>\n",
       "<thead>\n",
       "\t<tr><th></th><th scope=col>Patient.ID</th><th scope=col>STUDYID</th><th scope=col>USUBJID</th><th scope=col>AGE</th><th scope=col>AGEU</th><th scope=col>TRTDUR</th><th scope=col>COHORT</th><th scope=col>TTYPE</th><th scope=col>SUBID</th><th scope=col>PARAMCAT</th><th scope=col>⋯</th><th scope=col>Visit.Code</th><th scope=col>Sample.Nr.Code</th><th scope=col>Sample.Collection.Timestamp</th><th scope=col>Tumor.Type.Primary.Met.Other</th><th scope=col>Sample.Prep.Type.Fresh.Arch.Other</th><th scope=col>Sample.Prep.Type.Fresh.Arch.Other.Khannotation</th><th scope=col>Sample.Origin</th><th scope=col>EA.Sequenced</th><th scope=col>EA.Sequencing.Batch</th><th scope=col>sample_id</th></tr>\n",
       "\t<tr><th></th><th scope=col>&lt;int&gt;</th><th scope=col>&lt;chr&gt;</th><th scope=col>&lt;chr&gt;</th><th scope=col>&lt;int&gt;</th><th scope=col>&lt;chr&gt;</th><th scope=col>&lt;int&gt;</th><th scope=col>&lt;chr&gt;</th><th scope=col>&lt;chr&gt;</th><th scope=col>&lt;int&gt;</th><th scope=col>&lt;chr&gt;</th><th scope=col>⋯</th><th scope=col>&lt;chr&gt;</th><th scope=col>&lt;chr&gt;</th><th scope=col>&lt;chr&gt;</th><th scope=col>&lt;chr&gt;</th><th scope=col>&lt;chr&gt;</th><th scope=col>&lt;chr&gt;</th><th scope=col>&lt;chr&gt;</th><th scope=col>&lt;chr&gt;</th><th scope=col>&lt;int&gt;</th><th scope=col>&lt;chr&gt;</th></tr>\n",
       "</thead>\n",
       "<tbody>\n",
       "\t<tr><th scope=row>17</th><td>11010206</td><td>GO29664</td><td>GO29664-283495-11010206</td><td>12</td><td>YEARS</td><td>142</td><td>Cohort 2 (HODGKIN LYMPHOMA)</td><td>HODGKIN LYMPHOMA</td><td>11010206</td><td>Tumor Response</td><td>⋯</td><td>SCREENING</td><td>SCRN</td><td>1-1-15 8:00</td><td>Hodgkin lymphoma</td><td>ARCHIVAL TUMOR SLIDES</td><td>ARCHIVAL TUMOR FFPE SLIDES</td><td>lymph node | location unknown</td><td>Y</td><td>1</td><td>06520093C0017R</td></tr>\n",
       "</tbody>\n",
       "</table>\n"
      ],
      "text/latex": [
       "A data.frame: 1 × 31\n",
       "\\begin{tabular}{r|lllllllllllllllllllll}\n",
       "  & Patient.ID & STUDYID & USUBJID & AGE & AGEU & TRTDUR & COHORT & TTYPE & SUBID & PARAMCAT & ⋯ & Visit.Code & Sample.Nr.Code & Sample.Collection.Timestamp & Tumor.Type.Primary.Met.Other & Sample.Prep.Type.Fresh.Arch.Other & Sample.Prep.Type.Fresh.Arch.Other.Khannotation & Sample.Origin & EA.Sequenced & EA.Sequencing.Batch & sample\\_id\\\\\n",
       "  & <int> & <chr> & <chr> & <int> & <chr> & <int> & <chr> & <chr> & <int> & <chr> & ⋯ & <chr> & <chr> & <chr> & <chr> & <chr> & <chr> & <chr> & <chr> & <int> & <chr>\\\\\n",
       "\\hline\n",
       "\t17 & 11010206 & GO29664 & GO29664-283495-11010206 & 12 & YEARS & 142 & Cohort 2 (HODGKIN LYMPHOMA) & HODGKIN LYMPHOMA & 11010206 & Tumor Response & ⋯ & SCREENING & SCRN & 1-1-15 8:00 & Hodgkin lymphoma & ARCHIVAL TUMOR SLIDES & ARCHIVAL TUMOR FFPE SLIDES & lymph node \\textbar{} location unknown & Y & 1 & 06520093C0017R\\\\\n",
       "\\end{tabular}\n"
      ],
      "text/markdown": [
       "\n",
       "A data.frame: 1 × 31\n",
       "\n",
       "| <!--/--> | Patient.ID &lt;int&gt; | STUDYID &lt;chr&gt; | USUBJID &lt;chr&gt; | AGE &lt;int&gt; | AGEU &lt;chr&gt; | TRTDUR &lt;int&gt; | COHORT &lt;chr&gt; | TTYPE &lt;chr&gt; | SUBID &lt;int&gt; | PARAMCAT &lt;chr&gt; | ⋯ ⋯ | Visit.Code &lt;chr&gt; | Sample.Nr.Code &lt;chr&gt; | Sample.Collection.Timestamp &lt;chr&gt; | Tumor.Type.Primary.Met.Other &lt;chr&gt; | Sample.Prep.Type.Fresh.Arch.Other &lt;chr&gt; | Sample.Prep.Type.Fresh.Arch.Other.Khannotation &lt;chr&gt; | Sample.Origin &lt;chr&gt; | EA.Sequenced &lt;chr&gt; | EA.Sequencing.Batch &lt;int&gt; | sample_id &lt;chr&gt; |\n",
       "|---|---|---|---|---|---|---|---|---|---|---|---|---|---|---|---|---|---|---|---|---|---|\n",
       "| 17 | 11010206 | GO29664 | GO29664-283495-11010206 | 12 | YEARS | 142 | Cohort 2 (HODGKIN LYMPHOMA) | HODGKIN LYMPHOMA | 11010206 | Tumor Response | ⋯ | SCREENING | SCRN | 1-1-15 8:00 | Hodgkin lymphoma | ARCHIVAL TUMOR SLIDES | ARCHIVAL TUMOR FFPE SLIDES | lymph node | location unknown | Y | 1 | 06520093C0017R |\n",
       "\n"
      ],
      "text/plain": [
       "   Patient.ID STUDYID USUBJID                 AGE AGEU  TRTDUR\n",
       "17 11010206   GO29664 GO29664-283495-11010206 12  YEARS 142   \n",
       "   COHORT                      TTYPE            SUBID    PARAMCAT       ⋯\n",
       "17 Cohort 2 (HODGKIN LYMPHOMA) HODGKIN LYMPHOMA 11010206 Tumor Response ⋯\n",
       "   Visit.Code Sample.Nr.Code Sample.Collection.Timestamp\n",
       "17 SCREENING  SCRN           1-1-15 8:00                \n",
       "   Tumor.Type.Primary.Met.Other Sample.Prep.Type.Fresh.Arch.Other\n",
       "17 Hodgkin lymphoma             ARCHIVAL TUMOR SLIDES            \n",
       "   Sample.Prep.Type.Fresh.Arch.Other.Khannotation Sample.Origin                \n",
       "17 ARCHIVAL TUMOR FFPE SLIDES                     lymph node | location unknown\n",
       "   EA.Sequenced EA.Sequencing.Batch sample_id     \n",
       "17 Y            1                   06520093C0017R"
      ]
     },
     "metadata": {},
     "output_type": "display_data"
    }
   ],
   "source": [
    "IND_metadata_Y_SCN_dedup[IND_metadata_Y_SCN_dedup$Tumor.Type.Primary.Met.Other == \"Hodgkin lymphoma\",]"
   ]
  },
  {
   "cell_type": "code",
   "execution_count": 19,
   "metadata": {},
   "outputs": [],
   "source": [
    "IND_metadata_Y_SCN_dedup$tumor_type <- NA\n",
    "IND_metadata_Y_SCN_dedup$tumor_type[grepl(\"Primary\",IND_metadata_Y_SCN_dedup$Tumor.Type.Primary.Met.Other)] <- \"Primary\"\n",
    "IND_metadata_Y_SCN_dedup$tumor_type[grepl(\"Metastatic\",IND_metadata_Y_SCN_dedup$Tumor.Type.Primary.Met.Other)] <- \"Metastatic\"\n",
    "# Checked with Katie\n",
    "IND_metadata_Y_SCN_dedup$tumor_type[grepl(\"Hodgkin lymphoma\",IND_metadata_Y_SCN_dedup$Tumor.Type.Primary.Met.Other)] <- \"Primary\""
   ]
  },
  {
   "cell_type": "markdown",
   "metadata": {},
   "source": [
    "## sample origin"
   ]
  },
  {
   "cell_type": "markdown",
   "metadata": {},
   "source": [
    "Check IND_metadata_4review_GR.xlsx"
   ]
  },
  {
   "cell_type": "code",
   "execution_count": 20,
   "metadata": {},
   "outputs": [],
   "source": [
    "IND_metadata_Y_SCN_dedup$sample_origin <- NA\n",
    "\n",
    "#lymph node\n",
    "IND_metadata_Y_SCN_dedup$sample_origin[grepl(\"Lymph\",IND_metadata_Y_SCN_dedup$Sample.Origin, \n",
    "                                             ignore.case = T)] <- \"Lymph node\"\n",
    "IND_metadata_Y_SCN_dedup$sample_origin[grepl(\"node\",IND_metadata_Y_SCN_dedup$Sample.Origin, \n",
    "                                             ignore.case = T)] <- \"Lymph node\"\n",
    "IND_metadata_Y_SCN_dedup$sample_origin[grepl(\"adenopathy\",IND_metadata_Y_SCN_dedup$Sample.Origin, \n",
    "                                             ignore.case = T)] <- \"Lymph node\"\n",
    "IND_metadata_Y_SCN_dedup$sample_origin[grepl(\"Mediastinal mass\",IND_metadata_Y_SCN_dedup$Sample.Origin, \n",
    "                                             ignore.case = T)] <- \"Lymph node\"\n",
    "\n",
    "#bone\n",
    "IND_metadata_Y_SCN_dedup$sample_origin[grepl(\"Bone\",IND_metadata_Y_SCN_dedup$Sample.Origin,\n",
    "                                            ignore.case = T)] <- \"Bone\"\n",
    "IND_metadata_Y_SCN_dedup$sample_origin[grepl(\"rib\",IND_metadata_Y_SCN_dedup$Sample.Origin)] <- \"Bone\"\n",
    "IND_metadata_Y_SCN_dedup$sample_origin[grepl(\"LEFT FOREARM\",IND_metadata_Y_SCN_dedup$Sample.Origin)] <- \"Bone\"\n",
    "IND_metadata_Y_SCN_dedup$sample_origin[grepl(\"droit\",IND_metadata_Y_SCN_dedup$Sample.Origin, \n",
    "                                             ignore.case = T)] <- \"Bone\"\n",
    "IND_metadata_Y_SCN_dedup$sample_origin[grepl(\"tibia\",IND_metadata_Y_SCN_dedup$Sample.Origin,\n",
    "                                            ignore.case = T)] <- \"Bone\"\n",
    "IND_metadata_Y_SCN_dedup$sample_origin[grepl(\"HUMERUS\",IND_metadata_Y_SCN_dedup$Sample.Origin,\n",
    "                                            ignore.case = T)] <- \"Bone\"\n",
    "\n",
    "#Adrenal gland\n",
    "IND_metadata_Y_SCN_dedup$sample_origin[grepl(\"ADRENAL\",IND_metadata_Y_SCN_dedup$Sample.Origin)] <- \"Adrenal gland\"\n",
    "IND_metadata_Y_SCN_dedup$sample_origin[grepl(\"RETROPERITONEAL MASS\",IND_metadata_Y_SCN_dedup$Sample.Origin)] <- \"Adrenal gland\"\n",
    "IND_metadata_Y_SCN_dedup$sample_origin[grepl(\"SURRENALECTOM\",IND_metadata_Y_SCN_dedup$Sample.Origin)] <- \"Adrenal gland\"\n",
    "\n",
    "#kidney\n",
    "IND_metadata_Y_SCN_dedup$sample_origin[grepl(\"KIDNEY\",IND_metadata_Y_SCN_dedup$Sample.Origin)] <- \"Kidney\"\n",
    "IND_metadata_Y_SCN_dedup$sample_origin[grepl(\"WILMS\",IND_metadata_Y_SCN_dedup$Sample.Origin)] <- \"Kidney\"\n",
    "\n",
    "#Brain\n",
    "IND_metadata_Y_SCN_dedup$sample_origin[grepl(\"FRONTAL\",IND_metadata_Y_SCN_dedup$Sample.Origin)] <- \"Brain\"\n",
    "IND_metadata_Y_SCN_dedup$sample_origin[grepl(\"TEMPORAL\",IND_metadata_Y_SCN_dedup$Sample.Origin)] <- \"Brain\"\n",
    "IND_metadata_Y_SCN_dedup$sample_origin[grepl(\"BRAIN\",IND_metadata_Y_SCN_dedup$Sample.Origin)] <- \"Brain\"\n",
    "\n",
    "#Lung\n",
    "IND_metadata_Y_SCN_dedup$sample_origin[grepl(\"Lung\",IND_metadata_Y_SCN_dedup$Sample.Origin,\n",
    "                                            ignore.case = T)] <- \"Lung\"\n",
    "\n",
    "#Colon\n",
    "IND_metadata_Y_SCN_dedup$sample_origin[grepl(\"COLON\",IND_metadata_Y_SCN_dedup$Sample.Origin)] <- \"Colon\"\n",
    "IND_metadata_Y_SCN_dedup$sample_origin[grepl(\"ILLIUM\",IND_metadata_Y_SCN_dedup$Sample.Origin)] <- \"Colon\"\n",
    "\n",
    "#Liver\n",
    "IND_metadata_Y_SCN_dedup$sample_origin[grepl(\"Liver\",IND_metadata_Y_SCN_dedup$Sample.Origin, \n",
    "                                             ignore.case = T)] <- \"Liver\"\n",
    "\n",
    "#Soft tissue\n",
    "IND_metadata_Y_SCN_dedup$sample_origin[grepl(\"pleura\",IND_metadata_Y_SCN_dedup$Sample.Origin, \n",
    "                                             ignore.case = T)] <- \"Connective/Soft tissue\"\n",
    "IND_metadata_Y_SCN_dedup$sample_origin[grepl(\"orbit\",IND_metadata_Y_SCN_dedup$Sample.Origin, \n",
    "                                             ignore.case = T)] <- \"Connective/Soft tissue\"\n",
    "IND_metadata_Y_SCN_dedup$sample_origin[grepl(\"pelvis\",IND_metadata_Y_SCN_dedup$Sample.Origin, \n",
    "                                             ignore.case = T)] <- \"Connective/Soft tissue\"\n",
    "IND_metadata_Y_SCN_dedup$sample_origin[grepl(\"nasal cavity\",IND_metadata_Y_SCN_dedup$Sample.Origin, \n",
    "                                             ignore.case = T)] <- \"Connective/Soft tissue\"\n",
    "IND_metadata_Y_SCN_dedup$sample_origin[grepl(\"urethra\",IND_metadata_Y_SCN_dedup$Sample.Origin, \n",
    "                                             ignore.case = T)] <- \"Connective/Soft tissue\"\n",
    "IND_metadata_Y_SCN_dedup$sample_origin[grepl(\"hemidiaphragm\",IND_metadata_Y_SCN_dedup$Sample.Origin, \n",
    "                                             ignore.case = T)] <- \"Connective/Soft tissue\"\n",
    "\n",
    "IND_metadata_Y_SCN_dedup$sample_origin[IND_metadata_Y_SCN_dedup$Sample.Origin == \"NECK |\"] <- \"Connective/Soft tissue\"\n",
    "\n",
    "\n",
    "# few cases annnotated as NECK NODE, recode to LN\n",
    "IND_metadata_Y_SCN_dedup$sample_origin[grepl(\"LATERO CERVICAL NECK NODE\",IND_metadata_Y_SCN_dedup$Sample.Origin, \n",
    "                                             ignore.case = T)] <- \"Lymph node\"\n",
    "\n",
    "\n",
    "#Others\n",
    "IND_metadata_Y_SCN_dedup$sample_origin[is.na(IND_metadata_Y_SCN_dedup$sample_origin)] <- \"Others\""
   ]
  },
  {
   "cell_type": "code",
   "execution_count": 21,
   "metadata": {},
   "outputs": [
    {
     "data": {
      "text/plain": [
       "\n",
       "         Adrenal gland                   Bone                  Brain \n",
       "                     5                      7                      5 \n",
       "                 Colon Connective/Soft tissue                 Kidney \n",
       "                     2                     10                      5 \n",
       "                 Liver                   Lung             Lymph node \n",
       "                     1                     11                     11 \n",
       "                Others \n",
       "                     9 "
      ]
     },
     "metadata": {},
     "output_type": "display_data"
    }
   ],
   "source": [
    "table(IND_metadata_Y_SCN_dedup$sample_origin)"
   ]
  },
  {
   "cell_type": "markdown",
   "metadata": {},
   "source": [
    "Bucket Liver and Colon into Others because small sample size"
   ]
  },
  {
   "cell_type": "code",
   "execution_count": 22,
   "metadata": {},
   "outputs": [],
   "source": [
    "IND_metadata_Y_SCN_dedup$sample_origin[IND_metadata_Y_SCN_dedup$sample_origin == \"Liver\"] <- \"Others\"\n",
    "IND_metadata_Y_SCN_dedup$sample_origin[IND_metadata_Y_SCN_dedup$sample_origin == \"Colon\"] <- \"Others\""
   ]
  },
  {
   "cell_type": "code",
   "execution_count": 23,
   "metadata": {},
   "outputs": [
    {
     "data": {
      "text/plain": [
       "\n",
       "         Adrenal gland                   Bone                  Brain \n",
       "                     5                      7                      5 \n",
       "Connective/Soft tissue                 Kidney                   Lung \n",
       "                    10                      5                     11 \n",
       "            Lymph node                 Others \n",
       "                    11                     12 "
      ]
     },
     "metadata": {},
     "output_type": "display_data"
    }
   ],
   "source": [
    "table(IND_metadata_Y_SCN_dedup$sample_origin)"
   ]
  },
  {
   "cell_type": "markdown",
   "metadata": {},
   "source": [
    "## Cohort"
   ]
  },
  {
   "cell_type": "code",
   "execution_count": 24,
   "metadata": {
    "scrolled": true
   },
   "outputs": [
    {
     "data": {
      "text/plain": [
       "\n",
       "                                         Cohort 1 (EWING SARCOMA) \n",
       "                                                                6 \n",
       "Cohort 10 (OTHER TUMOR TYPES WITHOUT DOCUMENTED PD-L1 EXPRESSION) \n",
       "                                                                4 \n",
       "                     Cohort 12 (ATYPICAL TERATOID RHABDOID TUMOR) \n",
       "                                                                3 \n",
       "                                      Cohort 2 (HODGKIN LYMPHOMA) \n",
       "                                                                8 \n",
       "                                         Cohort 3 (NEUROBLASTOMA) \n",
       "                                                                9 \n",
       "                                  Cohort 4 (NON HODGKIN LYMPHOMA) \n",
       "                                                                3 \n",
       "              Cohort 5 (NON-RHABDOMYOSARCOMA SOFT TISSUE SARCOMA) \n",
       "                                                                7 \n",
       "                                          Cohort 6 (OSTEOSARCOMA) \n",
       "                                                                8 \n",
       "                                     Cohort 7 (RHABDOMYOSARCOMA ) \n",
       "                                                                8 \n",
       "                                           Cohort 8 (WILMS TUMOR) \n",
       "                                                                6 \n",
       "    Cohort 9 (OTHER TUMOR TYPES WITH DOCUMENTED PD-L1 EXPRESSION) \n",
       "                                                                4 "
      ]
     },
     "metadata": {},
     "output_type": "display_data"
    }
   ],
   "source": [
    "table(IND_metadata_Y_SCN_dedup$COHORT)"
   ]
  },
  {
   "cell_type": "markdown",
   "metadata": {},
   "source": [
    "Clean up cohort as disease types"
   ]
  },
  {
   "cell_type": "code",
   "execution_count": 25,
   "metadata": {},
   "outputs": [],
   "source": [
    "IND_metadata_Y_SCN_dedup$disease_group <- NA\n",
    "\n",
    "IND_metadata_Y_SCN_dedup$disease_group[grepl(\"EWING\",IND_metadata_Y_SCN_dedup$COHORT)] <- \"EWS\"\n",
    "IND_metadata_Y_SCN_dedup$disease_group[grepl(\"WILMS\",IND_metadata_Y_SCN_dedup$COHORT)] <- \"WILMS\"\n",
    "IND_metadata_Y_SCN_dedup$disease_group[grepl(\"ATYPICAL TERATOID RHABDOID TUMOR\",IND_metadata_Y_SCN_dedup$COHORT)] <- \"ATRT\"\n",
    "IND_metadata_Y_SCN_dedup$disease_group[grepl(\"NEUROBLASTOMA\",IND_metadata_Y_SCN_dedup$COHORT)] <- \"NBL\"\n",
    "IND_metadata_Y_SCN_dedup$disease_group[grepl(\"HODGKIN LYMPHOMA\",IND_metadata_Y_SCN_dedup$COHORT)] <- \"Lymphoma\"\n",
    "IND_metadata_Y_SCN_dedup$disease_group[grepl(\"NON HODGKIN LYMPHOMA\",IND_metadata_Y_SCN_dedup$COHORT)] <- \"Lymphoma\"\n",
    "IND_metadata_Y_SCN_dedup$disease_group[grepl(\"RHABDOMYOSARCOMA\",IND_metadata_Y_SCN_dedup$COHORT)] <- \"RMS\"\n",
    "IND_metadata_Y_SCN_dedup$disease_group[grepl(\"Cohort 5\",IND_metadata_Y_SCN_dedup$COHORT)] <- \"SARC\"\n",
    "IND_metadata_Y_SCN_dedup$disease_group[grepl(\"Cohort 10\",IND_metadata_Y_SCN_dedup$COHORT)] <- \"Other_PDL1neg\"\n",
    "IND_metadata_Y_SCN_dedup$disease_group[grepl(\"Cohort 9\",IND_metadata_Y_SCN_dedup$COHORT)] <- \"Other_PDL1pos\"\n",
    "IND_metadata_Y_SCN_dedup$disease_group[grepl(\"OSTEOSARCOMA\",IND_metadata_Y_SCN_dedup$COHORT)] <- \"OS\"\n",
    "\n",
    "#As per lancet paper\n",
    "IND_metadata_Y_SCN_dedup$disease_group[grepl(\"11010508\",IND_metadata_Y_SCN_dedup$Patient.ID)] <- \"RT\""
   ]
  },
  {
   "cell_type": "code",
   "execution_count": 26,
   "metadata": {},
   "outputs": [
    {
     "data": {
      "text/plain": [
       "\n",
       "         ATRT           EWS      Lymphoma           NBL            OS \n",
       "            3             6            11             9             8 \n",
       "Other_PDL1neg Other_PDL1pos           RMS            RT          SARC \n",
       "            4             4             8             1             6 \n",
       "        WILMS \n",
       "            6 "
      ]
     },
     "metadata": {},
     "output_type": "display_data"
    }
   ],
   "source": [
    "table(IND_metadata_Y_SCN_dedup$disease_group)"
   ]
  },
  {
   "cell_type": "markdown",
   "metadata": {},
   "source": [
    "Aggregate PDL1 pos and neg into one Others group"
   ]
  },
  {
   "cell_type": "code",
   "execution_count": 27,
   "metadata": {},
   "outputs": [],
   "source": [
    "IND_metadata_Y_SCN_dedup$disease_group[IND_metadata_Y_SCN_dedup$disease_group == \"Other_PDL1pos\"] <- \"Others\"\n",
    "IND_metadata_Y_SCN_dedup$disease_group[IND_metadata_Y_SCN_dedup$disease_group == \"Other_PDL1neg\"] <- \"Others\""
   ]
  },
  {
   "cell_type": "markdown",
   "metadata": {},
   "source": [
    "Aggregate RT and ATRT as RT"
   ]
  },
  {
   "cell_type": "code",
   "execution_count": 28,
   "metadata": {},
   "outputs": [],
   "source": [
    "IND_metadata_Y_SCN_dedup$disease_group[IND_metadata_Y_SCN_dedup$disease_group == \"ATRT\"] <- \"RT\""
   ]
  },
  {
   "cell_type": "code",
   "execution_count": 29,
   "metadata": {},
   "outputs": [
    {
     "data": {
      "text/plain": [
       "\n",
       "     EWS Lymphoma      NBL       OS   Others      RMS       RT     SARC \n",
       "       6       11        9        8        8        8        4        6 \n",
       "   WILMS \n",
       "       6 "
      ]
     },
     "metadata": {},
     "output_type": "display_data"
    }
   ],
   "source": [
    "table(IND_metadata_Y_SCN_dedup$disease_group)"
   ]
  },
  {
   "cell_type": "code",
   "execution_count": 30,
   "metadata": {},
   "outputs": [
    {
     "data": {
      "text/plain": [
       "\n",
       "   NE PD PR SD \n",
       " 5  1 49  4  7 "
      ]
     },
     "metadata": {},
     "output_type": "display_data"
    }
   ],
   "source": [
    "table(IND_metadata_Y_SCN_dedup$AVALC)"
   ]
  },
  {
   "cell_type": "code",
   "execution_count": 31,
   "metadata": {},
   "outputs": [
    {
     "data": {
      "text/html": [
       "<table class=\"dataframe\">\n",
       "<caption>A data.frame: 4 × 34</caption>\n",
       "<thead>\n",
       "\t<tr><th></th><th scope=col>Patient.ID</th><th scope=col>STUDYID</th><th scope=col>USUBJID</th><th scope=col>AGE</th><th scope=col>AGEU</th><th scope=col>TRTDUR</th><th scope=col>COHORT</th><th scope=col>TTYPE</th><th scope=col>SUBID</th><th scope=col>PARAMCAT</th><th scope=col>⋯</th><th scope=col>Tumor.Type.Primary.Met.Other</th><th scope=col>Sample.Prep.Type.Fresh.Arch.Other</th><th scope=col>Sample.Prep.Type.Fresh.Arch.Other.Khannotation</th><th scope=col>Sample.Origin</th><th scope=col>EA.Sequenced</th><th scope=col>EA.Sequencing.Batch</th><th scope=col>sample_id</th><th scope=col>tumor_type</th><th scope=col>sample_origin</th><th scope=col>disease_group</th></tr>\n",
       "\t<tr><th></th><th scope=col>&lt;int&gt;</th><th scope=col>&lt;chr&gt;</th><th scope=col>&lt;chr&gt;</th><th scope=col>&lt;int&gt;</th><th scope=col>&lt;chr&gt;</th><th scope=col>&lt;int&gt;</th><th scope=col>&lt;chr&gt;</th><th scope=col>&lt;chr&gt;</th><th scope=col>&lt;int&gt;</th><th scope=col>&lt;chr&gt;</th><th scope=col>⋯</th><th scope=col>&lt;chr&gt;</th><th scope=col>&lt;chr&gt;</th><th scope=col>&lt;chr&gt;</th><th scope=col>&lt;chr&gt;</th><th scope=col>&lt;chr&gt;</th><th scope=col>&lt;int&gt;</th><th scope=col>&lt;chr&gt;</th><th scope=col>&lt;chr&gt;</th><th scope=col>&lt;chr&gt;</th><th scope=col>&lt;chr&gt;</th></tr>\n",
       "</thead>\n",
       "<tbody>\n",
       "\t<tr><th scope=row>12</th><td>11010201</td><td>GO29664</td><td>GO29664-283658-11010201</td><td>17</td><td>YEARS</td><td>652</td><td>Cohort 2 (HODGKIN LYMPHOMA)                        </td><td>HODGKIN LYMPHOMA                                </td><td>11010201</td><td>Tumor Response</td><td>⋯</td><td>Primary</td><td>Archival Tumor Slides</td><td>ARCHIVAL TUMOR FFPE SLIDES</td><td>LATERO CERVICAL NECK NODE |            </td><td>Y</td><td>1</td><td>06520004C0018R</td><td>Primary</td><td>Lymph node</td><td>Lymphoma</td></tr>\n",
       "\t<tr><th scope=row>15</th><td>11010204</td><td>GO29664</td><td>GO29664-283657-11010204</td><td> 9</td><td>YEARS</td><td>889</td><td>Cohort 2 (HODGKIN LYMPHOMA)                        </td><td>HODGKIN LYMPHOMA                                </td><td>11010204</td><td>Tumor Response</td><td>⋯</td><td>Primary</td><td>ARCHIVAL TUMOR SLIDES</td><td>ARCHIVAL TUMOR FFPE SLIDES</td><td> lymph node left laterocervical        </td><td>Y</td><td>1</td><td>06520053C0017R</td><td>Primary</td><td>Lymph node</td><td>Lymphoma</td></tr>\n",
       "\t<tr><th scope=row>35</th><td>11010402</td><td>GO29664</td><td>GO29664-281702-11010402</td><td>26</td><td>YEARS</td><td>509</td><td>Cohort 4 (NON HODGKIN LYMPHOMA)                    </td><td>NON HODGKIN LYMPHOMA - OTHER                    </td><td>11010402</td><td>Tumor Response</td><td>⋯</td><td>Primary</td><td>ARCHIVAL TUMOR SLIDES</td><td>ARCHIVAL TUMOR FFPE SLIDES</td><td>RIGHT COLON | INFORMATION NOT AVAILABLE</td><td>Y</td><td>1</td><td>06520094C0016R</td><td>Primary</td><td>Others    </td><td>Lymphoma</td></tr>\n",
       "\t<tr><th scope=row>42</th><td>11010508</td><td>GO29664</td><td>GO29664-283497-11010508</td><td> 4</td><td>YEARS</td><td> 64</td><td>Cohort 5 (NON-RHABDOMYOSARCOMA SOFT TISSUE SARCOMA)</td><td>NON-RHABDOMYOSARCOMA SOFT TISSUE SARCOMA - OTHER</td><td>11010508</td><td>Tumor Response</td><td>⋯</td><td>Primary</td><td>ARCHIVAL TUMOR SLIDES</td><td>ARCHIVAL TUMOR FFPE SLIDES</td><td>rhabdoid tumor - thorax                </td><td>Y</td><td>1</td><td>06520072C0017R</td><td>Primary</td><td>Others    </td><td>RT      </td></tr>\n",
       "</tbody>\n",
       "</table>\n"
      ],
      "text/latex": [
       "A data.frame: 4 × 34\n",
       "\\begin{tabular}{r|lllllllllllllllllllll}\n",
       "  & Patient.ID & STUDYID & USUBJID & AGE & AGEU & TRTDUR & COHORT & TTYPE & SUBID & PARAMCAT & ⋯ & Tumor.Type.Primary.Met.Other & Sample.Prep.Type.Fresh.Arch.Other & Sample.Prep.Type.Fresh.Arch.Other.Khannotation & Sample.Origin & EA.Sequenced & EA.Sequencing.Batch & sample\\_id & tumor\\_type & sample\\_origin & disease\\_group\\\\\n",
       "  & <int> & <chr> & <chr> & <int> & <chr> & <int> & <chr> & <chr> & <int> & <chr> & ⋯ & <chr> & <chr> & <chr> & <chr> & <chr> & <int> & <chr> & <chr> & <chr> & <chr>\\\\\n",
       "\\hline\n",
       "\t12 & 11010201 & GO29664 & GO29664-283658-11010201 & 17 & YEARS & 652 & Cohort 2 (HODGKIN LYMPHOMA)                         & HODGKIN LYMPHOMA                                 & 11010201 & Tumor Response & ⋯ & Primary & Archival Tumor Slides & ARCHIVAL TUMOR FFPE SLIDES & LATERO CERVICAL NECK NODE \\textbar{}             & Y & 1 & 06520004C0018R & Primary & Lymph node & Lymphoma\\\\\n",
       "\t15 & 11010204 & GO29664 & GO29664-283657-11010204 &  9 & YEARS & 889 & Cohort 2 (HODGKIN LYMPHOMA)                         & HODGKIN LYMPHOMA                                 & 11010204 & Tumor Response & ⋯ & Primary & ARCHIVAL TUMOR SLIDES & ARCHIVAL TUMOR FFPE SLIDES &  lymph node left laterocervical         & Y & 1 & 06520053C0017R & Primary & Lymph node & Lymphoma\\\\\n",
       "\t35 & 11010402 & GO29664 & GO29664-281702-11010402 & 26 & YEARS & 509 & Cohort 4 (NON HODGKIN LYMPHOMA)                     & NON HODGKIN LYMPHOMA - OTHER                     & 11010402 & Tumor Response & ⋯ & Primary & ARCHIVAL TUMOR SLIDES & ARCHIVAL TUMOR FFPE SLIDES & RIGHT COLON \\textbar{} INFORMATION NOT AVAILABLE & Y & 1 & 06520094C0016R & Primary & Others     & Lymphoma\\\\\n",
       "\t42 & 11010508 & GO29664 & GO29664-283497-11010508 &  4 & YEARS &  64 & Cohort 5 (NON-RHABDOMYOSARCOMA SOFT TISSUE SARCOMA) & NON-RHABDOMYOSARCOMA SOFT TISSUE SARCOMA - OTHER & 11010508 & Tumor Response & ⋯ & Primary & ARCHIVAL TUMOR SLIDES & ARCHIVAL TUMOR FFPE SLIDES & rhabdoid tumor - thorax                 & Y & 1 & 06520072C0017R & Primary & Others     & RT      \\\\\n",
       "\\end{tabular}\n"
      ],
      "text/markdown": [
       "\n",
       "A data.frame: 4 × 34\n",
       "\n",
       "| <!--/--> | Patient.ID &lt;int&gt; | STUDYID &lt;chr&gt; | USUBJID &lt;chr&gt; | AGE &lt;int&gt; | AGEU &lt;chr&gt; | TRTDUR &lt;int&gt; | COHORT &lt;chr&gt; | TTYPE &lt;chr&gt; | SUBID &lt;int&gt; | PARAMCAT &lt;chr&gt; | ⋯ ⋯ | Tumor.Type.Primary.Met.Other &lt;chr&gt; | Sample.Prep.Type.Fresh.Arch.Other &lt;chr&gt; | Sample.Prep.Type.Fresh.Arch.Other.Khannotation &lt;chr&gt; | Sample.Origin &lt;chr&gt; | EA.Sequenced &lt;chr&gt; | EA.Sequencing.Batch &lt;int&gt; | sample_id &lt;chr&gt; | tumor_type &lt;chr&gt; | sample_origin &lt;chr&gt; | disease_group &lt;chr&gt; |\n",
       "|---|---|---|---|---|---|---|---|---|---|---|---|---|---|---|---|---|---|---|---|---|---|\n",
       "| 12 | 11010201 | GO29664 | GO29664-283658-11010201 | 17 | YEARS | 652 | Cohort 2 (HODGKIN LYMPHOMA)                         | HODGKIN LYMPHOMA                                 | 11010201 | Tumor Response | ⋯ | Primary | Archival Tumor Slides | ARCHIVAL TUMOR FFPE SLIDES | LATERO CERVICAL NECK NODE |             | Y | 1 | 06520004C0018R | Primary | Lymph node | Lymphoma |\n",
       "| 15 | 11010204 | GO29664 | GO29664-283657-11010204 |  9 | YEARS | 889 | Cohort 2 (HODGKIN LYMPHOMA)                         | HODGKIN LYMPHOMA                                 | 11010204 | Tumor Response | ⋯ | Primary | ARCHIVAL TUMOR SLIDES | ARCHIVAL TUMOR FFPE SLIDES |  lymph node left laterocervical         | Y | 1 | 06520053C0017R | Primary | Lymph node | Lymphoma |\n",
       "| 35 | 11010402 | GO29664 | GO29664-281702-11010402 | 26 | YEARS | 509 | Cohort 4 (NON HODGKIN LYMPHOMA)                     | NON HODGKIN LYMPHOMA - OTHER                     | 11010402 | Tumor Response | ⋯ | Primary | ARCHIVAL TUMOR SLIDES | ARCHIVAL TUMOR FFPE SLIDES | RIGHT COLON | INFORMATION NOT AVAILABLE | Y | 1 | 06520094C0016R | Primary | Others     | Lymphoma |\n",
       "| 42 | 11010508 | GO29664 | GO29664-283497-11010508 |  4 | YEARS |  64 | Cohort 5 (NON-RHABDOMYOSARCOMA SOFT TISSUE SARCOMA) | NON-RHABDOMYOSARCOMA SOFT TISSUE SARCOMA - OTHER | 11010508 | Tumor Response | ⋯ | Primary | ARCHIVAL TUMOR SLIDES | ARCHIVAL TUMOR FFPE SLIDES | rhabdoid tumor - thorax                 | Y | 1 | 06520072C0017R | Primary | Others     | RT       |\n",
       "\n"
      ],
      "text/plain": [
       "   Patient.ID STUDYID USUBJID                 AGE AGEU  TRTDUR\n",
       "12 11010201   GO29664 GO29664-283658-11010201 17  YEARS 652   \n",
       "15 11010204   GO29664 GO29664-283657-11010204  9  YEARS 889   \n",
       "35 11010402   GO29664 GO29664-281702-11010402 26  YEARS 509   \n",
       "42 11010508   GO29664 GO29664-283497-11010508  4  YEARS  64   \n",
       "   COHORT                                             \n",
       "12 Cohort 2 (HODGKIN LYMPHOMA)                        \n",
       "15 Cohort 2 (HODGKIN LYMPHOMA)                        \n",
       "35 Cohort 4 (NON HODGKIN LYMPHOMA)                    \n",
       "42 Cohort 5 (NON-RHABDOMYOSARCOMA SOFT TISSUE SARCOMA)\n",
       "   TTYPE                                            SUBID    PARAMCAT       ⋯\n",
       "12 HODGKIN LYMPHOMA                                 11010201 Tumor Response ⋯\n",
       "15 HODGKIN LYMPHOMA                                 11010204 Tumor Response ⋯\n",
       "35 NON HODGKIN LYMPHOMA - OTHER                     11010402 Tumor Response ⋯\n",
       "42 NON-RHABDOMYOSARCOMA SOFT TISSUE SARCOMA - OTHER 11010508 Tumor Response ⋯\n",
       "   Tumor.Type.Primary.Met.Other Sample.Prep.Type.Fresh.Arch.Other\n",
       "12 Primary                      Archival Tumor Slides            \n",
       "15 Primary                      ARCHIVAL TUMOR SLIDES            \n",
       "35 Primary                      ARCHIVAL TUMOR SLIDES            \n",
       "42 Primary                      ARCHIVAL TUMOR SLIDES            \n",
       "   Sample.Prep.Type.Fresh.Arch.Other.Khannotation\n",
       "12 ARCHIVAL TUMOR FFPE SLIDES                    \n",
       "15 ARCHIVAL TUMOR FFPE SLIDES                    \n",
       "35 ARCHIVAL TUMOR FFPE SLIDES                    \n",
       "42 ARCHIVAL TUMOR FFPE SLIDES                    \n",
       "   Sample.Origin                           EA.Sequenced EA.Sequencing.Batch\n",
       "12 LATERO CERVICAL NECK NODE |             Y            1                  \n",
       "15  lymph node left laterocervical         Y            1                  \n",
       "35 RIGHT COLON | INFORMATION NOT AVAILABLE Y            1                  \n",
       "42 rhabdoid tumor - thorax                 Y            1                  \n",
       "   sample_id      tumor_type sample_origin disease_group\n",
       "12 06520004C0018R Primary    Lymph node    Lymphoma     \n",
       "15 06520053C0017R Primary    Lymph node    Lymphoma     \n",
       "35 06520094C0016R Primary    Others        Lymphoma     \n",
       "42 06520072C0017R Primary    Others        RT           "
      ]
     },
     "metadata": {},
     "output_type": "display_data"
    }
   ],
   "source": [
    "IND_metadata_Y_SCN_dedup[IND_metadata_Y_SCN_dedup$AVALC == \"PR\",]"
   ]
  },
  {
   "cell_type": "markdown",
   "metadata": {},
   "source": [
    "# Cancer groups"
   ]
  },
  {
   "cell_type": "code",
   "execution_count": 32,
   "metadata": {},
   "outputs": [],
   "source": [
    "IND_metadata_Y_SCN_dedup$cancer <- NA\n",
    "\n",
    "IND_metadata_Y_SCN_dedup$cancer[ IND_metadata_Y_SCN_dedup$disease_group == \"Lymphoma\"] <- \"Lymphoma\"\n",
    "IND_metadata_Y_SCN_dedup$cancer[ IND_metadata_Y_SCN_dedup$disease_group != \"Lymphoma\"] <- \"Solid tumour\""
   ]
  },
  {
   "cell_type": "markdown",
   "metadata": {},
   "source": [
    "## Progression"
   ]
  },
  {
   "cell_type": "code",
   "execution_count": 33,
   "metadata": {},
   "outputs": [],
   "source": [
    "IND_metadata_Y_SCN_dedup$progressed <- NA\n",
    "\n",
    "IND_metadata_Y_SCN_dedup$progressed[IND_metadata_Y_SCN_dedup$AVALC == \"PD\"] <- 1\n",
    "IND_metadata_Y_SCN_dedup$progressed[IND_metadata_Y_SCN_dedup$AVALC == \"PR\"] <- 0\n",
    "IND_metadata_Y_SCN_dedup$progressed[IND_metadata_Y_SCN_dedup$AVALC == \"SD\"] <- 0"
   ]
  },
  {
   "cell_type": "code",
   "execution_count": 34,
   "metadata": {
    "scrolled": true
   },
   "outputs": [
    {
     "data": {
      "text/html": [
       "<table class=\"dataframe\">\n",
       "<caption>A data.frame: 1 × 18</caption>\n",
       "<thead>\n",
       "\t<tr><th></th><th scope=col>PARAM</th><th scope=col>PARAMCD</th><th scope=col>AVALC</th><th scope=col>ADY</th><th scope=col>AVISIT</th><th scope=col>Screening.ID</th><th scope=col>Sample.ID.ColFinHGXTracker</th><th scope=col>HGX.Specimen.Name</th><th scope=col>HGX.Specimen.Name.Split.1</th><th scope=col>HGX.Specimen.Name.Split.2</th><th scope=col>EA.Sample.ID</th><th scope=col>Visit.Code</th><th scope=col>Sample.Nr.Code</th><th scope=col>Sample.Collection.Timestamp</th><th scope=col>Tumor.Type.Primary.Met.Other</th><th scope=col>Sample.Prep.Type.Fresh.Arch.Other</th><th scope=col>Sample.Prep.Type.Fresh.Arch.Other.Khannotation</th><th scope=col>Sample.Origin</th></tr>\n",
       "\t<tr><th></th><th scope=col>&lt;chr&gt;</th><th scope=col>&lt;chr&gt;</th><th scope=col>&lt;chr&gt;</th><th scope=col>&lt;int&gt;</th><th scope=col>&lt;chr&gt;</th><th scope=col>&lt;int&gt;</th><th scope=col>&lt;chr&gt;</th><th scope=col>&lt;chr&gt;</th><th scope=col>&lt;chr&gt;</th><th scope=col>&lt;chr&gt;</th><th scope=col>&lt;int&gt;</th><th scope=col>&lt;chr&gt;</th><th scope=col>&lt;chr&gt;</th><th scope=col>&lt;chr&gt;</th><th scope=col>&lt;chr&gt;</th><th scope=col>&lt;chr&gt;</th><th scope=col>&lt;chr&gt;</th><th scope=col>&lt;chr&gt;</th></tr>\n",
       "</thead>\n",
       "<tbody>\n",
       "\t<tr><th scope=row>17</th><td>Best Confirmed Overall Response - Investigator</td><td>BESRSPI</td><td>PD</td><td>106</td><td>UNSCHEDULED</td><td>1128349506</td><td>6203065392-02</td><td>06520093C0017R</td><td>06520093C</td><td>0017R</td><td>713913</td><td>SCREENING</td><td>SCRN</td><td>1-1-15 8:00</td><td>Hodgkin lymphoma</td><td>ARCHIVAL TUMOR SLIDES</td><td>ARCHIVAL TUMOR FFPE SLIDES</td><td>lymph node | location unknown</td></tr>\n",
       "</tbody>\n",
       "</table>\n"
      ],
      "text/latex": [
       "A data.frame: 1 × 18\n",
       "\\begin{tabular}{r|llllllllllllllllll}\n",
       "  & PARAM & PARAMCD & AVALC & ADY & AVISIT & Screening.ID & Sample.ID.ColFinHGXTracker & HGX.Specimen.Name & HGX.Specimen.Name.Split.1 & HGX.Specimen.Name.Split.2 & EA.Sample.ID & Visit.Code & Sample.Nr.Code & Sample.Collection.Timestamp & Tumor.Type.Primary.Met.Other & Sample.Prep.Type.Fresh.Arch.Other & Sample.Prep.Type.Fresh.Arch.Other.Khannotation & Sample.Origin\\\\\n",
       "  & <chr> & <chr> & <chr> & <int> & <chr> & <int> & <chr> & <chr> & <chr> & <chr> & <int> & <chr> & <chr> & <chr> & <chr> & <chr> & <chr> & <chr>\\\\\n",
       "\\hline\n",
       "\t17 & Best Confirmed Overall Response - Investigator & BESRSPI & PD & 106 & UNSCHEDULED & 1128349506 & 6203065392-02 & 06520093C0017R & 06520093C & 0017R & 713913 & SCREENING & SCRN & 1-1-15 8:00 & Hodgkin lymphoma & ARCHIVAL TUMOR SLIDES & ARCHIVAL TUMOR FFPE SLIDES & lymph node \\textbar{} location unknown\\\\\n",
       "\\end{tabular}\n"
      ],
      "text/markdown": [
       "\n",
       "A data.frame: 1 × 18\n",
       "\n",
       "| <!--/--> | PARAM &lt;chr&gt; | PARAMCD &lt;chr&gt; | AVALC &lt;chr&gt; | ADY &lt;int&gt; | AVISIT &lt;chr&gt; | Screening.ID &lt;int&gt; | Sample.ID.ColFinHGXTracker &lt;chr&gt; | HGX.Specimen.Name &lt;chr&gt; | HGX.Specimen.Name.Split.1 &lt;chr&gt; | HGX.Specimen.Name.Split.2 &lt;chr&gt; | EA.Sample.ID &lt;int&gt; | Visit.Code &lt;chr&gt; | Sample.Nr.Code &lt;chr&gt; | Sample.Collection.Timestamp &lt;chr&gt; | Tumor.Type.Primary.Met.Other &lt;chr&gt; | Sample.Prep.Type.Fresh.Arch.Other &lt;chr&gt; | Sample.Prep.Type.Fresh.Arch.Other.Khannotation &lt;chr&gt; | Sample.Origin &lt;chr&gt; |\n",
       "|---|---|---|---|---|---|---|---|---|---|---|---|---|---|---|---|---|---|---|\n",
       "| 17 | Best Confirmed Overall Response - Investigator | BESRSPI | PD | 106 | UNSCHEDULED | 1128349506 | 6203065392-02 | 06520093C0017R | 06520093C | 0017R | 713913 | SCREENING | SCRN | 1-1-15 8:00 | Hodgkin lymphoma | ARCHIVAL TUMOR SLIDES | ARCHIVAL TUMOR FFPE SLIDES | lymph node | location unknown |\n",
       "\n"
      ],
      "text/plain": [
       "   PARAM                                          PARAMCD AVALC ADY AVISIT     \n",
       "17 Best Confirmed Overall Response - Investigator BESRSPI PD    106 UNSCHEDULED\n",
       "   Screening.ID Sample.ID.ColFinHGXTracker HGX.Specimen.Name\n",
       "17 1128349506   6203065392-02              06520093C0017R   \n",
       "   HGX.Specimen.Name.Split.1 HGX.Specimen.Name.Split.2 EA.Sample.ID Visit.Code\n",
       "17 06520093C                 0017R                     713913       SCREENING \n",
       "   Sample.Nr.Code Sample.Collection.Timestamp Tumor.Type.Primary.Met.Other\n",
       "17 SCRN           1-1-15 8:00                 Hodgkin lymphoma            \n",
       "   Sample.Prep.Type.Fresh.Arch.Other\n",
       "17 ARCHIVAL TUMOR SLIDES            \n",
       "   Sample.Prep.Type.Fresh.Arch.Other.Khannotation Sample.Origin                \n",
       "17 ARCHIVAL TUMOR FFPE SLIDES                     lymph node | location unknown"
      ]
     },
     "metadata": {},
     "output_type": "display_data"
    }
   ],
   "source": [
    "IND_metadata_Y_SCN_dedup[ IND_metadata_Y_SCN_dedup$sample_id == \"06520093C0017R\",11:28]"
   ]
  },
  {
   "cell_type": "code",
   "execution_count": 35,
   "metadata": {},
   "outputs": [
    {
     "data": {
      "text/html": [
       "<style>\n",
       ".list-inline {list-style: none; margin:0; padding: 0}\n",
       ".list-inline>li {display: inline-block}\n",
       ".list-inline>li:not(:last-child)::after {content: \"\\00b7\"; padding: 0 .5ex}\n",
       "</style>\n",
       "<ol class=list-inline><li>66</li><li>36</li></ol>\n"
      ],
      "text/latex": [
       "\\begin{enumerate*}\n",
       "\\item 66\n",
       "\\item 36\n",
       "\\end{enumerate*}\n"
      ],
      "text/markdown": [
       "1. 66\n",
       "2. 36\n",
       "\n",
       "\n"
      ],
      "text/plain": [
       "[1] 66 36"
      ]
     },
     "metadata": {},
     "output_type": "display_data"
    }
   ],
   "source": [
    "dim(IND_metadata_Y_SCN_dedup)"
   ]
  },
  {
   "cell_type": "code",
   "execution_count": 36,
   "metadata": {},
   "outputs": [],
   "source": [
    "write.csv(IND_metadata_Y_SCN_dedup, file.path(manifestpath,\"IND_metadata.csv\"), quote = F, row.names = F)"
   ]
  }
 ],
 "metadata": {
  "kernelspec": {
   "display_name": "R 4.0",
   "language": "R",
   "name": "ir40"
  },
  "language_info": {
   "codemirror_mode": "r",
   "file_extension": ".r",
   "mimetype": "text/x-r-source",
   "name": "R",
   "pygments_lexer": "r",
   "version": "4.0.3"
  },
  "toc": {
   "base_numbering": 1,
   "nav_menu": {},
   "number_sections": false,
   "sideBar": true,
   "skip_h1_title": false,
   "title_cell": "Table of Contents",
   "title_sidebar": "Contents",
   "toc_cell": true,
   "toc_position": {
    "height": "calc(100% - 180px)",
    "left": "10px",
    "top": "150px",
    "width": "165px"
   },
   "toc_section_display": true,
   "toc_window_display": true
  }
 },
 "nbformat": 4,
 "nbformat_minor": 2
}
