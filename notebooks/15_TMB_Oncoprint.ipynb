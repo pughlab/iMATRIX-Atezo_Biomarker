{
 "cells": [
  {
   "cell_type": "markdown",
   "metadata": {
    "toc": true
   },
   "source": [
    "<h1>Table of Contents<span class=\"tocSkip\"></span></h1>\n",
    "<div class=\"toc\"><ul class=\"toc-item\"><li><span><a href=\"#Dependencies\" data-toc-modified-id=\"Dependencies-1\">Dependencies</a></span></li><li><span><a href=\"#Functions\" data-toc-modified-id=\"Functions-2\">Functions</a></span></li><li><span><a href=\"#Paths\" data-toc-modified-id=\"Paths-3\">Paths</a></span></li><li><span><a href=\"#Main\" data-toc-modified-id=\"Main-4\">Main</a></span><ul class=\"toc-item\"><li><span><a href=\"#TMB-top-annotation\" data-toc-modified-id=\"TMB-top-annotation-4.1\">TMB top annotation</a></span></li><li><span><a href=\"#Heatmaps\" data-toc-modified-id=\"Heatmaps-4.2\">Heatmaps</a></span></li><li><span><a href=\"#Oncoprint\" data-toc-modified-id=\"Oncoprint-4.3\">Oncoprint</a></span></li></ul></li></ul></div>"
   ]
  },
  {
   "cell_type": "markdown",
   "metadata": {},
   "source": [
    "# Dependencies"
   ]
  },
  {
   "cell_type": "code",
   "execution_count": 1,
   "metadata": {},
   "outputs": [],
   "source": [
    "options(scipen = 999)"
   ]
  },
  {
   "cell_type": "code",
   "execution_count": 2,
   "metadata": {},
   "outputs": [
    {
     "name": "stderr",
     "output_type": "stream",
     "text": [
      "========================================\n",
      "circlize version 0.4.12\n",
      "CRAN page: https://cran.r-project.org/package=circlize\n",
      "Github page: https://github.com/jokergoo/circlize\n",
      "Documentation: https://jokergoo.github.io/circlize_book/book/\n",
      "\n",
      "If you use it in published research, please cite:\n",
      "Gu, Z. circlize implements and enhances circular visualization\n",
      "  in R. Bioinformatics 2014.\n",
      "\n",
      "This message can be suppressed by:\n",
      "  suppressPackageStartupMessages(library(circlize))\n",
      "========================================\n",
      "\n",
      "\n",
      "Loading required package: grid\n",
      "\n",
      "========================================\n",
      "ComplexHeatmap version 2.6.2\n",
      "Bioconductor page: http://bioconductor.org/packages/ComplexHeatmap/\n",
      "Github page: https://github.com/jokergoo/ComplexHeatmap\n",
      "Documentation: http://jokergoo.github.io/ComplexHeatmap-reference\n",
      "\n",
      "If you use it in published research, please cite:\n",
      "Gu, Z. Complex heatmaps reveal patterns and correlations in multidimensional \n",
      "  genomic data. Bioinformatics 2016.\n",
      "\n",
      "This message can be suppressed by:\n",
      "  suppressPackageStartupMessages(library(ComplexHeatmap))\n",
      "========================================\n",
      "\n",
      "\n",
      "Loading required package: carData\n",
      "\n"
     ]
    }
   ],
   "source": [
    "library(ggplot2)\n",
    "library(circlize)\n",
    "library(ComplexHeatmap)\n",
    "library(car)"
   ]
  },
  {
   "cell_type": "markdown",
   "metadata": {},
   "source": [
    "# Functions\n"
   ]
  },
  {
   "cell_type": "code",
   "execution_count": 3,
   "metadata": {},
   "outputs": [],
   "source": [
    "cohorts_hm.fx <- function(cohorts_mat){\n",
    " \n",
    "    colpal <- c(\"NHL\" = \"#006d2c\", #green\n",
    "                \"HL\" = \"#00f663\",\n",
    "                \"NBL\" = \"#cccc00\", #yellow\n",
    "                \"OS\" = \"#f1eef6\",   # blue      \n",
    "                \"RMS\" = \"#bdc9e1\",  # blue\n",
    "                \"SARC\" = \"#74a9cf\", # blue\n",
    "                \"EWS\" = \"#045a8d\",  # blue\n",
    "                \"WILMS\" = \"#9F1214\", #red\n",
    "                \"RT\" = \"#884692\", #purple\n",
    "                \"Others\" = \"#757172\") #grey\n",
    "\n",
    "    cohort_hm = Heatmap(cohorts_mat,\n",
    "                        #titles and names\n",
    "                        name = \"Cohort\",\n",
    "                        show_row_names = TRUE,\n",
    "                        show_column_names = FALSE,    \n",
    "                        #clusters\n",
    "                        cluster_columns = FALSE,\n",
    "                        cluster_rows = FALSE,\n",
    "                        #aesthestics\n",
    "                        col = colpal,\n",
    "                        column_names_gp = gpar(fontsize = 15),\n",
    "                        height = unit(1, \"cm\"),\n",
    "                        row_names_gp = gpar(fontsize = 20))\n",
    "    return(cohort_hm)   \n",
    "}"
   ]
  },
  {
   "cell_type": "code",
   "execution_count": 4,
   "metadata": {},
   "outputs": [],
   "source": [
    "response_hm.fx <- function(response_mat){\n",
    "\n",
    "    colpal <- c(\"PD\" = \"#e41a1c\",\n",
    "                \"PR\" = \"#4daf4a\",\n",
    "                \"SD\" = \"#ffff33\",\n",
    "                \"NE\" = \"grey\")\n",
    "\n",
    "    response_hm = Heatmap(response_mat,\n",
    "                          #titles and names\n",
    "                          name = \"RECIST Response\",\n",
    "                          show_row_names = TRUE,\n",
    "                          show_column_names = FALSE,    \n",
    "                          #clusters\n",
    "                          cluster_columns = FALSE,\n",
    "                          cluster_rows = FALSE,\n",
    "                          #aesthestics\n",
    "                          col = colpal,\n",
    "                          row_names_gp = gpar(fontsize = 20),\n",
    "                          height = unit(1, \"cm\"),\n",
    "                          column_title_gp = gpar(fontsize = 42),\n",
    "                          row_title = NULL)\n",
    "    return(response_hm)\n",
    "    \n",
    "}"
   ]
  },
  {
   "cell_type": "code",
   "execution_count": 5,
   "metadata": {},
   "outputs": [],
   "source": [
    "type_hm.fx <- function(tumortype_mat){\n",
    "\n",
    "    colpal <- c(\"Primary\" = \"#d8daeb\",\n",
    "                \"Metastatic\" = \"#542788\")\n",
    "\n",
    "    type_hm = Heatmap(tumortype_mat,\n",
    "                          #titles and names\n",
    "                          name = \"Tumour type\",\n",
    "                          show_row_names = TRUE,\n",
    "                          show_column_names = FALSE,    \n",
    "                          #clusters\n",
    "                          cluster_columns = FALSE,\n",
    "                          cluster_rows = FALSE,\n",
    "                          #aesthestics\n",
    "                          col = colpal,\n",
    "                          row_names_gp = gpar(fontsize = 20),\n",
    "                          height = unit(1, \"cm\"),\n",
    "                          column_title_gp = gpar(fontsize = 42),\n",
    "                          row_title = NULL)\n",
    "    return(type_hm)\n",
    "}"
   ]
  },
  {
   "cell_type": "code",
   "execution_count": 6,
   "metadata": {},
   "outputs": [],
   "source": [
    "cancer_hm.fx <- function(cancer_mat){\n",
    "\n",
    "    colpal <- c(\"Lymphoma\" = \"#2c7fb8\",\n",
    "                \"Solid tumour\" = \"#edf8b1\")\n",
    "\n",
    "    cancer_hm = Heatmap(cancer_mat,\n",
    "                          #titles and names\n",
    "                          name = \"Cancer group\",\n",
    "                          show_row_names = TRUE,\n",
    "                          show_column_names = FALSE,    \n",
    "                          #clusters\n",
    "                          cluster_columns = FALSE,\n",
    "                          cluster_rows = FALSE,\n",
    "                          #aesthestics\n",
    "                          col = colpal,\n",
    "                          row_names_gp = gpar(fontsize = 20),\n",
    "                          height = unit(1, \"cm\"),\n",
    "                          column_title_gp = gpar(fontsize = 42),\n",
    "                          row_title = NULL)\n",
    "    return(cancer_hm)\n",
    "}"
   ]
  },
  {
   "cell_type": "markdown",
   "metadata": {},
   "source": [
    "# Paths"
   ]
  },
  {
   "cell_type": "code",
   "execution_count": 7,
   "metadata": {},
   "outputs": [],
   "source": [
    "datapath <- \"/Users/anabbi/OneDrive - UHN/Documents/INDICATE/Data/\"\n",
    "plotpath <- \"/Users/anabbi/OneDrive - UHN/Documents/INDICATE/Plots/\"\n",
    "manifestpath <- \"/Users/anabbi/OneDrive - UHN/Documents/INDICATE/Manifests/\""
   ]
  },
  {
   "cell_type": "markdown",
   "metadata": {},
   "source": [
    "# Main"
   ]
  },
  {
   "cell_type": "code",
   "execution_count": 8,
   "metadata": {},
   "outputs": [],
   "source": [
    "metadata <- read.csv(file.path(datapath,\"IND_estimate_metadata_IHC_trb_tmb.csv\"),header = T, stringsAsFactors = F, \n",
    "                     check.names = F)"
   ]
  },
  {
   "cell_type": "code",
   "execution_count": 9,
   "metadata": {},
   "outputs": [
    {
     "data": {
      "text/html": [
       "<table class=\"dataframe\">\n",
       "<caption>A data.frame: 6 × 77</caption>\n",
       "<thead>\n",
       "\t<tr><th></th><th scope=col>SAMPLE.ID</th><th scope=col>sample_id</th><th scope=col>Patient.ID.x</th><th scope=col>STUDYID</th><th scope=col>USUBJID</th><th scope=col>AGE</th><th scope=col>AGEU</th><th scope=col>TRTDUR</th><th scope=col>COHORT</th><th scope=col>TTYPE</th><th scope=col>⋯</th><th scope=col>SE_Shannon</th><th scope=col>observed_Simpson</th><th scope=col>estimated_Simpson</th><th scope=col>SE_Simpson</th><th scope=col>ALIQUOT</th><th scope=col>SUBJECT.ID</th><th scope=col>QC_Status</th><th scope=col>TMB_Score</th><th scope=col>TMB_Confidence</th><th scope=col>PDL1</th></tr>\n",
       "\t<tr><th></th><th scope=col>&lt;chr&gt;</th><th scope=col>&lt;chr&gt;</th><th scope=col>&lt;int&gt;</th><th scope=col>&lt;chr&gt;</th><th scope=col>&lt;chr&gt;</th><th scope=col>&lt;int&gt;</th><th scope=col>&lt;chr&gt;</th><th scope=col>&lt;int&gt;</th><th scope=col>&lt;chr&gt;</th><th scope=col>&lt;chr&gt;</th><th scope=col>⋯</th><th scope=col>&lt;dbl&gt;</th><th scope=col>&lt;dbl&gt;</th><th scope=col>&lt;dbl&gt;</th><th scope=col>&lt;dbl&gt;</th><th scope=col>&lt;chr&gt;</th><th scope=col>&lt;int&gt;</th><th scope=col>&lt;chr&gt;</th><th scope=col>&lt;dbl&gt;</th><th scope=col>&lt;chr&gt;</th><th scope=col>&lt;chr&gt;</th></tr>\n",
       "</thead>\n",
       "<tbody>\n",
       "\t<tr><th scope=row>1</th><td>06520001B</td><td>06520001B0023R</td><td>11010601</td><td>GO29664</td><td>GO29664-283971-11010601</td><td>19</td><td>YEARS</td><td>  1</td><td>Cohort 6 (OSTEOSARCOMA)     </td><td>OSTEOSARCOMA               </td><td>⋯</td><td>1.481</td><td> 10.086</td><td> 11.566</td><td>2.101</td><td>TRF185855.01</td><td>601</td><td>PASS     </td><td>1.75</td><td>VALID      </td><td>No expression</td></tr>\n",
       "\t<tr><th scope=row>2</th><td>06520003C</td><td>06520003C0012R</td><td>11010202</td><td>GO29664</td><td>GO29664-283658-11010202</td><td>17</td><td>YEARS</td><td>108</td><td>Cohort 2 (HODGKIN LYMPHOMA) </td><td>HODGKIN LYMPHOMA           </td><td>⋯</td><td>   NA</td><td>     NA</td><td>     NA</td><td>   NA</td><td>NA          </td><td> NA</td><td>NA       </td><td>  NA</td><td>NA         </td><td>High         </td></tr>\n",
       "\t<tr><th scope=row>3</th><td>06520004C</td><td>06520004C0018R</td><td>11010201</td><td>GO29664</td><td>GO29664-283658-11010201</td><td>17</td><td>YEARS</td><td>652</td><td>Cohort 2 (HODGKIN LYMPHOMA) </td><td>HODGKIN LYMPHOMA           </td><td>⋯</td><td>0.656</td><td>156.560</td><td>157.183</td><td>0.791</td><td>TRF185857.01</td><td>201</td><td>QUALIFIED</td><td>2.63</td><td>LOWER_BOUND</td><td>High         </td></tr>\n",
       "\t<tr><th scope=row>4</th><td>06520005C</td><td>06520005C0017R</td><td>11010701</td><td>GO29664</td><td>GO29664-283971-11010701</td><td>11</td><td>YEARS</td><td> 22</td><td>Cohort 7 (RHABDOMYOSARCOMA )</td><td>RHABDOMYOSARCOMA - ALVEOLAR</td><td>⋯</td><td>0.696</td><td> 11.308</td><td> 11.425</td><td>0.427</td><td>TRF185858.01</td><td>701</td><td>QUALIFIED</td><td>8.77</td><td>VALID      </td><td>No expression</td></tr>\n",
       "\t<tr><th scope=row>5</th><td>06520006C</td><td>06520006C0016R</td><td>11010702</td><td>GO29664</td><td>GO29664-283504-11010702</td><td> 5</td><td>YEARS</td><td> 23</td><td>Cohort 7 (RHABDOMYOSARCOMA )</td><td>RHABDOMYOSARCOMA - UNKNOWN </td><td>⋯</td><td>   NA</td><td>     NA</td><td>     NA</td><td>   NA</td><td>NA          </td><td> NA</td><td>NA       </td><td>  NA</td><td>NA         </td><td>No expression</td></tr>\n",
       "\t<tr><th scope=row>6</th><td>06520007C</td><td>06520007C0018R</td><td>11010604</td><td>GO29664</td><td>GO29664-283971-11010604</td><td>22</td><td>YEARS</td><td> 65</td><td>Cohort 6 (OSTEOSARCOMA)     </td><td>OSTEOSARCOMA               </td><td>⋯</td><td>0.856</td><td> 30.509</td><td> 30.552</td><td>0.572</td><td>TRF185859.01</td><td>604</td><td>PASS     </td><td>3.51</td><td>VALID      </td><td>No expression</td></tr>\n",
       "</tbody>\n",
       "</table>\n"
      ],
      "text/latex": [
       "A data.frame: 6 × 77\n",
       "\\begin{tabular}{r|lllllllllllllllllllll}\n",
       "  & SAMPLE.ID & sample\\_id & Patient.ID.x & STUDYID & USUBJID & AGE & AGEU & TRTDUR & COHORT & TTYPE & ⋯ & SE\\_Shannon & observed\\_Simpson & estimated\\_Simpson & SE\\_Simpson & ALIQUOT & SUBJECT.ID & QC\\_Status & TMB\\_Score & TMB\\_Confidence & PDL1\\\\\n",
       "  & <chr> & <chr> & <int> & <chr> & <chr> & <int> & <chr> & <int> & <chr> & <chr> & ⋯ & <dbl> & <dbl> & <dbl> & <dbl> & <chr> & <int> & <chr> & <dbl> & <chr> & <chr>\\\\\n",
       "\\hline\n",
       "\t1 & 06520001B & 06520001B0023R & 11010601 & GO29664 & GO29664-283971-11010601 & 19 & YEARS &   1 & Cohort 6 (OSTEOSARCOMA)      & OSTEOSARCOMA                & ⋯ & 1.481 &  10.086 &  11.566 & 2.101 & TRF185855.01 & 601 & PASS      & 1.75 & VALID       & No expression\\\\\n",
       "\t2 & 06520003C & 06520003C0012R & 11010202 & GO29664 & GO29664-283658-11010202 & 17 & YEARS & 108 & Cohort 2 (HODGKIN LYMPHOMA)  & HODGKIN LYMPHOMA            & ⋯ &    NA &      NA &      NA &    NA & NA           &  NA & NA        &   NA & NA          & High         \\\\\n",
       "\t3 & 06520004C & 06520004C0018R & 11010201 & GO29664 & GO29664-283658-11010201 & 17 & YEARS & 652 & Cohort 2 (HODGKIN LYMPHOMA)  & HODGKIN LYMPHOMA            & ⋯ & 0.656 & 156.560 & 157.183 & 0.791 & TRF185857.01 & 201 & QUALIFIED & 2.63 & LOWER\\_BOUND & High         \\\\\n",
       "\t4 & 06520005C & 06520005C0017R & 11010701 & GO29664 & GO29664-283971-11010701 & 11 & YEARS &  22 & Cohort 7 (RHABDOMYOSARCOMA ) & RHABDOMYOSARCOMA - ALVEOLAR & ⋯ & 0.696 &  11.308 &  11.425 & 0.427 & TRF185858.01 & 701 & QUALIFIED & 8.77 & VALID       & No expression\\\\\n",
       "\t5 & 06520006C & 06520006C0016R & 11010702 & GO29664 & GO29664-283504-11010702 &  5 & YEARS &  23 & Cohort 7 (RHABDOMYOSARCOMA ) & RHABDOMYOSARCOMA - UNKNOWN  & ⋯ &    NA &      NA &      NA &    NA & NA           &  NA & NA        &   NA & NA          & No expression\\\\\n",
       "\t6 & 06520007C & 06520007C0018R & 11010604 & GO29664 & GO29664-283971-11010604 & 22 & YEARS &  65 & Cohort 6 (OSTEOSARCOMA)      & OSTEOSARCOMA                & ⋯ & 0.856 &  30.509 &  30.552 & 0.572 & TRF185859.01 & 604 & PASS      & 3.51 & VALID       & No expression\\\\\n",
       "\\end{tabular}\n"
      ],
      "text/markdown": [
       "\n",
       "A data.frame: 6 × 77\n",
       "\n",
       "| <!--/--> | SAMPLE.ID &lt;chr&gt; | sample_id &lt;chr&gt; | Patient.ID.x &lt;int&gt; | STUDYID &lt;chr&gt; | USUBJID &lt;chr&gt; | AGE &lt;int&gt; | AGEU &lt;chr&gt; | TRTDUR &lt;int&gt; | COHORT &lt;chr&gt; | TTYPE &lt;chr&gt; | ⋯ ⋯ | SE_Shannon &lt;dbl&gt; | observed_Simpson &lt;dbl&gt; | estimated_Simpson &lt;dbl&gt; | SE_Simpson &lt;dbl&gt; | ALIQUOT &lt;chr&gt; | SUBJECT.ID &lt;int&gt; | QC_Status &lt;chr&gt; | TMB_Score &lt;dbl&gt; | TMB_Confidence &lt;chr&gt; | PDL1 &lt;chr&gt; |\n",
       "|---|---|---|---|---|---|---|---|---|---|---|---|---|---|---|---|---|---|---|---|---|---|\n",
       "| 1 | 06520001B | 06520001B0023R | 11010601 | GO29664 | GO29664-283971-11010601 | 19 | YEARS |   1 | Cohort 6 (OSTEOSARCOMA)      | OSTEOSARCOMA                | ⋯ | 1.481 |  10.086 |  11.566 | 2.101 | TRF185855.01 | 601 | PASS      | 1.75 | VALID       | No expression |\n",
       "| 2 | 06520003C | 06520003C0012R | 11010202 | GO29664 | GO29664-283658-11010202 | 17 | YEARS | 108 | Cohort 2 (HODGKIN LYMPHOMA)  | HODGKIN LYMPHOMA            | ⋯ |    NA |      NA |      NA |    NA | NA           |  NA | NA        |   NA | NA          | High          |\n",
       "| 3 | 06520004C | 06520004C0018R | 11010201 | GO29664 | GO29664-283658-11010201 | 17 | YEARS | 652 | Cohort 2 (HODGKIN LYMPHOMA)  | HODGKIN LYMPHOMA            | ⋯ | 0.656 | 156.560 | 157.183 | 0.791 | TRF185857.01 | 201 | QUALIFIED | 2.63 | LOWER_BOUND | High          |\n",
       "| 4 | 06520005C | 06520005C0017R | 11010701 | GO29664 | GO29664-283971-11010701 | 11 | YEARS |  22 | Cohort 7 (RHABDOMYOSARCOMA ) | RHABDOMYOSARCOMA - ALVEOLAR | ⋯ | 0.696 |  11.308 |  11.425 | 0.427 | TRF185858.01 | 701 | QUALIFIED | 8.77 | VALID       | No expression |\n",
       "| 5 | 06520006C | 06520006C0016R | 11010702 | GO29664 | GO29664-283504-11010702 |  5 | YEARS |  23 | Cohort 7 (RHABDOMYOSARCOMA ) | RHABDOMYOSARCOMA - UNKNOWN  | ⋯ |    NA |      NA |      NA |    NA | NA           |  NA | NA        |   NA | NA          | No expression |\n",
       "| 6 | 06520007C | 06520007C0018R | 11010604 | GO29664 | GO29664-283971-11010604 | 22 | YEARS |  65 | Cohort 6 (OSTEOSARCOMA)      | OSTEOSARCOMA                | ⋯ | 0.856 |  30.509 |  30.552 | 0.572 | TRF185859.01 | 604 | PASS      | 3.51 | VALID       | No expression |\n",
       "\n"
      ],
      "text/plain": [
       "  SAMPLE.ID sample_id      Patient.ID.x STUDYID USUBJID                 AGE\n",
       "1 06520001B 06520001B0023R 11010601     GO29664 GO29664-283971-11010601 19 \n",
       "2 06520003C 06520003C0012R 11010202     GO29664 GO29664-283658-11010202 17 \n",
       "3 06520004C 06520004C0018R 11010201     GO29664 GO29664-283658-11010201 17 \n",
       "4 06520005C 06520005C0017R 11010701     GO29664 GO29664-283971-11010701 11 \n",
       "5 06520006C 06520006C0016R 11010702     GO29664 GO29664-283504-11010702  5 \n",
       "6 06520007C 06520007C0018R 11010604     GO29664 GO29664-283971-11010604 22 \n",
       "  AGEU  TRTDUR COHORT                       TTYPE                       ⋯\n",
       "1 YEARS   1    Cohort 6 (OSTEOSARCOMA)      OSTEOSARCOMA                ⋯\n",
       "2 YEARS 108    Cohort 2 (HODGKIN LYMPHOMA)  HODGKIN LYMPHOMA            ⋯\n",
       "3 YEARS 652    Cohort 2 (HODGKIN LYMPHOMA)  HODGKIN LYMPHOMA            ⋯\n",
       "4 YEARS  22    Cohort 7 (RHABDOMYOSARCOMA ) RHABDOMYOSARCOMA - ALVEOLAR ⋯\n",
       "5 YEARS  23    Cohort 7 (RHABDOMYOSARCOMA ) RHABDOMYOSARCOMA - UNKNOWN  ⋯\n",
       "6 YEARS  65    Cohort 6 (OSTEOSARCOMA)      OSTEOSARCOMA                ⋯\n",
       "  SE_Shannon observed_Simpson estimated_Simpson SE_Simpson ALIQUOT     \n",
       "1 1.481       10.086           11.566           2.101      TRF185855.01\n",
       "2    NA           NA               NA              NA      NA          \n",
       "3 0.656      156.560          157.183           0.791      TRF185857.01\n",
       "4 0.696       11.308           11.425           0.427      TRF185858.01\n",
       "5    NA           NA               NA              NA      NA          \n",
       "6 0.856       30.509           30.552           0.572      TRF185859.01\n",
       "  SUBJECT.ID QC_Status TMB_Score TMB_Confidence PDL1         \n",
       "1 601        PASS      1.75      VALID          No expression\n",
       "2  NA        NA          NA      NA             High         \n",
       "3 201        QUALIFIED 2.63      LOWER_BOUND    High         \n",
       "4 701        QUALIFIED 8.77      VALID          No expression\n",
       "5  NA        NA          NA      NA             No expression\n",
       "6 604        PASS      3.51      VALID          No expression"
      ]
     },
     "metadata": {},
     "output_type": "display_data"
    }
   ],
   "source": [
    "head(metadata)"
   ]
  },
  {
   "cell_type": "markdown",
   "metadata": {},
   "source": [
    "Load foundation one file"
   ]
  },
  {
   "cell_type": "code",
   "execution_count": 10,
   "metadata": {},
   "outputs": [],
   "source": [
    "f1 <- read.table(paste0(datapath, \"ngs_dna_foundationone.txt\"), sep = \"\\t\",\n",
    "                stringsAsFactors = F, header = T)"
   ]
  },
  {
   "cell_type": "code",
   "execution_count": 11,
   "metadata": {},
   "outputs": [
    {
     "data": {
      "text/html": [
       "60"
      ],
      "text/latex": [
       "60"
      ],
      "text/markdown": [
       "60"
      ],
      "text/plain": [
       "[1] 60"
      ]
     },
     "metadata": {},
     "output_type": "display_data"
    }
   ],
   "source": [
    "length(unique(f1$FMI.SAMPLE.ID))"
   ]
  },
  {
   "cell_type": "code",
   "execution_count": 12,
   "metadata": {},
   "outputs": [
    {
     "data": {
      "text/html": [
       "<table class=\"dataframe\">\n",
       "<caption>A data.frame: 6 × 25</caption>\n",
       "<thead>\n",
       "\t<tr><th></th><th scope=col>FMI.SAMPLE.ID</th><th scope=col>SUBJECT.ID</th><th scope=col>SAMPLE.ID</th><th scope=col>ALIQUOT</th><th scope=col>VARIANT.TYPE</th><th scope=col>GENE</th><th scope=col>SOMATIC.STATUS.FUNCTIONAL.IMPACT</th><th scope=col>TRANSCRIPT</th><th scope=col>SV.PROTEIN.CHANGE</th><th scope=col>SV.CDS.CHANGE</th><th scope=col>⋯</th><th scope=col>CNA.RATIO</th><th scope=col>CNA.TYPE</th><th scope=col>CNA.POS</th><th scope=col>REARR.GENE1</th><th scope=col>REARR.GENE2</th><th scope=col>REARR.DESCRIPTION</th><th scope=col>REARR.IN.FRAME.</th><th scope=col>REARR.POS1</th><th scope=col>REARR.POS2</th><th scope=col>REARR.NUMBER.OF.READS</th></tr>\n",
       "\t<tr><th></th><th scope=col>&lt;chr&gt;</th><th scope=col>&lt;int&gt;</th><th scope=col>&lt;chr&gt;</th><th scope=col>&lt;chr&gt;</th><th scope=col>&lt;chr&gt;</th><th scope=col>&lt;chr&gt;</th><th scope=col>&lt;chr&gt;</th><th scope=col>&lt;chr&gt;</th><th scope=col>&lt;chr&gt;</th><th scope=col>&lt;chr&gt;</th><th scope=col>⋯</th><th scope=col>&lt;chr&gt;</th><th scope=col>&lt;chr&gt;</th><th scope=col>&lt;chr&gt;</th><th scope=col>&lt;chr&gt;</th><th scope=col>&lt;chr&gt;</th><th scope=col>&lt;chr&gt;</th><th scope=col>&lt;chr&gt;</th><th scope=col>&lt;chr&gt;</th><th scope=col>&lt;chr&gt;</th><th scope=col>&lt;chr&gt;</th></tr>\n",
       "</thead>\n",
       "<tbody>\n",
       "\t<tr><th scope=row>1</th><td>TRF185855</td><td>601</td><td>06520001B</td><td>TRF185855.01</td><td>short-variant</td><td>FANCG</td><td>likely </td><td>NM_004629</td><td>K618fs*3</td><td>1852_1853delAA</td><td>⋯</td><td>-</td><td>-</td><td>-</td><td>-</td><td>-</td><td>-</td><td>-</td><td>-</td><td>-</td><td>-</td></tr>\n",
       "\t<tr><th scope=row>2</th><td>TRF185855</td><td>601</td><td>06520001B</td><td>TRF185855.01</td><td>short-variant</td><td><span style=white-space:pre-wrap>ATR  </span></td><td>unknown</td><td>NM_001184</td><td><span style=white-space:pre-wrap>V2620M  </span></td><td><span style=white-space:pre-wrap>7858G&gt;A       </span></td><td>⋯</td><td>-</td><td>-</td><td>-</td><td>-</td><td>-</td><td>-</td><td>-</td><td>-</td><td>-</td><td>-</td></tr>\n",
       "\t<tr><th scope=row>3</th><td>TRF185855</td><td>601</td><td>06520001B</td><td>TRF185855.01</td><td>short-variant</td><td>CDK12</td><td>unknown</td><td>NM_016507</td><td><span style=white-space:pre-wrap>A1289T  </span></td><td><span style=white-space:pre-wrap>3865G&gt;A       </span></td><td>⋯</td><td>-</td><td>-</td><td>-</td><td>-</td><td>-</td><td>-</td><td>-</td><td>-</td><td>-</td><td>-</td></tr>\n",
       "\t<tr><th scope=row>4</th><td>TRF185855</td><td>601</td><td>06520001B</td><td>TRF185855.01</td><td>short-variant</td><td>FAT1 </td><td>unknown</td><td>NM_005245</td><td><span style=white-space:pre-wrap>A4419T  </span></td><td><span style=white-space:pre-wrap>13255G&gt;A      </span></td><td>⋯</td><td>-</td><td>-</td><td>-</td><td>-</td><td>-</td><td>-</td><td>-</td><td>-</td><td>-</td><td>-</td></tr>\n",
       "\t<tr><th scope=row>5</th><td>TRF185855</td><td>601</td><td>06520001B</td><td>TRF185855.01</td><td>short-variant</td><td>INHBA</td><td>unknown</td><td>NM_002192</td><td><span style=white-space:pre-wrap>V210L   </span></td><td><span style=white-space:pre-wrap>628G&gt;C        </span></td><td>⋯</td><td>-</td><td>-</td><td>-</td><td>-</td><td>-</td><td>-</td><td>-</td><td>-</td><td>-</td><td>-</td></tr>\n",
       "\t<tr><th scope=row>6</th><td>TRF185855</td><td>601</td><td>06520001B</td><td>TRF185855.01</td><td>short-variant</td><td>NCOR1</td><td>unknown</td><td>NM_006311</td><td><span style=white-space:pre-wrap>Q1372H  </span></td><td><span style=white-space:pre-wrap>4116G&gt;C       </span></td><td>⋯</td><td>-</td><td>-</td><td>-</td><td>-</td><td>-</td><td>-</td><td>-</td><td>-</td><td>-</td><td>-</td></tr>\n",
       "</tbody>\n",
       "</table>\n"
      ],
      "text/latex": [
       "A data.frame: 6 × 25\n",
       "\\begin{tabular}{r|lllllllllllllllllllll}\n",
       "  & FMI.SAMPLE.ID & SUBJECT.ID & SAMPLE.ID & ALIQUOT & VARIANT.TYPE & GENE & SOMATIC.STATUS.FUNCTIONAL.IMPACT & TRANSCRIPT & SV.PROTEIN.CHANGE & SV.CDS.CHANGE & ⋯ & CNA.RATIO & CNA.TYPE & CNA.POS & REARR.GENE1 & REARR.GENE2 & REARR.DESCRIPTION & REARR.IN.FRAME. & REARR.POS1 & REARR.POS2 & REARR.NUMBER.OF.READS\\\\\n",
       "  & <chr> & <int> & <chr> & <chr> & <chr> & <chr> & <chr> & <chr> & <chr> & <chr> & ⋯ & <chr> & <chr> & <chr> & <chr> & <chr> & <chr> & <chr> & <chr> & <chr> & <chr>\\\\\n",
       "\\hline\n",
       "\t1 & TRF185855 & 601 & 06520001B & TRF185855.01 & short-variant & FANCG & likely  & NM\\_004629 & K618fs*3 & 1852\\_1853delAA & ⋯ & - & - & - & - & - & - & - & - & - & -\\\\\n",
       "\t2 & TRF185855 & 601 & 06520001B & TRF185855.01 & short-variant & ATR   & unknown & NM\\_001184 & V2620M   & 7858G>A        & ⋯ & - & - & - & - & - & - & - & - & - & -\\\\\n",
       "\t3 & TRF185855 & 601 & 06520001B & TRF185855.01 & short-variant & CDK12 & unknown & NM\\_016507 & A1289T   & 3865G>A        & ⋯ & - & - & - & - & - & - & - & - & - & -\\\\\n",
       "\t4 & TRF185855 & 601 & 06520001B & TRF185855.01 & short-variant & FAT1  & unknown & NM\\_005245 & A4419T   & 13255G>A       & ⋯ & - & - & - & - & - & - & - & - & - & -\\\\\n",
       "\t5 & TRF185855 & 601 & 06520001B & TRF185855.01 & short-variant & INHBA & unknown & NM\\_002192 & V210L    & 628G>C         & ⋯ & - & - & - & - & - & - & - & - & - & -\\\\\n",
       "\t6 & TRF185855 & 601 & 06520001B & TRF185855.01 & short-variant & NCOR1 & unknown & NM\\_006311 & Q1372H   & 4116G>C        & ⋯ & - & - & - & - & - & - & - & - & - & -\\\\\n",
       "\\end{tabular}\n"
      ],
      "text/markdown": [
       "\n",
       "A data.frame: 6 × 25\n",
       "\n",
       "| <!--/--> | FMI.SAMPLE.ID &lt;chr&gt; | SUBJECT.ID &lt;int&gt; | SAMPLE.ID &lt;chr&gt; | ALIQUOT &lt;chr&gt; | VARIANT.TYPE &lt;chr&gt; | GENE &lt;chr&gt; | SOMATIC.STATUS.FUNCTIONAL.IMPACT &lt;chr&gt; | TRANSCRIPT &lt;chr&gt; | SV.PROTEIN.CHANGE &lt;chr&gt; | SV.CDS.CHANGE &lt;chr&gt; | ⋯ ⋯ | CNA.RATIO &lt;chr&gt; | CNA.TYPE &lt;chr&gt; | CNA.POS &lt;chr&gt; | REARR.GENE1 &lt;chr&gt; | REARR.GENE2 &lt;chr&gt; | REARR.DESCRIPTION &lt;chr&gt; | REARR.IN.FRAME. &lt;chr&gt; | REARR.POS1 &lt;chr&gt; | REARR.POS2 &lt;chr&gt; | REARR.NUMBER.OF.READS &lt;chr&gt; |\n",
       "|---|---|---|---|---|---|---|---|---|---|---|---|---|---|---|---|---|---|---|---|---|---|\n",
       "| 1 | TRF185855 | 601 | 06520001B | TRF185855.01 | short-variant | FANCG | likely  | NM_004629 | K618fs*3 | 1852_1853delAA | ⋯ | - | - | - | - | - | - | - | - | - | - |\n",
       "| 2 | TRF185855 | 601 | 06520001B | TRF185855.01 | short-variant | ATR   | unknown | NM_001184 | V2620M   | 7858G&gt;A        | ⋯ | - | - | - | - | - | - | - | - | - | - |\n",
       "| 3 | TRF185855 | 601 | 06520001B | TRF185855.01 | short-variant | CDK12 | unknown | NM_016507 | A1289T   | 3865G&gt;A        | ⋯ | - | - | - | - | - | - | - | - | - | - |\n",
       "| 4 | TRF185855 | 601 | 06520001B | TRF185855.01 | short-variant | FAT1  | unknown | NM_005245 | A4419T   | 13255G&gt;A       | ⋯ | - | - | - | - | - | - | - | - | - | - |\n",
       "| 5 | TRF185855 | 601 | 06520001B | TRF185855.01 | short-variant | INHBA | unknown | NM_002192 | V210L    | 628G&gt;C         | ⋯ | - | - | - | - | - | - | - | - | - | - |\n",
       "| 6 | TRF185855 | 601 | 06520001B | TRF185855.01 | short-variant | NCOR1 | unknown | NM_006311 | Q1372H   | 4116G&gt;C        | ⋯ | - | - | - | - | - | - | - | - | - | - |\n",
       "\n"
      ],
      "text/plain": [
       "  FMI.SAMPLE.ID SUBJECT.ID SAMPLE.ID ALIQUOT      VARIANT.TYPE  GENE \n",
       "1 TRF185855     601        06520001B TRF185855.01 short-variant FANCG\n",
       "2 TRF185855     601        06520001B TRF185855.01 short-variant ATR  \n",
       "3 TRF185855     601        06520001B TRF185855.01 short-variant CDK12\n",
       "4 TRF185855     601        06520001B TRF185855.01 short-variant FAT1 \n",
       "5 TRF185855     601        06520001B TRF185855.01 short-variant INHBA\n",
       "6 TRF185855     601        06520001B TRF185855.01 short-variant NCOR1\n",
       "  SOMATIC.STATUS.FUNCTIONAL.IMPACT TRANSCRIPT SV.PROTEIN.CHANGE SV.CDS.CHANGE \n",
       "1 likely                           NM_004629  K618fs*3          1852_1853delAA\n",
       "2 unknown                          NM_001184  V2620M            7858G>A       \n",
       "3 unknown                          NM_016507  A1289T            3865G>A       \n",
       "4 unknown                          NM_005245  A4419T            13255G>A      \n",
       "5 unknown                          NM_002192  V210L             628G>C        \n",
       "6 unknown                          NM_006311  Q1372H            4116G>C       \n",
       "  ⋯ CNA.RATIO CNA.TYPE CNA.POS REARR.GENE1 REARR.GENE2 REARR.DESCRIPTION\n",
       "1 ⋯ -         -        -       -           -           -                \n",
       "2 ⋯ -         -        -       -           -           -                \n",
       "3 ⋯ -         -        -       -           -           -                \n",
       "4 ⋯ -         -        -       -           -           -                \n",
       "5 ⋯ -         -        -       -           -           -                \n",
       "6 ⋯ -         -        -       -           -           -                \n",
       "  REARR.IN.FRAME. REARR.POS1 REARR.POS2 REARR.NUMBER.OF.READS\n",
       "1 -               -          -          -                    \n",
       "2 -               -          -          -                    \n",
       "3 -               -          -          -                    \n",
       "4 -               -          -          -                    \n",
       "5 -               -          -          -                    \n",
       "6 -               -          -          -                    "
      ]
     },
     "metadata": {},
     "output_type": "display_data"
    }
   ],
   "source": [
    "head(f1)"
   ]
  },
  {
   "cell_type": "code",
   "execution_count": null,
   "metadata": {},
   "outputs": [],
   "source": []
  },
  {
   "cell_type": "markdown",
   "metadata": {},
   "source": [
    "Only those with fmi data"
   ]
  },
  {
   "cell_type": "code",
   "execution_count": 13,
   "metadata": {},
   "outputs": [],
   "source": [
    "metadata_f1 <- metadata[ !is.na(metadata$TMB_Score),]"
   ]
  },
  {
   "cell_type": "code",
   "execution_count": 14,
   "metadata": {},
   "outputs": [
    {
     "data": {
      "text/plain": [
       "   Min. 1st Qu.  Median    Mean 3rd Qu.    Max. \n",
       "  0.000   1.750   2.630   3.939   4.825  18.430 "
      ]
     },
     "metadata": {},
     "output_type": "display_data"
    }
   ],
   "source": [
    "summary(metadata_f1$TMB_Score)"
   ]
  },
  {
   "cell_type": "code",
   "execution_count": 15,
   "metadata": {},
   "outputs": [],
   "source": [
    "#recode 0 to 0.01 \n",
    "metadata_f1$TMB <- metadata_f1$TMB_Score\n",
    "metadata_f1$TMB[metadata_f1$TMB == 0] <- 0.01"
   ]
  },
  {
   "cell_type": "code",
   "execution_count": 16,
   "metadata": {},
   "outputs": [],
   "source": [
    "metadata_f1 <- metadata_f1[order(metadata_f1$cancer, metadata_f1$TMB),]"
   ]
  },
  {
   "cell_type": "code",
   "execution_count": 17,
   "metadata": {},
   "outputs": [
    {
     "data": {
      "text/html": [
       "<style>\n",
       ".list-inline {list-style: none; margin:0; padding: 0}\n",
       ".list-inline>li {display: inline-block}\n",
       ".list-inline>li:not(:last-child)::after {content: \"\\00b7\"; padding: 0 .5ex}\n",
       "</style>\n",
       "<ol class=list-inline><li>51</li><li>78</li></ol>\n"
      ],
      "text/latex": [
       "\\begin{enumerate*}\n",
       "\\item 51\n",
       "\\item 78\n",
       "\\end{enumerate*}\n"
      ],
      "text/markdown": [
       "1. 51\n",
       "2. 78\n",
       "\n",
       "\n"
      ],
      "text/plain": [
       "[1] 51 78"
      ]
     },
     "metadata": {},
     "output_type": "display_data"
    }
   ],
   "source": [
    "dim(metadata_f1)"
   ]
  },
  {
   "cell_type": "markdown",
   "metadata": {},
   "source": [
    "## TMB top annotation\n",
    "\n",
    "Make a top annotation for TMB log10 "
   ]
  },
  {
   "cell_type": "code",
   "execution_count": 18,
   "metadata": {},
   "outputs": [],
   "source": [
    "metadata_f1$log10TMB <- log10(metadata_f1$TMB)"
   ]
  },
  {
   "cell_type": "code",
   "execution_count": 19,
   "metadata": {},
   "outputs": [
    {
     "data": {
      "text/plain": [
       "   Min. 1st Qu.  Median    Mean 3rd Qu.    Max. \n",
       "-2.0000  0.2430  0.4200  0.3162  0.6817  1.2655 "
      ]
     },
     "metadata": {},
     "output_type": "display_data"
    }
   ],
   "source": [
    "summary(metadata_f1$log10TMB)"
   ]
  },
  {
   "cell_type": "code",
   "execution_count": 20,
   "metadata": {},
   "outputs": [],
   "source": [
    "TMB_ha = HeatmapAnnotation(TMB = anno_points(metadata_f1$log10TMB, height = unit(8,\"cm\"), size = unit(15, \"pt\"),\n",
    "                       axis_param = list(at = c(-2,-1,0, 1, 2),\n",
    "                                        labels = c(\"0.01\",\"0.1\", \"1\", \"10\", \"100\")\n",
    "                                        )\n",
    "                                        )\n",
    "                      )"
   ]
  },
  {
   "cell_type": "code",
   "execution_count": 21,
   "metadata": {},
   "outputs": [
    {
     "data": {
      "image/png": "[encoded data removed]",
      "text/plain": [
       "plot without title"
      ]
     },
     "metadata": {
      "image/png": {
       "height": 420,
       "width": 420
      }
     },
     "output_type": "display_data"
    }
   ],
   "source": [
    "draw(TMB_ha)"
   ]
  },
  {
   "cell_type": "markdown",
   "metadata": {},
   "source": [
    "## Heatmaps"
   ]
  },
  {
   "cell_type": "code",
   "execution_count": 22,
   "metadata": {},
   "outputs": [],
   "source": [
    "mycancer <- metadata_f1$cancer\n",
    "names(mycancer) <- metadata_f1$SAMPLE.ID\n",
    "mycancer <- t(as.matrix(mycancer))\n",
    "rownames(mycancer) <- \"Cancer group\"\n",
    "\n",
    "cancer_hm <- cancer_hm.fx(mycancer)"
   ]
  },
  {
   "cell_type": "code",
   "execution_count": 23,
   "metadata": {},
   "outputs": [],
   "source": [
    "mytype <- metadata_f1$tumor_type\n",
    "names(mytype) <- metadata_f1$SAMPLE.ID\n",
    "mytype <- t(as.matrix(mytype))\n",
    "rownames(mytype) <- \"Primary/Metastatic\"\n",
    "\n",
    "type_hm <- type_hm.fx(mytype)"
   ]
  },
  {
   "cell_type": "code",
   "execution_count": null,
   "metadata": {},
   "outputs": [],
   "source": []
  },
  {
   "cell_type": "code",
   "execution_count": 24,
   "metadata": {},
   "outputs": [],
   "source": [
    "#include NHL and HL\n",
    "metadata_f1$disease_group[ metadata_f1$COHORT == \"Cohort 4 (NON HODGKIN LYMPHOMA)\"] <- \"NHL\"\n",
    "\n",
    "metadata_f1$disease_group[ metadata_f1$COHORT == \"Cohort 2 (HODGKIN LYMPHOMA)\"] <- \"HL\""
   ]
  },
  {
   "cell_type": "code",
   "execution_count": 25,
   "metadata": {},
   "outputs": [],
   "source": [
    "mycancers <- metadata_f1$disease_group\n",
    "names(mycancers) <- metadata_f1$SAMPLE.ID\n",
    "mycancers <- t(as.matrix(mycancers))\n",
    "rownames(mycancers) <- \"Cohort\"\n",
    "\n",
    "cohort_hm <- cohorts_hm.fx(mycancers)"
   ]
  },
  {
   "cell_type": "code",
   "execution_count": 26,
   "metadata": {},
   "outputs": [],
   "source": [
    "myresponse <- metadata_f1$AVALC\n",
    "names(myresponse) <- metadata_f1$SAMPLE.ID\n",
    "myresponse <- t(as.matrix(myresponse))\n",
    "rownames(myresponse) <- \"Objective response\"\n",
    "\n",
    "response_hm <- response_hm.fx(myresponse)"
   ]
  },
  {
   "cell_type": "markdown",
   "metadata": {},
   "source": [
    "## Oncoprint"
   ]
  },
  {
   "cell_type": "code",
   "execution_count": 27,
   "metadata": {},
   "outputs": [
    {
     "data": {
      "text/plain": [
       "\n",
       "copy-number-alteration          rearrangement          short-variant \n",
       "                    66                     20                    606 "
      ]
     },
     "metadata": {},
     "output_type": "display_data"
    }
   ],
   "source": [
    "table(f1$VARIANT.TYPE)"
   ]
  },
  {
   "cell_type": "code",
   "execution_count": 28,
   "metadata": {
    "scrolled": true
   },
   "outputs": [
    {
     "data": {
      "text/html": [
       "60"
      ],
      "text/latex": [
       "60"
      ],
      "text/markdown": [
       "60"
      ],
      "text/plain": [
       "[1] 60"
      ]
     },
     "metadata": {},
     "output_type": "display_data"
    }
   ],
   "source": [
    "length(unique(f1$SAMPLE.ID))"
   ]
  },
  {
   "cell_type": "code",
   "execution_count": 29,
   "metadata": {},
   "outputs": [],
   "source": [
    "f1 <- f1[ f1$SAMPLE.ID %in% metadata_f1$SAMPLE.ID,]"
   ]
  },
  {
   "cell_type": "code",
   "execution_count": 30,
   "metadata": {},
   "outputs": [
    {
     "data": {
      "text/html": [
       "51"
      ],
      "text/latex": [
       "51"
      ],
      "text/markdown": [
       "51"
      ],
      "text/plain": [
       "[1] 51"
      ]
     },
     "metadata": {},
     "output_type": "display_data"
    }
   ],
   "source": [
    "length(unique(f1$SAMPLE.ID))"
   ]
  },
  {
   "cell_type": "code",
   "execution_count": 31,
   "metadata": {},
   "outputs": [],
   "source": [
    "oncomat <- matrix(ncol = nrow(metadata_f1), nrow = length(unique(f1$GENE)))\n",
    "colnames(oncomat) <- metadata_f1$SAMPLE.ID\n",
    "rownames(oncomat) <- unique(f1$GENE)"
   ]
  },
  {
   "cell_type": "code",
   "execution_count": 32,
   "metadata": {},
   "outputs": [],
   "source": [
    "for(i in 1:ncol(oncomat)){\n",
    "    mysampleid <- colnames(oncomat)[i]\n",
    "    mygenes <- f1[f1$SAMPLE.ID == mysampleid,]\n",
    "    oncomat[,i] <- mygenes$VARIANT.TYPE[match(rownames(oncomat),mygenes$GENE)]\n",
    "    }"
   ]
  },
  {
   "cell_type": "markdown",
   "metadata": {},
   "source": [
    "Remove genes with <= 5 alterations"
   ]
  },
  {
   "cell_type": "code",
   "execution_count": 33,
   "metadata": {},
   "outputs": [],
   "source": [
    "oncomat <- oncomat[rowSums(!is.na(oncomat)) > 4, ]"
   ]
  },
  {
   "cell_type": "code",
   "execution_count": 34,
   "metadata": {},
   "outputs": [
    {
     "data": {
      "text/html": [
       "<style>\n",
       ".list-inline {list-style: none; margin:0; padding: 0}\n",
       ".list-inline>li {display: inline-block}\n",
       ".list-inline>li:not(:last-child)::after {content: \"\\00b7\"; padding: 0 .5ex}\n",
       "</style>\n",
       "<ol class=list-inline><li>25</li><li>51</li></ol>\n"
      ],
      "text/latex": [
       "\\begin{enumerate*}\n",
       "\\item 25\n",
       "\\item 51\n",
       "\\end{enumerate*}\n"
      ],
      "text/markdown": [
       "1. 25\n",
       "2. 51\n",
       "\n",
       "\n"
      ],
      "text/plain": [
       "[1] 25 51"
      ]
     },
     "metadata": {},
     "output_type": "display_data"
    }
   ],
   "source": [
    "dim(oncomat)"
   ]
  },
  {
   "cell_type": "code",
   "execution_count": 35,
   "metadata": {},
   "outputs": [
    {
     "data": {
      "text/html": [
       "<style>\n",
       ".dl-inline {width: auto; margin:0; padding: 0}\n",
       ".dl-inline>dt, .dl-inline>dd {float: none; width: auto; display: inline-block}\n",
       ".dl-inline>dt::after {content: \":\\0020\"; padding-right: .5ex}\n",
       ".dl-inline>dt:not(:first-of-type) {padding-left: .5ex}\n",
       "</style><dl class=dl-inline><dt>06520094C</dt><dd>NA</dd><dt>06520100B</dt><dd>NA</dd><dt>06520060B</dt><dd>NA</dd><dt>06520004C</dt><dd>NA</dd><dt>06520090C</dt><dd>NA</dd><dt>06520033C</dt><dd>NA</dd><dt>06520097B</dt><dd>NA</dd><dt>06520067C</dt><dd>NA</dd><dt>06520091B</dt><dd>NA</dd><dt>06520011B</dt><dd>NA</dd><dt>06520055C</dt><dd>NA</dd><dt>06520058C</dt><dd>NA</dd><dt>06520070C</dt><dd>NA</dd><dt>06520095B</dt><dd>NA</dd><dt>06520001B</dt><dd>'rearrangement'</dd><dt>06520019C</dt><dd>NA</dd><dt>06520020C</dt><dd>NA</dd><dt>06520026C</dt><dd>NA</dd><dt>06520037C</dt><dd>NA</dd><dt>06520103C</dt><dd>'short-variant'</dd><dt>06520010B</dt><dd>NA</dd><dt>06520017C</dt><dd>NA</dd><dt>06520018C</dt><dd>NA</dd><dt>06520022C</dt><dd>NA</dd><dt>06520023C</dt><dd>NA</dd><dt>06520046C</dt><dd>NA</dd><dt>06520049C</dt><dd>NA</dd><dt>06520069C</dt><dd>NA</dd><dt>06520071C</dt><dd>NA</dd><dt>06520078C</dt><dd>'short-variant'</dd><dt>06520105C</dt><dd>NA</dd><dt>06520110C</dt><dd>NA</dd><dt>06520007C</dt><dd>NA</dd><dt>06520068B</dt><dd>NA</dd><dt>06520059B</dt><dd>NA</dd><dt>06520072C</dt><dd>NA</dd><dt>06520075C</dt><dd>NA</dd><dt>06520082C</dt><dd>NA</dd><dt>06520104C</dt><dd>'short-variant'</dd><dt>06520031C</dt><dd>'copy-number-alteration'</dd><dt>06520051C</dt><dd>'short-variant'</dd><dt>06520052C</dt><dd>NA</dd><dt>06520029C</dt><dd>NA</dd><dt>06520080B</dt><dd>NA</dd><dt>06520030C</dt><dd>NA</dd><dt>06520042B</dt><dd>'short-variant'</dd><dt>06520106C</dt><dd>'short-variant'</dd><dt>06520005C</dt><dd>NA</dd><dt>06520038B</dt><dd>NA</dd><dt>06520047C</dt><dd>NA</dd><dt>06520045C</dt><dd>NA</dd></dl>\n"
      ],
      "text/latex": [
       "\\begin{description*}\n",
       "\\item[06520094C] NA\n",
       "\\item[06520100B] NA\n",
       "\\item[06520060B] NA\n",
       "\\item[06520004C] NA\n",
       "\\item[06520090C] NA\n",
       "\\item[06520033C] NA\n",
       "\\item[06520097B] NA\n",
       "\\item[06520067C] NA\n",
       "\\item[06520091B] NA\n",
       "\\item[06520011B] NA\n",
       "\\item[06520055C] NA\n",
       "\\item[06520058C] NA\n",
       "\\item[06520070C] NA\n",
       "\\item[06520095B] NA\n",
       "\\item[06520001B] 'rearrangement'\n",
       "\\item[06520019C] NA\n",
       "\\item[06520020C] NA\n",
       "\\item[06520026C] NA\n",
       "\\item[06520037C] NA\n",
       "\\item[06520103C] 'short-variant'\n",
       "\\item[06520010B] NA\n",
       "\\item[06520017C] NA\n",
       "\\item[06520018C] NA\n",
       "\\item[06520022C] NA\n",
       "\\item[06520023C] NA\n",
       "\\item[06520046C] NA\n",
       "\\item[06520049C] NA\n",
       "\\item[06520069C] NA\n",
       "\\item[06520071C] NA\n",
       "\\item[06520078C] 'short-variant'\n",
       "\\item[06520105C] NA\n",
       "\\item[06520110C] NA\n",
       "\\item[06520007C] NA\n",
       "\\item[06520068B] NA\n",
       "\\item[06520059B] NA\n",
       "\\item[06520072C] NA\n",
       "\\item[06520075C] NA\n",
       "\\item[06520082C] NA\n",
       "\\item[06520104C] 'short-variant'\n",
       "\\item[06520031C] 'copy-number-alteration'\n",
       "\\item[06520051C] 'short-variant'\n",
       "\\item[06520052C] NA\n",
       "\\item[06520029C] NA\n",
       "\\item[06520080B] NA\n",
       "\\item[06520030C] NA\n",
       "\\item[06520042B] 'short-variant'\n",
       "\\item[06520106C] 'short-variant'\n",
       "\\item[06520005C] NA\n",
       "\\item[06520038B] NA\n",
       "\\item[06520047C] NA\n",
       "\\item[06520045C] NA\n",
       "\\end{description*}\n"
      ],
      "text/markdown": [
       "06520094C\n",
       ":   NA06520100B\n",
       ":   NA06520060B\n",
       ":   NA06520004C\n",
       ":   NA06520090C\n",
       ":   NA06520033C\n",
       ":   NA06520097B\n",
       ":   NA06520067C\n",
       ":   NA06520091B\n",
       ":   NA06520011B\n",
       ":   NA06520055C\n",
       ":   NA06520058C\n",
       ":   NA06520070C\n",
       ":   NA06520095B\n",
       ":   NA06520001B\n",
       ":   'rearrangement'06520019C\n",
       ":   NA06520020C\n",
       ":   NA06520026C\n",
       ":   NA06520037C\n",
       ":   NA06520103C\n",
       ":   'short-variant'06520010B\n",
       ":   NA06520017C\n",
       ":   NA06520018C\n",
       ":   NA06520022C\n",
       ":   NA06520023C\n",
       ":   NA06520046C\n",
       ":   NA06520049C\n",
       ":   NA06520069C\n",
       ":   NA06520071C\n",
       ":   NA06520078C\n",
       ":   'short-variant'06520105C\n",
       ":   NA06520110C\n",
       ":   NA06520007C\n",
       ":   NA06520068B\n",
       ":   NA06520059B\n",
       ":   NA06520072C\n",
       ":   NA06520075C\n",
       ":   NA06520082C\n",
       ":   NA06520104C\n",
       ":   'short-variant'06520031C\n",
       ":   'copy-number-alteration'06520051C\n",
       ":   'short-variant'06520052C\n",
       ":   NA06520029C\n",
       ":   NA06520080B\n",
       ":   NA06520030C\n",
       ":   NA06520042B\n",
       ":   'short-variant'06520106C\n",
       ":   'short-variant'06520005C\n",
       ":   NA06520038B\n",
       ":   NA06520047C\n",
       ":   NA06520045C\n",
       ":   NA\n",
       "\n"
      ],
      "text/plain": [
       "               06520094C                06520100B                06520060B \n",
       "                      NA                       NA                       NA \n",
       "               06520004C                06520090C                06520033C \n",
       "                      NA                       NA                       NA \n",
       "               06520097B                06520067C                06520091B \n",
       "                      NA                       NA                       NA \n",
       "               06520011B                06520055C                06520058C \n",
       "                      NA                       NA                       NA \n",
       "               06520070C                06520095B                06520001B \n",
       "                      NA                       NA          \"rearrangement\" \n",
       "               06520019C                06520020C                06520026C \n",
       "                      NA                       NA                       NA \n",
       "               06520037C                06520103C                06520010B \n",
       "                      NA          \"short-variant\"                       NA \n",
       "               06520017C                06520018C                06520022C \n",
       "                      NA                       NA                       NA \n",
       "               06520023C                06520046C                06520049C \n",
       "                      NA                       NA                       NA \n",
       "               06520069C                06520071C                06520078C \n",
       "                      NA                       NA          \"short-variant\" \n",
       "               06520105C                06520110C                06520007C \n",
       "                      NA                       NA                       NA \n",
       "               06520068B                06520059B                06520072C \n",
       "                      NA                       NA                       NA \n",
       "               06520075C                06520082C                06520104C \n",
       "                      NA                       NA          \"short-variant\" \n",
       "               06520031C                06520051C                06520052C \n",
       "\"copy-number-alteration\"          \"short-variant\"                       NA \n",
       "               06520029C                06520080B                06520030C \n",
       "                      NA                       NA                       NA \n",
       "               06520042B                06520106C                06520005C \n",
       "         \"short-variant\"          \"short-variant\"                       NA \n",
       "               06520038B                06520047C                06520045C \n",
       "                      NA                       NA                       NA "
      ]
     },
     "metadata": {},
     "output_type": "display_data"
    }
   ],
   "source": [
    "oncomat[3,]"
   ]
  },
  {
   "cell_type": "code",
   "execution_count": 36,
   "metadata": {},
   "outputs": [],
   "source": [
    "oncomat[is.na(oncomat)] <- \"\""
   ]
  },
  {
   "cell_type": "code",
   "execution_count": 37,
   "metadata": {},
   "outputs": [],
   "source": [
    "col = c(\"short-variant\" = \"#e41a1c\", \n",
    "        \"rearrangement\" = \"#377eb8\",\n",
    "        \"copy-number-alteration\" = \"#984ea3\")"
   ]
  },
  {
   "cell_type": "code",
   "execution_count": 38,
   "metadata": {},
   "outputs": [],
   "source": [
    "alter_fun = list(\n",
    "    background = function(x, y, w, h){\n",
    "      grid.rect(x, y, w, h, \n",
    "                gp = gpar(fill = \"#e3e4e7\",\n",
    "                          col = NA))},\n",
    "    \"short-variant\" = function(x, y, w, h){\n",
    "      grid.rect(x, y, w*0.9, h*0.9, \n",
    "                gp = gpar(fill = col[\"short-variant\"], \n",
    "                          col = NA))},\n",
    "    \"rearrangement\" = function(x, y, w, h){ \n",
    "      grid.rect(x, y, w*0.9, h*0.9, \n",
    "                gp = gpar(fill = col[\"rearrangement\"], \n",
    "                          col = NA))},\n",
    "    \"copy-number-alteration\" = function(x,y,w,h){ \n",
    "      grid.rect(x,y,w*0.9,h*0.9, \n",
    "                gp = gpar(fill = col[\"copy-number-alteration\"], \n",
    "                          col = NA))}\n",
    "  )"
   ]
  },
  {
   "cell_type": "code",
   "execution_count": 39,
   "metadata": {},
   "outputs": [
    {
     "name": "stderr",
     "output_type": "stream",
     "text": [
      "All mutation types: short-variant, rearrangement,\n",
      "copy-number-alteration.\n",
      "\n",
      "`alter_fun` is assumed vectorizable. If it does not generate correct\n",
      "plot, please set `alter_fun_is_vectorized = FALSE` in `oncoPrint()`.\n",
      "\n"
     ]
    }
   ],
   "source": [
    "onco = oncoPrint(oncomat,\n",
    "                 alter_fun = alter_fun,\n",
    "                 col = col, \n",
    "                 top_annotation = NULL,\n",
    "                 height = unit(25, \"cm\"),\n",
    "                 column_order = metadata_f1$SAMPLE.ID,\n",
    "                 show_heatmap_legend = TRUE,\n",
    "                 show_column_names = TRUE,\n",
    "                 row_names_gp = gpar(fontsize = 20),\n",
    "                 remove_empty_rows = TRUE,\n",
    "                 show_pct = TRUE, \n",
    "                 pct_gp = gpar(fontsize = 20),\n",
    "                 right_annotation = NULL) "
   ]
  },
  {
   "cell_type": "code",
   "execution_count": 40,
   "metadata": {},
   "outputs": [
    {
     "data": {
      "image/png": "[encoded data removed]",
      "text/plain": [
       "plot without title"
      ]
     },
     "metadata": {
      "image/png": {
       "height": 420,
       "width": 420
      }
     },
     "output_type": "display_data"
    }
   ],
   "source": [
    "onco"
   ]
  },
  {
   "cell_type": "code",
   "execution_count": 41,
   "metadata": {},
   "outputs": [
    {
     "data": {
      "text/html": [
       "<strong>pdf:</strong> 2"
      ],
      "text/latex": [
       "\\textbf{pdf:} 2"
      ],
      "text/markdown": [
       "**pdf:** 2"
      ],
      "text/plain": [
       "pdf \n",
       "  2 "
      ]
     },
     "metadata": {},
     "output_type": "display_data"
    }
   ],
   "source": [
    "pdf(file = paste0(plotpath,\"oncoprint.pdf\"),\n",
    "        width = 25, \n",
    "        height = 40,\n",
    "        useDingbats = FALSE)\n",
    "draw(TMB_ha %v% onco %v% cohort_hm %v% type_hm %v% response_hm)\n",
    "dev.off()"
   ]
  },
  {
   "cell_type": "code",
   "execution_count": null,
   "metadata": {},
   "outputs": [],
   "source": []
  }
 ],
 "metadata": {
  "kernelspec": {
   "display_name": "R 4.0",
   "language": "R",
   "name": "ir40"
  },
  "language_info": {
   "codemirror_mode": "r",
   "file_extension": ".r",
   "mimetype": "text/x-r-source",
   "name": "R",
   "pygments_lexer": "r",
   "version": "4.0.3"
  },
  "toc": {
   "base_numbering": 1,
   "nav_menu": {},
   "number_sections": false,
   "sideBar": true,
   "skip_h1_title": false,
   "title_cell": "Table of Contents",
   "title_sidebar": "Contents",
   "toc_cell": true,
   "toc_position": {
    "height": "calc(100% - 180px)",
    "left": "10px",
    "top": "150px",
    "width": "189.771px"
   },
   "toc_section_display": true,
   "toc_window_display": false
  }
 },
 "nbformat": 4,
 "nbformat_minor": 2
}
