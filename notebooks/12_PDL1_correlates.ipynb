{
 "cells": [
  {
   "cell_type": "markdown",
   "metadata": {
    "toc": true
   },
   "source": [
    "<h1>Table of Contents<span class=\"tocSkip\"></span></h1>\n",
    "<div class=\"toc\"><ul class=\"toc-item\"><li><span><a href=\"#Dependencies\" data-toc-modified-id=\"Dependencies-1\">Dependencies</a></span></li><li><span><a href=\"#Functions\" data-toc-modified-id=\"Functions-2\">Functions</a></span></li><li><span><a href=\"#Paths\" data-toc-modified-id=\"Paths-3\">Paths</a></span></li><li><span><a href=\"#Main\" data-toc-modified-id=\"Main-4\">Main</a></span></li><li><span><a href=\"#IHC\" data-toc-modified-id=\"IHC-5\">IHC</a></span><ul class=\"toc-item\"><li><span><a href=\"#KM\" data-toc-modified-id=\"KM-5.1\">KM</a></span></li><li><span><a href=\"#Cox\" data-toc-modified-id=\"Cox-5.2\">Cox</a></span></li></ul></li><li><span><a href=\"#Gene-expression\" data-toc-modified-id=\"Gene-expression-6\">Gene expression</a></span><ul class=\"toc-item\"><li><span><a href=\"#KM\" data-toc-modified-id=\"KM-6.1\">KM</a></span></li><li><span><a href=\"#Cox\" data-toc-modified-id=\"Cox-6.2\">Cox</a></span></li></ul></li></ul></div>"
   ]
  },
  {
   "cell_type": "markdown",
   "metadata": {},
   "source": [
    "# Dependencies"
   ]
  },
  {
   "cell_type": "code",
   "execution_count": 1,
   "metadata": {
    "scrolled": true
   },
   "outputs": [
    {
     "name": "stderr",
     "output_type": "stream",
     "text": [
      "Loading required package: ggpubr\n",
      "\n"
     ]
    }
   ],
   "source": [
    "library(ggplot2)\n",
    "library(survival)\n",
    "library(survminer)\n",
    "library(forestmodel)"
   ]
  },
  {
   "cell_type": "markdown",
   "metadata": {},
   "source": [
    "# Functions"
   ]
  },
  {
   "cell_type": "code",
   "execution_count": 2,
   "metadata": {},
   "outputs": [],
   "source": [
    "source(\"~/OneDrive - UHN/R_src//ggplot2_theme.R\")"
   ]
  },
  {
   "cell_type": "markdown",
   "metadata": {},
   "source": [
    "# Paths"
   ]
  },
  {
   "cell_type": "code",
   "execution_count": 3,
   "metadata": {},
   "outputs": [],
   "source": [
    "datapath <- \"/Users/anabbi/OneDrive - UHN/Documents/INDICATE/Data/\"\n",
    "plotpath <- \"/Users/anabbi/OneDrive - UHN/Documents/INDICATE/Plots/\""
   ]
  },
  {
   "cell_type": "markdown",
   "metadata": {},
   "source": [
    "# Main"
   ]
  },
  {
   "cell_type": "code",
   "execution_count": 4,
   "metadata": {},
   "outputs": [],
   "source": [
    "metadata <- read.csv(file.path(datapath,\"IND_estimate_metadata_IHC_trb_tmb.csv\"),header = T, stringsAsFactors = F, \n",
    "                     check.names = F)"
   ]
  },
  {
   "cell_type": "code",
   "execution_count": 5,
   "metadata": {},
   "outputs": [
    {
     "data": {
      "text/plain": [
       "\n",
       "     EWS Lymphoma      NBL       OS   Others      RMS       RT     SARC \n",
       "       6       11        9        8        8        8        4        6 \n",
       "   WILMS \n",
       "       6 "
      ]
     },
     "metadata": {},
     "output_type": "display_data"
    }
   ],
   "source": [
    "table(metadata$disease_group)"
   ]
  },
  {
   "cell_type": "code",
   "execution_count": 6,
   "metadata": {},
   "outputs": [
    {
     "data": {
      "text/plain": [
       "\n",
       "         Adrenal gland                   Bone                  Brain \n",
       "                     5                      7                      5 \n",
       "Connective/Soft tissue                 Kidney                   Lung \n",
       "                    10                      5                     11 \n",
       "            Lymph node                 Others \n",
       "                    11                     12 "
      ]
     },
     "metadata": {},
     "output_type": "display_data"
    }
   ],
   "source": [
    "table(metadata$sample_origin)"
   ]
  },
  {
   "cell_type": "code",
   "execution_count": 7,
   "metadata": {
    "scrolled": true
   },
   "outputs": [
    {
     "data": {
      "text/plain": [
       "   Min. 1st Qu.  Median    Mean 3rd Qu.    Max.    NA's \n",
       "  0.000   0.000   0.500   5.177   1.000  60.000       4 "
      ]
     },
     "metadata": {},
     "output_type": "display_data"
    },
    {
     "data": {
      "text/plain": [
       "   Min. 1st Qu.  Median    Mean 3rd Qu.    Max.    NA's \n",
       "    0.0     0.0     0.0    10.3     0.0   100.0       5 "
      ]
     },
     "metadata": {},
     "output_type": "display_data"
    }
   ],
   "source": [
    "summary(metadata$IHC_PDL1IC)\n",
    "\n",
    "summary(metadata$IHC_PDL1TC)"
   ]
  },
  {
   "cell_type": "code",
   "execution_count": 8,
   "metadata": {},
   "outputs": [
    {
     "data": {
      "text/html": [
       "<table class=\"dataframe\">\n",
       "<caption>A data.frame: 11 × 2</caption>\n",
       "<thead>\n",
       "\t<tr><th></th><th scope=col>disease_group</th><th scope=col>IHC_PDL1TC</th></tr>\n",
       "\t<tr><th></th><th scope=col>&lt;chr&gt;</th><th scope=col>&lt;dbl&gt;</th></tr>\n",
       "</thead>\n",
       "<tbody>\n",
       "\t<tr><th scope=row>2</th><td>Lymphoma</td><td> 50</td></tr>\n",
       "\t<tr><th scope=row>3</th><td>Lymphoma</td><td> 50</td></tr>\n",
       "\t<tr><th scope=row>23</th><td>Lymphoma</td><td>100</td></tr>\n",
       "\t<tr><th scope=row>35</th><td>Lymphoma</td><td> 10</td></tr>\n",
       "\t<tr><th scope=row>39</th><td>Lymphoma</td><td> 13</td></tr>\n",
       "\t<tr><th scope=row>52</th><td>Lymphoma</td><td>100</td></tr>\n",
       "\t<tr><th scope=row>55</th><td>Lymphoma</td><td> NA</td></tr>\n",
       "\t<tr><th scope=row>56</th><td>Lymphoma</td><td> 80</td></tr>\n",
       "\t<tr><th scope=row>58</th><td>Lymphoma</td><td>  0</td></tr>\n",
       "\t<tr><th scope=row>59</th><td>Lymphoma</td><td> 95</td></tr>\n",
       "\t<tr><th scope=row>60</th><td>Lymphoma</td><td> 45</td></tr>\n",
       "</tbody>\n",
       "</table>\n"
      ],
      "text/latex": [
       "A data.frame: 11 × 2\n",
       "\\begin{tabular}{r|ll}\n",
       "  & disease\\_group & IHC\\_PDL1TC\\\\\n",
       "  & <chr> & <dbl>\\\\\n",
       "\\hline\n",
       "\t2 & Lymphoma &  50\\\\\n",
       "\t3 & Lymphoma &  50\\\\\n",
       "\t23 & Lymphoma & 100\\\\\n",
       "\t35 & Lymphoma &  10\\\\\n",
       "\t39 & Lymphoma &  13\\\\\n",
       "\t52 & Lymphoma & 100\\\\\n",
       "\t55 & Lymphoma &  NA\\\\\n",
       "\t56 & Lymphoma &  80\\\\\n",
       "\t58 & Lymphoma &   0\\\\\n",
       "\t59 & Lymphoma &  95\\\\\n",
       "\t60 & Lymphoma &  45\\\\\n",
       "\\end{tabular}\n"
      ],
      "text/markdown": [
       "\n",
       "A data.frame: 11 × 2\n",
       "\n",
       "| <!--/--> | disease_group &lt;chr&gt; | IHC_PDL1TC &lt;dbl&gt; |\n",
       "|---|---|---|\n",
       "| 2 | Lymphoma |  50 |\n",
       "| 3 | Lymphoma |  50 |\n",
       "| 23 | Lymphoma | 100 |\n",
       "| 35 | Lymphoma |  10 |\n",
       "| 39 | Lymphoma |  13 |\n",
       "| 52 | Lymphoma | 100 |\n",
       "| 55 | Lymphoma |  NA |\n",
       "| 56 | Lymphoma |  80 |\n",
       "| 58 | Lymphoma |   0 |\n",
       "| 59 | Lymphoma |  95 |\n",
       "| 60 | Lymphoma |  45 |\n",
       "\n"
      ],
      "text/plain": [
       "   disease_group IHC_PDL1TC\n",
       "2  Lymphoma       50       \n",
       "3  Lymphoma       50       \n",
       "23 Lymphoma      100       \n",
       "35 Lymphoma       10       \n",
       "39 Lymphoma       13       \n",
       "52 Lymphoma      100       \n",
       "55 Lymphoma       NA       \n",
       "56 Lymphoma       80       \n",
       "58 Lymphoma        0       \n",
       "59 Lymphoma       95       \n",
       "60 Lymphoma       45       "
      ]
     },
     "metadata": {},
     "output_type": "display_data"
    }
   ],
   "source": [
    "metadata[ metadata$disease_group == \"Lymphoma\",c(\"disease_group\", \"IHC_PDL1TC\")]"
   ]
  },
  {
   "cell_type": "code",
   "execution_count": 9,
   "metadata": {},
   "outputs": [
    {
     "data": {
      "text/plain": [
       "   Min. 1st Qu.  Median    Mean 3rd Qu.    Max.    NA's \n",
       "  0.000   0.000   0.500   5.177   1.000  60.000       4 "
      ]
     },
     "metadata": {},
     "output_type": "display_data"
    }
   ],
   "source": [
    "summary(metadata$IHC_PDL1IC)"
   ]
  },
  {
   "cell_type": "code",
   "execution_count": 10,
   "metadata": {},
   "outputs": [
    {
     "data": {
      "text/plain": [
       "$Lymphoma\n",
       "   Min. 1st Qu.  Median    Mean 3rd Qu.    Max. \n",
       "   0.50   15.00   15.00   26.86   45.00   60.00 \n",
       "\n",
       "$`Solid tumour`\n",
       "   Min. 1st Qu.  Median    Mean 3rd Qu.    Max.    NA's \n",
       "    0.0     0.0     0.5     0.5     0.5     5.0       4 \n"
      ]
     },
     "metadata": {},
     "output_type": "display_data"
    }
   ],
   "source": [
    "tapply(metadata$IHC_PDL1IC , metadata$cancer, summary)"
   ]
  },
  {
   "cell_type": "code",
   "execution_count": 11,
   "metadata": {},
   "outputs": [
    {
     "data": {
      "text/plain": [
       "\n",
       "\tWelch Two Sample t-test\n",
       "\n",
       "data:  metadata$IHC_PDL1IC by metadata$cancer\n",
       "t = 4.2725, df = 10.006, p-value = 0.001628\n",
       "alternative hypothesis: true difference in means is not equal to 0\n",
       "95 percent confidence interval:\n",
       " 12.61589 40.11138\n",
       "sample estimates:\n",
       "    mean in group Lymphoma mean in group Solid tumour \n",
       "                  26.86364                    0.50000 \n"
      ]
     },
     "metadata": {},
     "output_type": "display_data"
    }
   ],
   "source": [
    "t.test(metadata$IHC_PDL1IC ~ metadata$cancer)"
   ]
  },
  {
   "cell_type": "code",
   "execution_count": 12,
   "metadata": {
    "scrolled": false
   },
   "outputs": [
    {
     "data": {
      "text/plain": [
       "$EWS\n",
       "   Min. 1st Qu.  Median    Mean 3rd Qu.    Max.    NA's \n",
       "    0.0     0.0     0.0     0.2     0.5     0.5       1 \n",
       "\n",
       "$Lymphoma\n",
       "   Min. 1st Qu.  Median    Mean 3rd Qu.    Max. \n",
       "   0.50   15.00   15.00   26.86   45.00   60.00 \n",
       "\n",
       "$NBL\n",
       "   Min. 1st Qu.  Median    Mean 3rd Qu.    Max.    NA's \n",
       " 0.0000  0.0000  0.5000  0.3125  0.5000  0.5000       1 \n",
       "\n",
       "$OS\n",
       "   Min. 1st Qu.  Median    Mean 3rd Qu.    Max.    NA's \n",
       "    0.0     0.0     0.5     0.5     0.5     2.0       1 \n",
       "\n",
       "$Others\n",
       "   Min. 1st Qu.  Median    Mean 3rd Qu.    Max. \n",
       "  0.000   0.375   0.500   0.500   0.625   1.000 \n",
       "\n",
       "$RMS\n",
       "   Min. 1st Qu.  Median    Mean 3rd Qu.    Max. \n",
       "   0.00    0.00    0.00    0.25    0.50    1.00 \n",
       "\n",
       "$RT\n",
       "   Min. 1st Qu.  Median    Mean 3rd Qu.    Max. \n",
       "  0.500   0.500   0.500   1.625   1.625   5.000 \n",
       "\n",
       "$SARC\n",
       "   Min. 1st Qu.  Median    Mean 3rd Qu.    Max.    NA's \n",
       "    0.0     0.5     0.5     0.5     0.5     1.0       1 \n",
       "\n",
       "$WILMS\n",
       "   Min. 1st Qu.  Median    Mean 3rd Qu.    Max. \n",
       " 0.0000  0.0000  0.2500  0.5833  0.8750  2.0000 \n"
      ]
     },
     "metadata": {},
     "output_type": "display_data"
    }
   ],
   "source": [
    "tapply(metadata$IHC_PDL1IC , metadata$disease_group, summary)"
   ]
  },
  {
   "cell_type": "code",
   "execution_count": 13,
   "metadata": {},
   "outputs": [
    {
     "data": {
      "text/plain": [
       "\n",
       "  0 0.5  10  13  15  45  50  70  80  95 100 \n",
       " 49   1   1   1   1   1   2   1   1   1   2 "
      ]
     },
     "metadata": {},
     "output_type": "display_data"
    }
   ],
   "source": [
    "table(metadata$IHC_PDL1TC )"
   ]
  },
  {
   "cell_type": "code",
   "execution_count": 14,
   "metadata": {},
   "outputs": [
    {
     "data": {
      "text/plain": [
       "$Lymphoma\n",
       "   Min. 1st Qu.  Median    Mean 3rd Qu.    Max.    NA's \n",
       "   0.00   21.00   50.00   54.30   91.25  100.00       1 \n",
       "\n",
       "$`Solid tumour`\n",
       "   Min. 1st Qu.  Median    Mean 3rd Qu.    Max.    NA's \n",
       "  0.000   0.000   0.000   1.676   0.000  70.000       4 \n"
      ]
     },
     "metadata": {},
     "output_type": "display_data"
    }
   ],
   "source": [
    "tapply(metadata$IHC_PDL1TC , metadata$cancer, summary)"
   ]
  },
  {
   "cell_type": "code",
   "execution_count": 15,
   "metadata": {},
   "outputs": [
    {
     "data": {
      "text/plain": [
       "\n",
       "\tWelch Two Sample t-test\n",
       "\n",
       "data:  metadata$IHC_PDL1TC by metadata$cancer\n",
       "t = 4.3111, df = 9.2404, p-value = 0.001842\n",
       "alternative hypothesis: true difference in means is not equal to 0\n",
       "95 percent confidence interval:\n",
       " 25.11959 80.12746\n",
       "sample estimates:\n",
       "    mean in group Lymphoma mean in group Solid tumour \n",
       "                 54.300000                   1.676471 \n"
      ]
     },
     "metadata": {},
     "output_type": "display_data"
    }
   ],
   "source": [
    "t.test(metadata$IHC_PDL1TC ~ metadata$cancer)"
   ]
  },
  {
   "cell_type": "markdown",
   "metadata": {},
   "source": [
    "# IHC"
   ]
  },
  {
   "cell_type": "code",
   "execution_count": 16,
   "metadata": {},
   "outputs": [
    {
     "data": {
      "text/plain": [
       "\n",
       "         High           Low No expression \n",
       "           11             1            50 "
      ]
     },
     "metadata": {},
     "output_type": "display_data"
    }
   ],
   "source": [
    "table(metadata$PDL1)"
   ]
  },
  {
   "cell_type": "code",
   "execution_count": 17,
   "metadata": {},
   "outputs": [
    {
     "data": {
      "text/plain": [
       "   Min. 1st Qu.  Median    Mean 3rd Qu.    Max.    NA's \n",
       "    0.0     0.0     0.0    10.3     0.0   100.0       5 "
      ]
     },
     "metadata": {},
     "output_type": "display_data"
    }
   ],
   "source": [
    "summary(metadata$IHC_PDL1TC)"
   ]
  },
  {
   "cell_type": "code",
   "execution_count": 18,
   "metadata": {},
   "outputs": [],
   "source": [
    "metadata$PDL1 <- factor(metadata$PDL1, levels = c(\"No expression\", \"Low\", \"High\"))"
   ]
  },
  {
   "cell_type": "markdown",
   "metadata": {},
   "source": [
    "## KM"
   ]
  },
  {
   "cell_type": "code",
   "execution_count": 19,
   "metadata": {},
   "outputs": [],
   "source": [
    "metadata$PDL1group <- NA\n",
    "metadata$PDL1group[metadata$PDL1 == \"High\"] <- \"High\"\n",
    "metadata$PDL1group[metadata$PDL1 == \"Low\"] <- \"Low/No\"\n",
    "metadata$PDL1group[metadata$PDL1 == \"No expression\"] <- \"Low/No\""
   ]
  },
  {
   "cell_type": "code",
   "execution_count": 20,
   "metadata": {},
   "outputs": [
    {
     "data": {
      "text/html": [
       "<style>\n",
       ".list-inline {list-style: none; margin:0; padding: 0}\n",
       ".list-inline>li {display: inline-block}\n",
       ".list-inline>li:not(:last-child)::after {content: \"\\00b7\"; padding: 0 .5ex}\n",
       "</style>\n",
       "<ol class=list-inline><li>2</li><li>0.5</li><li>0</li><li>0</li><li>&lt;NA&gt;</li><li>0</li><li>0</li><li>0.5</li><li>0.5</li><li>0.5</li><li>0.5</li><li>0.5</li><li>&lt;NA&gt;</li><li>0.5</li><li>&lt;NA&gt;</li><li>0.5</li><li>0.5</li><li>0.5</li><li>0</li><li>0.5</li><li>0</li><li>0.5</li><li>0</li><li>0</li><li>1</li><li>&lt;NA&gt;</li><li>0.5</li><li>0</li><li>0</li><li>0</li><li>2</li><li>1</li><li>0</li><li>0</li><li>0.5</li><li>0</li><li>0</li><li>0.5</li><li>0</li><li>0.5</li><li>1</li><li>1</li><li>0.5</li><li>0</li><li>0</li><li>0</li><li>0.5</li><li>0</li><li>0.5</li><li>0.5</li><li>0.5</li><li>0.5</li><li>0.5</li><li>0.5</li></ol>\n"
      ],
      "text/latex": [
       "\\begin{enumerate*}\n",
       "\\item 2\n",
       "\\item 0.5\n",
       "\\item 0\n",
       "\\item 0\n",
       "\\item <NA>\n",
       "\\item 0\n",
       "\\item 0\n",
       "\\item 0.5\n",
       "\\item 0.5\n",
       "\\item 0.5\n",
       "\\item 0.5\n",
       "\\item 0.5\n",
       "\\item <NA>\n",
       "\\item 0.5\n",
       "\\item <NA>\n",
       "\\item 0.5\n",
       "\\item 0.5\n",
       "\\item 0.5\n",
       "\\item 0\n",
       "\\item 0.5\n",
       "\\item 0\n",
       "\\item 0.5\n",
       "\\item 0\n",
       "\\item 0\n",
       "\\item 1\n",
       "\\item <NA>\n",
       "\\item 0.5\n",
       "\\item 0\n",
       "\\item 0\n",
       "\\item 0\n",
       "\\item 2\n",
       "\\item 1\n",
       "\\item 0\n",
       "\\item 0\n",
       "\\item 0.5\n",
       "\\item 0\n",
       "\\item 0\n",
       "\\item 0.5\n",
       "\\item 0\n",
       "\\item 0.5\n",
       "\\item 1\n",
       "\\item 1\n",
       "\\item 0.5\n",
       "\\item 0\n",
       "\\item 0\n",
       "\\item 0\n",
       "\\item 0.5\n",
       "\\item 0\n",
       "\\item 0.5\n",
       "\\item 0.5\n",
       "\\item 0.5\n",
       "\\item 0.5\n",
       "\\item 0.5\n",
       "\\item 0.5\n",
       "\\end{enumerate*}\n"
      ],
      "text/markdown": [
       "1. 2\n",
       "2. 0.5\n",
       "3. 0\n",
       "4. 0\n",
       "5. &lt;NA&gt;\n",
       "6. 0\n",
       "7. 0\n",
       "8. 0.5\n",
       "9. 0.5\n",
       "10. 0.5\n",
       "11. 0.5\n",
       "12. 0.5\n",
       "13. &lt;NA&gt;\n",
       "14. 0.5\n",
       "15. &lt;NA&gt;\n",
       "16. 0.5\n",
       "17. 0.5\n",
       "18. 0.5\n",
       "19. 0\n",
       "20. 0.5\n",
       "21. 0\n",
       "22. 0.5\n",
       "23. 0\n",
       "24. 0\n",
       "25. 1\n",
       "26. &lt;NA&gt;\n",
       "27. 0.5\n",
       "28. 0\n",
       "29. 0\n",
       "30. 0\n",
       "31. 2\n",
       "32. 1\n",
       "33. 0\n",
       "34. 0\n",
       "35. 0.5\n",
       "36. 0\n",
       "37. 0\n",
       "38. 0.5\n",
       "39. 0\n",
       "40. 0.5\n",
       "41. 1\n",
       "42. 1\n",
       "43. 0.5\n",
       "44. 0\n",
       "45. 0\n",
       "46. 0\n",
       "47. 0.5\n",
       "48. 0\n",
       "49. 0.5\n",
       "50. 0.5\n",
       "51. 0.5\n",
       "52. 0.5\n",
       "53. 0.5\n",
       "54. 0.5\n",
       "\n",
       "\n"
      ],
      "text/plain": [
       " [1] 2.0 0.5 0.0 0.0  NA 0.0 0.0 0.5 0.5 0.5 0.5 0.5  NA 0.5  NA 0.5 0.5 0.5 0.0\n",
       "[20] 0.5 0.0 0.5 0.0 0.0 1.0  NA 0.5 0.0 0.0 0.0 2.0 1.0 0.0 0.0 0.5 0.0 0.0 0.5\n",
       "[39] 0.0 0.5 1.0 1.0 0.5 0.0 0.0 0.0 0.5 0.0 0.5 0.5 0.5 0.5 0.5 0.5"
      ]
     },
     "metadata": {},
     "output_type": "display_data"
    }
   ],
   "source": [
    "metadata$IHC_PDL1IC[metadata$PDL1 == \"No expression\"]"
   ]
  },
  {
   "cell_type": "code",
   "execution_count": 21,
   "metadata": {},
   "outputs": [],
   "source": [
    "sfit <- survfit(Surv(TRTDUR, progressed)~ PDL1group, data= metadata)\n",
    "\n",
    "    \n",
    "kmplot <- ggsurvplot(sfit, conf.int=FALSE, palette = c(\"#ED2024\", \"#3953A4\"),\n",
    "                     pval = TRUE, pval.size = 8, pval.coord = c(300, 0.75),\n",
    "                     risk.table=TRUE, fontsize = 8,\n",
    "                     legend = c(0.7, 0.95),font.legend = 16, legend.title = \"\",\n",
    "                     font.main = 23, font.x = 25,font.y = 25, font.tickslab = 20) \n",
    "\n",
    "kmplot$table <- kmplot$table + theme(axis.text.x = element_text(size = 20))\n",
    "kmplot$plot <- kmplot$plot + labs(title = \"KM analysis of PDL1 protein expression\")"
   ]
  },
  {
   "cell_type": "code",
   "execution_count": 22,
   "metadata": {},
   "outputs": [
    {
     "data": {
      "image/png": "[encoded data removed]",
      "text/plain": [
       "plot without title"
      ]
     },
     "metadata": {
      "image/png": {
       "height": 420,
       "width": 420
      }
     },
     "output_type": "display_data"
    }
   ],
   "source": [
    "kmplot"
   ]
  },
  {
   "cell_type": "code",
   "execution_count": 23,
   "metadata": {},
   "outputs": [
    {
     "data": {
      "text/html": [
       "<strong>pdf:</strong> 2"
      ],
      "text/latex": [
       "\\textbf{pdf:} 2"
      ],
      "text/markdown": [
       "**pdf:** 2"
      ],
      "text/plain": [
       "pdf \n",
       "  2 "
      ]
     },
     "metadata": {},
     "output_type": "display_data"
    }
   ],
   "source": [
    "pdf(file = paste0(plotpath,\"KM_PDL1_IHC.pdf\"),\n",
    "    width = 10, \n",
    "    height = 10,\n",
    "    useDingbats = FALSE,\n",
    "    onefile = FALSE)\n",
    "kmplot\n",
    "dev.off()"
   ]
  },
  {
   "cell_type": "markdown",
   "metadata": {},
   "source": [
    "## Cox"
   ]
  },
  {
   "cell_type": "code",
   "execution_count": 24,
   "metadata": {},
   "outputs": [],
   "source": [
    "metadata$PDL1group <- factor(metadata$PDL1group, levels = c(\"Low/No\", \"High\"))"
   ]
  },
  {
   "cell_type": "code",
   "execution_count": 63,
   "metadata": {},
   "outputs": [
    {
     "data": {
      "text/plain": [
       "Call:\n",
       "coxph(formula = Surv(TRTDUR, progressed) ~ PDL1group + cancer + \n",
       "    AGE, data = metadata)\n",
       "\n",
       "  n= 56, number of events= 46 \n",
       "   (10 observations deleted due to missingness)\n",
       "\n",
       "                       coef exp(coef) se(coef)      z Pr(>|z|)  \n",
       "PDL1groupHigh      -2.14808   0.11671  0.98358 -2.184    0.029 *\n",
       "cancerSolid tumour -0.63079   0.53217  0.88749 -0.711    0.477  \n",
       "AGE                -0.02057   0.97964  0.02783 -0.739    0.460  \n",
       "---\n",
       "Signif. codes:  0 ‘***’ 0.001 ‘**’ 0.01 ‘*’ 0.05 ‘.’ 0.1 ‘ ’ 1\n",
       "\n",
       "                   exp(coef) exp(-coef) lower .95 upper .95\n",
       "PDL1groupHigh         0.1167      8.568   0.01698    0.8023\n",
       "cancerSolid tumour    0.5322      1.879   0.09346    3.0303\n",
       "AGE                   0.9796      1.021   0.92763    1.0346\n",
       "\n",
       "Concordance= 0.65  (se = 0.044 )\n",
       "Likelihood ratio test= 13.7  on 3 df,   p=0.003\n",
       "Wald test            = 9.49  on 3 df,   p=0.02\n",
       "Score (logrank) test = 11.15  on 3 df,   p=0.01\n"
      ]
     },
     "metadata": {},
     "output_type": "display_data"
    }
   ],
   "source": [
    "coxmodel <- coxph(Surv(TRTDUR, progressed)~ PDL1group + cancer + AGE, \n",
    "                  data= metadata) \n",
    "summary(coxmodel)"
   ]
  },
  {
   "cell_type": "code",
   "execution_count": 64,
   "metadata": {},
   "outputs": [
    {
     "name": "stderr",
     "output_type": "stream",
     "text": [
      "Warning message in recalculate_width_panels(panel_positions, mapped_text = mapped_text, :\n",
      "“Unable to resize forest panel to be smaller than its heading; consider a smaller text size”\n"
     ]
    }
   ],
   "source": [
    "pdl1protein_cox <- forest_model(coxmodel,exponentiate = TRUE) + \n",
    "labs(title = \"Cox for PDL1 protein expression adjusting for cancer group\")"
   ]
  },
  {
   "cell_type": "code",
   "execution_count": 65,
   "metadata": {},
   "outputs": [
    {
     "data": {
      "image/png": "[encoded data removed]",
      "text/plain": [
       "plot without title"
      ]
     },
     "metadata": {
      "image/png": {
       "height": 420,
       "width": 420
      }
     },
     "output_type": "display_data"
    }
   ],
   "source": [
    "pdl1protein_cox"
   ]
  },
  {
   "cell_type": "code",
   "execution_count": 66,
   "metadata": {},
   "outputs": [
    {
     "data": {
      "text/html": [
       "<strong>pdf:</strong> 2"
      ],
      "text/latex": [
       "\\textbf{pdf:} 2"
      ],
      "text/markdown": [
       "**pdf:** 2"
      ],
      "text/plain": [
       "pdf \n",
       "  2 "
      ]
     },
     "metadata": {},
     "output_type": "display_data"
    }
   ],
   "source": [
    "pdf(file = paste0(plotpath,\"PDL1_IHC_cox.pdf\"),\n",
    "    width = 15, \n",
    "    height = 10,\n",
    "    useDingbats = FALSE)\n",
    "\n",
    "pdl1protein_cox\n",
    "\n",
    "dev.off()"
   ]
  },
  {
   "cell_type": "code",
   "execution_count": null,
   "metadata": {},
   "outputs": [],
   "source": []
  },
  {
   "cell_type": "code",
   "execution_count": null,
   "metadata": {},
   "outputs": [],
   "source": []
  },
  {
   "cell_type": "code",
   "execution_count": null,
   "metadata": {},
   "outputs": [],
   "source": []
  },
  {
   "cell_type": "code",
   "execution_count": null,
   "metadata": {},
   "outputs": [],
   "source": []
  }
 ],
 "metadata": {
  "kernelspec": {
   "display_name": "R 4.0",
   "language": "R",
   "name": "ir40"
  },
  "language_info": {
   "codemirror_mode": "r",
   "file_extension": ".r",
   "mimetype": "text/x-r-source",
   "name": "R",
   "pygments_lexer": "r",
   "version": "4.0.3"
  },
  "toc": {
   "base_numbering": 1,
   "nav_menu": {},
   "number_sections": false,
   "sideBar": true,
   "skip_h1_title": false,
   "title_cell": "Table of Contents",
   "title_sidebar": "Contents",
   "toc_cell": true,
   "toc_position": {
    "height": "calc(100% - 180px)",
    "left": "10px",
    "top": "150px",
    "width": "196.96px"
   },
   "toc_section_display": true,
   "toc_window_display": true
  }
 },
 "nbformat": 4,
 "nbformat_minor": 2
}
